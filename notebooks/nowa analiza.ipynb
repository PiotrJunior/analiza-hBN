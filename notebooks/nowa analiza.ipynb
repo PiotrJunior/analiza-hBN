{
 "cells": [
  {
   "cell_type": "code",
   "execution_count": null,
   "id": "initial_id",
   "metadata": {
    "collapsed": true
   },
   "outputs": [],
   "source": [
    "import numpy as np\n",
    "from numpy.linalg import eigh, eig\n",
    "import pandas as pd\n",
    "import plotly.express as px\n",
    "from plotly import graph_objects as go\n",
    "from scipy.optimize import curve_fit\n",
    "\n",
    "import importlib\n",
    "\n",
    "import PCA\n",
    "importlib.reload(PCA)\n",
    "\n",
    "\n",
    "from jinja2 import Template\n",
    "\n",
    "output=r\"../slides/index-A.html\"\n",
    "input = r\"../slides/index-to-build.html\""
   ]
  },
  {
   "cell_type": "code",
   "outputs": [],
   "source": [
    "map = PCA.Map('../data/GA29/mapa2_laser532nm_100_mocy_1akumulacja_5s_CRR_step0p3um.txt', begin=1250, end=1450)"
   ],
   "metadata": {
    "collapsed": false
   },
   "id": "d57f5439335ec773",
   "execution_count": null
  },
  {
   "cell_type": "code",
   "outputs": [],
   "source": [
    "map.plotWeights(False, True).show()"
   ],
   "metadata": {
    "collapsed": false
   },
   "id": "25c6261a38ef93d3",
   "execution_count": null
  },
  {
   "cell_type": "code",
   "outputs": [],
   "source": [],
   "metadata": {
    "collapsed": false
   },
   "id": "a5e4cec223e53ff1"
  },
  {
   "cell_type": "markdown",
   "source": [],
   "metadata": {
    "collapsed": false
   },
   "id": "b944adf42ac8060a"
  },
  {
   "cell_type": "code",
   "outputs": [],
   "source": [
    "map.plotBaseVectors(7).show()"
   ],
   "metadata": {
    "collapsed": false
   },
   "id": "625b502433d4bf56",
   "execution_count": null
  },
  {
   "cell_type": "code",
   "outputs": [],
   "source": [
    "## Map A\n",
    "t_matrix = np.zeros((7,7))\n",
    "\n",
    "draw = False\n",
    "# for i in range(6):\n",
    "#     t_matrix[0][i] = np.average(map_a.base_vectors[i], weights=((map_a.raman_shift < 1310) | (map_a.raman_shift > 1420)) )\n",
    "    # t_matrix[0][i] = map_a.draw_curve(line, [np.average(map_a.base_vectors[i], weights=((map_a.raman_shift < 1310) | (map_a.raman_shift > 1420)) )], 1200, 1500, base_vector = i, draw = True, bounds = 'inf').show()\n",
    "\n",
    "t_matrix[0][0] = map_a.fit_curve(lorentz, (1392, 2.5, -17 * 10**5, -7000), 1380, 1400, 2, base_vector = 0, draw = draw)\n",
    "\n",
    "t_matrix[1][0] = map_a.fit_curve(lorentz, (1345, 14,  -5 * 10**5, -10000), 1330, 1360, 2, base_vector = 0, draw = draw)\n",
    "t_matrix[1][3] = map_a.fit_curve(lorentz, (1345, 16,  3.2 * 10**5, -4000), 1330, 1360, 2, base_vector = 3, draw = draw)\n",
    "t_matrix[1][5] = map_a.fit_curve(lorentz, (1345, 14,  -5 * 10**5, -10000), 1330, 1360, 2, base_vector = 5, draw = draw)\n",
    "t_matrix[1][6] = map_a.fit_curve(lorentz, (1345, 16,  3.2 * 10**5, -4000), 1330, 1360, 2, base_vector = 6, draw = draw)\n",
    "\n",
    "t_matrix[2][1] = map_a.fit_curve(lorentz, (1369, 10,  0.8 * 10**5,  1000), 1355, 1380, 2, base_vector = 1, draw = draw)\n",
    "t_matrix[2][2] = map_a.fit_curve(lorentz, (1369, 10, -2.4 * 10**5, -1400), 1355, 1380, 2, base_vector = 2, draw = draw)\n",
    "\n",
    "\n",
    "t_matrix[3][1] = map_a.fit_curve(lorentz_diff1, (1392, 2.5, -17 * 10**5, -7000), 1385, 1400, 2, base_vector = 1, draw = draw, bounds = 'inf')\n",
    "t_matrix[3][2] = map_a.fit_curve(lorentz_diff1, (1392, 2.5, -17 * 10**5, -7000), 1385, 1400, 2, base_vector = 2, draw = draw, bounds = 'inf')\n",
    "t_matrix[3][3] = map_a.fit_curve(lorentz_diff1, (1392, 2.5, -17 * 10**5, -7000), 1385, 1400, 2, base_vector = 3, draw = draw, bounds = 'inf')\n",
    "\n",
    "t_matrix[4][4] = map_a.fit_curve(lorentz_diff2, [ 1392, 3, 10.8e+04, -1400], 1380, 1400, 2, base_vector = 4, draw = draw, bounds = 'inf')\n",
    "\n",
    "t_matrix[5][5] = map_a.fit_curve(lorentz_diff3, [ 1392, 3, 10.8e+04, -1400], 1380, 1400, 2, base_vector = 5, draw = draw, bounds = 'inf')\n",
    "t_matrix[5][6] = map_a.fit_curve(lorentz_diff3, [ 1392, 3, 10.8e+04, -1400], 1380, 1400, 2, base_vector = 5, draw = draw, bounds = 'inf')\n",
    "\n",
    "t_matrix[6][5] =  t_matrix[5][5]\n",
    "t_matrix[6][6] = -t_matrix[5][6]\n",
    "\n",
    "t_matrix"
   ],
   "metadata": {
    "collapsed": false
   },
   "id": "c42113a3b53681f8",
   "execution_count": null
  },
  {
   "cell_type": "code",
   "outputs": [],
   "source": [
    "map_a.draw_curve(lorentz_diff2, [ 1.39113772e+03, 3e+00, 10.79995135e+04, -1.38837064e+03], 1380, 1400, base_vector = 4, draw = draw, bounds = 'inf').write_html('test.html')\n"
   ],
   "metadata": {
    "collapsed": false
   },
   "id": "bcaea3c95e45b647",
   "execution_count": null
  },
  {
   "cell_type": "code",
   "outputs": [],
   "source": [
    "refit_matrix = np.array([\n",
    "    [1, 0, 0, 0, 0, 0, 0],\n",
    "    [-.0, 1, 0, -17/50 + .15, -.3, .25, 0],\n",
    "    [.05, 0, 1, .1, -.34, 0, 0],\n",
    "    [0, 0, 0, 1, 0, 0, 0],\n",
    "    [0, 0, 0, 0, 1, 0, 0],\n",
    "    [0, 0, 0, 0, 0, 1, 0],\n",
    "    [0, 0, 0, 0, 0, 0, 1],\n",
    "])\n",
    "\n",
    "refit_matrix2 = np.array([\n",
    "    [1, 0, 0, 0, 0, 0, 0],\n",
    "    [0, 1, 0, 0, 0, 0, 0],\n",
    "    [0, 0, 1, 0, 0, 0, 0],\n",
    "    [0, 0, 0, 1, 0, 0, 0],\n",
    "    [0, 0, 0, 0, 1, 0, 0],\n",
    "    [0, -1.8, 0, 0, 0, 1, 0],\n",
    "    [0, -2, 0, -.05, -.22, 0, 1],\n",
    "])\n",
    "\n",
    "refit_matrix3 = np.array([\n",
    "    [1, 0, 0, 0, 0, 0, 0],\n",
    "    [0, 1, 0, 0, 0, -0.1, 0],\n",
    "    [0, 0, 1, 0, 0, 0, 0],\n",
    "    [0, 0, 0, 1, 0, 0, 0],\n",
    "    [0, 0, 0, 0, 1, 0, 0],\n",
    "    [0, 0, 0, 0, 0, 1, 0],\n",
    "    [0, 0, 0, 0, 0, 0, 1],\n",
    "])\n",
    "\n",
    "tmp = np.dot(np.linalg.inv(t_matrix), np.dot(refit_matrix2.T, refit_matrix.T))\n",
    "\n",
    "better_t = tmp.T\n",
    "better_t = np.dot(refit_matrix3, better_t)\n",
    "\n",
    "new_base_vectors = np.dot(better_t, map_a.base_vectors[:7])\n",
    "new_vectors = np.dot(map_a.vectors[:7].T, np.linalg.inv(better_t)).T\n",
    "\n",
    "# px.line(x = map_a.raman_shift, y = new_base_vectors[0]).show()\n",
    "px.imshow(np.reshape(new_vectors[0], map_a.shape)).show()\n",
    "# px.line(x = map_a.raman_shift, y = new_base_vectors[1]).show()\n",
    "px.imshow(np.reshape(new_vectors[1], map_a.shape)).show()\n",
    "# px.line(x = map_a.raman_shift, y = new_base_vectors[2]).show()\n",
    "px.imshow(np.reshape(new_vectors[2], map_a.shape)).show()\n",
    "# px.line(x = map_a.raman_shift, y = new_base_vectors[3]).show()\n",
    "# px.imshow(np.reshape(new_vectors[3], map_a.shape)).show()\n",
    "# px.line(x = map_a.raman_shift, y = new_base_vectors[4]).show()\n",
    "# px.imshow(np.reshape(new_vectors[4], map_a.shape)).show()\n",
    "# px.line(x = map_a.raman_shift, y = new_base_vectors[5]).show()\n",
    "# px.imshow(np.reshape(new_vectors[5], map_a.shape)).show()\n",
    "# px.line(x = map_a.raman_shift, y = new_base_vectors[6]).show()\n",
    "# px.imshow(np.reshape(new_vectors[6], map_a.shape)).show()\n"
   ],
   "metadata": {
    "collapsed": false
   },
   "id": "43615d5a6be9d2c9",
   "execution_count": null
  },
  {
   "cell_type": "code",
   "outputs": [],
   "source": [
    "# For abstract\n",
    "\n",
    "# [] Trzeba zrobić trochę większe napisy na osiach (większe i może trochę grubsze). \n",
    "# [X] Zamiast \"10 BN\" i \"11 BN\" lepiej dać \"h10BN\" i \"epitaxial hBN\" (ten drugi nie jest izotopowo czysty z 11B tylko jest to naturalny BN z mieszanką 10B i 11B). \n",
    "# [X] Poza tym w podpisie oznaczasz kolejne panele jako (a), (b), (c), a na samych panelach nie ma tych oznaczeń - trzeba je dodać.\n",
    "\n",
    "import matplotlib.pyplot as plt\n",
    "from matplotlib_scalebar.scalebar import ScaleBar\n",
    "\n",
    "tfs = 24\n",
    "fs = 19\n",
    "fig, axs = plt.subplots(1, 3, figsize=(17, 5))\n",
    "\n",
    "# Plot for new_base_vectors[0]\n",
    "axs[0].plot(map_a.raman_shift, new_base_vectors[0]/np.max(new_base_vectors[0]), label='h$^{10}$BN')\n",
    "axs[0].plot(map_a.raman_shift, new_base_vectors[2]/np.max(new_base_vectors[0]), label='epitaxial\\nhBN')\n",
    "axs[0].set_title('(a) PCA obtained spectra', fontsize=tfs, fontweight='bold')\n",
    "axs[0].set_ylabel('Intensity [ab. units]', fontsize=fs)\n",
    "axs[0].set_xlabel(r'Raman shift [$\\text{cm}^{-1}$]', fontsize=fs)\n",
    "axs[0].legend(fontsize=18, loc='upper left')\n",
    "\n",
    "tmp = np.reshape(new_vectors[0], map_a.shape)\n",
    "tmp[tmp < 0] = 0\n",
    "tmp/=np.max(tmp)\n",
    "im = axs[1].imshow(tmp, extent=[0,10,0,10], aspect=1)\n",
    "# cax = fig.add_axes([axs[1].get_position().x1+0.01,axs[1].get_position().y0,0.02,axs[1].get_position().height])\n",
    "cbar = fig.colorbar(im, ax=axs[1])#, orientation='vertical', fraction=0.046, pad=0.04)\n",
    "cbar.set_label('Intensity [ab. units]', fontsize=fs)\n",
    "cbar.ax.tick_params(labelsize=16)\n",
    "axs[1].set_title('(b) h$\\mathbf{^{10}}$BN', fontsize=tfs, fontweight='bold')\n",
    "axs[1].set_xlabel('x [$\\mu$m]', fontsize=fs)\n",
    "axs[1].set_ylabel('y [$\\mu$m]', fontsize=fs)\n",
    "\n",
    "tmp = np.reshape(new_vectors[2], map_a.shape)\n",
    "tmp[tmp < 0] = 0\n",
    "tmp/=np.max(tmp)\n",
    "im = axs[2].imshow(tmp, extent=[0,10,0,10], aspect=1)\n",
    "# cax = fig.add_axes([axs[2].get_position().x1+0.01,axs[2].get_position().y0,0.02,axs[2].get_position().height])\n",
    "cbar = fig.colorbar(im, ax=axs[2])#, orientation='vertical', fraction=0.046, pad=0.04)\n",
    "cbar.set_label('Intensity [ab. units]', fontsize=fs)\n",
    "cbar.ax.tick_params(labelsize=16)\n",
    "axs[2].set_title(r'(c) epitaxial hBN', fontsize=tfs, fontweight='bold')\n",
    "axs[2].set_xlabel('x [$\\mu$m]', fontsize=fs)\n",
    "axs[2].set_ylabel('y [$\\mu$m]', fontsize=fs)\n",
    "\n",
    "for i in range(3):\n",
    "    axs[i].tick_params(axis='both', which='major', labelsize=17)\n",
    "\n",
    "plt.tight_layout()\n",
    "plt.savefig('img/abstract.png')\n",
    "plt.show()\n",
    "\n",
    "# px.line(x = map_a.raman_shift, y = new_base_vectors[0])\n",
    "# tmp = np.reshape(new_vectors[0], map_a.shape)\n",
    "# tmp[tmp < 0] = 0\n",
    "# px.imshow(tmp).show()\n",
    "# \n",
    "# px.line(x = map_a.raman_shift, y = new_base_vectors[1]).show()\n",
    "# tmp = np.reshape(new_vectors[1], map_a.shape)\n",
    "# tmp[tmp < 0] = 0\n",
    "# px.imshow(tmp).show()\n",
    "# \n",
    "# px.line(x = map_a.raman_shift, y = new_base_vectors[2]).show()\n",
    "# tmp = np.reshape(new_vectors[2], map_a.shape)\n",
    "# tmp[tmp < 0] = 0\n",
    "# px.imshow(tmp).show()\n"
   ],
   "metadata": {
    "collapsed": false
   },
   "id": "c5cd629deea493df",
   "execution_count": null
  },
  {
   "cell_type": "code",
   "outputs": [],
   "source": [
    "plotly_jinja_data = {}\n",
    "for i in range(7):\n",
    "    plotly_jinja_data[\"a_base_\" + str(i)] = px.line(x = map_a.raman_shift, y = new_base_vectors[i]).update_layout(\n",
    "    autosize=False,\n",
    "    width=700,\n",
    "    height=500).to_html(full_html=False)\n",
    "    plotly_jinja_data[\"a_map_\" + str(i)] = px.imshow(np.reshape(new_vectors[i], map_a.shape)).update_layout(\n",
    "    autosize=False,\n",
    "    width=500,\n",
    "    height=500).to_html(full_html=False)\n",
    "\n",
    "for i in range(7):\n",
    "    plotly_jinja_data[\"b_base_\" + str(i)] = \"{{b_base_\" + str(i) + \"}}\"\n",
    "    plotly_jinja_data[\"b_map_\" + str(i)] = \"{{b_map_\" + str(i) + \"}}\"\n",
    "\n",
    "for i in range(8):\n",
    "    plotly_jinja_data[\"c_base_\" + str(i)] = \"{{c_base_\" + str(i) + \"}}\"\n",
    "    plotly_jinja_data[\"c_map_\" + str(i)] = \"{{c_map_\" + str(i) + \"}}\"\n",
    "\n",
    "with open(output, \"w\", encoding=\"utf-8\") as output_file:\n",
    "    with open(input) as template_file:\n",
    "        j2_template = Template(template_file.read())\n",
    "        output_file.write(j2_template.render(plotly_jinja_data))\n"
   ],
   "metadata": {
    "collapsed": false
   },
   "id": "461a77d7ded5c23a",
   "execution_count": null
  },
  {
   "cell_type": "code",
   "outputs": [],
   "source": [
    "map_a.plotSpectrum(map_a.posToId(0, 0))"
   ],
   "metadata": {
    "collapsed": false
   },
   "id": "6ca043ac59622001",
   "execution_count": null
  },
  {
   "cell_type": "code",
   "outputs": [],
   "source": [
    "px.scatter(x = new_vectors[3], y = new_vectors[4]).show()\n",
    "px.scatter(x = new_vectors[4], y = new_vectors[5]).show()\n",
    "px.scatter(x = new_vectors[3], y = new_vectors[5]).show()"
   ],
   "metadata": {
    "collapsed": false
   },
   "id": "9675f3ca1859e32e",
   "execution_count": null
  },
  {
   "cell_type": "code",
   "outputs": [],
   "source": [
    "np.dot(map_a.vectors.T, map_a.vectors)"
   ],
   "metadata": {
    "collapsed": false
   },
   "id": "708cfa8236698dcf",
   "execution_count": null
  },
  {
   "cell_type": "code",
   "outputs": [],
   "source": [
    "map_a.plotBaseVectors(5)\n",
    "r = np.dot(new_vectors.T, new_base_vectors) \n",
    "# d = map_a.data_matrix - r\n",
    "i = map_a.posToId(5, 30)\n",
    "f = map_a.plotSpectrum(i)\n",
    "f.add_scatter(x=map_a.raman_shift, y=r[i], mode='lines', name='Rekonstrukcja')\n",
    "f.add_scatter(x=map_a.raman_shift, y=new_vectors[0][i] * new_base_vectors[0], mode='lines')\n",
    "f.add_scatter(x=map_a.raman_shift, y=new_vectors[1][i] * new_base_vectors[1], mode='lines')\n",
    "f.add_scatter(x=map_a.raman_shift, y=new_vectors[2][i] * new_base_vectors[2], mode='lines')\n",
    "f.add_scatter(x=map_a.raman_shift, y=new_vectors[3][i] * new_base_vectors[3], mode='lines')\n",
    "\n",
    "              \n",
    "# f.add_scatter(x=map_a.raman_shift, y=d[i], mode='lines', name='Roznica')\n",
    "f.update_layout(hovermode=\"x\")\n",
    "f.show()"
   ],
   "metadata": {
    "collapsed": false
   },
   "id": "c8cca4acd270efd9",
   "execution_count": null
  },
  {
   "cell_type": "code",
   "outputs": [],
   "source": [],
   "metadata": {
    "collapsed": false
   },
   "id": "7305e93b457fb74f"
  }
 ],
 "metadata": {
  "kernelspec": {
   "display_name": "Python 3",
   "language": "python",
   "name": "python3"
  },
  "language_info": {
   "codemirror_mode": {
    "name": "ipython",
    "version": 2
   },
   "file_extension": ".py",
   "mimetype": "text/x-python",
   "name": "python",
   "nbconvert_exporter": "python",
   "pygments_lexer": "ipython2",
   "version": "2.7.6"
  }
 },
 "nbformat": 4,
 "nbformat_minor": 5
}
