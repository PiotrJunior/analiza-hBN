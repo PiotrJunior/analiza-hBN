{
 "cells": [
  {
   "cell_type": "code",
   "execution_count": null,
   "id": "initial_id",
   "metadata": {
    "collapsed": true
   },
   "outputs": [],
   "source": [
    "import matplotlib.animation as animation\n",
    "import numpy as np\n",
    "from numpy.linalg import eigh, eig\n",
    "import pandas as pd\n",
    "import matplotlib.pyplot as plt\n",
    "import plotly.express as px\n",
    "from plotly import graph_objects as go\n",
    "from ipywidgets import interact\n",
    "from scipy.optimize import curve_fit\n",
    "\n",
    "# peak1 = (1380, 1410)\n",
    "# peak2 = (730, 770)\n",
    "# peak3 = (1300, 1380)\n",
    "\n",
    "# map_a.draw_curve(lorentz, (1392, 2, -1.45 * 10**6, -7000), 1330, 1450, base_vector = 0)"
   ]
  },
  {
   "cell_type": "code",
   "outputs": [],
   "source": [
    "def lorentz(X, mean, sigma, scale, offset):\n",
    "    return scale/(np.pi * sigma * (1 + ((X - mean)/sigma)**2)) + offset\n",
    "\n",
    "def lorentz_shift(X, mean, sigma, scale, offset):\n",
    "    return -(2 * sigma * (-mean + X)) / (np.pi * (mean**2 + sigma**2 - 2*mean*X + np.power(X, 2))**2)*scale + offset\n",
    "\n",
    "def both_lorentz(X, mean1, sigma1, scale1, offset1, mean2, sigma2, scale2, offset2):\n",
    "    return lorentz(X, mean1, sigma1, scale1, offset1) + lorentz_shift(X, mean2, sigma2, scale2, offset2)\n",
    "\n",
    "class Map:\n",
    "    def __init__(self, src, x, y):\n",
    "        raw_data = np.loadtxt(src, delimiter='\\t')\n",
    "        self.shape = (x, y)\n",
    "        self.raman_shift = raw_data.T[0][2:]\n",
    "        self.data_matrix = raw_data[2:].T[1:]\n",
    "        self.data = pd.DataFrame(raw_data[2:], columns = ['RamanShift'] + list(np.arange(0, x*y, 1)))\n",
    "        self.map = np.array([raw_data[0][1:], raw_data[1][1:]]).T\n",
    "\n",
    "        self.cov_matrix = np.cov(self.data_matrix)\n",
    "        \n",
    "        eigenvalues, eigenvectors = eigh(self.cov_matrix)\n",
    "        idx = np.flip(eigenvalues.argsort())\n",
    "        self.weights = eigenvalues[idx] / sum(eigenvalues)\n",
    "        self.vectors = eigenvectors.T[idx]\n",
    "        \n",
    "        self.base_vectors = np.dot(self.vectors, self.data_matrix)\n",
    "    \n",
    "    def reconstruct(self, count):\n",
    "        return np.dot(self.vectors[:count].T, self.base_vectors[:count])\n",
    "    \n",
    "    def plotComponent(self, num):\n",
    "        fig = px.imshow(np.reshape(self.vectors[num], self.shape), title ='Komponent ' + str(num))\n",
    "        return fig\n",
    "    \n",
    "    def plotPhysicalComponent(self, v):\n",
    "        img = np.dot(np.array(v), self.vectors[:len(v)])\n",
    "        # img = sum([v[i] * self.vectors[i] for i in range(len(v))])\n",
    "        fig = px.imshow(np.reshape(img, self.shape), title ='Peak')\n",
    "        return fig\n",
    "    \n",
    "    def plotCovMatrix(self):\n",
    "        fig = px.imshow(self.cov_matrix, title = 'Macierz kowariancji')\n",
    "        return fig\n",
    "    \n",
    "    def plotWeights(self, cum):\n",
    "        if cum:\n",
    "            fig = px.bar(np.cumsum(self.weights), title = 'Wagi')\n",
    "        else:\n",
    "            fig = px.bar(self.weights, title = 'Wagi')\n",
    "        return fig\n",
    "    \n",
    "    def plotSpectrums(self, ids, **kwargs):\n",
    "        fig = go.Figure()\n",
    "        if 'base' not in kwargs:\n",
    "            for num in ids:\n",
    "                fig.add_scatter(x = self.raman_shift, y = self.data_matrix[num], mode='lines', name = 'ID: ' + str(num))\n",
    "        else:\n",
    "            r = self.reconstruct(kwargs['base'])\n",
    "            for num in ids:\n",
    "                fig.add_scatter(x = self.raman_shift, y = r[num], mode='lines', name = 'ID: ' + str(num))\n",
    "        fig.update_layout(hovermode=\"x\")\n",
    "        return fig\n",
    "    \n",
    "    def plotSpectrum(self, num, **kwargs):\n",
    "        return self.plotSpectrums([num], **kwargs)\n",
    "    \n",
    "    def plotBaseVectors(self, count):\n",
    "        fig = go.Figure()\n",
    "        for num in range(count):\n",
    "            fig.add_scatter(x = self.raman_shift, y = self.base_vectors[num], mode='lines', name = 'Num: ' + str(num))\n",
    "        fig.update_layout(hovermode=\"x\")\n",
    "        return fig\n",
    "            \n",
    "    def locToId(self, x, y):\n",
    "        return np.argmin(list(map(lambda e: np.linalg.norm([x, y] - e), self.map)))\n",
    "    \n",
    "    def posToId(self, x, y):\n",
    "        return self.shape[0] * y + x\n",
    "    \n",
    "    def draw_curve(self, curve, params, a, b, **draw):\n",
    "        fig = go.Figure()\n",
    "        if 'spectrum' in draw:\n",
    "            fig.add_scatter(x = self.raman_shift, y = self.data_matrix[draw['spectrum']], mode='lines')\n",
    "        if 'base_vector' in draw:\n",
    "            fig.add_scatter(x = self.raman_shift, y = self.base_vectors[draw['base_vector']], mode='lines')\n",
    "        data_slice = self.data[(self.data['RamanShift'] >= a) & (self.data['RamanShift'] <= b)]['RamanShift']\n",
    "        fig.add_scatter(mode='lines', x = data_slice, y = curve(data_slice, *params))\n",
    "        fig.update_layout(hovermode=\"x\")\n",
    "        return fig\n",
    "        \n",
    "    \n",
    "map_a = Map('../data/GA25_10B_532nm_100%_1x3sec_x100_xc1200_A_trojkat1_mapa_10x10um_step_0.3um_data.txt', 34, 34)"
   ],
   "metadata": {
    "collapsed": false
   },
   "id": "fd1ddb3ce756353e",
   "execution_count": null
  },
  {
   "cell_type": "code",
   "outputs": [],
   "source": [
    "# map_a.plotCovMatrix().show()\n",
    "map_a.plotWeights(True).show()"
   ],
   "metadata": {
    "collapsed": false
   },
   "id": "25c6261a38ef93d3",
   "execution_count": null
  },
  {
   "cell_type": "code",
   "outputs": [],
   "source": [
    "map_a.plotSpectrums([0, 10, 78, 150, 450, 765]).show()"
   ],
   "metadata": {
    "collapsed": false
   },
   "id": "abaf0411f9af3585",
   "execution_count": null
  },
  {
   "cell_type": "code",
   "outputs": [],
   "source": [
    "map_a.plotBaseVectors(5)"
   ],
   "metadata": {
    "collapsed": false
   },
   "id": "625b502433d4bf56",
   "execution_count": null
  },
  {
   "cell_type": "code",
   "outputs": [],
   "source": [
    "r = map_a.reconstruct(5)\n",
    "d = map_a.data_matrix - r\n",
    "i = 78\n",
    "f = map_a.plotSpectrum(i)\n",
    "f.add_scatter(x = map_a.raman_shift, y = r[i], mode='lines', name = 'Rekonstrukcja')\n",
    "f.add_scatter(x = map_a.raman_shift, y = d[i], mode='lines', name = 'Roznica')\n",
    "f.update_layout(hovermode=\"x\")\n",
    "f.show()"
   ],
   "metadata": {
    "collapsed": false
   },
   "id": "78a098ef0e648c99",
   "execution_count": null
  },
  {
   "cell_type": "code",
   "outputs": [],
   "source": [
    "i = 1\n",
    "px.line(x = map_a.raman_shift, y = map_a.base_vectors[i]).show()\n",
    "map_a.plotComponent(i).show()"
   ],
   "metadata": {
    "collapsed": false
   },
   "id": "f62ff42faee2844f",
   "execution_count": null
  },
  {
   "cell_type": "code",
   "outputs": [],
   "source": [
    "d = map_a.data_matrix - map_a.reconstruct(5)\n",
    "img = np.reshape(np.sum(np.abs(d), axis = 1), (34, 34))\n",
    "px.imshow(img)"
   ],
   "metadata": {
    "collapsed": false
   },
   "id": "d114cdbdb219d1e7",
   "execution_count": null
  },
  {
   "cell_type": "code",
   "outputs": [],
   "source": [
    "map_a.plotSpectrum(map_a.posToId(6, 15))"
   ],
   "metadata": {
    "collapsed": false
   },
   "id": "18d5369075a64a8",
   "execution_count": null
  },
  {
   "cell_type": "code",
   "outputs": [],
   "source": [],
   "metadata": {
    "collapsed": false
   },
   "id": "f61898934cebdc6f",
   "execution_count": null
  },
  {
   "cell_type": "code",
   "outputs": [],
   "source": [
    "map_a.draw_curve(lorentz, (750, 5, -1.3 * 10**5, -5000), 730, 770, base_vector = 0)"
   ],
   "metadata": {
    "collapsed": false
   },
   "id": "2d8bc1719d3ab163",
   "execution_count": null
  },
  {
   "cell_type": "code",
   "outputs": [],
   "source": [
    "map_a.draw_curve(lorentz, (750, 5.5, 1.3 * 10**4, 1800), 730, 770, base_vector = 1)"
   ],
   "metadata": {
    "collapsed": false
   },
   "id": "3044affc1e48c3ed",
   "execution_count": null
  },
  {
   "cell_type": "code",
   "outputs": [],
   "source": [
    "map_a.draw_curve(lorentz, (750, 5.5, -2.2 * 10**4, -600), 730, 770, base_vector = 2)"
   ],
   "metadata": {
    "collapsed": false
   },
   "id": "317a3e6b889696c2",
   "execution_count": null
  },
  {
   "cell_type": "code",
   "outputs": [],
   "source": [
    "map_a.draw_curve(lorentz, (750, 5.5, -9.5 * 10**4, -4000), 730, 770, base_vector = 3)"
   ],
   "metadata": {
    "collapsed": false
   },
   "id": "b09eeaa71bf67479",
   "execution_count": null
  },
  {
   "cell_type": "code",
   "outputs": [],
   "source": [
    "map_a.draw_curve(lorentz, (750, 5.5, 2.5 * 10**4, -2300), 730, 770, base_vector = 4)"
   ],
   "metadata": {
    "collapsed": false
   },
   "id": "c6e8b19a2086fe50",
   "execution_count": null
  },
  {
   "cell_type": "code",
   "outputs": [],
   "source": [
    "map_a.draw_curve(lorentz, (750, 5.5, -1.3 * 10**4, -1100), 730, 770, base_vector = 5)"
   ],
   "metadata": {
    "collapsed": false
   },
   "id": "9da697b1444f804c",
   "execution_count": null
  },
  {
   "cell_type": "code",
   "outputs": [],
   "source": [
    "map_a.draw_curve(lorentz, (750, 5.5, 1 * 10**4, 900), 730, 770, base_vector = 6)"
   ],
   "metadata": {
    "collapsed": false
   },
   "id": "befd1268d7620ef9",
   "execution_count": null
  },
  {
   "cell_type": "code",
   "outputs": [],
   "source": [
    "map_a.draw_curve(lorentz, (750, 5.5, -5.5 * 10**4, 100), 730, 770, base_vector = 7)"
   ],
   "metadata": {
    "collapsed": false
   },
   "id": "743335b63a277d9f",
   "execution_count": null
  },
  {
   "cell_type": "code",
   "outputs": [],
   "source": [
    "map_a.draw_curve(lorentz, (750, 5.5, 8 * 10**3, 2500), 730, 770, base_vector = 8)\n"
   ],
   "metadata": {
    "collapsed": false
   },
   "id": "e22c54d8533ea943",
   "execution_count": null
  },
  {
   "cell_type": "code",
   "outputs": [],
   "source": [
    "peak1 = [-1.3 * 10**5, 1.3 * 10**4, -2.2 * 10**4, -9.5 * 10**4, 2.5 * 10**4, -1.3 * 10**4, 1 * 10**4, -5.5 * 10**4, 8 * 10**3]\n",
    "map_a.plotPhysicalComponent(peak1).show()\n"
   ],
   "metadata": {
    "collapsed": false
   },
   "id": "96a91ea8656355aa",
   "execution_count": null
  },
  {
   "cell_type": "code",
   "outputs": [],
   "source": [
    "map_a.plotSpectrums([map_a.posToId(6 ,  15),\n",
    "                     map_a.posToId(6 ,  11),\n",
    "                     map_a.posToId(23, 15)\n",
    "                     ]).show()"
   ],
   "metadata": {
    "collapsed": false
   },
   "id": "c9ef4224a6d1c99",
   "execution_count": null
  },
  {
   "cell_type": "code",
   "outputs": [],
   "source": [
    "px.line(x = map_a.raman_shift, y = np.mean(map_a.data_matrix, axis = 0))"
   ],
   "metadata": {
    "collapsed": false
   },
   "id": "15ff27074bd895c7",
   "execution_count": null
  },
  {
   "cell_type": "code",
   "outputs": [],
   "source": [
    "map_a.draw_curve(lorentz, (1345, 17, -7.5 * 10**5, -7000), 1320, 1370, base_vector = 0)\n"
   ],
   "metadata": {
    "collapsed": false
   },
   "id": "913dfe237171da78",
   "execution_count": null
  },
  {
   "cell_type": "code",
   "outputs": [],
   "source": [
    "map_a.draw_curve(lorentz, (1345, 17, 8 * 10**4, -3100), 1320, 1370, base_vector = 1)\n"
   ],
   "metadata": {
    "collapsed": false
   },
   "id": "302e80fbcc707e91",
   "execution_count": null
  },
  {
   "cell_type": "code",
   "outputs": [],
   "source": [
    "map_a.draw_curve(lorentz, (1345, 17, 10 * 10**4, -1000), 1320, 1370, base_vector = 4)\n"
   ],
   "metadata": {
    "collapsed": false
   },
   "id": "176d45b69e8815eb",
   "execution_count": null
  },
  {
   "cell_type": "code",
   "outputs": [],
   "source": [
    "map_a.draw_curve(lorentz, (1345, 17, 20 * 10**4, -1700), 1320, 1370, base_vector = 5)\n"
   ],
   "metadata": {
    "collapsed": false
   },
   "id": "935c5f23658fff76",
   "execution_count": null
  },
  {
   "cell_type": "code",
   "outputs": [],
   "source": [
    "map_a.draw_curve(lorentz, (1345, 17, -11 * 10**4, 2100), 1320, 1370, base_vector = 6)\n"
   ],
   "metadata": {
    "collapsed": false
   },
   "id": "2599b16d9e553d7d",
   "execution_count": null
  },
  {
   "cell_type": "code",
   "outputs": [],
   "source": [
    "peak2 = [-7.5 * 10**5, 0, 0, 8 * 10**4, 10 * 10**4, 20 * 10**4, -11 * 10**4]\n",
    "map_a.plotPhysicalComponent(peak2).show()"
   ],
   "metadata": {
    "collapsed": false
   },
   "id": "f8d767894e977276",
   "execution_count": null
  },
  {
   "cell_type": "code",
   "outputs": [],
   "source": [
    "map_a.plotSpectrums([map_a.posToId(17 ,  13),\n",
    "                     map_a.posToId(30 ,  3),\n",
    "                     map_a.posToId(30, 27),\n",
    "                     map_a.posToId(6, 14)\n",
    "                     ]).show()"
   ],
   "metadata": {
    "collapsed": false
   },
   "id": "6d7fdcc77ae30edb",
   "execution_count": null
  },
  {
   "cell_type": "code",
   "outputs": [],
   "source": [
    "map_a.draw_curve(lorentz, (1392, 2.5, -17 * 10**5, -7000), 1360, 1420, base_vector = 0)\n"
   ],
   "metadata": {
    "collapsed": false
   },
   "id": "690ff3325906e465",
   "execution_count": null
  },
  {
   "cell_type": "code",
   "outputs": [],
   "source": [
    "map_a.draw_curve(lorentz, (1392, 2.5, 8 * 10**4, -2800), 1360, 1420, base_vector = 1)"
   ],
   "metadata": {
    "collapsed": false
   },
   "id": "8de79355f50eb6e7",
   "execution_count": null
  },
  {
   "cell_type": "code",
   "outputs": [],
   "source": [
    "map_a.draw_curve(lorentz, (1392, 2.5, 4 * 10**4, -3330), 1360, 1420, base_vector = 3)"
   ],
   "metadata": {
    "collapsed": false
   },
   "id": "77ea5a35ee805343",
   "execution_count": null
  },
  {
   "cell_type": "code",
   "outputs": [],
   "source": [
    "map_a.draw_curve(lorentz, (1392, 2.5, -5 * 10**4, -100), 1360, 1420, base_vector = 4)"
   ],
   "metadata": {
    "collapsed": false
   },
   "id": "f1d37ea719fc7154",
   "execution_count": null
  },
  {
   "cell_type": "code",
   "outputs": [],
   "source": [
    "map_a.draw_curve(lorentz, (1392, 2.5, -3.7 * 10**4, 0), 1360, 1420, base_vector = 5)"
   ],
   "metadata": {
    "collapsed": false
   },
   "id": "9ff32fc311aa63d3",
   "execution_count": null
  },
  {
   "cell_type": "code",
   "outputs": [],
   "source": [
    "peak3 = [-17 * 10**5, 8 * 10**4, 0, 4 * 10**4, -5 * 10**4, -3.7 * 10**4]\n",
    "map_a.plotPhysicalComponent(peak3)"
   ],
   "metadata": {
    "collapsed": false
   },
   "id": "941452655629b9a3",
   "execution_count": null
  },
  {
   "cell_type": "code",
   "outputs": [],
   "source": [
    "map_a.plotSpectrums([map_a.posToId(15 ,  15),\n",
    "                     map_a.posToId(20 ,  5),\n",
    "                     map_a.posToId(21, 0),\n",
    "                     map_a.posToId(5, 25)\n",
    "                     ]).show()"
   ],
   "metadata": {
    "collapsed": false
   },
   "id": "f7d26d06a9623e9a",
   "execution_count": null
  },
  {
   "cell_type": "code",
   "outputs": [],
   "source": [],
   "metadata": {
    "collapsed": false
   },
   "id": "a014b76069e9a12",
   "execution_count": null
  }
 ],
 "metadata": {
  "kernelspec": {
   "display_name": "Python 3",
   "language": "python",
   "name": "python3"
  },
  "language_info": {
   "codemirror_mode": {
    "name": "ipython",
    "version": 2
   },
   "file_extension": ".py",
   "mimetype": "text/x-python",
   "name": "python",
   "nbconvert_exporter": "python",
   "pygments_lexer": "ipython2",
   "version": "2.7.6"
  }
 },
 "nbformat": 4,
 "nbformat_minor": 5
}
