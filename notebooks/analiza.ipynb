{
 "cells": [
  {
   "cell_type": "code",
   "execution_count": null,
   "id": "initial_id",
   "metadata": {
    "collapsed": true
   },
   "outputs": [],
   "source": [
    "import matplotlib.animation as animation\n",
    "import numpy as np\n",
    "from numpy.linalg import eigh, eig\n",
    "import pandas as pd\n",
    "import matplotlib.pyplot as plt\n",
    "import plotly.express as px\n",
    "from plotly import graph_objects as go\n",
    "from ipywidgets import interact\n",
    "from scipy.optimize import curve_fit\n",
    "\n",
    "# peak1 = (1380, 1410)\n",
    "# peak2 = (730, 770)\n",
    "# peak3 = (1300, 1380)\n",
    "\n",
    "# map_a.draw_curve(lorentz, (1392, 2, -1.45 * 10**6, -7000), 1330, 1450, base_vector = 0)"
   ]
  },
  {
   "cell_type": "code",
   "outputs": [],
   "source": [
    "def lorentz(X, mean, sigma, scale, offset):\n",
    "    return scale/(np.pi * sigma * (1 + ((X - mean)/sigma)**2)) + offset\n",
    "\n",
    "def lorentz_shift(X, mean, sigma, scale, offset):\n",
    "    return -(2 * sigma * (-mean + X)) / (np.pi * (mean**2 + sigma**2 - 2*mean*X + np.power(X, 2))**2)*scale + offset\n",
    "\n",
    "def lorentz_spread(X, mean, sigma, scale, offset):\n",
    "    return (mean**2 - 2 * mean * X + np.power(X, 2) - sigma**2)/(np.pi * (mean**2 - 2 * mean * X + np.power(X, 2) + sigma**2)**2) * scale + offset\n",
    "\n",
    "def both_lorentz(X, mean1, sigma1, scale1, offset1, mean2, sigma2, scale2, offset2):\n",
    "    return lorentz(X, mean1, sigma1, scale1, offset1) + lorentz_shift(X, mean2, sigma2, scale2, offset2)\n",
    "\n",
    "class Map:\n",
    "    def __init__(self, src, x, y, **kwargs):\n",
    "        raw_data = np.loadtxt(src, delimiter='\\t')\n",
    "        if 'begin' in kwargs and 'end' in kwargs:\n",
    "            raw_data = raw_data[np.r_[0:1, (kwargs['begin']+2):(kwargs['end']+2)]]\n",
    "        self.shape = (x, y)\n",
    "        self.raman_shift = raw_data.T[0][2:]\n",
    "        self.data_matrix = raw_data[2:].T[1:]\n",
    "        self.data = pd.DataFrame(raw_data[2:], columns = ['RamanShift'] + list(np.arange(0, x*y, 1)))\n",
    "        self.map = np.array([raw_data[0][1:], raw_data[1][1:]]).T\n",
    "\n",
    "        self.cov_matrix = np.cov(self.data_matrix)\n",
    "        \n",
    "        eigenvalues, eigenvectors = eigh(self.cov_matrix)\n",
    "        idx = np.flip(eigenvalues.argsort())\n",
    "        self.weights = eigenvalues[idx] / sum(eigenvalues)\n",
    "        self.vectors = eigenvectors.T[idx]\n",
    "        \n",
    "        self.base_vectors = np.dot(self.vectors, self.data_matrix)\n",
    "    \n",
    "    def reconstruct(self, count):\n",
    "        return np.dot(self.vectors[:count].T, self.base_vectors[:count])\n",
    "    \n",
    "    def plotComponent(self, num):\n",
    "        fig = px.imshow(np.reshape(self.vectors[num], self.shape), title ='Komponent ' + str(num))\n",
    "        return fig\n",
    "    \n",
    "    def plotPhysicalComponent(self, v):\n",
    "        img = np.dot(np.array(v), self.vectors[:len(v)])\n",
    "        fig = px.imshow(np.reshape(img, self.shape), title ='Peak')\n",
    "        return fig\n",
    "    \n",
    "    def plotCovMatrix(self):\n",
    "        fig = px.imshow(self.cov_matrix, title = 'Macierz kowariancji')\n",
    "        return fig\n",
    "    \n",
    "    def plotWeights(self, cum):\n",
    "        if cum:\n",
    "            fig = px.bar(np.cumsum(self.weights), title = 'Wagi')\n",
    "        else:\n",
    "            fig = px.bar(self.weights, title = 'Wagi')\n",
    "        return fig\n",
    "    \n",
    "    def plotSpectrums(self, ids, **kwargs):\n",
    "        fig = go.Figure()\n",
    "        if 'base' not in kwargs:\n",
    "            for num in ids:\n",
    "                fig.add_scatter(x = self.raman_shift, y = self.data_matrix[num], mode='lines', name = 'ID: ' + str(num))\n",
    "        else:\n",
    "            r = self.reconstruct(kwargs['base'])\n",
    "            for num in ids:\n",
    "                fig.add_scatter(x = self.raman_shift, y = r[num], mode='lines', name = 'ID: ' + str(num))\n",
    "        fig.update_layout(hovermode=\"x\")\n",
    "        return fig\n",
    "    \n",
    "    def plotSpectrum(self, num, **kwargs):\n",
    "        return self.plotSpectrums([num], **kwargs)\n",
    "    \n",
    "    def plotBaseVectors(self, count):\n",
    "        fig = go.Figure()\n",
    "        for num in range(count):\n",
    "            fig.add_scatter(x = self.raman_shift, y = self.base_vectors[num], mode='lines', name = 'Num: ' + str(num))\n",
    "        fig.update_layout(hovermode=\"x\")\n",
    "        return fig\n",
    "            \n",
    "    def locToId(self, x, y):\n",
    "        return np.argmin(list(map(lambda e: np.linalg.norm([x, y] - e), self.map)))\n",
    "    \n",
    "    def posToId(self, x, y):\n",
    "        return self.shape[0] * y + x\n",
    "    \n",
    "    def draw_curve(self, curve, params, a, b, **draw):\n",
    "        fig = go.Figure()\n",
    "        if 'spectrum' in draw:\n",
    "            fig.add_scatter(x = self.raman_shift, y = self.data_matrix[draw['spectrum']], mode='lines')\n",
    "        if 'base_vector' in draw:\n",
    "            fig.add_scatter(x = self.raman_shift, y = self.base_vectors[draw['base_vector']], mode='lines')\n",
    "        data_slice = self.data[(self.data['RamanShift'] >= a) & (self.data['RamanShift'] <= b)]['RamanShift']\n",
    "        fig.add_scatter(mode='lines', x = data_slice, y = curve(data_slice, *params))\n",
    "        fig.update_layout(hovermode=\"x\")\n",
    "        return fig\n",
    "    \n",
    "    def fit_curve(self, curve, p0, a, b, **plot):\n",
    "        y = 0\n",
    "        if 'spectrum' in plot:\n",
    "            y = self.data_matrix[plot['spectrum'], (self.data['RamanShift'] >= a) & (self.data['RamanShift'] <= b)]\n",
    "        if 'base_vector' in plot:\n",
    "            y = self.base_vectors[plot['base_vector'], (self.data['RamanShift'] >= a) & (self.data['RamanShift'] <= b)]\n",
    "        data_slice = self.data[(self.data['RamanShift'] >= a) & (self.data['RamanShift'] <= b)]['RamanShift']\n",
    "        param, cov = curve_fit(curve, data_slice, y, p0=p0)\n",
    "        if 'draw' in plot:\n",
    "            self.draw_curve(curve, param, a, b, **plot).show()\n",
    "        return param[2]\n",
    "        \n",
    "    \n",
    "map_a = Map('../data/GA25_10B_532nm_100%_1x3sec_x100_xc1200_A_trojkat1_mapa_10x10um_step_0.3um_data.txt', 34, 34, begin=250, end=450)"
   ],
   "metadata": {
    "collapsed": false
   },
   "id": "fd1ddb3ce756353e",
   "execution_count": null
  },
  {
   "cell_type": "code",
   "outputs": [],
   "source": [
    "# map_a.plotCovMatrix().show()\n",
    "map_a.plotWeights(True).show()"
   ],
   "metadata": {
    "collapsed": false
   },
   "id": "25c6261a38ef93d3",
   "execution_count": null
  },
  {
   "cell_type": "code",
   "outputs": [],
   "source": [
    "map_a.plotSpectrums([0, 10, 78, 150, 450, 765]).show()"
   ],
   "metadata": {
    "collapsed": false
   },
   "id": "abaf0411f9af3585",
   "execution_count": null
  },
  {
   "cell_type": "code",
   "outputs": [],
   "source": [
    "map_a.plotBaseVectors(5)"
   ],
   "metadata": {
    "collapsed": false
   },
   "id": "625b502433d4bf56",
   "execution_count": null
  },
  {
   "cell_type": "code",
   "outputs": [],
   "source": [
    "i = 4\n",
    "px.line(x = map_a.raman_shift, y = map_a.base_vectors[i]).show()\n",
    "map_a.plotComponent(i).show()"
   ],
   "metadata": {
    "collapsed": false
   },
   "id": "f62ff42faee2844f",
   "execution_count": null
  },
  {
   "cell_type": "code",
   "outputs": [],
   "source": [
    "d = map_a.data_matrix - map_a.reconstruct(4)\n",
    "img = np.reshape(np.sum(np.abs(d), axis = 1), (34, 34))\n",
    "px.imshow(img)"
   ],
   "metadata": {
    "collapsed": false
   },
   "id": "d114cdbdb219d1e7",
   "execution_count": null
  },
  {
   "cell_type": "markdown",
   "source": [
    "## Peak 1345"
   ],
   "metadata": {
    "collapsed": false
   },
   "id": "e48da914ecc7443c"
  },
  {
   "cell_type": "code",
   "outputs": [
    {
     "data": {
      "application/vnd.plotly.v1+json": {
       "data": [
        {
         "mode": "lines",
         "x": [
          1489.670166015625,
          1488.5650634765625,
          1487.459716796875,
          1486.354248046875,
          1485.24853515625,
          1484.142578125,
          1483.0364990234375,
          1481.93017578125,
          1480.8236083984375,
          1479.7169189453125,
          1478.6099853515625,
          1477.5028076171875,
          1476.3955078125,
          1475.2879638671875,
          1474.1802978515625,
          1473.0723876953125,
          1471.9642333984375,
          1470.8558349609375,
          1469.747314453125,
          1468.638671875,
          1467.5296630859375,
          1466.4205322265625,
          1465.311279296875,
          1464.20166015625,
          1463.0919189453125,
          1461.9820556640625,
          1460.8719482421875,
          1459.7615966796875,
          1458.6510009765625,
          1457.540283203125,
          1456.4293212890625,
          1455.3182373046875,
          1454.2069091796875,
          1453.0953369140625,
          1451.983642578125,
          1450.8717041015625,
          1449.759521484375,
          1448.647216796875,
          1447.53466796875,
          1446.421875,
          1445.3089599609375,
          1444.19580078125,
          1443.0823974609375,
          1441.9688720703125,
          1440.8551025390625,
          1439.7410888671875,
          1438.626953125,
          1437.5125732421875,
          1436.3980712890625,
          1435.2833251953125,
          1434.1683349609375,
          1433.0531005859375,
          1431.937744140625,
          1430.8221435546875,
          1429.7064208984375,
          1428.5904541015625,
          1427.4742431640625,
          1426.35791015625,
          1425.2412109375,
          1424.12451171875,
          1423.0074462890625,
          1421.8902587890625,
          1420.7728271484375,
          1419.6552734375,
          1418.5374755859375,
          1417.41943359375,
          1416.30126953125,
          1415.182861328125,
          1414.064208984375,
          1412.9454345703125,
          1411.826416015625,
          1410.7071533203125,
          1409.587646484375,
          1408.468017578125,
          1407.3482666015625,
          1406.2281494140625,
          1405.10791015625,
          1403.9874267578125,
          1402.8668212890625,
          1401.7459716796875,
          1400.6248779296875,
          1399.503662109375,
          1398.3822021484375,
          1397.260498046875,
          1396.1385498046875,
          1395.0164794921875,
          1393.894287109375,
          1392.771728515625,
          1391.6490478515625,
          1390.526123046875,
          1389.403076171875,
          1388.2796630859375,
          1387.15625,
          1386.032470703125,
          1384.9085693359375,
          1383.784423828125,
          1382.6600341796875,
          1381.5355224609375,
          1380.4107666015625,
          1379.2857666015625,
          1378.16064453125,
          1377.0352783203125,
          1375.90966796875,
          1374.783935546875,
          1373.657958984375,
          1372.53173828125,
          1371.4053955078125,
          1370.27880859375,
          1369.1519775390625,
          1368.02490234375,
          1366.897705078125,
          1365.770263671875,
          1364.6427001953125,
          1363.5147705078125,
          1362.38671875,
          1361.258544921875,
          1360.1300048828125,
          1359.0013427734375,
          1357.87255859375,
          1356.743408203125,
          1355.6141357421875,
          1354.484619140625,
          1353.35498046875,
          1352.22509765625,
          1351.094970703125,
          1349.964599609375,
          1348.8341064453125,
          1347.703369140625,
          1346.5723876953125,
          1345.441162109375,
          1344.309814453125,
          1343.17822265625,
          1342.0465087890625,
          1340.91455078125,
          1339.7823486328125,
          1338.64990234375,
          1337.517333984375,
          1336.384521484375,
          1335.25146484375,
          1334.1181640625,
          1332.9847412109375,
          1331.85107421875,
          1330.7171630859375,
          1329.5831298828125,
          1328.4488525390625,
          1327.3143310546875,
          1326.1796875,
          1325.0447998046875,
          1323.90966796875,
          1322.7742919921875,
          1321.6387939453125,
          1320.5029296875,
          1319.3670654296875,
          1318.2308349609375,
          1317.094482421875,
          1315.9578857421875,
          1314.821044921875,
          1313.68408203125,
          1312.546875,
          1311.409423828125,
          1310.271728515625,
          1309.1339111328125,
          1307.995849609375,
          1306.8575439453125,
          1305.718994140625,
          1304.580322265625,
          1303.44140625,
          1302.3023681640625,
          1301.1629638671875,
          1300.0234375,
          1298.8836669921875,
          1297.74365234375,
          1296.603515625,
          1295.463134765625,
          1294.322509765625,
          1293.181640625,
          1292.0406494140625,
          1290.8994140625,
          1289.7579345703125,
          1288.6163330078125,
          1287.474365234375,
          1286.332275390625,
          1285.1900634765625,
          1284.0474853515625,
          1282.90478515625,
          1281.7618408203125,
          1280.61865234375,
          1279.475341796875,
          1278.3316650390625,
          1277.1878662109375,
          1276.0439453125,
          1274.899658203125,
          1273.7552490234375,
          1272.610595703125,
          1271.4656982421875,
          1270.3206787109375,
          1269.17529296875,
          1268.02978515625,
          1266.8841552734375
         ],
         "y": [
          -5743.934042429738,
          -5764.564177136801,
          -5723.436250644998,
          -5718.264450082185,
          -5736.796448767655,
          -5705.365367612125,
          -5714.81807975622,
          -5701.359522212966,
          -5701.896654091143,
          -5700.346222281744,
          -5700.454587386598,
          -5681.19432587622,
          -5694.015001642907,
          -5619.8849851814475,
          -5653.938575635669,
          -5642.599041742731,
          -5681.998891196552,
          -5635.912962330581,
          -5688.460893075735,
          -5691.355975342869,
          -5732.305061621049,
          -5726.730379106957,
          -5715.073251297305,
          -5729.409242494047,
          -5788.687855609527,
          -5752.344012466365,
          -5755.90363678068,
          -5766.412937223219,
          -5795.961978522393,
          -5761.895546321915,
          -5804.472469113723,
          -5805.16350791998,
          -5812.396753238868,
          -5849.458993718618,
          -5849.112947800432,
          -5889.417513915323,
          -5884.350003742008,
          -5893.1910345992155,
          -5888.662656686385,
          -5928.645856201495,
          -5942.4227334364095,
          -5949.713748530958,
          -6005.314999821283,
          -5984.67234313708,
          -6083.380527220728,
          -6068.523565511866,
          -6101.342670485311,
          -6151.840992371203,
          -6190.4956414422895,
          -6186.785196890048,
          -6272.109543411225,
          -6286.995271462466,
          -6352.129690053727,
          -6386.185041818637,
          -6458.204254589916,
          -6444.808066325772,
          -6561.096114934595,
          -6600.077587231213,
          -6658.082002655971,
          -6740.323676085222,
          -6873.148110031672,
          -6902.64092676708,
          -7044.9433641748,
          -7161.724123985234,
          -7294.915323775892,
          -7411.596649015341,
          -7575.175061884123,
          -7733.800365245337,
          -7964.402931198431,
          -8156.316386610524,
          -8460.535322183323,
          -8692.763355573215,
          -9092.098804176818,
          -9560.069296914206,
          -10125.076567990753,
          -10809.244131514284,
          -11699.909611804698,
          -12782.803860235661,
          -14226.875738486127,
          -16165.13770083018,
          -18982.933821925984,
          -23017.482550132798,
          -29455.938155063315,
          -39764.70553736428,
          -58076.11358834056,
          -91611.74531985846,
          -148416.20950659717,
          -206922.16569438938,
          -206210.91936032532,
          -153819.90643397093,
          -100784.75467245087,
          -64632.23620499704,
          -43388.6530775,
          -31328.722875747782,
          -24532.816214848066,
          -20369.472421388287,
          -17761.291612161556,
          -16019.059355409454,
          -14846.65576308308,
          -13922.57111411268,
          -13433.295439127822,
          -13008.895700644589,
          -12763.844713838473,
          -12595.656429451356,
          -12629.929236942991,
          -12647.825980368809,
          -12738.059333965533,
          -12836.035963988112,
          -12944.74184506438,
          -13088.097005465288,
          -13283.688160146286,
          -13453.279969291094,
          -13726.7315413213,
          -13902.41106861341,
          -14206.323612508786,
          -14453.638072279144,
          -14871.53488583378,
          -15202.06299820556,
          -15673.39653081145,
          -16173.707705177108,
          -16745.940481356545,
          -17300.975194586477,
          -17844.292888393087,
          -18440.671855362772,
          -18949.177956355747,
          -19465.59929992761,
          -20009.477861780044,
          -20288.773534341253,
          -20601.022615066304,
          -20769.848729439695,
          -20817.62536694901,
          -20627.702287236192,
          -20340.33647982206,
          -19949.044604169358,
          -19435.20463525642,
          -18807.24501836537,
          -18249.850035894193,
          -17586.601996885864,
          -16846.06466050224,
          -16221.459661714653,
          -15552.867381665596,
          -14947.647417667826,
          -14441.637728933174,
          -13936.62370702474,
          -13410.053890901121,
          -12940.470643423325,
          -12510.434252754063,
          -12089.032311956726,
          -11793.517282503972,
          -11397.657848743347,
          -11053.539902922941,
          -10731.483775265222,
          -10452.062430318107,
          -10154.694441167618,
          -9934.37349457805,
          -9666.189882865603,
          -9443.774333299634,
          -9161.385847940293,
          -8974.670412745567,
          -8726.458027224522,
          -8565.821487611838,
          -8433.875098247714,
          -8248.45192121211,
          -8081.499025992233,
          -7916.6641490255915,
          -7770.94361532562,
          -7619.768938757248,
          -7495.177607774513,
          -7369.794797191189,
          -7226.914527265431,
          -7118.5608659020445,
          -7024.438826283903,
          -6989.398268345353,
          -6854.87596875237,
          -6821.497190881167,
          -6712.454507142701,
          -6641.435323771171,
          -6534.707291757381,
          -6490.579444360389,
          -6342.838171087817,
          -6319.708431694947,
          -6195.524485457557,
          -6160.012292534605,
          -6114.910159262836,
          -6063.392335547279,
          -6019.325066287904,
          -6021.48457136173,
          -5976.725664618647,
          -5976.308299241691,
          -5917.967583231161,
          -5856.035107258445,
          -5781.640628878666,
          -5737.747328075147,
          -5664.226753965538,
          -5611.280051143382,
          -5564.610047067537,
          -5556.626961509217,
          -5497.698075894621,
          -5469.863151088477
         ],
         "type": "scatter"
        },
        {
         "mode": "lines",
         "x": [
          1399.503662109375,
          1398.3822021484375,
          1397.260498046875,
          1396.1385498046875,
          1395.0164794921875,
          1393.894287109375,
          1392.771728515625,
          1391.6490478515625,
          1390.526123046875,
          1389.403076171875,
          1388.2796630859375,
          1387.15625,
          1386.032470703125,
          1384.9085693359375,
          1383.784423828125,
          1382.6600341796875,
          1381.5355224609375,
          1380.4107666015625
         ],
         "y": [
          -24182.463872396685,
          -31425.442727666188,
          -42748.045634819195,
          -61368.07207195095,
          -93145.0296767935,
          -145193.7101852679,
          -205190.52119793862,
          -209968.15824945486,
          -152455.58903092908,
          -97993.9674223794,
          -64172.948758248036,
          -44393.68683984009,
          -32433.66800016769,
          -24829.780162535204,
          -19756.12710783431,
          -16226.249507199944,
          -13682.27052133634,
          -11793.118897619293
         ],
         "type": "scatter"
        }
       ],
       "layout": {
        "template": {
         "data": {
          "histogram2dcontour": [
           {
            "type": "histogram2dcontour",
            "colorbar": {
             "outlinewidth": 0,
             "ticks": ""
            },
            "colorscale": [
             [
              0.0,
              "#0d0887"
             ],
             [
              0.1111111111111111,
              "#46039f"
             ],
             [
              0.2222222222222222,
              "#7201a8"
             ],
             [
              0.3333333333333333,
              "#9c179e"
             ],
             [
              0.4444444444444444,
              "#bd3786"
             ],
             [
              0.5555555555555556,
              "#d8576b"
             ],
             [
              0.6666666666666666,
              "#ed7953"
             ],
             [
              0.7777777777777778,
              "#fb9f3a"
             ],
             [
              0.8888888888888888,
              "#fdca26"
             ],
             [
              1.0,
              "#f0f921"
             ]
            ]
           }
          ],
          "choropleth": [
           {
            "type": "choropleth",
            "colorbar": {
             "outlinewidth": 0,
             "ticks": ""
            }
           }
          ],
          "histogram2d": [
           {
            "type": "histogram2d",
            "colorbar": {
             "outlinewidth": 0,
             "ticks": ""
            },
            "colorscale": [
             [
              0.0,
              "#0d0887"
             ],
             [
              0.1111111111111111,
              "#46039f"
             ],
             [
              0.2222222222222222,
              "#7201a8"
             ],
             [
              0.3333333333333333,
              "#9c179e"
             ],
             [
              0.4444444444444444,
              "#bd3786"
             ],
             [
              0.5555555555555556,
              "#d8576b"
             ],
             [
              0.6666666666666666,
              "#ed7953"
             ],
             [
              0.7777777777777778,
              "#fb9f3a"
             ],
             [
              0.8888888888888888,
              "#fdca26"
             ],
             [
              1.0,
              "#f0f921"
             ]
            ]
           }
          ],
          "heatmap": [
           {
            "type": "heatmap",
            "colorbar": {
             "outlinewidth": 0,
             "ticks": ""
            },
            "colorscale": [
             [
              0.0,
              "#0d0887"
             ],
             [
              0.1111111111111111,
              "#46039f"
             ],
             [
              0.2222222222222222,
              "#7201a8"
             ],
             [
              0.3333333333333333,
              "#9c179e"
             ],
             [
              0.4444444444444444,
              "#bd3786"
             ],
             [
              0.5555555555555556,
              "#d8576b"
             ],
             [
              0.6666666666666666,
              "#ed7953"
             ],
             [
              0.7777777777777778,
              "#fb9f3a"
             ],
             [
              0.8888888888888888,
              "#fdca26"
             ],
             [
              1.0,
              "#f0f921"
             ]
            ]
           }
          ],
          "heatmapgl": [
           {
            "type": "heatmapgl",
            "colorbar": {
             "outlinewidth": 0,
             "ticks": ""
            },
            "colorscale": [
             [
              0.0,
              "#0d0887"
             ],
             [
              0.1111111111111111,
              "#46039f"
             ],
             [
              0.2222222222222222,
              "#7201a8"
             ],
             [
              0.3333333333333333,
              "#9c179e"
             ],
             [
              0.4444444444444444,
              "#bd3786"
             ],
             [
              0.5555555555555556,
              "#d8576b"
             ],
             [
              0.6666666666666666,
              "#ed7953"
             ],
             [
              0.7777777777777778,
              "#fb9f3a"
             ],
             [
              0.8888888888888888,
              "#fdca26"
             ],
             [
              1.0,
              "#f0f921"
             ]
            ]
           }
          ],
          "contourcarpet": [
           {
            "type": "contourcarpet",
            "colorbar": {
             "outlinewidth": 0,
             "ticks": ""
            }
           }
          ],
          "contour": [
           {
            "type": "contour",
            "colorbar": {
             "outlinewidth": 0,
             "ticks": ""
            },
            "colorscale": [
             [
              0.0,
              "#0d0887"
             ],
             [
              0.1111111111111111,
              "#46039f"
             ],
             [
              0.2222222222222222,
              "#7201a8"
             ],
             [
              0.3333333333333333,
              "#9c179e"
             ],
             [
              0.4444444444444444,
              "#bd3786"
             ],
             [
              0.5555555555555556,
              "#d8576b"
             ],
             [
              0.6666666666666666,
              "#ed7953"
             ],
             [
              0.7777777777777778,
              "#fb9f3a"
             ],
             [
              0.8888888888888888,
              "#fdca26"
             ],
             [
              1.0,
              "#f0f921"
             ]
            ]
           }
          ],
          "surface": [
           {
            "type": "surface",
            "colorbar": {
             "outlinewidth": 0,
             "ticks": ""
            },
            "colorscale": [
             [
              0.0,
              "#0d0887"
             ],
             [
              0.1111111111111111,
              "#46039f"
             ],
             [
              0.2222222222222222,
              "#7201a8"
             ],
             [
              0.3333333333333333,
              "#9c179e"
             ],
             [
              0.4444444444444444,
              "#bd3786"
             ],
             [
              0.5555555555555556,
              "#d8576b"
             ],
             [
              0.6666666666666666,
              "#ed7953"
             ],
             [
              0.7777777777777778,
              "#fb9f3a"
             ],
             [
              0.8888888888888888,
              "#fdca26"
             ],
             [
              1.0,
              "#f0f921"
             ]
            ]
           }
          ],
          "mesh3d": [
           {
            "type": "mesh3d",
            "colorbar": {
             "outlinewidth": 0,
             "ticks": ""
            }
           }
          ],
          "scatter": [
           {
            "marker": {
             "line": {
              "color": "#283442"
             }
            },
            "type": "scatter"
           }
          ],
          "parcoords": [
           {
            "type": "parcoords",
            "line": {
             "colorbar": {
              "outlinewidth": 0,
              "ticks": ""
             }
            }
           }
          ],
          "scatterpolargl": [
           {
            "type": "scatterpolargl",
            "marker": {
             "colorbar": {
              "outlinewidth": 0,
              "ticks": ""
             }
            }
           }
          ],
          "bar": [
           {
            "error_x": {
             "color": "#f2f5fa"
            },
            "error_y": {
             "color": "#f2f5fa"
            },
            "marker": {
             "line": {
              "color": "rgb(17,17,17)",
              "width": 0.5
             },
             "pattern": {
              "fillmode": "overlay",
              "size": 10,
              "solidity": 0.2
             }
            },
            "type": "bar"
           }
          ],
          "scattergeo": [
           {
            "type": "scattergeo",
            "marker": {
             "colorbar": {
              "outlinewidth": 0,
              "ticks": ""
             }
            }
           }
          ],
          "scatterpolar": [
           {
            "type": "scatterpolar",
            "marker": {
             "colorbar": {
              "outlinewidth": 0,
              "ticks": ""
             }
            }
           }
          ],
          "histogram": [
           {
            "marker": {
             "pattern": {
              "fillmode": "overlay",
              "size": 10,
              "solidity": 0.2
             }
            },
            "type": "histogram"
           }
          ],
          "scattergl": [
           {
            "marker": {
             "line": {
              "color": "#283442"
             }
            },
            "type": "scattergl"
           }
          ],
          "scatter3d": [
           {
            "type": "scatter3d",
            "line": {
             "colorbar": {
              "outlinewidth": 0,
              "ticks": ""
             }
            },
            "marker": {
             "colorbar": {
              "outlinewidth": 0,
              "ticks": ""
             }
            }
           }
          ],
          "scattermapbox": [
           {
            "type": "scattermapbox",
            "marker": {
             "colorbar": {
              "outlinewidth": 0,
              "ticks": ""
             }
            }
           }
          ],
          "scatterternary": [
           {
            "type": "scatterternary",
            "marker": {
             "colorbar": {
              "outlinewidth": 0,
              "ticks": ""
             }
            }
           }
          ],
          "scattercarpet": [
           {
            "type": "scattercarpet",
            "marker": {
             "colorbar": {
              "outlinewidth": 0,
              "ticks": ""
             }
            }
           }
          ],
          "carpet": [
           {
            "aaxis": {
             "endlinecolor": "#A2B1C6",
             "gridcolor": "#506784",
             "linecolor": "#506784",
             "minorgridcolor": "#506784",
             "startlinecolor": "#A2B1C6"
            },
            "baxis": {
             "endlinecolor": "#A2B1C6",
             "gridcolor": "#506784",
             "linecolor": "#506784",
             "minorgridcolor": "#506784",
             "startlinecolor": "#A2B1C6"
            },
            "type": "carpet"
           }
          ],
          "table": [
           {
            "cells": {
             "fill": {
              "color": "#506784"
             },
             "line": {
              "color": "rgb(17,17,17)"
             }
            },
            "header": {
             "fill": {
              "color": "#2a3f5f"
             },
             "line": {
              "color": "rgb(17,17,17)"
             }
            },
            "type": "table"
           }
          ],
          "barpolar": [
           {
            "marker": {
             "line": {
              "color": "rgb(17,17,17)",
              "width": 0.5
             },
             "pattern": {
              "fillmode": "overlay",
              "size": 10,
              "solidity": 0.2
             }
            },
            "type": "barpolar"
           }
          ],
          "pie": [
           {
            "automargin": true,
            "type": "pie"
           }
          ]
         },
         "layout": {
          "autotypenumbers": "strict",
          "colorway": [
           "#636efa",
           "#EF553B",
           "#00cc96",
           "#ab63fa",
           "#FFA15A",
           "#19d3f3",
           "#FF6692",
           "#B6E880",
           "#FF97FF",
           "#FECB52"
          ],
          "font": {
           "color": "#f2f5fa"
          },
          "hovermode": "closest",
          "hoverlabel": {
           "align": "left"
          },
          "paper_bgcolor": "rgb(17,17,17)",
          "plot_bgcolor": "rgb(17,17,17)",
          "polar": {
           "bgcolor": "rgb(17,17,17)",
           "angularaxis": {
            "gridcolor": "#506784",
            "linecolor": "#506784",
            "ticks": ""
           },
           "radialaxis": {
            "gridcolor": "#506784",
            "linecolor": "#506784",
            "ticks": ""
           }
          },
          "ternary": {
           "bgcolor": "rgb(17,17,17)",
           "aaxis": {
            "gridcolor": "#506784",
            "linecolor": "#506784",
            "ticks": ""
           },
           "baxis": {
            "gridcolor": "#506784",
            "linecolor": "#506784",
            "ticks": ""
           },
           "caxis": {
            "gridcolor": "#506784",
            "linecolor": "#506784",
            "ticks": ""
           }
          },
          "coloraxis": {
           "colorbar": {
            "outlinewidth": 0,
            "ticks": ""
           }
          },
          "colorscale": {
           "sequential": [
            [
             0.0,
             "#0d0887"
            ],
            [
             0.1111111111111111,
             "#46039f"
            ],
            [
             0.2222222222222222,
             "#7201a8"
            ],
            [
             0.3333333333333333,
             "#9c179e"
            ],
            [
             0.4444444444444444,
             "#bd3786"
            ],
            [
             0.5555555555555556,
             "#d8576b"
            ],
            [
             0.6666666666666666,
             "#ed7953"
            ],
            [
             0.7777777777777778,
             "#fb9f3a"
            ],
            [
             0.8888888888888888,
             "#fdca26"
            ],
            [
             1.0,
             "#f0f921"
            ]
           ],
           "sequentialminus": [
            [
             0.0,
             "#0d0887"
            ],
            [
             0.1111111111111111,
             "#46039f"
            ],
            [
             0.2222222222222222,
             "#7201a8"
            ],
            [
             0.3333333333333333,
             "#9c179e"
            ],
            [
             0.4444444444444444,
             "#bd3786"
            ],
            [
             0.5555555555555556,
             "#d8576b"
            ],
            [
             0.6666666666666666,
             "#ed7953"
            ],
            [
             0.7777777777777778,
             "#fb9f3a"
            ],
            [
             0.8888888888888888,
             "#fdca26"
            ],
            [
             1.0,
             "#f0f921"
            ]
           ],
           "diverging": [
            [
             0,
             "#8e0152"
            ],
            [
             0.1,
             "#c51b7d"
            ],
            [
             0.2,
             "#de77ae"
            ],
            [
             0.3,
             "#f1b6da"
            ],
            [
             0.4,
             "#fde0ef"
            ],
            [
             0.5,
             "#f7f7f7"
            ],
            [
             0.6,
             "#e6f5d0"
            ],
            [
             0.7,
             "#b8e186"
            ],
            [
             0.8,
             "#7fbc41"
            ],
            [
             0.9,
             "#4d9221"
            ],
            [
             1,
             "#276419"
            ]
           ]
          },
          "xaxis": {
           "gridcolor": "#283442",
           "linecolor": "#506784",
           "ticks": "",
           "title": {
            "standoff": 15
           },
           "zerolinecolor": "#283442",
           "automargin": true,
           "zerolinewidth": 2
          },
          "yaxis": {
           "gridcolor": "#283442",
           "linecolor": "#506784",
           "ticks": "",
           "title": {
            "standoff": 15
           },
           "zerolinecolor": "#283442",
           "automargin": true,
           "zerolinewidth": 2
          },
          "scene": {
           "xaxis": {
            "backgroundcolor": "rgb(17,17,17)",
            "gridcolor": "#506784",
            "linecolor": "#506784",
            "showbackground": true,
            "ticks": "",
            "zerolinecolor": "#C8D4E3",
            "gridwidth": 2
           },
           "yaxis": {
            "backgroundcolor": "rgb(17,17,17)",
            "gridcolor": "#506784",
            "linecolor": "#506784",
            "showbackground": true,
            "ticks": "",
            "zerolinecolor": "#C8D4E3",
            "gridwidth": 2
           },
           "zaxis": {
            "backgroundcolor": "rgb(17,17,17)",
            "gridcolor": "#506784",
            "linecolor": "#506784",
            "showbackground": true,
            "ticks": "",
            "zerolinecolor": "#C8D4E3",
            "gridwidth": 2
           }
          },
          "shapedefaults": {
           "line": {
            "color": "#f2f5fa"
           }
          },
          "annotationdefaults": {
           "arrowcolor": "#f2f5fa",
           "arrowhead": 0,
           "arrowwidth": 1
          },
          "geo": {
           "bgcolor": "rgb(17,17,17)",
           "landcolor": "rgb(17,17,17)",
           "subunitcolor": "#506784",
           "showland": true,
           "showlakes": true,
           "lakecolor": "rgb(17,17,17)"
          },
          "title": {
           "x": 0.05
          },
          "updatemenudefaults": {
           "bgcolor": "#506784",
           "borderwidth": 0
          },
          "sliderdefaults": {
           "bgcolor": "#C8D4E3",
           "borderwidth": 1,
           "bordercolor": "rgb(17,17,17)",
           "tickwidth": 0
          },
          "mapbox": {
           "style": "dark"
          }
         }
        },
        "hovermode": "x"
       },
       "config": {
        "plotlyServerURL": "https://plot.ly"
       }
      },
      "text/html": "<div>                            <div id=\"d3315df2-a0dc-46fb-86d8-e981eefd89e6\" class=\"plotly-graph-div\" style=\"height:525px; width:100%;\"></div>            <script type=\"text/javascript\">                require([\"plotly\"], function(Plotly) {                    window.PLOTLYENV=window.PLOTLYENV || {};                                    if (document.getElementById(\"d3315df2-a0dc-46fb-86d8-e981eefd89e6\")) {                    Plotly.newPlot(                        \"d3315df2-a0dc-46fb-86d8-e981eefd89e6\",                        [{\"mode\":\"lines\",\"x\":[1489.670166015625,1488.5650634765625,1487.459716796875,1486.354248046875,1485.24853515625,1484.142578125,1483.0364990234375,1481.93017578125,1480.8236083984375,1479.7169189453125,1478.6099853515625,1477.5028076171875,1476.3955078125,1475.2879638671875,1474.1802978515625,1473.0723876953125,1471.9642333984375,1470.8558349609375,1469.747314453125,1468.638671875,1467.5296630859375,1466.4205322265625,1465.311279296875,1464.20166015625,1463.0919189453125,1461.9820556640625,1460.8719482421875,1459.7615966796875,1458.6510009765625,1457.540283203125,1456.4293212890625,1455.3182373046875,1454.2069091796875,1453.0953369140625,1451.983642578125,1450.8717041015625,1449.759521484375,1448.647216796875,1447.53466796875,1446.421875,1445.3089599609375,1444.19580078125,1443.0823974609375,1441.9688720703125,1440.8551025390625,1439.7410888671875,1438.626953125,1437.5125732421875,1436.3980712890625,1435.2833251953125,1434.1683349609375,1433.0531005859375,1431.937744140625,1430.8221435546875,1429.7064208984375,1428.5904541015625,1427.4742431640625,1426.35791015625,1425.2412109375,1424.12451171875,1423.0074462890625,1421.8902587890625,1420.7728271484375,1419.6552734375,1418.5374755859375,1417.41943359375,1416.30126953125,1415.182861328125,1414.064208984375,1412.9454345703125,1411.826416015625,1410.7071533203125,1409.587646484375,1408.468017578125,1407.3482666015625,1406.2281494140625,1405.10791015625,1403.9874267578125,1402.8668212890625,1401.7459716796875,1400.6248779296875,1399.503662109375,1398.3822021484375,1397.260498046875,1396.1385498046875,1395.0164794921875,1393.894287109375,1392.771728515625,1391.6490478515625,1390.526123046875,1389.403076171875,1388.2796630859375,1387.15625,1386.032470703125,1384.9085693359375,1383.784423828125,1382.6600341796875,1381.5355224609375,1380.4107666015625,1379.2857666015625,1378.16064453125,1377.0352783203125,1375.90966796875,1374.783935546875,1373.657958984375,1372.53173828125,1371.4053955078125,1370.27880859375,1369.1519775390625,1368.02490234375,1366.897705078125,1365.770263671875,1364.6427001953125,1363.5147705078125,1362.38671875,1361.258544921875,1360.1300048828125,1359.0013427734375,1357.87255859375,1356.743408203125,1355.6141357421875,1354.484619140625,1353.35498046875,1352.22509765625,1351.094970703125,1349.964599609375,1348.8341064453125,1347.703369140625,1346.5723876953125,1345.441162109375,1344.309814453125,1343.17822265625,1342.0465087890625,1340.91455078125,1339.7823486328125,1338.64990234375,1337.517333984375,1336.384521484375,1335.25146484375,1334.1181640625,1332.9847412109375,1331.85107421875,1330.7171630859375,1329.5831298828125,1328.4488525390625,1327.3143310546875,1326.1796875,1325.0447998046875,1323.90966796875,1322.7742919921875,1321.6387939453125,1320.5029296875,1319.3670654296875,1318.2308349609375,1317.094482421875,1315.9578857421875,1314.821044921875,1313.68408203125,1312.546875,1311.409423828125,1310.271728515625,1309.1339111328125,1307.995849609375,1306.8575439453125,1305.718994140625,1304.580322265625,1303.44140625,1302.3023681640625,1301.1629638671875,1300.0234375,1298.8836669921875,1297.74365234375,1296.603515625,1295.463134765625,1294.322509765625,1293.181640625,1292.0406494140625,1290.8994140625,1289.7579345703125,1288.6163330078125,1287.474365234375,1286.332275390625,1285.1900634765625,1284.0474853515625,1282.90478515625,1281.7618408203125,1280.61865234375,1279.475341796875,1278.3316650390625,1277.1878662109375,1276.0439453125,1274.899658203125,1273.7552490234375,1272.610595703125,1271.4656982421875,1270.3206787109375,1269.17529296875,1268.02978515625,1266.8841552734375],\"y\":[-5743.934042429738,-5764.564177136801,-5723.436250644998,-5718.264450082185,-5736.796448767655,-5705.365367612125,-5714.81807975622,-5701.359522212966,-5701.896654091143,-5700.346222281744,-5700.454587386598,-5681.19432587622,-5694.015001642907,-5619.8849851814475,-5653.938575635669,-5642.599041742731,-5681.998891196552,-5635.912962330581,-5688.460893075735,-5691.355975342869,-5732.305061621049,-5726.730379106957,-5715.073251297305,-5729.409242494047,-5788.687855609527,-5752.344012466365,-5755.90363678068,-5766.412937223219,-5795.961978522393,-5761.895546321915,-5804.472469113723,-5805.16350791998,-5812.396753238868,-5849.458993718618,-5849.112947800432,-5889.417513915323,-5884.350003742008,-5893.1910345992155,-5888.662656686385,-5928.645856201495,-5942.4227334364095,-5949.713748530958,-6005.314999821283,-5984.67234313708,-6083.380527220728,-6068.523565511866,-6101.342670485311,-6151.840992371203,-6190.4956414422895,-6186.785196890048,-6272.109543411225,-6286.995271462466,-6352.129690053727,-6386.185041818637,-6458.204254589916,-6444.808066325772,-6561.096114934595,-6600.077587231213,-6658.082002655971,-6740.323676085222,-6873.148110031672,-6902.64092676708,-7044.9433641748,-7161.724123985234,-7294.915323775892,-7411.596649015341,-7575.175061884123,-7733.800365245337,-7964.402931198431,-8156.316386610524,-8460.535322183323,-8692.763355573215,-9092.098804176818,-9560.069296914206,-10125.076567990753,-10809.244131514284,-11699.909611804698,-12782.803860235661,-14226.875738486127,-16165.13770083018,-18982.933821925984,-23017.482550132798,-29455.938155063315,-39764.70553736428,-58076.11358834056,-91611.74531985846,-148416.20950659717,-206922.16569438938,-206210.91936032532,-153819.90643397093,-100784.75467245087,-64632.23620499704,-43388.6530775,-31328.722875747782,-24532.816214848066,-20369.472421388287,-17761.291612161556,-16019.059355409454,-14846.65576308308,-13922.57111411268,-13433.295439127822,-13008.895700644589,-12763.844713838473,-12595.656429451356,-12629.929236942991,-12647.825980368809,-12738.059333965533,-12836.035963988112,-12944.74184506438,-13088.097005465288,-13283.688160146286,-13453.279969291094,-13726.7315413213,-13902.41106861341,-14206.323612508786,-14453.638072279144,-14871.53488583378,-15202.06299820556,-15673.39653081145,-16173.707705177108,-16745.940481356545,-17300.975194586477,-17844.292888393087,-18440.671855362772,-18949.177956355747,-19465.59929992761,-20009.477861780044,-20288.773534341253,-20601.022615066304,-20769.848729439695,-20817.62536694901,-20627.702287236192,-20340.33647982206,-19949.044604169358,-19435.20463525642,-18807.24501836537,-18249.850035894193,-17586.601996885864,-16846.06466050224,-16221.459661714653,-15552.867381665596,-14947.647417667826,-14441.637728933174,-13936.62370702474,-13410.053890901121,-12940.470643423325,-12510.434252754063,-12089.032311956726,-11793.517282503972,-11397.657848743347,-11053.539902922941,-10731.483775265222,-10452.062430318107,-10154.694441167618,-9934.37349457805,-9666.189882865603,-9443.774333299634,-9161.385847940293,-8974.670412745567,-8726.458027224522,-8565.821487611838,-8433.875098247714,-8248.45192121211,-8081.499025992233,-7916.6641490255915,-7770.94361532562,-7619.768938757248,-7495.177607774513,-7369.794797191189,-7226.914527265431,-7118.5608659020445,-7024.438826283903,-6989.398268345353,-6854.87596875237,-6821.497190881167,-6712.454507142701,-6641.435323771171,-6534.707291757381,-6490.579444360389,-6342.838171087817,-6319.708431694947,-6195.524485457557,-6160.012292534605,-6114.910159262836,-6063.392335547279,-6019.325066287904,-6021.48457136173,-5976.725664618647,-5976.308299241691,-5917.967583231161,-5856.035107258445,-5781.640628878666,-5737.747328075147,-5664.226753965538,-5611.280051143382,-5564.610047067537,-5556.626961509217,-5497.698075894621,-5469.863151088477],\"type\":\"scatter\"},{\"mode\":\"lines\",\"x\":[1399.503662109375,1398.3822021484375,1397.260498046875,1396.1385498046875,1395.0164794921875,1393.894287109375,1392.771728515625,1391.6490478515625,1390.526123046875,1389.403076171875,1388.2796630859375,1387.15625,1386.032470703125,1384.9085693359375,1383.784423828125,1382.6600341796875,1381.5355224609375,1380.4107666015625],\"y\":[-24182.463872396685,-31425.442727666188,-42748.045634819195,-61368.07207195095,-93145.0296767935,-145193.7101852679,-205190.52119793862,-209968.15824945486,-152455.58903092908,-97993.9674223794,-64172.948758248036,-44393.68683984009,-32433.66800016769,-24829.780162535204,-19756.12710783431,-16226.249507199944,-13682.27052133634,-11793.118897619293],\"type\":\"scatter\"}],                        {\"template\":{\"data\":{\"histogram2dcontour\":[{\"type\":\"histogram2dcontour\",\"colorbar\":{\"outlinewidth\":0,\"ticks\":\"\"},\"colorscale\":[[0.0,\"#0d0887\"],[0.1111111111111111,\"#46039f\"],[0.2222222222222222,\"#7201a8\"],[0.3333333333333333,\"#9c179e\"],[0.4444444444444444,\"#bd3786\"],[0.5555555555555556,\"#d8576b\"],[0.6666666666666666,\"#ed7953\"],[0.7777777777777778,\"#fb9f3a\"],[0.8888888888888888,\"#fdca26\"],[1.0,\"#f0f921\"]]}],\"choropleth\":[{\"type\":\"choropleth\",\"colorbar\":{\"outlinewidth\":0,\"ticks\":\"\"}}],\"histogram2d\":[{\"type\":\"histogram2d\",\"colorbar\":{\"outlinewidth\":0,\"ticks\":\"\"},\"colorscale\":[[0.0,\"#0d0887\"],[0.1111111111111111,\"#46039f\"],[0.2222222222222222,\"#7201a8\"],[0.3333333333333333,\"#9c179e\"],[0.4444444444444444,\"#bd3786\"],[0.5555555555555556,\"#d8576b\"],[0.6666666666666666,\"#ed7953\"],[0.7777777777777778,\"#fb9f3a\"],[0.8888888888888888,\"#fdca26\"],[1.0,\"#f0f921\"]]}],\"heatmap\":[{\"type\":\"heatmap\",\"colorbar\":{\"outlinewidth\":0,\"ticks\":\"\"},\"colorscale\":[[0.0,\"#0d0887\"],[0.1111111111111111,\"#46039f\"],[0.2222222222222222,\"#7201a8\"],[0.3333333333333333,\"#9c179e\"],[0.4444444444444444,\"#bd3786\"],[0.5555555555555556,\"#d8576b\"],[0.6666666666666666,\"#ed7953\"],[0.7777777777777778,\"#fb9f3a\"],[0.8888888888888888,\"#fdca26\"],[1.0,\"#f0f921\"]]}],\"heatmapgl\":[{\"type\":\"heatmapgl\",\"colorbar\":{\"outlinewidth\":0,\"ticks\":\"\"},\"colorscale\":[[0.0,\"#0d0887\"],[0.1111111111111111,\"#46039f\"],[0.2222222222222222,\"#7201a8\"],[0.3333333333333333,\"#9c179e\"],[0.4444444444444444,\"#bd3786\"],[0.5555555555555556,\"#d8576b\"],[0.6666666666666666,\"#ed7953\"],[0.7777777777777778,\"#fb9f3a\"],[0.8888888888888888,\"#fdca26\"],[1.0,\"#f0f921\"]]}],\"contourcarpet\":[{\"type\":\"contourcarpet\",\"colorbar\":{\"outlinewidth\":0,\"ticks\":\"\"}}],\"contour\":[{\"type\":\"contour\",\"colorbar\":{\"outlinewidth\":0,\"ticks\":\"\"},\"colorscale\":[[0.0,\"#0d0887\"],[0.1111111111111111,\"#46039f\"],[0.2222222222222222,\"#7201a8\"],[0.3333333333333333,\"#9c179e\"],[0.4444444444444444,\"#bd3786\"],[0.5555555555555556,\"#d8576b\"],[0.6666666666666666,\"#ed7953\"],[0.7777777777777778,\"#fb9f3a\"],[0.8888888888888888,\"#fdca26\"],[1.0,\"#f0f921\"]]}],\"surface\":[{\"type\":\"surface\",\"colorbar\":{\"outlinewidth\":0,\"ticks\":\"\"},\"colorscale\":[[0.0,\"#0d0887\"],[0.1111111111111111,\"#46039f\"],[0.2222222222222222,\"#7201a8\"],[0.3333333333333333,\"#9c179e\"],[0.4444444444444444,\"#bd3786\"],[0.5555555555555556,\"#d8576b\"],[0.6666666666666666,\"#ed7953\"],[0.7777777777777778,\"#fb9f3a\"],[0.8888888888888888,\"#fdca26\"],[1.0,\"#f0f921\"]]}],\"mesh3d\":[{\"type\":\"mesh3d\",\"colorbar\":{\"outlinewidth\":0,\"ticks\":\"\"}}],\"scatter\":[{\"marker\":{\"line\":{\"color\":\"#283442\"}},\"type\":\"scatter\"}],\"parcoords\":[{\"type\":\"parcoords\",\"line\":{\"colorbar\":{\"outlinewidth\":0,\"ticks\":\"\"}}}],\"scatterpolargl\":[{\"type\":\"scatterpolargl\",\"marker\":{\"colorbar\":{\"outlinewidth\":0,\"ticks\":\"\"}}}],\"bar\":[{\"error_x\":{\"color\":\"#f2f5fa\"},\"error_y\":{\"color\":\"#f2f5fa\"},\"marker\":{\"line\":{\"color\":\"rgb(17,17,17)\",\"width\":0.5},\"pattern\":{\"fillmode\":\"overlay\",\"size\":10,\"solidity\":0.2}},\"type\":\"bar\"}],\"scattergeo\":[{\"type\":\"scattergeo\",\"marker\":{\"colorbar\":{\"outlinewidth\":0,\"ticks\":\"\"}}}],\"scatterpolar\":[{\"type\":\"scatterpolar\",\"marker\":{\"colorbar\":{\"outlinewidth\":0,\"ticks\":\"\"}}}],\"histogram\":[{\"marker\":{\"pattern\":{\"fillmode\":\"overlay\",\"size\":10,\"solidity\":0.2}},\"type\":\"histogram\"}],\"scattergl\":[{\"marker\":{\"line\":{\"color\":\"#283442\"}},\"type\":\"scattergl\"}],\"scatter3d\":[{\"type\":\"scatter3d\",\"line\":{\"colorbar\":{\"outlinewidth\":0,\"ticks\":\"\"}},\"marker\":{\"colorbar\":{\"outlinewidth\":0,\"ticks\":\"\"}}}],\"scattermapbox\":[{\"type\":\"scattermapbox\",\"marker\":{\"colorbar\":{\"outlinewidth\":0,\"ticks\":\"\"}}}],\"scatterternary\":[{\"type\":\"scatterternary\",\"marker\":{\"colorbar\":{\"outlinewidth\":0,\"ticks\":\"\"}}}],\"scattercarpet\":[{\"type\":\"scattercarpet\",\"marker\":{\"colorbar\":{\"outlinewidth\":0,\"ticks\":\"\"}}}],\"carpet\":[{\"aaxis\":{\"endlinecolor\":\"#A2B1C6\",\"gridcolor\":\"#506784\",\"linecolor\":\"#506784\",\"minorgridcolor\":\"#506784\",\"startlinecolor\":\"#A2B1C6\"},\"baxis\":{\"endlinecolor\":\"#A2B1C6\",\"gridcolor\":\"#506784\",\"linecolor\":\"#506784\",\"minorgridcolor\":\"#506784\",\"startlinecolor\":\"#A2B1C6\"},\"type\":\"carpet\"}],\"table\":[{\"cells\":{\"fill\":{\"color\":\"#506784\"},\"line\":{\"color\":\"rgb(17,17,17)\"}},\"header\":{\"fill\":{\"color\":\"#2a3f5f\"},\"line\":{\"color\":\"rgb(17,17,17)\"}},\"type\":\"table\"}],\"barpolar\":[{\"marker\":{\"line\":{\"color\":\"rgb(17,17,17)\",\"width\":0.5},\"pattern\":{\"fillmode\":\"overlay\",\"size\":10,\"solidity\":0.2}},\"type\":\"barpolar\"}],\"pie\":[{\"automargin\":true,\"type\":\"pie\"}]},\"layout\":{\"autotypenumbers\":\"strict\",\"colorway\":[\"#636efa\",\"#EF553B\",\"#00cc96\",\"#ab63fa\",\"#FFA15A\",\"#19d3f3\",\"#FF6692\",\"#B6E880\",\"#FF97FF\",\"#FECB52\"],\"font\":{\"color\":\"#f2f5fa\"},\"hovermode\":\"closest\",\"hoverlabel\":{\"align\":\"left\"},\"paper_bgcolor\":\"rgb(17,17,17)\",\"plot_bgcolor\":\"rgb(17,17,17)\",\"polar\":{\"bgcolor\":\"rgb(17,17,17)\",\"angularaxis\":{\"gridcolor\":\"#506784\",\"linecolor\":\"#506784\",\"ticks\":\"\"},\"radialaxis\":{\"gridcolor\":\"#506784\",\"linecolor\":\"#506784\",\"ticks\":\"\"}},\"ternary\":{\"bgcolor\":\"rgb(17,17,17)\",\"aaxis\":{\"gridcolor\":\"#506784\",\"linecolor\":\"#506784\",\"ticks\":\"\"},\"baxis\":{\"gridcolor\":\"#506784\",\"linecolor\":\"#506784\",\"ticks\":\"\"},\"caxis\":{\"gridcolor\":\"#506784\",\"linecolor\":\"#506784\",\"ticks\":\"\"}},\"coloraxis\":{\"colorbar\":{\"outlinewidth\":0,\"ticks\":\"\"}},\"colorscale\":{\"sequential\":[[0.0,\"#0d0887\"],[0.1111111111111111,\"#46039f\"],[0.2222222222222222,\"#7201a8\"],[0.3333333333333333,\"#9c179e\"],[0.4444444444444444,\"#bd3786\"],[0.5555555555555556,\"#d8576b\"],[0.6666666666666666,\"#ed7953\"],[0.7777777777777778,\"#fb9f3a\"],[0.8888888888888888,\"#fdca26\"],[1.0,\"#f0f921\"]],\"sequentialminus\":[[0.0,\"#0d0887\"],[0.1111111111111111,\"#46039f\"],[0.2222222222222222,\"#7201a8\"],[0.3333333333333333,\"#9c179e\"],[0.4444444444444444,\"#bd3786\"],[0.5555555555555556,\"#d8576b\"],[0.6666666666666666,\"#ed7953\"],[0.7777777777777778,\"#fb9f3a\"],[0.8888888888888888,\"#fdca26\"],[1.0,\"#f0f921\"]],\"diverging\":[[0,\"#8e0152\"],[0.1,\"#c51b7d\"],[0.2,\"#de77ae\"],[0.3,\"#f1b6da\"],[0.4,\"#fde0ef\"],[0.5,\"#f7f7f7\"],[0.6,\"#e6f5d0\"],[0.7,\"#b8e186\"],[0.8,\"#7fbc41\"],[0.9,\"#4d9221\"],[1,\"#276419\"]]},\"xaxis\":{\"gridcolor\":\"#283442\",\"linecolor\":\"#506784\",\"ticks\":\"\",\"title\":{\"standoff\":15},\"zerolinecolor\":\"#283442\",\"automargin\":true,\"zerolinewidth\":2},\"yaxis\":{\"gridcolor\":\"#283442\",\"linecolor\":\"#506784\",\"ticks\":\"\",\"title\":{\"standoff\":15},\"zerolinecolor\":\"#283442\",\"automargin\":true,\"zerolinewidth\":2},\"scene\":{\"xaxis\":{\"backgroundcolor\":\"rgb(17,17,17)\",\"gridcolor\":\"#506784\",\"linecolor\":\"#506784\",\"showbackground\":true,\"ticks\":\"\",\"zerolinecolor\":\"#C8D4E3\",\"gridwidth\":2},\"yaxis\":{\"backgroundcolor\":\"rgb(17,17,17)\",\"gridcolor\":\"#506784\",\"linecolor\":\"#506784\",\"showbackground\":true,\"ticks\":\"\",\"zerolinecolor\":\"#C8D4E3\",\"gridwidth\":2},\"zaxis\":{\"backgroundcolor\":\"rgb(17,17,17)\",\"gridcolor\":\"#506784\",\"linecolor\":\"#506784\",\"showbackground\":true,\"ticks\":\"\",\"zerolinecolor\":\"#C8D4E3\",\"gridwidth\":2}},\"shapedefaults\":{\"line\":{\"color\":\"#f2f5fa\"}},\"annotationdefaults\":{\"arrowcolor\":\"#f2f5fa\",\"arrowhead\":0,\"arrowwidth\":1},\"geo\":{\"bgcolor\":\"rgb(17,17,17)\",\"landcolor\":\"rgb(17,17,17)\",\"subunitcolor\":\"#506784\",\"showland\":true,\"showlakes\":true,\"lakecolor\":\"rgb(17,17,17)\"},\"title\":{\"x\":0.05},\"updatemenudefaults\":{\"bgcolor\":\"#506784\",\"borderwidth\":0},\"sliderdefaults\":{\"bgcolor\":\"#C8D4E3\",\"borderwidth\":1,\"bordercolor\":\"rgb(17,17,17)\",\"tickwidth\":0},\"mapbox\":{\"style\":\"dark\"}}},\"hovermode\":\"x\"},                        {\"responsive\": true}                    ).then(function(){\n                            \nvar gd = document.getElementById('d3315df2-a0dc-46fb-86d8-e981eefd89e6');\nvar x = new MutationObserver(function (mutations, observer) {{\n        var display = window.getComputedStyle(gd).display;\n        if (!display || display === 'none') {{\n            console.log([gd, 'removed!']);\n            Plotly.purge(gd);\n            observer.disconnect();\n        }}\n}});\n\n// Listen for the removal of the full notebook cells\nvar notebookContainer = gd.closest('#notebook-container');\nif (notebookContainer) {{\n    x.observe(notebookContainer, {childList: true});\n}}\n\n// Listen for the clearing of the current output cell\nvar outputEl = gd.closest('.output');\nif (outputEl) {{\n    x.observe(outputEl, {childList: true});\n}}\n\n                        })                };                });            </script>        </div>"
     },
     "metadata": {},
     "output_type": "display_data"
    },
    {
     "data": {
      "application/vnd.plotly.v1+json": {
       "data": [
        {
         "mode": "lines",
         "x": [
          1489.670166015625,
          1488.5650634765625,
          1487.459716796875,
          1486.354248046875,
          1485.24853515625,
          1484.142578125,
          1483.0364990234375,
          1481.93017578125,
          1480.8236083984375,
          1479.7169189453125,
          1478.6099853515625,
          1477.5028076171875,
          1476.3955078125,
          1475.2879638671875,
          1474.1802978515625,
          1473.0723876953125,
          1471.9642333984375,
          1470.8558349609375,
          1469.747314453125,
          1468.638671875,
          1467.5296630859375,
          1466.4205322265625,
          1465.311279296875,
          1464.20166015625,
          1463.0919189453125,
          1461.9820556640625,
          1460.8719482421875,
          1459.7615966796875,
          1458.6510009765625,
          1457.540283203125,
          1456.4293212890625,
          1455.3182373046875,
          1454.2069091796875,
          1453.0953369140625,
          1451.983642578125,
          1450.8717041015625,
          1449.759521484375,
          1448.647216796875,
          1447.53466796875,
          1446.421875,
          1445.3089599609375,
          1444.19580078125,
          1443.0823974609375,
          1441.9688720703125,
          1440.8551025390625,
          1439.7410888671875,
          1438.626953125,
          1437.5125732421875,
          1436.3980712890625,
          1435.2833251953125,
          1434.1683349609375,
          1433.0531005859375,
          1431.937744140625,
          1430.8221435546875,
          1429.7064208984375,
          1428.5904541015625,
          1427.4742431640625,
          1426.35791015625,
          1425.2412109375,
          1424.12451171875,
          1423.0074462890625,
          1421.8902587890625,
          1420.7728271484375,
          1419.6552734375,
          1418.5374755859375,
          1417.41943359375,
          1416.30126953125,
          1415.182861328125,
          1414.064208984375,
          1412.9454345703125,
          1411.826416015625,
          1410.7071533203125,
          1409.587646484375,
          1408.468017578125,
          1407.3482666015625,
          1406.2281494140625,
          1405.10791015625,
          1403.9874267578125,
          1402.8668212890625,
          1401.7459716796875,
          1400.6248779296875,
          1399.503662109375,
          1398.3822021484375,
          1397.260498046875,
          1396.1385498046875,
          1395.0164794921875,
          1393.894287109375,
          1392.771728515625,
          1391.6490478515625,
          1390.526123046875,
          1389.403076171875,
          1388.2796630859375,
          1387.15625,
          1386.032470703125,
          1384.9085693359375,
          1383.784423828125,
          1382.6600341796875,
          1381.5355224609375,
          1380.4107666015625,
          1379.2857666015625,
          1378.16064453125,
          1377.0352783203125,
          1375.90966796875,
          1374.783935546875,
          1373.657958984375,
          1372.53173828125,
          1371.4053955078125,
          1370.27880859375,
          1369.1519775390625,
          1368.02490234375,
          1366.897705078125,
          1365.770263671875,
          1364.6427001953125,
          1363.5147705078125,
          1362.38671875,
          1361.258544921875,
          1360.1300048828125,
          1359.0013427734375,
          1357.87255859375,
          1356.743408203125,
          1355.6141357421875,
          1354.484619140625,
          1353.35498046875,
          1352.22509765625,
          1351.094970703125,
          1349.964599609375,
          1348.8341064453125,
          1347.703369140625,
          1346.5723876953125,
          1345.441162109375,
          1344.309814453125,
          1343.17822265625,
          1342.0465087890625,
          1340.91455078125,
          1339.7823486328125,
          1338.64990234375,
          1337.517333984375,
          1336.384521484375,
          1335.25146484375,
          1334.1181640625,
          1332.9847412109375,
          1331.85107421875,
          1330.7171630859375,
          1329.5831298828125,
          1328.4488525390625,
          1327.3143310546875,
          1326.1796875,
          1325.0447998046875,
          1323.90966796875,
          1322.7742919921875,
          1321.6387939453125,
          1320.5029296875,
          1319.3670654296875,
          1318.2308349609375,
          1317.094482421875,
          1315.9578857421875,
          1314.821044921875,
          1313.68408203125,
          1312.546875,
          1311.409423828125,
          1310.271728515625,
          1309.1339111328125,
          1307.995849609375,
          1306.8575439453125,
          1305.718994140625,
          1304.580322265625,
          1303.44140625,
          1302.3023681640625,
          1301.1629638671875,
          1300.0234375,
          1298.8836669921875,
          1297.74365234375,
          1296.603515625,
          1295.463134765625,
          1294.322509765625,
          1293.181640625,
          1292.0406494140625,
          1290.8994140625,
          1289.7579345703125,
          1288.6163330078125,
          1287.474365234375,
          1286.332275390625,
          1285.1900634765625,
          1284.0474853515625,
          1282.90478515625,
          1281.7618408203125,
          1280.61865234375,
          1279.475341796875,
          1278.3316650390625,
          1277.1878662109375,
          1276.0439453125,
          1274.899658203125,
          1273.7552490234375,
          1272.610595703125,
          1271.4656982421875,
          1270.3206787109375,
          1269.17529296875,
          1268.02978515625,
          1266.8841552734375
         ],
         "y": [
          -5743.934042429738,
          -5764.564177136801,
          -5723.436250644998,
          -5718.264450082185,
          -5736.796448767655,
          -5705.365367612125,
          -5714.81807975622,
          -5701.359522212966,
          -5701.896654091143,
          -5700.346222281744,
          -5700.454587386598,
          -5681.19432587622,
          -5694.015001642907,
          -5619.8849851814475,
          -5653.938575635669,
          -5642.599041742731,
          -5681.998891196552,
          -5635.912962330581,
          -5688.460893075735,
          -5691.355975342869,
          -5732.305061621049,
          -5726.730379106957,
          -5715.073251297305,
          -5729.409242494047,
          -5788.687855609527,
          -5752.344012466365,
          -5755.90363678068,
          -5766.412937223219,
          -5795.961978522393,
          -5761.895546321915,
          -5804.472469113723,
          -5805.16350791998,
          -5812.396753238868,
          -5849.458993718618,
          -5849.112947800432,
          -5889.417513915323,
          -5884.350003742008,
          -5893.1910345992155,
          -5888.662656686385,
          -5928.645856201495,
          -5942.4227334364095,
          -5949.713748530958,
          -6005.314999821283,
          -5984.67234313708,
          -6083.380527220728,
          -6068.523565511866,
          -6101.342670485311,
          -6151.840992371203,
          -6190.4956414422895,
          -6186.785196890048,
          -6272.109543411225,
          -6286.995271462466,
          -6352.129690053727,
          -6386.185041818637,
          -6458.204254589916,
          -6444.808066325772,
          -6561.096114934595,
          -6600.077587231213,
          -6658.082002655971,
          -6740.323676085222,
          -6873.148110031672,
          -6902.64092676708,
          -7044.9433641748,
          -7161.724123985234,
          -7294.915323775892,
          -7411.596649015341,
          -7575.175061884123,
          -7733.800365245337,
          -7964.402931198431,
          -8156.316386610524,
          -8460.535322183323,
          -8692.763355573215,
          -9092.098804176818,
          -9560.069296914206,
          -10125.076567990753,
          -10809.244131514284,
          -11699.909611804698,
          -12782.803860235661,
          -14226.875738486127,
          -16165.13770083018,
          -18982.933821925984,
          -23017.482550132798,
          -29455.938155063315,
          -39764.70553736428,
          -58076.11358834056,
          -91611.74531985846,
          -148416.20950659717,
          -206922.16569438938,
          -206210.91936032532,
          -153819.90643397093,
          -100784.75467245087,
          -64632.23620499704,
          -43388.6530775,
          -31328.722875747782,
          -24532.816214848066,
          -20369.472421388287,
          -17761.291612161556,
          -16019.059355409454,
          -14846.65576308308,
          -13922.57111411268,
          -13433.295439127822,
          -13008.895700644589,
          -12763.844713838473,
          -12595.656429451356,
          -12629.929236942991,
          -12647.825980368809,
          -12738.059333965533,
          -12836.035963988112,
          -12944.74184506438,
          -13088.097005465288,
          -13283.688160146286,
          -13453.279969291094,
          -13726.7315413213,
          -13902.41106861341,
          -14206.323612508786,
          -14453.638072279144,
          -14871.53488583378,
          -15202.06299820556,
          -15673.39653081145,
          -16173.707705177108,
          -16745.940481356545,
          -17300.975194586477,
          -17844.292888393087,
          -18440.671855362772,
          -18949.177956355747,
          -19465.59929992761,
          -20009.477861780044,
          -20288.773534341253,
          -20601.022615066304,
          -20769.848729439695,
          -20817.62536694901,
          -20627.702287236192,
          -20340.33647982206,
          -19949.044604169358,
          -19435.20463525642,
          -18807.24501836537,
          -18249.850035894193,
          -17586.601996885864,
          -16846.06466050224,
          -16221.459661714653,
          -15552.867381665596,
          -14947.647417667826,
          -14441.637728933174,
          -13936.62370702474,
          -13410.053890901121,
          -12940.470643423325,
          -12510.434252754063,
          -12089.032311956726,
          -11793.517282503972,
          -11397.657848743347,
          -11053.539902922941,
          -10731.483775265222,
          -10452.062430318107,
          -10154.694441167618,
          -9934.37349457805,
          -9666.189882865603,
          -9443.774333299634,
          -9161.385847940293,
          -8974.670412745567,
          -8726.458027224522,
          -8565.821487611838,
          -8433.875098247714,
          -8248.45192121211,
          -8081.499025992233,
          -7916.6641490255915,
          -7770.94361532562,
          -7619.768938757248,
          -7495.177607774513,
          -7369.794797191189,
          -7226.914527265431,
          -7118.5608659020445,
          -7024.438826283903,
          -6989.398268345353,
          -6854.87596875237,
          -6821.497190881167,
          -6712.454507142701,
          -6641.435323771171,
          -6534.707291757381,
          -6490.579444360389,
          -6342.838171087817,
          -6319.708431694947,
          -6195.524485457557,
          -6160.012292534605,
          -6114.910159262836,
          -6063.392335547279,
          -6019.325066287904,
          -6021.48457136173,
          -5976.725664618647,
          -5976.308299241691,
          -5917.967583231161,
          -5856.035107258445,
          -5781.640628878666,
          -5737.747328075147,
          -5664.226753965538,
          -5611.280051143382,
          -5564.610047067537,
          -5556.626961509217,
          -5497.698075894621,
          -5469.863151088477
         ],
         "type": "scatter"
        },
        {
         "mode": "lines",
         "x": [
          1359.0013427734375,
          1357.87255859375,
          1356.743408203125,
          1355.6141357421875,
          1354.484619140625,
          1353.35498046875,
          1352.22509765625,
          1351.094970703125,
          1349.964599609375,
          1348.8341064453125,
          1347.703369140625,
          1346.5723876953125,
          1345.441162109375,
          1344.309814453125,
          1343.17822265625,
          1342.0465087890625,
          1340.91455078125,
          1339.7823486328125,
          1338.64990234375,
          1337.517333984375,
          1336.384521484375,
          1335.25146484375,
          1334.1181640625,
          1332.9847412109375,
          1331.85107421875,
          1330.7171630859375
         ],
         "y": [
          -14940.144756142501,
          -15490.49655615629,
          -16070.907584770841,
          -16675.55829430466,
          -17295.856830918543,
          -17919.648091991432,
          -18531.227756559365,
          -19111.283543651527,
          -19637.682875811704,
          -20086.847241507447,
          -20436.000946603577,
          -20665.540895164035,
          -20761.64270955477,
          -20718.258848430414,
          -20538.031164812593,
          -20231.908691155233,
          -19817.465674477964,
          -19316.580753267634,
          -18752.817255518967,
          -18149.172249907406,
          -17526.172854804914,
          -16901.07009315397,
          -16287.422500218494,
          -15695.273114435298,
          -15131.361262063321,
          -14599.862360149611
         ],
         "type": "scatter"
        }
       ],
       "layout": {
        "template": {
         "data": {
          "histogram2dcontour": [
           {
            "type": "histogram2dcontour",
            "colorbar": {
             "outlinewidth": 0,
             "ticks": ""
            },
            "colorscale": [
             [
              0.0,
              "#0d0887"
             ],
             [
              0.1111111111111111,
              "#46039f"
             ],
             [
              0.2222222222222222,
              "#7201a8"
             ],
             [
              0.3333333333333333,
              "#9c179e"
             ],
             [
              0.4444444444444444,
              "#bd3786"
             ],
             [
              0.5555555555555556,
              "#d8576b"
             ],
             [
              0.6666666666666666,
              "#ed7953"
             ],
             [
              0.7777777777777778,
              "#fb9f3a"
             ],
             [
              0.8888888888888888,
              "#fdca26"
             ],
             [
              1.0,
              "#f0f921"
             ]
            ]
           }
          ],
          "choropleth": [
           {
            "type": "choropleth",
            "colorbar": {
             "outlinewidth": 0,
             "ticks": ""
            }
           }
          ],
          "histogram2d": [
           {
            "type": "histogram2d",
            "colorbar": {
             "outlinewidth": 0,
             "ticks": ""
            },
            "colorscale": [
             [
              0.0,
              "#0d0887"
             ],
             [
              0.1111111111111111,
              "#46039f"
             ],
             [
              0.2222222222222222,
              "#7201a8"
             ],
             [
              0.3333333333333333,
              "#9c179e"
             ],
             [
              0.4444444444444444,
              "#bd3786"
             ],
             [
              0.5555555555555556,
              "#d8576b"
             ],
             [
              0.6666666666666666,
              "#ed7953"
             ],
             [
              0.7777777777777778,
              "#fb9f3a"
             ],
             [
              0.8888888888888888,
              "#fdca26"
             ],
             [
              1.0,
              "#f0f921"
             ]
            ]
           }
          ],
          "heatmap": [
           {
            "type": "heatmap",
            "colorbar": {
             "outlinewidth": 0,
             "ticks": ""
            },
            "colorscale": [
             [
              0.0,
              "#0d0887"
             ],
             [
              0.1111111111111111,
              "#46039f"
             ],
             [
              0.2222222222222222,
              "#7201a8"
             ],
             [
              0.3333333333333333,
              "#9c179e"
             ],
             [
              0.4444444444444444,
              "#bd3786"
             ],
             [
              0.5555555555555556,
              "#d8576b"
             ],
             [
              0.6666666666666666,
              "#ed7953"
             ],
             [
              0.7777777777777778,
              "#fb9f3a"
             ],
             [
              0.8888888888888888,
              "#fdca26"
             ],
             [
              1.0,
              "#f0f921"
             ]
            ]
           }
          ],
          "heatmapgl": [
           {
            "type": "heatmapgl",
            "colorbar": {
             "outlinewidth": 0,
             "ticks": ""
            },
            "colorscale": [
             [
              0.0,
              "#0d0887"
             ],
             [
              0.1111111111111111,
              "#46039f"
             ],
             [
              0.2222222222222222,
              "#7201a8"
             ],
             [
              0.3333333333333333,
              "#9c179e"
             ],
             [
              0.4444444444444444,
              "#bd3786"
             ],
             [
              0.5555555555555556,
              "#d8576b"
             ],
             [
              0.6666666666666666,
              "#ed7953"
             ],
             [
              0.7777777777777778,
              "#fb9f3a"
             ],
             [
              0.8888888888888888,
              "#fdca26"
             ],
             [
              1.0,
              "#f0f921"
             ]
            ]
           }
          ],
          "contourcarpet": [
           {
            "type": "contourcarpet",
            "colorbar": {
             "outlinewidth": 0,
             "ticks": ""
            }
           }
          ],
          "contour": [
           {
            "type": "contour",
            "colorbar": {
             "outlinewidth": 0,
             "ticks": ""
            },
            "colorscale": [
             [
              0.0,
              "#0d0887"
             ],
             [
              0.1111111111111111,
              "#46039f"
             ],
             [
              0.2222222222222222,
              "#7201a8"
             ],
             [
              0.3333333333333333,
              "#9c179e"
             ],
             [
              0.4444444444444444,
              "#bd3786"
             ],
             [
              0.5555555555555556,
              "#d8576b"
             ],
             [
              0.6666666666666666,
              "#ed7953"
             ],
             [
              0.7777777777777778,
              "#fb9f3a"
             ],
             [
              0.8888888888888888,
              "#fdca26"
             ],
             [
              1.0,
              "#f0f921"
             ]
            ]
           }
          ],
          "surface": [
           {
            "type": "surface",
            "colorbar": {
             "outlinewidth": 0,
             "ticks": ""
            },
            "colorscale": [
             [
              0.0,
              "#0d0887"
             ],
             [
              0.1111111111111111,
              "#46039f"
             ],
             [
              0.2222222222222222,
              "#7201a8"
             ],
             [
              0.3333333333333333,
              "#9c179e"
             ],
             [
              0.4444444444444444,
              "#bd3786"
             ],
             [
              0.5555555555555556,
              "#d8576b"
             ],
             [
              0.6666666666666666,
              "#ed7953"
             ],
             [
              0.7777777777777778,
              "#fb9f3a"
             ],
             [
              0.8888888888888888,
              "#fdca26"
             ],
             [
              1.0,
              "#f0f921"
             ]
            ]
           }
          ],
          "mesh3d": [
           {
            "type": "mesh3d",
            "colorbar": {
             "outlinewidth": 0,
             "ticks": ""
            }
           }
          ],
          "scatter": [
           {
            "marker": {
             "line": {
              "color": "#283442"
             }
            },
            "type": "scatter"
           }
          ],
          "parcoords": [
           {
            "type": "parcoords",
            "line": {
             "colorbar": {
              "outlinewidth": 0,
              "ticks": ""
             }
            }
           }
          ],
          "scatterpolargl": [
           {
            "type": "scatterpolargl",
            "marker": {
             "colorbar": {
              "outlinewidth": 0,
              "ticks": ""
             }
            }
           }
          ],
          "bar": [
           {
            "error_x": {
             "color": "#f2f5fa"
            },
            "error_y": {
             "color": "#f2f5fa"
            },
            "marker": {
             "line": {
              "color": "rgb(17,17,17)",
              "width": 0.5
             },
             "pattern": {
              "fillmode": "overlay",
              "size": 10,
              "solidity": 0.2
             }
            },
            "type": "bar"
           }
          ],
          "scattergeo": [
           {
            "type": "scattergeo",
            "marker": {
             "colorbar": {
              "outlinewidth": 0,
              "ticks": ""
             }
            }
           }
          ],
          "scatterpolar": [
           {
            "type": "scatterpolar",
            "marker": {
             "colorbar": {
              "outlinewidth": 0,
              "ticks": ""
             }
            }
           }
          ],
          "histogram": [
           {
            "marker": {
             "pattern": {
              "fillmode": "overlay",
              "size": 10,
              "solidity": 0.2
             }
            },
            "type": "histogram"
           }
          ],
          "scattergl": [
           {
            "marker": {
             "line": {
              "color": "#283442"
             }
            },
            "type": "scattergl"
           }
          ],
          "scatter3d": [
           {
            "type": "scatter3d",
            "line": {
             "colorbar": {
              "outlinewidth": 0,
              "ticks": ""
             }
            },
            "marker": {
             "colorbar": {
              "outlinewidth": 0,
              "ticks": ""
             }
            }
           }
          ],
          "scattermapbox": [
           {
            "type": "scattermapbox",
            "marker": {
             "colorbar": {
              "outlinewidth": 0,
              "ticks": ""
             }
            }
           }
          ],
          "scatterternary": [
           {
            "type": "scatterternary",
            "marker": {
             "colorbar": {
              "outlinewidth": 0,
              "ticks": ""
             }
            }
           }
          ],
          "scattercarpet": [
           {
            "type": "scattercarpet",
            "marker": {
             "colorbar": {
              "outlinewidth": 0,
              "ticks": ""
             }
            }
           }
          ],
          "carpet": [
           {
            "aaxis": {
             "endlinecolor": "#A2B1C6",
             "gridcolor": "#506784",
             "linecolor": "#506784",
             "minorgridcolor": "#506784",
             "startlinecolor": "#A2B1C6"
            },
            "baxis": {
             "endlinecolor": "#A2B1C6",
             "gridcolor": "#506784",
             "linecolor": "#506784",
             "minorgridcolor": "#506784",
             "startlinecolor": "#A2B1C6"
            },
            "type": "carpet"
           }
          ],
          "table": [
           {
            "cells": {
             "fill": {
              "color": "#506784"
             },
             "line": {
              "color": "rgb(17,17,17)"
             }
            },
            "header": {
             "fill": {
              "color": "#2a3f5f"
             },
             "line": {
              "color": "rgb(17,17,17)"
             }
            },
            "type": "table"
           }
          ],
          "barpolar": [
           {
            "marker": {
             "line": {
              "color": "rgb(17,17,17)",
              "width": 0.5
             },
             "pattern": {
              "fillmode": "overlay",
              "size": 10,
              "solidity": 0.2
             }
            },
            "type": "barpolar"
           }
          ],
          "pie": [
           {
            "automargin": true,
            "type": "pie"
           }
          ]
         },
         "layout": {
          "autotypenumbers": "strict",
          "colorway": [
           "#636efa",
           "#EF553B",
           "#00cc96",
           "#ab63fa",
           "#FFA15A",
           "#19d3f3",
           "#FF6692",
           "#B6E880",
           "#FF97FF",
           "#FECB52"
          ],
          "font": {
           "color": "#f2f5fa"
          },
          "hovermode": "closest",
          "hoverlabel": {
           "align": "left"
          },
          "paper_bgcolor": "rgb(17,17,17)",
          "plot_bgcolor": "rgb(17,17,17)",
          "polar": {
           "bgcolor": "rgb(17,17,17)",
           "angularaxis": {
            "gridcolor": "#506784",
            "linecolor": "#506784",
            "ticks": ""
           },
           "radialaxis": {
            "gridcolor": "#506784",
            "linecolor": "#506784",
            "ticks": ""
           }
          },
          "ternary": {
           "bgcolor": "rgb(17,17,17)",
           "aaxis": {
            "gridcolor": "#506784",
            "linecolor": "#506784",
            "ticks": ""
           },
           "baxis": {
            "gridcolor": "#506784",
            "linecolor": "#506784",
            "ticks": ""
           },
           "caxis": {
            "gridcolor": "#506784",
            "linecolor": "#506784",
            "ticks": ""
           }
          },
          "coloraxis": {
           "colorbar": {
            "outlinewidth": 0,
            "ticks": ""
           }
          },
          "colorscale": {
           "sequential": [
            [
             0.0,
             "#0d0887"
            ],
            [
             0.1111111111111111,
             "#46039f"
            ],
            [
             0.2222222222222222,
             "#7201a8"
            ],
            [
             0.3333333333333333,
             "#9c179e"
            ],
            [
             0.4444444444444444,
             "#bd3786"
            ],
            [
             0.5555555555555556,
             "#d8576b"
            ],
            [
             0.6666666666666666,
             "#ed7953"
            ],
            [
             0.7777777777777778,
             "#fb9f3a"
            ],
            [
             0.8888888888888888,
             "#fdca26"
            ],
            [
             1.0,
             "#f0f921"
            ]
           ],
           "sequentialminus": [
            [
             0.0,
             "#0d0887"
            ],
            [
             0.1111111111111111,
             "#46039f"
            ],
            [
             0.2222222222222222,
             "#7201a8"
            ],
            [
             0.3333333333333333,
             "#9c179e"
            ],
            [
             0.4444444444444444,
             "#bd3786"
            ],
            [
             0.5555555555555556,
             "#d8576b"
            ],
            [
             0.6666666666666666,
             "#ed7953"
            ],
            [
             0.7777777777777778,
             "#fb9f3a"
            ],
            [
             0.8888888888888888,
             "#fdca26"
            ],
            [
             1.0,
             "#f0f921"
            ]
           ],
           "diverging": [
            [
             0,
             "#8e0152"
            ],
            [
             0.1,
             "#c51b7d"
            ],
            [
             0.2,
             "#de77ae"
            ],
            [
             0.3,
             "#f1b6da"
            ],
            [
             0.4,
             "#fde0ef"
            ],
            [
             0.5,
             "#f7f7f7"
            ],
            [
             0.6,
             "#e6f5d0"
            ],
            [
             0.7,
             "#b8e186"
            ],
            [
             0.8,
             "#7fbc41"
            ],
            [
             0.9,
             "#4d9221"
            ],
            [
             1,
             "#276419"
            ]
           ]
          },
          "xaxis": {
           "gridcolor": "#283442",
           "linecolor": "#506784",
           "ticks": "",
           "title": {
            "standoff": 15
           },
           "zerolinecolor": "#283442",
           "automargin": true,
           "zerolinewidth": 2
          },
          "yaxis": {
           "gridcolor": "#283442",
           "linecolor": "#506784",
           "ticks": "",
           "title": {
            "standoff": 15
           },
           "zerolinecolor": "#283442",
           "automargin": true,
           "zerolinewidth": 2
          },
          "scene": {
           "xaxis": {
            "backgroundcolor": "rgb(17,17,17)",
            "gridcolor": "#506784",
            "linecolor": "#506784",
            "showbackground": true,
            "ticks": "",
            "zerolinecolor": "#C8D4E3",
            "gridwidth": 2
           },
           "yaxis": {
            "backgroundcolor": "rgb(17,17,17)",
            "gridcolor": "#506784",
            "linecolor": "#506784",
            "showbackground": true,
            "ticks": "",
            "zerolinecolor": "#C8D4E3",
            "gridwidth": 2
           },
           "zaxis": {
            "backgroundcolor": "rgb(17,17,17)",
            "gridcolor": "#506784",
            "linecolor": "#506784",
            "showbackground": true,
            "ticks": "",
            "zerolinecolor": "#C8D4E3",
            "gridwidth": 2
           }
          },
          "shapedefaults": {
           "line": {
            "color": "#f2f5fa"
           }
          },
          "annotationdefaults": {
           "arrowcolor": "#f2f5fa",
           "arrowhead": 0,
           "arrowwidth": 1
          },
          "geo": {
           "bgcolor": "rgb(17,17,17)",
           "landcolor": "rgb(17,17,17)",
           "subunitcolor": "#506784",
           "showland": true,
           "showlakes": true,
           "lakecolor": "rgb(17,17,17)"
          },
          "title": {
           "x": 0.05
          },
          "updatemenudefaults": {
           "bgcolor": "#506784",
           "borderwidth": 0
          },
          "sliderdefaults": {
           "bgcolor": "#C8D4E3",
           "borderwidth": 1,
           "bordercolor": "rgb(17,17,17)",
           "tickwidth": 0
          },
          "mapbox": {
           "style": "dark"
          }
         }
        },
        "hovermode": "x"
       },
       "config": {
        "plotlyServerURL": "https://plot.ly"
       }
      },
      "text/html": "<div>                            <div id=\"89e88495-fa30-4970-88bb-2abfe793256b\" class=\"plotly-graph-div\" style=\"height:525px; width:100%;\"></div>            <script type=\"text/javascript\">                require([\"plotly\"], function(Plotly) {                    window.PLOTLYENV=window.PLOTLYENV || {};                                    if (document.getElementById(\"89e88495-fa30-4970-88bb-2abfe793256b\")) {                    Plotly.newPlot(                        \"89e88495-fa30-4970-88bb-2abfe793256b\",                        [{\"mode\":\"lines\",\"x\":[1489.670166015625,1488.5650634765625,1487.459716796875,1486.354248046875,1485.24853515625,1484.142578125,1483.0364990234375,1481.93017578125,1480.8236083984375,1479.7169189453125,1478.6099853515625,1477.5028076171875,1476.3955078125,1475.2879638671875,1474.1802978515625,1473.0723876953125,1471.9642333984375,1470.8558349609375,1469.747314453125,1468.638671875,1467.5296630859375,1466.4205322265625,1465.311279296875,1464.20166015625,1463.0919189453125,1461.9820556640625,1460.8719482421875,1459.7615966796875,1458.6510009765625,1457.540283203125,1456.4293212890625,1455.3182373046875,1454.2069091796875,1453.0953369140625,1451.983642578125,1450.8717041015625,1449.759521484375,1448.647216796875,1447.53466796875,1446.421875,1445.3089599609375,1444.19580078125,1443.0823974609375,1441.9688720703125,1440.8551025390625,1439.7410888671875,1438.626953125,1437.5125732421875,1436.3980712890625,1435.2833251953125,1434.1683349609375,1433.0531005859375,1431.937744140625,1430.8221435546875,1429.7064208984375,1428.5904541015625,1427.4742431640625,1426.35791015625,1425.2412109375,1424.12451171875,1423.0074462890625,1421.8902587890625,1420.7728271484375,1419.6552734375,1418.5374755859375,1417.41943359375,1416.30126953125,1415.182861328125,1414.064208984375,1412.9454345703125,1411.826416015625,1410.7071533203125,1409.587646484375,1408.468017578125,1407.3482666015625,1406.2281494140625,1405.10791015625,1403.9874267578125,1402.8668212890625,1401.7459716796875,1400.6248779296875,1399.503662109375,1398.3822021484375,1397.260498046875,1396.1385498046875,1395.0164794921875,1393.894287109375,1392.771728515625,1391.6490478515625,1390.526123046875,1389.403076171875,1388.2796630859375,1387.15625,1386.032470703125,1384.9085693359375,1383.784423828125,1382.6600341796875,1381.5355224609375,1380.4107666015625,1379.2857666015625,1378.16064453125,1377.0352783203125,1375.90966796875,1374.783935546875,1373.657958984375,1372.53173828125,1371.4053955078125,1370.27880859375,1369.1519775390625,1368.02490234375,1366.897705078125,1365.770263671875,1364.6427001953125,1363.5147705078125,1362.38671875,1361.258544921875,1360.1300048828125,1359.0013427734375,1357.87255859375,1356.743408203125,1355.6141357421875,1354.484619140625,1353.35498046875,1352.22509765625,1351.094970703125,1349.964599609375,1348.8341064453125,1347.703369140625,1346.5723876953125,1345.441162109375,1344.309814453125,1343.17822265625,1342.0465087890625,1340.91455078125,1339.7823486328125,1338.64990234375,1337.517333984375,1336.384521484375,1335.25146484375,1334.1181640625,1332.9847412109375,1331.85107421875,1330.7171630859375,1329.5831298828125,1328.4488525390625,1327.3143310546875,1326.1796875,1325.0447998046875,1323.90966796875,1322.7742919921875,1321.6387939453125,1320.5029296875,1319.3670654296875,1318.2308349609375,1317.094482421875,1315.9578857421875,1314.821044921875,1313.68408203125,1312.546875,1311.409423828125,1310.271728515625,1309.1339111328125,1307.995849609375,1306.8575439453125,1305.718994140625,1304.580322265625,1303.44140625,1302.3023681640625,1301.1629638671875,1300.0234375,1298.8836669921875,1297.74365234375,1296.603515625,1295.463134765625,1294.322509765625,1293.181640625,1292.0406494140625,1290.8994140625,1289.7579345703125,1288.6163330078125,1287.474365234375,1286.332275390625,1285.1900634765625,1284.0474853515625,1282.90478515625,1281.7618408203125,1280.61865234375,1279.475341796875,1278.3316650390625,1277.1878662109375,1276.0439453125,1274.899658203125,1273.7552490234375,1272.610595703125,1271.4656982421875,1270.3206787109375,1269.17529296875,1268.02978515625,1266.8841552734375],\"y\":[-5743.934042429738,-5764.564177136801,-5723.436250644998,-5718.264450082185,-5736.796448767655,-5705.365367612125,-5714.81807975622,-5701.359522212966,-5701.896654091143,-5700.346222281744,-5700.454587386598,-5681.19432587622,-5694.015001642907,-5619.8849851814475,-5653.938575635669,-5642.599041742731,-5681.998891196552,-5635.912962330581,-5688.460893075735,-5691.355975342869,-5732.305061621049,-5726.730379106957,-5715.073251297305,-5729.409242494047,-5788.687855609527,-5752.344012466365,-5755.90363678068,-5766.412937223219,-5795.961978522393,-5761.895546321915,-5804.472469113723,-5805.16350791998,-5812.396753238868,-5849.458993718618,-5849.112947800432,-5889.417513915323,-5884.350003742008,-5893.1910345992155,-5888.662656686385,-5928.645856201495,-5942.4227334364095,-5949.713748530958,-6005.314999821283,-5984.67234313708,-6083.380527220728,-6068.523565511866,-6101.342670485311,-6151.840992371203,-6190.4956414422895,-6186.785196890048,-6272.109543411225,-6286.995271462466,-6352.129690053727,-6386.185041818637,-6458.204254589916,-6444.808066325772,-6561.096114934595,-6600.077587231213,-6658.082002655971,-6740.323676085222,-6873.148110031672,-6902.64092676708,-7044.9433641748,-7161.724123985234,-7294.915323775892,-7411.596649015341,-7575.175061884123,-7733.800365245337,-7964.402931198431,-8156.316386610524,-8460.535322183323,-8692.763355573215,-9092.098804176818,-9560.069296914206,-10125.076567990753,-10809.244131514284,-11699.909611804698,-12782.803860235661,-14226.875738486127,-16165.13770083018,-18982.933821925984,-23017.482550132798,-29455.938155063315,-39764.70553736428,-58076.11358834056,-91611.74531985846,-148416.20950659717,-206922.16569438938,-206210.91936032532,-153819.90643397093,-100784.75467245087,-64632.23620499704,-43388.6530775,-31328.722875747782,-24532.816214848066,-20369.472421388287,-17761.291612161556,-16019.059355409454,-14846.65576308308,-13922.57111411268,-13433.295439127822,-13008.895700644589,-12763.844713838473,-12595.656429451356,-12629.929236942991,-12647.825980368809,-12738.059333965533,-12836.035963988112,-12944.74184506438,-13088.097005465288,-13283.688160146286,-13453.279969291094,-13726.7315413213,-13902.41106861341,-14206.323612508786,-14453.638072279144,-14871.53488583378,-15202.06299820556,-15673.39653081145,-16173.707705177108,-16745.940481356545,-17300.975194586477,-17844.292888393087,-18440.671855362772,-18949.177956355747,-19465.59929992761,-20009.477861780044,-20288.773534341253,-20601.022615066304,-20769.848729439695,-20817.62536694901,-20627.702287236192,-20340.33647982206,-19949.044604169358,-19435.20463525642,-18807.24501836537,-18249.850035894193,-17586.601996885864,-16846.06466050224,-16221.459661714653,-15552.867381665596,-14947.647417667826,-14441.637728933174,-13936.62370702474,-13410.053890901121,-12940.470643423325,-12510.434252754063,-12089.032311956726,-11793.517282503972,-11397.657848743347,-11053.539902922941,-10731.483775265222,-10452.062430318107,-10154.694441167618,-9934.37349457805,-9666.189882865603,-9443.774333299634,-9161.385847940293,-8974.670412745567,-8726.458027224522,-8565.821487611838,-8433.875098247714,-8248.45192121211,-8081.499025992233,-7916.6641490255915,-7770.94361532562,-7619.768938757248,-7495.177607774513,-7369.794797191189,-7226.914527265431,-7118.5608659020445,-7024.438826283903,-6989.398268345353,-6854.87596875237,-6821.497190881167,-6712.454507142701,-6641.435323771171,-6534.707291757381,-6490.579444360389,-6342.838171087817,-6319.708431694947,-6195.524485457557,-6160.012292534605,-6114.910159262836,-6063.392335547279,-6019.325066287904,-6021.48457136173,-5976.725664618647,-5976.308299241691,-5917.967583231161,-5856.035107258445,-5781.640628878666,-5737.747328075147,-5664.226753965538,-5611.280051143382,-5564.610047067537,-5556.626961509217,-5497.698075894621,-5469.863151088477],\"type\":\"scatter\"},{\"mode\":\"lines\",\"x\":[1359.0013427734375,1357.87255859375,1356.743408203125,1355.6141357421875,1354.484619140625,1353.35498046875,1352.22509765625,1351.094970703125,1349.964599609375,1348.8341064453125,1347.703369140625,1346.5723876953125,1345.441162109375,1344.309814453125,1343.17822265625,1342.0465087890625,1340.91455078125,1339.7823486328125,1338.64990234375,1337.517333984375,1336.384521484375,1335.25146484375,1334.1181640625,1332.9847412109375,1331.85107421875,1330.7171630859375],\"y\":[-14940.144756142501,-15490.49655615629,-16070.907584770841,-16675.55829430466,-17295.856830918543,-17919.648091991432,-18531.227756559365,-19111.283543651527,-19637.682875811704,-20086.847241507447,-20436.000946603577,-20665.540895164035,-20761.64270955477,-20718.258848430414,-20538.031164812593,-20231.908691155233,-19817.465674477964,-19316.580753267634,-18752.817255518967,-18149.172249907406,-17526.172854804914,-16901.07009315397,-16287.422500218494,-15695.273114435298,-15131.361262063321,-14599.862360149611],\"type\":\"scatter\"}],                        {\"template\":{\"data\":{\"histogram2dcontour\":[{\"type\":\"histogram2dcontour\",\"colorbar\":{\"outlinewidth\":0,\"ticks\":\"\"},\"colorscale\":[[0.0,\"#0d0887\"],[0.1111111111111111,\"#46039f\"],[0.2222222222222222,\"#7201a8\"],[0.3333333333333333,\"#9c179e\"],[0.4444444444444444,\"#bd3786\"],[0.5555555555555556,\"#d8576b\"],[0.6666666666666666,\"#ed7953\"],[0.7777777777777778,\"#fb9f3a\"],[0.8888888888888888,\"#fdca26\"],[1.0,\"#f0f921\"]]}],\"choropleth\":[{\"type\":\"choropleth\",\"colorbar\":{\"outlinewidth\":0,\"ticks\":\"\"}}],\"histogram2d\":[{\"type\":\"histogram2d\",\"colorbar\":{\"outlinewidth\":0,\"ticks\":\"\"},\"colorscale\":[[0.0,\"#0d0887\"],[0.1111111111111111,\"#46039f\"],[0.2222222222222222,\"#7201a8\"],[0.3333333333333333,\"#9c179e\"],[0.4444444444444444,\"#bd3786\"],[0.5555555555555556,\"#d8576b\"],[0.6666666666666666,\"#ed7953\"],[0.7777777777777778,\"#fb9f3a\"],[0.8888888888888888,\"#fdca26\"],[1.0,\"#f0f921\"]]}],\"heatmap\":[{\"type\":\"heatmap\",\"colorbar\":{\"outlinewidth\":0,\"ticks\":\"\"},\"colorscale\":[[0.0,\"#0d0887\"],[0.1111111111111111,\"#46039f\"],[0.2222222222222222,\"#7201a8\"],[0.3333333333333333,\"#9c179e\"],[0.4444444444444444,\"#bd3786\"],[0.5555555555555556,\"#d8576b\"],[0.6666666666666666,\"#ed7953\"],[0.7777777777777778,\"#fb9f3a\"],[0.8888888888888888,\"#fdca26\"],[1.0,\"#f0f921\"]]}],\"heatmapgl\":[{\"type\":\"heatmapgl\",\"colorbar\":{\"outlinewidth\":0,\"ticks\":\"\"},\"colorscale\":[[0.0,\"#0d0887\"],[0.1111111111111111,\"#46039f\"],[0.2222222222222222,\"#7201a8\"],[0.3333333333333333,\"#9c179e\"],[0.4444444444444444,\"#bd3786\"],[0.5555555555555556,\"#d8576b\"],[0.6666666666666666,\"#ed7953\"],[0.7777777777777778,\"#fb9f3a\"],[0.8888888888888888,\"#fdca26\"],[1.0,\"#f0f921\"]]}],\"contourcarpet\":[{\"type\":\"contourcarpet\",\"colorbar\":{\"outlinewidth\":0,\"ticks\":\"\"}}],\"contour\":[{\"type\":\"contour\",\"colorbar\":{\"outlinewidth\":0,\"ticks\":\"\"},\"colorscale\":[[0.0,\"#0d0887\"],[0.1111111111111111,\"#46039f\"],[0.2222222222222222,\"#7201a8\"],[0.3333333333333333,\"#9c179e\"],[0.4444444444444444,\"#bd3786\"],[0.5555555555555556,\"#d8576b\"],[0.6666666666666666,\"#ed7953\"],[0.7777777777777778,\"#fb9f3a\"],[0.8888888888888888,\"#fdca26\"],[1.0,\"#f0f921\"]]}],\"surface\":[{\"type\":\"surface\",\"colorbar\":{\"outlinewidth\":0,\"ticks\":\"\"},\"colorscale\":[[0.0,\"#0d0887\"],[0.1111111111111111,\"#46039f\"],[0.2222222222222222,\"#7201a8\"],[0.3333333333333333,\"#9c179e\"],[0.4444444444444444,\"#bd3786\"],[0.5555555555555556,\"#d8576b\"],[0.6666666666666666,\"#ed7953\"],[0.7777777777777778,\"#fb9f3a\"],[0.8888888888888888,\"#fdca26\"],[1.0,\"#f0f921\"]]}],\"mesh3d\":[{\"type\":\"mesh3d\",\"colorbar\":{\"outlinewidth\":0,\"ticks\":\"\"}}],\"scatter\":[{\"marker\":{\"line\":{\"color\":\"#283442\"}},\"type\":\"scatter\"}],\"parcoords\":[{\"type\":\"parcoords\",\"line\":{\"colorbar\":{\"outlinewidth\":0,\"ticks\":\"\"}}}],\"scatterpolargl\":[{\"type\":\"scatterpolargl\",\"marker\":{\"colorbar\":{\"outlinewidth\":0,\"ticks\":\"\"}}}],\"bar\":[{\"error_x\":{\"color\":\"#f2f5fa\"},\"error_y\":{\"color\":\"#f2f5fa\"},\"marker\":{\"line\":{\"color\":\"rgb(17,17,17)\",\"width\":0.5},\"pattern\":{\"fillmode\":\"overlay\",\"size\":10,\"solidity\":0.2}},\"type\":\"bar\"}],\"scattergeo\":[{\"type\":\"scattergeo\",\"marker\":{\"colorbar\":{\"outlinewidth\":0,\"ticks\":\"\"}}}],\"scatterpolar\":[{\"type\":\"scatterpolar\",\"marker\":{\"colorbar\":{\"outlinewidth\":0,\"ticks\":\"\"}}}],\"histogram\":[{\"marker\":{\"pattern\":{\"fillmode\":\"overlay\",\"size\":10,\"solidity\":0.2}},\"type\":\"histogram\"}],\"scattergl\":[{\"marker\":{\"line\":{\"color\":\"#283442\"}},\"type\":\"scattergl\"}],\"scatter3d\":[{\"type\":\"scatter3d\",\"line\":{\"colorbar\":{\"outlinewidth\":0,\"ticks\":\"\"}},\"marker\":{\"colorbar\":{\"outlinewidth\":0,\"ticks\":\"\"}}}],\"scattermapbox\":[{\"type\":\"scattermapbox\",\"marker\":{\"colorbar\":{\"outlinewidth\":0,\"ticks\":\"\"}}}],\"scatterternary\":[{\"type\":\"scatterternary\",\"marker\":{\"colorbar\":{\"outlinewidth\":0,\"ticks\":\"\"}}}],\"scattercarpet\":[{\"type\":\"scattercarpet\",\"marker\":{\"colorbar\":{\"outlinewidth\":0,\"ticks\":\"\"}}}],\"carpet\":[{\"aaxis\":{\"endlinecolor\":\"#A2B1C6\",\"gridcolor\":\"#506784\",\"linecolor\":\"#506784\",\"minorgridcolor\":\"#506784\",\"startlinecolor\":\"#A2B1C6\"},\"baxis\":{\"endlinecolor\":\"#A2B1C6\",\"gridcolor\":\"#506784\",\"linecolor\":\"#506784\",\"minorgridcolor\":\"#506784\",\"startlinecolor\":\"#A2B1C6\"},\"type\":\"carpet\"}],\"table\":[{\"cells\":{\"fill\":{\"color\":\"#506784\"},\"line\":{\"color\":\"rgb(17,17,17)\"}},\"header\":{\"fill\":{\"color\":\"#2a3f5f\"},\"line\":{\"color\":\"rgb(17,17,17)\"}},\"type\":\"table\"}],\"barpolar\":[{\"marker\":{\"line\":{\"color\":\"rgb(17,17,17)\",\"width\":0.5},\"pattern\":{\"fillmode\":\"overlay\",\"size\":10,\"solidity\":0.2}},\"type\":\"barpolar\"}],\"pie\":[{\"automargin\":true,\"type\":\"pie\"}]},\"layout\":{\"autotypenumbers\":\"strict\",\"colorway\":[\"#636efa\",\"#EF553B\",\"#00cc96\",\"#ab63fa\",\"#FFA15A\",\"#19d3f3\",\"#FF6692\",\"#B6E880\",\"#FF97FF\",\"#FECB52\"],\"font\":{\"color\":\"#f2f5fa\"},\"hovermode\":\"closest\",\"hoverlabel\":{\"align\":\"left\"},\"paper_bgcolor\":\"rgb(17,17,17)\",\"plot_bgcolor\":\"rgb(17,17,17)\",\"polar\":{\"bgcolor\":\"rgb(17,17,17)\",\"angularaxis\":{\"gridcolor\":\"#506784\",\"linecolor\":\"#506784\",\"ticks\":\"\"},\"radialaxis\":{\"gridcolor\":\"#506784\",\"linecolor\":\"#506784\",\"ticks\":\"\"}},\"ternary\":{\"bgcolor\":\"rgb(17,17,17)\",\"aaxis\":{\"gridcolor\":\"#506784\",\"linecolor\":\"#506784\",\"ticks\":\"\"},\"baxis\":{\"gridcolor\":\"#506784\",\"linecolor\":\"#506784\",\"ticks\":\"\"},\"caxis\":{\"gridcolor\":\"#506784\",\"linecolor\":\"#506784\",\"ticks\":\"\"}},\"coloraxis\":{\"colorbar\":{\"outlinewidth\":0,\"ticks\":\"\"}},\"colorscale\":{\"sequential\":[[0.0,\"#0d0887\"],[0.1111111111111111,\"#46039f\"],[0.2222222222222222,\"#7201a8\"],[0.3333333333333333,\"#9c179e\"],[0.4444444444444444,\"#bd3786\"],[0.5555555555555556,\"#d8576b\"],[0.6666666666666666,\"#ed7953\"],[0.7777777777777778,\"#fb9f3a\"],[0.8888888888888888,\"#fdca26\"],[1.0,\"#f0f921\"]],\"sequentialminus\":[[0.0,\"#0d0887\"],[0.1111111111111111,\"#46039f\"],[0.2222222222222222,\"#7201a8\"],[0.3333333333333333,\"#9c179e\"],[0.4444444444444444,\"#bd3786\"],[0.5555555555555556,\"#d8576b\"],[0.6666666666666666,\"#ed7953\"],[0.7777777777777778,\"#fb9f3a\"],[0.8888888888888888,\"#fdca26\"],[1.0,\"#f0f921\"]],\"diverging\":[[0,\"#8e0152\"],[0.1,\"#c51b7d\"],[0.2,\"#de77ae\"],[0.3,\"#f1b6da\"],[0.4,\"#fde0ef\"],[0.5,\"#f7f7f7\"],[0.6,\"#e6f5d0\"],[0.7,\"#b8e186\"],[0.8,\"#7fbc41\"],[0.9,\"#4d9221\"],[1,\"#276419\"]]},\"xaxis\":{\"gridcolor\":\"#283442\",\"linecolor\":\"#506784\",\"ticks\":\"\",\"title\":{\"standoff\":15},\"zerolinecolor\":\"#283442\",\"automargin\":true,\"zerolinewidth\":2},\"yaxis\":{\"gridcolor\":\"#283442\",\"linecolor\":\"#506784\",\"ticks\":\"\",\"title\":{\"standoff\":15},\"zerolinecolor\":\"#283442\",\"automargin\":true,\"zerolinewidth\":2},\"scene\":{\"xaxis\":{\"backgroundcolor\":\"rgb(17,17,17)\",\"gridcolor\":\"#506784\",\"linecolor\":\"#506784\",\"showbackground\":true,\"ticks\":\"\",\"zerolinecolor\":\"#C8D4E3\",\"gridwidth\":2},\"yaxis\":{\"backgroundcolor\":\"rgb(17,17,17)\",\"gridcolor\":\"#506784\",\"linecolor\":\"#506784\",\"showbackground\":true,\"ticks\":\"\",\"zerolinecolor\":\"#C8D4E3\",\"gridwidth\":2},\"zaxis\":{\"backgroundcolor\":\"rgb(17,17,17)\",\"gridcolor\":\"#506784\",\"linecolor\":\"#506784\",\"showbackground\":true,\"ticks\":\"\",\"zerolinecolor\":\"#C8D4E3\",\"gridwidth\":2}},\"shapedefaults\":{\"line\":{\"color\":\"#f2f5fa\"}},\"annotationdefaults\":{\"arrowcolor\":\"#f2f5fa\",\"arrowhead\":0,\"arrowwidth\":1},\"geo\":{\"bgcolor\":\"rgb(17,17,17)\",\"landcolor\":\"rgb(17,17,17)\",\"subunitcolor\":\"#506784\",\"showland\":true,\"showlakes\":true,\"lakecolor\":\"rgb(17,17,17)\"},\"title\":{\"x\":0.05},\"updatemenudefaults\":{\"bgcolor\":\"#506784\",\"borderwidth\":0},\"sliderdefaults\":{\"bgcolor\":\"#C8D4E3\",\"borderwidth\":1,\"bordercolor\":\"rgb(17,17,17)\",\"tickwidth\":0},\"mapbox\":{\"style\":\"dark\"}}},\"hovermode\":\"x\"},                        {\"responsive\": true}                    ).then(function(){\n                            \nvar gd = document.getElementById('89e88495-fa30-4970-88bb-2abfe793256b');\nvar x = new MutationObserver(function (mutations, observer) {{\n        var display = window.getComputedStyle(gd).display;\n        if (!display || display === 'none') {{\n            console.log([gd, 'removed!']);\n            Plotly.purge(gd);\n            observer.disconnect();\n        }}\n}});\n\n// Listen for the removal of the full notebook cells\nvar notebookContainer = gd.closest('#notebook-container');\nif (notebookContainer) {{\n    x.observe(notebookContainer, {childList: true});\n}}\n\n// Listen for the clearing of the current output cell\nvar outputEl = gd.closest('.output');\nif (outputEl) {{\n    x.observe(outputEl, {childList: true});\n}}\n\n                        })                };                });            </script>        </div>"
     },
     "metadata": {},
     "output_type": "display_data"
    },
    {
     "data": {
      "application/vnd.plotly.v1+json": {
       "data": [
        {
         "mode": "lines",
         "x": [
          1489.670166015625,
          1488.5650634765625,
          1487.459716796875,
          1486.354248046875,
          1485.24853515625,
          1484.142578125,
          1483.0364990234375,
          1481.93017578125,
          1480.8236083984375,
          1479.7169189453125,
          1478.6099853515625,
          1477.5028076171875,
          1476.3955078125,
          1475.2879638671875,
          1474.1802978515625,
          1473.0723876953125,
          1471.9642333984375,
          1470.8558349609375,
          1469.747314453125,
          1468.638671875,
          1467.5296630859375,
          1466.4205322265625,
          1465.311279296875,
          1464.20166015625,
          1463.0919189453125,
          1461.9820556640625,
          1460.8719482421875,
          1459.7615966796875,
          1458.6510009765625,
          1457.540283203125,
          1456.4293212890625,
          1455.3182373046875,
          1454.2069091796875,
          1453.0953369140625,
          1451.983642578125,
          1450.8717041015625,
          1449.759521484375,
          1448.647216796875,
          1447.53466796875,
          1446.421875,
          1445.3089599609375,
          1444.19580078125,
          1443.0823974609375,
          1441.9688720703125,
          1440.8551025390625,
          1439.7410888671875,
          1438.626953125,
          1437.5125732421875,
          1436.3980712890625,
          1435.2833251953125,
          1434.1683349609375,
          1433.0531005859375,
          1431.937744140625,
          1430.8221435546875,
          1429.7064208984375,
          1428.5904541015625,
          1427.4742431640625,
          1426.35791015625,
          1425.2412109375,
          1424.12451171875,
          1423.0074462890625,
          1421.8902587890625,
          1420.7728271484375,
          1419.6552734375,
          1418.5374755859375,
          1417.41943359375,
          1416.30126953125,
          1415.182861328125,
          1414.064208984375,
          1412.9454345703125,
          1411.826416015625,
          1410.7071533203125,
          1409.587646484375,
          1408.468017578125,
          1407.3482666015625,
          1406.2281494140625,
          1405.10791015625,
          1403.9874267578125,
          1402.8668212890625,
          1401.7459716796875,
          1400.6248779296875,
          1399.503662109375,
          1398.3822021484375,
          1397.260498046875,
          1396.1385498046875,
          1395.0164794921875,
          1393.894287109375,
          1392.771728515625,
          1391.6490478515625,
          1390.526123046875,
          1389.403076171875,
          1388.2796630859375,
          1387.15625,
          1386.032470703125,
          1384.9085693359375,
          1383.784423828125,
          1382.6600341796875,
          1381.5355224609375,
          1380.4107666015625,
          1379.2857666015625,
          1378.16064453125,
          1377.0352783203125,
          1375.90966796875,
          1374.783935546875,
          1373.657958984375,
          1372.53173828125,
          1371.4053955078125,
          1370.27880859375,
          1369.1519775390625,
          1368.02490234375,
          1366.897705078125,
          1365.770263671875,
          1364.6427001953125,
          1363.5147705078125,
          1362.38671875,
          1361.258544921875,
          1360.1300048828125,
          1359.0013427734375,
          1357.87255859375,
          1356.743408203125,
          1355.6141357421875,
          1354.484619140625,
          1353.35498046875,
          1352.22509765625,
          1351.094970703125,
          1349.964599609375,
          1348.8341064453125,
          1347.703369140625,
          1346.5723876953125,
          1345.441162109375,
          1344.309814453125,
          1343.17822265625,
          1342.0465087890625,
          1340.91455078125,
          1339.7823486328125,
          1338.64990234375,
          1337.517333984375,
          1336.384521484375,
          1335.25146484375,
          1334.1181640625,
          1332.9847412109375,
          1331.85107421875,
          1330.7171630859375,
          1329.5831298828125,
          1328.4488525390625,
          1327.3143310546875,
          1326.1796875,
          1325.0447998046875,
          1323.90966796875,
          1322.7742919921875,
          1321.6387939453125,
          1320.5029296875,
          1319.3670654296875,
          1318.2308349609375,
          1317.094482421875,
          1315.9578857421875,
          1314.821044921875,
          1313.68408203125,
          1312.546875,
          1311.409423828125,
          1310.271728515625,
          1309.1339111328125,
          1307.995849609375,
          1306.8575439453125,
          1305.718994140625,
          1304.580322265625,
          1303.44140625,
          1302.3023681640625,
          1301.1629638671875,
          1300.0234375,
          1298.8836669921875,
          1297.74365234375,
          1296.603515625,
          1295.463134765625,
          1294.322509765625,
          1293.181640625,
          1292.0406494140625,
          1290.8994140625,
          1289.7579345703125,
          1288.6163330078125,
          1287.474365234375,
          1286.332275390625,
          1285.1900634765625,
          1284.0474853515625,
          1282.90478515625,
          1281.7618408203125,
          1280.61865234375,
          1279.475341796875,
          1278.3316650390625,
          1277.1878662109375,
          1276.0439453125,
          1274.899658203125,
          1273.7552490234375,
          1272.610595703125,
          1271.4656982421875,
          1270.3206787109375,
          1269.17529296875,
          1268.02978515625,
          1266.8841552734375
         ],
         "y": [
          -2579.3431678273223,
          -2588.0962869796563,
          -2590.11857239196,
          -2580.2642522593933,
          -2542.720410596045,
          -2572.6394777493315,
          -2547.4148118569983,
          -2541.2677750150815,
          -2544.1234456472403,
          -2546.1525414127077,
          -2532.6572110489224,
          -2532.502667558669,
          -2542.6579809120203,
          -2506.3801812456213,
          -2522.7536081242506,
          -2517.4400048457715,
          -2512.450229640743,
          -2485.9824391443344,
          -2499.0419970473345,
          -2491.6354147401553,
          -2524.138695272231,
          -2524.787234498126,
          -2489.9641605694187,
          -2529.155301697483,
          -2534.9136715389964,
          -2521.407237606775,
          -2530.2125450795875,
          -2526.276438634888,
          -2526.2811939069675,
          -2509.9129692609713,
          -2512.1212066327585,
          -2497.4080146428482,
          -2486.32662424762,
          -2522.812566000002,
          -2518.4140899690865,
          -2519.932137629092,
          -2516.551762382458,
          -2497.006470331399,
          -2469.752906031029,
          -2506.4353261145675,
          -2458.0134167382384,
          -2462.0972428740306,
          -2458.448457433235,
          -2467.943926472303,
          -2493.0340022937116,
          -2471.5325688873413,
          -2467.7843184682433,
          -2479.1792348530607,
          -2463.724320297376,
          -2465.645874767868,
          -2425.0049911369433,
          -2444.655496751058,
          -2415.931641805874,
          -2437.0876926761257,
          -2427.9125643511907,
          -2421.0615474245315,
          -2396.141581134701,
          -2370.6246618498185,
          -2384.393839811305,
          -2396.4604799073813,
          -2365.061945865082,
          -2315.038161942575,
          -2361.4109479855274,
          -2364.442816938202,
          -2321.0283108139706,
          -2290.0491001586474,
          -2304.573599763013,
          -2272.02031445969,
          -2255.607451852662,
          -2216.307896350127,
          -2196.233067808069,
          -2143.085008555539,
          -2138.441456849732,
          -2060.3610096898947,
          -2065.109534491693,
          -1994.2680420739016,
          -1967.4933246169148,
          -1913.5687359195715,
          -1831.2546965937158,
          -1608.0291785113084,
          -1427.0731325086663,
          -1129.7971173953479,
          -668.3243767151065,
          -73.98846250532102,
          287.94327570779654,
          -305.33224714315327,
          -2479.347931421164,
          -4405.049394634514,
          -3349.811754023904,
          -1988.9338130889216,
          -1863.34628528274,
          -2194.510928617197,
          -2377.927070509048,
          -2399.4449789851983,
          -2347.1950539257687,
          -2313.1128507361814,
          -2282.5948151849293,
          -2327.999376828883,
          -2349.675535375032,
          -2305.3394375843604,
          -2384.976275595778,
          -2436.4362651620636,
          -2462.7100766282265,
          -2479.955826855404,
          -2525.084685731336,
          -2580.2950041291497,
          -2593.4334458236126,
          -2607.0192978914088,
          -2530.688773189336,
          -2455.6964912737194,
          -2316.162128877893,
          -2099.819535140993,
          -1826.9341538136975,
          -1519.3437325965256,
          -1195.8604160579278,
          -885.8751042955496,
          -596.5907896353847,
          -249.2857036570436,
          28.408272934288696,
          334.40716940876285,
          663.7871123519468,
          950.5542057930002,
          1258.5756635012644,
          1535.4109840771796,
          1760.0911065486146,
          1998.6937398720988,
          2205.0770690553977,
          2342.2601659589295,
          2487.7823291261225,
          2567.1156385677987,
          2560.2558093219045,
          2482.7194898297575,
          2396.774657843238,
          2229.6785733032466,
          1999.4239700259138,
          1816.42859387153,
          1590.3180470454936,
          1353.4268550194652,
          1101.0934805526044,
          819.3273378981671,
          672.8059339781644,
          423.30242354867534,
          231.75165665900192,
          54.76439343586363,
          -126.7942715063991,
          -254.60224365552114,
          -390.9524261999443,
          -533.421482501748,
          -627.6939811569966,
          -729.823679188475,
          -834.6411142501918,
          -934.6577933616087,
          -1020.697607296788,
          -1072.5202946155052,
          -1174.1025539847592,
          -1223.5834609318874,
          -1241.5155578848287,
          -1334.9486091874821,
          -1374.054514659405,
          -1396.9733641565217,
          -1455.656633733182,
          -1472.103358402045,
          -1561.5308704430668,
          -1553.8340893210566,
          -1640.144486499815,
          -1633.0292171739713,
          -1672.331534550091,
          -1692.9297092034406,
          -1692.5469277384889,
          -1694.7815018620531,
          -1739.1668500026396,
          -1784.9221649064107,
          -1791.4224398795886,
          -1798.4161138849877,
          -1848.0840975226608,
          -1814.1977740566158,
          -1838.8531455675068,
          -1851.8679710117615,
          -1884.872895183836,
          -1846.9104342461926,
          -1862.2716462872797,
          -1871.4245333453118,
          -1867.998088849661,
          -1905.1525073240591,
          -1916.2381002640927,
          -1892.6705414350265,
          -1917.5752685336777,
          -1936.9744486770358,
          -1902.1988973113007,
          -1923.4778924835796,
          -1916.8735805301371,
          -1930.5446760700474,
          -1938.0111596263296,
          -1952.432064850357,
          -1923.8282955302848,
          -1953.9258600052103,
          -1960.4497921776626,
          -1959.9426202805525,
          -1972.9760635589598
         ],
         "type": "scatter"
        },
        {
         "mode": "lines",
         "x": [
          1359.0013427734375,
          1357.87255859375,
          1356.743408203125,
          1355.6141357421875,
          1354.484619140625,
          1353.35498046875,
          1352.22509765625,
          1351.094970703125,
          1349.964599609375,
          1348.8341064453125,
          1347.703369140625,
          1346.5723876953125,
          1345.441162109375,
          1344.309814453125,
          1343.17822265625,
          1342.0465087890625,
          1340.91455078125,
          1339.7823486328125,
          1338.64990234375,
          1337.517333984375,
          1336.384521484375,
          1335.25146484375,
          1334.1181640625,
          1332.9847412109375,
          1331.85107421875,
          1330.7171630859375
         ],
         "y": [
          -119.10243381709279,
          132.79032862301847,
          394.5770819973677,
          663.5896404398645,
          936.2745667387653,
          1207.9568141146901,
          1472.9327946524663,
          1724.4642852300412,
          1955.0321670126204,
          2156.70206428633,
          2321.7326408746903,
          2443.1501591802808,
          2515.450581143815,
          2535.192275851279,
          2501.4009378388737,
          2415.6776153122955,
          2281.99759432447,
          2106.275081470749,
          1895.7409763038459,
          1658.2903712190637,
          1401.774747029528,
          1133.5661497263327,
          860.1880105552191,
          587.1547608762276,
          318.8275727914479,
          58.547786514584914
         ],
         "type": "scatter"
        }
       ],
       "layout": {
        "template": {
         "data": {
          "histogram2dcontour": [
           {
            "type": "histogram2dcontour",
            "colorbar": {
             "outlinewidth": 0,
             "ticks": ""
            },
            "colorscale": [
             [
              0.0,
              "#0d0887"
             ],
             [
              0.1111111111111111,
              "#46039f"
             ],
             [
              0.2222222222222222,
              "#7201a8"
             ],
             [
              0.3333333333333333,
              "#9c179e"
             ],
             [
              0.4444444444444444,
              "#bd3786"
             ],
             [
              0.5555555555555556,
              "#d8576b"
             ],
             [
              0.6666666666666666,
              "#ed7953"
             ],
             [
              0.7777777777777778,
              "#fb9f3a"
             ],
             [
              0.8888888888888888,
              "#fdca26"
             ],
             [
              1.0,
              "#f0f921"
             ]
            ]
           }
          ],
          "choropleth": [
           {
            "type": "choropleth",
            "colorbar": {
             "outlinewidth": 0,
             "ticks": ""
            }
           }
          ],
          "histogram2d": [
           {
            "type": "histogram2d",
            "colorbar": {
             "outlinewidth": 0,
             "ticks": ""
            },
            "colorscale": [
             [
              0.0,
              "#0d0887"
             ],
             [
              0.1111111111111111,
              "#46039f"
             ],
             [
              0.2222222222222222,
              "#7201a8"
             ],
             [
              0.3333333333333333,
              "#9c179e"
             ],
             [
              0.4444444444444444,
              "#bd3786"
             ],
             [
              0.5555555555555556,
              "#d8576b"
             ],
             [
              0.6666666666666666,
              "#ed7953"
             ],
             [
              0.7777777777777778,
              "#fb9f3a"
             ],
             [
              0.8888888888888888,
              "#fdca26"
             ],
             [
              1.0,
              "#f0f921"
             ]
            ]
           }
          ],
          "heatmap": [
           {
            "type": "heatmap",
            "colorbar": {
             "outlinewidth": 0,
             "ticks": ""
            },
            "colorscale": [
             [
              0.0,
              "#0d0887"
             ],
             [
              0.1111111111111111,
              "#46039f"
             ],
             [
              0.2222222222222222,
              "#7201a8"
             ],
             [
              0.3333333333333333,
              "#9c179e"
             ],
             [
              0.4444444444444444,
              "#bd3786"
             ],
             [
              0.5555555555555556,
              "#d8576b"
             ],
             [
              0.6666666666666666,
              "#ed7953"
             ],
             [
              0.7777777777777778,
              "#fb9f3a"
             ],
             [
              0.8888888888888888,
              "#fdca26"
             ],
             [
              1.0,
              "#f0f921"
             ]
            ]
           }
          ],
          "heatmapgl": [
           {
            "type": "heatmapgl",
            "colorbar": {
             "outlinewidth": 0,
             "ticks": ""
            },
            "colorscale": [
             [
              0.0,
              "#0d0887"
             ],
             [
              0.1111111111111111,
              "#46039f"
             ],
             [
              0.2222222222222222,
              "#7201a8"
             ],
             [
              0.3333333333333333,
              "#9c179e"
             ],
             [
              0.4444444444444444,
              "#bd3786"
             ],
             [
              0.5555555555555556,
              "#d8576b"
             ],
             [
              0.6666666666666666,
              "#ed7953"
             ],
             [
              0.7777777777777778,
              "#fb9f3a"
             ],
             [
              0.8888888888888888,
              "#fdca26"
             ],
             [
              1.0,
              "#f0f921"
             ]
            ]
           }
          ],
          "contourcarpet": [
           {
            "type": "contourcarpet",
            "colorbar": {
             "outlinewidth": 0,
             "ticks": ""
            }
           }
          ],
          "contour": [
           {
            "type": "contour",
            "colorbar": {
             "outlinewidth": 0,
             "ticks": ""
            },
            "colorscale": [
             [
              0.0,
              "#0d0887"
             ],
             [
              0.1111111111111111,
              "#46039f"
             ],
             [
              0.2222222222222222,
              "#7201a8"
             ],
             [
              0.3333333333333333,
              "#9c179e"
             ],
             [
              0.4444444444444444,
              "#bd3786"
             ],
             [
              0.5555555555555556,
              "#d8576b"
             ],
             [
              0.6666666666666666,
              "#ed7953"
             ],
             [
              0.7777777777777778,
              "#fb9f3a"
             ],
             [
              0.8888888888888888,
              "#fdca26"
             ],
             [
              1.0,
              "#f0f921"
             ]
            ]
           }
          ],
          "surface": [
           {
            "type": "surface",
            "colorbar": {
             "outlinewidth": 0,
             "ticks": ""
            },
            "colorscale": [
             [
              0.0,
              "#0d0887"
             ],
             [
              0.1111111111111111,
              "#46039f"
             ],
             [
              0.2222222222222222,
              "#7201a8"
             ],
             [
              0.3333333333333333,
              "#9c179e"
             ],
             [
              0.4444444444444444,
              "#bd3786"
             ],
             [
              0.5555555555555556,
              "#d8576b"
             ],
             [
              0.6666666666666666,
              "#ed7953"
             ],
             [
              0.7777777777777778,
              "#fb9f3a"
             ],
             [
              0.8888888888888888,
              "#fdca26"
             ],
             [
              1.0,
              "#f0f921"
             ]
            ]
           }
          ],
          "mesh3d": [
           {
            "type": "mesh3d",
            "colorbar": {
             "outlinewidth": 0,
             "ticks": ""
            }
           }
          ],
          "scatter": [
           {
            "marker": {
             "line": {
              "color": "#283442"
             }
            },
            "type": "scatter"
           }
          ],
          "parcoords": [
           {
            "type": "parcoords",
            "line": {
             "colorbar": {
              "outlinewidth": 0,
              "ticks": ""
             }
            }
           }
          ],
          "scatterpolargl": [
           {
            "type": "scatterpolargl",
            "marker": {
             "colorbar": {
              "outlinewidth": 0,
              "ticks": ""
             }
            }
           }
          ],
          "bar": [
           {
            "error_x": {
             "color": "#f2f5fa"
            },
            "error_y": {
             "color": "#f2f5fa"
            },
            "marker": {
             "line": {
              "color": "rgb(17,17,17)",
              "width": 0.5
             },
             "pattern": {
              "fillmode": "overlay",
              "size": 10,
              "solidity": 0.2
             }
            },
            "type": "bar"
           }
          ],
          "scattergeo": [
           {
            "type": "scattergeo",
            "marker": {
             "colorbar": {
              "outlinewidth": 0,
              "ticks": ""
             }
            }
           }
          ],
          "scatterpolar": [
           {
            "type": "scatterpolar",
            "marker": {
             "colorbar": {
              "outlinewidth": 0,
              "ticks": ""
             }
            }
           }
          ],
          "histogram": [
           {
            "marker": {
             "pattern": {
              "fillmode": "overlay",
              "size": 10,
              "solidity": 0.2
             }
            },
            "type": "histogram"
           }
          ],
          "scattergl": [
           {
            "marker": {
             "line": {
              "color": "#283442"
             }
            },
            "type": "scattergl"
           }
          ],
          "scatter3d": [
           {
            "type": "scatter3d",
            "line": {
             "colorbar": {
              "outlinewidth": 0,
              "ticks": ""
             }
            },
            "marker": {
             "colorbar": {
              "outlinewidth": 0,
              "ticks": ""
             }
            }
           }
          ],
          "scattermapbox": [
           {
            "type": "scattermapbox",
            "marker": {
             "colorbar": {
              "outlinewidth": 0,
              "ticks": ""
             }
            }
           }
          ],
          "scatterternary": [
           {
            "type": "scatterternary",
            "marker": {
             "colorbar": {
              "outlinewidth": 0,
              "ticks": ""
             }
            }
           }
          ],
          "scattercarpet": [
           {
            "type": "scattercarpet",
            "marker": {
             "colorbar": {
              "outlinewidth": 0,
              "ticks": ""
             }
            }
           }
          ],
          "carpet": [
           {
            "aaxis": {
             "endlinecolor": "#A2B1C6",
             "gridcolor": "#506784",
             "linecolor": "#506784",
             "minorgridcolor": "#506784",
             "startlinecolor": "#A2B1C6"
            },
            "baxis": {
             "endlinecolor": "#A2B1C6",
             "gridcolor": "#506784",
             "linecolor": "#506784",
             "minorgridcolor": "#506784",
             "startlinecolor": "#A2B1C6"
            },
            "type": "carpet"
           }
          ],
          "table": [
           {
            "cells": {
             "fill": {
              "color": "#506784"
             },
             "line": {
              "color": "rgb(17,17,17)"
             }
            },
            "header": {
             "fill": {
              "color": "#2a3f5f"
             },
             "line": {
              "color": "rgb(17,17,17)"
             }
            },
            "type": "table"
           }
          ],
          "barpolar": [
           {
            "marker": {
             "line": {
              "color": "rgb(17,17,17)",
              "width": 0.5
             },
             "pattern": {
              "fillmode": "overlay",
              "size": 10,
              "solidity": 0.2
             }
            },
            "type": "barpolar"
           }
          ],
          "pie": [
           {
            "automargin": true,
            "type": "pie"
           }
          ]
         },
         "layout": {
          "autotypenumbers": "strict",
          "colorway": [
           "#636efa",
           "#EF553B",
           "#00cc96",
           "#ab63fa",
           "#FFA15A",
           "#19d3f3",
           "#FF6692",
           "#B6E880",
           "#FF97FF",
           "#FECB52"
          ],
          "font": {
           "color": "#f2f5fa"
          },
          "hovermode": "closest",
          "hoverlabel": {
           "align": "left"
          },
          "paper_bgcolor": "rgb(17,17,17)",
          "plot_bgcolor": "rgb(17,17,17)",
          "polar": {
           "bgcolor": "rgb(17,17,17)",
           "angularaxis": {
            "gridcolor": "#506784",
            "linecolor": "#506784",
            "ticks": ""
           },
           "radialaxis": {
            "gridcolor": "#506784",
            "linecolor": "#506784",
            "ticks": ""
           }
          },
          "ternary": {
           "bgcolor": "rgb(17,17,17)",
           "aaxis": {
            "gridcolor": "#506784",
            "linecolor": "#506784",
            "ticks": ""
           },
           "baxis": {
            "gridcolor": "#506784",
            "linecolor": "#506784",
            "ticks": ""
           },
           "caxis": {
            "gridcolor": "#506784",
            "linecolor": "#506784",
            "ticks": ""
           }
          },
          "coloraxis": {
           "colorbar": {
            "outlinewidth": 0,
            "ticks": ""
           }
          },
          "colorscale": {
           "sequential": [
            [
             0.0,
             "#0d0887"
            ],
            [
             0.1111111111111111,
             "#46039f"
            ],
            [
             0.2222222222222222,
             "#7201a8"
            ],
            [
             0.3333333333333333,
             "#9c179e"
            ],
            [
             0.4444444444444444,
             "#bd3786"
            ],
            [
             0.5555555555555556,
             "#d8576b"
            ],
            [
             0.6666666666666666,
             "#ed7953"
            ],
            [
             0.7777777777777778,
             "#fb9f3a"
            ],
            [
             0.8888888888888888,
             "#fdca26"
            ],
            [
             1.0,
             "#f0f921"
            ]
           ],
           "sequentialminus": [
            [
             0.0,
             "#0d0887"
            ],
            [
             0.1111111111111111,
             "#46039f"
            ],
            [
             0.2222222222222222,
             "#7201a8"
            ],
            [
             0.3333333333333333,
             "#9c179e"
            ],
            [
             0.4444444444444444,
             "#bd3786"
            ],
            [
             0.5555555555555556,
             "#d8576b"
            ],
            [
             0.6666666666666666,
             "#ed7953"
            ],
            [
             0.7777777777777778,
             "#fb9f3a"
            ],
            [
             0.8888888888888888,
             "#fdca26"
            ],
            [
             1.0,
             "#f0f921"
            ]
           ],
           "diverging": [
            [
             0,
             "#8e0152"
            ],
            [
             0.1,
             "#c51b7d"
            ],
            [
             0.2,
             "#de77ae"
            ],
            [
             0.3,
             "#f1b6da"
            ],
            [
             0.4,
             "#fde0ef"
            ],
            [
             0.5,
             "#f7f7f7"
            ],
            [
             0.6,
             "#e6f5d0"
            ],
            [
             0.7,
             "#b8e186"
            ],
            [
             0.8,
             "#7fbc41"
            ],
            [
             0.9,
             "#4d9221"
            ],
            [
             1,
             "#276419"
            ]
           ]
          },
          "xaxis": {
           "gridcolor": "#283442",
           "linecolor": "#506784",
           "ticks": "",
           "title": {
            "standoff": 15
           },
           "zerolinecolor": "#283442",
           "automargin": true,
           "zerolinewidth": 2
          },
          "yaxis": {
           "gridcolor": "#283442",
           "linecolor": "#506784",
           "ticks": "",
           "title": {
            "standoff": 15
           },
           "zerolinecolor": "#283442",
           "automargin": true,
           "zerolinewidth": 2
          },
          "scene": {
           "xaxis": {
            "backgroundcolor": "rgb(17,17,17)",
            "gridcolor": "#506784",
            "linecolor": "#506784",
            "showbackground": true,
            "ticks": "",
            "zerolinecolor": "#C8D4E3",
            "gridwidth": 2
           },
           "yaxis": {
            "backgroundcolor": "rgb(17,17,17)",
            "gridcolor": "#506784",
            "linecolor": "#506784",
            "showbackground": true,
            "ticks": "",
            "zerolinecolor": "#C8D4E3",
            "gridwidth": 2
           },
           "zaxis": {
            "backgroundcolor": "rgb(17,17,17)",
            "gridcolor": "#506784",
            "linecolor": "#506784",
            "showbackground": true,
            "ticks": "",
            "zerolinecolor": "#C8D4E3",
            "gridwidth": 2
           }
          },
          "shapedefaults": {
           "line": {
            "color": "#f2f5fa"
           }
          },
          "annotationdefaults": {
           "arrowcolor": "#f2f5fa",
           "arrowhead": 0,
           "arrowwidth": 1
          },
          "geo": {
           "bgcolor": "rgb(17,17,17)",
           "landcolor": "rgb(17,17,17)",
           "subunitcolor": "#506784",
           "showland": true,
           "showlakes": true,
           "lakecolor": "rgb(17,17,17)"
          },
          "title": {
           "x": 0.05
          },
          "updatemenudefaults": {
           "bgcolor": "#506784",
           "borderwidth": 0
          },
          "sliderdefaults": {
           "bgcolor": "#C8D4E3",
           "borderwidth": 1,
           "bordercolor": "rgb(17,17,17)",
           "tickwidth": 0
          },
          "mapbox": {
           "style": "dark"
          }
         }
        },
        "hovermode": "x"
       },
       "config": {
        "plotlyServerURL": "https://plot.ly"
       }
      },
      "text/html": "<div>                            <div id=\"43d3ad4e-94c1-4a6d-a1b1-c83dbeb137f9\" class=\"plotly-graph-div\" style=\"height:525px; width:100%;\"></div>            <script type=\"text/javascript\">                require([\"plotly\"], function(Plotly) {                    window.PLOTLYENV=window.PLOTLYENV || {};                                    if (document.getElementById(\"43d3ad4e-94c1-4a6d-a1b1-c83dbeb137f9\")) {                    Plotly.newPlot(                        \"43d3ad4e-94c1-4a6d-a1b1-c83dbeb137f9\",                        [{\"mode\":\"lines\",\"x\":[1489.670166015625,1488.5650634765625,1487.459716796875,1486.354248046875,1485.24853515625,1484.142578125,1483.0364990234375,1481.93017578125,1480.8236083984375,1479.7169189453125,1478.6099853515625,1477.5028076171875,1476.3955078125,1475.2879638671875,1474.1802978515625,1473.0723876953125,1471.9642333984375,1470.8558349609375,1469.747314453125,1468.638671875,1467.5296630859375,1466.4205322265625,1465.311279296875,1464.20166015625,1463.0919189453125,1461.9820556640625,1460.8719482421875,1459.7615966796875,1458.6510009765625,1457.540283203125,1456.4293212890625,1455.3182373046875,1454.2069091796875,1453.0953369140625,1451.983642578125,1450.8717041015625,1449.759521484375,1448.647216796875,1447.53466796875,1446.421875,1445.3089599609375,1444.19580078125,1443.0823974609375,1441.9688720703125,1440.8551025390625,1439.7410888671875,1438.626953125,1437.5125732421875,1436.3980712890625,1435.2833251953125,1434.1683349609375,1433.0531005859375,1431.937744140625,1430.8221435546875,1429.7064208984375,1428.5904541015625,1427.4742431640625,1426.35791015625,1425.2412109375,1424.12451171875,1423.0074462890625,1421.8902587890625,1420.7728271484375,1419.6552734375,1418.5374755859375,1417.41943359375,1416.30126953125,1415.182861328125,1414.064208984375,1412.9454345703125,1411.826416015625,1410.7071533203125,1409.587646484375,1408.468017578125,1407.3482666015625,1406.2281494140625,1405.10791015625,1403.9874267578125,1402.8668212890625,1401.7459716796875,1400.6248779296875,1399.503662109375,1398.3822021484375,1397.260498046875,1396.1385498046875,1395.0164794921875,1393.894287109375,1392.771728515625,1391.6490478515625,1390.526123046875,1389.403076171875,1388.2796630859375,1387.15625,1386.032470703125,1384.9085693359375,1383.784423828125,1382.6600341796875,1381.5355224609375,1380.4107666015625,1379.2857666015625,1378.16064453125,1377.0352783203125,1375.90966796875,1374.783935546875,1373.657958984375,1372.53173828125,1371.4053955078125,1370.27880859375,1369.1519775390625,1368.02490234375,1366.897705078125,1365.770263671875,1364.6427001953125,1363.5147705078125,1362.38671875,1361.258544921875,1360.1300048828125,1359.0013427734375,1357.87255859375,1356.743408203125,1355.6141357421875,1354.484619140625,1353.35498046875,1352.22509765625,1351.094970703125,1349.964599609375,1348.8341064453125,1347.703369140625,1346.5723876953125,1345.441162109375,1344.309814453125,1343.17822265625,1342.0465087890625,1340.91455078125,1339.7823486328125,1338.64990234375,1337.517333984375,1336.384521484375,1335.25146484375,1334.1181640625,1332.9847412109375,1331.85107421875,1330.7171630859375,1329.5831298828125,1328.4488525390625,1327.3143310546875,1326.1796875,1325.0447998046875,1323.90966796875,1322.7742919921875,1321.6387939453125,1320.5029296875,1319.3670654296875,1318.2308349609375,1317.094482421875,1315.9578857421875,1314.821044921875,1313.68408203125,1312.546875,1311.409423828125,1310.271728515625,1309.1339111328125,1307.995849609375,1306.8575439453125,1305.718994140625,1304.580322265625,1303.44140625,1302.3023681640625,1301.1629638671875,1300.0234375,1298.8836669921875,1297.74365234375,1296.603515625,1295.463134765625,1294.322509765625,1293.181640625,1292.0406494140625,1290.8994140625,1289.7579345703125,1288.6163330078125,1287.474365234375,1286.332275390625,1285.1900634765625,1284.0474853515625,1282.90478515625,1281.7618408203125,1280.61865234375,1279.475341796875,1278.3316650390625,1277.1878662109375,1276.0439453125,1274.899658203125,1273.7552490234375,1272.610595703125,1271.4656982421875,1270.3206787109375,1269.17529296875,1268.02978515625,1266.8841552734375],\"y\":[-2579.3431678273223,-2588.0962869796563,-2590.11857239196,-2580.2642522593933,-2542.720410596045,-2572.6394777493315,-2547.4148118569983,-2541.2677750150815,-2544.1234456472403,-2546.1525414127077,-2532.6572110489224,-2532.502667558669,-2542.6579809120203,-2506.3801812456213,-2522.7536081242506,-2517.4400048457715,-2512.450229640743,-2485.9824391443344,-2499.0419970473345,-2491.6354147401553,-2524.138695272231,-2524.787234498126,-2489.9641605694187,-2529.155301697483,-2534.9136715389964,-2521.407237606775,-2530.2125450795875,-2526.276438634888,-2526.2811939069675,-2509.9129692609713,-2512.1212066327585,-2497.4080146428482,-2486.32662424762,-2522.812566000002,-2518.4140899690865,-2519.932137629092,-2516.551762382458,-2497.006470331399,-2469.752906031029,-2506.4353261145675,-2458.0134167382384,-2462.0972428740306,-2458.448457433235,-2467.943926472303,-2493.0340022937116,-2471.5325688873413,-2467.7843184682433,-2479.1792348530607,-2463.724320297376,-2465.645874767868,-2425.0049911369433,-2444.655496751058,-2415.931641805874,-2437.0876926761257,-2427.9125643511907,-2421.0615474245315,-2396.141581134701,-2370.6246618498185,-2384.393839811305,-2396.4604799073813,-2365.061945865082,-2315.038161942575,-2361.4109479855274,-2364.442816938202,-2321.0283108139706,-2290.0491001586474,-2304.573599763013,-2272.02031445969,-2255.607451852662,-2216.307896350127,-2196.233067808069,-2143.085008555539,-2138.441456849732,-2060.3610096898947,-2065.109534491693,-1994.2680420739016,-1967.4933246169148,-1913.5687359195715,-1831.2546965937158,-1608.0291785113084,-1427.0731325086663,-1129.7971173953479,-668.3243767151065,-73.98846250532102,287.94327570779654,-305.33224714315327,-2479.347931421164,-4405.049394634514,-3349.811754023904,-1988.9338130889216,-1863.34628528274,-2194.510928617197,-2377.927070509048,-2399.4449789851983,-2347.1950539257687,-2313.1128507361814,-2282.5948151849293,-2327.999376828883,-2349.675535375032,-2305.3394375843604,-2384.976275595778,-2436.4362651620636,-2462.7100766282265,-2479.955826855404,-2525.084685731336,-2580.2950041291497,-2593.4334458236126,-2607.0192978914088,-2530.688773189336,-2455.6964912737194,-2316.162128877893,-2099.819535140993,-1826.9341538136975,-1519.3437325965256,-1195.8604160579278,-885.8751042955496,-596.5907896353847,-249.2857036570436,28.408272934288696,334.40716940876285,663.7871123519468,950.5542057930002,1258.5756635012644,1535.4109840771796,1760.0911065486146,1998.6937398720988,2205.0770690553977,2342.2601659589295,2487.7823291261225,2567.1156385677987,2560.2558093219045,2482.7194898297575,2396.774657843238,2229.6785733032466,1999.4239700259138,1816.42859387153,1590.3180470454936,1353.4268550194652,1101.0934805526044,819.3273378981671,672.8059339781644,423.30242354867534,231.75165665900192,54.76439343586363,-126.7942715063991,-254.60224365552114,-390.9524261999443,-533.421482501748,-627.6939811569966,-729.823679188475,-834.6411142501918,-934.6577933616087,-1020.697607296788,-1072.5202946155052,-1174.1025539847592,-1223.5834609318874,-1241.5155578848287,-1334.9486091874821,-1374.054514659405,-1396.9733641565217,-1455.656633733182,-1472.103358402045,-1561.5308704430668,-1553.8340893210566,-1640.144486499815,-1633.0292171739713,-1672.331534550091,-1692.9297092034406,-1692.5469277384889,-1694.7815018620531,-1739.1668500026396,-1784.9221649064107,-1791.4224398795886,-1798.4161138849877,-1848.0840975226608,-1814.1977740566158,-1838.8531455675068,-1851.8679710117615,-1884.872895183836,-1846.9104342461926,-1862.2716462872797,-1871.4245333453118,-1867.998088849661,-1905.1525073240591,-1916.2381002640927,-1892.6705414350265,-1917.5752685336777,-1936.9744486770358,-1902.1988973113007,-1923.4778924835796,-1916.8735805301371,-1930.5446760700474,-1938.0111596263296,-1952.432064850357,-1923.8282955302848,-1953.9258600052103,-1960.4497921776626,-1959.9426202805525,-1972.9760635589598],\"type\":\"scatter\"},{\"mode\":\"lines\",\"x\":[1359.0013427734375,1357.87255859375,1356.743408203125,1355.6141357421875,1354.484619140625,1353.35498046875,1352.22509765625,1351.094970703125,1349.964599609375,1348.8341064453125,1347.703369140625,1346.5723876953125,1345.441162109375,1344.309814453125,1343.17822265625,1342.0465087890625,1340.91455078125,1339.7823486328125,1338.64990234375,1337.517333984375,1336.384521484375,1335.25146484375,1334.1181640625,1332.9847412109375,1331.85107421875,1330.7171630859375],\"y\":[-119.10243381709279,132.79032862301847,394.5770819973677,663.5896404398645,936.2745667387653,1207.9568141146901,1472.9327946524663,1724.4642852300412,1955.0321670126204,2156.70206428633,2321.7326408746903,2443.1501591802808,2515.450581143815,2535.192275851279,2501.4009378388737,2415.6776153122955,2281.99759432447,2106.275081470749,1895.7409763038459,1658.2903712190637,1401.774747029528,1133.5661497263327,860.1880105552191,587.1547608762276,318.8275727914479,58.547786514584914],\"type\":\"scatter\"}],                        {\"template\":{\"data\":{\"histogram2dcontour\":[{\"type\":\"histogram2dcontour\",\"colorbar\":{\"outlinewidth\":0,\"ticks\":\"\"},\"colorscale\":[[0.0,\"#0d0887\"],[0.1111111111111111,\"#46039f\"],[0.2222222222222222,\"#7201a8\"],[0.3333333333333333,\"#9c179e\"],[0.4444444444444444,\"#bd3786\"],[0.5555555555555556,\"#d8576b\"],[0.6666666666666666,\"#ed7953\"],[0.7777777777777778,\"#fb9f3a\"],[0.8888888888888888,\"#fdca26\"],[1.0,\"#f0f921\"]]}],\"choropleth\":[{\"type\":\"choropleth\",\"colorbar\":{\"outlinewidth\":0,\"ticks\":\"\"}}],\"histogram2d\":[{\"type\":\"histogram2d\",\"colorbar\":{\"outlinewidth\":0,\"ticks\":\"\"},\"colorscale\":[[0.0,\"#0d0887\"],[0.1111111111111111,\"#46039f\"],[0.2222222222222222,\"#7201a8\"],[0.3333333333333333,\"#9c179e\"],[0.4444444444444444,\"#bd3786\"],[0.5555555555555556,\"#d8576b\"],[0.6666666666666666,\"#ed7953\"],[0.7777777777777778,\"#fb9f3a\"],[0.8888888888888888,\"#fdca26\"],[1.0,\"#f0f921\"]]}],\"heatmap\":[{\"type\":\"heatmap\",\"colorbar\":{\"outlinewidth\":0,\"ticks\":\"\"},\"colorscale\":[[0.0,\"#0d0887\"],[0.1111111111111111,\"#46039f\"],[0.2222222222222222,\"#7201a8\"],[0.3333333333333333,\"#9c179e\"],[0.4444444444444444,\"#bd3786\"],[0.5555555555555556,\"#d8576b\"],[0.6666666666666666,\"#ed7953\"],[0.7777777777777778,\"#fb9f3a\"],[0.8888888888888888,\"#fdca26\"],[1.0,\"#f0f921\"]]}],\"heatmapgl\":[{\"type\":\"heatmapgl\",\"colorbar\":{\"outlinewidth\":0,\"ticks\":\"\"},\"colorscale\":[[0.0,\"#0d0887\"],[0.1111111111111111,\"#46039f\"],[0.2222222222222222,\"#7201a8\"],[0.3333333333333333,\"#9c179e\"],[0.4444444444444444,\"#bd3786\"],[0.5555555555555556,\"#d8576b\"],[0.6666666666666666,\"#ed7953\"],[0.7777777777777778,\"#fb9f3a\"],[0.8888888888888888,\"#fdca26\"],[1.0,\"#f0f921\"]]}],\"contourcarpet\":[{\"type\":\"contourcarpet\",\"colorbar\":{\"outlinewidth\":0,\"ticks\":\"\"}}],\"contour\":[{\"type\":\"contour\",\"colorbar\":{\"outlinewidth\":0,\"ticks\":\"\"},\"colorscale\":[[0.0,\"#0d0887\"],[0.1111111111111111,\"#46039f\"],[0.2222222222222222,\"#7201a8\"],[0.3333333333333333,\"#9c179e\"],[0.4444444444444444,\"#bd3786\"],[0.5555555555555556,\"#d8576b\"],[0.6666666666666666,\"#ed7953\"],[0.7777777777777778,\"#fb9f3a\"],[0.8888888888888888,\"#fdca26\"],[1.0,\"#f0f921\"]]}],\"surface\":[{\"type\":\"surface\",\"colorbar\":{\"outlinewidth\":0,\"ticks\":\"\"},\"colorscale\":[[0.0,\"#0d0887\"],[0.1111111111111111,\"#46039f\"],[0.2222222222222222,\"#7201a8\"],[0.3333333333333333,\"#9c179e\"],[0.4444444444444444,\"#bd3786\"],[0.5555555555555556,\"#d8576b\"],[0.6666666666666666,\"#ed7953\"],[0.7777777777777778,\"#fb9f3a\"],[0.8888888888888888,\"#fdca26\"],[1.0,\"#f0f921\"]]}],\"mesh3d\":[{\"type\":\"mesh3d\",\"colorbar\":{\"outlinewidth\":0,\"ticks\":\"\"}}],\"scatter\":[{\"marker\":{\"line\":{\"color\":\"#283442\"}},\"type\":\"scatter\"}],\"parcoords\":[{\"type\":\"parcoords\",\"line\":{\"colorbar\":{\"outlinewidth\":0,\"ticks\":\"\"}}}],\"scatterpolargl\":[{\"type\":\"scatterpolargl\",\"marker\":{\"colorbar\":{\"outlinewidth\":0,\"ticks\":\"\"}}}],\"bar\":[{\"error_x\":{\"color\":\"#f2f5fa\"},\"error_y\":{\"color\":\"#f2f5fa\"},\"marker\":{\"line\":{\"color\":\"rgb(17,17,17)\",\"width\":0.5},\"pattern\":{\"fillmode\":\"overlay\",\"size\":10,\"solidity\":0.2}},\"type\":\"bar\"}],\"scattergeo\":[{\"type\":\"scattergeo\",\"marker\":{\"colorbar\":{\"outlinewidth\":0,\"ticks\":\"\"}}}],\"scatterpolar\":[{\"type\":\"scatterpolar\",\"marker\":{\"colorbar\":{\"outlinewidth\":0,\"ticks\":\"\"}}}],\"histogram\":[{\"marker\":{\"pattern\":{\"fillmode\":\"overlay\",\"size\":10,\"solidity\":0.2}},\"type\":\"histogram\"}],\"scattergl\":[{\"marker\":{\"line\":{\"color\":\"#283442\"}},\"type\":\"scattergl\"}],\"scatter3d\":[{\"type\":\"scatter3d\",\"line\":{\"colorbar\":{\"outlinewidth\":0,\"ticks\":\"\"}},\"marker\":{\"colorbar\":{\"outlinewidth\":0,\"ticks\":\"\"}}}],\"scattermapbox\":[{\"type\":\"scattermapbox\",\"marker\":{\"colorbar\":{\"outlinewidth\":0,\"ticks\":\"\"}}}],\"scatterternary\":[{\"type\":\"scatterternary\",\"marker\":{\"colorbar\":{\"outlinewidth\":0,\"ticks\":\"\"}}}],\"scattercarpet\":[{\"type\":\"scattercarpet\",\"marker\":{\"colorbar\":{\"outlinewidth\":0,\"ticks\":\"\"}}}],\"carpet\":[{\"aaxis\":{\"endlinecolor\":\"#A2B1C6\",\"gridcolor\":\"#506784\",\"linecolor\":\"#506784\",\"minorgridcolor\":\"#506784\",\"startlinecolor\":\"#A2B1C6\"},\"baxis\":{\"endlinecolor\":\"#A2B1C6\",\"gridcolor\":\"#506784\",\"linecolor\":\"#506784\",\"minorgridcolor\":\"#506784\",\"startlinecolor\":\"#A2B1C6\"},\"type\":\"carpet\"}],\"table\":[{\"cells\":{\"fill\":{\"color\":\"#506784\"},\"line\":{\"color\":\"rgb(17,17,17)\"}},\"header\":{\"fill\":{\"color\":\"#2a3f5f\"},\"line\":{\"color\":\"rgb(17,17,17)\"}},\"type\":\"table\"}],\"barpolar\":[{\"marker\":{\"line\":{\"color\":\"rgb(17,17,17)\",\"width\":0.5},\"pattern\":{\"fillmode\":\"overlay\",\"size\":10,\"solidity\":0.2}},\"type\":\"barpolar\"}],\"pie\":[{\"automargin\":true,\"type\":\"pie\"}]},\"layout\":{\"autotypenumbers\":\"strict\",\"colorway\":[\"#636efa\",\"#EF553B\",\"#00cc96\",\"#ab63fa\",\"#FFA15A\",\"#19d3f3\",\"#FF6692\",\"#B6E880\",\"#FF97FF\",\"#FECB52\"],\"font\":{\"color\":\"#f2f5fa\"},\"hovermode\":\"closest\",\"hoverlabel\":{\"align\":\"left\"},\"paper_bgcolor\":\"rgb(17,17,17)\",\"plot_bgcolor\":\"rgb(17,17,17)\",\"polar\":{\"bgcolor\":\"rgb(17,17,17)\",\"angularaxis\":{\"gridcolor\":\"#506784\",\"linecolor\":\"#506784\",\"ticks\":\"\"},\"radialaxis\":{\"gridcolor\":\"#506784\",\"linecolor\":\"#506784\",\"ticks\":\"\"}},\"ternary\":{\"bgcolor\":\"rgb(17,17,17)\",\"aaxis\":{\"gridcolor\":\"#506784\",\"linecolor\":\"#506784\",\"ticks\":\"\"},\"baxis\":{\"gridcolor\":\"#506784\",\"linecolor\":\"#506784\",\"ticks\":\"\"},\"caxis\":{\"gridcolor\":\"#506784\",\"linecolor\":\"#506784\",\"ticks\":\"\"}},\"coloraxis\":{\"colorbar\":{\"outlinewidth\":0,\"ticks\":\"\"}},\"colorscale\":{\"sequential\":[[0.0,\"#0d0887\"],[0.1111111111111111,\"#46039f\"],[0.2222222222222222,\"#7201a8\"],[0.3333333333333333,\"#9c179e\"],[0.4444444444444444,\"#bd3786\"],[0.5555555555555556,\"#d8576b\"],[0.6666666666666666,\"#ed7953\"],[0.7777777777777778,\"#fb9f3a\"],[0.8888888888888888,\"#fdca26\"],[1.0,\"#f0f921\"]],\"sequentialminus\":[[0.0,\"#0d0887\"],[0.1111111111111111,\"#46039f\"],[0.2222222222222222,\"#7201a8\"],[0.3333333333333333,\"#9c179e\"],[0.4444444444444444,\"#bd3786\"],[0.5555555555555556,\"#d8576b\"],[0.6666666666666666,\"#ed7953\"],[0.7777777777777778,\"#fb9f3a\"],[0.8888888888888888,\"#fdca26\"],[1.0,\"#f0f921\"]],\"diverging\":[[0,\"#8e0152\"],[0.1,\"#c51b7d\"],[0.2,\"#de77ae\"],[0.3,\"#f1b6da\"],[0.4,\"#fde0ef\"],[0.5,\"#f7f7f7\"],[0.6,\"#e6f5d0\"],[0.7,\"#b8e186\"],[0.8,\"#7fbc41\"],[0.9,\"#4d9221\"],[1,\"#276419\"]]},\"xaxis\":{\"gridcolor\":\"#283442\",\"linecolor\":\"#506784\",\"ticks\":\"\",\"title\":{\"standoff\":15},\"zerolinecolor\":\"#283442\",\"automargin\":true,\"zerolinewidth\":2},\"yaxis\":{\"gridcolor\":\"#283442\",\"linecolor\":\"#506784\",\"ticks\":\"\",\"title\":{\"standoff\":15},\"zerolinecolor\":\"#283442\",\"automargin\":true,\"zerolinewidth\":2},\"scene\":{\"xaxis\":{\"backgroundcolor\":\"rgb(17,17,17)\",\"gridcolor\":\"#506784\",\"linecolor\":\"#506784\",\"showbackground\":true,\"ticks\":\"\",\"zerolinecolor\":\"#C8D4E3\",\"gridwidth\":2},\"yaxis\":{\"backgroundcolor\":\"rgb(17,17,17)\",\"gridcolor\":\"#506784\",\"linecolor\":\"#506784\",\"showbackground\":true,\"ticks\":\"\",\"zerolinecolor\":\"#C8D4E3\",\"gridwidth\":2},\"zaxis\":{\"backgroundcolor\":\"rgb(17,17,17)\",\"gridcolor\":\"#506784\",\"linecolor\":\"#506784\",\"showbackground\":true,\"ticks\":\"\",\"zerolinecolor\":\"#C8D4E3\",\"gridwidth\":2}},\"shapedefaults\":{\"line\":{\"color\":\"#f2f5fa\"}},\"annotationdefaults\":{\"arrowcolor\":\"#f2f5fa\",\"arrowhead\":0,\"arrowwidth\":1},\"geo\":{\"bgcolor\":\"rgb(17,17,17)\",\"landcolor\":\"rgb(17,17,17)\",\"subunitcolor\":\"#506784\",\"showland\":true,\"showlakes\":true,\"lakecolor\":\"rgb(17,17,17)\"},\"title\":{\"x\":0.05},\"updatemenudefaults\":{\"bgcolor\":\"#506784\",\"borderwidth\":0},\"sliderdefaults\":{\"bgcolor\":\"#C8D4E3\",\"borderwidth\":1,\"bordercolor\":\"rgb(17,17,17)\",\"tickwidth\":0},\"mapbox\":{\"style\":\"dark\"}}},\"hovermode\":\"x\"},                        {\"responsive\": true}                    ).then(function(){\n                            \nvar gd = document.getElementById('43d3ad4e-94c1-4a6d-a1b1-c83dbeb137f9');\nvar x = new MutationObserver(function (mutations, observer) {{\n        var display = window.getComputedStyle(gd).display;\n        if (!display || display === 'none') {{\n            console.log([gd, 'removed!']);\n            Plotly.purge(gd);\n            observer.disconnect();\n        }}\n}});\n\n// Listen for the removal of the full notebook cells\nvar notebookContainer = gd.closest('#notebook-container');\nif (notebookContainer) {{\n    x.observe(notebookContainer, {childList: true});\n}}\n\n// Listen for the clearing of the current output cell\nvar outputEl = gd.closest('.output');\nif (outputEl) {{\n    x.observe(outputEl, {childList: true});\n}}\n\n                        })                };                });            </script>        </div>"
     },
     "metadata": {},
     "output_type": "display_data"
    },
    {
     "data": {
      "application/vnd.plotly.v1+json": {
       "data": [
        {
         "mode": "lines",
         "x": [
          1489.670166015625,
          1488.5650634765625,
          1487.459716796875,
          1486.354248046875,
          1485.24853515625,
          1484.142578125,
          1483.0364990234375,
          1481.93017578125,
          1480.8236083984375,
          1479.7169189453125,
          1478.6099853515625,
          1477.5028076171875,
          1476.3955078125,
          1475.2879638671875,
          1474.1802978515625,
          1473.0723876953125,
          1471.9642333984375,
          1470.8558349609375,
          1469.747314453125,
          1468.638671875,
          1467.5296630859375,
          1466.4205322265625,
          1465.311279296875,
          1464.20166015625,
          1463.0919189453125,
          1461.9820556640625,
          1460.8719482421875,
          1459.7615966796875,
          1458.6510009765625,
          1457.540283203125,
          1456.4293212890625,
          1455.3182373046875,
          1454.2069091796875,
          1453.0953369140625,
          1451.983642578125,
          1450.8717041015625,
          1449.759521484375,
          1448.647216796875,
          1447.53466796875,
          1446.421875,
          1445.3089599609375,
          1444.19580078125,
          1443.0823974609375,
          1441.9688720703125,
          1440.8551025390625,
          1439.7410888671875,
          1438.626953125,
          1437.5125732421875,
          1436.3980712890625,
          1435.2833251953125,
          1434.1683349609375,
          1433.0531005859375,
          1431.937744140625,
          1430.8221435546875,
          1429.7064208984375,
          1428.5904541015625,
          1427.4742431640625,
          1426.35791015625,
          1425.2412109375,
          1424.12451171875,
          1423.0074462890625,
          1421.8902587890625,
          1420.7728271484375,
          1419.6552734375,
          1418.5374755859375,
          1417.41943359375,
          1416.30126953125,
          1415.182861328125,
          1414.064208984375,
          1412.9454345703125,
          1411.826416015625,
          1410.7071533203125,
          1409.587646484375,
          1408.468017578125,
          1407.3482666015625,
          1406.2281494140625,
          1405.10791015625,
          1403.9874267578125,
          1402.8668212890625,
          1401.7459716796875,
          1400.6248779296875,
          1399.503662109375,
          1398.3822021484375,
          1397.260498046875,
          1396.1385498046875,
          1395.0164794921875,
          1393.894287109375,
          1392.771728515625,
          1391.6490478515625,
          1390.526123046875,
          1389.403076171875,
          1388.2796630859375,
          1387.15625,
          1386.032470703125,
          1384.9085693359375,
          1383.784423828125,
          1382.6600341796875,
          1381.5355224609375,
          1380.4107666015625,
          1379.2857666015625,
          1378.16064453125,
          1377.0352783203125,
          1375.90966796875,
          1374.783935546875,
          1373.657958984375,
          1372.53173828125,
          1371.4053955078125,
          1370.27880859375,
          1369.1519775390625,
          1368.02490234375,
          1366.897705078125,
          1365.770263671875,
          1364.6427001953125,
          1363.5147705078125,
          1362.38671875,
          1361.258544921875,
          1360.1300048828125,
          1359.0013427734375,
          1357.87255859375,
          1356.743408203125,
          1355.6141357421875,
          1354.484619140625,
          1353.35498046875,
          1352.22509765625,
          1351.094970703125,
          1349.964599609375,
          1348.8341064453125,
          1347.703369140625,
          1346.5723876953125,
          1345.441162109375,
          1344.309814453125,
          1343.17822265625,
          1342.0465087890625,
          1340.91455078125,
          1339.7823486328125,
          1338.64990234375,
          1337.517333984375,
          1336.384521484375,
          1335.25146484375,
          1334.1181640625,
          1332.9847412109375,
          1331.85107421875,
          1330.7171630859375,
          1329.5831298828125,
          1328.4488525390625,
          1327.3143310546875,
          1326.1796875,
          1325.0447998046875,
          1323.90966796875,
          1322.7742919921875,
          1321.6387939453125,
          1320.5029296875,
          1319.3670654296875,
          1318.2308349609375,
          1317.094482421875,
          1315.9578857421875,
          1314.821044921875,
          1313.68408203125,
          1312.546875,
          1311.409423828125,
          1310.271728515625,
          1309.1339111328125,
          1307.995849609375,
          1306.8575439453125,
          1305.718994140625,
          1304.580322265625,
          1303.44140625,
          1302.3023681640625,
          1301.1629638671875,
          1300.0234375,
          1298.8836669921875,
          1297.74365234375,
          1296.603515625,
          1295.463134765625,
          1294.322509765625,
          1293.181640625,
          1292.0406494140625,
          1290.8994140625,
          1289.7579345703125,
          1288.6163330078125,
          1287.474365234375,
          1286.332275390625,
          1285.1900634765625,
          1284.0474853515625,
          1282.90478515625,
          1281.7618408203125,
          1280.61865234375,
          1279.475341796875,
          1278.3316650390625,
          1277.1878662109375,
          1276.0439453125,
          1274.899658203125,
          1273.7552490234375,
          1272.610595703125,
          1271.4656982421875,
          1270.3206787109375,
          1269.17529296875,
          1268.02978515625,
          1266.8841552734375
         ],
         "y": [
          865.7152414513351,
          870.9558262642545,
          890.2514445601272,
          885.4421501308849,
          883.828682009522,
          870.3880741364578,
          862.0128240540193,
          854.7194637568135,
          878.7330791805507,
          878.7535651088659,
          893.6105481452308,
          884.5206180482271,
          896.7035940657246,
          893.1295850136626,
          892.8896511052451,
          874.5781932227497,
          878.8541749369854,
          881.5453754906289,
          892.3464464283281,
          895.6326685032486,
          879.355903286843,
          899.012638711068,
          890.2254915641628,
          882.3268474238051,
          899.4097977661859,
          895.0616887673312,
          898.6608731240987,
          921.7241614679739,
          944.8150941255168,
          908.2876159680657,
          901.7125951696879,
          895.7118383826715,
          897.9928419786621,
          890.7586532558674,
          907.2379861596982,
          915.7727143678578,
          921.6813929475668,
          920.9117834503442,
          907.8669839087222,
          914.3172565334864,
          942.2707169560225,
          888.2257048835874,
          940.6026268910931,
          928.5272985184052,
          916.0105689661411,
          922.1351871357257,
          918.0767785998802,
          947.4123660019878,
          948.7076537187048,
          945.2087008328239,
          922.1537244175125,
          934.5378821551908,
          937.0476229446715,
          940.8816397949014,
          958.7656911873833,
          939.4672317057438,
          930.1969280309534,
          905.4161364427263,
          920.8176246250703,
          924.23185115808,
          915.6612117196888,
          937.2743704735209,
          918.8403775016677,
          911.0165073450888,
          902.0538405959261,
          879.8060144472154,
          879.678670704277,
          874.0090748258981,
          881.1081941732857,
          845.968530710339,
          831.0713661412452,
          799.4521589598272,
          786.2310745184135,
          767.7392235467795,
          709.169821039973,
          674.2625097463244,
          612.0481748726588,
          549.9280601699277,
          392.1055623154286,
          183.25015347325632,
          -104.27368257701683,
          -498.87396335050033,
          -1196.5110286881477,
          -2413.2848424805125,
          -4852.05798738948,
          -9798.059027172194,
          -16802.300781832193,
          -13105.962615990979,
          7779.294027206619,
          19545.301783460884,
          18045.36356726308,
          12819.621109502998,
          8312.871250906597,
          5447.088839703072,
          3915.445355925063,
          3057.1581159031075,
          2594.7255628055,
          2384.4653660358667,
          2280.0965327888457,
          2210.9993767696055,
          2254.789297404336,
          2378.1350033608896,
          2502.9919863092905,
          2683.428162879458,
          2866.8993179331724,
          3062.197721042382,
          3232.270735264615,
          3380.3406989024734,
          3466.554565717629,
          3473.3539547449723,
          3411.4182087860163,
          3280.288376034027,
          3088.9603392017007,
          2897.9563143105393,
          2664.471193266612,
          2479.264393447509,
          2316.0647341926624,
          2146.5468848994606,
          2028.9496047702905,
          1933.5622560229776,
          1843.6880420265213,
          1769.7373420902695,
          1692.9187512108203,
          1623.6930491807998,
          1613.6210298040824,
          1569.4294107225983,
          1540.8222575422114,
          1476.625935126737,
          1444.930584416628,
          1418.8896342188777,
          1428.9473401851087,
          1399.1062332406657,
          1334.569392235158,
          1340.8482758986727,
          1298.6572670114322,
          1299.116767493961,
          1292.6552754116299,
          1230.4655017014181,
          1231.391785944072,
          1231.3931465127903,
          1194.1644369912642,
          1150.727353878982,
          1145.3070818668273,
          1146.4992044405071,
          1107.3323694947603,
          1104.4151653908132,
          1099.600551488192,
          1049.908799813415,
          1023.1517487838244,
          1026.4181701810166,
          1026.8795606661506,
          1012.0642547504062,
          989.7235500055232,
          992.3982086616146,
          958.8299339278295,
          976.0156492331246,
          949.9330268939686,
          962.9442628672987,
          983.4305898140461,
          958.045110972696,
          973.8027655809701,
          981.3701159767891,
          1011.614697680198,
          968.9344947259348,
          1001.7747787488057,
          980.5207769768143,
          992.4935071089237,
          988.3377747981817,
          1022.1837964940534,
          998.2911306570155,
          994.0303641113965,
          1003.1649470534533,
          986.4237892784475,
          1002.3032800437896,
          1004.7880781177229,
          1030.1234002064223,
          1015.6709292614813,
          1014.161015970949,
          987.1919355607946,
          999.0871850023273,
          992.6277336400128,
          976.9526669482335,
          967.8902629175075,
          980.5521856847216,
          943.8563608988716,
          945.0859690513358,
          972.2158886117458,
          964.7198605204279,
          972.9641178086201,
          967.4897934770065,
          960.3668327158116,
          981.2483549180026,
          981.0205413198485,
          954.6421000086981,
          943.1361911391124,
          942.6014199557906,
          944.8851604472549,
          944.3801038935384,
          938.3061569471903
         ],
         "type": "scatter"
        },
        {
         "mode": "lines",
         "x": [
          1379.2857666015625,
          1378.16064453125,
          1377.0352783203125,
          1375.90966796875,
          1374.783935546875,
          1373.657958984375,
          1372.53173828125,
          1371.4053955078125,
          1370.27880859375,
          1369.1519775390625,
          1368.02490234375,
          1366.897705078125,
          1365.770263671875,
          1364.6427001953125,
          1363.5147705078125,
          1362.38671875,
          1361.258544921875,
          1360.1300048828125,
          1359.0013427734375,
          1357.87255859375,
          1356.743408203125,
          1355.6141357421875
         ],
         "y": [
          2085.2343177664557,
          2210.440347294484,
          2354.89668194345,
          2519.105811448885,
          2701.1668251900182,
          2895.1795085082804,
          3089.438068725215,
          3265.616917090999,
          3400.6227220261862,
          3472.1010125007933,
          3466.4540646346563,
          3384.7624559748315,
          3242.275707993894,
          3061.938760527713,
          2866.4310662162043,
          2673.239051806881,
          2493.193871735104,
          2331.5105211291,
          2189.6824419995264,
          2066.971293275233,
          1961.5596447982302,
          1871.310077334361
         ],
         "type": "scatter"
        }
       ],
       "layout": {
        "template": {
         "data": {
          "histogram2dcontour": [
           {
            "type": "histogram2dcontour",
            "colorbar": {
             "outlinewidth": 0,
             "ticks": ""
            },
            "colorscale": [
             [
              0.0,
              "#0d0887"
             ],
             [
              0.1111111111111111,
              "#46039f"
             ],
             [
              0.2222222222222222,
              "#7201a8"
             ],
             [
              0.3333333333333333,
              "#9c179e"
             ],
             [
              0.4444444444444444,
              "#bd3786"
             ],
             [
              0.5555555555555556,
              "#d8576b"
             ],
             [
              0.6666666666666666,
              "#ed7953"
             ],
             [
              0.7777777777777778,
              "#fb9f3a"
             ],
             [
              0.8888888888888888,
              "#fdca26"
             ],
             [
              1.0,
              "#f0f921"
             ]
            ]
           }
          ],
          "choropleth": [
           {
            "type": "choropleth",
            "colorbar": {
             "outlinewidth": 0,
             "ticks": ""
            }
           }
          ],
          "histogram2d": [
           {
            "type": "histogram2d",
            "colorbar": {
             "outlinewidth": 0,
             "ticks": ""
            },
            "colorscale": [
             [
              0.0,
              "#0d0887"
             ],
             [
              0.1111111111111111,
              "#46039f"
             ],
             [
              0.2222222222222222,
              "#7201a8"
             ],
             [
              0.3333333333333333,
              "#9c179e"
             ],
             [
              0.4444444444444444,
              "#bd3786"
             ],
             [
              0.5555555555555556,
              "#d8576b"
             ],
             [
              0.6666666666666666,
              "#ed7953"
             ],
             [
              0.7777777777777778,
              "#fb9f3a"
             ],
             [
              0.8888888888888888,
              "#fdca26"
             ],
             [
              1.0,
              "#f0f921"
             ]
            ]
           }
          ],
          "heatmap": [
           {
            "type": "heatmap",
            "colorbar": {
             "outlinewidth": 0,
             "ticks": ""
            },
            "colorscale": [
             [
              0.0,
              "#0d0887"
             ],
             [
              0.1111111111111111,
              "#46039f"
             ],
             [
              0.2222222222222222,
              "#7201a8"
             ],
             [
              0.3333333333333333,
              "#9c179e"
             ],
             [
              0.4444444444444444,
              "#bd3786"
             ],
             [
              0.5555555555555556,
              "#d8576b"
             ],
             [
              0.6666666666666666,
              "#ed7953"
             ],
             [
              0.7777777777777778,
              "#fb9f3a"
             ],
             [
              0.8888888888888888,
              "#fdca26"
             ],
             [
              1.0,
              "#f0f921"
             ]
            ]
           }
          ],
          "heatmapgl": [
           {
            "type": "heatmapgl",
            "colorbar": {
             "outlinewidth": 0,
             "ticks": ""
            },
            "colorscale": [
             [
              0.0,
              "#0d0887"
             ],
             [
              0.1111111111111111,
              "#46039f"
             ],
             [
              0.2222222222222222,
              "#7201a8"
             ],
             [
              0.3333333333333333,
              "#9c179e"
             ],
             [
              0.4444444444444444,
              "#bd3786"
             ],
             [
              0.5555555555555556,
              "#d8576b"
             ],
             [
              0.6666666666666666,
              "#ed7953"
             ],
             [
              0.7777777777777778,
              "#fb9f3a"
             ],
             [
              0.8888888888888888,
              "#fdca26"
             ],
             [
              1.0,
              "#f0f921"
             ]
            ]
           }
          ],
          "contourcarpet": [
           {
            "type": "contourcarpet",
            "colorbar": {
             "outlinewidth": 0,
             "ticks": ""
            }
           }
          ],
          "contour": [
           {
            "type": "contour",
            "colorbar": {
             "outlinewidth": 0,
             "ticks": ""
            },
            "colorscale": [
             [
              0.0,
              "#0d0887"
             ],
             [
              0.1111111111111111,
              "#46039f"
             ],
             [
              0.2222222222222222,
              "#7201a8"
             ],
             [
              0.3333333333333333,
              "#9c179e"
             ],
             [
              0.4444444444444444,
              "#bd3786"
             ],
             [
              0.5555555555555556,
              "#d8576b"
             ],
             [
              0.6666666666666666,
              "#ed7953"
             ],
             [
              0.7777777777777778,
              "#fb9f3a"
             ],
             [
              0.8888888888888888,
              "#fdca26"
             ],
             [
              1.0,
              "#f0f921"
             ]
            ]
           }
          ],
          "surface": [
           {
            "type": "surface",
            "colorbar": {
             "outlinewidth": 0,
             "ticks": ""
            },
            "colorscale": [
             [
              0.0,
              "#0d0887"
             ],
             [
              0.1111111111111111,
              "#46039f"
             ],
             [
              0.2222222222222222,
              "#7201a8"
             ],
             [
              0.3333333333333333,
              "#9c179e"
             ],
             [
              0.4444444444444444,
              "#bd3786"
             ],
             [
              0.5555555555555556,
              "#d8576b"
             ],
             [
              0.6666666666666666,
              "#ed7953"
             ],
             [
              0.7777777777777778,
              "#fb9f3a"
             ],
             [
              0.8888888888888888,
              "#fdca26"
             ],
             [
              1.0,
              "#f0f921"
             ]
            ]
           }
          ],
          "mesh3d": [
           {
            "type": "mesh3d",
            "colorbar": {
             "outlinewidth": 0,
             "ticks": ""
            }
           }
          ],
          "scatter": [
           {
            "marker": {
             "line": {
              "color": "#283442"
             }
            },
            "type": "scatter"
           }
          ],
          "parcoords": [
           {
            "type": "parcoords",
            "line": {
             "colorbar": {
              "outlinewidth": 0,
              "ticks": ""
             }
            }
           }
          ],
          "scatterpolargl": [
           {
            "type": "scatterpolargl",
            "marker": {
             "colorbar": {
              "outlinewidth": 0,
              "ticks": ""
             }
            }
           }
          ],
          "bar": [
           {
            "error_x": {
             "color": "#f2f5fa"
            },
            "error_y": {
             "color": "#f2f5fa"
            },
            "marker": {
             "line": {
              "color": "rgb(17,17,17)",
              "width": 0.5
             },
             "pattern": {
              "fillmode": "overlay",
              "size": 10,
              "solidity": 0.2
             }
            },
            "type": "bar"
           }
          ],
          "scattergeo": [
           {
            "type": "scattergeo",
            "marker": {
             "colorbar": {
              "outlinewidth": 0,
              "ticks": ""
             }
            }
           }
          ],
          "scatterpolar": [
           {
            "type": "scatterpolar",
            "marker": {
             "colorbar": {
              "outlinewidth": 0,
              "ticks": ""
             }
            }
           }
          ],
          "histogram": [
           {
            "marker": {
             "pattern": {
              "fillmode": "overlay",
              "size": 10,
              "solidity": 0.2
             }
            },
            "type": "histogram"
           }
          ],
          "scattergl": [
           {
            "marker": {
             "line": {
              "color": "#283442"
             }
            },
            "type": "scattergl"
           }
          ],
          "scatter3d": [
           {
            "type": "scatter3d",
            "line": {
             "colorbar": {
              "outlinewidth": 0,
              "ticks": ""
             }
            },
            "marker": {
             "colorbar": {
              "outlinewidth": 0,
              "ticks": ""
             }
            }
           }
          ],
          "scattermapbox": [
           {
            "type": "scattermapbox",
            "marker": {
             "colorbar": {
              "outlinewidth": 0,
              "ticks": ""
             }
            }
           }
          ],
          "scatterternary": [
           {
            "type": "scatterternary",
            "marker": {
             "colorbar": {
              "outlinewidth": 0,
              "ticks": ""
             }
            }
           }
          ],
          "scattercarpet": [
           {
            "type": "scattercarpet",
            "marker": {
             "colorbar": {
              "outlinewidth": 0,
              "ticks": ""
             }
            }
           }
          ],
          "carpet": [
           {
            "aaxis": {
             "endlinecolor": "#A2B1C6",
             "gridcolor": "#506784",
             "linecolor": "#506784",
             "minorgridcolor": "#506784",
             "startlinecolor": "#A2B1C6"
            },
            "baxis": {
             "endlinecolor": "#A2B1C6",
             "gridcolor": "#506784",
             "linecolor": "#506784",
             "minorgridcolor": "#506784",
             "startlinecolor": "#A2B1C6"
            },
            "type": "carpet"
           }
          ],
          "table": [
           {
            "cells": {
             "fill": {
              "color": "#506784"
             },
             "line": {
              "color": "rgb(17,17,17)"
             }
            },
            "header": {
             "fill": {
              "color": "#2a3f5f"
             },
             "line": {
              "color": "rgb(17,17,17)"
             }
            },
            "type": "table"
           }
          ],
          "barpolar": [
           {
            "marker": {
             "line": {
              "color": "rgb(17,17,17)",
              "width": 0.5
             },
             "pattern": {
              "fillmode": "overlay",
              "size": 10,
              "solidity": 0.2
             }
            },
            "type": "barpolar"
           }
          ],
          "pie": [
           {
            "automargin": true,
            "type": "pie"
           }
          ]
         },
         "layout": {
          "autotypenumbers": "strict",
          "colorway": [
           "#636efa",
           "#EF553B",
           "#00cc96",
           "#ab63fa",
           "#FFA15A",
           "#19d3f3",
           "#FF6692",
           "#B6E880",
           "#FF97FF",
           "#FECB52"
          ],
          "font": {
           "color": "#f2f5fa"
          },
          "hovermode": "closest",
          "hoverlabel": {
           "align": "left"
          },
          "paper_bgcolor": "rgb(17,17,17)",
          "plot_bgcolor": "rgb(17,17,17)",
          "polar": {
           "bgcolor": "rgb(17,17,17)",
           "angularaxis": {
            "gridcolor": "#506784",
            "linecolor": "#506784",
            "ticks": ""
           },
           "radialaxis": {
            "gridcolor": "#506784",
            "linecolor": "#506784",
            "ticks": ""
           }
          },
          "ternary": {
           "bgcolor": "rgb(17,17,17)",
           "aaxis": {
            "gridcolor": "#506784",
            "linecolor": "#506784",
            "ticks": ""
           },
           "baxis": {
            "gridcolor": "#506784",
            "linecolor": "#506784",
            "ticks": ""
           },
           "caxis": {
            "gridcolor": "#506784",
            "linecolor": "#506784",
            "ticks": ""
           }
          },
          "coloraxis": {
           "colorbar": {
            "outlinewidth": 0,
            "ticks": ""
           }
          },
          "colorscale": {
           "sequential": [
            [
             0.0,
             "#0d0887"
            ],
            [
             0.1111111111111111,
             "#46039f"
            ],
            [
             0.2222222222222222,
             "#7201a8"
            ],
            [
             0.3333333333333333,
             "#9c179e"
            ],
            [
             0.4444444444444444,
             "#bd3786"
            ],
            [
             0.5555555555555556,
             "#d8576b"
            ],
            [
             0.6666666666666666,
             "#ed7953"
            ],
            [
             0.7777777777777778,
             "#fb9f3a"
            ],
            [
             0.8888888888888888,
             "#fdca26"
            ],
            [
             1.0,
             "#f0f921"
            ]
           ],
           "sequentialminus": [
            [
             0.0,
             "#0d0887"
            ],
            [
             0.1111111111111111,
             "#46039f"
            ],
            [
             0.2222222222222222,
             "#7201a8"
            ],
            [
             0.3333333333333333,
             "#9c179e"
            ],
            [
             0.4444444444444444,
             "#bd3786"
            ],
            [
             0.5555555555555556,
             "#d8576b"
            ],
            [
             0.6666666666666666,
             "#ed7953"
            ],
            [
             0.7777777777777778,
             "#fb9f3a"
            ],
            [
             0.8888888888888888,
             "#fdca26"
            ],
            [
             1.0,
             "#f0f921"
            ]
           ],
           "diverging": [
            [
             0,
             "#8e0152"
            ],
            [
             0.1,
             "#c51b7d"
            ],
            [
             0.2,
             "#de77ae"
            ],
            [
             0.3,
             "#f1b6da"
            ],
            [
             0.4,
             "#fde0ef"
            ],
            [
             0.5,
             "#f7f7f7"
            ],
            [
             0.6,
             "#e6f5d0"
            ],
            [
             0.7,
             "#b8e186"
            ],
            [
             0.8,
             "#7fbc41"
            ],
            [
             0.9,
             "#4d9221"
            ],
            [
             1,
             "#276419"
            ]
           ]
          },
          "xaxis": {
           "gridcolor": "#283442",
           "linecolor": "#506784",
           "ticks": "",
           "title": {
            "standoff": 15
           },
           "zerolinecolor": "#283442",
           "automargin": true,
           "zerolinewidth": 2
          },
          "yaxis": {
           "gridcolor": "#283442",
           "linecolor": "#506784",
           "ticks": "",
           "title": {
            "standoff": 15
           },
           "zerolinecolor": "#283442",
           "automargin": true,
           "zerolinewidth": 2
          },
          "scene": {
           "xaxis": {
            "backgroundcolor": "rgb(17,17,17)",
            "gridcolor": "#506784",
            "linecolor": "#506784",
            "showbackground": true,
            "ticks": "",
            "zerolinecolor": "#C8D4E3",
            "gridwidth": 2
           },
           "yaxis": {
            "backgroundcolor": "rgb(17,17,17)",
            "gridcolor": "#506784",
            "linecolor": "#506784",
            "showbackground": true,
            "ticks": "",
            "zerolinecolor": "#C8D4E3",
            "gridwidth": 2
           },
           "zaxis": {
            "backgroundcolor": "rgb(17,17,17)",
            "gridcolor": "#506784",
            "linecolor": "#506784",
            "showbackground": true,
            "ticks": "",
            "zerolinecolor": "#C8D4E3",
            "gridwidth": 2
           }
          },
          "shapedefaults": {
           "line": {
            "color": "#f2f5fa"
           }
          },
          "annotationdefaults": {
           "arrowcolor": "#f2f5fa",
           "arrowhead": 0,
           "arrowwidth": 1
          },
          "geo": {
           "bgcolor": "rgb(17,17,17)",
           "landcolor": "rgb(17,17,17)",
           "subunitcolor": "#506784",
           "showland": true,
           "showlakes": true,
           "lakecolor": "rgb(17,17,17)"
          },
          "title": {
           "x": 0.05
          },
          "updatemenudefaults": {
           "bgcolor": "#506784",
           "borderwidth": 0
          },
          "sliderdefaults": {
           "bgcolor": "#C8D4E3",
           "borderwidth": 1,
           "bordercolor": "rgb(17,17,17)",
           "tickwidth": 0
          },
          "mapbox": {
           "style": "dark"
          }
         }
        },
        "hovermode": "x"
       },
       "config": {
        "plotlyServerURL": "https://plot.ly"
       }
      },
      "text/html": "<div>                            <div id=\"2dbb0420-6cfc-47c0-9aef-a9070a9912c1\" class=\"plotly-graph-div\" style=\"height:525px; width:100%;\"></div>            <script type=\"text/javascript\">                require([\"plotly\"], function(Plotly) {                    window.PLOTLYENV=window.PLOTLYENV || {};                                    if (document.getElementById(\"2dbb0420-6cfc-47c0-9aef-a9070a9912c1\")) {                    Plotly.newPlot(                        \"2dbb0420-6cfc-47c0-9aef-a9070a9912c1\",                        [{\"mode\":\"lines\",\"x\":[1489.670166015625,1488.5650634765625,1487.459716796875,1486.354248046875,1485.24853515625,1484.142578125,1483.0364990234375,1481.93017578125,1480.8236083984375,1479.7169189453125,1478.6099853515625,1477.5028076171875,1476.3955078125,1475.2879638671875,1474.1802978515625,1473.0723876953125,1471.9642333984375,1470.8558349609375,1469.747314453125,1468.638671875,1467.5296630859375,1466.4205322265625,1465.311279296875,1464.20166015625,1463.0919189453125,1461.9820556640625,1460.8719482421875,1459.7615966796875,1458.6510009765625,1457.540283203125,1456.4293212890625,1455.3182373046875,1454.2069091796875,1453.0953369140625,1451.983642578125,1450.8717041015625,1449.759521484375,1448.647216796875,1447.53466796875,1446.421875,1445.3089599609375,1444.19580078125,1443.0823974609375,1441.9688720703125,1440.8551025390625,1439.7410888671875,1438.626953125,1437.5125732421875,1436.3980712890625,1435.2833251953125,1434.1683349609375,1433.0531005859375,1431.937744140625,1430.8221435546875,1429.7064208984375,1428.5904541015625,1427.4742431640625,1426.35791015625,1425.2412109375,1424.12451171875,1423.0074462890625,1421.8902587890625,1420.7728271484375,1419.6552734375,1418.5374755859375,1417.41943359375,1416.30126953125,1415.182861328125,1414.064208984375,1412.9454345703125,1411.826416015625,1410.7071533203125,1409.587646484375,1408.468017578125,1407.3482666015625,1406.2281494140625,1405.10791015625,1403.9874267578125,1402.8668212890625,1401.7459716796875,1400.6248779296875,1399.503662109375,1398.3822021484375,1397.260498046875,1396.1385498046875,1395.0164794921875,1393.894287109375,1392.771728515625,1391.6490478515625,1390.526123046875,1389.403076171875,1388.2796630859375,1387.15625,1386.032470703125,1384.9085693359375,1383.784423828125,1382.6600341796875,1381.5355224609375,1380.4107666015625,1379.2857666015625,1378.16064453125,1377.0352783203125,1375.90966796875,1374.783935546875,1373.657958984375,1372.53173828125,1371.4053955078125,1370.27880859375,1369.1519775390625,1368.02490234375,1366.897705078125,1365.770263671875,1364.6427001953125,1363.5147705078125,1362.38671875,1361.258544921875,1360.1300048828125,1359.0013427734375,1357.87255859375,1356.743408203125,1355.6141357421875,1354.484619140625,1353.35498046875,1352.22509765625,1351.094970703125,1349.964599609375,1348.8341064453125,1347.703369140625,1346.5723876953125,1345.441162109375,1344.309814453125,1343.17822265625,1342.0465087890625,1340.91455078125,1339.7823486328125,1338.64990234375,1337.517333984375,1336.384521484375,1335.25146484375,1334.1181640625,1332.9847412109375,1331.85107421875,1330.7171630859375,1329.5831298828125,1328.4488525390625,1327.3143310546875,1326.1796875,1325.0447998046875,1323.90966796875,1322.7742919921875,1321.6387939453125,1320.5029296875,1319.3670654296875,1318.2308349609375,1317.094482421875,1315.9578857421875,1314.821044921875,1313.68408203125,1312.546875,1311.409423828125,1310.271728515625,1309.1339111328125,1307.995849609375,1306.8575439453125,1305.718994140625,1304.580322265625,1303.44140625,1302.3023681640625,1301.1629638671875,1300.0234375,1298.8836669921875,1297.74365234375,1296.603515625,1295.463134765625,1294.322509765625,1293.181640625,1292.0406494140625,1290.8994140625,1289.7579345703125,1288.6163330078125,1287.474365234375,1286.332275390625,1285.1900634765625,1284.0474853515625,1282.90478515625,1281.7618408203125,1280.61865234375,1279.475341796875,1278.3316650390625,1277.1878662109375,1276.0439453125,1274.899658203125,1273.7552490234375,1272.610595703125,1271.4656982421875,1270.3206787109375,1269.17529296875,1268.02978515625,1266.8841552734375],\"y\":[865.7152414513351,870.9558262642545,890.2514445601272,885.4421501308849,883.828682009522,870.3880741364578,862.0128240540193,854.7194637568135,878.7330791805507,878.7535651088659,893.6105481452308,884.5206180482271,896.7035940657246,893.1295850136626,892.8896511052451,874.5781932227497,878.8541749369854,881.5453754906289,892.3464464283281,895.6326685032486,879.355903286843,899.012638711068,890.2254915641628,882.3268474238051,899.4097977661859,895.0616887673312,898.6608731240987,921.7241614679739,944.8150941255168,908.2876159680657,901.7125951696879,895.7118383826715,897.9928419786621,890.7586532558674,907.2379861596982,915.7727143678578,921.6813929475668,920.9117834503442,907.8669839087222,914.3172565334864,942.2707169560225,888.2257048835874,940.6026268910931,928.5272985184052,916.0105689661411,922.1351871357257,918.0767785998802,947.4123660019878,948.7076537187048,945.2087008328239,922.1537244175125,934.5378821551908,937.0476229446715,940.8816397949014,958.7656911873833,939.4672317057438,930.1969280309534,905.4161364427263,920.8176246250703,924.23185115808,915.6612117196888,937.2743704735209,918.8403775016677,911.0165073450888,902.0538405959261,879.8060144472154,879.678670704277,874.0090748258981,881.1081941732857,845.968530710339,831.0713661412452,799.4521589598272,786.2310745184135,767.7392235467795,709.169821039973,674.2625097463244,612.0481748726588,549.9280601699277,392.1055623154286,183.25015347325632,-104.27368257701683,-498.87396335050033,-1196.5110286881477,-2413.2848424805125,-4852.05798738948,-9798.059027172194,-16802.300781832193,-13105.962615990979,7779.294027206619,19545.301783460884,18045.36356726308,12819.621109502998,8312.871250906597,5447.088839703072,3915.445355925063,3057.1581159031075,2594.7255628055,2384.4653660358667,2280.0965327888457,2210.9993767696055,2254.789297404336,2378.1350033608896,2502.9919863092905,2683.428162879458,2866.8993179331724,3062.197721042382,3232.270735264615,3380.3406989024734,3466.554565717629,3473.3539547449723,3411.4182087860163,3280.288376034027,3088.9603392017007,2897.9563143105393,2664.471193266612,2479.264393447509,2316.0647341926624,2146.5468848994606,2028.9496047702905,1933.5622560229776,1843.6880420265213,1769.7373420902695,1692.9187512108203,1623.6930491807998,1613.6210298040824,1569.4294107225983,1540.8222575422114,1476.625935126737,1444.930584416628,1418.8896342188777,1428.9473401851087,1399.1062332406657,1334.569392235158,1340.8482758986727,1298.6572670114322,1299.116767493961,1292.6552754116299,1230.4655017014181,1231.391785944072,1231.3931465127903,1194.1644369912642,1150.727353878982,1145.3070818668273,1146.4992044405071,1107.3323694947603,1104.4151653908132,1099.600551488192,1049.908799813415,1023.1517487838244,1026.4181701810166,1026.8795606661506,1012.0642547504062,989.7235500055232,992.3982086616146,958.8299339278295,976.0156492331246,949.9330268939686,962.9442628672987,983.4305898140461,958.045110972696,973.8027655809701,981.3701159767891,1011.614697680198,968.9344947259348,1001.7747787488057,980.5207769768143,992.4935071089237,988.3377747981817,1022.1837964940534,998.2911306570155,994.0303641113965,1003.1649470534533,986.4237892784475,1002.3032800437896,1004.7880781177229,1030.1234002064223,1015.6709292614813,1014.161015970949,987.1919355607946,999.0871850023273,992.6277336400128,976.9526669482335,967.8902629175075,980.5521856847216,943.8563608988716,945.0859690513358,972.2158886117458,964.7198605204279,972.9641178086201,967.4897934770065,960.3668327158116,981.2483549180026,981.0205413198485,954.6421000086981,943.1361911391124,942.6014199557906,944.8851604472549,944.3801038935384,938.3061569471903],\"type\":\"scatter\"},{\"mode\":\"lines\",\"x\":[1379.2857666015625,1378.16064453125,1377.0352783203125,1375.90966796875,1374.783935546875,1373.657958984375,1372.53173828125,1371.4053955078125,1370.27880859375,1369.1519775390625,1368.02490234375,1366.897705078125,1365.770263671875,1364.6427001953125,1363.5147705078125,1362.38671875,1361.258544921875,1360.1300048828125,1359.0013427734375,1357.87255859375,1356.743408203125,1355.6141357421875],\"y\":[2085.2343177664557,2210.440347294484,2354.89668194345,2519.105811448885,2701.1668251900182,2895.1795085082804,3089.438068725215,3265.616917090999,3400.6227220261862,3472.1010125007933,3466.4540646346563,3384.7624559748315,3242.275707993894,3061.938760527713,2866.4310662162043,2673.239051806881,2493.193871735104,2331.5105211291,2189.6824419995264,2066.971293275233,1961.5596447982302,1871.310077334361],\"type\":\"scatter\"}],                        {\"template\":{\"data\":{\"histogram2dcontour\":[{\"type\":\"histogram2dcontour\",\"colorbar\":{\"outlinewidth\":0,\"ticks\":\"\"},\"colorscale\":[[0.0,\"#0d0887\"],[0.1111111111111111,\"#46039f\"],[0.2222222222222222,\"#7201a8\"],[0.3333333333333333,\"#9c179e\"],[0.4444444444444444,\"#bd3786\"],[0.5555555555555556,\"#d8576b\"],[0.6666666666666666,\"#ed7953\"],[0.7777777777777778,\"#fb9f3a\"],[0.8888888888888888,\"#fdca26\"],[1.0,\"#f0f921\"]]}],\"choropleth\":[{\"type\":\"choropleth\",\"colorbar\":{\"outlinewidth\":0,\"ticks\":\"\"}}],\"histogram2d\":[{\"type\":\"histogram2d\",\"colorbar\":{\"outlinewidth\":0,\"ticks\":\"\"},\"colorscale\":[[0.0,\"#0d0887\"],[0.1111111111111111,\"#46039f\"],[0.2222222222222222,\"#7201a8\"],[0.3333333333333333,\"#9c179e\"],[0.4444444444444444,\"#bd3786\"],[0.5555555555555556,\"#d8576b\"],[0.6666666666666666,\"#ed7953\"],[0.7777777777777778,\"#fb9f3a\"],[0.8888888888888888,\"#fdca26\"],[1.0,\"#f0f921\"]]}],\"heatmap\":[{\"type\":\"heatmap\",\"colorbar\":{\"outlinewidth\":0,\"ticks\":\"\"},\"colorscale\":[[0.0,\"#0d0887\"],[0.1111111111111111,\"#46039f\"],[0.2222222222222222,\"#7201a8\"],[0.3333333333333333,\"#9c179e\"],[0.4444444444444444,\"#bd3786\"],[0.5555555555555556,\"#d8576b\"],[0.6666666666666666,\"#ed7953\"],[0.7777777777777778,\"#fb9f3a\"],[0.8888888888888888,\"#fdca26\"],[1.0,\"#f0f921\"]]}],\"heatmapgl\":[{\"type\":\"heatmapgl\",\"colorbar\":{\"outlinewidth\":0,\"ticks\":\"\"},\"colorscale\":[[0.0,\"#0d0887\"],[0.1111111111111111,\"#46039f\"],[0.2222222222222222,\"#7201a8\"],[0.3333333333333333,\"#9c179e\"],[0.4444444444444444,\"#bd3786\"],[0.5555555555555556,\"#d8576b\"],[0.6666666666666666,\"#ed7953\"],[0.7777777777777778,\"#fb9f3a\"],[0.8888888888888888,\"#fdca26\"],[1.0,\"#f0f921\"]]}],\"contourcarpet\":[{\"type\":\"contourcarpet\",\"colorbar\":{\"outlinewidth\":0,\"ticks\":\"\"}}],\"contour\":[{\"type\":\"contour\",\"colorbar\":{\"outlinewidth\":0,\"ticks\":\"\"},\"colorscale\":[[0.0,\"#0d0887\"],[0.1111111111111111,\"#46039f\"],[0.2222222222222222,\"#7201a8\"],[0.3333333333333333,\"#9c179e\"],[0.4444444444444444,\"#bd3786\"],[0.5555555555555556,\"#d8576b\"],[0.6666666666666666,\"#ed7953\"],[0.7777777777777778,\"#fb9f3a\"],[0.8888888888888888,\"#fdca26\"],[1.0,\"#f0f921\"]]}],\"surface\":[{\"type\":\"surface\",\"colorbar\":{\"outlinewidth\":0,\"ticks\":\"\"},\"colorscale\":[[0.0,\"#0d0887\"],[0.1111111111111111,\"#46039f\"],[0.2222222222222222,\"#7201a8\"],[0.3333333333333333,\"#9c179e\"],[0.4444444444444444,\"#bd3786\"],[0.5555555555555556,\"#d8576b\"],[0.6666666666666666,\"#ed7953\"],[0.7777777777777778,\"#fb9f3a\"],[0.8888888888888888,\"#fdca26\"],[1.0,\"#f0f921\"]]}],\"mesh3d\":[{\"type\":\"mesh3d\",\"colorbar\":{\"outlinewidth\":0,\"ticks\":\"\"}}],\"scatter\":[{\"marker\":{\"line\":{\"color\":\"#283442\"}},\"type\":\"scatter\"}],\"parcoords\":[{\"type\":\"parcoords\",\"line\":{\"colorbar\":{\"outlinewidth\":0,\"ticks\":\"\"}}}],\"scatterpolargl\":[{\"type\":\"scatterpolargl\",\"marker\":{\"colorbar\":{\"outlinewidth\":0,\"ticks\":\"\"}}}],\"bar\":[{\"error_x\":{\"color\":\"#f2f5fa\"},\"error_y\":{\"color\":\"#f2f5fa\"},\"marker\":{\"line\":{\"color\":\"rgb(17,17,17)\",\"width\":0.5},\"pattern\":{\"fillmode\":\"overlay\",\"size\":10,\"solidity\":0.2}},\"type\":\"bar\"}],\"scattergeo\":[{\"type\":\"scattergeo\",\"marker\":{\"colorbar\":{\"outlinewidth\":0,\"ticks\":\"\"}}}],\"scatterpolar\":[{\"type\":\"scatterpolar\",\"marker\":{\"colorbar\":{\"outlinewidth\":0,\"ticks\":\"\"}}}],\"histogram\":[{\"marker\":{\"pattern\":{\"fillmode\":\"overlay\",\"size\":10,\"solidity\":0.2}},\"type\":\"histogram\"}],\"scattergl\":[{\"marker\":{\"line\":{\"color\":\"#283442\"}},\"type\":\"scattergl\"}],\"scatter3d\":[{\"type\":\"scatter3d\",\"line\":{\"colorbar\":{\"outlinewidth\":0,\"ticks\":\"\"}},\"marker\":{\"colorbar\":{\"outlinewidth\":0,\"ticks\":\"\"}}}],\"scattermapbox\":[{\"type\":\"scattermapbox\",\"marker\":{\"colorbar\":{\"outlinewidth\":0,\"ticks\":\"\"}}}],\"scatterternary\":[{\"type\":\"scatterternary\",\"marker\":{\"colorbar\":{\"outlinewidth\":0,\"ticks\":\"\"}}}],\"scattercarpet\":[{\"type\":\"scattercarpet\",\"marker\":{\"colorbar\":{\"outlinewidth\":0,\"ticks\":\"\"}}}],\"carpet\":[{\"aaxis\":{\"endlinecolor\":\"#A2B1C6\",\"gridcolor\":\"#506784\",\"linecolor\":\"#506784\",\"minorgridcolor\":\"#506784\",\"startlinecolor\":\"#A2B1C6\"},\"baxis\":{\"endlinecolor\":\"#A2B1C6\",\"gridcolor\":\"#506784\",\"linecolor\":\"#506784\",\"minorgridcolor\":\"#506784\",\"startlinecolor\":\"#A2B1C6\"},\"type\":\"carpet\"}],\"table\":[{\"cells\":{\"fill\":{\"color\":\"#506784\"},\"line\":{\"color\":\"rgb(17,17,17)\"}},\"header\":{\"fill\":{\"color\":\"#2a3f5f\"},\"line\":{\"color\":\"rgb(17,17,17)\"}},\"type\":\"table\"}],\"barpolar\":[{\"marker\":{\"line\":{\"color\":\"rgb(17,17,17)\",\"width\":0.5},\"pattern\":{\"fillmode\":\"overlay\",\"size\":10,\"solidity\":0.2}},\"type\":\"barpolar\"}],\"pie\":[{\"automargin\":true,\"type\":\"pie\"}]},\"layout\":{\"autotypenumbers\":\"strict\",\"colorway\":[\"#636efa\",\"#EF553B\",\"#00cc96\",\"#ab63fa\",\"#FFA15A\",\"#19d3f3\",\"#FF6692\",\"#B6E880\",\"#FF97FF\",\"#FECB52\"],\"font\":{\"color\":\"#f2f5fa\"},\"hovermode\":\"closest\",\"hoverlabel\":{\"align\":\"left\"},\"paper_bgcolor\":\"rgb(17,17,17)\",\"plot_bgcolor\":\"rgb(17,17,17)\",\"polar\":{\"bgcolor\":\"rgb(17,17,17)\",\"angularaxis\":{\"gridcolor\":\"#506784\",\"linecolor\":\"#506784\",\"ticks\":\"\"},\"radialaxis\":{\"gridcolor\":\"#506784\",\"linecolor\":\"#506784\",\"ticks\":\"\"}},\"ternary\":{\"bgcolor\":\"rgb(17,17,17)\",\"aaxis\":{\"gridcolor\":\"#506784\",\"linecolor\":\"#506784\",\"ticks\":\"\"},\"baxis\":{\"gridcolor\":\"#506784\",\"linecolor\":\"#506784\",\"ticks\":\"\"},\"caxis\":{\"gridcolor\":\"#506784\",\"linecolor\":\"#506784\",\"ticks\":\"\"}},\"coloraxis\":{\"colorbar\":{\"outlinewidth\":0,\"ticks\":\"\"}},\"colorscale\":{\"sequential\":[[0.0,\"#0d0887\"],[0.1111111111111111,\"#46039f\"],[0.2222222222222222,\"#7201a8\"],[0.3333333333333333,\"#9c179e\"],[0.4444444444444444,\"#bd3786\"],[0.5555555555555556,\"#d8576b\"],[0.6666666666666666,\"#ed7953\"],[0.7777777777777778,\"#fb9f3a\"],[0.8888888888888888,\"#fdca26\"],[1.0,\"#f0f921\"]],\"sequentialminus\":[[0.0,\"#0d0887\"],[0.1111111111111111,\"#46039f\"],[0.2222222222222222,\"#7201a8\"],[0.3333333333333333,\"#9c179e\"],[0.4444444444444444,\"#bd3786\"],[0.5555555555555556,\"#d8576b\"],[0.6666666666666666,\"#ed7953\"],[0.7777777777777778,\"#fb9f3a\"],[0.8888888888888888,\"#fdca26\"],[1.0,\"#f0f921\"]],\"diverging\":[[0,\"#8e0152\"],[0.1,\"#c51b7d\"],[0.2,\"#de77ae\"],[0.3,\"#f1b6da\"],[0.4,\"#fde0ef\"],[0.5,\"#f7f7f7\"],[0.6,\"#e6f5d0\"],[0.7,\"#b8e186\"],[0.8,\"#7fbc41\"],[0.9,\"#4d9221\"],[1,\"#276419\"]]},\"xaxis\":{\"gridcolor\":\"#283442\",\"linecolor\":\"#506784\",\"ticks\":\"\",\"title\":{\"standoff\":15},\"zerolinecolor\":\"#283442\",\"automargin\":true,\"zerolinewidth\":2},\"yaxis\":{\"gridcolor\":\"#283442\",\"linecolor\":\"#506784\",\"ticks\":\"\",\"title\":{\"standoff\":15},\"zerolinecolor\":\"#283442\",\"automargin\":true,\"zerolinewidth\":2},\"scene\":{\"xaxis\":{\"backgroundcolor\":\"rgb(17,17,17)\",\"gridcolor\":\"#506784\",\"linecolor\":\"#506784\",\"showbackground\":true,\"ticks\":\"\",\"zerolinecolor\":\"#C8D4E3\",\"gridwidth\":2},\"yaxis\":{\"backgroundcolor\":\"rgb(17,17,17)\",\"gridcolor\":\"#506784\",\"linecolor\":\"#506784\",\"showbackground\":true,\"ticks\":\"\",\"zerolinecolor\":\"#C8D4E3\",\"gridwidth\":2},\"zaxis\":{\"backgroundcolor\":\"rgb(17,17,17)\",\"gridcolor\":\"#506784\",\"linecolor\":\"#506784\",\"showbackground\":true,\"ticks\":\"\",\"zerolinecolor\":\"#C8D4E3\",\"gridwidth\":2}},\"shapedefaults\":{\"line\":{\"color\":\"#f2f5fa\"}},\"annotationdefaults\":{\"arrowcolor\":\"#f2f5fa\",\"arrowhead\":0,\"arrowwidth\":1},\"geo\":{\"bgcolor\":\"rgb(17,17,17)\",\"landcolor\":\"rgb(17,17,17)\",\"subunitcolor\":\"#506784\",\"showland\":true,\"showlakes\":true,\"lakecolor\":\"rgb(17,17,17)\"},\"title\":{\"x\":0.05},\"updatemenudefaults\":{\"bgcolor\":\"#506784\",\"borderwidth\":0},\"sliderdefaults\":{\"bgcolor\":\"#C8D4E3\",\"borderwidth\":1,\"bordercolor\":\"rgb(17,17,17)\",\"tickwidth\":0},\"mapbox\":{\"style\":\"dark\"}}},\"hovermode\":\"x\"},                        {\"responsive\": true}                    ).then(function(){\n                            \nvar gd = document.getElementById('2dbb0420-6cfc-47c0-9aef-a9070a9912c1');\nvar x = new MutationObserver(function (mutations, observer) {{\n        var display = window.getComputedStyle(gd).display;\n        if (!display || display === 'none') {{\n            console.log([gd, 'removed!']);\n            Plotly.purge(gd);\n            observer.disconnect();\n        }}\n}});\n\n// Listen for the removal of the full notebook cells\nvar notebookContainer = gd.closest('#notebook-container');\nif (notebookContainer) {{\n    x.observe(notebookContainer, {childList: true});\n}}\n\n// Listen for the clearing of the current output cell\nvar outputEl = gd.closest('.output');\nif (outputEl) {{\n    x.observe(outputEl, {childList: true});\n}}\n\n                        })                };                });            </script>        </div>"
     },
     "metadata": {},
     "output_type": "display_data"
    },
    {
     "data": {
      "application/vnd.plotly.v1+json": {
       "data": [
        {
         "mode": "lines",
         "x": [
          1489.670166015625,
          1488.5650634765625,
          1487.459716796875,
          1486.354248046875,
          1485.24853515625,
          1484.142578125,
          1483.0364990234375,
          1481.93017578125,
          1480.8236083984375,
          1479.7169189453125,
          1478.6099853515625,
          1477.5028076171875,
          1476.3955078125,
          1475.2879638671875,
          1474.1802978515625,
          1473.0723876953125,
          1471.9642333984375,
          1470.8558349609375,
          1469.747314453125,
          1468.638671875,
          1467.5296630859375,
          1466.4205322265625,
          1465.311279296875,
          1464.20166015625,
          1463.0919189453125,
          1461.9820556640625,
          1460.8719482421875,
          1459.7615966796875,
          1458.6510009765625,
          1457.540283203125,
          1456.4293212890625,
          1455.3182373046875,
          1454.2069091796875,
          1453.0953369140625,
          1451.983642578125,
          1450.8717041015625,
          1449.759521484375,
          1448.647216796875,
          1447.53466796875,
          1446.421875,
          1445.3089599609375,
          1444.19580078125,
          1443.0823974609375,
          1441.9688720703125,
          1440.8551025390625,
          1439.7410888671875,
          1438.626953125,
          1437.5125732421875,
          1436.3980712890625,
          1435.2833251953125,
          1434.1683349609375,
          1433.0531005859375,
          1431.937744140625,
          1430.8221435546875,
          1429.7064208984375,
          1428.5904541015625,
          1427.4742431640625,
          1426.35791015625,
          1425.2412109375,
          1424.12451171875,
          1423.0074462890625,
          1421.8902587890625,
          1420.7728271484375,
          1419.6552734375,
          1418.5374755859375,
          1417.41943359375,
          1416.30126953125,
          1415.182861328125,
          1414.064208984375,
          1412.9454345703125,
          1411.826416015625,
          1410.7071533203125,
          1409.587646484375,
          1408.468017578125,
          1407.3482666015625,
          1406.2281494140625,
          1405.10791015625,
          1403.9874267578125,
          1402.8668212890625,
          1401.7459716796875,
          1400.6248779296875,
          1399.503662109375,
          1398.3822021484375,
          1397.260498046875,
          1396.1385498046875,
          1395.0164794921875,
          1393.894287109375,
          1392.771728515625,
          1391.6490478515625,
          1390.526123046875,
          1389.403076171875,
          1388.2796630859375,
          1387.15625,
          1386.032470703125,
          1384.9085693359375,
          1383.784423828125,
          1382.6600341796875,
          1381.5355224609375,
          1380.4107666015625,
          1379.2857666015625,
          1378.16064453125,
          1377.0352783203125,
          1375.90966796875,
          1374.783935546875,
          1373.657958984375,
          1372.53173828125,
          1371.4053955078125,
          1370.27880859375,
          1369.1519775390625,
          1368.02490234375,
          1366.897705078125,
          1365.770263671875,
          1364.6427001953125,
          1363.5147705078125,
          1362.38671875,
          1361.258544921875,
          1360.1300048828125,
          1359.0013427734375,
          1357.87255859375,
          1356.743408203125,
          1355.6141357421875,
          1354.484619140625,
          1353.35498046875,
          1352.22509765625,
          1351.094970703125,
          1349.964599609375,
          1348.8341064453125,
          1347.703369140625,
          1346.5723876953125,
          1345.441162109375,
          1344.309814453125,
          1343.17822265625,
          1342.0465087890625,
          1340.91455078125,
          1339.7823486328125,
          1338.64990234375,
          1337.517333984375,
          1336.384521484375,
          1335.25146484375,
          1334.1181640625,
          1332.9847412109375,
          1331.85107421875,
          1330.7171630859375,
          1329.5831298828125,
          1328.4488525390625,
          1327.3143310546875,
          1326.1796875,
          1325.0447998046875,
          1323.90966796875,
          1322.7742919921875,
          1321.6387939453125,
          1320.5029296875,
          1319.3670654296875,
          1318.2308349609375,
          1317.094482421875,
          1315.9578857421875,
          1314.821044921875,
          1313.68408203125,
          1312.546875,
          1311.409423828125,
          1310.271728515625,
          1309.1339111328125,
          1307.995849609375,
          1306.8575439453125,
          1305.718994140625,
          1304.580322265625,
          1303.44140625,
          1302.3023681640625,
          1301.1629638671875,
          1300.0234375,
          1298.8836669921875,
          1297.74365234375,
          1296.603515625,
          1295.463134765625,
          1294.322509765625,
          1293.181640625,
          1292.0406494140625,
          1290.8994140625,
          1289.7579345703125,
          1288.6163330078125,
          1287.474365234375,
          1286.332275390625,
          1285.1900634765625,
          1284.0474853515625,
          1282.90478515625,
          1281.7618408203125,
          1280.61865234375,
          1279.475341796875,
          1278.3316650390625,
          1277.1878662109375,
          1276.0439453125,
          1274.899658203125,
          1273.7552490234375,
          1272.610595703125,
          1271.4656982421875,
          1270.3206787109375,
          1269.17529296875,
          1268.02978515625,
          1266.8841552734375
         ],
         "y": [
          -2067.7183231518893,
          -2068.876419586513,
          -2014.2744942513189,
          -2047.3881714734114,
          -2055.8784334848865,
          -2030.1439736837738,
          -2023.2173371618817,
          -2004.824355630187,
          -2024.2283482994137,
          -2019.3163712297799,
          -2023.8859681884053,
          -2002.696425567304,
          -2015.321727664704,
          -1963.410916978654,
          -2007.9248771309428,
          -1966.7736270252444,
          -1990.2543485971205,
          -1977.8693737963765,
          -1979.3974756730793,
          -1998.8809411980258,
          -2003.1309700235227,
          -1973.4578397387884,
          -1989.6066678596235,
          -1988.7240957265576,
          -1963.941884335102,
          -1974.7924355402802,
          -1967.981607051963,
          -1985.1870132327795,
          -1998.1883203206403,
          -1983.518630465403,
          -1982.4502829807548,
          -1973.9018653025016,
          -1975.3753169778356,
          -1983.7497374241789,
          -1996.4959951988087,
          -2001.771743135537,
          -1994.010699605887,
          -1984.3055302216262,
          -1980.4810199368255,
          -1964.083751904811,
          -2019.0215086274882,
          -1995.0400715757225,
          -2026.7659478547478,
          -2003.2610637611774,
          -2016.1741662272132,
          -2000.6649286458266,
          -2015.0741106910575,
          -2034.179890535042,
          -2053.601362737529,
          -2069.2781477415715,
          -2068.3172034762083,
          -2057.96453788483,
          -2068.600323622444,
          -2065.3873798228256,
          -2081.369538973904,
          -2091.588007272222,
          -2100.2663294312483,
          -2079.2532090003115,
          -2069.948871724923,
          -2131.2389284177902,
          -2135.1046696992457,
          -2141.2387404143765,
          -2137.9360747281885,
          -2165.1333876321837,
          -2204.691002279239,
          -2160.588196473257,
          -2201.6252127663524,
          -2208.239127872404,
          -2218.2549211599076,
          -2239.3424103007137,
          -2270.326847764922,
          -2277.226905595773,
          -2319.1934553169576,
          -2347.290374944939,
          -2376.2180790119073,
          -2425.322549452944,
          -2494.0683249135172,
          -2545.5006894718886,
          -2613.027999478044,
          -2718.9053589307664,
          -2835.8677733340396,
          -2964.6832671514057,
          -3208.1816332396425,
          -3593.835093033931,
          -4216.214276742141,
          -5099.920627137932,
          -5532.9841987809705,
          -2585.4057221203184,
          973.0929711912871,
          556.6832314154317,
          -1085.0802270601487,
          -2249.3399401034485,
          -2972.8315822446048,
          -3421.991163733543,
          -3636.189849816357,
          -3941.749620387236,
          -4209.159336762472,
          -4490.938346482,
          -4847.166181632242,
          -5127.488937486948,
          -5517.568016512399,
          -5973.802391956378,
          -6476.342266737654,
          -7011.5046658625015,
          -7606.07772687869,
          -8125.869087908334,
          -8646.102975535458,
          -8986.646376936154,
          -9171.74280143822,
          -9228.541569013392,
          -9079.18405204892,
          -8751.18377803894,
          -8310.367582520385,
          -7738.069684424383,
          -7189.6184510069525,
          -6611.049522890224,
          -6105.8333879014635,
          -5627.70945085601,
          -5182.362377037688,
          -4798.649335313534,
          -4458.001114986074,
          -4126.525762193938,
          -3820.222831508567,
          -3586.6225006701993,
          -3328.5605678113857,
          -3094.961747941311,
          -2909.497503330182,
          -2725.416894066077,
          -2578.8483655835494,
          -2455.8055724535543,
          -2354.145344339353,
          -2199.6652521370215,
          -2124.7343031555,
          -2050.140732352457,
          -1969.2067788787117,
          -1944.6256791506412,
          -1933.4343863736665,
          -1910.43673338272,
          -1892.4602750947827,
          -1859.4851543275317,
          -1886.8069279296474,
          -1859.6374968340913,
          -1870.3092282633122,
          -1873.6155661885768,
          -1907.2641926847189,
          -1880.9732194220808,
          -1885.0242455174935,
          -1858.534018027152,
          -1875.1165638523837,
          -1834.9995574982297,
          -1871.6892130547924,
          -1843.4024806114096,
          -1845.9864472138431,
          -1834.21346376133,
          -1854.369317871554,
          -1823.0576299439738,
          -1834.9066231686697,
          -1839.828601148518,
          -1833.1932378207853,
          -1805.614141716474,
          -1824.1867909273801,
          -1856.95667533843,
          -1849.512499925278,
          -1831.724859992918,
          -1852.1368540059875,
          -1839.8548374093411,
          -1830.3921697810194,
          -1826.307875430002,
          -1812.1319562867407,
          -1819.7322278138643,
          -1826.6856296879664,
          -1825.2840430161712,
          -1799.873831904945,
          -1790.5714395843202,
          -1801.0489431827946,
          -1815.0213311256412,
          -1805.5501751612578,
          -1775.3777955463106,
          -1795.746582359166,
          -1792.8221866710123,
          -1756.2978155506428,
          -1747.6246465411027,
          -1752.0130328330513,
          -1732.0019012903736,
          -1748.206248176747,
          -1723.6003559477354,
          -1751.5951882567726,
          -1738.063915848735,
          -1753.4248278067028,
          -1735.0494570128376,
          -1712.914132652797,
          -1720.0870026877403,
          -1730.5902240817254,
          -1695.7185036779865,
          -1701.605987617973,
          -1678.670203570996,
          -1712.0488658783254,
          -1690.2923477459321,
          -1677.1247689421346
         ],
         "type": "scatter"
        },
        {
         "mode": "lines",
         "x": [
          1379.2857666015625,
          1378.16064453125,
          1377.0352783203125,
          1375.90966796875,
          1374.783935546875,
          1373.657958984375,
          1372.53173828125,
          1371.4053955078125,
          1370.27880859375,
          1369.1519775390625,
          1368.02490234375,
          1366.897705078125,
          1365.770263671875,
          1364.6427001953125,
          1363.5147705078125,
          1362.38671875,
          1361.258544921875,
          1360.1300048828125,
          1359.0013427734375,
          1357.87255859375,
          1356.743408203125,
          1355.6141357421875
         ],
         "y": [
          -5088.633771016233,
          -5507.735419704921,
          -5975.284209720028,
          -6487.703883917544,
          -7034.484883442787,
          -7595.542226772332,
          -8138.940792890211,
          -8621.27374882217,
          -8992.691565559511,
          -9206.772971536626,
          -9233.370908790856,
          -9068.48459679455,
          -8735.621610427792,
          -8277.982196109753,
          -7745.64872857537,
          -7184.697482088559,
          -6630.504381406412,
          -6106.274117259134,
          -5625.009756120014,
          -5191.910925979597,
          -4807.110007210846,
          -4468.03736396127
         ],
         "type": "scatter"
        }
       ],
       "layout": {
        "template": {
         "data": {
          "histogram2dcontour": [
           {
            "type": "histogram2dcontour",
            "colorbar": {
             "outlinewidth": 0,
             "ticks": ""
            },
            "colorscale": [
             [
              0.0,
              "#0d0887"
             ],
             [
              0.1111111111111111,
              "#46039f"
             ],
             [
              0.2222222222222222,
              "#7201a8"
             ],
             [
              0.3333333333333333,
              "#9c179e"
             ],
             [
              0.4444444444444444,
              "#bd3786"
             ],
             [
              0.5555555555555556,
              "#d8576b"
             ],
             [
              0.6666666666666666,
              "#ed7953"
             ],
             [
              0.7777777777777778,
              "#fb9f3a"
             ],
             [
              0.8888888888888888,
              "#fdca26"
             ],
             [
              1.0,
              "#f0f921"
             ]
            ]
           }
          ],
          "choropleth": [
           {
            "type": "choropleth",
            "colorbar": {
             "outlinewidth": 0,
             "ticks": ""
            }
           }
          ],
          "histogram2d": [
           {
            "type": "histogram2d",
            "colorbar": {
             "outlinewidth": 0,
             "ticks": ""
            },
            "colorscale": [
             [
              0.0,
              "#0d0887"
             ],
             [
              0.1111111111111111,
              "#46039f"
             ],
             [
              0.2222222222222222,
              "#7201a8"
             ],
             [
              0.3333333333333333,
              "#9c179e"
             ],
             [
              0.4444444444444444,
              "#bd3786"
             ],
             [
              0.5555555555555556,
              "#d8576b"
             ],
             [
              0.6666666666666666,
              "#ed7953"
             ],
             [
              0.7777777777777778,
              "#fb9f3a"
             ],
             [
              0.8888888888888888,
              "#fdca26"
             ],
             [
              1.0,
              "#f0f921"
             ]
            ]
           }
          ],
          "heatmap": [
           {
            "type": "heatmap",
            "colorbar": {
             "outlinewidth": 0,
             "ticks": ""
            },
            "colorscale": [
             [
              0.0,
              "#0d0887"
             ],
             [
              0.1111111111111111,
              "#46039f"
             ],
             [
              0.2222222222222222,
              "#7201a8"
             ],
             [
              0.3333333333333333,
              "#9c179e"
             ],
             [
              0.4444444444444444,
              "#bd3786"
             ],
             [
              0.5555555555555556,
              "#d8576b"
             ],
             [
              0.6666666666666666,
              "#ed7953"
             ],
             [
              0.7777777777777778,
              "#fb9f3a"
             ],
             [
              0.8888888888888888,
              "#fdca26"
             ],
             [
              1.0,
              "#f0f921"
             ]
            ]
           }
          ],
          "heatmapgl": [
           {
            "type": "heatmapgl",
            "colorbar": {
             "outlinewidth": 0,
             "ticks": ""
            },
            "colorscale": [
             [
              0.0,
              "#0d0887"
             ],
             [
              0.1111111111111111,
              "#46039f"
             ],
             [
              0.2222222222222222,
              "#7201a8"
             ],
             [
              0.3333333333333333,
              "#9c179e"
             ],
             [
              0.4444444444444444,
              "#bd3786"
             ],
             [
              0.5555555555555556,
              "#d8576b"
             ],
             [
              0.6666666666666666,
              "#ed7953"
             ],
             [
              0.7777777777777778,
              "#fb9f3a"
             ],
             [
              0.8888888888888888,
              "#fdca26"
             ],
             [
              1.0,
              "#f0f921"
             ]
            ]
           }
          ],
          "contourcarpet": [
           {
            "type": "contourcarpet",
            "colorbar": {
             "outlinewidth": 0,
             "ticks": ""
            }
           }
          ],
          "contour": [
           {
            "type": "contour",
            "colorbar": {
             "outlinewidth": 0,
             "ticks": ""
            },
            "colorscale": [
             [
              0.0,
              "#0d0887"
             ],
             [
              0.1111111111111111,
              "#46039f"
             ],
             [
              0.2222222222222222,
              "#7201a8"
             ],
             [
              0.3333333333333333,
              "#9c179e"
             ],
             [
              0.4444444444444444,
              "#bd3786"
             ],
             [
              0.5555555555555556,
              "#d8576b"
             ],
             [
              0.6666666666666666,
              "#ed7953"
             ],
             [
              0.7777777777777778,
              "#fb9f3a"
             ],
             [
              0.8888888888888888,
              "#fdca26"
             ],
             [
              1.0,
              "#f0f921"
             ]
            ]
           }
          ],
          "surface": [
           {
            "type": "surface",
            "colorbar": {
             "outlinewidth": 0,
             "ticks": ""
            },
            "colorscale": [
             [
              0.0,
              "#0d0887"
             ],
             [
              0.1111111111111111,
              "#46039f"
             ],
             [
              0.2222222222222222,
              "#7201a8"
             ],
             [
              0.3333333333333333,
              "#9c179e"
             ],
             [
              0.4444444444444444,
              "#bd3786"
             ],
             [
              0.5555555555555556,
              "#d8576b"
             ],
             [
              0.6666666666666666,
              "#ed7953"
             ],
             [
              0.7777777777777778,
              "#fb9f3a"
             ],
             [
              0.8888888888888888,
              "#fdca26"
             ],
             [
              1.0,
              "#f0f921"
             ]
            ]
           }
          ],
          "mesh3d": [
           {
            "type": "mesh3d",
            "colorbar": {
             "outlinewidth": 0,
             "ticks": ""
            }
           }
          ],
          "scatter": [
           {
            "marker": {
             "line": {
              "color": "#283442"
             }
            },
            "type": "scatter"
           }
          ],
          "parcoords": [
           {
            "type": "parcoords",
            "line": {
             "colorbar": {
              "outlinewidth": 0,
              "ticks": ""
             }
            }
           }
          ],
          "scatterpolargl": [
           {
            "type": "scatterpolargl",
            "marker": {
             "colorbar": {
              "outlinewidth": 0,
              "ticks": ""
             }
            }
           }
          ],
          "bar": [
           {
            "error_x": {
             "color": "#f2f5fa"
            },
            "error_y": {
             "color": "#f2f5fa"
            },
            "marker": {
             "line": {
              "color": "rgb(17,17,17)",
              "width": 0.5
             },
             "pattern": {
              "fillmode": "overlay",
              "size": 10,
              "solidity": 0.2
             }
            },
            "type": "bar"
           }
          ],
          "scattergeo": [
           {
            "type": "scattergeo",
            "marker": {
             "colorbar": {
              "outlinewidth": 0,
              "ticks": ""
             }
            }
           }
          ],
          "scatterpolar": [
           {
            "type": "scatterpolar",
            "marker": {
             "colorbar": {
              "outlinewidth": 0,
              "ticks": ""
             }
            }
           }
          ],
          "histogram": [
           {
            "marker": {
             "pattern": {
              "fillmode": "overlay",
              "size": 10,
              "solidity": 0.2
             }
            },
            "type": "histogram"
           }
          ],
          "scattergl": [
           {
            "marker": {
             "line": {
              "color": "#283442"
             }
            },
            "type": "scattergl"
           }
          ],
          "scatter3d": [
           {
            "type": "scatter3d",
            "line": {
             "colorbar": {
              "outlinewidth": 0,
              "ticks": ""
             }
            },
            "marker": {
             "colorbar": {
              "outlinewidth": 0,
              "ticks": ""
             }
            }
           }
          ],
          "scattermapbox": [
           {
            "type": "scattermapbox",
            "marker": {
             "colorbar": {
              "outlinewidth": 0,
              "ticks": ""
             }
            }
           }
          ],
          "scatterternary": [
           {
            "type": "scatterternary",
            "marker": {
             "colorbar": {
              "outlinewidth": 0,
              "ticks": ""
             }
            }
           }
          ],
          "scattercarpet": [
           {
            "type": "scattercarpet",
            "marker": {
             "colorbar": {
              "outlinewidth": 0,
              "ticks": ""
             }
            }
           }
          ],
          "carpet": [
           {
            "aaxis": {
             "endlinecolor": "#A2B1C6",
             "gridcolor": "#506784",
             "linecolor": "#506784",
             "minorgridcolor": "#506784",
             "startlinecolor": "#A2B1C6"
            },
            "baxis": {
             "endlinecolor": "#A2B1C6",
             "gridcolor": "#506784",
             "linecolor": "#506784",
             "minorgridcolor": "#506784",
             "startlinecolor": "#A2B1C6"
            },
            "type": "carpet"
           }
          ],
          "table": [
           {
            "cells": {
             "fill": {
              "color": "#506784"
             },
             "line": {
              "color": "rgb(17,17,17)"
             }
            },
            "header": {
             "fill": {
              "color": "#2a3f5f"
             },
             "line": {
              "color": "rgb(17,17,17)"
             }
            },
            "type": "table"
           }
          ],
          "barpolar": [
           {
            "marker": {
             "line": {
              "color": "rgb(17,17,17)",
              "width": 0.5
             },
             "pattern": {
              "fillmode": "overlay",
              "size": 10,
              "solidity": 0.2
             }
            },
            "type": "barpolar"
           }
          ],
          "pie": [
           {
            "automargin": true,
            "type": "pie"
           }
          ]
         },
         "layout": {
          "autotypenumbers": "strict",
          "colorway": [
           "#636efa",
           "#EF553B",
           "#00cc96",
           "#ab63fa",
           "#FFA15A",
           "#19d3f3",
           "#FF6692",
           "#B6E880",
           "#FF97FF",
           "#FECB52"
          ],
          "font": {
           "color": "#f2f5fa"
          },
          "hovermode": "closest",
          "hoverlabel": {
           "align": "left"
          },
          "paper_bgcolor": "rgb(17,17,17)",
          "plot_bgcolor": "rgb(17,17,17)",
          "polar": {
           "bgcolor": "rgb(17,17,17)",
           "angularaxis": {
            "gridcolor": "#506784",
            "linecolor": "#506784",
            "ticks": ""
           },
           "radialaxis": {
            "gridcolor": "#506784",
            "linecolor": "#506784",
            "ticks": ""
           }
          },
          "ternary": {
           "bgcolor": "rgb(17,17,17)",
           "aaxis": {
            "gridcolor": "#506784",
            "linecolor": "#506784",
            "ticks": ""
           },
           "baxis": {
            "gridcolor": "#506784",
            "linecolor": "#506784",
            "ticks": ""
           },
           "caxis": {
            "gridcolor": "#506784",
            "linecolor": "#506784",
            "ticks": ""
           }
          },
          "coloraxis": {
           "colorbar": {
            "outlinewidth": 0,
            "ticks": ""
           }
          },
          "colorscale": {
           "sequential": [
            [
             0.0,
             "#0d0887"
            ],
            [
             0.1111111111111111,
             "#46039f"
            ],
            [
             0.2222222222222222,
             "#7201a8"
            ],
            [
             0.3333333333333333,
             "#9c179e"
            ],
            [
             0.4444444444444444,
             "#bd3786"
            ],
            [
             0.5555555555555556,
             "#d8576b"
            ],
            [
             0.6666666666666666,
             "#ed7953"
            ],
            [
             0.7777777777777778,
             "#fb9f3a"
            ],
            [
             0.8888888888888888,
             "#fdca26"
            ],
            [
             1.0,
             "#f0f921"
            ]
           ],
           "sequentialminus": [
            [
             0.0,
             "#0d0887"
            ],
            [
             0.1111111111111111,
             "#46039f"
            ],
            [
             0.2222222222222222,
             "#7201a8"
            ],
            [
             0.3333333333333333,
             "#9c179e"
            ],
            [
             0.4444444444444444,
             "#bd3786"
            ],
            [
             0.5555555555555556,
             "#d8576b"
            ],
            [
             0.6666666666666666,
             "#ed7953"
            ],
            [
             0.7777777777777778,
             "#fb9f3a"
            ],
            [
             0.8888888888888888,
             "#fdca26"
            ],
            [
             1.0,
             "#f0f921"
            ]
           ],
           "diverging": [
            [
             0,
             "#8e0152"
            ],
            [
             0.1,
             "#c51b7d"
            ],
            [
             0.2,
             "#de77ae"
            ],
            [
             0.3,
             "#f1b6da"
            ],
            [
             0.4,
             "#fde0ef"
            ],
            [
             0.5,
             "#f7f7f7"
            ],
            [
             0.6,
             "#e6f5d0"
            ],
            [
             0.7,
             "#b8e186"
            ],
            [
             0.8,
             "#7fbc41"
            ],
            [
             0.9,
             "#4d9221"
            ],
            [
             1,
             "#276419"
            ]
           ]
          },
          "xaxis": {
           "gridcolor": "#283442",
           "linecolor": "#506784",
           "ticks": "",
           "title": {
            "standoff": 15
           },
           "zerolinecolor": "#283442",
           "automargin": true,
           "zerolinewidth": 2
          },
          "yaxis": {
           "gridcolor": "#283442",
           "linecolor": "#506784",
           "ticks": "",
           "title": {
            "standoff": 15
           },
           "zerolinecolor": "#283442",
           "automargin": true,
           "zerolinewidth": 2
          },
          "scene": {
           "xaxis": {
            "backgroundcolor": "rgb(17,17,17)",
            "gridcolor": "#506784",
            "linecolor": "#506784",
            "showbackground": true,
            "ticks": "",
            "zerolinecolor": "#C8D4E3",
            "gridwidth": 2
           },
           "yaxis": {
            "backgroundcolor": "rgb(17,17,17)",
            "gridcolor": "#506784",
            "linecolor": "#506784",
            "showbackground": true,
            "ticks": "",
            "zerolinecolor": "#C8D4E3",
            "gridwidth": 2
           },
           "zaxis": {
            "backgroundcolor": "rgb(17,17,17)",
            "gridcolor": "#506784",
            "linecolor": "#506784",
            "showbackground": true,
            "ticks": "",
            "zerolinecolor": "#C8D4E3",
            "gridwidth": 2
           }
          },
          "shapedefaults": {
           "line": {
            "color": "#f2f5fa"
           }
          },
          "annotationdefaults": {
           "arrowcolor": "#f2f5fa",
           "arrowhead": 0,
           "arrowwidth": 1
          },
          "geo": {
           "bgcolor": "rgb(17,17,17)",
           "landcolor": "rgb(17,17,17)",
           "subunitcolor": "#506784",
           "showland": true,
           "showlakes": true,
           "lakecolor": "rgb(17,17,17)"
          },
          "title": {
           "x": 0.05
          },
          "updatemenudefaults": {
           "bgcolor": "#506784",
           "borderwidth": 0
          },
          "sliderdefaults": {
           "bgcolor": "#C8D4E3",
           "borderwidth": 1,
           "bordercolor": "rgb(17,17,17)",
           "tickwidth": 0
          },
          "mapbox": {
           "style": "dark"
          }
         }
        },
        "hovermode": "x"
       },
       "config": {
        "plotlyServerURL": "https://plot.ly"
       }
      },
      "text/html": "<div>                            <div id=\"d224232c-f8bc-4387-a7f0-833ad37ba4f4\" class=\"plotly-graph-div\" style=\"height:525px; width:100%;\"></div>            <script type=\"text/javascript\">                require([\"plotly\"], function(Plotly) {                    window.PLOTLYENV=window.PLOTLYENV || {};                                    if (document.getElementById(\"d224232c-f8bc-4387-a7f0-833ad37ba4f4\")) {                    Plotly.newPlot(                        \"d224232c-f8bc-4387-a7f0-833ad37ba4f4\",                        [{\"mode\":\"lines\",\"x\":[1489.670166015625,1488.5650634765625,1487.459716796875,1486.354248046875,1485.24853515625,1484.142578125,1483.0364990234375,1481.93017578125,1480.8236083984375,1479.7169189453125,1478.6099853515625,1477.5028076171875,1476.3955078125,1475.2879638671875,1474.1802978515625,1473.0723876953125,1471.9642333984375,1470.8558349609375,1469.747314453125,1468.638671875,1467.5296630859375,1466.4205322265625,1465.311279296875,1464.20166015625,1463.0919189453125,1461.9820556640625,1460.8719482421875,1459.7615966796875,1458.6510009765625,1457.540283203125,1456.4293212890625,1455.3182373046875,1454.2069091796875,1453.0953369140625,1451.983642578125,1450.8717041015625,1449.759521484375,1448.647216796875,1447.53466796875,1446.421875,1445.3089599609375,1444.19580078125,1443.0823974609375,1441.9688720703125,1440.8551025390625,1439.7410888671875,1438.626953125,1437.5125732421875,1436.3980712890625,1435.2833251953125,1434.1683349609375,1433.0531005859375,1431.937744140625,1430.8221435546875,1429.7064208984375,1428.5904541015625,1427.4742431640625,1426.35791015625,1425.2412109375,1424.12451171875,1423.0074462890625,1421.8902587890625,1420.7728271484375,1419.6552734375,1418.5374755859375,1417.41943359375,1416.30126953125,1415.182861328125,1414.064208984375,1412.9454345703125,1411.826416015625,1410.7071533203125,1409.587646484375,1408.468017578125,1407.3482666015625,1406.2281494140625,1405.10791015625,1403.9874267578125,1402.8668212890625,1401.7459716796875,1400.6248779296875,1399.503662109375,1398.3822021484375,1397.260498046875,1396.1385498046875,1395.0164794921875,1393.894287109375,1392.771728515625,1391.6490478515625,1390.526123046875,1389.403076171875,1388.2796630859375,1387.15625,1386.032470703125,1384.9085693359375,1383.784423828125,1382.6600341796875,1381.5355224609375,1380.4107666015625,1379.2857666015625,1378.16064453125,1377.0352783203125,1375.90966796875,1374.783935546875,1373.657958984375,1372.53173828125,1371.4053955078125,1370.27880859375,1369.1519775390625,1368.02490234375,1366.897705078125,1365.770263671875,1364.6427001953125,1363.5147705078125,1362.38671875,1361.258544921875,1360.1300048828125,1359.0013427734375,1357.87255859375,1356.743408203125,1355.6141357421875,1354.484619140625,1353.35498046875,1352.22509765625,1351.094970703125,1349.964599609375,1348.8341064453125,1347.703369140625,1346.5723876953125,1345.441162109375,1344.309814453125,1343.17822265625,1342.0465087890625,1340.91455078125,1339.7823486328125,1338.64990234375,1337.517333984375,1336.384521484375,1335.25146484375,1334.1181640625,1332.9847412109375,1331.85107421875,1330.7171630859375,1329.5831298828125,1328.4488525390625,1327.3143310546875,1326.1796875,1325.0447998046875,1323.90966796875,1322.7742919921875,1321.6387939453125,1320.5029296875,1319.3670654296875,1318.2308349609375,1317.094482421875,1315.9578857421875,1314.821044921875,1313.68408203125,1312.546875,1311.409423828125,1310.271728515625,1309.1339111328125,1307.995849609375,1306.8575439453125,1305.718994140625,1304.580322265625,1303.44140625,1302.3023681640625,1301.1629638671875,1300.0234375,1298.8836669921875,1297.74365234375,1296.603515625,1295.463134765625,1294.322509765625,1293.181640625,1292.0406494140625,1290.8994140625,1289.7579345703125,1288.6163330078125,1287.474365234375,1286.332275390625,1285.1900634765625,1284.0474853515625,1282.90478515625,1281.7618408203125,1280.61865234375,1279.475341796875,1278.3316650390625,1277.1878662109375,1276.0439453125,1274.899658203125,1273.7552490234375,1272.610595703125,1271.4656982421875,1270.3206787109375,1269.17529296875,1268.02978515625,1266.8841552734375],\"y\":[-2067.7183231518893,-2068.876419586513,-2014.2744942513189,-2047.3881714734114,-2055.8784334848865,-2030.1439736837738,-2023.2173371618817,-2004.824355630187,-2024.2283482994137,-2019.3163712297799,-2023.8859681884053,-2002.696425567304,-2015.321727664704,-1963.410916978654,-2007.9248771309428,-1966.7736270252444,-1990.2543485971205,-1977.8693737963765,-1979.3974756730793,-1998.8809411980258,-2003.1309700235227,-1973.4578397387884,-1989.6066678596235,-1988.7240957265576,-1963.941884335102,-1974.7924355402802,-1967.981607051963,-1985.1870132327795,-1998.1883203206403,-1983.518630465403,-1982.4502829807548,-1973.9018653025016,-1975.3753169778356,-1983.7497374241789,-1996.4959951988087,-2001.771743135537,-1994.010699605887,-1984.3055302216262,-1980.4810199368255,-1964.083751904811,-2019.0215086274882,-1995.0400715757225,-2026.7659478547478,-2003.2610637611774,-2016.1741662272132,-2000.6649286458266,-2015.0741106910575,-2034.179890535042,-2053.601362737529,-2069.2781477415715,-2068.3172034762083,-2057.96453788483,-2068.600323622444,-2065.3873798228256,-2081.369538973904,-2091.588007272222,-2100.2663294312483,-2079.2532090003115,-2069.948871724923,-2131.2389284177902,-2135.1046696992457,-2141.2387404143765,-2137.9360747281885,-2165.1333876321837,-2204.691002279239,-2160.588196473257,-2201.6252127663524,-2208.239127872404,-2218.2549211599076,-2239.3424103007137,-2270.326847764922,-2277.226905595773,-2319.1934553169576,-2347.290374944939,-2376.2180790119073,-2425.322549452944,-2494.0683249135172,-2545.5006894718886,-2613.027999478044,-2718.9053589307664,-2835.8677733340396,-2964.6832671514057,-3208.1816332396425,-3593.835093033931,-4216.214276742141,-5099.920627137932,-5532.9841987809705,-2585.4057221203184,973.0929711912871,556.6832314154317,-1085.0802270601487,-2249.3399401034485,-2972.8315822446048,-3421.991163733543,-3636.189849816357,-3941.749620387236,-4209.159336762472,-4490.938346482,-4847.166181632242,-5127.488937486948,-5517.568016512399,-5973.802391956378,-6476.342266737654,-7011.5046658625015,-7606.07772687869,-8125.869087908334,-8646.102975535458,-8986.646376936154,-9171.74280143822,-9228.541569013392,-9079.18405204892,-8751.18377803894,-8310.367582520385,-7738.069684424383,-7189.6184510069525,-6611.049522890224,-6105.8333879014635,-5627.70945085601,-5182.362377037688,-4798.649335313534,-4458.001114986074,-4126.525762193938,-3820.222831508567,-3586.6225006701993,-3328.5605678113857,-3094.961747941311,-2909.497503330182,-2725.416894066077,-2578.8483655835494,-2455.8055724535543,-2354.145344339353,-2199.6652521370215,-2124.7343031555,-2050.140732352457,-1969.2067788787117,-1944.6256791506412,-1933.4343863736665,-1910.43673338272,-1892.4602750947827,-1859.4851543275317,-1886.8069279296474,-1859.6374968340913,-1870.3092282633122,-1873.6155661885768,-1907.2641926847189,-1880.9732194220808,-1885.0242455174935,-1858.534018027152,-1875.1165638523837,-1834.9995574982297,-1871.6892130547924,-1843.4024806114096,-1845.9864472138431,-1834.21346376133,-1854.369317871554,-1823.0576299439738,-1834.9066231686697,-1839.828601148518,-1833.1932378207853,-1805.614141716474,-1824.1867909273801,-1856.95667533843,-1849.512499925278,-1831.724859992918,-1852.1368540059875,-1839.8548374093411,-1830.3921697810194,-1826.307875430002,-1812.1319562867407,-1819.7322278138643,-1826.6856296879664,-1825.2840430161712,-1799.873831904945,-1790.5714395843202,-1801.0489431827946,-1815.0213311256412,-1805.5501751612578,-1775.3777955463106,-1795.746582359166,-1792.8221866710123,-1756.2978155506428,-1747.6246465411027,-1752.0130328330513,-1732.0019012903736,-1748.206248176747,-1723.6003559477354,-1751.5951882567726,-1738.063915848735,-1753.4248278067028,-1735.0494570128376,-1712.914132652797,-1720.0870026877403,-1730.5902240817254,-1695.7185036779865,-1701.605987617973,-1678.670203570996,-1712.0488658783254,-1690.2923477459321,-1677.1247689421346],\"type\":\"scatter\"},{\"mode\":\"lines\",\"x\":[1379.2857666015625,1378.16064453125,1377.0352783203125,1375.90966796875,1374.783935546875,1373.657958984375,1372.53173828125,1371.4053955078125,1370.27880859375,1369.1519775390625,1368.02490234375,1366.897705078125,1365.770263671875,1364.6427001953125,1363.5147705078125,1362.38671875,1361.258544921875,1360.1300048828125,1359.0013427734375,1357.87255859375,1356.743408203125,1355.6141357421875],\"y\":[-5088.633771016233,-5507.735419704921,-5975.284209720028,-6487.703883917544,-7034.484883442787,-7595.542226772332,-8138.940792890211,-8621.27374882217,-8992.691565559511,-9206.772971536626,-9233.370908790856,-9068.48459679455,-8735.621610427792,-8277.982196109753,-7745.64872857537,-7184.697482088559,-6630.504381406412,-6106.274117259134,-5625.009756120014,-5191.910925979597,-4807.110007210846,-4468.03736396127],\"type\":\"scatter\"}],                        {\"template\":{\"data\":{\"histogram2dcontour\":[{\"type\":\"histogram2dcontour\",\"colorbar\":{\"outlinewidth\":0,\"ticks\":\"\"},\"colorscale\":[[0.0,\"#0d0887\"],[0.1111111111111111,\"#46039f\"],[0.2222222222222222,\"#7201a8\"],[0.3333333333333333,\"#9c179e\"],[0.4444444444444444,\"#bd3786\"],[0.5555555555555556,\"#d8576b\"],[0.6666666666666666,\"#ed7953\"],[0.7777777777777778,\"#fb9f3a\"],[0.8888888888888888,\"#fdca26\"],[1.0,\"#f0f921\"]]}],\"choropleth\":[{\"type\":\"choropleth\",\"colorbar\":{\"outlinewidth\":0,\"ticks\":\"\"}}],\"histogram2d\":[{\"type\":\"histogram2d\",\"colorbar\":{\"outlinewidth\":0,\"ticks\":\"\"},\"colorscale\":[[0.0,\"#0d0887\"],[0.1111111111111111,\"#46039f\"],[0.2222222222222222,\"#7201a8\"],[0.3333333333333333,\"#9c179e\"],[0.4444444444444444,\"#bd3786\"],[0.5555555555555556,\"#d8576b\"],[0.6666666666666666,\"#ed7953\"],[0.7777777777777778,\"#fb9f3a\"],[0.8888888888888888,\"#fdca26\"],[1.0,\"#f0f921\"]]}],\"heatmap\":[{\"type\":\"heatmap\",\"colorbar\":{\"outlinewidth\":0,\"ticks\":\"\"},\"colorscale\":[[0.0,\"#0d0887\"],[0.1111111111111111,\"#46039f\"],[0.2222222222222222,\"#7201a8\"],[0.3333333333333333,\"#9c179e\"],[0.4444444444444444,\"#bd3786\"],[0.5555555555555556,\"#d8576b\"],[0.6666666666666666,\"#ed7953\"],[0.7777777777777778,\"#fb9f3a\"],[0.8888888888888888,\"#fdca26\"],[1.0,\"#f0f921\"]]}],\"heatmapgl\":[{\"type\":\"heatmapgl\",\"colorbar\":{\"outlinewidth\":0,\"ticks\":\"\"},\"colorscale\":[[0.0,\"#0d0887\"],[0.1111111111111111,\"#46039f\"],[0.2222222222222222,\"#7201a8\"],[0.3333333333333333,\"#9c179e\"],[0.4444444444444444,\"#bd3786\"],[0.5555555555555556,\"#d8576b\"],[0.6666666666666666,\"#ed7953\"],[0.7777777777777778,\"#fb9f3a\"],[0.8888888888888888,\"#fdca26\"],[1.0,\"#f0f921\"]]}],\"contourcarpet\":[{\"type\":\"contourcarpet\",\"colorbar\":{\"outlinewidth\":0,\"ticks\":\"\"}}],\"contour\":[{\"type\":\"contour\",\"colorbar\":{\"outlinewidth\":0,\"ticks\":\"\"},\"colorscale\":[[0.0,\"#0d0887\"],[0.1111111111111111,\"#46039f\"],[0.2222222222222222,\"#7201a8\"],[0.3333333333333333,\"#9c179e\"],[0.4444444444444444,\"#bd3786\"],[0.5555555555555556,\"#d8576b\"],[0.6666666666666666,\"#ed7953\"],[0.7777777777777778,\"#fb9f3a\"],[0.8888888888888888,\"#fdca26\"],[1.0,\"#f0f921\"]]}],\"surface\":[{\"type\":\"surface\",\"colorbar\":{\"outlinewidth\":0,\"ticks\":\"\"},\"colorscale\":[[0.0,\"#0d0887\"],[0.1111111111111111,\"#46039f\"],[0.2222222222222222,\"#7201a8\"],[0.3333333333333333,\"#9c179e\"],[0.4444444444444444,\"#bd3786\"],[0.5555555555555556,\"#d8576b\"],[0.6666666666666666,\"#ed7953\"],[0.7777777777777778,\"#fb9f3a\"],[0.8888888888888888,\"#fdca26\"],[1.0,\"#f0f921\"]]}],\"mesh3d\":[{\"type\":\"mesh3d\",\"colorbar\":{\"outlinewidth\":0,\"ticks\":\"\"}}],\"scatter\":[{\"marker\":{\"line\":{\"color\":\"#283442\"}},\"type\":\"scatter\"}],\"parcoords\":[{\"type\":\"parcoords\",\"line\":{\"colorbar\":{\"outlinewidth\":0,\"ticks\":\"\"}}}],\"scatterpolargl\":[{\"type\":\"scatterpolargl\",\"marker\":{\"colorbar\":{\"outlinewidth\":0,\"ticks\":\"\"}}}],\"bar\":[{\"error_x\":{\"color\":\"#f2f5fa\"},\"error_y\":{\"color\":\"#f2f5fa\"},\"marker\":{\"line\":{\"color\":\"rgb(17,17,17)\",\"width\":0.5},\"pattern\":{\"fillmode\":\"overlay\",\"size\":10,\"solidity\":0.2}},\"type\":\"bar\"}],\"scattergeo\":[{\"type\":\"scattergeo\",\"marker\":{\"colorbar\":{\"outlinewidth\":0,\"ticks\":\"\"}}}],\"scatterpolar\":[{\"type\":\"scatterpolar\",\"marker\":{\"colorbar\":{\"outlinewidth\":0,\"ticks\":\"\"}}}],\"histogram\":[{\"marker\":{\"pattern\":{\"fillmode\":\"overlay\",\"size\":10,\"solidity\":0.2}},\"type\":\"histogram\"}],\"scattergl\":[{\"marker\":{\"line\":{\"color\":\"#283442\"}},\"type\":\"scattergl\"}],\"scatter3d\":[{\"type\":\"scatter3d\",\"line\":{\"colorbar\":{\"outlinewidth\":0,\"ticks\":\"\"}},\"marker\":{\"colorbar\":{\"outlinewidth\":0,\"ticks\":\"\"}}}],\"scattermapbox\":[{\"type\":\"scattermapbox\",\"marker\":{\"colorbar\":{\"outlinewidth\":0,\"ticks\":\"\"}}}],\"scatterternary\":[{\"type\":\"scatterternary\",\"marker\":{\"colorbar\":{\"outlinewidth\":0,\"ticks\":\"\"}}}],\"scattercarpet\":[{\"type\":\"scattercarpet\",\"marker\":{\"colorbar\":{\"outlinewidth\":0,\"ticks\":\"\"}}}],\"carpet\":[{\"aaxis\":{\"endlinecolor\":\"#A2B1C6\",\"gridcolor\":\"#506784\",\"linecolor\":\"#506784\",\"minorgridcolor\":\"#506784\",\"startlinecolor\":\"#A2B1C6\"},\"baxis\":{\"endlinecolor\":\"#A2B1C6\",\"gridcolor\":\"#506784\",\"linecolor\":\"#506784\",\"minorgridcolor\":\"#506784\",\"startlinecolor\":\"#A2B1C6\"},\"type\":\"carpet\"}],\"table\":[{\"cells\":{\"fill\":{\"color\":\"#506784\"},\"line\":{\"color\":\"rgb(17,17,17)\"}},\"header\":{\"fill\":{\"color\":\"#2a3f5f\"},\"line\":{\"color\":\"rgb(17,17,17)\"}},\"type\":\"table\"}],\"barpolar\":[{\"marker\":{\"line\":{\"color\":\"rgb(17,17,17)\",\"width\":0.5},\"pattern\":{\"fillmode\":\"overlay\",\"size\":10,\"solidity\":0.2}},\"type\":\"barpolar\"}],\"pie\":[{\"automargin\":true,\"type\":\"pie\"}]},\"layout\":{\"autotypenumbers\":\"strict\",\"colorway\":[\"#636efa\",\"#EF553B\",\"#00cc96\",\"#ab63fa\",\"#FFA15A\",\"#19d3f3\",\"#FF6692\",\"#B6E880\",\"#FF97FF\",\"#FECB52\"],\"font\":{\"color\":\"#f2f5fa\"},\"hovermode\":\"closest\",\"hoverlabel\":{\"align\":\"left\"},\"paper_bgcolor\":\"rgb(17,17,17)\",\"plot_bgcolor\":\"rgb(17,17,17)\",\"polar\":{\"bgcolor\":\"rgb(17,17,17)\",\"angularaxis\":{\"gridcolor\":\"#506784\",\"linecolor\":\"#506784\",\"ticks\":\"\"},\"radialaxis\":{\"gridcolor\":\"#506784\",\"linecolor\":\"#506784\",\"ticks\":\"\"}},\"ternary\":{\"bgcolor\":\"rgb(17,17,17)\",\"aaxis\":{\"gridcolor\":\"#506784\",\"linecolor\":\"#506784\",\"ticks\":\"\"},\"baxis\":{\"gridcolor\":\"#506784\",\"linecolor\":\"#506784\",\"ticks\":\"\"},\"caxis\":{\"gridcolor\":\"#506784\",\"linecolor\":\"#506784\",\"ticks\":\"\"}},\"coloraxis\":{\"colorbar\":{\"outlinewidth\":0,\"ticks\":\"\"}},\"colorscale\":{\"sequential\":[[0.0,\"#0d0887\"],[0.1111111111111111,\"#46039f\"],[0.2222222222222222,\"#7201a8\"],[0.3333333333333333,\"#9c179e\"],[0.4444444444444444,\"#bd3786\"],[0.5555555555555556,\"#d8576b\"],[0.6666666666666666,\"#ed7953\"],[0.7777777777777778,\"#fb9f3a\"],[0.8888888888888888,\"#fdca26\"],[1.0,\"#f0f921\"]],\"sequentialminus\":[[0.0,\"#0d0887\"],[0.1111111111111111,\"#46039f\"],[0.2222222222222222,\"#7201a8\"],[0.3333333333333333,\"#9c179e\"],[0.4444444444444444,\"#bd3786\"],[0.5555555555555556,\"#d8576b\"],[0.6666666666666666,\"#ed7953\"],[0.7777777777777778,\"#fb9f3a\"],[0.8888888888888888,\"#fdca26\"],[1.0,\"#f0f921\"]],\"diverging\":[[0,\"#8e0152\"],[0.1,\"#c51b7d\"],[0.2,\"#de77ae\"],[0.3,\"#f1b6da\"],[0.4,\"#fde0ef\"],[0.5,\"#f7f7f7\"],[0.6,\"#e6f5d0\"],[0.7,\"#b8e186\"],[0.8,\"#7fbc41\"],[0.9,\"#4d9221\"],[1,\"#276419\"]]},\"xaxis\":{\"gridcolor\":\"#283442\",\"linecolor\":\"#506784\",\"ticks\":\"\",\"title\":{\"standoff\":15},\"zerolinecolor\":\"#283442\",\"automargin\":true,\"zerolinewidth\":2},\"yaxis\":{\"gridcolor\":\"#283442\",\"linecolor\":\"#506784\",\"ticks\":\"\",\"title\":{\"standoff\":15},\"zerolinecolor\":\"#283442\",\"automargin\":true,\"zerolinewidth\":2},\"scene\":{\"xaxis\":{\"backgroundcolor\":\"rgb(17,17,17)\",\"gridcolor\":\"#506784\",\"linecolor\":\"#506784\",\"showbackground\":true,\"ticks\":\"\",\"zerolinecolor\":\"#C8D4E3\",\"gridwidth\":2},\"yaxis\":{\"backgroundcolor\":\"rgb(17,17,17)\",\"gridcolor\":\"#506784\",\"linecolor\":\"#506784\",\"showbackground\":true,\"ticks\":\"\",\"zerolinecolor\":\"#C8D4E3\",\"gridwidth\":2},\"zaxis\":{\"backgroundcolor\":\"rgb(17,17,17)\",\"gridcolor\":\"#506784\",\"linecolor\":\"#506784\",\"showbackground\":true,\"ticks\":\"\",\"zerolinecolor\":\"#C8D4E3\",\"gridwidth\":2}},\"shapedefaults\":{\"line\":{\"color\":\"#f2f5fa\"}},\"annotationdefaults\":{\"arrowcolor\":\"#f2f5fa\",\"arrowhead\":0,\"arrowwidth\":1},\"geo\":{\"bgcolor\":\"rgb(17,17,17)\",\"landcolor\":\"rgb(17,17,17)\",\"subunitcolor\":\"#506784\",\"showland\":true,\"showlakes\":true,\"lakecolor\":\"rgb(17,17,17)\"},\"title\":{\"x\":0.05},\"updatemenudefaults\":{\"bgcolor\":\"#506784\",\"borderwidth\":0},\"sliderdefaults\":{\"bgcolor\":\"#C8D4E3\",\"borderwidth\":1,\"bordercolor\":\"rgb(17,17,17)\",\"tickwidth\":0},\"mapbox\":{\"style\":\"dark\"}}},\"hovermode\":\"x\"},                        {\"responsive\": true}                    ).then(function(){\n                            \nvar gd = document.getElementById('d224232c-f8bc-4387-a7f0-833ad37ba4f4');\nvar x = new MutationObserver(function (mutations, observer) {{\n        var display = window.getComputedStyle(gd).display;\n        if (!display || display === 'none') {{\n            console.log([gd, 'removed!']);\n            Plotly.purge(gd);\n            observer.disconnect();\n        }}\n}});\n\n// Listen for the removal of the full notebook cells\nvar notebookContainer = gd.closest('#notebook-container');\nif (notebookContainer) {{\n    x.observe(notebookContainer, {childList: true});\n}}\n\n// Listen for the clearing of the current output cell\nvar outputEl = gd.closest('.output');\nif (outputEl) {{\n    x.observe(outputEl, {childList: true});\n}}\n\n                        })                };                });            </script>        </div>"
     },
     "metadata": {},
     "output_type": "display_data"
    },
    {
     "data": {
      "application/vnd.plotly.v1+json": {
       "data": [
        {
         "mode": "lines",
         "x": [
          1489.670166015625,
          1488.5650634765625,
          1487.459716796875,
          1486.354248046875,
          1485.24853515625,
          1484.142578125,
          1483.0364990234375,
          1481.93017578125,
          1480.8236083984375,
          1479.7169189453125,
          1478.6099853515625,
          1477.5028076171875,
          1476.3955078125,
          1475.2879638671875,
          1474.1802978515625,
          1473.0723876953125,
          1471.9642333984375,
          1470.8558349609375,
          1469.747314453125,
          1468.638671875,
          1467.5296630859375,
          1466.4205322265625,
          1465.311279296875,
          1464.20166015625,
          1463.0919189453125,
          1461.9820556640625,
          1460.8719482421875,
          1459.7615966796875,
          1458.6510009765625,
          1457.540283203125,
          1456.4293212890625,
          1455.3182373046875,
          1454.2069091796875,
          1453.0953369140625,
          1451.983642578125,
          1450.8717041015625,
          1449.759521484375,
          1448.647216796875,
          1447.53466796875,
          1446.421875,
          1445.3089599609375,
          1444.19580078125,
          1443.0823974609375,
          1441.9688720703125,
          1440.8551025390625,
          1439.7410888671875,
          1438.626953125,
          1437.5125732421875,
          1436.3980712890625,
          1435.2833251953125,
          1434.1683349609375,
          1433.0531005859375,
          1431.937744140625,
          1430.8221435546875,
          1429.7064208984375,
          1428.5904541015625,
          1427.4742431640625,
          1426.35791015625,
          1425.2412109375,
          1424.12451171875,
          1423.0074462890625,
          1421.8902587890625,
          1420.7728271484375,
          1419.6552734375,
          1418.5374755859375,
          1417.41943359375,
          1416.30126953125,
          1415.182861328125,
          1414.064208984375,
          1412.9454345703125,
          1411.826416015625,
          1410.7071533203125,
          1409.587646484375,
          1408.468017578125,
          1407.3482666015625,
          1406.2281494140625,
          1405.10791015625,
          1403.9874267578125,
          1402.8668212890625,
          1401.7459716796875,
          1400.6248779296875,
          1399.503662109375,
          1398.3822021484375,
          1397.260498046875,
          1396.1385498046875,
          1395.0164794921875,
          1393.894287109375,
          1392.771728515625,
          1391.6490478515625,
          1390.526123046875,
          1389.403076171875,
          1388.2796630859375,
          1387.15625,
          1386.032470703125,
          1384.9085693359375,
          1383.784423828125,
          1382.6600341796875,
          1381.5355224609375,
          1380.4107666015625,
          1379.2857666015625,
          1378.16064453125,
          1377.0352783203125,
          1375.90966796875,
          1374.783935546875,
          1373.657958984375,
          1372.53173828125,
          1371.4053955078125,
          1370.27880859375,
          1369.1519775390625,
          1368.02490234375,
          1366.897705078125,
          1365.770263671875,
          1364.6427001953125,
          1363.5147705078125,
          1362.38671875,
          1361.258544921875,
          1360.1300048828125,
          1359.0013427734375,
          1357.87255859375,
          1356.743408203125,
          1355.6141357421875,
          1354.484619140625,
          1353.35498046875,
          1352.22509765625,
          1351.094970703125,
          1349.964599609375,
          1348.8341064453125,
          1347.703369140625,
          1346.5723876953125,
          1345.441162109375,
          1344.309814453125,
          1343.17822265625,
          1342.0465087890625,
          1340.91455078125,
          1339.7823486328125,
          1338.64990234375,
          1337.517333984375,
          1336.384521484375,
          1335.25146484375,
          1334.1181640625,
          1332.9847412109375,
          1331.85107421875,
          1330.7171630859375,
          1329.5831298828125,
          1328.4488525390625,
          1327.3143310546875,
          1326.1796875,
          1325.0447998046875,
          1323.90966796875,
          1322.7742919921875,
          1321.6387939453125,
          1320.5029296875,
          1319.3670654296875,
          1318.2308349609375,
          1317.094482421875,
          1315.9578857421875,
          1314.821044921875,
          1313.68408203125,
          1312.546875,
          1311.409423828125,
          1310.271728515625,
          1309.1339111328125,
          1307.995849609375,
          1306.8575439453125,
          1305.718994140625,
          1304.580322265625,
          1303.44140625,
          1302.3023681640625,
          1301.1629638671875,
          1300.0234375,
          1298.8836669921875,
          1297.74365234375,
          1296.603515625,
          1295.463134765625,
          1294.322509765625,
          1293.181640625,
          1292.0406494140625,
          1290.8994140625,
          1289.7579345703125,
          1288.6163330078125,
          1287.474365234375,
          1286.332275390625,
          1285.1900634765625,
          1284.0474853515625,
          1282.90478515625,
          1281.7618408203125,
          1280.61865234375,
          1279.475341796875,
          1278.3316650390625,
          1277.1878662109375,
          1276.0439453125,
          1274.899658203125,
          1273.7552490234375,
          1272.610595703125,
          1271.4656982421875,
          1270.3206787109375,
          1269.17529296875,
          1268.02978515625,
          1266.8841552734375
         ],
         "y": [
          865.7152414513351,
          870.9558262642545,
          890.2514445601272,
          885.4421501308849,
          883.828682009522,
          870.3880741364578,
          862.0128240540193,
          854.7194637568135,
          878.7330791805507,
          878.7535651088659,
          893.6105481452308,
          884.5206180482271,
          896.7035940657246,
          893.1295850136626,
          892.8896511052451,
          874.5781932227497,
          878.8541749369854,
          881.5453754906289,
          892.3464464283281,
          895.6326685032486,
          879.355903286843,
          899.012638711068,
          890.2254915641628,
          882.3268474238051,
          899.4097977661859,
          895.0616887673312,
          898.6608731240987,
          921.7241614679739,
          944.8150941255168,
          908.2876159680657,
          901.7125951696879,
          895.7118383826715,
          897.9928419786621,
          890.7586532558674,
          907.2379861596982,
          915.7727143678578,
          921.6813929475668,
          920.9117834503442,
          907.8669839087222,
          914.3172565334864,
          942.2707169560225,
          888.2257048835874,
          940.6026268910931,
          928.5272985184052,
          916.0105689661411,
          922.1351871357257,
          918.0767785998802,
          947.4123660019878,
          948.7076537187048,
          945.2087008328239,
          922.1537244175125,
          934.5378821551908,
          937.0476229446715,
          940.8816397949014,
          958.7656911873833,
          939.4672317057438,
          930.1969280309534,
          905.4161364427263,
          920.8176246250703,
          924.23185115808,
          915.6612117196888,
          937.2743704735209,
          918.8403775016677,
          911.0165073450888,
          902.0538405959261,
          879.8060144472154,
          879.678670704277,
          874.0090748258981,
          881.1081941732857,
          845.968530710339,
          831.0713661412452,
          799.4521589598272,
          786.2310745184135,
          767.7392235467795,
          709.169821039973,
          674.2625097463244,
          612.0481748726588,
          549.9280601699277,
          392.1055623154286,
          183.25015347325632,
          -104.27368257701683,
          -498.87396335050033,
          -1196.5110286881477,
          -2413.2848424805125,
          -4852.05798738948,
          -9798.059027172194,
          -16802.300781832193,
          -13105.962615990979,
          7779.294027206619,
          19545.301783460884,
          18045.36356726308,
          12819.621109502998,
          8312.871250906597,
          5447.088839703072,
          3915.445355925063,
          3057.1581159031075,
          2594.7255628055,
          2384.4653660358667,
          2280.0965327888457,
          2210.9993767696055,
          2254.789297404336,
          2378.1350033608896,
          2502.9919863092905,
          2683.428162879458,
          2866.8993179331724,
          3062.197721042382,
          3232.270735264615,
          3380.3406989024734,
          3466.554565717629,
          3473.3539547449723,
          3411.4182087860163,
          3280.288376034027,
          3088.9603392017007,
          2897.9563143105393,
          2664.471193266612,
          2479.264393447509,
          2316.0647341926624,
          2146.5468848994606,
          2028.9496047702905,
          1933.5622560229776,
          1843.6880420265213,
          1769.7373420902695,
          1692.9187512108203,
          1623.6930491807998,
          1613.6210298040824,
          1569.4294107225983,
          1540.8222575422114,
          1476.625935126737,
          1444.930584416628,
          1418.8896342188777,
          1428.9473401851087,
          1399.1062332406657,
          1334.569392235158,
          1340.8482758986727,
          1298.6572670114322,
          1299.116767493961,
          1292.6552754116299,
          1230.4655017014181,
          1231.391785944072,
          1231.3931465127903,
          1194.1644369912642,
          1150.727353878982,
          1145.3070818668273,
          1146.4992044405071,
          1107.3323694947603,
          1104.4151653908132,
          1099.600551488192,
          1049.908799813415,
          1023.1517487838244,
          1026.4181701810166,
          1026.8795606661506,
          1012.0642547504062,
          989.7235500055232,
          992.3982086616146,
          958.8299339278295,
          976.0156492331246,
          949.9330268939686,
          962.9442628672987,
          983.4305898140461,
          958.045110972696,
          973.8027655809701,
          981.3701159767891,
          1011.614697680198,
          968.9344947259348,
          1001.7747787488057,
          980.5207769768143,
          992.4935071089237,
          988.3377747981817,
          1022.1837964940534,
          998.2911306570155,
          994.0303641113965,
          1003.1649470534533,
          986.4237892784475,
          1002.3032800437896,
          1004.7880781177229,
          1030.1234002064223,
          1015.6709292614813,
          1014.161015970949,
          987.1919355607946,
          999.0871850023273,
          992.6277336400128,
          976.9526669482335,
          967.8902629175075,
          980.5521856847216,
          943.8563608988716,
          945.0859690513358,
          972.2158886117458,
          964.7198605204279,
          972.9641178086201,
          967.4897934770065,
          960.3668327158116,
          981.2483549180026,
          981.0205413198485,
          954.6421000086981,
          943.1361911391124,
          942.6014199557906,
          944.8851604472549,
          944.3801038935384,
          938.3061569471903
         ],
         "type": "scatter"
        },
        {
         "mode": "lines",
         "x": [
          1399.503662109375,
          1398.3822021484375,
          1397.260498046875,
          1396.1385498046875,
          1395.0164794921875,
          1393.894287109375,
          1392.771728515625,
          1391.6490478515625,
          1390.526123046875,
          1389.403076171875,
          1388.2796630859375,
          1387.15625,
          1386.032470703125
         ],
         "y": [
          -20.484214164290734,
          -1033.8900271059024,
          -2729.440984519913,
          -5624.779158299949,
          -10338.358900760946,
          -15834.492746988146,
          -13064.137648949007,
          7322.481226373748,
          20547.22548546078,
          17692.19543987068,
          12107.500989516751,
          8266.279724796792,
          5992.391182562942
         ],
         "type": "scatter"
        }
       ],
       "layout": {
        "template": {
         "data": {
          "histogram2dcontour": [
           {
            "type": "histogram2dcontour",
            "colorbar": {
             "outlinewidth": 0,
             "ticks": ""
            },
            "colorscale": [
             [
              0.0,
              "#0d0887"
             ],
             [
              0.1111111111111111,
              "#46039f"
             ],
             [
              0.2222222222222222,
              "#7201a8"
             ],
             [
              0.3333333333333333,
              "#9c179e"
             ],
             [
              0.4444444444444444,
              "#bd3786"
             ],
             [
              0.5555555555555556,
              "#d8576b"
             ],
             [
              0.6666666666666666,
              "#ed7953"
             ],
             [
              0.7777777777777778,
              "#fb9f3a"
             ],
             [
              0.8888888888888888,
              "#fdca26"
             ],
             [
              1.0,
              "#f0f921"
             ]
            ]
           }
          ],
          "choropleth": [
           {
            "type": "choropleth",
            "colorbar": {
             "outlinewidth": 0,
             "ticks": ""
            }
           }
          ],
          "histogram2d": [
           {
            "type": "histogram2d",
            "colorbar": {
             "outlinewidth": 0,
             "ticks": ""
            },
            "colorscale": [
             [
              0.0,
              "#0d0887"
             ],
             [
              0.1111111111111111,
              "#46039f"
             ],
             [
              0.2222222222222222,
              "#7201a8"
             ],
             [
              0.3333333333333333,
              "#9c179e"
             ],
             [
              0.4444444444444444,
              "#bd3786"
             ],
             [
              0.5555555555555556,
              "#d8576b"
             ],
             [
              0.6666666666666666,
              "#ed7953"
             ],
             [
              0.7777777777777778,
              "#fb9f3a"
             ],
             [
              0.8888888888888888,
              "#fdca26"
             ],
             [
              1.0,
              "#f0f921"
             ]
            ]
           }
          ],
          "heatmap": [
           {
            "type": "heatmap",
            "colorbar": {
             "outlinewidth": 0,
             "ticks": ""
            },
            "colorscale": [
             [
              0.0,
              "#0d0887"
             ],
             [
              0.1111111111111111,
              "#46039f"
             ],
             [
              0.2222222222222222,
              "#7201a8"
             ],
             [
              0.3333333333333333,
              "#9c179e"
             ],
             [
              0.4444444444444444,
              "#bd3786"
             ],
             [
              0.5555555555555556,
              "#d8576b"
             ],
             [
              0.6666666666666666,
              "#ed7953"
             ],
             [
              0.7777777777777778,
              "#fb9f3a"
             ],
             [
              0.8888888888888888,
              "#fdca26"
             ],
             [
              1.0,
              "#f0f921"
             ]
            ]
           }
          ],
          "heatmapgl": [
           {
            "type": "heatmapgl",
            "colorbar": {
             "outlinewidth": 0,
             "ticks": ""
            },
            "colorscale": [
             [
              0.0,
              "#0d0887"
             ],
             [
              0.1111111111111111,
              "#46039f"
             ],
             [
              0.2222222222222222,
              "#7201a8"
             ],
             [
              0.3333333333333333,
              "#9c179e"
             ],
             [
              0.4444444444444444,
              "#bd3786"
             ],
             [
              0.5555555555555556,
              "#d8576b"
             ],
             [
              0.6666666666666666,
              "#ed7953"
             ],
             [
              0.7777777777777778,
              "#fb9f3a"
             ],
             [
              0.8888888888888888,
              "#fdca26"
             ],
             [
              1.0,
              "#f0f921"
             ]
            ]
           }
          ],
          "contourcarpet": [
           {
            "type": "contourcarpet",
            "colorbar": {
             "outlinewidth": 0,
             "ticks": ""
            }
           }
          ],
          "contour": [
           {
            "type": "contour",
            "colorbar": {
             "outlinewidth": 0,
             "ticks": ""
            },
            "colorscale": [
             [
              0.0,
              "#0d0887"
             ],
             [
              0.1111111111111111,
              "#46039f"
             ],
             [
              0.2222222222222222,
              "#7201a8"
             ],
             [
              0.3333333333333333,
              "#9c179e"
             ],
             [
              0.4444444444444444,
              "#bd3786"
             ],
             [
              0.5555555555555556,
              "#d8576b"
             ],
             [
              0.6666666666666666,
              "#ed7953"
             ],
             [
              0.7777777777777778,
              "#fb9f3a"
             ],
             [
              0.8888888888888888,
              "#fdca26"
             ],
             [
              1.0,
              "#f0f921"
             ]
            ]
           }
          ],
          "surface": [
           {
            "type": "surface",
            "colorbar": {
             "outlinewidth": 0,
             "ticks": ""
            },
            "colorscale": [
             [
              0.0,
              "#0d0887"
             ],
             [
              0.1111111111111111,
              "#46039f"
             ],
             [
              0.2222222222222222,
              "#7201a8"
             ],
             [
              0.3333333333333333,
              "#9c179e"
             ],
             [
              0.4444444444444444,
              "#bd3786"
             ],
             [
              0.5555555555555556,
              "#d8576b"
             ],
             [
              0.6666666666666666,
              "#ed7953"
             ],
             [
              0.7777777777777778,
              "#fb9f3a"
             ],
             [
              0.8888888888888888,
              "#fdca26"
             ],
             [
              1.0,
              "#f0f921"
             ]
            ]
           }
          ],
          "mesh3d": [
           {
            "type": "mesh3d",
            "colorbar": {
             "outlinewidth": 0,
             "ticks": ""
            }
           }
          ],
          "scatter": [
           {
            "marker": {
             "line": {
              "color": "#283442"
             }
            },
            "type": "scatter"
           }
          ],
          "parcoords": [
           {
            "type": "parcoords",
            "line": {
             "colorbar": {
              "outlinewidth": 0,
              "ticks": ""
             }
            }
           }
          ],
          "scatterpolargl": [
           {
            "type": "scatterpolargl",
            "marker": {
             "colorbar": {
              "outlinewidth": 0,
              "ticks": ""
             }
            }
           }
          ],
          "bar": [
           {
            "error_x": {
             "color": "#f2f5fa"
            },
            "error_y": {
             "color": "#f2f5fa"
            },
            "marker": {
             "line": {
              "color": "rgb(17,17,17)",
              "width": 0.5
             },
             "pattern": {
              "fillmode": "overlay",
              "size": 10,
              "solidity": 0.2
             }
            },
            "type": "bar"
           }
          ],
          "scattergeo": [
           {
            "type": "scattergeo",
            "marker": {
             "colorbar": {
              "outlinewidth": 0,
              "ticks": ""
             }
            }
           }
          ],
          "scatterpolar": [
           {
            "type": "scatterpolar",
            "marker": {
             "colorbar": {
              "outlinewidth": 0,
              "ticks": ""
             }
            }
           }
          ],
          "histogram": [
           {
            "marker": {
             "pattern": {
              "fillmode": "overlay",
              "size": 10,
              "solidity": 0.2
             }
            },
            "type": "histogram"
           }
          ],
          "scattergl": [
           {
            "marker": {
             "line": {
              "color": "#283442"
             }
            },
            "type": "scattergl"
           }
          ],
          "scatter3d": [
           {
            "type": "scatter3d",
            "line": {
             "colorbar": {
              "outlinewidth": 0,
              "ticks": ""
             }
            },
            "marker": {
             "colorbar": {
              "outlinewidth": 0,
              "ticks": ""
             }
            }
           }
          ],
          "scattermapbox": [
           {
            "type": "scattermapbox",
            "marker": {
             "colorbar": {
              "outlinewidth": 0,
              "ticks": ""
             }
            }
           }
          ],
          "scatterternary": [
           {
            "type": "scatterternary",
            "marker": {
             "colorbar": {
              "outlinewidth": 0,
              "ticks": ""
             }
            }
           }
          ],
          "scattercarpet": [
           {
            "type": "scattercarpet",
            "marker": {
             "colorbar": {
              "outlinewidth": 0,
              "ticks": ""
             }
            }
           }
          ],
          "carpet": [
           {
            "aaxis": {
             "endlinecolor": "#A2B1C6",
             "gridcolor": "#506784",
             "linecolor": "#506784",
             "minorgridcolor": "#506784",
             "startlinecolor": "#A2B1C6"
            },
            "baxis": {
             "endlinecolor": "#A2B1C6",
             "gridcolor": "#506784",
             "linecolor": "#506784",
             "minorgridcolor": "#506784",
             "startlinecolor": "#A2B1C6"
            },
            "type": "carpet"
           }
          ],
          "table": [
           {
            "cells": {
             "fill": {
              "color": "#506784"
             },
             "line": {
              "color": "rgb(17,17,17)"
             }
            },
            "header": {
             "fill": {
              "color": "#2a3f5f"
             },
             "line": {
              "color": "rgb(17,17,17)"
             }
            },
            "type": "table"
           }
          ],
          "barpolar": [
           {
            "marker": {
             "line": {
              "color": "rgb(17,17,17)",
              "width": 0.5
             },
             "pattern": {
              "fillmode": "overlay",
              "size": 10,
              "solidity": 0.2
             }
            },
            "type": "barpolar"
           }
          ],
          "pie": [
           {
            "automargin": true,
            "type": "pie"
           }
          ]
         },
         "layout": {
          "autotypenumbers": "strict",
          "colorway": [
           "#636efa",
           "#EF553B",
           "#00cc96",
           "#ab63fa",
           "#FFA15A",
           "#19d3f3",
           "#FF6692",
           "#B6E880",
           "#FF97FF",
           "#FECB52"
          ],
          "font": {
           "color": "#f2f5fa"
          },
          "hovermode": "closest",
          "hoverlabel": {
           "align": "left"
          },
          "paper_bgcolor": "rgb(17,17,17)",
          "plot_bgcolor": "rgb(17,17,17)",
          "polar": {
           "bgcolor": "rgb(17,17,17)",
           "angularaxis": {
            "gridcolor": "#506784",
            "linecolor": "#506784",
            "ticks": ""
           },
           "radialaxis": {
            "gridcolor": "#506784",
            "linecolor": "#506784",
            "ticks": ""
           }
          },
          "ternary": {
           "bgcolor": "rgb(17,17,17)",
           "aaxis": {
            "gridcolor": "#506784",
            "linecolor": "#506784",
            "ticks": ""
           },
           "baxis": {
            "gridcolor": "#506784",
            "linecolor": "#506784",
            "ticks": ""
           },
           "caxis": {
            "gridcolor": "#506784",
            "linecolor": "#506784",
            "ticks": ""
           }
          },
          "coloraxis": {
           "colorbar": {
            "outlinewidth": 0,
            "ticks": ""
           }
          },
          "colorscale": {
           "sequential": [
            [
             0.0,
             "#0d0887"
            ],
            [
             0.1111111111111111,
             "#46039f"
            ],
            [
             0.2222222222222222,
             "#7201a8"
            ],
            [
             0.3333333333333333,
             "#9c179e"
            ],
            [
             0.4444444444444444,
             "#bd3786"
            ],
            [
             0.5555555555555556,
             "#d8576b"
            ],
            [
             0.6666666666666666,
             "#ed7953"
            ],
            [
             0.7777777777777778,
             "#fb9f3a"
            ],
            [
             0.8888888888888888,
             "#fdca26"
            ],
            [
             1.0,
             "#f0f921"
            ]
           ],
           "sequentialminus": [
            [
             0.0,
             "#0d0887"
            ],
            [
             0.1111111111111111,
             "#46039f"
            ],
            [
             0.2222222222222222,
             "#7201a8"
            ],
            [
             0.3333333333333333,
             "#9c179e"
            ],
            [
             0.4444444444444444,
             "#bd3786"
            ],
            [
             0.5555555555555556,
             "#d8576b"
            ],
            [
             0.6666666666666666,
             "#ed7953"
            ],
            [
             0.7777777777777778,
             "#fb9f3a"
            ],
            [
             0.8888888888888888,
             "#fdca26"
            ],
            [
             1.0,
             "#f0f921"
            ]
           ],
           "diverging": [
            [
             0,
             "#8e0152"
            ],
            [
             0.1,
             "#c51b7d"
            ],
            [
             0.2,
             "#de77ae"
            ],
            [
             0.3,
             "#f1b6da"
            ],
            [
             0.4,
             "#fde0ef"
            ],
            [
             0.5,
             "#f7f7f7"
            ],
            [
             0.6,
             "#e6f5d0"
            ],
            [
             0.7,
             "#b8e186"
            ],
            [
             0.8,
             "#7fbc41"
            ],
            [
             0.9,
             "#4d9221"
            ],
            [
             1,
             "#276419"
            ]
           ]
          },
          "xaxis": {
           "gridcolor": "#283442",
           "linecolor": "#506784",
           "ticks": "",
           "title": {
            "standoff": 15
           },
           "zerolinecolor": "#283442",
           "automargin": true,
           "zerolinewidth": 2
          },
          "yaxis": {
           "gridcolor": "#283442",
           "linecolor": "#506784",
           "ticks": "",
           "title": {
            "standoff": 15
           },
           "zerolinecolor": "#283442",
           "automargin": true,
           "zerolinewidth": 2
          },
          "scene": {
           "xaxis": {
            "backgroundcolor": "rgb(17,17,17)",
            "gridcolor": "#506784",
            "linecolor": "#506784",
            "showbackground": true,
            "ticks": "",
            "zerolinecolor": "#C8D4E3",
            "gridwidth": 2
           },
           "yaxis": {
            "backgroundcolor": "rgb(17,17,17)",
            "gridcolor": "#506784",
            "linecolor": "#506784",
            "showbackground": true,
            "ticks": "",
            "zerolinecolor": "#C8D4E3",
            "gridwidth": 2
           },
           "zaxis": {
            "backgroundcolor": "rgb(17,17,17)",
            "gridcolor": "#506784",
            "linecolor": "#506784",
            "showbackground": true,
            "ticks": "",
            "zerolinecolor": "#C8D4E3",
            "gridwidth": 2
           }
          },
          "shapedefaults": {
           "line": {
            "color": "#f2f5fa"
           }
          },
          "annotationdefaults": {
           "arrowcolor": "#f2f5fa",
           "arrowhead": 0,
           "arrowwidth": 1
          },
          "geo": {
           "bgcolor": "rgb(17,17,17)",
           "landcolor": "rgb(17,17,17)",
           "subunitcolor": "#506784",
           "showland": true,
           "showlakes": true,
           "lakecolor": "rgb(17,17,17)"
          },
          "title": {
           "x": 0.05
          },
          "updatemenudefaults": {
           "bgcolor": "#506784",
           "borderwidth": 0
          },
          "sliderdefaults": {
           "bgcolor": "#C8D4E3",
           "borderwidth": 1,
           "bordercolor": "rgb(17,17,17)",
           "tickwidth": 0
          },
          "mapbox": {
           "style": "dark"
          }
         }
        },
        "hovermode": "x"
       },
       "config": {
        "plotlyServerURL": "https://plot.ly"
       }
      },
      "text/html": "<div>                            <div id=\"ee555954-5004-492a-ba81-ea54ea9114a9\" class=\"plotly-graph-div\" style=\"height:525px; width:100%;\"></div>            <script type=\"text/javascript\">                require([\"plotly\"], function(Plotly) {                    window.PLOTLYENV=window.PLOTLYENV || {};                                    if (document.getElementById(\"ee555954-5004-492a-ba81-ea54ea9114a9\")) {                    Plotly.newPlot(                        \"ee555954-5004-492a-ba81-ea54ea9114a9\",                        [{\"mode\":\"lines\",\"x\":[1489.670166015625,1488.5650634765625,1487.459716796875,1486.354248046875,1485.24853515625,1484.142578125,1483.0364990234375,1481.93017578125,1480.8236083984375,1479.7169189453125,1478.6099853515625,1477.5028076171875,1476.3955078125,1475.2879638671875,1474.1802978515625,1473.0723876953125,1471.9642333984375,1470.8558349609375,1469.747314453125,1468.638671875,1467.5296630859375,1466.4205322265625,1465.311279296875,1464.20166015625,1463.0919189453125,1461.9820556640625,1460.8719482421875,1459.7615966796875,1458.6510009765625,1457.540283203125,1456.4293212890625,1455.3182373046875,1454.2069091796875,1453.0953369140625,1451.983642578125,1450.8717041015625,1449.759521484375,1448.647216796875,1447.53466796875,1446.421875,1445.3089599609375,1444.19580078125,1443.0823974609375,1441.9688720703125,1440.8551025390625,1439.7410888671875,1438.626953125,1437.5125732421875,1436.3980712890625,1435.2833251953125,1434.1683349609375,1433.0531005859375,1431.937744140625,1430.8221435546875,1429.7064208984375,1428.5904541015625,1427.4742431640625,1426.35791015625,1425.2412109375,1424.12451171875,1423.0074462890625,1421.8902587890625,1420.7728271484375,1419.6552734375,1418.5374755859375,1417.41943359375,1416.30126953125,1415.182861328125,1414.064208984375,1412.9454345703125,1411.826416015625,1410.7071533203125,1409.587646484375,1408.468017578125,1407.3482666015625,1406.2281494140625,1405.10791015625,1403.9874267578125,1402.8668212890625,1401.7459716796875,1400.6248779296875,1399.503662109375,1398.3822021484375,1397.260498046875,1396.1385498046875,1395.0164794921875,1393.894287109375,1392.771728515625,1391.6490478515625,1390.526123046875,1389.403076171875,1388.2796630859375,1387.15625,1386.032470703125,1384.9085693359375,1383.784423828125,1382.6600341796875,1381.5355224609375,1380.4107666015625,1379.2857666015625,1378.16064453125,1377.0352783203125,1375.90966796875,1374.783935546875,1373.657958984375,1372.53173828125,1371.4053955078125,1370.27880859375,1369.1519775390625,1368.02490234375,1366.897705078125,1365.770263671875,1364.6427001953125,1363.5147705078125,1362.38671875,1361.258544921875,1360.1300048828125,1359.0013427734375,1357.87255859375,1356.743408203125,1355.6141357421875,1354.484619140625,1353.35498046875,1352.22509765625,1351.094970703125,1349.964599609375,1348.8341064453125,1347.703369140625,1346.5723876953125,1345.441162109375,1344.309814453125,1343.17822265625,1342.0465087890625,1340.91455078125,1339.7823486328125,1338.64990234375,1337.517333984375,1336.384521484375,1335.25146484375,1334.1181640625,1332.9847412109375,1331.85107421875,1330.7171630859375,1329.5831298828125,1328.4488525390625,1327.3143310546875,1326.1796875,1325.0447998046875,1323.90966796875,1322.7742919921875,1321.6387939453125,1320.5029296875,1319.3670654296875,1318.2308349609375,1317.094482421875,1315.9578857421875,1314.821044921875,1313.68408203125,1312.546875,1311.409423828125,1310.271728515625,1309.1339111328125,1307.995849609375,1306.8575439453125,1305.718994140625,1304.580322265625,1303.44140625,1302.3023681640625,1301.1629638671875,1300.0234375,1298.8836669921875,1297.74365234375,1296.603515625,1295.463134765625,1294.322509765625,1293.181640625,1292.0406494140625,1290.8994140625,1289.7579345703125,1288.6163330078125,1287.474365234375,1286.332275390625,1285.1900634765625,1284.0474853515625,1282.90478515625,1281.7618408203125,1280.61865234375,1279.475341796875,1278.3316650390625,1277.1878662109375,1276.0439453125,1274.899658203125,1273.7552490234375,1272.610595703125,1271.4656982421875,1270.3206787109375,1269.17529296875,1268.02978515625,1266.8841552734375],\"y\":[865.7152414513351,870.9558262642545,890.2514445601272,885.4421501308849,883.828682009522,870.3880741364578,862.0128240540193,854.7194637568135,878.7330791805507,878.7535651088659,893.6105481452308,884.5206180482271,896.7035940657246,893.1295850136626,892.8896511052451,874.5781932227497,878.8541749369854,881.5453754906289,892.3464464283281,895.6326685032486,879.355903286843,899.012638711068,890.2254915641628,882.3268474238051,899.4097977661859,895.0616887673312,898.6608731240987,921.7241614679739,944.8150941255168,908.2876159680657,901.7125951696879,895.7118383826715,897.9928419786621,890.7586532558674,907.2379861596982,915.7727143678578,921.6813929475668,920.9117834503442,907.8669839087222,914.3172565334864,942.2707169560225,888.2257048835874,940.6026268910931,928.5272985184052,916.0105689661411,922.1351871357257,918.0767785998802,947.4123660019878,948.7076537187048,945.2087008328239,922.1537244175125,934.5378821551908,937.0476229446715,940.8816397949014,958.7656911873833,939.4672317057438,930.1969280309534,905.4161364427263,920.8176246250703,924.23185115808,915.6612117196888,937.2743704735209,918.8403775016677,911.0165073450888,902.0538405959261,879.8060144472154,879.678670704277,874.0090748258981,881.1081941732857,845.968530710339,831.0713661412452,799.4521589598272,786.2310745184135,767.7392235467795,709.169821039973,674.2625097463244,612.0481748726588,549.9280601699277,392.1055623154286,183.25015347325632,-104.27368257701683,-498.87396335050033,-1196.5110286881477,-2413.2848424805125,-4852.05798738948,-9798.059027172194,-16802.300781832193,-13105.962615990979,7779.294027206619,19545.301783460884,18045.36356726308,12819.621109502998,8312.871250906597,5447.088839703072,3915.445355925063,3057.1581159031075,2594.7255628055,2384.4653660358667,2280.0965327888457,2210.9993767696055,2254.789297404336,2378.1350033608896,2502.9919863092905,2683.428162879458,2866.8993179331724,3062.197721042382,3232.270735264615,3380.3406989024734,3466.554565717629,3473.3539547449723,3411.4182087860163,3280.288376034027,3088.9603392017007,2897.9563143105393,2664.471193266612,2479.264393447509,2316.0647341926624,2146.5468848994606,2028.9496047702905,1933.5622560229776,1843.6880420265213,1769.7373420902695,1692.9187512108203,1623.6930491807998,1613.6210298040824,1569.4294107225983,1540.8222575422114,1476.625935126737,1444.930584416628,1418.8896342188777,1428.9473401851087,1399.1062332406657,1334.569392235158,1340.8482758986727,1298.6572670114322,1299.116767493961,1292.6552754116299,1230.4655017014181,1231.391785944072,1231.3931465127903,1194.1644369912642,1150.727353878982,1145.3070818668273,1146.4992044405071,1107.3323694947603,1104.4151653908132,1099.600551488192,1049.908799813415,1023.1517487838244,1026.4181701810166,1026.8795606661506,1012.0642547504062,989.7235500055232,992.3982086616146,958.8299339278295,976.0156492331246,949.9330268939686,962.9442628672987,983.4305898140461,958.045110972696,973.8027655809701,981.3701159767891,1011.614697680198,968.9344947259348,1001.7747787488057,980.5207769768143,992.4935071089237,988.3377747981817,1022.1837964940534,998.2911306570155,994.0303641113965,1003.1649470534533,986.4237892784475,1002.3032800437896,1004.7880781177229,1030.1234002064223,1015.6709292614813,1014.161015970949,987.1919355607946,999.0871850023273,992.6277336400128,976.9526669482335,967.8902629175075,980.5521856847216,943.8563608988716,945.0859690513358,972.2158886117458,964.7198605204279,972.9641178086201,967.4897934770065,960.3668327158116,981.2483549180026,981.0205413198485,954.6421000086981,943.1361911391124,942.6014199557906,944.8851604472549,944.3801038935384,938.3061569471903],\"type\":\"scatter\"},{\"mode\":\"lines\",\"x\":[1399.503662109375,1398.3822021484375,1397.260498046875,1396.1385498046875,1395.0164794921875,1393.894287109375,1392.771728515625,1391.6490478515625,1390.526123046875,1389.403076171875,1388.2796630859375,1387.15625,1386.032470703125],\"y\":[-20.484214164290734,-1033.8900271059024,-2729.440984519913,-5624.779158299949,-10338.358900760946,-15834.492746988146,-13064.137648949007,7322.481226373748,20547.22548546078,17692.19543987068,12107.500989516751,8266.279724796792,5992.391182562942],\"type\":\"scatter\"}],                        {\"template\":{\"data\":{\"histogram2dcontour\":[{\"type\":\"histogram2dcontour\",\"colorbar\":{\"outlinewidth\":0,\"ticks\":\"\"},\"colorscale\":[[0.0,\"#0d0887\"],[0.1111111111111111,\"#46039f\"],[0.2222222222222222,\"#7201a8\"],[0.3333333333333333,\"#9c179e\"],[0.4444444444444444,\"#bd3786\"],[0.5555555555555556,\"#d8576b\"],[0.6666666666666666,\"#ed7953\"],[0.7777777777777778,\"#fb9f3a\"],[0.8888888888888888,\"#fdca26\"],[1.0,\"#f0f921\"]]}],\"choropleth\":[{\"type\":\"choropleth\",\"colorbar\":{\"outlinewidth\":0,\"ticks\":\"\"}}],\"histogram2d\":[{\"type\":\"histogram2d\",\"colorbar\":{\"outlinewidth\":0,\"ticks\":\"\"},\"colorscale\":[[0.0,\"#0d0887\"],[0.1111111111111111,\"#46039f\"],[0.2222222222222222,\"#7201a8\"],[0.3333333333333333,\"#9c179e\"],[0.4444444444444444,\"#bd3786\"],[0.5555555555555556,\"#d8576b\"],[0.6666666666666666,\"#ed7953\"],[0.7777777777777778,\"#fb9f3a\"],[0.8888888888888888,\"#fdca26\"],[1.0,\"#f0f921\"]]}],\"heatmap\":[{\"type\":\"heatmap\",\"colorbar\":{\"outlinewidth\":0,\"ticks\":\"\"},\"colorscale\":[[0.0,\"#0d0887\"],[0.1111111111111111,\"#46039f\"],[0.2222222222222222,\"#7201a8\"],[0.3333333333333333,\"#9c179e\"],[0.4444444444444444,\"#bd3786\"],[0.5555555555555556,\"#d8576b\"],[0.6666666666666666,\"#ed7953\"],[0.7777777777777778,\"#fb9f3a\"],[0.8888888888888888,\"#fdca26\"],[1.0,\"#f0f921\"]]}],\"heatmapgl\":[{\"type\":\"heatmapgl\",\"colorbar\":{\"outlinewidth\":0,\"ticks\":\"\"},\"colorscale\":[[0.0,\"#0d0887\"],[0.1111111111111111,\"#46039f\"],[0.2222222222222222,\"#7201a8\"],[0.3333333333333333,\"#9c179e\"],[0.4444444444444444,\"#bd3786\"],[0.5555555555555556,\"#d8576b\"],[0.6666666666666666,\"#ed7953\"],[0.7777777777777778,\"#fb9f3a\"],[0.8888888888888888,\"#fdca26\"],[1.0,\"#f0f921\"]]}],\"contourcarpet\":[{\"type\":\"contourcarpet\",\"colorbar\":{\"outlinewidth\":0,\"ticks\":\"\"}}],\"contour\":[{\"type\":\"contour\",\"colorbar\":{\"outlinewidth\":0,\"ticks\":\"\"},\"colorscale\":[[0.0,\"#0d0887\"],[0.1111111111111111,\"#46039f\"],[0.2222222222222222,\"#7201a8\"],[0.3333333333333333,\"#9c179e\"],[0.4444444444444444,\"#bd3786\"],[0.5555555555555556,\"#d8576b\"],[0.6666666666666666,\"#ed7953\"],[0.7777777777777778,\"#fb9f3a\"],[0.8888888888888888,\"#fdca26\"],[1.0,\"#f0f921\"]]}],\"surface\":[{\"type\":\"surface\",\"colorbar\":{\"outlinewidth\":0,\"ticks\":\"\"},\"colorscale\":[[0.0,\"#0d0887\"],[0.1111111111111111,\"#46039f\"],[0.2222222222222222,\"#7201a8\"],[0.3333333333333333,\"#9c179e\"],[0.4444444444444444,\"#bd3786\"],[0.5555555555555556,\"#d8576b\"],[0.6666666666666666,\"#ed7953\"],[0.7777777777777778,\"#fb9f3a\"],[0.8888888888888888,\"#fdca26\"],[1.0,\"#f0f921\"]]}],\"mesh3d\":[{\"type\":\"mesh3d\",\"colorbar\":{\"outlinewidth\":0,\"ticks\":\"\"}}],\"scatter\":[{\"marker\":{\"line\":{\"color\":\"#283442\"}},\"type\":\"scatter\"}],\"parcoords\":[{\"type\":\"parcoords\",\"line\":{\"colorbar\":{\"outlinewidth\":0,\"ticks\":\"\"}}}],\"scatterpolargl\":[{\"type\":\"scatterpolargl\",\"marker\":{\"colorbar\":{\"outlinewidth\":0,\"ticks\":\"\"}}}],\"bar\":[{\"error_x\":{\"color\":\"#f2f5fa\"},\"error_y\":{\"color\":\"#f2f5fa\"},\"marker\":{\"line\":{\"color\":\"rgb(17,17,17)\",\"width\":0.5},\"pattern\":{\"fillmode\":\"overlay\",\"size\":10,\"solidity\":0.2}},\"type\":\"bar\"}],\"scattergeo\":[{\"type\":\"scattergeo\",\"marker\":{\"colorbar\":{\"outlinewidth\":0,\"ticks\":\"\"}}}],\"scatterpolar\":[{\"type\":\"scatterpolar\",\"marker\":{\"colorbar\":{\"outlinewidth\":0,\"ticks\":\"\"}}}],\"histogram\":[{\"marker\":{\"pattern\":{\"fillmode\":\"overlay\",\"size\":10,\"solidity\":0.2}},\"type\":\"histogram\"}],\"scattergl\":[{\"marker\":{\"line\":{\"color\":\"#283442\"}},\"type\":\"scattergl\"}],\"scatter3d\":[{\"type\":\"scatter3d\",\"line\":{\"colorbar\":{\"outlinewidth\":0,\"ticks\":\"\"}},\"marker\":{\"colorbar\":{\"outlinewidth\":0,\"ticks\":\"\"}}}],\"scattermapbox\":[{\"type\":\"scattermapbox\",\"marker\":{\"colorbar\":{\"outlinewidth\":0,\"ticks\":\"\"}}}],\"scatterternary\":[{\"type\":\"scatterternary\",\"marker\":{\"colorbar\":{\"outlinewidth\":0,\"ticks\":\"\"}}}],\"scattercarpet\":[{\"type\":\"scattercarpet\",\"marker\":{\"colorbar\":{\"outlinewidth\":0,\"ticks\":\"\"}}}],\"carpet\":[{\"aaxis\":{\"endlinecolor\":\"#A2B1C6\",\"gridcolor\":\"#506784\",\"linecolor\":\"#506784\",\"minorgridcolor\":\"#506784\",\"startlinecolor\":\"#A2B1C6\"},\"baxis\":{\"endlinecolor\":\"#A2B1C6\",\"gridcolor\":\"#506784\",\"linecolor\":\"#506784\",\"minorgridcolor\":\"#506784\",\"startlinecolor\":\"#A2B1C6\"},\"type\":\"carpet\"}],\"table\":[{\"cells\":{\"fill\":{\"color\":\"#506784\"},\"line\":{\"color\":\"rgb(17,17,17)\"}},\"header\":{\"fill\":{\"color\":\"#2a3f5f\"},\"line\":{\"color\":\"rgb(17,17,17)\"}},\"type\":\"table\"}],\"barpolar\":[{\"marker\":{\"line\":{\"color\":\"rgb(17,17,17)\",\"width\":0.5},\"pattern\":{\"fillmode\":\"overlay\",\"size\":10,\"solidity\":0.2}},\"type\":\"barpolar\"}],\"pie\":[{\"automargin\":true,\"type\":\"pie\"}]},\"layout\":{\"autotypenumbers\":\"strict\",\"colorway\":[\"#636efa\",\"#EF553B\",\"#00cc96\",\"#ab63fa\",\"#FFA15A\",\"#19d3f3\",\"#FF6692\",\"#B6E880\",\"#FF97FF\",\"#FECB52\"],\"font\":{\"color\":\"#f2f5fa\"},\"hovermode\":\"closest\",\"hoverlabel\":{\"align\":\"left\"},\"paper_bgcolor\":\"rgb(17,17,17)\",\"plot_bgcolor\":\"rgb(17,17,17)\",\"polar\":{\"bgcolor\":\"rgb(17,17,17)\",\"angularaxis\":{\"gridcolor\":\"#506784\",\"linecolor\":\"#506784\",\"ticks\":\"\"},\"radialaxis\":{\"gridcolor\":\"#506784\",\"linecolor\":\"#506784\",\"ticks\":\"\"}},\"ternary\":{\"bgcolor\":\"rgb(17,17,17)\",\"aaxis\":{\"gridcolor\":\"#506784\",\"linecolor\":\"#506784\",\"ticks\":\"\"},\"baxis\":{\"gridcolor\":\"#506784\",\"linecolor\":\"#506784\",\"ticks\":\"\"},\"caxis\":{\"gridcolor\":\"#506784\",\"linecolor\":\"#506784\",\"ticks\":\"\"}},\"coloraxis\":{\"colorbar\":{\"outlinewidth\":0,\"ticks\":\"\"}},\"colorscale\":{\"sequential\":[[0.0,\"#0d0887\"],[0.1111111111111111,\"#46039f\"],[0.2222222222222222,\"#7201a8\"],[0.3333333333333333,\"#9c179e\"],[0.4444444444444444,\"#bd3786\"],[0.5555555555555556,\"#d8576b\"],[0.6666666666666666,\"#ed7953\"],[0.7777777777777778,\"#fb9f3a\"],[0.8888888888888888,\"#fdca26\"],[1.0,\"#f0f921\"]],\"sequentialminus\":[[0.0,\"#0d0887\"],[0.1111111111111111,\"#46039f\"],[0.2222222222222222,\"#7201a8\"],[0.3333333333333333,\"#9c179e\"],[0.4444444444444444,\"#bd3786\"],[0.5555555555555556,\"#d8576b\"],[0.6666666666666666,\"#ed7953\"],[0.7777777777777778,\"#fb9f3a\"],[0.8888888888888888,\"#fdca26\"],[1.0,\"#f0f921\"]],\"diverging\":[[0,\"#8e0152\"],[0.1,\"#c51b7d\"],[0.2,\"#de77ae\"],[0.3,\"#f1b6da\"],[0.4,\"#fde0ef\"],[0.5,\"#f7f7f7\"],[0.6,\"#e6f5d0\"],[0.7,\"#b8e186\"],[0.8,\"#7fbc41\"],[0.9,\"#4d9221\"],[1,\"#276419\"]]},\"xaxis\":{\"gridcolor\":\"#283442\",\"linecolor\":\"#506784\",\"ticks\":\"\",\"title\":{\"standoff\":15},\"zerolinecolor\":\"#283442\",\"automargin\":true,\"zerolinewidth\":2},\"yaxis\":{\"gridcolor\":\"#283442\",\"linecolor\":\"#506784\",\"ticks\":\"\",\"title\":{\"standoff\":15},\"zerolinecolor\":\"#283442\",\"automargin\":true,\"zerolinewidth\":2},\"scene\":{\"xaxis\":{\"backgroundcolor\":\"rgb(17,17,17)\",\"gridcolor\":\"#506784\",\"linecolor\":\"#506784\",\"showbackground\":true,\"ticks\":\"\",\"zerolinecolor\":\"#C8D4E3\",\"gridwidth\":2},\"yaxis\":{\"backgroundcolor\":\"rgb(17,17,17)\",\"gridcolor\":\"#506784\",\"linecolor\":\"#506784\",\"showbackground\":true,\"ticks\":\"\",\"zerolinecolor\":\"#C8D4E3\",\"gridwidth\":2},\"zaxis\":{\"backgroundcolor\":\"rgb(17,17,17)\",\"gridcolor\":\"#506784\",\"linecolor\":\"#506784\",\"showbackground\":true,\"ticks\":\"\",\"zerolinecolor\":\"#C8D4E3\",\"gridwidth\":2}},\"shapedefaults\":{\"line\":{\"color\":\"#f2f5fa\"}},\"annotationdefaults\":{\"arrowcolor\":\"#f2f5fa\",\"arrowhead\":0,\"arrowwidth\":1},\"geo\":{\"bgcolor\":\"rgb(17,17,17)\",\"landcolor\":\"rgb(17,17,17)\",\"subunitcolor\":\"#506784\",\"showland\":true,\"showlakes\":true,\"lakecolor\":\"rgb(17,17,17)\"},\"title\":{\"x\":0.05},\"updatemenudefaults\":{\"bgcolor\":\"#506784\",\"borderwidth\":0},\"sliderdefaults\":{\"bgcolor\":\"#C8D4E3\",\"borderwidth\":1,\"bordercolor\":\"rgb(17,17,17)\",\"tickwidth\":0},\"mapbox\":{\"style\":\"dark\"}}},\"hovermode\":\"x\"},                        {\"responsive\": true}                    ).then(function(){\n                            \nvar gd = document.getElementById('ee555954-5004-492a-ba81-ea54ea9114a9');\nvar x = new MutationObserver(function (mutations, observer) {{\n        var display = window.getComputedStyle(gd).display;\n        if (!display || display === 'none') {{\n            console.log([gd, 'removed!']);\n            Plotly.purge(gd);\n            observer.disconnect();\n        }}\n}});\n\n// Listen for the removal of the full notebook cells\nvar notebookContainer = gd.closest('#notebook-container');\nif (notebookContainer) {{\n    x.observe(notebookContainer, {childList: true});\n}}\n\n// Listen for the clearing of the current output cell\nvar outputEl = gd.closest('.output');\nif (outputEl) {{\n    x.observe(outputEl, {childList: true});\n}}\n\n                        })                };                });            </script>        </div>"
     },
     "metadata": {},
     "output_type": "display_data"
    },
    {
     "data": {
      "application/vnd.plotly.v1+json": {
       "data": [
        {
         "mode": "lines",
         "x": [
          1489.670166015625,
          1488.5650634765625,
          1487.459716796875,
          1486.354248046875,
          1485.24853515625,
          1484.142578125,
          1483.0364990234375,
          1481.93017578125,
          1480.8236083984375,
          1479.7169189453125,
          1478.6099853515625,
          1477.5028076171875,
          1476.3955078125,
          1475.2879638671875,
          1474.1802978515625,
          1473.0723876953125,
          1471.9642333984375,
          1470.8558349609375,
          1469.747314453125,
          1468.638671875,
          1467.5296630859375,
          1466.4205322265625,
          1465.311279296875,
          1464.20166015625,
          1463.0919189453125,
          1461.9820556640625,
          1460.8719482421875,
          1459.7615966796875,
          1458.6510009765625,
          1457.540283203125,
          1456.4293212890625,
          1455.3182373046875,
          1454.2069091796875,
          1453.0953369140625,
          1451.983642578125,
          1450.8717041015625,
          1449.759521484375,
          1448.647216796875,
          1447.53466796875,
          1446.421875,
          1445.3089599609375,
          1444.19580078125,
          1443.0823974609375,
          1441.9688720703125,
          1440.8551025390625,
          1439.7410888671875,
          1438.626953125,
          1437.5125732421875,
          1436.3980712890625,
          1435.2833251953125,
          1434.1683349609375,
          1433.0531005859375,
          1431.937744140625,
          1430.8221435546875,
          1429.7064208984375,
          1428.5904541015625,
          1427.4742431640625,
          1426.35791015625,
          1425.2412109375,
          1424.12451171875,
          1423.0074462890625,
          1421.8902587890625,
          1420.7728271484375,
          1419.6552734375,
          1418.5374755859375,
          1417.41943359375,
          1416.30126953125,
          1415.182861328125,
          1414.064208984375,
          1412.9454345703125,
          1411.826416015625,
          1410.7071533203125,
          1409.587646484375,
          1408.468017578125,
          1407.3482666015625,
          1406.2281494140625,
          1405.10791015625,
          1403.9874267578125,
          1402.8668212890625,
          1401.7459716796875,
          1400.6248779296875,
          1399.503662109375,
          1398.3822021484375,
          1397.260498046875,
          1396.1385498046875,
          1395.0164794921875,
          1393.894287109375,
          1392.771728515625,
          1391.6490478515625,
          1390.526123046875,
          1389.403076171875,
          1388.2796630859375,
          1387.15625,
          1386.032470703125,
          1384.9085693359375,
          1383.784423828125,
          1382.6600341796875,
          1381.5355224609375,
          1380.4107666015625,
          1379.2857666015625,
          1378.16064453125,
          1377.0352783203125,
          1375.90966796875,
          1374.783935546875,
          1373.657958984375,
          1372.53173828125,
          1371.4053955078125,
          1370.27880859375,
          1369.1519775390625,
          1368.02490234375,
          1366.897705078125,
          1365.770263671875,
          1364.6427001953125,
          1363.5147705078125,
          1362.38671875,
          1361.258544921875,
          1360.1300048828125,
          1359.0013427734375,
          1357.87255859375,
          1356.743408203125,
          1355.6141357421875,
          1354.484619140625,
          1353.35498046875,
          1352.22509765625,
          1351.094970703125,
          1349.964599609375,
          1348.8341064453125,
          1347.703369140625,
          1346.5723876953125,
          1345.441162109375,
          1344.309814453125,
          1343.17822265625,
          1342.0465087890625,
          1340.91455078125,
          1339.7823486328125,
          1338.64990234375,
          1337.517333984375,
          1336.384521484375,
          1335.25146484375,
          1334.1181640625,
          1332.9847412109375,
          1331.85107421875,
          1330.7171630859375,
          1329.5831298828125,
          1328.4488525390625,
          1327.3143310546875,
          1326.1796875,
          1325.0447998046875,
          1323.90966796875,
          1322.7742919921875,
          1321.6387939453125,
          1320.5029296875,
          1319.3670654296875,
          1318.2308349609375,
          1317.094482421875,
          1315.9578857421875,
          1314.821044921875,
          1313.68408203125,
          1312.546875,
          1311.409423828125,
          1310.271728515625,
          1309.1339111328125,
          1307.995849609375,
          1306.8575439453125,
          1305.718994140625,
          1304.580322265625,
          1303.44140625,
          1302.3023681640625,
          1301.1629638671875,
          1300.0234375,
          1298.8836669921875,
          1297.74365234375,
          1296.603515625,
          1295.463134765625,
          1294.322509765625,
          1293.181640625,
          1292.0406494140625,
          1290.8994140625,
          1289.7579345703125,
          1288.6163330078125,
          1287.474365234375,
          1286.332275390625,
          1285.1900634765625,
          1284.0474853515625,
          1282.90478515625,
          1281.7618408203125,
          1280.61865234375,
          1279.475341796875,
          1278.3316650390625,
          1277.1878662109375,
          1276.0439453125,
          1274.899658203125,
          1273.7552490234375,
          1272.610595703125,
          1271.4656982421875,
          1270.3206787109375,
          1269.17529296875,
          1268.02978515625,
          1266.8841552734375
         ],
         "y": [
          -2067.7183231518893,
          -2068.876419586513,
          -2014.2744942513189,
          -2047.3881714734114,
          -2055.8784334848865,
          -2030.1439736837738,
          -2023.2173371618817,
          -2004.824355630187,
          -2024.2283482994137,
          -2019.3163712297799,
          -2023.8859681884053,
          -2002.696425567304,
          -2015.321727664704,
          -1963.410916978654,
          -2007.9248771309428,
          -1966.7736270252444,
          -1990.2543485971205,
          -1977.8693737963765,
          -1979.3974756730793,
          -1998.8809411980258,
          -2003.1309700235227,
          -1973.4578397387884,
          -1989.6066678596235,
          -1988.7240957265576,
          -1963.941884335102,
          -1974.7924355402802,
          -1967.981607051963,
          -1985.1870132327795,
          -1998.1883203206403,
          -1983.518630465403,
          -1982.4502829807548,
          -1973.9018653025016,
          -1975.3753169778356,
          -1983.7497374241789,
          -1996.4959951988087,
          -2001.771743135537,
          -1994.010699605887,
          -1984.3055302216262,
          -1980.4810199368255,
          -1964.083751904811,
          -2019.0215086274882,
          -1995.0400715757225,
          -2026.7659478547478,
          -2003.2610637611774,
          -2016.1741662272132,
          -2000.6649286458266,
          -2015.0741106910575,
          -2034.179890535042,
          -2053.601362737529,
          -2069.2781477415715,
          -2068.3172034762083,
          -2057.96453788483,
          -2068.600323622444,
          -2065.3873798228256,
          -2081.369538973904,
          -2091.588007272222,
          -2100.2663294312483,
          -2079.2532090003115,
          -2069.948871724923,
          -2131.2389284177902,
          -2135.1046696992457,
          -2141.2387404143765,
          -2137.9360747281885,
          -2165.1333876321837,
          -2204.691002279239,
          -2160.588196473257,
          -2201.6252127663524,
          -2208.239127872404,
          -2218.2549211599076,
          -2239.3424103007137,
          -2270.326847764922,
          -2277.226905595773,
          -2319.1934553169576,
          -2347.290374944939,
          -2376.2180790119073,
          -2425.322549452944,
          -2494.0683249135172,
          -2545.5006894718886,
          -2613.027999478044,
          -2718.9053589307664,
          -2835.8677733340396,
          -2964.6832671514057,
          -3208.1816332396425,
          -3593.835093033931,
          -4216.214276742141,
          -5099.920627137932,
          -5532.9841987809705,
          -2585.4057221203184,
          973.0929711912871,
          556.6832314154317,
          -1085.0802270601487,
          -2249.3399401034485,
          -2972.8315822446048,
          -3421.991163733543,
          -3636.189849816357,
          -3941.749620387236,
          -4209.159336762472,
          -4490.938346482,
          -4847.166181632242,
          -5127.488937486948,
          -5517.568016512399,
          -5973.802391956378,
          -6476.342266737654,
          -7011.5046658625015,
          -7606.07772687869,
          -8125.869087908334,
          -8646.102975535458,
          -8986.646376936154,
          -9171.74280143822,
          -9228.541569013392,
          -9079.18405204892,
          -8751.18377803894,
          -8310.367582520385,
          -7738.069684424383,
          -7189.6184510069525,
          -6611.049522890224,
          -6105.8333879014635,
          -5627.70945085601,
          -5182.362377037688,
          -4798.649335313534,
          -4458.001114986074,
          -4126.525762193938,
          -3820.222831508567,
          -3586.6225006701993,
          -3328.5605678113857,
          -3094.961747941311,
          -2909.497503330182,
          -2725.416894066077,
          -2578.8483655835494,
          -2455.8055724535543,
          -2354.145344339353,
          -2199.6652521370215,
          -2124.7343031555,
          -2050.140732352457,
          -1969.2067788787117,
          -1944.6256791506412,
          -1933.4343863736665,
          -1910.43673338272,
          -1892.4602750947827,
          -1859.4851543275317,
          -1886.8069279296474,
          -1859.6374968340913,
          -1870.3092282633122,
          -1873.6155661885768,
          -1907.2641926847189,
          -1880.9732194220808,
          -1885.0242455174935,
          -1858.534018027152,
          -1875.1165638523837,
          -1834.9995574982297,
          -1871.6892130547924,
          -1843.4024806114096,
          -1845.9864472138431,
          -1834.21346376133,
          -1854.369317871554,
          -1823.0576299439738,
          -1834.9066231686697,
          -1839.828601148518,
          -1833.1932378207853,
          -1805.614141716474,
          -1824.1867909273801,
          -1856.95667533843,
          -1849.512499925278,
          -1831.724859992918,
          -1852.1368540059875,
          -1839.8548374093411,
          -1830.3921697810194,
          -1826.307875430002,
          -1812.1319562867407,
          -1819.7322278138643,
          -1826.6856296879664,
          -1825.2840430161712,
          -1799.873831904945,
          -1790.5714395843202,
          -1801.0489431827946,
          -1815.0213311256412,
          -1805.5501751612578,
          -1775.3777955463106,
          -1795.746582359166,
          -1792.8221866710123,
          -1756.2978155506428,
          -1747.6246465411027,
          -1752.0130328330513,
          -1732.0019012903736,
          -1748.206248176747,
          -1723.6003559477354,
          -1751.5951882567726,
          -1738.063915848735,
          -1753.4248278067028,
          -1735.0494570128376,
          -1712.914132652797,
          -1720.0870026877403,
          -1730.5902240817254,
          -1695.7185036779865,
          -1701.605987617973,
          -1678.670203570996,
          -1712.0488658783254,
          -1690.2923477459321,
          -1677.1247689421346
         ],
         "type": "scatter"
        },
        {
         "mode": "lines",
         "x": [
          1399.503662109375,
          1398.3822021484375,
          1397.260498046875,
          1396.1385498046875,
          1395.0164794921875,
          1393.894287109375,
          1392.771728515625,
          1391.6490478515625,
          1390.526123046875,
          1389.403076171875,
          1388.2796630859375,
          1387.15625,
          1386.032470703125
         ],
         "y": [
          -3026.1350301683265,
          -3204.9067495306617,
          -3537.216011934832,
          -4179.130745224083,
          -5316.513587779436,
          -6082.202080360713,
          -2658.7143805400747,
          650.4126540638008,
          -163.0403819260664,
          -1289.5510821534604,
          -1921.2867273854279,
          -2248.1818645172516,
          -2424.225550320472
         ],
         "type": "scatter"
        }
       ],
       "layout": {
        "template": {
         "data": {
          "histogram2dcontour": [
           {
            "type": "histogram2dcontour",
            "colorbar": {
             "outlinewidth": 0,
             "ticks": ""
            },
            "colorscale": [
             [
              0.0,
              "#0d0887"
             ],
             [
              0.1111111111111111,
              "#46039f"
             ],
             [
              0.2222222222222222,
              "#7201a8"
             ],
             [
              0.3333333333333333,
              "#9c179e"
             ],
             [
              0.4444444444444444,
              "#bd3786"
             ],
             [
              0.5555555555555556,
              "#d8576b"
             ],
             [
              0.6666666666666666,
              "#ed7953"
             ],
             [
              0.7777777777777778,
              "#fb9f3a"
             ],
             [
              0.8888888888888888,
              "#fdca26"
             ],
             [
              1.0,
              "#f0f921"
             ]
            ]
           }
          ],
          "choropleth": [
           {
            "type": "choropleth",
            "colorbar": {
             "outlinewidth": 0,
             "ticks": ""
            }
           }
          ],
          "histogram2d": [
           {
            "type": "histogram2d",
            "colorbar": {
             "outlinewidth": 0,
             "ticks": ""
            },
            "colorscale": [
             [
              0.0,
              "#0d0887"
             ],
             [
              0.1111111111111111,
              "#46039f"
             ],
             [
              0.2222222222222222,
              "#7201a8"
             ],
             [
              0.3333333333333333,
              "#9c179e"
             ],
             [
              0.4444444444444444,
              "#bd3786"
             ],
             [
              0.5555555555555556,
              "#d8576b"
             ],
             [
              0.6666666666666666,
              "#ed7953"
             ],
             [
              0.7777777777777778,
              "#fb9f3a"
             ],
             [
              0.8888888888888888,
              "#fdca26"
             ],
             [
              1.0,
              "#f0f921"
             ]
            ]
           }
          ],
          "heatmap": [
           {
            "type": "heatmap",
            "colorbar": {
             "outlinewidth": 0,
             "ticks": ""
            },
            "colorscale": [
             [
              0.0,
              "#0d0887"
             ],
             [
              0.1111111111111111,
              "#46039f"
             ],
             [
              0.2222222222222222,
              "#7201a8"
             ],
             [
              0.3333333333333333,
              "#9c179e"
             ],
             [
              0.4444444444444444,
              "#bd3786"
             ],
             [
              0.5555555555555556,
              "#d8576b"
             ],
             [
              0.6666666666666666,
              "#ed7953"
             ],
             [
              0.7777777777777778,
              "#fb9f3a"
             ],
             [
              0.8888888888888888,
              "#fdca26"
             ],
             [
              1.0,
              "#f0f921"
             ]
            ]
           }
          ],
          "heatmapgl": [
           {
            "type": "heatmapgl",
            "colorbar": {
             "outlinewidth": 0,
             "ticks": ""
            },
            "colorscale": [
             [
              0.0,
              "#0d0887"
             ],
             [
              0.1111111111111111,
              "#46039f"
             ],
             [
              0.2222222222222222,
              "#7201a8"
             ],
             [
              0.3333333333333333,
              "#9c179e"
             ],
             [
              0.4444444444444444,
              "#bd3786"
             ],
             [
              0.5555555555555556,
              "#d8576b"
             ],
             [
              0.6666666666666666,
              "#ed7953"
             ],
             [
              0.7777777777777778,
              "#fb9f3a"
             ],
             [
              0.8888888888888888,
              "#fdca26"
             ],
             [
              1.0,
              "#f0f921"
             ]
            ]
           }
          ],
          "contourcarpet": [
           {
            "type": "contourcarpet",
            "colorbar": {
             "outlinewidth": 0,
             "ticks": ""
            }
           }
          ],
          "contour": [
           {
            "type": "contour",
            "colorbar": {
             "outlinewidth": 0,
             "ticks": ""
            },
            "colorscale": [
             [
              0.0,
              "#0d0887"
             ],
             [
              0.1111111111111111,
              "#46039f"
             ],
             [
              0.2222222222222222,
              "#7201a8"
             ],
             [
              0.3333333333333333,
              "#9c179e"
             ],
             [
              0.4444444444444444,
              "#bd3786"
             ],
             [
              0.5555555555555556,
              "#d8576b"
             ],
             [
              0.6666666666666666,
              "#ed7953"
             ],
             [
              0.7777777777777778,
              "#fb9f3a"
             ],
             [
              0.8888888888888888,
              "#fdca26"
             ],
             [
              1.0,
              "#f0f921"
             ]
            ]
           }
          ],
          "surface": [
           {
            "type": "surface",
            "colorbar": {
             "outlinewidth": 0,
             "ticks": ""
            },
            "colorscale": [
             [
              0.0,
              "#0d0887"
             ],
             [
              0.1111111111111111,
              "#46039f"
             ],
             [
              0.2222222222222222,
              "#7201a8"
             ],
             [
              0.3333333333333333,
              "#9c179e"
             ],
             [
              0.4444444444444444,
              "#bd3786"
             ],
             [
              0.5555555555555556,
              "#d8576b"
             ],
             [
              0.6666666666666666,
              "#ed7953"
             ],
             [
              0.7777777777777778,
              "#fb9f3a"
             ],
             [
              0.8888888888888888,
              "#fdca26"
             ],
             [
              1.0,
              "#f0f921"
             ]
            ]
           }
          ],
          "mesh3d": [
           {
            "type": "mesh3d",
            "colorbar": {
             "outlinewidth": 0,
             "ticks": ""
            }
           }
          ],
          "scatter": [
           {
            "marker": {
             "line": {
              "color": "#283442"
             }
            },
            "type": "scatter"
           }
          ],
          "parcoords": [
           {
            "type": "parcoords",
            "line": {
             "colorbar": {
              "outlinewidth": 0,
              "ticks": ""
             }
            }
           }
          ],
          "scatterpolargl": [
           {
            "type": "scatterpolargl",
            "marker": {
             "colorbar": {
              "outlinewidth": 0,
              "ticks": ""
             }
            }
           }
          ],
          "bar": [
           {
            "error_x": {
             "color": "#f2f5fa"
            },
            "error_y": {
             "color": "#f2f5fa"
            },
            "marker": {
             "line": {
              "color": "rgb(17,17,17)",
              "width": 0.5
             },
             "pattern": {
              "fillmode": "overlay",
              "size": 10,
              "solidity": 0.2
             }
            },
            "type": "bar"
           }
          ],
          "scattergeo": [
           {
            "type": "scattergeo",
            "marker": {
             "colorbar": {
              "outlinewidth": 0,
              "ticks": ""
             }
            }
           }
          ],
          "scatterpolar": [
           {
            "type": "scatterpolar",
            "marker": {
             "colorbar": {
              "outlinewidth": 0,
              "ticks": ""
             }
            }
           }
          ],
          "histogram": [
           {
            "marker": {
             "pattern": {
              "fillmode": "overlay",
              "size": 10,
              "solidity": 0.2
             }
            },
            "type": "histogram"
           }
          ],
          "scattergl": [
           {
            "marker": {
             "line": {
              "color": "#283442"
             }
            },
            "type": "scattergl"
           }
          ],
          "scatter3d": [
           {
            "type": "scatter3d",
            "line": {
             "colorbar": {
              "outlinewidth": 0,
              "ticks": ""
             }
            },
            "marker": {
             "colorbar": {
              "outlinewidth": 0,
              "ticks": ""
             }
            }
           }
          ],
          "scattermapbox": [
           {
            "type": "scattermapbox",
            "marker": {
             "colorbar": {
              "outlinewidth": 0,
              "ticks": ""
             }
            }
           }
          ],
          "scatterternary": [
           {
            "type": "scatterternary",
            "marker": {
             "colorbar": {
              "outlinewidth": 0,
              "ticks": ""
             }
            }
           }
          ],
          "scattercarpet": [
           {
            "type": "scattercarpet",
            "marker": {
             "colorbar": {
              "outlinewidth": 0,
              "ticks": ""
             }
            }
           }
          ],
          "carpet": [
           {
            "aaxis": {
             "endlinecolor": "#A2B1C6",
             "gridcolor": "#506784",
             "linecolor": "#506784",
             "minorgridcolor": "#506784",
             "startlinecolor": "#A2B1C6"
            },
            "baxis": {
             "endlinecolor": "#A2B1C6",
             "gridcolor": "#506784",
             "linecolor": "#506784",
             "minorgridcolor": "#506784",
             "startlinecolor": "#A2B1C6"
            },
            "type": "carpet"
           }
          ],
          "table": [
           {
            "cells": {
             "fill": {
              "color": "#506784"
             },
             "line": {
              "color": "rgb(17,17,17)"
             }
            },
            "header": {
             "fill": {
              "color": "#2a3f5f"
             },
             "line": {
              "color": "rgb(17,17,17)"
             }
            },
            "type": "table"
           }
          ],
          "barpolar": [
           {
            "marker": {
             "line": {
              "color": "rgb(17,17,17)",
              "width": 0.5
             },
             "pattern": {
              "fillmode": "overlay",
              "size": 10,
              "solidity": 0.2
             }
            },
            "type": "barpolar"
           }
          ],
          "pie": [
           {
            "automargin": true,
            "type": "pie"
           }
          ]
         },
         "layout": {
          "autotypenumbers": "strict",
          "colorway": [
           "#636efa",
           "#EF553B",
           "#00cc96",
           "#ab63fa",
           "#FFA15A",
           "#19d3f3",
           "#FF6692",
           "#B6E880",
           "#FF97FF",
           "#FECB52"
          ],
          "font": {
           "color": "#f2f5fa"
          },
          "hovermode": "closest",
          "hoverlabel": {
           "align": "left"
          },
          "paper_bgcolor": "rgb(17,17,17)",
          "plot_bgcolor": "rgb(17,17,17)",
          "polar": {
           "bgcolor": "rgb(17,17,17)",
           "angularaxis": {
            "gridcolor": "#506784",
            "linecolor": "#506784",
            "ticks": ""
           },
           "radialaxis": {
            "gridcolor": "#506784",
            "linecolor": "#506784",
            "ticks": ""
           }
          },
          "ternary": {
           "bgcolor": "rgb(17,17,17)",
           "aaxis": {
            "gridcolor": "#506784",
            "linecolor": "#506784",
            "ticks": ""
           },
           "baxis": {
            "gridcolor": "#506784",
            "linecolor": "#506784",
            "ticks": ""
           },
           "caxis": {
            "gridcolor": "#506784",
            "linecolor": "#506784",
            "ticks": ""
           }
          },
          "coloraxis": {
           "colorbar": {
            "outlinewidth": 0,
            "ticks": ""
           }
          },
          "colorscale": {
           "sequential": [
            [
             0.0,
             "#0d0887"
            ],
            [
             0.1111111111111111,
             "#46039f"
            ],
            [
             0.2222222222222222,
             "#7201a8"
            ],
            [
             0.3333333333333333,
             "#9c179e"
            ],
            [
             0.4444444444444444,
             "#bd3786"
            ],
            [
             0.5555555555555556,
             "#d8576b"
            ],
            [
             0.6666666666666666,
             "#ed7953"
            ],
            [
             0.7777777777777778,
             "#fb9f3a"
            ],
            [
             0.8888888888888888,
             "#fdca26"
            ],
            [
             1.0,
             "#f0f921"
            ]
           ],
           "sequentialminus": [
            [
             0.0,
             "#0d0887"
            ],
            [
             0.1111111111111111,
             "#46039f"
            ],
            [
             0.2222222222222222,
             "#7201a8"
            ],
            [
             0.3333333333333333,
             "#9c179e"
            ],
            [
             0.4444444444444444,
             "#bd3786"
            ],
            [
             0.5555555555555556,
             "#d8576b"
            ],
            [
             0.6666666666666666,
             "#ed7953"
            ],
            [
             0.7777777777777778,
             "#fb9f3a"
            ],
            [
             0.8888888888888888,
             "#fdca26"
            ],
            [
             1.0,
             "#f0f921"
            ]
           ],
           "diverging": [
            [
             0,
             "#8e0152"
            ],
            [
             0.1,
             "#c51b7d"
            ],
            [
             0.2,
             "#de77ae"
            ],
            [
             0.3,
             "#f1b6da"
            ],
            [
             0.4,
             "#fde0ef"
            ],
            [
             0.5,
             "#f7f7f7"
            ],
            [
             0.6,
             "#e6f5d0"
            ],
            [
             0.7,
             "#b8e186"
            ],
            [
             0.8,
             "#7fbc41"
            ],
            [
             0.9,
             "#4d9221"
            ],
            [
             1,
             "#276419"
            ]
           ]
          },
          "xaxis": {
           "gridcolor": "#283442",
           "linecolor": "#506784",
           "ticks": "",
           "title": {
            "standoff": 15
           },
           "zerolinecolor": "#283442",
           "automargin": true,
           "zerolinewidth": 2
          },
          "yaxis": {
           "gridcolor": "#283442",
           "linecolor": "#506784",
           "ticks": "",
           "title": {
            "standoff": 15
           },
           "zerolinecolor": "#283442",
           "automargin": true,
           "zerolinewidth": 2
          },
          "scene": {
           "xaxis": {
            "backgroundcolor": "rgb(17,17,17)",
            "gridcolor": "#506784",
            "linecolor": "#506784",
            "showbackground": true,
            "ticks": "",
            "zerolinecolor": "#C8D4E3",
            "gridwidth": 2
           },
           "yaxis": {
            "backgroundcolor": "rgb(17,17,17)",
            "gridcolor": "#506784",
            "linecolor": "#506784",
            "showbackground": true,
            "ticks": "",
            "zerolinecolor": "#C8D4E3",
            "gridwidth": 2
           },
           "zaxis": {
            "backgroundcolor": "rgb(17,17,17)",
            "gridcolor": "#506784",
            "linecolor": "#506784",
            "showbackground": true,
            "ticks": "",
            "zerolinecolor": "#C8D4E3",
            "gridwidth": 2
           }
          },
          "shapedefaults": {
           "line": {
            "color": "#f2f5fa"
           }
          },
          "annotationdefaults": {
           "arrowcolor": "#f2f5fa",
           "arrowhead": 0,
           "arrowwidth": 1
          },
          "geo": {
           "bgcolor": "rgb(17,17,17)",
           "landcolor": "rgb(17,17,17)",
           "subunitcolor": "#506784",
           "showland": true,
           "showlakes": true,
           "lakecolor": "rgb(17,17,17)"
          },
          "title": {
           "x": 0.05
          },
          "updatemenudefaults": {
           "bgcolor": "#506784",
           "borderwidth": 0
          },
          "sliderdefaults": {
           "bgcolor": "#C8D4E3",
           "borderwidth": 1,
           "bordercolor": "rgb(17,17,17)",
           "tickwidth": 0
          },
          "mapbox": {
           "style": "dark"
          }
         }
        },
        "hovermode": "x"
       },
       "config": {
        "plotlyServerURL": "https://plot.ly"
       }
      },
      "text/html": "<div>                            <div id=\"757b35c3-4f70-45b5-806e-dad030c1a760\" class=\"plotly-graph-div\" style=\"height:525px; width:100%;\"></div>            <script type=\"text/javascript\">                require([\"plotly\"], function(Plotly) {                    window.PLOTLYENV=window.PLOTLYENV || {};                                    if (document.getElementById(\"757b35c3-4f70-45b5-806e-dad030c1a760\")) {                    Plotly.newPlot(                        \"757b35c3-4f70-45b5-806e-dad030c1a760\",                        [{\"mode\":\"lines\",\"x\":[1489.670166015625,1488.5650634765625,1487.459716796875,1486.354248046875,1485.24853515625,1484.142578125,1483.0364990234375,1481.93017578125,1480.8236083984375,1479.7169189453125,1478.6099853515625,1477.5028076171875,1476.3955078125,1475.2879638671875,1474.1802978515625,1473.0723876953125,1471.9642333984375,1470.8558349609375,1469.747314453125,1468.638671875,1467.5296630859375,1466.4205322265625,1465.311279296875,1464.20166015625,1463.0919189453125,1461.9820556640625,1460.8719482421875,1459.7615966796875,1458.6510009765625,1457.540283203125,1456.4293212890625,1455.3182373046875,1454.2069091796875,1453.0953369140625,1451.983642578125,1450.8717041015625,1449.759521484375,1448.647216796875,1447.53466796875,1446.421875,1445.3089599609375,1444.19580078125,1443.0823974609375,1441.9688720703125,1440.8551025390625,1439.7410888671875,1438.626953125,1437.5125732421875,1436.3980712890625,1435.2833251953125,1434.1683349609375,1433.0531005859375,1431.937744140625,1430.8221435546875,1429.7064208984375,1428.5904541015625,1427.4742431640625,1426.35791015625,1425.2412109375,1424.12451171875,1423.0074462890625,1421.8902587890625,1420.7728271484375,1419.6552734375,1418.5374755859375,1417.41943359375,1416.30126953125,1415.182861328125,1414.064208984375,1412.9454345703125,1411.826416015625,1410.7071533203125,1409.587646484375,1408.468017578125,1407.3482666015625,1406.2281494140625,1405.10791015625,1403.9874267578125,1402.8668212890625,1401.7459716796875,1400.6248779296875,1399.503662109375,1398.3822021484375,1397.260498046875,1396.1385498046875,1395.0164794921875,1393.894287109375,1392.771728515625,1391.6490478515625,1390.526123046875,1389.403076171875,1388.2796630859375,1387.15625,1386.032470703125,1384.9085693359375,1383.784423828125,1382.6600341796875,1381.5355224609375,1380.4107666015625,1379.2857666015625,1378.16064453125,1377.0352783203125,1375.90966796875,1374.783935546875,1373.657958984375,1372.53173828125,1371.4053955078125,1370.27880859375,1369.1519775390625,1368.02490234375,1366.897705078125,1365.770263671875,1364.6427001953125,1363.5147705078125,1362.38671875,1361.258544921875,1360.1300048828125,1359.0013427734375,1357.87255859375,1356.743408203125,1355.6141357421875,1354.484619140625,1353.35498046875,1352.22509765625,1351.094970703125,1349.964599609375,1348.8341064453125,1347.703369140625,1346.5723876953125,1345.441162109375,1344.309814453125,1343.17822265625,1342.0465087890625,1340.91455078125,1339.7823486328125,1338.64990234375,1337.517333984375,1336.384521484375,1335.25146484375,1334.1181640625,1332.9847412109375,1331.85107421875,1330.7171630859375,1329.5831298828125,1328.4488525390625,1327.3143310546875,1326.1796875,1325.0447998046875,1323.90966796875,1322.7742919921875,1321.6387939453125,1320.5029296875,1319.3670654296875,1318.2308349609375,1317.094482421875,1315.9578857421875,1314.821044921875,1313.68408203125,1312.546875,1311.409423828125,1310.271728515625,1309.1339111328125,1307.995849609375,1306.8575439453125,1305.718994140625,1304.580322265625,1303.44140625,1302.3023681640625,1301.1629638671875,1300.0234375,1298.8836669921875,1297.74365234375,1296.603515625,1295.463134765625,1294.322509765625,1293.181640625,1292.0406494140625,1290.8994140625,1289.7579345703125,1288.6163330078125,1287.474365234375,1286.332275390625,1285.1900634765625,1284.0474853515625,1282.90478515625,1281.7618408203125,1280.61865234375,1279.475341796875,1278.3316650390625,1277.1878662109375,1276.0439453125,1274.899658203125,1273.7552490234375,1272.610595703125,1271.4656982421875,1270.3206787109375,1269.17529296875,1268.02978515625,1266.8841552734375],\"y\":[-2067.7183231518893,-2068.876419586513,-2014.2744942513189,-2047.3881714734114,-2055.8784334848865,-2030.1439736837738,-2023.2173371618817,-2004.824355630187,-2024.2283482994137,-2019.3163712297799,-2023.8859681884053,-2002.696425567304,-2015.321727664704,-1963.410916978654,-2007.9248771309428,-1966.7736270252444,-1990.2543485971205,-1977.8693737963765,-1979.3974756730793,-1998.8809411980258,-2003.1309700235227,-1973.4578397387884,-1989.6066678596235,-1988.7240957265576,-1963.941884335102,-1974.7924355402802,-1967.981607051963,-1985.1870132327795,-1998.1883203206403,-1983.518630465403,-1982.4502829807548,-1973.9018653025016,-1975.3753169778356,-1983.7497374241789,-1996.4959951988087,-2001.771743135537,-1994.010699605887,-1984.3055302216262,-1980.4810199368255,-1964.083751904811,-2019.0215086274882,-1995.0400715757225,-2026.7659478547478,-2003.2610637611774,-2016.1741662272132,-2000.6649286458266,-2015.0741106910575,-2034.179890535042,-2053.601362737529,-2069.2781477415715,-2068.3172034762083,-2057.96453788483,-2068.600323622444,-2065.3873798228256,-2081.369538973904,-2091.588007272222,-2100.2663294312483,-2079.2532090003115,-2069.948871724923,-2131.2389284177902,-2135.1046696992457,-2141.2387404143765,-2137.9360747281885,-2165.1333876321837,-2204.691002279239,-2160.588196473257,-2201.6252127663524,-2208.239127872404,-2218.2549211599076,-2239.3424103007137,-2270.326847764922,-2277.226905595773,-2319.1934553169576,-2347.290374944939,-2376.2180790119073,-2425.322549452944,-2494.0683249135172,-2545.5006894718886,-2613.027999478044,-2718.9053589307664,-2835.8677733340396,-2964.6832671514057,-3208.1816332396425,-3593.835093033931,-4216.214276742141,-5099.920627137932,-5532.9841987809705,-2585.4057221203184,973.0929711912871,556.6832314154317,-1085.0802270601487,-2249.3399401034485,-2972.8315822446048,-3421.991163733543,-3636.189849816357,-3941.749620387236,-4209.159336762472,-4490.938346482,-4847.166181632242,-5127.488937486948,-5517.568016512399,-5973.802391956378,-6476.342266737654,-7011.5046658625015,-7606.07772687869,-8125.869087908334,-8646.102975535458,-8986.646376936154,-9171.74280143822,-9228.541569013392,-9079.18405204892,-8751.18377803894,-8310.367582520385,-7738.069684424383,-7189.6184510069525,-6611.049522890224,-6105.8333879014635,-5627.70945085601,-5182.362377037688,-4798.649335313534,-4458.001114986074,-4126.525762193938,-3820.222831508567,-3586.6225006701993,-3328.5605678113857,-3094.961747941311,-2909.497503330182,-2725.416894066077,-2578.8483655835494,-2455.8055724535543,-2354.145344339353,-2199.6652521370215,-2124.7343031555,-2050.140732352457,-1969.2067788787117,-1944.6256791506412,-1933.4343863736665,-1910.43673338272,-1892.4602750947827,-1859.4851543275317,-1886.8069279296474,-1859.6374968340913,-1870.3092282633122,-1873.6155661885768,-1907.2641926847189,-1880.9732194220808,-1885.0242455174935,-1858.534018027152,-1875.1165638523837,-1834.9995574982297,-1871.6892130547924,-1843.4024806114096,-1845.9864472138431,-1834.21346376133,-1854.369317871554,-1823.0576299439738,-1834.9066231686697,-1839.828601148518,-1833.1932378207853,-1805.614141716474,-1824.1867909273801,-1856.95667533843,-1849.512499925278,-1831.724859992918,-1852.1368540059875,-1839.8548374093411,-1830.3921697810194,-1826.307875430002,-1812.1319562867407,-1819.7322278138643,-1826.6856296879664,-1825.2840430161712,-1799.873831904945,-1790.5714395843202,-1801.0489431827946,-1815.0213311256412,-1805.5501751612578,-1775.3777955463106,-1795.746582359166,-1792.8221866710123,-1756.2978155506428,-1747.6246465411027,-1752.0130328330513,-1732.0019012903736,-1748.206248176747,-1723.6003559477354,-1751.5951882567726,-1738.063915848735,-1753.4248278067028,-1735.0494570128376,-1712.914132652797,-1720.0870026877403,-1730.5902240817254,-1695.7185036779865,-1701.605987617973,-1678.670203570996,-1712.0488658783254,-1690.2923477459321,-1677.1247689421346],\"type\":\"scatter\"},{\"mode\":\"lines\",\"x\":[1399.503662109375,1398.3822021484375,1397.260498046875,1396.1385498046875,1395.0164794921875,1393.894287109375,1392.771728515625,1391.6490478515625,1390.526123046875,1389.403076171875,1388.2796630859375,1387.15625,1386.032470703125],\"y\":[-3026.1350301683265,-3204.9067495306617,-3537.216011934832,-4179.130745224083,-5316.513587779436,-6082.202080360713,-2658.7143805400747,650.4126540638008,-163.0403819260664,-1289.5510821534604,-1921.2867273854279,-2248.1818645172516,-2424.225550320472],\"type\":\"scatter\"}],                        {\"template\":{\"data\":{\"histogram2dcontour\":[{\"type\":\"histogram2dcontour\",\"colorbar\":{\"outlinewidth\":0,\"ticks\":\"\"},\"colorscale\":[[0.0,\"#0d0887\"],[0.1111111111111111,\"#46039f\"],[0.2222222222222222,\"#7201a8\"],[0.3333333333333333,\"#9c179e\"],[0.4444444444444444,\"#bd3786\"],[0.5555555555555556,\"#d8576b\"],[0.6666666666666666,\"#ed7953\"],[0.7777777777777778,\"#fb9f3a\"],[0.8888888888888888,\"#fdca26\"],[1.0,\"#f0f921\"]]}],\"choropleth\":[{\"type\":\"choropleth\",\"colorbar\":{\"outlinewidth\":0,\"ticks\":\"\"}}],\"histogram2d\":[{\"type\":\"histogram2d\",\"colorbar\":{\"outlinewidth\":0,\"ticks\":\"\"},\"colorscale\":[[0.0,\"#0d0887\"],[0.1111111111111111,\"#46039f\"],[0.2222222222222222,\"#7201a8\"],[0.3333333333333333,\"#9c179e\"],[0.4444444444444444,\"#bd3786\"],[0.5555555555555556,\"#d8576b\"],[0.6666666666666666,\"#ed7953\"],[0.7777777777777778,\"#fb9f3a\"],[0.8888888888888888,\"#fdca26\"],[1.0,\"#f0f921\"]]}],\"heatmap\":[{\"type\":\"heatmap\",\"colorbar\":{\"outlinewidth\":0,\"ticks\":\"\"},\"colorscale\":[[0.0,\"#0d0887\"],[0.1111111111111111,\"#46039f\"],[0.2222222222222222,\"#7201a8\"],[0.3333333333333333,\"#9c179e\"],[0.4444444444444444,\"#bd3786\"],[0.5555555555555556,\"#d8576b\"],[0.6666666666666666,\"#ed7953\"],[0.7777777777777778,\"#fb9f3a\"],[0.8888888888888888,\"#fdca26\"],[1.0,\"#f0f921\"]]}],\"heatmapgl\":[{\"type\":\"heatmapgl\",\"colorbar\":{\"outlinewidth\":0,\"ticks\":\"\"},\"colorscale\":[[0.0,\"#0d0887\"],[0.1111111111111111,\"#46039f\"],[0.2222222222222222,\"#7201a8\"],[0.3333333333333333,\"#9c179e\"],[0.4444444444444444,\"#bd3786\"],[0.5555555555555556,\"#d8576b\"],[0.6666666666666666,\"#ed7953\"],[0.7777777777777778,\"#fb9f3a\"],[0.8888888888888888,\"#fdca26\"],[1.0,\"#f0f921\"]]}],\"contourcarpet\":[{\"type\":\"contourcarpet\",\"colorbar\":{\"outlinewidth\":0,\"ticks\":\"\"}}],\"contour\":[{\"type\":\"contour\",\"colorbar\":{\"outlinewidth\":0,\"ticks\":\"\"},\"colorscale\":[[0.0,\"#0d0887\"],[0.1111111111111111,\"#46039f\"],[0.2222222222222222,\"#7201a8\"],[0.3333333333333333,\"#9c179e\"],[0.4444444444444444,\"#bd3786\"],[0.5555555555555556,\"#d8576b\"],[0.6666666666666666,\"#ed7953\"],[0.7777777777777778,\"#fb9f3a\"],[0.8888888888888888,\"#fdca26\"],[1.0,\"#f0f921\"]]}],\"surface\":[{\"type\":\"surface\",\"colorbar\":{\"outlinewidth\":0,\"ticks\":\"\"},\"colorscale\":[[0.0,\"#0d0887\"],[0.1111111111111111,\"#46039f\"],[0.2222222222222222,\"#7201a8\"],[0.3333333333333333,\"#9c179e\"],[0.4444444444444444,\"#bd3786\"],[0.5555555555555556,\"#d8576b\"],[0.6666666666666666,\"#ed7953\"],[0.7777777777777778,\"#fb9f3a\"],[0.8888888888888888,\"#fdca26\"],[1.0,\"#f0f921\"]]}],\"mesh3d\":[{\"type\":\"mesh3d\",\"colorbar\":{\"outlinewidth\":0,\"ticks\":\"\"}}],\"scatter\":[{\"marker\":{\"line\":{\"color\":\"#283442\"}},\"type\":\"scatter\"}],\"parcoords\":[{\"type\":\"parcoords\",\"line\":{\"colorbar\":{\"outlinewidth\":0,\"ticks\":\"\"}}}],\"scatterpolargl\":[{\"type\":\"scatterpolargl\",\"marker\":{\"colorbar\":{\"outlinewidth\":0,\"ticks\":\"\"}}}],\"bar\":[{\"error_x\":{\"color\":\"#f2f5fa\"},\"error_y\":{\"color\":\"#f2f5fa\"},\"marker\":{\"line\":{\"color\":\"rgb(17,17,17)\",\"width\":0.5},\"pattern\":{\"fillmode\":\"overlay\",\"size\":10,\"solidity\":0.2}},\"type\":\"bar\"}],\"scattergeo\":[{\"type\":\"scattergeo\",\"marker\":{\"colorbar\":{\"outlinewidth\":0,\"ticks\":\"\"}}}],\"scatterpolar\":[{\"type\":\"scatterpolar\",\"marker\":{\"colorbar\":{\"outlinewidth\":0,\"ticks\":\"\"}}}],\"histogram\":[{\"marker\":{\"pattern\":{\"fillmode\":\"overlay\",\"size\":10,\"solidity\":0.2}},\"type\":\"histogram\"}],\"scattergl\":[{\"marker\":{\"line\":{\"color\":\"#283442\"}},\"type\":\"scattergl\"}],\"scatter3d\":[{\"type\":\"scatter3d\",\"line\":{\"colorbar\":{\"outlinewidth\":0,\"ticks\":\"\"}},\"marker\":{\"colorbar\":{\"outlinewidth\":0,\"ticks\":\"\"}}}],\"scattermapbox\":[{\"type\":\"scattermapbox\",\"marker\":{\"colorbar\":{\"outlinewidth\":0,\"ticks\":\"\"}}}],\"scatterternary\":[{\"type\":\"scatterternary\",\"marker\":{\"colorbar\":{\"outlinewidth\":0,\"ticks\":\"\"}}}],\"scattercarpet\":[{\"type\":\"scattercarpet\",\"marker\":{\"colorbar\":{\"outlinewidth\":0,\"ticks\":\"\"}}}],\"carpet\":[{\"aaxis\":{\"endlinecolor\":\"#A2B1C6\",\"gridcolor\":\"#506784\",\"linecolor\":\"#506784\",\"minorgridcolor\":\"#506784\",\"startlinecolor\":\"#A2B1C6\"},\"baxis\":{\"endlinecolor\":\"#A2B1C6\",\"gridcolor\":\"#506784\",\"linecolor\":\"#506784\",\"minorgridcolor\":\"#506784\",\"startlinecolor\":\"#A2B1C6\"},\"type\":\"carpet\"}],\"table\":[{\"cells\":{\"fill\":{\"color\":\"#506784\"},\"line\":{\"color\":\"rgb(17,17,17)\"}},\"header\":{\"fill\":{\"color\":\"#2a3f5f\"},\"line\":{\"color\":\"rgb(17,17,17)\"}},\"type\":\"table\"}],\"barpolar\":[{\"marker\":{\"line\":{\"color\":\"rgb(17,17,17)\",\"width\":0.5},\"pattern\":{\"fillmode\":\"overlay\",\"size\":10,\"solidity\":0.2}},\"type\":\"barpolar\"}],\"pie\":[{\"automargin\":true,\"type\":\"pie\"}]},\"layout\":{\"autotypenumbers\":\"strict\",\"colorway\":[\"#636efa\",\"#EF553B\",\"#00cc96\",\"#ab63fa\",\"#FFA15A\",\"#19d3f3\",\"#FF6692\",\"#B6E880\",\"#FF97FF\",\"#FECB52\"],\"font\":{\"color\":\"#f2f5fa\"},\"hovermode\":\"closest\",\"hoverlabel\":{\"align\":\"left\"},\"paper_bgcolor\":\"rgb(17,17,17)\",\"plot_bgcolor\":\"rgb(17,17,17)\",\"polar\":{\"bgcolor\":\"rgb(17,17,17)\",\"angularaxis\":{\"gridcolor\":\"#506784\",\"linecolor\":\"#506784\",\"ticks\":\"\"},\"radialaxis\":{\"gridcolor\":\"#506784\",\"linecolor\":\"#506784\",\"ticks\":\"\"}},\"ternary\":{\"bgcolor\":\"rgb(17,17,17)\",\"aaxis\":{\"gridcolor\":\"#506784\",\"linecolor\":\"#506784\",\"ticks\":\"\"},\"baxis\":{\"gridcolor\":\"#506784\",\"linecolor\":\"#506784\",\"ticks\":\"\"},\"caxis\":{\"gridcolor\":\"#506784\",\"linecolor\":\"#506784\",\"ticks\":\"\"}},\"coloraxis\":{\"colorbar\":{\"outlinewidth\":0,\"ticks\":\"\"}},\"colorscale\":{\"sequential\":[[0.0,\"#0d0887\"],[0.1111111111111111,\"#46039f\"],[0.2222222222222222,\"#7201a8\"],[0.3333333333333333,\"#9c179e\"],[0.4444444444444444,\"#bd3786\"],[0.5555555555555556,\"#d8576b\"],[0.6666666666666666,\"#ed7953\"],[0.7777777777777778,\"#fb9f3a\"],[0.8888888888888888,\"#fdca26\"],[1.0,\"#f0f921\"]],\"sequentialminus\":[[0.0,\"#0d0887\"],[0.1111111111111111,\"#46039f\"],[0.2222222222222222,\"#7201a8\"],[0.3333333333333333,\"#9c179e\"],[0.4444444444444444,\"#bd3786\"],[0.5555555555555556,\"#d8576b\"],[0.6666666666666666,\"#ed7953\"],[0.7777777777777778,\"#fb9f3a\"],[0.8888888888888888,\"#fdca26\"],[1.0,\"#f0f921\"]],\"diverging\":[[0,\"#8e0152\"],[0.1,\"#c51b7d\"],[0.2,\"#de77ae\"],[0.3,\"#f1b6da\"],[0.4,\"#fde0ef\"],[0.5,\"#f7f7f7\"],[0.6,\"#e6f5d0\"],[0.7,\"#b8e186\"],[0.8,\"#7fbc41\"],[0.9,\"#4d9221\"],[1,\"#276419\"]]},\"xaxis\":{\"gridcolor\":\"#283442\",\"linecolor\":\"#506784\",\"ticks\":\"\",\"title\":{\"standoff\":15},\"zerolinecolor\":\"#283442\",\"automargin\":true,\"zerolinewidth\":2},\"yaxis\":{\"gridcolor\":\"#283442\",\"linecolor\":\"#506784\",\"ticks\":\"\",\"title\":{\"standoff\":15},\"zerolinecolor\":\"#283442\",\"automargin\":true,\"zerolinewidth\":2},\"scene\":{\"xaxis\":{\"backgroundcolor\":\"rgb(17,17,17)\",\"gridcolor\":\"#506784\",\"linecolor\":\"#506784\",\"showbackground\":true,\"ticks\":\"\",\"zerolinecolor\":\"#C8D4E3\",\"gridwidth\":2},\"yaxis\":{\"backgroundcolor\":\"rgb(17,17,17)\",\"gridcolor\":\"#506784\",\"linecolor\":\"#506784\",\"showbackground\":true,\"ticks\":\"\",\"zerolinecolor\":\"#C8D4E3\",\"gridwidth\":2},\"zaxis\":{\"backgroundcolor\":\"rgb(17,17,17)\",\"gridcolor\":\"#506784\",\"linecolor\":\"#506784\",\"showbackground\":true,\"ticks\":\"\",\"zerolinecolor\":\"#C8D4E3\",\"gridwidth\":2}},\"shapedefaults\":{\"line\":{\"color\":\"#f2f5fa\"}},\"annotationdefaults\":{\"arrowcolor\":\"#f2f5fa\",\"arrowhead\":0,\"arrowwidth\":1},\"geo\":{\"bgcolor\":\"rgb(17,17,17)\",\"landcolor\":\"rgb(17,17,17)\",\"subunitcolor\":\"#506784\",\"showland\":true,\"showlakes\":true,\"lakecolor\":\"rgb(17,17,17)\"},\"title\":{\"x\":0.05},\"updatemenudefaults\":{\"bgcolor\":\"#506784\",\"borderwidth\":0},\"sliderdefaults\":{\"bgcolor\":\"#C8D4E3\",\"borderwidth\":1,\"bordercolor\":\"rgb(17,17,17)\",\"tickwidth\":0},\"mapbox\":{\"style\":\"dark\"}}},\"hovermode\":\"x\"},                        {\"responsive\": true}                    ).then(function(){\n                            \nvar gd = document.getElementById('757b35c3-4f70-45b5-806e-dad030c1a760');\nvar x = new MutationObserver(function (mutations, observer) {{\n        var display = window.getComputedStyle(gd).display;\n        if (!display || display === 'none') {{\n            console.log([gd, 'removed!']);\n            Plotly.purge(gd);\n            observer.disconnect();\n        }}\n}});\n\n// Listen for the removal of the full notebook cells\nvar notebookContainer = gd.closest('#notebook-container');\nif (notebookContainer) {{\n    x.observe(notebookContainer, {childList: true});\n}}\n\n// Listen for the clearing of the current output cell\nvar outputEl = gd.closest('.output');\nif (outputEl) {{\n    x.observe(outputEl, {childList: true});\n}}\n\n                        })                };                });            </script>        </div>"
     },
     "metadata": {},
     "output_type": "display_data"
    },
    {
     "data": {
      "application/vnd.plotly.v1+json": {
       "data": [
        {
         "mode": "lines",
         "x": [
          1489.670166015625,
          1488.5650634765625,
          1487.459716796875,
          1486.354248046875,
          1485.24853515625,
          1484.142578125,
          1483.0364990234375,
          1481.93017578125,
          1480.8236083984375,
          1479.7169189453125,
          1478.6099853515625,
          1477.5028076171875,
          1476.3955078125,
          1475.2879638671875,
          1474.1802978515625,
          1473.0723876953125,
          1471.9642333984375,
          1470.8558349609375,
          1469.747314453125,
          1468.638671875,
          1467.5296630859375,
          1466.4205322265625,
          1465.311279296875,
          1464.20166015625,
          1463.0919189453125,
          1461.9820556640625,
          1460.8719482421875,
          1459.7615966796875,
          1458.6510009765625,
          1457.540283203125,
          1456.4293212890625,
          1455.3182373046875,
          1454.2069091796875,
          1453.0953369140625,
          1451.983642578125,
          1450.8717041015625,
          1449.759521484375,
          1448.647216796875,
          1447.53466796875,
          1446.421875,
          1445.3089599609375,
          1444.19580078125,
          1443.0823974609375,
          1441.9688720703125,
          1440.8551025390625,
          1439.7410888671875,
          1438.626953125,
          1437.5125732421875,
          1436.3980712890625,
          1435.2833251953125,
          1434.1683349609375,
          1433.0531005859375,
          1431.937744140625,
          1430.8221435546875,
          1429.7064208984375,
          1428.5904541015625,
          1427.4742431640625,
          1426.35791015625,
          1425.2412109375,
          1424.12451171875,
          1423.0074462890625,
          1421.8902587890625,
          1420.7728271484375,
          1419.6552734375,
          1418.5374755859375,
          1417.41943359375,
          1416.30126953125,
          1415.182861328125,
          1414.064208984375,
          1412.9454345703125,
          1411.826416015625,
          1410.7071533203125,
          1409.587646484375,
          1408.468017578125,
          1407.3482666015625,
          1406.2281494140625,
          1405.10791015625,
          1403.9874267578125,
          1402.8668212890625,
          1401.7459716796875,
          1400.6248779296875,
          1399.503662109375,
          1398.3822021484375,
          1397.260498046875,
          1396.1385498046875,
          1395.0164794921875,
          1393.894287109375,
          1392.771728515625,
          1391.6490478515625,
          1390.526123046875,
          1389.403076171875,
          1388.2796630859375,
          1387.15625,
          1386.032470703125,
          1384.9085693359375,
          1383.784423828125,
          1382.6600341796875,
          1381.5355224609375,
          1380.4107666015625,
          1379.2857666015625,
          1378.16064453125,
          1377.0352783203125,
          1375.90966796875,
          1374.783935546875,
          1373.657958984375,
          1372.53173828125,
          1371.4053955078125,
          1370.27880859375,
          1369.1519775390625,
          1368.02490234375,
          1366.897705078125,
          1365.770263671875,
          1364.6427001953125,
          1363.5147705078125,
          1362.38671875,
          1361.258544921875,
          1360.1300048828125,
          1359.0013427734375,
          1357.87255859375,
          1356.743408203125,
          1355.6141357421875,
          1354.484619140625,
          1353.35498046875,
          1352.22509765625,
          1351.094970703125,
          1349.964599609375,
          1348.8341064453125,
          1347.703369140625,
          1346.5723876953125,
          1345.441162109375,
          1344.309814453125,
          1343.17822265625,
          1342.0465087890625,
          1340.91455078125,
          1339.7823486328125,
          1338.64990234375,
          1337.517333984375,
          1336.384521484375,
          1335.25146484375,
          1334.1181640625,
          1332.9847412109375,
          1331.85107421875,
          1330.7171630859375,
          1329.5831298828125,
          1328.4488525390625,
          1327.3143310546875,
          1326.1796875,
          1325.0447998046875,
          1323.90966796875,
          1322.7742919921875,
          1321.6387939453125,
          1320.5029296875,
          1319.3670654296875,
          1318.2308349609375,
          1317.094482421875,
          1315.9578857421875,
          1314.821044921875,
          1313.68408203125,
          1312.546875,
          1311.409423828125,
          1310.271728515625,
          1309.1339111328125,
          1307.995849609375,
          1306.8575439453125,
          1305.718994140625,
          1304.580322265625,
          1303.44140625,
          1302.3023681640625,
          1301.1629638671875,
          1300.0234375,
          1298.8836669921875,
          1297.74365234375,
          1296.603515625,
          1295.463134765625,
          1294.322509765625,
          1293.181640625,
          1292.0406494140625,
          1290.8994140625,
          1289.7579345703125,
          1288.6163330078125,
          1287.474365234375,
          1286.332275390625,
          1285.1900634765625,
          1284.0474853515625,
          1282.90478515625,
          1281.7618408203125,
          1280.61865234375,
          1279.475341796875,
          1278.3316650390625,
          1277.1878662109375,
          1276.0439453125,
          1274.899658203125,
          1273.7552490234375,
          1272.610595703125,
          1271.4656982421875,
          1270.3206787109375,
          1269.17529296875,
          1268.02978515625,
          1266.8841552734375
         ],
         "y": [
          -2579.3431678273223,
          -2588.0962869796563,
          -2590.11857239196,
          -2580.2642522593933,
          -2542.720410596045,
          -2572.6394777493315,
          -2547.4148118569983,
          -2541.2677750150815,
          -2544.1234456472403,
          -2546.1525414127077,
          -2532.6572110489224,
          -2532.502667558669,
          -2542.6579809120203,
          -2506.3801812456213,
          -2522.7536081242506,
          -2517.4400048457715,
          -2512.450229640743,
          -2485.9824391443344,
          -2499.0419970473345,
          -2491.6354147401553,
          -2524.138695272231,
          -2524.787234498126,
          -2489.9641605694187,
          -2529.155301697483,
          -2534.9136715389964,
          -2521.407237606775,
          -2530.2125450795875,
          -2526.276438634888,
          -2526.2811939069675,
          -2509.9129692609713,
          -2512.1212066327585,
          -2497.4080146428482,
          -2486.32662424762,
          -2522.812566000002,
          -2518.4140899690865,
          -2519.932137629092,
          -2516.551762382458,
          -2497.006470331399,
          -2469.752906031029,
          -2506.4353261145675,
          -2458.0134167382384,
          -2462.0972428740306,
          -2458.448457433235,
          -2467.943926472303,
          -2493.0340022937116,
          -2471.5325688873413,
          -2467.7843184682433,
          -2479.1792348530607,
          -2463.724320297376,
          -2465.645874767868,
          -2425.0049911369433,
          -2444.655496751058,
          -2415.931641805874,
          -2437.0876926761257,
          -2427.9125643511907,
          -2421.0615474245315,
          -2396.141581134701,
          -2370.6246618498185,
          -2384.393839811305,
          -2396.4604799073813,
          -2365.061945865082,
          -2315.038161942575,
          -2361.4109479855274,
          -2364.442816938202,
          -2321.0283108139706,
          -2290.0491001586474,
          -2304.573599763013,
          -2272.02031445969,
          -2255.607451852662,
          -2216.307896350127,
          -2196.233067808069,
          -2143.085008555539,
          -2138.441456849732,
          -2060.3610096898947,
          -2065.109534491693,
          -1994.2680420739016,
          -1967.4933246169148,
          -1913.5687359195715,
          -1831.2546965937158,
          -1608.0291785113084,
          -1427.0731325086663,
          -1129.7971173953479,
          -668.3243767151065,
          -73.98846250532102,
          287.94327570779654,
          -305.33224714315327,
          -2479.347931421164,
          -4405.049394634514,
          -3349.811754023904,
          -1988.9338130889216,
          -1863.34628528274,
          -2194.510928617197,
          -2377.927070509048,
          -2399.4449789851983,
          -2347.1950539257687,
          -2313.1128507361814,
          -2282.5948151849293,
          -2327.999376828883,
          -2349.675535375032,
          -2305.3394375843604,
          -2384.976275595778,
          -2436.4362651620636,
          -2462.7100766282265,
          -2479.955826855404,
          -2525.084685731336,
          -2580.2950041291497,
          -2593.4334458236126,
          -2607.0192978914088,
          -2530.688773189336,
          -2455.6964912737194,
          -2316.162128877893,
          -2099.819535140993,
          -1826.9341538136975,
          -1519.3437325965256,
          -1195.8604160579278,
          -885.8751042955496,
          -596.5907896353847,
          -249.2857036570436,
          28.408272934288696,
          334.40716940876285,
          663.7871123519468,
          950.5542057930002,
          1258.5756635012644,
          1535.4109840771796,
          1760.0911065486146,
          1998.6937398720988,
          2205.0770690553977,
          2342.2601659589295,
          2487.7823291261225,
          2567.1156385677987,
          2560.2558093219045,
          2482.7194898297575,
          2396.774657843238,
          2229.6785733032466,
          1999.4239700259138,
          1816.42859387153,
          1590.3180470454936,
          1353.4268550194652,
          1101.0934805526044,
          819.3273378981671,
          672.8059339781644,
          423.30242354867534,
          231.75165665900192,
          54.76439343586363,
          -126.7942715063991,
          -254.60224365552114,
          -390.9524261999443,
          -533.421482501748,
          -627.6939811569966,
          -729.823679188475,
          -834.6411142501918,
          -934.6577933616087,
          -1020.697607296788,
          -1072.5202946155052,
          -1174.1025539847592,
          -1223.5834609318874,
          -1241.5155578848287,
          -1334.9486091874821,
          -1374.054514659405,
          -1396.9733641565217,
          -1455.656633733182,
          -1472.103358402045,
          -1561.5308704430668,
          -1553.8340893210566,
          -1640.144486499815,
          -1633.0292171739713,
          -1672.331534550091,
          -1692.9297092034406,
          -1692.5469277384889,
          -1694.7815018620531,
          -1739.1668500026396,
          -1784.9221649064107,
          -1791.4224398795886,
          -1798.4161138849877,
          -1848.0840975226608,
          -1814.1977740566158,
          -1838.8531455675068,
          -1851.8679710117615,
          -1884.872895183836,
          -1846.9104342461926,
          -1862.2716462872797,
          -1871.4245333453118,
          -1867.998088849661,
          -1905.1525073240591,
          -1916.2381002640927,
          -1892.6705414350265,
          -1917.5752685336777,
          -1936.9744486770358,
          -1902.1988973113007,
          -1923.4778924835796,
          -1916.8735805301371,
          -1930.5446760700474,
          -1938.0111596263296,
          -1952.432064850357,
          -1923.8282955302848,
          -1953.9258600052103,
          -1960.4497921776626,
          -1959.9426202805525,
          -1972.9760635589598
         ],
         "type": "scatter"
        },
        {
         "mode": "lines",
         "x": [
          1399.503662109375,
          1398.3822021484375,
          1397.260498046875,
          1396.1385498046875,
          1395.0164794921875,
          1393.894287109375,
          1392.771728515625,
          1391.6490478515625,
          1390.526123046875,
          1389.403076171875,
          1388.2796630859375,
          1387.15625,
          1386.032470703125
         ],
         "y": [
          -1178.6734540372454,
          -834.5407087809998,
          -255.3712374525187,
          412.08693559614585,
          -147.23867339188428,
          -2795.2955033160433,
          -3899.1665847159234,
          -3327.616680003256,
          -2694.923974697702,
          -2305.5744317598787,
          -2084.61484944432,
          -1956.9329998950261,
          -1880.008904711399
         ],
         "type": "scatter"
        }
       ],
       "layout": {
        "template": {
         "data": {
          "histogram2dcontour": [
           {
            "type": "histogram2dcontour",
            "colorbar": {
             "outlinewidth": 0,
             "ticks": ""
            },
            "colorscale": [
             [
              0.0,
              "#0d0887"
             ],
             [
              0.1111111111111111,
              "#46039f"
             ],
             [
              0.2222222222222222,
              "#7201a8"
             ],
             [
              0.3333333333333333,
              "#9c179e"
             ],
             [
              0.4444444444444444,
              "#bd3786"
             ],
             [
              0.5555555555555556,
              "#d8576b"
             ],
             [
              0.6666666666666666,
              "#ed7953"
             ],
             [
              0.7777777777777778,
              "#fb9f3a"
             ],
             [
              0.8888888888888888,
              "#fdca26"
             ],
             [
              1.0,
              "#f0f921"
             ]
            ]
           }
          ],
          "choropleth": [
           {
            "type": "choropleth",
            "colorbar": {
             "outlinewidth": 0,
             "ticks": ""
            }
           }
          ],
          "histogram2d": [
           {
            "type": "histogram2d",
            "colorbar": {
             "outlinewidth": 0,
             "ticks": ""
            },
            "colorscale": [
             [
              0.0,
              "#0d0887"
             ],
             [
              0.1111111111111111,
              "#46039f"
             ],
             [
              0.2222222222222222,
              "#7201a8"
             ],
             [
              0.3333333333333333,
              "#9c179e"
             ],
             [
              0.4444444444444444,
              "#bd3786"
             ],
             [
              0.5555555555555556,
              "#d8576b"
             ],
             [
              0.6666666666666666,
              "#ed7953"
             ],
             [
              0.7777777777777778,
              "#fb9f3a"
             ],
             [
              0.8888888888888888,
              "#fdca26"
             ],
             [
              1.0,
              "#f0f921"
             ]
            ]
           }
          ],
          "heatmap": [
           {
            "type": "heatmap",
            "colorbar": {
             "outlinewidth": 0,
             "ticks": ""
            },
            "colorscale": [
             [
              0.0,
              "#0d0887"
             ],
             [
              0.1111111111111111,
              "#46039f"
             ],
             [
              0.2222222222222222,
              "#7201a8"
             ],
             [
              0.3333333333333333,
              "#9c179e"
             ],
             [
              0.4444444444444444,
              "#bd3786"
             ],
             [
              0.5555555555555556,
              "#d8576b"
             ],
             [
              0.6666666666666666,
              "#ed7953"
             ],
             [
              0.7777777777777778,
              "#fb9f3a"
             ],
             [
              0.8888888888888888,
              "#fdca26"
             ],
             [
              1.0,
              "#f0f921"
             ]
            ]
           }
          ],
          "heatmapgl": [
           {
            "type": "heatmapgl",
            "colorbar": {
             "outlinewidth": 0,
             "ticks": ""
            },
            "colorscale": [
             [
              0.0,
              "#0d0887"
             ],
             [
              0.1111111111111111,
              "#46039f"
             ],
             [
              0.2222222222222222,
              "#7201a8"
             ],
             [
              0.3333333333333333,
              "#9c179e"
             ],
             [
              0.4444444444444444,
              "#bd3786"
             ],
             [
              0.5555555555555556,
              "#d8576b"
             ],
             [
              0.6666666666666666,
              "#ed7953"
             ],
             [
              0.7777777777777778,
              "#fb9f3a"
             ],
             [
              0.8888888888888888,
              "#fdca26"
             ],
             [
              1.0,
              "#f0f921"
             ]
            ]
           }
          ],
          "contourcarpet": [
           {
            "type": "contourcarpet",
            "colorbar": {
             "outlinewidth": 0,
             "ticks": ""
            }
           }
          ],
          "contour": [
           {
            "type": "contour",
            "colorbar": {
             "outlinewidth": 0,
             "ticks": ""
            },
            "colorscale": [
             [
              0.0,
              "#0d0887"
             ],
             [
              0.1111111111111111,
              "#46039f"
             ],
             [
              0.2222222222222222,
              "#7201a8"
             ],
             [
              0.3333333333333333,
              "#9c179e"
             ],
             [
              0.4444444444444444,
              "#bd3786"
             ],
             [
              0.5555555555555556,
              "#d8576b"
             ],
             [
              0.6666666666666666,
              "#ed7953"
             ],
             [
              0.7777777777777778,
              "#fb9f3a"
             ],
             [
              0.8888888888888888,
              "#fdca26"
             ],
             [
              1.0,
              "#f0f921"
             ]
            ]
           }
          ],
          "surface": [
           {
            "type": "surface",
            "colorbar": {
             "outlinewidth": 0,
             "ticks": ""
            },
            "colorscale": [
             [
              0.0,
              "#0d0887"
             ],
             [
              0.1111111111111111,
              "#46039f"
             ],
             [
              0.2222222222222222,
              "#7201a8"
             ],
             [
              0.3333333333333333,
              "#9c179e"
             ],
             [
              0.4444444444444444,
              "#bd3786"
             ],
             [
              0.5555555555555556,
              "#d8576b"
             ],
             [
              0.6666666666666666,
              "#ed7953"
             ],
             [
              0.7777777777777778,
              "#fb9f3a"
             ],
             [
              0.8888888888888888,
              "#fdca26"
             ],
             [
              1.0,
              "#f0f921"
             ]
            ]
           }
          ],
          "mesh3d": [
           {
            "type": "mesh3d",
            "colorbar": {
             "outlinewidth": 0,
             "ticks": ""
            }
           }
          ],
          "scatter": [
           {
            "marker": {
             "line": {
              "color": "#283442"
             }
            },
            "type": "scatter"
           }
          ],
          "parcoords": [
           {
            "type": "parcoords",
            "line": {
             "colorbar": {
              "outlinewidth": 0,
              "ticks": ""
             }
            }
           }
          ],
          "scatterpolargl": [
           {
            "type": "scatterpolargl",
            "marker": {
             "colorbar": {
              "outlinewidth": 0,
              "ticks": ""
             }
            }
           }
          ],
          "bar": [
           {
            "error_x": {
             "color": "#f2f5fa"
            },
            "error_y": {
             "color": "#f2f5fa"
            },
            "marker": {
             "line": {
              "color": "rgb(17,17,17)",
              "width": 0.5
             },
             "pattern": {
              "fillmode": "overlay",
              "size": 10,
              "solidity": 0.2
             }
            },
            "type": "bar"
           }
          ],
          "scattergeo": [
           {
            "type": "scattergeo",
            "marker": {
             "colorbar": {
              "outlinewidth": 0,
              "ticks": ""
             }
            }
           }
          ],
          "scatterpolar": [
           {
            "type": "scatterpolar",
            "marker": {
             "colorbar": {
              "outlinewidth": 0,
              "ticks": ""
             }
            }
           }
          ],
          "histogram": [
           {
            "marker": {
             "pattern": {
              "fillmode": "overlay",
              "size": 10,
              "solidity": 0.2
             }
            },
            "type": "histogram"
           }
          ],
          "scattergl": [
           {
            "marker": {
             "line": {
              "color": "#283442"
             }
            },
            "type": "scattergl"
           }
          ],
          "scatter3d": [
           {
            "type": "scatter3d",
            "line": {
             "colorbar": {
              "outlinewidth": 0,
              "ticks": ""
             }
            },
            "marker": {
             "colorbar": {
              "outlinewidth": 0,
              "ticks": ""
             }
            }
           }
          ],
          "scattermapbox": [
           {
            "type": "scattermapbox",
            "marker": {
             "colorbar": {
              "outlinewidth": 0,
              "ticks": ""
             }
            }
           }
          ],
          "scatterternary": [
           {
            "type": "scatterternary",
            "marker": {
             "colorbar": {
              "outlinewidth": 0,
              "ticks": ""
             }
            }
           }
          ],
          "scattercarpet": [
           {
            "type": "scattercarpet",
            "marker": {
             "colorbar": {
              "outlinewidth": 0,
              "ticks": ""
             }
            }
           }
          ],
          "carpet": [
           {
            "aaxis": {
             "endlinecolor": "#A2B1C6",
             "gridcolor": "#506784",
             "linecolor": "#506784",
             "minorgridcolor": "#506784",
             "startlinecolor": "#A2B1C6"
            },
            "baxis": {
             "endlinecolor": "#A2B1C6",
             "gridcolor": "#506784",
             "linecolor": "#506784",
             "minorgridcolor": "#506784",
             "startlinecolor": "#A2B1C6"
            },
            "type": "carpet"
           }
          ],
          "table": [
           {
            "cells": {
             "fill": {
              "color": "#506784"
             },
             "line": {
              "color": "rgb(17,17,17)"
             }
            },
            "header": {
             "fill": {
              "color": "#2a3f5f"
             },
             "line": {
              "color": "rgb(17,17,17)"
             }
            },
            "type": "table"
           }
          ],
          "barpolar": [
           {
            "marker": {
             "line": {
              "color": "rgb(17,17,17)",
              "width": 0.5
             },
             "pattern": {
              "fillmode": "overlay",
              "size": 10,
              "solidity": 0.2
             }
            },
            "type": "barpolar"
           }
          ],
          "pie": [
           {
            "automargin": true,
            "type": "pie"
           }
          ]
         },
         "layout": {
          "autotypenumbers": "strict",
          "colorway": [
           "#636efa",
           "#EF553B",
           "#00cc96",
           "#ab63fa",
           "#FFA15A",
           "#19d3f3",
           "#FF6692",
           "#B6E880",
           "#FF97FF",
           "#FECB52"
          ],
          "font": {
           "color": "#f2f5fa"
          },
          "hovermode": "closest",
          "hoverlabel": {
           "align": "left"
          },
          "paper_bgcolor": "rgb(17,17,17)",
          "plot_bgcolor": "rgb(17,17,17)",
          "polar": {
           "bgcolor": "rgb(17,17,17)",
           "angularaxis": {
            "gridcolor": "#506784",
            "linecolor": "#506784",
            "ticks": ""
           },
           "radialaxis": {
            "gridcolor": "#506784",
            "linecolor": "#506784",
            "ticks": ""
           }
          },
          "ternary": {
           "bgcolor": "rgb(17,17,17)",
           "aaxis": {
            "gridcolor": "#506784",
            "linecolor": "#506784",
            "ticks": ""
           },
           "baxis": {
            "gridcolor": "#506784",
            "linecolor": "#506784",
            "ticks": ""
           },
           "caxis": {
            "gridcolor": "#506784",
            "linecolor": "#506784",
            "ticks": ""
           }
          },
          "coloraxis": {
           "colorbar": {
            "outlinewidth": 0,
            "ticks": ""
           }
          },
          "colorscale": {
           "sequential": [
            [
             0.0,
             "#0d0887"
            ],
            [
             0.1111111111111111,
             "#46039f"
            ],
            [
             0.2222222222222222,
             "#7201a8"
            ],
            [
             0.3333333333333333,
             "#9c179e"
            ],
            [
             0.4444444444444444,
             "#bd3786"
            ],
            [
             0.5555555555555556,
             "#d8576b"
            ],
            [
             0.6666666666666666,
             "#ed7953"
            ],
            [
             0.7777777777777778,
             "#fb9f3a"
            ],
            [
             0.8888888888888888,
             "#fdca26"
            ],
            [
             1.0,
             "#f0f921"
            ]
           ],
           "sequentialminus": [
            [
             0.0,
             "#0d0887"
            ],
            [
             0.1111111111111111,
             "#46039f"
            ],
            [
             0.2222222222222222,
             "#7201a8"
            ],
            [
             0.3333333333333333,
             "#9c179e"
            ],
            [
             0.4444444444444444,
             "#bd3786"
            ],
            [
             0.5555555555555556,
             "#d8576b"
            ],
            [
             0.6666666666666666,
             "#ed7953"
            ],
            [
             0.7777777777777778,
             "#fb9f3a"
            ],
            [
             0.8888888888888888,
             "#fdca26"
            ],
            [
             1.0,
             "#f0f921"
            ]
           ],
           "diverging": [
            [
             0,
             "#8e0152"
            ],
            [
             0.1,
             "#c51b7d"
            ],
            [
             0.2,
             "#de77ae"
            ],
            [
             0.3,
             "#f1b6da"
            ],
            [
             0.4,
             "#fde0ef"
            ],
            [
             0.5,
             "#f7f7f7"
            ],
            [
             0.6,
             "#e6f5d0"
            ],
            [
             0.7,
             "#b8e186"
            ],
            [
             0.8,
             "#7fbc41"
            ],
            [
             0.9,
             "#4d9221"
            ],
            [
             1,
             "#276419"
            ]
           ]
          },
          "xaxis": {
           "gridcolor": "#283442",
           "linecolor": "#506784",
           "ticks": "",
           "title": {
            "standoff": 15
           },
           "zerolinecolor": "#283442",
           "automargin": true,
           "zerolinewidth": 2
          },
          "yaxis": {
           "gridcolor": "#283442",
           "linecolor": "#506784",
           "ticks": "",
           "title": {
            "standoff": 15
           },
           "zerolinecolor": "#283442",
           "automargin": true,
           "zerolinewidth": 2
          },
          "scene": {
           "xaxis": {
            "backgroundcolor": "rgb(17,17,17)",
            "gridcolor": "#506784",
            "linecolor": "#506784",
            "showbackground": true,
            "ticks": "",
            "zerolinecolor": "#C8D4E3",
            "gridwidth": 2
           },
           "yaxis": {
            "backgroundcolor": "rgb(17,17,17)",
            "gridcolor": "#506784",
            "linecolor": "#506784",
            "showbackground": true,
            "ticks": "",
            "zerolinecolor": "#C8D4E3",
            "gridwidth": 2
           },
           "zaxis": {
            "backgroundcolor": "rgb(17,17,17)",
            "gridcolor": "#506784",
            "linecolor": "#506784",
            "showbackground": true,
            "ticks": "",
            "zerolinecolor": "#C8D4E3",
            "gridwidth": 2
           }
          },
          "shapedefaults": {
           "line": {
            "color": "#f2f5fa"
           }
          },
          "annotationdefaults": {
           "arrowcolor": "#f2f5fa",
           "arrowhead": 0,
           "arrowwidth": 1
          },
          "geo": {
           "bgcolor": "rgb(17,17,17)",
           "landcolor": "rgb(17,17,17)",
           "subunitcolor": "#506784",
           "showland": true,
           "showlakes": true,
           "lakecolor": "rgb(17,17,17)"
          },
          "title": {
           "x": 0.05
          },
          "updatemenudefaults": {
           "bgcolor": "#506784",
           "borderwidth": 0
          },
          "sliderdefaults": {
           "bgcolor": "#C8D4E3",
           "borderwidth": 1,
           "bordercolor": "rgb(17,17,17)",
           "tickwidth": 0
          },
          "mapbox": {
           "style": "dark"
          }
         }
        },
        "hovermode": "x"
       },
       "config": {
        "plotlyServerURL": "https://plot.ly"
       }
      },
      "text/html": "<div>                            <div id=\"2e94a889-5eea-4111-9d7c-7e70708663e3\" class=\"plotly-graph-div\" style=\"height:525px; width:100%;\"></div>            <script type=\"text/javascript\">                require([\"plotly\"], function(Plotly) {                    window.PLOTLYENV=window.PLOTLYENV || {};                                    if (document.getElementById(\"2e94a889-5eea-4111-9d7c-7e70708663e3\")) {                    Plotly.newPlot(                        \"2e94a889-5eea-4111-9d7c-7e70708663e3\",                        [{\"mode\":\"lines\",\"x\":[1489.670166015625,1488.5650634765625,1487.459716796875,1486.354248046875,1485.24853515625,1484.142578125,1483.0364990234375,1481.93017578125,1480.8236083984375,1479.7169189453125,1478.6099853515625,1477.5028076171875,1476.3955078125,1475.2879638671875,1474.1802978515625,1473.0723876953125,1471.9642333984375,1470.8558349609375,1469.747314453125,1468.638671875,1467.5296630859375,1466.4205322265625,1465.311279296875,1464.20166015625,1463.0919189453125,1461.9820556640625,1460.8719482421875,1459.7615966796875,1458.6510009765625,1457.540283203125,1456.4293212890625,1455.3182373046875,1454.2069091796875,1453.0953369140625,1451.983642578125,1450.8717041015625,1449.759521484375,1448.647216796875,1447.53466796875,1446.421875,1445.3089599609375,1444.19580078125,1443.0823974609375,1441.9688720703125,1440.8551025390625,1439.7410888671875,1438.626953125,1437.5125732421875,1436.3980712890625,1435.2833251953125,1434.1683349609375,1433.0531005859375,1431.937744140625,1430.8221435546875,1429.7064208984375,1428.5904541015625,1427.4742431640625,1426.35791015625,1425.2412109375,1424.12451171875,1423.0074462890625,1421.8902587890625,1420.7728271484375,1419.6552734375,1418.5374755859375,1417.41943359375,1416.30126953125,1415.182861328125,1414.064208984375,1412.9454345703125,1411.826416015625,1410.7071533203125,1409.587646484375,1408.468017578125,1407.3482666015625,1406.2281494140625,1405.10791015625,1403.9874267578125,1402.8668212890625,1401.7459716796875,1400.6248779296875,1399.503662109375,1398.3822021484375,1397.260498046875,1396.1385498046875,1395.0164794921875,1393.894287109375,1392.771728515625,1391.6490478515625,1390.526123046875,1389.403076171875,1388.2796630859375,1387.15625,1386.032470703125,1384.9085693359375,1383.784423828125,1382.6600341796875,1381.5355224609375,1380.4107666015625,1379.2857666015625,1378.16064453125,1377.0352783203125,1375.90966796875,1374.783935546875,1373.657958984375,1372.53173828125,1371.4053955078125,1370.27880859375,1369.1519775390625,1368.02490234375,1366.897705078125,1365.770263671875,1364.6427001953125,1363.5147705078125,1362.38671875,1361.258544921875,1360.1300048828125,1359.0013427734375,1357.87255859375,1356.743408203125,1355.6141357421875,1354.484619140625,1353.35498046875,1352.22509765625,1351.094970703125,1349.964599609375,1348.8341064453125,1347.703369140625,1346.5723876953125,1345.441162109375,1344.309814453125,1343.17822265625,1342.0465087890625,1340.91455078125,1339.7823486328125,1338.64990234375,1337.517333984375,1336.384521484375,1335.25146484375,1334.1181640625,1332.9847412109375,1331.85107421875,1330.7171630859375,1329.5831298828125,1328.4488525390625,1327.3143310546875,1326.1796875,1325.0447998046875,1323.90966796875,1322.7742919921875,1321.6387939453125,1320.5029296875,1319.3670654296875,1318.2308349609375,1317.094482421875,1315.9578857421875,1314.821044921875,1313.68408203125,1312.546875,1311.409423828125,1310.271728515625,1309.1339111328125,1307.995849609375,1306.8575439453125,1305.718994140625,1304.580322265625,1303.44140625,1302.3023681640625,1301.1629638671875,1300.0234375,1298.8836669921875,1297.74365234375,1296.603515625,1295.463134765625,1294.322509765625,1293.181640625,1292.0406494140625,1290.8994140625,1289.7579345703125,1288.6163330078125,1287.474365234375,1286.332275390625,1285.1900634765625,1284.0474853515625,1282.90478515625,1281.7618408203125,1280.61865234375,1279.475341796875,1278.3316650390625,1277.1878662109375,1276.0439453125,1274.899658203125,1273.7552490234375,1272.610595703125,1271.4656982421875,1270.3206787109375,1269.17529296875,1268.02978515625,1266.8841552734375],\"y\":[-2579.3431678273223,-2588.0962869796563,-2590.11857239196,-2580.2642522593933,-2542.720410596045,-2572.6394777493315,-2547.4148118569983,-2541.2677750150815,-2544.1234456472403,-2546.1525414127077,-2532.6572110489224,-2532.502667558669,-2542.6579809120203,-2506.3801812456213,-2522.7536081242506,-2517.4400048457715,-2512.450229640743,-2485.9824391443344,-2499.0419970473345,-2491.6354147401553,-2524.138695272231,-2524.787234498126,-2489.9641605694187,-2529.155301697483,-2534.9136715389964,-2521.407237606775,-2530.2125450795875,-2526.276438634888,-2526.2811939069675,-2509.9129692609713,-2512.1212066327585,-2497.4080146428482,-2486.32662424762,-2522.812566000002,-2518.4140899690865,-2519.932137629092,-2516.551762382458,-2497.006470331399,-2469.752906031029,-2506.4353261145675,-2458.0134167382384,-2462.0972428740306,-2458.448457433235,-2467.943926472303,-2493.0340022937116,-2471.5325688873413,-2467.7843184682433,-2479.1792348530607,-2463.724320297376,-2465.645874767868,-2425.0049911369433,-2444.655496751058,-2415.931641805874,-2437.0876926761257,-2427.9125643511907,-2421.0615474245315,-2396.141581134701,-2370.6246618498185,-2384.393839811305,-2396.4604799073813,-2365.061945865082,-2315.038161942575,-2361.4109479855274,-2364.442816938202,-2321.0283108139706,-2290.0491001586474,-2304.573599763013,-2272.02031445969,-2255.607451852662,-2216.307896350127,-2196.233067808069,-2143.085008555539,-2138.441456849732,-2060.3610096898947,-2065.109534491693,-1994.2680420739016,-1967.4933246169148,-1913.5687359195715,-1831.2546965937158,-1608.0291785113084,-1427.0731325086663,-1129.7971173953479,-668.3243767151065,-73.98846250532102,287.94327570779654,-305.33224714315327,-2479.347931421164,-4405.049394634514,-3349.811754023904,-1988.9338130889216,-1863.34628528274,-2194.510928617197,-2377.927070509048,-2399.4449789851983,-2347.1950539257687,-2313.1128507361814,-2282.5948151849293,-2327.999376828883,-2349.675535375032,-2305.3394375843604,-2384.976275595778,-2436.4362651620636,-2462.7100766282265,-2479.955826855404,-2525.084685731336,-2580.2950041291497,-2593.4334458236126,-2607.0192978914088,-2530.688773189336,-2455.6964912737194,-2316.162128877893,-2099.819535140993,-1826.9341538136975,-1519.3437325965256,-1195.8604160579278,-885.8751042955496,-596.5907896353847,-249.2857036570436,28.408272934288696,334.40716940876285,663.7871123519468,950.5542057930002,1258.5756635012644,1535.4109840771796,1760.0911065486146,1998.6937398720988,2205.0770690553977,2342.2601659589295,2487.7823291261225,2567.1156385677987,2560.2558093219045,2482.7194898297575,2396.774657843238,2229.6785733032466,1999.4239700259138,1816.42859387153,1590.3180470454936,1353.4268550194652,1101.0934805526044,819.3273378981671,672.8059339781644,423.30242354867534,231.75165665900192,54.76439343586363,-126.7942715063991,-254.60224365552114,-390.9524261999443,-533.421482501748,-627.6939811569966,-729.823679188475,-834.6411142501918,-934.6577933616087,-1020.697607296788,-1072.5202946155052,-1174.1025539847592,-1223.5834609318874,-1241.5155578848287,-1334.9486091874821,-1374.054514659405,-1396.9733641565217,-1455.656633733182,-1472.103358402045,-1561.5308704430668,-1553.8340893210566,-1640.144486499815,-1633.0292171739713,-1672.331534550091,-1692.9297092034406,-1692.5469277384889,-1694.7815018620531,-1739.1668500026396,-1784.9221649064107,-1791.4224398795886,-1798.4161138849877,-1848.0840975226608,-1814.1977740566158,-1838.8531455675068,-1851.8679710117615,-1884.872895183836,-1846.9104342461926,-1862.2716462872797,-1871.4245333453118,-1867.998088849661,-1905.1525073240591,-1916.2381002640927,-1892.6705414350265,-1917.5752685336777,-1936.9744486770358,-1902.1988973113007,-1923.4778924835796,-1916.8735805301371,-1930.5446760700474,-1938.0111596263296,-1952.432064850357,-1923.8282955302848,-1953.9258600052103,-1960.4497921776626,-1959.9426202805525,-1972.9760635589598],\"type\":\"scatter\"},{\"mode\":\"lines\",\"x\":[1399.503662109375,1398.3822021484375,1397.260498046875,1396.1385498046875,1395.0164794921875,1393.894287109375,1392.771728515625,1391.6490478515625,1390.526123046875,1389.403076171875,1388.2796630859375,1387.15625,1386.032470703125],\"y\":[-1178.6734540372454,-834.5407087809998,-255.3712374525187,412.08693559614585,-147.23867339188428,-2795.2955033160433,-3899.1665847159234,-3327.616680003256,-2694.923974697702,-2305.5744317598787,-2084.61484944432,-1956.9329998950261,-1880.008904711399],\"type\":\"scatter\"}],                        {\"template\":{\"data\":{\"histogram2dcontour\":[{\"type\":\"histogram2dcontour\",\"colorbar\":{\"outlinewidth\":0,\"ticks\":\"\"},\"colorscale\":[[0.0,\"#0d0887\"],[0.1111111111111111,\"#46039f\"],[0.2222222222222222,\"#7201a8\"],[0.3333333333333333,\"#9c179e\"],[0.4444444444444444,\"#bd3786\"],[0.5555555555555556,\"#d8576b\"],[0.6666666666666666,\"#ed7953\"],[0.7777777777777778,\"#fb9f3a\"],[0.8888888888888888,\"#fdca26\"],[1.0,\"#f0f921\"]]}],\"choropleth\":[{\"type\":\"choropleth\",\"colorbar\":{\"outlinewidth\":0,\"ticks\":\"\"}}],\"histogram2d\":[{\"type\":\"histogram2d\",\"colorbar\":{\"outlinewidth\":0,\"ticks\":\"\"},\"colorscale\":[[0.0,\"#0d0887\"],[0.1111111111111111,\"#46039f\"],[0.2222222222222222,\"#7201a8\"],[0.3333333333333333,\"#9c179e\"],[0.4444444444444444,\"#bd3786\"],[0.5555555555555556,\"#d8576b\"],[0.6666666666666666,\"#ed7953\"],[0.7777777777777778,\"#fb9f3a\"],[0.8888888888888888,\"#fdca26\"],[1.0,\"#f0f921\"]]}],\"heatmap\":[{\"type\":\"heatmap\",\"colorbar\":{\"outlinewidth\":0,\"ticks\":\"\"},\"colorscale\":[[0.0,\"#0d0887\"],[0.1111111111111111,\"#46039f\"],[0.2222222222222222,\"#7201a8\"],[0.3333333333333333,\"#9c179e\"],[0.4444444444444444,\"#bd3786\"],[0.5555555555555556,\"#d8576b\"],[0.6666666666666666,\"#ed7953\"],[0.7777777777777778,\"#fb9f3a\"],[0.8888888888888888,\"#fdca26\"],[1.0,\"#f0f921\"]]}],\"heatmapgl\":[{\"type\":\"heatmapgl\",\"colorbar\":{\"outlinewidth\":0,\"ticks\":\"\"},\"colorscale\":[[0.0,\"#0d0887\"],[0.1111111111111111,\"#46039f\"],[0.2222222222222222,\"#7201a8\"],[0.3333333333333333,\"#9c179e\"],[0.4444444444444444,\"#bd3786\"],[0.5555555555555556,\"#d8576b\"],[0.6666666666666666,\"#ed7953\"],[0.7777777777777778,\"#fb9f3a\"],[0.8888888888888888,\"#fdca26\"],[1.0,\"#f0f921\"]]}],\"contourcarpet\":[{\"type\":\"contourcarpet\",\"colorbar\":{\"outlinewidth\":0,\"ticks\":\"\"}}],\"contour\":[{\"type\":\"contour\",\"colorbar\":{\"outlinewidth\":0,\"ticks\":\"\"},\"colorscale\":[[0.0,\"#0d0887\"],[0.1111111111111111,\"#46039f\"],[0.2222222222222222,\"#7201a8\"],[0.3333333333333333,\"#9c179e\"],[0.4444444444444444,\"#bd3786\"],[0.5555555555555556,\"#d8576b\"],[0.6666666666666666,\"#ed7953\"],[0.7777777777777778,\"#fb9f3a\"],[0.8888888888888888,\"#fdca26\"],[1.0,\"#f0f921\"]]}],\"surface\":[{\"type\":\"surface\",\"colorbar\":{\"outlinewidth\":0,\"ticks\":\"\"},\"colorscale\":[[0.0,\"#0d0887\"],[0.1111111111111111,\"#46039f\"],[0.2222222222222222,\"#7201a8\"],[0.3333333333333333,\"#9c179e\"],[0.4444444444444444,\"#bd3786\"],[0.5555555555555556,\"#d8576b\"],[0.6666666666666666,\"#ed7953\"],[0.7777777777777778,\"#fb9f3a\"],[0.8888888888888888,\"#fdca26\"],[1.0,\"#f0f921\"]]}],\"mesh3d\":[{\"type\":\"mesh3d\",\"colorbar\":{\"outlinewidth\":0,\"ticks\":\"\"}}],\"scatter\":[{\"marker\":{\"line\":{\"color\":\"#283442\"}},\"type\":\"scatter\"}],\"parcoords\":[{\"type\":\"parcoords\",\"line\":{\"colorbar\":{\"outlinewidth\":0,\"ticks\":\"\"}}}],\"scatterpolargl\":[{\"type\":\"scatterpolargl\",\"marker\":{\"colorbar\":{\"outlinewidth\":0,\"ticks\":\"\"}}}],\"bar\":[{\"error_x\":{\"color\":\"#f2f5fa\"},\"error_y\":{\"color\":\"#f2f5fa\"},\"marker\":{\"line\":{\"color\":\"rgb(17,17,17)\",\"width\":0.5},\"pattern\":{\"fillmode\":\"overlay\",\"size\":10,\"solidity\":0.2}},\"type\":\"bar\"}],\"scattergeo\":[{\"type\":\"scattergeo\",\"marker\":{\"colorbar\":{\"outlinewidth\":0,\"ticks\":\"\"}}}],\"scatterpolar\":[{\"type\":\"scatterpolar\",\"marker\":{\"colorbar\":{\"outlinewidth\":0,\"ticks\":\"\"}}}],\"histogram\":[{\"marker\":{\"pattern\":{\"fillmode\":\"overlay\",\"size\":10,\"solidity\":0.2}},\"type\":\"histogram\"}],\"scattergl\":[{\"marker\":{\"line\":{\"color\":\"#283442\"}},\"type\":\"scattergl\"}],\"scatter3d\":[{\"type\":\"scatter3d\",\"line\":{\"colorbar\":{\"outlinewidth\":0,\"ticks\":\"\"}},\"marker\":{\"colorbar\":{\"outlinewidth\":0,\"ticks\":\"\"}}}],\"scattermapbox\":[{\"type\":\"scattermapbox\",\"marker\":{\"colorbar\":{\"outlinewidth\":0,\"ticks\":\"\"}}}],\"scatterternary\":[{\"type\":\"scatterternary\",\"marker\":{\"colorbar\":{\"outlinewidth\":0,\"ticks\":\"\"}}}],\"scattercarpet\":[{\"type\":\"scattercarpet\",\"marker\":{\"colorbar\":{\"outlinewidth\":0,\"ticks\":\"\"}}}],\"carpet\":[{\"aaxis\":{\"endlinecolor\":\"#A2B1C6\",\"gridcolor\":\"#506784\",\"linecolor\":\"#506784\",\"minorgridcolor\":\"#506784\",\"startlinecolor\":\"#A2B1C6\"},\"baxis\":{\"endlinecolor\":\"#A2B1C6\",\"gridcolor\":\"#506784\",\"linecolor\":\"#506784\",\"minorgridcolor\":\"#506784\",\"startlinecolor\":\"#A2B1C6\"},\"type\":\"carpet\"}],\"table\":[{\"cells\":{\"fill\":{\"color\":\"#506784\"},\"line\":{\"color\":\"rgb(17,17,17)\"}},\"header\":{\"fill\":{\"color\":\"#2a3f5f\"},\"line\":{\"color\":\"rgb(17,17,17)\"}},\"type\":\"table\"}],\"barpolar\":[{\"marker\":{\"line\":{\"color\":\"rgb(17,17,17)\",\"width\":0.5},\"pattern\":{\"fillmode\":\"overlay\",\"size\":10,\"solidity\":0.2}},\"type\":\"barpolar\"}],\"pie\":[{\"automargin\":true,\"type\":\"pie\"}]},\"layout\":{\"autotypenumbers\":\"strict\",\"colorway\":[\"#636efa\",\"#EF553B\",\"#00cc96\",\"#ab63fa\",\"#FFA15A\",\"#19d3f3\",\"#FF6692\",\"#B6E880\",\"#FF97FF\",\"#FECB52\"],\"font\":{\"color\":\"#f2f5fa\"},\"hovermode\":\"closest\",\"hoverlabel\":{\"align\":\"left\"},\"paper_bgcolor\":\"rgb(17,17,17)\",\"plot_bgcolor\":\"rgb(17,17,17)\",\"polar\":{\"bgcolor\":\"rgb(17,17,17)\",\"angularaxis\":{\"gridcolor\":\"#506784\",\"linecolor\":\"#506784\",\"ticks\":\"\"},\"radialaxis\":{\"gridcolor\":\"#506784\",\"linecolor\":\"#506784\",\"ticks\":\"\"}},\"ternary\":{\"bgcolor\":\"rgb(17,17,17)\",\"aaxis\":{\"gridcolor\":\"#506784\",\"linecolor\":\"#506784\",\"ticks\":\"\"},\"baxis\":{\"gridcolor\":\"#506784\",\"linecolor\":\"#506784\",\"ticks\":\"\"},\"caxis\":{\"gridcolor\":\"#506784\",\"linecolor\":\"#506784\",\"ticks\":\"\"}},\"coloraxis\":{\"colorbar\":{\"outlinewidth\":0,\"ticks\":\"\"}},\"colorscale\":{\"sequential\":[[0.0,\"#0d0887\"],[0.1111111111111111,\"#46039f\"],[0.2222222222222222,\"#7201a8\"],[0.3333333333333333,\"#9c179e\"],[0.4444444444444444,\"#bd3786\"],[0.5555555555555556,\"#d8576b\"],[0.6666666666666666,\"#ed7953\"],[0.7777777777777778,\"#fb9f3a\"],[0.8888888888888888,\"#fdca26\"],[1.0,\"#f0f921\"]],\"sequentialminus\":[[0.0,\"#0d0887\"],[0.1111111111111111,\"#46039f\"],[0.2222222222222222,\"#7201a8\"],[0.3333333333333333,\"#9c179e\"],[0.4444444444444444,\"#bd3786\"],[0.5555555555555556,\"#d8576b\"],[0.6666666666666666,\"#ed7953\"],[0.7777777777777778,\"#fb9f3a\"],[0.8888888888888888,\"#fdca26\"],[1.0,\"#f0f921\"]],\"diverging\":[[0,\"#8e0152\"],[0.1,\"#c51b7d\"],[0.2,\"#de77ae\"],[0.3,\"#f1b6da\"],[0.4,\"#fde0ef\"],[0.5,\"#f7f7f7\"],[0.6,\"#e6f5d0\"],[0.7,\"#b8e186\"],[0.8,\"#7fbc41\"],[0.9,\"#4d9221\"],[1,\"#276419\"]]},\"xaxis\":{\"gridcolor\":\"#283442\",\"linecolor\":\"#506784\",\"ticks\":\"\",\"title\":{\"standoff\":15},\"zerolinecolor\":\"#283442\",\"automargin\":true,\"zerolinewidth\":2},\"yaxis\":{\"gridcolor\":\"#283442\",\"linecolor\":\"#506784\",\"ticks\":\"\",\"title\":{\"standoff\":15},\"zerolinecolor\":\"#283442\",\"automargin\":true,\"zerolinewidth\":2},\"scene\":{\"xaxis\":{\"backgroundcolor\":\"rgb(17,17,17)\",\"gridcolor\":\"#506784\",\"linecolor\":\"#506784\",\"showbackground\":true,\"ticks\":\"\",\"zerolinecolor\":\"#C8D4E3\",\"gridwidth\":2},\"yaxis\":{\"backgroundcolor\":\"rgb(17,17,17)\",\"gridcolor\":\"#506784\",\"linecolor\":\"#506784\",\"showbackground\":true,\"ticks\":\"\",\"zerolinecolor\":\"#C8D4E3\",\"gridwidth\":2},\"zaxis\":{\"backgroundcolor\":\"rgb(17,17,17)\",\"gridcolor\":\"#506784\",\"linecolor\":\"#506784\",\"showbackground\":true,\"ticks\":\"\",\"zerolinecolor\":\"#C8D4E3\",\"gridwidth\":2}},\"shapedefaults\":{\"line\":{\"color\":\"#f2f5fa\"}},\"annotationdefaults\":{\"arrowcolor\":\"#f2f5fa\",\"arrowhead\":0,\"arrowwidth\":1},\"geo\":{\"bgcolor\":\"rgb(17,17,17)\",\"landcolor\":\"rgb(17,17,17)\",\"subunitcolor\":\"#506784\",\"showland\":true,\"showlakes\":true,\"lakecolor\":\"rgb(17,17,17)\"},\"title\":{\"x\":0.05},\"updatemenudefaults\":{\"bgcolor\":\"#506784\",\"borderwidth\":0},\"sliderdefaults\":{\"bgcolor\":\"#C8D4E3\",\"borderwidth\":1,\"bordercolor\":\"rgb(17,17,17)\",\"tickwidth\":0},\"mapbox\":{\"style\":\"dark\"}}},\"hovermode\":\"x\"},                        {\"responsive\": true}                    ).then(function(){\n                            \nvar gd = document.getElementById('2e94a889-5eea-4111-9d7c-7e70708663e3');\nvar x = new MutationObserver(function (mutations, observer) {{\n        var display = window.getComputedStyle(gd).display;\n        if (!display || display === 'none') {{\n            console.log([gd, 'removed!']);\n            Plotly.purge(gd);\n            observer.disconnect();\n        }}\n}});\n\n// Listen for the removal of the full notebook cells\nvar notebookContainer = gd.closest('#notebook-container');\nif (notebookContainer) {{\n    x.observe(notebookContainer, {childList: true});\n}}\n\n// Listen for the clearing of the current output cell\nvar outputEl = gd.closest('.output');\nif (outputEl) {{\n    x.observe(outputEl, {childList: true});\n}}\n\n                        })                };                });            </script>        </div>"
     },
     "metadata": {},
     "output_type": "display_data"
    },
    {
     "data": {
      "text/plain": "array([[-1650316.89537994,        0.        ,        0.        ,\n               0.        ],\n       [ -645130.77498577,        0.        ,        0.        ,\n          367515.15364437],\n       [       0.        ,    61621.67375882,  -240442.36723843,\n               0.        ],\n       [       0.        ,   674604.10153941,    80256.71349783,\n          -70178.05019162]])"
     },
     "execution_count": 98,
     "metadata": {},
     "output_type": "execute_result"
    }
   ],
   "source": [
    "# p = map_a.fit_curve(lorentz, 1325, 1375, (1345, 10, -10 * 10**5, -10000), base_vector = 0, draw = True)\n",
    "# print(p)\n",
    "t_matrix = np.zeros((4,4))\n",
    "\n",
    "t_matrix[0][0] = map_a.fit_curve(lorentz, (1392, 2.5, -17 * 10**5, -7000), 1380, 1400, base_vector = 0, draw = True)\n",
    "# t_matrix[0][1] = map_a.fit_curve(lorentz, (1392, 2.5, -17 * 10**5, -7000), 1380, 1400, base_vector = 1, draw = True)\n",
    "# t_matrix[0][2] = map_a.fit_curve(lorentz, (1392, 2.5, -17 * 10**5, -7000), 1380, 1400, base_vector = 2, draw = True)\n",
    "# t_matrix[0][3] = map_a.fit_curve(lorentz, (1392, 2.5, -17 * 10**5, -7000), 1380, 1400, base_vector = 3, draw = True)\n",
    "\n",
    "t_matrix[1][0] = map_a.fit_curve(lorentz, (1345, 14,  -5 * 10**5, -10000), 1330, 1360, base_vector = 0, draw = True)\n",
    "t_matrix[1][3] = map_a.fit_curve(lorentz, (1345, 16,  3.2 * 10**5, -4000), 1330, 1360, base_vector = 3, draw = True)\n",
    "\n",
    "t_matrix[2][1] = map_a.fit_curve(lorentz, (1369, 10,  0.8 * 10**5,  1000), 1355, 1380, base_vector = 1, draw = True)\n",
    "t_matrix[2][2] = map_a.fit_curve(lorentz, (1369, 10, -2.4 * 10**5, -1400), 1355, 1380, base_vector = 2, draw = True)\n",
    "\n",
    "t_matrix[3][1] = map_a.fit_curve(lorentz_shift, (1392, 2.5, -17 * 10**5, -7000), 1385, 1400, base_vector = 1, draw = True)\n",
    "t_matrix[3][2] = map_a.fit_curve(lorentz_shift, (1392, 2.5, -17 * 10**5, -7000), 1385, 1400, base_vector = 2, draw = True)\n",
    "t_matrix[3][3] = map_a.fit_curve(lorentz_shift, (1392, 2.5, -17 * 10**5, -7000), 1385, 1400, base_vector = 3, draw = True)\n",
    "# \n",
    "# map_a.draw_curve(lorentz_spread, (1392, 1, .6 * 10**5, 0), 1360, 1415, base_vector = 4, draw = True).show()\n",
    "# t_matrix[4][4] = map_a.fit_curve(lorentz_spread, (1392, 1, .6 * 10**5, 0), 1360, 1415, base_vector = 4, draw = True)\n",
    "# \n",
    "t_matrix"
   ],
   "metadata": {
    "collapsed": false,
    "ExecuteTime": {
     "end_time": "2024-04-09T07:38:05.386780Z",
     "start_time": "2024-04-09T07:38:04.933253Z"
    }
   },
   "id": "18d5369075a64a8",
   "execution_count": 98
  },
  {
   "cell_type": "code",
   "outputs": [
    {
     "data": {
      "application/vnd.plotly.v1+json": {
       "data": [
        {
         "hovertemplate": "x=%{x}<br>y=%{y}<extra></extra>",
         "legendgroup": "",
         "line": {
          "color": "#636efa",
          "dash": "solid"
         },
         "marker": {
          "symbol": "circle"
         },
         "mode": "lines",
         "name": "",
         "orientation": "v",
         "showlegend": false,
         "x": [
          1489.670166015625,
          1488.5650634765625,
          1487.459716796875,
          1486.354248046875,
          1485.24853515625,
          1484.142578125,
          1483.0364990234375,
          1481.93017578125,
          1480.8236083984375,
          1479.7169189453125,
          1478.6099853515625,
          1477.5028076171875,
          1476.3955078125,
          1475.2879638671875,
          1474.1802978515625,
          1473.0723876953125,
          1471.9642333984375,
          1470.8558349609375,
          1469.747314453125,
          1468.638671875,
          1467.5296630859375,
          1466.4205322265625,
          1465.311279296875,
          1464.20166015625,
          1463.0919189453125,
          1461.9820556640625,
          1460.8719482421875,
          1459.7615966796875,
          1458.6510009765625,
          1457.540283203125,
          1456.4293212890625,
          1455.3182373046875,
          1454.2069091796875,
          1453.0953369140625,
          1451.983642578125,
          1450.8717041015625,
          1449.759521484375,
          1448.647216796875,
          1447.53466796875,
          1446.421875,
          1445.3089599609375,
          1444.19580078125,
          1443.0823974609375,
          1441.9688720703125,
          1440.8551025390625,
          1439.7410888671875,
          1438.626953125,
          1437.5125732421875,
          1436.3980712890625,
          1435.2833251953125,
          1434.1683349609375,
          1433.0531005859375,
          1431.937744140625,
          1430.8221435546875,
          1429.7064208984375,
          1428.5904541015625,
          1427.4742431640625,
          1426.35791015625,
          1425.2412109375,
          1424.12451171875,
          1423.0074462890625,
          1421.8902587890625,
          1420.7728271484375,
          1419.6552734375,
          1418.5374755859375,
          1417.41943359375,
          1416.30126953125,
          1415.182861328125,
          1414.064208984375,
          1412.9454345703125,
          1411.826416015625,
          1410.7071533203125,
          1409.587646484375,
          1408.468017578125,
          1407.3482666015625,
          1406.2281494140625,
          1405.10791015625,
          1403.9874267578125,
          1402.8668212890625,
          1401.7459716796875,
          1400.6248779296875,
          1399.503662109375,
          1398.3822021484375,
          1397.260498046875,
          1396.1385498046875,
          1395.0164794921875,
          1393.894287109375,
          1392.771728515625,
          1391.6490478515625,
          1390.526123046875,
          1389.403076171875,
          1388.2796630859375,
          1387.15625,
          1386.032470703125,
          1384.9085693359375,
          1383.784423828125,
          1382.6600341796875,
          1381.5355224609375,
          1380.4107666015625,
          1379.2857666015625,
          1378.16064453125,
          1377.0352783203125,
          1375.90966796875,
          1374.783935546875,
          1373.657958984375,
          1372.53173828125,
          1371.4053955078125,
          1370.27880859375,
          1369.1519775390625,
          1368.02490234375,
          1366.897705078125,
          1365.770263671875,
          1364.6427001953125,
          1363.5147705078125,
          1362.38671875,
          1361.258544921875,
          1360.1300048828125,
          1359.0013427734375,
          1357.87255859375,
          1356.743408203125,
          1355.6141357421875,
          1354.484619140625,
          1353.35498046875,
          1352.22509765625,
          1351.094970703125,
          1349.964599609375,
          1348.8341064453125,
          1347.703369140625,
          1346.5723876953125,
          1345.441162109375,
          1344.309814453125,
          1343.17822265625,
          1342.0465087890625,
          1340.91455078125,
          1339.7823486328125,
          1338.64990234375,
          1337.517333984375,
          1336.384521484375,
          1335.25146484375,
          1334.1181640625,
          1332.9847412109375,
          1331.85107421875,
          1330.7171630859375,
          1329.5831298828125,
          1328.4488525390625,
          1327.3143310546875,
          1326.1796875,
          1325.0447998046875,
          1323.90966796875,
          1322.7742919921875,
          1321.6387939453125,
          1320.5029296875,
          1319.3670654296875,
          1318.2308349609375,
          1317.094482421875,
          1315.9578857421875,
          1314.821044921875,
          1313.68408203125,
          1312.546875,
          1311.409423828125,
          1310.271728515625,
          1309.1339111328125,
          1307.995849609375,
          1306.8575439453125,
          1305.718994140625,
          1304.580322265625,
          1303.44140625,
          1302.3023681640625,
          1301.1629638671875,
          1300.0234375,
          1298.8836669921875,
          1297.74365234375,
          1296.603515625,
          1295.463134765625,
          1294.322509765625,
          1293.181640625,
          1292.0406494140625,
          1290.8994140625,
          1289.7579345703125,
          1288.6163330078125,
          1287.474365234375,
          1286.332275390625,
          1285.1900634765625,
          1284.0474853515625,
          1282.90478515625,
          1281.7618408203125,
          1280.61865234375,
          1279.475341796875,
          1278.3316650390625,
          1277.1878662109375,
          1276.0439453125,
          1274.899658203125,
          1273.7552490234375,
          1272.610595703125,
          1271.4656982421875,
          1270.3206787109375,
          1269.17529296875,
          1268.02978515625,
          1266.8841552734375
         ],
         "xaxis": "x",
         "y": [
          0.006188006169351724,
          0.006209286421615351,
          0.006182941707041523,
          0.006170753855293891,
          0.00614245601142438,
          0.0061559694432568235,
          0.006135575345952495,
          0.006121158801293624,
          0.006122477210255315,
          0.006123558641100133,
          0.006107800228319604,
          0.006096358136558819,
          0.006113967869360551,
          0.0060294169848006075,
          0.006068718167751754,
          0.006057028935042988,
          0.006075782620261605,
          0.006019074436478728,
          0.006063688814846791,
          0.006057748248792222,
          0.006118998454468205,
          0.006113383061541767,
          0.0060706673284681625,
          0.006121864262868733,
          0.006161392463108286,
          0.006125769278704309,
          0.006136718215625085,
          0.006136896562585817,
          0.006152685028221093,
          0.00611815088587975,
          0.006146975562949567,
          0.006132153477091979,
          0.006124545144777303,
          0.006186818888615299,
          0.0061805119515493424,
          0.0062057777117865,
          0.0061982634561805194,
          0.006182646530722233,
          0.006152209376121378,
          0.006214310942813931,
          0.006169664505645677,
          0.006183569554174633,
          0.006208628685974741,
          0.006206870175910831,
          0.0062950686593198505,
          0.006262111382257374,
          0.006278843355902206,
          0.00631893869536641,
          0.0063263177731443685,
          0.006326920464579789,
          0.00633784308932761,
          0.006366149900774923,
          0.006375088344660159,
          0.006417726849290867,
          0.006450126676043656,
          0.006437075568250536,
          0.006482267370297871,
          0.00648082913373272,
          0.006528712553799062,
          0.006592701336305856,
          0.006640814668396726,
          0.006603325121707643,
          0.006740766116880764,
          0.0068163421971665075,
          0.006852921099126231,
          0.006891847193863914,
          0.007007558782524404,
          0.007069841853699305,
          0.007191629688949541,
          0.007270470474776719,
          0.007435909566345281,
          0.007523680113960355,
          0.007763290473713014,
          0.007966561814969304,
          0.008321060664912117,
          0.008665375966393551,
          0.009185162483716746,
          0.009792063957674917,
          0.01059834126159022,
          0.011560722642219865,
          0.013109765540374541,
          0.015284190897615532,
          0.018776294680529444,
          0.024531925216650517,
          0.035521639934121434,
          0.0570288180505444,
          0.09452559769680441,
          0.1315472278011675,
          0.1276532957748552,
          0.09320779794370443,
          0.061144110474663615,
          0.040183116319573005,
          0.02800961717676515,
          0.02104494134406334,
          0.017041783278799367,
          0.014583346670756359,
          0.013027487387713673,
          0.012050418661554855,
          0.011384073649229595,
          0.010792104855511188,
          0.010586370676402404,
          0.010383254980724647,
          0.010263136966313903,
          0.010174920408822462,
          0.010240351335418039,
          0.010303254666859362,
          0.010367960357037046,
          0.01043525162743119,
          0.010415767437403469,
          0.010423698906220639,
          0.010396338628973288,
          0.010274039700983971,
          0.010157890704819398,
          0.009941929674276723,
          0.009791983733133386,
          0.009616087047447411,
          0.009565228233685462,
          0.009401138142709391,
          0.00939173812127146,
          0.009369101233153862,
          0.009365768330437507,
          0.009395882789157744,
          0.00939729052186614,
          0.009465207465078802,
          0.009528329102404419,
          0.009585774925227598,
          0.009693780063930709,
          0.00971892819937039,
          0.009752716709966528,
          0.009770041970486266,
          0.009802410929818522,
          0.009768753954609702,
          0.009690910643828286,
          0.009628816997520351,
          0.009564675691838578,
          0.009378087301020112,
          0.009281228909196566,
          0.009137355539654337,
          0.008956435413728692,
          0.008876757009843878,
          0.008632226574714996,
          0.008534801849706172,
          0.008432809876754469,
          0.00831501780960386,
          0.008194195221872412,
          0.008045188656510232,
          0.007930270065003691,
          0.007831070233344227,
          0.007755608478972415,
          0.007622916868424456,
          0.0075268514253864285,
          0.007438900089398111,
          0.00736357393889468,
          0.007237896355863376,
          0.007216602871693314,
          0.007104022669431792,
          0.006991451772479668,
          0.006918459966501843,
          0.006844534063911876,
          0.006720476072549058,
          0.006684377756012452,
          0.00662200865787236,
          0.006601321083478943,
          0.006496063534245712,
          0.006485023613238329,
          0.006391101041123665,
          0.0063397561372870795,
          0.006286504147490585,
          0.006206097589731317,
          0.006124671645748007,
          0.006106875406400215,
          0.006097491639207265,
          0.006084271491233391,
          0.0060082363147131125,
          0.0060408622895679,
          0.005936408846657311,
          0.005920891488811759,
          0.00586939548759278,
          0.005881219088535633,
          0.005749958987453784,
          0.005751971327962831,
          0.005687902866953665,
          0.005663833731407844,
          0.005674113937217953,
          0.005659074615904659,
          0.005606495136348643,
          0.005632151230474598,
          0.005626096607588691,
          0.005588391617294171,
          0.005575756278664189,
          0.00553135957149092,
          0.005498777325959543,
          0.005480435778864914,
          0.0054530982451405806,
          0.005391988143332869,
          0.005395148718599784,
          0.0053979240294340005,
          0.005361132459022522,
          0.0053584191181273964
         ],
         "yaxis": "y",
         "type": "scatter"
        }
       ],
       "layout": {
        "template": {
         "data": {
          "histogram2dcontour": [
           {
            "type": "histogram2dcontour",
            "colorbar": {
             "outlinewidth": 0,
             "ticks": ""
            },
            "colorscale": [
             [
              0.0,
              "#0d0887"
             ],
             [
              0.1111111111111111,
              "#46039f"
             ],
             [
              0.2222222222222222,
              "#7201a8"
             ],
             [
              0.3333333333333333,
              "#9c179e"
             ],
             [
              0.4444444444444444,
              "#bd3786"
             ],
             [
              0.5555555555555556,
              "#d8576b"
             ],
             [
              0.6666666666666666,
              "#ed7953"
             ],
             [
              0.7777777777777778,
              "#fb9f3a"
             ],
             [
              0.8888888888888888,
              "#fdca26"
             ],
             [
              1.0,
              "#f0f921"
             ]
            ]
           }
          ],
          "choropleth": [
           {
            "type": "choropleth",
            "colorbar": {
             "outlinewidth": 0,
             "ticks": ""
            }
           }
          ],
          "histogram2d": [
           {
            "type": "histogram2d",
            "colorbar": {
             "outlinewidth": 0,
             "ticks": ""
            },
            "colorscale": [
             [
              0.0,
              "#0d0887"
             ],
             [
              0.1111111111111111,
              "#46039f"
             ],
             [
              0.2222222222222222,
              "#7201a8"
             ],
             [
              0.3333333333333333,
              "#9c179e"
             ],
             [
              0.4444444444444444,
              "#bd3786"
             ],
             [
              0.5555555555555556,
              "#d8576b"
             ],
             [
              0.6666666666666666,
              "#ed7953"
             ],
             [
              0.7777777777777778,
              "#fb9f3a"
             ],
             [
              0.8888888888888888,
              "#fdca26"
             ],
             [
              1.0,
              "#f0f921"
             ]
            ]
           }
          ],
          "heatmap": [
           {
            "type": "heatmap",
            "colorbar": {
             "outlinewidth": 0,
             "ticks": ""
            },
            "colorscale": [
             [
              0.0,
              "#0d0887"
             ],
             [
              0.1111111111111111,
              "#46039f"
             ],
             [
              0.2222222222222222,
              "#7201a8"
             ],
             [
              0.3333333333333333,
              "#9c179e"
             ],
             [
              0.4444444444444444,
              "#bd3786"
             ],
             [
              0.5555555555555556,
              "#d8576b"
             ],
             [
              0.6666666666666666,
              "#ed7953"
             ],
             [
              0.7777777777777778,
              "#fb9f3a"
             ],
             [
              0.8888888888888888,
              "#fdca26"
             ],
             [
              1.0,
              "#f0f921"
             ]
            ]
           }
          ],
          "heatmapgl": [
           {
            "type": "heatmapgl",
            "colorbar": {
             "outlinewidth": 0,
             "ticks": ""
            },
            "colorscale": [
             [
              0.0,
              "#0d0887"
             ],
             [
              0.1111111111111111,
              "#46039f"
             ],
             [
              0.2222222222222222,
              "#7201a8"
             ],
             [
              0.3333333333333333,
              "#9c179e"
             ],
             [
              0.4444444444444444,
              "#bd3786"
             ],
             [
              0.5555555555555556,
              "#d8576b"
             ],
             [
              0.6666666666666666,
              "#ed7953"
             ],
             [
              0.7777777777777778,
              "#fb9f3a"
             ],
             [
              0.8888888888888888,
              "#fdca26"
             ],
             [
              1.0,
              "#f0f921"
             ]
            ]
           }
          ],
          "contourcarpet": [
           {
            "type": "contourcarpet",
            "colorbar": {
             "outlinewidth": 0,
             "ticks": ""
            }
           }
          ],
          "contour": [
           {
            "type": "contour",
            "colorbar": {
             "outlinewidth": 0,
             "ticks": ""
            },
            "colorscale": [
             [
              0.0,
              "#0d0887"
             ],
             [
              0.1111111111111111,
              "#46039f"
             ],
             [
              0.2222222222222222,
              "#7201a8"
             ],
             [
              0.3333333333333333,
              "#9c179e"
             ],
             [
              0.4444444444444444,
              "#bd3786"
             ],
             [
              0.5555555555555556,
              "#d8576b"
             ],
             [
              0.6666666666666666,
              "#ed7953"
             ],
             [
              0.7777777777777778,
              "#fb9f3a"
             ],
             [
              0.8888888888888888,
              "#fdca26"
             ],
             [
              1.0,
              "#f0f921"
             ]
            ]
           }
          ],
          "surface": [
           {
            "type": "surface",
            "colorbar": {
             "outlinewidth": 0,
             "ticks": ""
            },
            "colorscale": [
             [
              0.0,
              "#0d0887"
             ],
             [
              0.1111111111111111,
              "#46039f"
             ],
             [
              0.2222222222222222,
              "#7201a8"
             ],
             [
              0.3333333333333333,
              "#9c179e"
             ],
             [
              0.4444444444444444,
              "#bd3786"
             ],
             [
              0.5555555555555556,
              "#d8576b"
             ],
             [
              0.6666666666666666,
              "#ed7953"
             ],
             [
              0.7777777777777778,
              "#fb9f3a"
             ],
             [
              0.8888888888888888,
              "#fdca26"
             ],
             [
              1.0,
              "#f0f921"
             ]
            ]
           }
          ],
          "mesh3d": [
           {
            "type": "mesh3d",
            "colorbar": {
             "outlinewidth": 0,
             "ticks": ""
            }
           }
          ],
          "scatter": [
           {
            "marker": {
             "line": {
              "color": "#283442"
             }
            },
            "type": "scatter"
           }
          ],
          "parcoords": [
           {
            "type": "parcoords",
            "line": {
             "colorbar": {
              "outlinewidth": 0,
              "ticks": ""
             }
            }
           }
          ],
          "scatterpolargl": [
           {
            "type": "scatterpolargl",
            "marker": {
             "colorbar": {
              "outlinewidth": 0,
              "ticks": ""
             }
            }
           }
          ],
          "bar": [
           {
            "error_x": {
             "color": "#f2f5fa"
            },
            "error_y": {
             "color": "#f2f5fa"
            },
            "marker": {
             "line": {
              "color": "rgb(17,17,17)",
              "width": 0.5
             },
             "pattern": {
              "fillmode": "overlay",
              "size": 10,
              "solidity": 0.2
             }
            },
            "type": "bar"
           }
          ],
          "scattergeo": [
           {
            "type": "scattergeo",
            "marker": {
             "colorbar": {
              "outlinewidth": 0,
              "ticks": ""
             }
            }
           }
          ],
          "scatterpolar": [
           {
            "type": "scatterpolar",
            "marker": {
             "colorbar": {
              "outlinewidth": 0,
              "ticks": ""
             }
            }
           }
          ],
          "histogram": [
           {
            "marker": {
             "pattern": {
              "fillmode": "overlay",
              "size": 10,
              "solidity": 0.2
             }
            },
            "type": "histogram"
           }
          ],
          "scattergl": [
           {
            "marker": {
             "line": {
              "color": "#283442"
             }
            },
            "type": "scattergl"
           }
          ],
          "scatter3d": [
           {
            "type": "scatter3d",
            "line": {
             "colorbar": {
              "outlinewidth": 0,
              "ticks": ""
             }
            },
            "marker": {
             "colorbar": {
              "outlinewidth": 0,
              "ticks": ""
             }
            }
           }
          ],
          "scattermapbox": [
           {
            "type": "scattermapbox",
            "marker": {
             "colorbar": {
              "outlinewidth": 0,
              "ticks": ""
             }
            }
           }
          ],
          "scatterternary": [
           {
            "type": "scatterternary",
            "marker": {
             "colorbar": {
              "outlinewidth": 0,
              "ticks": ""
             }
            }
           }
          ],
          "scattercarpet": [
           {
            "type": "scattercarpet",
            "marker": {
             "colorbar": {
              "outlinewidth": 0,
              "ticks": ""
             }
            }
           }
          ],
          "carpet": [
           {
            "aaxis": {
             "endlinecolor": "#A2B1C6",
             "gridcolor": "#506784",
             "linecolor": "#506784",
             "minorgridcolor": "#506784",
             "startlinecolor": "#A2B1C6"
            },
            "baxis": {
             "endlinecolor": "#A2B1C6",
             "gridcolor": "#506784",
             "linecolor": "#506784",
             "minorgridcolor": "#506784",
             "startlinecolor": "#A2B1C6"
            },
            "type": "carpet"
           }
          ],
          "table": [
           {
            "cells": {
             "fill": {
              "color": "#506784"
             },
             "line": {
              "color": "rgb(17,17,17)"
             }
            },
            "header": {
             "fill": {
              "color": "#2a3f5f"
             },
             "line": {
              "color": "rgb(17,17,17)"
             }
            },
            "type": "table"
           }
          ],
          "barpolar": [
           {
            "marker": {
             "line": {
              "color": "rgb(17,17,17)",
              "width": 0.5
             },
             "pattern": {
              "fillmode": "overlay",
              "size": 10,
              "solidity": 0.2
             }
            },
            "type": "barpolar"
           }
          ],
          "pie": [
           {
            "automargin": true,
            "type": "pie"
           }
          ]
         },
         "layout": {
          "autotypenumbers": "strict",
          "colorway": [
           "#636efa",
           "#EF553B",
           "#00cc96",
           "#ab63fa",
           "#FFA15A",
           "#19d3f3",
           "#FF6692",
           "#B6E880",
           "#FF97FF",
           "#FECB52"
          ],
          "font": {
           "color": "#f2f5fa"
          },
          "hovermode": "closest",
          "hoverlabel": {
           "align": "left"
          },
          "paper_bgcolor": "rgb(17,17,17)",
          "plot_bgcolor": "rgb(17,17,17)",
          "polar": {
           "bgcolor": "rgb(17,17,17)",
           "angularaxis": {
            "gridcolor": "#506784",
            "linecolor": "#506784",
            "ticks": ""
           },
           "radialaxis": {
            "gridcolor": "#506784",
            "linecolor": "#506784",
            "ticks": ""
           }
          },
          "ternary": {
           "bgcolor": "rgb(17,17,17)",
           "aaxis": {
            "gridcolor": "#506784",
            "linecolor": "#506784",
            "ticks": ""
           },
           "baxis": {
            "gridcolor": "#506784",
            "linecolor": "#506784",
            "ticks": ""
           },
           "caxis": {
            "gridcolor": "#506784",
            "linecolor": "#506784",
            "ticks": ""
           }
          },
          "coloraxis": {
           "colorbar": {
            "outlinewidth": 0,
            "ticks": ""
           }
          },
          "colorscale": {
           "sequential": [
            [
             0.0,
             "#0d0887"
            ],
            [
             0.1111111111111111,
             "#46039f"
            ],
            [
             0.2222222222222222,
             "#7201a8"
            ],
            [
             0.3333333333333333,
             "#9c179e"
            ],
            [
             0.4444444444444444,
             "#bd3786"
            ],
            [
             0.5555555555555556,
             "#d8576b"
            ],
            [
             0.6666666666666666,
             "#ed7953"
            ],
            [
             0.7777777777777778,
             "#fb9f3a"
            ],
            [
             0.8888888888888888,
             "#fdca26"
            ],
            [
             1.0,
             "#f0f921"
            ]
           ],
           "sequentialminus": [
            [
             0.0,
             "#0d0887"
            ],
            [
             0.1111111111111111,
             "#46039f"
            ],
            [
             0.2222222222222222,
             "#7201a8"
            ],
            [
             0.3333333333333333,
             "#9c179e"
            ],
            [
             0.4444444444444444,
             "#bd3786"
            ],
            [
             0.5555555555555556,
             "#d8576b"
            ],
            [
             0.6666666666666666,
             "#ed7953"
            ],
            [
             0.7777777777777778,
             "#fb9f3a"
            ],
            [
             0.8888888888888888,
             "#fdca26"
            ],
            [
             1.0,
             "#f0f921"
            ]
           ],
           "diverging": [
            [
             0,
             "#8e0152"
            ],
            [
             0.1,
             "#c51b7d"
            ],
            [
             0.2,
             "#de77ae"
            ],
            [
             0.3,
             "#f1b6da"
            ],
            [
             0.4,
             "#fde0ef"
            ],
            [
             0.5,
             "#f7f7f7"
            ],
            [
             0.6,
             "#e6f5d0"
            ],
            [
             0.7,
             "#b8e186"
            ],
            [
             0.8,
             "#7fbc41"
            ],
            [
             0.9,
             "#4d9221"
            ],
            [
             1,
             "#276419"
            ]
           ]
          },
          "xaxis": {
           "gridcolor": "#283442",
           "linecolor": "#506784",
           "ticks": "",
           "title": {
            "standoff": 15
           },
           "zerolinecolor": "#283442",
           "automargin": true,
           "zerolinewidth": 2
          },
          "yaxis": {
           "gridcolor": "#283442",
           "linecolor": "#506784",
           "ticks": "",
           "title": {
            "standoff": 15
           },
           "zerolinecolor": "#283442",
           "automargin": true,
           "zerolinewidth": 2
          },
          "scene": {
           "xaxis": {
            "backgroundcolor": "rgb(17,17,17)",
            "gridcolor": "#506784",
            "linecolor": "#506784",
            "showbackground": true,
            "ticks": "",
            "zerolinecolor": "#C8D4E3",
            "gridwidth": 2
           },
           "yaxis": {
            "backgroundcolor": "rgb(17,17,17)",
            "gridcolor": "#506784",
            "linecolor": "#506784",
            "showbackground": true,
            "ticks": "",
            "zerolinecolor": "#C8D4E3",
            "gridwidth": 2
           },
           "zaxis": {
            "backgroundcolor": "rgb(17,17,17)",
            "gridcolor": "#506784",
            "linecolor": "#506784",
            "showbackground": true,
            "ticks": "",
            "zerolinecolor": "#C8D4E3",
            "gridwidth": 2
           }
          },
          "shapedefaults": {
           "line": {
            "color": "#f2f5fa"
           }
          },
          "annotationdefaults": {
           "arrowcolor": "#f2f5fa",
           "arrowhead": 0,
           "arrowwidth": 1
          },
          "geo": {
           "bgcolor": "rgb(17,17,17)",
           "landcolor": "rgb(17,17,17)",
           "subunitcolor": "#506784",
           "showland": true,
           "showlakes": true,
           "lakecolor": "rgb(17,17,17)"
          },
          "title": {
           "x": 0.05
          },
          "updatemenudefaults": {
           "bgcolor": "#506784",
           "borderwidth": 0
          },
          "sliderdefaults": {
           "bgcolor": "#C8D4E3",
           "borderwidth": 1,
           "bordercolor": "rgb(17,17,17)",
           "tickwidth": 0
          },
          "mapbox": {
           "style": "dark"
          }
         }
        },
        "xaxis": {
         "anchor": "y",
         "domain": [
          0.0,
          1.0
         ],
         "title": {
          "text": "x"
         }
        },
        "yaxis": {
         "anchor": "x",
         "domain": [
          0.0,
          1.0
         ],
         "title": {
          "text": "y"
         }
        },
        "legend": {
         "tracegroupgap": 0
        },
        "margin": {
         "t": 60
        }
       },
       "config": {
        "plotlyServerURL": "https://plot.ly"
       }
      },
      "text/html": "<div>                            <div id=\"522068ed-ce2a-478b-9310-3ee92e30651b\" class=\"plotly-graph-div\" style=\"height:525px; width:100%;\"></div>            <script type=\"text/javascript\">                require([\"plotly\"], function(Plotly) {                    window.PLOTLYENV=window.PLOTLYENV || {};                                    if (document.getElementById(\"522068ed-ce2a-478b-9310-3ee92e30651b\")) {                    Plotly.newPlot(                        \"522068ed-ce2a-478b-9310-3ee92e30651b\",                        [{\"hovertemplate\":\"x=%{x}\\u003cbr\\u003ey=%{y}\\u003cextra\\u003e\\u003c\\u002fextra\\u003e\",\"legendgroup\":\"\",\"line\":{\"color\":\"#636efa\",\"dash\":\"solid\"},\"marker\":{\"symbol\":\"circle\"},\"mode\":\"lines\",\"name\":\"\",\"orientation\":\"v\",\"showlegend\":false,\"x\":[1489.670166015625,1488.5650634765625,1487.459716796875,1486.354248046875,1485.24853515625,1484.142578125,1483.0364990234375,1481.93017578125,1480.8236083984375,1479.7169189453125,1478.6099853515625,1477.5028076171875,1476.3955078125,1475.2879638671875,1474.1802978515625,1473.0723876953125,1471.9642333984375,1470.8558349609375,1469.747314453125,1468.638671875,1467.5296630859375,1466.4205322265625,1465.311279296875,1464.20166015625,1463.0919189453125,1461.9820556640625,1460.8719482421875,1459.7615966796875,1458.6510009765625,1457.540283203125,1456.4293212890625,1455.3182373046875,1454.2069091796875,1453.0953369140625,1451.983642578125,1450.8717041015625,1449.759521484375,1448.647216796875,1447.53466796875,1446.421875,1445.3089599609375,1444.19580078125,1443.0823974609375,1441.9688720703125,1440.8551025390625,1439.7410888671875,1438.626953125,1437.5125732421875,1436.3980712890625,1435.2833251953125,1434.1683349609375,1433.0531005859375,1431.937744140625,1430.8221435546875,1429.7064208984375,1428.5904541015625,1427.4742431640625,1426.35791015625,1425.2412109375,1424.12451171875,1423.0074462890625,1421.8902587890625,1420.7728271484375,1419.6552734375,1418.5374755859375,1417.41943359375,1416.30126953125,1415.182861328125,1414.064208984375,1412.9454345703125,1411.826416015625,1410.7071533203125,1409.587646484375,1408.468017578125,1407.3482666015625,1406.2281494140625,1405.10791015625,1403.9874267578125,1402.8668212890625,1401.7459716796875,1400.6248779296875,1399.503662109375,1398.3822021484375,1397.260498046875,1396.1385498046875,1395.0164794921875,1393.894287109375,1392.771728515625,1391.6490478515625,1390.526123046875,1389.403076171875,1388.2796630859375,1387.15625,1386.032470703125,1384.9085693359375,1383.784423828125,1382.6600341796875,1381.5355224609375,1380.4107666015625,1379.2857666015625,1378.16064453125,1377.0352783203125,1375.90966796875,1374.783935546875,1373.657958984375,1372.53173828125,1371.4053955078125,1370.27880859375,1369.1519775390625,1368.02490234375,1366.897705078125,1365.770263671875,1364.6427001953125,1363.5147705078125,1362.38671875,1361.258544921875,1360.1300048828125,1359.0013427734375,1357.87255859375,1356.743408203125,1355.6141357421875,1354.484619140625,1353.35498046875,1352.22509765625,1351.094970703125,1349.964599609375,1348.8341064453125,1347.703369140625,1346.5723876953125,1345.441162109375,1344.309814453125,1343.17822265625,1342.0465087890625,1340.91455078125,1339.7823486328125,1338.64990234375,1337.517333984375,1336.384521484375,1335.25146484375,1334.1181640625,1332.9847412109375,1331.85107421875,1330.7171630859375,1329.5831298828125,1328.4488525390625,1327.3143310546875,1326.1796875,1325.0447998046875,1323.90966796875,1322.7742919921875,1321.6387939453125,1320.5029296875,1319.3670654296875,1318.2308349609375,1317.094482421875,1315.9578857421875,1314.821044921875,1313.68408203125,1312.546875,1311.409423828125,1310.271728515625,1309.1339111328125,1307.995849609375,1306.8575439453125,1305.718994140625,1304.580322265625,1303.44140625,1302.3023681640625,1301.1629638671875,1300.0234375,1298.8836669921875,1297.74365234375,1296.603515625,1295.463134765625,1294.322509765625,1293.181640625,1292.0406494140625,1290.8994140625,1289.7579345703125,1288.6163330078125,1287.474365234375,1286.332275390625,1285.1900634765625,1284.0474853515625,1282.90478515625,1281.7618408203125,1280.61865234375,1279.475341796875,1278.3316650390625,1277.1878662109375,1276.0439453125,1274.899658203125,1273.7552490234375,1272.610595703125,1271.4656982421875,1270.3206787109375,1269.17529296875,1268.02978515625,1266.8841552734375],\"xaxis\":\"x\",\"y\":[0.006188006169351724,0.006209286421615351,0.006182941707041523,0.006170753855293891,0.00614245601142438,0.0061559694432568235,0.006135575345952495,0.006121158801293624,0.006122477210255315,0.006123558641100133,0.006107800228319604,0.006096358136558819,0.006113967869360551,0.0060294169848006075,0.006068718167751754,0.006057028935042988,0.006075782620261605,0.006019074436478728,0.006063688814846791,0.006057748248792222,0.006118998454468205,0.006113383061541767,0.0060706673284681625,0.006121864262868733,0.006161392463108286,0.006125769278704309,0.006136718215625085,0.006136896562585817,0.006152685028221093,0.00611815088587975,0.006146975562949567,0.006132153477091979,0.006124545144777303,0.006186818888615299,0.0061805119515493424,0.0062057777117865,0.0061982634561805194,0.006182646530722233,0.006152209376121378,0.006214310942813931,0.006169664505645677,0.006183569554174633,0.006208628685974741,0.006206870175910831,0.0062950686593198505,0.006262111382257374,0.006278843355902206,0.00631893869536641,0.0063263177731443685,0.006326920464579789,0.00633784308932761,0.006366149900774923,0.006375088344660159,0.006417726849290867,0.006450126676043656,0.006437075568250536,0.006482267370297871,0.00648082913373272,0.006528712553799062,0.006592701336305856,0.006640814668396726,0.006603325121707643,0.006740766116880764,0.0068163421971665075,0.006852921099126231,0.006891847193863914,0.007007558782524404,0.007069841853699305,0.007191629688949541,0.007270470474776719,0.007435909566345281,0.007523680113960355,0.007763290473713014,0.007966561814969304,0.008321060664912117,0.008665375966393551,0.009185162483716746,0.009792063957674917,0.01059834126159022,0.011560722642219865,0.013109765540374541,0.015284190897615532,0.018776294680529444,0.024531925216650517,0.035521639934121434,0.0570288180505444,0.09452559769680441,0.1315472278011675,0.1276532957748552,0.09320779794370443,0.061144110474663615,0.040183116319573005,0.02800961717676515,0.02104494134406334,0.017041783278799367,0.014583346670756359,0.013027487387713673,0.012050418661554855,0.011384073649229595,0.010792104855511188,0.010586370676402404,0.010383254980724647,0.010263136966313903,0.010174920408822462,0.010240351335418039,0.010303254666859362,0.010367960357037046,0.01043525162743119,0.010415767437403469,0.010423698906220639,0.010396338628973288,0.010274039700983971,0.010157890704819398,0.009941929674276723,0.009791983733133386,0.009616087047447411,0.009565228233685462,0.009401138142709391,0.00939173812127146,0.009369101233153862,0.009365768330437507,0.009395882789157744,0.00939729052186614,0.009465207465078802,0.009528329102404419,0.009585774925227598,0.009693780063930709,0.00971892819937039,0.009752716709966528,0.009770041970486266,0.009802410929818522,0.009768753954609702,0.009690910643828286,0.009628816997520351,0.009564675691838578,0.009378087301020112,0.009281228909196566,0.009137355539654337,0.008956435413728692,0.008876757009843878,0.008632226574714996,0.008534801849706172,0.008432809876754469,0.00831501780960386,0.008194195221872412,0.008045188656510232,0.007930270065003691,0.007831070233344227,0.007755608478972415,0.007622916868424456,0.0075268514253864285,0.007438900089398111,0.00736357393889468,0.007237896355863376,0.007216602871693314,0.007104022669431792,0.006991451772479668,0.006918459966501843,0.006844534063911876,0.006720476072549058,0.006684377756012452,0.00662200865787236,0.006601321083478943,0.006496063534245712,0.006485023613238329,0.006391101041123665,0.0063397561372870795,0.006286504147490585,0.006206097589731317,0.006124671645748007,0.006106875406400215,0.006097491639207265,0.006084271491233391,0.0060082363147131125,0.0060408622895679,0.005936408846657311,0.005920891488811759,0.00586939548759278,0.005881219088535633,0.005749958987453784,0.005751971327962831,0.005687902866953665,0.005663833731407844,0.005674113937217953,0.005659074615904659,0.005606495136348643,0.005632151230474598,0.005626096607588691,0.005588391617294171,0.005575756278664189,0.00553135957149092,0.005498777325959543,0.005480435778864914,0.0054530982451405806,0.005391988143332869,0.005395148718599784,0.0053979240294340005,0.005361132459022522,0.0053584191181273964],\"yaxis\":\"y\",\"type\":\"scatter\"}],                        {\"template\":{\"data\":{\"histogram2dcontour\":[{\"type\":\"histogram2dcontour\",\"colorbar\":{\"outlinewidth\":0,\"ticks\":\"\"},\"colorscale\":[[0.0,\"#0d0887\"],[0.1111111111111111,\"#46039f\"],[0.2222222222222222,\"#7201a8\"],[0.3333333333333333,\"#9c179e\"],[0.4444444444444444,\"#bd3786\"],[0.5555555555555556,\"#d8576b\"],[0.6666666666666666,\"#ed7953\"],[0.7777777777777778,\"#fb9f3a\"],[0.8888888888888888,\"#fdca26\"],[1.0,\"#f0f921\"]]}],\"choropleth\":[{\"type\":\"choropleth\",\"colorbar\":{\"outlinewidth\":0,\"ticks\":\"\"}}],\"histogram2d\":[{\"type\":\"histogram2d\",\"colorbar\":{\"outlinewidth\":0,\"ticks\":\"\"},\"colorscale\":[[0.0,\"#0d0887\"],[0.1111111111111111,\"#46039f\"],[0.2222222222222222,\"#7201a8\"],[0.3333333333333333,\"#9c179e\"],[0.4444444444444444,\"#bd3786\"],[0.5555555555555556,\"#d8576b\"],[0.6666666666666666,\"#ed7953\"],[0.7777777777777778,\"#fb9f3a\"],[0.8888888888888888,\"#fdca26\"],[1.0,\"#f0f921\"]]}],\"heatmap\":[{\"type\":\"heatmap\",\"colorbar\":{\"outlinewidth\":0,\"ticks\":\"\"},\"colorscale\":[[0.0,\"#0d0887\"],[0.1111111111111111,\"#46039f\"],[0.2222222222222222,\"#7201a8\"],[0.3333333333333333,\"#9c179e\"],[0.4444444444444444,\"#bd3786\"],[0.5555555555555556,\"#d8576b\"],[0.6666666666666666,\"#ed7953\"],[0.7777777777777778,\"#fb9f3a\"],[0.8888888888888888,\"#fdca26\"],[1.0,\"#f0f921\"]]}],\"heatmapgl\":[{\"type\":\"heatmapgl\",\"colorbar\":{\"outlinewidth\":0,\"ticks\":\"\"},\"colorscale\":[[0.0,\"#0d0887\"],[0.1111111111111111,\"#46039f\"],[0.2222222222222222,\"#7201a8\"],[0.3333333333333333,\"#9c179e\"],[0.4444444444444444,\"#bd3786\"],[0.5555555555555556,\"#d8576b\"],[0.6666666666666666,\"#ed7953\"],[0.7777777777777778,\"#fb9f3a\"],[0.8888888888888888,\"#fdca26\"],[1.0,\"#f0f921\"]]}],\"contourcarpet\":[{\"type\":\"contourcarpet\",\"colorbar\":{\"outlinewidth\":0,\"ticks\":\"\"}}],\"contour\":[{\"type\":\"contour\",\"colorbar\":{\"outlinewidth\":0,\"ticks\":\"\"},\"colorscale\":[[0.0,\"#0d0887\"],[0.1111111111111111,\"#46039f\"],[0.2222222222222222,\"#7201a8\"],[0.3333333333333333,\"#9c179e\"],[0.4444444444444444,\"#bd3786\"],[0.5555555555555556,\"#d8576b\"],[0.6666666666666666,\"#ed7953\"],[0.7777777777777778,\"#fb9f3a\"],[0.8888888888888888,\"#fdca26\"],[1.0,\"#f0f921\"]]}],\"surface\":[{\"type\":\"surface\",\"colorbar\":{\"outlinewidth\":0,\"ticks\":\"\"},\"colorscale\":[[0.0,\"#0d0887\"],[0.1111111111111111,\"#46039f\"],[0.2222222222222222,\"#7201a8\"],[0.3333333333333333,\"#9c179e\"],[0.4444444444444444,\"#bd3786\"],[0.5555555555555556,\"#d8576b\"],[0.6666666666666666,\"#ed7953\"],[0.7777777777777778,\"#fb9f3a\"],[0.8888888888888888,\"#fdca26\"],[1.0,\"#f0f921\"]]}],\"mesh3d\":[{\"type\":\"mesh3d\",\"colorbar\":{\"outlinewidth\":0,\"ticks\":\"\"}}],\"scatter\":[{\"marker\":{\"line\":{\"color\":\"#283442\"}},\"type\":\"scatter\"}],\"parcoords\":[{\"type\":\"parcoords\",\"line\":{\"colorbar\":{\"outlinewidth\":0,\"ticks\":\"\"}}}],\"scatterpolargl\":[{\"type\":\"scatterpolargl\",\"marker\":{\"colorbar\":{\"outlinewidth\":0,\"ticks\":\"\"}}}],\"bar\":[{\"error_x\":{\"color\":\"#f2f5fa\"},\"error_y\":{\"color\":\"#f2f5fa\"},\"marker\":{\"line\":{\"color\":\"rgb(17,17,17)\",\"width\":0.5},\"pattern\":{\"fillmode\":\"overlay\",\"size\":10,\"solidity\":0.2}},\"type\":\"bar\"}],\"scattergeo\":[{\"type\":\"scattergeo\",\"marker\":{\"colorbar\":{\"outlinewidth\":0,\"ticks\":\"\"}}}],\"scatterpolar\":[{\"type\":\"scatterpolar\",\"marker\":{\"colorbar\":{\"outlinewidth\":0,\"ticks\":\"\"}}}],\"histogram\":[{\"marker\":{\"pattern\":{\"fillmode\":\"overlay\",\"size\":10,\"solidity\":0.2}},\"type\":\"histogram\"}],\"scattergl\":[{\"marker\":{\"line\":{\"color\":\"#283442\"}},\"type\":\"scattergl\"}],\"scatter3d\":[{\"type\":\"scatter3d\",\"line\":{\"colorbar\":{\"outlinewidth\":0,\"ticks\":\"\"}},\"marker\":{\"colorbar\":{\"outlinewidth\":0,\"ticks\":\"\"}}}],\"scattermapbox\":[{\"type\":\"scattermapbox\",\"marker\":{\"colorbar\":{\"outlinewidth\":0,\"ticks\":\"\"}}}],\"scatterternary\":[{\"type\":\"scatterternary\",\"marker\":{\"colorbar\":{\"outlinewidth\":0,\"ticks\":\"\"}}}],\"scattercarpet\":[{\"type\":\"scattercarpet\",\"marker\":{\"colorbar\":{\"outlinewidth\":0,\"ticks\":\"\"}}}],\"carpet\":[{\"aaxis\":{\"endlinecolor\":\"#A2B1C6\",\"gridcolor\":\"#506784\",\"linecolor\":\"#506784\",\"minorgridcolor\":\"#506784\",\"startlinecolor\":\"#A2B1C6\"},\"baxis\":{\"endlinecolor\":\"#A2B1C6\",\"gridcolor\":\"#506784\",\"linecolor\":\"#506784\",\"minorgridcolor\":\"#506784\",\"startlinecolor\":\"#A2B1C6\"},\"type\":\"carpet\"}],\"table\":[{\"cells\":{\"fill\":{\"color\":\"#506784\"},\"line\":{\"color\":\"rgb(17,17,17)\"}},\"header\":{\"fill\":{\"color\":\"#2a3f5f\"},\"line\":{\"color\":\"rgb(17,17,17)\"}},\"type\":\"table\"}],\"barpolar\":[{\"marker\":{\"line\":{\"color\":\"rgb(17,17,17)\",\"width\":0.5},\"pattern\":{\"fillmode\":\"overlay\",\"size\":10,\"solidity\":0.2}},\"type\":\"barpolar\"}],\"pie\":[{\"automargin\":true,\"type\":\"pie\"}]},\"layout\":{\"autotypenumbers\":\"strict\",\"colorway\":[\"#636efa\",\"#EF553B\",\"#00cc96\",\"#ab63fa\",\"#FFA15A\",\"#19d3f3\",\"#FF6692\",\"#B6E880\",\"#FF97FF\",\"#FECB52\"],\"font\":{\"color\":\"#f2f5fa\"},\"hovermode\":\"closest\",\"hoverlabel\":{\"align\":\"left\"},\"paper_bgcolor\":\"rgb(17,17,17)\",\"plot_bgcolor\":\"rgb(17,17,17)\",\"polar\":{\"bgcolor\":\"rgb(17,17,17)\",\"angularaxis\":{\"gridcolor\":\"#506784\",\"linecolor\":\"#506784\",\"ticks\":\"\"},\"radialaxis\":{\"gridcolor\":\"#506784\",\"linecolor\":\"#506784\",\"ticks\":\"\"}},\"ternary\":{\"bgcolor\":\"rgb(17,17,17)\",\"aaxis\":{\"gridcolor\":\"#506784\",\"linecolor\":\"#506784\",\"ticks\":\"\"},\"baxis\":{\"gridcolor\":\"#506784\",\"linecolor\":\"#506784\",\"ticks\":\"\"},\"caxis\":{\"gridcolor\":\"#506784\",\"linecolor\":\"#506784\",\"ticks\":\"\"}},\"coloraxis\":{\"colorbar\":{\"outlinewidth\":0,\"ticks\":\"\"}},\"colorscale\":{\"sequential\":[[0.0,\"#0d0887\"],[0.1111111111111111,\"#46039f\"],[0.2222222222222222,\"#7201a8\"],[0.3333333333333333,\"#9c179e\"],[0.4444444444444444,\"#bd3786\"],[0.5555555555555556,\"#d8576b\"],[0.6666666666666666,\"#ed7953\"],[0.7777777777777778,\"#fb9f3a\"],[0.8888888888888888,\"#fdca26\"],[1.0,\"#f0f921\"]],\"sequentialminus\":[[0.0,\"#0d0887\"],[0.1111111111111111,\"#46039f\"],[0.2222222222222222,\"#7201a8\"],[0.3333333333333333,\"#9c179e\"],[0.4444444444444444,\"#bd3786\"],[0.5555555555555556,\"#d8576b\"],[0.6666666666666666,\"#ed7953\"],[0.7777777777777778,\"#fb9f3a\"],[0.8888888888888888,\"#fdca26\"],[1.0,\"#f0f921\"]],\"diverging\":[[0,\"#8e0152\"],[0.1,\"#c51b7d\"],[0.2,\"#de77ae\"],[0.3,\"#f1b6da\"],[0.4,\"#fde0ef\"],[0.5,\"#f7f7f7\"],[0.6,\"#e6f5d0\"],[0.7,\"#b8e186\"],[0.8,\"#7fbc41\"],[0.9,\"#4d9221\"],[1,\"#276419\"]]},\"xaxis\":{\"gridcolor\":\"#283442\",\"linecolor\":\"#506784\",\"ticks\":\"\",\"title\":{\"standoff\":15},\"zerolinecolor\":\"#283442\",\"automargin\":true,\"zerolinewidth\":2},\"yaxis\":{\"gridcolor\":\"#283442\",\"linecolor\":\"#506784\",\"ticks\":\"\",\"title\":{\"standoff\":15},\"zerolinecolor\":\"#283442\",\"automargin\":true,\"zerolinewidth\":2},\"scene\":{\"xaxis\":{\"backgroundcolor\":\"rgb(17,17,17)\",\"gridcolor\":\"#506784\",\"linecolor\":\"#506784\",\"showbackground\":true,\"ticks\":\"\",\"zerolinecolor\":\"#C8D4E3\",\"gridwidth\":2},\"yaxis\":{\"backgroundcolor\":\"rgb(17,17,17)\",\"gridcolor\":\"#506784\",\"linecolor\":\"#506784\",\"showbackground\":true,\"ticks\":\"\",\"zerolinecolor\":\"#C8D4E3\",\"gridwidth\":2},\"zaxis\":{\"backgroundcolor\":\"rgb(17,17,17)\",\"gridcolor\":\"#506784\",\"linecolor\":\"#506784\",\"showbackground\":true,\"ticks\":\"\",\"zerolinecolor\":\"#C8D4E3\",\"gridwidth\":2}},\"shapedefaults\":{\"line\":{\"color\":\"#f2f5fa\"}},\"annotationdefaults\":{\"arrowcolor\":\"#f2f5fa\",\"arrowhead\":0,\"arrowwidth\":1},\"geo\":{\"bgcolor\":\"rgb(17,17,17)\",\"landcolor\":\"rgb(17,17,17)\",\"subunitcolor\":\"#506784\",\"showland\":true,\"showlakes\":true,\"lakecolor\":\"rgb(17,17,17)\"},\"title\":{\"x\":0.05},\"updatemenudefaults\":{\"bgcolor\":\"#506784\",\"borderwidth\":0},\"sliderdefaults\":{\"bgcolor\":\"#C8D4E3\",\"borderwidth\":1,\"bordercolor\":\"rgb(17,17,17)\",\"tickwidth\":0},\"mapbox\":{\"style\":\"dark\"}}},\"xaxis\":{\"anchor\":\"y\",\"domain\":[0.0,1.0],\"title\":{\"text\":\"x\"}},\"yaxis\":{\"anchor\":\"x\",\"domain\":[0.0,1.0],\"title\":{\"text\":\"y\"}},\"legend\":{\"tracegroupgap\":0},\"margin\":{\"t\":60}},                        {\"responsive\": true}                    ).then(function(){\n                            \nvar gd = document.getElementById('522068ed-ce2a-478b-9310-3ee92e30651b');\nvar x = new MutationObserver(function (mutations, observer) {{\n        var display = window.getComputedStyle(gd).display;\n        if (!display || display === 'none') {{\n            console.log([gd, 'removed!']);\n            Plotly.purge(gd);\n            observer.disconnect();\n        }}\n}});\n\n// Listen for the removal of the full notebook cells\nvar notebookContainer = gd.closest('#notebook-container');\nif (notebookContainer) {{\n    x.observe(notebookContainer, {childList: true});\n}}\n\n// Listen for the clearing of the current output cell\nvar outputEl = gd.closest('.output');\nif (outputEl) {{\n    x.observe(outputEl, {childList: true});\n}}\n\n                        })                };                });            </script>        </div>"
     },
     "metadata": {},
     "output_type": "display_data"
    },
    {
     "data": {
      "application/vnd.plotly.v1+json": {
       "data": [
        {
         "hovertemplate": "x=%{x}<br>y=%{y}<extra></extra>",
         "legendgroup": "",
         "line": {
          "color": "#636efa",
          "dash": "solid"
         },
         "marker": {
          "symbol": "circle"
         },
         "mode": "lines",
         "name": "",
         "orientation": "v",
         "showlegend": false,
         "x": [
          1489.670166015625,
          1488.5650634765625,
          1487.459716796875,
          1486.354248046875,
          1485.24853515625,
          1484.142578125,
          1483.0364990234375,
          1481.93017578125,
          1480.8236083984375,
          1479.7169189453125,
          1478.6099853515625,
          1477.5028076171875,
          1476.3955078125,
          1475.2879638671875,
          1474.1802978515625,
          1473.0723876953125,
          1471.9642333984375,
          1470.8558349609375,
          1469.747314453125,
          1468.638671875,
          1467.5296630859375,
          1466.4205322265625,
          1465.311279296875,
          1464.20166015625,
          1463.0919189453125,
          1461.9820556640625,
          1460.8719482421875,
          1459.7615966796875,
          1458.6510009765625,
          1457.540283203125,
          1456.4293212890625,
          1455.3182373046875,
          1454.2069091796875,
          1453.0953369140625,
          1451.983642578125,
          1450.8717041015625,
          1449.759521484375,
          1448.647216796875,
          1447.53466796875,
          1446.421875,
          1445.3089599609375,
          1444.19580078125,
          1443.0823974609375,
          1441.9688720703125,
          1440.8551025390625,
          1439.7410888671875,
          1438.626953125,
          1437.5125732421875,
          1436.3980712890625,
          1435.2833251953125,
          1434.1683349609375,
          1433.0531005859375,
          1431.937744140625,
          1430.8221435546875,
          1429.7064208984375,
          1428.5904541015625,
          1427.4742431640625,
          1426.35791015625,
          1425.2412109375,
          1424.12451171875,
          1423.0074462890625,
          1421.8902587890625,
          1420.7728271484375,
          1419.6552734375,
          1418.5374755859375,
          1417.41943359375,
          1416.30126953125,
          1415.182861328125,
          1414.064208984375,
          1412.9454345703125,
          1411.826416015625,
          1410.7071533203125,
          1409.587646484375,
          1408.468017578125,
          1407.3482666015625,
          1406.2281494140625,
          1405.10791015625,
          1403.9874267578125,
          1402.8668212890625,
          1401.7459716796875,
          1400.6248779296875,
          1399.503662109375,
          1398.3822021484375,
          1397.260498046875,
          1396.1385498046875,
          1395.0164794921875,
          1393.894287109375,
          1392.771728515625,
          1391.6490478515625,
          1390.526123046875,
          1389.403076171875,
          1388.2796630859375,
          1387.15625,
          1386.032470703125,
          1384.9085693359375,
          1383.784423828125,
          1382.6600341796875,
          1381.5355224609375,
          1380.4107666015625,
          1379.2857666015625,
          1378.16064453125,
          1377.0352783203125,
          1375.90966796875,
          1374.783935546875,
          1373.657958984375,
          1372.53173828125,
          1371.4053955078125,
          1370.27880859375,
          1369.1519775390625,
          1368.02490234375,
          1366.897705078125,
          1365.770263671875,
          1364.6427001953125,
          1363.5147705078125,
          1362.38671875,
          1361.258544921875,
          1360.1300048828125,
          1359.0013427734375,
          1357.87255859375,
          1356.743408203125,
          1355.6141357421875,
          1354.484619140625,
          1353.35498046875,
          1352.22509765625,
          1351.094970703125,
          1349.964599609375,
          1348.8341064453125,
          1347.703369140625,
          1346.5723876953125,
          1345.441162109375,
          1344.309814453125,
          1343.17822265625,
          1342.0465087890625,
          1340.91455078125,
          1339.7823486328125,
          1338.64990234375,
          1337.517333984375,
          1336.384521484375,
          1335.25146484375,
          1334.1181640625,
          1332.9847412109375,
          1331.85107421875,
          1330.7171630859375,
          1329.5831298828125,
          1328.4488525390625,
          1327.3143310546875,
          1326.1796875,
          1325.0447998046875,
          1323.90966796875,
          1322.7742919921875,
          1321.6387939453125,
          1320.5029296875,
          1319.3670654296875,
          1318.2308349609375,
          1317.094482421875,
          1315.9578857421875,
          1314.821044921875,
          1313.68408203125,
          1312.546875,
          1311.409423828125,
          1310.271728515625,
          1309.1339111328125,
          1307.995849609375,
          1306.8575439453125,
          1305.718994140625,
          1304.580322265625,
          1303.44140625,
          1302.3023681640625,
          1301.1629638671875,
          1300.0234375,
          1298.8836669921875,
          1297.74365234375,
          1296.603515625,
          1295.463134765625,
          1294.322509765625,
          1293.181640625,
          1292.0406494140625,
          1290.8994140625,
          1289.7579345703125,
          1288.6163330078125,
          1287.474365234375,
          1286.332275390625,
          1285.1900634765625,
          1284.0474853515625,
          1282.90478515625,
          1281.7618408203125,
          1280.61865234375,
          1279.475341796875,
          1278.3316650390625,
          1277.1878662109375,
          1276.0439453125,
          1274.899658203125,
          1273.7552490234375,
          1272.610595703125,
          1271.4656982421875,
          1270.3206787109375,
          1269.17529296875,
          1268.02978515625,
          1266.8841552734375
         ],
         "xaxis": "x",
         "y": [
          -0.006926095081520979,
          -0.0069485541327759266,
          -0.006944912698876886,
          -0.006921751476882755,
          -0.00682063646105114,
          -0.006903925815871272,
          -0.006837103030223817,
          -0.006821085642616618,
          -0.006823625686852391,
          -0.006828795391248931,
          -0.006788315629666468,
          -0.006788900292766867,
          -0.0068140749773872005,
          -0.006712691289950222,
          -0.006760442562983435,
          -0.006748117303286219,
          -0.00673501867861266,
          -0.0066613893513832,
          -0.006694064790952795,
          -0.006674380566780743,
          -0.00676759137817897,
          -0.006761867739732664,
          -0.006670665505299564,
          -0.006779411169522026,
          -0.0067886425437096035,
          -0.006753850063151766,
          -0.006776340993417509,
          -0.00676050703875889,
          -0.006755092524609833,
          -0.006719555781887551,
          -0.00672729518756153,
          -0.006688307468331483,
          -0.006657632440180952,
          -0.0067594864729793504,
          -0.006743889016975053,
          -0.006746046633590288,
          -0.006734679337076491,
          -0.006681025243771656,
          -0.006610182905529056,
          -0.0067070687892145054,
          -0.006571503024561392,
          -0.006595772090665407,
          -0.006573690145036062,
          -0.006601189310326118,
          -0.006673806003017889,
          -0.006612526970942675,
          -0.006604457217683048,
          -0.00662874949277754,
          -0.0065877084614573665,
          -0.006595001674854173,
          -0.006490683981500542,
          -0.006540022010887371,
          -0.0064619244288426116,
          -0.0065182102149635495,
          -0.0064894575465232985,
          -0.00647683642264272,
          -0.006412187120866102,
          -0.006348083810338785,
          -0.006380663874000706,
          -0.006416873734640233,
          -0.006334065424797876,
          -0.006192446930410361,
          -0.006323457203554096,
          -0.006335770555636692,
          -0.006222887365598698,
          -0.006141600074004446,
          -0.006184044765764011,
          -0.00609749099888418,
          -0.0060515870598130145,
          -0.005955790708262689,
          -0.005907440809590473,
          -0.005771997238872717,
          -0.005765948196187057,
          -0.005560550517059882,
          -0.005591595649540624,
          -0.00541188293291594,
          -0.005360958360666276,
          -0.0052349149361705285,
          -0.005059045444841182,
          -0.004516476831369605,
          -0.004111311762925007,
          -0.0034198894332132163,
          -0.0023730044329086336,
          -0.0011172077845569808,
          -8.461058869111298E-4,
          -0.003881192356013359,
          -0.011751077009919434,
          -0.015768038482579225,
          -0.006909407488659766,
          -3.870988304081415E-6,
          -1.8973501437293268E-4,
          -0.002608214692980673,
          -0.004396149575258457,
          -0.0052735034795308375,
          -0.005567129637610599,
          -0.00573166112037575,
          -0.005794470009919972,
          -0.005995606329959433,
          -0.006108332560289156,
          -0.006026408933499012,
          -0.006258530991616319,
          -0.006396788966042273,
          -0.00646936060577781,
          -0.006504396927068225,
          -0.006618651213187244,
          -0.006751823727286231,
          -0.006777479827990916,
          -0.006797747486777998,
          -0.006579402657274372,
          -0.006377481235358594,
          -0.006004309946963791,
          -0.005428575831193806,
          -0.004707583683838436,
          -0.0038828149929445886,
          -0.00302814972919238,
          -0.0021948307296281214,
          -0.001416957478741843,
          -4.8485381047816856E-4,
          2.697940309809242E-4,
          0.0011032207316321449,
          0.0019987494278963167,
          0.0027820577628921922,
          0.003620638884286853,
          0.004371330847654973,
          0.004998080356635357,
          0.005651618442160835,
          0.0062183808271530925,
          0.006586977844964011,
          0.006984552012502644,
          0.007201924907515912,
          0.0071931787692423215,
          0.0069848823895179435,
          0.006738576241058735,
          0.00629088765875332,
          0.005658478689481039,
          0.005162409279292631,
          0.004546180822365857,
          0.003886141954328697,
          0.003201068767634084,
          0.002436711521352583,
          0.0020258807537038115,
          0.0013369688128686032,
          8.135236050550852E-4,
          3.3204016729023204E-4,
          -1.751039202850412E-4,
          -5.21816871845892E-4,
          -8.944301571415029E-4,
          -0.0012938697631602418,
          -0.001558900091719153,
          -0.0018330712115235878,
          -0.0021207330768511015,
          -0.002394954302631042,
          -0.0026353851301803718,
          -0.0027748299590298346,
          -0.003061872458135997,
          -0.0031895839315760647,
          -0.003246375357157357,
          -0.003497376985057396,
          -0.003597688846858935,
          -0.003665081983342072,
          -0.003821736853728277,
          -0.0038667162812785474,
          -0.0041012146641731684,
          -0.004090743273087912,
          -0.004318008061080289,
          -0.00430362109602099,
          -0.004406606904249811,
          -0.004463508037992485,
          -0.004452171592003997,
          -0.004465349786530566,
          -0.004587781129067656,
          -0.0047096724619978495,
          -0.004730169274257556,
          -0.004744182189915738,
          -0.004879382646604884,
          -0.004781203176126386,
          -0.004851592975075851,
          -0.004885296701515009,
          -0.004983944197906136,
          -0.004877175939588894,
          -0.004918176524214223,
          -0.004946776434942987,
          -0.004940251388721778,
          -0.005036460921757222,
          -0.005077845054544516,
          -0.005011648345508049,
          -0.005073932121278291,
          -0.005127823303728988,
          -0.005032016655615524,
          -0.00509012642908192,
          -0.005072554549993039,
          -0.005104522406572792,
          -0.005125640505839017,
          -0.0051696703079003896,
          -0.005095415083181719,
          -0.005175842117280499,
          -0.005195316041646047,
          -0.005192543170295942,
          -0.005228748314104976
         ],
         "yaxis": "y",
         "type": "scatter"
        }
       ],
       "layout": {
        "template": {
         "data": {
          "histogram2dcontour": [
           {
            "type": "histogram2dcontour",
            "colorbar": {
             "outlinewidth": 0,
             "ticks": ""
            },
            "colorscale": [
             [
              0.0,
              "#0d0887"
             ],
             [
              0.1111111111111111,
              "#46039f"
             ],
             [
              0.2222222222222222,
              "#7201a8"
             ],
             [
              0.3333333333333333,
              "#9c179e"
             ],
             [
              0.4444444444444444,
              "#bd3786"
             ],
             [
              0.5555555555555556,
              "#d8576b"
             ],
             [
              0.6666666666666666,
              "#ed7953"
             ],
             [
              0.7777777777777778,
              "#fb9f3a"
             ],
             [
              0.8888888888888888,
              "#fdca26"
             ],
             [
              1.0,
              "#f0f921"
             ]
            ]
           }
          ],
          "choropleth": [
           {
            "type": "choropleth",
            "colorbar": {
             "outlinewidth": 0,
             "ticks": ""
            }
           }
          ],
          "histogram2d": [
           {
            "type": "histogram2d",
            "colorbar": {
             "outlinewidth": 0,
             "ticks": ""
            },
            "colorscale": [
             [
              0.0,
              "#0d0887"
             ],
             [
              0.1111111111111111,
              "#46039f"
             ],
             [
              0.2222222222222222,
              "#7201a8"
             ],
             [
              0.3333333333333333,
              "#9c179e"
             ],
             [
              0.4444444444444444,
              "#bd3786"
             ],
             [
              0.5555555555555556,
              "#d8576b"
             ],
             [
              0.6666666666666666,
              "#ed7953"
             ],
             [
              0.7777777777777778,
              "#fb9f3a"
             ],
             [
              0.8888888888888888,
              "#fdca26"
             ],
             [
              1.0,
              "#f0f921"
             ]
            ]
           }
          ],
          "heatmap": [
           {
            "type": "heatmap",
            "colorbar": {
             "outlinewidth": 0,
             "ticks": ""
            },
            "colorscale": [
             [
              0.0,
              "#0d0887"
             ],
             [
              0.1111111111111111,
              "#46039f"
             ],
             [
              0.2222222222222222,
              "#7201a8"
             ],
             [
              0.3333333333333333,
              "#9c179e"
             ],
             [
              0.4444444444444444,
              "#bd3786"
             ],
             [
              0.5555555555555556,
              "#d8576b"
             ],
             [
              0.6666666666666666,
              "#ed7953"
             ],
             [
              0.7777777777777778,
              "#fb9f3a"
             ],
             [
              0.8888888888888888,
              "#fdca26"
             ],
             [
              1.0,
              "#f0f921"
             ]
            ]
           }
          ],
          "heatmapgl": [
           {
            "type": "heatmapgl",
            "colorbar": {
             "outlinewidth": 0,
             "ticks": ""
            },
            "colorscale": [
             [
              0.0,
              "#0d0887"
             ],
             [
              0.1111111111111111,
              "#46039f"
             ],
             [
              0.2222222222222222,
              "#7201a8"
             ],
             [
              0.3333333333333333,
              "#9c179e"
             ],
             [
              0.4444444444444444,
              "#bd3786"
             ],
             [
              0.5555555555555556,
              "#d8576b"
             ],
             [
              0.6666666666666666,
              "#ed7953"
             ],
             [
              0.7777777777777778,
              "#fb9f3a"
             ],
             [
              0.8888888888888888,
              "#fdca26"
             ],
             [
              1.0,
              "#f0f921"
             ]
            ]
           }
          ],
          "contourcarpet": [
           {
            "type": "contourcarpet",
            "colorbar": {
             "outlinewidth": 0,
             "ticks": ""
            }
           }
          ],
          "contour": [
           {
            "type": "contour",
            "colorbar": {
             "outlinewidth": 0,
             "ticks": ""
            },
            "colorscale": [
             [
              0.0,
              "#0d0887"
             ],
             [
              0.1111111111111111,
              "#46039f"
             ],
             [
              0.2222222222222222,
              "#7201a8"
             ],
             [
              0.3333333333333333,
              "#9c179e"
             ],
             [
              0.4444444444444444,
              "#bd3786"
             ],
             [
              0.5555555555555556,
              "#d8576b"
             ],
             [
              0.6666666666666666,
              "#ed7953"
             ],
             [
              0.7777777777777778,
              "#fb9f3a"
             ],
             [
              0.8888888888888888,
              "#fdca26"
             ],
             [
              1.0,
              "#f0f921"
             ]
            ]
           }
          ],
          "surface": [
           {
            "type": "surface",
            "colorbar": {
             "outlinewidth": 0,
             "ticks": ""
            },
            "colorscale": [
             [
              0.0,
              "#0d0887"
             ],
             [
              0.1111111111111111,
              "#46039f"
             ],
             [
              0.2222222222222222,
              "#7201a8"
             ],
             [
              0.3333333333333333,
              "#9c179e"
             ],
             [
              0.4444444444444444,
              "#bd3786"
             ],
             [
              0.5555555555555556,
              "#d8576b"
             ],
             [
              0.6666666666666666,
              "#ed7953"
             ],
             [
              0.7777777777777778,
              "#fb9f3a"
             ],
             [
              0.8888888888888888,
              "#fdca26"
             ],
             [
              1.0,
              "#f0f921"
             ]
            ]
           }
          ],
          "mesh3d": [
           {
            "type": "mesh3d",
            "colorbar": {
             "outlinewidth": 0,
             "ticks": ""
            }
           }
          ],
          "scatter": [
           {
            "marker": {
             "line": {
              "color": "#283442"
             }
            },
            "type": "scatter"
           }
          ],
          "parcoords": [
           {
            "type": "parcoords",
            "line": {
             "colorbar": {
              "outlinewidth": 0,
              "ticks": ""
             }
            }
           }
          ],
          "scatterpolargl": [
           {
            "type": "scatterpolargl",
            "marker": {
             "colorbar": {
              "outlinewidth": 0,
              "ticks": ""
             }
            }
           }
          ],
          "bar": [
           {
            "error_x": {
             "color": "#f2f5fa"
            },
            "error_y": {
             "color": "#f2f5fa"
            },
            "marker": {
             "line": {
              "color": "rgb(17,17,17)",
              "width": 0.5
             },
             "pattern": {
              "fillmode": "overlay",
              "size": 10,
              "solidity": 0.2
             }
            },
            "type": "bar"
           }
          ],
          "scattergeo": [
           {
            "type": "scattergeo",
            "marker": {
             "colorbar": {
              "outlinewidth": 0,
              "ticks": ""
             }
            }
           }
          ],
          "scatterpolar": [
           {
            "type": "scatterpolar",
            "marker": {
             "colorbar": {
              "outlinewidth": 0,
              "ticks": ""
             }
            }
           }
          ],
          "histogram": [
           {
            "marker": {
             "pattern": {
              "fillmode": "overlay",
              "size": 10,
              "solidity": 0.2
             }
            },
            "type": "histogram"
           }
          ],
          "scattergl": [
           {
            "marker": {
             "line": {
              "color": "#283442"
             }
            },
            "type": "scattergl"
           }
          ],
          "scatter3d": [
           {
            "type": "scatter3d",
            "line": {
             "colorbar": {
              "outlinewidth": 0,
              "ticks": ""
             }
            },
            "marker": {
             "colorbar": {
              "outlinewidth": 0,
              "ticks": ""
             }
            }
           }
          ],
          "scattermapbox": [
           {
            "type": "scattermapbox",
            "marker": {
             "colorbar": {
              "outlinewidth": 0,
              "ticks": ""
             }
            }
           }
          ],
          "scatterternary": [
           {
            "type": "scatterternary",
            "marker": {
             "colorbar": {
              "outlinewidth": 0,
              "ticks": ""
             }
            }
           }
          ],
          "scattercarpet": [
           {
            "type": "scattercarpet",
            "marker": {
             "colorbar": {
              "outlinewidth": 0,
              "ticks": ""
             }
            }
           }
          ],
          "carpet": [
           {
            "aaxis": {
             "endlinecolor": "#A2B1C6",
             "gridcolor": "#506784",
             "linecolor": "#506784",
             "minorgridcolor": "#506784",
             "startlinecolor": "#A2B1C6"
            },
            "baxis": {
             "endlinecolor": "#A2B1C6",
             "gridcolor": "#506784",
             "linecolor": "#506784",
             "minorgridcolor": "#506784",
             "startlinecolor": "#A2B1C6"
            },
            "type": "carpet"
           }
          ],
          "table": [
           {
            "cells": {
             "fill": {
              "color": "#506784"
             },
             "line": {
              "color": "rgb(17,17,17)"
             }
            },
            "header": {
             "fill": {
              "color": "#2a3f5f"
             },
             "line": {
              "color": "rgb(17,17,17)"
             }
            },
            "type": "table"
           }
          ],
          "barpolar": [
           {
            "marker": {
             "line": {
              "color": "rgb(17,17,17)",
              "width": 0.5
             },
             "pattern": {
              "fillmode": "overlay",
              "size": 10,
              "solidity": 0.2
             }
            },
            "type": "barpolar"
           }
          ],
          "pie": [
           {
            "automargin": true,
            "type": "pie"
           }
          ]
         },
         "layout": {
          "autotypenumbers": "strict",
          "colorway": [
           "#636efa",
           "#EF553B",
           "#00cc96",
           "#ab63fa",
           "#FFA15A",
           "#19d3f3",
           "#FF6692",
           "#B6E880",
           "#FF97FF",
           "#FECB52"
          ],
          "font": {
           "color": "#f2f5fa"
          },
          "hovermode": "closest",
          "hoverlabel": {
           "align": "left"
          },
          "paper_bgcolor": "rgb(17,17,17)",
          "plot_bgcolor": "rgb(17,17,17)",
          "polar": {
           "bgcolor": "rgb(17,17,17)",
           "angularaxis": {
            "gridcolor": "#506784",
            "linecolor": "#506784",
            "ticks": ""
           },
           "radialaxis": {
            "gridcolor": "#506784",
            "linecolor": "#506784",
            "ticks": ""
           }
          },
          "ternary": {
           "bgcolor": "rgb(17,17,17)",
           "aaxis": {
            "gridcolor": "#506784",
            "linecolor": "#506784",
            "ticks": ""
           },
           "baxis": {
            "gridcolor": "#506784",
            "linecolor": "#506784",
            "ticks": ""
           },
           "caxis": {
            "gridcolor": "#506784",
            "linecolor": "#506784",
            "ticks": ""
           }
          },
          "coloraxis": {
           "colorbar": {
            "outlinewidth": 0,
            "ticks": ""
           }
          },
          "colorscale": {
           "sequential": [
            [
             0.0,
             "#0d0887"
            ],
            [
             0.1111111111111111,
             "#46039f"
            ],
            [
             0.2222222222222222,
             "#7201a8"
            ],
            [
             0.3333333333333333,
             "#9c179e"
            ],
            [
             0.4444444444444444,
             "#bd3786"
            ],
            [
             0.5555555555555556,
             "#d8576b"
            ],
            [
             0.6666666666666666,
             "#ed7953"
            ],
            [
             0.7777777777777778,
             "#fb9f3a"
            ],
            [
             0.8888888888888888,
             "#fdca26"
            ],
            [
             1.0,
             "#f0f921"
            ]
           ],
           "sequentialminus": [
            [
             0.0,
             "#0d0887"
            ],
            [
             0.1111111111111111,
             "#46039f"
            ],
            [
             0.2222222222222222,
             "#7201a8"
            ],
            [
             0.3333333333333333,
             "#9c179e"
            ],
            [
             0.4444444444444444,
             "#bd3786"
            ],
            [
             0.5555555555555556,
             "#d8576b"
            ],
            [
             0.6666666666666666,
             "#ed7953"
            ],
            [
             0.7777777777777778,
             "#fb9f3a"
            ],
            [
             0.8888888888888888,
             "#fdca26"
            ],
            [
             1.0,
             "#f0f921"
            ]
           ],
           "diverging": [
            [
             0,
             "#8e0152"
            ],
            [
             0.1,
             "#c51b7d"
            ],
            [
             0.2,
             "#de77ae"
            ],
            [
             0.3,
             "#f1b6da"
            ],
            [
             0.4,
             "#fde0ef"
            ],
            [
             0.5,
             "#f7f7f7"
            ],
            [
             0.6,
             "#e6f5d0"
            ],
            [
             0.7,
             "#b8e186"
            ],
            [
             0.8,
             "#7fbc41"
            ],
            [
             0.9,
             "#4d9221"
            ],
            [
             1,
             "#276419"
            ]
           ]
          },
          "xaxis": {
           "gridcolor": "#283442",
           "linecolor": "#506784",
           "ticks": "",
           "title": {
            "standoff": 15
           },
           "zerolinecolor": "#283442",
           "automargin": true,
           "zerolinewidth": 2
          },
          "yaxis": {
           "gridcolor": "#283442",
           "linecolor": "#506784",
           "ticks": "",
           "title": {
            "standoff": 15
           },
           "zerolinecolor": "#283442",
           "automargin": true,
           "zerolinewidth": 2
          },
          "scene": {
           "xaxis": {
            "backgroundcolor": "rgb(17,17,17)",
            "gridcolor": "#506784",
            "linecolor": "#506784",
            "showbackground": true,
            "ticks": "",
            "zerolinecolor": "#C8D4E3",
            "gridwidth": 2
           },
           "yaxis": {
            "backgroundcolor": "rgb(17,17,17)",
            "gridcolor": "#506784",
            "linecolor": "#506784",
            "showbackground": true,
            "ticks": "",
            "zerolinecolor": "#C8D4E3",
            "gridwidth": 2
           },
           "zaxis": {
            "backgroundcolor": "rgb(17,17,17)",
            "gridcolor": "#506784",
            "linecolor": "#506784",
            "showbackground": true,
            "ticks": "",
            "zerolinecolor": "#C8D4E3",
            "gridwidth": 2
           }
          },
          "shapedefaults": {
           "line": {
            "color": "#f2f5fa"
           }
          },
          "annotationdefaults": {
           "arrowcolor": "#f2f5fa",
           "arrowhead": 0,
           "arrowwidth": 1
          },
          "geo": {
           "bgcolor": "rgb(17,17,17)",
           "landcolor": "rgb(17,17,17)",
           "subunitcolor": "#506784",
           "showland": true,
           "showlakes": true,
           "lakecolor": "rgb(17,17,17)"
          },
          "title": {
           "x": 0.05
          },
          "updatemenudefaults": {
           "bgcolor": "#506784",
           "borderwidth": 0
          },
          "sliderdefaults": {
           "bgcolor": "#C8D4E3",
           "borderwidth": 1,
           "bordercolor": "rgb(17,17,17)",
           "tickwidth": 0
          },
          "mapbox": {
           "style": "dark"
          }
         }
        },
        "xaxis": {
         "anchor": "y",
         "domain": [
          0.0,
          1.0
         ],
         "title": {
          "text": "x"
         }
        },
        "yaxis": {
         "anchor": "x",
         "domain": [
          0.0,
          1.0
         ],
         "title": {
          "text": "y"
         }
        },
        "legend": {
         "tracegroupgap": 0
        },
        "margin": {
         "t": 60
        }
       },
       "config": {
        "plotlyServerURL": "https://plot.ly"
       }
      },
      "text/html": "<div>                            <div id=\"4a09ff06-54db-4c0b-b725-5976b7243a2c\" class=\"plotly-graph-div\" style=\"height:525px; width:100%;\"></div>            <script type=\"text/javascript\">                require([\"plotly\"], function(Plotly) {                    window.PLOTLYENV=window.PLOTLYENV || {};                                    if (document.getElementById(\"4a09ff06-54db-4c0b-b725-5976b7243a2c\")) {                    Plotly.newPlot(                        \"4a09ff06-54db-4c0b-b725-5976b7243a2c\",                        [{\"hovertemplate\":\"x=%{x}\\u003cbr\\u003ey=%{y}\\u003cextra\\u003e\\u003c\\u002fextra\\u003e\",\"legendgroup\":\"\",\"line\":{\"color\":\"#636efa\",\"dash\":\"solid\"},\"marker\":{\"symbol\":\"circle\"},\"mode\":\"lines\",\"name\":\"\",\"orientation\":\"v\",\"showlegend\":false,\"x\":[1489.670166015625,1488.5650634765625,1487.459716796875,1486.354248046875,1485.24853515625,1484.142578125,1483.0364990234375,1481.93017578125,1480.8236083984375,1479.7169189453125,1478.6099853515625,1477.5028076171875,1476.3955078125,1475.2879638671875,1474.1802978515625,1473.0723876953125,1471.9642333984375,1470.8558349609375,1469.747314453125,1468.638671875,1467.5296630859375,1466.4205322265625,1465.311279296875,1464.20166015625,1463.0919189453125,1461.9820556640625,1460.8719482421875,1459.7615966796875,1458.6510009765625,1457.540283203125,1456.4293212890625,1455.3182373046875,1454.2069091796875,1453.0953369140625,1451.983642578125,1450.8717041015625,1449.759521484375,1448.647216796875,1447.53466796875,1446.421875,1445.3089599609375,1444.19580078125,1443.0823974609375,1441.9688720703125,1440.8551025390625,1439.7410888671875,1438.626953125,1437.5125732421875,1436.3980712890625,1435.2833251953125,1434.1683349609375,1433.0531005859375,1431.937744140625,1430.8221435546875,1429.7064208984375,1428.5904541015625,1427.4742431640625,1426.35791015625,1425.2412109375,1424.12451171875,1423.0074462890625,1421.8902587890625,1420.7728271484375,1419.6552734375,1418.5374755859375,1417.41943359375,1416.30126953125,1415.182861328125,1414.064208984375,1412.9454345703125,1411.826416015625,1410.7071533203125,1409.587646484375,1408.468017578125,1407.3482666015625,1406.2281494140625,1405.10791015625,1403.9874267578125,1402.8668212890625,1401.7459716796875,1400.6248779296875,1399.503662109375,1398.3822021484375,1397.260498046875,1396.1385498046875,1395.0164794921875,1393.894287109375,1392.771728515625,1391.6490478515625,1390.526123046875,1389.403076171875,1388.2796630859375,1387.15625,1386.032470703125,1384.9085693359375,1383.784423828125,1382.6600341796875,1381.5355224609375,1380.4107666015625,1379.2857666015625,1378.16064453125,1377.0352783203125,1375.90966796875,1374.783935546875,1373.657958984375,1372.53173828125,1371.4053955078125,1370.27880859375,1369.1519775390625,1368.02490234375,1366.897705078125,1365.770263671875,1364.6427001953125,1363.5147705078125,1362.38671875,1361.258544921875,1360.1300048828125,1359.0013427734375,1357.87255859375,1356.743408203125,1355.6141357421875,1354.484619140625,1353.35498046875,1352.22509765625,1351.094970703125,1349.964599609375,1348.8341064453125,1347.703369140625,1346.5723876953125,1345.441162109375,1344.309814453125,1343.17822265625,1342.0465087890625,1340.91455078125,1339.7823486328125,1338.64990234375,1337.517333984375,1336.384521484375,1335.25146484375,1334.1181640625,1332.9847412109375,1331.85107421875,1330.7171630859375,1329.5831298828125,1328.4488525390625,1327.3143310546875,1326.1796875,1325.0447998046875,1323.90966796875,1322.7742919921875,1321.6387939453125,1320.5029296875,1319.3670654296875,1318.2308349609375,1317.094482421875,1315.9578857421875,1314.821044921875,1313.68408203125,1312.546875,1311.409423828125,1310.271728515625,1309.1339111328125,1307.995849609375,1306.8575439453125,1305.718994140625,1304.580322265625,1303.44140625,1302.3023681640625,1301.1629638671875,1300.0234375,1298.8836669921875,1297.74365234375,1296.603515625,1295.463134765625,1294.322509765625,1293.181640625,1292.0406494140625,1290.8994140625,1289.7579345703125,1288.6163330078125,1287.474365234375,1286.332275390625,1285.1900634765625,1284.0474853515625,1282.90478515625,1281.7618408203125,1280.61865234375,1279.475341796875,1278.3316650390625,1277.1878662109375,1276.0439453125,1274.899658203125,1273.7552490234375,1272.610595703125,1271.4656982421875,1270.3206787109375,1269.17529296875,1268.02978515625,1266.8841552734375],\"xaxis\":\"x\",\"y\":[-0.006926095081520979,-0.0069485541327759266,-0.006944912698876886,-0.006921751476882755,-0.00682063646105114,-0.006903925815871272,-0.006837103030223817,-0.006821085642616618,-0.006823625686852391,-0.006828795391248931,-0.006788315629666468,-0.006788900292766867,-0.0068140749773872005,-0.006712691289950222,-0.006760442562983435,-0.006748117303286219,-0.00673501867861266,-0.0066613893513832,-0.006694064790952795,-0.006674380566780743,-0.00676759137817897,-0.006761867739732664,-0.006670665505299564,-0.006779411169522026,-0.0067886425437096035,-0.006753850063151766,-0.006776340993417509,-0.00676050703875889,-0.006755092524609833,-0.006719555781887551,-0.00672729518756153,-0.006688307468331483,-0.006657632440180952,-0.0067594864729793504,-0.006743889016975053,-0.006746046633590288,-0.006734679337076491,-0.006681025243771656,-0.006610182905529056,-0.0067070687892145054,-0.006571503024561392,-0.006595772090665407,-0.006573690145036062,-0.006601189310326118,-0.006673806003017889,-0.006612526970942675,-0.006604457217683048,-0.00662874949277754,-0.0065877084614573665,-0.006595001674854173,-0.006490683981500542,-0.006540022010887371,-0.0064619244288426116,-0.0065182102149635495,-0.0064894575465232985,-0.00647683642264272,-0.006412187120866102,-0.006348083810338785,-0.006380663874000706,-0.006416873734640233,-0.006334065424797876,-0.006192446930410361,-0.006323457203554096,-0.006335770555636692,-0.006222887365598698,-0.006141600074004446,-0.006184044765764011,-0.00609749099888418,-0.0060515870598130145,-0.005955790708262689,-0.005907440809590473,-0.005771997238872717,-0.005765948196187057,-0.005560550517059882,-0.005591595649540624,-0.00541188293291594,-0.005360958360666276,-0.0052349149361705285,-0.005059045444841182,-0.004516476831369605,-0.004111311762925007,-0.0034198894332132163,-0.0023730044329086336,-0.0011172077845569808,-0.0008461058869111298,-0.003881192356013359,-0.011751077009919434,-0.015768038482579225,-0.006909407488659766,-3.870988304081415e-06,-0.00018973501437293268,-0.002608214692980673,-0.004396149575258457,-0.0052735034795308375,-0.005567129637610599,-0.00573166112037575,-0.005794470009919972,-0.005995606329959433,-0.006108332560289156,-0.006026408933499012,-0.006258530991616319,-0.006396788966042273,-0.00646936060577781,-0.006504396927068225,-0.006618651213187244,-0.006751823727286231,-0.006777479827990916,-0.006797747486777998,-0.006579402657274372,-0.006377481235358594,-0.006004309946963791,-0.005428575831193806,-0.004707583683838436,-0.0038828149929445886,-0.00302814972919238,-0.0021948307296281214,-0.001416957478741843,-0.00048485381047816856,0.0002697940309809242,0.0011032207316321449,0.0019987494278963167,0.0027820577628921922,0.003620638884286853,0.004371330847654973,0.004998080356635357,0.005651618442160835,0.0062183808271530925,0.006586977844964011,0.006984552012502644,0.007201924907515912,0.0071931787692423215,0.0069848823895179435,0.006738576241058735,0.00629088765875332,0.005658478689481039,0.005162409279292631,0.004546180822365857,0.003886141954328697,0.003201068767634084,0.002436711521352583,0.0020258807537038115,0.0013369688128686032,0.0008135236050550852,0.00033204016729023204,-0.0001751039202850412,-0.000521816871845892,-0.0008944301571415029,-0.0012938697631602418,-0.001558900091719153,-0.0018330712115235878,-0.0021207330768511015,-0.002394954302631042,-0.0026353851301803718,-0.0027748299590298346,-0.003061872458135997,-0.0031895839315760647,-0.003246375357157357,-0.003497376985057396,-0.003597688846858935,-0.003665081983342072,-0.003821736853728277,-0.0038667162812785474,-0.0041012146641731684,-0.004090743273087912,-0.004318008061080289,-0.00430362109602099,-0.004406606904249811,-0.004463508037992485,-0.004452171592003997,-0.004465349786530566,-0.004587781129067656,-0.0047096724619978495,-0.004730169274257556,-0.004744182189915738,-0.004879382646604884,-0.004781203176126386,-0.004851592975075851,-0.004885296701515009,-0.004983944197906136,-0.004877175939588894,-0.004918176524214223,-0.004946776434942987,-0.004940251388721778,-0.005036460921757222,-0.005077845054544516,-0.005011648345508049,-0.005073932121278291,-0.005127823303728988,-0.005032016655615524,-0.00509012642908192,-0.005072554549993039,-0.005104522406572792,-0.005125640505839017,-0.0051696703079003896,-0.005095415083181719,-0.005175842117280499,-0.005195316041646047,-0.005192543170295942,-0.005228748314104976],\"yaxis\":\"y\",\"type\":\"scatter\"}],                        {\"template\":{\"data\":{\"histogram2dcontour\":[{\"type\":\"histogram2dcontour\",\"colorbar\":{\"outlinewidth\":0,\"ticks\":\"\"},\"colorscale\":[[0.0,\"#0d0887\"],[0.1111111111111111,\"#46039f\"],[0.2222222222222222,\"#7201a8\"],[0.3333333333333333,\"#9c179e\"],[0.4444444444444444,\"#bd3786\"],[0.5555555555555556,\"#d8576b\"],[0.6666666666666666,\"#ed7953\"],[0.7777777777777778,\"#fb9f3a\"],[0.8888888888888888,\"#fdca26\"],[1.0,\"#f0f921\"]]}],\"choropleth\":[{\"type\":\"choropleth\",\"colorbar\":{\"outlinewidth\":0,\"ticks\":\"\"}}],\"histogram2d\":[{\"type\":\"histogram2d\",\"colorbar\":{\"outlinewidth\":0,\"ticks\":\"\"},\"colorscale\":[[0.0,\"#0d0887\"],[0.1111111111111111,\"#46039f\"],[0.2222222222222222,\"#7201a8\"],[0.3333333333333333,\"#9c179e\"],[0.4444444444444444,\"#bd3786\"],[0.5555555555555556,\"#d8576b\"],[0.6666666666666666,\"#ed7953\"],[0.7777777777777778,\"#fb9f3a\"],[0.8888888888888888,\"#fdca26\"],[1.0,\"#f0f921\"]]}],\"heatmap\":[{\"type\":\"heatmap\",\"colorbar\":{\"outlinewidth\":0,\"ticks\":\"\"},\"colorscale\":[[0.0,\"#0d0887\"],[0.1111111111111111,\"#46039f\"],[0.2222222222222222,\"#7201a8\"],[0.3333333333333333,\"#9c179e\"],[0.4444444444444444,\"#bd3786\"],[0.5555555555555556,\"#d8576b\"],[0.6666666666666666,\"#ed7953\"],[0.7777777777777778,\"#fb9f3a\"],[0.8888888888888888,\"#fdca26\"],[1.0,\"#f0f921\"]]}],\"heatmapgl\":[{\"type\":\"heatmapgl\",\"colorbar\":{\"outlinewidth\":0,\"ticks\":\"\"},\"colorscale\":[[0.0,\"#0d0887\"],[0.1111111111111111,\"#46039f\"],[0.2222222222222222,\"#7201a8\"],[0.3333333333333333,\"#9c179e\"],[0.4444444444444444,\"#bd3786\"],[0.5555555555555556,\"#d8576b\"],[0.6666666666666666,\"#ed7953\"],[0.7777777777777778,\"#fb9f3a\"],[0.8888888888888888,\"#fdca26\"],[1.0,\"#f0f921\"]]}],\"contourcarpet\":[{\"type\":\"contourcarpet\",\"colorbar\":{\"outlinewidth\":0,\"ticks\":\"\"}}],\"contour\":[{\"type\":\"contour\",\"colorbar\":{\"outlinewidth\":0,\"ticks\":\"\"},\"colorscale\":[[0.0,\"#0d0887\"],[0.1111111111111111,\"#46039f\"],[0.2222222222222222,\"#7201a8\"],[0.3333333333333333,\"#9c179e\"],[0.4444444444444444,\"#bd3786\"],[0.5555555555555556,\"#d8576b\"],[0.6666666666666666,\"#ed7953\"],[0.7777777777777778,\"#fb9f3a\"],[0.8888888888888888,\"#fdca26\"],[1.0,\"#f0f921\"]]}],\"surface\":[{\"type\":\"surface\",\"colorbar\":{\"outlinewidth\":0,\"ticks\":\"\"},\"colorscale\":[[0.0,\"#0d0887\"],[0.1111111111111111,\"#46039f\"],[0.2222222222222222,\"#7201a8\"],[0.3333333333333333,\"#9c179e\"],[0.4444444444444444,\"#bd3786\"],[0.5555555555555556,\"#d8576b\"],[0.6666666666666666,\"#ed7953\"],[0.7777777777777778,\"#fb9f3a\"],[0.8888888888888888,\"#fdca26\"],[1.0,\"#f0f921\"]]}],\"mesh3d\":[{\"type\":\"mesh3d\",\"colorbar\":{\"outlinewidth\":0,\"ticks\":\"\"}}],\"scatter\":[{\"marker\":{\"line\":{\"color\":\"#283442\"}},\"type\":\"scatter\"}],\"parcoords\":[{\"type\":\"parcoords\",\"line\":{\"colorbar\":{\"outlinewidth\":0,\"ticks\":\"\"}}}],\"scatterpolargl\":[{\"type\":\"scatterpolargl\",\"marker\":{\"colorbar\":{\"outlinewidth\":0,\"ticks\":\"\"}}}],\"bar\":[{\"error_x\":{\"color\":\"#f2f5fa\"},\"error_y\":{\"color\":\"#f2f5fa\"},\"marker\":{\"line\":{\"color\":\"rgb(17,17,17)\",\"width\":0.5},\"pattern\":{\"fillmode\":\"overlay\",\"size\":10,\"solidity\":0.2}},\"type\":\"bar\"}],\"scattergeo\":[{\"type\":\"scattergeo\",\"marker\":{\"colorbar\":{\"outlinewidth\":0,\"ticks\":\"\"}}}],\"scatterpolar\":[{\"type\":\"scatterpolar\",\"marker\":{\"colorbar\":{\"outlinewidth\":0,\"ticks\":\"\"}}}],\"histogram\":[{\"marker\":{\"pattern\":{\"fillmode\":\"overlay\",\"size\":10,\"solidity\":0.2}},\"type\":\"histogram\"}],\"scattergl\":[{\"marker\":{\"line\":{\"color\":\"#283442\"}},\"type\":\"scattergl\"}],\"scatter3d\":[{\"type\":\"scatter3d\",\"line\":{\"colorbar\":{\"outlinewidth\":0,\"ticks\":\"\"}},\"marker\":{\"colorbar\":{\"outlinewidth\":0,\"ticks\":\"\"}}}],\"scattermapbox\":[{\"type\":\"scattermapbox\",\"marker\":{\"colorbar\":{\"outlinewidth\":0,\"ticks\":\"\"}}}],\"scatterternary\":[{\"type\":\"scatterternary\",\"marker\":{\"colorbar\":{\"outlinewidth\":0,\"ticks\":\"\"}}}],\"scattercarpet\":[{\"type\":\"scattercarpet\",\"marker\":{\"colorbar\":{\"outlinewidth\":0,\"ticks\":\"\"}}}],\"carpet\":[{\"aaxis\":{\"endlinecolor\":\"#A2B1C6\",\"gridcolor\":\"#506784\",\"linecolor\":\"#506784\",\"minorgridcolor\":\"#506784\",\"startlinecolor\":\"#A2B1C6\"},\"baxis\":{\"endlinecolor\":\"#A2B1C6\",\"gridcolor\":\"#506784\",\"linecolor\":\"#506784\",\"minorgridcolor\":\"#506784\",\"startlinecolor\":\"#A2B1C6\"},\"type\":\"carpet\"}],\"table\":[{\"cells\":{\"fill\":{\"color\":\"#506784\"},\"line\":{\"color\":\"rgb(17,17,17)\"}},\"header\":{\"fill\":{\"color\":\"#2a3f5f\"},\"line\":{\"color\":\"rgb(17,17,17)\"}},\"type\":\"table\"}],\"barpolar\":[{\"marker\":{\"line\":{\"color\":\"rgb(17,17,17)\",\"width\":0.5},\"pattern\":{\"fillmode\":\"overlay\",\"size\":10,\"solidity\":0.2}},\"type\":\"barpolar\"}],\"pie\":[{\"automargin\":true,\"type\":\"pie\"}]},\"layout\":{\"autotypenumbers\":\"strict\",\"colorway\":[\"#636efa\",\"#EF553B\",\"#00cc96\",\"#ab63fa\",\"#FFA15A\",\"#19d3f3\",\"#FF6692\",\"#B6E880\",\"#FF97FF\",\"#FECB52\"],\"font\":{\"color\":\"#f2f5fa\"},\"hovermode\":\"closest\",\"hoverlabel\":{\"align\":\"left\"},\"paper_bgcolor\":\"rgb(17,17,17)\",\"plot_bgcolor\":\"rgb(17,17,17)\",\"polar\":{\"bgcolor\":\"rgb(17,17,17)\",\"angularaxis\":{\"gridcolor\":\"#506784\",\"linecolor\":\"#506784\",\"ticks\":\"\"},\"radialaxis\":{\"gridcolor\":\"#506784\",\"linecolor\":\"#506784\",\"ticks\":\"\"}},\"ternary\":{\"bgcolor\":\"rgb(17,17,17)\",\"aaxis\":{\"gridcolor\":\"#506784\",\"linecolor\":\"#506784\",\"ticks\":\"\"},\"baxis\":{\"gridcolor\":\"#506784\",\"linecolor\":\"#506784\",\"ticks\":\"\"},\"caxis\":{\"gridcolor\":\"#506784\",\"linecolor\":\"#506784\",\"ticks\":\"\"}},\"coloraxis\":{\"colorbar\":{\"outlinewidth\":0,\"ticks\":\"\"}},\"colorscale\":{\"sequential\":[[0.0,\"#0d0887\"],[0.1111111111111111,\"#46039f\"],[0.2222222222222222,\"#7201a8\"],[0.3333333333333333,\"#9c179e\"],[0.4444444444444444,\"#bd3786\"],[0.5555555555555556,\"#d8576b\"],[0.6666666666666666,\"#ed7953\"],[0.7777777777777778,\"#fb9f3a\"],[0.8888888888888888,\"#fdca26\"],[1.0,\"#f0f921\"]],\"sequentialminus\":[[0.0,\"#0d0887\"],[0.1111111111111111,\"#46039f\"],[0.2222222222222222,\"#7201a8\"],[0.3333333333333333,\"#9c179e\"],[0.4444444444444444,\"#bd3786\"],[0.5555555555555556,\"#d8576b\"],[0.6666666666666666,\"#ed7953\"],[0.7777777777777778,\"#fb9f3a\"],[0.8888888888888888,\"#fdca26\"],[1.0,\"#f0f921\"]],\"diverging\":[[0,\"#8e0152\"],[0.1,\"#c51b7d\"],[0.2,\"#de77ae\"],[0.3,\"#f1b6da\"],[0.4,\"#fde0ef\"],[0.5,\"#f7f7f7\"],[0.6,\"#e6f5d0\"],[0.7,\"#b8e186\"],[0.8,\"#7fbc41\"],[0.9,\"#4d9221\"],[1,\"#276419\"]]},\"xaxis\":{\"gridcolor\":\"#283442\",\"linecolor\":\"#506784\",\"ticks\":\"\",\"title\":{\"standoff\":15},\"zerolinecolor\":\"#283442\",\"automargin\":true,\"zerolinewidth\":2},\"yaxis\":{\"gridcolor\":\"#283442\",\"linecolor\":\"#506784\",\"ticks\":\"\",\"title\":{\"standoff\":15},\"zerolinecolor\":\"#283442\",\"automargin\":true,\"zerolinewidth\":2},\"scene\":{\"xaxis\":{\"backgroundcolor\":\"rgb(17,17,17)\",\"gridcolor\":\"#506784\",\"linecolor\":\"#506784\",\"showbackground\":true,\"ticks\":\"\",\"zerolinecolor\":\"#C8D4E3\",\"gridwidth\":2},\"yaxis\":{\"backgroundcolor\":\"rgb(17,17,17)\",\"gridcolor\":\"#506784\",\"linecolor\":\"#506784\",\"showbackground\":true,\"ticks\":\"\",\"zerolinecolor\":\"#C8D4E3\",\"gridwidth\":2},\"zaxis\":{\"backgroundcolor\":\"rgb(17,17,17)\",\"gridcolor\":\"#506784\",\"linecolor\":\"#506784\",\"showbackground\":true,\"ticks\":\"\",\"zerolinecolor\":\"#C8D4E3\",\"gridwidth\":2}},\"shapedefaults\":{\"line\":{\"color\":\"#f2f5fa\"}},\"annotationdefaults\":{\"arrowcolor\":\"#f2f5fa\",\"arrowhead\":0,\"arrowwidth\":1},\"geo\":{\"bgcolor\":\"rgb(17,17,17)\",\"landcolor\":\"rgb(17,17,17)\",\"subunitcolor\":\"#506784\",\"showland\":true,\"showlakes\":true,\"lakecolor\":\"rgb(17,17,17)\"},\"title\":{\"x\":0.05},\"updatemenudefaults\":{\"bgcolor\":\"#506784\",\"borderwidth\":0},\"sliderdefaults\":{\"bgcolor\":\"#C8D4E3\",\"borderwidth\":1,\"bordercolor\":\"rgb(17,17,17)\",\"tickwidth\":0},\"mapbox\":{\"style\":\"dark\"}}},\"xaxis\":{\"anchor\":\"y\",\"domain\":[0.0,1.0],\"title\":{\"text\":\"x\"}},\"yaxis\":{\"anchor\":\"x\",\"domain\":[0.0,1.0],\"title\":{\"text\":\"y\"}},\"legend\":{\"tracegroupgap\":0},\"margin\":{\"t\":60}},                        {\"responsive\": true}                    ).then(function(){\n                            \nvar gd = document.getElementById('4a09ff06-54db-4c0b-b725-5976b7243a2c');\nvar x = new MutationObserver(function (mutations, observer) {{\n        var display = window.getComputedStyle(gd).display;\n        if (!display || display === 'none') {{\n            console.log([gd, 'removed!']);\n            Plotly.purge(gd);\n            observer.disconnect();\n        }}\n}});\n\n// Listen for the removal of the full notebook cells\nvar notebookContainer = gd.closest('#notebook-container');\nif (notebookContainer) {{\n    x.observe(notebookContainer, {childList: true});\n}}\n\n// Listen for the clearing of the current output cell\nvar outputEl = gd.closest('.output');\nif (outputEl) {{\n    x.observe(outputEl, {childList: true});\n}}\n\n                        })                };                });            </script>        </div>"
     },
     "metadata": {},
     "output_type": "display_data"
    },
    {
     "data": {
      "application/vnd.plotly.v1+json": {
       "data": [
        {
         "hovertemplate": "x=%{x}<br>y=%{y}<extra></extra>",
         "legendgroup": "",
         "line": {
          "color": "#636efa",
          "dash": "solid"
         },
         "marker": {
          "symbol": "circle"
         },
         "mode": "lines",
         "name": "",
         "orientation": "v",
         "showlegend": false,
         "x": [
          1489.670166015625,
          1488.5650634765625,
          1487.459716796875,
          1486.354248046875,
          1485.24853515625,
          1484.142578125,
          1483.0364990234375,
          1481.93017578125,
          1480.8236083984375,
          1479.7169189453125,
          1478.6099853515625,
          1477.5028076171875,
          1476.3955078125,
          1475.2879638671875,
          1474.1802978515625,
          1473.0723876953125,
          1471.9642333984375,
          1470.8558349609375,
          1469.747314453125,
          1468.638671875,
          1467.5296630859375,
          1466.4205322265625,
          1465.311279296875,
          1464.20166015625,
          1463.0919189453125,
          1461.9820556640625,
          1460.8719482421875,
          1459.7615966796875,
          1458.6510009765625,
          1457.540283203125,
          1456.4293212890625,
          1455.3182373046875,
          1454.2069091796875,
          1453.0953369140625,
          1451.983642578125,
          1450.8717041015625,
          1449.759521484375,
          1448.647216796875,
          1447.53466796875,
          1446.421875,
          1445.3089599609375,
          1444.19580078125,
          1443.0823974609375,
          1441.9688720703125,
          1440.8551025390625,
          1439.7410888671875,
          1438.626953125,
          1437.5125732421875,
          1436.3980712890625,
          1435.2833251953125,
          1434.1683349609375,
          1433.0531005859375,
          1431.937744140625,
          1430.8221435546875,
          1429.7064208984375,
          1428.5904541015625,
          1427.4742431640625,
          1426.35791015625,
          1425.2412109375,
          1424.12451171875,
          1423.0074462890625,
          1421.8902587890625,
          1420.7728271484375,
          1419.6552734375,
          1418.5374755859375,
          1417.41943359375,
          1416.30126953125,
          1415.182861328125,
          1414.064208984375,
          1412.9454345703125,
          1411.826416015625,
          1410.7071533203125,
          1409.587646484375,
          1408.468017578125,
          1407.3482666015625,
          1406.2281494140625,
          1405.10791015625,
          1403.9874267578125,
          1402.8668212890625,
          1401.7459716796875,
          1400.6248779296875,
          1399.503662109375,
          1398.3822021484375,
          1397.260498046875,
          1396.1385498046875,
          1395.0164794921875,
          1393.894287109375,
          1392.771728515625,
          1391.6490478515625,
          1390.526123046875,
          1389.403076171875,
          1388.2796630859375,
          1387.15625,
          1386.032470703125,
          1384.9085693359375,
          1383.784423828125,
          1382.6600341796875,
          1381.5355224609375,
          1380.4107666015625,
          1379.2857666015625,
          1378.16064453125,
          1377.0352783203125,
          1375.90966796875,
          1374.783935546875,
          1373.657958984375,
          1372.53173828125,
          1371.4053955078125,
          1370.27880859375,
          1369.1519775390625,
          1368.02490234375,
          1366.897705078125,
          1365.770263671875,
          1364.6427001953125,
          1363.5147705078125,
          1362.38671875,
          1361.258544921875,
          1360.1300048828125,
          1359.0013427734375,
          1357.87255859375,
          1356.743408203125,
          1355.6141357421875,
          1354.484619140625,
          1353.35498046875,
          1352.22509765625,
          1351.094970703125,
          1349.964599609375,
          1348.8341064453125,
          1347.703369140625,
          1346.5723876953125,
          1345.441162109375,
          1344.309814453125,
          1343.17822265625,
          1342.0465087890625,
          1340.91455078125,
          1339.7823486328125,
          1338.64990234375,
          1337.517333984375,
          1336.384521484375,
          1335.25146484375,
          1334.1181640625,
          1332.9847412109375,
          1331.85107421875,
          1330.7171630859375,
          1329.5831298828125,
          1328.4488525390625,
          1327.3143310546875,
          1326.1796875,
          1325.0447998046875,
          1323.90966796875,
          1322.7742919921875,
          1321.6387939453125,
          1320.5029296875,
          1319.3670654296875,
          1318.2308349609375,
          1317.094482421875,
          1315.9578857421875,
          1314.821044921875,
          1313.68408203125,
          1312.546875,
          1311.409423828125,
          1310.271728515625,
          1309.1339111328125,
          1307.995849609375,
          1306.8575439453125,
          1305.718994140625,
          1304.580322265625,
          1303.44140625,
          1302.3023681640625,
          1301.1629638671875,
          1300.0234375,
          1298.8836669921875,
          1297.74365234375,
          1296.603515625,
          1295.463134765625,
          1294.322509765625,
          1293.181640625,
          1292.0406494140625,
          1290.8994140625,
          1289.7579345703125,
          1288.6163330078125,
          1287.474365234375,
          1286.332275390625,
          1285.1900634765625,
          1284.0474853515625,
          1282.90478515625,
          1281.7618408203125,
          1280.61865234375,
          1279.475341796875,
          1278.3316650390625,
          1277.1878662109375,
          1276.0439453125,
          1274.899658203125,
          1273.7552490234375,
          1272.610595703125,
          1271.4656982421875,
          1270.3206787109375,
          1269.17529296875,
          1268.02978515625,
          1266.8841552734375
         ],
         "xaxis": "x",
         "y": [
          0.008760872460782795,
          0.008768062746128675,
          0.008556957155974902,
          0.008688292967383387,
          0.008721784494477995,
          0.008611468096860553,
          0.008579491185670468,
          0.008501756200673713,
          0.008591599816102262,
          0.008571785180451472,
          0.008597361417827446,
          0.008507477040054738,
          0.008564281738007816,
          0.008353056469276185,
          0.00853259718411277,
          0.008357720717579733,
          0.008454540747482373,
          0.008405847845776753,
          0.008417201325019054,
          0.008497413413253031,
          0.008506750995690867,
          0.008396430055632282,
          0.008457386690515708,
          0.008450032136831124,
          0.008358214874038684,
          0.008399919359684307,
          0.008374159378157815,
          0.008454673317891395,
          0.008518233016047478,
          0.008441488247289916,
          0.008434019453260732,
          0.008396637236581364,
          0.008403679233101789,
          0.008434004436233107,
          0.008493360204078093,
          0.008518750792388423,
          0.008490264700285634,
          0.008450725636469833,
          0.008429026649763973,
          0.008365945272663926,
          0.008601092944813421,
          0.008478355412801538,
          0.008631548144990371,
          0.00853088573362187,
          0.008576992393831848,
          0.0085173386960156,
          0.008573544721877855,
          0.0086647401158941,
          0.008743746053651217,
          0.008805336679131701,
          0.008790388494126243,
          0.008754551963253641,
          0.008798682469498189,
          0.008787556109682387,
          0.00886064627604298,
          0.008892621286162597,
          0.008923195377755173,
          0.008826489050021188,
          0.008796332288893866,
          0.009045334964080443,
          0.009056821685675738,
          0.009091956037385529,
          0.009069775561315586,
          0.009175785797428025,
          0.009331134744193592,
          0.009142455909045291,
          0.009308017928054888,
          0.009331989068063082,
          0.009375820912505177,
          0.009444056531518984,
          0.009561955147891503,
          0.009574621416709466,
          0.009737648011434083,
          0.009842166771357299,
          0.009930795262032005,
          0.010112217456084248,
          0.01035979939739803,
          0.010537550594953126,
          0.010734308536342073,
          0.011061341694021242,
          0.011395340818528426,
          0.01172576548132552,
          0.01237354060546,
          0.013345782001695665,
          0.014686691525025858,
          0.015878455685316917,
          0.014263184122208889,
          0.004141717764353251,
          -1.9211568867176377E-4,
          0.00713794984605729,
          0.013043821173897706,
          0.015233565352538067,
          0.01598961849761914,
          0.016426394280934526,
          0.016555468610200345,
          0.01737658386725683,
          0.01823379754308848,
          0.019270085672959673,
          0.02065768903545717,
          0.021755879356519327,
          0.023351243046057023,
          0.02525180468675002,
          0.02733997844226109,
          0.029586501326128525,
          0.03207425965383098,
          0.03426588197547519,
          0.036447178318724814,
          0.03789268886085126,
          0.03868112361179615,
          0.038913625077275825,
          0.038281087771206146,
          0.03689433442629387,
          0.03502335794700325,
          0.032621884050146564,
          0.03029625665946406,
          0.02787225676939726,
          0.02575487150520698,
          0.023743795192443982,
          0.021889934219763308,
          0.020295488961717036,
          0.01887749811414342,
          0.017504174149102648,
          0.01623106768875471,
          0.015255030694546921,
          0.014208670696939086,
          0.013244659936855743,
          0.012482400595879873,
          0.011708637362344993,
          0.011101876213081976,
          0.010592778615832056,
          0.010187312686718696,
          0.009549511213782716,
          0.00921610656545309,
          0.008918065786715943,
          0.008571162709177122,
          0.00847217535870502,
          0.008423905419598096,
          0.008301227672350522,
          0.008229120421709592,
          0.008096035283129783,
          0.008188429077542332,
          0.008057918381155492,
          0.008098386359951734,
          0.008112302958435952,
          0.008229300994070415,
          0.008121791359577451,
          0.008135829339406172,
          0.008005056687426251,
          0.00805913551891656,
          0.007898793840694522,
          0.008047092829727338,
          0.007925815536282866,
          0.007925517376654678,
          0.007879286496100422,
          0.007944516590477279,
          0.007826396058610761,
          0.007861694357058085,
          0.007887806548046451,
          0.007870863110041516,
          0.007747366520927673,
          0.007829890772911964,
          0.007965781711655654,
          0.007950259386326793,
          0.007857976504861195,
          0.00795612649116193,
          0.007896351814168062,
          0.007863909719302137,
          0.007845430351342213,
          0.00780446830931004,
          0.007823670507789522,
          0.007849688248494408,
          0.007848417498672353,
          0.007737824989305782,
          0.00770790559125139,
          0.0077513853031353315,
          0.007819941876213992,
          0.007774777440410275,
          0.0076522783730946075,
          0.007721536460957845,
          0.007715445273202375,
          0.007564933389189667,
          0.007522402554909814,
          0.007535762522126691,
          0.007461078317708709,
          0.007508858648314824,
          0.00741014100450299,
          0.007536153076976829,
          0.007477942374162321,
          0.007543896665449826,
          0.007467106168077596,
          0.007374349108683616,
          0.007413324701979224,
          0.007455605746714431,
          0.007302199751262223,
          0.00732043674405864,
          0.007227612397709992,
          0.007363423401163865,
          0.007275372775337531,
          0.007219312733561222
         ],
         "yaxis": "y",
         "type": "scatter"
        }
       ],
       "layout": {
        "template": {
         "data": {
          "histogram2dcontour": [
           {
            "type": "histogram2dcontour",
            "colorbar": {
             "outlinewidth": 0,
             "ticks": ""
            },
            "colorscale": [
             [
              0.0,
              "#0d0887"
             ],
             [
              0.1111111111111111,
              "#46039f"
             ],
             [
              0.2222222222222222,
              "#7201a8"
             ],
             [
              0.3333333333333333,
              "#9c179e"
             ],
             [
              0.4444444444444444,
              "#bd3786"
             ],
             [
              0.5555555555555556,
              "#d8576b"
             ],
             [
              0.6666666666666666,
              "#ed7953"
             ],
             [
              0.7777777777777778,
              "#fb9f3a"
             ],
             [
              0.8888888888888888,
              "#fdca26"
             ],
             [
              1.0,
              "#f0f921"
             ]
            ]
           }
          ],
          "choropleth": [
           {
            "type": "choropleth",
            "colorbar": {
             "outlinewidth": 0,
             "ticks": ""
            }
           }
          ],
          "histogram2d": [
           {
            "type": "histogram2d",
            "colorbar": {
             "outlinewidth": 0,
             "ticks": ""
            },
            "colorscale": [
             [
              0.0,
              "#0d0887"
             ],
             [
              0.1111111111111111,
              "#46039f"
             ],
             [
              0.2222222222222222,
              "#7201a8"
             ],
             [
              0.3333333333333333,
              "#9c179e"
             ],
             [
              0.4444444444444444,
              "#bd3786"
             ],
             [
              0.5555555555555556,
              "#d8576b"
             ],
             [
              0.6666666666666666,
              "#ed7953"
             ],
             [
              0.7777777777777778,
              "#fb9f3a"
             ],
             [
              0.8888888888888888,
              "#fdca26"
             ],
             [
              1.0,
              "#f0f921"
             ]
            ]
           }
          ],
          "heatmap": [
           {
            "type": "heatmap",
            "colorbar": {
             "outlinewidth": 0,
             "ticks": ""
            },
            "colorscale": [
             [
              0.0,
              "#0d0887"
             ],
             [
              0.1111111111111111,
              "#46039f"
             ],
             [
              0.2222222222222222,
              "#7201a8"
             ],
             [
              0.3333333333333333,
              "#9c179e"
             ],
             [
              0.4444444444444444,
              "#bd3786"
             ],
             [
              0.5555555555555556,
              "#d8576b"
             ],
             [
              0.6666666666666666,
              "#ed7953"
             ],
             [
              0.7777777777777778,
              "#fb9f3a"
             ],
             [
              0.8888888888888888,
              "#fdca26"
             ],
             [
              1.0,
              "#f0f921"
             ]
            ]
           }
          ],
          "heatmapgl": [
           {
            "type": "heatmapgl",
            "colorbar": {
             "outlinewidth": 0,
             "ticks": ""
            },
            "colorscale": [
             [
              0.0,
              "#0d0887"
             ],
             [
              0.1111111111111111,
              "#46039f"
             ],
             [
              0.2222222222222222,
              "#7201a8"
             ],
             [
              0.3333333333333333,
              "#9c179e"
             ],
             [
              0.4444444444444444,
              "#bd3786"
             ],
             [
              0.5555555555555556,
              "#d8576b"
             ],
             [
              0.6666666666666666,
              "#ed7953"
             ],
             [
              0.7777777777777778,
              "#fb9f3a"
             ],
             [
              0.8888888888888888,
              "#fdca26"
             ],
             [
              1.0,
              "#f0f921"
             ]
            ]
           }
          ],
          "contourcarpet": [
           {
            "type": "contourcarpet",
            "colorbar": {
             "outlinewidth": 0,
             "ticks": ""
            }
           }
          ],
          "contour": [
           {
            "type": "contour",
            "colorbar": {
             "outlinewidth": 0,
             "ticks": ""
            },
            "colorscale": [
             [
              0.0,
              "#0d0887"
             ],
             [
              0.1111111111111111,
              "#46039f"
             ],
             [
              0.2222222222222222,
              "#7201a8"
             ],
             [
              0.3333333333333333,
              "#9c179e"
             ],
             [
              0.4444444444444444,
              "#bd3786"
             ],
             [
              0.5555555555555556,
              "#d8576b"
             ],
             [
              0.6666666666666666,
              "#ed7953"
             ],
             [
              0.7777777777777778,
              "#fb9f3a"
             ],
             [
              0.8888888888888888,
              "#fdca26"
             ],
             [
              1.0,
              "#f0f921"
             ]
            ]
           }
          ],
          "surface": [
           {
            "type": "surface",
            "colorbar": {
             "outlinewidth": 0,
             "ticks": ""
            },
            "colorscale": [
             [
              0.0,
              "#0d0887"
             ],
             [
              0.1111111111111111,
              "#46039f"
             ],
             [
              0.2222222222222222,
              "#7201a8"
             ],
             [
              0.3333333333333333,
              "#9c179e"
             ],
             [
              0.4444444444444444,
              "#bd3786"
             ],
             [
              0.5555555555555556,
              "#d8576b"
             ],
             [
              0.6666666666666666,
              "#ed7953"
             ],
             [
              0.7777777777777778,
              "#fb9f3a"
             ],
             [
              0.8888888888888888,
              "#fdca26"
             ],
             [
              1.0,
              "#f0f921"
             ]
            ]
           }
          ],
          "mesh3d": [
           {
            "type": "mesh3d",
            "colorbar": {
             "outlinewidth": 0,
             "ticks": ""
            }
           }
          ],
          "scatter": [
           {
            "marker": {
             "line": {
              "color": "#283442"
             }
            },
            "type": "scatter"
           }
          ],
          "parcoords": [
           {
            "type": "parcoords",
            "line": {
             "colorbar": {
              "outlinewidth": 0,
              "ticks": ""
             }
            }
           }
          ],
          "scatterpolargl": [
           {
            "type": "scatterpolargl",
            "marker": {
             "colorbar": {
              "outlinewidth": 0,
              "ticks": ""
             }
            }
           }
          ],
          "bar": [
           {
            "error_x": {
             "color": "#f2f5fa"
            },
            "error_y": {
             "color": "#f2f5fa"
            },
            "marker": {
             "line": {
              "color": "rgb(17,17,17)",
              "width": 0.5
             },
             "pattern": {
              "fillmode": "overlay",
              "size": 10,
              "solidity": 0.2
             }
            },
            "type": "bar"
           }
          ],
          "scattergeo": [
           {
            "type": "scattergeo",
            "marker": {
             "colorbar": {
              "outlinewidth": 0,
              "ticks": ""
             }
            }
           }
          ],
          "scatterpolar": [
           {
            "type": "scatterpolar",
            "marker": {
             "colorbar": {
              "outlinewidth": 0,
              "ticks": ""
             }
            }
           }
          ],
          "histogram": [
           {
            "marker": {
             "pattern": {
              "fillmode": "overlay",
              "size": 10,
              "solidity": 0.2
             }
            },
            "type": "histogram"
           }
          ],
          "scattergl": [
           {
            "marker": {
             "line": {
              "color": "#283442"
             }
            },
            "type": "scattergl"
           }
          ],
          "scatter3d": [
           {
            "type": "scatter3d",
            "line": {
             "colorbar": {
              "outlinewidth": 0,
              "ticks": ""
             }
            },
            "marker": {
             "colorbar": {
              "outlinewidth": 0,
              "ticks": ""
             }
            }
           }
          ],
          "scattermapbox": [
           {
            "type": "scattermapbox",
            "marker": {
             "colorbar": {
              "outlinewidth": 0,
              "ticks": ""
             }
            }
           }
          ],
          "scatterternary": [
           {
            "type": "scatterternary",
            "marker": {
             "colorbar": {
              "outlinewidth": 0,
              "ticks": ""
             }
            }
           }
          ],
          "scattercarpet": [
           {
            "type": "scattercarpet",
            "marker": {
             "colorbar": {
              "outlinewidth": 0,
              "ticks": ""
             }
            }
           }
          ],
          "carpet": [
           {
            "aaxis": {
             "endlinecolor": "#A2B1C6",
             "gridcolor": "#506784",
             "linecolor": "#506784",
             "minorgridcolor": "#506784",
             "startlinecolor": "#A2B1C6"
            },
            "baxis": {
             "endlinecolor": "#A2B1C6",
             "gridcolor": "#506784",
             "linecolor": "#506784",
             "minorgridcolor": "#506784",
             "startlinecolor": "#A2B1C6"
            },
            "type": "carpet"
           }
          ],
          "table": [
           {
            "cells": {
             "fill": {
              "color": "#506784"
             },
             "line": {
              "color": "rgb(17,17,17)"
             }
            },
            "header": {
             "fill": {
              "color": "#2a3f5f"
             },
             "line": {
              "color": "rgb(17,17,17)"
             }
            },
            "type": "table"
           }
          ],
          "barpolar": [
           {
            "marker": {
             "line": {
              "color": "rgb(17,17,17)",
              "width": 0.5
             },
             "pattern": {
              "fillmode": "overlay",
              "size": 10,
              "solidity": 0.2
             }
            },
            "type": "barpolar"
           }
          ],
          "pie": [
           {
            "automargin": true,
            "type": "pie"
           }
          ]
         },
         "layout": {
          "autotypenumbers": "strict",
          "colorway": [
           "#636efa",
           "#EF553B",
           "#00cc96",
           "#ab63fa",
           "#FFA15A",
           "#19d3f3",
           "#FF6692",
           "#B6E880",
           "#FF97FF",
           "#FECB52"
          ],
          "font": {
           "color": "#f2f5fa"
          },
          "hovermode": "closest",
          "hoverlabel": {
           "align": "left"
          },
          "paper_bgcolor": "rgb(17,17,17)",
          "plot_bgcolor": "rgb(17,17,17)",
          "polar": {
           "bgcolor": "rgb(17,17,17)",
           "angularaxis": {
            "gridcolor": "#506784",
            "linecolor": "#506784",
            "ticks": ""
           },
           "radialaxis": {
            "gridcolor": "#506784",
            "linecolor": "#506784",
            "ticks": ""
           }
          },
          "ternary": {
           "bgcolor": "rgb(17,17,17)",
           "aaxis": {
            "gridcolor": "#506784",
            "linecolor": "#506784",
            "ticks": ""
           },
           "baxis": {
            "gridcolor": "#506784",
            "linecolor": "#506784",
            "ticks": ""
           },
           "caxis": {
            "gridcolor": "#506784",
            "linecolor": "#506784",
            "ticks": ""
           }
          },
          "coloraxis": {
           "colorbar": {
            "outlinewidth": 0,
            "ticks": ""
           }
          },
          "colorscale": {
           "sequential": [
            [
             0.0,
             "#0d0887"
            ],
            [
             0.1111111111111111,
             "#46039f"
            ],
            [
             0.2222222222222222,
             "#7201a8"
            ],
            [
             0.3333333333333333,
             "#9c179e"
            ],
            [
             0.4444444444444444,
             "#bd3786"
            ],
            [
             0.5555555555555556,
             "#d8576b"
            ],
            [
             0.6666666666666666,
             "#ed7953"
            ],
            [
             0.7777777777777778,
             "#fb9f3a"
            ],
            [
             0.8888888888888888,
             "#fdca26"
            ],
            [
             1.0,
             "#f0f921"
            ]
           ],
           "sequentialminus": [
            [
             0.0,
             "#0d0887"
            ],
            [
             0.1111111111111111,
             "#46039f"
            ],
            [
             0.2222222222222222,
             "#7201a8"
            ],
            [
             0.3333333333333333,
             "#9c179e"
            ],
            [
             0.4444444444444444,
             "#bd3786"
            ],
            [
             0.5555555555555556,
             "#d8576b"
            ],
            [
             0.6666666666666666,
             "#ed7953"
            ],
            [
             0.7777777777777778,
             "#fb9f3a"
            ],
            [
             0.8888888888888888,
             "#fdca26"
            ],
            [
             1.0,
             "#f0f921"
            ]
           ],
           "diverging": [
            [
             0,
             "#8e0152"
            ],
            [
             0.1,
             "#c51b7d"
            ],
            [
             0.2,
             "#de77ae"
            ],
            [
             0.3,
             "#f1b6da"
            ],
            [
             0.4,
             "#fde0ef"
            ],
            [
             0.5,
             "#f7f7f7"
            ],
            [
             0.6,
             "#e6f5d0"
            ],
            [
             0.7,
             "#b8e186"
            ],
            [
             0.8,
             "#7fbc41"
            ],
            [
             0.9,
             "#4d9221"
            ],
            [
             1,
             "#276419"
            ]
           ]
          },
          "xaxis": {
           "gridcolor": "#283442",
           "linecolor": "#506784",
           "ticks": "",
           "title": {
            "standoff": 15
           },
           "zerolinecolor": "#283442",
           "automargin": true,
           "zerolinewidth": 2
          },
          "yaxis": {
           "gridcolor": "#283442",
           "linecolor": "#506784",
           "ticks": "",
           "title": {
            "standoff": 15
           },
           "zerolinecolor": "#283442",
           "automargin": true,
           "zerolinewidth": 2
          },
          "scene": {
           "xaxis": {
            "backgroundcolor": "rgb(17,17,17)",
            "gridcolor": "#506784",
            "linecolor": "#506784",
            "showbackground": true,
            "ticks": "",
            "zerolinecolor": "#C8D4E3",
            "gridwidth": 2
           },
           "yaxis": {
            "backgroundcolor": "rgb(17,17,17)",
            "gridcolor": "#506784",
            "linecolor": "#506784",
            "showbackground": true,
            "ticks": "",
            "zerolinecolor": "#C8D4E3",
            "gridwidth": 2
           },
           "zaxis": {
            "backgroundcolor": "rgb(17,17,17)",
            "gridcolor": "#506784",
            "linecolor": "#506784",
            "showbackground": true,
            "ticks": "",
            "zerolinecolor": "#C8D4E3",
            "gridwidth": 2
           }
          },
          "shapedefaults": {
           "line": {
            "color": "#f2f5fa"
           }
          },
          "annotationdefaults": {
           "arrowcolor": "#f2f5fa",
           "arrowhead": 0,
           "arrowwidth": 1
          },
          "geo": {
           "bgcolor": "rgb(17,17,17)",
           "landcolor": "rgb(17,17,17)",
           "subunitcolor": "#506784",
           "showland": true,
           "showlakes": true,
           "lakecolor": "rgb(17,17,17)"
          },
          "title": {
           "x": 0.05
          },
          "updatemenudefaults": {
           "bgcolor": "#506784",
           "borderwidth": 0
          },
          "sliderdefaults": {
           "bgcolor": "#C8D4E3",
           "borderwidth": 1,
           "bordercolor": "rgb(17,17,17)",
           "tickwidth": 0
          },
          "mapbox": {
           "style": "dark"
          }
         }
        },
        "xaxis": {
         "anchor": "y",
         "domain": [
          0.0,
          1.0
         ],
         "title": {
          "text": "x"
         }
        },
        "yaxis": {
         "anchor": "x",
         "domain": [
          0.0,
          1.0
         ],
         "title": {
          "text": "y"
         }
        },
        "legend": {
         "tracegroupgap": 0
        },
        "margin": {
         "t": 60
        }
       },
       "config": {
        "plotlyServerURL": "https://plot.ly"
       }
      },
      "text/html": "<div>                            <div id=\"b3b7d76d-3a83-413e-9a15-7a146a0ec613\" class=\"plotly-graph-div\" style=\"height:525px; width:100%;\"></div>            <script type=\"text/javascript\">                require([\"plotly\"], function(Plotly) {                    window.PLOTLYENV=window.PLOTLYENV || {};                                    if (document.getElementById(\"b3b7d76d-3a83-413e-9a15-7a146a0ec613\")) {                    Plotly.newPlot(                        \"b3b7d76d-3a83-413e-9a15-7a146a0ec613\",                        [{\"hovertemplate\":\"x=%{x}\\u003cbr\\u003ey=%{y}\\u003cextra\\u003e\\u003c\\u002fextra\\u003e\",\"legendgroup\":\"\",\"line\":{\"color\":\"#636efa\",\"dash\":\"solid\"},\"marker\":{\"symbol\":\"circle\"},\"mode\":\"lines\",\"name\":\"\",\"orientation\":\"v\",\"showlegend\":false,\"x\":[1489.670166015625,1488.5650634765625,1487.459716796875,1486.354248046875,1485.24853515625,1484.142578125,1483.0364990234375,1481.93017578125,1480.8236083984375,1479.7169189453125,1478.6099853515625,1477.5028076171875,1476.3955078125,1475.2879638671875,1474.1802978515625,1473.0723876953125,1471.9642333984375,1470.8558349609375,1469.747314453125,1468.638671875,1467.5296630859375,1466.4205322265625,1465.311279296875,1464.20166015625,1463.0919189453125,1461.9820556640625,1460.8719482421875,1459.7615966796875,1458.6510009765625,1457.540283203125,1456.4293212890625,1455.3182373046875,1454.2069091796875,1453.0953369140625,1451.983642578125,1450.8717041015625,1449.759521484375,1448.647216796875,1447.53466796875,1446.421875,1445.3089599609375,1444.19580078125,1443.0823974609375,1441.9688720703125,1440.8551025390625,1439.7410888671875,1438.626953125,1437.5125732421875,1436.3980712890625,1435.2833251953125,1434.1683349609375,1433.0531005859375,1431.937744140625,1430.8221435546875,1429.7064208984375,1428.5904541015625,1427.4742431640625,1426.35791015625,1425.2412109375,1424.12451171875,1423.0074462890625,1421.8902587890625,1420.7728271484375,1419.6552734375,1418.5374755859375,1417.41943359375,1416.30126953125,1415.182861328125,1414.064208984375,1412.9454345703125,1411.826416015625,1410.7071533203125,1409.587646484375,1408.468017578125,1407.3482666015625,1406.2281494140625,1405.10791015625,1403.9874267578125,1402.8668212890625,1401.7459716796875,1400.6248779296875,1399.503662109375,1398.3822021484375,1397.260498046875,1396.1385498046875,1395.0164794921875,1393.894287109375,1392.771728515625,1391.6490478515625,1390.526123046875,1389.403076171875,1388.2796630859375,1387.15625,1386.032470703125,1384.9085693359375,1383.784423828125,1382.6600341796875,1381.5355224609375,1380.4107666015625,1379.2857666015625,1378.16064453125,1377.0352783203125,1375.90966796875,1374.783935546875,1373.657958984375,1372.53173828125,1371.4053955078125,1370.27880859375,1369.1519775390625,1368.02490234375,1366.897705078125,1365.770263671875,1364.6427001953125,1363.5147705078125,1362.38671875,1361.258544921875,1360.1300048828125,1359.0013427734375,1357.87255859375,1356.743408203125,1355.6141357421875,1354.484619140625,1353.35498046875,1352.22509765625,1351.094970703125,1349.964599609375,1348.8341064453125,1347.703369140625,1346.5723876953125,1345.441162109375,1344.309814453125,1343.17822265625,1342.0465087890625,1340.91455078125,1339.7823486328125,1338.64990234375,1337.517333984375,1336.384521484375,1335.25146484375,1334.1181640625,1332.9847412109375,1331.85107421875,1330.7171630859375,1329.5831298828125,1328.4488525390625,1327.3143310546875,1326.1796875,1325.0447998046875,1323.90966796875,1322.7742919921875,1321.6387939453125,1320.5029296875,1319.3670654296875,1318.2308349609375,1317.094482421875,1315.9578857421875,1314.821044921875,1313.68408203125,1312.546875,1311.409423828125,1310.271728515625,1309.1339111328125,1307.995849609375,1306.8575439453125,1305.718994140625,1304.580322265625,1303.44140625,1302.3023681640625,1301.1629638671875,1300.0234375,1298.8836669921875,1297.74365234375,1296.603515625,1295.463134765625,1294.322509765625,1293.181640625,1292.0406494140625,1290.8994140625,1289.7579345703125,1288.6163330078125,1287.474365234375,1286.332275390625,1285.1900634765625,1284.0474853515625,1282.90478515625,1281.7618408203125,1280.61865234375,1279.475341796875,1278.3316650390625,1277.1878662109375,1276.0439453125,1274.899658203125,1273.7552490234375,1272.610595703125,1271.4656982421875,1270.3206787109375,1269.17529296875,1268.02978515625,1266.8841552734375],\"xaxis\":\"x\",\"y\":[0.008760872460782795,0.008768062746128675,0.008556957155974902,0.008688292967383387,0.008721784494477995,0.008611468096860553,0.008579491185670468,0.008501756200673713,0.008591599816102262,0.008571785180451472,0.008597361417827446,0.008507477040054738,0.008564281738007816,0.008353056469276185,0.00853259718411277,0.008357720717579733,0.008454540747482373,0.008405847845776753,0.008417201325019054,0.008497413413253031,0.008506750995690867,0.008396430055632282,0.008457386690515708,0.008450032136831124,0.008358214874038684,0.008399919359684307,0.008374159378157815,0.008454673317891395,0.008518233016047478,0.008441488247289916,0.008434019453260732,0.008396637236581364,0.008403679233101789,0.008434004436233107,0.008493360204078093,0.008518750792388423,0.008490264700285634,0.008450725636469833,0.008429026649763973,0.008365945272663926,0.008601092944813421,0.008478355412801538,0.008631548144990371,0.00853088573362187,0.008576992393831848,0.0085173386960156,0.008573544721877855,0.0086647401158941,0.008743746053651217,0.008805336679131701,0.008790388494126243,0.008754551963253641,0.008798682469498189,0.008787556109682387,0.00886064627604298,0.008892621286162597,0.008923195377755173,0.008826489050021188,0.008796332288893866,0.009045334964080443,0.009056821685675738,0.009091956037385529,0.009069775561315586,0.009175785797428025,0.009331134744193592,0.009142455909045291,0.009308017928054888,0.009331989068063082,0.009375820912505177,0.009444056531518984,0.009561955147891503,0.009574621416709466,0.009737648011434083,0.009842166771357299,0.009930795262032005,0.010112217456084248,0.01035979939739803,0.010537550594953126,0.010734308536342073,0.011061341694021242,0.011395340818528426,0.01172576548132552,0.01237354060546,0.013345782001695665,0.014686691525025858,0.015878455685316917,0.014263184122208889,0.004141717764353251,-0.00019211568867176377,0.00713794984605729,0.013043821173897706,0.015233565352538067,0.01598961849761914,0.016426394280934526,0.016555468610200345,0.01737658386725683,0.01823379754308848,0.019270085672959673,0.02065768903545717,0.021755879356519327,0.023351243046057023,0.02525180468675002,0.02733997844226109,0.029586501326128525,0.03207425965383098,0.03426588197547519,0.036447178318724814,0.03789268886085126,0.03868112361179615,0.038913625077275825,0.038281087771206146,0.03689433442629387,0.03502335794700325,0.032621884050146564,0.03029625665946406,0.02787225676939726,0.02575487150520698,0.023743795192443982,0.021889934219763308,0.020295488961717036,0.01887749811414342,0.017504174149102648,0.01623106768875471,0.015255030694546921,0.014208670696939086,0.013244659936855743,0.012482400595879873,0.011708637362344993,0.011101876213081976,0.010592778615832056,0.010187312686718696,0.009549511213782716,0.00921610656545309,0.008918065786715943,0.008571162709177122,0.00847217535870502,0.008423905419598096,0.008301227672350522,0.008229120421709592,0.008096035283129783,0.008188429077542332,0.008057918381155492,0.008098386359951734,0.008112302958435952,0.008229300994070415,0.008121791359577451,0.008135829339406172,0.008005056687426251,0.00805913551891656,0.007898793840694522,0.008047092829727338,0.007925815536282866,0.007925517376654678,0.007879286496100422,0.007944516590477279,0.007826396058610761,0.007861694357058085,0.007887806548046451,0.007870863110041516,0.007747366520927673,0.007829890772911964,0.007965781711655654,0.007950259386326793,0.007857976504861195,0.00795612649116193,0.007896351814168062,0.007863909719302137,0.007845430351342213,0.00780446830931004,0.007823670507789522,0.007849688248494408,0.007848417498672353,0.007737824989305782,0.00770790559125139,0.0077513853031353315,0.007819941876213992,0.007774777440410275,0.0076522783730946075,0.007721536460957845,0.007715445273202375,0.007564933389189667,0.007522402554909814,0.007535762522126691,0.007461078317708709,0.007508858648314824,0.00741014100450299,0.007536153076976829,0.007477942374162321,0.007543896665449826,0.007467106168077596,0.007374349108683616,0.007413324701979224,0.007455605746714431,0.007302199751262223,0.00732043674405864,0.007227612397709992,0.007363423401163865,0.007275372775337531,0.007219312733561222],\"yaxis\":\"y\",\"type\":\"scatter\"}],                        {\"template\":{\"data\":{\"histogram2dcontour\":[{\"type\":\"histogram2dcontour\",\"colorbar\":{\"outlinewidth\":0,\"ticks\":\"\"},\"colorscale\":[[0.0,\"#0d0887\"],[0.1111111111111111,\"#46039f\"],[0.2222222222222222,\"#7201a8\"],[0.3333333333333333,\"#9c179e\"],[0.4444444444444444,\"#bd3786\"],[0.5555555555555556,\"#d8576b\"],[0.6666666666666666,\"#ed7953\"],[0.7777777777777778,\"#fb9f3a\"],[0.8888888888888888,\"#fdca26\"],[1.0,\"#f0f921\"]]}],\"choropleth\":[{\"type\":\"choropleth\",\"colorbar\":{\"outlinewidth\":0,\"ticks\":\"\"}}],\"histogram2d\":[{\"type\":\"histogram2d\",\"colorbar\":{\"outlinewidth\":0,\"ticks\":\"\"},\"colorscale\":[[0.0,\"#0d0887\"],[0.1111111111111111,\"#46039f\"],[0.2222222222222222,\"#7201a8\"],[0.3333333333333333,\"#9c179e\"],[0.4444444444444444,\"#bd3786\"],[0.5555555555555556,\"#d8576b\"],[0.6666666666666666,\"#ed7953\"],[0.7777777777777778,\"#fb9f3a\"],[0.8888888888888888,\"#fdca26\"],[1.0,\"#f0f921\"]]}],\"heatmap\":[{\"type\":\"heatmap\",\"colorbar\":{\"outlinewidth\":0,\"ticks\":\"\"},\"colorscale\":[[0.0,\"#0d0887\"],[0.1111111111111111,\"#46039f\"],[0.2222222222222222,\"#7201a8\"],[0.3333333333333333,\"#9c179e\"],[0.4444444444444444,\"#bd3786\"],[0.5555555555555556,\"#d8576b\"],[0.6666666666666666,\"#ed7953\"],[0.7777777777777778,\"#fb9f3a\"],[0.8888888888888888,\"#fdca26\"],[1.0,\"#f0f921\"]]}],\"heatmapgl\":[{\"type\":\"heatmapgl\",\"colorbar\":{\"outlinewidth\":0,\"ticks\":\"\"},\"colorscale\":[[0.0,\"#0d0887\"],[0.1111111111111111,\"#46039f\"],[0.2222222222222222,\"#7201a8\"],[0.3333333333333333,\"#9c179e\"],[0.4444444444444444,\"#bd3786\"],[0.5555555555555556,\"#d8576b\"],[0.6666666666666666,\"#ed7953\"],[0.7777777777777778,\"#fb9f3a\"],[0.8888888888888888,\"#fdca26\"],[1.0,\"#f0f921\"]]}],\"contourcarpet\":[{\"type\":\"contourcarpet\",\"colorbar\":{\"outlinewidth\":0,\"ticks\":\"\"}}],\"contour\":[{\"type\":\"contour\",\"colorbar\":{\"outlinewidth\":0,\"ticks\":\"\"},\"colorscale\":[[0.0,\"#0d0887\"],[0.1111111111111111,\"#46039f\"],[0.2222222222222222,\"#7201a8\"],[0.3333333333333333,\"#9c179e\"],[0.4444444444444444,\"#bd3786\"],[0.5555555555555556,\"#d8576b\"],[0.6666666666666666,\"#ed7953\"],[0.7777777777777778,\"#fb9f3a\"],[0.8888888888888888,\"#fdca26\"],[1.0,\"#f0f921\"]]}],\"surface\":[{\"type\":\"surface\",\"colorbar\":{\"outlinewidth\":0,\"ticks\":\"\"},\"colorscale\":[[0.0,\"#0d0887\"],[0.1111111111111111,\"#46039f\"],[0.2222222222222222,\"#7201a8\"],[0.3333333333333333,\"#9c179e\"],[0.4444444444444444,\"#bd3786\"],[0.5555555555555556,\"#d8576b\"],[0.6666666666666666,\"#ed7953\"],[0.7777777777777778,\"#fb9f3a\"],[0.8888888888888888,\"#fdca26\"],[1.0,\"#f0f921\"]]}],\"mesh3d\":[{\"type\":\"mesh3d\",\"colorbar\":{\"outlinewidth\":0,\"ticks\":\"\"}}],\"scatter\":[{\"marker\":{\"line\":{\"color\":\"#283442\"}},\"type\":\"scatter\"}],\"parcoords\":[{\"type\":\"parcoords\",\"line\":{\"colorbar\":{\"outlinewidth\":0,\"ticks\":\"\"}}}],\"scatterpolargl\":[{\"type\":\"scatterpolargl\",\"marker\":{\"colorbar\":{\"outlinewidth\":0,\"ticks\":\"\"}}}],\"bar\":[{\"error_x\":{\"color\":\"#f2f5fa\"},\"error_y\":{\"color\":\"#f2f5fa\"},\"marker\":{\"line\":{\"color\":\"rgb(17,17,17)\",\"width\":0.5},\"pattern\":{\"fillmode\":\"overlay\",\"size\":10,\"solidity\":0.2}},\"type\":\"bar\"}],\"scattergeo\":[{\"type\":\"scattergeo\",\"marker\":{\"colorbar\":{\"outlinewidth\":0,\"ticks\":\"\"}}}],\"scatterpolar\":[{\"type\":\"scatterpolar\",\"marker\":{\"colorbar\":{\"outlinewidth\":0,\"ticks\":\"\"}}}],\"histogram\":[{\"marker\":{\"pattern\":{\"fillmode\":\"overlay\",\"size\":10,\"solidity\":0.2}},\"type\":\"histogram\"}],\"scattergl\":[{\"marker\":{\"line\":{\"color\":\"#283442\"}},\"type\":\"scattergl\"}],\"scatter3d\":[{\"type\":\"scatter3d\",\"line\":{\"colorbar\":{\"outlinewidth\":0,\"ticks\":\"\"}},\"marker\":{\"colorbar\":{\"outlinewidth\":0,\"ticks\":\"\"}}}],\"scattermapbox\":[{\"type\":\"scattermapbox\",\"marker\":{\"colorbar\":{\"outlinewidth\":0,\"ticks\":\"\"}}}],\"scatterternary\":[{\"type\":\"scatterternary\",\"marker\":{\"colorbar\":{\"outlinewidth\":0,\"ticks\":\"\"}}}],\"scattercarpet\":[{\"type\":\"scattercarpet\",\"marker\":{\"colorbar\":{\"outlinewidth\":0,\"ticks\":\"\"}}}],\"carpet\":[{\"aaxis\":{\"endlinecolor\":\"#A2B1C6\",\"gridcolor\":\"#506784\",\"linecolor\":\"#506784\",\"minorgridcolor\":\"#506784\",\"startlinecolor\":\"#A2B1C6\"},\"baxis\":{\"endlinecolor\":\"#A2B1C6\",\"gridcolor\":\"#506784\",\"linecolor\":\"#506784\",\"minorgridcolor\":\"#506784\",\"startlinecolor\":\"#A2B1C6\"},\"type\":\"carpet\"}],\"table\":[{\"cells\":{\"fill\":{\"color\":\"#506784\"},\"line\":{\"color\":\"rgb(17,17,17)\"}},\"header\":{\"fill\":{\"color\":\"#2a3f5f\"},\"line\":{\"color\":\"rgb(17,17,17)\"}},\"type\":\"table\"}],\"barpolar\":[{\"marker\":{\"line\":{\"color\":\"rgb(17,17,17)\",\"width\":0.5},\"pattern\":{\"fillmode\":\"overlay\",\"size\":10,\"solidity\":0.2}},\"type\":\"barpolar\"}],\"pie\":[{\"automargin\":true,\"type\":\"pie\"}]},\"layout\":{\"autotypenumbers\":\"strict\",\"colorway\":[\"#636efa\",\"#EF553B\",\"#00cc96\",\"#ab63fa\",\"#FFA15A\",\"#19d3f3\",\"#FF6692\",\"#B6E880\",\"#FF97FF\",\"#FECB52\"],\"font\":{\"color\":\"#f2f5fa\"},\"hovermode\":\"closest\",\"hoverlabel\":{\"align\":\"left\"},\"paper_bgcolor\":\"rgb(17,17,17)\",\"plot_bgcolor\":\"rgb(17,17,17)\",\"polar\":{\"bgcolor\":\"rgb(17,17,17)\",\"angularaxis\":{\"gridcolor\":\"#506784\",\"linecolor\":\"#506784\",\"ticks\":\"\"},\"radialaxis\":{\"gridcolor\":\"#506784\",\"linecolor\":\"#506784\",\"ticks\":\"\"}},\"ternary\":{\"bgcolor\":\"rgb(17,17,17)\",\"aaxis\":{\"gridcolor\":\"#506784\",\"linecolor\":\"#506784\",\"ticks\":\"\"},\"baxis\":{\"gridcolor\":\"#506784\",\"linecolor\":\"#506784\",\"ticks\":\"\"},\"caxis\":{\"gridcolor\":\"#506784\",\"linecolor\":\"#506784\",\"ticks\":\"\"}},\"coloraxis\":{\"colorbar\":{\"outlinewidth\":0,\"ticks\":\"\"}},\"colorscale\":{\"sequential\":[[0.0,\"#0d0887\"],[0.1111111111111111,\"#46039f\"],[0.2222222222222222,\"#7201a8\"],[0.3333333333333333,\"#9c179e\"],[0.4444444444444444,\"#bd3786\"],[0.5555555555555556,\"#d8576b\"],[0.6666666666666666,\"#ed7953\"],[0.7777777777777778,\"#fb9f3a\"],[0.8888888888888888,\"#fdca26\"],[1.0,\"#f0f921\"]],\"sequentialminus\":[[0.0,\"#0d0887\"],[0.1111111111111111,\"#46039f\"],[0.2222222222222222,\"#7201a8\"],[0.3333333333333333,\"#9c179e\"],[0.4444444444444444,\"#bd3786\"],[0.5555555555555556,\"#d8576b\"],[0.6666666666666666,\"#ed7953\"],[0.7777777777777778,\"#fb9f3a\"],[0.8888888888888888,\"#fdca26\"],[1.0,\"#f0f921\"]],\"diverging\":[[0,\"#8e0152\"],[0.1,\"#c51b7d\"],[0.2,\"#de77ae\"],[0.3,\"#f1b6da\"],[0.4,\"#fde0ef\"],[0.5,\"#f7f7f7\"],[0.6,\"#e6f5d0\"],[0.7,\"#b8e186\"],[0.8,\"#7fbc41\"],[0.9,\"#4d9221\"],[1,\"#276419\"]]},\"xaxis\":{\"gridcolor\":\"#283442\",\"linecolor\":\"#506784\",\"ticks\":\"\",\"title\":{\"standoff\":15},\"zerolinecolor\":\"#283442\",\"automargin\":true,\"zerolinewidth\":2},\"yaxis\":{\"gridcolor\":\"#283442\",\"linecolor\":\"#506784\",\"ticks\":\"\",\"title\":{\"standoff\":15},\"zerolinecolor\":\"#283442\",\"automargin\":true,\"zerolinewidth\":2},\"scene\":{\"xaxis\":{\"backgroundcolor\":\"rgb(17,17,17)\",\"gridcolor\":\"#506784\",\"linecolor\":\"#506784\",\"showbackground\":true,\"ticks\":\"\",\"zerolinecolor\":\"#C8D4E3\",\"gridwidth\":2},\"yaxis\":{\"backgroundcolor\":\"rgb(17,17,17)\",\"gridcolor\":\"#506784\",\"linecolor\":\"#506784\",\"showbackground\":true,\"ticks\":\"\",\"zerolinecolor\":\"#C8D4E3\",\"gridwidth\":2},\"zaxis\":{\"backgroundcolor\":\"rgb(17,17,17)\",\"gridcolor\":\"#506784\",\"linecolor\":\"#506784\",\"showbackground\":true,\"ticks\":\"\",\"zerolinecolor\":\"#C8D4E3\",\"gridwidth\":2}},\"shapedefaults\":{\"line\":{\"color\":\"#f2f5fa\"}},\"annotationdefaults\":{\"arrowcolor\":\"#f2f5fa\",\"arrowhead\":0,\"arrowwidth\":1},\"geo\":{\"bgcolor\":\"rgb(17,17,17)\",\"landcolor\":\"rgb(17,17,17)\",\"subunitcolor\":\"#506784\",\"showland\":true,\"showlakes\":true,\"lakecolor\":\"rgb(17,17,17)\"},\"title\":{\"x\":0.05},\"updatemenudefaults\":{\"bgcolor\":\"#506784\",\"borderwidth\":0},\"sliderdefaults\":{\"bgcolor\":\"#C8D4E3\",\"borderwidth\":1,\"bordercolor\":\"rgb(17,17,17)\",\"tickwidth\":0},\"mapbox\":{\"style\":\"dark\"}}},\"xaxis\":{\"anchor\":\"y\",\"domain\":[0.0,1.0],\"title\":{\"text\":\"x\"}},\"yaxis\":{\"anchor\":\"x\",\"domain\":[0.0,1.0],\"title\":{\"text\":\"y\"}},\"legend\":{\"tracegroupgap\":0},\"margin\":{\"t\":60}},                        {\"responsive\": true}                    ).then(function(){\n                            \nvar gd = document.getElementById('b3b7d76d-3a83-413e-9a15-7a146a0ec613');\nvar x = new MutationObserver(function (mutations, observer) {{\n        var display = window.getComputedStyle(gd).display;\n        if (!display || display === 'none') {{\n            console.log([gd, 'removed!']);\n            Plotly.purge(gd);\n            observer.disconnect();\n        }}\n}});\n\n// Listen for the removal of the full notebook cells\nvar notebookContainer = gd.closest('#notebook-container');\nif (notebookContainer) {{\n    x.observe(notebookContainer, {childList: true});\n}}\n\n// Listen for the clearing of the current output cell\nvar outputEl = gd.closest('.output');\nif (outputEl) {{\n    x.observe(outputEl, {childList: true});\n}}\n\n                        })                };                });            </script>        </div>"
     },
     "metadata": {},
     "output_type": "display_data"
    },
    {
     "data": {
      "application/vnd.plotly.v1+json": {
       "data": [
        {
         "hovertemplate": "x=%{x}<br>y=%{y}<extra></extra>",
         "legendgroup": "",
         "line": {
          "color": "#636efa",
          "dash": "solid"
         },
         "marker": {
          "symbol": "circle"
         },
         "mode": "lines",
         "name": "",
         "orientation": "v",
         "showlegend": false,
         "x": [
          1489.670166015625,
          1488.5650634765625,
          1487.459716796875,
          1486.354248046875,
          1485.24853515625,
          1484.142578125,
          1483.0364990234375,
          1481.93017578125,
          1480.8236083984375,
          1479.7169189453125,
          1478.6099853515625,
          1477.5028076171875,
          1476.3955078125,
          1475.2879638671875,
          1474.1802978515625,
          1473.0723876953125,
          1471.9642333984375,
          1470.8558349609375,
          1469.747314453125,
          1468.638671875,
          1467.5296630859375,
          1466.4205322265625,
          1465.311279296875,
          1464.20166015625,
          1463.0919189453125,
          1461.9820556640625,
          1460.8719482421875,
          1459.7615966796875,
          1458.6510009765625,
          1457.540283203125,
          1456.4293212890625,
          1455.3182373046875,
          1454.2069091796875,
          1453.0953369140625,
          1451.983642578125,
          1450.8717041015625,
          1449.759521484375,
          1448.647216796875,
          1447.53466796875,
          1446.421875,
          1445.3089599609375,
          1444.19580078125,
          1443.0823974609375,
          1441.9688720703125,
          1440.8551025390625,
          1439.7410888671875,
          1438.626953125,
          1437.5125732421875,
          1436.3980712890625,
          1435.2833251953125,
          1434.1683349609375,
          1433.0531005859375,
          1431.937744140625,
          1430.8221435546875,
          1429.7064208984375,
          1428.5904541015625,
          1427.4742431640625,
          1426.35791015625,
          1425.2412109375,
          1424.12451171875,
          1423.0074462890625,
          1421.8902587890625,
          1420.7728271484375,
          1419.6552734375,
          1418.5374755859375,
          1417.41943359375,
          1416.30126953125,
          1415.182861328125,
          1414.064208984375,
          1412.9454345703125,
          1411.826416015625,
          1410.7071533203125,
          1409.587646484375,
          1408.468017578125,
          1407.3482666015625,
          1406.2281494140625,
          1405.10791015625,
          1403.9874267578125,
          1402.8668212890625,
          1401.7459716796875,
          1400.6248779296875,
          1399.503662109375,
          1398.3822021484375,
          1397.260498046875,
          1396.1385498046875,
          1395.0164794921875,
          1393.894287109375,
          1392.771728515625,
          1391.6490478515625,
          1390.526123046875,
          1389.403076171875,
          1388.2796630859375,
          1387.15625,
          1386.032470703125,
          1384.9085693359375,
          1383.784423828125,
          1382.6600341796875,
          1381.5355224609375,
          1380.4107666015625,
          1379.2857666015625,
          1378.16064453125,
          1377.0352783203125,
          1375.90966796875,
          1374.783935546875,
          1373.657958984375,
          1372.53173828125,
          1371.4053955078125,
          1370.27880859375,
          1369.1519775390625,
          1368.02490234375,
          1366.897705078125,
          1365.770263671875,
          1364.6427001953125,
          1363.5147705078125,
          1362.38671875,
          1361.258544921875,
          1360.1300048828125,
          1359.0013427734375,
          1357.87255859375,
          1356.743408203125,
          1355.6141357421875,
          1354.484619140625,
          1353.35498046875,
          1352.22509765625,
          1351.094970703125,
          1349.964599609375,
          1348.8341064453125,
          1347.703369140625,
          1346.5723876953125,
          1345.441162109375,
          1344.309814453125,
          1343.17822265625,
          1342.0465087890625,
          1340.91455078125,
          1339.7823486328125,
          1338.64990234375,
          1337.517333984375,
          1336.384521484375,
          1335.25146484375,
          1334.1181640625,
          1332.9847412109375,
          1331.85107421875,
          1330.7171630859375,
          1329.5831298828125,
          1328.4488525390625,
          1327.3143310546875,
          1326.1796875,
          1325.0447998046875,
          1323.90966796875,
          1322.7742919921875,
          1321.6387939453125,
          1320.5029296875,
          1319.3670654296875,
          1318.2308349609375,
          1317.094482421875,
          1315.9578857421875,
          1314.821044921875,
          1313.68408203125,
          1312.546875,
          1311.409423828125,
          1310.271728515625,
          1309.1339111328125,
          1307.995849609375,
          1306.8575439453125,
          1305.718994140625,
          1304.580322265625,
          1303.44140625,
          1302.3023681640625,
          1301.1629638671875,
          1300.0234375,
          1298.8836669921875,
          1297.74365234375,
          1296.603515625,
          1295.463134765625,
          1294.322509765625,
          1293.181640625,
          1292.0406494140625,
          1290.8994140625,
          1289.7579345703125,
          1288.6163330078125,
          1287.474365234375,
          1286.332275390625,
          1285.1900634765625,
          1284.0474853515625,
          1282.90478515625,
          1281.7618408203125,
          1280.61865234375,
          1279.475341796875,
          1278.3316650390625,
          1277.1878662109375,
          1276.0439453125,
          1274.899658203125,
          1273.7552490234375,
          1272.610595703125,
          1271.4656982421875,
          1270.3206787109375,
          1269.17529296875,
          1268.02978515625,
          1266.8841552734375
         ],
         "xaxis": "x",
         "y": [
          4.830323682982883E-4,
          4.901439577240789E-4,
          5.380302632287089E-4,
          5.189043389669622E-4,
          5.134533313770583E-4,
          5.036064792845864E-4,
          4.94112348907002E-4,
          4.904017275123551E-4,
          5.17791572048316E-4,
          5.196319061631029E-4,
          5.393189084367299E-4,
          5.340549257752314E-4,
          5.469255493490452E-4,
          5.609219741051237E-4,
          5.441661713480558E-4,
          5.329962462075093E-4,
          5.304907313760884E-4,
          5.38927885321535E-4,
          5.5390177967046E-4,
          5.514461452413667E-4,
          5.264653266595789E-4,
          5.656807662646943E-4,
          5.47087050355609E-4,
          5.360502893641262E-4,
          5.697602589651282E-4,
          5.595053417599078E-4,
          5.671936400115648E-4,
          5.940269850435142E-4,
          6.224499928933107E-4,
          5.753136992037017E-4,
          5.66249447748091E-4,
          5.607688969806379E-4,
          5.635068939474269E-4,
          5.50013233775408E-4,
          5.690195385291503E-4,
          5.793516987440833E-4,
          5.907124942631765E-4,
          5.931833564920901E-4,
          5.758284788161018E-4,
          5.911522111223406E-4,
          6.111094975566666E-4,
          5.422072780018681E-4,
          6.058548741910453E-4,
          5.971500025690653E-4,
          5.743842069108616E-4,
          5.8891210386933E-4,
          5.777619820309885E-4,
          6.129173784028942E-4,
          6.076206563749549E-4,
          5.968079881756421E-4,
          5.639978641560723E-4,
          5.856290174776406E-4,
          5.853182353927792E-4,
          5.920179304503825E-4,
          6.118519530652742E-4,
          5.803241086968046E-4,
          5.637894769818078E-4,
          5.358892822346368E-4,
          5.614743598212817E-4,
          5.437903062331272E-4,
          5.300363571718601E-4,
          5.58865297213381E-4,
          5.335657254012477E-4,
          5.122845053365683E-4,
          4.8480834736001536E-4,
          4.690641197459666E-4,
          4.537520983075728E-4,
          4.4315812529246274E-4,
          4.496776939089195E-4,
          3.9135540321017474E-4,
          3.5850313534929913E-4,
          3.10475375375226E-4,
          2.7598543375991115E-4,
          2.390267614950899E-4,
          1.4411059021954398E-4,
          7.579370563052593E-5,
          -3.90451284546747E-5,
          -1.4736560981842877E-4,
          -3.992867753441309E-4,
          -7.387566049381309E-4,
          -0.0011954769545970034,
          -0.0018105956599225677,
          -0.00290390957696382,
          -0.0047964046759599605,
          -0.008534007557919956,
          -0.01597457830246711,
          -0.026209775511630413,
          -0.019805960512806916,
          0.01154919233327962,
          0.02832098014693773,
          0.02555807389100134,
          0.017611667773815287,
          0.010862021413147648,
          0.006574029004818411,
          0.004291805614131346,
          0.0029445180206573974,
          0.002180728572304616,
          0.0017743894984638612,
          0.0014929277129155612,
          0.001290187348016015,
          0.0012093709698703372,
          0.001218605892339708,
          0.0012129436395358448,
          0.001275204862426296,
          0.0013199293503509749,
          0.001409236496964544,
          0.001462093991465128,
          0.0015495455567037316,
          0.0016053252321110447,
          0.0015941664792814738,
          0.0015601350549369478,
          0.0014924275351581335,
          0.0013797164881284173,
          0.0013159439972992672,
          0.001182271420324223,
          0.001129150086907768,
          0.0010806433624326252,
          0.00101306007804407,
          0.0010080804699024045,
          0.001012327459749901,
          0.0010086286316689811,
          0.0010244539451799762,
          0.001026873675621337,
          0.0010134129380188167,
          0.0010940623661886183,
          0.0011166123884040972,
          0.0011438350856971273,
          0.0011193529682087691,
          0.0011277938995139772,
          0.0011356955648599498,
          0.0011876418769123165,
          0.0012016668247626552,
          0.0011364554090062472,
          0.0011729874360743356,
          0.001142133398024886,
          0.001151856532948915,
          0.0011466875491933034,
          0.001065706473823036,
          0.001073666184866953,
          0.0010858248562146575,
          0.0010221991390270357,
          9.69731631822845E-4,
          9.580003414539357E-4,
          9.584962745223673E-4,
          8.897501023271367E-4,
          8.95246243708797E-4,
          8.868269979572534E-4,
          8.251118054719286E-4,
          7.805086388557127E-4,
          7.999970231577534E-4,
          7.871346029382365E-4,
          7.762511883725644E-4,
          7.431616598644979E-4,
          7.513493997293825E-4,
          6.956309980135322E-4,
          7.318959719862159E-4,
          6.900080520849941E-4,
          7.069100528779002E-4,
          7.38825675547121E-4,
          7.12476277024214E-4,
          7.28296477421682E-4,
          7.271009959587252E-4,
          7.733519649338668E-4,
          7.185145021098952E-4,
          7.582298218455387E-4,
          7.321840476097444E-4,
          7.528952562817746E-4,
          7.484229995608895E-4,
          8.023363558590189E-4,
          7.651650173065689E-4,
          7.564724771012902E-4,
          7.70129210957484E-4,
          7.554150071452065E-4,
          7.81686970376481E-4,
          7.813986612089813E-4,
          8.12692202502682E-4,
          7.953941119786041E-4,
          8.04345561069373E-4,
          7.580415441884466E-4,
          7.762308771590041E-4,
          7.804042031804707E-4,
          7.610532305621502E-4,
          7.463992022966319E-4,
          7.719906394186429E-4,
          7.132300587460791E-4,
          7.240701271313579E-4,
          7.527756222455506E-4,
          7.469811316038685E-4,
          7.531774228181386E-4,
          7.520769768631403E-4,
          7.499911379167416E-4,
          7.773846578574042E-4,
          7.731847985079812E-4,
          7.480955542117721E-4,
          7.293739027109759E-4,
          7.37060218866508E-4,
          7.280398751681184E-4,
          7.353341835987747E-4,
          7.314512642166882E-4
         ],
         "yaxis": "y",
         "type": "scatter"
        }
       ],
       "layout": {
        "template": {
         "data": {
          "histogram2dcontour": [
           {
            "type": "histogram2dcontour",
            "colorbar": {
             "outlinewidth": 0,
             "ticks": ""
            },
            "colorscale": [
             [
              0.0,
              "#0d0887"
             ],
             [
              0.1111111111111111,
              "#46039f"
             ],
             [
              0.2222222222222222,
              "#7201a8"
             ],
             [
              0.3333333333333333,
              "#9c179e"
             ],
             [
              0.4444444444444444,
              "#bd3786"
             ],
             [
              0.5555555555555556,
              "#d8576b"
             ],
             [
              0.6666666666666666,
              "#ed7953"
             ],
             [
              0.7777777777777778,
              "#fb9f3a"
             ],
             [
              0.8888888888888888,
              "#fdca26"
             ],
             [
              1.0,
              "#f0f921"
             ]
            ]
           }
          ],
          "choropleth": [
           {
            "type": "choropleth",
            "colorbar": {
             "outlinewidth": 0,
             "ticks": ""
            }
           }
          ],
          "histogram2d": [
           {
            "type": "histogram2d",
            "colorbar": {
             "outlinewidth": 0,
             "ticks": ""
            },
            "colorscale": [
             [
              0.0,
              "#0d0887"
             ],
             [
              0.1111111111111111,
              "#46039f"
             ],
             [
              0.2222222222222222,
              "#7201a8"
             ],
             [
              0.3333333333333333,
              "#9c179e"
             ],
             [
              0.4444444444444444,
              "#bd3786"
             ],
             [
              0.5555555555555556,
              "#d8576b"
             ],
             [
              0.6666666666666666,
              "#ed7953"
             ],
             [
              0.7777777777777778,
              "#fb9f3a"
             ],
             [
              0.8888888888888888,
              "#fdca26"
             ],
             [
              1.0,
              "#f0f921"
             ]
            ]
           }
          ],
          "heatmap": [
           {
            "type": "heatmap",
            "colorbar": {
             "outlinewidth": 0,
             "ticks": ""
            },
            "colorscale": [
             [
              0.0,
              "#0d0887"
             ],
             [
              0.1111111111111111,
              "#46039f"
             ],
             [
              0.2222222222222222,
              "#7201a8"
             ],
             [
              0.3333333333333333,
              "#9c179e"
             ],
             [
              0.4444444444444444,
              "#bd3786"
             ],
             [
              0.5555555555555556,
              "#d8576b"
             ],
             [
              0.6666666666666666,
              "#ed7953"
             ],
             [
              0.7777777777777778,
              "#fb9f3a"
             ],
             [
              0.8888888888888888,
              "#fdca26"
             ],
             [
              1.0,
              "#f0f921"
             ]
            ]
           }
          ],
          "heatmapgl": [
           {
            "type": "heatmapgl",
            "colorbar": {
             "outlinewidth": 0,
             "ticks": ""
            },
            "colorscale": [
             [
              0.0,
              "#0d0887"
             ],
             [
              0.1111111111111111,
              "#46039f"
             ],
             [
              0.2222222222222222,
              "#7201a8"
             ],
             [
              0.3333333333333333,
              "#9c179e"
             ],
             [
              0.4444444444444444,
              "#bd3786"
             ],
             [
              0.5555555555555556,
              "#d8576b"
             ],
             [
              0.6666666666666666,
              "#ed7953"
             ],
             [
              0.7777777777777778,
              "#fb9f3a"
             ],
             [
              0.8888888888888888,
              "#fdca26"
             ],
             [
              1.0,
              "#f0f921"
             ]
            ]
           }
          ],
          "contourcarpet": [
           {
            "type": "contourcarpet",
            "colorbar": {
             "outlinewidth": 0,
             "ticks": ""
            }
           }
          ],
          "contour": [
           {
            "type": "contour",
            "colorbar": {
             "outlinewidth": 0,
             "ticks": ""
            },
            "colorscale": [
             [
              0.0,
              "#0d0887"
             ],
             [
              0.1111111111111111,
              "#46039f"
             ],
             [
              0.2222222222222222,
              "#7201a8"
             ],
             [
              0.3333333333333333,
              "#9c179e"
             ],
             [
              0.4444444444444444,
              "#bd3786"
             ],
             [
              0.5555555555555556,
              "#d8576b"
             ],
             [
              0.6666666666666666,
              "#ed7953"
             ],
             [
              0.7777777777777778,
              "#fb9f3a"
             ],
             [
              0.8888888888888888,
              "#fdca26"
             ],
             [
              1.0,
              "#f0f921"
             ]
            ]
           }
          ],
          "surface": [
           {
            "type": "surface",
            "colorbar": {
             "outlinewidth": 0,
             "ticks": ""
            },
            "colorscale": [
             [
              0.0,
              "#0d0887"
             ],
             [
              0.1111111111111111,
              "#46039f"
             ],
             [
              0.2222222222222222,
              "#7201a8"
             ],
             [
              0.3333333333333333,
              "#9c179e"
             ],
             [
              0.4444444444444444,
              "#bd3786"
             ],
             [
              0.5555555555555556,
              "#d8576b"
             ],
             [
              0.6666666666666666,
              "#ed7953"
             ],
             [
              0.7777777777777778,
              "#fb9f3a"
             ],
             [
              0.8888888888888888,
              "#fdca26"
             ],
             [
              1.0,
              "#f0f921"
             ]
            ]
           }
          ],
          "mesh3d": [
           {
            "type": "mesh3d",
            "colorbar": {
             "outlinewidth": 0,
             "ticks": ""
            }
           }
          ],
          "scatter": [
           {
            "marker": {
             "line": {
              "color": "#283442"
             }
            },
            "type": "scatter"
           }
          ],
          "parcoords": [
           {
            "type": "parcoords",
            "line": {
             "colorbar": {
              "outlinewidth": 0,
              "ticks": ""
             }
            }
           }
          ],
          "scatterpolargl": [
           {
            "type": "scatterpolargl",
            "marker": {
             "colorbar": {
              "outlinewidth": 0,
              "ticks": ""
             }
            }
           }
          ],
          "bar": [
           {
            "error_x": {
             "color": "#f2f5fa"
            },
            "error_y": {
             "color": "#f2f5fa"
            },
            "marker": {
             "line": {
              "color": "rgb(17,17,17)",
              "width": 0.5
             },
             "pattern": {
              "fillmode": "overlay",
              "size": 10,
              "solidity": 0.2
             }
            },
            "type": "bar"
           }
          ],
          "scattergeo": [
           {
            "type": "scattergeo",
            "marker": {
             "colorbar": {
              "outlinewidth": 0,
              "ticks": ""
             }
            }
           }
          ],
          "scatterpolar": [
           {
            "type": "scatterpolar",
            "marker": {
             "colorbar": {
              "outlinewidth": 0,
              "ticks": ""
             }
            }
           }
          ],
          "histogram": [
           {
            "marker": {
             "pattern": {
              "fillmode": "overlay",
              "size": 10,
              "solidity": 0.2
             }
            },
            "type": "histogram"
           }
          ],
          "scattergl": [
           {
            "marker": {
             "line": {
              "color": "#283442"
             }
            },
            "type": "scattergl"
           }
          ],
          "scatter3d": [
           {
            "type": "scatter3d",
            "line": {
             "colorbar": {
              "outlinewidth": 0,
              "ticks": ""
             }
            },
            "marker": {
             "colorbar": {
              "outlinewidth": 0,
              "ticks": ""
             }
            }
           }
          ],
          "scattermapbox": [
           {
            "type": "scattermapbox",
            "marker": {
             "colorbar": {
              "outlinewidth": 0,
              "ticks": ""
             }
            }
           }
          ],
          "scatterternary": [
           {
            "type": "scatterternary",
            "marker": {
             "colorbar": {
              "outlinewidth": 0,
              "ticks": ""
             }
            }
           }
          ],
          "scattercarpet": [
           {
            "type": "scattercarpet",
            "marker": {
             "colorbar": {
              "outlinewidth": 0,
              "ticks": ""
             }
            }
           }
          ],
          "carpet": [
           {
            "aaxis": {
             "endlinecolor": "#A2B1C6",
             "gridcolor": "#506784",
             "linecolor": "#506784",
             "minorgridcolor": "#506784",
             "startlinecolor": "#A2B1C6"
            },
            "baxis": {
             "endlinecolor": "#A2B1C6",
             "gridcolor": "#506784",
             "linecolor": "#506784",
             "minorgridcolor": "#506784",
             "startlinecolor": "#A2B1C6"
            },
            "type": "carpet"
           }
          ],
          "table": [
           {
            "cells": {
             "fill": {
              "color": "#506784"
             },
             "line": {
              "color": "rgb(17,17,17)"
             }
            },
            "header": {
             "fill": {
              "color": "#2a3f5f"
             },
             "line": {
              "color": "rgb(17,17,17)"
             }
            },
            "type": "table"
           }
          ],
          "barpolar": [
           {
            "marker": {
             "line": {
              "color": "rgb(17,17,17)",
              "width": 0.5
             },
             "pattern": {
              "fillmode": "overlay",
              "size": 10,
              "solidity": 0.2
             }
            },
            "type": "barpolar"
           }
          ],
          "pie": [
           {
            "automargin": true,
            "type": "pie"
           }
          ]
         },
         "layout": {
          "autotypenumbers": "strict",
          "colorway": [
           "#636efa",
           "#EF553B",
           "#00cc96",
           "#ab63fa",
           "#FFA15A",
           "#19d3f3",
           "#FF6692",
           "#B6E880",
           "#FF97FF",
           "#FECB52"
          ],
          "font": {
           "color": "#f2f5fa"
          },
          "hovermode": "closest",
          "hoverlabel": {
           "align": "left"
          },
          "paper_bgcolor": "rgb(17,17,17)",
          "plot_bgcolor": "rgb(17,17,17)",
          "polar": {
           "bgcolor": "rgb(17,17,17)",
           "angularaxis": {
            "gridcolor": "#506784",
            "linecolor": "#506784",
            "ticks": ""
           },
           "radialaxis": {
            "gridcolor": "#506784",
            "linecolor": "#506784",
            "ticks": ""
           }
          },
          "ternary": {
           "bgcolor": "rgb(17,17,17)",
           "aaxis": {
            "gridcolor": "#506784",
            "linecolor": "#506784",
            "ticks": ""
           },
           "baxis": {
            "gridcolor": "#506784",
            "linecolor": "#506784",
            "ticks": ""
           },
           "caxis": {
            "gridcolor": "#506784",
            "linecolor": "#506784",
            "ticks": ""
           }
          },
          "coloraxis": {
           "colorbar": {
            "outlinewidth": 0,
            "ticks": ""
           }
          },
          "colorscale": {
           "sequential": [
            [
             0.0,
             "#0d0887"
            ],
            [
             0.1111111111111111,
             "#46039f"
            ],
            [
             0.2222222222222222,
             "#7201a8"
            ],
            [
             0.3333333333333333,
             "#9c179e"
            ],
            [
             0.4444444444444444,
             "#bd3786"
            ],
            [
             0.5555555555555556,
             "#d8576b"
            ],
            [
             0.6666666666666666,
             "#ed7953"
            ],
            [
             0.7777777777777778,
             "#fb9f3a"
            ],
            [
             0.8888888888888888,
             "#fdca26"
            ],
            [
             1.0,
             "#f0f921"
            ]
           ],
           "sequentialminus": [
            [
             0.0,
             "#0d0887"
            ],
            [
             0.1111111111111111,
             "#46039f"
            ],
            [
             0.2222222222222222,
             "#7201a8"
            ],
            [
             0.3333333333333333,
             "#9c179e"
            ],
            [
             0.4444444444444444,
             "#bd3786"
            ],
            [
             0.5555555555555556,
             "#d8576b"
            ],
            [
             0.6666666666666666,
             "#ed7953"
            ],
            [
             0.7777777777777778,
             "#fb9f3a"
            ],
            [
             0.8888888888888888,
             "#fdca26"
            ],
            [
             1.0,
             "#f0f921"
            ]
           ],
           "diverging": [
            [
             0,
             "#8e0152"
            ],
            [
             0.1,
             "#c51b7d"
            ],
            [
             0.2,
             "#de77ae"
            ],
            [
             0.3,
             "#f1b6da"
            ],
            [
             0.4,
             "#fde0ef"
            ],
            [
             0.5,
             "#f7f7f7"
            ],
            [
             0.6,
             "#e6f5d0"
            ],
            [
             0.7,
             "#b8e186"
            ],
            [
             0.8,
             "#7fbc41"
            ],
            [
             0.9,
             "#4d9221"
            ],
            [
             1,
             "#276419"
            ]
           ]
          },
          "xaxis": {
           "gridcolor": "#283442",
           "linecolor": "#506784",
           "ticks": "",
           "title": {
            "standoff": 15
           },
           "zerolinecolor": "#283442",
           "automargin": true,
           "zerolinewidth": 2
          },
          "yaxis": {
           "gridcolor": "#283442",
           "linecolor": "#506784",
           "ticks": "",
           "title": {
            "standoff": 15
           },
           "zerolinecolor": "#283442",
           "automargin": true,
           "zerolinewidth": 2
          },
          "scene": {
           "xaxis": {
            "backgroundcolor": "rgb(17,17,17)",
            "gridcolor": "#506784",
            "linecolor": "#506784",
            "showbackground": true,
            "ticks": "",
            "zerolinecolor": "#C8D4E3",
            "gridwidth": 2
           },
           "yaxis": {
            "backgroundcolor": "rgb(17,17,17)",
            "gridcolor": "#506784",
            "linecolor": "#506784",
            "showbackground": true,
            "ticks": "",
            "zerolinecolor": "#C8D4E3",
            "gridwidth": 2
           },
           "zaxis": {
            "backgroundcolor": "rgb(17,17,17)",
            "gridcolor": "#506784",
            "linecolor": "#506784",
            "showbackground": true,
            "ticks": "",
            "zerolinecolor": "#C8D4E3",
            "gridwidth": 2
           }
          },
          "shapedefaults": {
           "line": {
            "color": "#f2f5fa"
           }
          },
          "annotationdefaults": {
           "arrowcolor": "#f2f5fa",
           "arrowhead": 0,
           "arrowwidth": 1
          },
          "geo": {
           "bgcolor": "rgb(17,17,17)",
           "landcolor": "rgb(17,17,17)",
           "subunitcolor": "#506784",
           "showland": true,
           "showlakes": true,
           "lakecolor": "rgb(17,17,17)"
          },
          "title": {
           "x": 0.05
          },
          "updatemenudefaults": {
           "bgcolor": "#506784",
           "borderwidth": 0
          },
          "sliderdefaults": {
           "bgcolor": "#C8D4E3",
           "borderwidth": 1,
           "bordercolor": "rgb(17,17,17)",
           "tickwidth": 0
          },
          "mapbox": {
           "style": "dark"
          }
         }
        },
        "xaxis": {
         "anchor": "y",
         "domain": [
          0.0,
          1.0
         ],
         "title": {
          "text": "x"
         }
        },
        "yaxis": {
         "anchor": "x",
         "domain": [
          0.0,
          1.0
         ],
         "title": {
          "text": "y"
         }
        },
        "legend": {
         "tracegroupgap": 0
        },
        "margin": {
         "t": 60
        }
       },
       "config": {
        "plotlyServerURL": "https://plot.ly"
       }
      },
      "text/html": "<div>                            <div id=\"12d51048-aaec-44eb-b41d-dcbadc814c51\" class=\"plotly-graph-div\" style=\"height:525px; width:100%;\"></div>            <script type=\"text/javascript\">                require([\"plotly\"], function(Plotly) {                    window.PLOTLYENV=window.PLOTLYENV || {};                                    if (document.getElementById(\"12d51048-aaec-44eb-b41d-dcbadc814c51\")) {                    Plotly.newPlot(                        \"12d51048-aaec-44eb-b41d-dcbadc814c51\",                        [{\"hovertemplate\":\"x=%{x}\\u003cbr\\u003ey=%{y}\\u003cextra\\u003e\\u003c\\u002fextra\\u003e\",\"legendgroup\":\"\",\"line\":{\"color\":\"#636efa\",\"dash\":\"solid\"},\"marker\":{\"symbol\":\"circle\"},\"mode\":\"lines\",\"name\":\"\",\"orientation\":\"v\",\"showlegend\":false,\"x\":[1489.670166015625,1488.5650634765625,1487.459716796875,1486.354248046875,1485.24853515625,1484.142578125,1483.0364990234375,1481.93017578125,1480.8236083984375,1479.7169189453125,1478.6099853515625,1477.5028076171875,1476.3955078125,1475.2879638671875,1474.1802978515625,1473.0723876953125,1471.9642333984375,1470.8558349609375,1469.747314453125,1468.638671875,1467.5296630859375,1466.4205322265625,1465.311279296875,1464.20166015625,1463.0919189453125,1461.9820556640625,1460.8719482421875,1459.7615966796875,1458.6510009765625,1457.540283203125,1456.4293212890625,1455.3182373046875,1454.2069091796875,1453.0953369140625,1451.983642578125,1450.8717041015625,1449.759521484375,1448.647216796875,1447.53466796875,1446.421875,1445.3089599609375,1444.19580078125,1443.0823974609375,1441.9688720703125,1440.8551025390625,1439.7410888671875,1438.626953125,1437.5125732421875,1436.3980712890625,1435.2833251953125,1434.1683349609375,1433.0531005859375,1431.937744140625,1430.8221435546875,1429.7064208984375,1428.5904541015625,1427.4742431640625,1426.35791015625,1425.2412109375,1424.12451171875,1423.0074462890625,1421.8902587890625,1420.7728271484375,1419.6552734375,1418.5374755859375,1417.41943359375,1416.30126953125,1415.182861328125,1414.064208984375,1412.9454345703125,1411.826416015625,1410.7071533203125,1409.587646484375,1408.468017578125,1407.3482666015625,1406.2281494140625,1405.10791015625,1403.9874267578125,1402.8668212890625,1401.7459716796875,1400.6248779296875,1399.503662109375,1398.3822021484375,1397.260498046875,1396.1385498046875,1395.0164794921875,1393.894287109375,1392.771728515625,1391.6490478515625,1390.526123046875,1389.403076171875,1388.2796630859375,1387.15625,1386.032470703125,1384.9085693359375,1383.784423828125,1382.6600341796875,1381.5355224609375,1380.4107666015625,1379.2857666015625,1378.16064453125,1377.0352783203125,1375.90966796875,1374.783935546875,1373.657958984375,1372.53173828125,1371.4053955078125,1370.27880859375,1369.1519775390625,1368.02490234375,1366.897705078125,1365.770263671875,1364.6427001953125,1363.5147705078125,1362.38671875,1361.258544921875,1360.1300048828125,1359.0013427734375,1357.87255859375,1356.743408203125,1355.6141357421875,1354.484619140625,1353.35498046875,1352.22509765625,1351.094970703125,1349.964599609375,1348.8341064453125,1347.703369140625,1346.5723876953125,1345.441162109375,1344.309814453125,1343.17822265625,1342.0465087890625,1340.91455078125,1339.7823486328125,1338.64990234375,1337.517333984375,1336.384521484375,1335.25146484375,1334.1181640625,1332.9847412109375,1331.85107421875,1330.7171630859375,1329.5831298828125,1328.4488525390625,1327.3143310546875,1326.1796875,1325.0447998046875,1323.90966796875,1322.7742919921875,1321.6387939453125,1320.5029296875,1319.3670654296875,1318.2308349609375,1317.094482421875,1315.9578857421875,1314.821044921875,1313.68408203125,1312.546875,1311.409423828125,1310.271728515625,1309.1339111328125,1307.995849609375,1306.8575439453125,1305.718994140625,1304.580322265625,1303.44140625,1302.3023681640625,1301.1629638671875,1300.0234375,1298.8836669921875,1297.74365234375,1296.603515625,1295.463134765625,1294.322509765625,1293.181640625,1292.0406494140625,1290.8994140625,1289.7579345703125,1288.6163330078125,1287.474365234375,1286.332275390625,1285.1900634765625,1284.0474853515625,1282.90478515625,1281.7618408203125,1280.61865234375,1279.475341796875,1278.3316650390625,1277.1878662109375,1276.0439453125,1274.899658203125,1273.7552490234375,1272.610595703125,1271.4656982421875,1270.3206787109375,1269.17529296875,1268.02978515625,1266.8841552734375],\"xaxis\":\"x\",\"y\":[0.0004830323682982883,0.0004901439577240789,0.0005380302632287089,0.0005189043389669622,0.0005134533313770583,0.0005036064792845864,0.000494112348907002,0.0004904017275123551,0.000517791572048316,0.0005196319061631029,0.0005393189084367299,0.0005340549257752314,0.0005469255493490452,0.0005609219741051237,0.0005441661713480558,0.0005329962462075093,0.0005304907313760884,0.000538927885321535,0.00055390177967046,0.0005514461452413667,0.0005264653266595789,0.0005656807662646943,0.000547087050355609,0.0005360502893641262,0.0005697602589651282,0.0005595053417599078,0.0005671936400115648,0.0005940269850435142,0.0006224499928933107,0.0005753136992037017,0.000566249447748091,0.0005607688969806379,0.0005635068939474269,0.000550013233775408,0.0005690195385291503,0.0005793516987440833,0.0005907124942631765,0.0005931833564920901,0.0005758284788161018,0.0005911522111223406,0.0006111094975566666,0.0005422072780018681,0.0006058548741910453,0.0005971500025690653,0.0005743842069108616,0.00058891210386933,0.0005777619820309885,0.0006129173784028942,0.0006076206563749549,0.0005968079881756421,0.0005639978641560723,0.0005856290174776406,0.0005853182353927792,0.0005920179304503825,0.0006118519530652742,0.0005803241086968046,0.0005637894769818078,0.0005358892822346368,0.0005614743598212817,0.0005437903062331272,0.0005300363571718601,0.000558865297213381,0.0005335657254012477,0.0005122845053365683,0.00048480834736001536,0.0004690641197459666,0.0004537520983075728,0.00044315812529246274,0.0004496776939089195,0.00039135540321017474,0.00035850313534929913,0.000310475375375226,0.00027598543375991115,0.0002390267614950899,0.00014411059021954398,7.579370563052593e-05,-3.90451284546747e-05,-0.00014736560981842877,-0.0003992867753441309,-0.0007387566049381309,-0.0011954769545970034,-0.0018105956599225677,-0.00290390957696382,-0.0047964046759599605,-0.008534007557919956,-0.01597457830246711,-0.026209775511630413,-0.019805960512806916,0.01154919233327962,0.02832098014693773,0.02555807389100134,0.017611667773815287,0.010862021413147648,0.006574029004818411,0.004291805614131346,0.0029445180206573974,0.002180728572304616,0.0017743894984638612,0.0014929277129155612,0.001290187348016015,0.0012093709698703372,0.001218605892339708,0.0012129436395358448,0.001275204862426296,0.0013199293503509749,0.001409236496964544,0.001462093991465128,0.0015495455567037316,0.0016053252321110447,0.0015941664792814738,0.0015601350549369478,0.0014924275351581335,0.0013797164881284173,0.0013159439972992672,0.001182271420324223,0.001129150086907768,0.0010806433624326252,0.00101306007804407,0.0010080804699024045,0.001012327459749901,0.0010086286316689811,0.0010244539451799762,0.001026873675621337,0.0010134129380188167,0.0010940623661886183,0.0011166123884040972,0.0011438350856971273,0.0011193529682087691,0.0011277938995139772,0.0011356955648599498,0.0011876418769123165,0.0012016668247626552,0.0011364554090062472,0.0011729874360743356,0.001142133398024886,0.001151856532948915,0.0011466875491933034,0.001065706473823036,0.001073666184866953,0.0010858248562146575,0.0010221991390270357,0.000969731631822845,0.0009580003414539357,0.0009584962745223673,0.0008897501023271367,0.000895246243708797,0.0008868269979572534,0.0008251118054719286,0.0007805086388557127,0.0007999970231577534,0.0007871346029382365,0.0007762511883725644,0.0007431616598644979,0.0007513493997293825,0.0006956309980135322,0.0007318959719862159,0.0006900080520849941,0.0007069100528779002,0.000738825675547121,0.000712476277024214,0.000728296477421682,0.0007271009959587252,0.0007733519649338668,0.0007185145021098952,0.0007582298218455387,0.0007321840476097444,0.0007528952562817746,0.0007484229995608895,0.0008023363558590189,0.0007651650173065689,0.0007564724771012902,0.000770129210957484,0.0007554150071452065,0.000781686970376481,0.0007813986612089813,0.000812692202502682,0.0007953941119786041,0.000804345561069373,0.0007580415441884466,0.0007762308771590041,0.0007804042031804707,0.0007610532305621502,0.0007463992022966319,0.0007719906394186429,0.0007132300587460791,0.0007240701271313579,0.0007527756222455506,0.0007469811316038685,0.0007531774228181386,0.0007520769768631403,0.0007499911379167416,0.0007773846578574042,0.0007731847985079812,0.0007480955542117721,0.0007293739027109759,0.000737060218866508,0.0007280398751681184,0.0007353341835987747,0.0007314512642166882],\"yaxis\":\"y\",\"type\":\"scatter\"}],                        {\"template\":{\"data\":{\"histogram2dcontour\":[{\"type\":\"histogram2dcontour\",\"colorbar\":{\"outlinewidth\":0,\"ticks\":\"\"},\"colorscale\":[[0.0,\"#0d0887\"],[0.1111111111111111,\"#46039f\"],[0.2222222222222222,\"#7201a8\"],[0.3333333333333333,\"#9c179e\"],[0.4444444444444444,\"#bd3786\"],[0.5555555555555556,\"#d8576b\"],[0.6666666666666666,\"#ed7953\"],[0.7777777777777778,\"#fb9f3a\"],[0.8888888888888888,\"#fdca26\"],[1.0,\"#f0f921\"]]}],\"choropleth\":[{\"type\":\"choropleth\",\"colorbar\":{\"outlinewidth\":0,\"ticks\":\"\"}}],\"histogram2d\":[{\"type\":\"histogram2d\",\"colorbar\":{\"outlinewidth\":0,\"ticks\":\"\"},\"colorscale\":[[0.0,\"#0d0887\"],[0.1111111111111111,\"#46039f\"],[0.2222222222222222,\"#7201a8\"],[0.3333333333333333,\"#9c179e\"],[0.4444444444444444,\"#bd3786\"],[0.5555555555555556,\"#d8576b\"],[0.6666666666666666,\"#ed7953\"],[0.7777777777777778,\"#fb9f3a\"],[0.8888888888888888,\"#fdca26\"],[1.0,\"#f0f921\"]]}],\"heatmap\":[{\"type\":\"heatmap\",\"colorbar\":{\"outlinewidth\":0,\"ticks\":\"\"},\"colorscale\":[[0.0,\"#0d0887\"],[0.1111111111111111,\"#46039f\"],[0.2222222222222222,\"#7201a8\"],[0.3333333333333333,\"#9c179e\"],[0.4444444444444444,\"#bd3786\"],[0.5555555555555556,\"#d8576b\"],[0.6666666666666666,\"#ed7953\"],[0.7777777777777778,\"#fb9f3a\"],[0.8888888888888888,\"#fdca26\"],[1.0,\"#f0f921\"]]}],\"heatmapgl\":[{\"type\":\"heatmapgl\",\"colorbar\":{\"outlinewidth\":0,\"ticks\":\"\"},\"colorscale\":[[0.0,\"#0d0887\"],[0.1111111111111111,\"#46039f\"],[0.2222222222222222,\"#7201a8\"],[0.3333333333333333,\"#9c179e\"],[0.4444444444444444,\"#bd3786\"],[0.5555555555555556,\"#d8576b\"],[0.6666666666666666,\"#ed7953\"],[0.7777777777777778,\"#fb9f3a\"],[0.8888888888888888,\"#fdca26\"],[1.0,\"#f0f921\"]]}],\"contourcarpet\":[{\"type\":\"contourcarpet\",\"colorbar\":{\"outlinewidth\":0,\"ticks\":\"\"}}],\"contour\":[{\"type\":\"contour\",\"colorbar\":{\"outlinewidth\":0,\"ticks\":\"\"},\"colorscale\":[[0.0,\"#0d0887\"],[0.1111111111111111,\"#46039f\"],[0.2222222222222222,\"#7201a8\"],[0.3333333333333333,\"#9c179e\"],[0.4444444444444444,\"#bd3786\"],[0.5555555555555556,\"#d8576b\"],[0.6666666666666666,\"#ed7953\"],[0.7777777777777778,\"#fb9f3a\"],[0.8888888888888888,\"#fdca26\"],[1.0,\"#f0f921\"]]}],\"surface\":[{\"type\":\"surface\",\"colorbar\":{\"outlinewidth\":0,\"ticks\":\"\"},\"colorscale\":[[0.0,\"#0d0887\"],[0.1111111111111111,\"#46039f\"],[0.2222222222222222,\"#7201a8\"],[0.3333333333333333,\"#9c179e\"],[0.4444444444444444,\"#bd3786\"],[0.5555555555555556,\"#d8576b\"],[0.6666666666666666,\"#ed7953\"],[0.7777777777777778,\"#fb9f3a\"],[0.8888888888888888,\"#fdca26\"],[1.0,\"#f0f921\"]]}],\"mesh3d\":[{\"type\":\"mesh3d\",\"colorbar\":{\"outlinewidth\":0,\"ticks\":\"\"}}],\"scatter\":[{\"marker\":{\"line\":{\"color\":\"#283442\"}},\"type\":\"scatter\"}],\"parcoords\":[{\"type\":\"parcoords\",\"line\":{\"colorbar\":{\"outlinewidth\":0,\"ticks\":\"\"}}}],\"scatterpolargl\":[{\"type\":\"scatterpolargl\",\"marker\":{\"colorbar\":{\"outlinewidth\":0,\"ticks\":\"\"}}}],\"bar\":[{\"error_x\":{\"color\":\"#f2f5fa\"},\"error_y\":{\"color\":\"#f2f5fa\"},\"marker\":{\"line\":{\"color\":\"rgb(17,17,17)\",\"width\":0.5},\"pattern\":{\"fillmode\":\"overlay\",\"size\":10,\"solidity\":0.2}},\"type\":\"bar\"}],\"scattergeo\":[{\"type\":\"scattergeo\",\"marker\":{\"colorbar\":{\"outlinewidth\":0,\"ticks\":\"\"}}}],\"scatterpolar\":[{\"type\":\"scatterpolar\",\"marker\":{\"colorbar\":{\"outlinewidth\":0,\"ticks\":\"\"}}}],\"histogram\":[{\"marker\":{\"pattern\":{\"fillmode\":\"overlay\",\"size\":10,\"solidity\":0.2}},\"type\":\"histogram\"}],\"scattergl\":[{\"marker\":{\"line\":{\"color\":\"#283442\"}},\"type\":\"scattergl\"}],\"scatter3d\":[{\"type\":\"scatter3d\",\"line\":{\"colorbar\":{\"outlinewidth\":0,\"ticks\":\"\"}},\"marker\":{\"colorbar\":{\"outlinewidth\":0,\"ticks\":\"\"}}}],\"scattermapbox\":[{\"type\":\"scattermapbox\",\"marker\":{\"colorbar\":{\"outlinewidth\":0,\"ticks\":\"\"}}}],\"scatterternary\":[{\"type\":\"scatterternary\",\"marker\":{\"colorbar\":{\"outlinewidth\":0,\"ticks\":\"\"}}}],\"scattercarpet\":[{\"type\":\"scattercarpet\",\"marker\":{\"colorbar\":{\"outlinewidth\":0,\"ticks\":\"\"}}}],\"carpet\":[{\"aaxis\":{\"endlinecolor\":\"#A2B1C6\",\"gridcolor\":\"#506784\",\"linecolor\":\"#506784\",\"minorgridcolor\":\"#506784\",\"startlinecolor\":\"#A2B1C6\"},\"baxis\":{\"endlinecolor\":\"#A2B1C6\",\"gridcolor\":\"#506784\",\"linecolor\":\"#506784\",\"minorgridcolor\":\"#506784\",\"startlinecolor\":\"#A2B1C6\"},\"type\":\"carpet\"}],\"table\":[{\"cells\":{\"fill\":{\"color\":\"#506784\"},\"line\":{\"color\":\"rgb(17,17,17)\"}},\"header\":{\"fill\":{\"color\":\"#2a3f5f\"},\"line\":{\"color\":\"rgb(17,17,17)\"}},\"type\":\"table\"}],\"barpolar\":[{\"marker\":{\"line\":{\"color\":\"rgb(17,17,17)\",\"width\":0.5},\"pattern\":{\"fillmode\":\"overlay\",\"size\":10,\"solidity\":0.2}},\"type\":\"barpolar\"}],\"pie\":[{\"automargin\":true,\"type\":\"pie\"}]},\"layout\":{\"autotypenumbers\":\"strict\",\"colorway\":[\"#636efa\",\"#EF553B\",\"#00cc96\",\"#ab63fa\",\"#FFA15A\",\"#19d3f3\",\"#FF6692\",\"#B6E880\",\"#FF97FF\",\"#FECB52\"],\"font\":{\"color\":\"#f2f5fa\"},\"hovermode\":\"closest\",\"hoverlabel\":{\"align\":\"left\"},\"paper_bgcolor\":\"rgb(17,17,17)\",\"plot_bgcolor\":\"rgb(17,17,17)\",\"polar\":{\"bgcolor\":\"rgb(17,17,17)\",\"angularaxis\":{\"gridcolor\":\"#506784\",\"linecolor\":\"#506784\",\"ticks\":\"\"},\"radialaxis\":{\"gridcolor\":\"#506784\",\"linecolor\":\"#506784\",\"ticks\":\"\"}},\"ternary\":{\"bgcolor\":\"rgb(17,17,17)\",\"aaxis\":{\"gridcolor\":\"#506784\",\"linecolor\":\"#506784\",\"ticks\":\"\"},\"baxis\":{\"gridcolor\":\"#506784\",\"linecolor\":\"#506784\",\"ticks\":\"\"},\"caxis\":{\"gridcolor\":\"#506784\",\"linecolor\":\"#506784\",\"ticks\":\"\"}},\"coloraxis\":{\"colorbar\":{\"outlinewidth\":0,\"ticks\":\"\"}},\"colorscale\":{\"sequential\":[[0.0,\"#0d0887\"],[0.1111111111111111,\"#46039f\"],[0.2222222222222222,\"#7201a8\"],[0.3333333333333333,\"#9c179e\"],[0.4444444444444444,\"#bd3786\"],[0.5555555555555556,\"#d8576b\"],[0.6666666666666666,\"#ed7953\"],[0.7777777777777778,\"#fb9f3a\"],[0.8888888888888888,\"#fdca26\"],[1.0,\"#f0f921\"]],\"sequentialminus\":[[0.0,\"#0d0887\"],[0.1111111111111111,\"#46039f\"],[0.2222222222222222,\"#7201a8\"],[0.3333333333333333,\"#9c179e\"],[0.4444444444444444,\"#bd3786\"],[0.5555555555555556,\"#d8576b\"],[0.6666666666666666,\"#ed7953\"],[0.7777777777777778,\"#fb9f3a\"],[0.8888888888888888,\"#fdca26\"],[1.0,\"#f0f921\"]],\"diverging\":[[0,\"#8e0152\"],[0.1,\"#c51b7d\"],[0.2,\"#de77ae\"],[0.3,\"#f1b6da\"],[0.4,\"#fde0ef\"],[0.5,\"#f7f7f7\"],[0.6,\"#e6f5d0\"],[0.7,\"#b8e186\"],[0.8,\"#7fbc41\"],[0.9,\"#4d9221\"],[1,\"#276419\"]]},\"xaxis\":{\"gridcolor\":\"#283442\",\"linecolor\":\"#506784\",\"ticks\":\"\",\"title\":{\"standoff\":15},\"zerolinecolor\":\"#283442\",\"automargin\":true,\"zerolinewidth\":2},\"yaxis\":{\"gridcolor\":\"#283442\",\"linecolor\":\"#506784\",\"ticks\":\"\",\"title\":{\"standoff\":15},\"zerolinecolor\":\"#283442\",\"automargin\":true,\"zerolinewidth\":2},\"scene\":{\"xaxis\":{\"backgroundcolor\":\"rgb(17,17,17)\",\"gridcolor\":\"#506784\",\"linecolor\":\"#506784\",\"showbackground\":true,\"ticks\":\"\",\"zerolinecolor\":\"#C8D4E3\",\"gridwidth\":2},\"yaxis\":{\"backgroundcolor\":\"rgb(17,17,17)\",\"gridcolor\":\"#506784\",\"linecolor\":\"#506784\",\"showbackground\":true,\"ticks\":\"\",\"zerolinecolor\":\"#C8D4E3\",\"gridwidth\":2},\"zaxis\":{\"backgroundcolor\":\"rgb(17,17,17)\",\"gridcolor\":\"#506784\",\"linecolor\":\"#506784\",\"showbackground\":true,\"ticks\":\"\",\"zerolinecolor\":\"#C8D4E3\",\"gridwidth\":2}},\"shapedefaults\":{\"line\":{\"color\":\"#f2f5fa\"}},\"annotationdefaults\":{\"arrowcolor\":\"#f2f5fa\",\"arrowhead\":0,\"arrowwidth\":1},\"geo\":{\"bgcolor\":\"rgb(17,17,17)\",\"landcolor\":\"rgb(17,17,17)\",\"subunitcolor\":\"#506784\",\"showland\":true,\"showlakes\":true,\"lakecolor\":\"rgb(17,17,17)\"},\"title\":{\"x\":0.05},\"updatemenudefaults\":{\"bgcolor\":\"#506784\",\"borderwidth\":0},\"sliderdefaults\":{\"bgcolor\":\"#C8D4E3\",\"borderwidth\":1,\"bordercolor\":\"rgb(17,17,17)\",\"tickwidth\":0},\"mapbox\":{\"style\":\"dark\"}}},\"xaxis\":{\"anchor\":\"y\",\"domain\":[0.0,1.0],\"title\":{\"text\":\"x\"}},\"yaxis\":{\"anchor\":\"x\",\"domain\":[0.0,1.0],\"title\":{\"text\":\"y\"}},\"legend\":{\"tracegroupgap\":0},\"margin\":{\"t\":60}},                        {\"responsive\": true}                    ).then(function(){\n                            \nvar gd = document.getElementById('12d51048-aaec-44eb-b41d-dcbadc814c51');\nvar x = new MutationObserver(function (mutations, observer) {{\n        var display = window.getComputedStyle(gd).display;\n        if (!display || display === 'none') {{\n            console.log([gd, 'removed!']);\n            Plotly.purge(gd);\n            observer.disconnect();\n        }}\n}});\n\n// Listen for the removal of the full notebook cells\nvar notebookContainer = gd.closest('#notebook-container');\nif (notebookContainer) {{\n    x.observe(notebookContainer, {childList: true});\n}}\n\n// Listen for the clearing of the current output cell\nvar outputEl = gd.closest('.output');\nif (outputEl) {{\n    x.observe(outputEl, {childList: true});\n}}\n\n                        })                };                });            </script>        </div>"
     },
     "metadata": {},
     "output_type": "display_data"
    }
   ],
   "source": [
    "# s_matrix = np.array([\n",
    "#     [0, 0, 0, 0],\n",
    "#     [-.6 * 10**-7, 0, 0, 0],\n",
    "#     [-.3 * 10**-7, 0, 0, 0],\n",
    "#     [0, 0, 0, 0]\n",
    "# ])\n",
    "new_base_vectors = np.dot(map_a.base_vectors[:4].T, np.linalg.inv(t_matrix)).T\n",
    "# print(new_vectors[0])\n",
    "px.line(x = map_a.raman_shift, y = new_base_vectors[0]).show()\n",
    "px.line(x = map_a.raman_shift, y = new_base_vectors[1]).show()\n",
    "px.line(x = map_a.raman_shift, y = new_base_vectors[2]).show()\n",
    "px.line(x = map_a.raman_shift, y = new_base_vectors[3]).show()"
   ],
   "metadata": {
    "collapsed": false,
    "ExecuteTime": {
     "end_time": "2024-04-09T07:38:10.861425Z",
     "start_time": "2024-04-09T07:38:10.684829Z"
    }
   },
   "id": "839572da4bf014e6",
   "execution_count": 99
  },
  {
   "cell_type": "code",
   "outputs": [],
   "source": [
    "# r = map_a.reconstruct(5)\n",
    "# d = map_a.data_matrix - r\n",
    "# i = map_a.posToId(12,4)\n",
    "# f = map_a.plotSpectrum(i)\n",
    "# f.add_scatter(x = map_a.raman_shift, y = r[i], mode='lines', name = 'Rekonstrukcja')\n",
    "# f.add_scatter(x = map_a.raman_shift, y = d[i], mode='lines', name = 'Roznica')\n",
    "# f.update_layout(hovermode=\"x\")\n",
    "# f.show()"
   ],
   "metadata": {
    "collapsed": false,
    "ExecuteTime": {
     "end_time": "2024-04-09T07:32:31.974914Z",
     "start_time": "2024-04-09T07:32:31.970306Z"
    }
   },
   "id": "15e5910871573e23",
   "execution_count": 93
  },
  {
   "cell_type": "code",
   "outputs": [
    {
     "data": {
      "application/vnd.plotly.v1+json": {
       "data": [
        {
         "hovertemplate": "x=%{x}<br>y=%{y}<extra></extra>",
         "legendgroup": "",
         "line": {
          "color": "#636efa",
          "dash": "solid"
         },
         "marker": {
          "symbol": "circle"
         },
         "mode": "lines",
         "name": "",
         "orientation": "v",
         "showlegend": false,
         "x": [
          1489.670166015625,
          1488.5650634765625,
          1487.459716796875,
          1486.354248046875,
          1485.24853515625,
          1484.142578125,
          1483.0364990234375,
          1481.93017578125,
          1480.8236083984375,
          1479.7169189453125,
          1478.6099853515625,
          1477.5028076171875,
          1476.3955078125,
          1475.2879638671875,
          1474.1802978515625,
          1473.0723876953125,
          1471.9642333984375,
          1470.8558349609375,
          1469.747314453125,
          1468.638671875,
          1467.5296630859375,
          1466.4205322265625,
          1465.311279296875,
          1464.20166015625,
          1463.0919189453125,
          1461.9820556640625,
          1460.8719482421875,
          1459.7615966796875,
          1458.6510009765625,
          1457.540283203125,
          1456.4293212890625,
          1455.3182373046875,
          1454.2069091796875,
          1453.0953369140625,
          1451.983642578125,
          1450.8717041015625,
          1449.759521484375,
          1448.647216796875,
          1447.53466796875,
          1446.421875,
          1445.3089599609375,
          1444.19580078125,
          1443.0823974609375,
          1441.9688720703125,
          1440.8551025390625,
          1439.7410888671875,
          1438.626953125,
          1437.5125732421875,
          1436.3980712890625,
          1435.2833251953125,
          1434.1683349609375,
          1433.0531005859375,
          1431.937744140625,
          1430.8221435546875,
          1429.7064208984375,
          1428.5904541015625,
          1427.4742431640625,
          1426.35791015625,
          1425.2412109375,
          1424.12451171875,
          1423.0074462890625,
          1421.8902587890625,
          1420.7728271484375,
          1419.6552734375,
          1418.5374755859375,
          1417.41943359375,
          1416.30126953125,
          1415.182861328125,
          1414.064208984375,
          1412.9454345703125,
          1411.826416015625,
          1410.7071533203125,
          1409.587646484375,
          1408.468017578125,
          1407.3482666015625,
          1406.2281494140625,
          1405.10791015625,
          1403.9874267578125,
          1402.8668212890625,
          1401.7459716796875,
          1400.6248779296875,
          1399.503662109375,
          1398.3822021484375,
          1397.260498046875,
          1396.1385498046875,
          1395.0164794921875,
          1393.894287109375,
          1392.771728515625,
          1391.6490478515625,
          1390.526123046875,
          1389.403076171875,
          1388.2796630859375,
          1387.15625,
          1386.032470703125,
          1384.9085693359375,
          1383.784423828125,
          1382.6600341796875,
          1381.5355224609375,
          1380.4107666015625,
          1379.2857666015625,
          1378.16064453125,
          1377.0352783203125,
          1375.90966796875,
          1374.783935546875,
          1373.657958984375,
          1372.53173828125,
          1371.4053955078125,
          1370.27880859375,
          1369.1519775390625,
          1368.02490234375,
          1366.897705078125,
          1365.770263671875,
          1364.6427001953125,
          1363.5147705078125,
          1362.38671875,
          1361.258544921875,
          1360.1300048828125,
          1359.0013427734375,
          1357.87255859375,
          1356.743408203125,
          1355.6141357421875,
          1354.484619140625,
          1353.35498046875,
          1352.22509765625,
          1351.094970703125,
          1349.964599609375,
          1348.8341064453125,
          1347.703369140625,
          1346.5723876953125,
          1345.441162109375,
          1344.309814453125,
          1343.17822265625,
          1342.0465087890625,
          1340.91455078125,
          1339.7823486328125,
          1338.64990234375,
          1337.517333984375,
          1336.384521484375,
          1335.25146484375,
          1334.1181640625,
          1332.9847412109375,
          1331.85107421875,
          1330.7171630859375,
          1329.5831298828125,
          1328.4488525390625,
          1327.3143310546875,
          1326.1796875,
          1325.0447998046875,
          1323.90966796875,
          1322.7742919921875,
          1321.6387939453125,
          1320.5029296875,
          1319.3670654296875,
          1318.2308349609375,
          1317.094482421875,
          1315.9578857421875,
          1314.821044921875,
          1313.68408203125,
          1312.546875,
          1311.409423828125,
          1310.271728515625,
          1309.1339111328125,
          1307.995849609375,
          1306.8575439453125,
          1305.718994140625,
          1304.580322265625,
          1303.44140625,
          1302.3023681640625,
          1301.1629638671875,
          1300.0234375,
          1298.8836669921875,
          1297.74365234375,
          1296.603515625,
          1295.463134765625,
          1294.322509765625,
          1293.181640625,
          1292.0406494140625,
          1290.8994140625,
          1289.7579345703125,
          1288.6163330078125,
          1287.474365234375,
          1286.332275390625,
          1285.1900634765625,
          1284.0474853515625,
          1282.90478515625,
          1281.7618408203125,
          1280.61865234375,
          1279.475341796875,
          1278.3316650390625,
          1277.1878662109375,
          1276.0439453125,
          1274.899658203125,
          1273.7552490234375,
          1272.610595703125,
          1271.4656982421875,
          1270.3206787109375,
          1269.17529296875,
          1268.02978515625,
          1266.8841552734375
         ],
         "xaxis": "x",
         "y": [
          140.27551465851118,
          140.8312252727709,
          139.51743502782978,
          139.4491794125496,
          141.22613745114225,
          139.17176969636762,
          140.2644623401037,
          139.96701930129407,
          139.94862302751676,
          139.8494403352746,
          140.31076906910022,
          139.6157884315671,
          139.81945179299314,
          138.24038409218755,
          138.87982526964822,
          138.67511655587592,
          140.26052283103857,
          139.338434621185,
          141.0192949822774,
          141.28635484928154,
          141.79571632494827,
          141.78659166712964,
          142.2558516470608,
          141.61095213790807,
          143.90638318353024,
          142.84339974998585,
          142.76658431942354,
          143.33558702086904,
          144.5362812540093,
          143.5824967164466,
          145.1214633189171,
          145.58642186380655,
          146.19716051896313,
          146.46984073905662,
          146.61993183229694,
          148.1446626394108,
          148.1126040224238,
          149.065031482004,
          149.64406921466485,
          150.19584794348802,
          152.07493010465285,
          152.05131641784092,
          154.43531500690173,
          153.39620779555625,
          156.32524376953003,
          156.48564370902258,
          157.77567246302007,
          159.45136817451575,
          161.31843379378722,
          161.03677007210777,
          165.39578165811503,
          165.49352946348702,
          168.8111239526488,
          169.52632565808648,
          172.5887765359107,
          172.13470652770604,
          177.2498606003554,
          179.45687056895017,
          181.39454537041766,
          183.96075970077172,
          189.9252888907105,
          192.62202999046787,
          196.6312143219691,
          200.87121058535485,
          207.05629889545463,
          212.51450353050615,
          218.19430840224163,
          225.18695213067537,
          234.51766441502465,
          242.77442446220806,
          254.838107098079,
          265.1276209578725,
          280.3495549347594,
          300.4041859794811,
          321.52441157487874,
          349.4908619115788,
          383.8580315060556,
          426.47600544485783,
          483.22990240179183,
          562.6892153795969,
          674.2000078387962,
          835.2374632036162,
          1091.33508420455,
          1496.6080930038984,
          2194.813321473545,
          3434.9634754810336,
          5512.573967371583,
          7732.355233892995,
          7859.479728947823,
          5948.51915615823,
          3902.308216120367,
          2473.102727778827,
          1625.9849515527085,
          1145.7618392826998,
          877.6449368914335,
          713.152277246416,
          610.4542938961506,
          540.0000914206289,
          492.36117804337067,
          456.6969415028098,
          434.1950314845044,
          415.1577403837335,
          403.56536243749554,
          395.34482800682,
          393.8428432012772,
          391.78286518220864,
          393.60867530585216,
          396.3410232213481,
          402.4568606527517,
          409.9760366008183,
          421.8943617669192,
          435.4563912149688,
          454.824057381635,
          472.0055289105952,
          494.258944084542,
          514.3162427071367,
          540.1223061698624,
          564.1451335150657,
          591.6513156027684,
          620.9683990949579,
          653.5883497144978,
          684.3348069694847,
          715.1412200493844,
          746.8041449752295,
          773.9622265553095,
          801.5574680789031,
          829.1384206962493,
          844.3303729801265,
          861.0485466403281,
          870.2402911084152,
          872.340553480207,
          863.2398430860669,
          849.6443104862673,
          830.0303213170092,
          803.6214713006619,
          774.219604803564,
          746.1614189092967,
          713.4808714415312,
          677.6857545137972,
          645.5272235858218,
          615.2343447508616,
          584.5229329029165,
          559.3733653312133,
          534.7567931160673,
          508.8434996907001,
          487.1393528612756,
          466.56629078665793,
          446.03566558946034,
          431.70258243032384,
          413.6751651597214,
          397.22445536732164,
          381.94927955328393,
          368.55740902065435,
          355.6765065344886,
          343.96321639229893,
          332.42715974170267,
          323.1773280080918,
          309.62753378468597,
          301.44046995658135,
          291.21866299629204,
          283.32618710465516,
          277.6815054300009,
          268.11173933103305,
          261.7826841999549,
          252.99437202692218,
          247.55188255449636,
          240.69030545990805,
          235.29545104237272,
          230.72904640708072,
          225.02410773880342,
          219.5039849495638,
          214.59353724827918,
          213.07387970432066,
          207.82537590781192,
          205.0472410363179,
          201.93781798651963,
          198.4476424334811,
          194.08311251812012,
          191.19083191128556,
          186.71601918776332,
          185.49082224615387,
          180.4085625921389,
          179.08173754223682,
          176.40130919334058,
          173.8393397231574,
          172.95158134185374,
          172.325146213144,
          170.0508875018779,
          171.04194087341543,
          168.22130158076868,
          166.09327024602138,
          162.91356153477247,
          160.9642150781215,
          157.7224861423954,
          156.45137689789664,
          153.86256027577357,
          153.23845281750695,
          151.07847393573863,
          149.6476591465465
         ],
         "yaxis": "y",
         "type": "scatter"
        }
       ],
       "layout": {
        "template": {
         "data": {
          "histogram2dcontour": [
           {
            "type": "histogram2dcontour",
            "colorbar": {
             "outlinewidth": 0,
             "ticks": ""
            },
            "colorscale": [
             [
              0.0,
              "#0d0887"
             ],
             [
              0.1111111111111111,
              "#46039f"
             ],
             [
              0.2222222222222222,
              "#7201a8"
             ],
             [
              0.3333333333333333,
              "#9c179e"
             ],
             [
              0.4444444444444444,
              "#bd3786"
             ],
             [
              0.5555555555555556,
              "#d8576b"
             ],
             [
              0.6666666666666666,
              "#ed7953"
             ],
             [
              0.7777777777777778,
              "#fb9f3a"
             ],
             [
              0.8888888888888888,
              "#fdca26"
             ],
             [
              1.0,
              "#f0f921"
             ]
            ]
           }
          ],
          "choropleth": [
           {
            "type": "choropleth",
            "colorbar": {
             "outlinewidth": 0,
             "ticks": ""
            }
           }
          ],
          "histogram2d": [
           {
            "type": "histogram2d",
            "colorbar": {
             "outlinewidth": 0,
             "ticks": ""
            },
            "colorscale": [
             [
              0.0,
              "#0d0887"
             ],
             [
              0.1111111111111111,
              "#46039f"
             ],
             [
              0.2222222222222222,
              "#7201a8"
             ],
             [
              0.3333333333333333,
              "#9c179e"
             ],
             [
              0.4444444444444444,
              "#bd3786"
             ],
             [
              0.5555555555555556,
              "#d8576b"
             ],
             [
              0.6666666666666666,
              "#ed7953"
             ],
             [
              0.7777777777777778,
              "#fb9f3a"
             ],
             [
              0.8888888888888888,
              "#fdca26"
             ],
             [
              1.0,
              "#f0f921"
             ]
            ]
           }
          ],
          "heatmap": [
           {
            "type": "heatmap",
            "colorbar": {
             "outlinewidth": 0,
             "ticks": ""
            },
            "colorscale": [
             [
              0.0,
              "#0d0887"
             ],
             [
              0.1111111111111111,
              "#46039f"
             ],
             [
              0.2222222222222222,
              "#7201a8"
             ],
             [
              0.3333333333333333,
              "#9c179e"
             ],
             [
              0.4444444444444444,
              "#bd3786"
             ],
             [
              0.5555555555555556,
              "#d8576b"
             ],
             [
              0.6666666666666666,
              "#ed7953"
             ],
             [
              0.7777777777777778,
              "#fb9f3a"
             ],
             [
              0.8888888888888888,
              "#fdca26"
             ],
             [
              1.0,
              "#f0f921"
             ]
            ]
           }
          ],
          "heatmapgl": [
           {
            "type": "heatmapgl",
            "colorbar": {
             "outlinewidth": 0,
             "ticks": ""
            },
            "colorscale": [
             [
              0.0,
              "#0d0887"
             ],
             [
              0.1111111111111111,
              "#46039f"
             ],
             [
              0.2222222222222222,
              "#7201a8"
             ],
             [
              0.3333333333333333,
              "#9c179e"
             ],
             [
              0.4444444444444444,
              "#bd3786"
             ],
             [
              0.5555555555555556,
              "#d8576b"
             ],
             [
              0.6666666666666666,
              "#ed7953"
             ],
             [
              0.7777777777777778,
              "#fb9f3a"
             ],
             [
              0.8888888888888888,
              "#fdca26"
             ],
             [
              1.0,
              "#f0f921"
             ]
            ]
           }
          ],
          "contourcarpet": [
           {
            "type": "contourcarpet",
            "colorbar": {
             "outlinewidth": 0,
             "ticks": ""
            }
           }
          ],
          "contour": [
           {
            "type": "contour",
            "colorbar": {
             "outlinewidth": 0,
             "ticks": ""
            },
            "colorscale": [
             [
              0.0,
              "#0d0887"
             ],
             [
              0.1111111111111111,
              "#46039f"
             ],
             [
              0.2222222222222222,
              "#7201a8"
             ],
             [
              0.3333333333333333,
              "#9c179e"
             ],
             [
              0.4444444444444444,
              "#bd3786"
             ],
             [
              0.5555555555555556,
              "#d8576b"
             ],
             [
              0.6666666666666666,
              "#ed7953"
             ],
             [
              0.7777777777777778,
              "#fb9f3a"
             ],
             [
              0.8888888888888888,
              "#fdca26"
             ],
             [
              1.0,
              "#f0f921"
             ]
            ]
           }
          ],
          "surface": [
           {
            "type": "surface",
            "colorbar": {
             "outlinewidth": 0,
             "ticks": ""
            },
            "colorscale": [
             [
              0.0,
              "#0d0887"
             ],
             [
              0.1111111111111111,
              "#46039f"
             ],
             [
              0.2222222222222222,
              "#7201a8"
             ],
             [
              0.3333333333333333,
              "#9c179e"
             ],
             [
              0.4444444444444444,
              "#bd3786"
             ],
             [
              0.5555555555555556,
              "#d8576b"
             ],
             [
              0.6666666666666666,
              "#ed7953"
             ],
             [
              0.7777777777777778,
              "#fb9f3a"
             ],
             [
              0.8888888888888888,
              "#fdca26"
             ],
             [
              1.0,
              "#f0f921"
             ]
            ]
           }
          ],
          "mesh3d": [
           {
            "type": "mesh3d",
            "colorbar": {
             "outlinewidth": 0,
             "ticks": ""
            }
           }
          ],
          "scatter": [
           {
            "marker": {
             "line": {
              "color": "#283442"
             }
            },
            "type": "scatter"
           }
          ],
          "parcoords": [
           {
            "type": "parcoords",
            "line": {
             "colorbar": {
              "outlinewidth": 0,
              "ticks": ""
             }
            }
           }
          ],
          "scatterpolargl": [
           {
            "type": "scatterpolargl",
            "marker": {
             "colorbar": {
              "outlinewidth": 0,
              "ticks": ""
             }
            }
           }
          ],
          "bar": [
           {
            "error_x": {
             "color": "#f2f5fa"
            },
            "error_y": {
             "color": "#f2f5fa"
            },
            "marker": {
             "line": {
              "color": "rgb(17,17,17)",
              "width": 0.5
             },
             "pattern": {
              "fillmode": "overlay",
              "size": 10,
              "solidity": 0.2
             }
            },
            "type": "bar"
           }
          ],
          "scattergeo": [
           {
            "type": "scattergeo",
            "marker": {
             "colorbar": {
              "outlinewidth": 0,
              "ticks": ""
             }
            }
           }
          ],
          "scatterpolar": [
           {
            "type": "scatterpolar",
            "marker": {
             "colorbar": {
              "outlinewidth": 0,
              "ticks": ""
             }
            }
           }
          ],
          "histogram": [
           {
            "marker": {
             "pattern": {
              "fillmode": "overlay",
              "size": 10,
              "solidity": 0.2
             }
            },
            "type": "histogram"
           }
          ],
          "scattergl": [
           {
            "marker": {
             "line": {
              "color": "#283442"
             }
            },
            "type": "scattergl"
           }
          ],
          "scatter3d": [
           {
            "type": "scatter3d",
            "line": {
             "colorbar": {
              "outlinewidth": 0,
              "ticks": ""
             }
            },
            "marker": {
             "colorbar": {
              "outlinewidth": 0,
              "ticks": ""
             }
            }
           }
          ],
          "scattermapbox": [
           {
            "type": "scattermapbox",
            "marker": {
             "colorbar": {
              "outlinewidth": 0,
              "ticks": ""
             }
            }
           }
          ],
          "scatterternary": [
           {
            "type": "scatterternary",
            "marker": {
             "colorbar": {
              "outlinewidth": 0,
              "ticks": ""
             }
            }
           }
          ],
          "scattercarpet": [
           {
            "type": "scattercarpet",
            "marker": {
             "colorbar": {
              "outlinewidth": 0,
              "ticks": ""
             }
            }
           }
          ],
          "carpet": [
           {
            "aaxis": {
             "endlinecolor": "#A2B1C6",
             "gridcolor": "#506784",
             "linecolor": "#506784",
             "minorgridcolor": "#506784",
             "startlinecolor": "#A2B1C6"
            },
            "baxis": {
             "endlinecolor": "#A2B1C6",
             "gridcolor": "#506784",
             "linecolor": "#506784",
             "minorgridcolor": "#506784",
             "startlinecolor": "#A2B1C6"
            },
            "type": "carpet"
           }
          ],
          "table": [
           {
            "cells": {
             "fill": {
              "color": "#506784"
             },
             "line": {
              "color": "rgb(17,17,17)"
             }
            },
            "header": {
             "fill": {
              "color": "#2a3f5f"
             },
             "line": {
              "color": "rgb(17,17,17)"
             }
            },
            "type": "table"
           }
          ],
          "barpolar": [
           {
            "marker": {
             "line": {
              "color": "rgb(17,17,17)",
              "width": 0.5
             },
             "pattern": {
              "fillmode": "overlay",
              "size": 10,
              "solidity": 0.2
             }
            },
            "type": "barpolar"
           }
          ],
          "pie": [
           {
            "automargin": true,
            "type": "pie"
           }
          ]
         },
         "layout": {
          "autotypenumbers": "strict",
          "colorway": [
           "#636efa",
           "#EF553B",
           "#00cc96",
           "#ab63fa",
           "#FFA15A",
           "#19d3f3",
           "#FF6692",
           "#B6E880",
           "#FF97FF",
           "#FECB52"
          ],
          "font": {
           "color": "#f2f5fa"
          },
          "hovermode": "closest",
          "hoverlabel": {
           "align": "left"
          },
          "paper_bgcolor": "rgb(17,17,17)",
          "plot_bgcolor": "rgb(17,17,17)",
          "polar": {
           "bgcolor": "rgb(17,17,17)",
           "angularaxis": {
            "gridcolor": "#506784",
            "linecolor": "#506784",
            "ticks": ""
           },
           "radialaxis": {
            "gridcolor": "#506784",
            "linecolor": "#506784",
            "ticks": ""
           }
          },
          "ternary": {
           "bgcolor": "rgb(17,17,17)",
           "aaxis": {
            "gridcolor": "#506784",
            "linecolor": "#506784",
            "ticks": ""
           },
           "baxis": {
            "gridcolor": "#506784",
            "linecolor": "#506784",
            "ticks": ""
           },
           "caxis": {
            "gridcolor": "#506784",
            "linecolor": "#506784",
            "ticks": ""
           }
          },
          "coloraxis": {
           "colorbar": {
            "outlinewidth": 0,
            "ticks": ""
           }
          },
          "colorscale": {
           "sequential": [
            [
             0.0,
             "#0d0887"
            ],
            [
             0.1111111111111111,
             "#46039f"
            ],
            [
             0.2222222222222222,
             "#7201a8"
            ],
            [
             0.3333333333333333,
             "#9c179e"
            ],
            [
             0.4444444444444444,
             "#bd3786"
            ],
            [
             0.5555555555555556,
             "#d8576b"
            ],
            [
             0.6666666666666666,
             "#ed7953"
            ],
            [
             0.7777777777777778,
             "#fb9f3a"
            ],
            [
             0.8888888888888888,
             "#fdca26"
            ],
            [
             1.0,
             "#f0f921"
            ]
           ],
           "sequentialminus": [
            [
             0.0,
             "#0d0887"
            ],
            [
             0.1111111111111111,
             "#46039f"
            ],
            [
             0.2222222222222222,
             "#7201a8"
            ],
            [
             0.3333333333333333,
             "#9c179e"
            ],
            [
             0.4444444444444444,
             "#bd3786"
            ],
            [
             0.5555555555555556,
             "#d8576b"
            ],
            [
             0.6666666666666666,
             "#ed7953"
            ],
            [
             0.7777777777777778,
             "#fb9f3a"
            ],
            [
             0.8888888888888888,
             "#fdca26"
            ],
            [
             1.0,
             "#f0f921"
            ]
           ],
           "diverging": [
            [
             0,
             "#8e0152"
            ],
            [
             0.1,
             "#c51b7d"
            ],
            [
             0.2,
             "#de77ae"
            ],
            [
             0.3,
             "#f1b6da"
            ],
            [
             0.4,
             "#fde0ef"
            ],
            [
             0.5,
             "#f7f7f7"
            ],
            [
             0.6,
             "#e6f5d0"
            ],
            [
             0.7,
             "#b8e186"
            ],
            [
             0.8,
             "#7fbc41"
            ],
            [
             0.9,
             "#4d9221"
            ],
            [
             1,
             "#276419"
            ]
           ]
          },
          "xaxis": {
           "gridcolor": "#283442",
           "linecolor": "#506784",
           "ticks": "",
           "title": {
            "standoff": 15
           },
           "zerolinecolor": "#283442",
           "automargin": true,
           "zerolinewidth": 2
          },
          "yaxis": {
           "gridcolor": "#283442",
           "linecolor": "#506784",
           "ticks": "",
           "title": {
            "standoff": 15
           },
           "zerolinecolor": "#283442",
           "automargin": true,
           "zerolinewidth": 2
          },
          "scene": {
           "xaxis": {
            "backgroundcolor": "rgb(17,17,17)",
            "gridcolor": "#506784",
            "linecolor": "#506784",
            "showbackground": true,
            "ticks": "",
            "zerolinecolor": "#C8D4E3",
            "gridwidth": 2
           },
           "yaxis": {
            "backgroundcolor": "rgb(17,17,17)",
            "gridcolor": "#506784",
            "linecolor": "#506784",
            "showbackground": true,
            "ticks": "",
            "zerolinecolor": "#C8D4E3",
            "gridwidth": 2
           },
           "zaxis": {
            "backgroundcolor": "rgb(17,17,17)",
            "gridcolor": "#506784",
            "linecolor": "#506784",
            "showbackground": true,
            "ticks": "",
            "zerolinecolor": "#C8D4E3",
            "gridwidth": 2
           }
          },
          "shapedefaults": {
           "line": {
            "color": "#f2f5fa"
           }
          },
          "annotationdefaults": {
           "arrowcolor": "#f2f5fa",
           "arrowhead": 0,
           "arrowwidth": 1
          },
          "geo": {
           "bgcolor": "rgb(17,17,17)",
           "landcolor": "rgb(17,17,17)",
           "subunitcolor": "#506784",
           "showland": true,
           "showlakes": true,
           "lakecolor": "rgb(17,17,17)"
          },
          "title": {
           "x": 0.05
          },
          "updatemenudefaults": {
           "bgcolor": "#506784",
           "borderwidth": 0
          },
          "sliderdefaults": {
           "bgcolor": "#C8D4E3",
           "borderwidth": 1,
           "bordercolor": "rgb(17,17,17)",
           "tickwidth": 0
          },
          "mapbox": {
           "style": "dark"
          }
         }
        },
        "xaxis": {
         "anchor": "y",
         "domain": [
          0.0,
          1.0
         ],
         "title": {
          "text": "x"
         }
        },
        "yaxis": {
         "anchor": "x",
         "domain": [
          0.0,
          1.0
         ],
         "title": {
          "text": "y"
         }
        },
        "legend": {
         "tracegroupgap": 0
        },
        "margin": {
         "t": 60
        }
       },
       "config": {
        "plotlyServerURL": "https://plot.ly"
       }
      },
      "text/html": "<div>                            <div id=\"87c4ce69-d3f0-467c-9043-55c3f78152a5\" class=\"plotly-graph-div\" style=\"height:525px; width:100%;\"></div>            <script type=\"text/javascript\">                require([\"plotly\"], function(Plotly) {                    window.PLOTLYENV=window.PLOTLYENV || {};                                    if (document.getElementById(\"87c4ce69-d3f0-467c-9043-55c3f78152a5\")) {                    Plotly.newPlot(                        \"87c4ce69-d3f0-467c-9043-55c3f78152a5\",                        [{\"hovertemplate\":\"x=%{x}\\u003cbr\\u003ey=%{y}\\u003cextra\\u003e\\u003c\\u002fextra\\u003e\",\"legendgroup\":\"\",\"line\":{\"color\":\"#636efa\",\"dash\":\"solid\"},\"marker\":{\"symbol\":\"circle\"},\"mode\":\"lines\",\"name\":\"\",\"orientation\":\"v\",\"showlegend\":false,\"x\":[1489.670166015625,1488.5650634765625,1487.459716796875,1486.354248046875,1485.24853515625,1484.142578125,1483.0364990234375,1481.93017578125,1480.8236083984375,1479.7169189453125,1478.6099853515625,1477.5028076171875,1476.3955078125,1475.2879638671875,1474.1802978515625,1473.0723876953125,1471.9642333984375,1470.8558349609375,1469.747314453125,1468.638671875,1467.5296630859375,1466.4205322265625,1465.311279296875,1464.20166015625,1463.0919189453125,1461.9820556640625,1460.8719482421875,1459.7615966796875,1458.6510009765625,1457.540283203125,1456.4293212890625,1455.3182373046875,1454.2069091796875,1453.0953369140625,1451.983642578125,1450.8717041015625,1449.759521484375,1448.647216796875,1447.53466796875,1446.421875,1445.3089599609375,1444.19580078125,1443.0823974609375,1441.9688720703125,1440.8551025390625,1439.7410888671875,1438.626953125,1437.5125732421875,1436.3980712890625,1435.2833251953125,1434.1683349609375,1433.0531005859375,1431.937744140625,1430.8221435546875,1429.7064208984375,1428.5904541015625,1427.4742431640625,1426.35791015625,1425.2412109375,1424.12451171875,1423.0074462890625,1421.8902587890625,1420.7728271484375,1419.6552734375,1418.5374755859375,1417.41943359375,1416.30126953125,1415.182861328125,1414.064208984375,1412.9454345703125,1411.826416015625,1410.7071533203125,1409.587646484375,1408.468017578125,1407.3482666015625,1406.2281494140625,1405.10791015625,1403.9874267578125,1402.8668212890625,1401.7459716796875,1400.6248779296875,1399.503662109375,1398.3822021484375,1397.260498046875,1396.1385498046875,1395.0164794921875,1393.894287109375,1392.771728515625,1391.6490478515625,1390.526123046875,1389.403076171875,1388.2796630859375,1387.15625,1386.032470703125,1384.9085693359375,1383.784423828125,1382.6600341796875,1381.5355224609375,1380.4107666015625,1379.2857666015625,1378.16064453125,1377.0352783203125,1375.90966796875,1374.783935546875,1373.657958984375,1372.53173828125,1371.4053955078125,1370.27880859375,1369.1519775390625,1368.02490234375,1366.897705078125,1365.770263671875,1364.6427001953125,1363.5147705078125,1362.38671875,1361.258544921875,1360.1300048828125,1359.0013427734375,1357.87255859375,1356.743408203125,1355.6141357421875,1354.484619140625,1353.35498046875,1352.22509765625,1351.094970703125,1349.964599609375,1348.8341064453125,1347.703369140625,1346.5723876953125,1345.441162109375,1344.309814453125,1343.17822265625,1342.0465087890625,1340.91455078125,1339.7823486328125,1338.64990234375,1337.517333984375,1336.384521484375,1335.25146484375,1334.1181640625,1332.9847412109375,1331.85107421875,1330.7171630859375,1329.5831298828125,1328.4488525390625,1327.3143310546875,1326.1796875,1325.0447998046875,1323.90966796875,1322.7742919921875,1321.6387939453125,1320.5029296875,1319.3670654296875,1318.2308349609375,1317.094482421875,1315.9578857421875,1314.821044921875,1313.68408203125,1312.546875,1311.409423828125,1310.271728515625,1309.1339111328125,1307.995849609375,1306.8575439453125,1305.718994140625,1304.580322265625,1303.44140625,1302.3023681640625,1301.1629638671875,1300.0234375,1298.8836669921875,1297.74365234375,1296.603515625,1295.463134765625,1294.322509765625,1293.181640625,1292.0406494140625,1290.8994140625,1289.7579345703125,1288.6163330078125,1287.474365234375,1286.332275390625,1285.1900634765625,1284.0474853515625,1282.90478515625,1281.7618408203125,1280.61865234375,1279.475341796875,1278.3316650390625,1277.1878662109375,1276.0439453125,1274.899658203125,1273.7552490234375,1272.610595703125,1271.4656982421875,1270.3206787109375,1269.17529296875,1268.02978515625,1266.8841552734375],\"xaxis\":\"x\",\"y\":[140.27551465851118,140.8312252727709,139.51743502782978,139.4491794125496,141.22613745114225,139.17176969636762,140.2644623401037,139.96701930129407,139.94862302751676,139.8494403352746,140.31076906910022,139.6157884315671,139.81945179299314,138.24038409218755,138.87982526964822,138.67511655587592,140.26052283103857,139.338434621185,141.0192949822774,141.28635484928154,141.79571632494827,141.78659166712964,142.2558516470608,141.61095213790807,143.90638318353024,142.84339974998585,142.76658431942354,143.33558702086904,144.5362812540093,143.5824967164466,145.1214633189171,145.58642186380655,146.19716051896313,146.46984073905662,146.61993183229694,148.1446626394108,148.1126040224238,149.065031482004,149.64406921466485,150.19584794348802,152.07493010465285,152.05131641784092,154.43531500690173,153.39620779555625,156.32524376953003,156.48564370902258,157.77567246302007,159.45136817451575,161.31843379378722,161.03677007210777,165.39578165811503,165.49352946348702,168.8111239526488,169.52632565808648,172.5887765359107,172.13470652770604,177.2498606003554,179.45687056895017,181.39454537041766,183.96075970077172,189.9252888907105,192.62202999046787,196.6312143219691,200.87121058535485,207.05629889545463,212.51450353050615,218.19430840224163,225.18695213067537,234.51766441502465,242.77442446220806,254.838107098079,265.1276209578725,280.3495549347594,300.4041859794811,321.52441157487874,349.4908619115788,383.8580315060556,426.47600544485783,483.22990240179183,562.6892153795969,674.2000078387962,835.2374632036162,1091.33508420455,1496.6080930038984,2194.813321473545,3434.9634754810336,5512.573967371583,7732.355233892995,7859.479728947823,5948.51915615823,3902.308216120367,2473.102727778827,1625.9849515527085,1145.7618392826998,877.6449368914335,713.152277246416,610.4542938961506,540.0000914206289,492.36117804337067,456.6969415028098,434.1950314845044,415.1577403837335,403.56536243749554,395.34482800682,393.8428432012772,391.78286518220864,393.60867530585216,396.3410232213481,402.4568606527517,409.9760366008183,421.8943617669192,435.4563912149688,454.824057381635,472.0055289105952,494.258944084542,514.3162427071367,540.1223061698624,564.1451335150657,591.6513156027684,620.9683990949579,653.5883497144978,684.3348069694847,715.1412200493844,746.8041449752295,773.9622265553095,801.5574680789031,829.1384206962493,844.3303729801265,861.0485466403281,870.2402911084152,872.340553480207,863.2398430860669,849.6443104862673,830.0303213170092,803.6214713006619,774.219604803564,746.1614189092967,713.4808714415312,677.6857545137972,645.5272235858218,615.2343447508616,584.5229329029165,559.3733653312133,534.7567931160673,508.8434996907001,487.1393528612756,466.56629078665793,446.03566558946034,431.70258243032384,413.6751651597214,397.22445536732164,381.94927955328393,368.55740902065435,355.6765065344886,343.96321639229893,332.42715974170267,323.1773280080918,309.62753378468597,301.44046995658135,291.21866299629204,283.32618710465516,277.6815054300009,268.11173933103305,261.7826841999549,252.99437202692218,247.55188255449636,240.69030545990805,235.29545104237272,230.72904640708072,225.02410773880342,219.5039849495638,214.59353724827918,213.07387970432066,207.82537590781192,205.0472410363179,201.93781798651963,198.4476424334811,194.08311251812012,191.19083191128556,186.71601918776332,185.49082224615387,180.4085625921389,179.08173754223682,176.40130919334058,173.8393397231574,172.95158134185374,172.325146213144,170.0508875018779,171.04194087341543,168.22130158076868,166.09327024602138,162.91356153477247,160.9642150781215,157.7224861423954,156.45137689789664,153.86256027577357,153.23845281750695,151.07847393573863,149.6476591465465],\"yaxis\":\"y\",\"type\":\"scatter\"}],                        {\"template\":{\"data\":{\"histogram2dcontour\":[{\"type\":\"histogram2dcontour\",\"colorbar\":{\"outlinewidth\":0,\"ticks\":\"\"},\"colorscale\":[[0.0,\"#0d0887\"],[0.1111111111111111,\"#46039f\"],[0.2222222222222222,\"#7201a8\"],[0.3333333333333333,\"#9c179e\"],[0.4444444444444444,\"#bd3786\"],[0.5555555555555556,\"#d8576b\"],[0.6666666666666666,\"#ed7953\"],[0.7777777777777778,\"#fb9f3a\"],[0.8888888888888888,\"#fdca26\"],[1.0,\"#f0f921\"]]}],\"choropleth\":[{\"type\":\"choropleth\",\"colorbar\":{\"outlinewidth\":0,\"ticks\":\"\"}}],\"histogram2d\":[{\"type\":\"histogram2d\",\"colorbar\":{\"outlinewidth\":0,\"ticks\":\"\"},\"colorscale\":[[0.0,\"#0d0887\"],[0.1111111111111111,\"#46039f\"],[0.2222222222222222,\"#7201a8\"],[0.3333333333333333,\"#9c179e\"],[0.4444444444444444,\"#bd3786\"],[0.5555555555555556,\"#d8576b\"],[0.6666666666666666,\"#ed7953\"],[0.7777777777777778,\"#fb9f3a\"],[0.8888888888888888,\"#fdca26\"],[1.0,\"#f0f921\"]]}],\"heatmap\":[{\"type\":\"heatmap\",\"colorbar\":{\"outlinewidth\":0,\"ticks\":\"\"},\"colorscale\":[[0.0,\"#0d0887\"],[0.1111111111111111,\"#46039f\"],[0.2222222222222222,\"#7201a8\"],[0.3333333333333333,\"#9c179e\"],[0.4444444444444444,\"#bd3786\"],[0.5555555555555556,\"#d8576b\"],[0.6666666666666666,\"#ed7953\"],[0.7777777777777778,\"#fb9f3a\"],[0.8888888888888888,\"#fdca26\"],[1.0,\"#f0f921\"]]}],\"heatmapgl\":[{\"type\":\"heatmapgl\",\"colorbar\":{\"outlinewidth\":0,\"ticks\":\"\"},\"colorscale\":[[0.0,\"#0d0887\"],[0.1111111111111111,\"#46039f\"],[0.2222222222222222,\"#7201a8\"],[0.3333333333333333,\"#9c179e\"],[0.4444444444444444,\"#bd3786\"],[0.5555555555555556,\"#d8576b\"],[0.6666666666666666,\"#ed7953\"],[0.7777777777777778,\"#fb9f3a\"],[0.8888888888888888,\"#fdca26\"],[1.0,\"#f0f921\"]]}],\"contourcarpet\":[{\"type\":\"contourcarpet\",\"colorbar\":{\"outlinewidth\":0,\"ticks\":\"\"}}],\"contour\":[{\"type\":\"contour\",\"colorbar\":{\"outlinewidth\":0,\"ticks\":\"\"},\"colorscale\":[[0.0,\"#0d0887\"],[0.1111111111111111,\"#46039f\"],[0.2222222222222222,\"#7201a8\"],[0.3333333333333333,\"#9c179e\"],[0.4444444444444444,\"#bd3786\"],[0.5555555555555556,\"#d8576b\"],[0.6666666666666666,\"#ed7953\"],[0.7777777777777778,\"#fb9f3a\"],[0.8888888888888888,\"#fdca26\"],[1.0,\"#f0f921\"]]}],\"surface\":[{\"type\":\"surface\",\"colorbar\":{\"outlinewidth\":0,\"ticks\":\"\"},\"colorscale\":[[0.0,\"#0d0887\"],[0.1111111111111111,\"#46039f\"],[0.2222222222222222,\"#7201a8\"],[0.3333333333333333,\"#9c179e\"],[0.4444444444444444,\"#bd3786\"],[0.5555555555555556,\"#d8576b\"],[0.6666666666666666,\"#ed7953\"],[0.7777777777777778,\"#fb9f3a\"],[0.8888888888888888,\"#fdca26\"],[1.0,\"#f0f921\"]]}],\"mesh3d\":[{\"type\":\"mesh3d\",\"colorbar\":{\"outlinewidth\":0,\"ticks\":\"\"}}],\"scatter\":[{\"marker\":{\"line\":{\"color\":\"#283442\"}},\"type\":\"scatter\"}],\"parcoords\":[{\"type\":\"parcoords\",\"line\":{\"colorbar\":{\"outlinewidth\":0,\"ticks\":\"\"}}}],\"scatterpolargl\":[{\"type\":\"scatterpolargl\",\"marker\":{\"colorbar\":{\"outlinewidth\":0,\"ticks\":\"\"}}}],\"bar\":[{\"error_x\":{\"color\":\"#f2f5fa\"},\"error_y\":{\"color\":\"#f2f5fa\"},\"marker\":{\"line\":{\"color\":\"rgb(17,17,17)\",\"width\":0.5},\"pattern\":{\"fillmode\":\"overlay\",\"size\":10,\"solidity\":0.2}},\"type\":\"bar\"}],\"scattergeo\":[{\"type\":\"scattergeo\",\"marker\":{\"colorbar\":{\"outlinewidth\":0,\"ticks\":\"\"}}}],\"scatterpolar\":[{\"type\":\"scatterpolar\",\"marker\":{\"colorbar\":{\"outlinewidth\":0,\"ticks\":\"\"}}}],\"histogram\":[{\"marker\":{\"pattern\":{\"fillmode\":\"overlay\",\"size\":10,\"solidity\":0.2}},\"type\":\"histogram\"}],\"scattergl\":[{\"marker\":{\"line\":{\"color\":\"#283442\"}},\"type\":\"scattergl\"}],\"scatter3d\":[{\"type\":\"scatter3d\",\"line\":{\"colorbar\":{\"outlinewidth\":0,\"ticks\":\"\"}},\"marker\":{\"colorbar\":{\"outlinewidth\":0,\"ticks\":\"\"}}}],\"scattermapbox\":[{\"type\":\"scattermapbox\",\"marker\":{\"colorbar\":{\"outlinewidth\":0,\"ticks\":\"\"}}}],\"scatterternary\":[{\"type\":\"scatterternary\",\"marker\":{\"colorbar\":{\"outlinewidth\":0,\"ticks\":\"\"}}}],\"scattercarpet\":[{\"type\":\"scattercarpet\",\"marker\":{\"colorbar\":{\"outlinewidth\":0,\"ticks\":\"\"}}}],\"carpet\":[{\"aaxis\":{\"endlinecolor\":\"#A2B1C6\",\"gridcolor\":\"#506784\",\"linecolor\":\"#506784\",\"minorgridcolor\":\"#506784\",\"startlinecolor\":\"#A2B1C6\"},\"baxis\":{\"endlinecolor\":\"#A2B1C6\",\"gridcolor\":\"#506784\",\"linecolor\":\"#506784\",\"minorgridcolor\":\"#506784\",\"startlinecolor\":\"#A2B1C6\"},\"type\":\"carpet\"}],\"table\":[{\"cells\":{\"fill\":{\"color\":\"#506784\"},\"line\":{\"color\":\"rgb(17,17,17)\"}},\"header\":{\"fill\":{\"color\":\"#2a3f5f\"},\"line\":{\"color\":\"rgb(17,17,17)\"}},\"type\":\"table\"}],\"barpolar\":[{\"marker\":{\"line\":{\"color\":\"rgb(17,17,17)\",\"width\":0.5},\"pattern\":{\"fillmode\":\"overlay\",\"size\":10,\"solidity\":0.2}},\"type\":\"barpolar\"}],\"pie\":[{\"automargin\":true,\"type\":\"pie\"}]},\"layout\":{\"autotypenumbers\":\"strict\",\"colorway\":[\"#636efa\",\"#EF553B\",\"#00cc96\",\"#ab63fa\",\"#FFA15A\",\"#19d3f3\",\"#FF6692\",\"#B6E880\",\"#FF97FF\",\"#FECB52\"],\"font\":{\"color\":\"#f2f5fa\"},\"hovermode\":\"closest\",\"hoverlabel\":{\"align\":\"left\"},\"paper_bgcolor\":\"rgb(17,17,17)\",\"plot_bgcolor\":\"rgb(17,17,17)\",\"polar\":{\"bgcolor\":\"rgb(17,17,17)\",\"angularaxis\":{\"gridcolor\":\"#506784\",\"linecolor\":\"#506784\",\"ticks\":\"\"},\"radialaxis\":{\"gridcolor\":\"#506784\",\"linecolor\":\"#506784\",\"ticks\":\"\"}},\"ternary\":{\"bgcolor\":\"rgb(17,17,17)\",\"aaxis\":{\"gridcolor\":\"#506784\",\"linecolor\":\"#506784\",\"ticks\":\"\"},\"baxis\":{\"gridcolor\":\"#506784\",\"linecolor\":\"#506784\",\"ticks\":\"\"},\"caxis\":{\"gridcolor\":\"#506784\",\"linecolor\":\"#506784\",\"ticks\":\"\"}},\"coloraxis\":{\"colorbar\":{\"outlinewidth\":0,\"ticks\":\"\"}},\"colorscale\":{\"sequential\":[[0.0,\"#0d0887\"],[0.1111111111111111,\"#46039f\"],[0.2222222222222222,\"#7201a8\"],[0.3333333333333333,\"#9c179e\"],[0.4444444444444444,\"#bd3786\"],[0.5555555555555556,\"#d8576b\"],[0.6666666666666666,\"#ed7953\"],[0.7777777777777778,\"#fb9f3a\"],[0.8888888888888888,\"#fdca26\"],[1.0,\"#f0f921\"]],\"sequentialminus\":[[0.0,\"#0d0887\"],[0.1111111111111111,\"#46039f\"],[0.2222222222222222,\"#7201a8\"],[0.3333333333333333,\"#9c179e\"],[0.4444444444444444,\"#bd3786\"],[0.5555555555555556,\"#d8576b\"],[0.6666666666666666,\"#ed7953\"],[0.7777777777777778,\"#fb9f3a\"],[0.8888888888888888,\"#fdca26\"],[1.0,\"#f0f921\"]],\"diverging\":[[0,\"#8e0152\"],[0.1,\"#c51b7d\"],[0.2,\"#de77ae\"],[0.3,\"#f1b6da\"],[0.4,\"#fde0ef\"],[0.5,\"#f7f7f7\"],[0.6,\"#e6f5d0\"],[0.7,\"#b8e186\"],[0.8,\"#7fbc41\"],[0.9,\"#4d9221\"],[1,\"#276419\"]]},\"xaxis\":{\"gridcolor\":\"#283442\",\"linecolor\":\"#506784\",\"ticks\":\"\",\"title\":{\"standoff\":15},\"zerolinecolor\":\"#283442\",\"automargin\":true,\"zerolinewidth\":2},\"yaxis\":{\"gridcolor\":\"#283442\",\"linecolor\":\"#506784\",\"ticks\":\"\",\"title\":{\"standoff\":15},\"zerolinecolor\":\"#283442\",\"automargin\":true,\"zerolinewidth\":2},\"scene\":{\"xaxis\":{\"backgroundcolor\":\"rgb(17,17,17)\",\"gridcolor\":\"#506784\",\"linecolor\":\"#506784\",\"showbackground\":true,\"ticks\":\"\",\"zerolinecolor\":\"#C8D4E3\",\"gridwidth\":2},\"yaxis\":{\"backgroundcolor\":\"rgb(17,17,17)\",\"gridcolor\":\"#506784\",\"linecolor\":\"#506784\",\"showbackground\":true,\"ticks\":\"\",\"zerolinecolor\":\"#C8D4E3\",\"gridwidth\":2},\"zaxis\":{\"backgroundcolor\":\"rgb(17,17,17)\",\"gridcolor\":\"#506784\",\"linecolor\":\"#506784\",\"showbackground\":true,\"ticks\":\"\",\"zerolinecolor\":\"#C8D4E3\",\"gridwidth\":2}},\"shapedefaults\":{\"line\":{\"color\":\"#f2f5fa\"}},\"annotationdefaults\":{\"arrowcolor\":\"#f2f5fa\",\"arrowhead\":0,\"arrowwidth\":1},\"geo\":{\"bgcolor\":\"rgb(17,17,17)\",\"landcolor\":\"rgb(17,17,17)\",\"subunitcolor\":\"#506784\",\"showland\":true,\"showlakes\":true,\"lakecolor\":\"rgb(17,17,17)\"},\"title\":{\"x\":0.05},\"updatemenudefaults\":{\"bgcolor\":\"#506784\",\"borderwidth\":0},\"sliderdefaults\":{\"bgcolor\":\"#C8D4E3\",\"borderwidth\":1,\"bordercolor\":\"rgb(17,17,17)\",\"tickwidth\":0},\"mapbox\":{\"style\":\"dark\"}}},\"xaxis\":{\"anchor\":\"y\",\"domain\":[0.0,1.0],\"title\":{\"text\":\"x\"}},\"yaxis\":{\"anchor\":\"x\",\"domain\":[0.0,1.0],\"title\":{\"text\":\"y\"}},\"legend\":{\"tracegroupgap\":0},\"margin\":{\"t\":60}},                        {\"responsive\": true}                    ).then(function(){\n                            \nvar gd = document.getElementById('87c4ce69-d3f0-467c-9043-55c3f78152a5');\nvar x = new MutationObserver(function (mutations, observer) {{\n        var display = window.getComputedStyle(gd).display;\n        if (!display || display === 'none') {{\n            console.log([gd, 'removed!']);\n            Plotly.purge(gd);\n            observer.disconnect();\n        }}\n}});\n\n// Listen for the removal of the full notebook cells\nvar notebookContainer = gd.closest('#notebook-container');\nif (notebookContainer) {{\n    x.observe(notebookContainer, {childList: true});\n}}\n\n// Listen for the clearing of the current output cell\nvar outputEl = gd.closest('.output');\nif (outputEl) {{\n    x.observe(outputEl, {childList: true});\n}}\n\n                        })                };                });            </script>        </div>"
     },
     "metadata": {},
     "output_type": "display_data"
    },
    {
     "data": {
      "application/vnd.plotly.v1+json": {
       "data": [
        {
         "coloraxis": "coloraxis",
         "name": "0",
         "z": [
          [
           397.1229270404682,
           448.36166509567664,
           462.6202580976483,
           502.8481390842034,
           507.8406681124836,
           657.5155511642596,
           813.1184074335409,
           1480.9506371802793,
           3429.614459533161,
           19472.719794443856,
           50481.50814379228,
           62150.797566039226,
           61919.928847096555,
           65007.7539234859,
           75096.36615753014,
           79868.42775581744,
           87684.06354837769,
           100352.5221598378,
           118845.67386012146,
           137144.83207352605,
           143225.81436357138,
           173495.97993140138,
           114751.5934299196,
           84980.27942137995,
           73133.66884333345,
           64175.849910932855,
           58294.540966590124,
           58395.667159559685,
           58678.30617991798,
           58692.85519950925,
           59448.60870327311,
           59394.26583073945,
           59956.876849837885,
           59401.723480528046
          ],
          [
           521.3914620377808,
           445.84648541688387,
           425.0207059274507,
           498.18486113212657,
           524.1350062042071,
           729.1202748039848,
           1088.6943589368045,
           2674.3805391847895,
           11675.886391263035,
           40138.097679577295,
           58047.659413959314,
           57209.62215690111,
           60367.87576250634,
           64432.939843053064,
           66643.31422683568,
           67485.63364439477,
           69174.8689104049,
           69911.16485215213,
           72228.35066685049,
           101828.27870512295,
           118747.77096185545,
           83581.10967846903,
           87004.13930374969,
           87432.21257932326,
           85752.6321534325,
           78618.69206297405,
           69642.18705891407,
           64092.30160206479,
           58568.32665334466,
           55682.20603736306,
           55850.51855115323,
           56873.05971433328,
           57820.691614822405,
           57855.37894360764
          ],
          [
           438.47773505527806,
           424.90865262928185,
           514.4651883183363,
           508.4218624744784,
           550.2055267475404,
           761.4923897878504,
           1505.3341161614173,
           3712.9681436136498,
           20716.973255590387,
           43651.07990677114,
           53786.21931707751,
           59978.22273804469,
           63601.23117253703,
           65689.95654043948,
           65623.64082556135,
           65654.74899755203,
           67770.19737659386,
           68151.47928768063,
           71158.72998791012,
           91929.70413927191,
           95203.57613118194,
           70283.315365563,
           66381.2893291803,
           66801.15844590835,
           71990.67779722472,
           78464.8114746918,
           82638.7947007688,
           83661.97284375037,
           80292.16887890424,
           71856.60291568599,
           65607.6030474752,
           59608.388609339956,
           55697.594585737774,
           54863.48021022031
          ],
          [
           447.35350711481703,
           501.5790061503375,
           475.01524610025456,
           535.1267327107253,
           662.6159439034711,
           987.134766847643,
           2019.027235755789,
           7465.458522773871,
           27940.84628577048,
           46813.778274795965,
           57037.26913951374,
           63754.97147103056,
           64845.12414041401,
           64723.99471280343,
           64114.23898964466,
           64711.691972541164,
           66815.65666561991,
           67902.8517701431,
           70380.65182716519,
           83485.15086568028,
           94668.73410655114,
           68045.67116766585,
           64371.58737001064,
           63675.991784075224,
           62966.74611186715,
           63335.8577447651,
           65207.57056176608,
           69655.14633164213,
           78479.11174294863,
           84904.6781016833,
           88731.86796413954,
           84504.30053911524,
           77289.93509718044,
           72855.8104596435
          ],
          [
           422.111544065234,
           436.2871067204575,
           513.4929195661937,
           456.31160091871254,
           648.518162119501,
           1111.4535852877402,
           2852.1701426971586,
           15110.09204630041,
           35270.72513601631,
           49955.55517163376,
           59590.04155230195,
           63479.826998873745,
           65506.28609104511,
           63631.968378835554,
           63444.10083038672,
           62946.19302148522,
           65106.92090839808,
           65684.5295815269,
           68549.84472538554,
           75489.19679026099,
           97911.64467773304,
           65890.82416400964,
           61938.70420706275,
           61843.74783772033,
           61642.060370826126,
           61981.53984745211,
           62082.00480793369,
           62943.91062001281,
           63538.699981211175,
           65467.47985380748,
           70677.61336806713,
           78736.51682362934,
           85891.35689622989,
           91016.45356130018
          ],
          [
           447.73514891249795,
           498.25026971163504,
           393.1422560956845,
           610.1680483846256,
           709.0753559882367,
           1331.3480597117073,
           3218.403569014084,
           17929.95239905896,
           40450.66989785505,
           53865.60630784446,
           60291.23845074065,
           62574.33765902162,
           64043.11245133391,
           63001.57913022863,
           62027.78591326322,
           61966.56333087533,
           64626.72123706853,
           65361.928581885244,
           66778.98112881121,
           71395.4883552467,
           99639.34872908592,
           67632.9046198239,
           63171.25390602519,
           60989.33739670029,
           61660.970242410156,
           61583.34236419911,
           61775.68408868586,
           61646.02337959722,
           62184.79259198856,
           62167.859191102594,
           61967.284338577694,
           62986.36631288466,
           63874.746029460104,
           67612.32885151524
          ],
          [
           438.5538874943241,
           517.1181533646486,
           453.2251662191481,
           600.6873585275644,
           847.2363921822717,
           1509.5906201633843,
           3976.607526412284,
           20123.82034608054,
           43787.89089116968,
           57690.557154521746,
           61120.18521491368,
           62402.35036090733,
           62290.22865221058,
           62540.865376978,
           61569.34078433998,
           61421.63460873421,
           62998.630981547314,
           64573.43465667341,
           64776.76967685477,
           68534.09387177127,
           97561.7011830979,
           72792.1980647278,
           64548.93819431056,
           61795.302303723285,
           60213.736661350726,
           60457.153349317785,
           60602.63323640705,
           61569.60448386937,
           61878.98578441391,
           61432.21868469362,
           60907.436667624774,
           62195.87033101716,
           61553.62957645213,
           62031.10551428611
          ],
          [
           454.82188681565015,
           417.32895091522863,
           472.0680801151557,
           589.5776469779539,
           1039.1059944120452,
           1882.3320195071342,
           5494.49173781467,
           27585.252160107495,
           48670.5844345542,
           58944.85920165917,
           60562.755680031994,
           61386.24954556314,
           60760.12345581899,
           61493.988662945085,
           60376.90854599344,
           60313.80005710353,
           61785.542882938054,
           63464.29705823096,
           63841.405864235094,
           67607.237730133,
           90666.1839167375,
           78968.89821087579,
           65062.76063541513,
           62217.73225348906,
           60991.27019344809,
           60057.492716609326,
           59820.44684091935,
           59484.05053255034,
           60340.88843185788,
           60324.56791338142,
           60574.08517015102,
           61447.440603733114,
           61495.718007500305,
           61323.17397924146
          ],
          [
           427.5386059321703,
           507.94113621028055,
           478.96447416350145,
           662.5701948635995,
           1052.3766552477857,
           2408.829505416703,
           9089.177895595803,
           36741.02637355936,
           54078.70823588135,
           60908.898432545866,
           60809.2659288483,
           60499.92535604553,
           60451.02487928413,
           59696.05803641812,
           59324.17906045618,
           58585.9073029788,
           60551.99805625395,
           61746.91980513085,
           63127.18597739349,
           66333.97221319682,
           81770.7123835703,
           85829.74678759821,
           65655.54574545918,
           62192.09940959431,
           61075.31662002652,
           60554.47408210288,
           59470.904408788825,
           59943.689162731745,
           59487.37001219524,
           59036.91227482325,
           58106.661960883466,
           57932.00720966779,
           58005.770716777675,
           59268.51578931779
          ],
          [
           439.0647207093789,
           457.36909677837275,
           476.1636544382047,
           631.5776570061273,
           1376.303080331609,
           3466.461005621717,
           13978.218029218882,
           39394.98000913702,
           54094.486635358415,
           58312.6106092774,
           58177.854393928814,
           57609.433065777004,
           56999.00242888888,
           55680.80882639217,
           55263.80741766334,
           54764.49852744885,
           55626.178037082376,
           57356.419717382865,
           58983.05035760046,
           62111.90282658952,
           69530.51417391654,
           82573.62400421377,
           65008.106759789254,
           59582.68046044699,
           57375.691638515156,
           56527.94700285275,
           55869.45780179958,
           55924.86834785151,
           55855.69655163898,
           55280.28346934668,
           54761.06851165376,
           54356.80723644726,
           54634.226440433435,
           54935.150903121204
          ],
          [
           394.9788945611409,
           471.80860078395835,
           576.0458058507164,
           837.9676368196482,
           1688.188605398504,
           5374.004335688274,
           19791.55177788583,
           43723.67295151892,
           54418.071849424785,
           56873.17923851921,
           56884.11956453851,
           56521.916725202005,
           55173.5562358418,
           54117.18381088353,
           53343.27471156413,
           53154.727391884706,
           53735.492702592615,
           54936.881343149595,
           56197.80253050101,
           59440.84231472667,
           65213.616243974764,
           78850.92815146266,
           65710.40937431487,
           59624.89601821069,
           56060.6177903186,
           54363.38942807467,
           54021.89052098448,
           53553.2839454429,
           53737.37631385571,
           53027.78384438961,
           52387.39126763588,
           52066.20370638997,
           52119.08281236093,
           52086.57229590149
          ],
          [
           467.76813851965704,
           439.9126001055922,
           529.4146842539336,
           837.6073158767642,
           2205.2330108125257,
           7741.289466842419,
           24879.131653106397,
           46486.15471230347,
           53982.65721713606,
           56182.382857609344,
           55686.997863694356,
           55666.02841822246,
           54203.567150032635,
           53213.12413922973,
           51881.60487332233,
           51677.842482502005,
           52602.50426371126,
           53364.71721457953,
           55180.6753490204,
           57731.116118551065,
           62540.73772311758,
           73929.31279608952,
           67088.30700440303,
           59515.928897893384,
           54867.73852169204,
           52829.89553081855,
           51766.45208084641,
           52007.49945675872,
           51673.08756849802,
           51652.611220435836,
           50825.50361305028,
           50654.669345644674,
           51093.53523588617,
           51254.93004534649
          ],
          [
           402.76632986072053,
           403.58516904513743,
           515.3715479195781,
           963.2879112165634,
           2499.3308713601955,
           9431.875332212838,
           28786.109839121924,
           47695.54114423131,
           53919.70875291384,
           55356.31962151694,
           55038.52276849339,
           54440.67979267407,
           53161.00043175227,
           51965.10765824359,
           50694.44271021188,
           50427.466423465856,
           51410.02424267125,
           52441.0012902003,
           54044.669781576195,
           56121.44378200746,
           60857.69957811388,
           69802.14324795654,
           68515.86547901094,
           59489.80466325585,
           54463.308196190344,
           51944.72394547916,
           50776.69802820228,
           50793.408807267246,
           50740.39033739844,
           50637.66081138813,
           50405.22115620723,
           51039.8146311245,
           50917.71868807281,
           50497.91784105505
          ],
          [
           378.2836666526402,
           466.7004446120946,
           535.5031191927484,
           954.9293468375348,
           3077.4703824133167,
           10903.312204461961,
           31596.002834013594,
           48027.64450490104,
           53302.591489053215,
           54333.61283470687,
           54721.89355336724,
           53627.11506203332,
           52566.73044479862,
           50792.56637119636,
           50384.6759964161,
           50441.24310261692,
           51119.10518186419,
           52052.0757642236,
           53232.67549198847,
           55336.897993127175,
           59595.82919241677,
           66812.92178963096,
           69549.52164254585,
           60338.534048893445,
           54238.62039083058,
           51440.12043427715,
           50644.69062889448,
           49878.02147874081,
           49458.629452560686,
           49642.79088289012,
           50248.09139081671,
           50445.8490231129,
           50515.24463305147,
           49839.983611922595
          ],
          [
           386.11570116709055,
           407.3710616362665,
           527.0468099002697,
           1069.4073373234885,
           3322.5777884544736,
           11189.516930127513,
           30496.929064575437,
           46198.643501962724,
           51810.8798112313,
           53245.99895935341,
           53401.00516703495,
           52697.10455813248,
           52068.02805705532,
           50273.579190813594,
           49971.17493124785,
           50216.35181506236,
           50934.63431368362,
           51502.60037293708,
           52824.23471389093,
           54735.2647203119,
           58265.164016494426,
           63529.256348304836,
           69543.5291231368,
           60808.63167187704,
           54692.79957266757,
           51255.29844838173,
           50565.080995292534,
           49665.070226958385,
           49965.12945622515,
           49856.4394209813,
           50323.698559663106,
           50584.218538145986,
           50900.51564979042,
           50563.112177103685
          ],
          [
           402.8375705598746,
           370.75396229377407,
           592.3938790030448,
           1089.6866408074277,
           3166.5711808695073,
           9968.658126410575,
           25728.398751868863,
           41293.05290999838,
           48683.9944481429,
           51750.69119338028,
           52261.02832834441,
           51507.0716516499,
           50418.29474922684,
           49970.83732222306,
           49400.11299291828,
           49998.16564783949,
           50909.05940397748,
           51795.53614327919,
           52810.937388366125,
           54499.36090143474,
           57123.35093481639,
           61844.02812563372,
           68770.75700277112,
           61855.89148337096,
           56036.552061951435,
           51680.17589548831,
           50364.14946894853,
           50059.755811045376,
           49694.692862233416,
           49878.382718521425,
           49778.97961497568,
           50391.9793710968,
           50827.94932850419,
           50526.9352005831
          ],
          [
           315.93681663784184,
           427.7905327368433,
           514.1554657581347,
           1055.3077189696494,
           2767.5905242652325,
           8118.048145226564,
           19162.050652784943,
           32776.80060968515,
           42555.97030744619,
           48542.45850979071,
           50298.78747317188,
           50522.95096540683,
           49931.314733871885,
           49819.94491155163,
           49849.471703112766,
           50412.822782936644,
           50955.406671182456,
           51924.17928907935,
           52700.16315702988,
           53897.90369182932,
           56125.61347182465,
           60765.59791885402,
           66957.05115274289,
           63129.81224267189,
           56851.943940766054,
           52222.557055369834,
           50785.97890894965,
           50611.14566615465,
           50520.81438537079,
           49843.04034836,
           49808.07040560576,
           50126.34985657721,
           50175.19381030403,
           50273.66726362781
          ],
          [
           388.7715131979331,
           359.01827112015155,
           482.8787458942619,
           907.4205306775712,
           1948.0233965014606,
           5135.647931059803,
           11865.592311958533,
           22226.81120206847,
           33189.43633586026,
           42745.759383309276,
           47134.457736314005,
           48510.39113765853,
           49291.70206889311,
           49444.95883311616,
           49727.756912858255,
           50214.13099580341,
           51261.022742787594,
           51640.507163204646,
           52694.45025767205,
           53307.13857623773,
           55208.300659197324,
           59561.83390165542,
           64410.64555611573,
           64503.02973123658,
           58320.82685124207,
           53771.49930042116,
           52210.97673282576,
           51087.72549231188,
           50619.34471778715,
           50351.46766516143,
           49733.30057157922,
           50189.67057551893,
           50672.66565481016,
           49921.681072385356
          ],
          [
           390.82251882610393,
           360.4751241396295,
           427.8925093241545,
           797.294204296334,
           1283.414454288148,
           3078.7745022365025,
           6812.690421194001,
           13664.826497177419,
           23169.936448014614,
           34126.696733884026,
           42403.3643748921,
           46928.42814265562,
           48466.82074526987,
           49098.96566950728,
           49325.69348426163,
           50458.706211753175,
           51344.42757417471,
           51776.09026533318,
           52287.35345200549,
           52920.24706085596,
           54504.277312855724,
           58424.538366950226,
           62447.06010462862,
           65404.49506747615,
           59661.81718251815,
           55011.309247011115,
           52774.40240112982,
           51939.39253377552,
           51357.02076866585,
           50964.45781981185,
           50589.523632895696,
           51003.55112148733,
           50801.110961820756,
           50326.0409385937
          ],
          [
           423.94983743282205,
           409.7426567946813,
           441.7541953327105,
           603.4579268616169,
           954.7049418175217,
           1839.4143059594207,
           3690.1625867274274,
           7655.841239054054,
           14426.519052540523,
           24392.15512121131,
           34983.189694314235,
           43356.44765328051,
           47354.120891727274,
           48964.922624676925,
           49914.45368144113,
           50722.49601424838,
           51269.356429269785,
           51572.42160158899,
           51879.2857783288,
           52969.3421969243,
           54086.59904874487,
           57682.75168750237,
           61623.814150206104,
           66283.69076067647,
           61119.60713374467,
           56873.941868540656,
           54148.274103076415,
           53000.33491727325,
           52219.74489928746,
           51780.526871940914,
           51277.557866477175,
           51046.23041815509,
           50659.58904921977,
           50163.54665714054
          ],
          [
           425.01659684788416,
           445.0025093140183,
           429.73009688174176,
           451.28656573085766,
           722.7610988892095,
           1157.225635202385,
           2289.7477963846886,
           4218.748566305726,
           7897.262065690262,
           15099.732788316473,
           25234.25549488634,
           36836.88700070542,
           44508.8731917456,
           48328.58069555614,
           49940.43721492679,
           50975.962348176276,
           51185.81512546544,
           51701.43941564822,
           51940.79139837554,
           53019.95264570396,
           54369.71254466488,
           57539.98094096243,
           62344.00398407005,
           67317.41809275793,
           63823.091958504105,
           59773.8465460194,
           57036.938039288725,
           54881.931870055254,
           53604.295824135756,
           52871.588955159306,
           52062.08196049899,
           51536.68800337533,
           50823.7265837913,
           50695.22613832681
          ],
          [
           346.54536667922025,
           387.21587161472377,
           371.36679864324276,
           439.9454950370752,
           572.7825889751022,
           756.6074944048831,
           1223.9008749849165,
           2224.3542224391085,
           4101.105584984121,
           8837.093600060032,
           16995.974177708034,
           28115.87988964004,
           38434.878851160676,
           45870.298596411405,
           49350.65024632595,
           49998.69730693958,
           51069.31393661934,
           51878.1093470038,
           52306.43134735006,
           53714.45255174283,
           55236.1404137977,
           59486.27894525575,
           63628.12404481787,
           69250.35746298876,
           67848.39729736611,
           64532.974230306165,
           62100.8290649654,
           59607.75388669086,
           57470.972141896775,
           55893.843142203856,
           54835.40170158027,
           53121.398253609164,
           52215.39254963203,
           51725.78543690452
          ],
          [
           372.8310234812377,
           341.18370316440166,
           340.24171551757496,
           367.98929505020925,
           476.26217330124183,
           566.0649571947297,
           761.2716290978703,
           1317.0163061875292,
           2466.055438383318,
           5155.133202892517,
           10758.249893061373,
           19835.224785801114,
           30761.246383361533,
           40293.82825508035,
           46737.54251385633,
           49426.35366531883,
           50962.11611896597,
           51588.084353366874,
           52379.036096250784,
           54348.31840086241,
           57748.17597440689,
           61921.94467620693,
           67614.98318646925,
           71767.6634170669,
           69781.5147343157,
           69025.78826457167,
           67497.81301718474,
           65930.34036447138,
           64210.74506719966,
           61561.6271505451,
           59427.7374317968,
           56939.26125267425,
           54903.676755427805,
           53784.97380664123
          ],
          [
           313.57602620319403,
           327.68968174548786,
           313.8713326386653,
           406.55362813379793,
           391.00156345839963,
           502.7021412453467,
           580.2829525387459,
           794.2967950727613,
           1438.5849038141553,
           3188.1809085690174,
           6348.3890361876975,
           12673.365164478011,
           21934.955755885116,
           33032.819442564985,
           41920.289358546535,
           47791.699143602105,
           50229.011592666204,
           51854.975369150525,
           53536.42681924718,
           57003.139087249794,
           61247.888117435934,
           67087.53354137001,
           73321.20379660954,
           70193.870659725,
           67805.1740554924,
           69611.96449041036,
           70279.6735398289,
           69930.18558685365,
           68816.3749724195,
           66663.26032502617,
           64492.99658224805,
           62378.65364336319,
           59672.307831730395,
           57602.480449651644
          ],
          [
           360.7978027213333,
           322.08481733872526,
           312.68834860764105,
           349.7629810767467,
           364.16617649793574,
           337.44577793964186,
           467.0183360634312,
           564.0708653454197,
           880.7626044571265,
           1898.78737855243,
           3777.3657563911293,
           7561.863276087215,
           14527.368082197892,
           24262.947008989584,
           34388.21818821296,
           43229.70929212091,
           48866.9399453528,
           51671.15211096612,
           55790.14074286374,
           60760.21618890564,
           67015.78220454164,
           73250.98701816445,
           70342.01677865954,
           64652.67922364795,
           63775.005179211854,
           66789.71460653862,
           67507.20927668909,
           68007.30133499575,
           67928.01325509923,
           67533.10288471026,
           66941.84246672035,
           65357.89931709669,
           64022.65250908023,
           61862.40658525543
          ],
          [
           325.00553664956624,
           367.3749616364389,
           318.52343528344,
           286.4358949434623,
           356.59864539919437,
           356.47733092212076,
           359.3209754612428,
           454.2346789843884,
           692.84638349661,
           1168.0113941995457,
           2152.2259158741695,
           4568.0284666289035,
           8999.466447828423,
           16420.137428733677,
           25816.33415692514,
           36323.165151181216,
           45648.18867848401,
           52540.38623657888,
           58883.25682998708,
           65429.36568160609,
           73005.65288059734,
           69682.75106594632,
           62634.32047816428,
           58809.8033554391,
           58939.54898908644,
           60932.57852044518,
           62100.55302064018,
           63032.02743343269,
           63249.08383198859,
           64275.55426208721,
           64252.214416014336,
           64144.76294754632,
           64385.654693675206,
           64233.996320228754
          ],
          [
           339.56665478643964,
           328.1297159537536,
           268.5777538187645,
           347.44510915684776,
           342.66855861579296,
           392.62896874875963,
           378.1398384625607,
           467.6594394842856,
           539.5005073459688,
           820.5075921791596,
           1369.762687911266,
           2746.928877199993,
           5306.487686730771,
           10031.616461431806,
           17930.034156514008,
           28391.3262786286,
           39993.95685708995,
           51144.13616820509,
           62206.049932513335,
           71473.36782533822,
           69076.67908559635,
           61932.502569963406,
           55867.47864138751,
           54351.495353086764,
           54559.17835536838,
           55114.92921991136,
           55260.43872476818,
           55332.24281504988,
           55506.09476949414,
           56861.87415609681,
           58359.1311168202,
           59668.33972366502,
           60353.62027200417,
           61132.17116138394
          ],
          [
           317.51699763350246,
           309.55247615279757,
           292.89775661280294,
           341.4249733423913,
           341.61324179915295,
           422.2076197631986,
           294.3614302641362,
           427.1146228723398,
           440.6225292327889,
           537.150564226611,
           929.4516198687184,
           1525.6129570461028,
           3051.01315884332,
           5725.107709850017,
           11336.738578307248,
           20065.86943139119,
           32728.90229970652,
           46685.65603979009,
           63340.83167191778,
           66373.80011971302,
           61005.92510659237,
           54942.40217749495,
           52044.25190532755,
           51122.00156275267,
           51579.68085550335,
           51089.75414388115,
           50581.47535326444,
           50662.66366428597,
           50720.52167877027,
           50653.16762201773,
           51728.509531909396,
           52820.00551721766,
           54476.96088063821,
           56494.546941173074
          ],
          [
           315.6609225760901,
           331.27429301227806,
           295.53536680980403,
           363.60482338992693,
           345.70520956272543,
           336.0409056446682,
           308.44380609414503,
           366.3264460845717,
           416.2275545959055,
           445.3135027988045,
           679.3235389979616,
           1015.431127513741,
           1793.6725124494346,
           3468.8008412128083,
           6762.924190194428,
           13391.076242493937,
           25572.690715075667,
           40889.06292847277,
           53505.33968706658,
           55716.671671665434,
           53192.57415090161,
           51671.568422669654,
           49899.26452618014,
           50203.65740352356,
           50117.86758867503,
           49868.15343499154,
           49441.90370026343,
           48846.460752322884,
           47900.87425287149,
           48070.38817436333,
           48634.06128809452,
           49337.30821857992,
           49827.95546271313,
           51387.86041085821
          ],
          [
           292.8940537196935,
           344.05550328875916,
           349.2124385119593,
           380.8672430940206,
           340.5356248193159,
           365.20048132495805,
           373.4119643731573,
           304.2075120393575,
           371.76126734241114,
           453.78249838721206,
           459.8528496770307,
           742.3352915755839,
           1157.917801091732,
           2100.8570758565775,
           4210.642932396875,
           8733.55568692501,
           18346.667213355686,
           29782.74983326136,
           39679.28296885054,
           45290.68266238039,
           47849.77565372389,
           49038.94827277729,
           48843.90935777684,
           49462.22000253327,
           49490.16133571946,
           49578.03376082931,
           49531.45583209446,
           48670.62295984459,
           48413.142969872555,
           48247.231127680316,
           48455.626378110836,
           48623.077315840936,
           48421.57577171577,
           49200.94084713548
          ],
          [
           320.0923396939559,
           312.0004650356114,
           392.0386070342237,
           291.62344768586655,
           335.02448230274723,
           353.3332890325195,
           286.585435300639,
           343.9506725088484,
           364.3152479271804,
           428.22754615328347,
           420.68871389048576,
           514.9273694025596,
           818.7433607610743,
           1225.970209898764,
           2614.3313421411985,
           5235.440278400534,
           10940.893969008333,
           18325.678116687333,
           26615.540396016328,
           34629.55469193426,
           41343.041694628715,
           45903.80702383497,
           47874.39529175566,
           48674.760329966964,
           48977.797411141444,
           49336.704646949576,
           49434.84993413074,
           49138.26914812434,
           49322.50904270671,
           48599.4518044826,
           49012.875131435525,
           49229.057238719004,
           49317.34100413062,
           50276.490612921836
          ],
          [
           312.96844479740577,
           307.4972754521059,
           286.7904949450451,
           307.6548934234915,
           348.44168550667933,
           326.2602376983312,
           363.2786579663879,
           421.3700125343461,
           356.65438668722925,
           378.30512175072556,
           408.55480535025555,
           433.9523512172028,
           511.0194471044753,
           877.5758841906453,
           1652.3093627563826,
           3228.50972710845,
           5958.086330201235,
           10333.292486627359,
           16712.890996723916,
           25187.04636726641,
           34118.88449971345,
           41337.87362995303,
           45387.74601691423,
           48089.25659992179,
           49187.33925620218,
           49786.62079193523,
           49522.55468367207,
           49857.150719801546,
           49539.93432401713,
           49557.248408045045,
           49953.8215190518,
           49971.50239177415,
           50785.4920966023,
           51785.6082107311
          ],
          [
           341.6962626682581,
           340.7797365579416,
           338.38621252567685,
           343.2738088799914,
           344.21381931070323,
           278.9650111940233,
           277.50197125887286,
           352.0723927729447,
           391.08875737843624,
           330.7108662404303,
           368.51615524248746,
           396.2210395094823,
           501.7549200820498,
           604.3836071111332,
           1082.2361433690946,
           1816.375716692101,
           3272.2118346287166,
           5715.3478321810135,
           10094.578826652667,
           17376.45451269575,
           26211.128448666706,
           34998.66674301932,
           42323.90117239752,
           46516.53471945132,
           48626.295257539095,
           49368.062940987074,
           49909.17919112822,
           49725.87350307945,
           49958.76542574648,
           50065.17775649885,
           50634.591520149195,
           51455.49027089029,
           51406.7735141963,
           53555.161092022485
          ],
          [
           339.3747152300321,
           354.29395772066493,
           372.8672265559796,
           350.8253873148113,
           320.980516924435,
           349.8825240148802,
           350.3318333448659,
           270.0669220262376,
           364.6897662610977,
           339.01735209844844,
           416.4867408134395,
           374.71122502078106,
           379.2218263625106,
           523.2192393603046,
           741.7385389805115,
           1048.9632570464123,
           1848.4483825518423,
           3171.117985337044,
           5694.695878335751,
           10558.33357878593,
           18154.272625125257,
           26989.001145064354,
           36076.39989784446,
           43570.98497567477,
           47308.44048949323,
           49281.35866885739,
           50001.463879212926,
           50522.511586829736,
           50578.08946559337,
           50969.41697355802,
           51338.88400815819,
           52200.82333668298,
           54066.08696090719,
           56459.565067655276
          ]
         ],
         "type": "heatmap",
         "xaxis": "x",
         "yaxis": "y",
         "hovertemplate": "x: %{x}<br>y: %{y}<br>color: %{z}<extra></extra>"
        }
       ],
       "layout": {
        "template": {
         "data": {
          "histogram2dcontour": [
           {
            "type": "histogram2dcontour",
            "colorbar": {
             "outlinewidth": 0,
             "ticks": ""
            },
            "colorscale": [
             [
              0.0,
              "#0d0887"
             ],
             [
              0.1111111111111111,
              "#46039f"
             ],
             [
              0.2222222222222222,
              "#7201a8"
             ],
             [
              0.3333333333333333,
              "#9c179e"
             ],
             [
              0.4444444444444444,
              "#bd3786"
             ],
             [
              0.5555555555555556,
              "#d8576b"
             ],
             [
              0.6666666666666666,
              "#ed7953"
             ],
             [
              0.7777777777777778,
              "#fb9f3a"
             ],
             [
              0.8888888888888888,
              "#fdca26"
             ],
             [
              1.0,
              "#f0f921"
             ]
            ]
           }
          ],
          "choropleth": [
           {
            "type": "choropleth",
            "colorbar": {
             "outlinewidth": 0,
             "ticks": ""
            }
           }
          ],
          "histogram2d": [
           {
            "type": "histogram2d",
            "colorbar": {
             "outlinewidth": 0,
             "ticks": ""
            },
            "colorscale": [
             [
              0.0,
              "#0d0887"
             ],
             [
              0.1111111111111111,
              "#46039f"
             ],
             [
              0.2222222222222222,
              "#7201a8"
             ],
             [
              0.3333333333333333,
              "#9c179e"
             ],
             [
              0.4444444444444444,
              "#bd3786"
             ],
             [
              0.5555555555555556,
              "#d8576b"
             ],
             [
              0.6666666666666666,
              "#ed7953"
             ],
             [
              0.7777777777777778,
              "#fb9f3a"
             ],
             [
              0.8888888888888888,
              "#fdca26"
             ],
             [
              1.0,
              "#f0f921"
             ]
            ]
           }
          ],
          "heatmap": [
           {
            "type": "heatmap",
            "colorbar": {
             "outlinewidth": 0,
             "ticks": ""
            },
            "colorscale": [
             [
              0.0,
              "#0d0887"
             ],
             [
              0.1111111111111111,
              "#46039f"
             ],
             [
              0.2222222222222222,
              "#7201a8"
             ],
             [
              0.3333333333333333,
              "#9c179e"
             ],
             [
              0.4444444444444444,
              "#bd3786"
             ],
             [
              0.5555555555555556,
              "#d8576b"
             ],
             [
              0.6666666666666666,
              "#ed7953"
             ],
             [
              0.7777777777777778,
              "#fb9f3a"
             ],
             [
              0.8888888888888888,
              "#fdca26"
             ],
             [
              1.0,
              "#f0f921"
             ]
            ]
           }
          ],
          "heatmapgl": [
           {
            "type": "heatmapgl",
            "colorbar": {
             "outlinewidth": 0,
             "ticks": ""
            },
            "colorscale": [
             [
              0.0,
              "#0d0887"
             ],
             [
              0.1111111111111111,
              "#46039f"
             ],
             [
              0.2222222222222222,
              "#7201a8"
             ],
             [
              0.3333333333333333,
              "#9c179e"
             ],
             [
              0.4444444444444444,
              "#bd3786"
             ],
             [
              0.5555555555555556,
              "#d8576b"
             ],
             [
              0.6666666666666666,
              "#ed7953"
             ],
             [
              0.7777777777777778,
              "#fb9f3a"
             ],
             [
              0.8888888888888888,
              "#fdca26"
             ],
             [
              1.0,
              "#f0f921"
             ]
            ]
           }
          ],
          "contourcarpet": [
           {
            "type": "contourcarpet",
            "colorbar": {
             "outlinewidth": 0,
             "ticks": ""
            }
           }
          ],
          "contour": [
           {
            "type": "contour",
            "colorbar": {
             "outlinewidth": 0,
             "ticks": ""
            },
            "colorscale": [
             [
              0.0,
              "#0d0887"
             ],
             [
              0.1111111111111111,
              "#46039f"
             ],
             [
              0.2222222222222222,
              "#7201a8"
             ],
             [
              0.3333333333333333,
              "#9c179e"
             ],
             [
              0.4444444444444444,
              "#bd3786"
             ],
             [
              0.5555555555555556,
              "#d8576b"
             ],
             [
              0.6666666666666666,
              "#ed7953"
             ],
             [
              0.7777777777777778,
              "#fb9f3a"
             ],
             [
              0.8888888888888888,
              "#fdca26"
             ],
             [
              1.0,
              "#f0f921"
             ]
            ]
           }
          ],
          "surface": [
           {
            "type": "surface",
            "colorbar": {
             "outlinewidth": 0,
             "ticks": ""
            },
            "colorscale": [
             [
              0.0,
              "#0d0887"
             ],
             [
              0.1111111111111111,
              "#46039f"
             ],
             [
              0.2222222222222222,
              "#7201a8"
             ],
             [
              0.3333333333333333,
              "#9c179e"
             ],
             [
              0.4444444444444444,
              "#bd3786"
             ],
             [
              0.5555555555555556,
              "#d8576b"
             ],
             [
              0.6666666666666666,
              "#ed7953"
             ],
             [
              0.7777777777777778,
              "#fb9f3a"
             ],
             [
              0.8888888888888888,
              "#fdca26"
             ],
             [
              1.0,
              "#f0f921"
             ]
            ]
           }
          ],
          "mesh3d": [
           {
            "type": "mesh3d",
            "colorbar": {
             "outlinewidth": 0,
             "ticks": ""
            }
           }
          ],
          "scatter": [
           {
            "marker": {
             "line": {
              "color": "#283442"
             }
            },
            "type": "scatter"
           }
          ],
          "parcoords": [
           {
            "type": "parcoords",
            "line": {
             "colorbar": {
              "outlinewidth": 0,
              "ticks": ""
             }
            }
           }
          ],
          "scatterpolargl": [
           {
            "type": "scatterpolargl",
            "marker": {
             "colorbar": {
              "outlinewidth": 0,
              "ticks": ""
             }
            }
           }
          ],
          "bar": [
           {
            "error_x": {
             "color": "#f2f5fa"
            },
            "error_y": {
             "color": "#f2f5fa"
            },
            "marker": {
             "line": {
              "color": "rgb(17,17,17)",
              "width": 0.5
             },
             "pattern": {
              "fillmode": "overlay",
              "size": 10,
              "solidity": 0.2
             }
            },
            "type": "bar"
           }
          ],
          "scattergeo": [
           {
            "type": "scattergeo",
            "marker": {
             "colorbar": {
              "outlinewidth": 0,
              "ticks": ""
             }
            }
           }
          ],
          "scatterpolar": [
           {
            "type": "scatterpolar",
            "marker": {
             "colorbar": {
              "outlinewidth": 0,
              "ticks": ""
             }
            }
           }
          ],
          "histogram": [
           {
            "marker": {
             "pattern": {
              "fillmode": "overlay",
              "size": 10,
              "solidity": 0.2
             }
            },
            "type": "histogram"
           }
          ],
          "scattergl": [
           {
            "marker": {
             "line": {
              "color": "#283442"
             }
            },
            "type": "scattergl"
           }
          ],
          "scatter3d": [
           {
            "type": "scatter3d",
            "line": {
             "colorbar": {
              "outlinewidth": 0,
              "ticks": ""
             }
            },
            "marker": {
             "colorbar": {
              "outlinewidth": 0,
              "ticks": ""
             }
            }
           }
          ],
          "scattermapbox": [
           {
            "type": "scattermapbox",
            "marker": {
             "colorbar": {
              "outlinewidth": 0,
              "ticks": ""
             }
            }
           }
          ],
          "scatterternary": [
           {
            "type": "scatterternary",
            "marker": {
             "colorbar": {
              "outlinewidth": 0,
              "ticks": ""
             }
            }
           }
          ],
          "scattercarpet": [
           {
            "type": "scattercarpet",
            "marker": {
             "colorbar": {
              "outlinewidth": 0,
              "ticks": ""
             }
            }
           }
          ],
          "carpet": [
           {
            "aaxis": {
             "endlinecolor": "#A2B1C6",
             "gridcolor": "#506784",
             "linecolor": "#506784",
             "minorgridcolor": "#506784",
             "startlinecolor": "#A2B1C6"
            },
            "baxis": {
             "endlinecolor": "#A2B1C6",
             "gridcolor": "#506784",
             "linecolor": "#506784",
             "minorgridcolor": "#506784",
             "startlinecolor": "#A2B1C6"
            },
            "type": "carpet"
           }
          ],
          "table": [
           {
            "cells": {
             "fill": {
              "color": "#506784"
             },
             "line": {
              "color": "rgb(17,17,17)"
             }
            },
            "header": {
             "fill": {
              "color": "#2a3f5f"
             },
             "line": {
              "color": "rgb(17,17,17)"
             }
            },
            "type": "table"
           }
          ],
          "barpolar": [
           {
            "marker": {
             "line": {
              "color": "rgb(17,17,17)",
              "width": 0.5
             },
             "pattern": {
              "fillmode": "overlay",
              "size": 10,
              "solidity": 0.2
             }
            },
            "type": "barpolar"
           }
          ],
          "pie": [
           {
            "automargin": true,
            "type": "pie"
           }
          ]
         },
         "layout": {
          "autotypenumbers": "strict",
          "colorway": [
           "#636efa",
           "#EF553B",
           "#00cc96",
           "#ab63fa",
           "#FFA15A",
           "#19d3f3",
           "#FF6692",
           "#B6E880",
           "#FF97FF",
           "#FECB52"
          ],
          "font": {
           "color": "#f2f5fa"
          },
          "hovermode": "closest",
          "hoverlabel": {
           "align": "left"
          },
          "paper_bgcolor": "rgb(17,17,17)",
          "plot_bgcolor": "rgb(17,17,17)",
          "polar": {
           "bgcolor": "rgb(17,17,17)",
           "angularaxis": {
            "gridcolor": "#506784",
            "linecolor": "#506784",
            "ticks": ""
           },
           "radialaxis": {
            "gridcolor": "#506784",
            "linecolor": "#506784",
            "ticks": ""
           }
          },
          "ternary": {
           "bgcolor": "rgb(17,17,17)",
           "aaxis": {
            "gridcolor": "#506784",
            "linecolor": "#506784",
            "ticks": ""
           },
           "baxis": {
            "gridcolor": "#506784",
            "linecolor": "#506784",
            "ticks": ""
           },
           "caxis": {
            "gridcolor": "#506784",
            "linecolor": "#506784",
            "ticks": ""
           }
          },
          "coloraxis": {
           "colorbar": {
            "outlinewidth": 0,
            "ticks": ""
           }
          },
          "colorscale": {
           "sequential": [
            [
             0.0,
             "#0d0887"
            ],
            [
             0.1111111111111111,
             "#46039f"
            ],
            [
             0.2222222222222222,
             "#7201a8"
            ],
            [
             0.3333333333333333,
             "#9c179e"
            ],
            [
             0.4444444444444444,
             "#bd3786"
            ],
            [
             0.5555555555555556,
             "#d8576b"
            ],
            [
             0.6666666666666666,
             "#ed7953"
            ],
            [
             0.7777777777777778,
             "#fb9f3a"
            ],
            [
             0.8888888888888888,
             "#fdca26"
            ],
            [
             1.0,
             "#f0f921"
            ]
           ],
           "sequentialminus": [
            [
             0.0,
             "#0d0887"
            ],
            [
             0.1111111111111111,
             "#46039f"
            ],
            [
             0.2222222222222222,
             "#7201a8"
            ],
            [
             0.3333333333333333,
             "#9c179e"
            ],
            [
             0.4444444444444444,
             "#bd3786"
            ],
            [
             0.5555555555555556,
             "#d8576b"
            ],
            [
             0.6666666666666666,
             "#ed7953"
            ],
            [
             0.7777777777777778,
             "#fb9f3a"
            ],
            [
             0.8888888888888888,
             "#fdca26"
            ],
            [
             1.0,
             "#f0f921"
            ]
           ],
           "diverging": [
            [
             0,
             "#8e0152"
            ],
            [
             0.1,
             "#c51b7d"
            ],
            [
             0.2,
             "#de77ae"
            ],
            [
             0.3,
             "#f1b6da"
            ],
            [
             0.4,
             "#fde0ef"
            ],
            [
             0.5,
             "#f7f7f7"
            ],
            [
             0.6,
             "#e6f5d0"
            ],
            [
             0.7,
             "#b8e186"
            ],
            [
             0.8,
             "#7fbc41"
            ],
            [
             0.9,
             "#4d9221"
            ],
            [
             1,
             "#276419"
            ]
           ]
          },
          "xaxis": {
           "gridcolor": "#283442",
           "linecolor": "#506784",
           "ticks": "",
           "title": {
            "standoff": 15
           },
           "zerolinecolor": "#283442",
           "automargin": true,
           "zerolinewidth": 2
          },
          "yaxis": {
           "gridcolor": "#283442",
           "linecolor": "#506784",
           "ticks": "",
           "title": {
            "standoff": 15
           },
           "zerolinecolor": "#283442",
           "automargin": true,
           "zerolinewidth": 2
          },
          "scene": {
           "xaxis": {
            "backgroundcolor": "rgb(17,17,17)",
            "gridcolor": "#506784",
            "linecolor": "#506784",
            "showbackground": true,
            "ticks": "",
            "zerolinecolor": "#C8D4E3",
            "gridwidth": 2
           },
           "yaxis": {
            "backgroundcolor": "rgb(17,17,17)",
            "gridcolor": "#506784",
            "linecolor": "#506784",
            "showbackground": true,
            "ticks": "",
            "zerolinecolor": "#C8D4E3",
            "gridwidth": 2
           },
           "zaxis": {
            "backgroundcolor": "rgb(17,17,17)",
            "gridcolor": "#506784",
            "linecolor": "#506784",
            "showbackground": true,
            "ticks": "",
            "zerolinecolor": "#C8D4E3",
            "gridwidth": 2
           }
          },
          "shapedefaults": {
           "line": {
            "color": "#f2f5fa"
           }
          },
          "annotationdefaults": {
           "arrowcolor": "#f2f5fa",
           "arrowhead": 0,
           "arrowwidth": 1
          },
          "geo": {
           "bgcolor": "rgb(17,17,17)",
           "landcolor": "rgb(17,17,17)",
           "subunitcolor": "#506784",
           "showland": true,
           "showlakes": true,
           "lakecolor": "rgb(17,17,17)"
          },
          "title": {
           "x": 0.05
          },
          "updatemenudefaults": {
           "bgcolor": "#506784",
           "borderwidth": 0
          },
          "sliderdefaults": {
           "bgcolor": "#C8D4E3",
           "borderwidth": 1,
           "bordercolor": "rgb(17,17,17)",
           "tickwidth": 0
          },
          "mapbox": {
           "style": "dark"
          }
         }
        },
        "xaxis": {
         "anchor": "y",
         "domain": [
          0.0,
          1.0
         ],
         "scaleanchor": "y",
         "constrain": "domain"
        },
        "yaxis": {
         "anchor": "x",
         "domain": [
          0.0,
          1.0
         ],
         "autorange": "reversed",
         "constrain": "domain"
        },
        "coloraxis": {
         "colorscale": [
          [
           0.0,
           "#0d0887"
          ],
          [
           0.1111111111111111,
           "#46039f"
          ],
          [
           0.2222222222222222,
           "#7201a8"
          ],
          [
           0.3333333333333333,
           "#9c179e"
          ],
          [
           0.4444444444444444,
           "#bd3786"
          ],
          [
           0.5555555555555556,
           "#d8576b"
          ],
          [
           0.6666666666666666,
           "#ed7953"
          ],
          [
           0.7777777777777778,
           "#fb9f3a"
          ],
          [
           0.8888888888888888,
           "#fdca26"
          ],
          [
           1.0,
           "#f0f921"
          ]
         ]
        },
        "margin": {
         "t": 60
        }
       },
       "config": {
        "plotlyServerURL": "https://plot.ly"
       }
      },
      "text/html": "<div>                            <div id=\"1588b7ad-5861-461d-99e0-5ebd35023e54\" class=\"plotly-graph-div\" style=\"height:525px; width:100%;\"></div>            <script type=\"text/javascript\">                require([\"plotly\"], function(Plotly) {                    window.PLOTLYENV=window.PLOTLYENV || {};                                    if (document.getElementById(\"1588b7ad-5861-461d-99e0-5ebd35023e54\")) {                    Plotly.newPlot(                        \"1588b7ad-5861-461d-99e0-5ebd35023e54\",                        [{\"coloraxis\":\"coloraxis\",\"name\":\"0\",\"z\":[[397.1229270404682,448.36166509567664,462.6202580976483,502.8481390842034,507.8406681124836,657.5155511642596,813.1184074335409,1480.9506371802793,3429.614459533161,19472.719794443856,50481.50814379228,62150.797566039226,61919.928847096555,65007.7539234859,75096.36615753014,79868.42775581744,87684.06354837769,100352.5221598378,118845.67386012146,137144.83207352605,143225.81436357138,173495.97993140138,114751.5934299196,84980.27942137995,73133.66884333345,64175.849910932855,58294.540966590124,58395.667159559685,58678.30617991798,58692.85519950925,59448.60870327311,59394.26583073945,59956.876849837885,59401.723480528046],[521.3914620377808,445.84648541688387,425.0207059274507,498.18486113212657,524.1350062042071,729.1202748039848,1088.6943589368045,2674.3805391847895,11675.886391263035,40138.097679577295,58047.659413959314,57209.62215690111,60367.87576250634,64432.939843053064,66643.31422683568,67485.63364439477,69174.8689104049,69911.16485215213,72228.35066685049,101828.27870512295,118747.77096185545,83581.10967846903,87004.13930374969,87432.21257932326,85752.6321534325,78618.69206297405,69642.18705891407,64092.30160206479,58568.32665334466,55682.20603736306,55850.51855115323,56873.05971433328,57820.691614822405,57855.37894360764],[438.47773505527806,424.90865262928185,514.4651883183363,508.4218624744784,550.2055267475404,761.4923897878504,1505.3341161614173,3712.9681436136498,20716.973255590387,43651.07990677114,53786.21931707751,59978.22273804469,63601.23117253703,65689.95654043948,65623.64082556135,65654.74899755203,67770.19737659386,68151.47928768063,71158.72998791012,91929.70413927191,95203.57613118194,70283.315365563,66381.2893291803,66801.15844590835,71990.67779722472,78464.8114746918,82638.7947007688,83661.97284375037,80292.16887890424,71856.60291568599,65607.6030474752,59608.388609339956,55697.594585737774,54863.48021022031],[447.35350711481703,501.5790061503375,475.01524610025456,535.1267327107253,662.6159439034711,987.134766847643,2019.027235755789,7465.458522773871,27940.84628577048,46813.778274795965,57037.26913951374,63754.97147103056,64845.12414041401,64723.99471280343,64114.23898964466,64711.691972541164,66815.65666561991,67902.8517701431,70380.65182716519,83485.15086568028,94668.73410655114,68045.67116766585,64371.58737001064,63675.991784075224,62966.74611186715,63335.8577447651,65207.57056176608,69655.14633164213,78479.11174294863,84904.6781016833,88731.86796413954,84504.30053911524,77289.93509718044,72855.8104596435],[422.111544065234,436.2871067204575,513.4929195661937,456.31160091871254,648.518162119501,1111.4535852877402,2852.1701426971586,15110.09204630041,35270.72513601631,49955.55517163376,59590.04155230195,63479.826998873745,65506.28609104511,63631.968378835554,63444.10083038672,62946.19302148522,65106.92090839808,65684.5295815269,68549.84472538554,75489.19679026099,97911.64467773304,65890.82416400964,61938.70420706275,61843.74783772033,61642.060370826126,61981.53984745211,62082.00480793369,62943.91062001281,63538.699981211175,65467.47985380748,70677.61336806713,78736.51682362934,85891.35689622989,91016.45356130018],[447.73514891249795,498.25026971163504,393.1422560956845,610.1680483846256,709.0753559882367,1331.3480597117073,3218.403569014084,17929.95239905896,40450.66989785505,53865.60630784446,60291.23845074065,62574.33765902162,64043.11245133391,63001.57913022863,62027.78591326322,61966.56333087533,64626.72123706853,65361.928581885244,66778.98112881121,71395.4883552467,99639.34872908592,67632.9046198239,63171.25390602519,60989.33739670029,61660.970242410156,61583.34236419911,61775.68408868586,61646.02337959722,62184.79259198856,62167.859191102594,61967.284338577694,62986.36631288466,63874.746029460104,67612.32885151524],[438.5538874943241,517.1181533646486,453.2251662191481,600.6873585275644,847.2363921822717,1509.5906201633843,3976.607526412284,20123.82034608054,43787.89089116968,57690.557154521746,61120.18521491368,62402.35036090733,62290.22865221058,62540.865376978,61569.34078433998,61421.63460873421,62998.630981547314,64573.43465667341,64776.76967685477,68534.09387177127,97561.7011830979,72792.1980647278,64548.93819431056,61795.302303723285,60213.736661350726,60457.153349317785,60602.63323640705,61569.60448386937,61878.98578441391,61432.21868469362,60907.436667624774,62195.87033101716,61553.62957645213,62031.10551428611],[454.82188681565015,417.32895091522863,472.0680801151557,589.5776469779539,1039.1059944120452,1882.3320195071342,5494.49173781467,27585.252160107495,48670.5844345542,58944.85920165917,60562.755680031994,61386.24954556314,60760.12345581899,61493.988662945085,60376.90854599344,60313.80005710353,61785.542882938054,63464.29705823096,63841.405864235094,67607.237730133,90666.1839167375,78968.89821087579,65062.76063541513,62217.73225348906,60991.27019344809,60057.492716609326,59820.44684091935,59484.05053255034,60340.88843185788,60324.56791338142,60574.08517015102,61447.440603733114,61495.718007500305,61323.17397924146],[427.5386059321703,507.94113621028055,478.96447416350145,662.5701948635995,1052.3766552477857,2408.829505416703,9089.177895595803,36741.02637355936,54078.70823588135,60908.898432545866,60809.2659288483,60499.92535604553,60451.02487928413,59696.05803641812,59324.17906045618,58585.9073029788,60551.99805625395,61746.91980513085,63127.18597739349,66333.97221319682,81770.7123835703,85829.74678759821,65655.54574545918,62192.09940959431,61075.31662002652,60554.47408210288,59470.904408788825,59943.689162731745,59487.37001219524,59036.91227482325,58106.661960883466,57932.00720966779,58005.770716777675,59268.51578931779],[439.0647207093789,457.36909677837275,476.1636544382047,631.5776570061273,1376.303080331609,3466.461005621717,13978.218029218882,39394.98000913702,54094.486635358415,58312.6106092774,58177.854393928814,57609.433065777004,56999.00242888888,55680.80882639217,55263.80741766334,54764.49852744885,55626.178037082376,57356.419717382865,58983.05035760046,62111.90282658952,69530.51417391654,82573.62400421377,65008.106759789254,59582.68046044699,57375.691638515156,56527.94700285275,55869.45780179958,55924.86834785151,55855.69655163898,55280.28346934668,54761.06851165376,54356.80723644726,54634.226440433435,54935.150903121204],[394.9788945611409,471.80860078395835,576.0458058507164,837.9676368196482,1688.188605398504,5374.004335688274,19791.55177788583,43723.67295151892,54418.071849424785,56873.17923851921,56884.11956453851,56521.916725202005,55173.5562358418,54117.18381088353,53343.27471156413,53154.727391884706,53735.492702592615,54936.881343149595,56197.80253050101,59440.84231472667,65213.616243974764,78850.92815146266,65710.40937431487,59624.89601821069,56060.6177903186,54363.38942807467,54021.89052098448,53553.2839454429,53737.37631385571,53027.78384438961,52387.39126763588,52066.20370638997,52119.08281236093,52086.57229590149],[467.76813851965704,439.9126001055922,529.4146842539336,837.6073158767642,2205.2330108125257,7741.289466842419,24879.131653106397,46486.15471230347,53982.65721713606,56182.382857609344,55686.997863694356,55666.02841822246,54203.567150032635,53213.12413922973,51881.60487332233,51677.842482502005,52602.50426371126,53364.71721457953,55180.6753490204,57731.116118551065,62540.73772311758,73929.31279608952,67088.30700440303,59515.928897893384,54867.73852169204,52829.89553081855,51766.45208084641,52007.49945675872,51673.08756849802,51652.611220435836,50825.50361305028,50654.669345644674,51093.53523588617,51254.93004534649],[402.76632986072053,403.58516904513743,515.3715479195781,963.2879112165634,2499.3308713601955,9431.875332212838,28786.109839121924,47695.54114423131,53919.70875291384,55356.31962151694,55038.52276849339,54440.67979267407,53161.00043175227,51965.10765824359,50694.44271021188,50427.466423465856,51410.02424267125,52441.0012902003,54044.669781576195,56121.44378200746,60857.69957811388,69802.14324795654,68515.86547901094,59489.80466325585,54463.308196190344,51944.72394547916,50776.69802820228,50793.408807267246,50740.39033739844,50637.66081138813,50405.22115620723,51039.8146311245,50917.71868807281,50497.91784105505],[378.2836666526402,466.7004446120946,535.5031191927484,954.9293468375348,3077.4703824133167,10903.312204461961,31596.002834013594,48027.64450490104,53302.591489053215,54333.61283470687,54721.89355336724,53627.11506203332,52566.73044479862,50792.56637119636,50384.6759964161,50441.24310261692,51119.10518186419,52052.0757642236,53232.67549198847,55336.897993127175,59595.82919241677,66812.92178963096,69549.52164254585,60338.534048893445,54238.62039083058,51440.12043427715,50644.69062889448,49878.02147874081,49458.629452560686,49642.79088289012,50248.09139081671,50445.8490231129,50515.24463305147,49839.983611922595],[386.11570116709055,407.3710616362665,527.0468099002697,1069.4073373234885,3322.5777884544736,11189.516930127513,30496.929064575437,46198.643501962724,51810.8798112313,53245.99895935341,53401.00516703495,52697.10455813248,52068.02805705532,50273.579190813594,49971.17493124785,50216.35181506236,50934.63431368362,51502.60037293708,52824.23471389093,54735.2647203119,58265.164016494426,63529.256348304836,69543.5291231368,60808.63167187704,54692.79957266757,51255.29844838173,50565.080995292534,49665.070226958385,49965.12945622515,49856.4394209813,50323.698559663106,50584.218538145986,50900.51564979042,50563.112177103685],[402.8375705598746,370.75396229377407,592.3938790030448,1089.6866408074277,3166.5711808695073,9968.658126410575,25728.398751868863,41293.05290999838,48683.9944481429,51750.69119338028,52261.02832834441,51507.0716516499,50418.29474922684,49970.83732222306,49400.11299291828,49998.16564783949,50909.05940397748,51795.53614327919,52810.937388366125,54499.36090143474,57123.35093481639,61844.02812563372,68770.75700277112,61855.89148337096,56036.552061951435,51680.17589548831,50364.14946894853,50059.755811045376,49694.692862233416,49878.382718521425,49778.97961497568,50391.9793710968,50827.94932850419,50526.9352005831],[315.93681663784184,427.7905327368433,514.1554657581347,1055.3077189696494,2767.5905242652325,8118.048145226564,19162.050652784943,32776.80060968515,42555.97030744619,48542.45850979071,50298.78747317188,50522.95096540683,49931.314733871885,49819.94491155163,49849.471703112766,50412.822782936644,50955.406671182456,51924.17928907935,52700.16315702988,53897.90369182932,56125.61347182465,60765.59791885402,66957.05115274289,63129.81224267189,56851.943940766054,52222.557055369834,50785.97890894965,50611.14566615465,50520.81438537079,49843.04034836,49808.07040560576,50126.34985657721,50175.19381030403,50273.66726362781],[388.7715131979331,359.01827112015155,482.8787458942619,907.4205306775712,1948.0233965014606,5135.647931059803,11865.592311958533,22226.81120206847,33189.43633586026,42745.759383309276,47134.457736314005,48510.39113765853,49291.70206889311,49444.95883311616,49727.756912858255,50214.13099580341,51261.022742787594,51640.507163204646,52694.45025767205,53307.13857623773,55208.300659197324,59561.83390165542,64410.64555611573,64503.02973123658,58320.82685124207,53771.49930042116,52210.97673282576,51087.72549231188,50619.34471778715,50351.46766516143,49733.30057157922,50189.67057551893,50672.66565481016,49921.681072385356],[390.82251882610393,360.4751241396295,427.8925093241545,797.294204296334,1283.414454288148,3078.7745022365025,6812.690421194001,13664.826497177419,23169.936448014614,34126.696733884026,42403.3643748921,46928.42814265562,48466.82074526987,49098.96566950728,49325.69348426163,50458.706211753175,51344.42757417471,51776.09026533318,52287.35345200549,52920.24706085596,54504.277312855724,58424.538366950226,62447.06010462862,65404.49506747615,59661.81718251815,55011.309247011115,52774.40240112982,51939.39253377552,51357.02076866585,50964.45781981185,50589.523632895696,51003.55112148733,50801.110961820756,50326.0409385937],[423.94983743282205,409.7426567946813,441.7541953327105,603.4579268616169,954.7049418175217,1839.4143059594207,3690.1625867274274,7655.841239054054,14426.519052540523,24392.15512121131,34983.189694314235,43356.44765328051,47354.120891727274,48964.922624676925,49914.45368144113,50722.49601424838,51269.356429269785,51572.42160158899,51879.2857783288,52969.3421969243,54086.59904874487,57682.75168750237,61623.814150206104,66283.69076067647,61119.60713374467,56873.941868540656,54148.274103076415,53000.33491727325,52219.74489928746,51780.526871940914,51277.557866477175,51046.23041815509,50659.58904921977,50163.54665714054],[425.01659684788416,445.0025093140183,429.73009688174176,451.28656573085766,722.7610988892095,1157.225635202385,2289.7477963846886,4218.748566305726,7897.262065690262,15099.732788316473,25234.25549488634,36836.88700070542,44508.8731917456,48328.58069555614,49940.43721492679,50975.962348176276,51185.81512546544,51701.43941564822,51940.79139837554,53019.95264570396,54369.71254466488,57539.98094096243,62344.00398407005,67317.41809275793,63823.091958504105,59773.8465460194,57036.938039288725,54881.931870055254,53604.295824135756,52871.588955159306,52062.08196049899,51536.68800337533,50823.7265837913,50695.22613832681],[346.54536667922025,387.21587161472377,371.36679864324276,439.9454950370752,572.7825889751022,756.6074944048831,1223.9008749849165,2224.3542224391085,4101.105584984121,8837.093600060032,16995.974177708034,28115.87988964004,38434.878851160676,45870.298596411405,49350.65024632595,49998.69730693958,51069.31393661934,51878.1093470038,52306.43134735006,53714.45255174283,55236.1404137977,59486.27894525575,63628.12404481787,69250.35746298876,67848.39729736611,64532.974230306165,62100.8290649654,59607.75388669086,57470.972141896775,55893.843142203856,54835.40170158027,53121.398253609164,52215.39254963203,51725.78543690452],[372.8310234812377,341.18370316440166,340.24171551757496,367.98929505020925,476.26217330124183,566.0649571947297,761.2716290978703,1317.0163061875292,2466.055438383318,5155.133202892517,10758.249893061373,19835.224785801114,30761.246383361533,40293.82825508035,46737.54251385633,49426.35366531883,50962.11611896597,51588.084353366874,52379.036096250784,54348.31840086241,57748.17597440689,61921.94467620693,67614.98318646925,71767.6634170669,69781.5147343157,69025.78826457167,67497.81301718474,65930.34036447138,64210.74506719966,61561.6271505451,59427.7374317968,56939.26125267425,54903.676755427805,53784.97380664123],[313.57602620319403,327.68968174548786,313.8713326386653,406.55362813379793,391.00156345839963,502.7021412453467,580.2829525387459,794.2967950727613,1438.5849038141553,3188.1809085690174,6348.3890361876975,12673.365164478011,21934.955755885116,33032.819442564985,41920.289358546535,47791.699143602105,50229.011592666204,51854.975369150525,53536.42681924718,57003.139087249794,61247.888117435934,67087.53354137001,73321.20379660954,70193.870659725,67805.1740554924,69611.96449041036,70279.6735398289,69930.18558685365,68816.3749724195,66663.26032502617,64492.99658224805,62378.65364336319,59672.307831730395,57602.480449651644],[360.7978027213333,322.08481733872526,312.68834860764105,349.7629810767467,364.16617649793574,337.44577793964186,467.0183360634312,564.0708653454197,880.7626044571265,1898.78737855243,3777.3657563911293,7561.863276087215,14527.368082197892,24262.947008989584,34388.21818821296,43229.70929212091,48866.9399453528,51671.15211096612,55790.14074286374,60760.21618890564,67015.78220454164,73250.98701816445,70342.01677865954,64652.67922364795,63775.005179211854,66789.71460653862,67507.20927668909,68007.30133499575,67928.01325509923,67533.10288471026,66941.84246672035,65357.89931709669,64022.65250908023,61862.40658525543],[325.00553664956624,367.3749616364389,318.52343528344,286.4358949434623,356.59864539919437,356.47733092212076,359.3209754612428,454.2346789843884,692.84638349661,1168.0113941995457,2152.2259158741695,4568.0284666289035,8999.466447828423,16420.137428733677,25816.33415692514,36323.165151181216,45648.18867848401,52540.38623657888,58883.25682998708,65429.36568160609,73005.65288059734,69682.75106594632,62634.32047816428,58809.8033554391,58939.54898908644,60932.57852044518,62100.55302064018,63032.02743343269,63249.08383198859,64275.55426208721,64252.214416014336,64144.76294754632,64385.654693675206,64233.996320228754],[339.56665478643964,328.1297159537536,268.5777538187645,347.44510915684776,342.66855861579296,392.62896874875963,378.1398384625607,467.6594394842856,539.5005073459688,820.5075921791596,1369.762687911266,2746.928877199993,5306.487686730771,10031.616461431806,17930.034156514008,28391.3262786286,39993.95685708995,51144.13616820509,62206.049932513335,71473.36782533822,69076.67908559635,61932.502569963406,55867.47864138751,54351.495353086764,54559.17835536838,55114.92921991136,55260.43872476818,55332.24281504988,55506.09476949414,56861.87415609681,58359.1311168202,59668.33972366502,60353.62027200417,61132.17116138394],[317.51699763350246,309.55247615279757,292.89775661280294,341.4249733423913,341.61324179915295,422.2076197631986,294.3614302641362,427.1146228723398,440.6225292327889,537.150564226611,929.4516198687184,1525.6129570461028,3051.01315884332,5725.107709850017,11336.738578307248,20065.86943139119,32728.90229970652,46685.65603979009,63340.83167191778,66373.80011971302,61005.92510659237,54942.40217749495,52044.25190532755,51122.00156275267,51579.68085550335,51089.75414388115,50581.47535326444,50662.66366428597,50720.52167877027,50653.16762201773,51728.509531909396,52820.00551721766,54476.96088063821,56494.546941173074],[315.6609225760901,331.27429301227806,295.53536680980403,363.60482338992693,345.70520956272543,336.0409056446682,308.44380609414503,366.3264460845717,416.2275545959055,445.3135027988045,679.3235389979616,1015.431127513741,1793.6725124494346,3468.8008412128083,6762.924190194428,13391.076242493937,25572.690715075667,40889.06292847277,53505.33968706658,55716.671671665434,53192.57415090161,51671.568422669654,49899.26452618014,50203.65740352356,50117.86758867503,49868.15343499154,49441.90370026343,48846.460752322884,47900.87425287149,48070.38817436333,48634.06128809452,49337.30821857992,49827.95546271313,51387.86041085821],[292.8940537196935,344.05550328875916,349.2124385119593,380.8672430940206,340.5356248193159,365.20048132495805,373.4119643731573,304.2075120393575,371.76126734241114,453.78249838721206,459.8528496770307,742.3352915755839,1157.917801091732,2100.8570758565775,4210.642932396875,8733.55568692501,18346.667213355686,29782.74983326136,39679.28296885054,45290.68266238039,47849.77565372389,49038.94827277729,48843.90935777684,49462.22000253327,49490.16133571946,49578.03376082931,49531.45583209446,48670.62295984459,48413.142969872555,48247.231127680316,48455.626378110836,48623.077315840936,48421.57577171577,49200.94084713548],[320.0923396939559,312.0004650356114,392.0386070342237,291.62344768586655,335.02448230274723,353.3332890325195,286.585435300639,343.9506725088484,364.3152479271804,428.22754615328347,420.68871389048576,514.9273694025596,818.7433607610743,1225.970209898764,2614.3313421411985,5235.440278400534,10940.893969008333,18325.678116687333,26615.540396016328,34629.55469193426,41343.041694628715,45903.80702383497,47874.39529175566,48674.760329966964,48977.797411141444,49336.704646949576,49434.84993413074,49138.26914812434,49322.50904270671,48599.4518044826,49012.875131435525,49229.057238719004,49317.34100413062,50276.490612921836],[312.96844479740577,307.4972754521059,286.7904949450451,307.6548934234915,348.44168550667933,326.2602376983312,363.2786579663879,421.3700125343461,356.65438668722925,378.30512175072556,408.55480535025555,433.9523512172028,511.0194471044753,877.5758841906453,1652.3093627563826,3228.50972710845,5958.086330201235,10333.292486627359,16712.890996723916,25187.04636726641,34118.88449971345,41337.87362995303,45387.74601691423,48089.25659992179,49187.33925620218,49786.62079193523,49522.55468367207,49857.150719801546,49539.93432401713,49557.248408045045,49953.8215190518,49971.50239177415,50785.4920966023,51785.6082107311],[341.6962626682581,340.7797365579416,338.38621252567685,343.2738088799914,344.21381931070323,278.9650111940233,277.50197125887286,352.0723927729447,391.08875737843624,330.7108662404303,368.51615524248746,396.2210395094823,501.7549200820498,604.3836071111332,1082.2361433690946,1816.375716692101,3272.2118346287166,5715.3478321810135,10094.578826652667,17376.45451269575,26211.128448666706,34998.66674301932,42323.90117239752,46516.53471945132,48626.295257539095,49368.062940987074,49909.17919112822,49725.87350307945,49958.76542574648,50065.17775649885,50634.591520149195,51455.49027089029,51406.7735141963,53555.161092022485],[339.3747152300321,354.29395772066493,372.8672265559796,350.8253873148113,320.980516924435,349.8825240148802,350.3318333448659,270.0669220262376,364.6897662610977,339.01735209844844,416.4867408134395,374.71122502078106,379.2218263625106,523.2192393603046,741.7385389805115,1048.9632570464123,1848.4483825518423,3171.117985337044,5694.695878335751,10558.33357878593,18154.272625125257,26989.001145064354,36076.39989784446,43570.98497567477,47308.44048949323,49281.35866885739,50001.463879212926,50522.511586829736,50578.08946559337,50969.41697355802,51338.88400815819,52200.82333668298,54066.08696090719,56459.565067655276]],\"type\":\"heatmap\",\"xaxis\":\"x\",\"yaxis\":\"y\",\"hovertemplate\":\"x: %{x}\\u003cbr\\u003ey: %{y}\\u003cbr\\u003ecolor: %{z}\\u003cextra\\u003e\\u003c\\u002fextra\\u003e\"}],                        {\"template\":{\"data\":{\"histogram2dcontour\":[{\"type\":\"histogram2dcontour\",\"colorbar\":{\"outlinewidth\":0,\"ticks\":\"\"},\"colorscale\":[[0.0,\"#0d0887\"],[0.1111111111111111,\"#46039f\"],[0.2222222222222222,\"#7201a8\"],[0.3333333333333333,\"#9c179e\"],[0.4444444444444444,\"#bd3786\"],[0.5555555555555556,\"#d8576b\"],[0.6666666666666666,\"#ed7953\"],[0.7777777777777778,\"#fb9f3a\"],[0.8888888888888888,\"#fdca26\"],[1.0,\"#f0f921\"]]}],\"choropleth\":[{\"type\":\"choropleth\",\"colorbar\":{\"outlinewidth\":0,\"ticks\":\"\"}}],\"histogram2d\":[{\"type\":\"histogram2d\",\"colorbar\":{\"outlinewidth\":0,\"ticks\":\"\"},\"colorscale\":[[0.0,\"#0d0887\"],[0.1111111111111111,\"#46039f\"],[0.2222222222222222,\"#7201a8\"],[0.3333333333333333,\"#9c179e\"],[0.4444444444444444,\"#bd3786\"],[0.5555555555555556,\"#d8576b\"],[0.6666666666666666,\"#ed7953\"],[0.7777777777777778,\"#fb9f3a\"],[0.8888888888888888,\"#fdca26\"],[1.0,\"#f0f921\"]]}],\"heatmap\":[{\"type\":\"heatmap\",\"colorbar\":{\"outlinewidth\":0,\"ticks\":\"\"},\"colorscale\":[[0.0,\"#0d0887\"],[0.1111111111111111,\"#46039f\"],[0.2222222222222222,\"#7201a8\"],[0.3333333333333333,\"#9c179e\"],[0.4444444444444444,\"#bd3786\"],[0.5555555555555556,\"#d8576b\"],[0.6666666666666666,\"#ed7953\"],[0.7777777777777778,\"#fb9f3a\"],[0.8888888888888888,\"#fdca26\"],[1.0,\"#f0f921\"]]}],\"heatmapgl\":[{\"type\":\"heatmapgl\",\"colorbar\":{\"outlinewidth\":0,\"ticks\":\"\"},\"colorscale\":[[0.0,\"#0d0887\"],[0.1111111111111111,\"#46039f\"],[0.2222222222222222,\"#7201a8\"],[0.3333333333333333,\"#9c179e\"],[0.4444444444444444,\"#bd3786\"],[0.5555555555555556,\"#d8576b\"],[0.6666666666666666,\"#ed7953\"],[0.7777777777777778,\"#fb9f3a\"],[0.8888888888888888,\"#fdca26\"],[1.0,\"#f0f921\"]]}],\"contourcarpet\":[{\"type\":\"contourcarpet\",\"colorbar\":{\"outlinewidth\":0,\"ticks\":\"\"}}],\"contour\":[{\"type\":\"contour\",\"colorbar\":{\"outlinewidth\":0,\"ticks\":\"\"},\"colorscale\":[[0.0,\"#0d0887\"],[0.1111111111111111,\"#46039f\"],[0.2222222222222222,\"#7201a8\"],[0.3333333333333333,\"#9c179e\"],[0.4444444444444444,\"#bd3786\"],[0.5555555555555556,\"#d8576b\"],[0.6666666666666666,\"#ed7953\"],[0.7777777777777778,\"#fb9f3a\"],[0.8888888888888888,\"#fdca26\"],[1.0,\"#f0f921\"]]}],\"surface\":[{\"type\":\"surface\",\"colorbar\":{\"outlinewidth\":0,\"ticks\":\"\"},\"colorscale\":[[0.0,\"#0d0887\"],[0.1111111111111111,\"#46039f\"],[0.2222222222222222,\"#7201a8\"],[0.3333333333333333,\"#9c179e\"],[0.4444444444444444,\"#bd3786\"],[0.5555555555555556,\"#d8576b\"],[0.6666666666666666,\"#ed7953\"],[0.7777777777777778,\"#fb9f3a\"],[0.8888888888888888,\"#fdca26\"],[1.0,\"#f0f921\"]]}],\"mesh3d\":[{\"type\":\"mesh3d\",\"colorbar\":{\"outlinewidth\":0,\"ticks\":\"\"}}],\"scatter\":[{\"marker\":{\"line\":{\"color\":\"#283442\"}},\"type\":\"scatter\"}],\"parcoords\":[{\"type\":\"parcoords\",\"line\":{\"colorbar\":{\"outlinewidth\":0,\"ticks\":\"\"}}}],\"scatterpolargl\":[{\"type\":\"scatterpolargl\",\"marker\":{\"colorbar\":{\"outlinewidth\":0,\"ticks\":\"\"}}}],\"bar\":[{\"error_x\":{\"color\":\"#f2f5fa\"},\"error_y\":{\"color\":\"#f2f5fa\"},\"marker\":{\"line\":{\"color\":\"rgb(17,17,17)\",\"width\":0.5},\"pattern\":{\"fillmode\":\"overlay\",\"size\":10,\"solidity\":0.2}},\"type\":\"bar\"}],\"scattergeo\":[{\"type\":\"scattergeo\",\"marker\":{\"colorbar\":{\"outlinewidth\":0,\"ticks\":\"\"}}}],\"scatterpolar\":[{\"type\":\"scatterpolar\",\"marker\":{\"colorbar\":{\"outlinewidth\":0,\"ticks\":\"\"}}}],\"histogram\":[{\"marker\":{\"pattern\":{\"fillmode\":\"overlay\",\"size\":10,\"solidity\":0.2}},\"type\":\"histogram\"}],\"scattergl\":[{\"marker\":{\"line\":{\"color\":\"#283442\"}},\"type\":\"scattergl\"}],\"scatter3d\":[{\"type\":\"scatter3d\",\"line\":{\"colorbar\":{\"outlinewidth\":0,\"ticks\":\"\"}},\"marker\":{\"colorbar\":{\"outlinewidth\":0,\"ticks\":\"\"}}}],\"scattermapbox\":[{\"type\":\"scattermapbox\",\"marker\":{\"colorbar\":{\"outlinewidth\":0,\"ticks\":\"\"}}}],\"scatterternary\":[{\"type\":\"scatterternary\",\"marker\":{\"colorbar\":{\"outlinewidth\":0,\"ticks\":\"\"}}}],\"scattercarpet\":[{\"type\":\"scattercarpet\",\"marker\":{\"colorbar\":{\"outlinewidth\":0,\"ticks\":\"\"}}}],\"carpet\":[{\"aaxis\":{\"endlinecolor\":\"#A2B1C6\",\"gridcolor\":\"#506784\",\"linecolor\":\"#506784\",\"minorgridcolor\":\"#506784\",\"startlinecolor\":\"#A2B1C6\"},\"baxis\":{\"endlinecolor\":\"#A2B1C6\",\"gridcolor\":\"#506784\",\"linecolor\":\"#506784\",\"minorgridcolor\":\"#506784\",\"startlinecolor\":\"#A2B1C6\"},\"type\":\"carpet\"}],\"table\":[{\"cells\":{\"fill\":{\"color\":\"#506784\"},\"line\":{\"color\":\"rgb(17,17,17)\"}},\"header\":{\"fill\":{\"color\":\"#2a3f5f\"},\"line\":{\"color\":\"rgb(17,17,17)\"}},\"type\":\"table\"}],\"barpolar\":[{\"marker\":{\"line\":{\"color\":\"rgb(17,17,17)\",\"width\":0.5},\"pattern\":{\"fillmode\":\"overlay\",\"size\":10,\"solidity\":0.2}},\"type\":\"barpolar\"}],\"pie\":[{\"automargin\":true,\"type\":\"pie\"}]},\"layout\":{\"autotypenumbers\":\"strict\",\"colorway\":[\"#636efa\",\"#EF553B\",\"#00cc96\",\"#ab63fa\",\"#FFA15A\",\"#19d3f3\",\"#FF6692\",\"#B6E880\",\"#FF97FF\",\"#FECB52\"],\"font\":{\"color\":\"#f2f5fa\"},\"hovermode\":\"closest\",\"hoverlabel\":{\"align\":\"left\"},\"paper_bgcolor\":\"rgb(17,17,17)\",\"plot_bgcolor\":\"rgb(17,17,17)\",\"polar\":{\"bgcolor\":\"rgb(17,17,17)\",\"angularaxis\":{\"gridcolor\":\"#506784\",\"linecolor\":\"#506784\",\"ticks\":\"\"},\"radialaxis\":{\"gridcolor\":\"#506784\",\"linecolor\":\"#506784\",\"ticks\":\"\"}},\"ternary\":{\"bgcolor\":\"rgb(17,17,17)\",\"aaxis\":{\"gridcolor\":\"#506784\",\"linecolor\":\"#506784\",\"ticks\":\"\"},\"baxis\":{\"gridcolor\":\"#506784\",\"linecolor\":\"#506784\",\"ticks\":\"\"},\"caxis\":{\"gridcolor\":\"#506784\",\"linecolor\":\"#506784\",\"ticks\":\"\"}},\"coloraxis\":{\"colorbar\":{\"outlinewidth\":0,\"ticks\":\"\"}},\"colorscale\":{\"sequential\":[[0.0,\"#0d0887\"],[0.1111111111111111,\"#46039f\"],[0.2222222222222222,\"#7201a8\"],[0.3333333333333333,\"#9c179e\"],[0.4444444444444444,\"#bd3786\"],[0.5555555555555556,\"#d8576b\"],[0.6666666666666666,\"#ed7953\"],[0.7777777777777778,\"#fb9f3a\"],[0.8888888888888888,\"#fdca26\"],[1.0,\"#f0f921\"]],\"sequentialminus\":[[0.0,\"#0d0887\"],[0.1111111111111111,\"#46039f\"],[0.2222222222222222,\"#7201a8\"],[0.3333333333333333,\"#9c179e\"],[0.4444444444444444,\"#bd3786\"],[0.5555555555555556,\"#d8576b\"],[0.6666666666666666,\"#ed7953\"],[0.7777777777777778,\"#fb9f3a\"],[0.8888888888888888,\"#fdca26\"],[1.0,\"#f0f921\"]],\"diverging\":[[0,\"#8e0152\"],[0.1,\"#c51b7d\"],[0.2,\"#de77ae\"],[0.3,\"#f1b6da\"],[0.4,\"#fde0ef\"],[0.5,\"#f7f7f7\"],[0.6,\"#e6f5d0\"],[0.7,\"#b8e186\"],[0.8,\"#7fbc41\"],[0.9,\"#4d9221\"],[1,\"#276419\"]]},\"xaxis\":{\"gridcolor\":\"#283442\",\"linecolor\":\"#506784\",\"ticks\":\"\",\"title\":{\"standoff\":15},\"zerolinecolor\":\"#283442\",\"automargin\":true,\"zerolinewidth\":2},\"yaxis\":{\"gridcolor\":\"#283442\",\"linecolor\":\"#506784\",\"ticks\":\"\",\"title\":{\"standoff\":15},\"zerolinecolor\":\"#283442\",\"automargin\":true,\"zerolinewidth\":2},\"scene\":{\"xaxis\":{\"backgroundcolor\":\"rgb(17,17,17)\",\"gridcolor\":\"#506784\",\"linecolor\":\"#506784\",\"showbackground\":true,\"ticks\":\"\",\"zerolinecolor\":\"#C8D4E3\",\"gridwidth\":2},\"yaxis\":{\"backgroundcolor\":\"rgb(17,17,17)\",\"gridcolor\":\"#506784\",\"linecolor\":\"#506784\",\"showbackground\":true,\"ticks\":\"\",\"zerolinecolor\":\"#C8D4E3\",\"gridwidth\":2},\"zaxis\":{\"backgroundcolor\":\"rgb(17,17,17)\",\"gridcolor\":\"#506784\",\"linecolor\":\"#506784\",\"showbackground\":true,\"ticks\":\"\",\"zerolinecolor\":\"#C8D4E3\",\"gridwidth\":2}},\"shapedefaults\":{\"line\":{\"color\":\"#f2f5fa\"}},\"annotationdefaults\":{\"arrowcolor\":\"#f2f5fa\",\"arrowhead\":0,\"arrowwidth\":1},\"geo\":{\"bgcolor\":\"rgb(17,17,17)\",\"landcolor\":\"rgb(17,17,17)\",\"subunitcolor\":\"#506784\",\"showland\":true,\"showlakes\":true,\"lakecolor\":\"rgb(17,17,17)\"},\"title\":{\"x\":0.05},\"updatemenudefaults\":{\"bgcolor\":\"#506784\",\"borderwidth\":0},\"sliderdefaults\":{\"bgcolor\":\"#C8D4E3\",\"borderwidth\":1,\"bordercolor\":\"rgb(17,17,17)\",\"tickwidth\":0},\"mapbox\":{\"style\":\"dark\"}}},\"xaxis\":{\"anchor\":\"y\",\"domain\":[0.0,1.0],\"scaleanchor\":\"y\",\"constrain\":\"domain\"},\"yaxis\":{\"anchor\":\"x\",\"domain\":[0.0,1.0],\"autorange\":\"reversed\",\"constrain\":\"domain\"},\"coloraxis\":{\"colorscale\":[[0.0,\"#0d0887\"],[0.1111111111111111,\"#46039f\"],[0.2222222222222222,\"#7201a8\"],[0.3333333333333333,\"#9c179e\"],[0.4444444444444444,\"#bd3786\"],[0.5555555555555556,\"#d8576b\"],[0.6666666666666666,\"#ed7953\"],[0.7777777777777778,\"#fb9f3a\"],[0.8888888888888888,\"#fdca26\"],[1.0,\"#f0f921\"]]},\"margin\":{\"t\":60}},                        {\"responsive\": true}                    ).then(function(){\n                            \nvar gd = document.getElementById('1588b7ad-5861-461d-99e0-5ebd35023e54');\nvar x = new MutationObserver(function (mutations, observer) {{\n        var display = window.getComputedStyle(gd).display;\n        if (!display || display === 'none') {{\n            console.log([gd, 'removed!']);\n            Plotly.purge(gd);\n            observer.disconnect();\n        }}\n}});\n\n// Listen for the removal of the full notebook cells\nvar notebookContainer = gd.closest('#notebook-container');\nif (notebookContainer) {{\n    x.observe(notebookContainer, {childList: true});\n}}\n\n// Listen for the clearing of the current output cell\nvar outputEl = gd.closest('.output');\nif (outputEl) {{\n    x.observe(outputEl, {childList: true});\n}}\n\n                        })                };                });            </script>        </div>"
     },
     "metadata": {},
     "output_type": "display_data"
    }
   ],
   "source": [
    "new_vectors = np.dot(t_matrix, map_a.vectors[:4])\n",
    "r = np.dot(new_vectors.T, new_base_vectors)\n",
    "map_a.plotSpectrum(127)\n",
    "px.line(x = map_a.raman_shift, y = r[127] ).show()\n",
    "px.imshow(np.reshape(new_vectors[0], map_a.shape))\n"
   ],
   "metadata": {
    "collapsed": false,
    "ExecuteTime": {
     "end_time": "2024-04-09T07:38:49.292937Z",
     "start_time": "2024-04-09T07:38:49.110463Z"
    }
   },
   "id": "1981d55581c4178d",
   "execution_count": 102
  },
  {
   "cell_type": "markdown",
   "source": [
    "## Peak1"
   ],
   "metadata": {
    "collapsed": false
   },
   "id": "14695b5238a7f6a6"
  },
  {
   "cell_type": "code",
   "outputs": [],
   "source": [
    "map_a.draw_curve(lorentz, (750, 5, -1.3 * 10**5, -5000), 730, 770, base_vector = 0)"
   ],
   "metadata": {
    "collapsed": false
   },
   "id": "2d8bc1719d3ab163",
   "execution_count": null
  },
  {
   "cell_type": "code",
   "outputs": [],
   "source": [
    "map_a.draw_curve(lorentz, (750, 5.5, 1.3 * 10**4, 1800), 730, 770, base_vector = 1)"
   ],
   "metadata": {
    "collapsed": false
   },
   "id": "3044affc1e48c3ed",
   "execution_count": null
  },
  {
   "cell_type": "code",
   "outputs": [],
   "source": [
    "map_a.draw_curve(lorentz, (750, 5.5, -2.2 * 10**4, -600), 730, 770, base_vector = 2)"
   ],
   "metadata": {
    "collapsed": false
   },
   "id": "317a3e6b889696c2",
   "execution_count": null
  },
  {
   "cell_type": "code",
   "outputs": [],
   "source": [
    "map_a.draw_curve(lorentz, (750, 5.5, -9.5 * 10**4, -4000), 730, 770, base_vector = 3)"
   ],
   "metadata": {
    "collapsed": false
   },
   "id": "b09eeaa71bf67479",
   "execution_count": null
  },
  {
   "cell_type": "code",
   "outputs": [],
   "source": [
    "map_a.draw_curve(lorentz, (750, 5.5, 2.5 * 10**4, -2300), 730, 770, base_vector = 4)"
   ],
   "metadata": {
    "collapsed": false
   },
   "id": "c6e8b19a2086fe50",
   "execution_count": null
  },
  {
   "cell_type": "code",
   "outputs": [],
   "source": [
    "map_a.draw_curve(lorentz, (750, 5.5, -1.3 * 10**4, -1100), 730, 770, base_vector = 5)"
   ],
   "metadata": {
    "collapsed": false
   },
   "id": "9da697b1444f804c",
   "execution_count": null
  },
  {
   "cell_type": "code",
   "outputs": [],
   "source": [
    "map_a.draw_curve(lorentz, (750, 5.5, 1 * 10**4, 900), 730, 770, base_vector = 6)"
   ],
   "metadata": {
    "collapsed": false
   },
   "id": "befd1268d7620ef9",
   "execution_count": null
  },
  {
   "cell_type": "code",
   "outputs": [],
   "source": [
    "map_a.draw_curve(lorentz, (750, 5.5, -5.5 * 10**4, 100), 730, 770, base_vector = 7)"
   ],
   "metadata": {
    "collapsed": false
   },
   "id": "743335b63a277d9f",
   "execution_count": null
  },
  {
   "cell_type": "code",
   "outputs": [],
   "source": [
    "map_a.draw_curve(lorentz, (750, 5.5, 8 * 10**3, 2500), 730, 770, base_vector = 8)\n"
   ],
   "metadata": {
    "collapsed": false
   },
   "id": "e22c54d8533ea943",
   "execution_count": null
  },
  {
   "cell_type": "code",
   "outputs": [],
   "source": [
    "peak1 = [-1.3 * 10**5, 1.3 * 10**4, -2.2 * 10**4, -9.5 * 10**4, 2.5 * 10**4, -1.3 * 10**4, 1 * 10**4, -5.5 * 10**4, 8 * 10**3]\n",
    "map_a.plotPhysicalComponent(peak1).show()\n"
   ],
   "metadata": {
    "collapsed": false
   },
   "id": "96a91ea8656355aa",
   "execution_count": null
  },
  {
   "cell_type": "code",
   "outputs": [],
   "source": [
    "map_a.plotSpectrums([map_a.posToId(6 ,  15),\n",
    "                     map_a.posToId(6 ,  11),\n",
    "                     map_a.posToId(23, 15)\n",
    "                     ]).show()"
   ],
   "metadata": {
    "collapsed": false
   },
   "id": "c9ef4224a6d1c99",
   "execution_count": null
  },
  {
   "cell_type": "markdown",
   "source": [
    "## Peak 2"
   ],
   "metadata": {
    "collapsed": false
   },
   "id": "5cc9c60373fb90e5"
  },
  {
   "cell_type": "code",
   "outputs": [],
   "source": [
    "map_a.draw_curve(lorentz, (1345, 17, -7.5 * 10**5, -7000), 1320, 1370, base_vector = 0)\n"
   ],
   "metadata": {
    "collapsed": false
   },
   "id": "913dfe237171da78",
   "execution_count": null
  },
  {
   "cell_type": "code",
   "outputs": [],
   "source": [
    "map_a.draw_curve(lorentz, (1345, 17, 8 * 10**4, -3100), 1320, 1370, base_vector = 1)\n"
   ],
   "metadata": {
    "collapsed": false
   },
   "id": "302e80fbcc707e91",
   "execution_count": null
  },
  {
   "cell_type": "code",
   "outputs": [],
   "source": [
    "map_a.draw_curve(lorentz, (1345, 17, 10 * 10**4, -1000), 1320, 1370, base_vector = 4)\n"
   ],
   "metadata": {
    "collapsed": false
   },
   "id": "176d45b69e8815eb",
   "execution_count": null
  },
  {
   "cell_type": "code",
   "outputs": [],
   "source": [
    "map_a.draw_curve(lorentz, (1345, 17, 20 * 10**4, -1700), 1320, 1370, base_vector = 5)\n"
   ],
   "metadata": {
    "collapsed": false
   },
   "id": "935c5f23658fff76",
   "execution_count": null
  },
  {
   "cell_type": "code",
   "outputs": [],
   "source": [
    "map_a.draw_curve(lorentz, (1345, 17, -11 * 10**4, 2100), 1320, 1370, base_vector = 6)\n"
   ],
   "metadata": {
    "collapsed": false
   },
   "id": "2599b16d9e553d7d",
   "execution_count": null
  },
  {
   "cell_type": "code",
   "outputs": [],
   "source": [
    "peak2 = [-7.5 * 10**5, 0, 0, 8 * 10**4, 10 * 10**4, 20 * 10**4, -11 * 10**4]\n",
    "map_a.plotPhysicalComponent(peak2).show()"
   ],
   "metadata": {
    "collapsed": false
   },
   "id": "f8d767894e977276",
   "execution_count": null
  },
  {
   "cell_type": "code",
   "outputs": [],
   "source": [
    "map_a.plotSpectrums([map_a.posToId(17 ,  13),\n",
    "                     map_a.posToId(30 ,  3),\n",
    "                     map_a.posToId(30, 27),\n",
    "                     map_a.posToId(6, 14)\n",
    "                     ]).show()"
   ],
   "metadata": {
    "collapsed": false
   },
   "id": "6d7fdcc77ae30edb",
   "execution_count": null
  },
  {
   "cell_type": "markdown",
   "source": [
    "## Peak 3"
   ],
   "metadata": {
    "collapsed": false
   },
   "id": "d7e83d6872cda8b9"
  },
  {
   "cell_type": "code",
   "outputs": [],
   "source": [
    "map_a.draw_curve(lorentz, (1392, 2.5, -17 * 10**5, -7000), 1360, 1420, base_vector = 0)\n"
   ],
   "metadata": {
    "collapsed": false
   },
   "id": "690ff3325906e465",
   "execution_count": null
  },
  {
   "cell_type": "code",
   "outputs": [],
   "source": [
    "map_a.draw_curve(lorentz, (1392, 2.5, 8 * 10**4, -2800), 1360, 1420, base_vector = 1)"
   ],
   "metadata": {
    "collapsed": false
   },
   "id": "8de79355f50eb6e7",
   "execution_count": null
  },
  {
   "cell_type": "code",
   "outputs": [],
   "source": [
    "map_a.draw_curve(lorentz, (1392, 2.5, 4 * 10**4, -3330), 1360, 1420, base_vector = 3)"
   ],
   "metadata": {
    "collapsed": false
   },
   "id": "77ea5a35ee805343",
   "execution_count": null
  },
  {
   "cell_type": "code",
   "outputs": [],
   "source": [
    "map_a.draw_curve(lorentz, (1392, 2.5, -5 * 10**4, -100), 1360, 1420, base_vector = 4)"
   ],
   "metadata": {
    "collapsed": false
   },
   "id": "f1d37ea719fc7154",
   "execution_count": null
  },
  {
   "cell_type": "code",
   "outputs": [],
   "source": [
    "map_a.draw_curve(lorentz, (1392, 2.5, -3.7 * 10**4, 0), 1360, 1420, base_vector = 5)"
   ],
   "metadata": {
    "collapsed": false
   },
   "id": "9ff32fc311aa63d3",
   "execution_count": null
  },
  {
   "cell_type": "code",
   "outputs": [],
   "source": [
    "peak3 = [-17 * 10**5, 8 * 10**4, 0, 4 * 10**4, -5 * 10**4, -3.7 * 10**4]\n",
    "map_a.plotPhysicalComponent(peak3)"
   ],
   "metadata": {
    "collapsed": false
   },
   "id": "941452655629b9a3",
   "execution_count": null
  },
  {
   "cell_type": "code",
   "outputs": [],
   "source": [
    "map_a.plotSpectrums([map_a.posToId(15 ,  15),\n",
    "                     map_a.posToId(20 ,  5),\n",
    "                     map_a.posToId(21, 0),\n",
    "                     map_a.posToId(5, 25)\n",
    "                     ]).show()"
   ],
   "metadata": {
    "collapsed": false
   },
   "id": "f7d26d06a9623e9a",
   "execution_count": null
  },
  {
   "cell_type": "code",
   "outputs": [],
   "source": [
    "px.line(x = map_a.raman_shift, y = np.dot(map_a.base_vectors[:len(peak1)].T, peak1))"
   ],
   "metadata": {
    "collapsed": false
   },
   "id": "a014b76069e9a12",
   "execution_count": null
  },
  {
   "cell_type": "code",
   "outputs": [],
   "source": [],
   "metadata": {
    "collapsed": false
   },
   "id": "f78d3c12ac6f0c24"
  }
 ],
 "metadata": {
  "kernelspec": {
   "display_name": "Python 3",
   "language": "python",
   "name": "python3"
  },
  "language_info": {
   "codemirror_mode": {
    "name": "ipython",
    "version": 2
   },
   "file_extension": ".py",
   "mimetype": "text/x-python",
   "name": "python",
   "nbconvert_exporter": "python",
   "pygments_lexer": "ipython2",
   "version": "2.7.6"
  }
 },
 "nbformat": 4,
 "nbformat_minor": 5
}
