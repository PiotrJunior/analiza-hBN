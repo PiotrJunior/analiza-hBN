{
 "cells": [
  {
   "cell_type": "code",
   "execution_count": null,
   "id": "initial_id",
   "metadata": {
    "collapsed": true,
    "is_executing": true
   },
   "outputs": [],
   "source": [
    "import matplotlib.animation as animation\n",
    "import numpy as np\n",
    "from numpy.linalg import eigh, eig\n",
    "import pandas as pd\n",
    "import matplotlib.pyplot as plt\n",
    "import plotly.express as px\n",
    "from plotly import graph_objects as go"
   ]
  },
  {
   "cell_type": "code",
   "outputs": [],
   "source": [
    "class Map:\n",
    "    def __init__(self, src):\n",
    "        raw_data = np.loadtxt(src, delimiter='\\t')\n",
    "        self.raman_shift = raw_data.T[1]\n",
    "        self.map = []\n",
    "        for row in raw_data.T:\n",
    "            self.map.append({\n",
    "                'x': row[0],\n",
    "                'y': row[1],\n",
    "                'spectrum': row[1:]\n",
    "            })\n",
    "        self.cov_matrix = np.cov(np.array([x['spectrum'] for x in self.map]))\n",
    "        \n",
    "        eigenvalues, eigenvectors = eigh(self.cov_matrix)\n",
    "        idx = np.flip(eigenvalues.argsort())\n",
    "        self.weights = eigenvalues[idx]\n",
    "        self.vectors = eigenvectors[:,idx]\n",
    "        for i in range(len(self.vectors)):\n",
    "            self.vectors[i]/=np.dot(self.vectors[i], self.vectors[i])**.5\n",
    "\n",
    "    def plotCovMatrix(self):\n",
    "        fig = px.imshow(self.cov_matrix, title = 'Macierz kowariancji')\n",
    "        return fig\n",
    "    \n",
    "    def plotWeights(self):\n",
    "        fig = px.bar(self.weights, title = 'Wagi')\n",
    "        return fig\n",
    "    \n",
    "    \n",
    "        \n",
    "map_a = Map('GA25_10B_532nm_100%_1x3sec_x100_xc1200_A_trojkat1_mapa_10x10um_step_0.3um_data.txt')\n",
    "\n",
    "map_a.plotCovMatrix().show()\n",
    "map_a.plotWeigths().show()"
   ],
   "metadata": {
    "collapsed": false,
    "is_executing": true
   },
   "id": "fd1ddb3ce756353e"
  },
  {
   "cell_type": "code",
   "outputs": [],
   "source": [],
   "metadata": {
    "collapsed": false
   },
   "id": "7afcb22de3398cef"
  }
 ],
 "metadata": {
  "kernelspec": {
   "display_name": "Python 3",
   "language": "python",
   "name": "python3"
  },
  "language_info": {
   "codemirror_mode": {
    "name": "ipython",
    "version": 2
   },
   "file_extension": ".py",
   "mimetype": "text/x-python",
   "name": "python",
   "nbconvert_exporter": "python",
   "pygments_lexer": "ipython2",
   "version": "2.7.6"
  }
 },
 "nbformat": 4,
 "nbformat_minor": 5
}
