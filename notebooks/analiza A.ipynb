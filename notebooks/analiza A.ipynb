{
 "cells": [
  {
   "cell_type": "code",
   "execution_count": null,
   "id": "initial_id",
   "metadata": {
    "collapsed": true
   },
   "outputs": [],
   "source": [
    "import numpy as np\n",
    "from numpy.linalg import eigh, eig\n",
    "import pandas as pd\n",
    "import plotly.express as px\n",
    "from plotly import graph_objects as go\n",
    "from scipy.optimize import curve_fit"
   ]
  },
  {
   "cell_type": "code",
   "outputs": [],
   "source": [
    "def lorentz(X, mean, sigma, scale, offset):\n",
    "    return scale/(np.pi * sigma * (1 + ((X - mean)/sigma)**2)) + offset\n",
    "\n",
    "def lorentz_diff1(X, mean, sigma, scale, offset):\n",
    "    return -(2 * sigma * (-mean + X)) / (np.pi * (mean**2 + sigma**2 - 2*mean*X + np.power(X, 2))**2) * scale + offset\n",
    "\n",
    "def lorentz_diff2(X, mean, sigma, scale, offset):\n",
    "    return -(2 * sigma * (sigma**2 - 3 * np.power(mean - X, 2))) / (np.pi * np.power(sigma**2 + np.power(mean - X, 2), 3)) * scale + offset\n",
    "\n",
    "def lorentz_diff3(X, mean, sigma, scale, offset):\n",
    "    return (-(48 * np.power(-mean + X, 3))/(sigma**7 * np.pi * np.power(1 + np.power(-mean + X, 2)/sigma**2, 4)) + (24 * (-mean + X))/(sigma**5 * np.pi * np.power(1 + np.power(-mean + X, 2)/sigma**2, 3))) * scale + offset\n",
    "\n",
    "def lorentz_spread(X, mean, sigma, scale, offset):\n",
    "    return (mean**2 - 2 * mean * X + np.power(X, 2) - sigma**2)/(np.pi * (mean**2 - 2 * mean * X + np.power(X, 2) + sigma**2)**2) * scale + offset\n",
    "\n",
    "def line(X, offset):\n",
    "    return np.ones(len(X)) * offset\n",
    "\n",
    "# def both_lorentz(X, mean1, sigma1, scale1, offset1, mean2, sigma2, scale2, offset2):\n",
    "#     return lorentz(X, mean1, sigma1, scale1, offset1) + lorentz_shift(X, mean2, sigma2, scale2, offset2)\n",
    "\n",
    "class Map:\n",
    "    def __init__(self, src, x, y, **kwargs):\n",
    "        raw_data = np.loadtxt(src, delimiter='\\t')\n",
    "        if 'begin' in kwargs and 'end' in kwargs:\n",
    "            raw_data = raw_data[np.r_[0:1, (kwargs['begin']+2):(kwargs['end']+2)]]\n",
    "        self.shape = (x, y)\n",
    "        self.raman_shift = raw_data.T[0][2:]\n",
    "        self.data_matrix = raw_data[2:].T[1:]\n",
    "        self.data = pd.DataFrame(raw_data[2:], columns = ['RamanShift'] + list(np.arange(0, x*y, 1)))\n",
    "        self.map = np.array([raw_data[0][1:], raw_data[1][1:]]).T\n",
    "\n",
    "        self.cov_matrix = np.cov(self.data_matrix)\n",
    "        \n",
    "        eigenvalues, eigenvectors = eigh(self.cov_matrix)\n",
    "        idx = np.flip(eigenvalues.argsort())\n",
    "        self.weights = eigenvalues[idx] / sum(eigenvalues)\n",
    "        self.vectors = eigenvectors.T[idx]\n",
    "        \n",
    "        self.base_vectors = np.dot(self.vectors, self.data_matrix)\n",
    "    \n",
    "    def reconstruct(self, count):\n",
    "        return np.dot(self.vectors[:count].T, self.base_vectors[:count])\n",
    "    \n",
    "    def plotComponent(self, num):\n",
    "        fig = px.imshow(np.reshape(self.vectors[num], self.shape), title ='Komponent ' + str(num))\n",
    "        return fig\n",
    "    \n",
    "    def plotPhysicalComponent(self, v):\n",
    "        img = np.dot(np.array(v), self.vectors[:len(v)])\n",
    "        fig = px.imshow(np.reshape(img, self.shape), title ='Peak')\n",
    "        return fig\n",
    "    \n",
    "    def plotCovMatrix(self):\n",
    "        fig = px.imshow(self.cov_matrix, title = 'Macierz kowariancji')\n",
    "        return fig\n",
    "    \n",
    "    def plotWeights(self, cum, log):\n",
    "        if cum:\n",
    "            fig = px.bar(np.cumsum(self.weights), title = 'Wagi', log_y=log)\n",
    "        else:\n",
    "            fig = px.bar(self.weights, title = 'Wagi', log_y=log)\n",
    "        return fig\n",
    "    \n",
    "    def plotSpectrums(self, ids, **kwargs):\n",
    "        fig = go.Figure()\n",
    "        if 'base' not in kwargs:\n",
    "            for num in ids:\n",
    "                fig.add_scatter(x = self.raman_shift, y = self.data_matrix[num], mode='lines', name = 'ID: ' + str(num))\n",
    "        else:\n",
    "            r = self.reconstruct(kwargs['base'])\n",
    "            for num in ids:\n",
    "                fig.add_scatter(x = self.raman_shift, y = r[num], mode='lines', name = 'ID: ' + str(num))\n",
    "        fig.update_layout(hovermode=\"x\")\n",
    "        return fig\n",
    "    \n",
    "    def plotSpectrum(self, num, **kwargs):\n",
    "        return self.plotSpectrums([num], **kwargs)\n",
    "    \n",
    "    def plotBaseVectors(self, count):\n",
    "        fig = go.Figure()\n",
    "        for num in range(count):\n",
    "            fig.add_scatter(x = self.raman_shift, y = self.base_vectors[num], mode='lines', name = 'Num: ' + str(num))\n",
    "        fig.update_layout(hovermode=\"x\")\n",
    "        return fig\n",
    "            \n",
    "    def locToId(self, x, y):\n",
    "        return np.argmin(list(map(lambda e: np.linalg.norm([x, y] - e), self.map)))\n",
    "    \n",
    "    def posToId(self, x, y):\n",
    "        return self.shape[0] * y + x\n",
    "    \n",
    "    def draw_curve(self, curve, params, a, b, **draw):\n",
    "        fig = go.Figure()\n",
    "        if 'spectrum' in draw:\n",
    "            fig.add_scatter(x = self.raman_shift, y = self.data_matrix[draw['spectrum']], mode='lines')\n",
    "        if 'base_vector' in draw:\n",
    "            fig.add_scatter(x = self.raman_shift, y = self.base_vectors[draw['base_vector']], mode='lines')\n",
    "        data_slice = self.data[(self.data['RamanShift'] >= a) & (self.data['RamanShift'] <= b)]['RamanShift']\n",
    "        fig.add_scatter(mode='lines', x = data_slice, y = curve(data_slice, *params))\n",
    "        fig.update_layout(hovermode=\"x\")\n",
    "        return fig\n",
    "    \n",
    "    def fit_curve(self, curve, p0, a, b, seek, **plot):\n",
    "        y = 0\n",
    "        if 'spectrum' in plot:\n",
    "            y = self.data_matrix[plot['spectrum'], (self.data['RamanShift'] >= a) & (self.data['RamanShift'] <= b)]\n",
    "        if 'base_vector' in plot:\n",
    "            y = self.base_vectors[plot['base_vector'], (self.data['RamanShift'] >= a) & (self.data['RamanShift'] <= b)]\n",
    "        data_slice = self.data[(self.data['RamanShift'] >= a) & (self.data['RamanShift'] <= b)]['RamanShift']\n",
    "        \n",
    "        bounds = 0\n",
    "        if 'bounds' in plot and plot['bounds'] == 'inf':\n",
    "            bounds = ((-np.inf, -np.inf, -np.inf, -np.inf), (np.inf, np.inf, np.inf, np.inf))\n",
    "        else:\n",
    "            bounds = ((p0[0]-2, -np.inf, -np.inf, -np.inf), (p0[0]+2, np.inf, np.inf, np.inf))\n",
    "        \n",
    "        param, cov = curve_fit(curve, data_slice, y, p0=p0, bounds = bounds)\n",
    "        print(param)\n",
    "        if 'draw' in plot and plot['draw'] == True:\n",
    "            self.draw_curve(curve, param, a, b, **plot).show()\n",
    "        return param[seek]"
   ],
   "metadata": {
    "collapsed": false
   },
   "id": "fd1ddb3ce756353e",
   "execution_count": null
  },
  {
   "cell_type": "code",
   "outputs": [],
   "source": [
    "map_a = Map('../data/GA25_10B_532nm_100%_1x3sec_x100_xc1200_A_trojkat1_mapa_10x10um_step_0.3um_data.txt', 34, 34, begin=250, end=450)"
   ],
   "metadata": {
    "collapsed": false
   },
   "id": "d57f5439335ec773",
   "execution_count": null
  },
  {
   "cell_type": "code",
   "outputs": [],
   "source": [
    "map_a.plotWeights(False, True).show()"
   ],
   "metadata": {
    "collapsed": false
   },
   "id": "25c6261a38ef93d3",
   "execution_count": null
  },
  {
   "cell_type": "code",
   "outputs": [],
   "source": [
    "map_a.plotBaseVectors(7).show()"
   ],
   "metadata": {
    "collapsed": false
   },
   "id": "625b502433d4bf56",
   "execution_count": null
  },
  {
   "cell_type": "code",
   "outputs": [],
   "source": [
    "## Map A\n",
    "t_matrix = np.zeros((7,7))\n",
    "\n",
    "draw = False\n",
    "# for i in range(6):\n",
    "#     t_matrix[0][i] = np.average(map_a.base_vectors[i], weights=((map_a.raman_shift < 1310) | (map_a.raman_shift > 1420)) )\n",
    "    # t_matrix[0][i] = map_a.draw_curve(line, [np.average(map_a.base_vectors[i], weights=((map_a.raman_shift < 1310) | (map_a.raman_shift > 1420)) )], 1200, 1500, base_vector = i, draw = True, bounds = 'inf').show()\n",
    "\n",
    "t_matrix[0][0] = map_a.fit_curve(lorentz, (1392, 2.5, -17 * 10**5, -7000), 1380, 1400, 2, base_vector = 0, draw = draw)\n",
    "\n",
    "t_matrix[1][0] = map_a.fit_curve(lorentz, (1345, 14,  -5 * 10**5, -10000), 1330, 1360, 2, base_vector = 0, draw = draw)\n",
    "t_matrix[1][3] = map_a.fit_curve(lorentz, (1345, 16,  3.2 * 10**5, -4000), 1330, 1360, 2, base_vector = 3, draw = draw)\n",
    "t_matrix[1][5] = map_a.fit_curve(lorentz, (1345, 14,  -5 * 10**5, -10000), 1330, 1360, 2, base_vector = 5, draw = draw)\n",
    "t_matrix[1][6] = map_a.fit_curve(lorentz, (1345, 16,  3.2 * 10**5, -4000), 1330, 1360, 2, base_vector = 6, draw = draw)\n",
    "\n",
    "t_matrix[2][1] = map_a.fit_curve(lorentz, (1369, 10,  0.8 * 10**5,  1000), 1355, 1380, 2, base_vector = 1, draw = draw)\n",
    "t_matrix[2][2] = map_a.fit_curve(lorentz, (1369, 10, -2.4 * 10**5, -1400), 1355, 1380, 2, base_vector = 2, draw = draw)\n",
    "\n",
    "\n",
    "t_matrix[3][1] = map_a.fit_curve(lorentz_diff1, (1392, 2.5, -17 * 10**5, -7000), 1385, 1400, 2, base_vector = 1, draw = draw, bounds = 'inf')\n",
    "t_matrix[3][2] = map_a.fit_curve(lorentz_diff1, (1392, 2.5, -17 * 10**5, -7000), 1385, 1400, 2, base_vector = 2, draw = draw, bounds = 'inf')\n",
    "t_matrix[3][3] = map_a.fit_curve(lorentz_diff1, (1392, 2.5, -17 * 10**5, -7000), 1385, 1400, 2, base_vector = 3, draw = draw, bounds = 'inf')\n",
    "\n",
    "t_matrix[4][4] = map_a.fit_curve(lorentz_diff2, [ 1392, 3, 10.8e+04, -1400], 1380, 1400, 2, base_vector = 4, draw = draw, bounds = 'inf')\n",
    "\n",
    "t_matrix[5][5] = map_a.fit_curve(lorentz_diff3, [ 1392, 3, 10.8e+04, -1400], 1380, 1400, 2, base_vector = 5, draw = True, bounds = 'inf')\n",
    "t_matrix[5][6] = map_a.fit_curve(lorentz_diff3, [ 1392, 3, 10.8e+04, -1400], 1380, 1400, 2, base_vector = 5, draw = True, bounds = 'inf')\n",
    "\n",
    "t_matrix[6][5] =  t_matrix[5][5]\n",
    "t_matrix[6][6] = -t_matrix[5][6]\n",
    "\n",
    "t_matrix"
   ],
   "metadata": {
    "collapsed": false
   },
   "id": "c42113a3b53681f8",
   "execution_count": null
  },
  {
   "cell_type": "code",
   "outputs": [],
   "source": [
    "map_a.draw_curve(lorentz_diff2, [ 1.39113772e+03, 3e+00, 10.79995135e+04, -1.38837064e+03], 1380, 1400, base_vector = 4, draw = draw, bounds = 'inf').write_html('test.html')\n"
   ],
   "metadata": {
    "collapsed": false
   },
   "id": "bcaea3c95e45b647",
   "execution_count": null
  },
  {
   "cell_type": "code",
   "outputs": [
    {
     "data": {
      "application/vnd.plotly.v1+json": {
       "data": [
        {
         "hovertemplate": "x=%{x}<br>y=%{y}<extra></extra>",
         "legendgroup": "",
         "line": {
          "color": "#636efa",
          "dash": "solid"
         },
         "marker": {
          "symbol": "circle"
         },
         "mode": "lines",
         "name": "",
         "orientation": "v",
         "showlegend": false,
         "x": [
          1489.670166015625,
          1488.5650634765625,
          1487.459716796875,
          1486.354248046875,
          1485.24853515625,
          1484.142578125,
          1483.0364990234375,
          1481.93017578125,
          1480.8236083984375,
          1479.7169189453125,
          1478.6099853515625,
          1477.5028076171875,
          1476.3955078125,
          1475.2879638671875,
          1474.1802978515625,
          1473.0723876953125,
          1471.9642333984375,
          1470.8558349609375,
          1469.747314453125,
          1468.638671875,
          1467.5296630859375,
          1466.4205322265625,
          1465.311279296875,
          1464.20166015625,
          1463.0919189453125,
          1461.9820556640625,
          1460.8719482421875,
          1459.7615966796875,
          1458.6510009765625,
          1457.540283203125,
          1456.4293212890625,
          1455.3182373046875,
          1454.2069091796875,
          1453.0953369140625,
          1451.983642578125,
          1450.8717041015625,
          1449.759521484375,
          1448.647216796875,
          1447.53466796875,
          1446.421875,
          1445.3089599609375,
          1444.19580078125,
          1443.0823974609375,
          1441.9688720703125,
          1440.8551025390625,
          1439.7410888671875,
          1438.626953125,
          1437.5125732421875,
          1436.3980712890625,
          1435.2833251953125,
          1434.1683349609375,
          1433.0531005859375,
          1431.937744140625,
          1430.8221435546875,
          1429.7064208984375,
          1428.5904541015625,
          1427.4742431640625,
          1426.35791015625,
          1425.2412109375,
          1424.12451171875,
          1423.0074462890625,
          1421.8902587890625,
          1420.7728271484375,
          1419.6552734375,
          1418.5374755859375,
          1417.41943359375,
          1416.30126953125,
          1415.182861328125,
          1414.064208984375,
          1412.9454345703125,
          1411.826416015625,
          1410.7071533203125,
          1409.587646484375,
          1408.468017578125,
          1407.3482666015625,
          1406.2281494140625,
          1405.10791015625,
          1403.9874267578125,
          1402.8668212890625,
          1401.7459716796875,
          1400.6248779296875,
          1399.503662109375,
          1398.3822021484375,
          1397.260498046875,
          1396.1385498046875,
          1395.0164794921875,
          1393.894287109375,
          1392.771728515625,
          1391.6490478515625,
          1390.526123046875,
          1389.403076171875,
          1388.2796630859375,
          1387.15625,
          1386.032470703125,
          1384.9085693359375,
          1383.784423828125,
          1382.6600341796875,
          1381.5355224609375,
          1380.4107666015625,
          1379.2857666015625,
          1378.16064453125,
          1377.0352783203125,
          1375.90966796875,
          1374.783935546875,
          1373.657958984375,
          1372.53173828125,
          1371.4053955078125,
          1370.27880859375,
          1369.1519775390625,
          1368.02490234375,
          1366.897705078125,
          1365.770263671875,
          1364.6427001953125,
          1363.5147705078125,
          1362.38671875,
          1361.258544921875,
          1360.1300048828125,
          1359.0013427734375,
          1357.87255859375,
          1356.743408203125,
          1355.6141357421875,
          1354.484619140625,
          1353.35498046875,
          1352.22509765625,
          1351.094970703125,
          1349.964599609375,
          1348.8341064453125,
          1347.703369140625,
          1346.5723876953125,
          1345.441162109375,
          1344.309814453125,
          1343.17822265625,
          1342.0465087890625,
          1340.91455078125,
          1339.7823486328125,
          1338.64990234375,
          1337.517333984375,
          1336.384521484375,
          1335.25146484375,
          1334.1181640625,
          1332.9847412109375,
          1331.85107421875,
          1330.7171630859375,
          1329.5831298828125,
          1328.4488525390625,
          1327.3143310546875,
          1326.1796875,
          1325.0447998046875,
          1323.90966796875,
          1322.7742919921875,
          1321.6387939453125,
          1320.5029296875,
          1319.3670654296875,
          1318.2308349609375,
          1317.094482421875,
          1315.9578857421875,
          1314.821044921875,
          1313.68408203125,
          1312.546875,
          1311.409423828125,
          1310.271728515625,
          1309.1339111328125,
          1307.995849609375,
          1306.8575439453125,
          1305.718994140625,
          1304.580322265625,
          1303.44140625,
          1302.3023681640625,
          1301.1629638671875,
          1300.0234375,
          1298.8836669921875,
          1297.74365234375,
          1296.603515625,
          1295.463134765625,
          1294.322509765625,
          1293.181640625,
          1292.0406494140625,
          1290.8994140625,
          1289.7579345703125,
          1288.6163330078125,
          1287.474365234375,
          1286.332275390625,
          1285.1900634765625,
          1284.0474853515625,
          1282.90478515625,
          1281.7618408203125,
          1280.61865234375,
          1279.475341796875,
          1278.3316650390625,
          1277.1878662109375,
          1276.0439453125,
          1274.899658203125,
          1273.7552490234375,
          1272.610595703125,
          1271.4656982421875,
          1270.3206787109375,
          1269.17529296875,
          1268.02978515625,
          1266.8841552734375
         ],
         "xaxis": "x",
         "y": [
          0.006188020629944158,
          0.006209300929035903,
          0.006182956204137862,
          0.006170768305578681,
          0.006142470255382887,
          0.006155983856044942,
          0.006135589621938232,
          0.006121173043462142,
          0.006122491458225813,
          0.006123572899481156,
          0.006107814403911641,
          0.006096372312066561,
          0.006113982097294264,
          0.006029431000892726,
          0.006068732284102812,
          0.0060570430245971574,
          0.006075796685036663,
          0.006019088348361183,
          0.006063702795689922,
          0.006057762189916552,
          0.006119012588173626,
          0.006113397182604947,
          0.0060706812625905895,
          0.0061218784203268045,
          0.006161406641065996,
          0.006125783384296883,
          0.00613673236727439,
          0.00613691068268765,
          0.006152699138716932,
          0.0061181649218080576,
          0.006146989616249895,
          0.00613216745027813,
          0.006124559055409712,
          0.0061868330095341964,
          0.006180526040872045,
          0.0062057918071699554,
          0.006198277527899927,
          0.006182660492555555,
          0.006152223192468835,
          0.006214324958773624,
          0.006169678245798131,
          0.006183583343541811,
          0.006208642433108125,
          0.00620688397799731,
          0.00629508261413419,
          0.006262125210562456,
          0.006278857169232318,
          0.0063189525609147566,
          0.006326331556508179,
          0.006326934263149525,
          0.0063378566771426685,
          0.00636616359001588,
          0.006375101876520559,
          0.0064177404976762265,
          0.006450140268611504,
          0.0064370891346680085,
          0.006482280808681291,
          0.006480842441552683,
          0.006528725930317535,
          0.006592714791641607,
          0.006640827958967302,
          0.006603338123358107,
          0.006740779392085963,
          0.006816355502563429,
          0.00685293417906119,
          0.006891860110274378,
          0.007007571792972406,
          0.007069854692731409,
          0.007191642442634886,
          0.007270483039608157,
          0.007435922043988847,
          0.00752369232261859,
          0.007763302685645679,
          0.00796657362377924,
          0.008321072558604859,
          0.008665387518012276,
          0.009185173965180421,
          0.009792075221630102,
          0.010598352219274802,
          0.01156073256107368,
          0.013109774734240052,
          0.015284198824387946,
          0.018776300701813894,
          0.024531929048134008,
          0.035521643889223437,
          0.057028829461376315,
          0.09452562730567299,
          0.1315472677197812,
          0.12765331748516506,
          0.09320780363058495,
          0.06114411463813829,
          0.04018312412945808,
          0.028009627877636074,
          0.02104495340409068,
          0.017041795692521757,
          0.014583359274465598,
          0.013027500030128814,
          0.012050431659019275,
          0.011384086843683852,
          0.010792117855285254,
          0.010586384144201245,
          0.01038326872852344,
          0.010263150867271047,
          0.010174934389846537,
          0.010240365567817699,
          0.010303269186903507,
          0.010367974946969751,
          0.01043526627176886,
          0.010415781643319685,
          0.010423712705072048,
          0.010396351666167765,
          0.010274051555604662,
          0.01015790107987623,
          0.009941938350108497,
          0.009791990653654657,
          0.009616092253699797,
          0.00956523184751238,
          0.00940113984552185,
          0.00939173828290441,
          0.009369099694888774,
          0.009365764968772549,
          0.009395877833728632,
          0.009397283859614003,
          0.009465199279969859,
          0.009528319644770494,
          0.009585764140988155,
          0.009693768133220418,
          0.009718915518536035,
          0.009752703221902905,
          0.009770028039863462,
          0.009802397016265832,
          0.009768740456878576,
          0.009690897638200007,
          0.009628804893119028,
          0.009564664862419192,
          0.009378077464587862,
          0.00928122031490916,
          0.009137348272940344,
          0.008956429523386442,
          0.008876752662208193,
          0.008632223045123486,
          0.008534799708933881,
          0.008432808790433299,
          0.008315017691605463,
          0.008194196124656895,
          0.008045190251943543,
          0.007930272408393368,
          0.007831073379053177,
          0.007755612157346136,
          0.007622921093144098,
          0.0075268562279758285,
          0.007438905441389733,
          0.007363579773378327,
          0.007237902464931294,
          0.007216609561361954,
          0.0071040296102461405,
          0.006991458821760946,
          0.006918467519999326,
          0.0068445418160368214,
          0.006720483952903224,
          0.0066843859520543045,
          0.006622016942133236,
          0.006601329841418794,
          0.0064960722640194256,
          0.006485032803350702,
          0.0063911101960318125,
          0.00633976549750458,
          0.006286513619637015,
          0.006206107033790692,
          0.00612468111170491,
          0.006106885119460698,
          0.006097501598610628,
          0.006084281490648547,
          0.006008246337727115,
          0.006040872588711671,
          0.005936418941043926,
          0.005920901724560844,
          0.005869405787717488,
          0.005881229589652195,
          0.005749969264315263,
          0.0057519816870353745,
          0.005687913279816531,
          0.005663844129683884,
          0.005674124530529697,
          0.00565908529244708,
          0.005606505674983218,
          0.005632161897638579,
          0.005626107383181635,
          0.005588402196954017,
          0.005575766974781678,
          0.005531370228733851,
          0.0054987880462416,
          0.005480446541089377,
          0.005453109093920061,
          0.00539199883811556,
          0.005395159575900432,
          0.005397934927223192,
          0.005361143348405708,
          0.005358430080328262
         ],
         "yaxis": "y",
         "type": "scatter"
        }
       ],
       "layout": {
        "template": {
         "data": {
          "histogram2dcontour": [
           {
            "type": "histogram2dcontour",
            "colorbar": {
             "outlinewidth": 0,
             "ticks": ""
            },
            "colorscale": [
             [
              0.0,
              "#0d0887"
             ],
             [
              0.1111111111111111,
              "#46039f"
             ],
             [
              0.2222222222222222,
              "#7201a8"
             ],
             [
              0.3333333333333333,
              "#9c179e"
             ],
             [
              0.4444444444444444,
              "#bd3786"
             ],
             [
              0.5555555555555556,
              "#d8576b"
             ],
             [
              0.6666666666666666,
              "#ed7953"
             ],
             [
              0.7777777777777778,
              "#fb9f3a"
             ],
             [
              0.8888888888888888,
              "#fdca26"
             ],
             [
              1.0,
              "#f0f921"
             ]
            ]
           }
          ],
          "choropleth": [
           {
            "type": "choropleth",
            "colorbar": {
             "outlinewidth": 0,
             "ticks": ""
            }
           }
          ],
          "histogram2d": [
           {
            "type": "histogram2d",
            "colorbar": {
             "outlinewidth": 0,
             "ticks": ""
            },
            "colorscale": [
             [
              0.0,
              "#0d0887"
             ],
             [
              0.1111111111111111,
              "#46039f"
             ],
             [
              0.2222222222222222,
              "#7201a8"
             ],
             [
              0.3333333333333333,
              "#9c179e"
             ],
             [
              0.4444444444444444,
              "#bd3786"
             ],
             [
              0.5555555555555556,
              "#d8576b"
             ],
             [
              0.6666666666666666,
              "#ed7953"
             ],
             [
              0.7777777777777778,
              "#fb9f3a"
             ],
             [
              0.8888888888888888,
              "#fdca26"
             ],
             [
              1.0,
              "#f0f921"
             ]
            ]
           }
          ],
          "heatmap": [
           {
            "type": "heatmap",
            "colorbar": {
             "outlinewidth": 0,
             "ticks": ""
            },
            "colorscale": [
             [
              0.0,
              "#0d0887"
             ],
             [
              0.1111111111111111,
              "#46039f"
             ],
             [
              0.2222222222222222,
              "#7201a8"
             ],
             [
              0.3333333333333333,
              "#9c179e"
             ],
             [
              0.4444444444444444,
              "#bd3786"
             ],
             [
              0.5555555555555556,
              "#d8576b"
             ],
             [
              0.6666666666666666,
              "#ed7953"
             ],
             [
              0.7777777777777778,
              "#fb9f3a"
             ],
             [
              0.8888888888888888,
              "#fdca26"
             ],
             [
              1.0,
              "#f0f921"
             ]
            ]
           }
          ],
          "heatmapgl": [
           {
            "type": "heatmapgl",
            "colorbar": {
             "outlinewidth": 0,
             "ticks": ""
            },
            "colorscale": [
             [
              0.0,
              "#0d0887"
             ],
             [
              0.1111111111111111,
              "#46039f"
             ],
             [
              0.2222222222222222,
              "#7201a8"
             ],
             [
              0.3333333333333333,
              "#9c179e"
             ],
             [
              0.4444444444444444,
              "#bd3786"
             ],
             [
              0.5555555555555556,
              "#d8576b"
             ],
             [
              0.6666666666666666,
              "#ed7953"
             ],
             [
              0.7777777777777778,
              "#fb9f3a"
             ],
             [
              0.8888888888888888,
              "#fdca26"
             ],
             [
              1.0,
              "#f0f921"
             ]
            ]
           }
          ],
          "contourcarpet": [
           {
            "type": "contourcarpet",
            "colorbar": {
             "outlinewidth": 0,
             "ticks": ""
            }
           }
          ],
          "contour": [
           {
            "type": "contour",
            "colorbar": {
             "outlinewidth": 0,
             "ticks": ""
            },
            "colorscale": [
             [
              0.0,
              "#0d0887"
             ],
             [
              0.1111111111111111,
              "#46039f"
             ],
             [
              0.2222222222222222,
              "#7201a8"
             ],
             [
              0.3333333333333333,
              "#9c179e"
             ],
             [
              0.4444444444444444,
              "#bd3786"
             ],
             [
              0.5555555555555556,
              "#d8576b"
             ],
             [
              0.6666666666666666,
              "#ed7953"
             ],
             [
              0.7777777777777778,
              "#fb9f3a"
             ],
             [
              0.8888888888888888,
              "#fdca26"
             ],
             [
              1.0,
              "#f0f921"
             ]
            ]
           }
          ],
          "surface": [
           {
            "type": "surface",
            "colorbar": {
             "outlinewidth": 0,
             "ticks": ""
            },
            "colorscale": [
             [
              0.0,
              "#0d0887"
             ],
             [
              0.1111111111111111,
              "#46039f"
             ],
             [
              0.2222222222222222,
              "#7201a8"
             ],
             [
              0.3333333333333333,
              "#9c179e"
             ],
             [
              0.4444444444444444,
              "#bd3786"
             ],
             [
              0.5555555555555556,
              "#d8576b"
             ],
             [
              0.6666666666666666,
              "#ed7953"
             ],
             [
              0.7777777777777778,
              "#fb9f3a"
             ],
             [
              0.8888888888888888,
              "#fdca26"
             ],
             [
              1.0,
              "#f0f921"
             ]
            ]
           }
          ],
          "mesh3d": [
           {
            "type": "mesh3d",
            "colorbar": {
             "outlinewidth": 0,
             "ticks": ""
            }
           }
          ],
          "scatter": [
           {
            "marker": {
             "line": {
              "color": "#283442"
             }
            },
            "type": "scatter"
           }
          ],
          "parcoords": [
           {
            "type": "parcoords",
            "line": {
             "colorbar": {
              "outlinewidth": 0,
              "ticks": ""
             }
            }
           }
          ],
          "scatterpolargl": [
           {
            "type": "scatterpolargl",
            "marker": {
             "colorbar": {
              "outlinewidth": 0,
              "ticks": ""
             }
            }
           }
          ],
          "bar": [
           {
            "error_x": {
             "color": "#f2f5fa"
            },
            "error_y": {
             "color": "#f2f5fa"
            },
            "marker": {
             "line": {
              "color": "rgb(17,17,17)",
              "width": 0.5
             },
             "pattern": {
              "fillmode": "overlay",
              "size": 10,
              "solidity": 0.2
             }
            },
            "type": "bar"
           }
          ],
          "scattergeo": [
           {
            "type": "scattergeo",
            "marker": {
             "colorbar": {
              "outlinewidth": 0,
              "ticks": ""
             }
            }
           }
          ],
          "scatterpolar": [
           {
            "type": "scatterpolar",
            "marker": {
             "colorbar": {
              "outlinewidth": 0,
              "ticks": ""
             }
            }
           }
          ],
          "histogram": [
           {
            "marker": {
             "pattern": {
              "fillmode": "overlay",
              "size": 10,
              "solidity": 0.2
             }
            },
            "type": "histogram"
           }
          ],
          "scattergl": [
           {
            "marker": {
             "line": {
              "color": "#283442"
             }
            },
            "type": "scattergl"
           }
          ],
          "scatter3d": [
           {
            "type": "scatter3d",
            "line": {
             "colorbar": {
              "outlinewidth": 0,
              "ticks": ""
             }
            },
            "marker": {
             "colorbar": {
              "outlinewidth": 0,
              "ticks": ""
             }
            }
           }
          ],
          "scattermapbox": [
           {
            "type": "scattermapbox",
            "marker": {
             "colorbar": {
              "outlinewidth": 0,
              "ticks": ""
             }
            }
           }
          ],
          "scatterternary": [
           {
            "type": "scatterternary",
            "marker": {
             "colorbar": {
              "outlinewidth": 0,
              "ticks": ""
             }
            }
           }
          ],
          "scattercarpet": [
           {
            "type": "scattercarpet",
            "marker": {
             "colorbar": {
              "outlinewidth": 0,
              "ticks": ""
             }
            }
           }
          ],
          "carpet": [
           {
            "aaxis": {
             "endlinecolor": "#A2B1C6",
             "gridcolor": "#506784",
             "linecolor": "#506784",
             "minorgridcolor": "#506784",
             "startlinecolor": "#A2B1C6"
            },
            "baxis": {
             "endlinecolor": "#A2B1C6",
             "gridcolor": "#506784",
             "linecolor": "#506784",
             "minorgridcolor": "#506784",
             "startlinecolor": "#A2B1C6"
            },
            "type": "carpet"
           }
          ],
          "table": [
           {
            "cells": {
             "fill": {
              "color": "#506784"
             },
             "line": {
              "color": "rgb(17,17,17)"
             }
            },
            "header": {
             "fill": {
              "color": "#2a3f5f"
             },
             "line": {
              "color": "rgb(17,17,17)"
             }
            },
            "type": "table"
           }
          ],
          "barpolar": [
           {
            "marker": {
             "line": {
              "color": "rgb(17,17,17)",
              "width": 0.5
             },
             "pattern": {
              "fillmode": "overlay",
              "size": 10,
              "solidity": 0.2
             }
            },
            "type": "barpolar"
           }
          ],
          "pie": [
           {
            "automargin": true,
            "type": "pie"
           }
          ]
         },
         "layout": {
          "autotypenumbers": "strict",
          "colorway": [
           "#636efa",
           "#EF553B",
           "#00cc96",
           "#ab63fa",
           "#FFA15A",
           "#19d3f3",
           "#FF6692",
           "#B6E880",
           "#FF97FF",
           "#FECB52"
          ],
          "font": {
           "color": "#f2f5fa"
          },
          "hovermode": "closest",
          "hoverlabel": {
           "align": "left"
          },
          "paper_bgcolor": "rgb(17,17,17)",
          "plot_bgcolor": "rgb(17,17,17)",
          "polar": {
           "bgcolor": "rgb(17,17,17)",
           "angularaxis": {
            "gridcolor": "#506784",
            "linecolor": "#506784",
            "ticks": ""
           },
           "radialaxis": {
            "gridcolor": "#506784",
            "linecolor": "#506784",
            "ticks": ""
           }
          },
          "ternary": {
           "bgcolor": "rgb(17,17,17)",
           "aaxis": {
            "gridcolor": "#506784",
            "linecolor": "#506784",
            "ticks": ""
           },
           "baxis": {
            "gridcolor": "#506784",
            "linecolor": "#506784",
            "ticks": ""
           },
           "caxis": {
            "gridcolor": "#506784",
            "linecolor": "#506784",
            "ticks": ""
           }
          },
          "coloraxis": {
           "colorbar": {
            "outlinewidth": 0,
            "ticks": ""
           }
          },
          "colorscale": {
           "sequential": [
            [
             0.0,
             "#0d0887"
            ],
            [
             0.1111111111111111,
             "#46039f"
            ],
            [
             0.2222222222222222,
             "#7201a8"
            ],
            [
             0.3333333333333333,
             "#9c179e"
            ],
            [
             0.4444444444444444,
             "#bd3786"
            ],
            [
             0.5555555555555556,
             "#d8576b"
            ],
            [
             0.6666666666666666,
             "#ed7953"
            ],
            [
             0.7777777777777778,
             "#fb9f3a"
            ],
            [
             0.8888888888888888,
             "#fdca26"
            ],
            [
             1.0,
             "#f0f921"
            ]
           ],
           "sequentialminus": [
            [
             0.0,
             "#0d0887"
            ],
            [
             0.1111111111111111,
             "#46039f"
            ],
            [
             0.2222222222222222,
             "#7201a8"
            ],
            [
             0.3333333333333333,
             "#9c179e"
            ],
            [
             0.4444444444444444,
             "#bd3786"
            ],
            [
             0.5555555555555556,
             "#d8576b"
            ],
            [
             0.6666666666666666,
             "#ed7953"
            ],
            [
             0.7777777777777778,
             "#fb9f3a"
            ],
            [
             0.8888888888888888,
             "#fdca26"
            ],
            [
             1.0,
             "#f0f921"
            ]
           ],
           "diverging": [
            [
             0,
             "#8e0152"
            ],
            [
             0.1,
             "#c51b7d"
            ],
            [
             0.2,
             "#de77ae"
            ],
            [
             0.3,
             "#f1b6da"
            ],
            [
             0.4,
             "#fde0ef"
            ],
            [
             0.5,
             "#f7f7f7"
            ],
            [
             0.6,
             "#e6f5d0"
            ],
            [
             0.7,
             "#b8e186"
            ],
            [
             0.8,
             "#7fbc41"
            ],
            [
             0.9,
             "#4d9221"
            ],
            [
             1,
             "#276419"
            ]
           ]
          },
          "xaxis": {
           "gridcolor": "#283442",
           "linecolor": "#506784",
           "ticks": "",
           "title": {
            "standoff": 15
           },
           "zerolinecolor": "#283442",
           "automargin": true,
           "zerolinewidth": 2
          },
          "yaxis": {
           "gridcolor": "#283442",
           "linecolor": "#506784",
           "ticks": "",
           "title": {
            "standoff": 15
           },
           "zerolinecolor": "#283442",
           "automargin": true,
           "zerolinewidth": 2
          },
          "scene": {
           "xaxis": {
            "backgroundcolor": "rgb(17,17,17)",
            "gridcolor": "#506784",
            "linecolor": "#506784",
            "showbackground": true,
            "ticks": "",
            "zerolinecolor": "#C8D4E3",
            "gridwidth": 2
           },
           "yaxis": {
            "backgroundcolor": "rgb(17,17,17)",
            "gridcolor": "#506784",
            "linecolor": "#506784",
            "showbackground": true,
            "ticks": "",
            "zerolinecolor": "#C8D4E3",
            "gridwidth": 2
           },
           "zaxis": {
            "backgroundcolor": "rgb(17,17,17)",
            "gridcolor": "#506784",
            "linecolor": "#506784",
            "showbackground": true,
            "ticks": "",
            "zerolinecolor": "#C8D4E3",
            "gridwidth": 2
           }
          },
          "shapedefaults": {
           "line": {
            "color": "#f2f5fa"
           }
          },
          "annotationdefaults": {
           "arrowcolor": "#f2f5fa",
           "arrowhead": 0,
           "arrowwidth": 1
          },
          "geo": {
           "bgcolor": "rgb(17,17,17)",
           "landcolor": "rgb(17,17,17)",
           "subunitcolor": "#506784",
           "showland": true,
           "showlakes": true,
           "lakecolor": "rgb(17,17,17)"
          },
          "title": {
           "x": 0.05
          },
          "updatemenudefaults": {
           "bgcolor": "#506784",
           "borderwidth": 0
          },
          "sliderdefaults": {
           "bgcolor": "#C8D4E3",
           "borderwidth": 1,
           "bordercolor": "rgb(17,17,17)",
           "tickwidth": 0
          },
          "mapbox": {
           "style": "dark"
          }
         }
        },
        "xaxis": {
         "anchor": "y",
         "domain": [
          0.0,
          1.0
         ],
         "title": {
          "text": "x"
         }
        },
        "yaxis": {
         "anchor": "x",
         "domain": [
          0.0,
          1.0
         ],
         "title": {
          "text": "y"
         }
        },
        "legend": {
         "tracegroupgap": 0
        },
        "margin": {
         "t": 60
        }
       },
       "config": {
        "plotlyServerURL": "https://plot.ly"
       }
      },
      "text/html": "<div>                            <div id=\"75ea3ad5-caff-4cf6-beb1-5633b04e8a6c\" class=\"plotly-graph-div\" style=\"height:525px; width:100%;\"></div>            <script type=\"text/javascript\">                require([\"plotly\"], function(Plotly) {                    window.PLOTLYENV=window.PLOTLYENV || {};                                    if (document.getElementById(\"75ea3ad5-caff-4cf6-beb1-5633b04e8a6c\")) {                    Plotly.newPlot(                        \"75ea3ad5-caff-4cf6-beb1-5633b04e8a6c\",                        [{\"hovertemplate\":\"x=%{x}\\u003cbr\\u003ey=%{y}\\u003cextra\\u003e\\u003c\\u002fextra\\u003e\",\"legendgroup\":\"\",\"line\":{\"color\":\"#636efa\",\"dash\":\"solid\"},\"marker\":{\"symbol\":\"circle\"},\"mode\":\"lines\",\"name\":\"\",\"orientation\":\"v\",\"showlegend\":false,\"x\":[1489.670166015625,1488.5650634765625,1487.459716796875,1486.354248046875,1485.24853515625,1484.142578125,1483.0364990234375,1481.93017578125,1480.8236083984375,1479.7169189453125,1478.6099853515625,1477.5028076171875,1476.3955078125,1475.2879638671875,1474.1802978515625,1473.0723876953125,1471.9642333984375,1470.8558349609375,1469.747314453125,1468.638671875,1467.5296630859375,1466.4205322265625,1465.311279296875,1464.20166015625,1463.0919189453125,1461.9820556640625,1460.8719482421875,1459.7615966796875,1458.6510009765625,1457.540283203125,1456.4293212890625,1455.3182373046875,1454.2069091796875,1453.0953369140625,1451.983642578125,1450.8717041015625,1449.759521484375,1448.647216796875,1447.53466796875,1446.421875,1445.3089599609375,1444.19580078125,1443.0823974609375,1441.9688720703125,1440.8551025390625,1439.7410888671875,1438.626953125,1437.5125732421875,1436.3980712890625,1435.2833251953125,1434.1683349609375,1433.0531005859375,1431.937744140625,1430.8221435546875,1429.7064208984375,1428.5904541015625,1427.4742431640625,1426.35791015625,1425.2412109375,1424.12451171875,1423.0074462890625,1421.8902587890625,1420.7728271484375,1419.6552734375,1418.5374755859375,1417.41943359375,1416.30126953125,1415.182861328125,1414.064208984375,1412.9454345703125,1411.826416015625,1410.7071533203125,1409.587646484375,1408.468017578125,1407.3482666015625,1406.2281494140625,1405.10791015625,1403.9874267578125,1402.8668212890625,1401.7459716796875,1400.6248779296875,1399.503662109375,1398.3822021484375,1397.260498046875,1396.1385498046875,1395.0164794921875,1393.894287109375,1392.771728515625,1391.6490478515625,1390.526123046875,1389.403076171875,1388.2796630859375,1387.15625,1386.032470703125,1384.9085693359375,1383.784423828125,1382.6600341796875,1381.5355224609375,1380.4107666015625,1379.2857666015625,1378.16064453125,1377.0352783203125,1375.90966796875,1374.783935546875,1373.657958984375,1372.53173828125,1371.4053955078125,1370.27880859375,1369.1519775390625,1368.02490234375,1366.897705078125,1365.770263671875,1364.6427001953125,1363.5147705078125,1362.38671875,1361.258544921875,1360.1300048828125,1359.0013427734375,1357.87255859375,1356.743408203125,1355.6141357421875,1354.484619140625,1353.35498046875,1352.22509765625,1351.094970703125,1349.964599609375,1348.8341064453125,1347.703369140625,1346.5723876953125,1345.441162109375,1344.309814453125,1343.17822265625,1342.0465087890625,1340.91455078125,1339.7823486328125,1338.64990234375,1337.517333984375,1336.384521484375,1335.25146484375,1334.1181640625,1332.9847412109375,1331.85107421875,1330.7171630859375,1329.5831298828125,1328.4488525390625,1327.3143310546875,1326.1796875,1325.0447998046875,1323.90966796875,1322.7742919921875,1321.6387939453125,1320.5029296875,1319.3670654296875,1318.2308349609375,1317.094482421875,1315.9578857421875,1314.821044921875,1313.68408203125,1312.546875,1311.409423828125,1310.271728515625,1309.1339111328125,1307.995849609375,1306.8575439453125,1305.718994140625,1304.580322265625,1303.44140625,1302.3023681640625,1301.1629638671875,1300.0234375,1298.8836669921875,1297.74365234375,1296.603515625,1295.463134765625,1294.322509765625,1293.181640625,1292.0406494140625,1290.8994140625,1289.7579345703125,1288.6163330078125,1287.474365234375,1286.332275390625,1285.1900634765625,1284.0474853515625,1282.90478515625,1281.7618408203125,1280.61865234375,1279.475341796875,1278.3316650390625,1277.1878662109375,1276.0439453125,1274.899658203125,1273.7552490234375,1272.610595703125,1271.4656982421875,1270.3206787109375,1269.17529296875,1268.02978515625,1266.8841552734375],\"xaxis\":\"x\",\"y\":[0.006188020629944158,0.006209300929035903,0.006182956204137862,0.006170768305578681,0.006142470255382887,0.006155983856044942,0.006135589621938232,0.006121173043462142,0.006122491458225813,0.006123572899481156,0.006107814403911641,0.006096372312066561,0.006113982097294264,0.006029431000892726,0.006068732284102812,0.0060570430245971574,0.006075796685036663,0.006019088348361183,0.006063702795689922,0.006057762189916552,0.006119012588173626,0.006113397182604947,0.0060706812625905895,0.0061218784203268045,0.006161406641065996,0.006125783384296883,0.00613673236727439,0.00613691068268765,0.006152699138716932,0.0061181649218080576,0.006146989616249895,0.00613216745027813,0.006124559055409712,0.0061868330095341964,0.006180526040872045,0.0062057918071699554,0.006198277527899927,0.006182660492555555,0.006152223192468835,0.006214324958773624,0.006169678245798131,0.006183583343541811,0.006208642433108125,0.00620688397799731,0.00629508261413419,0.006262125210562456,0.006278857169232318,0.0063189525609147566,0.006326331556508179,0.006326934263149525,0.0063378566771426685,0.00636616359001588,0.006375101876520559,0.0064177404976762265,0.006450140268611504,0.0064370891346680085,0.006482280808681291,0.006480842441552683,0.006528725930317535,0.006592714791641607,0.006640827958967302,0.006603338123358107,0.006740779392085963,0.006816355502563429,0.00685293417906119,0.006891860110274378,0.007007571792972406,0.007069854692731409,0.007191642442634886,0.007270483039608157,0.007435922043988847,0.00752369232261859,0.007763302685645679,0.00796657362377924,0.008321072558604859,0.008665387518012276,0.009185173965180421,0.009792075221630102,0.010598352219274802,0.01156073256107368,0.013109774734240052,0.015284198824387946,0.018776300701813894,0.024531929048134008,0.035521643889223437,0.057028829461376315,0.09452562730567299,0.1315472677197812,0.12765331748516506,0.09320780363058495,0.06114411463813829,0.04018312412945808,0.028009627877636074,0.02104495340409068,0.017041795692521757,0.014583359274465598,0.013027500030128814,0.012050431659019275,0.011384086843683852,0.010792117855285254,0.010586384144201245,0.01038326872852344,0.010263150867271047,0.010174934389846537,0.010240365567817699,0.010303269186903507,0.010367974946969751,0.01043526627176886,0.010415781643319685,0.010423712705072048,0.010396351666167765,0.010274051555604662,0.01015790107987623,0.009941938350108497,0.009791990653654657,0.009616092253699797,0.00956523184751238,0.00940113984552185,0.00939173828290441,0.009369099694888774,0.009365764968772549,0.009395877833728632,0.009397283859614003,0.009465199279969859,0.009528319644770494,0.009585764140988155,0.009693768133220418,0.009718915518536035,0.009752703221902905,0.009770028039863462,0.009802397016265832,0.009768740456878576,0.009690897638200007,0.009628804893119028,0.009564664862419192,0.009378077464587862,0.00928122031490916,0.009137348272940344,0.008956429523386442,0.008876752662208193,0.008632223045123486,0.008534799708933881,0.008432808790433299,0.008315017691605463,0.008194196124656895,0.008045190251943543,0.007930272408393368,0.007831073379053177,0.007755612157346136,0.007622921093144098,0.0075268562279758285,0.007438905441389733,0.007363579773378327,0.007237902464931294,0.007216609561361954,0.0071040296102461405,0.006991458821760946,0.006918467519999326,0.0068445418160368214,0.006720483952903224,0.0066843859520543045,0.006622016942133236,0.006601329841418794,0.0064960722640194256,0.006485032803350702,0.0063911101960318125,0.00633976549750458,0.006286513619637015,0.006206107033790692,0.00612468111170491,0.006106885119460698,0.006097501598610628,0.006084281490648547,0.006008246337727115,0.006040872588711671,0.005936418941043926,0.005920901724560844,0.005869405787717488,0.005881229589652195,0.005749969264315263,0.0057519816870353745,0.005687913279816531,0.005663844129683884,0.005674124530529697,0.00565908529244708,0.005606505674983218,0.005632161897638579,0.005626107383181635,0.005588402196954017,0.005575766974781678,0.005531370228733851,0.0054987880462416,0.005480446541089377,0.005453109093920061,0.00539199883811556,0.005395159575900432,0.005397934927223192,0.005361143348405708,0.005358430080328262],\"yaxis\":\"y\",\"type\":\"scatter\"}],                        {\"template\":{\"data\":{\"histogram2dcontour\":[{\"type\":\"histogram2dcontour\",\"colorbar\":{\"outlinewidth\":0,\"ticks\":\"\"},\"colorscale\":[[0.0,\"#0d0887\"],[0.1111111111111111,\"#46039f\"],[0.2222222222222222,\"#7201a8\"],[0.3333333333333333,\"#9c179e\"],[0.4444444444444444,\"#bd3786\"],[0.5555555555555556,\"#d8576b\"],[0.6666666666666666,\"#ed7953\"],[0.7777777777777778,\"#fb9f3a\"],[0.8888888888888888,\"#fdca26\"],[1.0,\"#f0f921\"]]}],\"choropleth\":[{\"type\":\"choropleth\",\"colorbar\":{\"outlinewidth\":0,\"ticks\":\"\"}}],\"histogram2d\":[{\"type\":\"histogram2d\",\"colorbar\":{\"outlinewidth\":0,\"ticks\":\"\"},\"colorscale\":[[0.0,\"#0d0887\"],[0.1111111111111111,\"#46039f\"],[0.2222222222222222,\"#7201a8\"],[0.3333333333333333,\"#9c179e\"],[0.4444444444444444,\"#bd3786\"],[0.5555555555555556,\"#d8576b\"],[0.6666666666666666,\"#ed7953\"],[0.7777777777777778,\"#fb9f3a\"],[0.8888888888888888,\"#fdca26\"],[1.0,\"#f0f921\"]]}],\"heatmap\":[{\"type\":\"heatmap\",\"colorbar\":{\"outlinewidth\":0,\"ticks\":\"\"},\"colorscale\":[[0.0,\"#0d0887\"],[0.1111111111111111,\"#46039f\"],[0.2222222222222222,\"#7201a8\"],[0.3333333333333333,\"#9c179e\"],[0.4444444444444444,\"#bd3786\"],[0.5555555555555556,\"#d8576b\"],[0.6666666666666666,\"#ed7953\"],[0.7777777777777778,\"#fb9f3a\"],[0.8888888888888888,\"#fdca26\"],[1.0,\"#f0f921\"]]}],\"heatmapgl\":[{\"type\":\"heatmapgl\",\"colorbar\":{\"outlinewidth\":0,\"ticks\":\"\"},\"colorscale\":[[0.0,\"#0d0887\"],[0.1111111111111111,\"#46039f\"],[0.2222222222222222,\"#7201a8\"],[0.3333333333333333,\"#9c179e\"],[0.4444444444444444,\"#bd3786\"],[0.5555555555555556,\"#d8576b\"],[0.6666666666666666,\"#ed7953\"],[0.7777777777777778,\"#fb9f3a\"],[0.8888888888888888,\"#fdca26\"],[1.0,\"#f0f921\"]]}],\"contourcarpet\":[{\"type\":\"contourcarpet\",\"colorbar\":{\"outlinewidth\":0,\"ticks\":\"\"}}],\"contour\":[{\"type\":\"contour\",\"colorbar\":{\"outlinewidth\":0,\"ticks\":\"\"},\"colorscale\":[[0.0,\"#0d0887\"],[0.1111111111111111,\"#46039f\"],[0.2222222222222222,\"#7201a8\"],[0.3333333333333333,\"#9c179e\"],[0.4444444444444444,\"#bd3786\"],[0.5555555555555556,\"#d8576b\"],[0.6666666666666666,\"#ed7953\"],[0.7777777777777778,\"#fb9f3a\"],[0.8888888888888888,\"#fdca26\"],[1.0,\"#f0f921\"]]}],\"surface\":[{\"type\":\"surface\",\"colorbar\":{\"outlinewidth\":0,\"ticks\":\"\"},\"colorscale\":[[0.0,\"#0d0887\"],[0.1111111111111111,\"#46039f\"],[0.2222222222222222,\"#7201a8\"],[0.3333333333333333,\"#9c179e\"],[0.4444444444444444,\"#bd3786\"],[0.5555555555555556,\"#d8576b\"],[0.6666666666666666,\"#ed7953\"],[0.7777777777777778,\"#fb9f3a\"],[0.8888888888888888,\"#fdca26\"],[1.0,\"#f0f921\"]]}],\"mesh3d\":[{\"type\":\"mesh3d\",\"colorbar\":{\"outlinewidth\":0,\"ticks\":\"\"}}],\"scatter\":[{\"marker\":{\"line\":{\"color\":\"#283442\"}},\"type\":\"scatter\"}],\"parcoords\":[{\"type\":\"parcoords\",\"line\":{\"colorbar\":{\"outlinewidth\":0,\"ticks\":\"\"}}}],\"scatterpolargl\":[{\"type\":\"scatterpolargl\",\"marker\":{\"colorbar\":{\"outlinewidth\":0,\"ticks\":\"\"}}}],\"bar\":[{\"error_x\":{\"color\":\"#f2f5fa\"},\"error_y\":{\"color\":\"#f2f5fa\"},\"marker\":{\"line\":{\"color\":\"rgb(17,17,17)\",\"width\":0.5},\"pattern\":{\"fillmode\":\"overlay\",\"size\":10,\"solidity\":0.2}},\"type\":\"bar\"}],\"scattergeo\":[{\"type\":\"scattergeo\",\"marker\":{\"colorbar\":{\"outlinewidth\":0,\"ticks\":\"\"}}}],\"scatterpolar\":[{\"type\":\"scatterpolar\",\"marker\":{\"colorbar\":{\"outlinewidth\":0,\"ticks\":\"\"}}}],\"histogram\":[{\"marker\":{\"pattern\":{\"fillmode\":\"overlay\",\"size\":10,\"solidity\":0.2}},\"type\":\"histogram\"}],\"scattergl\":[{\"marker\":{\"line\":{\"color\":\"#283442\"}},\"type\":\"scattergl\"}],\"scatter3d\":[{\"type\":\"scatter3d\",\"line\":{\"colorbar\":{\"outlinewidth\":0,\"ticks\":\"\"}},\"marker\":{\"colorbar\":{\"outlinewidth\":0,\"ticks\":\"\"}}}],\"scattermapbox\":[{\"type\":\"scattermapbox\",\"marker\":{\"colorbar\":{\"outlinewidth\":0,\"ticks\":\"\"}}}],\"scatterternary\":[{\"type\":\"scatterternary\",\"marker\":{\"colorbar\":{\"outlinewidth\":0,\"ticks\":\"\"}}}],\"scattercarpet\":[{\"type\":\"scattercarpet\",\"marker\":{\"colorbar\":{\"outlinewidth\":0,\"ticks\":\"\"}}}],\"carpet\":[{\"aaxis\":{\"endlinecolor\":\"#A2B1C6\",\"gridcolor\":\"#506784\",\"linecolor\":\"#506784\",\"minorgridcolor\":\"#506784\",\"startlinecolor\":\"#A2B1C6\"},\"baxis\":{\"endlinecolor\":\"#A2B1C6\",\"gridcolor\":\"#506784\",\"linecolor\":\"#506784\",\"minorgridcolor\":\"#506784\",\"startlinecolor\":\"#A2B1C6\"},\"type\":\"carpet\"}],\"table\":[{\"cells\":{\"fill\":{\"color\":\"#506784\"},\"line\":{\"color\":\"rgb(17,17,17)\"}},\"header\":{\"fill\":{\"color\":\"#2a3f5f\"},\"line\":{\"color\":\"rgb(17,17,17)\"}},\"type\":\"table\"}],\"barpolar\":[{\"marker\":{\"line\":{\"color\":\"rgb(17,17,17)\",\"width\":0.5},\"pattern\":{\"fillmode\":\"overlay\",\"size\":10,\"solidity\":0.2}},\"type\":\"barpolar\"}],\"pie\":[{\"automargin\":true,\"type\":\"pie\"}]},\"layout\":{\"autotypenumbers\":\"strict\",\"colorway\":[\"#636efa\",\"#EF553B\",\"#00cc96\",\"#ab63fa\",\"#FFA15A\",\"#19d3f3\",\"#FF6692\",\"#B6E880\",\"#FF97FF\",\"#FECB52\"],\"font\":{\"color\":\"#f2f5fa\"},\"hovermode\":\"closest\",\"hoverlabel\":{\"align\":\"left\"},\"paper_bgcolor\":\"rgb(17,17,17)\",\"plot_bgcolor\":\"rgb(17,17,17)\",\"polar\":{\"bgcolor\":\"rgb(17,17,17)\",\"angularaxis\":{\"gridcolor\":\"#506784\",\"linecolor\":\"#506784\",\"ticks\":\"\"},\"radialaxis\":{\"gridcolor\":\"#506784\",\"linecolor\":\"#506784\",\"ticks\":\"\"}},\"ternary\":{\"bgcolor\":\"rgb(17,17,17)\",\"aaxis\":{\"gridcolor\":\"#506784\",\"linecolor\":\"#506784\",\"ticks\":\"\"},\"baxis\":{\"gridcolor\":\"#506784\",\"linecolor\":\"#506784\",\"ticks\":\"\"},\"caxis\":{\"gridcolor\":\"#506784\",\"linecolor\":\"#506784\",\"ticks\":\"\"}},\"coloraxis\":{\"colorbar\":{\"outlinewidth\":0,\"ticks\":\"\"}},\"colorscale\":{\"sequential\":[[0.0,\"#0d0887\"],[0.1111111111111111,\"#46039f\"],[0.2222222222222222,\"#7201a8\"],[0.3333333333333333,\"#9c179e\"],[0.4444444444444444,\"#bd3786\"],[0.5555555555555556,\"#d8576b\"],[0.6666666666666666,\"#ed7953\"],[0.7777777777777778,\"#fb9f3a\"],[0.8888888888888888,\"#fdca26\"],[1.0,\"#f0f921\"]],\"sequentialminus\":[[0.0,\"#0d0887\"],[0.1111111111111111,\"#46039f\"],[0.2222222222222222,\"#7201a8\"],[0.3333333333333333,\"#9c179e\"],[0.4444444444444444,\"#bd3786\"],[0.5555555555555556,\"#d8576b\"],[0.6666666666666666,\"#ed7953\"],[0.7777777777777778,\"#fb9f3a\"],[0.8888888888888888,\"#fdca26\"],[1.0,\"#f0f921\"]],\"diverging\":[[0,\"#8e0152\"],[0.1,\"#c51b7d\"],[0.2,\"#de77ae\"],[0.3,\"#f1b6da\"],[0.4,\"#fde0ef\"],[0.5,\"#f7f7f7\"],[0.6,\"#e6f5d0\"],[0.7,\"#b8e186\"],[0.8,\"#7fbc41\"],[0.9,\"#4d9221\"],[1,\"#276419\"]]},\"xaxis\":{\"gridcolor\":\"#283442\",\"linecolor\":\"#506784\",\"ticks\":\"\",\"title\":{\"standoff\":15},\"zerolinecolor\":\"#283442\",\"automargin\":true,\"zerolinewidth\":2},\"yaxis\":{\"gridcolor\":\"#283442\",\"linecolor\":\"#506784\",\"ticks\":\"\",\"title\":{\"standoff\":15},\"zerolinecolor\":\"#283442\",\"automargin\":true,\"zerolinewidth\":2},\"scene\":{\"xaxis\":{\"backgroundcolor\":\"rgb(17,17,17)\",\"gridcolor\":\"#506784\",\"linecolor\":\"#506784\",\"showbackground\":true,\"ticks\":\"\",\"zerolinecolor\":\"#C8D4E3\",\"gridwidth\":2},\"yaxis\":{\"backgroundcolor\":\"rgb(17,17,17)\",\"gridcolor\":\"#506784\",\"linecolor\":\"#506784\",\"showbackground\":true,\"ticks\":\"\",\"zerolinecolor\":\"#C8D4E3\",\"gridwidth\":2},\"zaxis\":{\"backgroundcolor\":\"rgb(17,17,17)\",\"gridcolor\":\"#506784\",\"linecolor\":\"#506784\",\"showbackground\":true,\"ticks\":\"\",\"zerolinecolor\":\"#C8D4E3\",\"gridwidth\":2}},\"shapedefaults\":{\"line\":{\"color\":\"#f2f5fa\"}},\"annotationdefaults\":{\"arrowcolor\":\"#f2f5fa\",\"arrowhead\":0,\"arrowwidth\":1},\"geo\":{\"bgcolor\":\"rgb(17,17,17)\",\"landcolor\":\"rgb(17,17,17)\",\"subunitcolor\":\"#506784\",\"showland\":true,\"showlakes\":true,\"lakecolor\":\"rgb(17,17,17)\"},\"title\":{\"x\":0.05},\"updatemenudefaults\":{\"bgcolor\":\"#506784\",\"borderwidth\":0},\"sliderdefaults\":{\"bgcolor\":\"#C8D4E3\",\"borderwidth\":1,\"bordercolor\":\"rgb(17,17,17)\",\"tickwidth\":0},\"mapbox\":{\"style\":\"dark\"}}},\"xaxis\":{\"anchor\":\"y\",\"domain\":[0.0,1.0],\"title\":{\"text\":\"x\"}},\"yaxis\":{\"anchor\":\"x\",\"domain\":[0.0,1.0],\"title\":{\"text\":\"y\"}},\"legend\":{\"tracegroupgap\":0},\"margin\":{\"t\":60}},                        {\"responsive\": true}                    ).then(function(){\n                            \nvar gd = document.getElementById('75ea3ad5-caff-4cf6-beb1-5633b04e8a6c');\nvar x = new MutationObserver(function (mutations, observer) {{\n        var display = window.getComputedStyle(gd).display;\n        if (!display || display === 'none') {{\n            console.log([gd, 'removed!']);\n            Plotly.purge(gd);\n            observer.disconnect();\n        }}\n}});\n\n// Listen for the removal of the full notebook cells\nvar notebookContainer = gd.closest('#notebook-container');\nif (notebookContainer) {{\n    x.observe(notebookContainer, {childList: true});\n}}\n\n// Listen for the clearing of the current output cell\nvar outputEl = gd.closest('.output');\nif (outputEl) {{\n    x.observe(outputEl, {childList: true});\n}}\n\n                        })                };                });            </script>        </div>"
     },
     "metadata": {},
     "output_type": "display_data"
    },
    {
     "data": {
      "application/vnd.plotly.v1+json": {
       "data": [
        {
         "hovertemplate": "x=%{x}<br>y=%{y}<extra></extra>",
         "legendgroup": "",
         "line": {
          "color": "#636efa",
          "dash": "solid"
         },
         "marker": {
          "symbol": "circle"
         },
         "mode": "lines",
         "name": "",
         "orientation": "v",
         "showlegend": false,
         "x": [
          1489.670166015625,
          1488.5650634765625,
          1487.459716796875,
          1486.354248046875,
          1485.24853515625,
          1484.142578125,
          1483.0364990234375,
          1481.93017578125,
          1480.8236083984375,
          1479.7169189453125,
          1478.6099853515625,
          1477.5028076171875,
          1476.3955078125,
          1475.2879638671875,
          1474.1802978515625,
          1473.0723876953125,
          1471.9642333984375,
          1470.8558349609375,
          1469.747314453125,
          1468.638671875,
          1467.5296630859375,
          1466.4205322265625,
          1465.311279296875,
          1464.20166015625,
          1463.0919189453125,
          1461.9820556640625,
          1460.8719482421875,
          1459.7615966796875,
          1458.6510009765625,
          1457.540283203125,
          1456.4293212890625,
          1455.3182373046875,
          1454.2069091796875,
          1453.0953369140625,
          1451.983642578125,
          1450.8717041015625,
          1449.759521484375,
          1448.647216796875,
          1447.53466796875,
          1446.421875,
          1445.3089599609375,
          1444.19580078125,
          1443.0823974609375,
          1441.9688720703125,
          1440.8551025390625,
          1439.7410888671875,
          1438.626953125,
          1437.5125732421875,
          1436.3980712890625,
          1435.2833251953125,
          1434.1683349609375,
          1433.0531005859375,
          1431.937744140625,
          1430.8221435546875,
          1429.7064208984375,
          1428.5904541015625,
          1427.4742431640625,
          1426.35791015625,
          1425.2412109375,
          1424.12451171875,
          1423.0074462890625,
          1421.8902587890625,
          1420.7728271484375,
          1419.6552734375,
          1418.5374755859375,
          1417.41943359375,
          1416.30126953125,
          1415.182861328125,
          1414.064208984375,
          1412.9454345703125,
          1411.826416015625,
          1410.7071533203125,
          1409.587646484375,
          1408.468017578125,
          1407.3482666015625,
          1406.2281494140625,
          1405.10791015625,
          1403.9874267578125,
          1402.8668212890625,
          1401.7459716796875,
          1400.6248779296875,
          1399.503662109375,
          1398.3822021484375,
          1397.260498046875,
          1396.1385498046875,
          1395.0164794921875,
          1393.894287109375,
          1392.771728515625,
          1391.6490478515625,
          1390.526123046875,
          1389.403076171875,
          1388.2796630859375,
          1387.15625,
          1386.032470703125,
          1384.9085693359375,
          1383.784423828125,
          1382.6600341796875,
          1381.5355224609375,
          1380.4107666015625,
          1379.2857666015625,
          1378.16064453125,
          1377.0352783203125,
          1375.90966796875,
          1374.783935546875,
          1373.657958984375,
          1372.53173828125,
          1371.4053955078125,
          1370.27880859375,
          1369.1519775390625,
          1368.02490234375,
          1366.897705078125,
          1365.770263671875,
          1364.6427001953125,
          1363.5147705078125,
          1362.38671875,
          1361.258544921875,
          1360.1300048828125,
          1359.0013427734375,
          1357.87255859375,
          1356.743408203125,
          1355.6141357421875,
          1354.484619140625,
          1353.35498046875,
          1352.22509765625,
          1351.094970703125,
          1349.964599609375,
          1348.8341064453125,
          1347.703369140625,
          1346.5723876953125,
          1345.441162109375,
          1344.309814453125,
          1343.17822265625,
          1342.0465087890625,
          1340.91455078125,
          1339.7823486328125,
          1338.64990234375,
          1337.517333984375,
          1336.384521484375,
          1335.25146484375,
          1334.1181640625,
          1332.9847412109375,
          1331.85107421875,
          1330.7171630859375,
          1329.5831298828125,
          1328.4488525390625,
          1327.3143310546875,
          1326.1796875,
          1325.0447998046875,
          1323.90966796875,
          1322.7742919921875,
          1321.6387939453125,
          1320.5029296875,
          1319.3670654296875,
          1318.2308349609375,
          1317.094482421875,
          1315.9578857421875,
          1314.821044921875,
          1313.68408203125,
          1312.546875,
          1311.409423828125,
          1310.271728515625,
          1309.1339111328125,
          1307.995849609375,
          1306.8575439453125,
          1305.718994140625,
          1304.580322265625,
          1303.44140625,
          1302.3023681640625,
          1301.1629638671875,
          1300.0234375,
          1298.8836669921875,
          1297.74365234375,
          1296.603515625,
          1295.463134765625,
          1294.322509765625,
          1293.181640625,
          1292.0406494140625,
          1290.8994140625,
          1289.7579345703125,
          1288.6163330078125,
          1287.474365234375,
          1286.332275390625,
          1285.1900634765625,
          1284.0474853515625,
          1282.90478515625,
          1281.7618408203125,
          1280.61865234375,
          1279.475341796875,
          1278.3316650390625,
          1277.1878662109375,
          1276.0439453125,
          1274.899658203125,
          1273.7552490234375,
          1272.610595703125,
          1271.4656982421875,
          1270.3206787109375,
          1269.17529296875,
          1268.02978515625,
          1266.8841552734375
         ],
         "xaxis": "x",
         "y": [
          -0.009867023432490693,
          -0.00994995283326377,
          -0.00984517392063652,
          -0.009879589803477386,
          -0.009700662457799642,
          -0.009850008565784408,
          -0.009794714839757957,
          -0.009740404167632699,
          -0.009764284504711514,
          -0.009736010283285105,
          -0.00969092818242004,
          -0.009676520228899515,
          -0.009703644797957997,
          -0.009560310562771613,
          -0.009625732604526356,
          -0.009631442508716729,
          -0.009612772582317755,
          -0.00955551465693225,
          -0.009576023218797185,
          -0.009555540983995671,
          -0.009678598377514449,
          -0.009692476428836862,
          -0.00955147458953712,
          -0.009669971999215933,
          -0.009697773739948554,
          -0.009616746154405184,
          -0.00965774470643682,
          -0.009670163911850282,
          -0.009668053374091672,
          -0.009613345134713042,
          -0.009615702230636411,
          -0.009602723973230165,
          -0.009532504090035457,
          -0.009663247191165169,
          -0.009624308328405544,
          -0.009719974172989445,
          -0.009572993615758876,
          -0.009614492948331192,
          -0.009444846006285092,
          -0.009588438889639924,
          -0.009439179870503033,
          -0.009469314386499762,
          -0.00950099384322772,
          -0.009495527421447141,
          -0.00959146913346357,
          -0.009552022451955166,
          -0.009509769676727627,
          -0.009621121867292593,
          -0.009516276305277056,
          -0.009533118124175658,
          -0.009364787998803201,
          -0.009456631711990002,
          -0.00932289625467541,
          -0.009420292006199094,
          -0.009470562391081459,
          -0.00934662889772307,
          -0.009321027752982372,
          -0.009238615913847751,
          -0.009283482227556575,
          -0.009344016172985357,
          -0.009361516379335126,
          -0.009155259495942775,
          -0.009306839521322432,
          -0.009298437997613637,
          -0.009195885037715037,
          -0.00914843774574839,
          -0.009187305366892695,
          -0.009135501717004562,
          -0.009186960046852348,
          -0.009064675217916837,
          -0.009104164223618146,
          -0.008943725374417346,
          -0.009004507785726838,
          -0.008928092796734819,
          -0.009066406857414824,
          -0.009093696988765764,
          -0.0091979678096537,
          -0.009363860687636533,
          -0.00955152348044364,
          -0.009432489096912237,
          -0.009742518560803815,
          -0.01018220722598627,
          -0.01054139645958676,
          -0.010526819288567755,
          -0.010337589860506811,
          -0.009362270583895124,
          -0.007023155790673385,
          -0.007849989196346158,
          -0.011914748937267565,
          -0.009886912201557619,
          -0.00826960359074682,
          -0.00889101778185487,
          -0.009497200042536017,
          -0.009582159621834719,
          -0.009443445056887783,
          -0.00927154377900073,
          -0.009068209528614623,
          -0.009165632935636114,
          -0.00910257498000961,
          -0.008962209800697606,
          -0.008987962474759432,
          -0.009068942829870653,
          -0.00910492613132541,
          -0.008923291159720745,
          -0.008983036067485973,
          -0.009058657448968714,
          -0.00897372995683426,
          -0.008963445478062257,
          -0.008702878781306628,
          -0.00847425941295329,
          -0.008070929837903905,
          -0.0076389524118944336,
          -0.006897595709239091,
          -0.00608804578099376,
          -0.005394540175107162,
          -0.004540792927605048,
          -0.0037908134086070576,
          -0.0028849106552710398,
          -0.002181764705863113,
          -0.0014121576472985067,
          -5.105381760003822E-4,
          2.9691987701249196E-4,
          0.0011165251711481986,
          0.0019077345322871518,
          0.0024887272119032628,
          0.003342511820355906,
          0.003889005249426268,
          0.004215532730352937,
          0.004675826839100093,
          0.004936654414058803,
          0.005029448649859574,
          0.004792188925619818,
          0.004711169418763853,
          0.00422415932752568,
          0.0036363124286417853,
          0.0031808004971873006,
          0.0025475974369099015,
          0.0018823244430110752,
          0.0012111723273762513,
          3.7186454823029565E-4,
          -4.2626668359594796E-5,
          -7.538566588002136E-4,
          -0.0012683099616922994,
          -0.0018578840483306613,
          -0.0023502924423044773,
          -0.002671740911596192,
          -0.0031430856368816914,
          -0.0034755340262059165,
          -0.003762928582222592,
          -0.004041205121275271,
          -0.004394860189671594,
          -0.004702948745347598,
          -0.004919250366495951,
          -0.005002733773322108,
          -0.0053730813759676555,
          -0.005487077045624268,
          -0.005487573919327168,
          -0.00579596463333628,
          -0.0058278006598849455,
          -0.005856002875926038,
          -0.006081220469851852,
          -0.0061224474525770995,
          -0.006435753018775875,
          -0.006313302293905004,
          -0.006531973447838479,
          -0.006477123236722094,
          -0.00662653195369825,
          -0.006649238140912733,
          -0.00665244054720637,
          -0.006666257886544274,
          -0.006692419268899086,
          -0.006840389121761357,
          -0.006923567887358945,
          -0.006900257441689142,
          -0.007115278947119048,
          -0.006944029207075497,
          -0.0070275066142707725,
          -0.007027221370542941,
          -0.007105161520694019,
          -0.006977040907129157,
          -0.00701320536189194,
          -0.006995145471689766,
          -0.006997695217178316,
          -0.007072067911791129,
          -0.007193659832485749,
          -0.00703486329656966,
          -0.0071136164508193685,
          -0.007170596506348413,
          -0.007007299245855802,
          -0.007054900789935209,
          -0.007033985362434102,
          -0.007033323666378966,
          -0.007050511746613604,
          -0.0070517807799730554,
          -0.00697385622073812,
          -0.007084982657769884,
          -0.00710693251750072,
          -0.00710255351194656,
          -0.007134788356186511
         ],
         "yaxis": "y",
         "type": "scatter"
        }
       ],
       "layout": {
        "template": {
         "data": {
          "histogram2dcontour": [
           {
            "type": "histogram2dcontour",
            "colorbar": {
             "outlinewidth": 0,
             "ticks": ""
            },
            "colorscale": [
             [
              0.0,
              "#0d0887"
             ],
             [
              0.1111111111111111,
              "#46039f"
             ],
             [
              0.2222222222222222,
              "#7201a8"
             ],
             [
              0.3333333333333333,
              "#9c179e"
             ],
             [
              0.4444444444444444,
              "#bd3786"
             ],
             [
              0.5555555555555556,
              "#d8576b"
             ],
             [
              0.6666666666666666,
              "#ed7953"
             ],
             [
              0.7777777777777778,
              "#fb9f3a"
             ],
             [
              0.8888888888888888,
              "#fdca26"
             ],
             [
              1.0,
              "#f0f921"
             ]
            ]
           }
          ],
          "choropleth": [
           {
            "type": "choropleth",
            "colorbar": {
             "outlinewidth": 0,
             "ticks": ""
            }
           }
          ],
          "histogram2d": [
           {
            "type": "histogram2d",
            "colorbar": {
             "outlinewidth": 0,
             "ticks": ""
            },
            "colorscale": [
             [
              0.0,
              "#0d0887"
             ],
             [
              0.1111111111111111,
              "#46039f"
             ],
             [
              0.2222222222222222,
              "#7201a8"
             ],
             [
              0.3333333333333333,
              "#9c179e"
             ],
             [
              0.4444444444444444,
              "#bd3786"
             ],
             [
              0.5555555555555556,
              "#d8576b"
             ],
             [
              0.6666666666666666,
              "#ed7953"
             ],
             [
              0.7777777777777778,
              "#fb9f3a"
             ],
             [
              0.8888888888888888,
              "#fdca26"
             ],
             [
              1.0,
              "#f0f921"
             ]
            ]
           }
          ],
          "heatmap": [
           {
            "type": "heatmap",
            "colorbar": {
             "outlinewidth": 0,
             "ticks": ""
            },
            "colorscale": [
             [
              0.0,
              "#0d0887"
             ],
             [
              0.1111111111111111,
              "#46039f"
             ],
             [
              0.2222222222222222,
              "#7201a8"
             ],
             [
              0.3333333333333333,
              "#9c179e"
             ],
             [
              0.4444444444444444,
              "#bd3786"
             ],
             [
              0.5555555555555556,
              "#d8576b"
             ],
             [
              0.6666666666666666,
              "#ed7953"
             ],
             [
              0.7777777777777778,
              "#fb9f3a"
             ],
             [
              0.8888888888888888,
              "#fdca26"
             ],
             [
              1.0,
              "#f0f921"
             ]
            ]
           }
          ],
          "heatmapgl": [
           {
            "type": "heatmapgl",
            "colorbar": {
             "outlinewidth": 0,
             "ticks": ""
            },
            "colorscale": [
             [
              0.0,
              "#0d0887"
             ],
             [
              0.1111111111111111,
              "#46039f"
             ],
             [
              0.2222222222222222,
              "#7201a8"
             ],
             [
              0.3333333333333333,
              "#9c179e"
             ],
             [
              0.4444444444444444,
              "#bd3786"
             ],
             [
              0.5555555555555556,
              "#d8576b"
             ],
             [
              0.6666666666666666,
              "#ed7953"
             ],
             [
              0.7777777777777778,
              "#fb9f3a"
             ],
             [
              0.8888888888888888,
              "#fdca26"
             ],
             [
              1.0,
              "#f0f921"
             ]
            ]
           }
          ],
          "contourcarpet": [
           {
            "type": "contourcarpet",
            "colorbar": {
             "outlinewidth": 0,
             "ticks": ""
            }
           }
          ],
          "contour": [
           {
            "type": "contour",
            "colorbar": {
             "outlinewidth": 0,
             "ticks": ""
            },
            "colorscale": [
             [
              0.0,
              "#0d0887"
             ],
             [
              0.1111111111111111,
              "#46039f"
             ],
             [
              0.2222222222222222,
              "#7201a8"
             ],
             [
              0.3333333333333333,
              "#9c179e"
             ],
             [
              0.4444444444444444,
              "#bd3786"
             ],
             [
              0.5555555555555556,
              "#d8576b"
             ],
             [
              0.6666666666666666,
              "#ed7953"
             ],
             [
              0.7777777777777778,
              "#fb9f3a"
             ],
             [
              0.8888888888888888,
              "#fdca26"
             ],
             [
              1.0,
              "#f0f921"
             ]
            ]
           }
          ],
          "surface": [
           {
            "type": "surface",
            "colorbar": {
             "outlinewidth": 0,
             "ticks": ""
            },
            "colorscale": [
             [
              0.0,
              "#0d0887"
             ],
             [
              0.1111111111111111,
              "#46039f"
             ],
             [
              0.2222222222222222,
              "#7201a8"
             ],
             [
              0.3333333333333333,
              "#9c179e"
             ],
             [
              0.4444444444444444,
              "#bd3786"
             ],
             [
              0.5555555555555556,
              "#d8576b"
             ],
             [
              0.6666666666666666,
              "#ed7953"
             ],
             [
              0.7777777777777778,
              "#fb9f3a"
             ],
             [
              0.8888888888888888,
              "#fdca26"
             ],
             [
              1.0,
              "#f0f921"
             ]
            ]
           }
          ],
          "mesh3d": [
           {
            "type": "mesh3d",
            "colorbar": {
             "outlinewidth": 0,
             "ticks": ""
            }
           }
          ],
          "scatter": [
           {
            "marker": {
             "line": {
              "color": "#283442"
             }
            },
            "type": "scatter"
           }
          ],
          "parcoords": [
           {
            "type": "parcoords",
            "line": {
             "colorbar": {
              "outlinewidth": 0,
              "ticks": ""
             }
            }
           }
          ],
          "scatterpolargl": [
           {
            "type": "scatterpolargl",
            "marker": {
             "colorbar": {
              "outlinewidth": 0,
              "ticks": ""
             }
            }
           }
          ],
          "bar": [
           {
            "error_x": {
             "color": "#f2f5fa"
            },
            "error_y": {
             "color": "#f2f5fa"
            },
            "marker": {
             "line": {
              "color": "rgb(17,17,17)",
              "width": 0.5
             },
             "pattern": {
              "fillmode": "overlay",
              "size": 10,
              "solidity": 0.2
             }
            },
            "type": "bar"
           }
          ],
          "scattergeo": [
           {
            "type": "scattergeo",
            "marker": {
             "colorbar": {
              "outlinewidth": 0,
              "ticks": ""
             }
            }
           }
          ],
          "scatterpolar": [
           {
            "type": "scatterpolar",
            "marker": {
             "colorbar": {
              "outlinewidth": 0,
              "ticks": ""
             }
            }
           }
          ],
          "histogram": [
           {
            "marker": {
             "pattern": {
              "fillmode": "overlay",
              "size": 10,
              "solidity": 0.2
             }
            },
            "type": "histogram"
           }
          ],
          "scattergl": [
           {
            "marker": {
             "line": {
              "color": "#283442"
             }
            },
            "type": "scattergl"
           }
          ],
          "scatter3d": [
           {
            "type": "scatter3d",
            "line": {
             "colorbar": {
              "outlinewidth": 0,
              "ticks": ""
             }
            },
            "marker": {
             "colorbar": {
              "outlinewidth": 0,
              "ticks": ""
             }
            }
           }
          ],
          "scattermapbox": [
           {
            "type": "scattermapbox",
            "marker": {
             "colorbar": {
              "outlinewidth": 0,
              "ticks": ""
             }
            }
           }
          ],
          "scatterternary": [
           {
            "type": "scatterternary",
            "marker": {
             "colorbar": {
              "outlinewidth": 0,
              "ticks": ""
             }
            }
           }
          ],
          "scattercarpet": [
           {
            "type": "scattercarpet",
            "marker": {
             "colorbar": {
              "outlinewidth": 0,
              "ticks": ""
             }
            }
           }
          ],
          "carpet": [
           {
            "aaxis": {
             "endlinecolor": "#A2B1C6",
             "gridcolor": "#506784",
             "linecolor": "#506784",
             "minorgridcolor": "#506784",
             "startlinecolor": "#A2B1C6"
            },
            "baxis": {
             "endlinecolor": "#A2B1C6",
             "gridcolor": "#506784",
             "linecolor": "#506784",
             "minorgridcolor": "#506784",
             "startlinecolor": "#A2B1C6"
            },
            "type": "carpet"
           }
          ],
          "table": [
           {
            "cells": {
             "fill": {
              "color": "#506784"
             },
             "line": {
              "color": "rgb(17,17,17)"
             }
            },
            "header": {
             "fill": {
              "color": "#2a3f5f"
             },
             "line": {
              "color": "rgb(17,17,17)"
             }
            },
            "type": "table"
           }
          ],
          "barpolar": [
           {
            "marker": {
             "line": {
              "color": "rgb(17,17,17)",
              "width": 0.5
             },
             "pattern": {
              "fillmode": "overlay",
              "size": 10,
              "solidity": 0.2
             }
            },
            "type": "barpolar"
           }
          ],
          "pie": [
           {
            "automargin": true,
            "type": "pie"
           }
          ]
         },
         "layout": {
          "autotypenumbers": "strict",
          "colorway": [
           "#636efa",
           "#EF553B",
           "#00cc96",
           "#ab63fa",
           "#FFA15A",
           "#19d3f3",
           "#FF6692",
           "#B6E880",
           "#FF97FF",
           "#FECB52"
          ],
          "font": {
           "color": "#f2f5fa"
          },
          "hovermode": "closest",
          "hoverlabel": {
           "align": "left"
          },
          "paper_bgcolor": "rgb(17,17,17)",
          "plot_bgcolor": "rgb(17,17,17)",
          "polar": {
           "bgcolor": "rgb(17,17,17)",
           "angularaxis": {
            "gridcolor": "#506784",
            "linecolor": "#506784",
            "ticks": ""
           },
           "radialaxis": {
            "gridcolor": "#506784",
            "linecolor": "#506784",
            "ticks": ""
           }
          },
          "ternary": {
           "bgcolor": "rgb(17,17,17)",
           "aaxis": {
            "gridcolor": "#506784",
            "linecolor": "#506784",
            "ticks": ""
           },
           "baxis": {
            "gridcolor": "#506784",
            "linecolor": "#506784",
            "ticks": ""
           },
           "caxis": {
            "gridcolor": "#506784",
            "linecolor": "#506784",
            "ticks": ""
           }
          },
          "coloraxis": {
           "colorbar": {
            "outlinewidth": 0,
            "ticks": ""
           }
          },
          "colorscale": {
           "sequential": [
            [
             0.0,
             "#0d0887"
            ],
            [
             0.1111111111111111,
             "#46039f"
            ],
            [
             0.2222222222222222,
             "#7201a8"
            ],
            [
             0.3333333333333333,
             "#9c179e"
            ],
            [
             0.4444444444444444,
             "#bd3786"
            ],
            [
             0.5555555555555556,
             "#d8576b"
            ],
            [
             0.6666666666666666,
             "#ed7953"
            ],
            [
             0.7777777777777778,
             "#fb9f3a"
            ],
            [
             0.8888888888888888,
             "#fdca26"
            ],
            [
             1.0,
             "#f0f921"
            ]
           ],
           "sequentialminus": [
            [
             0.0,
             "#0d0887"
            ],
            [
             0.1111111111111111,
             "#46039f"
            ],
            [
             0.2222222222222222,
             "#7201a8"
            ],
            [
             0.3333333333333333,
             "#9c179e"
            ],
            [
             0.4444444444444444,
             "#bd3786"
            ],
            [
             0.5555555555555556,
             "#d8576b"
            ],
            [
             0.6666666666666666,
             "#ed7953"
            ],
            [
             0.7777777777777778,
             "#fb9f3a"
            ],
            [
             0.8888888888888888,
             "#fdca26"
            ],
            [
             1.0,
             "#f0f921"
            ]
           ],
           "diverging": [
            [
             0,
             "#8e0152"
            ],
            [
             0.1,
             "#c51b7d"
            ],
            [
             0.2,
             "#de77ae"
            ],
            [
             0.3,
             "#f1b6da"
            ],
            [
             0.4,
             "#fde0ef"
            ],
            [
             0.5,
             "#f7f7f7"
            ],
            [
             0.6,
             "#e6f5d0"
            ],
            [
             0.7,
             "#b8e186"
            ],
            [
             0.8,
             "#7fbc41"
            ],
            [
             0.9,
             "#4d9221"
            ],
            [
             1,
             "#276419"
            ]
           ]
          },
          "xaxis": {
           "gridcolor": "#283442",
           "linecolor": "#506784",
           "ticks": "",
           "title": {
            "standoff": 15
           },
           "zerolinecolor": "#283442",
           "automargin": true,
           "zerolinewidth": 2
          },
          "yaxis": {
           "gridcolor": "#283442",
           "linecolor": "#506784",
           "ticks": "",
           "title": {
            "standoff": 15
           },
           "zerolinecolor": "#283442",
           "automargin": true,
           "zerolinewidth": 2
          },
          "scene": {
           "xaxis": {
            "backgroundcolor": "rgb(17,17,17)",
            "gridcolor": "#506784",
            "linecolor": "#506784",
            "showbackground": true,
            "ticks": "",
            "zerolinecolor": "#C8D4E3",
            "gridwidth": 2
           },
           "yaxis": {
            "backgroundcolor": "rgb(17,17,17)",
            "gridcolor": "#506784",
            "linecolor": "#506784",
            "showbackground": true,
            "ticks": "",
            "zerolinecolor": "#C8D4E3",
            "gridwidth": 2
           },
           "zaxis": {
            "backgroundcolor": "rgb(17,17,17)",
            "gridcolor": "#506784",
            "linecolor": "#506784",
            "showbackground": true,
            "ticks": "",
            "zerolinecolor": "#C8D4E3",
            "gridwidth": 2
           }
          },
          "shapedefaults": {
           "line": {
            "color": "#f2f5fa"
           }
          },
          "annotationdefaults": {
           "arrowcolor": "#f2f5fa",
           "arrowhead": 0,
           "arrowwidth": 1
          },
          "geo": {
           "bgcolor": "rgb(17,17,17)",
           "landcolor": "rgb(17,17,17)",
           "subunitcolor": "#506784",
           "showland": true,
           "showlakes": true,
           "lakecolor": "rgb(17,17,17)"
          },
          "title": {
           "x": 0.05
          },
          "updatemenudefaults": {
           "bgcolor": "#506784",
           "borderwidth": 0
          },
          "sliderdefaults": {
           "bgcolor": "#C8D4E3",
           "borderwidth": 1,
           "bordercolor": "rgb(17,17,17)",
           "tickwidth": 0
          },
          "mapbox": {
           "style": "dark"
          }
         }
        },
        "xaxis": {
         "anchor": "y",
         "domain": [
          0.0,
          1.0
         ],
         "title": {
          "text": "x"
         }
        },
        "yaxis": {
         "anchor": "x",
         "domain": [
          0.0,
          1.0
         ],
         "title": {
          "text": "y"
         }
        },
        "legend": {
         "tracegroupgap": 0
        },
        "margin": {
         "t": 60
        }
       },
       "config": {
        "plotlyServerURL": "https://plot.ly"
       }
      },
      "text/html": "<div>                            <div id=\"082c38d2-7d8b-4fa7-984a-3b2e976e8a4a\" class=\"plotly-graph-div\" style=\"height:525px; width:100%;\"></div>            <script type=\"text/javascript\">                require([\"plotly\"], function(Plotly) {                    window.PLOTLYENV=window.PLOTLYENV || {};                                    if (document.getElementById(\"082c38d2-7d8b-4fa7-984a-3b2e976e8a4a\")) {                    Plotly.newPlot(                        \"082c38d2-7d8b-4fa7-984a-3b2e976e8a4a\",                        [{\"hovertemplate\":\"x=%{x}\\u003cbr\\u003ey=%{y}\\u003cextra\\u003e\\u003c\\u002fextra\\u003e\",\"legendgroup\":\"\",\"line\":{\"color\":\"#636efa\",\"dash\":\"solid\"},\"marker\":{\"symbol\":\"circle\"},\"mode\":\"lines\",\"name\":\"\",\"orientation\":\"v\",\"showlegend\":false,\"x\":[1489.670166015625,1488.5650634765625,1487.459716796875,1486.354248046875,1485.24853515625,1484.142578125,1483.0364990234375,1481.93017578125,1480.8236083984375,1479.7169189453125,1478.6099853515625,1477.5028076171875,1476.3955078125,1475.2879638671875,1474.1802978515625,1473.0723876953125,1471.9642333984375,1470.8558349609375,1469.747314453125,1468.638671875,1467.5296630859375,1466.4205322265625,1465.311279296875,1464.20166015625,1463.0919189453125,1461.9820556640625,1460.8719482421875,1459.7615966796875,1458.6510009765625,1457.540283203125,1456.4293212890625,1455.3182373046875,1454.2069091796875,1453.0953369140625,1451.983642578125,1450.8717041015625,1449.759521484375,1448.647216796875,1447.53466796875,1446.421875,1445.3089599609375,1444.19580078125,1443.0823974609375,1441.9688720703125,1440.8551025390625,1439.7410888671875,1438.626953125,1437.5125732421875,1436.3980712890625,1435.2833251953125,1434.1683349609375,1433.0531005859375,1431.937744140625,1430.8221435546875,1429.7064208984375,1428.5904541015625,1427.4742431640625,1426.35791015625,1425.2412109375,1424.12451171875,1423.0074462890625,1421.8902587890625,1420.7728271484375,1419.6552734375,1418.5374755859375,1417.41943359375,1416.30126953125,1415.182861328125,1414.064208984375,1412.9454345703125,1411.826416015625,1410.7071533203125,1409.587646484375,1408.468017578125,1407.3482666015625,1406.2281494140625,1405.10791015625,1403.9874267578125,1402.8668212890625,1401.7459716796875,1400.6248779296875,1399.503662109375,1398.3822021484375,1397.260498046875,1396.1385498046875,1395.0164794921875,1393.894287109375,1392.771728515625,1391.6490478515625,1390.526123046875,1389.403076171875,1388.2796630859375,1387.15625,1386.032470703125,1384.9085693359375,1383.784423828125,1382.6600341796875,1381.5355224609375,1380.4107666015625,1379.2857666015625,1378.16064453125,1377.0352783203125,1375.90966796875,1374.783935546875,1373.657958984375,1372.53173828125,1371.4053955078125,1370.27880859375,1369.1519775390625,1368.02490234375,1366.897705078125,1365.770263671875,1364.6427001953125,1363.5147705078125,1362.38671875,1361.258544921875,1360.1300048828125,1359.0013427734375,1357.87255859375,1356.743408203125,1355.6141357421875,1354.484619140625,1353.35498046875,1352.22509765625,1351.094970703125,1349.964599609375,1348.8341064453125,1347.703369140625,1346.5723876953125,1345.441162109375,1344.309814453125,1343.17822265625,1342.0465087890625,1340.91455078125,1339.7823486328125,1338.64990234375,1337.517333984375,1336.384521484375,1335.25146484375,1334.1181640625,1332.9847412109375,1331.85107421875,1330.7171630859375,1329.5831298828125,1328.4488525390625,1327.3143310546875,1326.1796875,1325.0447998046875,1323.90966796875,1322.7742919921875,1321.6387939453125,1320.5029296875,1319.3670654296875,1318.2308349609375,1317.094482421875,1315.9578857421875,1314.821044921875,1313.68408203125,1312.546875,1311.409423828125,1310.271728515625,1309.1339111328125,1307.995849609375,1306.8575439453125,1305.718994140625,1304.580322265625,1303.44140625,1302.3023681640625,1301.1629638671875,1300.0234375,1298.8836669921875,1297.74365234375,1296.603515625,1295.463134765625,1294.322509765625,1293.181640625,1292.0406494140625,1290.8994140625,1289.7579345703125,1288.6163330078125,1287.474365234375,1286.332275390625,1285.1900634765625,1284.0474853515625,1282.90478515625,1281.7618408203125,1280.61865234375,1279.475341796875,1278.3316650390625,1277.1878662109375,1276.0439453125,1274.899658203125,1273.7552490234375,1272.610595703125,1271.4656982421875,1270.3206787109375,1269.17529296875,1268.02978515625,1266.8841552734375],\"xaxis\":\"x\",\"y\":[-0.009867023432490693,-0.00994995283326377,-0.00984517392063652,-0.009879589803477386,-0.009700662457799642,-0.009850008565784408,-0.009794714839757957,-0.009740404167632699,-0.009764284504711514,-0.009736010283285105,-0.00969092818242004,-0.009676520228899515,-0.009703644797957997,-0.009560310562771613,-0.009625732604526356,-0.009631442508716729,-0.009612772582317755,-0.00955551465693225,-0.009576023218797185,-0.009555540983995671,-0.009678598377514449,-0.009692476428836862,-0.00955147458953712,-0.009669971999215933,-0.009697773739948554,-0.009616746154405184,-0.00965774470643682,-0.009670163911850282,-0.009668053374091672,-0.009613345134713042,-0.009615702230636411,-0.009602723973230165,-0.009532504090035457,-0.009663247191165169,-0.009624308328405544,-0.009719974172989445,-0.009572993615758876,-0.009614492948331192,-0.009444846006285092,-0.009588438889639924,-0.009439179870503033,-0.009469314386499762,-0.00950099384322772,-0.009495527421447141,-0.00959146913346357,-0.009552022451955166,-0.009509769676727627,-0.009621121867292593,-0.009516276305277056,-0.009533118124175658,-0.009364787998803201,-0.009456631711990002,-0.00932289625467541,-0.009420292006199094,-0.009470562391081459,-0.00934662889772307,-0.009321027752982372,-0.009238615913847751,-0.009283482227556575,-0.009344016172985357,-0.009361516379335126,-0.009155259495942775,-0.009306839521322432,-0.009298437997613637,-0.009195885037715037,-0.00914843774574839,-0.009187305366892695,-0.009135501717004562,-0.009186960046852348,-0.009064675217916837,-0.009104164223618146,-0.008943725374417346,-0.009004507785726838,-0.008928092796734819,-0.009066406857414824,-0.009093696988765764,-0.0091979678096537,-0.009363860687636533,-0.00955152348044364,-0.009432489096912237,-0.009742518560803815,-0.01018220722598627,-0.01054139645958676,-0.010526819288567755,-0.010337589860506811,-0.009362270583895124,-0.007023155790673385,-0.007849989196346158,-0.011914748937267565,-0.009886912201557619,-0.00826960359074682,-0.00889101778185487,-0.009497200042536017,-0.009582159621834719,-0.009443445056887783,-0.00927154377900073,-0.009068209528614623,-0.009165632935636114,-0.00910257498000961,-0.008962209800697606,-0.008987962474759432,-0.009068942829870653,-0.00910492613132541,-0.008923291159720745,-0.008983036067485973,-0.009058657448968714,-0.00897372995683426,-0.008963445478062257,-0.008702878781306628,-0.00847425941295329,-0.008070929837903905,-0.0076389524118944336,-0.006897595709239091,-0.00608804578099376,-0.005394540175107162,-0.004540792927605048,-0.0037908134086070576,-0.0028849106552710398,-0.002181764705863113,-0.0014121576472985067,-0.0005105381760003822,0.00029691987701249196,0.0011165251711481986,0.0019077345322871518,0.0024887272119032628,0.003342511820355906,0.003889005249426268,0.004215532730352937,0.004675826839100093,0.004936654414058803,0.005029448649859574,0.004792188925619818,0.004711169418763853,0.00422415932752568,0.0036363124286417853,0.0031808004971873006,0.0025475974369099015,0.0018823244430110752,0.0012111723273762513,0.00037186454823029565,-4.2626668359594796e-05,-0.0007538566588002136,-0.0012683099616922994,-0.0018578840483306613,-0.0023502924423044773,-0.002671740911596192,-0.0031430856368816914,-0.0034755340262059165,-0.003762928582222592,-0.004041205121275271,-0.004394860189671594,-0.004702948745347598,-0.004919250366495951,-0.005002733773322108,-0.0053730813759676555,-0.005487077045624268,-0.005487573919327168,-0.00579596463333628,-0.0058278006598849455,-0.005856002875926038,-0.006081220469851852,-0.0061224474525770995,-0.006435753018775875,-0.006313302293905004,-0.006531973447838479,-0.006477123236722094,-0.00662653195369825,-0.006649238140912733,-0.00665244054720637,-0.006666257886544274,-0.006692419268899086,-0.006840389121761357,-0.006923567887358945,-0.006900257441689142,-0.007115278947119048,-0.006944029207075497,-0.0070275066142707725,-0.007027221370542941,-0.007105161520694019,-0.006977040907129157,-0.00701320536189194,-0.006995145471689766,-0.006997695217178316,-0.007072067911791129,-0.007193659832485749,-0.00703486329656966,-0.0071136164508193685,-0.007170596506348413,-0.007007299245855802,-0.007054900789935209,-0.007033985362434102,-0.007033323666378966,-0.007050511746613604,-0.0070517807799730554,-0.00697385622073812,-0.007084982657769884,-0.00710693251750072,-0.00710255351194656,-0.007134788356186511],\"yaxis\":\"y\",\"type\":\"scatter\"}],                        {\"template\":{\"data\":{\"histogram2dcontour\":[{\"type\":\"histogram2dcontour\",\"colorbar\":{\"outlinewidth\":0,\"ticks\":\"\"},\"colorscale\":[[0.0,\"#0d0887\"],[0.1111111111111111,\"#46039f\"],[0.2222222222222222,\"#7201a8\"],[0.3333333333333333,\"#9c179e\"],[0.4444444444444444,\"#bd3786\"],[0.5555555555555556,\"#d8576b\"],[0.6666666666666666,\"#ed7953\"],[0.7777777777777778,\"#fb9f3a\"],[0.8888888888888888,\"#fdca26\"],[1.0,\"#f0f921\"]]}],\"choropleth\":[{\"type\":\"choropleth\",\"colorbar\":{\"outlinewidth\":0,\"ticks\":\"\"}}],\"histogram2d\":[{\"type\":\"histogram2d\",\"colorbar\":{\"outlinewidth\":0,\"ticks\":\"\"},\"colorscale\":[[0.0,\"#0d0887\"],[0.1111111111111111,\"#46039f\"],[0.2222222222222222,\"#7201a8\"],[0.3333333333333333,\"#9c179e\"],[0.4444444444444444,\"#bd3786\"],[0.5555555555555556,\"#d8576b\"],[0.6666666666666666,\"#ed7953\"],[0.7777777777777778,\"#fb9f3a\"],[0.8888888888888888,\"#fdca26\"],[1.0,\"#f0f921\"]]}],\"heatmap\":[{\"type\":\"heatmap\",\"colorbar\":{\"outlinewidth\":0,\"ticks\":\"\"},\"colorscale\":[[0.0,\"#0d0887\"],[0.1111111111111111,\"#46039f\"],[0.2222222222222222,\"#7201a8\"],[0.3333333333333333,\"#9c179e\"],[0.4444444444444444,\"#bd3786\"],[0.5555555555555556,\"#d8576b\"],[0.6666666666666666,\"#ed7953\"],[0.7777777777777778,\"#fb9f3a\"],[0.8888888888888888,\"#fdca26\"],[1.0,\"#f0f921\"]]}],\"heatmapgl\":[{\"type\":\"heatmapgl\",\"colorbar\":{\"outlinewidth\":0,\"ticks\":\"\"},\"colorscale\":[[0.0,\"#0d0887\"],[0.1111111111111111,\"#46039f\"],[0.2222222222222222,\"#7201a8\"],[0.3333333333333333,\"#9c179e\"],[0.4444444444444444,\"#bd3786\"],[0.5555555555555556,\"#d8576b\"],[0.6666666666666666,\"#ed7953\"],[0.7777777777777778,\"#fb9f3a\"],[0.8888888888888888,\"#fdca26\"],[1.0,\"#f0f921\"]]}],\"contourcarpet\":[{\"type\":\"contourcarpet\",\"colorbar\":{\"outlinewidth\":0,\"ticks\":\"\"}}],\"contour\":[{\"type\":\"contour\",\"colorbar\":{\"outlinewidth\":0,\"ticks\":\"\"},\"colorscale\":[[0.0,\"#0d0887\"],[0.1111111111111111,\"#46039f\"],[0.2222222222222222,\"#7201a8\"],[0.3333333333333333,\"#9c179e\"],[0.4444444444444444,\"#bd3786\"],[0.5555555555555556,\"#d8576b\"],[0.6666666666666666,\"#ed7953\"],[0.7777777777777778,\"#fb9f3a\"],[0.8888888888888888,\"#fdca26\"],[1.0,\"#f0f921\"]]}],\"surface\":[{\"type\":\"surface\",\"colorbar\":{\"outlinewidth\":0,\"ticks\":\"\"},\"colorscale\":[[0.0,\"#0d0887\"],[0.1111111111111111,\"#46039f\"],[0.2222222222222222,\"#7201a8\"],[0.3333333333333333,\"#9c179e\"],[0.4444444444444444,\"#bd3786\"],[0.5555555555555556,\"#d8576b\"],[0.6666666666666666,\"#ed7953\"],[0.7777777777777778,\"#fb9f3a\"],[0.8888888888888888,\"#fdca26\"],[1.0,\"#f0f921\"]]}],\"mesh3d\":[{\"type\":\"mesh3d\",\"colorbar\":{\"outlinewidth\":0,\"ticks\":\"\"}}],\"scatter\":[{\"marker\":{\"line\":{\"color\":\"#283442\"}},\"type\":\"scatter\"}],\"parcoords\":[{\"type\":\"parcoords\",\"line\":{\"colorbar\":{\"outlinewidth\":0,\"ticks\":\"\"}}}],\"scatterpolargl\":[{\"type\":\"scatterpolargl\",\"marker\":{\"colorbar\":{\"outlinewidth\":0,\"ticks\":\"\"}}}],\"bar\":[{\"error_x\":{\"color\":\"#f2f5fa\"},\"error_y\":{\"color\":\"#f2f5fa\"},\"marker\":{\"line\":{\"color\":\"rgb(17,17,17)\",\"width\":0.5},\"pattern\":{\"fillmode\":\"overlay\",\"size\":10,\"solidity\":0.2}},\"type\":\"bar\"}],\"scattergeo\":[{\"type\":\"scattergeo\",\"marker\":{\"colorbar\":{\"outlinewidth\":0,\"ticks\":\"\"}}}],\"scatterpolar\":[{\"type\":\"scatterpolar\",\"marker\":{\"colorbar\":{\"outlinewidth\":0,\"ticks\":\"\"}}}],\"histogram\":[{\"marker\":{\"pattern\":{\"fillmode\":\"overlay\",\"size\":10,\"solidity\":0.2}},\"type\":\"histogram\"}],\"scattergl\":[{\"marker\":{\"line\":{\"color\":\"#283442\"}},\"type\":\"scattergl\"}],\"scatter3d\":[{\"type\":\"scatter3d\",\"line\":{\"colorbar\":{\"outlinewidth\":0,\"ticks\":\"\"}},\"marker\":{\"colorbar\":{\"outlinewidth\":0,\"ticks\":\"\"}}}],\"scattermapbox\":[{\"type\":\"scattermapbox\",\"marker\":{\"colorbar\":{\"outlinewidth\":0,\"ticks\":\"\"}}}],\"scatterternary\":[{\"type\":\"scatterternary\",\"marker\":{\"colorbar\":{\"outlinewidth\":0,\"ticks\":\"\"}}}],\"scattercarpet\":[{\"type\":\"scattercarpet\",\"marker\":{\"colorbar\":{\"outlinewidth\":0,\"ticks\":\"\"}}}],\"carpet\":[{\"aaxis\":{\"endlinecolor\":\"#A2B1C6\",\"gridcolor\":\"#506784\",\"linecolor\":\"#506784\",\"minorgridcolor\":\"#506784\",\"startlinecolor\":\"#A2B1C6\"},\"baxis\":{\"endlinecolor\":\"#A2B1C6\",\"gridcolor\":\"#506784\",\"linecolor\":\"#506784\",\"minorgridcolor\":\"#506784\",\"startlinecolor\":\"#A2B1C6\"},\"type\":\"carpet\"}],\"table\":[{\"cells\":{\"fill\":{\"color\":\"#506784\"},\"line\":{\"color\":\"rgb(17,17,17)\"}},\"header\":{\"fill\":{\"color\":\"#2a3f5f\"},\"line\":{\"color\":\"rgb(17,17,17)\"}},\"type\":\"table\"}],\"barpolar\":[{\"marker\":{\"line\":{\"color\":\"rgb(17,17,17)\",\"width\":0.5},\"pattern\":{\"fillmode\":\"overlay\",\"size\":10,\"solidity\":0.2}},\"type\":\"barpolar\"}],\"pie\":[{\"automargin\":true,\"type\":\"pie\"}]},\"layout\":{\"autotypenumbers\":\"strict\",\"colorway\":[\"#636efa\",\"#EF553B\",\"#00cc96\",\"#ab63fa\",\"#FFA15A\",\"#19d3f3\",\"#FF6692\",\"#B6E880\",\"#FF97FF\",\"#FECB52\"],\"font\":{\"color\":\"#f2f5fa\"},\"hovermode\":\"closest\",\"hoverlabel\":{\"align\":\"left\"},\"paper_bgcolor\":\"rgb(17,17,17)\",\"plot_bgcolor\":\"rgb(17,17,17)\",\"polar\":{\"bgcolor\":\"rgb(17,17,17)\",\"angularaxis\":{\"gridcolor\":\"#506784\",\"linecolor\":\"#506784\",\"ticks\":\"\"},\"radialaxis\":{\"gridcolor\":\"#506784\",\"linecolor\":\"#506784\",\"ticks\":\"\"}},\"ternary\":{\"bgcolor\":\"rgb(17,17,17)\",\"aaxis\":{\"gridcolor\":\"#506784\",\"linecolor\":\"#506784\",\"ticks\":\"\"},\"baxis\":{\"gridcolor\":\"#506784\",\"linecolor\":\"#506784\",\"ticks\":\"\"},\"caxis\":{\"gridcolor\":\"#506784\",\"linecolor\":\"#506784\",\"ticks\":\"\"}},\"coloraxis\":{\"colorbar\":{\"outlinewidth\":0,\"ticks\":\"\"}},\"colorscale\":{\"sequential\":[[0.0,\"#0d0887\"],[0.1111111111111111,\"#46039f\"],[0.2222222222222222,\"#7201a8\"],[0.3333333333333333,\"#9c179e\"],[0.4444444444444444,\"#bd3786\"],[0.5555555555555556,\"#d8576b\"],[0.6666666666666666,\"#ed7953\"],[0.7777777777777778,\"#fb9f3a\"],[0.8888888888888888,\"#fdca26\"],[1.0,\"#f0f921\"]],\"sequentialminus\":[[0.0,\"#0d0887\"],[0.1111111111111111,\"#46039f\"],[0.2222222222222222,\"#7201a8\"],[0.3333333333333333,\"#9c179e\"],[0.4444444444444444,\"#bd3786\"],[0.5555555555555556,\"#d8576b\"],[0.6666666666666666,\"#ed7953\"],[0.7777777777777778,\"#fb9f3a\"],[0.8888888888888888,\"#fdca26\"],[1.0,\"#f0f921\"]],\"diverging\":[[0,\"#8e0152\"],[0.1,\"#c51b7d\"],[0.2,\"#de77ae\"],[0.3,\"#f1b6da\"],[0.4,\"#fde0ef\"],[0.5,\"#f7f7f7\"],[0.6,\"#e6f5d0\"],[0.7,\"#b8e186\"],[0.8,\"#7fbc41\"],[0.9,\"#4d9221\"],[1,\"#276419\"]]},\"xaxis\":{\"gridcolor\":\"#283442\",\"linecolor\":\"#506784\",\"ticks\":\"\",\"title\":{\"standoff\":15},\"zerolinecolor\":\"#283442\",\"automargin\":true,\"zerolinewidth\":2},\"yaxis\":{\"gridcolor\":\"#283442\",\"linecolor\":\"#506784\",\"ticks\":\"\",\"title\":{\"standoff\":15},\"zerolinecolor\":\"#283442\",\"automargin\":true,\"zerolinewidth\":2},\"scene\":{\"xaxis\":{\"backgroundcolor\":\"rgb(17,17,17)\",\"gridcolor\":\"#506784\",\"linecolor\":\"#506784\",\"showbackground\":true,\"ticks\":\"\",\"zerolinecolor\":\"#C8D4E3\",\"gridwidth\":2},\"yaxis\":{\"backgroundcolor\":\"rgb(17,17,17)\",\"gridcolor\":\"#506784\",\"linecolor\":\"#506784\",\"showbackground\":true,\"ticks\":\"\",\"zerolinecolor\":\"#C8D4E3\",\"gridwidth\":2},\"zaxis\":{\"backgroundcolor\":\"rgb(17,17,17)\",\"gridcolor\":\"#506784\",\"linecolor\":\"#506784\",\"showbackground\":true,\"ticks\":\"\",\"zerolinecolor\":\"#C8D4E3\",\"gridwidth\":2}},\"shapedefaults\":{\"line\":{\"color\":\"#f2f5fa\"}},\"annotationdefaults\":{\"arrowcolor\":\"#f2f5fa\",\"arrowhead\":0,\"arrowwidth\":1},\"geo\":{\"bgcolor\":\"rgb(17,17,17)\",\"landcolor\":\"rgb(17,17,17)\",\"subunitcolor\":\"#506784\",\"showland\":true,\"showlakes\":true,\"lakecolor\":\"rgb(17,17,17)\"},\"title\":{\"x\":0.05},\"updatemenudefaults\":{\"bgcolor\":\"#506784\",\"borderwidth\":0},\"sliderdefaults\":{\"bgcolor\":\"#C8D4E3\",\"borderwidth\":1,\"bordercolor\":\"rgb(17,17,17)\",\"tickwidth\":0},\"mapbox\":{\"style\":\"dark\"}}},\"xaxis\":{\"anchor\":\"y\",\"domain\":[0.0,1.0],\"title\":{\"text\":\"x\"}},\"yaxis\":{\"anchor\":\"x\",\"domain\":[0.0,1.0],\"title\":{\"text\":\"y\"}},\"legend\":{\"tracegroupgap\":0},\"margin\":{\"t\":60}},                        {\"responsive\": true}                    ).then(function(){\n                            \nvar gd = document.getElementById('082c38d2-7d8b-4fa7-984a-3b2e976e8a4a');\nvar x = new MutationObserver(function (mutations, observer) {{\n        var display = window.getComputedStyle(gd).display;\n        if (!display || display === 'none') {{\n            console.log([gd, 'removed!']);\n            Plotly.purge(gd);\n            observer.disconnect();\n        }}\n}});\n\n// Listen for the removal of the full notebook cells\nvar notebookContainer = gd.closest('#notebook-container');\nif (notebookContainer) {{\n    x.observe(notebookContainer, {childList: true});\n}}\n\n// Listen for the clearing of the current output cell\nvar outputEl = gd.closest('.output');\nif (outputEl) {{\n    x.observe(outputEl, {childList: true});\n}}\n\n                        })                };                });            </script>        </div>"
     },
     "metadata": {},
     "output_type": "display_data"
    },
    {
     "data": {
      "application/vnd.plotly.v1+json": {
       "data": [
        {
         "hovertemplate": "x=%{x}<br>y=%{y}<extra></extra>",
         "legendgroup": "",
         "line": {
          "color": "#636efa",
          "dash": "solid"
         },
         "marker": {
          "symbol": "circle"
         },
         "mode": "lines",
         "name": "",
         "orientation": "v",
         "showlegend": false,
         "x": [
          1489.670166015625,
          1488.5650634765625,
          1487.459716796875,
          1486.354248046875,
          1485.24853515625,
          1484.142578125,
          1483.0364990234375,
          1481.93017578125,
          1480.8236083984375,
          1479.7169189453125,
          1478.6099853515625,
          1477.5028076171875,
          1476.3955078125,
          1475.2879638671875,
          1474.1802978515625,
          1473.0723876953125,
          1471.9642333984375,
          1470.8558349609375,
          1469.747314453125,
          1468.638671875,
          1467.5296630859375,
          1466.4205322265625,
          1465.311279296875,
          1464.20166015625,
          1463.0919189453125,
          1461.9820556640625,
          1460.8719482421875,
          1459.7615966796875,
          1458.6510009765625,
          1457.540283203125,
          1456.4293212890625,
          1455.3182373046875,
          1454.2069091796875,
          1453.0953369140625,
          1451.983642578125,
          1450.8717041015625,
          1449.759521484375,
          1448.647216796875,
          1447.53466796875,
          1446.421875,
          1445.3089599609375,
          1444.19580078125,
          1443.0823974609375,
          1441.9688720703125,
          1440.8551025390625,
          1439.7410888671875,
          1438.626953125,
          1437.5125732421875,
          1436.3980712890625,
          1435.2833251953125,
          1434.1683349609375,
          1433.0531005859375,
          1431.937744140625,
          1430.8221435546875,
          1429.7064208984375,
          1428.5904541015625,
          1427.4742431640625,
          1426.35791015625,
          1425.2412109375,
          1424.12451171875,
          1423.0074462890625,
          1421.8902587890625,
          1420.7728271484375,
          1419.6552734375,
          1418.5374755859375,
          1417.41943359375,
          1416.30126953125,
          1415.182861328125,
          1414.064208984375,
          1412.9454345703125,
          1411.826416015625,
          1410.7071533203125,
          1409.587646484375,
          1408.468017578125,
          1407.3482666015625,
          1406.2281494140625,
          1405.10791015625,
          1403.9874267578125,
          1402.8668212890625,
          1401.7459716796875,
          1400.6248779296875,
          1399.503662109375,
          1398.3822021484375,
          1397.260498046875,
          1396.1385498046875,
          1395.0164794921875,
          1393.894287109375,
          1392.771728515625,
          1391.6490478515625,
          1390.526123046875,
          1389.403076171875,
          1388.2796630859375,
          1387.15625,
          1386.032470703125,
          1384.9085693359375,
          1383.784423828125,
          1382.6600341796875,
          1381.5355224609375,
          1380.4107666015625,
          1379.2857666015625,
          1378.16064453125,
          1377.0352783203125,
          1375.90966796875,
          1374.783935546875,
          1373.657958984375,
          1372.53173828125,
          1371.4053955078125,
          1370.27880859375,
          1369.1519775390625,
          1368.02490234375,
          1366.897705078125,
          1365.770263671875,
          1364.6427001953125,
          1363.5147705078125,
          1362.38671875,
          1361.258544921875,
          1360.1300048828125,
          1359.0013427734375,
          1357.87255859375,
          1356.743408203125,
          1355.6141357421875,
          1354.484619140625,
          1353.35498046875,
          1352.22509765625,
          1351.094970703125,
          1349.964599609375,
          1348.8341064453125,
          1347.703369140625,
          1346.5723876953125,
          1345.441162109375,
          1344.309814453125,
          1343.17822265625,
          1342.0465087890625,
          1340.91455078125,
          1339.7823486328125,
          1338.64990234375,
          1337.517333984375,
          1336.384521484375,
          1335.25146484375,
          1334.1181640625,
          1332.9847412109375,
          1331.85107421875,
          1330.7171630859375,
          1329.5831298828125,
          1328.4488525390625,
          1327.3143310546875,
          1326.1796875,
          1325.0447998046875,
          1323.90966796875,
          1322.7742919921875,
          1321.6387939453125,
          1320.5029296875,
          1319.3670654296875,
          1318.2308349609375,
          1317.094482421875,
          1315.9578857421875,
          1314.821044921875,
          1313.68408203125,
          1312.546875,
          1311.409423828125,
          1310.271728515625,
          1309.1339111328125,
          1307.995849609375,
          1306.8575439453125,
          1305.718994140625,
          1304.580322265625,
          1303.44140625,
          1302.3023681640625,
          1301.1629638671875,
          1300.0234375,
          1298.8836669921875,
          1297.74365234375,
          1296.603515625,
          1295.463134765625,
          1294.322509765625,
          1293.181640625,
          1292.0406494140625,
          1290.8994140625,
          1289.7579345703125,
          1288.6163330078125,
          1287.474365234375,
          1286.332275390625,
          1285.1900634765625,
          1284.0474853515625,
          1282.90478515625,
          1281.7618408203125,
          1280.61865234375,
          1279.475341796875,
          1278.3316650390625,
          1277.1878662109375,
          1276.0439453125,
          1274.899658203125,
          1273.7552490234375,
          1272.610595703125,
          1271.4656982421875,
          1270.3206787109375,
          1269.17529296875,
          1268.02978515625,
          1266.8841552734375
         ],
         "xaxis": "x",
         "y": [
          0.008401678690260397,
          0.008391141110590238,
          0.008206141920010976,
          0.008328031705564816,
          0.008411024481662348,
          0.008249400275351574,
          0.008229754035205839,
          0.0081981209846648,
          0.008259017484203806,
          0.00826143599909837,
          0.008268656634461875,
          0.008183619559283409,
          0.008258476797560156,
          0.008066166213037556,
          0.00823313823985475,
          0.008053088655790902,
          0.008134363029859395,
          0.008113841979989968,
          0.008134037987762724,
          0.00821492106133777,
          0.008215206251325513,
          0.00810787894653277,
          0.008187403192660021,
          0.008158262301454949,
          0.008076510722555172,
          0.008160553684671763,
          0.008106380059697197,
          0.00819702872699152,
          0.008267344077956517,
          0.00818535949651253,
          0.008182770004833431,
          0.008150480172188269,
          0.008164784955568148,
          0.008194066580786563,
          0.008270320263742786,
          0.008257031483027977,
          0.008272356032849492,
          0.00825325385401509,
          0.008242277019914125,
          0.008157166485031633,
          0.00839805970747844,
          0.00827492619305813,
          0.008429164632353388,
          0.008334294654200165,
          0.008361031230321815,
          0.008326571428349715,
          0.008384339818307395,
          0.008502640098467573,
          0.008564117572714375,
          0.008673355567113688,
          0.008637526331235816,
          0.008599500952314506,
          0.008694668811070439,
          0.008653242320016442,
          0.008719061252094337,
          0.008765511166721876,
          0.008804772663489141,
          0.008690215649657601,
          0.008647636387164386,
          0.008920756094066375,
          0.008923327655351898,
          0.00900046644513058,
          0.008940346570038065,
          0.009035983985544081,
          0.00921236827891313,
          0.00902574278055802,
          0.009172870164382842,
          0.009215970736124313,
          0.009247050679365619,
          0.009302391412407624,
          0.009396974631498304,
          0.009440556006059189,
          0.009601933360628135,
          0.009675722999148696,
          0.009704207052819089,
          0.009811363172865862,
          0.010021295035285796,
          0.010137950178963082,
          0.010195218070651314,
          0.010389070557202616,
          0.010475353220874827,
          0.010402570253635755,
          0.010442668883635325,
          0.010616765942736906,
          0.010804732295067,
          0.011325079450757556,
          0.01272121265737036,
          0.012419390192198121,
          0.012234208034488681,
          0.013822429833449619,
          0.014427907742570825,
          0.014291932045823129,
          0.014582039260087236,
          0.015284734192047737,
          0.01577077102815968,
          0.01687099441815388,
          0.0179472277540638,
          0.019152314260279062,
          0.020662653690119447,
          0.021873074228715848,
          0.023572464398046982,
          0.025565022702589615,
          0.027732998123033887,
          0.03011729970842441,
          0.032702035505885296,
          0.03498152462082228,
          0.0372459472956253,
          0.03876492922714043,
          0.03963203503432238,
          0.039856269196388,
          0.039221567235856375,
          0.0378080525022222,
          0.035889914116532466,
          0.033461456352685506,
          0.03101516408289506,
          0.028523033236228026,
          0.026357511081131463,
          0.024339996723283564,
          0.022388523215877743,
          0.02078209986410833,
          0.019345685213183857,
          0.01791479137024129,
          0.016594249624206924,
          0.015633740277974567,
          0.01460144892700391,
          0.013666661364248895,
          0.012879352814299456,
          0.012081319366086526,
          0.011507485813073415,
          0.011006818763903083,
          0.010613468532901238,
          0.009954456179650305,
          0.00966184733685152,
          0.00935072149011172,
          0.009005285729581742,
          0.008901267950669967,
          0.008846545205635015,
          0.008619379527024854,
          0.008566385915768018,
          0.00837236428255514,
          0.008492357899427276,
          0.008322223651484972,
          0.008344277992139701,
          0.008342579479312719,
          0.008446740388077311,
          0.008360825087533963,
          0.008348472422571085,
          0.008210449273252944,
          0.008252761309295368,
          0.008103435931318771,
          0.008177525663056679,
          0.008050764832660746,
          0.008059882911531455,
          0.008012566617522459,
          0.008049372684558154,
          0.007928312205005518,
          0.007955850539742045,
          0.007995347903679641,
          0.00796603853897949,
          0.007846320999409155,
          0.007908738814594423,
          0.008019268653684209,
          0.007982260364916295,
          0.007913107076825777,
          0.008005154394722692,
          0.00794862953028832,
          0.007908054807784367,
          0.00787335301706362,
          0.007840803499093479,
          0.007822433775188172,
          0.007885207312507591,
          0.007889142251676017,
          0.007727381106473095,
          0.007702754755198162,
          0.0077163421094569315,
          0.007819717110283855,
          0.007780709591792482,
          0.007638568584832491,
          0.007706933118937548,
          0.007699120129947141,
          0.007549317048905621,
          0.007506344089336539,
          0.007509511221009756,
          0.00742332836487707,
          0.00745906867886799,
          0.007385369574352055,
          0.007506409236611232,
          0.007400942204566526,
          0.007538438189465162,
          0.007432804558520753,
          0.007332855745548732,
          0.007389136983252403,
          0.007393112573591013,
          0.007247591276162754,
          0.007267222981802591,
          0.007160398210113902,
          0.007300255501388964,
          0.007182786395087247,
          0.007133426272840553
         ],
         "yaxis": "y",
         "type": "scatter"
        }
       ],
       "layout": {
        "template": {
         "data": {
          "histogram2dcontour": [
           {
            "type": "histogram2dcontour",
            "colorbar": {
             "outlinewidth": 0,
             "ticks": ""
            },
            "colorscale": [
             [
              0.0,
              "#0d0887"
             ],
             [
              0.1111111111111111,
              "#46039f"
             ],
             [
              0.2222222222222222,
              "#7201a8"
             ],
             [
              0.3333333333333333,
              "#9c179e"
             ],
             [
              0.4444444444444444,
              "#bd3786"
             ],
             [
              0.5555555555555556,
              "#d8576b"
             ],
             [
              0.6666666666666666,
              "#ed7953"
             ],
             [
              0.7777777777777778,
              "#fb9f3a"
             ],
             [
              0.8888888888888888,
              "#fdca26"
             ],
             [
              1.0,
              "#f0f921"
             ]
            ]
           }
          ],
          "choropleth": [
           {
            "type": "choropleth",
            "colorbar": {
             "outlinewidth": 0,
             "ticks": ""
            }
           }
          ],
          "histogram2d": [
           {
            "type": "histogram2d",
            "colorbar": {
             "outlinewidth": 0,
             "ticks": ""
            },
            "colorscale": [
             [
              0.0,
              "#0d0887"
             ],
             [
              0.1111111111111111,
              "#46039f"
             ],
             [
              0.2222222222222222,
              "#7201a8"
             ],
             [
              0.3333333333333333,
              "#9c179e"
             ],
             [
              0.4444444444444444,
              "#bd3786"
             ],
             [
              0.5555555555555556,
              "#d8576b"
             ],
             [
              0.6666666666666666,
              "#ed7953"
             ],
             [
              0.7777777777777778,
              "#fb9f3a"
             ],
             [
              0.8888888888888888,
              "#fdca26"
             ],
             [
              1.0,
              "#f0f921"
             ]
            ]
           }
          ],
          "heatmap": [
           {
            "type": "heatmap",
            "colorbar": {
             "outlinewidth": 0,
             "ticks": ""
            },
            "colorscale": [
             [
              0.0,
              "#0d0887"
             ],
             [
              0.1111111111111111,
              "#46039f"
             ],
             [
              0.2222222222222222,
              "#7201a8"
             ],
             [
              0.3333333333333333,
              "#9c179e"
             ],
             [
              0.4444444444444444,
              "#bd3786"
             ],
             [
              0.5555555555555556,
              "#d8576b"
             ],
             [
              0.6666666666666666,
              "#ed7953"
             ],
             [
              0.7777777777777778,
              "#fb9f3a"
             ],
             [
              0.8888888888888888,
              "#fdca26"
             ],
             [
              1.0,
              "#f0f921"
             ]
            ]
           }
          ],
          "heatmapgl": [
           {
            "type": "heatmapgl",
            "colorbar": {
             "outlinewidth": 0,
             "ticks": ""
            },
            "colorscale": [
             [
              0.0,
              "#0d0887"
             ],
             [
              0.1111111111111111,
              "#46039f"
             ],
             [
              0.2222222222222222,
              "#7201a8"
             ],
             [
              0.3333333333333333,
              "#9c179e"
             ],
             [
              0.4444444444444444,
              "#bd3786"
             ],
             [
              0.5555555555555556,
              "#d8576b"
             ],
             [
              0.6666666666666666,
              "#ed7953"
             ],
             [
              0.7777777777777778,
              "#fb9f3a"
             ],
             [
              0.8888888888888888,
              "#fdca26"
             ],
             [
              1.0,
              "#f0f921"
             ]
            ]
           }
          ],
          "contourcarpet": [
           {
            "type": "contourcarpet",
            "colorbar": {
             "outlinewidth": 0,
             "ticks": ""
            }
           }
          ],
          "contour": [
           {
            "type": "contour",
            "colorbar": {
             "outlinewidth": 0,
             "ticks": ""
            },
            "colorscale": [
             [
              0.0,
              "#0d0887"
             ],
             [
              0.1111111111111111,
              "#46039f"
             ],
             [
              0.2222222222222222,
              "#7201a8"
             ],
             [
              0.3333333333333333,
              "#9c179e"
             ],
             [
              0.4444444444444444,
              "#bd3786"
             ],
             [
              0.5555555555555556,
              "#d8576b"
             ],
             [
              0.6666666666666666,
              "#ed7953"
             ],
             [
              0.7777777777777778,
              "#fb9f3a"
             ],
             [
              0.8888888888888888,
              "#fdca26"
             ],
             [
              1.0,
              "#f0f921"
             ]
            ]
           }
          ],
          "surface": [
           {
            "type": "surface",
            "colorbar": {
             "outlinewidth": 0,
             "ticks": ""
            },
            "colorscale": [
             [
              0.0,
              "#0d0887"
             ],
             [
              0.1111111111111111,
              "#46039f"
             ],
             [
              0.2222222222222222,
              "#7201a8"
             ],
             [
              0.3333333333333333,
              "#9c179e"
             ],
             [
              0.4444444444444444,
              "#bd3786"
             ],
             [
              0.5555555555555556,
              "#d8576b"
             ],
             [
              0.6666666666666666,
              "#ed7953"
             ],
             [
              0.7777777777777778,
              "#fb9f3a"
             ],
             [
              0.8888888888888888,
              "#fdca26"
             ],
             [
              1.0,
              "#f0f921"
             ]
            ]
           }
          ],
          "mesh3d": [
           {
            "type": "mesh3d",
            "colorbar": {
             "outlinewidth": 0,
             "ticks": ""
            }
           }
          ],
          "scatter": [
           {
            "marker": {
             "line": {
              "color": "#283442"
             }
            },
            "type": "scatter"
           }
          ],
          "parcoords": [
           {
            "type": "parcoords",
            "line": {
             "colorbar": {
              "outlinewidth": 0,
              "ticks": ""
             }
            }
           }
          ],
          "scatterpolargl": [
           {
            "type": "scatterpolargl",
            "marker": {
             "colorbar": {
              "outlinewidth": 0,
              "ticks": ""
             }
            }
           }
          ],
          "bar": [
           {
            "error_x": {
             "color": "#f2f5fa"
            },
            "error_y": {
             "color": "#f2f5fa"
            },
            "marker": {
             "line": {
              "color": "rgb(17,17,17)",
              "width": 0.5
             },
             "pattern": {
              "fillmode": "overlay",
              "size": 10,
              "solidity": 0.2
             }
            },
            "type": "bar"
           }
          ],
          "scattergeo": [
           {
            "type": "scattergeo",
            "marker": {
             "colorbar": {
              "outlinewidth": 0,
              "ticks": ""
             }
            }
           }
          ],
          "scatterpolar": [
           {
            "type": "scatterpolar",
            "marker": {
             "colorbar": {
              "outlinewidth": 0,
              "ticks": ""
             }
            }
           }
          ],
          "histogram": [
           {
            "marker": {
             "pattern": {
              "fillmode": "overlay",
              "size": 10,
              "solidity": 0.2
             }
            },
            "type": "histogram"
           }
          ],
          "scattergl": [
           {
            "marker": {
             "line": {
              "color": "#283442"
             }
            },
            "type": "scattergl"
           }
          ],
          "scatter3d": [
           {
            "type": "scatter3d",
            "line": {
             "colorbar": {
              "outlinewidth": 0,
              "ticks": ""
             }
            },
            "marker": {
             "colorbar": {
              "outlinewidth": 0,
              "ticks": ""
             }
            }
           }
          ],
          "scattermapbox": [
           {
            "type": "scattermapbox",
            "marker": {
             "colorbar": {
              "outlinewidth": 0,
              "ticks": ""
             }
            }
           }
          ],
          "scatterternary": [
           {
            "type": "scatterternary",
            "marker": {
             "colorbar": {
              "outlinewidth": 0,
              "ticks": ""
             }
            }
           }
          ],
          "scattercarpet": [
           {
            "type": "scattercarpet",
            "marker": {
             "colorbar": {
              "outlinewidth": 0,
              "ticks": ""
             }
            }
           }
          ],
          "carpet": [
           {
            "aaxis": {
             "endlinecolor": "#A2B1C6",
             "gridcolor": "#506784",
             "linecolor": "#506784",
             "minorgridcolor": "#506784",
             "startlinecolor": "#A2B1C6"
            },
            "baxis": {
             "endlinecolor": "#A2B1C6",
             "gridcolor": "#506784",
             "linecolor": "#506784",
             "minorgridcolor": "#506784",
             "startlinecolor": "#A2B1C6"
            },
            "type": "carpet"
           }
          ],
          "table": [
           {
            "cells": {
             "fill": {
              "color": "#506784"
             },
             "line": {
              "color": "rgb(17,17,17)"
             }
            },
            "header": {
             "fill": {
              "color": "#2a3f5f"
             },
             "line": {
              "color": "rgb(17,17,17)"
             }
            },
            "type": "table"
           }
          ],
          "barpolar": [
           {
            "marker": {
             "line": {
              "color": "rgb(17,17,17)",
              "width": 0.5
             },
             "pattern": {
              "fillmode": "overlay",
              "size": 10,
              "solidity": 0.2
             }
            },
            "type": "barpolar"
           }
          ],
          "pie": [
           {
            "automargin": true,
            "type": "pie"
           }
          ]
         },
         "layout": {
          "autotypenumbers": "strict",
          "colorway": [
           "#636efa",
           "#EF553B",
           "#00cc96",
           "#ab63fa",
           "#FFA15A",
           "#19d3f3",
           "#FF6692",
           "#B6E880",
           "#FF97FF",
           "#FECB52"
          ],
          "font": {
           "color": "#f2f5fa"
          },
          "hovermode": "closest",
          "hoverlabel": {
           "align": "left"
          },
          "paper_bgcolor": "rgb(17,17,17)",
          "plot_bgcolor": "rgb(17,17,17)",
          "polar": {
           "bgcolor": "rgb(17,17,17)",
           "angularaxis": {
            "gridcolor": "#506784",
            "linecolor": "#506784",
            "ticks": ""
           },
           "radialaxis": {
            "gridcolor": "#506784",
            "linecolor": "#506784",
            "ticks": ""
           }
          },
          "ternary": {
           "bgcolor": "rgb(17,17,17)",
           "aaxis": {
            "gridcolor": "#506784",
            "linecolor": "#506784",
            "ticks": ""
           },
           "baxis": {
            "gridcolor": "#506784",
            "linecolor": "#506784",
            "ticks": ""
           },
           "caxis": {
            "gridcolor": "#506784",
            "linecolor": "#506784",
            "ticks": ""
           }
          },
          "coloraxis": {
           "colorbar": {
            "outlinewidth": 0,
            "ticks": ""
           }
          },
          "colorscale": {
           "sequential": [
            [
             0.0,
             "#0d0887"
            ],
            [
             0.1111111111111111,
             "#46039f"
            ],
            [
             0.2222222222222222,
             "#7201a8"
            ],
            [
             0.3333333333333333,
             "#9c179e"
            ],
            [
             0.4444444444444444,
             "#bd3786"
            ],
            [
             0.5555555555555556,
             "#d8576b"
            ],
            [
             0.6666666666666666,
             "#ed7953"
            ],
            [
             0.7777777777777778,
             "#fb9f3a"
            ],
            [
             0.8888888888888888,
             "#fdca26"
            ],
            [
             1.0,
             "#f0f921"
            ]
           ],
           "sequentialminus": [
            [
             0.0,
             "#0d0887"
            ],
            [
             0.1111111111111111,
             "#46039f"
            ],
            [
             0.2222222222222222,
             "#7201a8"
            ],
            [
             0.3333333333333333,
             "#9c179e"
            ],
            [
             0.4444444444444444,
             "#bd3786"
            ],
            [
             0.5555555555555556,
             "#d8576b"
            ],
            [
             0.6666666666666666,
             "#ed7953"
            ],
            [
             0.7777777777777778,
             "#fb9f3a"
            ],
            [
             0.8888888888888888,
             "#fdca26"
            ],
            [
             1.0,
             "#f0f921"
            ]
           ],
           "diverging": [
            [
             0,
             "#8e0152"
            ],
            [
             0.1,
             "#c51b7d"
            ],
            [
             0.2,
             "#de77ae"
            ],
            [
             0.3,
             "#f1b6da"
            ],
            [
             0.4,
             "#fde0ef"
            ],
            [
             0.5,
             "#f7f7f7"
            ],
            [
             0.6,
             "#e6f5d0"
            ],
            [
             0.7,
             "#b8e186"
            ],
            [
             0.8,
             "#7fbc41"
            ],
            [
             0.9,
             "#4d9221"
            ],
            [
             1,
             "#276419"
            ]
           ]
          },
          "xaxis": {
           "gridcolor": "#283442",
           "linecolor": "#506784",
           "ticks": "",
           "title": {
            "standoff": 15
           },
           "zerolinecolor": "#283442",
           "automargin": true,
           "zerolinewidth": 2
          },
          "yaxis": {
           "gridcolor": "#283442",
           "linecolor": "#506784",
           "ticks": "",
           "title": {
            "standoff": 15
           },
           "zerolinecolor": "#283442",
           "automargin": true,
           "zerolinewidth": 2
          },
          "scene": {
           "xaxis": {
            "backgroundcolor": "rgb(17,17,17)",
            "gridcolor": "#506784",
            "linecolor": "#506784",
            "showbackground": true,
            "ticks": "",
            "zerolinecolor": "#C8D4E3",
            "gridwidth": 2
           },
           "yaxis": {
            "backgroundcolor": "rgb(17,17,17)",
            "gridcolor": "#506784",
            "linecolor": "#506784",
            "showbackground": true,
            "ticks": "",
            "zerolinecolor": "#C8D4E3",
            "gridwidth": 2
           },
           "zaxis": {
            "backgroundcolor": "rgb(17,17,17)",
            "gridcolor": "#506784",
            "linecolor": "#506784",
            "showbackground": true,
            "ticks": "",
            "zerolinecolor": "#C8D4E3",
            "gridwidth": 2
           }
          },
          "shapedefaults": {
           "line": {
            "color": "#f2f5fa"
           }
          },
          "annotationdefaults": {
           "arrowcolor": "#f2f5fa",
           "arrowhead": 0,
           "arrowwidth": 1
          },
          "geo": {
           "bgcolor": "rgb(17,17,17)",
           "landcolor": "rgb(17,17,17)",
           "subunitcolor": "#506784",
           "showland": true,
           "showlakes": true,
           "lakecolor": "rgb(17,17,17)"
          },
          "title": {
           "x": 0.05
          },
          "updatemenudefaults": {
           "bgcolor": "#506784",
           "borderwidth": 0
          },
          "sliderdefaults": {
           "bgcolor": "#C8D4E3",
           "borderwidth": 1,
           "bordercolor": "rgb(17,17,17)",
           "tickwidth": 0
          },
          "mapbox": {
           "style": "dark"
          }
         }
        },
        "xaxis": {
         "anchor": "y",
         "domain": [
          0.0,
          1.0
         ],
         "title": {
          "text": "x"
         }
        },
        "yaxis": {
         "anchor": "x",
         "domain": [
          0.0,
          1.0
         ],
         "title": {
          "text": "y"
         }
        },
        "legend": {
         "tracegroupgap": 0
        },
        "margin": {
         "t": 60
        }
       },
       "config": {
        "plotlyServerURL": "https://plot.ly"
       }
      },
      "text/html": "<div>                            <div id=\"62225a8c-ded3-49f2-9845-9cbb4af5fd4e\" class=\"plotly-graph-div\" style=\"height:525px; width:100%;\"></div>            <script type=\"text/javascript\">                require([\"plotly\"], function(Plotly) {                    window.PLOTLYENV=window.PLOTLYENV || {};                                    if (document.getElementById(\"62225a8c-ded3-49f2-9845-9cbb4af5fd4e\")) {                    Plotly.newPlot(                        \"62225a8c-ded3-49f2-9845-9cbb4af5fd4e\",                        [{\"hovertemplate\":\"x=%{x}\\u003cbr\\u003ey=%{y}\\u003cextra\\u003e\\u003c\\u002fextra\\u003e\",\"legendgroup\":\"\",\"line\":{\"color\":\"#636efa\",\"dash\":\"solid\"},\"marker\":{\"symbol\":\"circle\"},\"mode\":\"lines\",\"name\":\"\",\"orientation\":\"v\",\"showlegend\":false,\"x\":[1489.670166015625,1488.5650634765625,1487.459716796875,1486.354248046875,1485.24853515625,1484.142578125,1483.0364990234375,1481.93017578125,1480.8236083984375,1479.7169189453125,1478.6099853515625,1477.5028076171875,1476.3955078125,1475.2879638671875,1474.1802978515625,1473.0723876953125,1471.9642333984375,1470.8558349609375,1469.747314453125,1468.638671875,1467.5296630859375,1466.4205322265625,1465.311279296875,1464.20166015625,1463.0919189453125,1461.9820556640625,1460.8719482421875,1459.7615966796875,1458.6510009765625,1457.540283203125,1456.4293212890625,1455.3182373046875,1454.2069091796875,1453.0953369140625,1451.983642578125,1450.8717041015625,1449.759521484375,1448.647216796875,1447.53466796875,1446.421875,1445.3089599609375,1444.19580078125,1443.0823974609375,1441.9688720703125,1440.8551025390625,1439.7410888671875,1438.626953125,1437.5125732421875,1436.3980712890625,1435.2833251953125,1434.1683349609375,1433.0531005859375,1431.937744140625,1430.8221435546875,1429.7064208984375,1428.5904541015625,1427.4742431640625,1426.35791015625,1425.2412109375,1424.12451171875,1423.0074462890625,1421.8902587890625,1420.7728271484375,1419.6552734375,1418.5374755859375,1417.41943359375,1416.30126953125,1415.182861328125,1414.064208984375,1412.9454345703125,1411.826416015625,1410.7071533203125,1409.587646484375,1408.468017578125,1407.3482666015625,1406.2281494140625,1405.10791015625,1403.9874267578125,1402.8668212890625,1401.7459716796875,1400.6248779296875,1399.503662109375,1398.3822021484375,1397.260498046875,1396.1385498046875,1395.0164794921875,1393.894287109375,1392.771728515625,1391.6490478515625,1390.526123046875,1389.403076171875,1388.2796630859375,1387.15625,1386.032470703125,1384.9085693359375,1383.784423828125,1382.6600341796875,1381.5355224609375,1380.4107666015625,1379.2857666015625,1378.16064453125,1377.0352783203125,1375.90966796875,1374.783935546875,1373.657958984375,1372.53173828125,1371.4053955078125,1370.27880859375,1369.1519775390625,1368.02490234375,1366.897705078125,1365.770263671875,1364.6427001953125,1363.5147705078125,1362.38671875,1361.258544921875,1360.1300048828125,1359.0013427734375,1357.87255859375,1356.743408203125,1355.6141357421875,1354.484619140625,1353.35498046875,1352.22509765625,1351.094970703125,1349.964599609375,1348.8341064453125,1347.703369140625,1346.5723876953125,1345.441162109375,1344.309814453125,1343.17822265625,1342.0465087890625,1340.91455078125,1339.7823486328125,1338.64990234375,1337.517333984375,1336.384521484375,1335.25146484375,1334.1181640625,1332.9847412109375,1331.85107421875,1330.7171630859375,1329.5831298828125,1328.4488525390625,1327.3143310546875,1326.1796875,1325.0447998046875,1323.90966796875,1322.7742919921875,1321.6387939453125,1320.5029296875,1319.3670654296875,1318.2308349609375,1317.094482421875,1315.9578857421875,1314.821044921875,1313.68408203125,1312.546875,1311.409423828125,1310.271728515625,1309.1339111328125,1307.995849609375,1306.8575439453125,1305.718994140625,1304.580322265625,1303.44140625,1302.3023681640625,1301.1629638671875,1300.0234375,1298.8836669921875,1297.74365234375,1296.603515625,1295.463134765625,1294.322509765625,1293.181640625,1292.0406494140625,1290.8994140625,1289.7579345703125,1288.6163330078125,1287.474365234375,1286.332275390625,1285.1900634765625,1284.0474853515625,1282.90478515625,1281.7618408203125,1280.61865234375,1279.475341796875,1278.3316650390625,1277.1878662109375,1276.0439453125,1274.899658203125,1273.7552490234375,1272.610595703125,1271.4656982421875,1270.3206787109375,1269.17529296875,1268.02978515625,1266.8841552734375],\"xaxis\":\"x\",\"y\":[0.008401678690260397,0.008391141110590238,0.008206141920010976,0.008328031705564816,0.008411024481662348,0.008249400275351574,0.008229754035205839,0.0081981209846648,0.008259017484203806,0.00826143599909837,0.008268656634461875,0.008183619559283409,0.008258476797560156,0.008066166213037556,0.00823313823985475,0.008053088655790902,0.008134363029859395,0.008113841979989968,0.008134037987762724,0.00821492106133777,0.008215206251325513,0.00810787894653277,0.008187403192660021,0.008158262301454949,0.008076510722555172,0.008160553684671763,0.008106380059697197,0.00819702872699152,0.008267344077956517,0.00818535949651253,0.008182770004833431,0.008150480172188269,0.008164784955568148,0.008194066580786563,0.008270320263742786,0.008257031483027977,0.008272356032849492,0.00825325385401509,0.008242277019914125,0.008157166485031633,0.00839805970747844,0.00827492619305813,0.008429164632353388,0.008334294654200165,0.008361031230321815,0.008326571428349715,0.008384339818307395,0.008502640098467573,0.008564117572714375,0.008673355567113688,0.008637526331235816,0.008599500952314506,0.008694668811070439,0.008653242320016442,0.008719061252094337,0.008765511166721876,0.008804772663489141,0.008690215649657601,0.008647636387164386,0.008920756094066375,0.008923327655351898,0.00900046644513058,0.008940346570038065,0.009035983985544081,0.00921236827891313,0.00902574278055802,0.009172870164382842,0.009215970736124313,0.009247050679365619,0.009302391412407624,0.009396974631498304,0.009440556006059189,0.009601933360628135,0.009675722999148696,0.009704207052819089,0.009811363172865862,0.010021295035285796,0.010137950178963082,0.010195218070651314,0.010389070557202616,0.010475353220874827,0.010402570253635755,0.010442668883635325,0.010616765942736906,0.010804732295067,0.011325079450757556,0.01272121265737036,0.012419390192198121,0.012234208034488681,0.013822429833449619,0.014427907742570825,0.014291932045823129,0.014582039260087236,0.015284734192047737,0.01577077102815968,0.01687099441815388,0.0179472277540638,0.019152314260279062,0.020662653690119447,0.021873074228715848,0.023572464398046982,0.025565022702589615,0.027732998123033887,0.03011729970842441,0.032702035505885296,0.03498152462082228,0.0372459472956253,0.03876492922714043,0.03963203503432238,0.039856269196388,0.039221567235856375,0.0378080525022222,0.035889914116532466,0.033461456352685506,0.03101516408289506,0.028523033236228026,0.026357511081131463,0.024339996723283564,0.022388523215877743,0.02078209986410833,0.019345685213183857,0.01791479137024129,0.016594249624206924,0.015633740277974567,0.01460144892700391,0.013666661364248895,0.012879352814299456,0.012081319366086526,0.011507485813073415,0.011006818763903083,0.010613468532901238,0.009954456179650305,0.00966184733685152,0.00935072149011172,0.009005285729581742,0.008901267950669967,0.008846545205635015,0.008619379527024854,0.008566385915768018,0.00837236428255514,0.008492357899427276,0.008322223651484972,0.008344277992139701,0.008342579479312719,0.008446740388077311,0.008360825087533963,0.008348472422571085,0.008210449273252944,0.008252761309295368,0.008103435931318771,0.008177525663056679,0.008050764832660746,0.008059882911531455,0.008012566617522459,0.008049372684558154,0.007928312205005518,0.007955850539742045,0.007995347903679641,0.00796603853897949,0.007846320999409155,0.007908738814594423,0.008019268653684209,0.007982260364916295,0.007913107076825777,0.008005154394722692,0.00794862953028832,0.007908054807784367,0.00787335301706362,0.007840803499093479,0.007822433775188172,0.007885207312507591,0.007889142251676017,0.007727381106473095,0.007702754755198162,0.0077163421094569315,0.007819717110283855,0.007780709591792482,0.007638568584832491,0.007706933118937548,0.007699120129947141,0.007549317048905621,0.007506344089336539,0.007509511221009756,0.00742332836487707,0.00745906867886799,0.007385369574352055,0.007506409236611232,0.007400942204566526,0.007538438189465162,0.007432804558520753,0.007332855745548732,0.007389136983252403,0.007393112573591013,0.007247591276162754,0.007267222981802591,0.007160398210113902,0.007300255501388964,0.007182786395087247,0.007133426272840553],\"yaxis\":\"y\",\"type\":\"scatter\"}],                        {\"template\":{\"data\":{\"histogram2dcontour\":[{\"type\":\"histogram2dcontour\",\"colorbar\":{\"outlinewidth\":0,\"ticks\":\"\"},\"colorscale\":[[0.0,\"#0d0887\"],[0.1111111111111111,\"#46039f\"],[0.2222222222222222,\"#7201a8\"],[0.3333333333333333,\"#9c179e\"],[0.4444444444444444,\"#bd3786\"],[0.5555555555555556,\"#d8576b\"],[0.6666666666666666,\"#ed7953\"],[0.7777777777777778,\"#fb9f3a\"],[0.8888888888888888,\"#fdca26\"],[1.0,\"#f0f921\"]]}],\"choropleth\":[{\"type\":\"choropleth\",\"colorbar\":{\"outlinewidth\":0,\"ticks\":\"\"}}],\"histogram2d\":[{\"type\":\"histogram2d\",\"colorbar\":{\"outlinewidth\":0,\"ticks\":\"\"},\"colorscale\":[[0.0,\"#0d0887\"],[0.1111111111111111,\"#46039f\"],[0.2222222222222222,\"#7201a8\"],[0.3333333333333333,\"#9c179e\"],[0.4444444444444444,\"#bd3786\"],[0.5555555555555556,\"#d8576b\"],[0.6666666666666666,\"#ed7953\"],[0.7777777777777778,\"#fb9f3a\"],[0.8888888888888888,\"#fdca26\"],[1.0,\"#f0f921\"]]}],\"heatmap\":[{\"type\":\"heatmap\",\"colorbar\":{\"outlinewidth\":0,\"ticks\":\"\"},\"colorscale\":[[0.0,\"#0d0887\"],[0.1111111111111111,\"#46039f\"],[0.2222222222222222,\"#7201a8\"],[0.3333333333333333,\"#9c179e\"],[0.4444444444444444,\"#bd3786\"],[0.5555555555555556,\"#d8576b\"],[0.6666666666666666,\"#ed7953\"],[0.7777777777777778,\"#fb9f3a\"],[0.8888888888888888,\"#fdca26\"],[1.0,\"#f0f921\"]]}],\"heatmapgl\":[{\"type\":\"heatmapgl\",\"colorbar\":{\"outlinewidth\":0,\"ticks\":\"\"},\"colorscale\":[[0.0,\"#0d0887\"],[0.1111111111111111,\"#46039f\"],[0.2222222222222222,\"#7201a8\"],[0.3333333333333333,\"#9c179e\"],[0.4444444444444444,\"#bd3786\"],[0.5555555555555556,\"#d8576b\"],[0.6666666666666666,\"#ed7953\"],[0.7777777777777778,\"#fb9f3a\"],[0.8888888888888888,\"#fdca26\"],[1.0,\"#f0f921\"]]}],\"contourcarpet\":[{\"type\":\"contourcarpet\",\"colorbar\":{\"outlinewidth\":0,\"ticks\":\"\"}}],\"contour\":[{\"type\":\"contour\",\"colorbar\":{\"outlinewidth\":0,\"ticks\":\"\"},\"colorscale\":[[0.0,\"#0d0887\"],[0.1111111111111111,\"#46039f\"],[0.2222222222222222,\"#7201a8\"],[0.3333333333333333,\"#9c179e\"],[0.4444444444444444,\"#bd3786\"],[0.5555555555555556,\"#d8576b\"],[0.6666666666666666,\"#ed7953\"],[0.7777777777777778,\"#fb9f3a\"],[0.8888888888888888,\"#fdca26\"],[1.0,\"#f0f921\"]]}],\"surface\":[{\"type\":\"surface\",\"colorbar\":{\"outlinewidth\":0,\"ticks\":\"\"},\"colorscale\":[[0.0,\"#0d0887\"],[0.1111111111111111,\"#46039f\"],[0.2222222222222222,\"#7201a8\"],[0.3333333333333333,\"#9c179e\"],[0.4444444444444444,\"#bd3786\"],[0.5555555555555556,\"#d8576b\"],[0.6666666666666666,\"#ed7953\"],[0.7777777777777778,\"#fb9f3a\"],[0.8888888888888888,\"#fdca26\"],[1.0,\"#f0f921\"]]}],\"mesh3d\":[{\"type\":\"mesh3d\",\"colorbar\":{\"outlinewidth\":0,\"ticks\":\"\"}}],\"scatter\":[{\"marker\":{\"line\":{\"color\":\"#283442\"}},\"type\":\"scatter\"}],\"parcoords\":[{\"type\":\"parcoords\",\"line\":{\"colorbar\":{\"outlinewidth\":0,\"ticks\":\"\"}}}],\"scatterpolargl\":[{\"type\":\"scatterpolargl\",\"marker\":{\"colorbar\":{\"outlinewidth\":0,\"ticks\":\"\"}}}],\"bar\":[{\"error_x\":{\"color\":\"#f2f5fa\"},\"error_y\":{\"color\":\"#f2f5fa\"},\"marker\":{\"line\":{\"color\":\"rgb(17,17,17)\",\"width\":0.5},\"pattern\":{\"fillmode\":\"overlay\",\"size\":10,\"solidity\":0.2}},\"type\":\"bar\"}],\"scattergeo\":[{\"type\":\"scattergeo\",\"marker\":{\"colorbar\":{\"outlinewidth\":0,\"ticks\":\"\"}}}],\"scatterpolar\":[{\"type\":\"scatterpolar\",\"marker\":{\"colorbar\":{\"outlinewidth\":0,\"ticks\":\"\"}}}],\"histogram\":[{\"marker\":{\"pattern\":{\"fillmode\":\"overlay\",\"size\":10,\"solidity\":0.2}},\"type\":\"histogram\"}],\"scattergl\":[{\"marker\":{\"line\":{\"color\":\"#283442\"}},\"type\":\"scattergl\"}],\"scatter3d\":[{\"type\":\"scatter3d\",\"line\":{\"colorbar\":{\"outlinewidth\":0,\"ticks\":\"\"}},\"marker\":{\"colorbar\":{\"outlinewidth\":0,\"ticks\":\"\"}}}],\"scattermapbox\":[{\"type\":\"scattermapbox\",\"marker\":{\"colorbar\":{\"outlinewidth\":0,\"ticks\":\"\"}}}],\"scatterternary\":[{\"type\":\"scatterternary\",\"marker\":{\"colorbar\":{\"outlinewidth\":0,\"ticks\":\"\"}}}],\"scattercarpet\":[{\"type\":\"scattercarpet\",\"marker\":{\"colorbar\":{\"outlinewidth\":0,\"ticks\":\"\"}}}],\"carpet\":[{\"aaxis\":{\"endlinecolor\":\"#A2B1C6\",\"gridcolor\":\"#506784\",\"linecolor\":\"#506784\",\"minorgridcolor\":\"#506784\",\"startlinecolor\":\"#A2B1C6\"},\"baxis\":{\"endlinecolor\":\"#A2B1C6\",\"gridcolor\":\"#506784\",\"linecolor\":\"#506784\",\"minorgridcolor\":\"#506784\",\"startlinecolor\":\"#A2B1C6\"},\"type\":\"carpet\"}],\"table\":[{\"cells\":{\"fill\":{\"color\":\"#506784\"},\"line\":{\"color\":\"rgb(17,17,17)\"}},\"header\":{\"fill\":{\"color\":\"#2a3f5f\"},\"line\":{\"color\":\"rgb(17,17,17)\"}},\"type\":\"table\"}],\"barpolar\":[{\"marker\":{\"line\":{\"color\":\"rgb(17,17,17)\",\"width\":0.5},\"pattern\":{\"fillmode\":\"overlay\",\"size\":10,\"solidity\":0.2}},\"type\":\"barpolar\"}],\"pie\":[{\"automargin\":true,\"type\":\"pie\"}]},\"layout\":{\"autotypenumbers\":\"strict\",\"colorway\":[\"#636efa\",\"#EF553B\",\"#00cc96\",\"#ab63fa\",\"#FFA15A\",\"#19d3f3\",\"#FF6692\",\"#B6E880\",\"#FF97FF\",\"#FECB52\"],\"font\":{\"color\":\"#f2f5fa\"},\"hovermode\":\"closest\",\"hoverlabel\":{\"align\":\"left\"},\"paper_bgcolor\":\"rgb(17,17,17)\",\"plot_bgcolor\":\"rgb(17,17,17)\",\"polar\":{\"bgcolor\":\"rgb(17,17,17)\",\"angularaxis\":{\"gridcolor\":\"#506784\",\"linecolor\":\"#506784\",\"ticks\":\"\"},\"radialaxis\":{\"gridcolor\":\"#506784\",\"linecolor\":\"#506784\",\"ticks\":\"\"}},\"ternary\":{\"bgcolor\":\"rgb(17,17,17)\",\"aaxis\":{\"gridcolor\":\"#506784\",\"linecolor\":\"#506784\",\"ticks\":\"\"},\"baxis\":{\"gridcolor\":\"#506784\",\"linecolor\":\"#506784\",\"ticks\":\"\"},\"caxis\":{\"gridcolor\":\"#506784\",\"linecolor\":\"#506784\",\"ticks\":\"\"}},\"coloraxis\":{\"colorbar\":{\"outlinewidth\":0,\"ticks\":\"\"}},\"colorscale\":{\"sequential\":[[0.0,\"#0d0887\"],[0.1111111111111111,\"#46039f\"],[0.2222222222222222,\"#7201a8\"],[0.3333333333333333,\"#9c179e\"],[0.4444444444444444,\"#bd3786\"],[0.5555555555555556,\"#d8576b\"],[0.6666666666666666,\"#ed7953\"],[0.7777777777777778,\"#fb9f3a\"],[0.8888888888888888,\"#fdca26\"],[1.0,\"#f0f921\"]],\"sequentialminus\":[[0.0,\"#0d0887\"],[0.1111111111111111,\"#46039f\"],[0.2222222222222222,\"#7201a8\"],[0.3333333333333333,\"#9c179e\"],[0.4444444444444444,\"#bd3786\"],[0.5555555555555556,\"#d8576b\"],[0.6666666666666666,\"#ed7953\"],[0.7777777777777778,\"#fb9f3a\"],[0.8888888888888888,\"#fdca26\"],[1.0,\"#f0f921\"]],\"diverging\":[[0,\"#8e0152\"],[0.1,\"#c51b7d\"],[0.2,\"#de77ae\"],[0.3,\"#f1b6da\"],[0.4,\"#fde0ef\"],[0.5,\"#f7f7f7\"],[0.6,\"#e6f5d0\"],[0.7,\"#b8e186\"],[0.8,\"#7fbc41\"],[0.9,\"#4d9221\"],[1,\"#276419\"]]},\"xaxis\":{\"gridcolor\":\"#283442\",\"linecolor\":\"#506784\",\"ticks\":\"\",\"title\":{\"standoff\":15},\"zerolinecolor\":\"#283442\",\"automargin\":true,\"zerolinewidth\":2},\"yaxis\":{\"gridcolor\":\"#283442\",\"linecolor\":\"#506784\",\"ticks\":\"\",\"title\":{\"standoff\":15},\"zerolinecolor\":\"#283442\",\"automargin\":true,\"zerolinewidth\":2},\"scene\":{\"xaxis\":{\"backgroundcolor\":\"rgb(17,17,17)\",\"gridcolor\":\"#506784\",\"linecolor\":\"#506784\",\"showbackground\":true,\"ticks\":\"\",\"zerolinecolor\":\"#C8D4E3\",\"gridwidth\":2},\"yaxis\":{\"backgroundcolor\":\"rgb(17,17,17)\",\"gridcolor\":\"#506784\",\"linecolor\":\"#506784\",\"showbackground\":true,\"ticks\":\"\",\"zerolinecolor\":\"#C8D4E3\",\"gridwidth\":2},\"zaxis\":{\"backgroundcolor\":\"rgb(17,17,17)\",\"gridcolor\":\"#506784\",\"linecolor\":\"#506784\",\"showbackground\":true,\"ticks\":\"\",\"zerolinecolor\":\"#C8D4E3\",\"gridwidth\":2}},\"shapedefaults\":{\"line\":{\"color\":\"#f2f5fa\"}},\"annotationdefaults\":{\"arrowcolor\":\"#f2f5fa\",\"arrowhead\":0,\"arrowwidth\":1},\"geo\":{\"bgcolor\":\"rgb(17,17,17)\",\"landcolor\":\"rgb(17,17,17)\",\"subunitcolor\":\"#506784\",\"showland\":true,\"showlakes\":true,\"lakecolor\":\"rgb(17,17,17)\"},\"title\":{\"x\":0.05},\"updatemenudefaults\":{\"bgcolor\":\"#506784\",\"borderwidth\":0},\"sliderdefaults\":{\"bgcolor\":\"#C8D4E3\",\"borderwidth\":1,\"bordercolor\":\"rgb(17,17,17)\",\"tickwidth\":0},\"mapbox\":{\"style\":\"dark\"}}},\"xaxis\":{\"anchor\":\"y\",\"domain\":[0.0,1.0],\"title\":{\"text\":\"x\"}},\"yaxis\":{\"anchor\":\"x\",\"domain\":[0.0,1.0],\"title\":{\"text\":\"y\"}},\"legend\":{\"tracegroupgap\":0},\"margin\":{\"t\":60}},                        {\"responsive\": true}                    ).then(function(){\n                            \nvar gd = document.getElementById('62225a8c-ded3-49f2-9845-9cbb4af5fd4e');\nvar x = new MutationObserver(function (mutations, observer) {{\n        var display = window.getComputedStyle(gd).display;\n        if (!display || display === 'none') {{\n            console.log([gd, 'removed!']);\n            Plotly.purge(gd);\n            observer.disconnect();\n        }}\n}});\n\n// Listen for the removal of the full notebook cells\nvar notebookContainer = gd.closest('#notebook-container');\nif (notebookContainer) {{\n    x.observe(notebookContainer, {childList: true});\n}}\n\n// Listen for the clearing of the current output cell\nvar outputEl = gd.closest('.output');\nif (outputEl) {{\n    x.observe(outputEl, {childList: true});\n}}\n\n                        })                };                });            </script>        </div>"
     },
     "metadata": {},
     "output_type": "display_data"
    },
    {
     "data": {
      "application/vnd.plotly.v1+json": {
       "data": [
        {
         "hovertemplate": "x=%{x}<br>y=%{y}<extra></extra>",
         "legendgroup": "",
         "line": {
          "color": "#636efa",
          "dash": "solid"
         },
         "marker": {
          "symbol": "circle"
         },
         "mode": "lines",
         "name": "",
         "orientation": "v",
         "showlegend": false,
         "x": [
          1489.670166015625,
          1488.5650634765625,
          1487.459716796875,
          1486.354248046875,
          1485.24853515625,
          1484.142578125,
          1483.0364990234375,
          1481.93017578125,
          1480.8236083984375,
          1479.7169189453125,
          1478.6099853515625,
          1477.5028076171875,
          1476.3955078125,
          1475.2879638671875,
          1474.1802978515625,
          1473.0723876953125,
          1471.9642333984375,
          1470.8558349609375,
          1469.747314453125,
          1468.638671875,
          1467.5296630859375,
          1466.4205322265625,
          1465.311279296875,
          1464.20166015625,
          1463.0919189453125,
          1461.9820556640625,
          1460.8719482421875,
          1459.7615966796875,
          1458.6510009765625,
          1457.540283203125,
          1456.4293212890625,
          1455.3182373046875,
          1454.2069091796875,
          1453.0953369140625,
          1451.983642578125,
          1450.8717041015625,
          1449.759521484375,
          1448.647216796875,
          1447.53466796875,
          1446.421875,
          1445.3089599609375,
          1444.19580078125,
          1443.0823974609375,
          1441.9688720703125,
          1440.8551025390625,
          1439.7410888671875,
          1438.626953125,
          1437.5125732421875,
          1436.3980712890625,
          1435.2833251953125,
          1434.1683349609375,
          1433.0531005859375,
          1431.937744140625,
          1430.8221435546875,
          1429.7064208984375,
          1428.5904541015625,
          1427.4742431640625,
          1426.35791015625,
          1425.2412109375,
          1424.12451171875,
          1423.0074462890625,
          1421.8902587890625,
          1420.7728271484375,
          1419.6552734375,
          1418.5374755859375,
          1417.41943359375,
          1416.30126953125,
          1415.182861328125,
          1414.064208984375,
          1412.9454345703125,
          1411.826416015625,
          1410.7071533203125,
          1409.587646484375,
          1408.468017578125,
          1407.3482666015625,
          1406.2281494140625,
          1405.10791015625,
          1403.9874267578125,
          1402.8668212890625,
          1401.7459716796875,
          1400.6248779296875,
          1399.503662109375,
          1398.3822021484375,
          1397.260498046875,
          1396.1385498046875,
          1395.0164794921875,
          1393.894287109375,
          1392.771728515625,
          1391.6490478515625,
          1390.526123046875,
          1389.403076171875,
          1388.2796630859375,
          1387.15625,
          1386.032470703125,
          1384.9085693359375,
          1383.784423828125,
          1382.6600341796875,
          1381.5355224609375,
          1380.4107666015625,
          1379.2857666015625,
          1378.16064453125,
          1377.0352783203125,
          1375.90966796875,
          1374.783935546875,
          1373.657958984375,
          1372.53173828125,
          1371.4053955078125,
          1370.27880859375,
          1369.1519775390625,
          1368.02490234375,
          1366.897705078125,
          1365.770263671875,
          1364.6427001953125,
          1363.5147705078125,
          1362.38671875,
          1361.258544921875,
          1360.1300048828125,
          1359.0013427734375,
          1357.87255859375,
          1356.743408203125,
          1355.6141357421875,
          1354.484619140625,
          1353.35498046875,
          1352.22509765625,
          1351.094970703125,
          1349.964599609375,
          1348.8341064453125,
          1347.703369140625,
          1346.5723876953125,
          1345.441162109375,
          1344.309814453125,
          1343.17822265625,
          1342.0465087890625,
          1340.91455078125,
          1339.7823486328125,
          1338.64990234375,
          1337.517333984375,
          1336.384521484375,
          1335.25146484375,
          1334.1181640625,
          1332.9847412109375,
          1331.85107421875,
          1330.7171630859375,
          1329.5831298828125,
          1328.4488525390625,
          1327.3143310546875,
          1326.1796875,
          1325.0447998046875,
          1323.90966796875,
          1322.7742919921875,
          1321.6387939453125,
          1320.5029296875,
          1319.3670654296875,
          1318.2308349609375,
          1317.094482421875,
          1315.9578857421875,
          1314.821044921875,
          1313.68408203125,
          1312.546875,
          1311.409423828125,
          1310.271728515625,
          1309.1339111328125,
          1307.995849609375,
          1306.8575439453125,
          1305.718994140625,
          1304.580322265625,
          1303.44140625,
          1302.3023681640625,
          1301.1629638671875,
          1300.0234375,
          1298.8836669921875,
          1297.74365234375,
          1296.603515625,
          1295.463134765625,
          1294.322509765625,
          1293.181640625,
          1292.0406494140625,
          1290.8994140625,
          1289.7579345703125,
          1288.6163330078125,
          1287.474365234375,
          1286.332275390625,
          1285.1900634765625,
          1284.0474853515625,
          1282.90478515625,
          1281.7618408203125,
          1280.61865234375,
          1279.475341796875,
          1278.3316650390625,
          1277.1878662109375,
          1276.0439453125,
          1274.899658203125,
          1273.7552490234375,
          1272.610595703125,
          1271.4656982421875,
          1270.3206787109375,
          1269.17529296875,
          1268.02978515625,
          1266.8841552734375
         ],
         "xaxis": "x",
         "y": [
          4.8303161471576297E-4,
          4.90143203523068E-4,
          5.380295271863327E-4,
          5.189035916274953E-4,
          5.13452581156756E-4,
          5.036057385533514E-4,
          4.941116109263197E-4,
          4.904009962181903E-4,
          5.177908330260876E-4,
          5.196311688452669E-4,
          5.39318168918907E-4,
          5.340541939889784E-4,
          5.469248126766315E-4,
          5.609212556016394E-4,
          5.441654374010471E-4,
          5.329955273028211E-4,
          5.304900041432475E-4,
          5.389271622771033E-4,
          5.539010556494381E-4,
          5.514454143207549E-4,
          5.264645949357778E-4,
          5.656800440303512E-4,
          5.470863228779692E-4,
          5.360495625191018E-4,
          5.69759540017934E-4,
          5.595046192254259E-4,
          5.671929196928751E-4,
          5.9402625779927E-4,
          6.224492601818625E-4,
          5.753129730935955E-4,
          5.662487222804269E-4,
          5.607681747284739E-4,
          5.635061710895326E-4,
          5.500125083090358E-4,
          5.690188079571827E-4,
          5.793509659880974E-4,
          5.907117639574744E-4,
          5.931826295874131E-4,
          5.75827753777903E-4,
          5.911514915102022E-4,
          6.111087577178695E-4,
          5.422065487205652E-4,
          6.058541317325882E-4,
          5.971492687692703E-4,
          5.743834691451176E-4,
          5.889113712348085E-4,
          5.777612445618023E-4,
          6.12916633089369E-4,
          6.076199042655888E-4,
          5.968072307684453E-4,
          5.639971080346709E-4,
          5.856282644387844E-4,
          5.853174785579564E-4,
          5.920171745726139E-4,
          6.118511909005207E-4,
          5.803233437816621E-4,
          5.637887094367786E-4,
          5.3588852300798E-4,
          5.614736031886141E-4,
          5.437895281820373E-4,
          5.300355781327188E-4,
          5.58864515152094E-4,
          5.335649452478552E-4,
          5.122837160645106E-4,
          4.848075447253328E-4,
          4.690633333408404E-4,
          4.5375129766132567E-4,
          4.431573225842941E-4,
          4.496768874304744E-4,
          3.913545908623174E-4,
          3.58502312860176E-4,
          3.104745517965904E-4,
          2.759845961582438E-4,
          2.390259149030496E-4,
          1.4410973600396124E-4,
          7.579283580958018E-5,
          -3.904601957183546E-5,
          -1.4736651622518517E-4,
          -3.9928769867538275E-4,
          -7.3875755639974E-4,
          -0.0011954779347881604,
          -0.0018105966685358086,
          -0.0029039106412966273,
          -0.004796405823921896,
          -0.008534008821222686,
          -0.015974579668281624,
          -0.02620977673850438,
          -0.019805960869064377,
          0.011549192349804805,
          0.028320979532953868,
          0.025558072769013118,
          0.0176116664634722,
          0.010862020037771264,
          0.006574027591871958,
          0.004291804190082326,
          0.0029445165259786407,
          0.002180727003891052,
          0.0017743878409120714,
          0.0014929259360065214,
          0.0012901854766441188,
          0.0012093689612703048,
          0.0012186037202593775,
          0.0012129412878374157,
          0.0012752023174890778,
          0.001319926591424658,
          0.00140923354952181,
          0.0014620908563941857,
          0.0015495422972945467,
          0.0016053219048831975,
          0.001594163132054586,
          0.0015601317621189176,
          0.0014924243616242377,
          0.0013797134755299965,
          0.0013159411912680328,
          0.0011822688143360968,
          0.0011291476894244418,
          0.001080641147080079,
          0.0010130580356779446,
          0.0010080785869995329,
          0.001012325713996165,
          0.0010086270078863307,
          0.0010244524395263072,
          0.0010268722794762573,
          0.0010134116258293509,
          0.0010940611440037277,
          0.001116611249140362,
          0.0011438340120005282,
          0.001119351961068835,
          0.0011277929445657167,
          0.0011356946537026539,
          0.0011876410006319165,
          0.0012016660033439199,
          0.0011364546162659249,
          0.0011729866689705374,
          0.001142132660760593,
          0.0011518558041992007,
          0.0011466868245956167,
          0.0010657057597777007,
          0.0010736654770240551,
          0.0010858241598193223,
          0.0010221984346842786,
          9.697309387062051E-4,
          9.579996448563685E-4,
          9.584955767277381E-4,
          8.897493944687067E-4,
          8.952455450980057E-4,
          8.868262981389593E-4,
          8.251111169022843E-4,
          7.805079456343783E-4,
          7.99996343728503E-4,
          7.871339107527762E-4,
          7.762505066189932E-4,
          7.431609781365733E-4,
          7.51348721978092E-4,
          6.956303146513555E-4,
          7.318952987843936E-4,
          6.900073758469235E-4,
          7.069093743937417E-4,
          7.388249985203834E-4,
          7.124756106202622E-4,
          7.282958039192551E-4,
          7.271003107673899E-4,
          7.733512810777128E-4,
          7.185138261916225E-4,
          7.58229137484715E-4,
          7.321833683905492E-4,
          7.528945798531458E-4,
          7.484223247217974E-4,
          8.023356845433521E-4,
          7.651643443391896E-4,
          7.564718018959471E-4,
          7.70128535861447E-4,
          7.554143415619872E-4,
          7.816863073668336E-4,
          7.813979944593468E-4,
          8.126915298560278E-4,
          7.953934432168517E-4,
          8.043449028446027E-4,
          7.580408800063149E-4,
          7.76230213500817E-4,
          7.804035524688396E-4,
          7.61052583508887E-4,
          7.463985540941868E-4,
          7.719899976402966E-4,
          7.132294128578197E-4,
          7.240694897344778E-4,
          7.527749740095108E-4,
          7.469804883749294E-4,
          7.5317677391602E-4,
          7.520763345662973E-4,
          7.499905035985671E-4,
          7.773840201866726E-4,
          7.73184157200368E-4,
          7.480949260996572E-4,
          7.293732730301724E-4,
          7.370595971701612E-4,
          7.280392417897388E-4,
          7.353335577942312E-4,
          7.314506432342522E-4
         ],
         "yaxis": "y",
         "type": "scatter"
        }
       ],
       "layout": {
        "template": {
         "data": {
          "histogram2dcontour": [
           {
            "type": "histogram2dcontour",
            "colorbar": {
             "outlinewidth": 0,
             "ticks": ""
            },
            "colorscale": [
             [
              0.0,
              "#0d0887"
             ],
             [
              0.1111111111111111,
              "#46039f"
             ],
             [
              0.2222222222222222,
              "#7201a8"
             ],
             [
              0.3333333333333333,
              "#9c179e"
             ],
             [
              0.4444444444444444,
              "#bd3786"
             ],
             [
              0.5555555555555556,
              "#d8576b"
             ],
             [
              0.6666666666666666,
              "#ed7953"
             ],
             [
              0.7777777777777778,
              "#fb9f3a"
             ],
             [
              0.8888888888888888,
              "#fdca26"
             ],
             [
              1.0,
              "#f0f921"
             ]
            ]
           }
          ],
          "choropleth": [
           {
            "type": "choropleth",
            "colorbar": {
             "outlinewidth": 0,
             "ticks": ""
            }
           }
          ],
          "histogram2d": [
           {
            "type": "histogram2d",
            "colorbar": {
             "outlinewidth": 0,
             "ticks": ""
            },
            "colorscale": [
             [
              0.0,
              "#0d0887"
             ],
             [
              0.1111111111111111,
              "#46039f"
             ],
             [
              0.2222222222222222,
              "#7201a8"
             ],
             [
              0.3333333333333333,
              "#9c179e"
             ],
             [
              0.4444444444444444,
              "#bd3786"
             ],
             [
              0.5555555555555556,
              "#d8576b"
             ],
             [
              0.6666666666666666,
              "#ed7953"
             ],
             [
              0.7777777777777778,
              "#fb9f3a"
             ],
             [
              0.8888888888888888,
              "#fdca26"
             ],
             [
              1.0,
              "#f0f921"
             ]
            ]
           }
          ],
          "heatmap": [
           {
            "type": "heatmap",
            "colorbar": {
             "outlinewidth": 0,
             "ticks": ""
            },
            "colorscale": [
             [
              0.0,
              "#0d0887"
             ],
             [
              0.1111111111111111,
              "#46039f"
             ],
             [
              0.2222222222222222,
              "#7201a8"
             ],
             [
              0.3333333333333333,
              "#9c179e"
             ],
             [
              0.4444444444444444,
              "#bd3786"
             ],
             [
              0.5555555555555556,
              "#d8576b"
             ],
             [
              0.6666666666666666,
              "#ed7953"
             ],
             [
              0.7777777777777778,
              "#fb9f3a"
             ],
             [
              0.8888888888888888,
              "#fdca26"
             ],
             [
              1.0,
              "#f0f921"
             ]
            ]
           }
          ],
          "heatmapgl": [
           {
            "type": "heatmapgl",
            "colorbar": {
             "outlinewidth": 0,
             "ticks": ""
            },
            "colorscale": [
             [
              0.0,
              "#0d0887"
             ],
             [
              0.1111111111111111,
              "#46039f"
             ],
             [
              0.2222222222222222,
              "#7201a8"
             ],
             [
              0.3333333333333333,
              "#9c179e"
             ],
             [
              0.4444444444444444,
              "#bd3786"
             ],
             [
              0.5555555555555556,
              "#d8576b"
             ],
             [
              0.6666666666666666,
              "#ed7953"
             ],
             [
              0.7777777777777778,
              "#fb9f3a"
             ],
             [
              0.8888888888888888,
              "#fdca26"
             ],
             [
              1.0,
              "#f0f921"
             ]
            ]
           }
          ],
          "contourcarpet": [
           {
            "type": "contourcarpet",
            "colorbar": {
             "outlinewidth": 0,
             "ticks": ""
            }
           }
          ],
          "contour": [
           {
            "type": "contour",
            "colorbar": {
             "outlinewidth": 0,
             "ticks": ""
            },
            "colorscale": [
             [
              0.0,
              "#0d0887"
             ],
             [
              0.1111111111111111,
              "#46039f"
             ],
             [
              0.2222222222222222,
              "#7201a8"
             ],
             [
              0.3333333333333333,
              "#9c179e"
             ],
             [
              0.4444444444444444,
              "#bd3786"
             ],
             [
              0.5555555555555556,
              "#d8576b"
             ],
             [
              0.6666666666666666,
              "#ed7953"
             ],
             [
              0.7777777777777778,
              "#fb9f3a"
             ],
             [
              0.8888888888888888,
              "#fdca26"
             ],
             [
              1.0,
              "#f0f921"
             ]
            ]
           }
          ],
          "surface": [
           {
            "type": "surface",
            "colorbar": {
             "outlinewidth": 0,
             "ticks": ""
            },
            "colorscale": [
             [
              0.0,
              "#0d0887"
             ],
             [
              0.1111111111111111,
              "#46039f"
             ],
             [
              0.2222222222222222,
              "#7201a8"
             ],
             [
              0.3333333333333333,
              "#9c179e"
             ],
             [
              0.4444444444444444,
              "#bd3786"
             ],
             [
              0.5555555555555556,
              "#d8576b"
             ],
             [
              0.6666666666666666,
              "#ed7953"
             ],
             [
              0.7777777777777778,
              "#fb9f3a"
             ],
             [
              0.8888888888888888,
              "#fdca26"
             ],
             [
              1.0,
              "#f0f921"
             ]
            ]
           }
          ],
          "mesh3d": [
           {
            "type": "mesh3d",
            "colorbar": {
             "outlinewidth": 0,
             "ticks": ""
            }
           }
          ],
          "scatter": [
           {
            "marker": {
             "line": {
              "color": "#283442"
             }
            },
            "type": "scatter"
           }
          ],
          "parcoords": [
           {
            "type": "parcoords",
            "line": {
             "colorbar": {
              "outlinewidth": 0,
              "ticks": ""
             }
            }
           }
          ],
          "scatterpolargl": [
           {
            "type": "scatterpolargl",
            "marker": {
             "colorbar": {
              "outlinewidth": 0,
              "ticks": ""
             }
            }
           }
          ],
          "bar": [
           {
            "error_x": {
             "color": "#f2f5fa"
            },
            "error_y": {
             "color": "#f2f5fa"
            },
            "marker": {
             "line": {
              "color": "rgb(17,17,17)",
              "width": 0.5
             },
             "pattern": {
              "fillmode": "overlay",
              "size": 10,
              "solidity": 0.2
             }
            },
            "type": "bar"
           }
          ],
          "scattergeo": [
           {
            "type": "scattergeo",
            "marker": {
             "colorbar": {
              "outlinewidth": 0,
              "ticks": ""
             }
            }
           }
          ],
          "scatterpolar": [
           {
            "type": "scatterpolar",
            "marker": {
             "colorbar": {
              "outlinewidth": 0,
              "ticks": ""
             }
            }
           }
          ],
          "histogram": [
           {
            "marker": {
             "pattern": {
              "fillmode": "overlay",
              "size": 10,
              "solidity": 0.2
             }
            },
            "type": "histogram"
           }
          ],
          "scattergl": [
           {
            "marker": {
             "line": {
              "color": "#283442"
             }
            },
            "type": "scattergl"
           }
          ],
          "scatter3d": [
           {
            "type": "scatter3d",
            "line": {
             "colorbar": {
              "outlinewidth": 0,
              "ticks": ""
             }
            },
            "marker": {
             "colorbar": {
              "outlinewidth": 0,
              "ticks": ""
             }
            }
           }
          ],
          "scattermapbox": [
           {
            "type": "scattermapbox",
            "marker": {
             "colorbar": {
              "outlinewidth": 0,
              "ticks": ""
             }
            }
           }
          ],
          "scatterternary": [
           {
            "type": "scatterternary",
            "marker": {
             "colorbar": {
              "outlinewidth": 0,
              "ticks": ""
             }
            }
           }
          ],
          "scattercarpet": [
           {
            "type": "scattercarpet",
            "marker": {
             "colorbar": {
              "outlinewidth": 0,
              "ticks": ""
             }
            }
           }
          ],
          "carpet": [
           {
            "aaxis": {
             "endlinecolor": "#A2B1C6",
             "gridcolor": "#506784",
             "linecolor": "#506784",
             "minorgridcolor": "#506784",
             "startlinecolor": "#A2B1C6"
            },
            "baxis": {
             "endlinecolor": "#A2B1C6",
             "gridcolor": "#506784",
             "linecolor": "#506784",
             "minorgridcolor": "#506784",
             "startlinecolor": "#A2B1C6"
            },
            "type": "carpet"
           }
          ],
          "table": [
           {
            "cells": {
             "fill": {
              "color": "#506784"
             },
             "line": {
              "color": "rgb(17,17,17)"
             }
            },
            "header": {
             "fill": {
              "color": "#2a3f5f"
             },
             "line": {
              "color": "rgb(17,17,17)"
             }
            },
            "type": "table"
           }
          ],
          "barpolar": [
           {
            "marker": {
             "line": {
              "color": "rgb(17,17,17)",
              "width": 0.5
             },
             "pattern": {
              "fillmode": "overlay",
              "size": 10,
              "solidity": 0.2
             }
            },
            "type": "barpolar"
           }
          ],
          "pie": [
           {
            "automargin": true,
            "type": "pie"
           }
          ]
         },
         "layout": {
          "autotypenumbers": "strict",
          "colorway": [
           "#636efa",
           "#EF553B",
           "#00cc96",
           "#ab63fa",
           "#FFA15A",
           "#19d3f3",
           "#FF6692",
           "#B6E880",
           "#FF97FF",
           "#FECB52"
          ],
          "font": {
           "color": "#f2f5fa"
          },
          "hovermode": "closest",
          "hoverlabel": {
           "align": "left"
          },
          "paper_bgcolor": "rgb(17,17,17)",
          "plot_bgcolor": "rgb(17,17,17)",
          "polar": {
           "bgcolor": "rgb(17,17,17)",
           "angularaxis": {
            "gridcolor": "#506784",
            "linecolor": "#506784",
            "ticks": ""
           },
           "radialaxis": {
            "gridcolor": "#506784",
            "linecolor": "#506784",
            "ticks": ""
           }
          },
          "ternary": {
           "bgcolor": "rgb(17,17,17)",
           "aaxis": {
            "gridcolor": "#506784",
            "linecolor": "#506784",
            "ticks": ""
           },
           "baxis": {
            "gridcolor": "#506784",
            "linecolor": "#506784",
            "ticks": ""
           },
           "caxis": {
            "gridcolor": "#506784",
            "linecolor": "#506784",
            "ticks": ""
           }
          },
          "coloraxis": {
           "colorbar": {
            "outlinewidth": 0,
            "ticks": ""
           }
          },
          "colorscale": {
           "sequential": [
            [
             0.0,
             "#0d0887"
            ],
            [
             0.1111111111111111,
             "#46039f"
            ],
            [
             0.2222222222222222,
             "#7201a8"
            ],
            [
             0.3333333333333333,
             "#9c179e"
            ],
            [
             0.4444444444444444,
             "#bd3786"
            ],
            [
             0.5555555555555556,
             "#d8576b"
            ],
            [
             0.6666666666666666,
             "#ed7953"
            ],
            [
             0.7777777777777778,
             "#fb9f3a"
            ],
            [
             0.8888888888888888,
             "#fdca26"
            ],
            [
             1.0,
             "#f0f921"
            ]
           ],
           "sequentialminus": [
            [
             0.0,
             "#0d0887"
            ],
            [
             0.1111111111111111,
             "#46039f"
            ],
            [
             0.2222222222222222,
             "#7201a8"
            ],
            [
             0.3333333333333333,
             "#9c179e"
            ],
            [
             0.4444444444444444,
             "#bd3786"
            ],
            [
             0.5555555555555556,
             "#d8576b"
            ],
            [
             0.6666666666666666,
             "#ed7953"
            ],
            [
             0.7777777777777778,
             "#fb9f3a"
            ],
            [
             0.8888888888888888,
             "#fdca26"
            ],
            [
             1.0,
             "#f0f921"
            ]
           ],
           "diverging": [
            [
             0,
             "#8e0152"
            ],
            [
             0.1,
             "#c51b7d"
            ],
            [
             0.2,
             "#de77ae"
            ],
            [
             0.3,
             "#f1b6da"
            ],
            [
             0.4,
             "#fde0ef"
            ],
            [
             0.5,
             "#f7f7f7"
            ],
            [
             0.6,
             "#e6f5d0"
            ],
            [
             0.7,
             "#b8e186"
            ],
            [
             0.8,
             "#7fbc41"
            ],
            [
             0.9,
             "#4d9221"
            ],
            [
             1,
             "#276419"
            ]
           ]
          },
          "xaxis": {
           "gridcolor": "#283442",
           "linecolor": "#506784",
           "ticks": "",
           "title": {
            "standoff": 15
           },
           "zerolinecolor": "#283442",
           "automargin": true,
           "zerolinewidth": 2
          },
          "yaxis": {
           "gridcolor": "#283442",
           "linecolor": "#506784",
           "ticks": "",
           "title": {
            "standoff": 15
           },
           "zerolinecolor": "#283442",
           "automargin": true,
           "zerolinewidth": 2
          },
          "scene": {
           "xaxis": {
            "backgroundcolor": "rgb(17,17,17)",
            "gridcolor": "#506784",
            "linecolor": "#506784",
            "showbackground": true,
            "ticks": "",
            "zerolinecolor": "#C8D4E3",
            "gridwidth": 2
           },
           "yaxis": {
            "backgroundcolor": "rgb(17,17,17)",
            "gridcolor": "#506784",
            "linecolor": "#506784",
            "showbackground": true,
            "ticks": "",
            "zerolinecolor": "#C8D4E3",
            "gridwidth": 2
           },
           "zaxis": {
            "backgroundcolor": "rgb(17,17,17)",
            "gridcolor": "#506784",
            "linecolor": "#506784",
            "showbackground": true,
            "ticks": "",
            "zerolinecolor": "#C8D4E3",
            "gridwidth": 2
           }
          },
          "shapedefaults": {
           "line": {
            "color": "#f2f5fa"
           }
          },
          "annotationdefaults": {
           "arrowcolor": "#f2f5fa",
           "arrowhead": 0,
           "arrowwidth": 1
          },
          "geo": {
           "bgcolor": "rgb(17,17,17)",
           "landcolor": "rgb(17,17,17)",
           "subunitcolor": "#506784",
           "showland": true,
           "showlakes": true,
           "lakecolor": "rgb(17,17,17)"
          },
          "title": {
           "x": 0.05
          },
          "updatemenudefaults": {
           "bgcolor": "#506784",
           "borderwidth": 0
          },
          "sliderdefaults": {
           "bgcolor": "#C8D4E3",
           "borderwidth": 1,
           "bordercolor": "rgb(17,17,17)",
           "tickwidth": 0
          },
          "mapbox": {
           "style": "dark"
          }
         }
        },
        "xaxis": {
         "anchor": "y",
         "domain": [
          0.0,
          1.0
         ],
         "title": {
          "text": "x"
         }
        },
        "yaxis": {
         "anchor": "x",
         "domain": [
          0.0,
          1.0
         ],
         "title": {
          "text": "y"
         }
        },
        "legend": {
         "tracegroupgap": 0
        },
        "margin": {
         "t": 60
        }
       },
       "config": {
        "plotlyServerURL": "https://plot.ly"
       }
      },
      "text/html": "<div>                            <div id=\"759ce0f4-14c0-4bc5-9f51-88b8c56eb003\" class=\"plotly-graph-div\" style=\"height:525px; width:100%;\"></div>            <script type=\"text/javascript\">                require([\"plotly\"], function(Plotly) {                    window.PLOTLYENV=window.PLOTLYENV || {};                                    if (document.getElementById(\"759ce0f4-14c0-4bc5-9f51-88b8c56eb003\")) {                    Plotly.newPlot(                        \"759ce0f4-14c0-4bc5-9f51-88b8c56eb003\",                        [{\"hovertemplate\":\"x=%{x}\\u003cbr\\u003ey=%{y}\\u003cextra\\u003e\\u003c\\u002fextra\\u003e\",\"legendgroup\":\"\",\"line\":{\"color\":\"#636efa\",\"dash\":\"solid\"},\"marker\":{\"symbol\":\"circle\"},\"mode\":\"lines\",\"name\":\"\",\"orientation\":\"v\",\"showlegend\":false,\"x\":[1489.670166015625,1488.5650634765625,1487.459716796875,1486.354248046875,1485.24853515625,1484.142578125,1483.0364990234375,1481.93017578125,1480.8236083984375,1479.7169189453125,1478.6099853515625,1477.5028076171875,1476.3955078125,1475.2879638671875,1474.1802978515625,1473.0723876953125,1471.9642333984375,1470.8558349609375,1469.747314453125,1468.638671875,1467.5296630859375,1466.4205322265625,1465.311279296875,1464.20166015625,1463.0919189453125,1461.9820556640625,1460.8719482421875,1459.7615966796875,1458.6510009765625,1457.540283203125,1456.4293212890625,1455.3182373046875,1454.2069091796875,1453.0953369140625,1451.983642578125,1450.8717041015625,1449.759521484375,1448.647216796875,1447.53466796875,1446.421875,1445.3089599609375,1444.19580078125,1443.0823974609375,1441.9688720703125,1440.8551025390625,1439.7410888671875,1438.626953125,1437.5125732421875,1436.3980712890625,1435.2833251953125,1434.1683349609375,1433.0531005859375,1431.937744140625,1430.8221435546875,1429.7064208984375,1428.5904541015625,1427.4742431640625,1426.35791015625,1425.2412109375,1424.12451171875,1423.0074462890625,1421.8902587890625,1420.7728271484375,1419.6552734375,1418.5374755859375,1417.41943359375,1416.30126953125,1415.182861328125,1414.064208984375,1412.9454345703125,1411.826416015625,1410.7071533203125,1409.587646484375,1408.468017578125,1407.3482666015625,1406.2281494140625,1405.10791015625,1403.9874267578125,1402.8668212890625,1401.7459716796875,1400.6248779296875,1399.503662109375,1398.3822021484375,1397.260498046875,1396.1385498046875,1395.0164794921875,1393.894287109375,1392.771728515625,1391.6490478515625,1390.526123046875,1389.403076171875,1388.2796630859375,1387.15625,1386.032470703125,1384.9085693359375,1383.784423828125,1382.6600341796875,1381.5355224609375,1380.4107666015625,1379.2857666015625,1378.16064453125,1377.0352783203125,1375.90966796875,1374.783935546875,1373.657958984375,1372.53173828125,1371.4053955078125,1370.27880859375,1369.1519775390625,1368.02490234375,1366.897705078125,1365.770263671875,1364.6427001953125,1363.5147705078125,1362.38671875,1361.258544921875,1360.1300048828125,1359.0013427734375,1357.87255859375,1356.743408203125,1355.6141357421875,1354.484619140625,1353.35498046875,1352.22509765625,1351.094970703125,1349.964599609375,1348.8341064453125,1347.703369140625,1346.5723876953125,1345.441162109375,1344.309814453125,1343.17822265625,1342.0465087890625,1340.91455078125,1339.7823486328125,1338.64990234375,1337.517333984375,1336.384521484375,1335.25146484375,1334.1181640625,1332.9847412109375,1331.85107421875,1330.7171630859375,1329.5831298828125,1328.4488525390625,1327.3143310546875,1326.1796875,1325.0447998046875,1323.90966796875,1322.7742919921875,1321.6387939453125,1320.5029296875,1319.3670654296875,1318.2308349609375,1317.094482421875,1315.9578857421875,1314.821044921875,1313.68408203125,1312.546875,1311.409423828125,1310.271728515625,1309.1339111328125,1307.995849609375,1306.8575439453125,1305.718994140625,1304.580322265625,1303.44140625,1302.3023681640625,1301.1629638671875,1300.0234375,1298.8836669921875,1297.74365234375,1296.603515625,1295.463134765625,1294.322509765625,1293.181640625,1292.0406494140625,1290.8994140625,1289.7579345703125,1288.6163330078125,1287.474365234375,1286.332275390625,1285.1900634765625,1284.0474853515625,1282.90478515625,1281.7618408203125,1280.61865234375,1279.475341796875,1278.3316650390625,1277.1878662109375,1276.0439453125,1274.899658203125,1273.7552490234375,1272.610595703125,1271.4656982421875,1270.3206787109375,1269.17529296875,1268.02978515625,1266.8841552734375],\"xaxis\":\"x\",\"y\":[0.00048303161471576297,0.000490143203523068,0.0005380295271863327,0.0005189035916274953,0.000513452581156756,0.0005036057385533514,0.0004941116109263197,0.0004904009962181903,0.0005177908330260876,0.0005196311688452669,0.000539318168918907,0.0005340541939889784,0.0005469248126766315,0.0005609212556016394,0.0005441654374010471,0.0005329955273028211,0.0005304900041432475,0.0005389271622771033,0.0005539010556494381,0.0005514454143207549,0.0005264645949357778,0.0005656800440303512,0.0005470863228779692,0.0005360495625191018,0.000569759540017934,0.0005595046192254259,0.0005671929196928751,0.00059402625779927,0.0006224492601818625,0.0005753129730935955,0.0005662487222804269,0.0005607681747284739,0.0005635061710895326,0.0005500125083090358,0.0005690188079571827,0.0005793509659880974,0.0005907117639574744,0.0005931826295874131,0.000575827753777903,0.0005911514915102022,0.0006111087577178695,0.0005422065487205652,0.0006058541317325882,0.0005971492687692703,0.0005743834691451176,0.0005889113712348085,0.0005777612445618023,0.000612916633089369,0.0006076199042655888,0.0005968072307684453,0.0005639971080346709,0.0005856282644387844,0.0005853174785579564,0.0005920171745726139,0.0006118511909005207,0.0005803233437816621,0.0005637887094367786,0.00053588852300798,0.0005614736031886141,0.0005437895281820373,0.0005300355781327188,0.000558864515152094,0.0005335649452478552,0.0005122837160645106,0.0004848075447253328,0.0004690633333408404,0.00045375129766132567,0.0004431573225842941,0.0004496768874304744,0.0003913545908623174,0.000358502312860176,0.0003104745517965904,0.0002759845961582438,0.0002390259149030496,0.00014410973600396124,7.579283580958018e-05,-3.904601957183546e-05,-0.00014736651622518517,-0.00039928769867538275,-0.00073875755639974,-0.0011954779347881604,-0.0018105966685358086,-0.0029039106412966273,-0.004796405823921896,-0.008534008821222686,-0.015974579668281624,-0.02620977673850438,-0.019805960869064377,0.011549192349804805,0.028320979532953868,0.025558072769013118,0.0176116664634722,0.010862020037771264,0.006574027591871958,0.004291804190082326,0.0029445165259786407,0.002180727003891052,0.0017743878409120714,0.0014929259360065214,0.0012901854766441188,0.0012093689612703048,0.0012186037202593775,0.0012129412878374157,0.0012752023174890778,0.001319926591424658,0.00140923354952181,0.0014620908563941857,0.0015495422972945467,0.0016053219048831975,0.001594163132054586,0.0015601317621189176,0.0014924243616242377,0.0013797134755299965,0.0013159411912680328,0.0011822688143360968,0.0011291476894244418,0.001080641147080079,0.0010130580356779446,0.0010080785869995329,0.001012325713996165,0.0010086270078863307,0.0010244524395263072,0.0010268722794762573,0.0010134116258293509,0.0010940611440037277,0.001116611249140362,0.0011438340120005282,0.001119351961068835,0.0011277929445657167,0.0011356946537026539,0.0011876410006319165,0.0012016660033439199,0.0011364546162659249,0.0011729866689705374,0.001142132660760593,0.0011518558041992007,0.0011466868245956167,0.0010657057597777007,0.0010736654770240551,0.0010858241598193223,0.0010221984346842786,0.0009697309387062051,0.0009579996448563685,0.0009584955767277381,0.0008897493944687067,0.0008952455450980057,0.0008868262981389593,0.0008251111169022843,0.0007805079456343783,0.000799996343728503,0.0007871339107527762,0.0007762505066189932,0.0007431609781365733,0.000751348721978092,0.0006956303146513555,0.0007318952987843936,0.0006900073758469235,0.0007069093743937417,0.0007388249985203834,0.0007124756106202622,0.0007282958039192551,0.0007271003107673899,0.0007733512810777128,0.0007185138261916225,0.000758229137484715,0.0007321833683905492,0.0007528945798531458,0.0007484223247217974,0.0008023356845433521,0.0007651643443391896,0.0007564718018959471,0.000770128535861447,0.0007554143415619872,0.0007816863073668336,0.0007813979944593468,0.0008126915298560278,0.0007953934432168517,0.0008043449028446027,0.0007580408800063149,0.000776230213500817,0.0007804035524688396,0.000761052583508887,0.0007463985540941868,0.0007719899976402966,0.0007132294128578197,0.0007240694897344778,0.0007527749740095108,0.0007469804883749294,0.00075317677391602,0.0007520763345662973,0.0007499905035985671,0.0007773840201866726,0.000773184157200368,0.0007480949260996572,0.0007293732730301724,0.0007370595971701612,0.0007280392417897388,0.0007353335577942312,0.0007314506432342522],\"yaxis\":\"y\",\"type\":\"scatter\"}],                        {\"template\":{\"data\":{\"histogram2dcontour\":[{\"type\":\"histogram2dcontour\",\"colorbar\":{\"outlinewidth\":0,\"ticks\":\"\"},\"colorscale\":[[0.0,\"#0d0887\"],[0.1111111111111111,\"#46039f\"],[0.2222222222222222,\"#7201a8\"],[0.3333333333333333,\"#9c179e\"],[0.4444444444444444,\"#bd3786\"],[0.5555555555555556,\"#d8576b\"],[0.6666666666666666,\"#ed7953\"],[0.7777777777777778,\"#fb9f3a\"],[0.8888888888888888,\"#fdca26\"],[1.0,\"#f0f921\"]]}],\"choropleth\":[{\"type\":\"choropleth\",\"colorbar\":{\"outlinewidth\":0,\"ticks\":\"\"}}],\"histogram2d\":[{\"type\":\"histogram2d\",\"colorbar\":{\"outlinewidth\":0,\"ticks\":\"\"},\"colorscale\":[[0.0,\"#0d0887\"],[0.1111111111111111,\"#46039f\"],[0.2222222222222222,\"#7201a8\"],[0.3333333333333333,\"#9c179e\"],[0.4444444444444444,\"#bd3786\"],[0.5555555555555556,\"#d8576b\"],[0.6666666666666666,\"#ed7953\"],[0.7777777777777778,\"#fb9f3a\"],[0.8888888888888888,\"#fdca26\"],[1.0,\"#f0f921\"]]}],\"heatmap\":[{\"type\":\"heatmap\",\"colorbar\":{\"outlinewidth\":0,\"ticks\":\"\"},\"colorscale\":[[0.0,\"#0d0887\"],[0.1111111111111111,\"#46039f\"],[0.2222222222222222,\"#7201a8\"],[0.3333333333333333,\"#9c179e\"],[0.4444444444444444,\"#bd3786\"],[0.5555555555555556,\"#d8576b\"],[0.6666666666666666,\"#ed7953\"],[0.7777777777777778,\"#fb9f3a\"],[0.8888888888888888,\"#fdca26\"],[1.0,\"#f0f921\"]]}],\"heatmapgl\":[{\"type\":\"heatmapgl\",\"colorbar\":{\"outlinewidth\":0,\"ticks\":\"\"},\"colorscale\":[[0.0,\"#0d0887\"],[0.1111111111111111,\"#46039f\"],[0.2222222222222222,\"#7201a8\"],[0.3333333333333333,\"#9c179e\"],[0.4444444444444444,\"#bd3786\"],[0.5555555555555556,\"#d8576b\"],[0.6666666666666666,\"#ed7953\"],[0.7777777777777778,\"#fb9f3a\"],[0.8888888888888888,\"#fdca26\"],[1.0,\"#f0f921\"]]}],\"contourcarpet\":[{\"type\":\"contourcarpet\",\"colorbar\":{\"outlinewidth\":0,\"ticks\":\"\"}}],\"contour\":[{\"type\":\"contour\",\"colorbar\":{\"outlinewidth\":0,\"ticks\":\"\"},\"colorscale\":[[0.0,\"#0d0887\"],[0.1111111111111111,\"#46039f\"],[0.2222222222222222,\"#7201a8\"],[0.3333333333333333,\"#9c179e\"],[0.4444444444444444,\"#bd3786\"],[0.5555555555555556,\"#d8576b\"],[0.6666666666666666,\"#ed7953\"],[0.7777777777777778,\"#fb9f3a\"],[0.8888888888888888,\"#fdca26\"],[1.0,\"#f0f921\"]]}],\"surface\":[{\"type\":\"surface\",\"colorbar\":{\"outlinewidth\":0,\"ticks\":\"\"},\"colorscale\":[[0.0,\"#0d0887\"],[0.1111111111111111,\"#46039f\"],[0.2222222222222222,\"#7201a8\"],[0.3333333333333333,\"#9c179e\"],[0.4444444444444444,\"#bd3786\"],[0.5555555555555556,\"#d8576b\"],[0.6666666666666666,\"#ed7953\"],[0.7777777777777778,\"#fb9f3a\"],[0.8888888888888888,\"#fdca26\"],[1.0,\"#f0f921\"]]}],\"mesh3d\":[{\"type\":\"mesh3d\",\"colorbar\":{\"outlinewidth\":0,\"ticks\":\"\"}}],\"scatter\":[{\"marker\":{\"line\":{\"color\":\"#283442\"}},\"type\":\"scatter\"}],\"parcoords\":[{\"type\":\"parcoords\",\"line\":{\"colorbar\":{\"outlinewidth\":0,\"ticks\":\"\"}}}],\"scatterpolargl\":[{\"type\":\"scatterpolargl\",\"marker\":{\"colorbar\":{\"outlinewidth\":0,\"ticks\":\"\"}}}],\"bar\":[{\"error_x\":{\"color\":\"#f2f5fa\"},\"error_y\":{\"color\":\"#f2f5fa\"},\"marker\":{\"line\":{\"color\":\"rgb(17,17,17)\",\"width\":0.5},\"pattern\":{\"fillmode\":\"overlay\",\"size\":10,\"solidity\":0.2}},\"type\":\"bar\"}],\"scattergeo\":[{\"type\":\"scattergeo\",\"marker\":{\"colorbar\":{\"outlinewidth\":0,\"ticks\":\"\"}}}],\"scatterpolar\":[{\"type\":\"scatterpolar\",\"marker\":{\"colorbar\":{\"outlinewidth\":0,\"ticks\":\"\"}}}],\"histogram\":[{\"marker\":{\"pattern\":{\"fillmode\":\"overlay\",\"size\":10,\"solidity\":0.2}},\"type\":\"histogram\"}],\"scattergl\":[{\"marker\":{\"line\":{\"color\":\"#283442\"}},\"type\":\"scattergl\"}],\"scatter3d\":[{\"type\":\"scatter3d\",\"line\":{\"colorbar\":{\"outlinewidth\":0,\"ticks\":\"\"}},\"marker\":{\"colorbar\":{\"outlinewidth\":0,\"ticks\":\"\"}}}],\"scattermapbox\":[{\"type\":\"scattermapbox\",\"marker\":{\"colorbar\":{\"outlinewidth\":0,\"ticks\":\"\"}}}],\"scatterternary\":[{\"type\":\"scatterternary\",\"marker\":{\"colorbar\":{\"outlinewidth\":0,\"ticks\":\"\"}}}],\"scattercarpet\":[{\"type\":\"scattercarpet\",\"marker\":{\"colorbar\":{\"outlinewidth\":0,\"ticks\":\"\"}}}],\"carpet\":[{\"aaxis\":{\"endlinecolor\":\"#A2B1C6\",\"gridcolor\":\"#506784\",\"linecolor\":\"#506784\",\"minorgridcolor\":\"#506784\",\"startlinecolor\":\"#A2B1C6\"},\"baxis\":{\"endlinecolor\":\"#A2B1C6\",\"gridcolor\":\"#506784\",\"linecolor\":\"#506784\",\"minorgridcolor\":\"#506784\",\"startlinecolor\":\"#A2B1C6\"},\"type\":\"carpet\"}],\"table\":[{\"cells\":{\"fill\":{\"color\":\"#506784\"},\"line\":{\"color\":\"rgb(17,17,17)\"}},\"header\":{\"fill\":{\"color\":\"#2a3f5f\"},\"line\":{\"color\":\"rgb(17,17,17)\"}},\"type\":\"table\"}],\"barpolar\":[{\"marker\":{\"line\":{\"color\":\"rgb(17,17,17)\",\"width\":0.5},\"pattern\":{\"fillmode\":\"overlay\",\"size\":10,\"solidity\":0.2}},\"type\":\"barpolar\"}],\"pie\":[{\"automargin\":true,\"type\":\"pie\"}]},\"layout\":{\"autotypenumbers\":\"strict\",\"colorway\":[\"#636efa\",\"#EF553B\",\"#00cc96\",\"#ab63fa\",\"#FFA15A\",\"#19d3f3\",\"#FF6692\",\"#B6E880\",\"#FF97FF\",\"#FECB52\"],\"font\":{\"color\":\"#f2f5fa\"},\"hovermode\":\"closest\",\"hoverlabel\":{\"align\":\"left\"},\"paper_bgcolor\":\"rgb(17,17,17)\",\"plot_bgcolor\":\"rgb(17,17,17)\",\"polar\":{\"bgcolor\":\"rgb(17,17,17)\",\"angularaxis\":{\"gridcolor\":\"#506784\",\"linecolor\":\"#506784\",\"ticks\":\"\"},\"radialaxis\":{\"gridcolor\":\"#506784\",\"linecolor\":\"#506784\",\"ticks\":\"\"}},\"ternary\":{\"bgcolor\":\"rgb(17,17,17)\",\"aaxis\":{\"gridcolor\":\"#506784\",\"linecolor\":\"#506784\",\"ticks\":\"\"},\"baxis\":{\"gridcolor\":\"#506784\",\"linecolor\":\"#506784\",\"ticks\":\"\"},\"caxis\":{\"gridcolor\":\"#506784\",\"linecolor\":\"#506784\",\"ticks\":\"\"}},\"coloraxis\":{\"colorbar\":{\"outlinewidth\":0,\"ticks\":\"\"}},\"colorscale\":{\"sequential\":[[0.0,\"#0d0887\"],[0.1111111111111111,\"#46039f\"],[0.2222222222222222,\"#7201a8\"],[0.3333333333333333,\"#9c179e\"],[0.4444444444444444,\"#bd3786\"],[0.5555555555555556,\"#d8576b\"],[0.6666666666666666,\"#ed7953\"],[0.7777777777777778,\"#fb9f3a\"],[0.8888888888888888,\"#fdca26\"],[1.0,\"#f0f921\"]],\"sequentialminus\":[[0.0,\"#0d0887\"],[0.1111111111111111,\"#46039f\"],[0.2222222222222222,\"#7201a8\"],[0.3333333333333333,\"#9c179e\"],[0.4444444444444444,\"#bd3786\"],[0.5555555555555556,\"#d8576b\"],[0.6666666666666666,\"#ed7953\"],[0.7777777777777778,\"#fb9f3a\"],[0.8888888888888888,\"#fdca26\"],[1.0,\"#f0f921\"]],\"diverging\":[[0,\"#8e0152\"],[0.1,\"#c51b7d\"],[0.2,\"#de77ae\"],[0.3,\"#f1b6da\"],[0.4,\"#fde0ef\"],[0.5,\"#f7f7f7\"],[0.6,\"#e6f5d0\"],[0.7,\"#b8e186\"],[0.8,\"#7fbc41\"],[0.9,\"#4d9221\"],[1,\"#276419\"]]},\"xaxis\":{\"gridcolor\":\"#283442\",\"linecolor\":\"#506784\",\"ticks\":\"\",\"title\":{\"standoff\":15},\"zerolinecolor\":\"#283442\",\"automargin\":true,\"zerolinewidth\":2},\"yaxis\":{\"gridcolor\":\"#283442\",\"linecolor\":\"#506784\",\"ticks\":\"\",\"title\":{\"standoff\":15},\"zerolinecolor\":\"#283442\",\"automargin\":true,\"zerolinewidth\":2},\"scene\":{\"xaxis\":{\"backgroundcolor\":\"rgb(17,17,17)\",\"gridcolor\":\"#506784\",\"linecolor\":\"#506784\",\"showbackground\":true,\"ticks\":\"\",\"zerolinecolor\":\"#C8D4E3\",\"gridwidth\":2},\"yaxis\":{\"backgroundcolor\":\"rgb(17,17,17)\",\"gridcolor\":\"#506784\",\"linecolor\":\"#506784\",\"showbackground\":true,\"ticks\":\"\",\"zerolinecolor\":\"#C8D4E3\",\"gridwidth\":2},\"zaxis\":{\"backgroundcolor\":\"rgb(17,17,17)\",\"gridcolor\":\"#506784\",\"linecolor\":\"#506784\",\"showbackground\":true,\"ticks\":\"\",\"zerolinecolor\":\"#C8D4E3\",\"gridwidth\":2}},\"shapedefaults\":{\"line\":{\"color\":\"#f2f5fa\"}},\"annotationdefaults\":{\"arrowcolor\":\"#f2f5fa\",\"arrowhead\":0,\"arrowwidth\":1},\"geo\":{\"bgcolor\":\"rgb(17,17,17)\",\"landcolor\":\"rgb(17,17,17)\",\"subunitcolor\":\"#506784\",\"showland\":true,\"showlakes\":true,\"lakecolor\":\"rgb(17,17,17)\"},\"title\":{\"x\":0.05},\"updatemenudefaults\":{\"bgcolor\":\"#506784\",\"borderwidth\":0},\"sliderdefaults\":{\"bgcolor\":\"#C8D4E3\",\"borderwidth\":1,\"bordercolor\":\"rgb(17,17,17)\",\"tickwidth\":0},\"mapbox\":{\"style\":\"dark\"}}},\"xaxis\":{\"anchor\":\"y\",\"domain\":[0.0,1.0],\"title\":{\"text\":\"x\"}},\"yaxis\":{\"anchor\":\"x\",\"domain\":[0.0,1.0],\"title\":{\"text\":\"y\"}},\"legend\":{\"tracegroupgap\":0},\"margin\":{\"t\":60}},                        {\"responsive\": true}                    ).then(function(){\n                            \nvar gd = document.getElementById('759ce0f4-14c0-4bc5-9f51-88b8c56eb003');\nvar x = new MutationObserver(function (mutations, observer) {{\n        var display = window.getComputedStyle(gd).display;\n        if (!display || display === 'none') {{\n            console.log([gd, 'removed!']);\n            Plotly.purge(gd);\n            observer.disconnect();\n        }}\n}});\n\n// Listen for the removal of the full notebook cells\nvar notebookContainer = gd.closest('#notebook-container');\nif (notebookContainer) {{\n    x.observe(notebookContainer, {childList: true});\n}}\n\n// Listen for the clearing of the current output cell\nvar outputEl = gd.closest('.output');\nif (outputEl) {{\n    x.observe(outputEl, {childList: true});\n}}\n\n                        })                };                });            </script>        </div>"
     },
     "metadata": {},
     "output_type": "display_data"
    },
    {
     "data": {
      "application/vnd.plotly.v1+json": {
       "data": [
        {
         "hovertemplate": "x=%{x}<br>y=%{y}<extra></extra>",
         "legendgroup": "",
         "line": {
          "color": "#636efa",
          "dash": "solid"
         },
         "marker": {
          "symbol": "circle"
         },
         "mode": "lines",
         "name": "",
         "orientation": "v",
         "showlegend": false,
         "x": [
          1489.670166015625,
          1488.5650634765625,
          1487.459716796875,
          1486.354248046875,
          1485.24853515625,
          1484.142578125,
          1483.0364990234375,
          1481.93017578125,
          1480.8236083984375,
          1479.7169189453125,
          1478.6099853515625,
          1477.5028076171875,
          1476.3955078125,
          1475.2879638671875,
          1474.1802978515625,
          1473.0723876953125,
          1471.9642333984375,
          1470.8558349609375,
          1469.747314453125,
          1468.638671875,
          1467.5296630859375,
          1466.4205322265625,
          1465.311279296875,
          1464.20166015625,
          1463.0919189453125,
          1461.9820556640625,
          1460.8719482421875,
          1459.7615966796875,
          1458.6510009765625,
          1457.540283203125,
          1456.4293212890625,
          1455.3182373046875,
          1454.2069091796875,
          1453.0953369140625,
          1451.983642578125,
          1450.8717041015625,
          1449.759521484375,
          1448.647216796875,
          1447.53466796875,
          1446.421875,
          1445.3089599609375,
          1444.19580078125,
          1443.0823974609375,
          1441.9688720703125,
          1440.8551025390625,
          1439.7410888671875,
          1438.626953125,
          1437.5125732421875,
          1436.3980712890625,
          1435.2833251953125,
          1434.1683349609375,
          1433.0531005859375,
          1431.937744140625,
          1430.8221435546875,
          1429.7064208984375,
          1428.5904541015625,
          1427.4742431640625,
          1426.35791015625,
          1425.2412109375,
          1424.12451171875,
          1423.0074462890625,
          1421.8902587890625,
          1420.7728271484375,
          1419.6552734375,
          1418.5374755859375,
          1417.41943359375,
          1416.30126953125,
          1415.182861328125,
          1414.064208984375,
          1412.9454345703125,
          1411.826416015625,
          1410.7071533203125,
          1409.587646484375,
          1408.468017578125,
          1407.3482666015625,
          1406.2281494140625,
          1405.10791015625,
          1403.9874267578125,
          1402.8668212890625,
          1401.7459716796875,
          1400.6248779296875,
          1399.503662109375,
          1398.3822021484375,
          1397.260498046875,
          1396.1385498046875,
          1395.0164794921875,
          1393.894287109375,
          1392.771728515625,
          1391.6490478515625,
          1390.526123046875,
          1389.403076171875,
          1388.2796630859375,
          1387.15625,
          1386.032470703125,
          1384.9085693359375,
          1383.784423828125,
          1382.6600341796875,
          1381.5355224609375,
          1380.4107666015625,
          1379.2857666015625,
          1378.16064453125,
          1377.0352783203125,
          1375.90966796875,
          1374.783935546875,
          1373.657958984375,
          1372.53173828125,
          1371.4053955078125,
          1370.27880859375,
          1369.1519775390625,
          1368.02490234375,
          1366.897705078125,
          1365.770263671875,
          1364.6427001953125,
          1363.5147705078125,
          1362.38671875,
          1361.258544921875,
          1360.1300048828125,
          1359.0013427734375,
          1357.87255859375,
          1356.743408203125,
          1355.6141357421875,
          1354.484619140625,
          1353.35498046875,
          1352.22509765625,
          1351.094970703125,
          1349.964599609375,
          1348.8341064453125,
          1347.703369140625,
          1346.5723876953125,
          1345.441162109375,
          1344.309814453125,
          1343.17822265625,
          1342.0465087890625,
          1340.91455078125,
          1339.7823486328125,
          1338.64990234375,
          1337.517333984375,
          1336.384521484375,
          1335.25146484375,
          1334.1181640625,
          1332.9847412109375,
          1331.85107421875,
          1330.7171630859375,
          1329.5831298828125,
          1328.4488525390625,
          1327.3143310546875,
          1326.1796875,
          1325.0447998046875,
          1323.90966796875,
          1322.7742919921875,
          1321.6387939453125,
          1320.5029296875,
          1319.3670654296875,
          1318.2308349609375,
          1317.094482421875,
          1315.9578857421875,
          1314.821044921875,
          1313.68408203125,
          1312.546875,
          1311.409423828125,
          1310.271728515625,
          1309.1339111328125,
          1307.995849609375,
          1306.8575439453125,
          1305.718994140625,
          1304.580322265625,
          1303.44140625,
          1302.3023681640625,
          1301.1629638671875,
          1300.0234375,
          1298.8836669921875,
          1297.74365234375,
          1296.603515625,
          1295.463134765625,
          1294.322509765625,
          1293.181640625,
          1292.0406494140625,
          1290.8994140625,
          1289.7579345703125,
          1288.6163330078125,
          1287.474365234375,
          1286.332275390625,
          1285.1900634765625,
          1284.0474853515625,
          1282.90478515625,
          1281.7618408203125,
          1280.61865234375,
          1279.475341796875,
          1278.3316650390625,
          1277.1878662109375,
          1276.0439453125,
          1274.899658203125,
          1273.7552490234375,
          1272.610595703125,
          1271.4656982421875,
          1270.3206787109375,
          1269.17529296875,
          1268.02978515625,
          1266.8841552734375
         ],
         "xaxis": "x",
         "y": [
          0.002108522623163615,
          0.0021658845014825455,
          0.002099310981164523,
          0.002119675784985005,
          0.001968319156755196,
          0.0021183156505383215,
          0.002076257431358913,
          0.001937452071240387,
          0.0020308403580729583,
          0.0019661490513483973,
          0.002023608982079016,
          0.0020061213294531957,
          0.001959400767821875,
          0.001895451979033824,
          0.001933270110779376,
          0.0019434809018600958,
          0.0019912243828554767,
          0.0019025080553644704,
          0.0018874656518974694,
          0.0018838962923402893,
          0.0019121810868548575,
          0.0019140844479886535,
          0.0018477233266661931,
          0.001916083678429215,
          0.0019022064070786699,
          0.0017694266050738204,
          0.0018568675563748122,
          0.001834977907917064,
          0.0018257898733883833,
          0.001822258919010424,
          0.0018094809999582074,
          0.0017907117472258092,
          0.0017690370202108124,
          0.0017772955743311043,
          0.0017322584113318446,
          0.0018527756829669383,
          0.0017261572264736862,
          0.0016644788471802097,
          0.001623362657423015,
          0.001701793898089614,
          0.0016841992903964941,
          0.0016671434674586756,
          0.0016864728819399118,
          0.0016666174726861181,
          0.001729862868284061,
          0.00165518941544787,
          0.0016497753549425676,
          0.001586291294547247,
          0.0016373728767771498,
          0.00149414198605366,
          0.001547513044177591,
          0.001564475721953558,
          0.0014155889038876101,
          0.0015129478222476029,
          0.001544932005177658,
          0.001491166573094388,
          0.0014673980852814106,
          0.0015114826502709954,
          0.0015625861348508674,
          0.0014958625940574618,
          0.0015251138391015728,
          0.0014045372589936512,
          0.0015288946300413225,
          0.0015642578651157385,
          0.0014996871747368068,
          0.001494741717321148,
          0.0015614741014939853,
          0.0015112544397404184,
          0.001568587509804099,
          0.0016009542275926998,
          0.0016841957453733415,
          0.001592050544460137,
          0.0016219939494272974,
          0.0017313962933784555,
          0.001932507361342909,
          0.0021814783211420987,
          0.002334876874195828,
          0.0025719623492666916,
          0.003026702864671969,
          0.0034600931361610347,
          0.004282141728218066,
          0.00560689746623147,
          0.007586162674016722,
          0.010223445632972363,
          0.014131294373419223,
          0.017080468377988885,
          0.010727278570784182,
          -0.01082619193284992,
          -0.014378642964604412,
          0.0023764939003901,
          0.012438017752159424,
          0.013858693197779317,
          0.01145371217488422,
          0.008386205908843666,
          0.006076374330592895,
          0.004497672137333686,
          0.0034000497812152084,
          0.002640385830257126,
          0.0020986224725499636,
          0.0016218496874385296,
          0.001261864786419462,
          9.641323815423747E-4,
          7.100915992535345E-4,
          3.101989754927529E-4,
          4.774732668418035E-5,
          -1.7516733353993701E-4,
          -3.9459492321675794E-4,
          -5.750705816703495E-4,
          -7.929157326841702E-4,
          -7.707158150062113E-4,
          -7.783820352006979E-4,
          -7.375711936179151E-4,
          -6.490907465307737E-4,
          -6.202419920331518E-4,
          -3.2671161352115205E-4,
          -1.6781749804113246E-4,
          -4.798431566375838E-5,
          -7.305726803118935E-5,
          2.111914649163345E-4,
          2.443412486075465E-4,
          2.9695077918517394E-4,
          4.7535697592372326E-4,
          6.15791124294714E-4,
          5.761502064652718E-4,
          5.677747825266118E-4,
          4.969043939492302E-4,
          5.944682424895791E-4,
          6.623488390773472E-4,
          5.72954445194084E-4,
          5.530305614170706E-4,
          5.37434673100294E-4,
          5.989951801317965E-4,
          4.4838025414373737E-4,
          4.884792107887403E-4,
          4.6565653840724614E-4,
          4.5587235005695474E-4,
          4.590872088224204E-4,
          7.214290517217251E-4,
          6.409478667170332E-4,
          8.120317607751439E-4,
          6.761821175638587E-4,
          7.629634093121921E-4,
          7.986721198323734E-4,
          8.274225584367433E-4,
          8.271914604050348E-4,
          7.43382609848549E-4,
          8.016262200925622E-4,
          7.902116077452575E-4,
          8.006040064485615E-4,
          7.544216279926312E-4,
          9.547738813490159E-4,
          9.547670018453997E-4,
          9.062626643793207E-4,
          8.933812639376991E-4,
          9.574622621955713E-4,
          9.602194745654217E-4,
          9.541683889725744E-4,
          9.090373919367112E-4,
          9.439232873339374E-4,
          9.068148236239221E-4,
          9.652958634120291E-4,
          0.0010303637917343936,
          0.0011041188091332325,
          0.0010044828830373814,
          0.0010324894226159873,
          0.0010014584873758413,
          0.0010239188252103653,
          0.0010624853073492807,
          0.0010417749658721185,
          0.0011293734707684404,
          0.0010160944964222624,
          0.0010034204034897998,
          0.001147644563598703,
          0.0011286221903120998,
          0.0012212540654169132,
          0.0011126900691891006,
          0.001087211876835651,
          0.0011400421490791854,
          0.0011307902062081868,
          0.001121901142991674,
          0.0011213398392504364,
          0.0011075269255765737,
          0.001129656262874674,
          0.0011725145523660192,
          0.001188432183987998,
          0.00111030421510312,
          0.001137144702950618,
          0.0012735392816230105,
          0.0010594000862900708,
          0.0011420510595528475,
          0.0011560608714782808,
          0.0011084273330011182,
          0.0012171578963231964,
          0.0011825682235690708,
          0.00116397295443378,
          0.0012078761824371362,
          0.0011937304177204425,
          0.0012769902290875371,
          0.001255743544818594
         ],
         "yaxis": "y",
         "type": "scatter"
        }
       ],
       "layout": {
        "template": {
         "data": {
          "histogram2dcontour": [
           {
            "type": "histogram2dcontour",
            "colorbar": {
             "outlinewidth": 0,
             "ticks": ""
            },
            "colorscale": [
             [
              0.0,
              "#0d0887"
             ],
             [
              0.1111111111111111,
              "#46039f"
             ],
             [
              0.2222222222222222,
              "#7201a8"
             ],
             [
              0.3333333333333333,
              "#9c179e"
             ],
             [
              0.4444444444444444,
              "#bd3786"
             ],
             [
              0.5555555555555556,
              "#d8576b"
             ],
             [
              0.6666666666666666,
              "#ed7953"
             ],
             [
              0.7777777777777778,
              "#fb9f3a"
             ],
             [
              0.8888888888888888,
              "#fdca26"
             ],
             [
              1.0,
              "#f0f921"
             ]
            ]
           }
          ],
          "choropleth": [
           {
            "type": "choropleth",
            "colorbar": {
             "outlinewidth": 0,
             "ticks": ""
            }
           }
          ],
          "histogram2d": [
           {
            "type": "histogram2d",
            "colorbar": {
             "outlinewidth": 0,
             "ticks": ""
            },
            "colorscale": [
             [
              0.0,
              "#0d0887"
             ],
             [
              0.1111111111111111,
              "#46039f"
             ],
             [
              0.2222222222222222,
              "#7201a8"
             ],
             [
              0.3333333333333333,
              "#9c179e"
             ],
             [
              0.4444444444444444,
              "#bd3786"
             ],
             [
              0.5555555555555556,
              "#d8576b"
             ],
             [
              0.6666666666666666,
              "#ed7953"
             ],
             [
              0.7777777777777778,
              "#fb9f3a"
             ],
             [
              0.8888888888888888,
              "#fdca26"
             ],
             [
              1.0,
              "#f0f921"
             ]
            ]
           }
          ],
          "heatmap": [
           {
            "type": "heatmap",
            "colorbar": {
             "outlinewidth": 0,
             "ticks": ""
            },
            "colorscale": [
             [
              0.0,
              "#0d0887"
             ],
             [
              0.1111111111111111,
              "#46039f"
             ],
             [
              0.2222222222222222,
              "#7201a8"
             ],
             [
              0.3333333333333333,
              "#9c179e"
             ],
             [
              0.4444444444444444,
              "#bd3786"
             ],
             [
              0.5555555555555556,
              "#d8576b"
             ],
             [
              0.6666666666666666,
              "#ed7953"
             ],
             [
              0.7777777777777778,
              "#fb9f3a"
             ],
             [
              0.8888888888888888,
              "#fdca26"
             ],
             [
              1.0,
              "#f0f921"
             ]
            ]
           }
          ],
          "heatmapgl": [
           {
            "type": "heatmapgl",
            "colorbar": {
             "outlinewidth": 0,
             "ticks": ""
            },
            "colorscale": [
             [
              0.0,
              "#0d0887"
             ],
             [
              0.1111111111111111,
              "#46039f"
             ],
             [
              0.2222222222222222,
              "#7201a8"
             ],
             [
              0.3333333333333333,
              "#9c179e"
             ],
             [
              0.4444444444444444,
              "#bd3786"
             ],
             [
              0.5555555555555556,
              "#d8576b"
             ],
             [
              0.6666666666666666,
              "#ed7953"
             ],
             [
              0.7777777777777778,
              "#fb9f3a"
             ],
             [
              0.8888888888888888,
              "#fdca26"
             ],
             [
              1.0,
              "#f0f921"
             ]
            ]
           }
          ],
          "contourcarpet": [
           {
            "type": "contourcarpet",
            "colorbar": {
             "outlinewidth": 0,
             "ticks": ""
            }
           }
          ],
          "contour": [
           {
            "type": "contour",
            "colorbar": {
             "outlinewidth": 0,
             "ticks": ""
            },
            "colorscale": [
             [
              0.0,
              "#0d0887"
             ],
             [
              0.1111111111111111,
              "#46039f"
             ],
             [
              0.2222222222222222,
              "#7201a8"
             ],
             [
              0.3333333333333333,
              "#9c179e"
             ],
             [
              0.4444444444444444,
              "#bd3786"
             ],
             [
              0.5555555555555556,
              "#d8576b"
             ],
             [
              0.6666666666666666,
              "#ed7953"
             ],
             [
              0.7777777777777778,
              "#fb9f3a"
             ],
             [
              0.8888888888888888,
              "#fdca26"
             ],
             [
              1.0,
              "#f0f921"
             ]
            ]
           }
          ],
          "surface": [
           {
            "type": "surface",
            "colorbar": {
             "outlinewidth": 0,
             "ticks": ""
            },
            "colorscale": [
             [
              0.0,
              "#0d0887"
             ],
             [
              0.1111111111111111,
              "#46039f"
             ],
             [
              0.2222222222222222,
              "#7201a8"
             ],
             [
              0.3333333333333333,
              "#9c179e"
             ],
             [
              0.4444444444444444,
              "#bd3786"
             ],
             [
              0.5555555555555556,
              "#d8576b"
             ],
             [
              0.6666666666666666,
              "#ed7953"
             ],
             [
              0.7777777777777778,
              "#fb9f3a"
             ],
             [
              0.8888888888888888,
              "#fdca26"
             ],
             [
              1.0,
              "#f0f921"
             ]
            ]
           }
          ],
          "mesh3d": [
           {
            "type": "mesh3d",
            "colorbar": {
             "outlinewidth": 0,
             "ticks": ""
            }
           }
          ],
          "scatter": [
           {
            "marker": {
             "line": {
              "color": "#283442"
             }
            },
            "type": "scatter"
           }
          ],
          "parcoords": [
           {
            "type": "parcoords",
            "line": {
             "colorbar": {
              "outlinewidth": 0,
              "ticks": ""
             }
            }
           }
          ],
          "scatterpolargl": [
           {
            "type": "scatterpolargl",
            "marker": {
             "colorbar": {
              "outlinewidth": 0,
              "ticks": ""
             }
            }
           }
          ],
          "bar": [
           {
            "error_x": {
             "color": "#f2f5fa"
            },
            "error_y": {
             "color": "#f2f5fa"
            },
            "marker": {
             "line": {
              "color": "rgb(17,17,17)",
              "width": 0.5
             },
             "pattern": {
              "fillmode": "overlay",
              "size": 10,
              "solidity": 0.2
             }
            },
            "type": "bar"
           }
          ],
          "scattergeo": [
           {
            "type": "scattergeo",
            "marker": {
             "colorbar": {
              "outlinewidth": 0,
              "ticks": ""
             }
            }
           }
          ],
          "scatterpolar": [
           {
            "type": "scatterpolar",
            "marker": {
             "colorbar": {
              "outlinewidth": 0,
              "ticks": ""
             }
            }
           }
          ],
          "histogram": [
           {
            "marker": {
             "pattern": {
              "fillmode": "overlay",
              "size": 10,
              "solidity": 0.2
             }
            },
            "type": "histogram"
           }
          ],
          "scattergl": [
           {
            "marker": {
             "line": {
              "color": "#283442"
             }
            },
            "type": "scattergl"
           }
          ],
          "scatter3d": [
           {
            "type": "scatter3d",
            "line": {
             "colorbar": {
              "outlinewidth": 0,
              "ticks": ""
             }
            },
            "marker": {
             "colorbar": {
              "outlinewidth": 0,
              "ticks": ""
             }
            }
           }
          ],
          "scattermapbox": [
           {
            "type": "scattermapbox",
            "marker": {
             "colorbar": {
              "outlinewidth": 0,
              "ticks": ""
             }
            }
           }
          ],
          "scatterternary": [
           {
            "type": "scatterternary",
            "marker": {
             "colorbar": {
              "outlinewidth": 0,
              "ticks": ""
             }
            }
           }
          ],
          "scattercarpet": [
           {
            "type": "scattercarpet",
            "marker": {
             "colorbar": {
              "outlinewidth": 0,
              "ticks": ""
             }
            }
           }
          ],
          "carpet": [
           {
            "aaxis": {
             "endlinecolor": "#A2B1C6",
             "gridcolor": "#506784",
             "linecolor": "#506784",
             "minorgridcolor": "#506784",
             "startlinecolor": "#A2B1C6"
            },
            "baxis": {
             "endlinecolor": "#A2B1C6",
             "gridcolor": "#506784",
             "linecolor": "#506784",
             "minorgridcolor": "#506784",
             "startlinecolor": "#A2B1C6"
            },
            "type": "carpet"
           }
          ],
          "table": [
           {
            "cells": {
             "fill": {
              "color": "#506784"
             },
             "line": {
              "color": "rgb(17,17,17)"
             }
            },
            "header": {
             "fill": {
              "color": "#2a3f5f"
             },
             "line": {
              "color": "rgb(17,17,17)"
             }
            },
            "type": "table"
           }
          ],
          "barpolar": [
           {
            "marker": {
             "line": {
              "color": "rgb(17,17,17)",
              "width": 0.5
             },
             "pattern": {
              "fillmode": "overlay",
              "size": 10,
              "solidity": 0.2
             }
            },
            "type": "barpolar"
           }
          ],
          "pie": [
           {
            "automargin": true,
            "type": "pie"
           }
          ]
         },
         "layout": {
          "autotypenumbers": "strict",
          "colorway": [
           "#636efa",
           "#EF553B",
           "#00cc96",
           "#ab63fa",
           "#FFA15A",
           "#19d3f3",
           "#FF6692",
           "#B6E880",
           "#FF97FF",
           "#FECB52"
          ],
          "font": {
           "color": "#f2f5fa"
          },
          "hovermode": "closest",
          "hoverlabel": {
           "align": "left"
          },
          "paper_bgcolor": "rgb(17,17,17)",
          "plot_bgcolor": "rgb(17,17,17)",
          "polar": {
           "bgcolor": "rgb(17,17,17)",
           "angularaxis": {
            "gridcolor": "#506784",
            "linecolor": "#506784",
            "ticks": ""
           },
           "radialaxis": {
            "gridcolor": "#506784",
            "linecolor": "#506784",
            "ticks": ""
           }
          },
          "ternary": {
           "bgcolor": "rgb(17,17,17)",
           "aaxis": {
            "gridcolor": "#506784",
            "linecolor": "#506784",
            "ticks": ""
           },
           "baxis": {
            "gridcolor": "#506784",
            "linecolor": "#506784",
            "ticks": ""
           },
           "caxis": {
            "gridcolor": "#506784",
            "linecolor": "#506784",
            "ticks": ""
           }
          },
          "coloraxis": {
           "colorbar": {
            "outlinewidth": 0,
            "ticks": ""
           }
          },
          "colorscale": {
           "sequential": [
            [
             0.0,
             "#0d0887"
            ],
            [
             0.1111111111111111,
             "#46039f"
            ],
            [
             0.2222222222222222,
             "#7201a8"
            ],
            [
             0.3333333333333333,
             "#9c179e"
            ],
            [
             0.4444444444444444,
             "#bd3786"
            ],
            [
             0.5555555555555556,
             "#d8576b"
            ],
            [
             0.6666666666666666,
             "#ed7953"
            ],
            [
             0.7777777777777778,
             "#fb9f3a"
            ],
            [
             0.8888888888888888,
             "#fdca26"
            ],
            [
             1.0,
             "#f0f921"
            ]
           ],
           "sequentialminus": [
            [
             0.0,
             "#0d0887"
            ],
            [
             0.1111111111111111,
             "#46039f"
            ],
            [
             0.2222222222222222,
             "#7201a8"
            ],
            [
             0.3333333333333333,
             "#9c179e"
            ],
            [
             0.4444444444444444,
             "#bd3786"
            ],
            [
             0.5555555555555556,
             "#d8576b"
            ],
            [
             0.6666666666666666,
             "#ed7953"
            ],
            [
             0.7777777777777778,
             "#fb9f3a"
            ],
            [
             0.8888888888888888,
             "#fdca26"
            ],
            [
             1.0,
             "#f0f921"
            ]
           ],
           "diverging": [
            [
             0,
             "#8e0152"
            ],
            [
             0.1,
             "#c51b7d"
            ],
            [
             0.2,
             "#de77ae"
            ],
            [
             0.3,
             "#f1b6da"
            ],
            [
             0.4,
             "#fde0ef"
            ],
            [
             0.5,
             "#f7f7f7"
            ],
            [
             0.6,
             "#e6f5d0"
            ],
            [
             0.7,
             "#b8e186"
            ],
            [
             0.8,
             "#7fbc41"
            ],
            [
             0.9,
             "#4d9221"
            ],
            [
             1,
             "#276419"
            ]
           ]
          },
          "xaxis": {
           "gridcolor": "#283442",
           "linecolor": "#506784",
           "ticks": "",
           "title": {
            "standoff": 15
           },
           "zerolinecolor": "#283442",
           "automargin": true,
           "zerolinewidth": 2
          },
          "yaxis": {
           "gridcolor": "#283442",
           "linecolor": "#506784",
           "ticks": "",
           "title": {
            "standoff": 15
           },
           "zerolinecolor": "#283442",
           "automargin": true,
           "zerolinewidth": 2
          },
          "scene": {
           "xaxis": {
            "backgroundcolor": "rgb(17,17,17)",
            "gridcolor": "#506784",
            "linecolor": "#506784",
            "showbackground": true,
            "ticks": "",
            "zerolinecolor": "#C8D4E3",
            "gridwidth": 2
           },
           "yaxis": {
            "backgroundcolor": "rgb(17,17,17)",
            "gridcolor": "#506784",
            "linecolor": "#506784",
            "showbackground": true,
            "ticks": "",
            "zerolinecolor": "#C8D4E3",
            "gridwidth": 2
           },
           "zaxis": {
            "backgroundcolor": "rgb(17,17,17)",
            "gridcolor": "#506784",
            "linecolor": "#506784",
            "showbackground": true,
            "ticks": "",
            "zerolinecolor": "#C8D4E3",
            "gridwidth": 2
           }
          },
          "shapedefaults": {
           "line": {
            "color": "#f2f5fa"
           }
          },
          "annotationdefaults": {
           "arrowcolor": "#f2f5fa",
           "arrowhead": 0,
           "arrowwidth": 1
          },
          "geo": {
           "bgcolor": "rgb(17,17,17)",
           "landcolor": "rgb(17,17,17)",
           "subunitcolor": "#506784",
           "showland": true,
           "showlakes": true,
           "lakecolor": "rgb(17,17,17)"
          },
          "title": {
           "x": 0.05
          },
          "updatemenudefaults": {
           "bgcolor": "#506784",
           "borderwidth": 0
          },
          "sliderdefaults": {
           "bgcolor": "#C8D4E3",
           "borderwidth": 1,
           "bordercolor": "rgb(17,17,17)",
           "tickwidth": 0
          },
          "mapbox": {
           "style": "dark"
          }
         }
        },
        "xaxis": {
         "anchor": "y",
         "domain": [
          0.0,
          1.0
         ],
         "title": {
          "text": "x"
         }
        },
        "yaxis": {
         "anchor": "x",
         "domain": [
          0.0,
          1.0
         ],
         "title": {
          "text": "y"
         }
        },
        "legend": {
         "tracegroupgap": 0
        },
        "margin": {
         "t": 60
        }
       },
       "config": {
        "plotlyServerURL": "https://plot.ly"
       }
      },
      "text/html": "<div>                            <div id=\"34f4f72c-39f2-45f5-8510-2b947e0363fe\" class=\"plotly-graph-div\" style=\"height:525px; width:100%;\"></div>            <script type=\"text/javascript\">                require([\"plotly\"], function(Plotly) {                    window.PLOTLYENV=window.PLOTLYENV || {};                                    if (document.getElementById(\"34f4f72c-39f2-45f5-8510-2b947e0363fe\")) {                    Plotly.newPlot(                        \"34f4f72c-39f2-45f5-8510-2b947e0363fe\",                        [{\"hovertemplate\":\"x=%{x}\\u003cbr\\u003ey=%{y}\\u003cextra\\u003e\\u003c\\u002fextra\\u003e\",\"legendgroup\":\"\",\"line\":{\"color\":\"#636efa\",\"dash\":\"solid\"},\"marker\":{\"symbol\":\"circle\"},\"mode\":\"lines\",\"name\":\"\",\"orientation\":\"v\",\"showlegend\":false,\"x\":[1489.670166015625,1488.5650634765625,1487.459716796875,1486.354248046875,1485.24853515625,1484.142578125,1483.0364990234375,1481.93017578125,1480.8236083984375,1479.7169189453125,1478.6099853515625,1477.5028076171875,1476.3955078125,1475.2879638671875,1474.1802978515625,1473.0723876953125,1471.9642333984375,1470.8558349609375,1469.747314453125,1468.638671875,1467.5296630859375,1466.4205322265625,1465.311279296875,1464.20166015625,1463.0919189453125,1461.9820556640625,1460.8719482421875,1459.7615966796875,1458.6510009765625,1457.540283203125,1456.4293212890625,1455.3182373046875,1454.2069091796875,1453.0953369140625,1451.983642578125,1450.8717041015625,1449.759521484375,1448.647216796875,1447.53466796875,1446.421875,1445.3089599609375,1444.19580078125,1443.0823974609375,1441.9688720703125,1440.8551025390625,1439.7410888671875,1438.626953125,1437.5125732421875,1436.3980712890625,1435.2833251953125,1434.1683349609375,1433.0531005859375,1431.937744140625,1430.8221435546875,1429.7064208984375,1428.5904541015625,1427.4742431640625,1426.35791015625,1425.2412109375,1424.12451171875,1423.0074462890625,1421.8902587890625,1420.7728271484375,1419.6552734375,1418.5374755859375,1417.41943359375,1416.30126953125,1415.182861328125,1414.064208984375,1412.9454345703125,1411.826416015625,1410.7071533203125,1409.587646484375,1408.468017578125,1407.3482666015625,1406.2281494140625,1405.10791015625,1403.9874267578125,1402.8668212890625,1401.7459716796875,1400.6248779296875,1399.503662109375,1398.3822021484375,1397.260498046875,1396.1385498046875,1395.0164794921875,1393.894287109375,1392.771728515625,1391.6490478515625,1390.526123046875,1389.403076171875,1388.2796630859375,1387.15625,1386.032470703125,1384.9085693359375,1383.784423828125,1382.6600341796875,1381.5355224609375,1380.4107666015625,1379.2857666015625,1378.16064453125,1377.0352783203125,1375.90966796875,1374.783935546875,1373.657958984375,1372.53173828125,1371.4053955078125,1370.27880859375,1369.1519775390625,1368.02490234375,1366.897705078125,1365.770263671875,1364.6427001953125,1363.5147705078125,1362.38671875,1361.258544921875,1360.1300048828125,1359.0013427734375,1357.87255859375,1356.743408203125,1355.6141357421875,1354.484619140625,1353.35498046875,1352.22509765625,1351.094970703125,1349.964599609375,1348.8341064453125,1347.703369140625,1346.5723876953125,1345.441162109375,1344.309814453125,1343.17822265625,1342.0465087890625,1340.91455078125,1339.7823486328125,1338.64990234375,1337.517333984375,1336.384521484375,1335.25146484375,1334.1181640625,1332.9847412109375,1331.85107421875,1330.7171630859375,1329.5831298828125,1328.4488525390625,1327.3143310546875,1326.1796875,1325.0447998046875,1323.90966796875,1322.7742919921875,1321.6387939453125,1320.5029296875,1319.3670654296875,1318.2308349609375,1317.094482421875,1315.9578857421875,1314.821044921875,1313.68408203125,1312.546875,1311.409423828125,1310.271728515625,1309.1339111328125,1307.995849609375,1306.8575439453125,1305.718994140625,1304.580322265625,1303.44140625,1302.3023681640625,1301.1629638671875,1300.0234375,1298.8836669921875,1297.74365234375,1296.603515625,1295.463134765625,1294.322509765625,1293.181640625,1292.0406494140625,1290.8994140625,1289.7579345703125,1288.6163330078125,1287.474365234375,1286.332275390625,1285.1900634765625,1284.0474853515625,1282.90478515625,1281.7618408203125,1280.61865234375,1279.475341796875,1278.3316650390625,1277.1878662109375,1276.0439453125,1274.899658203125,1273.7552490234375,1272.610595703125,1271.4656982421875,1270.3206787109375,1269.17529296875,1268.02978515625,1266.8841552734375],\"xaxis\":\"x\",\"y\":[0.002108522623163615,0.0021658845014825455,0.002099310981164523,0.002119675784985005,0.001968319156755196,0.0021183156505383215,0.002076257431358913,0.001937452071240387,0.0020308403580729583,0.0019661490513483973,0.002023608982079016,0.0020061213294531957,0.001959400767821875,0.001895451979033824,0.001933270110779376,0.0019434809018600958,0.0019912243828554767,0.0019025080553644704,0.0018874656518974694,0.0018838962923402893,0.0019121810868548575,0.0019140844479886535,0.0018477233266661931,0.001916083678429215,0.0019022064070786699,0.0017694266050738204,0.0018568675563748122,0.001834977907917064,0.0018257898733883833,0.001822258919010424,0.0018094809999582074,0.0017907117472258092,0.0017690370202108124,0.0017772955743311043,0.0017322584113318446,0.0018527756829669383,0.0017261572264736862,0.0016644788471802097,0.001623362657423015,0.001701793898089614,0.0016841992903964941,0.0016671434674586756,0.0016864728819399118,0.0016666174726861181,0.001729862868284061,0.00165518941544787,0.0016497753549425676,0.001586291294547247,0.0016373728767771498,0.00149414198605366,0.001547513044177591,0.001564475721953558,0.0014155889038876101,0.0015129478222476029,0.001544932005177658,0.001491166573094388,0.0014673980852814106,0.0015114826502709954,0.0015625861348508674,0.0014958625940574618,0.0015251138391015728,0.0014045372589936512,0.0015288946300413225,0.0015642578651157385,0.0014996871747368068,0.001494741717321148,0.0015614741014939853,0.0015112544397404184,0.001568587509804099,0.0016009542275926998,0.0016841957453733415,0.001592050544460137,0.0016219939494272974,0.0017313962933784555,0.001932507361342909,0.0021814783211420987,0.002334876874195828,0.0025719623492666916,0.003026702864671969,0.0034600931361610347,0.004282141728218066,0.00560689746623147,0.007586162674016722,0.010223445632972363,0.014131294373419223,0.017080468377988885,0.010727278570784182,-0.01082619193284992,-0.014378642964604412,0.0023764939003901,0.012438017752159424,0.013858693197779317,0.01145371217488422,0.008386205908843666,0.006076374330592895,0.004497672137333686,0.0034000497812152084,0.002640385830257126,0.0020986224725499636,0.0016218496874385296,0.001261864786419462,0.0009641323815423747,0.0007100915992535345,0.0003101989754927529,4.774732668418035e-05,-0.00017516733353993701,-0.00039459492321675794,-0.0005750705816703495,-0.0007929157326841702,-0.0007707158150062113,-0.0007783820352006979,-0.0007375711936179151,-0.0006490907465307737,-0.0006202419920331518,-0.00032671161352115205,-0.00016781749804113246,-4.798431566375838e-05,-7.305726803118935e-05,0.0002111914649163345,0.0002443412486075465,0.00029695077918517394,0.00047535697592372326,0.000615791124294714,0.0005761502064652718,0.0005677747825266118,0.0004969043939492302,0.0005944682424895791,0.0006623488390773472,0.000572954445194084,0.0005530305614170706,0.000537434673100294,0.0005989951801317965,0.00044838025414373737,0.0004884792107887403,0.00046565653840724614,0.00045587235005695474,0.0004590872088224204,0.0007214290517217251,0.0006409478667170332,0.0008120317607751439,0.0006761821175638587,0.0007629634093121921,0.0007986721198323734,0.0008274225584367433,0.0008271914604050348,0.000743382609848549,0.0008016262200925622,0.0007902116077452575,0.0008006040064485615,0.0007544216279926312,0.0009547738813490159,0.0009547670018453997,0.0009062626643793207,0.0008933812639376991,0.0009574622621955713,0.0009602194745654217,0.0009541683889725744,0.0009090373919367112,0.0009439232873339374,0.0009068148236239221,0.0009652958634120291,0.0010303637917343936,0.0011041188091332325,0.0010044828830373814,0.0010324894226159873,0.0010014584873758413,0.0010239188252103653,0.0010624853073492807,0.0010417749658721185,0.0011293734707684404,0.0010160944964222624,0.0010034204034897998,0.001147644563598703,0.0011286221903120998,0.0012212540654169132,0.0011126900691891006,0.001087211876835651,0.0011400421490791854,0.0011307902062081868,0.001121901142991674,0.0011213398392504364,0.0011075269255765737,0.001129656262874674,0.0011725145523660192,0.001188432183987998,0.00111030421510312,0.001137144702950618,0.0012735392816230105,0.0010594000862900708,0.0011420510595528475,0.0011560608714782808,0.0011084273330011182,0.0012171578963231964,0.0011825682235690708,0.00116397295443378,0.0012078761824371362,0.0011937304177204425,0.0012769902290875371,0.001255743544818594],\"yaxis\":\"y\",\"type\":\"scatter\"}],                        {\"template\":{\"data\":{\"histogram2dcontour\":[{\"type\":\"histogram2dcontour\",\"colorbar\":{\"outlinewidth\":0,\"ticks\":\"\"},\"colorscale\":[[0.0,\"#0d0887\"],[0.1111111111111111,\"#46039f\"],[0.2222222222222222,\"#7201a8\"],[0.3333333333333333,\"#9c179e\"],[0.4444444444444444,\"#bd3786\"],[0.5555555555555556,\"#d8576b\"],[0.6666666666666666,\"#ed7953\"],[0.7777777777777778,\"#fb9f3a\"],[0.8888888888888888,\"#fdca26\"],[1.0,\"#f0f921\"]]}],\"choropleth\":[{\"type\":\"choropleth\",\"colorbar\":{\"outlinewidth\":0,\"ticks\":\"\"}}],\"histogram2d\":[{\"type\":\"histogram2d\",\"colorbar\":{\"outlinewidth\":0,\"ticks\":\"\"},\"colorscale\":[[0.0,\"#0d0887\"],[0.1111111111111111,\"#46039f\"],[0.2222222222222222,\"#7201a8\"],[0.3333333333333333,\"#9c179e\"],[0.4444444444444444,\"#bd3786\"],[0.5555555555555556,\"#d8576b\"],[0.6666666666666666,\"#ed7953\"],[0.7777777777777778,\"#fb9f3a\"],[0.8888888888888888,\"#fdca26\"],[1.0,\"#f0f921\"]]}],\"heatmap\":[{\"type\":\"heatmap\",\"colorbar\":{\"outlinewidth\":0,\"ticks\":\"\"},\"colorscale\":[[0.0,\"#0d0887\"],[0.1111111111111111,\"#46039f\"],[0.2222222222222222,\"#7201a8\"],[0.3333333333333333,\"#9c179e\"],[0.4444444444444444,\"#bd3786\"],[0.5555555555555556,\"#d8576b\"],[0.6666666666666666,\"#ed7953\"],[0.7777777777777778,\"#fb9f3a\"],[0.8888888888888888,\"#fdca26\"],[1.0,\"#f0f921\"]]}],\"heatmapgl\":[{\"type\":\"heatmapgl\",\"colorbar\":{\"outlinewidth\":0,\"ticks\":\"\"},\"colorscale\":[[0.0,\"#0d0887\"],[0.1111111111111111,\"#46039f\"],[0.2222222222222222,\"#7201a8\"],[0.3333333333333333,\"#9c179e\"],[0.4444444444444444,\"#bd3786\"],[0.5555555555555556,\"#d8576b\"],[0.6666666666666666,\"#ed7953\"],[0.7777777777777778,\"#fb9f3a\"],[0.8888888888888888,\"#fdca26\"],[1.0,\"#f0f921\"]]}],\"contourcarpet\":[{\"type\":\"contourcarpet\",\"colorbar\":{\"outlinewidth\":0,\"ticks\":\"\"}}],\"contour\":[{\"type\":\"contour\",\"colorbar\":{\"outlinewidth\":0,\"ticks\":\"\"},\"colorscale\":[[0.0,\"#0d0887\"],[0.1111111111111111,\"#46039f\"],[0.2222222222222222,\"#7201a8\"],[0.3333333333333333,\"#9c179e\"],[0.4444444444444444,\"#bd3786\"],[0.5555555555555556,\"#d8576b\"],[0.6666666666666666,\"#ed7953\"],[0.7777777777777778,\"#fb9f3a\"],[0.8888888888888888,\"#fdca26\"],[1.0,\"#f0f921\"]]}],\"surface\":[{\"type\":\"surface\",\"colorbar\":{\"outlinewidth\":0,\"ticks\":\"\"},\"colorscale\":[[0.0,\"#0d0887\"],[0.1111111111111111,\"#46039f\"],[0.2222222222222222,\"#7201a8\"],[0.3333333333333333,\"#9c179e\"],[0.4444444444444444,\"#bd3786\"],[0.5555555555555556,\"#d8576b\"],[0.6666666666666666,\"#ed7953\"],[0.7777777777777778,\"#fb9f3a\"],[0.8888888888888888,\"#fdca26\"],[1.0,\"#f0f921\"]]}],\"mesh3d\":[{\"type\":\"mesh3d\",\"colorbar\":{\"outlinewidth\":0,\"ticks\":\"\"}}],\"scatter\":[{\"marker\":{\"line\":{\"color\":\"#283442\"}},\"type\":\"scatter\"}],\"parcoords\":[{\"type\":\"parcoords\",\"line\":{\"colorbar\":{\"outlinewidth\":0,\"ticks\":\"\"}}}],\"scatterpolargl\":[{\"type\":\"scatterpolargl\",\"marker\":{\"colorbar\":{\"outlinewidth\":0,\"ticks\":\"\"}}}],\"bar\":[{\"error_x\":{\"color\":\"#f2f5fa\"},\"error_y\":{\"color\":\"#f2f5fa\"},\"marker\":{\"line\":{\"color\":\"rgb(17,17,17)\",\"width\":0.5},\"pattern\":{\"fillmode\":\"overlay\",\"size\":10,\"solidity\":0.2}},\"type\":\"bar\"}],\"scattergeo\":[{\"type\":\"scattergeo\",\"marker\":{\"colorbar\":{\"outlinewidth\":0,\"ticks\":\"\"}}}],\"scatterpolar\":[{\"type\":\"scatterpolar\",\"marker\":{\"colorbar\":{\"outlinewidth\":0,\"ticks\":\"\"}}}],\"histogram\":[{\"marker\":{\"pattern\":{\"fillmode\":\"overlay\",\"size\":10,\"solidity\":0.2}},\"type\":\"histogram\"}],\"scattergl\":[{\"marker\":{\"line\":{\"color\":\"#283442\"}},\"type\":\"scattergl\"}],\"scatter3d\":[{\"type\":\"scatter3d\",\"line\":{\"colorbar\":{\"outlinewidth\":0,\"ticks\":\"\"}},\"marker\":{\"colorbar\":{\"outlinewidth\":0,\"ticks\":\"\"}}}],\"scattermapbox\":[{\"type\":\"scattermapbox\",\"marker\":{\"colorbar\":{\"outlinewidth\":0,\"ticks\":\"\"}}}],\"scatterternary\":[{\"type\":\"scatterternary\",\"marker\":{\"colorbar\":{\"outlinewidth\":0,\"ticks\":\"\"}}}],\"scattercarpet\":[{\"type\":\"scattercarpet\",\"marker\":{\"colorbar\":{\"outlinewidth\":0,\"ticks\":\"\"}}}],\"carpet\":[{\"aaxis\":{\"endlinecolor\":\"#A2B1C6\",\"gridcolor\":\"#506784\",\"linecolor\":\"#506784\",\"minorgridcolor\":\"#506784\",\"startlinecolor\":\"#A2B1C6\"},\"baxis\":{\"endlinecolor\":\"#A2B1C6\",\"gridcolor\":\"#506784\",\"linecolor\":\"#506784\",\"minorgridcolor\":\"#506784\",\"startlinecolor\":\"#A2B1C6\"},\"type\":\"carpet\"}],\"table\":[{\"cells\":{\"fill\":{\"color\":\"#506784\"},\"line\":{\"color\":\"rgb(17,17,17)\"}},\"header\":{\"fill\":{\"color\":\"#2a3f5f\"},\"line\":{\"color\":\"rgb(17,17,17)\"}},\"type\":\"table\"}],\"barpolar\":[{\"marker\":{\"line\":{\"color\":\"rgb(17,17,17)\",\"width\":0.5},\"pattern\":{\"fillmode\":\"overlay\",\"size\":10,\"solidity\":0.2}},\"type\":\"barpolar\"}],\"pie\":[{\"automargin\":true,\"type\":\"pie\"}]},\"layout\":{\"autotypenumbers\":\"strict\",\"colorway\":[\"#636efa\",\"#EF553B\",\"#00cc96\",\"#ab63fa\",\"#FFA15A\",\"#19d3f3\",\"#FF6692\",\"#B6E880\",\"#FF97FF\",\"#FECB52\"],\"font\":{\"color\":\"#f2f5fa\"},\"hovermode\":\"closest\",\"hoverlabel\":{\"align\":\"left\"},\"paper_bgcolor\":\"rgb(17,17,17)\",\"plot_bgcolor\":\"rgb(17,17,17)\",\"polar\":{\"bgcolor\":\"rgb(17,17,17)\",\"angularaxis\":{\"gridcolor\":\"#506784\",\"linecolor\":\"#506784\",\"ticks\":\"\"},\"radialaxis\":{\"gridcolor\":\"#506784\",\"linecolor\":\"#506784\",\"ticks\":\"\"}},\"ternary\":{\"bgcolor\":\"rgb(17,17,17)\",\"aaxis\":{\"gridcolor\":\"#506784\",\"linecolor\":\"#506784\",\"ticks\":\"\"},\"baxis\":{\"gridcolor\":\"#506784\",\"linecolor\":\"#506784\",\"ticks\":\"\"},\"caxis\":{\"gridcolor\":\"#506784\",\"linecolor\":\"#506784\",\"ticks\":\"\"}},\"coloraxis\":{\"colorbar\":{\"outlinewidth\":0,\"ticks\":\"\"}},\"colorscale\":{\"sequential\":[[0.0,\"#0d0887\"],[0.1111111111111111,\"#46039f\"],[0.2222222222222222,\"#7201a8\"],[0.3333333333333333,\"#9c179e\"],[0.4444444444444444,\"#bd3786\"],[0.5555555555555556,\"#d8576b\"],[0.6666666666666666,\"#ed7953\"],[0.7777777777777778,\"#fb9f3a\"],[0.8888888888888888,\"#fdca26\"],[1.0,\"#f0f921\"]],\"sequentialminus\":[[0.0,\"#0d0887\"],[0.1111111111111111,\"#46039f\"],[0.2222222222222222,\"#7201a8\"],[0.3333333333333333,\"#9c179e\"],[0.4444444444444444,\"#bd3786\"],[0.5555555555555556,\"#d8576b\"],[0.6666666666666666,\"#ed7953\"],[0.7777777777777778,\"#fb9f3a\"],[0.8888888888888888,\"#fdca26\"],[1.0,\"#f0f921\"]],\"diverging\":[[0,\"#8e0152\"],[0.1,\"#c51b7d\"],[0.2,\"#de77ae\"],[0.3,\"#f1b6da\"],[0.4,\"#fde0ef\"],[0.5,\"#f7f7f7\"],[0.6,\"#e6f5d0\"],[0.7,\"#b8e186\"],[0.8,\"#7fbc41\"],[0.9,\"#4d9221\"],[1,\"#276419\"]]},\"xaxis\":{\"gridcolor\":\"#283442\",\"linecolor\":\"#506784\",\"ticks\":\"\",\"title\":{\"standoff\":15},\"zerolinecolor\":\"#283442\",\"automargin\":true,\"zerolinewidth\":2},\"yaxis\":{\"gridcolor\":\"#283442\",\"linecolor\":\"#506784\",\"ticks\":\"\",\"title\":{\"standoff\":15},\"zerolinecolor\":\"#283442\",\"automargin\":true,\"zerolinewidth\":2},\"scene\":{\"xaxis\":{\"backgroundcolor\":\"rgb(17,17,17)\",\"gridcolor\":\"#506784\",\"linecolor\":\"#506784\",\"showbackground\":true,\"ticks\":\"\",\"zerolinecolor\":\"#C8D4E3\",\"gridwidth\":2},\"yaxis\":{\"backgroundcolor\":\"rgb(17,17,17)\",\"gridcolor\":\"#506784\",\"linecolor\":\"#506784\",\"showbackground\":true,\"ticks\":\"\",\"zerolinecolor\":\"#C8D4E3\",\"gridwidth\":2},\"zaxis\":{\"backgroundcolor\":\"rgb(17,17,17)\",\"gridcolor\":\"#506784\",\"linecolor\":\"#506784\",\"showbackground\":true,\"ticks\":\"\",\"zerolinecolor\":\"#C8D4E3\",\"gridwidth\":2}},\"shapedefaults\":{\"line\":{\"color\":\"#f2f5fa\"}},\"annotationdefaults\":{\"arrowcolor\":\"#f2f5fa\",\"arrowhead\":0,\"arrowwidth\":1},\"geo\":{\"bgcolor\":\"rgb(17,17,17)\",\"landcolor\":\"rgb(17,17,17)\",\"subunitcolor\":\"#506784\",\"showland\":true,\"showlakes\":true,\"lakecolor\":\"rgb(17,17,17)\"},\"title\":{\"x\":0.05},\"updatemenudefaults\":{\"bgcolor\":\"#506784\",\"borderwidth\":0},\"sliderdefaults\":{\"bgcolor\":\"#C8D4E3\",\"borderwidth\":1,\"bordercolor\":\"rgb(17,17,17)\",\"tickwidth\":0},\"mapbox\":{\"style\":\"dark\"}}},\"xaxis\":{\"anchor\":\"y\",\"domain\":[0.0,1.0],\"title\":{\"text\":\"x\"}},\"yaxis\":{\"anchor\":\"x\",\"domain\":[0.0,1.0],\"title\":{\"text\":\"y\"}},\"legend\":{\"tracegroupgap\":0},\"margin\":{\"t\":60}},                        {\"responsive\": true}                    ).then(function(){\n                            \nvar gd = document.getElementById('34f4f72c-39f2-45f5-8510-2b947e0363fe');\nvar x = new MutationObserver(function (mutations, observer) {{\n        var display = window.getComputedStyle(gd).display;\n        if (!display || display === 'none') {{\n            console.log([gd, 'removed!']);\n            Plotly.purge(gd);\n            observer.disconnect();\n        }}\n}});\n\n// Listen for the removal of the full notebook cells\nvar notebookContainer = gd.closest('#notebook-container');\nif (notebookContainer) {{\n    x.observe(notebookContainer, {childList: true});\n}}\n\n// Listen for the clearing of the current output cell\nvar outputEl = gd.closest('.output');\nif (outputEl) {{\n    x.observe(outputEl, {childList: true});\n}}\n\n                        })                };                });            </script>        </div>"
     },
     "metadata": {},
     "output_type": "display_data"
    },
    {
     "data": {
      "application/vnd.plotly.v1+json": {
       "data": [
        {
         "hovertemplate": "x=%{x}<br>y=%{y}<extra></extra>",
         "legendgroup": "",
         "line": {
          "color": "#636efa",
          "dash": "solid"
         },
         "marker": {
          "symbol": "circle"
         },
         "mode": "lines",
         "name": "",
         "orientation": "v",
         "showlegend": false,
         "x": [
          1489.670166015625,
          1488.5650634765625,
          1487.459716796875,
          1486.354248046875,
          1485.24853515625,
          1484.142578125,
          1483.0364990234375,
          1481.93017578125,
          1480.8236083984375,
          1479.7169189453125,
          1478.6099853515625,
          1477.5028076171875,
          1476.3955078125,
          1475.2879638671875,
          1474.1802978515625,
          1473.0723876953125,
          1471.9642333984375,
          1470.8558349609375,
          1469.747314453125,
          1468.638671875,
          1467.5296630859375,
          1466.4205322265625,
          1465.311279296875,
          1464.20166015625,
          1463.0919189453125,
          1461.9820556640625,
          1460.8719482421875,
          1459.7615966796875,
          1458.6510009765625,
          1457.540283203125,
          1456.4293212890625,
          1455.3182373046875,
          1454.2069091796875,
          1453.0953369140625,
          1451.983642578125,
          1450.8717041015625,
          1449.759521484375,
          1448.647216796875,
          1447.53466796875,
          1446.421875,
          1445.3089599609375,
          1444.19580078125,
          1443.0823974609375,
          1441.9688720703125,
          1440.8551025390625,
          1439.7410888671875,
          1438.626953125,
          1437.5125732421875,
          1436.3980712890625,
          1435.2833251953125,
          1434.1683349609375,
          1433.0531005859375,
          1431.937744140625,
          1430.8221435546875,
          1429.7064208984375,
          1428.5904541015625,
          1427.4742431640625,
          1426.35791015625,
          1425.2412109375,
          1424.12451171875,
          1423.0074462890625,
          1421.8902587890625,
          1420.7728271484375,
          1419.6552734375,
          1418.5374755859375,
          1417.41943359375,
          1416.30126953125,
          1415.182861328125,
          1414.064208984375,
          1412.9454345703125,
          1411.826416015625,
          1410.7071533203125,
          1409.587646484375,
          1408.468017578125,
          1407.3482666015625,
          1406.2281494140625,
          1405.10791015625,
          1403.9874267578125,
          1402.8668212890625,
          1401.7459716796875,
          1400.6248779296875,
          1399.503662109375,
          1398.3822021484375,
          1397.260498046875,
          1396.1385498046875,
          1395.0164794921875,
          1393.894287109375,
          1392.771728515625,
          1391.6490478515625,
          1390.526123046875,
          1389.403076171875,
          1388.2796630859375,
          1387.15625,
          1386.032470703125,
          1384.9085693359375,
          1383.784423828125,
          1382.6600341796875,
          1381.5355224609375,
          1380.4107666015625,
          1379.2857666015625,
          1378.16064453125,
          1377.0352783203125,
          1375.90966796875,
          1374.783935546875,
          1373.657958984375,
          1372.53173828125,
          1371.4053955078125,
          1370.27880859375,
          1369.1519775390625,
          1368.02490234375,
          1366.897705078125,
          1365.770263671875,
          1364.6427001953125,
          1363.5147705078125,
          1362.38671875,
          1361.258544921875,
          1360.1300048828125,
          1359.0013427734375,
          1357.87255859375,
          1356.743408203125,
          1355.6141357421875,
          1354.484619140625,
          1353.35498046875,
          1352.22509765625,
          1351.094970703125,
          1349.964599609375,
          1348.8341064453125,
          1347.703369140625,
          1346.5723876953125,
          1345.441162109375,
          1344.309814453125,
          1343.17822265625,
          1342.0465087890625,
          1340.91455078125,
          1339.7823486328125,
          1338.64990234375,
          1337.517333984375,
          1336.384521484375,
          1335.25146484375,
          1334.1181640625,
          1332.9847412109375,
          1331.85107421875,
          1330.7171630859375,
          1329.5831298828125,
          1328.4488525390625,
          1327.3143310546875,
          1326.1796875,
          1325.0447998046875,
          1323.90966796875,
          1322.7742919921875,
          1321.6387939453125,
          1320.5029296875,
          1319.3670654296875,
          1318.2308349609375,
          1317.094482421875,
          1315.9578857421875,
          1314.821044921875,
          1313.68408203125,
          1312.546875,
          1311.409423828125,
          1310.271728515625,
          1309.1339111328125,
          1307.995849609375,
          1306.8575439453125,
          1305.718994140625,
          1304.580322265625,
          1303.44140625,
          1302.3023681640625,
          1301.1629638671875,
          1300.0234375,
          1298.8836669921875,
          1297.74365234375,
          1296.603515625,
          1295.463134765625,
          1294.322509765625,
          1293.181640625,
          1292.0406494140625,
          1290.8994140625,
          1289.7579345703125,
          1288.6163330078125,
          1287.474365234375,
          1286.332275390625,
          1285.1900634765625,
          1284.0474853515625,
          1282.90478515625,
          1281.7618408203125,
          1280.61865234375,
          1279.475341796875,
          1278.3316650390625,
          1277.1878662109375,
          1276.0439453125,
          1274.899658203125,
          1273.7552490234375,
          1272.610595703125,
          1271.4656982421875,
          1270.3206787109375,
          1269.17529296875,
          1268.02978515625,
          1266.8841552734375
         ],
         "xaxis": "x",
         "y": [
          -0.008866202063725846,
          -0.00903384381749969,
          -0.008672788629274493,
          -0.008893195586982603,
          -0.00876771960908411,
          -0.008859432277185367,
          -0.008963235650457691,
          -0.00897944943213457,
          -0.00893192831156898,
          -0.008874383388378527,
          -0.008772061042251443,
          -0.008737076370611016,
          -0.008791158255621672,
          -0.008689459957243848,
          -0.008727494445909298,
          -0.008795871614913752,
          -0.008718198761697368,
          -0.008883733634245014,
          -0.008841736000622928,
          -0.00884469398211384,
          -0.008949121562396104,
          -0.008995440702457334,
          -0.00889000921746894,
          -0.008855368895823508,
          -0.00892068327139361,
          -0.008902873253068147,
          -0.008866130908731118,
          -0.008985018195483167,
          -0.008987658396887829,
          -0.008951034060192133,
          -0.008951726954482833,
          -0.009082454134581088,
          -0.008948204304510765,
          -0.009064102853597237,
          -0.009010337434975585,
          -0.009231897123170721,
          -0.008832752318257687,
          -0.009285503612856575,
          -0.008952816169292261,
          -0.00903387813044383,
          -0.008985054619113775,
          -0.009081348463829336,
          -0.009224827175298864,
          -0.009123406307549447,
          -0.00915811203190749,
          -0.009324009964838578,
          -0.009202249051395947,
          -0.009599950854595236,
          -0.009287461406023004,
          -0.009505750335600898,
          -0.009210593736933132,
          -0.009343820302983126,
          -0.009300171202977343,
          -0.009342687134858856,
          -0.00960532521696173,
          -0.009248555746518285,
          -0.009445838556449291,
          -0.00934090877423333,
          -0.009309284089187237,
          -0.009500087619041203,
          -0.009876675338210373,
          -0.009740907355961757,
          -0.009693181797213365,
          -0.009584059819894878,
          -0.009723750375913122,
          -0.00987701264410264,
          -0.009794261536307115,
          -0.010001579262150102,
          -0.010317274971848749,
          -0.010216808425813422,
          -0.010493243199190767,
          -0.010540340935902743,
          -0.010797947178345002,
          -0.01121068904287228,
          -0.011470566959270269,
          -0.012051738691486942,
          -0.012575720834640577,
          -0.013541290308479871,
          -0.014641195472466834,
          -0.01607327520530995,
          -0.018294712995509384,
          -0.02169695823358383,
          -0.025777082641713207,
          -0.029015549837283865,
          -0.027494206446449548,
          -0.01356832972556687,
          0.01186529447628742,
          0.0036286456931077272,
          -0.02849817202185234,
          -0.015156427158157832,
          0.002030288078255881,
          0.004884154624412342,
          0.0015955030095660652,
          -0.0021747786907037195,
          -0.004951695855823977,
          -0.006524341749692244,
          -0.007357394369182244,
          -0.008162951938692323,
          -0.008323839257752336,
          -0.00881628519099327,
          -0.008484203964072737,
          -0.008605350246017707,
          -0.00876814726134672,
          -0.008334013799673952,
          -0.008396924690643218,
          -0.008366340867216443,
          -0.00814714724168799,
          -0.008175045766011644,
          -0.008225185586204931,
          -0.008100239787019075,
          -0.008014679663455765,
          -0.00859220605653277,
          -0.008490250390087623,
          -0.008564995414870335,
          -0.008959010912350709,
          -0.008727018803687283,
          -0.008731679193479882,
          -0.008917957861727084,
          -0.008786671020765859,
          -0.008998963747186594,
          -0.008914303540697277,
          -0.00859161030545015,
          -0.008497175385638793,
          -0.00839292452185043,
          -0.008524725034214696,
          -0.007791662338089962,
          -0.007734986989652132,
          -0.007840424388332951,
          -0.007690413097430452,
          -0.007534503409036668,
          -0.007107577554910432,
          -0.007138893963374557,
          -0.006708039597657922,
          -0.006789430936639254,
          -0.006662002532982128,
          -0.00650411119876881,
          -0.006572064230881203,
          -0.006339719025750509,
          -0.006374545019602246,
          -0.006459786068675668,
          -0.006685792328725641,
          -0.006710784419485639,
          -0.006640868555216233,
          -0.007038341230665931,
          -0.00703190971478004,
          -0.007027236348893479,
          -0.007358658741683325,
          -0.007151284598819621,
          -0.0072621621647366566,
          -0.007319184414763859,
          -0.007352502503426512,
          -0.007496244363129636,
          -0.007483074549921221,
          -0.0072684602443533666,
          -0.007567122003040821,
          -0.007481385441399281,
          -0.007295301883142186,
          -0.007566163395085665,
          -0.007226138505346847,
          -0.007133928775484223,
          -0.007325975007599052,
          -0.00723379111388925,
          -0.007425357009406023,
          -0.007138679528872118,
          -0.007040507609268507,
          -0.006935686908812706,
          -0.007078682949459057,
          -0.006899020824480584,
          -0.00694105478655593,
          -0.006866743035516402,
          -0.006624201119977433,
          -0.006733341832923788,
          -0.006822182917607976,
          -0.006675749264847345,
          -0.006884090818969268,
          -0.006698305990512672,
          -0.006794374977967066,
          -0.0065882187954202824,
          -0.006551680236840456,
          -0.006463116567092344,
          -0.0064412728212836804,
          -0.006285915111593577,
          -0.00630679630434291,
          -0.006148567016417926,
          -0.006494953978330082,
          -0.006210071497974796,
          -0.006221922635165814,
          -0.006075007048612443,
          -0.006057304936360949,
          -0.005916925683096399,
          -0.005888325408395187,
          -0.0057941475399527955,
          -0.005651142133351735,
          -0.005540673349897594,
          -0.005562540715323829,
          -0.005626810767778289,
          -0.0056605443831182515,
          -0.005548664470182049,
          -0.005561229372999143
         ],
         "yaxis": "y",
         "type": "scatter"
        }
       ],
       "layout": {
        "template": {
         "data": {
          "histogram2dcontour": [
           {
            "type": "histogram2dcontour",
            "colorbar": {
             "outlinewidth": 0,
             "ticks": ""
            },
            "colorscale": [
             [
              0.0,
              "#0d0887"
             ],
             [
              0.1111111111111111,
              "#46039f"
             ],
             [
              0.2222222222222222,
              "#7201a8"
             ],
             [
              0.3333333333333333,
              "#9c179e"
             ],
             [
              0.4444444444444444,
              "#bd3786"
             ],
             [
              0.5555555555555556,
              "#d8576b"
             ],
             [
              0.6666666666666666,
              "#ed7953"
             ],
             [
              0.7777777777777778,
              "#fb9f3a"
             ],
             [
              0.8888888888888888,
              "#fdca26"
             ],
             [
              1.0,
              "#f0f921"
             ]
            ]
           }
          ],
          "choropleth": [
           {
            "type": "choropleth",
            "colorbar": {
             "outlinewidth": 0,
             "ticks": ""
            }
           }
          ],
          "histogram2d": [
           {
            "type": "histogram2d",
            "colorbar": {
             "outlinewidth": 0,
             "ticks": ""
            },
            "colorscale": [
             [
              0.0,
              "#0d0887"
             ],
             [
              0.1111111111111111,
              "#46039f"
             ],
             [
              0.2222222222222222,
              "#7201a8"
             ],
             [
              0.3333333333333333,
              "#9c179e"
             ],
             [
              0.4444444444444444,
              "#bd3786"
             ],
             [
              0.5555555555555556,
              "#d8576b"
             ],
             [
              0.6666666666666666,
              "#ed7953"
             ],
             [
              0.7777777777777778,
              "#fb9f3a"
             ],
             [
              0.8888888888888888,
              "#fdca26"
             ],
             [
              1.0,
              "#f0f921"
             ]
            ]
           }
          ],
          "heatmap": [
           {
            "type": "heatmap",
            "colorbar": {
             "outlinewidth": 0,
             "ticks": ""
            },
            "colorscale": [
             [
              0.0,
              "#0d0887"
             ],
             [
              0.1111111111111111,
              "#46039f"
             ],
             [
              0.2222222222222222,
              "#7201a8"
             ],
             [
              0.3333333333333333,
              "#9c179e"
             ],
             [
              0.4444444444444444,
              "#bd3786"
             ],
             [
              0.5555555555555556,
              "#d8576b"
             ],
             [
              0.6666666666666666,
              "#ed7953"
             ],
             [
              0.7777777777777778,
              "#fb9f3a"
             ],
             [
              0.8888888888888888,
              "#fdca26"
             ],
             [
              1.0,
              "#f0f921"
             ]
            ]
           }
          ],
          "heatmapgl": [
           {
            "type": "heatmapgl",
            "colorbar": {
             "outlinewidth": 0,
             "ticks": ""
            },
            "colorscale": [
             [
              0.0,
              "#0d0887"
             ],
             [
              0.1111111111111111,
              "#46039f"
             ],
             [
              0.2222222222222222,
              "#7201a8"
             ],
             [
              0.3333333333333333,
              "#9c179e"
             ],
             [
              0.4444444444444444,
              "#bd3786"
             ],
             [
              0.5555555555555556,
              "#d8576b"
             ],
             [
              0.6666666666666666,
              "#ed7953"
             ],
             [
              0.7777777777777778,
              "#fb9f3a"
             ],
             [
              0.8888888888888888,
              "#fdca26"
             ],
             [
              1.0,
              "#f0f921"
             ]
            ]
           }
          ],
          "contourcarpet": [
           {
            "type": "contourcarpet",
            "colorbar": {
             "outlinewidth": 0,
             "ticks": ""
            }
           }
          ],
          "contour": [
           {
            "type": "contour",
            "colorbar": {
             "outlinewidth": 0,
             "ticks": ""
            },
            "colorscale": [
             [
              0.0,
              "#0d0887"
             ],
             [
              0.1111111111111111,
              "#46039f"
             ],
             [
              0.2222222222222222,
              "#7201a8"
             ],
             [
              0.3333333333333333,
              "#9c179e"
             ],
             [
              0.4444444444444444,
              "#bd3786"
             ],
             [
              0.5555555555555556,
              "#d8576b"
             ],
             [
              0.6666666666666666,
              "#ed7953"
             ],
             [
              0.7777777777777778,
              "#fb9f3a"
             ],
             [
              0.8888888888888888,
              "#fdca26"
             ],
             [
              1.0,
              "#f0f921"
             ]
            ]
           }
          ],
          "surface": [
           {
            "type": "surface",
            "colorbar": {
             "outlinewidth": 0,
             "ticks": ""
            },
            "colorscale": [
             [
              0.0,
              "#0d0887"
             ],
             [
              0.1111111111111111,
              "#46039f"
             ],
             [
              0.2222222222222222,
              "#7201a8"
             ],
             [
              0.3333333333333333,
              "#9c179e"
             ],
             [
              0.4444444444444444,
              "#bd3786"
             ],
             [
              0.5555555555555556,
              "#d8576b"
             ],
             [
              0.6666666666666666,
              "#ed7953"
             ],
             [
              0.7777777777777778,
              "#fb9f3a"
             ],
             [
              0.8888888888888888,
              "#fdca26"
             ],
             [
              1.0,
              "#f0f921"
             ]
            ]
           }
          ],
          "mesh3d": [
           {
            "type": "mesh3d",
            "colorbar": {
             "outlinewidth": 0,
             "ticks": ""
            }
           }
          ],
          "scatter": [
           {
            "marker": {
             "line": {
              "color": "#283442"
             }
            },
            "type": "scatter"
           }
          ],
          "parcoords": [
           {
            "type": "parcoords",
            "line": {
             "colorbar": {
              "outlinewidth": 0,
              "ticks": ""
             }
            }
           }
          ],
          "scatterpolargl": [
           {
            "type": "scatterpolargl",
            "marker": {
             "colorbar": {
              "outlinewidth": 0,
              "ticks": ""
             }
            }
           }
          ],
          "bar": [
           {
            "error_x": {
             "color": "#f2f5fa"
            },
            "error_y": {
             "color": "#f2f5fa"
            },
            "marker": {
             "line": {
              "color": "rgb(17,17,17)",
              "width": 0.5
             },
             "pattern": {
              "fillmode": "overlay",
              "size": 10,
              "solidity": 0.2
             }
            },
            "type": "bar"
           }
          ],
          "scattergeo": [
           {
            "type": "scattergeo",
            "marker": {
             "colorbar": {
              "outlinewidth": 0,
              "ticks": ""
             }
            }
           }
          ],
          "scatterpolar": [
           {
            "type": "scatterpolar",
            "marker": {
             "colorbar": {
              "outlinewidth": 0,
              "ticks": ""
             }
            }
           }
          ],
          "histogram": [
           {
            "marker": {
             "pattern": {
              "fillmode": "overlay",
              "size": 10,
              "solidity": 0.2
             }
            },
            "type": "histogram"
           }
          ],
          "scattergl": [
           {
            "marker": {
             "line": {
              "color": "#283442"
             }
            },
            "type": "scattergl"
           }
          ],
          "scatter3d": [
           {
            "type": "scatter3d",
            "line": {
             "colorbar": {
              "outlinewidth": 0,
              "ticks": ""
             }
            },
            "marker": {
             "colorbar": {
              "outlinewidth": 0,
              "ticks": ""
             }
            }
           }
          ],
          "scattermapbox": [
           {
            "type": "scattermapbox",
            "marker": {
             "colorbar": {
              "outlinewidth": 0,
              "ticks": ""
             }
            }
           }
          ],
          "scatterternary": [
           {
            "type": "scatterternary",
            "marker": {
             "colorbar": {
              "outlinewidth": 0,
              "ticks": ""
             }
            }
           }
          ],
          "scattercarpet": [
           {
            "type": "scattercarpet",
            "marker": {
             "colorbar": {
              "outlinewidth": 0,
              "ticks": ""
             }
            }
           }
          ],
          "carpet": [
           {
            "aaxis": {
             "endlinecolor": "#A2B1C6",
             "gridcolor": "#506784",
             "linecolor": "#506784",
             "minorgridcolor": "#506784",
             "startlinecolor": "#A2B1C6"
            },
            "baxis": {
             "endlinecolor": "#A2B1C6",
             "gridcolor": "#506784",
             "linecolor": "#506784",
             "minorgridcolor": "#506784",
             "startlinecolor": "#A2B1C6"
            },
            "type": "carpet"
           }
          ],
          "table": [
           {
            "cells": {
             "fill": {
              "color": "#506784"
             },
             "line": {
              "color": "rgb(17,17,17)"
             }
            },
            "header": {
             "fill": {
              "color": "#2a3f5f"
             },
             "line": {
              "color": "rgb(17,17,17)"
             }
            },
            "type": "table"
           }
          ],
          "barpolar": [
           {
            "marker": {
             "line": {
              "color": "rgb(17,17,17)",
              "width": 0.5
             },
             "pattern": {
              "fillmode": "overlay",
              "size": 10,
              "solidity": 0.2
             }
            },
            "type": "barpolar"
           }
          ],
          "pie": [
           {
            "automargin": true,
            "type": "pie"
           }
          ]
         },
         "layout": {
          "autotypenumbers": "strict",
          "colorway": [
           "#636efa",
           "#EF553B",
           "#00cc96",
           "#ab63fa",
           "#FFA15A",
           "#19d3f3",
           "#FF6692",
           "#B6E880",
           "#FF97FF",
           "#FECB52"
          ],
          "font": {
           "color": "#f2f5fa"
          },
          "hovermode": "closest",
          "hoverlabel": {
           "align": "left"
          },
          "paper_bgcolor": "rgb(17,17,17)",
          "plot_bgcolor": "rgb(17,17,17)",
          "polar": {
           "bgcolor": "rgb(17,17,17)",
           "angularaxis": {
            "gridcolor": "#506784",
            "linecolor": "#506784",
            "ticks": ""
           },
           "radialaxis": {
            "gridcolor": "#506784",
            "linecolor": "#506784",
            "ticks": ""
           }
          },
          "ternary": {
           "bgcolor": "rgb(17,17,17)",
           "aaxis": {
            "gridcolor": "#506784",
            "linecolor": "#506784",
            "ticks": ""
           },
           "baxis": {
            "gridcolor": "#506784",
            "linecolor": "#506784",
            "ticks": ""
           },
           "caxis": {
            "gridcolor": "#506784",
            "linecolor": "#506784",
            "ticks": ""
           }
          },
          "coloraxis": {
           "colorbar": {
            "outlinewidth": 0,
            "ticks": ""
           }
          },
          "colorscale": {
           "sequential": [
            [
             0.0,
             "#0d0887"
            ],
            [
             0.1111111111111111,
             "#46039f"
            ],
            [
             0.2222222222222222,
             "#7201a8"
            ],
            [
             0.3333333333333333,
             "#9c179e"
            ],
            [
             0.4444444444444444,
             "#bd3786"
            ],
            [
             0.5555555555555556,
             "#d8576b"
            ],
            [
             0.6666666666666666,
             "#ed7953"
            ],
            [
             0.7777777777777778,
             "#fb9f3a"
            ],
            [
             0.8888888888888888,
             "#fdca26"
            ],
            [
             1.0,
             "#f0f921"
            ]
           ],
           "sequentialminus": [
            [
             0.0,
             "#0d0887"
            ],
            [
             0.1111111111111111,
             "#46039f"
            ],
            [
             0.2222222222222222,
             "#7201a8"
            ],
            [
             0.3333333333333333,
             "#9c179e"
            ],
            [
             0.4444444444444444,
             "#bd3786"
            ],
            [
             0.5555555555555556,
             "#d8576b"
            ],
            [
             0.6666666666666666,
             "#ed7953"
            ],
            [
             0.7777777777777778,
             "#fb9f3a"
            ],
            [
             0.8888888888888888,
             "#fdca26"
            ],
            [
             1.0,
             "#f0f921"
            ]
           ],
           "diverging": [
            [
             0,
             "#8e0152"
            ],
            [
             0.1,
             "#c51b7d"
            ],
            [
             0.2,
             "#de77ae"
            ],
            [
             0.3,
             "#f1b6da"
            ],
            [
             0.4,
             "#fde0ef"
            ],
            [
             0.5,
             "#f7f7f7"
            ],
            [
             0.6,
             "#e6f5d0"
            ],
            [
             0.7,
             "#b8e186"
            ],
            [
             0.8,
             "#7fbc41"
            ],
            [
             0.9,
             "#4d9221"
            ],
            [
             1,
             "#276419"
            ]
           ]
          },
          "xaxis": {
           "gridcolor": "#283442",
           "linecolor": "#506784",
           "ticks": "",
           "title": {
            "standoff": 15
           },
           "zerolinecolor": "#283442",
           "automargin": true,
           "zerolinewidth": 2
          },
          "yaxis": {
           "gridcolor": "#283442",
           "linecolor": "#506784",
           "ticks": "",
           "title": {
            "standoff": 15
           },
           "zerolinecolor": "#283442",
           "automargin": true,
           "zerolinewidth": 2
          },
          "scene": {
           "xaxis": {
            "backgroundcolor": "rgb(17,17,17)",
            "gridcolor": "#506784",
            "linecolor": "#506784",
            "showbackground": true,
            "ticks": "",
            "zerolinecolor": "#C8D4E3",
            "gridwidth": 2
           },
           "yaxis": {
            "backgroundcolor": "rgb(17,17,17)",
            "gridcolor": "#506784",
            "linecolor": "#506784",
            "showbackground": true,
            "ticks": "",
            "zerolinecolor": "#C8D4E3",
            "gridwidth": 2
           },
           "zaxis": {
            "backgroundcolor": "rgb(17,17,17)",
            "gridcolor": "#506784",
            "linecolor": "#506784",
            "showbackground": true,
            "ticks": "",
            "zerolinecolor": "#C8D4E3",
            "gridwidth": 2
           }
          },
          "shapedefaults": {
           "line": {
            "color": "#f2f5fa"
           }
          },
          "annotationdefaults": {
           "arrowcolor": "#f2f5fa",
           "arrowhead": 0,
           "arrowwidth": 1
          },
          "geo": {
           "bgcolor": "rgb(17,17,17)",
           "landcolor": "rgb(17,17,17)",
           "subunitcolor": "#506784",
           "showland": true,
           "showlakes": true,
           "lakecolor": "rgb(17,17,17)"
          },
          "title": {
           "x": 0.05
          },
          "updatemenudefaults": {
           "bgcolor": "#506784",
           "borderwidth": 0
          },
          "sliderdefaults": {
           "bgcolor": "#C8D4E3",
           "borderwidth": 1,
           "bordercolor": "rgb(17,17,17)",
           "tickwidth": 0
          },
          "mapbox": {
           "style": "dark"
          }
         }
        },
        "xaxis": {
         "anchor": "y",
         "domain": [
          0.0,
          1.0
         ],
         "title": {
          "text": "x"
         }
        },
        "yaxis": {
         "anchor": "x",
         "domain": [
          0.0,
          1.0
         ],
         "title": {
          "text": "y"
         }
        },
        "legend": {
         "tracegroupgap": 0
        },
        "margin": {
         "t": 60
        }
       },
       "config": {
        "plotlyServerURL": "https://plot.ly"
       }
      },
      "text/html": "<div>                            <div id=\"12e25466-924a-4dcc-95fb-8090573b69bc\" class=\"plotly-graph-div\" style=\"height:525px; width:100%;\"></div>            <script type=\"text/javascript\">                require([\"plotly\"], function(Plotly) {                    window.PLOTLYENV=window.PLOTLYENV || {};                                    if (document.getElementById(\"12e25466-924a-4dcc-95fb-8090573b69bc\")) {                    Plotly.newPlot(                        \"12e25466-924a-4dcc-95fb-8090573b69bc\",                        [{\"hovertemplate\":\"x=%{x}\\u003cbr\\u003ey=%{y}\\u003cextra\\u003e\\u003c\\u002fextra\\u003e\",\"legendgroup\":\"\",\"line\":{\"color\":\"#636efa\",\"dash\":\"solid\"},\"marker\":{\"symbol\":\"circle\"},\"mode\":\"lines\",\"name\":\"\",\"orientation\":\"v\",\"showlegend\":false,\"x\":[1489.670166015625,1488.5650634765625,1487.459716796875,1486.354248046875,1485.24853515625,1484.142578125,1483.0364990234375,1481.93017578125,1480.8236083984375,1479.7169189453125,1478.6099853515625,1477.5028076171875,1476.3955078125,1475.2879638671875,1474.1802978515625,1473.0723876953125,1471.9642333984375,1470.8558349609375,1469.747314453125,1468.638671875,1467.5296630859375,1466.4205322265625,1465.311279296875,1464.20166015625,1463.0919189453125,1461.9820556640625,1460.8719482421875,1459.7615966796875,1458.6510009765625,1457.540283203125,1456.4293212890625,1455.3182373046875,1454.2069091796875,1453.0953369140625,1451.983642578125,1450.8717041015625,1449.759521484375,1448.647216796875,1447.53466796875,1446.421875,1445.3089599609375,1444.19580078125,1443.0823974609375,1441.9688720703125,1440.8551025390625,1439.7410888671875,1438.626953125,1437.5125732421875,1436.3980712890625,1435.2833251953125,1434.1683349609375,1433.0531005859375,1431.937744140625,1430.8221435546875,1429.7064208984375,1428.5904541015625,1427.4742431640625,1426.35791015625,1425.2412109375,1424.12451171875,1423.0074462890625,1421.8902587890625,1420.7728271484375,1419.6552734375,1418.5374755859375,1417.41943359375,1416.30126953125,1415.182861328125,1414.064208984375,1412.9454345703125,1411.826416015625,1410.7071533203125,1409.587646484375,1408.468017578125,1407.3482666015625,1406.2281494140625,1405.10791015625,1403.9874267578125,1402.8668212890625,1401.7459716796875,1400.6248779296875,1399.503662109375,1398.3822021484375,1397.260498046875,1396.1385498046875,1395.0164794921875,1393.894287109375,1392.771728515625,1391.6490478515625,1390.526123046875,1389.403076171875,1388.2796630859375,1387.15625,1386.032470703125,1384.9085693359375,1383.784423828125,1382.6600341796875,1381.5355224609375,1380.4107666015625,1379.2857666015625,1378.16064453125,1377.0352783203125,1375.90966796875,1374.783935546875,1373.657958984375,1372.53173828125,1371.4053955078125,1370.27880859375,1369.1519775390625,1368.02490234375,1366.897705078125,1365.770263671875,1364.6427001953125,1363.5147705078125,1362.38671875,1361.258544921875,1360.1300048828125,1359.0013427734375,1357.87255859375,1356.743408203125,1355.6141357421875,1354.484619140625,1353.35498046875,1352.22509765625,1351.094970703125,1349.964599609375,1348.8341064453125,1347.703369140625,1346.5723876953125,1345.441162109375,1344.309814453125,1343.17822265625,1342.0465087890625,1340.91455078125,1339.7823486328125,1338.64990234375,1337.517333984375,1336.384521484375,1335.25146484375,1334.1181640625,1332.9847412109375,1331.85107421875,1330.7171630859375,1329.5831298828125,1328.4488525390625,1327.3143310546875,1326.1796875,1325.0447998046875,1323.90966796875,1322.7742919921875,1321.6387939453125,1320.5029296875,1319.3670654296875,1318.2308349609375,1317.094482421875,1315.9578857421875,1314.821044921875,1313.68408203125,1312.546875,1311.409423828125,1310.271728515625,1309.1339111328125,1307.995849609375,1306.8575439453125,1305.718994140625,1304.580322265625,1303.44140625,1302.3023681640625,1301.1629638671875,1300.0234375,1298.8836669921875,1297.74365234375,1296.603515625,1295.463134765625,1294.322509765625,1293.181640625,1292.0406494140625,1290.8994140625,1289.7579345703125,1288.6163330078125,1287.474365234375,1286.332275390625,1285.1900634765625,1284.0474853515625,1282.90478515625,1281.7618408203125,1280.61865234375,1279.475341796875,1278.3316650390625,1277.1878662109375,1276.0439453125,1274.899658203125,1273.7552490234375,1272.610595703125,1271.4656982421875,1270.3206787109375,1269.17529296875,1268.02978515625,1266.8841552734375],\"xaxis\":\"x\",\"y\":[-0.008866202063725846,-0.00903384381749969,-0.008672788629274493,-0.008893195586982603,-0.00876771960908411,-0.008859432277185367,-0.008963235650457691,-0.00897944943213457,-0.00893192831156898,-0.008874383388378527,-0.008772061042251443,-0.008737076370611016,-0.008791158255621672,-0.008689459957243848,-0.008727494445909298,-0.008795871614913752,-0.008718198761697368,-0.008883733634245014,-0.008841736000622928,-0.00884469398211384,-0.008949121562396104,-0.008995440702457334,-0.00889000921746894,-0.008855368895823508,-0.00892068327139361,-0.008902873253068147,-0.008866130908731118,-0.008985018195483167,-0.008987658396887829,-0.008951034060192133,-0.008951726954482833,-0.009082454134581088,-0.008948204304510765,-0.009064102853597237,-0.009010337434975585,-0.009231897123170721,-0.008832752318257687,-0.009285503612856575,-0.008952816169292261,-0.00903387813044383,-0.008985054619113775,-0.009081348463829336,-0.009224827175298864,-0.009123406307549447,-0.00915811203190749,-0.009324009964838578,-0.009202249051395947,-0.009599950854595236,-0.009287461406023004,-0.009505750335600898,-0.009210593736933132,-0.009343820302983126,-0.009300171202977343,-0.009342687134858856,-0.00960532521696173,-0.009248555746518285,-0.009445838556449291,-0.00934090877423333,-0.009309284089187237,-0.009500087619041203,-0.009876675338210373,-0.009740907355961757,-0.009693181797213365,-0.009584059819894878,-0.009723750375913122,-0.00987701264410264,-0.009794261536307115,-0.010001579262150102,-0.010317274971848749,-0.010216808425813422,-0.010493243199190767,-0.010540340935902743,-0.010797947178345002,-0.01121068904287228,-0.011470566959270269,-0.012051738691486942,-0.012575720834640577,-0.013541290308479871,-0.014641195472466834,-0.01607327520530995,-0.018294712995509384,-0.02169695823358383,-0.025777082641713207,-0.029015549837283865,-0.027494206446449548,-0.01356832972556687,0.01186529447628742,0.0036286456931077272,-0.02849817202185234,-0.015156427158157832,0.002030288078255881,0.004884154624412342,0.0015955030095660652,-0.0021747786907037195,-0.004951695855823977,-0.006524341749692244,-0.007357394369182244,-0.008162951938692323,-0.008323839257752336,-0.00881628519099327,-0.008484203964072737,-0.008605350246017707,-0.00876814726134672,-0.008334013799673952,-0.008396924690643218,-0.008366340867216443,-0.00814714724168799,-0.008175045766011644,-0.008225185586204931,-0.008100239787019075,-0.008014679663455765,-0.00859220605653277,-0.008490250390087623,-0.008564995414870335,-0.008959010912350709,-0.008727018803687283,-0.008731679193479882,-0.008917957861727084,-0.008786671020765859,-0.008998963747186594,-0.008914303540697277,-0.00859161030545015,-0.008497175385638793,-0.00839292452185043,-0.008524725034214696,-0.007791662338089962,-0.007734986989652132,-0.007840424388332951,-0.007690413097430452,-0.007534503409036668,-0.007107577554910432,-0.007138893963374557,-0.006708039597657922,-0.006789430936639254,-0.006662002532982128,-0.00650411119876881,-0.006572064230881203,-0.006339719025750509,-0.006374545019602246,-0.006459786068675668,-0.006685792328725641,-0.006710784419485639,-0.006640868555216233,-0.007038341230665931,-0.00703190971478004,-0.007027236348893479,-0.007358658741683325,-0.007151284598819621,-0.0072621621647366566,-0.007319184414763859,-0.007352502503426512,-0.007496244363129636,-0.007483074549921221,-0.0072684602443533666,-0.007567122003040821,-0.007481385441399281,-0.007295301883142186,-0.007566163395085665,-0.007226138505346847,-0.007133928775484223,-0.007325975007599052,-0.00723379111388925,-0.007425357009406023,-0.007138679528872118,-0.007040507609268507,-0.006935686908812706,-0.007078682949459057,-0.006899020824480584,-0.00694105478655593,-0.006866743035516402,-0.006624201119977433,-0.006733341832923788,-0.006822182917607976,-0.006675749264847345,-0.006884090818969268,-0.006698305990512672,-0.006794374977967066,-0.0065882187954202824,-0.006551680236840456,-0.006463116567092344,-0.0064412728212836804,-0.006285915111593577,-0.00630679630434291,-0.006148567016417926,-0.006494953978330082,-0.006210071497974796,-0.006221922635165814,-0.006075007048612443,-0.006057304936360949,-0.005916925683096399,-0.005888325408395187,-0.0057941475399527955,-0.005651142133351735,-0.005540673349897594,-0.005562540715323829,-0.005626810767778289,-0.0056605443831182515,-0.005548664470182049,-0.005561229372999143],\"yaxis\":\"y\",\"type\":\"scatter\"}],                        {\"template\":{\"data\":{\"histogram2dcontour\":[{\"type\":\"histogram2dcontour\",\"colorbar\":{\"outlinewidth\":0,\"ticks\":\"\"},\"colorscale\":[[0.0,\"#0d0887\"],[0.1111111111111111,\"#46039f\"],[0.2222222222222222,\"#7201a8\"],[0.3333333333333333,\"#9c179e\"],[0.4444444444444444,\"#bd3786\"],[0.5555555555555556,\"#d8576b\"],[0.6666666666666666,\"#ed7953\"],[0.7777777777777778,\"#fb9f3a\"],[0.8888888888888888,\"#fdca26\"],[1.0,\"#f0f921\"]]}],\"choropleth\":[{\"type\":\"choropleth\",\"colorbar\":{\"outlinewidth\":0,\"ticks\":\"\"}}],\"histogram2d\":[{\"type\":\"histogram2d\",\"colorbar\":{\"outlinewidth\":0,\"ticks\":\"\"},\"colorscale\":[[0.0,\"#0d0887\"],[0.1111111111111111,\"#46039f\"],[0.2222222222222222,\"#7201a8\"],[0.3333333333333333,\"#9c179e\"],[0.4444444444444444,\"#bd3786\"],[0.5555555555555556,\"#d8576b\"],[0.6666666666666666,\"#ed7953\"],[0.7777777777777778,\"#fb9f3a\"],[0.8888888888888888,\"#fdca26\"],[1.0,\"#f0f921\"]]}],\"heatmap\":[{\"type\":\"heatmap\",\"colorbar\":{\"outlinewidth\":0,\"ticks\":\"\"},\"colorscale\":[[0.0,\"#0d0887\"],[0.1111111111111111,\"#46039f\"],[0.2222222222222222,\"#7201a8\"],[0.3333333333333333,\"#9c179e\"],[0.4444444444444444,\"#bd3786\"],[0.5555555555555556,\"#d8576b\"],[0.6666666666666666,\"#ed7953\"],[0.7777777777777778,\"#fb9f3a\"],[0.8888888888888888,\"#fdca26\"],[1.0,\"#f0f921\"]]}],\"heatmapgl\":[{\"type\":\"heatmapgl\",\"colorbar\":{\"outlinewidth\":0,\"ticks\":\"\"},\"colorscale\":[[0.0,\"#0d0887\"],[0.1111111111111111,\"#46039f\"],[0.2222222222222222,\"#7201a8\"],[0.3333333333333333,\"#9c179e\"],[0.4444444444444444,\"#bd3786\"],[0.5555555555555556,\"#d8576b\"],[0.6666666666666666,\"#ed7953\"],[0.7777777777777778,\"#fb9f3a\"],[0.8888888888888888,\"#fdca26\"],[1.0,\"#f0f921\"]]}],\"contourcarpet\":[{\"type\":\"contourcarpet\",\"colorbar\":{\"outlinewidth\":0,\"ticks\":\"\"}}],\"contour\":[{\"type\":\"contour\",\"colorbar\":{\"outlinewidth\":0,\"ticks\":\"\"},\"colorscale\":[[0.0,\"#0d0887\"],[0.1111111111111111,\"#46039f\"],[0.2222222222222222,\"#7201a8\"],[0.3333333333333333,\"#9c179e\"],[0.4444444444444444,\"#bd3786\"],[0.5555555555555556,\"#d8576b\"],[0.6666666666666666,\"#ed7953\"],[0.7777777777777778,\"#fb9f3a\"],[0.8888888888888888,\"#fdca26\"],[1.0,\"#f0f921\"]]}],\"surface\":[{\"type\":\"surface\",\"colorbar\":{\"outlinewidth\":0,\"ticks\":\"\"},\"colorscale\":[[0.0,\"#0d0887\"],[0.1111111111111111,\"#46039f\"],[0.2222222222222222,\"#7201a8\"],[0.3333333333333333,\"#9c179e\"],[0.4444444444444444,\"#bd3786\"],[0.5555555555555556,\"#d8576b\"],[0.6666666666666666,\"#ed7953\"],[0.7777777777777778,\"#fb9f3a\"],[0.8888888888888888,\"#fdca26\"],[1.0,\"#f0f921\"]]}],\"mesh3d\":[{\"type\":\"mesh3d\",\"colorbar\":{\"outlinewidth\":0,\"ticks\":\"\"}}],\"scatter\":[{\"marker\":{\"line\":{\"color\":\"#283442\"}},\"type\":\"scatter\"}],\"parcoords\":[{\"type\":\"parcoords\",\"line\":{\"colorbar\":{\"outlinewidth\":0,\"ticks\":\"\"}}}],\"scatterpolargl\":[{\"type\":\"scatterpolargl\",\"marker\":{\"colorbar\":{\"outlinewidth\":0,\"ticks\":\"\"}}}],\"bar\":[{\"error_x\":{\"color\":\"#f2f5fa\"},\"error_y\":{\"color\":\"#f2f5fa\"},\"marker\":{\"line\":{\"color\":\"rgb(17,17,17)\",\"width\":0.5},\"pattern\":{\"fillmode\":\"overlay\",\"size\":10,\"solidity\":0.2}},\"type\":\"bar\"}],\"scattergeo\":[{\"type\":\"scattergeo\",\"marker\":{\"colorbar\":{\"outlinewidth\":0,\"ticks\":\"\"}}}],\"scatterpolar\":[{\"type\":\"scatterpolar\",\"marker\":{\"colorbar\":{\"outlinewidth\":0,\"ticks\":\"\"}}}],\"histogram\":[{\"marker\":{\"pattern\":{\"fillmode\":\"overlay\",\"size\":10,\"solidity\":0.2}},\"type\":\"histogram\"}],\"scattergl\":[{\"marker\":{\"line\":{\"color\":\"#283442\"}},\"type\":\"scattergl\"}],\"scatter3d\":[{\"type\":\"scatter3d\",\"line\":{\"colorbar\":{\"outlinewidth\":0,\"ticks\":\"\"}},\"marker\":{\"colorbar\":{\"outlinewidth\":0,\"ticks\":\"\"}}}],\"scattermapbox\":[{\"type\":\"scattermapbox\",\"marker\":{\"colorbar\":{\"outlinewidth\":0,\"ticks\":\"\"}}}],\"scatterternary\":[{\"type\":\"scatterternary\",\"marker\":{\"colorbar\":{\"outlinewidth\":0,\"ticks\":\"\"}}}],\"scattercarpet\":[{\"type\":\"scattercarpet\",\"marker\":{\"colorbar\":{\"outlinewidth\":0,\"ticks\":\"\"}}}],\"carpet\":[{\"aaxis\":{\"endlinecolor\":\"#A2B1C6\",\"gridcolor\":\"#506784\",\"linecolor\":\"#506784\",\"minorgridcolor\":\"#506784\",\"startlinecolor\":\"#A2B1C6\"},\"baxis\":{\"endlinecolor\":\"#A2B1C6\",\"gridcolor\":\"#506784\",\"linecolor\":\"#506784\",\"minorgridcolor\":\"#506784\",\"startlinecolor\":\"#A2B1C6\"},\"type\":\"carpet\"}],\"table\":[{\"cells\":{\"fill\":{\"color\":\"#506784\"},\"line\":{\"color\":\"rgb(17,17,17)\"}},\"header\":{\"fill\":{\"color\":\"#2a3f5f\"},\"line\":{\"color\":\"rgb(17,17,17)\"}},\"type\":\"table\"}],\"barpolar\":[{\"marker\":{\"line\":{\"color\":\"rgb(17,17,17)\",\"width\":0.5},\"pattern\":{\"fillmode\":\"overlay\",\"size\":10,\"solidity\":0.2}},\"type\":\"barpolar\"}],\"pie\":[{\"automargin\":true,\"type\":\"pie\"}]},\"layout\":{\"autotypenumbers\":\"strict\",\"colorway\":[\"#636efa\",\"#EF553B\",\"#00cc96\",\"#ab63fa\",\"#FFA15A\",\"#19d3f3\",\"#FF6692\",\"#B6E880\",\"#FF97FF\",\"#FECB52\"],\"font\":{\"color\":\"#f2f5fa\"},\"hovermode\":\"closest\",\"hoverlabel\":{\"align\":\"left\"},\"paper_bgcolor\":\"rgb(17,17,17)\",\"plot_bgcolor\":\"rgb(17,17,17)\",\"polar\":{\"bgcolor\":\"rgb(17,17,17)\",\"angularaxis\":{\"gridcolor\":\"#506784\",\"linecolor\":\"#506784\",\"ticks\":\"\"},\"radialaxis\":{\"gridcolor\":\"#506784\",\"linecolor\":\"#506784\",\"ticks\":\"\"}},\"ternary\":{\"bgcolor\":\"rgb(17,17,17)\",\"aaxis\":{\"gridcolor\":\"#506784\",\"linecolor\":\"#506784\",\"ticks\":\"\"},\"baxis\":{\"gridcolor\":\"#506784\",\"linecolor\":\"#506784\",\"ticks\":\"\"},\"caxis\":{\"gridcolor\":\"#506784\",\"linecolor\":\"#506784\",\"ticks\":\"\"}},\"coloraxis\":{\"colorbar\":{\"outlinewidth\":0,\"ticks\":\"\"}},\"colorscale\":{\"sequential\":[[0.0,\"#0d0887\"],[0.1111111111111111,\"#46039f\"],[0.2222222222222222,\"#7201a8\"],[0.3333333333333333,\"#9c179e\"],[0.4444444444444444,\"#bd3786\"],[0.5555555555555556,\"#d8576b\"],[0.6666666666666666,\"#ed7953\"],[0.7777777777777778,\"#fb9f3a\"],[0.8888888888888888,\"#fdca26\"],[1.0,\"#f0f921\"]],\"sequentialminus\":[[0.0,\"#0d0887\"],[0.1111111111111111,\"#46039f\"],[0.2222222222222222,\"#7201a8\"],[0.3333333333333333,\"#9c179e\"],[0.4444444444444444,\"#bd3786\"],[0.5555555555555556,\"#d8576b\"],[0.6666666666666666,\"#ed7953\"],[0.7777777777777778,\"#fb9f3a\"],[0.8888888888888888,\"#fdca26\"],[1.0,\"#f0f921\"]],\"diverging\":[[0,\"#8e0152\"],[0.1,\"#c51b7d\"],[0.2,\"#de77ae\"],[0.3,\"#f1b6da\"],[0.4,\"#fde0ef\"],[0.5,\"#f7f7f7\"],[0.6,\"#e6f5d0\"],[0.7,\"#b8e186\"],[0.8,\"#7fbc41\"],[0.9,\"#4d9221\"],[1,\"#276419\"]]},\"xaxis\":{\"gridcolor\":\"#283442\",\"linecolor\":\"#506784\",\"ticks\":\"\",\"title\":{\"standoff\":15},\"zerolinecolor\":\"#283442\",\"automargin\":true,\"zerolinewidth\":2},\"yaxis\":{\"gridcolor\":\"#283442\",\"linecolor\":\"#506784\",\"ticks\":\"\",\"title\":{\"standoff\":15},\"zerolinecolor\":\"#283442\",\"automargin\":true,\"zerolinewidth\":2},\"scene\":{\"xaxis\":{\"backgroundcolor\":\"rgb(17,17,17)\",\"gridcolor\":\"#506784\",\"linecolor\":\"#506784\",\"showbackground\":true,\"ticks\":\"\",\"zerolinecolor\":\"#C8D4E3\",\"gridwidth\":2},\"yaxis\":{\"backgroundcolor\":\"rgb(17,17,17)\",\"gridcolor\":\"#506784\",\"linecolor\":\"#506784\",\"showbackground\":true,\"ticks\":\"\",\"zerolinecolor\":\"#C8D4E3\",\"gridwidth\":2},\"zaxis\":{\"backgroundcolor\":\"rgb(17,17,17)\",\"gridcolor\":\"#506784\",\"linecolor\":\"#506784\",\"showbackground\":true,\"ticks\":\"\",\"zerolinecolor\":\"#C8D4E3\",\"gridwidth\":2}},\"shapedefaults\":{\"line\":{\"color\":\"#f2f5fa\"}},\"annotationdefaults\":{\"arrowcolor\":\"#f2f5fa\",\"arrowhead\":0,\"arrowwidth\":1},\"geo\":{\"bgcolor\":\"rgb(17,17,17)\",\"landcolor\":\"rgb(17,17,17)\",\"subunitcolor\":\"#506784\",\"showland\":true,\"showlakes\":true,\"lakecolor\":\"rgb(17,17,17)\"},\"title\":{\"x\":0.05},\"updatemenudefaults\":{\"bgcolor\":\"#506784\",\"borderwidth\":0},\"sliderdefaults\":{\"bgcolor\":\"#C8D4E3\",\"borderwidth\":1,\"bordercolor\":\"rgb(17,17,17)\",\"tickwidth\":0},\"mapbox\":{\"style\":\"dark\"}}},\"xaxis\":{\"anchor\":\"y\",\"domain\":[0.0,1.0],\"title\":{\"text\":\"x\"}},\"yaxis\":{\"anchor\":\"x\",\"domain\":[0.0,1.0],\"title\":{\"text\":\"y\"}},\"legend\":{\"tracegroupgap\":0},\"margin\":{\"t\":60}},                        {\"responsive\": true}                    ).then(function(){\n                            \nvar gd = document.getElementById('12e25466-924a-4dcc-95fb-8090573b69bc');\nvar x = new MutationObserver(function (mutations, observer) {{\n        var display = window.getComputedStyle(gd).display;\n        if (!display || display === 'none') {{\n            console.log([gd, 'removed!']);\n            Plotly.purge(gd);\n            observer.disconnect();\n        }}\n}});\n\n// Listen for the removal of the full notebook cells\nvar notebookContainer = gd.closest('#notebook-container');\nif (notebookContainer) {{\n    x.observe(notebookContainer, {childList: true});\n}}\n\n// Listen for the clearing of the current output cell\nvar outputEl = gd.closest('.output');\nif (outputEl) {{\n    x.observe(outputEl, {childList: true});\n}}\n\n                        })                };                });            </script>        </div>"
     },
     "metadata": {},
     "output_type": "display_data"
    },
    {
     "data": {
      "application/vnd.plotly.v1+json": {
       "data": [
        {
         "coloraxis": "coloraxis",
         "name": "0",
         "z": [
          [
           3.308846577395028E-8,
           3.648455510050301E-8,
           1.5614123987465775E-8,
           3.2716471920720335E-8,
           2.7965351676186778E-8,
           2.6030545484075555E-8,
           1.6305553762832675E-8,
           1.0506720704355916E-8,
           -1.9258419810279133E-8,
           5.427975427645683E-8,
           5.02391159098293E-8,
           -5.9064510791704897E-8,
           3.666091194468932E-8,
           2.180949777512498E-8,
           -7.155056413876187E-8,
           -1.231024656138722E-7,
           5.6798774514988215E-8,
           1.3605713628941615E-7,
           1.5218880497594455E-7,
           -4.86218690761801E-7,
           -5.270056291955868E-7,
           -1.215113779705223E-7,
           1.7617351542769712E-7,
           1.0332393304012543E-7,
           3.5412049222811956E-7,
           6.270259248236309E-7,
           5.706452955857784E-7,
           1.3289330160347556E-7,
           -1.0327401041978483E-7,
           -2.55405595977125E-7,
           -3.7700003163083457E-7,
           -3.926442705001616E-7,
           -4.342949847102771E-7,
           -4.863236230072439E-7
          ],
          [
           3.6323869933445425E-8,
           5.206908458019903E-8,
           3.377207069141163E-8,
           3.37435711355253E-8,
           2.423259737933372E-8,
           2.9360969050178888E-8,
           3.653401096625744E-8,
           3.168468249484704E-8,
           1.6464459418103343E-7,
           3.8376109468918723E-7,
           -1.8262038144240706E-7,
           -8.913352474370416E-8,
           7.344379239920509E-8,
           -1.6255258342334139E-7,
           -3.1411159155675677E-7,
           -2.190753876604403E-8,
           8.619868084286529E-8,
           4.5412905854324244E-7,
           1.82659496682559E-7,
           4.50405858255563E-9,
           -2.6798480921668725E-7,
           1.845785102714067E-7,
           2.82458677824064E-7,
           3.3401831106001693E-7,
           3.8456753492571274E-7,
           6.858979248264037E-7,
           5.550151691599565E-7,
           4.1284160718945034E-7,
           3.4222112998997396E-7,
           3.5038234915894244E-7,
           1.1217001993887072E-7,
           1.5406417625494818E-8,
           -2.321871244684997E-7,
           -2.302401003766232E-7
          ],
          [
           3.9917767984302374E-8,
           3.1417734119103584E-8,
           4.014007871204825E-8,
           3.8395785778551435E-8,
           4.008122027108881E-8,
           4.336773930176996E-8,
           2.8888581724658518E-8,
           6.258436505592845E-8,
           5.017584173751757E-7,
           3.585132693927848E-7,
           -2.2994614798681018E-7,
           -2.0024765429207527E-7,
           -1.424016466585846E-7,
           -3.9518253318842825E-7,
           -2.4090311363045886E-7,
           -1.0139394845159477E-7,
           9.634711601690704E-8,
           3.7343993639060635E-7,
           4.917235123845119E-7,
           4.971387977250947E-7,
           1.846862613371201E-7,
           -6.867667262839019E-8,
           -1.2205484908797043E-7,
           -1.0694783566717767E-7,
           1.832286072542362E-7,
           2.3304937568651845E-7,
           1.5188591935645448E-7,
           2.2110852678964046E-7,
           1.612798550612733E-7,
           1.4071272982952763E-7,
           2.7856401460538983E-7,
           2.8716745782944456E-7,
           1.3032921711202423E-7,
           1.511192470467751E-7
          ],
          [
           3.5017285760940026E-8,
           2.730726941566147E-8,
           6.035316001611583E-8,
           1.916521803845454E-8,
           4.0735678752653146E-8,
           2.744478512692772E-8,
           2.3108476644464323E-8,
           1.0576809412194884E-7,
           6.140739274456565E-7,
           -9.907710779425357E-8,
           -2.1812646439979528E-7,
           -2.4091070927957136E-7,
           -3.6875604434234115E-7,
           -2.048550661851098E-7,
           -1.7149574151399844E-7,
           -1.3719576212980488E-7,
           1.910063282371525E-7,
           2.1834023669021786E-7,
           3.77112634909856E-7,
           4.055300680935031E-7,
           2.5781354428122065E-7,
           -2.4693425725567593E-7,
           -3.1367540013190445E-7,
           -8.420333253306683E-8,
           -1.058881494175313E-8,
           1.4173906580670697E-7,
           8.227157081569274E-8,
           -5.0329674052475236E-8,
           -2.251684817545313E-7,
           -2.2705839983704168E-7,
           6.498375539394146E-8,
           1.9204147507027845E-7,
           2.3540454467477138E-7,
           3.308660535815582E-7
          ],
          [
           3.30423209895455E-8,
           3.592403034189005E-8,
           2.558840906919198E-8,
           4.142125659567949E-8,
           3.750993952114016E-8,
           1.1904039036935781E-8,
           1.865744950430194E-8,
           6.56597140713609E-8,
           4.472014718266189E-7,
           -4.1121048762013104E-7,
           -3.627343144062187E-7,
           -3.405516133550139E-7,
           -5.437806774600017E-7,
           -3.9776806616474335E-8,
           1.2078003962018937E-8,
           -1.218742858677964E-9,
           2.6241875077615345E-7,
           2.1330040857094434E-7,
           4.876223140945867E-7,
           6.068012386349316E-7,
           1.8206869224258188E-7,
           -5.301354414204968E-7,
           -6.811825596880133E-7,
           -9.694720914782691E-8,
           5.651918233306685E-8,
           9.468097288569614E-8,
           8.127411424371199E-8,
           5.532444772026449E-8,
           -7.340996962053382E-9,
           1.109343250274529E-7,
           1.3446345845205283E-7,
           -1.2380072452919658E-8,
           -3.405568600713775E-7,
           -7.163642200619601E-8
          ],
          [
           4.899926521535241E-8,
           2.237621729136346E-8,
           3.5522830044250555E-8,
           2.4219878643475566E-8,
           1.500706241851711E-8,
           2.5581090169442398E-8,
           4.982360875639612E-8,
           8.178009828205486E-8,
           -5.630765331837172E-8,
           -4.718910372489246E-7,
           -3.6663564819877597E-7,
           -3.6893361207925495E-7,
           -4.563020406235988E-7,
           -3.5355145937914993E-9,
           1.2299837366003253E-7,
           4.0170843035660195E-9,
           3.333453820366301E-7,
           4.1181034088365584E-7,
           5.070177327336166E-7,
           6.530531668817451E-7,
           5.166244178929137E-7,
           -2.542082657930551E-7,
           -4.2485484703766533E-7,
           -1.712435028858674E-7,
           4.9327960615590827E-8,
           1.579924120055545E-7,
           1.36308136799651E-7,
           1.64530423193636E-7,
           1.693305361379736E-7,
           1.3469424502261672E-7,
           2.795560671136264E-7,
           5.976832943083047E-8,
           -4.6447323238508823E-7,
           -4.2715106686569775E-7
          ],
          [
           2.3123913599486266E-8,
           3.530198739802552E-8,
           2.9781707807562556E-8,
           1.9214938487634155E-8,
           3.366131126917116E-8,
           3.908083107016715E-8,
           3.155762465229568E-8,
           4.799000781293747E-8,
           -2.6792960398760853E-7,
           -3.7257254273497426E-7,
           -3.3011171298337206E-7,
           -3.733265168790645E-7,
           -2.625132975192065E-7,
           9.09355923429343E-8,
           1.1809671865295696E-7,
           1.2198973790541381E-7,
           4.560511763145698E-7,
           3.6549910550631545E-7,
           4.972690951491E-7,
           6.159306793785846E-7,
           6.497717430061423E-7,
           4.836306711225717E-8,
           1.898808829090579E-8,
           5.007209618824015E-8,
           1.156272091791398E-7,
           1.7067597194296055E-8,
           1.1817231663097083E-7,
           3.056016230844989E-8,
           1.871825633994234E-7,
           1.5307606139316778E-7,
           1.4099997016403177E-7,
           1.408718599110007E-7,
           1.1302366356738015E-7,
           1.6492711469869812E-7
          ],
          [
           2.4017985486166097E-8,
           4.7388071906275385E-8,
           2.8600929827245827E-8,
           3.8035769748445E-8,
           3.046575284536024E-8,
           4.311494406912235E-8,
           6.09585681314939E-8,
           1.9748598661822648E-7,
           -2.2392656443612524E-7,
           -2.9503460179728536E-7,
           -3.584497996394538E-7,
           -3.26676999250725E-7,
           -2.7973542078843833E-7,
           -2.9560648583249668E-8,
           -1.2138807451613162E-7,
           1.1897760454090361E-7,
           3.629805902328371E-7,
           9.247083186927871E-8,
           3.485533041604976E-7,
           6.179103423187035E-7,
           6.32418384086074E-7,
           2.912250853943793E-7,
           1.091616725488738E-7,
           3.511424603542826E-8,
           1.6042451154347726E-7,
           9.45876283147133E-8,
           1.6634776730057984E-7,
           1.4545766708844206E-7,
           7.134097124359691E-8,
           6.22823998204057E-8,
           9.178152392637678E-8,
           2.4825179146098207E-7,
           2.4951228967757173E-7,
           3.362861499082707E-7
          ],
          [
           3.845692940407186E-8,
           5.030777236148557E-8,
           2.2794675797081517E-8,
           4.226771771601519E-8,
           1.0487735951982397E-8,
           5.613441467817657E-9,
           5.554694929208743E-8,
           2.2936319726020877E-8,
           -3.102935998321977E-7,
           -4.0265413903456E-7,
           -3.8850786869845725E-7,
           -3.146066403665639E-7,
           -3.4021632360973155E-7,
           -3.289280497789411E-7,
           -3.6944507202675E-7,
           -3.6745262068516606E-7,
           -2.0357762324259308E-7,
           -1.8647922022126143E-7,
           3.192483479956892E-7,
           4.207093224716604E-7,
           4.5117241076720246E-7,
           1.3033315679490402E-7,
           2.0228126856941343E-7,
           1.728615842924331E-8,
           3.774186441643401E-9,
           -4.3500877387128955E-8,
           2.1110784636128108E-7,
           2.494111196328028E-7,
           5.871345045204696E-8,
           6.825997179236548E-8,
           5.579033286919478E-8,
           4.756923797423275E-8,
           7.674957840799915E-8,
           7.511782435623292E-8
          ],
          [
           1.2247481610520242E-8,
           3.9716379248480544E-8,
           4.415052315860243E-8,
           2.726386935103878E-8,
           3.2082672597341284E-8,
           1.0311636977149005E-8,
           7.959714599796293E-8,
           -3.706066774919531E-8,
           -1.7914380922697553E-7,
           -2.0439923094206093E-7,
           -3.3433442152491526E-7,
           -2.581694652432937E-7,
           -3.985601658062353E-7,
           -6.313127949893326E-7,
           -6.598900014833932E-7,
           -5.720965796793459E-7,
           -5.656445008713848E-7,
           -3.029054325846602E-7,
           1.0687088057861156E-7,
           1.9741033245188118E-7,
           2.452746416250487E-7,
           1.868891146862609E-7,
           3.785156537305082E-8,
           -3.230029416634586E-9,
           -3.802593289322361E-8,
           -1.231904135592303E-7,
           6.364969162487716E-8,
           1.0195150327910819E-7,
           5.204797422158061E-9,
           -1.368927765956988E-7,
           -2.8151272627592477E-7,
           -4.3044560663089453E-7,
           -3.888169996599637E-7,
           -3.850100233420008E-7
          ],
          [
           3.080043746337737E-8,
           1.611297853387406E-8,
           1.0966272980021659E-8,
           3.836935341674883E-8,
           1.050004039851451E-8,
           7.1542969330679514E-9,
           6.371297080500809E-8,
           -4.023929561725513E-8,
           -9.948468909299292E-8,
           -5.1788249341462066E-8,
           -9.395101516788368E-8,
           -1.2938871962230667E-7,
           -4.145993691886671E-7,
           -7.30936306172412E-7,
           -8.068446271827155E-7,
           -6.204468422921779E-7,
           -4.1719740236001055E-7,
           -2.0817444681634322E-7,
           -4.405863407036824E-9,
           1.300593111674055E-7,
           2.5460644359638646E-7,
           1.7762486940016055E-7,
           -3.1506753246655865E-8,
           -1.0147121508393487E-7,
           -2.0413780790291805E-7,
           -2.478826513835548E-7,
           -2.0225903942428782E-7,
           -1.630906937070218E-7,
           -1.4955848973411723E-7,
           -3.692928670512048E-7,
           -6.18669805721457E-7,
           -8.050278055058676E-7,
           -7.161103315451674E-7,
           -7.53641697525009E-7
          ],
          [
           1.4398936757745765E-8,
           8.018528867845955E-9,
           3.0493519062993E-8,
           1.6679256332542963E-8,
           2.2004073023082008E-8,
           4.870191386464893E-8,
           8.469318150328895E-8,
           -6.098547995708958E-8,
           -2.2628160800427802E-8,
           6.631550444551119E-8,
           9.763234555828502E-8,
           -5.3293210350362864E-8,
           -2.452965061969953E-7,
           -6.691887513703352E-7,
           -7.704228426262387E-7,
           -4.993063983153305E-7,
           -2.903870898182848E-7,
           -1.3427857455796972E-7,
           -7.547861418103072E-9,
           1.0492590356634337E-7,
           1.7200888296712185E-7,
           1.8903563633693888E-7,
           -1.0490724299451922E-7,
           -1.994931678259441E-7,
           -3.5162226327980375E-7,
           -4.4755277421087193E-7,
           -5.007361036323855E-7,
           -4.762339470040387E-7,
           -5.179052101067593E-7,
           -6.009407882409078E-7,
           -7.493338704659738E-7,
           -7.712893184746834E-7,
           -7.927690359944269E-7,
           -8.275082359426267E-7
          ],
          [
           1.9587592257196315E-8,
           4.6684581993376656E-8,
           -2.840276474470947E-9,
           3.099493109057671E-8,
           1.679152347610714E-8,
           2.8855211554808682E-8,
           4.263154974932747E-8,
           5.548613365986782E-8,
           1.1968117254245646E-7,
           1.592408696452727E-7,
           1.2876310627623395E-7,
           4.757470433651843E-8,
           -2.091750308445465E-7,
           -6.585265796701356E-7,
           -6.155345467212058E-7,
           -3.00817260024361E-7,
           -1.840552254874663E-7,
           -8.0276948508723E-8,
           -3.1511679295777226E-8,
           4.2717546226985745E-8,
           1.2894191007229353E-7,
           1.5204883174566934E-7,
           -6.214042330023044E-8,
           -2.6708424653384964E-7,
           -3.935000655807158E-7,
           -4.787585944355525E-7,
           -5.996675933930095E-7,
           -6.846052392049619E-7,
           -7.119161894325054E-7,
           -7.475850919199387E-7,
           -6.718477180107311E-7,
           -6.803592009845225E-7,
           -7.022439454273959E-7,
           -6.984161091064523E-7
          ],
          [
           2.1638839793947216E-8,
           1.6071783693812E-8,
           2.6365568145538062E-8,
           7.336910217412175E-9,
           3.2512630498553524E-8,
           8.253687177704086E-8,
           4.676701053600027E-8,
           5.4678248601259794E-8,
           1.3379178939965626E-7,
           1.7768711607519262E-7,
           2.5356318114714434E-7,
           1.2386537417090696E-7,
           -1.8108541511632593E-7,
           -4.567285977456399E-7,
           -4.823754081950162E-7,
           -2.978676147583001E-7,
           -1.1683279674999402E-7,
           2.414937024785507E-8,
           1.2696134444149809E-8,
           1.0174440576875362E-7,
           1.8302431290229163E-7,
           2.565659962456231E-7,
           -6.310469432164313E-8,
           -2.3823756050531499E-7,
           -4.084072754782183E-7,
           -4.914176711984605E-7,
           -6.082556819452691E-7,
           -7.384112089734045E-7,
           -8.181782663792096E-7,
           -7.209942175105716E-7,
           -5.573129171793665E-7,
           -5.409915350535589E-7,
           -4.721156043963391E-7,
           -6.180554585302309E-7
          ],
          [
           1.4257335503859033E-8,
           1.627568113619593E-8,
           1.999161130058281E-8,
           3.2098794567551365E-8,
           4.7619811633135596E-8,
           7.624460750915059E-8,
           1.0717688317080155E-7,
           9.463029248234794E-8,
           1.216656398778063E-7,
           1.3104424476105813E-7,
           2.760663284963545E-7,
           6.353811384287506E-8,
           -1.6241862220305706E-7,
           -4.5562787322568576E-7,
           -3.985067724262679E-7,
           -3.8832481667495717E-7,
           -1.5231720248065736E-7,
           6.20820421757697E-8,
           6.116341961188977E-8,
           1.03420917064939E-7,
           1.1357604047953755E-7,
           2.0221859043276884E-7,
           1.662253577957169E-8,
           -2.9228131082964713E-7,
           -3.9652051301293765E-7,
           -4.6170573383318576E-7,
           -5.726670425079976E-7,
           -7.459049958101681E-7,
           -7.074428791896999E-7,
           -5.735133547593911E-7,
           -5.052034495108548E-7,
           -4.582175971125866E-7,
           -3.1751516837514935E-7,
           -4.2787612363537393E-7
          ],
          [
           2.7239379475922827E-8,
           1.3895770947965193E-8,
           4.078639965853618E-8,
           3.355991344845111E-8,
           5.3811231474044585E-8,
           6.26198261691175E-8,
           1.8480072824865067E-8,
           9.92092961765947E-8,
           8.716423523775899E-8,
           1.4450755811419653E-7,
           9.595902022345138E-8,
           -3.238204800249544E-8,
           -3.0969584194234017E-7,
           -3.031809065174775E-7,
           -4.4050611974474045E-7,
           -3.43436891675569E-7,
           -3.947775369330637E-8,
           1.5499194024021014E-7,
           1.2022814616672802E-7,
           1.9551228500373863E-7,
           2.2035694539221575E-7,
           3.5987532535806973E-7,
           1.247150686168752E-7,
           -1.3540633554010763E-7,
           -2.1142533250404044E-7,
           -3.7204753597547724E-7,
           -5.01218123392313E-7,
           -6.09671300504557E-7,
           -5.681424049787026E-7,
           -5.41878337754709E-7,
           -4.3897147722787185E-7,
           -3.9216363375518137E-7,
           -3.3757992600905725E-7,
           -4.320580526801791E-7
          ],
          [
           1.6385326479871593E-8,
           1.7465293314322183E-8,
           2.6545004957803335E-8,
           3.8993894348824795E-8,
           6.714714142007313E-8,
           7.257765826022981E-8,
           9.550231542679711E-8,
           8.011915085683809E-8,
           6.301941440855337E-8,
           6.198832250392998E-9,
           -6.755941487361134E-8,
           -2.1279073536751725E-7,
           -4.698090270976581E-7,
           -4.5766461437081153E-7,
           -4.365434357009345E-7,
           -1.8840689274730994E-7,
           9.289919643513414E-8,
           1.9636542095020954E-7,
           1.7435636407035837E-7,
           1.6863377437590245E-7,
           2.772544565273517E-7,
           2.7730226100038696E-7,
           2.3446190515786253E-7,
           1.607530912928791E-7,
           -5.9057933176345973E-8,
           -2.6629041073487667E-7,
           -3.321488947066949E-7,
           -3.792875795602364E-7,
           -4.091749881645214E-7,
           -4.737758273182407E-7,
           -4.5976303196697744E-7,
           -3.7141458627294946E-7,
           -3.2990644511487915E-7,
           -3.870119037971056E-7
          ],
          [
           3.306406389346919E-8,
           2.666085007484148E-8,
           2.0998693390342736E-8,
           3.0404672766643434E-8,
           3.906994980466195E-8,
           4.681171953554913E-8,
           4.968372059332988E-8,
           5.176587191154308E-8,
           -1.816196099690797E-8,
           -1.3546513810574672E-7,
           -1.7183168558792747E-7,
           -3.499841563569582E-7,
           -4.5803660565105955E-7,
           -3.1544591138788696E-7,
           -2.7390797853512785E-7,
           -3.6826936046776775E-8,
           1.2590406944715523E-7,
           1.9108996934657623E-7,
           1.8489850828699529E-7,
           9.639003656567043E-8,
           2.5185428369224333E-7,
           3.128606844430217E-7,
           3.260267169924874E-7,
           2.0650689623061383E-7,
           5.0464298130036455E-8,
           -7.929274570342123E-9,
           -1.1293790448683553E-7,
           -2.546343005260341E-7,
           -3.1803376861421446E-7,
           -3.47155672805636E-7,
           -4.1898393692824604E-7,
           -3.101605315783529E-7,
           -2.8567262618929454E-7,
           -3.062960204514343E-7
          ],
          [
           2.506684283472977E-8,
           2.4311528228479664E-8,
           1.2660886783407543E-8,
           3.9742317629087536E-8,
           -4.202237084436568E-10,
           2.7924431567519778E-8,
           3.333936518968033E-8,
           8.212470775076089E-9,
           -1.1292916881014567E-7,
           -1.974448284560457E-7,
           -3.590984210184615E-7,
           -3.3030550879710253E-7,
           -3.31105831179308E-7,
           -2.462229553316722E-7,
           -1.3256354916951866E-7,
           1.9683705954063064E-7,
           1.681207042813531E-7,
           1.854120375385675E-7,
           1.267622052962776E-7,
           1.3948852310247431E-7,
           1.783765552850976E-7,
           2.407918074765392E-7,
           2.1983423921977625E-7,
           2.3527356835678893E-7,
           9.787510585397386E-8,
           8.669192630140515E-8,
           -5.1686702952543344E-8,
           -1.757977751029749E-8,
           -1.5380785475556858E-7,
           -1.9914878775631633E-7,
           -2.3860129014371825E-7,
           -2.1037475762152588E-7,
           -1.6948436078003915E-7,
           -2.642328352629681E-7
          ],
          [
           2.1551557644511914E-8,
           1.447524541277884E-8,
           2.2014750479476114E-8,
           3.678464468252138E-8,
           2.519459574204813E-8,
           1.7868083808800932E-8,
           6.07003615494088E-9,
           -8.272112132575028E-9,
           -1.1597002495299835E-7,
           -1.6943585089237366E-7,
           -4.67060606826642E-7,
           -2.4483523163978153E-7,
           -1.9225617728666901E-7,
           -1.2917423695900276E-7,
           1.0124477432167334E-8,
           1.4878205754947447E-7,
           2.7222043655407133E-7,
           1.4174010612613023E-7,
           2.124572999192997E-8,
           1.237003093997156E-7,
           8.919724727516735E-8,
           9.787530003286277E-8,
           1.1814266721706675E-7,
           1.7504207317890065E-7,
           1.4160648620437443E-7,
           8.797424099355067E-8,
           4.420977570896025E-8,
           -3.484052500525025E-8,
           -4.025764438219092E-8,
           -5.887864585361689E-8,
           -1.7225540570181089E-7,
           -2.2737443863424994E-7,
           -1.5536051297289414E-7,
           -1.7812582822898337E-7
          ],
          [
           2.264151837555607E-8,
           1.89185958317618E-8,
           1.1245115878930742E-8,
           2.8158755632270403E-8,
           2.06377910531367E-8,
           2.8555361877321382E-8,
           2.0816326503753103E-8,
           -5.5072282828508174E-8,
           -1.1008464777648945E-7,
           -1.9905112477066604E-7,
           -2.954145931662446E-7,
           -2.3364210885632738E-7,
           -1.1573533358461061E-7,
           -5.5766275522466065E-8,
           1.7023674346667446E-7,
           2.2415695782087934E-7,
           1.823068598261413E-7,
           1.9066052166353625E-7,
           8.282791958346811E-8,
           6.097604700986763E-8,
           -6.599629209666933E-9,
           8.844429086415016E-8,
           3.791397404548855E-8,
           1.236587587257696E-7,
           2.1936677048680148E-7,
           1.350564959604079E-7,
           2.095689389916774E-7,
           1.5095611393810742E-7,
           3.2292452171208123E-8,
           6.584802735218501E-8,
           -7.552974912311847E-8,
           -1.1437723322691226E-7,
           -5.571578593955647E-9,
           -1.297058114687128E-8
          ],
          [
           2.157198368161621E-8,
           2.6314499434064562E-8,
           3.025722773252702E-8,
           8.652719193982927E-9,
           1.4499688594283241E-8,
           1.1113348103697686E-8,
           -3.91095401950922E-8,
           -4.6857320063626915E-8,
           -1.1430823026302822E-7,
           -1.7752072428435033E-7,
           -1.9612649889523534E-7,
           -7.083117824250567E-8,
           3.1586836211338146E-8,
           1.6321238111399716E-7,
           1.6144492895758372E-7,
           1.2974552504609482E-7,
           1.8485893542172352E-7,
           1.537044111259945E-7,
           1.0289988103476715E-7,
           6.532678248122508E-8,
           4.3558836956837984E-8,
           -5.0285974373743335E-9,
           2.207173207583929E-8,
           4.0687757160659716E-8,
           2.1990898127059404E-7,
           3.333557475421491E-7,
           2.2719217784110752E-7,
           2.0258331258113718E-7,
           9.923084360707343E-8,
           1.1853452510249835E-7,
           1.0110253469503458E-8,
           -2.3895783398429933E-8,
           1.350217306421295E-8,
           -3.6909201790507075E-8
          ],
          [
           1.059441066021451E-8,
           2.879985622904085E-8,
           2.0394449823540162E-8,
           1.506272032981387E-8,
           1.5558826463803817E-8,
           2.097654604692183E-8,
           8.454531862775049E-10,
           -3.1158560487521807E-9,
           -6.603389438916004E-8,
           -7.554459028426717E-8,
           -6.242675641152308E-8,
           -7.241719182334934E-9,
           4.8276535149084214E-8,
           1.3520781086560372E-7,
           1.7223462488164152E-7,
           1.3157700099942216E-7,
           1.213423905666564E-7,
           1.3907363812418922E-7,
           1.0063798082934678E-7,
           7.619194049948678E-9,
           -3.876523500000974E-9,
           -1.0998719360884232E-7,
           -1.3283508500239308E-7,
           8.992024798416591E-9,
           2.372514206006126E-7,
           4.316039180267611E-7,
           5.193123714781308E-7,
           2.7708022163306607E-7,
           1.96049922876683E-7,
           1.2186992279679328E-7,
           9.939638267030886E-8,
           2.5610868489267808E-8,
           4.158364636659381E-8,
           -1.663364554321797E-8
          ],
          [
           1.2834032780196341E-8,
           5.3276430078184244E-9,
           2.818794122521142E-8,
           1.3232777754340658E-8,
           2.683402830295811E-8,
           1.811949452464852E-8,
           2.529561347792489E-8,
           -6.700146615842052E-9,
           -3.394427505210136E-8,
           -4.136820028233024E-9,
           -3.5076527407876846E-8,
           3.96619420868767E-8,
           6.76752230931107E-8,
           1.384776609717039E-7,
           -3.948726141133245E-8,
           6.141170694786178E-9,
           5.2845078491901665E-8,
           2.4466030657080216E-8,
           -1.7905613327812822E-8,
           3.01502484859814E-9,
           -1.3884338204163064E-7,
           -1.4159879910993713E-7,
           -2.9385670925538884E-7,
           -1.376722519857946E-7,
           2.6901772406301646E-7,
           5.400834445209253E-7,
           4.724482959299458E-7,
           3.037831258277271E-7,
           3.3627081631419896E-7,
           2.0822968599295603E-7,
           1.8585960945437392E-7,
           1.8016984209116651E-7,
           9.812349576096976E-8,
           -2.0548860467742965E-8
          ],
          [
           2.5849580972225146E-8,
           2.4161384092098343E-8,
           1.229268738973851E-8,
           3.14361859628806E-8,
           2.049167851874846E-8,
           3.915092667074462E-8,
           8.534749378845329E-9,
           4.459133960597391E-9,
           3.040551785213564E-8,
           -1.965077464247217E-8,
           3.082630270447531E-8,
           -5.7993414206452364E-8,
           -2.9340935861061352E-8,
           -1.2711675304333928E-7,
           -3.43054636525147E-8,
           -3.999870265024567E-8,
           -8.48992277481592E-8,
           -5.105612185737274E-8,
           -9.51302725608188E-8,
           -2.1255459293646912E-8,
           -1.7599537027943707E-7,
           -2.2810908512696673E-7,
           -2.2922572708675018E-7,
           -1.1173957268020074E-7,
           1.6089583686895916E-7,
           3.839993583750931E-7,
           4.4129898712905647E-7,
           3.744310040603999E-7,
           3.435791110732176E-7,
           3.1871944910885755E-7,
           3.4728110324907734E-7,
           2.2578154251996905E-7,
           1.7919845824509807E-7,
           1.4519242903168413E-7
          ],
          [
           2.6060425499465524E-8,
           1.678617430477783E-8,
           1.5436150116914077E-8,
           7.283819256551652E-9,
           1.477415797755165E-8,
           2.250456950122828E-8,
           2.074999845443345E-8,
           1.147069618025204E-8,
           3.284382531509826E-9,
           2.579707450165088E-9,
           -1.3963527943571507E-8,
           -2.7282119658070436E-8,
           -2.4762199796451876E-8,
           -1.0638150732394797E-8,
           -4.7831883892084426E-8,
           -5.353021680118079E-8,
           -8.565826608005192E-8,
           -5.0326338786020475E-8,
           -3.605836840068219E-8,
           -1.098501714302172E-7,
           -2.752160543882819E-7,
           -1.7217666119840562E-7,
           -2.238240973867731E-7,
           -7.562286690046853E-8,
           4.985992842392867E-8,
           2.924432614975227E-7,
           3.790001139401232E-7,
           4.4717493425601704E-7,
           5.06563934204567E-7,
           4.831877357142458E-7,
           4.715797246823675E-7,
           4.030967285362293E-7,
           4.3128325571232113E-7,
           3.2305664676141855E-7
          ],
          [
           1.801579437908989E-8,
           6.846597381737717E-9,
           1.6293140730265204E-8,
           1.509474076993077E-8,
           2.6959358403039973E-8,
           1.9552990364110562E-8,
           2.2042230259032857E-8,
           7.212927467374602E-9,
           8.108413715689115E-9,
           2.2704531169460416E-8,
           2.009790440818463E-8,
           1.3552430478977368E-8,
           -3.879484296117439E-8,
           -2.5538746337450713E-8,
           -3.571409524209659E-8,
           1.642964332846663E-9,
           -4.3585467184543203E-8,
           -7.055525586126004E-8,
           -8.222075800264346E-8,
           -6.446032942211997E-8,
           -1.2853355710076747E-7,
           -8.00972006866022E-8,
           -1.2360383383339381E-7,
           -1.2036632097913915E-7,
           9.217944495630385E-8,
           2.4949959430787563E-7,
           3.8279242260095696E-7,
           5.298304993099698E-7,
           6.509665498503707E-7,
           7.339547900170062E-7,
           6.855472962524138E-7,
           6.197025791342786E-7,
           5.383043460380781E-7,
           5.59547313686925E-7
          ],
          [
           2.502798008670443E-9,
           1.980398378024945E-8,
           1.1753311640562927E-8,
           5.039771718203708E-8,
           4.755011444441998E-8,
           2.6232713391766938E-8,
           2.876081268778279E-8,
           4.933879024319526E-8,
           3.338656842793008E-8,
           3.852843794140397E-8,
           1.1808743867670687E-8,
           -3.5396225401665577E-9,
           -3.5240750858973404E-9,
           1.307515739128919E-8,
           6.924957101639473E-8,
           -1.2549877193315192E-8,
           8.67732294142582E-8,
           -1.7060345087663707E-8,
           -5.754978650305974E-8,
           -8.632277734093006E-8,
           6.257763729956176E-9,
           -6.69199149099295E-8,
           -6.78868489921512E-8,
           -5.300434018387372E-8,
           5.0685538088590256E-8,
           1.5773363239434796E-7,
           3.451264288355389E-7,
           5.150748298195964E-7,
           5.960931606263698E-7,
           6.916811615348108E-7,
           9.265915006356042E-7,
           6.919452788471113E-7,
           6.946282349051671E-7,
           6.735855566936463E-7
          ],
          [
           1.613255532015588E-8,
           2.3760771724067374E-8,
           2.334190437352836E-8,
           2.3208450485310385E-8,
           2.1280532268616806E-8,
           2.8495844039832597E-8,
           2.843421516189676E-8,
           3.111563704053847E-8,
           9.220058166443621E-9,
           1.815248437781161E-8,
           9.413168348317066E-9,
           -2.411813797753953E-9,
           -1.4459883071172662E-8,
           -1.9095552886856844E-8,
           -1.2446353384055501E-8,
           1.770028289724782E-8,
           -1.6688455948087211E-9,
           1.1740127897373667E-8,
           1.2325432586842835E-7,
           2.168471714138683E-7,
           1.2487547527860276E-7,
           3.117606136245306E-8,
           -1.4686355488340826E-8,
           -4.784740273780393E-8,
           2.3767810907628646E-8,
           1.4827471623301124E-7,
           2.459801985915668E-7,
           2.809984139578387E-7,
           3.659366111684365E-7,
           4.5826880735691846E-7,
           4.951927065315E-7,
           6.0464430162347E-7,
           7.042320351147491E-7,
           6.806848975986836E-7
          ],
          [
           2.226337067105713E-8,
           3.244337244125524E-8,
           2.553785388953823E-8,
           2.3969475053641356E-8,
           2.5931490934392368E-8,
           9.605418664604237E-9,
           3.4301796425375406E-8,
           2.4185390120340763E-8,
           3.6447425606634795E-8,
           2.516998892636864E-8,
           2.891631815798034E-8,
           1.368134127405304E-8,
           6.394604804199386E-9,
           1.2756100492702938E-8,
           2.8385095147916665E-8,
           3.48001041367642E-8,
           8.759914156041698E-8,
           1.2484776329497472E-7,
           5.7897582102599214E-8,
           9.048333420540636E-8,
           1.2955422117919207E-7,
           1.721066152559565E-7,
           1.1500134201003984E-7,
           6.285850849021834E-8,
           7.310465353050013E-8,
           1.1845082588312237E-7,
           8.277169690497294E-8,
           1.5248182528383937E-7,
           2.349631566705287E-7,
           3.482924422766201E-7,
           3.295843896248501E-7,
           4.456473559185904E-7,
           4.6904834241743197E-7,
           5.341951848797261E-7
          ],
          [
           2.4092196921549186E-8,
           2.6856108392605555E-8,
           1.7464996268833884E-8,
           2.2874018416739028E-8,
           1.7038393905488557E-8,
           3.974250542308601E-8,
           1.4159772774560596E-8,
           2.607189274790755E-8,
           2.55513093009126E-8,
           1.679875917593469E-8,
           2.395913668338756E-8,
           6.334085613640381E-9,
           2.903782023754249E-8,
           2.5419917354333806E-8,
           1.1845831679236337E-8,
           4.724377718969399E-8,
           7.391900815777772E-10,
           6.625627570192462E-8,
           9.403582280042101E-8,
           1.9403855698912967E-7,
           1.3507400936208344E-7,
           2.0104664345587953E-7,
           1.7137150130138737E-7,
           8.367754036929121E-9,
           7.244232165287478E-8,
           4.385774503152883E-9,
           7.091584699235518E-8,
           3.5955041720004524E-8,
           1.7821440466244226E-8,
           1.9960185595348375E-7,
           8.401028816011469E-8,
           1.7948527958822E-7,
           1.8208369876539736E-7,
           2.7109189587641193E-7
          ],
          [
           1.8980937508784097E-8,
           2.4067193452924076E-8,
           2.4791120498187568E-8,
           3.3529126264152005E-8,
           7.443248363769031E-9,
           3.1382845376504495E-8,
           3.5634676141871484E-8,
           2.9746620378367268E-8,
           2.3880278429322913E-8,
           2.736222594098095E-8,
           1.4739341156943381E-8,
           2.253673217265353E-8,
           2.5060144064352425E-8,
           2.6573268139032695E-8,
           2.7615920998351067E-8,
           1.623297783700576E-8,
           9.187390141655498E-8,
           5.003446114725476E-8,
           7.945705729126996E-8,
           7.966030051251337E-8,
           1.4082700776745502E-7,
           1.613960390600557E-7,
           2.482512393590969E-7,
           1.4148188337318503E-7,
           7.906656549677434E-8,
           3.600343188289862E-8,
           1.3548324742369034E-8,
           2.6914031073341928E-8,
           -1.3645366416412876E-8,
           4.5008857324783726E-8,
           1.721584406824266E-8,
           9.047977695803431E-8,
           1.1622972836936156E-7,
           8.255751219409115E-8
          ],
          [
           2.1815828182190272E-8,
           2.346068327187366E-8,
           2.2097681425084412E-8,
           2.4282702019948785E-8,
           2.9953169687619257E-8,
           1.2005322313431636E-8,
           1.4067029565796276E-8,
           3.715690963346356E-8,
           2.043230732804492E-8,
           2.385893784059964E-8,
           3.2683547332130024E-8,
           3.3061342536990137E-9,
           5.109077375746262E-9,
           1.4434533943265978E-8,
           4.291119358930717E-8,
           1.1769803055985815E-8,
           2.106805138374381E-8,
           -3.912934076460455E-9,
           -7.524865943793977E-9,
           3.213476391777781E-8,
           8.950484839108183E-8,
           1.1918930921945863E-7,
           2.7333991881772053E-7,
           1.9781913892315935E-7,
           1.3224934202627526E-7,
           6.601408247396737E-8,
           -2.302392518117455E-8,
           -8.929929992562386E-9,
           -1.6073371426369166E-9,
           2.99373559058417E-8,
           1.0105724106733647E-8,
           7.506145924353426E-8,
           6.4185910178507005E-9,
           1.844506085135406E-8
          ],
          [
           2.2752875760467016E-8,
           1.889668811814992E-8,
           1.5102234142014673E-8,
           1.856701855093222E-8,
           4.5968614917325104E-8,
           2.8325917119539846E-8,
           1.8534924927768606E-8,
           2.7232059982757805E-8,
           3.7581636385126567E-8,
           3.01159613053221E-8,
           1.3961477819336553E-8,
           1.8671723358616843E-8,
           2.590782865318846E-10,
           2.190148090682445E-8,
           5.5537583454963154E-9,
           -6.68045071597143E-9,
           1.022092076332453E-8,
           -1.491109941818033E-8,
           -8.75882421436317E-9,
           -2.2233570909116738E-8,
           1.974278724255454E-8,
           1.1163428680672188E-7,
           2.378673003943435E-7,
           2.9810768918271977E-7,
           2.3488012208727734E-7,
           1.2525528656145888E-7,
           4.438795832535505E-9,
           -2.0546131986992667E-8,
           2.8990376427404663E-8,
           5.306238899372489E-8,
           -1.4798475402600843E-8,
           1.2326135165538053E-8,
           2.0412208823289712E-8,
           -4.0393259040189976E-8
          ]
         ],
         "type": "heatmap",
         "xaxis": "x",
         "yaxis": "y",
         "hovertemplate": "x: %{x}<br>y: %{y}<br>color: %{z}<extra></extra>"
        }
       ],
       "layout": {
        "template": {
         "data": {
          "histogram2dcontour": [
           {
            "type": "histogram2dcontour",
            "colorbar": {
             "outlinewidth": 0,
             "ticks": ""
            },
            "colorscale": [
             [
              0.0,
              "#0d0887"
             ],
             [
              0.1111111111111111,
              "#46039f"
             ],
             [
              0.2222222222222222,
              "#7201a8"
             ],
             [
              0.3333333333333333,
              "#9c179e"
             ],
             [
              0.4444444444444444,
              "#bd3786"
             ],
             [
              0.5555555555555556,
              "#d8576b"
             ],
             [
              0.6666666666666666,
              "#ed7953"
             ],
             [
              0.7777777777777778,
              "#fb9f3a"
             ],
             [
              0.8888888888888888,
              "#fdca26"
             ],
             [
              1.0,
              "#f0f921"
             ]
            ]
           }
          ],
          "choropleth": [
           {
            "type": "choropleth",
            "colorbar": {
             "outlinewidth": 0,
             "ticks": ""
            }
           }
          ],
          "histogram2d": [
           {
            "type": "histogram2d",
            "colorbar": {
             "outlinewidth": 0,
             "ticks": ""
            },
            "colorscale": [
             [
              0.0,
              "#0d0887"
             ],
             [
              0.1111111111111111,
              "#46039f"
             ],
             [
              0.2222222222222222,
              "#7201a8"
             ],
             [
              0.3333333333333333,
              "#9c179e"
             ],
             [
              0.4444444444444444,
              "#bd3786"
             ],
             [
              0.5555555555555556,
              "#d8576b"
             ],
             [
              0.6666666666666666,
              "#ed7953"
             ],
             [
              0.7777777777777778,
              "#fb9f3a"
             ],
             [
              0.8888888888888888,
              "#fdca26"
             ],
             [
              1.0,
              "#f0f921"
             ]
            ]
           }
          ],
          "heatmap": [
           {
            "type": "heatmap",
            "colorbar": {
             "outlinewidth": 0,
             "ticks": ""
            },
            "colorscale": [
             [
              0.0,
              "#0d0887"
             ],
             [
              0.1111111111111111,
              "#46039f"
             ],
             [
              0.2222222222222222,
              "#7201a8"
             ],
             [
              0.3333333333333333,
              "#9c179e"
             ],
             [
              0.4444444444444444,
              "#bd3786"
             ],
             [
              0.5555555555555556,
              "#d8576b"
             ],
             [
              0.6666666666666666,
              "#ed7953"
             ],
             [
              0.7777777777777778,
              "#fb9f3a"
             ],
             [
              0.8888888888888888,
              "#fdca26"
             ],
             [
              1.0,
              "#f0f921"
             ]
            ]
           }
          ],
          "heatmapgl": [
           {
            "type": "heatmapgl",
            "colorbar": {
             "outlinewidth": 0,
             "ticks": ""
            },
            "colorscale": [
             [
              0.0,
              "#0d0887"
             ],
             [
              0.1111111111111111,
              "#46039f"
             ],
             [
              0.2222222222222222,
              "#7201a8"
             ],
             [
              0.3333333333333333,
              "#9c179e"
             ],
             [
              0.4444444444444444,
              "#bd3786"
             ],
             [
              0.5555555555555556,
              "#d8576b"
             ],
             [
              0.6666666666666666,
              "#ed7953"
             ],
             [
              0.7777777777777778,
              "#fb9f3a"
             ],
             [
              0.8888888888888888,
              "#fdca26"
             ],
             [
              1.0,
              "#f0f921"
             ]
            ]
           }
          ],
          "contourcarpet": [
           {
            "type": "contourcarpet",
            "colorbar": {
             "outlinewidth": 0,
             "ticks": ""
            }
           }
          ],
          "contour": [
           {
            "type": "contour",
            "colorbar": {
             "outlinewidth": 0,
             "ticks": ""
            },
            "colorscale": [
             [
              0.0,
              "#0d0887"
             ],
             [
              0.1111111111111111,
              "#46039f"
             ],
             [
              0.2222222222222222,
              "#7201a8"
             ],
             [
              0.3333333333333333,
              "#9c179e"
             ],
             [
              0.4444444444444444,
              "#bd3786"
             ],
             [
              0.5555555555555556,
              "#d8576b"
             ],
             [
              0.6666666666666666,
              "#ed7953"
             ],
             [
              0.7777777777777778,
              "#fb9f3a"
             ],
             [
              0.8888888888888888,
              "#fdca26"
             ],
             [
              1.0,
              "#f0f921"
             ]
            ]
           }
          ],
          "surface": [
           {
            "type": "surface",
            "colorbar": {
             "outlinewidth": 0,
             "ticks": ""
            },
            "colorscale": [
             [
              0.0,
              "#0d0887"
             ],
             [
              0.1111111111111111,
              "#46039f"
             ],
             [
              0.2222222222222222,
              "#7201a8"
             ],
             [
              0.3333333333333333,
              "#9c179e"
             ],
             [
              0.4444444444444444,
              "#bd3786"
             ],
             [
              0.5555555555555556,
              "#d8576b"
             ],
             [
              0.6666666666666666,
              "#ed7953"
             ],
             [
              0.7777777777777778,
              "#fb9f3a"
             ],
             [
              0.8888888888888888,
              "#fdca26"
             ],
             [
              1.0,
              "#f0f921"
             ]
            ]
           }
          ],
          "mesh3d": [
           {
            "type": "mesh3d",
            "colorbar": {
             "outlinewidth": 0,
             "ticks": ""
            }
           }
          ],
          "scatter": [
           {
            "marker": {
             "line": {
              "color": "#283442"
             }
            },
            "type": "scatter"
           }
          ],
          "parcoords": [
           {
            "type": "parcoords",
            "line": {
             "colorbar": {
              "outlinewidth": 0,
              "ticks": ""
             }
            }
           }
          ],
          "scatterpolargl": [
           {
            "type": "scatterpolargl",
            "marker": {
             "colorbar": {
              "outlinewidth": 0,
              "ticks": ""
             }
            }
           }
          ],
          "bar": [
           {
            "error_x": {
             "color": "#f2f5fa"
            },
            "error_y": {
             "color": "#f2f5fa"
            },
            "marker": {
             "line": {
              "color": "rgb(17,17,17)",
              "width": 0.5
             },
             "pattern": {
              "fillmode": "overlay",
              "size": 10,
              "solidity": 0.2
             }
            },
            "type": "bar"
           }
          ],
          "scattergeo": [
           {
            "type": "scattergeo",
            "marker": {
             "colorbar": {
              "outlinewidth": 0,
              "ticks": ""
             }
            }
           }
          ],
          "scatterpolar": [
           {
            "type": "scatterpolar",
            "marker": {
             "colorbar": {
              "outlinewidth": 0,
              "ticks": ""
             }
            }
           }
          ],
          "histogram": [
           {
            "marker": {
             "pattern": {
              "fillmode": "overlay",
              "size": 10,
              "solidity": 0.2
             }
            },
            "type": "histogram"
           }
          ],
          "scattergl": [
           {
            "marker": {
             "line": {
              "color": "#283442"
             }
            },
            "type": "scattergl"
           }
          ],
          "scatter3d": [
           {
            "type": "scatter3d",
            "line": {
             "colorbar": {
              "outlinewidth": 0,
              "ticks": ""
             }
            },
            "marker": {
             "colorbar": {
              "outlinewidth": 0,
              "ticks": ""
             }
            }
           }
          ],
          "scattermapbox": [
           {
            "type": "scattermapbox",
            "marker": {
             "colorbar": {
              "outlinewidth": 0,
              "ticks": ""
             }
            }
           }
          ],
          "scatterternary": [
           {
            "type": "scatterternary",
            "marker": {
             "colorbar": {
              "outlinewidth": 0,
              "ticks": ""
             }
            }
           }
          ],
          "scattercarpet": [
           {
            "type": "scattercarpet",
            "marker": {
             "colorbar": {
              "outlinewidth": 0,
              "ticks": ""
             }
            }
           }
          ],
          "carpet": [
           {
            "aaxis": {
             "endlinecolor": "#A2B1C6",
             "gridcolor": "#506784",
             "linecolor": "#506784",
             "minorgridcolor": "#506784",
             "startlinecolor": "#A2B1C6"
            },
            "baxis": {
             "endlinecolor": "#A2B1C6",
             "gridcolor": "#506784",
             "linecolor": "#506784",
             "minorgridcolor": "#506784",
             "startlinecolor": "#A2B1C6"
            },
            "type": "carpet"
           }
          ],
          "table": [
           {
            "cells": {
             "fill": {
              "color": "#506784"
             },
             "line": {
              "color": "rgb(17,17,17)"
             }
            },
            "header": {
             "fill": {
              "color": "#2a3f5f"
             },
             "line": {
              "color": "rgb(17,17,17)"
             }
            },
            "type": "table"
           }
          ],
          "barpolar": [
           {
            "marker": {
             "line": {
              "color": "rgb(17,17,17)",
              "width": 0.5
             },
             "pattern": {
              "fillmode": "overlay",
              "size": 10,
              "solidity": 0.2
             }
            },
            "type": "barpolar"
           }
          ],
          "pie": [
           {
            "automargin": true,
            "type": "pie"
           }
          ]
         },
         "layout": {
          "autotypenumbers": "strict",
          "colorway": [
           "#636efa",
           "#EF553B",
           "#00cc96",
           "#ab63fa",
           "#FFA15A",
           "#19d3f3",
           "#FF6692",
           "#B6E880",
           "#FF97FF",
           "#FECB52"
          ],
          "font": {
           "color": "#f2f5fa"
          },
          "hovermode": "closest",
          "hoverlabel": {
           "align": "left"
          },
          "paper_bgcolor": "rgb(17,17,17)",
          "plot_bgcolor": "rgb(17,17,17)",
          "polar": {
           "bgcolor": "rgb(17,17,17)",
           "angularaxis": {
            "gridcolor": "#506784",
            "linecolor": "#506784",
            "ticks": ""
           },
           "radialaxis": {
            "gridcolor": "#506784",
            "linecolor": "#506784",
            "ticks": ""
           }
          },
          "ternary": {
           "bgcolor": "rgb(17,17,17)",
           "aaxis": {
            "gridcolor": "#506784",
            "linecolor": "#506784",
            "ticks": ""
           },
           "baxis": {
            "gridcolor": "#506784",
            "linecolor": "#506784",
            "ticks": ""
           },
           "caxis": {
            "gridcolor": "#506784",
            "linecolor": "#506784",
            "ticks": ""
           }
          },
          "coloraxis": {
           "colorbar": {
            "outlinewidth": 0,
            "ticks": ""
           }
          },
          "colorscale": {
           "sequential": [
            [
             0.0,
             "#0d0887"
            ],
            [
             0.1111111111111111,
             "#46039f"
            ],
            [
             0.2222222222222222,
             "#7201a8"
            ],
            [
             0.3333333333333333,
             "#9c179e"
            ],
            [
             0.4444444444444444,
             "#bd3786"
            ],
            [
             0.5555555555555556,
             "#d8576b"
            ],
            [
             0.6666666666666666,
             "#ed7953"
            ],
            [
             0.7777777777777778,
             "#fb9f3a"
            ],
            [
             0.8888888888888888,
             "#fdca26"
            ],
            [
             1.0,
             "#f0f921"
            ]
           ],
           "sequentialminus": [
            [
             0.0,
             "#0d0887"
            ],
            [
             0.1111111111111111,
             "#46039f"
            ],
            [
             0.2222222222222222,
             "#7201a8"
            ],
            [
             0.3333333333333333,
             "#9c179e"
            ],
            [
             0.4444444444444444,
             "#bd3786"
            ],
            [
             0.5555555555555556,
             "#d8576b"
            ],
            [
             0.6666666666666666,
             "#ed7953"
            ],
            [
             0.7777777777777778,
             "#fb9f3a"
            ],
            [
             0.8888888888888888,
             "#fdca26"
            ],
            [
             1.0,
             "#f0f921"
            ]
           ],
           "diverging": [
            [
             0,
             "#8e0152"
            ],
            [
             0.1,
             "#c51b7d"
            ],
            [
             0.2,
             "#de77ae"
            ],
            [
             0.3,
             "#f1b6da"
            ],
            [
             0.4,
             "#fde0ef"
            ],
            [
             0.5,
             "#f7f7f7"
            ],
            [
             0.6,
             "#e6f5d0"
            ],
            [
             0.7,
             "#b8e186"
            ],
            [
             0.8,
             "#7fbc41"
            ],
            [
             0.9,
             "#4d9221"
            ],
            [
             1,
             "#276419"
            ]
           ]
          },
          "xaxis": {
           "gridcolor": "#283442",
           "linecolor": "#506784",
           "ticks": "",
           "title": {
            "standoff": 15
           },
           "zerolinecolor": "#283442",
           "automargin": true,
           "zerolinewidth": 2
          },
          "yaxis": {
           "gridcolor": "#283442",
           "linecolor": "#506784",
           "ticks": "",
           "title": {
            "standoff": 15
           },
           "zerolinecolor": "#283442",
           "automargin": true,
           "zerolinewidth": 2
          },
          "scene": {
           "xaxis": {
            "backgroundcolor": "rgb(17,17,17)",
            "gridcolor": "#506784",
            "linecolor": "#506784",
            "showbackground": true,
            "ticks": "",
            "zerolinecolor": "#C8D4E3",
            "gridwidth": 2
           },
           "yaxis": {
            "backgroundcolor": "rgb(17,17,17)",
            "gridcolor": "#506784",
            "linecolor": "#506784",
            "showbackground": true,
            "ticks": "",
            "zerolinecolor": "#C8D4E3",
            "gridwidth": 2
           },
           "zaxis": {
            "backgroundcolor": "rgb(17,17,17)",
            "gridcolor": "#506784",
            "linecolor": "#506784",
            "showbackground": true,
            "ticks": "",
            "zerolinecolor": "#C8D4E3",
            "gridwidth": 2
           }
          },
          "shapedefaults": {
           "line": {
            "color": "#f2f5fa"
           }
          },
          "annotationdefaults": {
           "arrowcolor": "#f2f5fa",
           "arrowhead": 0,
           "arrowwidth": 1
          },
          "geo": {
           "bgcolor": "rgb(17,17,17)",
           "landcolor": "rgb(17,17,17)",
           "subunitcolor": "#506784",
           "showland": true,
           "showlakes": true,
           "lakecolor": "rgb(17,17,17)"
          },
          "title": {
           "x": 0.05
          },
          "updatemenudefaults": {
           "bgcolor": "#506784",
           "borderwidth": 0
          },
          "sliderdefaults": {
           "bgcolor": "#C8D4E3",
           "borderwidth": 1,
           "bordercolor": "rgb(17,17,17)",
           "tickwidth": 0
          },
          "mapbox": {
           "style": "dark"
          }
         }
        },
        "xaxis": {
         "anchor": "y",
         "domain": [
          0.0,
          1.0
         ],
         "scaleanchor": "y",
         "constrain": "domain"
        },
        "yaxis": {
         "anchor": "x",
         "domain": [
          0.0,
          1.0
         ],
         "autorange": "reversed",
         "constrain": "domain"
        },
        "coloraxis": {
         "colorscale": [
          [
           0.0,
           "#0d0887"
          ],
          [
           0.1111111111111111,
           "#46039f"
          ],
          [
           0.2222222222222222,
           "#7201a8"
          ],
          [
           0.3333333333333333,
           "#9c179e"
          ],
          [
           0.4444444444444444,
           "#bd3786"
          ],
          [
           0.5555555555555556,
           "#d8576b"
          ],
          [
           0.6666666666666666,
           "#ed7953"
          ],
          [
           0.7777777777777778,
           "#fb9f3a"
          ],
          [
           0.8888888888888888,
           "#fdca26"
          ],
          [
           1.0,
           "#f0f921"
          ]
         ]
        },
        "margin": {
         "t": 60
        }
       },
       "config": {
        "plotlyServerURL": "https://plot.ly"
       }
      },
      "text/html": "<div>                            <div id=\"16cefffa-5119-4426-b235-44a7bb8bb4c7\" class=\"plotly-graph-div\" style=\"height:525px; width:100%;\"></div>            <script type=\"text/javascript\">                require([\"plotly\"], function(Plotly) {                    window.PLOTLYENV=window.PLOTLYENV || {};                                    if (document.getElementById(\"16cefffa-5119-4426-b235-44a7bb8bb4c7\")) {                    Plotly.newPlot(                        \"16cefffa-5119-4426-b235-44a7bb8bb4c7\",                        [{\"coloraxis\":\"coloraxis\",\"name\":\"0\",\"z\":[[3.308846577395028e-08,3.648455510050301e-08,1.5614123987465775e-08,3.2716471920720335e-08,2.7965351676186778e-08,2.6030545484075555e-08,1.6305553762832675e-08,1.0506720704355916e-08,-1.9258419810279133e-08,5.427975427645683e-08,5.02391159098293e-08,-5.9064510791704897e-08,3.666091194468932e-08,2.180949777512498e-08,-7.155056413876187e-08,-1.231024656138722e-07,5.6798774514988215e-08,1.3605713628941615e-07,1.5218880497594455e-07,-4.86218690761801e-07,-5.270056291955868e-07,-1.215113779705223e-07,1.7617351542769712e-07,1.0332393304012543e-07,3.5412049222811956e-07,6.270259248236309e-07,5.706452955857784e-07,1.3289330160347556e-07,-1.0327401041978483e-07,-2.55405595977125e-07,-3.7700003163083457e-07,-3.926442705001616e-07,-4.342949847102771e-07,-4.863236230072439e-07],[3.6323869933445425e-08,5.206908458019903e-08,3.377207069141163e-08,3.37435711355253e-08,2.423259737933372e-08,2.9360969050178888e-08,3.653401096625744e-08,3.168468249484704e-08,1.6464459418103343e-07,3.8376109468918723e-07,-1.8262038144240706e-07,-8.913352474370416e-08,7.344379239920509e-08,-1.6255258342334139e-07,-3.1411159155675677e-07,-2.190753876604403e-08,8.619868084286529e-08,4.5412905854324244e-07,1.82659496682559e-07,4.50405858255563e-09,-2.6798480921668725e-07,1.845785102714067e-07,2.82458677824064e-07,3.3401831106001693e-07,3.8456753492571274e-07,6.858979248264037e-07,5.550151691599565e-07,4.1284160718945034e-07,3.4222112998997396e-07,3.5038234915894244e-07,1.1217001993887072e-07,1.5406417625494818e-08,-2.321871244684997e-07,-2.302401003766232e-07],[3.9917767984302374e-08,3.1417734119103584e-08,4.014007871204825e-08,3.8395785778551435e-08,4.008122027108881e-08,4.336773930176996e-08,2.8888581724658518e-08,6.258436505592845e-08,5.017584173751757e-07,3.585132693927848e-07,-2.2994614798681018e-07,-2.0024765429207527e-07,-1.424016466585846e-07,-3.9518253318842825e-07,-2.4090311363045886e-07,-1.0139394845159477e-07,9.634711601690704e-08,3.7343993639060635e-07,4.917235123845119e-07,4.971387977250947e-07,1.846862613371201e-07,-6.867667262839019e-08,-1.2205484908797043e-07,-1.0694783566717767e-07,1.832286072542362e-07,2.3304937568651845e-07,1.5188591935645448e-07,2.2110852678964046e-07,1.612798550612733e-07,1.4071272982952763e-07,2.7856401460538983e-07,2.8716745782944456e-07,1.3032921711202423e-07,1.511192470467751e-07],[3.5017285760940026e-08,2.730726941566147e-08,6.035316001611583e-08,1.916521803845454e-08,4.0735678752653146e-08,2.744478512692772e-08,2.3108476644464323e-08,1.0576809412194884e-07,6.140739274456565e-07,-9.907710779425357e-08,-2.1812646439979528e-07,-2.4091070927957136e-07,-3.6875604434234115e-07,-2.048550661851098e-07,-1.7149574151399844e-07,-1.3719576212980488e-07,1.910063282371525e-07,2.1834023669021786e-07,3.77112634909856e-07,4.055300680935031e-07,2.5781354428122065e-07,-2.4693425725567593e-07,-3.1367540013190445e-07,-8.420333253306683e-08,-1.058881494175313e-08,1.4173906580670697e-07,8.227157081569274e-08,-5.0329674052475236e-08,-2.251684817545313e-07,-2.2705839983704168e-07,6.498375539394146e-08,1.9204147507027845e-07,2.3540454467477138e-07,3.308660535815582e-07],[3.30423209895455e-08,3.592403034189005e-08,2.558840906919198e-08,4.142125659567949e-08,3.750993952114016e-08,1.1904039036935781e-08,1.865744950430194e-08,6.56597140713609e-08,4.472014718266189e-07,-4.1121048762013104e-07,-3.627343144062187e-07,-3.405516133550139e-07,-5.437806774600017e-07,-3.9776806616474335e-08,1.2078003962018937e-08,-1.218742858677964e-09,2.6241875077615345e-07,2.1330040857094434e-07,4.876223140945867e-07,6.068012386349316e-07,1.8206869224258188e-07,-5.301354414204968e-07,-6.811825596880133e-07,-9.694720914782691e-08,5.651918233306685e-08,9.468097288569614e-08,8.127411424371199e-08,5.532444772026449e-08,-7.340996962053382e-09,1.109343250274529e-07,1.3446345845205283e-07,-1.2380072452919658e-08,-3.405568600713775e-07,-7.163642200619601e-08],[4.899926521535241e-08,2.237621729136346e-08,3.5522830044250555e-08,2.4219878643475566e-08,1.500706241851711e-08,2.5581090169442398e-08,4.982360875639612e-08,8.178009828205486e-08,-5.630765331837172e-08,-4.718910372489246e-07,-3.6663564819877597e-07,-3.6893361207925495e-07,-4.563020406235988e-07,-3.5355145937914993e-09,1.2299837366003253e-07,4.0170843035660195e-09,3.333453820366301e-07,4.1181034088365584e-07,5.070177327336166e-07,6.530531668817451e-07,5.166244178929137e-07,-2.542082657930551e-07,-4.2485484703766533e-07,-1.712435028858674e-07,4.9327960615590827e-08,1.579924120055545e-07,1.36308136799651e-07,1.64530423193636e-07,1.693305361379736e-07,1.3469424502261672e-07,2.795560671136264e-07,5.976832943083047e-08,-4.6447323238508823e-07,-4.2715106686569775e-07],[2.3123913599486266e-08,3.530198739802552e-08,2.9781707807562556e-08,1.9214938487634155e-08,3.366131126917116e-08,3.908083107016715e-08,3.155762465229568e-08,4.799000781293747e-08,-2.6792960398760853e-07,-3.7257254273497426e-07,-3.3011171298337206e-07,-3.733265168790645e-07,-2.625132975192065e-07,9.09355923429343e-08,1.1809671865295696e-07,1.2198973790541381e-07,4.560511763145698e-07,3.6549910550631545e-07,4.972690951491e-07,6.159306793785846e-07,6.497717430061423e-07,4.836306711225717e-08,1.898808829090579e-08,5.007209618824015e-08,1.156272091791398e-07,1.7067597194296055e-08,1.1817231663097083e-07,3.056016230844989e-08,1.871825633994234e-07,1.5307606139316778e-07,1.4099997016403177e-07,1.408718599110007e-07,1.1302366356738015e-07,1.6492711469869812e-07],[2.4017985486166097e-08,4.7388071906275385e-08,2.8600929827245827e-08,3.8035769748445e-08,3.046575284536024e-08,4.311494406912235e-08,6.09585681314939e-08,1.9748598661822648e-07,-2.2392656443612524e-07,-2.9503460179728536e-07,-3.584497996394538e-07,-3.26676999250725e-07,-2.7973542078843833e-07,-2.9560648583249668e-08,-1.2138807451613162e-07,1.1897760454090361e-07,3.629805902328371e-07,9.247083186927871e-08,3.485533041604976e-07,6.179103423187035e-07,6.32418384086074e-07,2.912250853943793e-07,1.091616725488738e-07,3.511424603542826e-08,1.6042451154347726e-07,9.45876283147133e-08,1.6634776730057984e-07,1.4545766708844206e-07,7.134097124359691e-08,6.22823998204057e-08,9.178152392637678e-08,2.4825179146098207e-07,2.4951228967757173e-07,3.362861499082707e-07],[3.845692940407186e-08,5.030777236148557e-08,2.2794675797081517e-08,4.226771771601519e-08,1.0487735951982397e-08,5.613441467817657e-09,5.554694929208743e-08,2.2936319726020877e-08,-3.102935998321977e-07,-4.0265413903456e-07,-3.8850786869845725e-07,-3.146066403665639e-07,-3.4021632360973155e-07,-3.289280497789411e-07,-3.6944507202675e-07,-3.6745262068516606e-07,-2.0357762324259308e-07,-1.8647922022126143e-07,3.192483479956892e-07,4.207093224716604e-07,4.5117241076720246e-07,1.3033315679490402e-07,2.0228126856941343e-07,1.728615842924331e-08,3.774186441643401e-09,-4.3500877387128955e-08,2.1110784636128108e-07,2.494111196328028e-07,5.871345045204696e-08,6.825997179236548e-08,5.579033286919478e-08,4.756923797423275e-08,7.674957840799915e-08,7.511782435623292e-08],[1.2247481610520242e-08,3.9716379248480544e-08,4.415052315860243e-08,2.726386935103878e-08,3.2082672597341284e-08,1.0311636977149005e-08,7.959714599796293e-08,-3.706066774919531e-08,-1.7914380922697553e-07,-2.0439923094206093e-07,-3.3433442152491526e-07,-2.581694652432937e-07,-3.985601658062353e-07,-6.313127949893326e-07,-6.598900014833932e-07,-5.720965796793459e-07,-5.656445008713848e-07,-3.029054325846602e-07,1.0687088057861156e-07,1.9741033245188118e-07,2.452746416250487e-07,1.868891146862609e-07,3.785156537305082e-08,-3.230029416634586e-09,-3.802593289322361e-08,-1.231904135592303e-07,6.364969162487716e-08,1.0195150327910819e-07,5.204797422158061e-09,-1.368927765956988e-07,-2.8151272627592477e-07,-4.3044560663089453e-07,-3.888169996599637e-07,-3.850100233420008e-07],[3.080043746337737e-08,1.611297853387406e-08,1.0966272980021659e-08,3.836935341674883e-08,1.050004039851451e-08,7.1542969330679514e-09,6.371297080500809e-08,-4.023929561725513e-08,-9.948468909299292e-08,-5.1788249341462066e-08,-9.395101516788368e-08,-1.2938871962230667e-07,-4.145993691886671e-07,-7.30936306172412e-07,-8.068446271827155e-07,-6.204468422921779e-07,-4.1719740236001055e-07,-2.0817444681634322e-07,-4.405863407036824e-09,1.300593111674055e-07,2.5460644359638646e-07,1.7762486940016055e-07,-3.1506753246655865e-08,-1.0147121508393487e-07,-2.0413780790291805e-07,-2.478826513835548e-07,-2.0225903942428782e-07,-1.630906937070218e-07,-1.4955848973411723e-07,-3.692928670512048e-07,-6.18669805721457e-07,-8.050278055058676e-07,-7.161103315451674e-07,-7.53641697525009e-07],[1.4398936757745765e-08,8.018528867845955e-09,3.0493519062993e-08,1.6679256332542963e-08,2.2004073023082008e-08,4.870191386464893e-08,8.469318150328895e-08,-6.098547995708958e-08,-2.2628160800427802e-08,6.631550444551119e-08,9.763234555828502e-08,-5.3293210350362864e-08,-2.452965061969953e-07,-6.691887513703352e-07,-7.704228426262387e-07,-4.993063983153305e-07,-2.903870898182848e-07,-1.3427857455796972e-07,-7.547861418103072e-09,1.0492590356634337e-07,1.7200888296712185e-07,1.8903563633693888e-07,-1.0490724299451922e-07,-1.994931678259441e-07,-3.5162226327980375e-07,-4.4755277421087193e-07,-5.007361036323855e-07,-4.762339470040387e-07,-5.179052101067593e-07,-6.009407882409078e-07,-7.493338704659738e-07,-7.712893184746834e-07,-7.927690359944269e-07,-8.275082359426267e-07],[1.9587592257196315e-08,4.6684581993376656e-08,-2.840276474470947e-09,3.099493109057671e-08,1.679152347610714e-08,2.8855211554808682e-08,4.263154974932747e-08,5.548613365986782e-08,1.1968117254245646e-07,1.592408696452727e-07,1.2876310627623395e-07,4.757470433651843e-08,-2.091750308445465e-07,-6.585265796701356e-07,-6.155345467212058e-07,-3.00817260024361e-07,-1.840552254874663e-07,-8.0276948508723e-08,-3.1511679295777226e-08,4.2717546226985745e-08,1.2894191007229353e-07,1.5204883174566934e-07,-6.214042330023044e-08,-2.6708424653384964e-07,-3.935000655807158e-07,-4.787585944355525e-07,-5.996675933930095e-07,-6.846052392049619e-07,-7.119161894325054e-07,-7.475850919199387e-07,-6.718477180107311e-07,-6.803592009845225e-07,-7.022439454273959e-07,-6.984161091064523e-07],[2.1638839793947216e-08,1.6071783693812e-08,2.6365568145538062e-08,7.336910217412175e-09,3.2512630498553524e-08,8.253687177704086e-08,4.676701053600027e-08,5.4678248601259794e-08,1.3379178939965626e-07,1.7768711607519262e-07,2.5356318114714434e-07,1.2386537417090696e-07,-1.8108541511632593e-07,-4.567285977456399e-07,-4.823754081950162e-07,-2.978676147583001e-07,-1.1683279674999402e-07,2.414937024785507e-08,1.2696134444149809e-08,1.0174440576875362e-07,1.8302431290229163e-07,2.565659962456231e-07,-6.310469432164313e-08,-2.3823756050531499e-07,-4.084072754782183e-07,-4.914176711984605e-07,-6.082556819452691e-07,-7.384112089734045e-07,-8.181782663792096e-07,-7.209942175105716e-07,-5.573129171793665e-07,-5.409915350535589e-07,-4.721156043963391e-07,-6.180554585302309e-07],[1.4257335503859033e-08,1.627568113619593e-08,1.999161130058281e-08,3.2098794567551365e-08,4.7619811633135596e-08,7.624460750915059e-08,1.0717688317080155e-07,9.463029248234794e-08,1.216656398778063e-07,1.3104424476105813e-07,2.760663284963545e-07,6.353811384287506e-08,-1.6241862220305706e-07,-4.5562787322568576e-07,-3.985067724262679e-07,-3.8832481667495717e-07,-1.5231720248065736e-07,6.20820421757697e-08,6.116341961188977e-08,1.03420917064939e-07,1.1357604047953755e-07,2.0221859043276884e-07,1.662253577957169e-08,-2.9228131082964713e-07,-3.9652051301293765e-07,-4.6170573383318576e-07,-5.726670425079976e-07,-7.459049958101681e-07,-7.074428791896999e-07,-5.735133547593911e-07,-5.052034495108548e-07,-4.582175971125866e-07,-3.1751516837514935e-07,-4.2787612363537393e-07],[2.7239379475922827e-08,1.3895770947965193e-08,4.078639965853618e-08,3.355991344845111e-08,5.3811231474044585e-08,6.26198261691175e-08,1.8480072824865067e-08,9.92092961765947e-08,8.716423523775899e-08,1.4450755811419653e-07,9.595902022345138e-08,-3.238204800249544e-08,-3.0969584194234017e-07,-3.031809065174775e-07,-4.4050611974474045e-07,-3.43436891675569e-07,-3.947775369330637e-08,1.5499194024021014e-07,1.2022814616672802e-07,1.9551228500373863e-07,2.2035694539221575e-07,3.5987532535806973e-07,1.247150686168752e-07,-1.3540633554010763e-07,-2.1142533250404044e-07,-3.7204753597547724e-07,-5.01218123392313e-07,-6.09671300504557e-07,-5.681424049787026e-07,-5.41878337754709e-07,-4.3897147722787185e-07,-3.9216363375518137e-07,-3.3757992600905725e-07,-4.320580526801791e-07],[1.6385326479871593e-08,1.7465293314322183e-08,2.6545004957803335e-08,3.8993894348824795e-08,6.714714142007313e-08,7.257765826022981e-08,9.550231542679711e-08,8.011915085683809e-08,6.301941440855337e-08,6.198832250392998e-09,-6.755941487361134e-08,-2.1279073536751725e-07,-4.698090270976581e-07,-4.5766461437081153e-07,-4.365434357009345e-07,-1.8840689274730994e-07,9.289919643513414e-08,1.9636542095020954e-07,1.7435636407035837e-07,1.6863377437590245e-07,2.772544565273517e-07,2.7730226100038696e-07,2.3446190515786253e-07,1.607530912928791e-07,-5.9057933176345973e-08,-2.6629041073487667e-07,-3.321488947066949e-07,-3.792875795602364e-07,-4.091749881645214e-07,-4.737758273182407e-07,-4.5976303196697744e-07,-3.7141458627294946e-07,-3.2990644511487915e-07,-3.870119037971056e-07],[3.306406389346919e-08,2.666085007484148e-08,2.0998693390342736e-08,3.0404672766643434e-08,3.906994980466195e-08,4.681171953554913e-08,4.968372059332988e-08,5.176587191154308e-08,-1.816196099690797e-08,-1.3546513810574672e-07,-1.7183168558792747e-07,-3.499841563569582e-07,-4.5803660565105955e-07,-3.1544591138788696e-07,-2.7390797853512785e-07,-3.6826936046776775e-08,1.2590406944715523e-07,1.9108996934657623e-07,1.8489850828699529e-07,9.639003656567043e-08,2.5185428369224333e-07,3.128606844430217e-07,3.260267169924874e-07,2.0650689623061383e-07,5.0464298130036455e-08,-7.929274570342123e-09,-1.1293790448683553e-07,-2.546343005260341e-07,-3.1803376861421446e-07,-3.47155672805636e-07,-4.1898393692824604e-07,-3.101605315783529e-07,-2.8567262618929454e-07,-3.062960204514343e-07],[2.506684283472977e-08,2.4311528228479664e-08,1.2660886783407543e-08,3.9742317629087536e-08,-4.202237084436568e-10,2.7924431567519778e-08,3.333936518968033e-08,8.212470775076089e-09,-1.1292916881014567e-07,-1.974448284560457e-07,-3.590984210184615e-07,-3.3030550879710253e-07,-3.31105831179308e-07,-2.462229553316722e-07,-1.3256354916951866e-07,1.9683705954063064e-07,1.681207042813531e-07,1.854120375385675e-07,1.267622052962776e-07,1.3948852310247431e-07,1.783765552850976e-07,2.407918074765392e-07,2.1983423921977625e-07,2.3527356835678893e-07,9.787510585397386e-08,8.669192630140515e-08,-5.1686702952543344e-08,-1.757977751029749e-08,-1.5380785475556858e-07,-1.9914878775631633e-07,-2.3860129014371825e-07,-2.1037475762152588e-07,-1.6948436078003915e-07,-2.642328352629681e-07],[2.1551557644511914e-08,1.447524541277884e-08,2.2014750479476114e-08,3.678464468252138e-08,2.519459574204813e-08,1.7868083808800932e-08,6.07003615494088e-09,-8.272112132575028e-09,-1.1597002495299835e-07,-1.6943585089237366e-07,-4.67060606826642e-07,-2.4483523163978153e-07,-1.9225617728666901e-07,-1.2917423695900276e-07,1.0124477432167334e-08,1.4878205754947447e-07,2.7222043655407133e-07,1.4174010612613023e-07,2.124572999192997e-08,1.237003093997156e-07,8.919724727516735e-08,9.787530003286277e-08,1.1814266721706675e-07,1.7504207317890065e-07,1.4160648620437443e-07,8.797424099355067e-08,4.420977570896025e-08,-3.484052500525025e-08,-4.025764438219092e-08,-5.887864585361689e-08,-1.7225540570181089e-07,-2.2737443863424994e-07,-1.5536051297289414e-07,-1.7812582822898337e-07],[2.264151837555607e-08,1.89185958317618e-08,1.1245115878930742e-08,2.8158755632270403e-08,2.06377910531367e-08,2.8555361877321382e-08,2.0816326503753103e-08,-5.5072282828508174e-08,-1.1008464777648945e-07,-1.9905112477066604e-07,-2.954145931662446e-07,-2.3364210885632738e-07,-1.1573533358461061e-07,-5.5766275522466065e-08,1.7023674346667446e-07,2.2415695782087934e-07,1.823068598261413e-07,1.9066052166353625e-07,8.282791958346811e-08,6.097604700986763e-08,-6.599629209666933e-09,8.844429086415016e-08,3.791397404548855e-08,1.236587587257696e-07,2.1936677048680148e-07,1.350564959604079e-07,2.095689389916774e-07,1.5095611393810742e-07,3.2292452171208123e-08,6.584802735218501e-08,-7.552974912311847e-08,-1.1437723322691226e-07,-5.571578593955647e-09,-1.297058114687128e-08],[2.157198368161621e-08,2.6314499434064562e-08,3.025722773252702e-08,8.652719193982927e-09,1.4499688594283241e-08,1.1113348103697686e-08,-3.91095401950922e-08,-4.6857320063626915e-08,-1.1430823026302822e-07,-1.7752072428435033e-07,-1.9612649889523534e-07,-7.083117824250567e-08,3.1586836211338146e-08,1.6321238111399716e-07,1.6144492895758372e-07,1.2974552504609482e-07,1.8485893542172352e-07,1.537044111259945e-07,1.0289988103476715e-07,6.532678248122508e-08,4.3558836956837984e-08,-5.0285974373743335e-09,2.207173207583929e-08,4.0687757160659716e-08,2.1990898127059404e-07,3.333557475421491e-07,2.2719217784110752e-07,2.0258331258113718e-07,9.923084360707343e-08,1.1853452510249835e-07,1.0110253469503458e-08,-2.3895783398429933e-08,1.350217306421295e-08,-3.6909201790507075e-08],[1.059441066021451e-08,2.879985622904085e-08,2.0394449823540162e-08,1.506272032981387e-08,1.5558826463803817e-08,2.097654604692183e-08,8.454531862775049e-10,-3.1158560487521807e-09,-6.603389438916004e-08,-7.554459028426717e-08,-6.242675641152308e-08,-7.241719182334934e-09,4.8276535149084214e-08,1.3520781086560372e-07,1.7223462488164152e-07,1.3157700099942216e-07,1.213423905666564e-07,1.3907363812418922e-07,1.0063798082934678e-07,7.619194049948678e-09,-3.876523500000974e-09,-1.0998719360884232e-07,-1.3283508500239308e-07,8.992024798416591e-09,2.372514206006126e-07,4.316039180267611e-07,5.193123714781308e-07,2.7708022163306607e-07,1.96049922876683e-07,1.2186992279679328e-07,9.939638267030886e-08,2.5610868489267808e-08,4.158364636659381e-08,-1.663364554321797e-08],[1.2834032780196341e-08,5.3276430078184244e-09,2.818794122521142e-08,1.3232777754340658e-08,2.683402830295811e-08,1.811949452464852e-08,2.529561347792489e-08,-6.700146615842052e-09,-3.394427505210136e-08,-4.136820028233024e-09,-3.5076527407876846e-08,3.96619420868767e-08,6.76752230931107e-08,1.384776609717039e-07,-3.948726141133245e-08,6.141170694786178e-09,5.2845078491901665e-08,2.4466030657080216e-08,-1.7905613327812822e-08,3.01502484859814e-09,-1.3884338204163064e-07,-1.4159879910993713e-07,-2.9385670925538884e-07,-1.376722519857946e-07,2.6901772406301646e-07,5.400834445209253e-07,4.724482959299458e-07,3.037831258277271e-07,3.3627081631419896e-07,2.0822968599295603e-07,1.8585960945437392e-07,1.8016984209116651e-07,9.812349576096976e-08,-2.0548860467742965e-08],[2.5849580972225146e-08,2.4161384092098343e-08,1.229268738973851e-08,3.14361859628806e-08,2.049167851874846e-08,3.915092667074462e-08,8.534749378845329e-09,4.459133960597391e-09,3.040551785213564e-08,-1.965077464247217e-08,3.082630270447531e-08,-5.7993414206452364e-08,-2.9340935861061352e-08,-1.2711675304333928e-07,-3.43054636525147e-08,-3.999870265024567e-08,-8.48992277481592e-08,-5.105612185737274e-08,-9.51302725608188e-08,-2.1255459293646912e-08,-1.7599537027943707e-07,-2.2810908512696673e-07,-2.2922572708675018e-07,-1.1173957268020074e-07,1.6089583686895916e-07,3.839993583750931e-07,4.4129898712905647e-07,3.744310040603999e-07,3.435791110732176e-07,3.1871944910885755e-07,3.4728110324907734e-07,2.2578154251996905e-07,1.7919845824509807e-07,1.4519242903168413e-07],[2.6060425499465524e-08,1.678617430477783e-08,1.5436150116914077e-08,7.283819256551652e-09,1.477415797755165e-08,2.250456950122828e-08,2.074999845443345e-08,1.147069618025204e-08,3.284382531509826e-09,2.579707450165088e-09,-1.3963527943571507e-08,-2.7282119658070436e-08,-2.4762199796451876e-08,-1.0638150732394797e-08,-4.7831883892084426e-08,-5.353021680118079e-08,-8.565826608005192e-08,-5.0326338786020475e-08,-3.605836840068219e-08,-1.098501714302172e-07,-2.752160543882819e-07,-1.7217666119840562e-07,-2.238240973867731e-07,-7.562286690046853e-08,4.985992842392867e-08,2.924432614975227e-07,3.790001139401232e-07,4.4717493425601704e-07,5.06563934204567e-07,4.831877357142458e-07,4.715797246823675e-07,4.030967285362293e-07,4.3128325571232113e-07,3.2305664676141855e-07],[1.801579437908989e-08,6.846597381737717e-09,1.6293140730265204e-08,1.509474076993077e-08,2.6959358403039973e-08,1.9552990364110562e-08,2.2042230259032857e-08,7.212927467374602e-09,8.108413715689115e-09,2.2704531169460416e-08,2.009790440818463e-08,1.3552430478977368e-08,-3.879484296117439e-08,-2.5538746337450713e-08,-3.571409524209659e-08,1.642964332846663e-09,-4.3585467184543203e-08,-7.055525586126004e-08,-8.222075800264346e-08,-6.446032942211997e-08,-1.2853355710076747e-07,-8.00972006866022e-08,-1.2360383383339381e-07,-1.2036632097913915e-07,9.217944495630385e-08,2.4949959430787563e-07,3.8279242260095696e-07,5.298304993099698e-07,6.509665498503707e-07,7.339547900170062e-07,6.855472962524138e-07,6.197025791342786e-07,5.383043460380781e-07,5.59547313686925e-07],[2.502798008670443e-09,1.980398378024945e-08,1.1753311640562927e-08,5.039771718203708e-08,4.755011444441998e-08,2.6232713391766938e-08,2.876081268778279e-08,4.933879024319526e-08,3.338656842793008e-08,3.852843794140397e-08,1.1808743867670687e-08,-3.5396225401665577e-09,-3.5240750858973404e-09,1.307515739128919e-08,6.924957101639473e-08,-1.2549877193315192e-08,8.67732294142582e-08,-1.7060345087663707e-08,-5.754978650305974e-08,-8.632277734093006e-08,6.257763729956176e-09,-6.69199149099295e-08,-6.78868489921512e-08,-5.300434018387372e-08,5.0685538088590256e-08,1.5773363239434796e-07,3.451264288355389e-07,5.150748298195964e-07,5.960931606263698e-07,6.916811615348108e-07,9.265915006356042e-07,6.919452788471113e-07,6.946282349051671e-07,6.735855566936463e-07],[1.613255532015588e-08,2.3760771724067374e-08,2.334190437352836e-08,2.3208450485310385e-08,2.1280532268616806e-08,2.8495844039832597e-08,2.843421516189676e-08,3.111563704053847e-08,9.220058166443621e-09,1.815248437781161e-08,9.413168348317066e-09,-2.411813797753953e-09,-1.4459883071172662e-08,-1.9095552886856844e-08,-1.2446353384055501e-08,1.770028289724782e-08,-1.6688455948087211e-09,1.1740127897373667e-08,1.2325432586842835e-07,2.168471714138683e-07,1.2487547527860276e-07,3.117606136245306e-08,-1.4686355488340826e-08,-4.784740273780393e-08,2.3767810907628646e-08,1.4827471623301124e-07,2.459801985915668e-07,2.809984139578387e-07,3.659366111684365e-07,4.5826880735691846e-07,4.951927065315e-07,6.0464430162347e-07,7.042320351147491e-07,6.806848975986836e-07],[2.226337067105713e-08,3.244337244125524e-08,2.553785388953823e-08,2.3969475053641356e-08,2.5931490934392368e-08,9.605418664604237e-09,3.4301796425375406e-08,2.4185390120340763e-08,3.6447425606634795e-08,2.516998892636864e-08,2.891631815798034e-08,1.368134127405304e-08,6.394604804199386e-09,1.2756100492702938e-08,2.8385095147916665e-08,3.48001041367642e-08,8.759914156041698e-08,1.2484776329497472e-07,5.7897582102599214e-08,9.048333420540636e-08,1.2955422117919207e-07,1.721066152559565e-07,1.1500134201003984e-07,6.285850849021834e-08,7.310465353050013e-08,1.1845082588312237e-07,8.277169690497294e-08,1.5248182528383937e-07,2.349631566705287e-07,3.482924422766201e-07,3.295843896248501e-07,4.456473559185904e-07,4.6904834241743197e-07,5.341951848797261e-07],[2.4092196921549186e-08,2.6856108392605555e-08,1.7464996268833884e-08,2.2874018416739028e-08,1.7038393905488557e-08,3.974250542308601e-08,1.4159772774560596e-08,2.607189274790755e-08,2.55513093009126e-08,1.679875917593469e-08,2.395913668338756e-08,6.334085613640381e-09,2.903782023754249e-08,2.5419917354333806e-08,1.1845831679236337e-08,4.724377718969399e-08,7.391900815777772e-10,6.625627570192462e-08,9.403582280042101e-08,1.9403855698912967e-07,1.3507400936208344e-07,2.0104664345587953e-07,1.7137150130138737e-07,8.367754036929121e-09,7.244232165287478e-08,4.385774503152883e-09,7.091584699235518e-08,3.5955041720004524e-08,1.7821440466244226e-08,1.9960185595348375e-07,8.401028816011469e-08,1.7948527958822e-07,1.8208369876539736e-07,2.7109189587641193e-07],[1.8980937508784097e-08,2.4067193452924076e-08,2.4791120498187568e-08,3.3529126264152005e-08,7.443248363769031e-09,3.1382845376504495e-08,3.5634676141871484e-08,2.9746620378367268e-08,2.3880278429322913e-08,2.736222594098095e-08,1.4739341156943381e-08,2.253673217265353e-08,2.5060144064352425e-08,2.6573268139032695e-08,2.7615920998351067e-08,1.623297783700576e-08,9.187390141655498e-08,5.003446114725476e-08,7.945705729126996e-08,7.966030051251337e-08,1.4082700776745502e-07,1.613960390600557e-07,2.482512393590969e-07,1.4148188337318503e-07,7.906656549677434e-08,3.600343188289862e-08,1.3548324742369034e-08,2.6914031073341928e-08,-1.3645366416412876e-08,4.5008857324783726e-08,1.721584406824266e-08,9.047977695803431e-08,1.1622972836936156e-07,8.255751219409115e-08],[2.1815828182190272e-08,2.346068327187366e-08,2.2097681425084412e-08,2.4282702019948785e-08,2.9953169687619257e-08,1.2005322313431636e-08,1.4067029565796276e-08,3.715690963346356e-08,2.043230732804492e-08,2.385893784059964e-08,3.2683547332130024e-08,3.3061342536990137e-09,5.109077375746262e-09,1.4434533943265978e-08,4.291119358930717e-08,1.1769803055985815e-08,2.106805138374381e-08,-3.912934076460455e-09,-7.524865943793977e-09,3.213476391777781e-08,8.950484839108183e-08,1.1918930921945863e-07,2.7333991881772053e-07,1.9781913892315935e-07,1.3224934202627526e-07,6.601408247396737e-08,-2.302392518117455e-08,-8.929929992562386e-09,-1.6073371426369166e-09,2.99373559058417e-08,1.0105724106733647e-08,7.506145924353426e-08,6.4185910178507005e-09,1.844506085135406e-08],[2.2752875760467016e-08,1.889668811814992e-08,1.5102234142014673e-08,1.856701855093222e-08,4.5968614917325104e-08,2.8325917119539846e-08,1.8534924927768606e-08,2.7232059982757805e-08,3.7581636385126567e-08,3.01159613053221e-08,1.3961477819336553e-08,1.8671723358616843e-08,2.590782865318846e-10,2.190148090682445e-08,5.5537583454963154e-09,-6.68045071597143e-09,1.022092076332453e-08,-1.491109941818033e-08,-8.75882421436317e-09,-2.2233570909116738e-08,1.974278724255454e-08,1.1163428680672188e-07,2.378673003943435e-07,2.9810768918271977e-07,2.3488012208727734e-07,1.2525528656145888e-07,4.438795832535505e-09,-2.0546131986992667e-08,2.8990376427404663e-08,5.306238899372489e-08,-1.4798475402600843e-08,1.2326135165538053e-08,2.0412208823289712e-08,-4.0393259040189976e-08]],\"type\":\"heatmap\",\"xaxis\":\"x\",\"yaxis\":\"y\",\"hovertemplate\":\"x: %{x}\\u003cbr\\u003ey: %{y}\\u003cbr\\u003ecolor: %{z}\\u003cextra\\u003e\\u003c\\u002fextra\\u003e\"}],                        {\"template\":{\"data\":{\"histogram2dcontour\":[{\"type\":\"histogram2dcontour\",\"colorbar\":{\"outlinewidth\":0,\"ticks\":\"\"},\"colorscale\":[[0.0,\"#0d0887\"],[0.1111111111111111,\"#46039f\"],[0.2222222222222222,\"#7201a8\"],[0.3333333333333333,\"#9c179e\"],[0.4444444444444444,\"#bd3786\"],[0.5555555555555556,\"#d8576b\"],[0.6666666666666666,\"#ed7953\"],[0.7777777777777778,\"#fb9f3a\"],[0.8888888888888888,\"#fdca26\"],[1.0,\"#f0f921\"]]}],\"choropleth\":[{\"type\":\"choropleth\",\"colorbar\":{\"outlinewidth\":0,\"ticks\":\"\"}}],\"histogram2d\":[{\"type\":\"histogram2d\",\"colorbar\":{\"outlinewidth\":0,\"ticks\":\"\"},\"colorscale\":[[0.0,\"#0d0887\"],[0.1111111111111111,\"#46039f\"],[0.2222222222222222,\"#7201a8\"],[0.3333333333333333,\"#9c179e\"],[0.4444444444444444,\"#bd3786\"],[0.5555555555555556,\"#d8576b\"],[0.6666666666666666,\"#ed7953\"],[0.7777777777777778,\"#fb9f3a\"],[0.8888888888888888,\"#fdca26\"],[1.0,\"#f0f921\"]]}],\"heatmap\":[{\"type\":\"heatmap\",\"colorbar\":{\"outlinewidth\":0,\"ticks\":\"\"},\"colorscale\":[[0.0,\"#0d0887\"],[0.1111111111111111,\"#46039f\"],[0.2222222222222222,\"#7201a8\"],[0.3333333333333333,\"#9c179e\"],[0.4444444444444444,\"#bd3786\"],[0.5555555555555556,\"#d8576b\"],[0.6666666666666666,\"#ed7953\"],[0.7777777777777778,\"#fb9f3a\"],[0.8888888888888888,\"#fdca26\"],[1.0,\"#f0f921\"]]}],\"heatmapgl\":[{\"type\":\"heatmapgl\",\"colorbar\":{\"outlinewidth\":0,\"ticks\":\"\"},\"colorscale\":[[0.0,\"#0d0887\"],[0.1111111111111111,\"#46039f\"],[0.2222222222222222,\"#7201a8\"],[0.3333333333333333,\"#9c179e\"],[0.4444444444444444,\"#bd3786\"],[0.5555555555555556,\"#d8576b\"],[0.6666666666666666,\"#ed7953\"],[0.7777777777777778,\"#fb9f3a\"],[0.8888888888888888,\"#fdca26\"],[1.0,\"#f0f921\"]]}],\"contourcarpet\":[{\"type\":\"contourcarpet\",\"colorbar\":{\"outlinewidth\":0,\"ticks\":\"\"}}],\"contour\":[{\"type\":\"contour\",\"colorbar\":{\"outlinewidth\":0,\"ticks\":\"\"},\"colorscale\":[[0.0,\"#0d0887\"],[0.1111111111111111,\"#46039f\"],[0.2222222222222222,\"#7201a8\"],[0.3333333333333333,\"#9c179e\"],[0.4444444444444444,\"#bd3786\"],[0.5555555555555556,\"#d8576b\"],[0.6666666666666666,\"#ed7953\"],[0.7777777777777778,\"#fb9f3a\"],[0.8888888888888888,\"#fdca26\"],[1.0,\"#f0f921\"]]}],\"surface\":[{\"type\":\"surface\",\"colorbar\":{\"outlinewidth\":0,\"ticks\":\"\"},\"colorscale\":[[0.0,\"#0d0887\"],[0.1111111111111111,\"#46039f\"],[0.2222222222222222,\"#7201a8\"],[0.3333333333333333,\"#9c179e\"],[0.4444444444444444,\"#bd3786\"],[0.5555555555555556,\"#d8576b\"],[0.6666666666666666,\"#ed7953\"],[0.7777777777777778,\"#fb9f3a\"],[0.8888888888888888,\"#fdca26\"],[1.0,\"#f0f921\"]]}],\"mesh3d\":[{\"type\":\"mesh3d\",\"colorbar\":{\"outlinewidth\":0,\"ticks\":\"\"}}],\"scatter\":[{\"marker\":{\"line\":{\"color\":\"#283442\"}},\"type\":\"scatter\"}],\"parcoords\":[{\"type\":\"parcoords\",\"line\":{\"colorbar\":{\"outlinewidth\":0,\"ticks\":\"\"}}}],\"scatterpolargl\":[{\"type\":\"scatterpolargl\",\"marker\":{\"colorbar\":{\"outlinewidth\":0,\"ticks\":\"\"}}}],\"bar\":[{\"error_x\":{\"color\":\"#f2f5fa\"},\"error_y\":{\"color\":\"#f2f5fa\"},\"marker\":{\"line\":{\"color\":\"rgb(17,17,17)\",\"width\":0.5},\"pattern\":{\"fillmode\":\"overlay\",\"size\":10,\"solidity\":0.2}},\"type\":\"bar\"}],\"scattergeo\":[{\"type\":\"scattergeo\",\"marker\":{\"colorbar\":{\"outlinewidth\":0,\"ticks\":\"\"}}}],\"scatterpolar\":[{\"type\":\"scatterpolar\",\"marker\":{\"colorbar\":{\"outlinewidth\":0,\"ticks\":\"\"}}}],\"histogram\":[{\"marker\":{\"pattern\":{\"fillmode\":\"overlay\",\"size\":10,\"solidity\":0.2}},\"type\":\"histogram\"}],\"scattergl\":[{\"marker\":{\"line\":{\"color\":\"#283442\"}},\"type\":\"scattergl\"}],\"scatter3d\":[{\"type\":\"scatter3d\",\"line\":{\"colorbar\":{\"outlinewidth\":0,\"ticks\":\"\"}},\"marker\":{\"colorbar\":{\"outlinewidth\":0,\"ticks\":\"\"}}}],\"scattermapbox\":[{\"type\":\"scattermapbox\",\"marker\":{\"colorbar\":{\"outlinewidth\":0,\"ticks\":\"\"}}}],\"scatterternary\":[{\"type\":\"scatterternary\",\"marker\":{\"colorbar\":{\"outlinewidth\":0,\"ticks\":\"\"}}}],\"scattercarpet\":[{\"type\":\"scattercarpet\",\"marker\":{\"colorbar\":{\"outlinewidth\":0,\"ticks\":\"\"}}}],\"carpet\":[{\"aaxis\":{\"endlinecolor\":\"#A2B1C6\",\"gridcolor\":\"#506784\",\"linecolor\":\"#506784\",\"minorgridcolor\":\"#506784\",\"startlinecolor\":\"#A2B1C6\"},\"baxis\":{\"endlinecolor\":\"#A2B1C6\",\"gridcolor\":\"#506784\",\"linecolor\":\"#506784\",\"minorgridcolor\":\"#506784\",\"startlinecolor\":\"#A2B1C6\"},\"type\":\"carpet\"}],\"table\":[{\"cells\":{\"fill\":{\"color\":\"#506784\"},\"line\":{\"color\":\"rgb(17,17,17)\"}},\"header\":{\"fill\":{\"color\":\"#2a3f5f\"},\"line\":{\"color\":\"rgb(17,17,17)\"}},\"type\":\"table\"}],\"barpolar\":[{\"marker\":{\"line\":{\"color\":\"rgb(17,17,17)\",\"width\":0.5},\"pattern\":{\"fillmode\":\"overlay\",\"size\":10,\"solidity\":0.2}},\"type\":\"barpolar\"}],\"pie\":[{\"automargin\":true,\"type\":\"pie\"}]},\"layout\":{\"autotypenumbers\":\"strict\",\"colorway\":[\"#636efa\",\"#EF553B\",\"#00cc96\",\"#ab63fa\",\"#FFA15A\",\"#19d3f3\",\"#FF6692\",\"#B6E880\",\"#FF97FF\",\"#FECB52\"],\"font\":{\"color\":\"#f2f5fa\"},\"hovermode\":\"closest\",\"hoverlabel\":{\"align\":\"left\"},\"paper_bgcolor\":\"rgb(17,17,17)\",\"plot_bgcolor\":\"rgb(17,17,17)\",\"polar\":{\"bgcolor\":\"rgb(17,17,17)\",\"angularaxis\":{\"gridcolor\":\"#506784\",\"linecolor\":\"#506784\",\"ticks\":\"\"},\"radialaxis\":{\"gridcolor\":\"#506784\",\"linecolor\":\"#506784\",\"ticks\":\"\"}},\"ternary\":{\"bgcolor\":\"rgb(17,17,17)\",\"aaxis\":{\"gridcolor\":\"#506784\",\"linecolor\":\"#506784\",\"ticks\":\"\"},\"baxis\":{\"gridcolor\":\"#506784\",\"linecolor\":\"#506784\",\"ticks\":\"\"},\"caxis\":{\"gridcolor\":\"#506784\",\"linecolor\":\"#506784\",\"ticks\":\"\"}},\"coloraxis\":{\"colorbar\":{\"outlinewidth\":0,\"ticks\":\"\"}},\"colorscale\":{\"sequential\":[[0.0,\"#0d0887\"],[0.1111111111111111,\"#46039f\"],[0.2222222222222222,\"#7201a8\"],[0.3333333333333333,\"#9c179e\"],[0.4444444444444444,\"#bd3786\"],[0.5555555555555556,\"#d8576b\"],[0.6666666666666666,\"#ed7953\"],[0.7777777777777778,\"#fb9f3a\"],[0.8888888888888888,\"#fdca26\"],[1.0,\"#f0f921\"]],\"sequentialminus\":[[0.0,\"#0d0887\"],[0.1111111111111111,\"#46039f\"],[0.2222222222222222,\"#7201a8\"],[0.3333333333333333,\"#9c179e\"],[0.4444444444444444,\"#bd3786\"],[0.5555555555555556,\"#d8576b\"],[0.6666666666666666,\"#ed7953\"],[0.7777777777777778,\"#fb9f3a\"],[0.8888888888888888,\"#fdca26\"],[1.0,\"#f0f921\"]],\"diverging\":[[0,\"#8e0152\"],[0.1,\"#c51b7d\"],[0.2,\"#de77ae\"],[0.3,\"#f1b6da\"],[0.4,\"#fde0ef\"],[0.5,\"#f7f7f7\"],[0.6,\"#e6f5d0\"],[0.7,\"#b8e186\"],[0.8,\"#7fbc41\"],[0.9,\"#4d9221\"],[1,\"#276419\"]]},\"xaxis\":{\"gridcolor\":\"#283442\",\"linecolor\":\"#506784\",\"ticks\":\"\",\"title\":{\"standoff\":15},\"zerolinecolor\":\"#283442\",\"automargin\":true,\"zerolinewidth\":2},\"yaxis\":{\"gridcolor\":\"#283442\",\"linecolor\":\"#506784\",\"ticks\":\"\",\"title\":{\"standoff\":15},\"zerolinecolor\":\"#283442\",\"automargin\":true,\"zerolinewidth\":2},\"scene\":{\"xaxis\":{\"backgroundcolor\":\"rgb(17,17,17)\",\"gridcolor\":\"#506784\",\"linecolor\":\"#506784\",\"showbackground\":true,\"ticks\":\"\",\"zerolinecolor\":\"#C8D4E3\",\"gridwidth\":2},\"yaxis\":{\"backgroundcolor\":\"rgb(17,17,17)\",\"gridcolor\":\"#506784\",\"linecolor\":\"#506784\",\"showbackground\":true,\"ticks\":\"\",\"zerolinecolor\":\"#C8D4E3\",\"gridwidth\":2},\"zaxis\":{\"backgroundcolor\":\"rgb(17,17,17)\",\"gridcolor\":\"#506784\",\"linecolor\":\"#506784\",\"showbackground\":true,\"ticks\":\"\",\"zerolinecolor\":\"#C8D4E3\",\"gridwidth\":2}},\"shapedefaults\":{\"line\":{\"color\":\"#f2f5fa\"}},\"annotationdefaults\":{\"arrowcolor\":\"#f2f5fa\",\"arrowhead\":0,\"arrowwidth\":1},\"geo\":{\"bgcolor\":\"rgb(17,17,17)\",\"landcolor\":\"rgb(17,17,17)\",\"subunitcolor\":\"#506784\",\"showland\":true,\"showlakes\":true,\"lakecolor\":\"rgb(17,17,17)\"},\"title\":{\"x\":0.05},\"updatemenudefaults\":{\"bgcolor\":\"#506784\",\"borderwidth\":0},\"sliderdefaults\":{\"bgcolor\":\"#C8D4E3\",\"borderwidth\":1,\"bordercolor\":\"rgb(17,17,17)\",\"tickwidth\":0},\"mapbox\":{\"style\":\"dark\"}}},\"xaxis\":{\"anchor\":\"y\",\"domain\":[0.0,1.0],\"scaleanchor\":\"y\",\"constrain\":\"domain\"},\"yaxis\":{\"anchor\":\"x\",\"domain\":[0.0,1.0],\"autorange\":\"reversed\",\"constrain\":\"domain\"},\"coloraxis\":{\"colorscale\":[[0.0,\"#0d0887\"],[0.1111111111111111,\"#46039f\"],[0.2222222222222222,\"#7201a8\"],[0.3333333333333333,\"#9c179e\"],[0.4444444444444444,\"#bd3786\"],[0.5555555555555556,\"#d8576b\"],[0.6666666666666666,\"#ed7953\"],[0.7777777777777778,\"#fb9f3a\"],[0.8888888888888888,\"#fdca26\"],[1.0,\"#f0f921\"]]},\"margin\":{\"t\":60}},                        {\"responsive\": true}                    ).then(function(){\n                            \nvar gd = document.getElementById('16cefffa-5119-4426-b235-44a7bb8bb4c7');\nvar x = new MutationObserver(function (mutations, observer) {{\n        var display = window.getComputedStyle(gd).display;\n        if (!display || display === 'none') {{\n            console.log([gd, 'removed!']);\n            Plotly.purge(gd);\n            observer.disconnect();\n        }}\n}});\n\n// Listen for the removal of the full notebook cells\nvar notebookContainer = gd.closest('#notebook-container');\nif (notebookContainer) {{\n    x.observe(notebookContainer, {childList: true});\n}}\n\n// Listen for the clearing of the current output cell\nvar outputEl = gd.closest('.output');\nif (outputEl) {{\n    x.observe(outputEl, {childList: true});\n}}\n\n                        })                };                });            </script>        </div>"
     },
     "metadata": {},
     "output_type": "display_data"
    },
    {
     "data": {
      "application/vnd.plotly.v1+json": {
       "data": [
        {
         "hovertemplate": "x=%{x}<br>y=%{y}<extra></extra>",
         "legendgroup": "",
         "line": {
          "color": "#636efa",
          "dash": "solid"
         },
         "marker": {
          "symbol": "circle"
         },
         "mode": "lines",
         "name": "",
         "orientation": "v",
         "showlegend": false,
         "x": [
          1489.670166015625,
          1488.5650634765625,
          1487.459716796875,
          1486.354248046875,
          1485.24853515625,
          1484.142578125,
          1483.0364990234375,
          1481.93017578125,
          1480.8236083984375,
          1479.7169189453125,
          1478.6099853515625,
          1477.5028076171875,
          1476.3955078125,
          1475.2879638671875,
          1474.1802978515625,
          1473.0723876953125,
          1471.9642333984375,
          1470.8558349609375,
          1469.747314453125,
          1468.638671875,
          1467.5296630859375,
          1466.4205322265625,
          1465.311279296875,
          1464.20166015625,
          1463.0919189453125,
          1461.9820556640625,
          1460.8719482421875,
          1459.7615966796875,
          1458.6510009765625,
          1457.540283203125,
          1456.4293212890625,
          1455.3182373046875,
          1454.2069091796875,
          1453.0953369140625,
          1451.983642578125,
          1450.8717041015625,
          1449.759521484375,
          1448.647216796875,
          1447.53466796875,
          1446.421875,
          1445.3089599609375,
          1444.19580078125,
          1443.0823974609375,
          1441.9688720703125,
          1440.8551025390625,
          1439.7410888671875,
          1438.626953125,
          1437.5125732421875,
          1436.3980712890625,
          1435.2833251953125,
          1434.1683349609375,
          1433.0531005859375,
          1431.937744140625,
          1430.8221435546875,
          1429.7064208984375,
          1428.5904541015625,
          1427.4742431640625,
          1426.35791015625,
          1425.2412109375,
          1424.12451171875,
          1423.0074462890625,
          1421.8902587890625,
          1420.7728271484375,
          1419.6552734375,
          1418.5374755859375,
          1417.41943359375,
          1416.30126953125,
          1415.182861328125,
          1414.064208984375,
          1412.9454345703125,
          1411.826416015625,
          1410.7071533203125,
          1409.587646484375,
          1408.468017578125,
          1407.3482666015625,
          1406.2281494140625,
          1405.10791015625,
          1403.9874267578125,
          1402.8668212890625,
          1401.7459716796875,
          1400.6248779296875,
          1399.503662109375,
          1398.3822021484375,
          1397.260498046875,
          1396.1385498046875,
          1395.0164794921875,
          1393.894287109375,
          1392.771728515625,
          1391.6490478515625,
          1390.526123046875,
          1389.403076171875,
          1388.2796630859375,
          1387.15625,
          1386.032470703125,
          1384.9085693359375,
          1383.784423828125,
          1382.6600341796875,
          1381.5355224609375,
          1380.4107666015625,
          1379.2857666015625,
          1378.16064453125,
          1377.0352783203125,
          1375.90966796875,
          1374.783935546875,
          1373.657958984375,
          1372.53173828125,
          1371.4053955078125,
          1370.27880859375,
          1369.1519775390625,
          1368.02490234375,
          1366.897705078125,
          1365.770263671875,
          1364.6427001953125,
          1363.5147705078125,
          1362.38671875,
          1361.258544921875,
          1360.1300048828125,
          1359.0013427734375,
          1357.87255859375,
          1356.743408203125,
          1355.6141357421875,
          1354.484619140625,
          1353.35498046875,
          1352.22509765625,
          1351.094970703125,
          1349.964599609375,
          1348.8341064453125,
          1347.703369140625,
          1346.5723876953125,
          1345.441162109375,
          1344.309814453125,
          1343.17822265625,
          1342.0465087890625,
          1340.91455078125,
          1339.7823486328125,
          1338.64990234375,
          1337.517333984375,
          1336.384521484375,
          1335.25146484375,
          1334.1181640625,
          1332.9847412109375,
          1331.85107421875,
          1330.7171630859375,
          1329.5831298828125,
          1328.4488525390625,
          1327.3143310546875,
          1326.1796875,
          1325.0447998046875,
          1323.90966796875,
          1322.7742919921875,
          1321.6387939453125,
          1320.5029296875,
          1319.3670654296875,
          1318.2308349609375,
          1317.094482421875,
          1315.9578857421875,
          1314.821044921875,
          1313.68408203125,
          1312.546875,
          1311.409423828125,
          1310.271728515625,
          1309.1339111328125,
          1307.995849609375,
          1306.8575439453125,
          1305.718994140625,
          1304.580322265625,
          1303.44140625,
          1302.3023681640625,
          1301.1629638671875,
          1300.0234375,
          1298.8836669921875,
          1297.74365234375,
          1296.603515625,
          1295.463134765625,
          1294.322509765625,
          1293.181640625,
          1292.0406494140625,
          1290.8994140625,
          1289.7579345703125,
          1288.6163330078125,
          1287.474365234375,
          1286.332275390625,
          1285.1900634765625,
          1284.0474853515625,
          1282.90478515625,
          1281.7618408203125,
          1280.61865234375,
          1279.475341796875,
          1278.3316650390625,
          1277.1878662109375,
          1276.0439453125,
          1274.899658203125,
          1273.7552490234375,
          1272.610595703125,
          1271.4656982421875,
          1270.3206787109375,
          1269.17529296875,
          1268.02978515625,
          1266.8841552734375
         ],
         "xaxis": "x",
         "y": [
          -0.02186346848429237,
          -0.022155327641978577,
          -0.021563990812855007,
          -0.021818551083113976,
          -0.021684311410203414,
          -0.02147147481262477,
          -0.021576632024294367,
          -0.020773872036541324,
          -0.020928946030862566,
          -0.020911043760329262,
          -0.02076016727093045,
          -0.020357711561507903,
          -0.020343165130585178,
          -0.020354412495748653,
          -0.02033796410157389,
          -0.020197845294346078,
          -0.01971831667576872,
          -0.01991614658885859,
          -0.019730667160831373,
          -0.01971750596646591,
          -0.01954453972164048,
          -0.01981776070295399,
          -0.019365929747782593,
          -0.019517131175266097,
          -0.01948221214689822,
          -0.019141264091951292,
          -0.018962066223196915,
          -0.019108270266923195,
          -0.018849948637440102,
          -0.018801759565760218,
          -0.018766049836597774,
          -0.018764824205620322,
          -0.018655264461788043,
          -0.018610985753549514,
          -0.01873126072267435,
          -0.018505131773113092,
          -0.018212540555141203,
          -0.0181254015385261,
          -0.01803104382512257,
          -0.01792797809036605,
          -0.01782257122285877,
          -0.01785626678594981,
          -0.01785576266558486,
          -0.017781672637601866,
          -0.017823737708281242,
          -0.01784025497878228,
          -0.017439750872546938,
          -0.017553885766933713,
          -0.017371793090286476,
          -0.017278620593745613,
          -0.017208895941420856,
          -0.017269039746345683,
          -0.016989935095402635,
          -0.01672077034646833,
          -0.016956199489368738,
          -0.016892323246027203,
          -0.016704494014556388,
          -0.01647827092307932,
          -0.016609049998493865,
          -0.01629444993300939,
          -0.016793873302930785,
          -0.016050344354947604,
          -0.016029195288790515,
          -0.016381989708363538,
          -0.016172134491704286,
          -0.016208036857953093,
          -0.016137954905855595,
          -0.015645409643647447,
          -0.015772079982597182,
          -0.015817434223297486,
          -0.01588841917961139,
          -0.015683403030129744,
          -0.015454932034618948,
          -0.015352122826207796,
          -0.015336698580436507,
          -0.015264028175505253,
          -0.015074753874741527,
          -0.015205053238933295,
          -0.014964224939328941,
          -0.014410372779693698,
          -0.014151814946623813,
          -0.013609256777116578,
          -0.012860676588899094,
          -0.012425975781115274,
          -0.012383234933432439,
          -0.013914583916565304,
          -0.016269963485193984,
          -0.01591031887831026,
          -0.012961825020479878,
          -0.013936851272162888,
          -0.015053681498179953,
          -0.01564994669268715,
          -0.014881703767008704,
          -0.01434070333044942,
          -0.01407493518512199,
          -0.013503393520379135,
          -0.013627277814685687,
          -0.013814370901765568,
          -0.013565140100688565,
          -0.013311473829314288,
          -0.013444406995783736,
          -0.013787646765535632,
          -0.013559297732164076,
          -0.013293782109137571,
          -0.01343511371430133,
          -0.013437643784773091,
          -0.013199499448952216,
          -0.013421839216831455,
          -0.01310084561500789,
          -0.013092817238117782,
          -0.01297848965224646,
          -0.012807578601841764,
          -0.012758541801026722,
          -0.01252852862168946,
          -0.012281784245935264,
          -0.012406037662618398,
          -0.012417710248452379,
          -0.012718713215346856,
          -0.012414224805427917,
          -0.01246341717195479,
          -0.012606254179452122,
          -0.012532186264999624,
          -0.012671645692251451,
          -0.01283890790597535,
          -0.012783702863123237,
          -0.012639754453601664,
          -0.012307386863540964,
          -0.01247258973294288,
          -0.012570870031342697,
          -0.01248624276182317,
          -0.012081327787852918,
          -0.0119808804270675,
          -0.011957852343789812,
          -0.012110760688027909,
          -0.01223863534753751,
          -0.011929803779074568,
          -0.011936864922030202,
          -0.011264417044702827,
          -0.01136754569088311,
          -0.01125481979282105,
          -0.010814138285959014,
          -0.011089196188536817,
          -0.011215306001420747,
          -0.010581189368561965,
          -0.010546829095194386,
          -0.010475360369932496,
          -0.010425123752015155,
          -0.01022612214857685,
          -0.010055632993294542,
          -0.010088817770832257,
          -0.010001613007966296,
          -0.009953644953507227,
          -0.009961694600442243,
          -0.0093637493928791,
          -0.009669649397210694,
          -0.009549014642732367,
          -0.009288723237180668,
          -0.00935222931288889,
          -0.009174625334941058,
          -0.008668456570081149,
          -0.008907885032694969,
          -0.008612221223577878,
          -0.008694102879727455,
          -0.00854852547557824,
          -0.008638709986477979,
          -0.008739849772980748,
          -0.008341764493091005,
          -0.008390125905589475,
          -0.008170664679494358,
          -0.00803250202183064,
          -0.008052103524792636,
          -0.008182453743192066,
          -0.007902760146667064,
          -0.007629619907759584,
          -0.007609657251518636,
          -0.007563764897189521,
          -0.007589171886741868,
          -0.007465578701580841,
          -0.007195232597911139,
          -0.007213134046987296,
          -0.007129356061892167,
          -0.007085556316285102,
          -0.006897676880401551,
          -0.007143145516908155,
          -0.00697226165038765,
          -0.00698579878811546,
          -0.006801668683005461,
          -0.00668577787849972,
          -0.0063702923753165734,
          -0.006322607222098258,
          -0.006390214545919819,
          -0.00650052552253742,
          -0.0059997119057469805,
          -0.006177859389393839,
          -0.0058294254127002785,
          -0.006098161379166246,
          -0.0058936320536544075,
          -0.005679044977252638,
          -0.005758816423861783
         ],
         "yaxis": "y",
         "type": "scatter"
        }
       ],
       "layout": {
        "template": {
         "data": {
          "histogram2dcontour": [
           {
            "type": "histogram2dcontour",
            "colorbar": {
             "outlinewidth": 0,
             "ticks": ""
            },
            "colorscale": [
             [
              0.0,
              "#0d0887"
             ],
             [
              0.1111111111111111,
              "#46039f"
             ],
             [
              0.2222222222222222,
              "#7201a8"
             ],
             [
              0.3333333333333333,
              "#9c179e"
             ],
             [
              0.4444444444444444,
              "#bd3786"
             ],
             [
              0.5555555555555556,
              "#d8576b"
             ],
             [
              0.6666666666666666,
              "#ed7953"
             ],
             [
              0.7777777777777778,
              "#fb9f3a"
             ],
             [
              0.8888888888888888,
              "#fdca26"
             ],
             [
              1.0,
              "#f0f921"
             ]
            ]
           }
          ],
          "choropleth": [
           {
            "type": "choropleth",
            "colorbar": {
             "outlinewidth": 0,
             "ticks": ""
            }
           }
          ],
          "histogram2d": [
           {
            "type": "histogram2d",
            "colorbar": {
             "outlinewidth": 0,
             "ticks": ""
            },
            "colorscale": [
             [
              0.0,
              "#0d0887"
             ],
             [
              0.1111111111111111,
              "#46039f"
             ],
             [
              0.2222222222222222,
              "#7201a8"
             ],
             [
              0.3333333333333333,
              "#9c179e"
             ],
             [
              0.4444444444444444,
              "#bd3786"
             ],
             [
              0.5555555555555556,
              "#d8576b"
             ],
             [
              0.6666666666666666,
              "#ed7953"
             ],
             [
              0.7777777777777778,
              "#fb9f3a"
             ],
             [
              0.8888888888888888,
              "#fdca26"
             ],
             [
              1.0,
              "#f0f921"
             ]
            ]
           }
          ],
          "heatmap": [
           {
            "type": "heatmap",
            "colorbar": {
             "outlinewidth": 0,
             "ticks": ""
            },
            "colorscale": [
             [
              0.0,
              "#0d0887"
             ],
             [
              0.1111111111111111,
              "#46039f"
             ],
             [
              0.2222222222222222,
              "#7201a8"
             ],
             [
              0.3333333333333333,
              "#9c179e"
             ],
             [
              0.4444444444444444,
              "#bd3786"
             ],
             [
              0.5555555555555556,
              "#d8576b"
             ],
             [
              0.6666666666666666,
              "#ed7953"
             ],
             [
              0.7777777777777778,
              "#fb9f3a"
             ],
             [
              0.8888888888888888,
              "#fdca26"
             ],
             [
              1.0,
              "#f0f921"
             ]
            ]
           }
          ],
          "heatmapgl": [
           {
            "type": "heatmapgl",
            "colorbar": {
             "outlinewidth": 0,
             "ticks": ""
            },
            "colorscale": [
             [
              0.0,
              "#0d0887"
             ],
             [
              0.1111111111111111,
              "#46039f"
             ],
             [
              0.2222222222222222,
              "#7201a8"
             ],
             [
              0.3333333333333333,
              "#9c179e"
             ],
             [
              0.4444444444444444,
              "#bd3786"
             ],
             [
              0.5555555555555556,
              "#d8576b"
             ],
             [
              0.6666666666666666,
              "#ed7953"
             ],
             [
              0.7777777777777778,
              "#fb9f3a"
             ],
             [
              0.8888888888888888,
              "#fdca26"
             ],
             [
              1.0,
              "#f0f921"
             ]
            ]
           }
          ],
          "contourcarpet": [
           {
            "type": "contourcarpet",
            "colorbar": {
             "outlinewidth": 0,
             "ticks": ""
            }
           }
          ],
          "contour": [
           {
            "type": "contour",
            "colorbar": {
             "outlinewidth": 0,
             "ticks": ""
            },
            "colorscale": [
             [
              0.0,
              "#0d0887"
             ],
             [
              0.1111111111111111,
              "#46039f"
             ],
             [
              0.2222222222222222,
              "#7201a8"
             ],
             [
              0.3333333333333333,
              "#9c179e"
             ],
             [
              0.4444444444444444,
              "#bd3786"
             ],
             [
              0.5555555555555556,
              "#d8576b"
             ],
             [
              0.6666666666666666,
              "#ed7953"
             ],
             [
              0.7777777777777778,
              "#fb9f3a"
             ],
             [
              0.8888888888888888,
              "#fdca26"
             ],
             [
              1.0,
              "#f0f921"
             ]
            ]
           }
          ],
          "surface": [
           {
            "type": "surface",
            "colorbar": {
             "outlinewidth": 0,
             "ticks": ""
            },
            "colorscale": [
             [
              0.0,
              "#0d0887"
             ],
             [
              0.1111111111111111,
              "#46039f"
             ],
             [
              0.2222222222222222,
              "#7201a8"
             ],
             [
              0.3333333333333333,
              "#9c179e"
             ],
             [
              0.4444444444444444,
              "#bd3786"
             ],
             [
              0.5555555555555556,
              "#d8576b"
             ],
             [
              0.6666666666666666,
              "#ed7953"
             ],
             [
              0.7777777777777778,
              "#fb9f3a"
             ],
             [
              0.8888888888888888,
              "#fdca26"
             ],
             [
              1.0,
              "#f0f921"
             ]
            ]
           }
          ],
          "mesh3d": [
           {
            "type": "mesh3d",
            "colorbar": {
             "outlinewidth": 0,
             "ticks": ""
            }
           }
          ],
          "scatter": [
           {
            "marker": {
             "line": {
              "color": "#283442"
             }
            },
            "type": "scatter"
           }
          ],
          "parcoords": [
           {
            "type": "parcoords",
            "line": {
             "colorbar": {
              "outlinewidth": 0,
              "ticks": ""
             }
            }
           }
          ],
          "scatterpolargl": [
           {
            "type": "scatterpolargl",
            "marker": {
             "colorbar": {
              "outlinewidth": 0,
              "ticks": ""
             }
            }
           }
          ],
          "bar": [
           {
            "error_x": {
             "color": "#f2f5fa"
            },
            "error_y": {
             "color": "#f2f5fa"
            },
            "marker": {
             "line": {
              "color": "rgb(17,17,17)",
              "width": 0.5
             },
             "pattern": {
              "fillmode": "overlay",
              "size": 10,
              "solidity": 0.2
             }
            },
            "type": "bar"
           }
          ],
          "scattergeo": [
           {
            "type": "scattergeo",
            "marker": {
             "colorbar": {
              "outlinewidth": 0,
              "ticks": ""
             }
            }
           }
          ],
          "scatterpolar": [
           {
            "type": "scatterpolar",
            "marker": {
             "colorbar": {
              "outlinewidth": 0,
              "ticks": ""
             }
            }
           }
          ],
          "histogram": [
           {
            "marker": {
             "pattern": {
              "fillmode": "overlay",
              "size": 10,
              "solidity": 0.2
             }
            },
            "type": "histogram"
           }
          ],
          "scattergl": [
           {
            "marker": {
             "line": {
              "color": "#283442"
             }
            },
            "type": "scattergl"
           }
          ],
          "scatter3d": [
           {
            "type": "scatter3d",
            "line": {
             "colorbar": {
              "outlinewidth": 0,
              "ticks": ""
             }
            },
            "marker": {
             "colorbar": {
              "outlinewidth": 0,
              "ticks": ""
             }
            }
           }
          ],
          "scattermapbox": [
           {
            "type": "scattermapbox",
            "marker": {
             "colorbar": {
              "outlinewidth": 0,
              "ticks": ""
             }
            }
           }
          ],
          "scatterternary": [
           {
            "type": "scatterternary",
            "marker": {
             "colorbar": {
              "outlinewidth": 0,
              "ticks": ""
             }
            }
           }
          ],
          "scattercarpet": [
           {
            "type": "scattercarpet",
            "marker": {
             "colorbar": {
              "outlinewidth": 0,
              "ticks": ""
             }
            }
           }
          ],
          "carpet": [
           {
            "aaxis": {
             "endlinecolor": "#A2B1C6",
             "gridcolor": "#506784",
             "linecolor": "#506784",
             "minorgridcolor": "#506784",
             "startlinecolor": "#A2B1C6"
            },
            "baxis": {
             "endlinecolor": "#A2B1C6",
             "gridcolor": "#506784",
             "linecolor": "#506784",
             "minorgridcolor": "#506784",
             "startlinecolor": "#A2B1C6"
            },
            "type": "carpet"
           }
          ],
          "table": [
           {
            "cells": {
             "fill": {
              "color": "#506784"
             },
             "line": {
              "color": "rgb(17,17,17)"
             }
            },
            "header": {
             "fill": {
              "color": "#2a3f5f"
             },
             "line": {
              "color": "rgb(17,17,17)"
             }
            },
            "type": "table"
           }
          ],
          "barpolar": [
           {
            "marker": {
             "line": {
              "color": "rgb(17,17,17)",
              "width": 0.5
             },
             "pattern": {
              "fillmode": "overlay",
              "size": 10,
              "solidity": 0.2
             }
            },
            "type": "barpolar"
           }
          ],
          "pie": [
           {
            "automargin": true,
            "type": "pie"
           }
          ]
         },
         "layout": {
          "autotypenumbers": "strict",
          "colorway": [
           "#636efa",
           "#EF553B",
           "#00cc96",
           "#ab63fa",
           "#FFA15A",
           "#19d3f3",
           "#FF6692",
           "#B6E880",
           "#FF97FF",
           "#FECB52"
          ],
          "font": {
           "color": "#f2f5fa"
          },
          "hovermode": "closest",
          "hoverlabel": {
           "align": "left"
          },
          "paper_bgcolor": "rgb(17,17,17)",
          "plot_bgcolor": "rgb(17,17,17)",
          "polar": {
           "bgcolor": "rgb(17,17,17)",
           "angularaxis": {
            "gridcolor": "#506784",
            "linecolor": "#506784",
            "ticks": ""
           },
           "radialaxis": {
            "gridcolor": "#506784",
            "linecolor": "#506784",
            "ticks": ""
           }
          },
          "ternary": {
           "bgcolor": "rgb(17,17,17)",
           "aaxis": {
            "gridcolor": "#506784",
            "linecolor": "#506784",
            "ticks": ""
           },
           "baxis": {
            "gridcolor": "#506784",
            "linecolor": "#506784",
            "ticks": ""
           },
           "caxis": {
            "gridcolor": "#506784",
            "linecolor": "#506784",
            "ticks": ""
           }
          },
          "coloraxis": {
           "colorbar": {
            "outlinewidth": 0,
            "ticks": ""
           }
          },
          "colorscale": {
           "sequential": [
            [
             0.0,
             "#0d0887"
            ],
            [
             0.1111111111111111,
             "#46039f"
            ],
            [
             0.2222222222222222,
             "#7201a8"
            ],
            [
             0.3333333333333333,
             "#9c179e"
            ],
            [
             0.4444444444444444,
             "#bd3786"
            ],
            [
             0.5555555555555556,
             "#d8576b"
            ],
            [
             0.6666666666666666,
             "#ed7953"
            ],
            [
             0.7777777777777778,
             "#fb9f3a"
            ],
            [
             0.8888888888888888,
             "#fdca26"
            ],
            [
             1.0,
             "#f0f921"
            ]
           ],
           "sequentialminus": [
            [
             0.0,
             "#0d0887"
            ],
            [
             0.1111111111111111,
             "#46039f"
            ],
            [
             0.2222222222222222,
             "#7201a8"
            ],
            [
             0.3333333333333333,
             "#9c179e"
            ],
            [
             0.4444444444444444,
             "#bd3786"
            ],
            [
             0.5555555555555556,
             "#d8576b"
            ],
            [
             0.6666666666666666,
             "#ed7953"
            ],
            [
             0.7777777777777778,
             "#fb9f3a"
            ],
            [
             0.8888888888888888,
             "#fdca26"
            ],
            [
             1.0,
             "#f0f921"
            ]
           ],
           "diverging": [
            [
             0,
             "#8e0152"
            ],
            [
             0.1,
             "#c51b7d"
            ],
            [
             0.2,
             "#de77ae"
            ],
            [
             0.3,
             "#f1b6da"
            ],
            [
             0.4,
             "#fde0ef"
            ],
            [
             0.5,
             "#f7f7f7"
            ],
            [
             0.6,
             "#e6f5d0"
            ],
            [
             0.7,
             "#b8e186"
            ],
            [
             0.8,
             "#7fbc41"
            ],
            [
             0.9,
             "#4d9221"
            ],
            [
             1,
             "#276419"
            ]
           ]
          },
          "xaxis": {
           "gridcolor": "#283442",
           "linecolor": "#506784",
           "ticks": "",
           "title": {
            "standoff": 15
           },
           "zerolinecolor": "#283442",
           "automargin": true,
           "zerolinewidth": 2
          },
          "yaxis": {
           "gridcolor": "#283442",
           "linecolor": "#506784",
           "ticks": "",
           "title": {
            "standoff": 15
           },
           "zerolinecolor": "#283442",
           "automargin": true,
           "zerolinewidth": 2
          },
          "scene": {
           "xaxis": {
            "backgroundcolor": "rgb(17,17,17)",
            "gridcolor": "#506784",
            "linecolor": "#506784",
            "showbackground": true,
            "ticks": "",
            "zerolinecolor": "#C8D4E3",
            "gridwidth": 2
           },
           "yaxis": {
            "backgroundcolor": "rgb(17,17,17)",
            "gridcolor": "#506784",
            "linecolor": "#506784",
            "showbackground": true,
            "ticks": "",
            "zerolinecolor": "#C8D4E3",
            "gridwidth": 2
           },
           "zaxis": {
            "backgroundcolor": "rgb(17,17,17)",
            "gridcolor": "#506784",
            "linecolor": "#506784",
            "showbackground": true,
            "ticks": "",
            "zerolinecolor": "#C8D4E3",
            "gridwidth": 2
           }
          },
          "shapedefaults": {
           "line": {
            "color": "#f2f5fa"
           }
          },
          "annotationdefaults": {
           "arrowcolor": "#f2f5fa",
           "arrowhead": 0,
           "arrowwidth": 1
          },
          "geo": {
           "bgcolor": "rgb(17,17,17)",
           "landcolor": "rgb(17,17,17)",
           "subunitcolor": "#506784",
           "showland": true,
           "showlakes": true,
           "lakecolor": "rgb(17,17,17)"
          },
          "title": {
           "x": 0.05
          },
          "updatemenudefaults": {
           "bgcolor": "#506784",
           "borderwidth": 0
          },
          "sliderdefaults": {
           "bgcolor": "#C8D4E3",
           "borderwidth": 1,
           "bordercolor": "rgb(17,17,17)",
           "tickwidth": 0
          },
          "mapbox": {
           "style": "dark"
          }
         }
        },
        "xaxis": {
         "anchor": "y",
         "domain": [
          0.0,
          1.0
         ],
         "title": {
          "text": "x"
         }
        },
        "yaxis": {
         "anchor": "x",
         "domain": [
          0.0,
          1.0
         ],
         "title": {
          "text": "y"
         }
        },
        "legend": {
         "tracegroupgap": 0
        },
        "margin": {
         "t": 60
        }
       },
       "config": {
        "plotlyServerURL": "https://plot.ly"
       }
      },
      "text/html": "<div>                            <div id=\"50053c83-432c-4062-abc8-dfb2c40e6635\" class=\"plotly-graph-div\" style=\"height:525px; width:100%;\"></div>            <script type=\"text/javascript\">                require([\"plotly\"], function(Plotly) {                    window.PLOTLYENV=window.PLOTLYENV || {};                                    if (document.getElementById(\"50053c83-432c-4062-abc8-dfb2c40e6635\")) {                    Plotly.newPlot(                        \"50053c83-432c-4062-abc8-dfb2c40e6635\",                        [{\"hovertemplate\":\"x=%{x}\\u003cbr\\u003ey=%{y}\\u003cextra\\u003e\\u003c\\u002fextra\\u003e\",\"legendgroup\":\"\",\"line\":{\"color\":\"#636efa\",\"dash\":\"solid\"},\"marker\":{\"symbol\":\"circle\"},\"mode\":\"lines\",\"name\":\"\",\"orientation\":\"v\",\"showlegend\":false,\"x\":[1489.670166015625,1488.5650634765625,1487.459716796875,1486.354248046875,1485.24853515625,1484.142578125,1483.0364990234375,1481.93017578125,1480.8236083984375,1479.7169189453125,1478.6099853515625,1477.5028076171875,1476.3955078125,1475.2879638671875,1474.1802978515625,1473.0723876953125,1471.9642333984375,1470.8558349609375,1469.747314453125,1468.638671875,1467.5296630859375,1466.4205322265625,1465.311279296875,1464.20166015625,1463.0919189453125,1461.9820556640625,1460.8719482421875,1459.7615966796875,1458.6510009765625,1457.540283203125,1456.4293212890625,1455.3182373046875,1454.2069091796875,1453.0953369140625,1451.983642578125,1450.8717041015625,1449.759521484375,1448.647216796875,1447.53466796875,1446.421875,1445.3089599609375,1444.19580078125,1443.0823974609375,1441.9688720703125,1440.8551025390625,1439.7410888671875,1438.626953125,1437.5125732421875,1436.3980712890625,1435.2833251953125,1434.1683349609375,1433.0531005859375,1431.937744140625,1430.8221435546875,1429.7064208984375,1428.5904541015625,1427.4742431640625,1426.35791015625,1425.2412109375,1424.12451171875,1423.0074462890625,1421.8902587890625,1420.7728271484375,1419.6552734375,1418.5374755859375,1417.41943359375,1416.30126953125,1415.182861328125,1414.064208984375,1412.9454345703125,1411.826416015625,1410.7071533203125,1409.587646484375,1408.468017578125,1407.3482666015625,1406.2281494140625,1405.10791015625,1403.9874267578125,1402.8668212890625,1401.7459716796875,1400.6248779296875,1399.503662109375,1398.3822021484375,1397.260498046875,1396.1385498046875,1395.0164794921875,1393.894287109375,1392.771728515625,1391.6490478515625,1390.526123046875,1389.403076171875,1388.2796630859375,1387.15625,1386.032470703125,1384.9085693359375,1383.784423828125,1382.6600341796875,1381.5355224609375,1380.4107666015625,1379.2857666015625,1378.16064453125,1377.0352783203125,1375.90966796875,1374.783935546875,1373.657958984375,1372.53173828125,1371.4053955078125,1370.27880859375,1369.1519775390625,1368.02490234375,1366.897705078125,1365.770263671875,1364.6427001953125,1363.5147705078125,1362.38671875,1361.258544921875,1360.1300048828125,1359.0013427734375,1357.87255859375,1356.743408203125,1355.6141357421875,1354.484619140625,1353.35498046875,1352.22509765625,1351.094970703125,1349.964599609375,1348.8341064453125,1347.703369140625,1346.5723876953125,1345.441162109375,1344.309814453125,1343.17822265625,1342.0465087890625,1340.91455078125,1339.7823486328125,1338.64990234375,1337.517333984375,1336.384521484375,1335.25146484375,1334.1181640625,1332.9847412109375,1331.85107421875,1330.7171630859375,1329.5831298828125,1328.4488525390625,1327.3143310546875,1326.1796875,1325.0447998046875,1323.90966796875,1322.7742919921875,1321.6387939453125,1320.5029296875,1319.3670654296875,1318.2308349609375,1317.094482421875,1315.9578857421875,1314.821044921875,1313.68408203125,1312.546875,1311.409423828125,1310.271728515625,1309.1339111328125,1307.995849609375,1306.8575439453125,1305.718994140625,1304.580322265625,1303.44140625,1302.3023681640625,1301.1629638671875,1300.0234375,1298.8836669921875,1297.74365234375,1296.603515625,1295.463134765625,1294.322509765625,1293.181640625,1292.0406494140625,1290.8994140625,1289.7579345703125,1288.6163330078125,1287.474365234375,1286.332275390625,1285.1900634765625,1284.0474853515625,1282.90478515625,1281.7618408203125,1280.61865234375,1279.475341796875,1278.3316650390625,1277.1878662109375,1276.0439453125,1274.899658203125,1273.7552490234375,1272.610595703125,1271.4656982421875,1270.3206787109375,1269.17529296875,1268.02978515625,1266.8841552734375],\"xaxis\":\"x\",\"y\":[-0.02186346848429237,-0.022155327641978577,-0.021563990812855007,-0.021818551083113976,-0.021684311410203414,-0.02147147481262477,-0.021576632024294367,-0.020773872036541324,-0.020928946030862566,-0.020911043760329262,-0.02076016727093045,-0.020357711561507903,-0.020343165130585178,-0.020354412495748653,-0.02033796410157389,-0.020197845294346078,-0.01971831667576872,-0.01991614658885859,-0.019730667160831373,-0.01971750596646591,-0.01954453972164048,-0.01981776070295399,-0.019365929747782593,-0.019517131175266097,-0.01948221214689822,-0.019141264091951292,-0.018962066223196915,-0.019108270266923195,-0.018849948637440102,-0.018801759565760218,-0.018766049836597774,-0.018764824205620322,-0.018655264461788043,-0.018610985753549514,-0.01873126072267435,-0.018505131773113092,-0.018212540555141203,-0.0181254015385261,-0.01803104382512257,-0.01792797809036605,-0.01782257122285877,-0.01785626678594981,-0.01785576266558486,-0.017781672637601866,-0.017823737708281242,-0.01784025497878228,-0.017439750872546938,-0.017553885766933713,-0.017371793090286476,-0.017278620593745613,-0.017208895941420856,-0.017269039746345683,-0.016989935095402635,-0.01672077034646833,-0.016956199489368738,-0.016892323246027203,-0.016704494014556388,-0.01647827092307932,-0.016609049998493865,-0.01629444993300939,-0.016793873302930785,-0.016050344354947604,-0.016029195288790515,-0.016381989708363538,-0.016172134491704286,-0.016208036857953093,-0.016137954905855595,-0.015645409643647447,-0.015772079982597182,-0.015817434223297486,-0.01588841917961139,-0.015683403030129744,-0.015454932034618948,-0.015352122826207796,-0.015336698580436507,-0.015264028175505253,-0.015074753874741527,-0.015205053238933295,-0.014964224939328941,-0.014410372779693698,-0.014151814946623813,-0.013609256777116578,-0.012860676588899094,-0.012425975781115274,-0.012383234933432439,-0.013914583916565304,-0.016269963485193984,-0.01591031887831026,-0.012961825020479878,-0.013936851272162888,-0.015053681498179953,-0.01564994669268715,-0.014881703767008704,-0.01434070333044942,-0.01407493518512199,-0.013503393520379135,-0.013627277814685687,-0.013814370901765568,-0.013565140100688565,-0.013311473829314288,-0.013444406995783736,-0.013787646765535632,-0.013559297732164076,-0.013293782109137571,-0.01343511371430133,-0.013437643784773091,-0.013199499448952216,-0.013421839216831455,-0.01310084561500789,-0.013092817238117782,-0.01297848965224646,-0.012807578601841764,-0.012758541801026722,-0.01252852862168946,-0.012281784245935264,-0.012406037662618398,-0.012417710248452379,-0.012718713215346856,-0.012414224805427917,-0.01246341717195479,-0.012606254179452122,-0.012532186264999624,-0.012671645692251451,-0.01283890790597535,-0.012783702863123237,-0.012639754453601664,-0.012307386863540964,-0.01247258973294288,-0.012570870031342697,-0.01248624276182317,-0.012081327787852918,-0.0119808804270675,-0.011957852343789812,-0.012110760688027909,-0.01223863534753751,-0.011929803779074568,-0.011936864922030202,-0.011264417044702827,-0.01136754569088311,-0.01125481979282105,-0.010814138285959014,-0.011089196188536817,-0.011215306001420747,-0.010581189368561965,-0.010546829095194386,-0.010475360369932496,-0.010425123752015155,-0.01022612214857685,-0.010055632993294542,-0.010088817770832257,-0.010001613007966296,-0.009953644953507227,-0.009961694600442243,-0.0093637493928791,-0.009669649397210694,-0.009549014642732367,-0.009288723237180668,-0.00935222931288889,-0.009174625334941058,-0.008668456570081149,-0.008907885032694969,-0.008612221223577878,-0.008694102879727455,-0.00854852547557824,-0.008638709986477979,-0.008739849772980748,-0.008341764493091005,-0.008390125905589475,-0.008170664679494358,-0.00803250202183064,-0.008052103524792636,-0.008182453743192066,-0.007902760146667064,-0.007629619907759584,-0.007609657251518636,-0.007563764897189521,-0.007589171886741868,-0.007465578701580841,-0.007195232597911139,-0.007213134046987296,-0.007129356061892167,-0.007085556316285102,-0.006897676880401551,-0.007143145516908155,-0.00697226165038765,-0.00698579878811546,-0.006801668683005461,-0.00668577787849972,-0.0063702923753165734,-0.006322607222098258,-0.006390214545919819,-0.00650052552253742,-0.0059997119057469805,-0.006177859389393839,-0.0058294254127002785,-0.006098161379166246,-0.0058936320536544075,-0.005679044977252638,-0.005758816423861783],\"yaxis\":\"y\",\"type\":\"scatter\"}],                        {\"template\":{\"data\":{\"histogram2dcontour\":[{\"type\":\"histogram2dcontour\",\"colorbar\":{\"outlinewidth\":0,\"ticks\":\"\"},\"colorscale\":[[0.0,\"#0d0887\"],[0.1111111111111111,\"#46039f\"],[0.2222222222222222,\"#7201a8\"],[0.3333333333333333,\"#9c179e\"],[0.4444444444444444,\"#bd3786\"],[0.5555555555555556,\"#d8576b\"],[0.6666666666666666,\"#ed7953\"],[0.7777777777777778,\"#fb9f3a\"],[0.8888888888888888,\"#fdca26\"],[1.0,\"#f0f921\"]]}],\"choropleth\":[{\"type\":\"choropleth\",\"colorbar\":{\"outlinewidth\":0,\"ticks\":\"\"}}],\"histogram2d\":[{\"type\":\"histogram2d\",\"colorbar\":{\"outlinewidth\":0,\"ticks\":\"\"},\"colorscale\":[[0.0,\"#0d0887\"],[0.1111111111111111,\"#46039f\"],[0.2222222222222222,\"#7201a8\"],[0.3333333333333333,\"#9c179e\"],[0.4444444444444444,\"#bd3786\"],[0.5555555555555556,\"#d8576b\"],[0.6666666666666666,\"#ed7953\"],[0.7777777777777778,\"#fb9f3a\"],[0.8888888888888888,\"#fdca26\"],[1.0,\"#f0f921\"]]}],\"heatmap\":[{\"type\":\"heatmap\",\"colorbar\":{\"outlinewidth\":0,\"ticks\":\"\"},\"colorscale\":[[0.0,\"#0d0887\"],[0.1111111111111111,\"#46039f\"],[0.2222222222222222,\"#7201a8\"],[0.3333333333333333,\"#9c179e\"],[0.4444444444444444,\"#bd3786\"],[0.5555555555555556,\"#d8576b\"],[0.6666666666666666,\"#ed7953\"],[0.7777777777777778,\"#fb9f3a\"],[0.8888888888888888,\"#fdca26\"],[1.0,\"#f0f921\"]]}],\"heatmapgl\":[{\"type\":\"heatmapgl\",\"colorbar\":{\"outlinewidth\":0,\"ticks\":\"\"},\"colorscale\":[[0.0,\"#0d0887\"],[0.1111111111111111,\"#46039f\"],[0.2222222222222222,\"#7201a8\"],[0.3333333333333333,\"#9c179e\"],[0.4444444444444444,\"#bd3786\"],[0.5555555555555556,\"#d8576b\"],[0.6666666666666666,\"#ed7953\"],[0.7777777777777778,\"#fb9f3a\"],[0.8888888888888888,\"#fdca26\"],[1.0,\"#f0f921\"]]}],\"contourcarpet\":[{\"type\":\"contourcarpet\",\"colorbar\":{\"outlinewidth\":0,\"ticks\":\"\"}}],\"contour\":[{\"type\":\"contour\",\"colorbar\":{\"outlinewidth\":0,\"ticks\":\"\"},\"colorscale\":[[0.0,\"#0d0887\"],[0.1111111111111111,\"#46039f\"],[0.2222222222222222,\"#7201a8\"],[0.3333333333333333,\"#9c179e\"],[0.4444444444444444,\"#bd3786\"],[0.5555555555555556,\"#d8576b\"],[0.6666666666666666,\"#ed7953\"],[0.7777777777777778,\"#fb9f3a\"],[0.8888888888888888,\"#fdca26\"],[1.0,\"#f0f921\"]]}],\"surface\":[{\"type\":\"surface\",\"colorbar\":{\"outlinewidth\":0,\"ticks\":\"\"},\"colorscale\":[[0.0,\"#0d0887\"],[0.1111111111111111,\"#46039f\"],[0.2222222222222222,\"#7201a8\"],[0.3333333333333333,\"#9c179e\"],[0.4444444444444444,\"#bd3786\"],[0.5555555555555556,\"#d8576b\"],[0.6666666666666666,\"#ed7953\"],[0.7777777777777778,\"#fb9f3a\"],[0.8888888888888888,\"#fdca26\"],[1.0,\"#f0f921\"]]}],\"mesh3d\":[{\"type\":\"mesh3d\",\"colorbar\":{\"outlinewidth\":0,\"ticks\":\"\"}}],\"scatter\":[{\"marker\":{\"line\":{\"color\":\"#283442\"}},\"type\":\"scatter\"}],\"parcoords\":[{\"type\":\"parcoords\",\"line\":{\"colorbar\":{\"outlinewidth\":0,\"ticks\":\"\"}}}],\"scatterpolargl\":[{\"type\":\"scatterpolargl\",\"marker\":{\"colorbar\":{\"outlinewidth\":0,\"ticks\":\"\"}}}],\"bar\":[{\"error_x\":{\"color\":\"#f2f5fa\"},\"error_y\":{\"color\":\"#f2f5fa\"},\"marker\":{\"line\":{\"color\":\"rgb(17,17,17)\",\"width\":0.5},\"pattern\":{\"fillmode\":\"overlay\",\"size\":10,\"solidity\":0.2}},\"type\":\"bar\"}],\"scattergeo\":[{\"type\":\"scattergeo\",\"marker\":{\"colorbar\":{\"outlinewidth\":0,\"ticks\":\"\"}}}],\"scatterpolar\":[{\"type\":\"scatterpolar\",\"marker\":{\"colorbar\":{\"outlinewidth\":0,\"ticks\":\"\"}}}],\"histogram\":[{\"marker\":{\"pattern\":{\"fillmode\":\"overlay\",\"size\":10,\"solidity\":0.2}},\"type\":\"histogram\"}],\"scattergl\":[{\"marker\":{\"line\":{\"color\":\"#283442\"}},\"type\":\"scattergl\"}],\"scatter3d\":[{\"type\":\"scatter3d\",\"line\":{\"colorbar\":{\"outlinewidth\":0,\"ticks\":\"\"}},\"marker\":{\"colorbar\":{\"outlinewidth\":0,\"ticks\":\"\"}}}],\"scattermapbox\":[{\"type\":\"scattermapbox\",\"marker\":{\"colorbar\":{\"outlinewidth\":0,\"ticks\":\"\"}}}],\"scatterternary\":[{\"type\":\"scatterternary\",\"marker\":{\"colorbar\":{\"outlinewidth\":0,\"ticks\":\"\"}}}],\"scattercarpet\":[{\"type\":\"scattercarpet\",\"marker\":{\"colorbar\":{\"outlinewidth\":0,\"ticks\":\"\"}}}],\"carpet\":[{\"aaxis\":{\"endlinecolor\":\"#A2B1C6\",\"gridcolor\":\"#506784\",\"linecolor\":\"#506784\",\"minorgridcolor\":\"#506784\",\"startlinecolor\":\"#A2B1C6\"},\"baxis\":{\"endlinecolor\":\"#A2B1C6\",\"gridcolor\":\"#506784\",\"linecolor\":\"#506784\",\"minorgridcolor\":\"#506784\",\"startlinecolor\":\"#A2B1C6\"},\"type\":\"carpet\"}],\"table\":[{\"cells\":{\"fill\":{\"color\":\"#506784\"},\"line\":{\"color\":\"rgb(17,17,17)\"}},\"header\":{\"fill\":{\"color\":\"#2a3f5f\"},\"line\":{\"color\":\"rgb(17,17,17)\"}},\"type\":\"table\"}],\"barpolar\":[{\"marker\":{\"line\":{\"color\":\"rgb(17,17,17)\",\"width\":0.5},\"pattern\":{\"fillmode\":\"overlay\",\"size\":10,\"solidity\":0.2}},\"type\":\"barpolar\"}],\"pie\":[{\"automargin\":true,\"type\":\"pie\"}]},\"layout\":{\"autotypenumbers\":\"strict\",\"colorway\":[\"#636efa\",\"#EF553B\",\"#00cc96\",\"#ab63fa\",\"#FFA15A\",\"#19d3f3\",\"#FF6692\",\"#B6E880\",\"#FF97FF\",\"#FECB52\"],\"font\":{\"color\":\"#f2f5fa\"},\"hovermode\":\"closest\",\"hoverlabel\":{\"align\":\"left\"},\"paper_bgcolor\":\"rgb(17,17,17)\",\"plot_bgcolor\":\"rgb(17,17,17)\",\"polar\":{\"bgcolor\":\"rgb(17,17,17)\",\"angularaxis\":{\"gridcolor\":\"#506784\",\"linecolor\":\"#506784\",\"ticks\":\"\"},\"radialaxis\":{\"gridcolor\":\"#506784\",\"linecolor\":\"#506784\",\"ticks\":\"\"}},\"ternary\":{\"bgcolor\":\"rgb(17,17,17)\",\"aaxis\":{\"gridcolor\":\"#506784\",\"linecolor\":\"#506784\",\"ticks\":\"\"},\"baxis\":{\"gridcolor\":\"#506784\",\"linecolor\":\"#506784\",\"ticks\":\"\"},\"caxis\":{\"gridcolor\":\"#506784\",\"linecolor\":\"#506784\",\"ticks\":\"\"}},\"coloraxis\":{\"colorbar\":{\"outlinewidth\":0,\"ticks\":\"\"}},\"colorscale\":{\"sequential\":[[0.0,\"#0d0887\"],[0.1111111111111111,\"#46039f\"],[0.2222222222222222,\"#7201a8\"],[0.3333333333333333,\"#9c179e\"],[0.4444444444444444,\"#bd3786\"],[0.5555555555555556,\"#d8576b\"],[0.6666666666666666,\"#ed7953\"],[0.7777777777777778,\"#fb9f3a\"],[0.8888888888888888,\"#fdca26\"],[1.0,\"#f0f921\"]],\"sequentialminus\":[[0.0,\"#0d0887\"],[0.1111111111111111,\"#46039f\"],[0.2222222222222222,\"#7201a8\"],[0.3333333333333333,\"#9c179e\"],[0.4444444444444444,\"#bd3786\"],[0.5555555555555556,\"#d8576b\"],[0.6666666666666666,\"#ed7953\"],[0.7777777777777778,\"#fb9f3a\"],[0.8888888888888888,\"#fdca26\"],[1.0,\"#f0f921\"]],\"diverging\":[[0,\"#8e0152\"],[0.1,\"#c51b7d\"],[0.2,\"#de77ae\"],[0.3,\"#f1b6da\"],[0.4,\"#fde0ef\"],[0.5,\"#f7f7f7\"],[0.6,\"#e6f5d0\"],[0.7,\"#b8e186\"],[0.8,\"#7fbc41\"],[0.9,\"#4d9221\"],[1,\"#276419\"]]},\"xaxis\":{\"gridcolor\":\"#283442\",\"linecolor\":\"#506784\",\"ticks\":\"\",\"title\":{\"standoff\":15},\"zerolinecolor\":\"#283442\",\"automargin\":true,\"zerolinewidth\":2},\"yaxis\":{\"gridcolor\":\"#283442\",\"linecolor\":\"#506784\",\"ticks\":\"\",\"title\":{\"standoff\":15},\"zerolinecolor\":\"#283442\",\"automargin\":true,\"zerolinewidth\":2},\"scene\":{\"xaxis\":{\"backgroundcolor\":\"rgb(17,17,17)\",\"gridcolor\":\"#506784\",\"linecolor\":\"#506784\",\"showbackground\":true,\"ticks\":\"\",\"zerolinecolor\":\"#C8D4E3\",\"gridwidth\":2},\"yaxis\":{\"backgroundcolor\":\"rgb(17,17,17)\",\"gridcolor\":\"#506784\",\"linecolor\":\"#506784\",\"showbackground\":true,\"ticks\":\"\",\"zerolinecolor\":\"#C8D4E3\",\"gridwidth\":2},\"zaxis\":{\"backgroundcolor\":\"rgb(17,17,17)\",\"gridcolor\":\"#506784\",\"linecolor\":\"#506784\",\"showbackground\":true,\"ticks\":\"\",\"zerolinecolor\":\"#C8D4E3\",\"gridwidth\":2}},\"shapedefaults\":{\"line\":{\"color\":\"#f2f5fa\"}},\"annotationdefaults\":{\"arrowcolor\":\"#f2f5fa\",\"arrowhead\":0,\"arrowwidth\":1},\"geo\":{\"bgcolor\":\"rgb(17,17,17)\",\"landcolor\":\"rgb(17,17,17)\",\"subunitcolor\":\"#506784\",\"showland\":true,\"showlakes\":true,\"lakecolor\":\"rgb(17,17,17)\"},\"title\":{\"x\":0.05},\"updatemenudefaults\":{\"bgcolor\":\"#506784\",\"borderwidth\":0},\"sliderdefaults\":{\"bgcolor\":\"#C8D4E3\",\"borderwidth\":1,\"bordercolor\":\"rgb(17,17,17)\",\"tickwidth\":0},\"mapbox\":{\"style\":\"dark\"}}},\"xaxis\":{\"anchor\":\"y\",\"domain\":[0.0,1.0],\"title\":{\"text\":\"x\"}},\"yaxis\":{\"anchor\":\"x\",\"domain\":[0.0,1.0],\"title\":{\"text\":\"y\"}},\"legend\":{\"tracegroupgap\":0},\"margin\":{\"t\":60}},                        {\"responsive\": true}                    ).then(function(){\n                            \nvar gd = document.getElementById('50053c83-432c-4062-abc8-dfb2c40e6635');\nvar x = new MutationObserver(function (mutations, observer) {{\n        var display = window.getComputedStyle(gd).display;\n        if (!display || display === 'none') {{\n            console.log([gd, 'removed!']);\n            Plotly.purge(gd);\n            observer.disconnect();\n        }}\n}});\n\n// Listen for the removal of the full notebook cells\nvar notebookContainer = gd.closest('#notebook-container');\nif (notebookContainer) {{\n    x.observe(notebookContainer, {childList: true});\n}}\n\n// Listen for the clearing of the current output cell\nvar outputEl = gd.closest('.output');\nif (outputEl) {{\n    x.observe(outputEl, {childList: true});\n}}\n\n                        })                };                });            </script>        </div>"
     },
     "metadata": {},
     "output_type": "display_data"
    },
    {
     "data": {
      "application/vnd.plotly.v1+json": {
       "data": [
        {
         "coloraxis": "coloraxis",
         "name": "0",
         "z": [
          [
           1.7711556696235365E-8,
           1.6427381567111264E-8,
           -1.0157196860954597E-9,
           3.130435624708527E-8,
           2.0741103535893394E-8,
           1.4410747202048342E-8,
           1.4406141397604899E-8,
           -8.647452492769728E-8,
           -4.466440001380305E-7,
           5.628333420901437E-8,
           -1.613406475150246E-6,
           -1.2715428096547194E-6,
           2.3734847919428859E-7,
           5.247874199411086E-7,
           2.4048402932499405E-7,
           2.5872617948359445E-7,
           2.0950098798977025E-7,
           2.1898192492696214E-7,
           4.0597931005904193E-7,
           8.515525136732712E-7,
           7.849671080480932E-7,
           -6.109404973823614E-7,
           -1.7696686197909875E-7,
           8.476992975239125E-8,
           -1.6451686890396815E-8,
           -9.87342564898731E-8,
           -2.411702021438923E-8,
           3.653156348165921E-8,
           5.223136951958191E-8,
           6.799795236816579E-8,
           8.756498993570872E-9,
           4.0897367934139883E-8,
           -8.004599416974358E-9,
           3.937855089000676E-8
          ],
          [
           3.231243742941507E-8,
           2.1844830346219437E-8,
           1.5381816228052146E-8,
           1.6436694079772314E-8,
           2.1933762139294214E-8,
           2.0023562975814778E-8,
           5.322560621834708E-9,
           -9.004856840385461E-8,
           -7.248749408463537E-8,
           2.7568406825590176E-7,
           2.9539969091854026E-7,
           7.322556867812867E-7,
           7.558995629837667E-7,
           3.3615021076433963E-7,
           3.188746013357569E-7,
           1.7827381866744108E-7,
           1.2177731186996404E-7,
           7.413827636320604E-8,
           1.2740585817668245E-7,
           2.436959043312289E-7,
           2.6135220018987285E-7,
           1.5293881536645545E-7,
           2.0057552908314258E-7,
           6.707793586175127E-8,
           -1.447620856507799E-7,
           -1.9543920252132215E-7,
           -1.222604809625281E-7,
           -5.4372669320123903E-8,
           -1.098873660118496E-8,
           6.448814421137996E-9,
           4.7220317884778615E-8,
           9.180544143142718E-10,
           -5.142164353189389E-9,
           -1.4750436419574015E-9
          ],
          [
           2.5304080123583144E-8,
           1.570428082775959E-8,
           2.4108524123353926E-8,
           2.6072796025247143E-8,
           1.1452473955457425E-8,
           5.9019579012497915E-8,
           1.4744952807701269E-8,
           -7.323445905172521E-8,
           3.3225345893227424E-7,
           3.079445632078411E-7,
           3.071142965751944E-7,
           2.429619001695292E-7,
           5.792376150323452E-8,
           2.6558955821113987E-7,
           2.7447545252987853E-7,
           1.2756379686486034E-7,
           3.649713822691504E-8,
           1.695729855886917E-8,
           -4.157523631610591E-8,
           6.92697304958718E-8,
           1.2616324945812565E-7,
           8.970130304913551E-8,
           1.5109460427604109E-7,
           9.908619852862725E-8,
           -6.475089889318233E-8,
           -7.764981047757998E-8,
           -1.2187649464393496E-8,
           1.1584940768969406E-8,
           -5.371050973316522E-8,
           2.8781439574040825E-8,
           1.3694776323737386E-9,
           -9.279977279473345E-10,
           8.591026446289191E-8,
           7.240544071552418E-9
          ],
          [
           1.6326629106053298E-8,
           2.1334149631194224E-8,
           1.7856939393612154E-8,
           1.700205681950418E-8,
           2.6290956036479955E-8,
           1.1206766667542848E-8,
           3.93609216132384E-8,
           6.434443811950183E-8,
           4.883358474603513E-7,
           4.3412863103615125E-7,
           2.922529172828865E-7,
           -1.1408197884431002E-8,
           -5.250538390374018E-7,
           3.198353009894132E-7,
           1.7240240521300435E-7,
           1.3654541936209414E-7,
           -4.6178939373722265E-9,
           -6.532428344654879E-8,
           -1.530893981906488E-7,
           -4.755103146081366E-8,
           -1.9387216471937734E-8,
           8.339309037596903E-9,
           1.300532117028415E-7,
           -3.619740200788314E-8,
           -9.873221706232809E-8,
           -1.2145619069579966E-7,
           -6.717911697341596E-8,
           -6.694034542164717E-8,
           2.74257785098958E-8,
           7.299059396713556E-8,
           3.7084758044876097E-8,
           -6.46102652026814E-8,
           -7.292751656977647E-8,
           -9.124038186451905E-8
          ],
          [
           3.3614050290821366E-8,
           1.3685061206440946E-8,
           2.4831895344365017E-8,
           4.223176569270047E-8,
           2.683797995243116E-8,
           3.594129255542801E-8,
           1.950202313439697E-8,
           1.4706357434622622E-7,
           4.6120088904712613E-7,
           3.536544135305703E-7,
           3.346630012991192E-7,
           2.685189002932166E-7,
           -1.4651745895162435E-6,
           -3.6009692570346906E-8,
           2.339473012833933E-8,
           3.018765776642315E-7,
           1.788900217336339E-7,
           -7.969432507712868E-8,
           -1.285085341305411E-7,
           -8.848861444443793E-8,
           4.5024109270539714E-8,
           2.02254436575382E-7,
           1.756725714935928E-7,
           -6.793983276362062E-8,
           -1.336715356676273E-7,
           -1.5617852385925172E-7,
           -1.3257909890760766E-7,
           -1.4512361598818204E-7,
           -1.543562467270188E-7,
           -4.354756260570692E-7,
           -3.888293297651018E-7,
           -1.6569563912236467E-7,
           1.2647918179021257E-7,
           8.864213075056633E-8
          ],
          [
           2.4778208242080185E-8,
           3.0353077649644494E-8,
           1.5916926436170903E-8,
           2.405009296730609E-8,
           1.962919389458788E-8,
           2.649624898530996E-8,
           1.744432329956209E-8,
           2.1932118671601992E-7,
           3.563394933782769E-7,
           2.0651907739467123E-7,
           6.484571349209852E-8,
           -1.9088554362031725E-8,
           -1.6374067416365372E-6,
           -1.0938118120566693E-7,
           5.7035349811942556E-9,
           7.898900113147372E-8,
           -9.654295451859759E-8,
           -6.529994004667348E-8,
           -1.5478869379403687E-7,
           -1.87041978818339E-7,
           -1.0624199305015718E-7,
           8.548900906015053E-8,
           5.89190039097068E-8,
           2.4934915277663524E-9,
           -5.2072793114707064E-8,
           -1.7440222230966782E-7,
           -1.0341031305244399E-7,
           -1.8952006805626263E-7,
           -2.2238614185147272E-7,
           -2.755014555103369E-7,
           -2.0313351567211316E-7,
           -1.9789097737935784E-7,
           2.425088517738853E-8,
           1.03719017801423E-7
          ],
          [
           2.4038588244425888E-8,
           3.44744239524007E-8,
           2.2333498902874768E-8,
           1.1611220381439089E-8,
           3.1113614997357756E-8,
           3.000496005318914E-8,
           4.224345104471048E-8,
           1.7869884355495962E-7,
           3.4141939417283995E-7,
           2.0953728067890722E-7,
           9.041021196149836E-8,
           -2.279891791319574E-9,
           -3.338678617024211E-7,
           -1.5424238831773872E-7,
           -8.292448078915099E-8,
           -2.85600306923523E-8,
           -1.5565466517444136E-7,
           -1.6104161845826445E-7,
           -1.5940923490156048E-7,
           -1.754798497145528E-7,
           -1.6876614034346235E-7,
           -1.3233226421958114E-7,
           -2.9258482392919786E-7,
           -1.9692998644554622E-7,
           -1.5830552836914368E-7,
           -9.555531817568441E-8,
           -3.9582962555538233E-7,
           -3.0718892084970463E-7,
           -1.4951379943389086E-7,
           -1.922736528432446E-7,
           -1.9742221297483606E-7,
           -2.2259868799954517E-7,
           -1.6270481843731017E-7,
           -1.0859772034251412E-7
          ],
          [
           1.4028076618227492E-8,
           1.8056488545553768E-8,
           1.5341823673717022E-8,
           2.5067308089944588E-9,
           3.1832086938135E-8,
           1.0070786085913286E-8,
           3.736135471864109E-8,
           2.3191010569256228E-7,
           2.2714899070818395E-7,
           1.1208175661247142E-7,
           1.0267041416180883E-7,
           1.2124773308149593E-8,
           -1.0060246211080955E-7,
           -2.2618172786047038E-7,
           9.803588390127546E-8,
           8.41794303316593E-8,
           -4.892400594205457E-8,
           -8.71300328948229E-8,
           -1.0436325365337621E-7,
           -2.0464178835854392E-7,
           -1.5112664158609298E-7,
           -1.0939487881905767E-7,
           -1.2382323381405442E-7,
           -1.1258925732170245E-7,
           -1.2610005175458613E-7,
           -9.201193154667686E-8,
           -3.3049661691877875E-8,
           -7.996596056039909E-8,
           -5.541823818391213E-8,
           -6.147391415653434E-8,
           -1.4762356495240592E-7,
           -2.5878535078930693E-7,
           -2.1448261186564027E-7,
           -2.136014688411112E-7
          ],
          [
           2.412238039593476E-8,
           3.683889866119524E-8,
           2.249871893381741E-8,
           3.1881856017655853E-9,
           3.894651409917101E-8,
           4.768608017440011E-8,
           7.866373455396455E-8,
           3.515456315379199E-7,
           2.8046799914947566E-7,
           1.7066793146967648E-7,
           1.8900675180745037E-7,
           7.980081233791339E-8,
           -1.4230158692027708E-8,
           -1.0561979007002459E-7,
           1.6546776762288462E-7,
           2.0779774077197098E-7,
           2.712461719818321E-7,
           -2.2459944546161619E-7,
           -1.940632107914368E-7,
           -1.9218221840487165E-7,
           -1.3141815900395425E-7,
           -8.846450892749928E-8,
           -1.6081156504250245E-7,
           -1.2549328462645365E-7,
           -1.5731672742079008E-7,
           -1.0233553664079876E-7,
           -9.65165429192252E-8,
           -1.365338717451672E-7,
           -7.617007289146493E-8,
           -4.5110518305698735E-8,
           -8.531720947274748E-8,
           -1.3143490214676071E-7,
           -1.2922103963795972E-7,
           -1.2489747179030667E-7
          ],
          [
           2.7759355902151113E-8,
           2.59158838021898E-8,
           3.105954047984713E-8,
           2.2267467526578493E-8,
           1.7147156925308554E-8,
           5.55386773069889E-8,
           1.2178540531892237E-7,
           2.3903242730302414E-7,
           1.4523599145468367E-7,
           1.053487569736115E-7,
           1.7964915150869682E-7,
           9.559100654412276E-8,
           2.244891845262136E-8,
           -7.176906069900514E-8,
           1.4472288829048278E-7,
           2.675965317690241E-7,
           3.2644867567721123E-7,
           1.1351516327451252E-7,
           -1.3917837027074786E-7,
           -6.201158073205067E-8,
           -9.935040540595147E-8,
           -1.324889256559717E-7,
           -9.064560565415863E-8,
           -1.140024275960969E-7,
           -1.1561873998207372E-7,
           -5.205365288302758E-8,
           -9.767648980798264E-8,
           -7.617485674988168E-8,
           5.121251928969386E-8,
           -6.961872633899223E-8,
           -5.5856609716238116E-8,
           8.989121430901768E-9,
           8.860540851844162E-9,
           2.9805568480415095E-8
          ],
          [
           1.448304688913086E-8,
           2.133772323306413E-8,
           -3.8930837413691074E-8,
           1.3587116155059322E-8,
           5.3105701796463406E-8,
           6.901385379868912E-8,
           2.0717481736928688E-7,
           2.4348607432241363E-7,
           1.9142898648662277E-7,
           1.26050080922549E-7,
           1.1360664599793778E-7,
           7.273017293309799E-8,
           3.589144570339665E-8,
           -3.0313053335965815E-7,
           -8.971048281024369E-8,
           2.2597375127935925E-7,
           1.663028666776432E-7,
           5.3661315502608596E-8,
           -4.1958908039316995E-8,
           -9.783906799152148E-8,
           -1.25217963122322E-7,
           -1.6627639768895223E-7,
           -1.327493514047697E-7,
           -9.805118903435626E-8,
           -4.115252670409254E-8,
           -3.762088071269002E-8,
           -6.057690660960197E-8,
           -6.315346029824171E-8,
           -6.117940808992137E-8,
           -4.7131700084942137E-8,
           3.6720896622569397E-8,
           5.031526623936615E-8,
           8.360946270592054E-8,
           7.82638307481452E-8
          ],
          [
           2.0725089747716148E-8,
           3.415561021752315E-8,
           -3.849743314548009E-9,
           -2.6451013010364633E-8,
           3.504833403502279E-8,
           9.591314796935846E-8,
           3.052667164689533E-7,
           2.661344551513855E-7,
           1.3688453804290438E-7,
           1.0126972015951883E-7,
           4.088865257120566E-8,
           2.1517990287196243E-8,
           -1.0749264548587343E-7,
           -9.537999290178768E-7,
           -2.612322501323947E-7,
           7.937178508959604E-8,
           5.1111031052848464E-8,
           -6.753526967399306E-8,
           -1.7038719798297928E-8,
           -4.028637425622945E-8,
           -5.067239365956655E-8,
           -1.6993729081951093E-7,
           -7.801037525529895E-8,
           -4.946013204097948E-8,
           -2.5178863424401024E-8,
           -7.221166457887817E-9,
           -2.3348522949908873E-8,
           -2.0220646906105795E-8,
           -1.6291789391749396E-8,
           -9.060529951080744E-9,
           6.233304241743991E-8,
           9.125385780158161E-8,
           1.3814208503241567E-7,
           1.0173872306527298E-7
          ],
          [
           1.5075833534037884E-8,
           5.472264613170838E-9,
           8.020201608189832E-9,
           -4.438032093241904E-9,
           -5.454243866416356E-8,
           6.957988815661737E-8,
           5.111507087711822E-7,
           2.3461166481166446E-7,
           1.4515043656873873E-7,
           8.121608578845897E-8,
           3.759436796157063E-8,
           -3.795292950147416E-9,
           -7.110011707632702E-8,
           -3.926842095620438E-7,
           -9.027247347240077E-8,
           7.946618526539827E-8,
           4.581672915775024E-8,
           1.8276114911922124E-8,
           -1.7534661091196824E-8,
           -2.9472842727503358E-8,
           -7.535380257570288E-8,
           -1.0692571327703517E-7,
           -7.430955872579403E-8,
           -7.587617500508433E-8,
           1.2185218692172064E-8,
           3.165107816158885E-9,
           3.6866366939099187E-8,
           5.062582828482726E-8,
           3.767739712492835E-8,
           4.8672954360648636E-8,
           -6.961426807410918E-9,
           1.4949236967132633E-8,
           6.926673523270736E-8,
           8.227819576752282E-8
          ],
          [
           2.0003907200352543E-8,
           1.4805604811258974E-8,
           -1.2319497536434395E-8,
           -7.031943804096806E-8,
           -7.040052465381331E-9,
           1.5229167202878075E-7,
           4.1353086290576523E-7,
           3.659388581116835E-7,
           1.5550755527072064E-7,
           5.992290360244144E-8,
           -7.027011741893571E-9,
           -5.850686023086157E-8,
           -6.379508912893185E-8,
           -3.448617691237741E-8,
           4.303998875196276E-8,
           9.461643298360008E-8,
           2.805861496552645E-8,
           -3.2290057464768786E-8,
           -6.508685924624625E-8,
           -6.80288662951636E-8,
           -7.879464200814647E-8,
           -2.8218874648519515E-7,
           -4.261262714242896E-8,
           -6.499627170948169E-8,
           7.57538464956779E-10,
           -3.323515359845843E-10,
           2.004730490329036E-8,
           6.967582698823326E-8,
           1.0997938932242839E-7,
           8.469325489409989E-8,
           1.1164407971694719E-8,
           5.9027673251567815E-8,
           4.5158735202778926E-8,
           7.394978095549531E-8
          ],
          [
           1.2816510774298505E-8,
           5.098553699236363E-10,
           3.899853844992832E-9,
           -4.154308762323835E-9,
           7.59351227651292E-8,
           2.3723036886146525E-7,
           5.713278140635708E-7,
           3.6070025715080217E-7,
           1.296339177040288E-7,
           9.933021213974485E-8,
           3.224376768135246E-8,
           1.1505600479445844E-7,
           2.646001909769955E-10,
           8.315834881455375E-8,
           8.43725421825728E-8,
           1.1305629135634496E-7,
           5.982156032244262E-8,
           -3.763588579569842E-8,
           -7.883830037241661E-8,
           -5.565285458888447E-8,
           -2.6333440995581164E-7,
           -2.3684220252878604E-7,
           -2.0208083920429563E-7,
           -9.005122316635823E-8,
           1.3266177651559258E-8,
           2.651868014312256E-8,
           3.0570100740042363E-8,
           7.530191886229875E-8,
           7.739753061156336E-8,
           5.7026524182377574E-8,
           5.256513417818567E-8,
           3.7641621307840224E-8,
           9.72160033572524E-9,
           4.073813101449408E-8
          ],
          [
           3.3890311622761087E-8,
           1.6656572781537995E-8,
           1.896341336864913E-8,
           7.537030399872083E-9,
           6.096714261118364E-8,
           3.677469292298498E-7,
           6.699990564149935E-7,
           4.436258367337191E-7,
           1.7357979316294594E-7,
           7.33596190262899E-8,
           7.315768425696946E-8,
           3.1481690411059515E-8,
           1.0763423992551207E-7,
           -3.009018499638451E-8,
           -5.441547825018352E-8,
           -2.420004189722911E-10,
           -1.3317054603961612E-7,
           -9.82961192571571E-8,
           -4.1045531758826975E-8,
           -6.698901478935387E-8,
           -1.2472859360485157E-7,
           -1.765361168629888E-7,
           -1.3863764011032394E-7,
           -1.6724955260481688E-8,
           -3.600197003982479E-8,
           -6.228194336316461E-10,
           7.704925510728112E-9,
           2.622411285461622E-8,
           3.007490291821927E-8,
           2.9787602426863843E-8,
           3.504223667341848E-8,
           1.1691755553972802E-8,
           2.5027303519109317E-8,
           3.570753689459476E-8
          ],
          [
           3.386383481198881E-8,
           1.016294668815965E-8,
           3.2172938161572256E-8,
           5.837830609216368E-8,
           1.5098171798446171E-7,
           3.6287995285438076E-7,
           3.958136742534996E-7,
           2.162166985586546E-7,
           9.132812494840865E-8,
           1.4664642911321805E-7,
           1.2753120403705036E-7,
           1.1017874654505522E-7,
           1.2661216448728284E-7,
           1.0937582692429693E-7,
           6.358299686860287E-9,
           1.207609637685475E-7,
           8.113855897316888E-8,
           -2.3350096833672122E-8,
           -4.075326313379377E-8,
           -5.844397585085516E-8,
           -1.236111928825412E-7,
           -1.299202140275014E-7,
           -1.317850763644994E-7,
           -1.1185397798547078E-7,
           -8.011846532967619E-8,
           -1.1371617621516594E-8,
           -3.6474205679406625E-8,
           1.634113675281575E-9,
           3.671748141022446E-8,
           2.774409754746964E-8,
           5.974709558549055E-8,
           7.32166114615196E-8,
           2.7947733467723538E-8,
           5.4498573528906255E-8
          ],
          [
           2.235423153456186E-8,
           1.0592465992652717E-8,
           3.469233101510671E-8,
           4.9014533451849665E-8,
           1.37996735140541E-7,
           1.747001973493263E-7,
           1.583308401062376E-7,
           1.3526177875232656E-7,
           7.231687747101368E-8,
           1.2782238641430268E-7,
           1.2102259151908433E-7,
           1.7573152580054825E-7,
           2.4050707484263124E-7,
           2.7309244543493103E-7,
           2.6505310578688164E-7,
           1.7108253209835307E-7,
           5.441354726573395E-9,
           -5.234834334863683E-8,
           -4.356631104795406E-8,
           -6.760626851971845E-8,
           -1.0840938276381332E-7,
           -1.6521020244067074E-7,
           -1.5967982658467192E-7,
           -7.719437147503597E-8,
           -4.710900536459901E-8,
           -6.51292711552322E-8,
           -4.407047741150144E-8,
           2.802156635737595E-8,
           1.8886444777961256E-8,
           1.702336787930999E-8,
           3.5853983997252794E-8,
           -4.3162734406927415E-8,
           -5.869676566589398E-8,
           -1.187499694784774E-7
          ],
          [
           1.8322738820927642E-10,
           2.938305878175715E-8,
           1.6957398941610345E-8,
           1.0341573265602755E-8,
           5.589768934522865E-8,
           3.5736924097730086E-8,
           3.831855033483806E-8,
           -8.047932509757282E-9,
           4.2673446999457774E-8,
           3.397078914276661E-8,
           -4.6760193936913476E-7,
           2.1058950804086984E-7,
           2.3722223731469062E-7,
           2.8050898665858473E-7,
           2.5491187761421025E-7,
           7.516871683090054E-7,
           -2.9822623294675315E-8,
           -2.6870184146925244E-8,
           -4.3802285295605676E-8,
           -7.724657347728642E-8,
           -1.2589057603816502E-7,
           -1.0505564168956143E-7,
           -9.202107993557843E-8,
           -8.317905106594615E-8,
           -7.692247688017085E-8,
           -9.887803792782534E-8,
           -6.911663691281915E-8,
           -8.576941336590055E-8,
           -5.671108105458937E-8,
           -3.6478521965218476E-8,
           -2.4702978729756877E-8,
           2.5269758174158996E-9,
           -1.9639956061536257E-8,
           -4.529905783120927E-8
          ],
          [
           2.7475661988373972E-8,
           2.3065617488484632E-8,
           2.2252543966274924E-8,
           2.2249855431734835E-8,
           5.113066452976591E-9,
           4.353734355850466E-8,
           4.4817772086925444E-8,
           1.1133680719161931E-8,
           -2.241733701898272E-8,
           -3.651474196008719E-8,
           -1.7341760830933198E-6,
           1.7601009471015605E-7,
           2.371645718159306E-7,
           2.3496434075970994E-7,
           1.6791843589956344E-7,
           4.4500294907806174E-8,
           -4.192279981216484E-8,
           -5.250954621487313E-8,
           -3.682390647305828E-8,
           -1.030197662769617E-7,
           -1.164922096703241E-7,
           -7.217423610454233E-8,
           -5.420157080650972E-8,
           -9.101798006308604E-8,
           -8.279862108010036E-8,
           -8.26786169776315E-8,
           -7.632009589577511E-8,
           -3.87819408985241E-8,
           -2.9776021761408277E-8,
           -1.0152513138292095E-7,
           -8.722540797120605E-8,
           -2.1597458388058072E-7,
           -1.881771527073279E-7,
           -3.2097776839670074E-7
          ],
          [
           1.689675114369063E-8,
           1.2978467380644977E-8,
           1.6613529805528112E-8,
           2.3683759234748817E-8,
           3.088518813087011E-8,
           2.7792504754161512E-8,
           -1.2753197806881308E-8,
           -2.2338363019588356E-8,
           -1.1820880403225208E-6,
           -1.2613258796236814E-6,
           -2.572649039475518E-6,
           -1.3315622828331368E-6,
           -2.2961997528280125E-7,
           1.6330886309178245E-7,
           1.2106250775615435E-7,
           5.0607873911943836E-8,
           3.9883935630693755E-9,
           -2.5131210654489252E-8,
           -4.897742348394217E-8,
           -7.670296161317284E-8,
           -8.322983489405596E-8,
           -2.1080085216527913E-7,
           -3.2873321618682283E-7,
           -1.0705179805521425E-7,
           -9.105365309243116E-8,
           -7.61241286404567E-8,
           -5.4118851554669406E-8,
           -5.420402479887318E-8,
           -2.8860104504334258E-8,
           8.3786302558346E-8,
           4.9316779710004096E-8,
           -1.0035804587064689E-8,
           -4.487318474253157E-8,
           -8.491758970884242E-8
          ],
          [
           2.930319503204119E-8,
           1.3886416178284085E-8,
           9.629031705255611E-9,
           3.0609207916979795E-9,
           8.091051948590862E-9,
           -3.851403572182314E-8,
           -2.054493087264759E-7,
           -5.958679138115287E-7,
           -1.5573762481136194E-6,
           -2.1800508976365607E-6,
           -1.9037968481515697E-6,
           -7.724797484132257E-7,
           -1.0844101183291361E-7,
           9.68681772395367E-8,
           1.1127776280020653E-7,
           5.178162770677447E-8,
           2.0197163118013968E-8,
           -3.1995887726935816E-8,
           -6.102853988233613E-8,
           -6.731661169830986E-8,
           -5.8059449382356084E-8,
           -3.5489349261681204E-8,
           -8.47764974423407E-9,
           -5.060366727058744E-8,
           -4.2960074058548015E-8,
           -5.6342601429919234E-8,
           -7.480151092998735E-9,
           4.9172394713498685E-8,
           1.3281649577670138E-7,
           3.788192587337975E-9,
           2.4992849463325804E-7,
           5.289571695979124E-8,
           -2.3401782175577225E-8,
           -7.547411574599463E-8
          ],
          [
           8.257738450852185E-9,
           2.3113838105077325E-8,
           1.2514486360263228E-8,
           -5.563646119899699E-9,
           2.1734748663380665E-8,
           -2.219363084776912E-8,
           -1.8477459868889474E-7,
           -4.047384312965814E-7,
           -9.947007647020628E-7,
           -1.1692375741280884E-6,
           -1.025981902396215E-6,
           -4.864129245243982E-7,
           -2.3644834183098093E-7,
           -1.7598197185095407E-7,
           1.4909410603977885E-7,
           1.377059203713652E-7,
           5.324477597561418E-8,
           -2.25485233523799E-9,
           -2.3516472627994676E-8,
           -2.98251836090836E-8,
           -5.403444083742536E-8,
           1.0665222916165634E-8,
           2.418789656600824E-8,
           4.055744465170848E-9,
           9.418336505360041E-8,
           9.658514068153588E-8,
           -3.441271542956676E-9,
           -2.1919816163745284E-8,
           -1.1125692806700343E-7,
           1.0444685270192996E-7,
           -9.644176768726897E-10,
           -2.5763719269243477E-9,
           -4.026119855197609E-8,
           -1.6022964666860833E-7
          ],
          [
           2.9955001568899895E-8,
           2.4737039318071887E-8,
           9.864060932851661E-9,
           1.3957175877872537E-8,
           1.230946887355369E-8,
           -3.40066218687529E-8,
           -1.53968868542001E-7,
           -2.86653596947659E-7,
           -5.445542026013601E-7,
           -4.2692692315713036E-7,
           -4.300318808665243E-7,
           -2.2717928211105596E-7,
           -2.590010056962205E-7,
           -1.2972735961442315E-7,
           -6.794324230041444E-8,
           -6.486963844078905E-8,
           5.198961747779006E-8,
           6.328971801227947E-8,
           2.7831074357709855E-8,
           -1.919737872982022E-8,
           2.6316107232580236E-8,
           2.4515844056362564E-8,
           9.675807162334048E-8,
           -2.3054276666373465E-7,
           -3.4899419343544896E-7,
           2.3412476570367765E-8,
           4.843675050608197E-9,
           2.4526388584515185E-9,
           -2.0373418911102768E-8,
           -1.0070639147164265E-7,
           -2.699388625266624E-7,
           -6.137604077704539E-8,
           -6.561499373238451E-8,
           -1.1997040484431973E-7
          ],
          [
           1.4509350761095312E-8,
           3.1971995938658E-8,
           1.3711697336459288E-8,
           1.9836614812173336E-8,
           2.4675451625525033E-8,
           -1.7839200341752545E-8,
           -9.899816889563157E-8,
           -1.8782980492803946E-7,
           -3.284356671087226E-7,
           -3.559458505487657E-7,
           -2.0309404348446298E-7,
           -3.2248161796664E-7,
           -5.172182226886031E-7,
           -4.5084398032199594E-7,
           2.9246678973621104E-7,
           1.4591846483123643E-7,
           2.5970861864172577E-7,
           1.2275713560146685E-7,
           7.661581289032636E-8,
           8.106209803804746E-8,
           1.1282939137423735E-7,
           7.46127024363291E-8,
           1.2691089169845546E-8,
           -2.8250768418489487E-8,
           -2.5543570563609727E-8,
           5.260216813556869E-8,
           2.9115865049841176E-8,
           2.4424653076198866E-8,
           -7.609665722492933E-8,
           -2.1754915186816036E-7,
           4.857471063620436E-9,
           -5.6691287613937636E-8,
           -6.856781735613812E-8,
           -1.3071792312512834E-7
          ],
          [
           1.681951936904857E-8,
           3.004964554578226E-8,
           1.6350849072831417E-8,
           1.956170289844078E-8,
           2.370925473281422E-8,
           -2.8805745718882097E-9,
           -4.414918672095204E-9,
           -5.541077834144902E-8,
           -4.8322340303096615E-8,
           -1.324869727054892E-7,
           -2.2242393767823603E-7,
           -3.897265385619463E-7,
           -4.0248821343558884E-7,
           -4.2696161753192605E-7,
           -8.94366267131629E-8,
           -4.744727350914942E-8,
           1.2805354161282836E-7,
           2.344966010816742E-7,
           1.3060738007584051E-8,
           3.44597232920814E-8,
           1.0807019363658477E-7,
           9.96854727475219E-8,
           4.8214200047418124E-8,
           3.541173721366025E-8,
           6.350356175658262E-8,
           4.5320044288537756E-8,
           8.942178846988449E-8,
           1.1988180381165022E-7,
           2.496537800500288E-7,
           2.0389112072068376E-7,
           2.4772835555087076E-7,
           1.8188653853444945E-7,
           5.7051077314628265E-8,
           -9.94589068679856E-8
          ],
          [
           -3.051600014819439E-10,
           3.179011837832899E-8,
           1.0852955288753046E-8,
           1.4871174255364215E-8,
           2.1635337395564724E-8,
           1.4126763595576086E-8,
           1.1466695596726179E-9,
           1.2912865220844986E-8,
           -2.788950218828912E-9,
           -9.407489682409622E-9,
           -7.083272980229512E-8,
           -1.4466200511390737E-7,
           -2.4945658989730586E-7,
           -2.931475060779127E-7,
           -2.4597500497139747E-7,
           -1.130883706188642E-7,
           -2.834227929322768E-8,
           5.70310761964807E-8,
           7.620996363175216E-8,
           7.43006011820013E-7,
           3.4615588322527256E-7,
           1.268444018428146E-7,
           4.5614555258170384E-8,
           5.351661629533424E-8,
           5.816138725551127E-9,
           2.3875338364934466E-8,
           2.706553353626013E-8,
           4.2841047276898265E-8,
           5.487096905304336E-8,
           1.831749873407993E-7,
           3.1600727882463947E-7,
           2.689107200996001E-7,
           1.035392921042959E-7,
           -5.545786833043145E-9
          ],
          [
           2.1069697802649975E-8,
           2.1770900695612803E-8,
           1.5334345757211937E-8,
           6.684113843875215E-9,
           1.940599616136116E-8,
           2.177362171192473E-8,
           1.568742067016604E-8,
           7.351014801077228E-9,
           1.5439346628737267E-9,
           -3.156635576733402E-11,
           -3.2026354361419554E-8,
           -9.147624493189121E-8,
           -2.1144158047354966E-7,
           -1.8317318015535472E-7,
           -1.379182160047619E-7,
           -4.254914273641133E-9,
           3.455035149895885E-7,
           7.344824826426691E-7,
           3.394268262378803E-7,
           1.1121260803462366E-7,
           6.335353390711722E-8,
           3.819443995003671E-8,
           1.0786895287354594E-8,
           4.538230129368212E-8,
           -3.733256018076892E-8,
           -2.7479896744712587E-8,
           -8.057163157053756E-8,
           -6.151576037544405E-8,
           -6.8045707915623475E-9,
           2.3728400831946975E-7,
           1.867078934423309E-6,
           1.126346327534623E-9,
           -3.73128336162583E-8,
           -1.519215007807916E-8
          ],
          [
           2.9523256832679095E-8,
           1.387515968879342E-8,
           2.5100728414200253E-8,
           9.902494128244221E-9,
           3.1813472393512396E-8,
           1.8066929059454046E-8,
           1.0978335409576168E-8,
           1.4370169353365403E-8,
           1.3618723799214897E-8,
           4.816604875757325E-9,
           -3.435461652741663E-8,
           -7.74169491550846E-8,
           -1.7043371575510084E-7,
           -1.7889371110592544E-7,
           -4.610841359077547E-8,
           1.0065313471029497E-7,
           -9.311730620512358E-8,
           3.0543923879153354E-8,
           1.1214568580662627E-6,
           5.78592342903936E-7,
           4.3860866914537084E-7,
           4.0831362249793424E-8,
           1.3188079932769967E-8,
           1.39132146522002E-8,
           -1.3066484617198878E-8,
           -8.078369762338126E-8,
           -1.4997993464433883E-7,
           3.350181588150055E-9,
           2.271035445364891E-8,
           3.281639688109766E-8,
           8.947118409333705E-8,
           3.6740023266913264E-8,
           -6.322385328419568E-9,
           2.2180427940280367E-8
          ],
          [
           2.2603123253667515E-8,
           6.317731267926387E-9,
           2.716714386912423E-8,
           2.3901810400346156E-8,
           2.9018653813038053E-8,
           2.5614821450844464E-8,
           1.9868150383375077E-8,
           1.1659840625606599E-8,
           5.606534921322767E-9,
           1.701589358240299E-8,
           -1.0964320285217574E-8,
           -3.442396649302653E-8,
           -4.106665145308624E-8,
           -1.0152740729260728E-7,
           -1.052729479069601E-9,
           2.9942159172166574E-7,
           5.024658811854127E-7,
           1.0848060768386437E-6,
           -4.629613215115364E-8,
           -1.0922029868848731E-7,
           -2.9903388334742376E-8,
           -3.059927496484919E-8,
           2.19962024204819E-9,
           4.01222253858781E-9,
           6.524273879143091E-10,
           -7.732218033764177E-8,
           -1.1162635205647569E-7,
           -1.0301147868201143E-7,
           -3.393166188503453E-8,
           9.419473894103312E-8,
           3.059159876414061E-7,
           1.4644217849120036E-8,
           -9.567720433140823E-9,
           -1.973187181483483E-9
          ],
          [
           2.2477683977389967E-8,
           1.2509511824918253E-8,
           2.167421892973232E-8,
           1.29374141980625E-8,
           1.4262891043126666E-8,
           1.2356793149756839E-8,
           1.4381500891782997E-8,
           3.064567988358728E-8,
           2.338840696211817E-8,
           1.9630303480148817E-8,
           4.389867835520773E-9,
           8.320501590521159E-9,
           6.80466420874102E-9,
           -2.537985934615966E-8,
           -2.5239939221103942E-8,
           -5.324670070362443E-8,
           -2.946787379241784E-8,
           -5.058782852518444E-8,
           -6.497934557401051E-8,
           -2.0452482057973765E-8,
           1.116481678252372E-8,
           5.643043135737789E-9,
           5.581388498854658E-9,
           5.31760542647729E-8,
           1.2776123728226448E-8,
           -2.8173771234885602E-8,
           -7.055460651477244E-8,
           -1.001149494425613E-7,
           -1.7152385548416088E-7,
           6.827725098482062E-7,
           -1.1492374426234695E-7,
           -7.957496839732677E-8,
           -7.312328654201017E-8,
           -3.0736807857169002E-12
          ],
          [
           7.933851376238834E-9,
           2.6980461949555164E-8,
           2.836074288061641E-8,
           1.7172995752098136E-8,
           2.8192880072410204E-8,
           2.5878440781417503E-8,
           1.3764384748462171E-8,
           1.8027632597570656E-8,
           1.9933079882833224E-8,
           2.7494606834854423E-8,
           2.036250873558162E-8,
           1.765629598013167E-8,
           -1.2110903996087636E-9,
           -1.726249571037511E-8,
           -3.901277297674724E-9,
           -2.0333115620417876E-8,
           1.485932133060465E-7,
           1.0470121710002914E-7,
           1.4048901900172363E-7,
           -3.2860148787604817E-8,
           -1.8287965605381272E-9,
           4.661290144301364E-8,
           1.748754178725983E-7,
           1.5311986178165575E-7,
           2.4531822853405997E-8,
           1.4654818283105812E-8,
           -6.124823693462955E-8,
           -1.1579993199639344E-7,
           -2.2966675446861203E-7,
           -5.090457884978044E-8,
           1.6203038863068385E-8,
           -3.7231305977961516E-8,
           -2.478914497928037E-8,
           -2.2275003069495163E-7
          ],
          [
           6.892734561662187E-11,
           1.0398120382768544E-8,
           1.4635334180248785E-8,
           3.077775882143575E-8,
           4.605945065482057E-9,
           2.8757518260876497E-8,
           2.081667149405477E-8,
           2.6476245320254347E-8,
           3.1276506678496476E-8,
           7.211146912216053E-9,
           8.143020061123711E-9,
           2.4816849299761292E-8,
           1.2146778409602748E-8,
           1.4283390707527618E-8,
           1.4450185652171405E-8,
           1.4813950187985702E-9,
           1.1286698066620366E-7,
           4.0576762098475346E-8,
           -1.1681227187477676E-7,
           -5.670652024897414E-8,
           -2.8582250801849653E-8,
           8.923321752038088E-8,
           2.0368891105118018E-7,
           2.397280312223972E-10,
           1.2355009117499342E-8,
           -6.297103650125693E-8,
           -4.079980064923291E-8,
           -3.881117671422218E-8,
           -9.135394052754791E-8,
           -2.3664270203824768E-7,
           -4.758904199238073E-8,
           -1.8896708384051938E-8,
           4.470871347691765E-8,
           6.173491273249661E-8
          ],
          [
           2.2165755482460834E-8,
           5.489581889775067E-9,
           6.63542748320075E-9,
           1.8767366820433455E-8,
           3.7965637486537154E-10,
           2.574860917918257E-8,
           1.4998918605126132E-8,
           3.638164985046782E-8,
           1.5938416781264727E-8,
           2.2490276339862825E-8,
           6.7206247843265724E-9,
           -1.73833142384675E-9,
           -4.677516543363166E-8,
           1.4686004253715446E-8,
           3.3206948954056945E-9,
           -2.767122545499828E-8,
           -5.252355164253976E-8,
           -7.477131891002772E-8,
           6.782816539572689E-8,
           7.816462425637634E-8,
           4.442143502310721E-8,
           7.314165898995861E-8,
           7.128608331740722E-8,
           2.0806155512868346E-8,
           -8.817665097943979E-9,
           -4.192331344801788E-8,
           -4.52430428569178E-8,
           6.41832864993429E-9,
           -5.844025365909412E-8,
           -1.4351776116595327E-7,
           -1.695335762652206E-8,
           -1.7434924536484455E-7,
           -1.5006242314590316E-7,
           -4.9205773872128066E-8
          ]
         ],
         "type": "heatmap",
         "xaxis": "x",
         "yaxis": "y",
         "hovertemplate": "x: %{x}<br>y: %{y}<br>color: %{z}<extra></extra>"
        }
       ],
       "layout": {
        "template": {
         "data": {
          "histogram2dcontour": [
           {
            "type": "histogram2dcontour",
            "colorbar": {
             "outlinewidth": 0,
             "ticks": ""
            },
            "colorscale": [
             [
              0.0,
              "#0d0887"
             ],
             [
              0.1111111111111111,
              "#46039f"
             ],
             [
              0.2222222222222222,
              "#7201a8"
             ],
             [
              0.3333333333333333,
              "#9c179e"
             ],
             [
              0.4444444444444444,
              "#bd3786"
             ],
             [
              0.5555555555555556,
              "#d8576b"
             ],
             [
              0.6666666666666666,
              "#ed7953"
             ],
             [
              0.7777777777777778,
              "#fb9f3a"
             ],
             [
              0.8888888888888888,
              "#fdca26"
             ],
             [
              1.0,
              "#f0f921"
             ]
            ]
           }
          ],
          "choropleth": [
           {
            "type": "choropleth",
            "colorbar": {
             "outlinewidth": 0,
             "ticks": ""
            }
           }
          ],
          "histogram2d": [
           {
            "type": "histogram2d",
            "colorbar": {
             "outlinewidth": 0,
             "ticks": ""
            },
            "colorscale": [
             [
              0.0,
              "#0d0887"
             ],
             [
              0.1111111111111111,
              "#46039f"
             ],
             [
              0.2222222222222222,
              "#7201a8"
             ],
             [
              0.3333333333333333,
              "#9c179e"
             ],
             [
              0.4444444444444444,
              "#bd3786"
             ],
             [
              0.5555555555555556,
              "#d8576b"
             ],
             [
              0.6666666666666666,
              "#ed7953"
             ],
             [
              0.7777777777777778,
              "#fb9f3a"
             ],
             [
              0.8888888888888888,
              "#fdca26"
             ],
             [
              1.0,
              "#f0f921"
             ]
            ]
           }
          ],
          "heatmap": [
           {
            "type": "heatmap",
            "colorbar": {
             "outlinewidth": 0,
             "ticks": ""
            },
            "colorscale": [
             [
              0.0,
              "#0d0887"
             ],
             [
              0.1111111111111111,
              "#46039f"
             ],
             [
              0.2222222222222222,
              "#7201a8"
             ],
             [
              0.3333333333333333,
              "#9c179e"
             ],
             [
              0.4444444444444444,
              "#bd3786"
             ],
             [
              0.5555555555555556,
              "#d8576b"
             ],
             [
              0.6666666666666666,
              "#ed7953"
             ],
             [
              0.7777777777777778,
              "#fb9f3a"
             ],
             [
              0.8888888888888888,
              "#fdca26"
             ],
             [
              1.0,
              "#f0f921"
             ]
            ]
           }
          ],
          "heatmapgl": [
           {
            "type": "heatmapgl",
            "colorbar": {
             "outlinewidth": 0,
             "ticks": ""
            },
            "colorscale": [
             [
              0.0,
              "#0d0887"
             ],
             [
              0.1111111111111111,
              "#46039f"
             ],
             [
              0.2222222222222222,
              "#7201a8"
             ],
             [
              0.3333333333333333,
              "#9c179e"
             ],
             [
              0.4444444444444444,
              "#bd3786"
             ],
             [
              0.5555555555555556,
              "#d8576b"
             ],
             [
              0.6666666666666666,
              "#ed7953"
             ],
             [
              0.7777777777777778,
              "#fb9f3a"
             ],
             [
              0.8888888888888888,
              "#fdca26"
             ],
             [
              1.0,
              "#f0f921"
             ]
            ]
           }
          ],
          "contourcarpet": [
           {
            "type": "contourcarpet",
            "colorbar": {
             "outlinewidth": 0,
             "ticks": ""
            }
           }
          ],
          "contour": [
           {
            "type": "contour",
            "colorbar": {
             "outlinewidth": 0,
             "ticks": ""
            },
            "colorscale": [
             [
              0.0,
              "#0d0887"
             ],
             [
              0.1111111111111111,
              "#46039f"
             ],
             [
              0.2222222222222222,
              "#7201a8"
             ],
             [
              0.3333333333333333,
              "#9c179e"
             ],
             [
              0.4444444444444444,
              "#bd3786"
             ],
             [
              0.5555555555555556,
              "#d8576b"
             ],
             [
              0.6666666666666666,
              "#ed7953"
             ],
             [
              0.7777777777777778,
              "#fb9f3a"
             ],
             [
              0.8888888888888888,
              "#fdca26"
             ],
             [
              1.0,
              "#f0f921"
             ]
            ]
           }
          ],
          "surface": [
           {
            "type": "surface",
            "colorbar": {
             "outlinewidth": 0,
             "ticks": ""
            },
            "colorscale": [
             [
              0.0,
              "#0d0887"
             ],
             [
              0.1111111111111111,
              "#46039f"
             ],
             [
              0.2222222222222222,
              "#7201a8"
             ],
             [
              0.3333333333333333,
              "#9c179e"
             ],
             [
              0.4444444444444444,
              "#bd3786"
             ],
             [
              0.5555555555555556,
              "#d8576b"
             ],
             [
              0.6666666666666666,
              "#ed7953"
             ],
             [
              0.7777777777777778,
              "#fb9f3a"
             ],
             [
              0.8888888888888888,
              "#fdca26"
             ],
             [
              1.0,
              "#f0f921"
             ]
            ]
           }
          ],
          "mesh3d": [
           {
            "type": "mesh3d",
            "colorbar": {
             "outlinewidth": 0,
             "ticks": ""
            }
           }
          ],
          "scatter": [
           {
            "marker": {
             "line": {
              "color": "#283442"
             }
            },
            "type": "scatter"
           }
          ],
          "parcoords": [
           {
            "type": "parcoords",
            "line": {
             "colorbar": {
              "outlinewidth": 0,
              "ticks": ""
             }
            }
           }
          ],
          "scatterpolargl": [
           {
            "type": "scatterpolargl",
            "marker": {
             "colorbar": {
              "outlinewidth": 0,
              "ticks": ""
             }
            }
           }
          ],
          "bar": [
           {
            "error_x": {
             "color": "#f2f5fa"
            },
            "error_y": {
             "color": "#f2f5fa"
            },
            "marker": {
             "line": {
              "color": "rgb(17,17,17)",
              "width": 0.5
             },
             "pattern": {
              "fillmode": "overlay",
              "size": 10,
              "solidity": 0.2
             }
            },
            "type": "bar"
           }
          ],
          "scattergeo": [
           {
            "type": "scattergeo",
            "marker": {
             "colorbar": {
              "outlinewidth": 0,
              "ticks": ""
             }
            }
           }
          ],
          "scatterpolar": [
           {
            "type": "scatterpolar",
            "marker": {
             "colorbar": {
              "outlinewidth": 0,
              "ticks": ""
             }
            }
           }
          ],
          "histogram": [
           {
            "marker": {
             "pattern": {
              "fillmode": "overlay",
              "size": 10,
              "solidity": 0.2
             }
            },
            "type": "histogram"
           }
          ],
          "scattergl": [
           {
            "marker": {
             "line": {
              "color": "#283442"
             }
            },
            "type": "scattergl"
           }
          ],
          "scatter3d": [
           {
            "type": "scatter3d",
            "line": {
             "colorbar": {
              "outlinewidth": 0,
              "ticks": ""
             }
            },
            "marker": {
             "colorbar": {
              "outlinewidth": 0,
              "ticks": ""
             }
            }
           }
          ],
          "scattermapbox": [
           {
            "type": "scattermapbox",
            "marker": {
             "colorbar": {
              "outlinewidth": 0,
              "ticks": ""
             }
            }
           }
          ],
          "scatterternary": [
           {
            "type": "scatterternary",
            "marker": {
             "colorbar": {
              "outlinewidth": 0,
              "ticks": ""
             }
            }
           }
          ],
          "scattercarpet": [
           {
            "type": "scattercarpet",
            "marker": {
             "colorbar": {
              "outlinewidth": 0,
              "ticks": ""
             }
            }
           }
          ],
          "carpet": [
           {
            "aaxis": {
             "endlinecolor": "#A2B1C6",
             "gridcolor": "#506784",
             "linecolor": "#506784",
             "minorgridcolor": "#506784",
             "startlinecolor": "#A2B1C6"
            },
            "baxis": {
             "endlinecolor": "#A2B1C6",
             "gridcolor": "#506784",
             "linecolor": "#506784",
             "minorgridcolor": "#506784",
             "startlinecolor": "#A2B1C6"
            },
            "type": "carpet"
           }
          ],
          "table": [
           {
            "cells": {
             "fill": {
              "color": "#506784"
             },
             "line": {
              "color": "rgb(17,17,17)"
             }
            },
            "header": {
             "fill": {
              "color": "#2a3f5f"
             },
             "line": {
              "color": "rgb(17,17,17)"
             }
            },
            "type": "table"
           }
          ],
          "barpolar": [
           {
            "marker": {
             "line": {
              "color": "rgb(17,17,17)",
              "width": 0.5
             },
             "pattern": {
              "fillmode": "overlay",
              "size": 10,
              "solidity": 0.2
             }
            },
            "type": "barpolar"
           }
          ],
          "pie": [
           {
            "automargin": true,
            "type": "pie"
           }
          ]
         },
         "layout": {
          "autotypenumbers": "strict",
          "colorway": [
           "#636efa",
           "#EF553B",
           "#00cc96",
           "#ab63fa",
           "#FFA15A",
           "#19d3f3",
           "#FF6692",
           "#B6E880",
           "#FF97FF",
           "#FECB52"
          ],
          "font": {
           "color": "#f2f5fa"
          },
          "hovermode": "closest",
          "hoverlabel": {
           "align": "left"
          },
          "paper_bgcolor": "rgb(17,17,17)",
          "plot_bgcolor": "rgb(17,17,17)",
          "polar": {
           "bgcolor": "rgb(17,17,17)",
           "angularaxis": {
            "gridcolor": "#506784",
            "linecolor": "#506784",
            "ticks": ""
           },
           "radialaxis": {
            "gridcolor": "#506784",
            "linecolor": "#506784",
            "ticks": ""
           }
          },
          "ternary": {
           "bgcolor": "rgb(17,17,17)",
           "aaxis": {
            "gridcolor": "#506784",
            "linecolor": "#506784",
            "ticks": ""
           },
           "baxis": {
            "gridcolor": "#506784",
            "linecolor": "#506784",
            "ticks": ""
           },
           "caxis": {
            "gridcolor": "#506784",
            "linecolor": "#506784",
            "ticks": ""
           }
          },
          "coloraxis": {
           "colorbar": {
            "outlinewidth": 0,
            "ticks": ""
           }
          },
          "colorscale": {
           "sequential": [
            [
             0.0,
             "#0d0887"
            ],
            [
             0.1111111111111111,
             "#46039f"
            ],
            [
             0.2222222222222222,
             "#7201a8"
            ],
            [
             0.3333333333333333,
             "#9c179e"
            ],
            [
             0.4444444444444444,
             "#bd3786"
            ],
            [
             0.5555555555555556,
             "#d8576b"
            ],
            [
             0.6666666666666666,
             "#ed7953"
            ],
            [
             0.7777777777777778,
             "#fb9f3a"
            ],
            [
             0.8888888888888888,
             "#fdca26"
            ],
            [
             1.0,
             "#f0f921"
            ]
           ],
           "sequentialminus": [
            [
             0.0,
             "#0d0887"
            ],
            [
             0.1111111111111111,
             "#46039f"
            ],
            [
             0.2222222222222222,
             "#7201a8"
            ],
            [
             0.3333333333333333,
             "#9c179e"
            ],
            [
             0.4444444444444444,
             "#bd3786"
            ],
            [
             0.5555555555555556,
             "#d8576b"
            ],
            [
             0.6666666666666666,
             "#ed7953"
            ],
            [
             0.7777777777777778,
             "#fb9f3a"
            ],
            [
             0.8888888888888888,
             "#fdca26"
            ],
            [
             1.0,
             "#f0f921"
            ]
           ],
           "diverging": [
            [
             0,
             "#8e0152"
            ],
            [
             0.1,
             "#c51b7d"
            ],
            [
             0.2,
             "#de77ae"
            ],
            [
             0.3,
             "#f1b6da"
            ],
            [
             0.4,
             "#fde0ef"
            ],
            [
             0.5,
             "#f7f7f7"
            ],
            [
             0.6,
             "#e6f5d0"
            ],
            [
             0.7,
             "#b8e186"
            ],
            [
             0.8,
             "#7fbc41"
            ],
            [
             0.9,
             "#4d9221"
            ],
            [
             1,
             "#276419"
            ]
           ]
          },
          "xaxis": {
           "gridcolor": "#283442",
           "linecolor": "#506784",
           "ticks": "",
           "title": {
            "standoff": 15
           },
           "zerolinecolor": "#283442",
           "automargin": true,
           "zerolinewidth": 2
          },
          "yaxis": {
           "gridcolor": "#283442",
           "linecolor": "#506784",
           "ticks": "",
           "title": {
            "standoff": 15
           },
           "zerolinecolor": "#283442",
           "automargin": true,
           "zerolinewidth": 2
          },
          "scene": {
           "xaxis": {
            "backgroundcolor": "rgb(17,17,17)",
            "gridcolor": "#506784",
            "linecolor": "#506784",
            "showbackground": true,
            "ticks": "",
            "zerolinecolor": "#C8D4E3",
            "gridwidth": 2
           },
           "yaxis": {
            "backgroundcolor": "rgb(17,17,17)",
            "gridcolor": "#506784",
            "linecolor": "#506784",
            "showbackground": true,
            "ticks": "",
            "zerolinecolor": "#C8D4E3",
            "gridwidth": 2
           },
           "zaxis": {
            "backgroundcolor": "rgb(17,17,17)",
            "gridcolor": "#506784",
            "linecolor": "#506784",
            "showbackground": true,
            "ticks": "",
            "zerolinecolor": "#C8D4E3",
            "gridwidth": 2
           }
          },
          "shapedefaults": {
           "line": {
            "color": "#f2f5fa"
           }
          },
          "annotationdefaults": {
           "arrowcolor": "#f2f5fa",
           "arrowhead": 0,
           "arrowwidth": 1
          },
          "geo": {
           "bgcolor": "rgb(17,17,17)",
           "landcolor": "rgb(17,17,17)",
           "subunitcolor": "#506784",
           "showland": true,
           "showlakes": true,
           "lakecolor": "rgb(17,17,17)"
          },
          "title": {
           "x": 0.05
          },
          "updatemenudefaults": {
           "bgcolor": "#506784",
           "borderwidth": 0
          },
          "sliderdefaults": {
           "bgcolor": "#C8D4E3",
           "borderwidth": 1,
           "bordercolor": "rgb(17,17,17)",
           "tickwidth": 0
          },
          "mapbox": {
           "style": "dark"
          }
         }
        },
        "xaxis": {
         "anchor": "y",
         "domain": [
          0.0,
          1.0
         ],
         "scaleanchor": "y",
         "constrain": "domain"
        },
        "yaxis": {
         "anchor": "x",
         "domain": [
          0.0,
          1.0
         ],
         "autorange": "reversed",
         "constrain": "domain"
        },
        "coloraxis": {
         "colorscale": [
          [
           0.0,
           "#0d0887"
          ],
          [
           0.1111111111111111,
           "#46039f"
          ],
          [
           0.2222222222222222,
           "#7201a8"
          ],
          [
           0.3333333333333333,
           "#9c179e"
          ],
          [
           0.4444444444444444,
           "#bd3786"
          ],
          [
           0.5555555555555556,
           "#d8576b"
          ],
          [
           0.6666666666666666,
           "#ed7953"
          ],
          [
           0.7777777777777778,
           "#fb9f3a"
          ],
          [
           0.8888888888888888,
           "#fdca26"
          ],
          [
           1.0,
           "#f0f921"
          ]
         ]
        },
        "margin": {
         "t": 60
        }
       },
       "config": {
        "plotlyServerURL": "https://plot.ly"
       }
      },
      "text/html": "<div>                            <div id=\"1ffd71ac-8290-46e6-b0d9-b868b825bd7f\" class=\"plotly-graph-div\" style=\"height:525px; width:100%;\"></div>            <script type=\"text/javascript\">                require([\"plotly\"], function(Plotly) {                    window.PLOTLYENV=window.PLOTLYENV || {};                                    if (document.getElementById(\"1ffd71ac-8290-46e6-b0d9-b868b825bd7f\")) {                    Plotly.newPlot(                        \"1ffd71ac-8290-46e6-b0d9-b868b825bd7f\",                        [{\"coloraxis\":\"coloraxis\",\"name\":\"0\",\"z\":[[1.7711556696235365e-08,1.6427381567111264e-08,-1.0157196860954597e-09,3.130435624708527e-08,2.0741103535893394e-08,1.4410747202048342e-08,1.4406141397604899e-08,-8.647452492769728e-08,-4.466440001380305e-07,5.628333420901437e-08,-1.613406475150246e-06,-1.2715428096547194e-06,2.3734847919428859e-07,5.247874199411086e-07,2.4048402932499405e-07,2.5872617948359445e-07,2.0950098798977025e-07,2.1898192492696214e-07,4.0597931005904193e-07,8.515525136732712e-07,7.849671080480932e-07,-6.109404973823614e-07,-1.7696686197909875e-07,8.476992975239125e-08,-1.6451686890396815e-08,-9.87342564898731e-08,-2.411702021438923e-08,3.653156348165921e-08,5.223136951958191e-08,6.799795236816579e-08,8.756498993570872e-09,4.0897367934139883e-08,-8.004599416974358e-09,3.937855089000676e-08],[3.231243742941507e-08,2.1844830346219437e-08,1.5381816228052146e-08,1.6436694079772314e-08,2.1933762139294214e-08,2.0023562975814778e-08,5.322560621834708e-09,-9.004856840385461e-08,-7.248749408463537e-08,2.7568406825590176e-07,2.9539969091854026e-07,7.322556867812867e-07,7.558995629837667e-07,3.3615021076433963e-07,3.188746013357569e-07,1.7827381866744108e-07,1.2177731186996404e-07,7.413827636320604e-08,1.2740585817668245e-07,2.436959043312289e-07,2.6135220018987285e-07,1.5293881536645545e-07,2.0057552908314258e-07,6.707793586175127e-08,-1.447620856507799e-07,-1.9543920252132215e-07,-1.222604809625281e-07,-5.4372669320123903e-08,-1.098873660118496e-08,6.448814421137996e-09,4.7220317884778615e-08,9.180544143142718e-10,-5.142164353189389e-09,-1.4750436419574015e-09],[2.5304080123583144e-08,1.570428082775959e-08,2.4108524123353926e-08,2.6072796025247143e-08,1.1452473955457425e-08,5.9019579012497915e-08,1.4744952807701269e-08,-7.323445905172521e-08,3.3225345893227424e-07,3.079445632078411e-07,3.071142965751944e-07,2.429619001695292e-07,5.792376150323452e-08,2.6558955821113987e-07,2.7447545252987853e-07,1.2756379686486034e-07,3.649713822691504e-08,1.695729855886917e-08,-4.157523631610591e-08,6.92697304958718e-08,1.2616324945812565e-07,8.970130304913551e-08,1.5109460427604109e-07,9.908619852862725e-08,-6.475089889318233e-08,-7.764981047757998e-08,-1.2187649464393496e-08,1.1584940768969406e-08,-5.371050973316522e-08,2.8781439574040825e-08,1.3694776323737386e-09,-9.279977279473345e-10,8.591026446289191e-08,7.240544071552418e-09],[1.6326629106053298e-08,2.1334149631194224e-08,1.7856939393612154e-08,1.700205681950418e-08,2.6290956036479955e-08,1.1206766667542848e-08,3.93609216132384e-08,6.434443811950183e-08,4.883358474603513e-07,4.3412863103615125e-07,2.922529172828865e-07,-1.1408197884431002e-08,-5.250538390374018e-07,3.198353009894132e-07,1.7240240521300435e-07,1.3654541936209414e-07,-4.6178939373722265e-09,-6.532428344654879e-08,-1.530893981906488e-07,-4.755103146081366e-08,-1.9387216471937734e-08,8.339309037596903e-09,1.300532117028415e-07,-3.619740200788314e-08,-9.873221706232809e-08,-1.2145619069579966e-07,-6.717911697341596e-08,-6.694034542164717e-08,2.74257785098958e-08,7.299059396713556e-08,3.7084758044876097e-08,-6.46102652026814e-08,-7.292751656977647e-08,-9.124038186451905e-08],[3.3614050290821366e-08,1.3685061206440946e-08,2.4831895344365017e-08,4.223176569270047e-08,2.683797995243116e-08,3.594129255542801e-08,1.950202313439697e-08,1.4706357434622622e-07,4.6120088904712613e-07,3.536544135305703e-07,3.346630012991192e-07,2.685189002932166e-07,-1.4651745895162435e-06,-3.6009692570346906e-08,2.339473012833933e-08,3.018765776642315e-07,1.788900217336339e-07,-7.969432507712868e-08,-1.285085341305411e-07,-8.848861444443793e-08,4.5024109270539714e-08,2.02254436575382e-07,1.756725714935928e-07,-6.793983276362062e-08,-1.336715356676273e-07,-1.5617852385925172e-07,-1.3257909890760766e-07,-1.4512361598818204e-07,-1.543562467270188e-07,-4.354756260570692e-07,-3.888293297651018e-07,-1.6569563912236467e-07,1.2647918179021257e-07,8.864213075056633e-08],[2.4778208242080185e-08,3.0353077649644494e-08,1.5916926436170903e-08,2.405009296730609e-08,1.962919389458788e-08,2.649624898530996e-08,1.744432329956209e-08,2.1932118671601992e-07,3.563394933782769e-07,2.0651907739467123e-07,6.484571349209852e-08,-1.9088554362031725e-08,-1.6374067416365372e-06,-1.0938118120566693e-07,5.7035349811942556e-09,7.898900113147372e-08,-9.654295451859759e-08,-6.529994004667348e-08,-1.5478869379403687e-07,-1.87041978818339e-07,-1.0624199305015718e-07,8.548900906015053e-08,5.89190039097068e-08,2.4934915277663524e-09,-5.2072793114707064e-08,-1.7440222230966782e-07,-1.0341031305244399e-07,-1.8952006805626263e-07,-2.2238614185147272e-07,-2.755014555103369e-07,-2.0313351567211316e-07,-1.9789097737935784e-07,2.425088517738853e-08,1.03719017801423e-07],[2.4038588244425888e-08,3.44744239524007e-08,2.2333498902874768e-08,1.1611220381439089e-08,3.1113614997357756e-08,3.000496005318914e-08,4.224345104471048e-08,1.7869884355495962e-07,3.4141939417283995e-07,2.0953728067890722e-07,9.041021196149836e-08,-2.279891791319574e-09,-3.338678617024211e-07,-1.5424238831773872e-07,-8.292448078915099e-08,-2.85600306923523e-08,-1.5565466517444136e-07,-1.6104161845826445e-07,-1.5940923490156048e-07,-1.754798497145528e-07,-1.6876614034346235e-07,-1.3233226421958114e-07,-2.9258482392919786e-07,-1.9692998644554622e-07,-1.5830552836914368e-07,-9.555531817568441e-08,-3.9582962555538233e-07,-3.0718892084970463e-07,-1.4951379943389086e-07,-1.922736528432446e-07,-1.9742221297483606e-07,-2.2259868799954517e-07,-1.6270481843731017e-07,-1.0859772034251412e-07],[1.4028076618227492e-08,1.8056488545553768e-08,1.5341823673717022e-08,2.5067308089944588e-09,3.1832086938135e-08,1.0070786085913286e-08,3.736135471864109e-08,2.3191010569256228e-07,2.2714899070818395e-07,1.1208175661247142e-07,1.0267041416180883e-07,1.2124773308149593e-08,-1.0060246211080955e-07,-2.2618172786047038e-07,9.803588390127546e-08,8.41794303316593e-08,-4.892400594205457e-08,-8.71300328948229e-08,-1.0436325365337621e-07,-2.0464178835854392e-07,-1.5112664158609298e-07,-1.0939487881905767e-07,-1.2382323381405442e-07,-1.1258925732170245e-07,-1.2610005175458613e-07,-9.201193154667686e-08,-3.3049661691877875e-08,-7.996596056039909e-08,-5.541823818391213e-08,-6.147391415653434e-08,-1.4762356495240592e-07,-2.5878535078930693e-07,-2.1448261186564027e-07,-2.136014688411112e-07],[2.412238039593476e-08,3.683889866119524e-08,2.249871893381741e-08,3.1881856017655853e-09,3.894651409917101e-08,4.768608017440011e-08,7.866373455396455e-08,3.515456315379199e-07,2.8046799914947566e-07,1.7066793146967648e-07,1.8900675180745037e-07,7.980081233791339e-08,-1.4230158692027708e-08,-1.0561979007002459e-07,1.6546776762288462e-07,2.0779774077197098e-07,2.712461719818321e-07,-2.2459944546161619e-07,-1.940632107914368e-07,-1.9218221840487165e-07,-1.3141815900395425e-07,-8.846450892749928e-08,-1.6081156504250245e-07,-1.2549328462645365e-07,-1.5731672742079008e-07,-1.0233553664079876e-07,-9.65165429192252e-08,-1.365338717451672e-07,-7.617007289146493e-08,-4.5110518305698735e-08,-8.531720947274748e-08,-1.3143490214676071e-07,-1.2922103963795972e-07,-1.2489747179030667e-07],[2.7759355902151113e-08,2.59158838021898e-08,3.105954047984713e-08,2.2267467526578493e-08,1.7147156925308554e-08,5.55386773069889e-08,1.2178540531892237e-07,2.3903242730302414e-07,1.4523599145468367e-07,1.053487569736115e-07,1.7964915150869682e-07,9.559100654412276e-08,2.244891845262136e-08,-7.176906069900514e-08,1.4472288829048278e-07,2.675965317690241e-07,3.2644867567721123e-07,1.1351516327451252e-07,-1.3917837027074786e-07,-6.201158073205067e-08,-9.935040540595147e-08,-1.324889256559717e-07,-9.064560565415863e-08,-1.140024275960969e-07,-1.1561873998207372e-07,-5.205365288302758e-08,-9.767648980798264e-08,-7.617485674988168e-08,5.121251928969386e-08,-6.961872633899223e-08,-5.5856609716238116e-08,8.989121430901768e-09,8.860540851844162e-09,2.9805568480415095e-08],[1.448304688913086e-08,2.133772323306413e-08,-3.8930837413691074e-08,1.3587116155059322e-08,5.3105701796463406e-08,6.901385379868912e-08,2.0717481736928688e-07,2.4348607432241363e-07,1.9142898648662277e-07,1.26050080922549e-07,1.1360664599793778e-07,7.273017293309799e-08,3.589144570339665e-08,-3.0313053335965815e-07,-8.971048281024369e-08,2.2597375127935925e-07,1.663028666776432e-07,5.3661315502608596e-08,-4.1958908039316995e-08,-9.783906799152148e-08,-1.25217963122322e-07,-1.6627639768895223e-07,-1.327493514047697e-07,-9.805118903435626e-08,-4.115252670409254e-08,-3.762088071269002e-08,-6.057690660960197e-08,-6.315346029824171e-08,-6.117940808992137e-08,-4.7131700084942137e-08,3.6720896622569397e-08,5.031526623936615e-08,8.360946270592054e-08,7.82638307481452e-08],[2.0725089747716148e-08,3.415561021752315e-08,-3.849743314548009e-09,-2.6451013010364633e-08,3.504833403502279e-08,9.591314796935846e-08,3.052667164689533e-07,2.661344551513855e-07,1.3688453804290438e-07,1.0126972015951883e-07,4.088865257120566e-08,2.1517990287196243e-08,-1.0749264548587343e-07,-9.537999290178768e-07,-2.612322501323947e-07,7.937178508959604e-08,5.1111031052848464e-08,-6.753526967399306e-08,-1.7038719798297928e-08,-4.028637425622945e-08,-5.067239365956655e-08,-1.6993729081951093e-07,-7.801037525529895e-08,-4.946013204097948e-08,-2.5178863424401024e-08,-7.221166457887817e-09,-2.3348522949908873e-08,-2.0220646906105795e-08,-1.6291789391749396e-08,-9.060529951080744e-09,6.233304241743991e-08,9.125385780158161e-08,1.3814208503241567e-07,1.0173872306527298e-07],[1.5075833534037884e-08,5.472264613170838e-09,8.020201608189832e-09,-4.438032093241904e-09,-5.454243866416356e-08,6.957988815661737e-08,5.111507087711822e-07,2.3461166481166446e-07,1.4515043656873873e-07,8.121608578845897e-08,3.759436796157063e-08,-3.795292950147416e-09,-7.110011707632702e-08,-3.926842095620438e-07,-9.027247347240077e-08,7.946618526539827e-08,4.581672915775024e-08,1.8276114911922124e-08,-1.7534661091196824e-08,-2.9472842727503358e-08,-7.535380257570288e-08,-1.0692571327703517e-07,-7.430955872579403e-08,-7.587617500508433e-08,1.2185218692172064e-08,3.165107816158885e-09,3.6866366939099187e-08,5.062582828482726e-08,3.767739712492835e-08,4.8672954360648636e-08,-6.961426807410918e-09,1.4949236967132633e-08,6.926673523270736e-08,8.227819576752282e-08],[2.0003907200352543e-08,1.4805604811258974e-08,-1.2319497536434395e-08,-7.031943804096806e-08,-7.040052465381331e-09,1.5229167202878075e-07,4.1353086290576523e-07,3.659388581116835e-07,1.5550755527072064e-07,5.992290360244144e-08,-7.027011741893571e-09,-5.850686023086157e-08,-6.379508912893185e-08,-3.448617691237741e-08,4.303998875196276e-08,9.461643298360008e-08,2.805861496552645e-08,-3.2290057464768786e-08,-6.508685924624625e-08,-6.80288662951636e-08,-7.879464200814647e-08,-2.8218874648519515e-07,-4.261262714242896e-08,-6.499627170948169e-08,7.57538464956779e-10,-3.323515359845843e-10,2.004730490329036e-08,6.967582698823326e-08,1.0997938932242839e-07,8.469325489409989e-08,1.1164407971694719e-08,5.9027673251567815e-08,4.5158735202778926e-08,7.394978095549531e-08],[1.2816510774298505e-08,5.098553699236363e-10,3.899853844992832e-09,-4.154308762323835e-09,7.59351227651292e-08,2.3723036886146525e-07,5.713278140635708e-07,3.6070025715080217e-07,1.296339177040288e-07,9.933021213974485e-08,3.224376768135246e-08,1.1505600479445844e-07,2.646001909769955e-10,8.315834881455375e-08,8.43725421825728e-08,1.1305629135634496e-07,5.982156032244262e-08,-3.763588579569842e-08,-7.883830037241661e-08,-5.565285458888447e-08,-2.6333440995581164e-07,-2.3684220252878604e-07,-2.0208083920429563e-07,-9.005122316635823e-08,1.3266177651559258e-08,2.651868014312256e-08,3.0570100740042363e-08,7.530191886229875e-08,7.739753061156336e-08,5.7026524182377574e-08,5.256513417818567e-08,3.7641621307840224e-08,9.72160033572524e-09,4.073813101449408e-08],[3.3890311622761087e-08,1.6656572781537995e-08,1.896341336864913e-08,7.537030399872083e-09,6.096714261118364e-08,3.677469292298498e-07,6.699990564149935e-07,4.436258367337191e-07,1.7357979316294594e-07,7.33596190262899e-08,7.315768425696946e-08,3.1481690411059515e-08,1.0763423992551207e-07,-3.009018499638451e-08,-5.441547825018352e-08,-2.420004189722911e-10,-1.3317054603961612e-07,-9.82961192571571e-08,-4.1045531758826975e-08,-6.698901478935387e-08,-1.2472859360485157e-07,-1.765361168629888e-07,-1.3863764011032394e-07,-1.6724955260481688e-08,-3.600197003982479e-08,-6.228194336316461e-10,7.704925510728112e-09,2.622411285461622e-08,3.007490291821927e-08,2.9787602426863843e-08,3.504223667341848e-08,1.1691755553972802e-08,2.5027303519109317e-08,3.570753689459476e-08],[3.386383481198881e-08,1.016294668815965e-08,3.2172938161572256e-08,5.837830609216368e-08,1.5098171798446171e-07,3.6287995285438076e-07,3.958136742534996e-07,2.162166985586546e-07,9.132812494840865e-08,1.4664642911321805e-07,1.2753120403705036e-07,1.1017874654505522e-07,1.2661216448728284e-07,1.0937582692429693e-07,6.358299686860287e-09,1.207609637685475e-07,8.113855897316888e-08,-2.3350096833672122e-08,-4.075326313379377e-08,-5.844397585085516e-08,-1.236111928825412e-07,-1.299202140275014e-07,-1.317850763644994e-07,-1.1185397798547078e-07,-8.011846532967619e-08,-1.1371617621516594e-08,-3.6474205679406625e-08,1.634113675281575e-09,3.671748141022446e-08,2.774409754746964e-08,5.974709558549055e-08,7.32166114615196e-08,2.7947733467723538e-08,5.4498573528906255e-08],[2.235423153456186e-08,1.0592465992652717e-08,3.469233101510671e-08,4.9014533451849665e-08,1.37996735140541e-07,1.747001973493263e-07,1.583308401062376e-07,1.3526177875232656e-07,7.231687747101368e-08,1.2782238641430268e-07,1.2102259151908433e-07,1.7573152580054825e-07,2.4050707484263124e-07,2.7309244543493103e-07,2.6505310578688164e-07,1.7108253209835307e-07,5.441354726573395e-09,-5.234834334863683e-08,-4.356631104795406e-08,-6.760626851971845e-08,-1.0840938276381332e-07,-1.6521020244067074e-07,-1.5967982658467192e-07,-7.719437147503597e-08,-4.710900536459901e-08,-6.51292711552322e-08,-4.407047741150144e-08,2.802156635737595e-08,1.8886444777961256e-08,1.702336787930999e-08,3.5853983997252794e-08,-4.3162734406927415e-08,-5.869676566589398e-08,-1.187499694784774e-07],[1.8322738820927642e-10,2.938305878175715e-08,1.6957398941610345e-08,1.0341573265602755e-08,5.589768934522865e-08,3.5736924097730086e-08,3.831855033483806e-08,-8.047932509757282e-09,4.2673446999457774e-08,3.397078914276661e-08,-4.6760193936913476e-07,2.1058950804086984e-07,2.3722223731469062e-07,2.8050898665858473e-07,2.5491187761421025e-07,7.516871683090054e-07,-2.9822623294675315e-08,-2.6870184146925244e-08,-4.3802285295605676e-08,-7.724657347728642e-08,-1.2589057603816502e-07,-1.0505564168956143e-07,-9.202107993557843e-08,-8.317905106594615e-08,-7.692247688017085e-08,-9.887803792782534e-08,-6.911663691281915e-08,-8.576941336590055e-08,-5.671108105458937e-08,-3.6478521965218476e-08,-2.4702978729756877e-08,2.5269758174158996e-09,-1.9639956061536257e-08,-4.529905783120927e-08],[2.7475661988373972e-08,2.3065617488484632e-08,2.2252543966274924e-08,2.2249855431734835e-08,5.113066452976591e-09,4.353734355850466e-08,4.4817772086925444e-08,1.1133680719161931e-08,-2.241733701898272e-08,-3.651474196008719e-08,-1.7341760830933198e-06,1.7601009471015605e-07,2.371645718159306e-07,2.3496434075970994e-07,1.6791843589956344e-07,4.4500294907806174e-08,-4.192279981216484e-08,-5.250954621487313e-08,-3.682390647305828e-08,-1.030197662769617e-07,-1.164922096703241e-07,-7.217423610454233e-08,-5.420157080650972e-08,-9.101798006308604e-08,-8.279862108010036e-08,-8.26786169776315e-08,-7.632009589577511e-08,-3.87819408985241e-08,-2.9776021761408277e-08,-1.0152513138292095e-07,-8.722540797120605e-08,-2.1597458388058072e-07,-1.881771527073279e-07,-3.2097776839670074e-07],[1.689675114369063e-08,1.2978467380644977e-08,1.6613529805528112e-08,2.3683759234748817e-08,3.088518813087011e-08,2.7792504754161512e-08,-1.2753197806881308e-08,-2.2338363019588356e-08,-1.1820880403225208e-06,-1.2613258796236814e-06,-2.572649039475518e-06,-1.3315622828331368e-06,-2.2961997528280125e-07,1.6330886309178245e-07,1.2106250775615435e-07,5.0607873911943836e-08,3.9883935630693755e-09,-2.5131210654489252e-08,-4.897742348394217e-08,-7.670296161317284e-08,-8.322983489405596e-08,-2.1080085216527913e-07,-3.2873321618682283e-07,-1.0705179805521425e-07,-9.105365309243116e-08,-7.61241286404567e-08,-5.4118851554669406e-08,-5.420402479887318e-08,-2.8860104504334258e-08,8.3786302558346e-08,4.9316779710004096e-08,-1.0035804587064689e-08,-4.487318474253157e-08,-8.491758970884242e-08],[2.930319503204119e-08,1.3886416178284085e-08,9.629031705255611e-09,3.0609207916979795e-09,8.091051948590862e-09,-3.851403572182314e-08,-2.054493087264759e-07,-5.958679138115287e-07,-1.5573762481136194e-06,-2.1800508976365607e-06,-1.9037968481515697e-06,-7.724797484132257e-07,-1.0844101183291361e-07,9.68681772395367e-08,1.1127776280020653e-07,5.178162770677447e-08,2.0197163118013968e-08,-3.1995887726935816e-08,-6.102853988233613e-08,-6.731661169830986e-08,-5.8059449382356084e-08,-3.5489349261681204e-08,-8.47764974423407e-09,-5.060366727058744e-08,-4.2960074058548015e-08,-5.6342601429919234e-08,-7.480151092998735e-09,4.9172394713498685e-08,1.3281649577670138e-07,3.788192587337975e-09,2.4992849463325804e-07,5.289571695979124e-08,-2.3401782175577225e-08,-7.547411574599463e-08],[8.257738450852185e-09,2.3113838105077325e-08,1.2514486360263228e-08,-5.563646119899699e-09,2.1734748663380665e-08,-2.219363084776912e-08,-1.8477459868889474e-07,-4.047384312965814e-07,-9.947007647020628e-07,-1.1692375741280884e-06,-1.025981902396215e-06,-4.864129245243982e-07,-2.3644834183098093e-07,-1.7598197185095407e-07,1.4909410603977885e-07,1.377059203713652e-07,5.324477597561418e-08,-2.25485233523799e-09,-2.3516472627994676e-08,-2.98251836090836e-08,-5.403444083742536e-08,1.0665222916165634e-08,2.418789656600824e-08,4.055744465170848e-09,9.418336505360041e-08,9.658514068153588e-08,-3.441271542956676e-09,-2.1919816163745284e-08,-1.1125692806700343e-07,1.0444685270192996e-07,-9.644176768726897e-10,-2.5763719269243477e-09,-4.026119855197609e-08,-1.6022964666860833e-07],[2.9955001568899895e-08,2.4737039318071887e-08,9.864060932851661e-09,1.3957175877872537e-08,1.230946887355369e-08,-3.40066218687529e-08,-1.53968868542001e-07,-2.86653596947659e-07,-5.445542026013601e-07,-4.2692692315713036e-07,-4.300318808665243e-07,-2.2717928211105596e-07,-2.590010056962205e-07,-1.2972735961442315e-07,-6.794324230041444e-08,-6.486963844078905e-08,5.198961747779006e-08,6.328971801227947e-08,2.7831074357709855e-08,-1.919737872982022e-08,2.6316107232580236e-08,2.4515844056362564e-08,9.675807162334048e-08,-2.3054276666373465e-07,-3.4899419343544896e-07,2.3412476570367765e-08,4.843675050608197e-09,2.4526388584515185e-09,-2.0373418911102768e-08,-1.0070639147164265e-07,-2.699388625266624e-07,-6.137604077704539e-08,-6.561499373238451e-08,-1.1997040484431973e-07],[1.4509350761095312e-08,3.1971995938658e-08,1.3711697336459288e-08,1.9836614812173336e-08,2.4675451625525033e-08,-1.7839200341752545e-08,-9.899816889563157e-08,-1.8782980492803946e-07,-3.284356671087226e-07,-3.559458505487657e-07,-2.0309404348446298e-07,-3.2248161796664e-07,-5.172182226886031e-07,-4.5084398032199594e-07,2.9246678973621104e-07,1.4591846483123643e-07,2.5970861864172577e-07,1.2275713560146685e-07,7.661581289032636e-08,8.106209803804746e-08,1.1282939137423735e-07,7.46127024363291e-08,1.2691089169845546e-08,-2.8250768418489487e-08,-2.5543570563609727e-08,5.260216813556869e-08,2.9115865049841176e-08,2.4424653076198866e-08,-7.609665722492933e-08,-2.1754915186816036e-07,4.857471063620436e-09,-5.6691287613937636e-08,-6.856781735613812e-08,-1.3071792312512834e-07],[1.681951936904857e-08,3.004964554578226e-08,1.6350849072831417e-08,1.956170289844078e-08,2.370925473281422e-08,-2.8805745718882097e-09,-4.414918672095204e-09,-5.541077834144902e-08,-4.8322340303096615e-08,-1.324869727054892e-07,-2.2242393767823603e-07,-3.897265385619463e-07,-4.0248821343558884e-07,-4.2696161753192605e-07,-8.94366267131629e-08,-4.744727350914942e-08,1.2805354161282836e-07,2.344966010816742e-07,1.3060738007584051e-08,3.44597232920814e-08,1.0807019363658477e-07,9.96854727475219e-08,4.8214200047418124e-08,3.541173721366025e-08,6.350356175658262e-08,4.5320044288537756e-08,8.942178846988449e-08,1.1988180381165022e-07,2.496537800500288e-07,2.0389112072068376e-07,2.4772835555087076e-07,1.8188653853444945e-07,5.7051077314628265e-08,-9.94589068679856e-08],[-3.051600014819439e-10,3.179011837832899e-08,1.0852955288753046e-08,1.4871174255364215e-08,2.1635337395564724e-08,1.4126763595576086e-08,1.1466695596726179e-09,1.2912865220844986e-08,-2.788950218828912e-09,-9.407489682409622e-09,-7.083272980229512e-08,-1.4466200511390737e-07,-2.4945658989730586e-07,-2.931475060779127e-07,-2.4597500497139747e-07,-1.130883706188642e-07,-2.834227929322768e-08,5.70310761964807e-08,7.620996363175216e-08,7.43006011820013e-07,3.4615588322527256e-07,1.268444018428146e-07,4.5614555258170384e-08,5.351661629533424e-08,5.816138725551127e-09,2.3875338364934466e-08,2.706553353626013e-08,4.2841047276898265e-08,5.487096905304336e-08,1.831749873407993e-07,3.1600727882463947e-07,2.689107200996001e-07,1.035392921042959e-07,-5.545786833043145e-09],[2.1069697802649975e-08,2.1770900695612803e-08,1.5334345757211937e-08,6.684113843875215e-09,1.940599616136116e-08,2.177362171192473e-08,1.568742067016604e-08,7.351014801077228e-09,1.5439346628737267e-09,-3.156635576733402e-11,-3.2026354361419554e-08,-9.147624493189121e-08,-2.1144158047354966e-07,-1.8317318015535472e-07,-1.379182160047619e-07,-4.254914273641133e-09,3.455035149895885e-07,7.344824826426691e-07,3.394268262378803e-07,1.1121260803462366e-07,6.335353390711722e-08,3.819443995003671e-08,1.0786895287354594e-08,4.538230129368212e-08,-3.733256018076892e-08,-2.7479896744712587e-08,-8.057163157053756e-08,-6.151576037544405e-08,-6.8045707915623475e-09,2.3728400831946975e-07,1.867078934423309e-06,1.126346327534623e-09,-3.73128336162583e-08,-1.519215007807916e-08],[2.9523256832679095e-08,1.387515968879342e-08,2.5100728414200253e-08,9.902494128244221e-09,3.1813472393512396e-08,1.8066929059454046e-08,1.0978335409576168e-08,1.4370169353365403e-08,1.3618723799214897e-08,4.816604875757325e-09,-3.435461652741663e-08,-7.74169491550846e-08,-1.7043371575510084e-07,-1.7889371110592544e-07,-4.610841359077547e-08,1.0065313471029497e-07,-9.311730620512358e-08,3.0543923879153354e-08,1.1214568580662627e-06,5.78592342903936e-07,4.3860866914537084e-07,4.0831362249793424e-08,1.3188079932769967e-08,1.39132146522002e-08,-1.3066484617198878e-08,-8.078369762338126e-08,-1.4997993464433883e-07,3.350181588150055e-09,2.271035445364891e-08,3.281639688109766e-08,8.947118409333705e-08,3.6740023266913264e-08,-6.322385328419568e-09,2.2180427940280367e-08],[2.2603123253667515e-08,6.317731267926387e-09,2.716714386912423e-08,2.3901810400346156e-08,2.9018653813038053e-08,2.5614821450844464e-08,1.9868150383375077e-08,1.1659840625606599e-08,5.606534921322767e-09,1.701589358240299e-08,-1.0964320285217574e-08,-3.442396649302653e-08,-4.106665145308624e-08,-1.0152740729260728e-07,-1.052729479069601e-09,2.9942159172166574e-07,5.024658811854127e-07,1.0848060768386437e-06,-4.629613215115364e-08,-1.0922029868848731e-07,-2.9903388334742376e-08,-3.059927496484919e-08,2.19962024204819e-09,4.01222253858781e-09,6.524273879143091e-10,-7.732218033764177e-08,-1.1162635205647569e-07,-1.0301147868201143e-07,-3.393166188503453e-08,9.419473894103312e-08,3.059159876414061e-07,1.4644217849120036e-08,-9.567720433140823e-09,-1.973187181483483e-09],[2.2477683977389967e-08,1.2509511824918253e-08,2.167421892973232e-08,1.29374141980625e-08,1.4262891043126666e-08,1.2356793149756839e-08,1.4381500891782997e-08,3.064567988358728e-08,2.338840696211817e-08,1.9630303480148817e-08,4.389867835520773e-09,8.320501590521159e-09,6.80466420874102e-09,-2.537985934615966e-08,-2.5239939221103942e-08,-5.324670070362443e-08,-2.946787379241784e-08,-5.058782852518444e-08,-6.497934557401051e-08,-2.0452482057973765e-08,1.116481678252372e-08,5.643043135737789e-09,5.581388498854658e-09,5.31760542647729e-08,1.2776123728226448e-08,-2.8173771234885602e-08,-7.055460651477244e-08,-1.001149494425613e-07,-1.7152385548416088e-07,6.827725098482062e-07,-1.1492374426234695e-07,-7.957496839732677e-08,-7.312328654201017e-08,-3.0736807857169002e-12],[7.933851376238834e-09,2.6980461949555164e-08,2.836074288061641e-08,1.7172995752098136e-08,2.8192880072410204e-08,2.5878440781417503e-08,1.3764384748462171e-08,1.8027632597570656e-08,1.9933079882833224e-08,2.7494606834854423e-08,2.036250873558162e-08,1.765629598013167e-08,-1.2110903996087636e-09,-1.726249571037511e-08,-3.901277297674724e-09,-2.0333115620417876e-08,1.485932133060465e-07,1.0470121710002914e-07,1.4048901900172363e-07,-3.2860148787604817e-08,-1.8287965605381272e-09,4.661290144301364e-08,1.748754178725983e-07,1.5311986178165575e-07,2.4531822853405997e-08,1.4654818283105812e-08,-6.124823693462955e-08,-1.1579993199639344e-07,-2.2966675446861203e-07,-5.090457884978044e-08,1.6203038863068385e-08,-3.7231305977961516e-08,-2.478914497928037e-08,-2.2275003069495163e-07],[6.892734561662187e-11,1.0398120382768544e-08,1.4635334180248785e-08,3.077775882143575e-08,4.605945065482057e-09,2.8757518260876497e-08,2.081667149405477e-08,2.6476245320254347e-08,3.1276506678496476e-08,7.211146912216053e-09,8.143020061123711e-09,2.4816849299761292e-08,1.2146778409602748e-08,1.4283390707527618e-08,1.4450185652171405e-08,1.4813950187985702e-09,1.1286698066620366e-07,4.0576762098475346e-08,-1.1681227187477676e-07,-5.670652024897414e-08,-2.8582250801849653e-08,8.923321752038088e-08,2.0368891105118018e-07,2.397280312223972e-10,1.2355009117499342e-08,-6.297103650125693e-08,-4.079980064923291e-08,-3.881117671422218e-08,-9.135394052754791e-08,-2.3664270203824768e-07,-4.758904199238073e-08,-1.8896708384051938e-08,4.470871347691765e-08,6.173491273249661e-08],[2.2165755482460834e-08,5.489581889775067e-09,6.63542748320075e-09,1.8767366820433455e-08,3.7965637486537154e-10,2.574860917918257e-08,1.4998918605126132e-08,3.638164985046782e-08,1.5938416781264727e-08,2.2490276339862825e-08,6.7206247843265724e-09,-1.73833142384675e-09,-4.677516543363166e-08,1.4686004253715446e-08,3.3206948954056945e-09,-2.767122545499828e-08,-5.252355164253976e-08,-7.477131891002772e-08,6.782816539572689e-08,7.816462425637634e-08,4.442143502310721e-08,7.314165898995861e-08,7.128608331740722e-08,2.0806155512868346e-08,-8.817665097943979e-09,-4.192331344801788e-08,-4.52430428569178e-08,6.41832864993429e-09,-5.844025365909412e-08,-1.4351776116595327e-07,-1.695335762652206e-08,-1.7434924536484455e-07,-1.5006242314590316e-07,-4.9205773872128066e-08]],\"type\":\"heatmap\",\"xaxis\":\"x\",\"yaxis\":\"y\",\"hovertemplate\":\"x: %{x}\\u003cbr\\u003ey: %{y}\\u003cbr\\u003ecolor: %{z}\\u003cextra\\u003e\\u003c\\u002fextra\\u003e\"}],                        {\"template\":{\"data\":{\"histogram2dcontour\":[{\"type\":\"histogram2dcontour\",\"colorbar\":{\"outlinewidth\":0,\"ticks\":\"\"},\"colorscale\":[[0.0,\"#0d0887\"],[0.1111111111111111,\"#46039f\"],[0.2222222222222222,\"#7201a8\"],[0.3333333333333333,\"#9c179e\"],[0.4444444444444444,\"#bd3786\"],[0.5555555555555556,\"#d8576b\"],[0.6666666666666666,\"#ed7953\"],[0.7777777777777778,\"#fb9f3a\"],[0.8888888888888888,\"#fdca26\"],[1.0,\"#f0f921\"]]}],\"choropleth\":[{\"type\":\"choropleth\",\"colorbar\":{\"outlinewidth\":0,\"ticks\":\"\"}}],\"histogram2d\":[{\"type\":\"histogram2d\",\"colorbar\":{\"outlinewidth\":0,\"ticks\":\"\"},\"colorscale\":[[0.0,\"#0d0887\"],[0.1111111111111111,\"#46039f\"],[0.2222222222222222,\"#7201a8\"],[0.3333333333333333,\"#9c179e\"],[0.4444444444444444,\"#bd3786\"],[0.5555555555555556,\"#d8576b\"],[0.6666666666666666,\"#ed7953\"],[0.7777777777777778,\"#fb9f3a\"],[0.8888888888888888,\"#fdca26\"],[1.0,\"#f0f921\"]]}],\"heatmap\":[{\"type\":\"heatmap\",\"colorbar\":{\"outlinewidth\":0,\"ticks\":\"\"},\"colorscale\":[[0.0,\"#0d0887\"],[0.1111111111111111,\"#46039f\"],[0.2222222222222222,\"#7201a8\"],[0.3333333333333333,\"#9c179e\"],[0.4444444444444444,\"#bd3786\"],[0.5555555555555556,\"#d8576b\"],[0.6666666666666666,\"#ed7953\"],[0.7777777777777778,\"#fb9f3a\"],[0.8888888888888888,\"#fdca26\"],[1.0,\"#f0f921\"]]}],\"heatmapgl\":[{\"type\":\"heatmapgl\",\"colorbar\":{\"outlinewidth\":0,\"ticks\":\"\"},\"colorscale\":[[0.0,\"#0d0887\"],[0.1111111111111111,\"#46039f\"],[0.2222222222222222,\"#7201a8\"],[0.3333333333333333,\"#9c179e\"],[0.4444444444444444,\"#bd3786\"],[0.5555555555555556,\"#d8576b\"],[0.6666666666666666,\"#ed7953\"],[0.7777777777777778,\"#fb9f3a\"],[0.8888888888888888,\"#fdca26\"],[1.0,\"#f0f921\"]]}],\"contourcarpet\":[{\"type\":\"contourcarpet\",\"colorbar\":{\"outlinewidth\":0,\"ticks\":\"\"}}],\"contour\":[{\"type\":\"contour\",\"colorbar\":{\"outlinewidth\":0,\"ticks\":\"\"},\"colorscale\":[[0.0,\"#0d0887\"],[0.1111111111111111,\"#46039f\"],[0.2222222222222222,\"#7201a8\"],[0.3333333333333333,\"#9c179e\"],[0.4444444444444444,\"#bd3786\"],[0.5555555555555556,\"#d8576b\"],[0.6666666666666666,\"#ed7953\"],[0.7777777777777778,\"#fb9f3a\"],[0.8888888888888888,\"#fdca26\"],[1.0,\"#f0f921\"]]}],\"surface\":[{\"type\":\"surface\",\"colorbar\":{\"outlinewidth\":0,\"ticks\":\"\"},\"colorscale\":[[0.0,\"#0d0887\"],[0.1111111111111111,\"#46039f\"],[0.2222222222222222,\"#7201a8\"],[0.3333333333333333,\"#9c179e\"],[0.4444444444444444,\"#bd3786\"],[0.5555555555555556,\"#d8576b\"],[0.6666666666666666,\"#ed7953\"],[0.7777777777777778,\"#fb9f3a\"],[0.8888888888888888,\"#fdca26\"],[1.0,\"#f0f921\"]]}],\"mesh3d\":[{\"type\":\"mesh3d\",\"colorbar\":{\"outlinewidth\":0,\"ticks\":\"\"}}],\"scatter\":[{\"marker\":{\"line\":{\"color\":\"#283442\"}},\"type\":\"scatter\"}],\"parcoords\":[{\"type\":\"parcoords\",\"line\":{\"colorbar\":{\"outlinewidth\":0,\"ticks\":\"\"}}}],\"scatterpolargl\":[{\"type\":\"scatterpolargl\",\"marker\":{\"colorbar\":{\"outlinewidth\":0,\"ticks\":\"\"}}}],\"bar\":[{\"error_x\":{\"color\":\"#f2f5fa\"},\"error_y\":{\"color\":\"#f2f5fa\"},\"marker\":{\"line\":{\"color\":\"rgb(17,17,17)\",\"width\":0.5},\"pattern\":{\"fillmode\":\"overlay\",\"size\":10,\"solidity\":0.2}},\"type\":\"bar\"}],\"scattergeo\":[{\"type\":\"scattergeo\",\"marker\":{\"colorbar\":{\"outlinewidth\":0,\"ticks\":\"\"}}}],\"scatterpolar\":[{\"type\":\"scatterpolar\",\"marker\":{\"colorbar\":{\"outlinewidth\":0,\"ticks\":\"\"}}}],\"histogram\":[{\"marker\":{\"pattern\":{\"fillmode\":\"overlay\",\"size\":10,\"solidity\":0.2}},\"type\":\"histogram\"}],\"scattergl\":[{\"marker\":{\"line\":{\"color\":\"#283442\"}},\"type\":\"scattergl\"}],\"scatter3d\":[{\"type\":\"scatter3d\",\"line\":{\"colorbar\":{\"outlinewidth\":0,\"ticks\":\"\"}},\"marker\":{\"colorbar\":{\"outlinewidth\":0,\"ticks\":\"\"}}}],\"scattermapbox\":[{\"type\":\"scattermapbox\",\"marker\":{\"colorbar\":{\"outlinewidth\":0,\"ticks\":\"\"}}}],\"scatterternary\":[{\"type\":\"scatterternary\",\"marker\":{\"colorbar\":{\"outlinewidth\":0,\"ticks\":\"\"}}}],\"scattercarpet\":[{\"type\":\"scattercarpet\",\"marker\":{\"colorbar\":{\"outlinewidth\":0,\"ticks\":\"\"}}}],\"carpet\":[{\"aaxis\":{\"endlinecolor\":\"#A2B1C6\",\"gridcolor\":\"#506784\",\"linecolor\":\"#506784\",\"minorgridcolor\":\"#506784\",\"startlinecolor\":\"#A2B1C6\"},\"baxis\":{\"endlinecolor\":\"#A2B1C6\",\"gridcolor\":\"#506784\",\"linecolor\":\"#506784\",\"minorgridcolor\":\"#506784\",\"startlinecolor\":\"#A2B1C6\"},\"type\":\"carpet\"}],\"table\":[{\"cells\":{\"fill\":{\"color\":\"#506784\"},\"line\":{\"color\":\"rgb(17,17,17)\"}},\"header\":{\"fill\":{\"color\":\"#2a3f5f\"},\"line\":{\"color\":\"rgb(17,17,17)\"}},\"type\":\"table\"}],\"barpolar\":[{\"marker\":{\"line\":{\"color\":\"rgb(17,17,17)\",\"width\":0.5},\"pattern\":{\"fillmode\":\"overlay\",\"size\":10,\"solidity\":0.2}},\"type\":\"barpolar\"}],\"pie\":[{\"automargin\":true,\"type\":\"pie\"}]},\"layout\":{\"autotypenumbers\":\"strict\",\"colorway\":[\"#636efa\",\"#EF553B\",\"#00cc96\",\"#ab63fa\",\"#FFA15A\",\"#19d3f3\",\"#FF6692\",\"#B6E880\",\"#FF97FF\",\"#FECB52\"],\"font\":{\"color\":\"#f2f5fa\"},\"hovermode\":\"closest\",\"hoverlabel\":{\"align\":\"left\"},\"paper_bgcolor\":\"rgb(17,17,17)\",\"plot_bgcolor\":\"rgb(17,17,17)\",\"polar\":{\"bgcolor\":\"rgb(17,17,17)\",\"angularaxis\":{\"gridcolor\":\"#506784\",\"linecolor\":\"#506784\",\"ticks\":\"\"},\"radialaxis\":{\"gridcolor\":\"#506784\",\"linecolor\":\"#506784\",\"ticks\":\"\"}},\"ternary\":{\"bgcolor\":\"rgb(17,17,17)\",\"aaxis\":{\"gridcolor\":\"#506784\",\"linecolor\":\"#506784\",\"ticks\":\"\"},\"baxis\":{\"gridcolor\":\"#506784\",\"linecolor\":\"#506784\",\"ticks\":\"\"},\"caxis\":{\"gridcolor\":\"#506784\",\"linecolor\":\"#506784\",\"ticks\":\"\"}},\"coloraxis\":{\"colorbar\":{\"outlinewidth\":0,\"ticks\":\"\"}},\"colorscale\":{\"sequential\":[[0.0,\"#0d0887\"],[0.1111111111111111,\"#46039f\"],[0.2222222222222222,\"#7201a8\"],[0.3333333333333333,\"#9c179e\"],[0.4444444444444444,\"#bd3786\"],[0.5555555555555556,\"#d8576b\"],[0.6666666666666666,\"#ed7953\"],[0.7777777777777778,\"#fb9f3a\"],[0.8888888888888888,\"#fdca26\"],[1.0,\"#f0f921\"]],\"sequentialminus\":[[0.0,\"#0d0887\"],[0.1111111111111111,\"#46039f\"],[0.2222222222222222,\"#7201a8\"],[0.3333333333333333,\"#9c179e\"],[0.4444444444444444,\"#bd3786\"],[0.5555555555555556,\"#d8576b\"],[0.6666666666666666,\"#ed7953\"],[0.7777777777777778,\"#fb9f3a\"],[0.8888888888888888,\"#fdca26\"],[1.0,\"#f0f921\"]],\"diverging\":[[0,\"#8e0152\"],[0.1,\"#c51b7d\"],[0.2,\"#de77ae\"],[0.3,\"#f1b6da\"],[0.4,\"#fde0ef\"],[0.5,\"#f7f7f7\"],[0.6,\"#e6f5d0\"],[0.7,\"#b8e186\"],[0.8,\"#7fbc41\"],[0.9,\"#4d9221\"],[1,\"#276419\"]]},\"xaxis\":{\"gridcolor\":\"#283442\",\"linecolor\":\"#506784\",\"ticks\":\"\",\"title\":{\"standoff\":15},\"zerolinecolor\":\"#283442\",\"automargin\":true,\"zerolinewidth\":2},\"yaxis\":{\"gridcolor\":\"#283442\",\"linecolor\":\"#506784\",\"ticks\":\"\",\"title\":{\"standoff\":15},\"zerolinecolor\":\"#283442\",\"automargin\":true,\"zerolinewidth\":2},\"scene\":{\"xaxis\":{\"backgroundcolor\":\"rgb(17,17,17)\",\"gridcolor\":\"#506784\",\"linecolor\":\"#506784\",\"showbackground\":true,\"ticks\":\"\",\"zerolinecolor\":\"#C8D4E3\",\"gridwidth\":2},\"yaxis\":{\"backgroundcolor\":\"rgb(17,17,17)\",\"gridcolor\":\"#506784\",\"linecolor\":\"#506784\",\"showbackground\":true,\"ticks\":\"\",\"zerolinecolor\":\"#C8D4E3\",\"gridwidth\":2},\"zaxis\":{\"backgroundcolor\":\"rgb(17,17,17)\",\"gridcolor\":\"#506784\",\"linecolor\":\"#506784\",\"showbackground\":true,\"ticks\":\"\",\"zerolinecolor\":\"#C8D4E3\",\"gridwidth\":2}},\"shapedefaults\":{\"line\":{\"color\":\"#f2f5fa\"}},\"annotationdefaults\":{\"arrowcolor\":\"#f2f5fa\",\"arrowhead\":0,\"arrowwidth\":1},\"geo\":{\"bgcolor\":\"rgb(17,17,17)\",\"landcolor\":\"rgb(17,17,17)\",\"subunitcolor\":\"#506784\",\"showland\":true,\"showlakes\":true,\"lakecolor\":\"rgb(17,17,17)\"},\"title\":{\"x\":0.05},\"updatemenudefaults\":{\"bgcolor\":\"#506784\",\"borderwidth\":0},\"sliderdefaults\":{\"bgcolor\":\"#C8D4E3\",\"borderwidth\":1,\"bordercolor\":\"rgb(17,17,17)\",\"tickwidth\":0},\"mapbox\":{\"style\":\"dark\"}}},\"xaxis\":{\"anchor\":\"y\",\"domain\":[0.0,1.0],\"scaleanchor\":\"y\",\"constrain\":\"domain\"},\"yaxis\":{\"anchor\":\"x\",\"domain\":[0.0,1.0],\"autorange\":\"reversed\",\"constrain\":\"domain\"},\"coloraxis\":{\"colorscale\":[[0.0,\"#0d0887\"],[0.1111111111111111,\"#46039f\"],[0.2222222222222222,\"#7201a8\"],[0.3333333333333333,\"#9c179e\"],[0.4444444444444444,\"#bd3786\"],[0.5555555555555556,\"#d8576b\"],[0.6666666666666666,\"#ed7953\"],[0.7777777777777778,\"#fb9f3a\"],[0.8888888888888888,\"#fdca26\"],[1.0,\"#f0f921\"]]},\"margin\":{\"t\":60}},                        {\"responsive\": true}                    ).then(function(){\n                            \nvar gd = document.getElementById('1ffd71ac-8290-46e6-b0d9-b868b825bd7f');\nvar x = new MutationObserver(function (mutations, observer) {{\n        var display = window.getComputedStyle(gd).display;\n        if (!display || display === 'none') {{\n            console.log([gd, 'removed!']);\n            Plotly.purge(gd);\n            observer.disconnect();\n        }}\n}});\n\n// Listen for the removal of the full notebook cells\nvar notebookContainer = gd.closest('#notebook-container');\nif (notebookContainer) {{\n    x.observe(notebookContainer, {childList: true});\n}}\n\n// Listen for the clearing of the current output cell\nvar outputEl = gd.closest('.output');\nif (outputEl) {{\n    x.observe(outputEl, {childList: true});\n}}\n\n                        })                };                });            </script>        </div>"
     },
     "metadata": {},
     "output_type": "display_data"
    }
   ],
   "source": [
    "refit_matrix = np.array([\n",
    "    [1, 0, 0, 0, 0, 0, 0],\n",
    "    [-.0, 1, 0, -17/50 + .15, -.3, .25, 0],\n",
    "    [.05, 0, 1, .1, -.34, 0, 0],\n",
    "    [0, 0, 0, 1, 0, 0, 0],\n",
    "    [0, 0, 0, 0, 1, 0, 0],\n",
    "    [0, 0, 0, 0, 0, 1, 0],\n",
    "    [0, 0, 0, 0, 0, 0, 1],\n",
    "])\n",
    "\n",
    "refit_matrix2 = np.array([\n",
    "    [1, 0, 0, 0, 0, 0, 0],\n",
    "    [0, 1, 0, 0, 0, 0, 0],\n",
    "    [0, 0, 1, 0, 0, 0, 0],\n",
    "    [0, 0, 0, 1, 0, 0, 0],\n",
    "    [0, 0, 0, 0, 1, 0, 0],\n",
    "    [0, -1.8, 0, 0, 0, 1, 0],\n",
    "    [0, -2, 0, -.05, -.22, 0, 1],\n",
    "])\n",
    "\n",
    "tmp = np.dot(np.linalg.inv(t_matrix), np.dot(refit_matrix2.T, refit_matrix.T))\n",
    "\n",
    "new_base_vectors = np.dot(map_a.base_vectors[:7].T, tmp).T\n",
    "new_vectors = np.dot(tmp, map_a.vectors[:7])\n",
    "\n",
    "px.line(x = map_a.raman_shift, y = new_base_vectors[0]).show()\n",
    "# px.imshow(np.reshape(new_vectors[0], map_a.shape)).show()\n",
    "px.line(x = map_a.raman_shift, y = new_base_vectors[1]).show()\n",
    "# px.imshow(np.reshape(new_vectors[1], map_a.shape)).show()\n",
    "px.line(x = map_a.raman_shift, y = new_base_vectors[2]).show()\n",
    "# px.imshow(np.reshape(new_vectors[2], map_a.shape)).show()\n",
    "px.line(x = map_a.raman_shift, y = new_base_vectors[3]).show()\n",
    "# px.imshow(np.reshape(new_vectors[3], map_a.shape)).show()\n",
    "px.line(x = map_a.raman_shift, y = new_base_vectors[4]).show()\n",
    "# px.imshow(np.reshape(new_vectors[4], map_a.shape)).show()\n",
    "px.line(x = map_a.raman_shift, y = new_base_vectors[5]).show()\n",
    "px.imshow(np.reshape(new_vectors[5], map_a.shape)).show()\n",
    "px.line(x = map_a.raman_shift, y = new_base_vectors[6]).show()\n",
    "px.imshow(np.reshape(new_vectors[6], map_a.shape)).show()\n"
   ],
   "metadata": {
    "collapsed": false,
    "ExecuteTime": {
     "end_time": "2024-04-15T23:15:36.303095Z",
     "start_time": "2024-04-15T23:15:36.039853Z"
    }
   },
   "id": "43615d5a6be9d2c9",
   "execution_count": 74
  },
  {
   "cell_type": "code",
   "outputs": [],
   "source": [
    "map_a.plotSpectrum(map_a.posToId(11, 10))"
   ],
   "metadata": {
    "collapsed": false
   },
   "id": "6ca043ac59622001",
   "execution_count": null
  }
 ],
 "metadata": {
  "kernelspec": {
   "display_name": "Python 3",
   "language": "python",
   "name": "python3"
  },
  "language_info": {
   "codemirror_mode": {
    "name": "ipython",
    "version": 2
   },
   "file_extension": ".py",
   "mimetype": "text/x-python",
   "name": "python",
   "nbconvert_exporter": "python",
   "pygments_lexer": "ipython2",
   "version": "2.7.6"
  }
 },
 "nbformat": 4,
 "nbformat_minor": 5
}
