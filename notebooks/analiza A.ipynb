{
 "cells": [
  {
   "cell_type": "code",
   "execution_count": 2,
   "id": "initial_id",
   "metadata": {
    "collapsed": true,
    "ExecuteTime": {
     "end_time": "2024-04-15T20:37:07.672579Z",
     "start_time": "2024-04-15T20:37:04.290491Z"
    }
   },
   "outputs": [],
   "source": [
    "import numpy as np\n",
    "from numpy.linalg import eigh, eig\n",
    "import pandas as pd\n",
    "import plotly.express as px\n",
    "from plotly import graph_objects as go\n",
    "from scipy.optimize import curve_fit"
   ]
  },
  {
   "cell_type": "code",
   "outputs": [],
   "source": [
    "def lorentz(X, mean, sigma, scale, offset):\n",
    "    return scale/(np.pi * sigma * (1 + ((X - mean)/sigma)**2)) + offset\n",
    "\n",
    "def lorentz_diff1(X, mean, sigma, scale, offset):\n",
    "    return -(2 * sigma * (-mean + X)) / (np.pi * (mean**2 + sigma**2 - 2*mean*X + np.power(X, 2))**2) * scale + offset\n",
    "\n",
    "def lorentz_diff2(X, mean, sigma, scale, offset):\n",
    "    return -(2 * sigma * (sigma**2 - 3 * np.power(mean - X, 2))) / (np.pi * np.power(sigma**2 + np.power(mean - X, 2), 3)) * scale + offset\n",
    "\n",
    "def lorentz_spread(X, mean, sigma, scale, offset):\n",
    "    return (mean**2 - 2 * mean * X + np.power(X, 2) - sigma**2)/(np.pi * (mean**2 - 2 * mean * X + np.power(X, 2) + sigma**2)**2) * scale + offset\n",
    "\n",
    "def line(X, offset):\n",
    "    return np.ones(len(X)) * offset\n",
    "\n",
    "# def both_lorentz(X, mean1, sigma1, scale1, offset1, mean2, sigma2, scale2, offset2):\n",
    "#     return lorentz(X, mean1, sigma1, scale1, offset1) + lorentz_shift(X, mean2, sigma2, scale2, offset2)\n",
    "\n",
    "class Map:\n",
    "    def __init__(self, src, x, y, **kwargs):\n",
    "        raw_data = np.loadtxt(src, delimiter='\\t')\n",
    "        if 'begin' in kwargs and 'end' in kwargs:\n",
    "            raw_data = raw_data[np.r_[0:1, (kwargs['begin']+2):(kwargs['end']+2)]]\n",
    "        self.shape = (x, y)\n",
    "        self.raman_shift = raw_data.T[0][2:]\n",
    "        self.data_matrix = raw_data[2:].T[1:]\n",
    "        self.data = pd.DataFrame(raw_data[2:], columns = ['RamanShift'] + list(np.arange(0, x*y, 1)))\n",
    "        self.map = np.array([raw_data[0][1:], raw_data[1][1:]]).T\n",
    "\n",
    "        self.cov_matrix = np.cov(self.data_matrix)\n",
    "        \n",
    "        eigenvalues, eigenvectors = eigh(self.cov_matrix)\n",
    "        idx = np.flip(eigenvalues.argsort())\n",
    "        self.weights = eigenvalues[idx] / sum(eigenvalues)\n",
    "        self.vectors = eigenvectors.T[idx]\n",
    "        \n",
    "        self.base_vectors = np.dot(self.vectors, self.data_matrix)\n",
    "    \n",
    "    def reconstruct(self, count):\n",
    "        return np.dot(self.vectors[:count].T, self.base_vectors[:count])\n",
    "    \n",
    "    def plotComponent(self, num):\n",
    "        fig = px.imshow(np.reshape(self.vectors[num], self.shape), title ='Komponent ' + str(num))\n",
    "        return fig\n",
    "    \n",
    "    def plotPhysicalComponent(self, v):\n",
    "        img = np.dot(np.array(v), self.vectors[:len(v)])\n",
    "        fig = px.imshow(np.reshape(img, self.shape), title ='Peak')\n",
    "        return fig\n",
    "    \n",
    "    def plotCovMatrix(self):\n",
    "        fig = px.imshow(self.cov_matrix, title = 'Macierz kowariancji')\n",
    "        return fig\n",
    "    \n",
    "    def plotWeights(self, cum, log):\n",
    "        if cum:\n",
    "            fig = px.bar(np.cumsum(self.weights), title = 'Wagi', log_y=log)\n",
    "        else:\n",
    "            fig = px.bar(self.weights, title = 'Wagi', log_y=log)\n",
    "        return fig\n",
    "    \n",
    "    def plotSpectrums(self, ids, **kwargs):\n",
    "        fig = go.Figure()\n",
    "        if 'base' not in kwargs:\n",
    "            for num in ids:\n",
    "                fig.add_scatter(x = self.raman_shift, y = self.data_matrix[num], mode='lines', name = 'ID: ' + str(num))\n",
    "        else:\n",
    "            r = self.reconstruct(kwargs['base'])\n",
    "            for num in ids:\n",
    "                fig.add_scatter(x = self.raman_shift, y = r[num], mode='lines', name = 'ID: ' + str(num))\n",
    "        fig.update_layout(hovermode=\"x\")\n",
    "        return fig\n",
    "    \n",
    "    def plotSpectrum(self, num, **kwargs):\n",
    "        return self.plotSpectrums([num], **kwargs)\n",
    "    \n",
    "    def plotBaseVectors(self, count):\n",
    "        fig = go.Figure()\n",
    "        for num in range(count):\n",
    "            fig.add_scatter(x = self.raman_shift, y = self.base_vectors[num], mode='lines', name = 'Num: ' + str(num))\n",
    "        fig.update_layout(hovermode=\"x\")\n",
    "        return fig\n",
    "            \n",
    "    def locToId(self, x, y):\n",
    "        return np.argmin(list(map(lambda e: np.linalg.norm([x, y] - e), self.map)))\n",
    "    \n",
    "    def posToId(self, x, y):\n",
    "        return self.shape[0] * y + x\n",
    "    \n",
    "    def draw_curve(self, curve, params, a, b, **draw):\n",
    "        fig = go.Figure()\n",
    "        if 'spectrum' in draw:\n",
    "            fig.add_scatter(x = self.raman_shift, y = self.data_matrix[draw['spectrum']], mode='lines')\n",
    "        if 'base_vector' in draw:\n",
    "            fig.add_scatter(x = self.raman_shift, y = self.base_vectors[draw['base_vector']], mode='lines')\n",
    "        data_slice = self.data[(self.data['RamanShift'] >= a) & (self.data['RamanShift'] <= b)]['RamanShift']\n",
    "        fig.add_scatter(mode='lines', x = data_slice, y = curve(data_slice, *params))\n",
    "        fig.update_layout(hovermode=\"x\")\n",
    "        return fig\n",
    "    \n",
    "    def fit_curve(self, curve, p0, a, b, seek, **plot):\n",
    "        y = 0\n",
    "        if 'spectrum' in plot:\n",
    "            y = self.data_matrix[plot['spectrum'], (self.data['RamanShift'] >= a) & (self.data['RamanShift'] <= b)]\n",
    "        if 'base_vector' in plot:\n",
    "            y = self.base_vectors[plot['base_vector'], (self.data['RamanShift'] >= a) & (self.data['RamanShift'] <= b)]\n",
    "        data_slice = self.data[(self.data['RamanShift'] >= a) & (self.data['RamanShift'] <= b)]['RamanShift']\n",
    "        \n",
    "        bounds = 0\n",
    "        if 'bounds' in plot and plot['bounds'] == 'inf':\n",
    "            bounds = ((-np.inf, -np.inf, -np.inf, -np.inf), (np.inf, np.inf, np.inf, np.inf))\n",
    "        else:\n",
    "            bounds = ((p0[0]-2, -np.inf, -np.inf, -np.inf), (p0[0]+2, np.inf, np.inf, np.inf))\n",
    "        \n",
    "        param, cov = curve_fit(curve, data_slice, y, p0=p0, bounds = bounds)\n",
    "        print(param)\n",
    "        if 'draw' in plot and plot['draw'] == True:\n",
    "            self.draw_curve(curve, param, a, b, **plot).show()\n",
    "        return param[seek]"
   ],
   "metadata": {
    "collapsed": false,
    "ExecuteTime": {
     "end_time": "2024-04-15T20:42:53.788314Z",
     "start_time": "2024-04-15T20:42:53.762475Z"
    }
   },
   "id": "fd1ddb3ce756353e",
   "execution_count": 22
  },
  {
   "cell_type": "code",
   "outputs": [],
   "source": [
    "map_a = Map('../data/GA25_10B_532nm_100%_1x3sec_x100_xc1200_A_trojkat1_mapa_10x10um_step_0.3um_data.txt', 34, 34, begin=250, end=450)"
   ],
   "metadata": {
    "collapsed": false,
    "ExecuteTime": {
     "end_time": "2024-04-15T20:42:56.657454Z",
     "start_time": "2024-04-15T20:42:54.769410Z"
    }
   },
   "id": "d57f5439335ec773",
   "execution_count": 23
  },
  {
   "cell_type": "code",
   "outputs": [],
   "source": [
    "map_a.plotWeights(False, True).show()"
   ],
   "metadata": {
    "collapsed": false
   },
   "id": "25c6261a38ef93d3",
   "execution_count": null
  },
  {
   "cell_type": "code",
   "outputs": [],
   "source": [
    "map_a.plotBaseVectors(10).show()"
   ],
   "metadata": {
    "collapsed": false
   },
   "id": "625b502433d4bf56",
   "execution_count": null
  },
  {
   "cell_type": "code",
   "outputs": [
    {
     "name": "stdout",
     "output_type": "stream",
     "text": [
      "[ 1.39214541e+03  2.43557140e+00 -1.65031680e+06 -2.88549932e+03]\n",
      "[ 1.34522635e+03  1.55279248e+01 -6.45129936e+05 -7.53953211e+03]\n",
      "[ 1.34445874e+03  1.77266388e+01  3.67512771e+05 -4.06361544e+03]\n",
      "[1.36866873e+03 8.54118216e+00 6.16217337e+04 1.18293094e+03]\n",
      "[ 1.36843431e+03  9.97630199e+00 -2.40442368e+05 -1.57457061e+03]\n",
      "[1.39190191e+03 2.72960605e+00 6.74604102e+05 2.07338306e+03]\n",
      "[ 1.39278530e+03  2.20727076e+00  8.02567135e+04 -2.72316944e+03]\n",
      "[ 1.39433161e+03  2.57365113e+00 -7.01780502e+04 -1.71260026e+03]\n",
      "[ 1.39061238e+03  4.62607352e+00 -6.55782081e+05 -3.26815474e+03]\n"
     ]
    },
    {
     "data": {
      "application/vnd.plotly.v1+json": {
       "data": [
        {
         "mode": "lines",
         "x": [
          1489.670166015625,
          1488.5650634765625,
          1487.459716796875,
          1486.354248046875,
          1485.24853515625,
          1484.142578125,
          1483.0364990234375,
          1481.93017578125,
          1480.8236083984375,
          1479.7169189453125,
          1478.6099853515625,
          1477.5028076171875,
          1476.3955078125,
          1475.2879638671875,
          1474.1802978515625,
          1473.0723876953125,
          1471.9642333984375,
          1470.8558349609375,
          1469.747314453125,
          1468.638671875,
          1467.5296630859375,
          1466.4205322265625,
          1465.311279296875,
          1464.20166015625,
          1463.0919189453125,
          1461.9820556640625,
          1460.8719482421875,
          1459.7615966796875,
          1458.6510009765625,
          1457.540283203125,
          1456.4293212890625,
          1455.3182373046875,
          1454.2069091796875,
          1453.0953369140625,
          1451.983642578125,
          1450.8717041015625,
          1449.759521484375,
          1448.647216796875,
          1447.53466796875,
          1446.421875,
          1445.3089599609375,
          1444.19580078125,
          1443.0823974609375,
          1441.9688720703125,
          1440.8551025390625,
          1439.7410888671875,
          1438.626953125,
          1437.5125732421875,
          1436.3980712890625,
          1435.2833251953125,
          1434.1683349609375,
          1433.0531005859375,
          1431.937744140625,
          1430.8221435546875,
          1429.7064208984375,
          1428.5904541015625,
          1427.4742431640625,
          1426.35791015625,
          1425.2412109375,
          1424.12451171875,
          1423.0074462890625,
          1421.8902587890625,
          1420.7728271484375,
          1419.6552734375,
          1418.5374755859375,
          1417.41943359375,
          1416.30126953125,
          1415.182861328125,
          1414.064208984375,
          1412.9454345703125,
          1411.826416015625,
          1410.7071533203125,
          1409.587646484375,
          1408.468017578125,
          1407.3482666015625,
          1406.2281494140625,
          1405.10791015625,
          1403.9874267578125,
          1402.8668212890625,
          1401.7459716796875,
          1400.6248779296875,
          1399.503662109375,
          1398.3822021484375,
          1397.260498046875,
          1396.1385498046875,
          1395.0164794921875,
          1393.894287109375,
          1392.771728515625,
          1391.6490478515625,
          1390.526123046875,
          1389.403076171875,
          1388.2796630859375,
          1387.15625,
          1386.032470703125,
          1384.9085693359375,
          1383.784423828125,
          1382.6600341796875,
          1381.5355224609375,
          1380.4107666015625,
          1379.2857666015625,
          1378.16064453125,
          1377.0352783203125,
          1375.90966796875,
          1374.783935546875,
          1373.657958984375,
          1372.53173828125,
          1371.4053955078125,
          1370.27880859375,
          1369.1519775390625,
          1368.02490234375,
          1366.897705078125,
          1365.770263671875,
          1364.6427001953125,
          1363.5147705078125,
          1362.38671875,
          1361.258544921875,
          1360.1300048828125,
          1359.0013427734375,
          1357.87255859375,
          1356.743408203125,
          1355.6141357421875,
          1354.484619140625,
          1353.35498046875,
          1352.22509765625,
          1351.094970703125,
          1349.964599609375,
          1348.8341064453125,
          1347.703369140625,
          1346.5723876953125,
          1345.441162109375,
          1344.309814453125,
          1343.17822265625,
          1342.0465087890625,
          1340.91455078125,
          1339.7823486328125,
          1338.64990234375,
          1337.517333984375,
          1336.384521484375,
          1335.25146484375,
          1334.1181640625,
          1332.9847412109375,
          1331.85107421875,
          1330.7171630859375,
          1329.5831298828125,
          1328.4488525390625,
          1327.3143310546875,
          1326.1796875,
          1325.0447998046875,
          1323.90966796875,
          1322.7742919921875,
          1321.6387939453125,
          1320.5029296875,
          1319.3670654296875,
          1318.2308349609375,
          1317.094482421875,
          1315.9578857421875,
          1314.821044921875,
          1313.68408203125,
          1312.546875,
          1311.409423828125,
          1310.271728515625,
          1309.1339111328125,
          1307.995849609375,
          1306.8575439453125,
          1305.718994140625,
          1304.580322265625,
          1303.44140625,
          1302.3023681640625,
          1301.1629638671875,
          1300.0234375,
          1298.8836669921875,
          1297.74365234375,
          1296.603515625,
          1295.463134765625,
          1294.322509765625,
          1293.181640625,
          1292.0406494140625,
          1290.8994140625,
          1289.7579345703125,
          1288.6163330078125,
          1287.474365234375,
          1286.332275390625,
          1285.1900634765625,
          1284.0474853515625,
          1282.90478515625,
          1281.7618408203125,
          1280.61865234375,
          1279.475341796875,
          1278.3316650390625,
          1277.1878662109375,
          1276.0439453125,
          1274.899658203125,
          1273.7552490234375,
          1272.610595703125,
          1271.4656982421875,
          1270.3206787109375,
          1269.17529296875,
          1268.02978515625,
          1266.8841552734375
         ],
         "y": [
          -2067.7183231518893,
          -2068.876419586513,
          -2014.2744942513189,
          -2047.3881714734114,
          -2055.8784334848865,
          -2030.1439736837738,
          -2023.2173371618817,
          -2004.824355630187,
          -2024.2283482994137,
          -2019.3163712297799,
          -2023.8859681884053,
          -2002.696425567304,
          -2015.321727664704,
          -1963.410916978654,
          -2007.9248771309428,
          -1966.7736270252444,
          -1990.2543485971205,
          -1977.8693737963765,
          -1979.3974756730793,
          -1998.8809411980258,
          -2003.1309700235227,
          -1973.4578397387884,
          -1989.6066678596235,
          -1988.7240957265576,
          -1963.941884335102,
          -1974.7924355402802,
          -1967.981607051963,
          -1985.1870132327795,
          -1998.1883203206403,
          -1983.518630465403,
          -1982.4502829807548,
          -1973.9018653025016,
          -1975.3753169778356,
          -1983.7497374241789,
          -1996.4959951988087,
          -2001.771743135537,
          -1994.010699605887,
          -1984.3055302216262,
          -1980.4810199368255,
          -1964.083751904811,
          -2019.0215086274882,
          -1995.0400715757225,
          -2026.7659478547478,
          -2003.2610637611774,
          -2016.1741662272132,
          -2000.6649286458266,
          -2015.0741106910575,
          -2034.179890535042,
          -2053.601362737529,
          -2069.2781477415715,
          -2068.3172034762083,
          -2057.96453788483,
          -2068.600323622444,
          -2065.3873798228256,
          -2081.369538973904,
          -2091.588007272222,
          -2100.2663294312483,
          -2079.2532090003115,
          -2069.948871724923,
          -2131.2389284177902,
          -2135.1046696992457,
          -2141.2387404143765,
          -2137.9360747281885,
          -2165.1333876321837,
          -2204.691002279239,
          -2160.588196473257,
          -2201.6252127663524,
          -2208.239127872404,
          -2218.2549211599076,
          -2239.3424103007137,
          -2270.326847764922,
          -2277.226905595773,
          -2319.1934553169576,
          -2347.290374944939,
          -2376.2180790119073,
          -2425.322549452944,
          -2494.0683249135172,
          -2545.5006894718886,
          -2613.027999478044,
          -2718.9053589307664,
          -2835.8677733340396,
          -2964.6832671514057,
          -3208.1816332396425,
          -3593.835093033931,
          -4216.214276742141,
          -5099.920627137932,
          -5532.9841987809705,
          -2585.4057221203184,
          973.0929711912871,
          556.6832314154317,
          -1085.0802270601487,
          -2249.3399401034485,
          -2972.8315822446048,
          -3421.991163733543,
          -3636.189849816357,
          -3941.749620387236,
          -4209.159336762472,
          -4490.938346482,
          -4847.166181632242,
          -5127.488937486948,
          -5517.568016512399,
          -5973.802391956378,
          -6476.342266737654,
          -7011.5046658625015,
          -7606.07772687869,
          -8125.869087908334,
          -8646.102975535458,
          -8986.646376936154,
          -9171.74280143822,
          -9228.541569013392,
          -9079.18405204892,
          -8751.18377803894,
          -8310.367582520385,
          -7738.069684424383,
          -7189.6184510069525,
          -6611.049522890224,
          -6105.8333879014635,
          -5627.70945085601,
          -5182.362377037688,
          -4798.649335313534,
          -4458.001114986074,
          -4126.525762193938,
          -3820.222831508567,
          -3586.6225006701993,
          -3328.5605678113857,
          -3094.961747941311,
          -2909.497503330182,
          -2725.416894066077,
          -2578.8483655835494,
          -2455.8055724535543,
          -2354.145344339353,
          -2199.6652521370215,
          -2124.7343031555,
          -2050.140732352457,
          -1969.2067788787117,
          -1944.6256791506412,
          -1933.4343863736665,
          -1910.43673338272,
          -1892.4602750947827,
          -1859.4851543275317,
          -1886.8069279296474,
          -1859.6374968340913,
          -1870.3092282633122,
          -1873.6155661885768,
          -1907.2641926847189,
          -1880.9732194220808,
          -1885.0242455174935,
          -1858.534018027152,
          -1875.1165638523837,
          -1834.9995574982297,
          -1871.6892130547924,
          -1843.4024806114096,
          -1845.9864472138431,
          -1834.21346376133,
          -1854.369317871554,
          -1823.0576299439738,
          -1834.9066231686697,
          -1839.828601148518,
          -1833.1932378207853,
          -1805.614141716474,
          -1824.1867909273801,
          -1856.95667533843,
          -1849.512499925278,
          -1831.724859992918,
          -1852.1368540059875,
          -1839.8548374093411,
          -1830.3921697810194,
          -1826.307875430002,
          -1812.1319562867407,
          -1819.7322278138643,
          -1826.6856296879664,
          -1825.2840430161712,
          -1799.873831904945,
          -1790.5714395843202,
          -1801.0489431827946,
          -1815.0213311256412,
          -1805.5501751612578,
          -1775.3777955463106,
          -1795.746582359166,
          -1792.8221866710123,
          -1756.2978155506428,
          -1747.6246465411027,
          -1752.0130328330513,
          -1732.0019012903736,
          -1748.206248176747,
          -1723.6003559477354,
          -1751.5951882567726,
          -1738.063915848735,
          -1753.4248278067028,
          -1735.0494570128376,
          -1712.914132652797,
          -1720.0870026877403,
          -1730.5902240817254,
          -1695.7185036779865,
          -1701.605987617973,
          -1678.670203570996,
          -1712.0488658783254,
          -1690.2923477459321,
          -1677.1247689421346
         ],
         "type": "scatter"
        },
        {
         "mode": "lines",
         "x": [
          1399.503662109375,
          1398.3822021484375,
          1397.260498046875,
          1396.1385498046875,
          1395.0164794921875,
          1393.894287109375,
          1392.771728515625,
          1391.6490478515625,
          1390.526123046875,
          1389.403076171875,
          1388.2796630859375,
          1387.15625,
          1386.032470703125,
          1384.9085693359375,
          1383.784423828125,
          1382.6600341796875,
          1381.5355224609375,
          1380.4107666015625
         ],
         "y": [
          -3679.220421668586,
          -3832.3003298350454,
          -4028.924267088323,
          -4235.985531326383,
          -4314.515722860563,
          -3901.0762848866707,
          -2459.596187090739,
          -176.0746656032752,
          940.0409370068492,
          -518.7284241950042,
          -2761.2729301512295,
          -4020.004072934653,
          -4322.080841197178,
          -4206.18682953805,
          -3995.0854528964155,
          -3804.26255234257,
          -3658.139802397152,
          -3552.4814743492325
         ],
         "type": "scatter"
        }
       ],
       "layout": {
        "template": {
         "data": {
          "histogram2dcontour": [
           {
            "type": "histogram2dcontour",
            "colorbar": {
             "outlinewidth": 0,
             "ticks": ""
            },
            "colorscale": [
             [
              0.0,
              "#0d0887"
             ],
             [
              0.1111111111111111,
              "#46039f"
             ],
             [
              0.2222222222222222,
              "#7201a8"
             ],
             [
              0.3333333333333333,
              "#9c179e"
             ],
             [
              0.4444444444444444,
              "#bd3786"
             ],
             [
              0.5555555555555556,
              "#d8576b"
             ],
             [
              0.6666666666666666,
              "#ed7953"
             ],
             [
              0.7777777777777778,
              "#fb9f3a"
             ],
             [
              0.8888888888888888,
              "#fdca26"
             ],
             [
              1.0,
              "#f0f921"
             ]
            ]
           }
          ],
          "choropleth": [
           {
            "type": "choropleth",
            "colorbar": {
             "outlinewidth": 0,
             "ticks": ""
            }
           }
          ],
          "histogram2d": [
           {
            "type": "histogram2d",
            "colorbar": {
             "outlinewidth": 0,
             "ticks": ""
            },
            "colorscale": [
             [
              0.0,
              "#0d0887"
             ],
             [
              0.1111111111111111,
              "#46039f"
             ],
             [
              0.2222222222222222,
              "#7201a8"
             ],
             [
              0.3333333333333333,
              "#9c179e"
             ],
             [
              0.4444444444444444,
              "#bd3786"
             ],
             [
              0.5555555555555556,
              "#d8576b"
             ],
             [
              0.6666666666666666,
              "#ed7953"
             ],
             [
              0.7777777777777778,
              "#fb9f3a"
             ],
             [
              0.8888888888888888,
              "#fdca26"
             ],
             [
              1.0,
              "#f0f921"
             ]
            ]
           }
          ],
          "heatmap": [
           {
            "type": "heatmap",
            "colorbar": {
             "outlinewidth": 0,
             "ticks": ""
            },
            "colorscale": [
             [
              0.0,
              "#0d0887"
             ],
             [
              0.1111111111111111,
              "#46039f"
             ],
             [
              0.2222222222222222,
              "#7201a8"
             ],
             [
              0.3333333333333333,
              "#9c179e"
             ],
             [
              0.4444444444444444,
              "#bd3786"
             ],
             [
              0.5555555555555556,
              "#d8576b"
             ],
             [
              0.6666666666666666,
              "#ed7953"
             ],
             [
              0.7777777777777778,
              "#fb9f3a"
             ],
             [
              0.8888888888888888,
              "#fdca26"
             ],
             [
              1.0,
              "#f0f921"
             ]
            ]
           }
          ],
          "heatmapgl": [
           {
            "type": "heatmapgl",
            "colorbar": {
             "outlinewidth": 0,
             "ticks": ""
            },
            "colorscale": [
             [
              0.0,
              "#0d0887"
             ],
             [
              0.1111111111111111,
              "#46039f"
             ],
             [
              0.2222222222222222,
              "#7201a8"
             ],
             [
              0.3333333333333333,
              "#9c179e"
             ],
             [
              0.4444444444444444,
              "#bd3786"
             ],
             [
              0.5555555555555556,
              "#d8576b"
             ],
             [
              0.6666666666666666,
              "#ed7953"
             ],
             [
              0.7777777777777778,
              "#fb9f3a"
             ],
             [
              0.8888888888888888,
              "#fdca26"
             ],
             [
              1.0,
              "#f0f921"
             ]
            ]
           }
          ],
          "contourcarpet": [
           {
            "type": "contourcarpet",
            "colorbar": {
             "outlinewidth": 0,
             "ticks": ""
            }
           }
          ],
          "contour": [
           {
            "type": "contour",
            "colorbar": {
             "outlinewidth": 0,
             "ticks": ""
            },
            "colorscale": [
             [
              0.0,
              "#0d0887"
             ],
             [
              0.1111111111111111,
              "#46039f"
             ],
             [
              0.2222222222222222,
              "#7201a8"
             ],
             [
              0.3333333333333333,
              "#9c179e"
             ],
             [
              0.4444444444444444,
              "#bd3786"
             ],
             [
              0.5555555555555556,
              "#d8576b"
             ],
             [
              0.6666666666666666,
              "#ed7953"
             ],
             [
              0.7777777777777778,
              "#fb9f3a"
             ],
             [
              0.8888888888888888,
              "#fdca26"
             ],
             [
              1.0,
              "#f0f921"
             ]
            ]
           }
          ],
          "surface": [
           {
            "type": "surface",
            "colorbar": {
             "outlinewidth": 0,
             "ticks": ""
            },
            "colorscale": [
             [
              0.0,
              "#0d0887"
             ],
             [
              0.1111111111111111,
              "#46039f"
             ],
             [
              0.2222222222222222,
              "#7201a8"
             ],
             [
              0.3333333333333333,
              "#9c179e"
             ],
             [
              0.4444444444444444,
              "#bd3786"
             ],
             [
              0.5555555555555556,
              "#d8576b"
             ],
             [
              0.6666666666666666,
              "#ed7953"
             ],
             [
              0.7777777777777778,
              "#fb9f3a"
             ],
             [
              0.8888888888888888,
              "#fdca26"
             ],
             [
              1.0,
              "#f0f921"
             ]
            ]
           }
          ],
          "mesh3d": [
           {
            "type": "mesh3d",
            "colorbar": {
             "outlinewidth": 0,
             "ticks": ""
            }
           }
          ],
          "scatter": [
           {
            "marker": {
             "line": {
              "color": "#283442"
             }
            },
            "type": "scatter"
           }
          ],
          "parcoords": [
           {
            "type": "parcoords",
            "line": {
             "colorbar": {
              "outlinewidth": 0,
              "ticks": ""
             }
            }
           }
          ],
          "scatterpolargl": [
           {
            "type": "scatterpolargl",
            "marker": {
             "colorbar": {
              "outlinewidth": 0,
              "ticks": ""
             }
            }
           }
          ],
          "bar": [
           {
            "error_x": {
             "color": "#f2f5fa"
            },
            "error_y": {
             "color": "#f2f5fa"
            },
            "marker": {
             "line": {
              "color": "rgb(17,17,17)",
              "width": 0.5
             },
             "pattern": {
              "fillmode": "overlay",
              "size": 10,
              "solidity": 0.2
             }
            },
            "type": "bar"
           }
          ],
          "scattergeo": [
           {
            "type": "scattergeo",
            "marker": {
             "colorbar": {
              "outlinewidth": 0,
              "ticks": ""
             }
            }
           }
          ],
          "scatterpolar": [
           {
            "type": "scatterpolar",
            "marker": {
             "colorbar": {
              "outlinewidth": 0,
              "ticks": ""
             }
            }
           }
          ],
          "histogram": [
           {
            "marker": {
             "pattern": {
              "fillmode": "overlay",
              "size": 10,
              "solidity": 0.2
             }
            },
            "type": "histogram"
           }
          ],
          "scattergl": [
           {
            "marker": {
             "line": {
              "color": "#283442"
             }
            },
            "type": "scattergl"
           }
          ],
          "scatter3d": [
           {
            "type": "scatter3d",
            "line": {
             "colorbar": {
              "outlinewidth": 0,
              "ticks": ""
             }
            },
            "marker": {
             "colorbar": {
              "outlinewidth": 0,
              "ticks": ""
             }
            }
           }
          ],
          "scattermapbox": [
           {
            "type": "scattermapbox",
            "marker": {
             "colorbar": {
              "outlinewidth": 0,
              "ticks": ""
             }
            }
           }
          ],
          "scatterternary": [
           {
            "type": "scatterternary",
            "marker": {
             "colorbar": {
              "outlinewidth": 0,
              "ticks": ""
             }
            }
           }
          ],
          "scattercarpet": [
           {
            "type": "scattercarpet",
            "marker": {
             "colorbar": {
              "outlinewidth": 0,
              "ticks": ""
             }
            }
           }
          ],
          "carpet": [
           {
            "aaxis": {
             "endlinecolor": "#A2B1C6",
             "gridcolor": "#506784",
             "linecolor": "#506784",
             "minorgridcolor": "#506784",
             "startlinecolor": "#A2B1C6"
            },
            "baxis": {
             "endlinecolor": "#A2B1C6",
             "gridcolor": "#506784",
             "linecolor": "#506784",
             "minorgridcolor": "#506784",
             "startlinecolor": "#A2B1C6"
            },
            "type": "carpet"
           }
          ],
          "table": [
           {
            "cells": {
             "fill": {
              "color": "#506784"
             },
             "line": {
              "color": "rgb(17,17,17)"
             }
            },
            "header": {
             "fill": {
              "color": "#2a3f5f"
             },
             "line": {
              "color": "rgb(17,17,17)"
             }
            },
            "type": "table"
           }
          ],
          "barpolar": [
           {
            "marker": {
             "line": {
              "color": "rgb(17,17,17)",
              "width": 0.5
             },
             "pattern": {
              "fillmode": "overlay",
              "size": 10,
              "solidity": 0.2
             }
            },
            "type": "barpolar"
           }
          ],
          "pie": [
           {
            "automargin": true,
            "type": "pie"
           }
          ]
         },
         "layout": {
          "autotypenumbers": "strict",
          "colorway": [
           "#636efa",
           "#EF553B",
           "#00cc96",
           "#ab63fa",
           "#FFA15A",
           "#19d3f3",
           "#FF6692",
           "#B6E880",
           "#FF97FF",
           "#FECB52"
          ],
          "font": {
           "color": "#f2f5fa"
          },
          "hovermode": "closest",
          "hoverlabel": {
           "align": "left"
          },
          "paper_bgcolor": "rgb(17,17,17)",
          "plot_bgcolor": "rgb(17,17,17)",
          "polar": {
           "bgcolor": "rgb(17,17,17)",
           "angularaxis": {
            "gridcolor": "#506784",
            "linecolor": "#506784",
            "ticks": ""
           },
           "radialaxis": {
            "gridcolor": "#506784",
            "linecolor": "#506784",
            "ticks": ""
           }
          },
          "ternary": {
           "bgcolor": "rgb(17,17,17)",
           "aaxis": {
            "gridcolor": "#506784",
            "linecolor": "#506784",
            "ticks": ""
           },
           "baxis": {
            "gridcolor": "#506784",
            "linecolor": "#506784",
            "ticks": ""
           },
           "caxis": {
            "gridcolor": "#506784",
            "linecolor": "#506784",
            "ticks": ""
           }
          },
          "coloraxis": {
           "colorbar": {
            "outlinewidth": 0,
            "ticks": ""
           }
          },
          "colorscale": {
           "sequential": [
            [
             0.0,
             "#0d0887"
            ],
            [
             0.1111111111111111,
             "#46039f"
            ],
            [
             0.2222222222222222,
             "#7201a8"
            ],
            [
             0.3333333333333333,
             "#9c179e"
            ],
            [
             0.4444444444444444,
             "#bd3786"
            ],
            [
             0.5555555555555556,
             "#d8576b"
            ],
            [
             0.6666666666666666,
             "#ed7953"
            ],
            [
             0.7777777777777778,
             "#fb9f3a"
            ],
            [
             0.8888888888888888,
             "#fdca26"
            ],
            [
             1.0,
             "#f0f921"
            ]
           ],
           "sequentialminus": [
            [
             0.0,
             "#0d0887"
            ],
            [
             0.1111111111111111,
             "#46039f"
            ],
            [
             0.2222222222222222,
             "#7201a8"
            ],
            [
             0.3333333333333333,
             "#9c179e"
            ],
            [
             0.4444444444444444,
             "#bd3786"
            ],
            [
             0.5555555555555556,
             "#d8576b"
            ],
            [
             0.6666666666666666,
             "#ed7953"
            ],
            [
             0.7777777777777778,
             "#fb9f3a"
            ],
            [
             0.8888888888888888,
             "#fdca26"
            ],
            [
             1.0,
             "#f0f921"
            ]
           ],
           "diverging": [
            [
             0,
             "#8e0152"
            ],
            [
             0.1,
             "#c51b7d"
            ],
            [
             0.2,
             "#de77ae"
            ],
            [
             0.3,
             "#f1b6da"
            ],
            [
             0.4,
             "#fde0ef"
            ],
            [
             0.5,
             "#f7f7f7"
            ],
            [
             0.6,
             "#e6f5d0"
            ],
            [
             0.7,
             "#b8e186"
            ],
            [
             0.8,
             "#7fbc41"
            ],
            [
             0.9,
             "#4d9221"
            ],
            [
             1,
             "#276419"
            ]
           ]
          },
          "xaxis": {
           "gridcolor": "#283442",
           "linecolor": "#506784",
           "ticks": "",
           "title": {
            "standoff": 15
           },
           "zerolinecolor": "#283442",
           "automargin": true,
           "zerolinewidth": 2
          },
          "yaxis": {
           "gridcolor": "#283442",
           "linecolor": "#506784",
           "ticks": "",
           "title": {
            "standoff": 15
           },
           "zerolinecolor": "#283442",
           "automargin": true,
           "zerolinewidth": 2
          },
          "scene": {
           "xaxis": {
            "backgroundcolor": "rgb(17,17,17)",
            "gridcolor": "#506784",
            "linecolor": "#506784",
            "showbackground": true,
            "ticks": "",
            "zerolinecolor": "#C8D4E3",
            "gridwidth": 2
           },
           "yaxis": {
            "backgroundcolor": "rgb(17,17,17)",
            "gridcolor": "#506784",
            "linecolor": "#506784",
            "showbackground": true,
            "ticks": "",
            "zerolinecolor": "#C8D4E3",
            "gridwidth": 2
           },
           "zaxis": {
            "backgroundcolor": "rgb(17,17,17)",
            "gridcolor": "#506784",
            "linecolor": "#506784",
            "showbackground": true,
            "ticks": "",
            "zerolinecolor": "#C8D4E3",
            "gridwidth": 2
           }
          },
          "shapedefaults": {
           "line": {
            "color": "#f2f5fa"
           }
          },
          "annotationdefaults": {
           "arrowcolor": "#f2f5fa",
           "arrowhead": 0,
           "arrowwidth": 1
          },
          "geo": {
           "bgcolor": "rgb(17,17,17)",
           "landcolor": "rgb(17,17,17)",
           "subunitcolor": "#506784",
           "showland": true,
           "showlakes": true,
           "lakecolor": "rgb(17,17,17)"
          },
          "title": {
           "x": 0.05
          },
          "updatemenudefaults": {
           "bgcolor": "#506784",
           "borderwidth": 0
          },
          "sliderdefaults": {
           "bgcolor": "#C8D4E3",
           "borderwidth": 1,
           "bordercolor": "rgb(17,17,17)",
           "tickwidth": 0
          },
          "mapbox": {
           "style": "dark"
          }
         }
        },
        "hovermode": "x"
       },
       "config": {
        "plotlyServerURL": "https://plot.ly"
       }
      },
      "text/html": "<div>                            <div id=\"6e71f2f7-7f9f-476b-bd9c-06d728264b8d\" class=\"plotly-graph-div\" style=\"height:525px; width:100%;\"></div>            <script type=\"text/javascript\">                require([\"plotly\"], function(Plotly) {                    window.PLOTLYENV=window.PLOTLYENV || {};                                    if (document.getElementById(\"6e71f2f7-7f9f-476b-bd9c-06d728264b8d\")) {                    Plotly.newPlot(                        \"6e71f2f7-7f9f-476b-bd9c-06d728264b8d\",                        [{\"mode\":\"lines\",\"x\":[1489.670166015625,1488.5650634765625,1487.459716796875,1486.354248046875,1485.24853515625,1484.142578125,1483.0364990234375,1481.93017578125,1480.8236083984375,1479.7169189453125,1478.6099853515625,1477.5028076171875,1476.3955078125,1475.2879638671875,1474.1802978515625,1473.0723876953125,1471.9642333984375,1470.8558349609375,1469.747314453125,1468.638671875,1467.5296630859375,1466.4205322265625,1465.311279296875,1464.20166015625,1463.0919189453125,1461.9820556640625,1460.8719482421875,1459.7615966796875,1458.6510009765625,1457.540283203125,1456.4293212890625,1455.3182373046875,1454.2069091796875,1453.0953369140625,1451.983642578125,1450.8717041015625,1449.759521484375,1448.647216796875,1447.53466796875,1446.421875,1445.3089599609375,1444.19580078125,1443.0823974609375,1441.9688720703125,1440.8551025390625,1439.7410888671875,1438.626953125,1437.5125732421875,1436.3980712890625,1435.2833251953125,1434.1683349609375,1433.0531005859375,1431.937744140625,1430.8221435546875,1429.7064208984375,1428.5904541015625,1427.4742431640625,1426.35791015625,1425.2412109375,1424.12451171875,1423.0074462890625,1421.8902587890625,1420.7728271484375,1419.6552734375,1418.5374755859375,1417.41943359375,1416.30126953125,1415.182861328125,1414.064208984375,1412.9454345703125,1411.826416015625,1410.7071533203125,1409.587646484375,1408.468017578125,1407.3482666015625,1406.2281494140625,1405.10791015625,1403.9874267578125,1402.8668212890625,1401.7459716796875,1400.6248779296875,1399.503662109375,1398.3822021484375,1397.260498046875,1396.1385498046875,1395.0164794921875,1393.894287109375,1392.771728515625,1391.6490478515625,1390.526123046875,1389.403076171875,1388.2796630859375,1387.15625,1386.032470703125,1384.9085693359375,1383.784423828125,1382.6600341796875,1381.5355224609375,1380.4107666015625,1379.2857666015625,1378.16064453125,1377.0352783203125,1375.90966796875,1374.783935546875,1373.657958984375,1372.53173828125,1371.4053955078125,1370.27880859375,1369.1519775390625,1368.02490234375,1366.897705078125,1365.770263671875,1364.6427001953125,1363.5147705078125,1362.38671875,1361.258544921875,1360.1300048828125,1359.0013427734375,1357.87255859375,1356.743408203125,1355.6141357421875,1354.484619140625,1353.35498046875,1352.22509765625,1351.094970703125,1349.964599609375,1348.8341064453125,1347.703369140625,1346.5723876953125,1345.441162109375,1344.309814453125,1343.17822265625,1342.0465087890625,1340.91455078125,1339.7823486328125,1338.64990234375,1337.517333984375,1336.384521484375,1335.25146484375,1334.1181640625,1332.9847412109375,1331.85107421875,1330.7171630859375,1329.5831298828125,1328.4488525390625,1327.3143310546875,1326.1796875,1325.0447998046875,1323.90966796875,1322.7742919921875,1321.6387939453125,1320.5029296875,1319.3670654296875,1318.2308349609375,1317.094482421875,1315.9578857421875,1314.821044921875,1313.68408203125,1312.546875,1311.409423828125,1310.271728515625,1309.1339111328125,1307.995849609375,1306.8575439453125,1305.718994140625,1304.580322265625,1303.44140625,1302.3023681640625,1301.1629638671875,1300.0234375,1298.8836669921875,1297.74365234375,1296.603515625,1295.463134765625,1294.322509765625,1293.181640625,1292.0406494140625,1290.8994140625,1289.7579345703125,1288.6163330078125,1287.474365234375,1286.332275390625,1285.1900634765625,1284.0474853515625,1282.90478515625,1281.7618408203125,1280.61865234375,1279.475341796875,1278.3316650390625,1277.1878662109375,1276.0439453125,1274.899658203125,1273.7552490234375,1272.610595703125,1271.4656982421875,1270.3206787109375,1269.17529296875,1268.02978515625,1266.8841552734375],\"y\":[-2067.7183231518893,-2068.876419586513,-2014.2744942513189,-2047.3881714734114,-2055.8784334848865,-2030.1439736837738,-2023.2173371618817,-2004.824355630187,-2024.2283482994137,-2019.3163712297799,-2023.8859681884053,-2002.696425567304,-2015.321727664704,-1963.410916978654,-2007.9248771309428,-1966.7736270252444,-1990.2543485971205,-1977.8693737963765,-1979.3974756730793,-1998.8809411980258,-2003.1309700235227,-1973.4578397387884,-1989.6066678596235,-1988.7240957265576,-1963.941884335102,-1974.7924355402802,-1967.981607051963,-1985.1870132327795,-1998.1883203206403,-1983.518630465403,-1982.4502829807548,-1973.9018653025016,-1975.3753169778356,-1983.7497374241789,-1996.4959951988087,-2001.771743135537,-1994.010699605887,-1984.3055302216262,-1980.4810199368255,-1964.083751904811,-2019.0215086274882,-1995.0400715757225,-2026.7659478547478,-2003.2610637611774,-2016.1741662272132,-2000.6649286458266,-2015.0741106910575,-2034.179890535042,-2053.601362737529,-2069.2781477415715,-2068.3172034762083,-2057.96453788483,-2068.600323622444,-2065.3873798228256,-2081.369538973904,-2091.588007272222,-2100.2663294312483,-2079.2532090003115,-2069.948871724923,-2131.2389284177902,-2135.1046696992457,-2141.2387404143765,-2137.9360747281885,-2165.1333876321837,-2204.691002279239,-2160.588196473257,-2201.6252127663524,-2208.239127872404,-2218.2549211599076,-2239.3424103007137,-2270.326847764922,-2277.226905595773,-2319.1934553169576,-2347.290374944939,-2376.2180790119073,-2425.322549452944,-2494.0683249135172,-2545.5006894718886,-2613.027999478044,-2718.9053589307664,-2835.8677733340396,-2964.6832671514057,-3208.1816332396425,-3593.835093033931,-4216.214276742141,-5099.920627137932,-5532.9841987809705,-2585.4057221203184,973.0929711912871,556.6832314154317,-1085.0802270601487,-2249.3399401034485,-2972.8315822446048,-3421.991163733543,-3636.189849816357,-3941.749620387236,-4209.159336762472,-4490.938346482,-4847.166181632242,-5127.488937486948,-5517.568016512399,-5973.802391956378,-6476.342266737654,-7011.5046658625015,-7606.07772687869,-8125.869087908334,-8646.102975535458,-8986.646376936154,-9171.74280143822,-9228.541569013392,-9079.18405204892,-8751.18377803894,-8310.367582520385,-7738.069684424383,-7189.6184510069525,-6611.049522890224,-6105.8333879014635,-5627.70945085601,-5182.362377037688,-4798.649335313534,-4458.001114986074,-4126.525762193938,-3820.222831508567,-3586.6225006701993,-3328.5605678113857,-3094.961747941311,-2909.497503330182,-2725.416894066077,-2578.8483655835494,-2455.8055724535543,-2354.145344339353,-2199.6652521370215,-2124.7343031555,-2050.140732352457,-1969.2067788787117,-1944.6256791506412,-1933.4343863736665,-1910.43673338272,-1892.4602750947827,-1859.4851543275317,-1886.8069279296474,-1859.6374968340913,-1870.3092282633122,-1873.6155661885768,-1907.2641926847189,-1880.9732194220808,-1885.0242455174935,-1858.534018027152,-1875.1165638523837,-1834.9995574982297,-1871.6892130547924,-1843.4024806114096,-1845.9864472138431,-1834.21346376133,-1854.369317871554,-1823.0576299439738,-1834.9066231686697,-1839.828601148518,-1833.1932378207853,-1805.614141716474,-1824.1867909273801,-1856.95667533843,-1849.512499925278,-1831.724859992918,-1852.1368540059875,-1839.8548374093411,-1830.3921697810194,-1826.307875430002,-1812.1319562867407,-1819.7322278138643,-1826.6856296879664,-1825.2840430161712,-1799.873831904945,-1790.5714395843202,-1801.0489431827946,-1815.0213311256412,-1805.5501751612578,-1775.3777955463106,-1795.746582359166,-1792.8221866710123,-1756.2978155506428,-1747.6246465411027,-1752.0130328330513,-1732.0019012903736,-1748.206248176747,-1723.6003559477354,-1751.5951882567726,-1738.063915848735,-1753.4248278067028,-1735.0494570128376,-1712.914132652797,-1720.0870026877403,-1730.5902240817254,-1695.7185036779865,-1701.605987617973,-1678.670203570996,-1712.0488658783254,-1690.2923477459321,-1677.1247689421346],\"type\":\"scatter\"},{\"mode\":\"lines\",\"x\":[1399.503662109375,1398.3822021484375,1397.260498046875,1396.1385498046875,1395.0164794921875,1393.894287109375,1392.771728515625,1391.6490478515625,1390.526123046875,1389.403076171875,1388.2796630859375,1387.15625,1386.032470703125,1384.9085693359375,1383.784423828125,1382.6600341796875,1381.5355224609375,1380.4107666015625],\"y\":[-3679.220421668586,-3832.3003298350454,-4028.924267088323,-4235.985531326383,-4314.515722860563,-3901.0762848866707,-2459.596187090739,-176.0746656032752,940.0409370068492,-518.7284241950042,-2761.2729301512295,-4020.004072934653,-4322.080841197178,-4206.18682953805,-3995.0854528964155,-3804.26255234257,-3658.139802397152,-3552.4814743492325],\"type\":\"scatter\"}],                        {\"template\":{\"data\":{\"histogram2dcontour\":[{\"type\":\"histogram2dcontour\",\"colorbar\":{\"outlinewidth\":0,\"ticks\":\"\"},\"colorscale\":[[0.0,\"#0d0887\"],[0.1111111111111111,\"#46039f\"],[0.2222222222222222,\"#7201a8\"],[0.3333333333333333,\"#9c179e\"],[0.4444444444444444,\"#bd3786\"],[0.5555555555555556,\"#d8576b\"],[0.6666666666666666,\"#ed7953\"],[0.7777777777777778,\"#fb9f3a\"],[0.8888888888888888,\"#fdca26\"],[1.0,\"#f0f921\"]]}],\"choropleth\":[{\"type\":\"choropleth\",\"colorbar\":{\"outlinewidth\":0,\"ticks\":\"\"}}],\"histogram2d\":[{\"type\":\"histogram2d\",\"colorbar\":{\"outlinewidth\":0,\"ticks\":\"\"},\"colorscale\":[[0.0,\"#0d0887\"],[0.1111111111111111,\"#46039f\"],[0.2222222222222222,\"#7201a8\"],[0.3333333333333333,\"#9c179e\"],[0.4444444444444444,\"#bd3786\"],[0.5555555555555556,\"#d8576b\"],[0.6666666666666666,\"#ed7953\"],[0.7777777777777778,\"#fb9f3a\"],[0.8888888888888888,\"#fdca26\"],[1.0,\"#f0f921\"]]}],\"heatmap\":[{\"type\":\"heatmap\",\"colorbar\":{\"outlinewidth\":0,\"ticks\":\"\"},\"colorscale\":[[0.0,\"#0d0887\"],[0.1111111111111111,\"#46039f\"],[0.2222222222222222,\"#7201a8\"],[0.3333333333333333,\"#9c179e\"],[0.4444444444444444,\"#bd3786\"],[0.5555555555555556,\"#d8576b\"],[0.6666666666666666,\"#ed7953\"],[0.7777777777777778,\"#fb9f3a\"],[0.8888888888888888,\"#fdca26\"],[1.0,\"#f0f921\"]]}],\"heatmapgl\":[{\"type\":\"heatmapgl\",\"colorbar\":{\"outlinewidth\":0,\"ticks\":\"\"},\"colorscale\":[[0.0,\"#0d0887\"],[0.1111111111111111,\"#46039f\"],[0.2222222222222222,\"#7201a8\"],[0.3333333333333333,\"#9c179e\"],[0.4444444444444444,\"#bd3786\"],[0.5555555555555556,\"#d8576b\"],[0.6666666666666666,\"#ed7953\"],[0.7777777777777778,\"#fb9f3a\"],[0.8888888888888888,\"#fdca26\"],[1.0,\"#f0f921\"]]}],\"contourcarpet\":[{\"type\":\"contourcarpet\",\"colorbar\":{\"outlinewidth\":0,\"ticks\":\"\"}}],\"contour\":[{\"type\":\"contour\",\"colorbar\":{\"outlinewidth\":0,\"ticks\":\"\"},\"colorscale\":[[0.0,\"#0d0887\"],[0.1111111111111111,\"#46039f\"],[0.2222222222222222,\"#7201a8\"],[0.3333333333333333,\"#9c179e\"],[0.4444444444444444,\"#bd3786\"],[0.5555555555555556,\"#d8576b\"],[0.6666666666666666,\"#ed7953\"],[0.7777777777777778,\"#fb9f3a\"],[0.8888888888888888,\"#fdca26\"],[1.0,\"#f0f921\"]]}],\"surface\":[{\"type\":\"surface\",\"colorbar\":{\"outlinewidth\":0,\"ticks\":\"\"},\"colorscale\":[[0.0,\"#0d0887\"],[0.1111111111111111,\"#46039f\"],[0.2222222222222222,\"#7201a8\"],[0.3333333333333333,\"#9c179e\"],[0.4444444444444444,\"#bd3786\"],[0.5555555555555556,\"#d8576b\"],[0.6666666666666666,\"#ed7953\"],[0.7777777777777778,\"#fb9f3a\"],[0.8888888888888888,\"#fdca26\"],[1.0,\"#f0f921\"]]}],\"mesh3d\":[{\"type\":\"mesh3d\",\"colorbar\":{\"outlinewidth\":0,\"ticks\":\"\"}}],\"scatter\":[{\"marker\":{\"line\":{\"color\":\"#283442\"}},\"type\":\"scatter\"}],\"parcoords\":[{\"type\":\"parcoords\",\"line\":{\"colorbar\":{\"outlinewidth\":0,\"ticks\":\"\"}}}],\"scatterpolargl\":[{\"type\":\"scatterpolargl\",\"marker\":{\"colorbar\":{\"outlinewidth\":0,\"ticks\":\"\"}}}],\"bar\":[{\"error_x\":{\"color\":\"#f2f5fa\"},\"error_y\":{\"color\":\"#f2f5fa\"},\"marker\":{\"line\":{\"color\":\"rgb(17,17,17)\",\"width\":0.5},\"pattern\":{\"fillmode\":\"overlay\",\"size\":10,\"solidity\":0.2}},\"type\":\"bar\"}],\"scattergeo\":[{\"type\":\"scattergeo\",\"marker\":{\"colorbar\":{\"outlinewidth\":0,\"ticks\":\"\"}}}],\"scatterpolar\":[{\"type\":\"scatterpolar\",\"marker\":{\"colorbar\":{\"outlinewidth\":0,\"ticks\":\"\"}}}],\"histogram\":[{\"marker\":{\"pattern\":{\"fillmode\":\"overlay\",\"size\":10,\"solidity\":0.2}},\"type\":\"histogram\"}],\"scattergl\":[{\"marker\":{\"line\":{\"color\":\"#283442\"}},\"type\":\"scattergl\"}],\"scatter3d\":[{\"type\":\"scatter3d\",\"line\":{\"colorbar\":{\"outlinewidth\":0,\"ticks\":\"\"}},\"marker\":{\"colorbar\":{\"outlinewidth\":0,\"ticks\":\"\"}}}],\"scattermapbox\":[{\"type\":\"scattermapbox\",\"marker\":{\"colorbar\":{\"outlinewidth\":0,\"ticks\":\"\"}}}],\"scatterternary\":[{\"type\":\"scatterternary\",\"marker\":{\"colorbar\":{\"outlinewidth\":0,\"ticks\":\"\"}}}],\"scattercarpet\":[{\"type\":\"scattercarpet\",\"marker\":{\"colorbar\":{\"outlinewidth\":0,\"ticks\":\"\"}}}],\"carpet\":[{\"aaxis\":{\"endlinecolor\":\"#A2B1C6\",\"gridcolor\":\"#506784\",\"linecolor\":\"#506784\",\"minorgridcolor\":\"#506784\",\"startlinecolor\":\"#A2B1C6\"},\"baxis\":{\"endlinecolor\":\"#A2B1C6\",\"gridcolor\":\"#506784\",\"linecolor\":\"#506784\",\"minorgridcolor\":\"#506784\",\"startlinecolor\":\"#A2B1C6\"},\"type\":\"carpet\"}],\"table\":[{\"cells\":{\"fill\":{\"color\":\"#506784\"},\"line\":{\"color\":\"rgb(17,17,17)\"}},\"header\":{\"fill\":{\"color\":\"#2a3f5f\"},\"line\":{\"color\":\"rgb(17,17,17)\"}},\"type\":\"table\"}],\"barpolar\":[{\"marker\":{\"line\":{\"color\":\"rgb(17,17,17)\",\"width\":0.5},\"pattern\":{\"fillmode\":\"overlay\",\"size\":10,\"solidity\":0.2}},\"type\":\"barpolar\"}],\"pie\":[{\"automargin\":true,\"type\":\"pie\"}]},\"layout\":{\"autotypenumbers\":\"strict\",\"colorway\":[\"#636efa\",\"#EF553B\",\"#00cc96\",\"#ab63fa\",\"#FFA15A\",\"#19d3f3\",\"#FF6692\",\"#B6E880\",\"#FF97FF\",\"#FECB52\"],\"font\":{\"color\":\"#f2f5fa\"},\"hovermode\":\"closest\",\"hoverlabel\":{\"align\":\"left\"},\"paper_bgcolor\":\"rgb(17,17,17)\",\"plot_bgcolor\":\"rgb(17,17,17)\",\"polar\":{\"bgcolor\":\"rgb(17,17,17)\",\"angularaxis\":{\"gridcolor\":\"#506784\",\"linecolor\":\"#506784\",\"ticks\":\"\"},\"radialaxis\":{\"gridcolor\":\"#506784\",\"linecolor\":\"#506784\",\"ticks\":\"\"}},\"ternary\":{\"bgcolor\":\"rgb(17,17,17)\",\"aaxis\":{\"gridcolor\":\"#506784\",\"linecolor\":\"#506784\",\"ticks\":\"\"},\"baxis\":{\"gridcolor\":\"#506784\",\"linecolor\":\"#506784\",\"ticks\":\"\"},\"caxis\":{\"gridcolor\":\"#506784\",\"linecolor\":\"#506784\",\"ticks\":\"\"}},\"coloraxis\":{\"colorbar\":{\"outlinewidth\":0,\"ticks\":\"\"}},\"colorscale\":{\"sequential\":[[0.0,\"#0d0887\"],[0.1111111111111111,\"#46039f\"],[0.2222222222222222,\"#7201a8\"],[0.3333333333333333,\"#9c179e\"],[0.4444444444444444,\"#bd3786\"],[0.5555555555555556,\"#d8576b\"],[0.6666666666666666,\"#ed7953\"],[0.7777777777777778,\"#fb9f3a\"],[0.8888888888888888,\"#fdca26\"],[1.0,\"#f0f921\"]],\"sequentialminus\":[[0.0,\"#0d0887\"],[0.1111111111111111,\"#46039f\"],[0.2222222222222222,\"#7201a8\"],[0.3333333333333333,\"#9c179e\"],[0.4444444444444444,\"#bd3786\"],[0.5555555555555556,\"#d8576b\"],[0.6666666666666666,\"#ed7953\"],[0.7777777777777778,\"#fb9f3a\"],[0.8888888888888888,\"#fdca26\"],[1.0,\"#f0f921\"]],\"diverging\":[[0,\"#8e0152\"],[0.1,\"#c51b7d\"],[0.2,\"#de77ae\"],[0.3,\"#f1b6da\"],[0.4,\"#fde0ef\"],[0.5,\"#f7f7f7\"],[0.6,\"#e6f5d0\"],[0.7,\"#b8e186\"],[0.8,\"#7fbc41\"],[0.9,\"#4d9221\"],[1,\"#276419\"]]},\"xaxis\":{\"gridcolor\":\"#283442\",\"linecolor\":\"#506784\",\"ticks\":\"\",\"title\":{\"standoff\":15},\"zerolinecolor\":\"#283442\",\"automargin\":true,\"zerolinewidth\":2},\"yaxis\":{\"gridcolor\":\"#283442\",\"linecolor\":\"#506784\",\"ticks\":\"\",\"title\":{\"standoff\":15},\"zerolinecolor\":\"#283442\",\"automargin\":true,\"zerolinewidth\":2},\"scene\":{\"xaxis\":{\"backgroundcolor\":\"rgb(17,17,17)\",\"gridcolor\":\"#506784\",\"linecolor\":\"#506784\",\"showbackground\":true,\"ticks\":\"\",\"zerolinecolor\":\"#C8D4E3\",\"gridwidth\":2},\"yaxis\":{\"backgroundcolor\":\"rgb(17,17,17)\",\"gridcolor\":\"#506784\",\"linecolor\":\"#506784\",\"showbackground\":true,\"ticks\":\"\",\"zerolinecolor\":\"#C8D4E3\",\"gridwidth\":2},\"zaxis\":{\"backgroundcolor\":\"rgb(17,17,17)\",\"gridcolor\":\"#506784\",\"linecolor\":\"#506784\",\"showbackground\":true,\"ticks\":\"\",\"zerolinecolor\":\"#C8D4E3\",\"gridwidth\":2}},\"shapedefaults\":{\"line\":{\"color\":\"#f2f5fa\"}},\"annotationdefaults\":{\"arrowcolor\":\"#f2f5fa\",\"arrowhead\":0,\"arrowwidth\":1},\"geo\":{\"bgcolor\":\"rgb(17,17,17)\",\"landcolor\":\"rgb(17,17,17)\",\"subunitcolor\":\"#506784\",\"showland\":true,\"showlakes\":true,\"lakecolor\":\"rgb(17,17,17)\"},\"title\":{\"x\":0.05},\"updatemenudefaults\":{\"bgcolor\":\"#506784\",\"borderwidth\":0},\"sliderdefaults\":{\"bgcolor\":\"#C8D4E3\",\"borderwidth\":1,\"bordercolor\":\"rgb(17,17,17)\",\"tickwidth\":0},\"mapbox\":{\"style\":\"dark\"}}},\"hovermode\":\"x\"},                        {\"responsive\": true}                    ).then(function(){\n                            \nvar gd = document.getElementById('6e71f2f7-7f9f-476b-bd9c-06d728264b8d');\nvar x = new MutationObserver(function (mutations, observer) {{\n        var display = window.getComputedStyle(gd).display;\n        if (!display || display === 'none') {{\n            console.log([gd, 'removed!']);\n            Plotly.purge(gd);\n            observer.disconnect();\n        }}\n}});\n\n// Listen for the removal of the full notebook cells\nvar notebookContainer = gd.closest('#notebook-container');\nif (notebookContainer) {{\n    x.observe(notebookContainer, {childList: true});\n}}\n\n// Listen for the clearing of the current output cell\nvar outputEl = gd.closest('.output');\nif (outputEl) {{\n    x.observe(outputEl, {childList: true});\n}}\n\n                        })                };                });            </script>        </div>"
     },
     "metadata": {},
     "output_type": "display_data"
    },
    {
     "name": "stdout",
     "output_type": "stream",
     "text": [
      "[ 1.39258299e+03  2.99088173e+00  1.19681247e+05 -1.89567155e+03]\n"
     ]
    },
    {
     "data": {
      "application/vnd.plotly.v1+json": {
       "data": [
        {
         "mode": "lines",
         "x": [
          1489.670166015625,
          1488.5650634765625,
          1487.459716796875,
          1486.354248046875,
          1485.24853515625,
          1484.142578125,
          1483.0364990234375,
          1481.93017578125,
          1480.8236083984375,
          1479.7169189453125,
          1478.6099853515625,
          1477.5028076171875,
          1476.3955078125,
          1475.2879638671875,
          1474.1802978515625,
          1473.0723876953125,
          1471.9642333984375,
          1470.8558349609375,
          1469.747314453125,
          1468.638671875,
          1467.5296630859375,
          1466.4205322265625,
          1465.311279296875,
          1464.20166015625,
          1463.0919189453125,
          1461.9820556640625,
          1460.8719482421875,
          1459.7615966796875,
          1458.6510009765625,
          1457.540283203125,
          1456.4293212890625,
          1455.3182373046875,
          1454.2069091796875,
          1453.0953369140625,
          1451.983642578125,
          1450.8717041015625,
          1449.759521484375,
          1448.647216796875,
          1447.53466796875,
          1446.421875,
          1445.3089599609375,
          1444.19580078125,
          1443.0823974609375,
          1441.9688720703125,
          1440.8551025390625,
          1439.7410888671875,
          1438.626953125,
          1437.5125732421875,
          1436.3980712890625,
          1435.2833251953125,
          1434.1683349609375,
          1433.0531005859375,
          1431.937744140625,
          1430.8221435546875,
          1429.7064208984375,
          1428.5904541015625,
          1427.4742431640625,
          1426.35791015625,
          1425.2412109375,
          1424.12451171875,
          1423.0074462890625,
          1421.8902587890625,
          1420.7728271484375,
          1419.6552734375,
          1418.5374755859375,
          1417.41943359375,
          1416.30126953125,
          1415.182861328125,
          1414.064208984375,
          1412.9454345703125,
          1411.826416015625,
          1410.7071533203125,
          1409.587646484375,
          1408.468017578125,
          1407.3482666015625,
          1406.2281494140625,
          1405.10791015625,
          1403.9874267578125,
          1402.8668212890625,
          1401.7459716796875,
          1400.6248779296875,
          1399.503662109375,
          1398.3822021484375,
          1397.260498046875,
          1396.1385498046875,
          1395.0164794921875,
          1393.894287109375,
          1392.771728515625,
          1391.6490478515625,
          1390.526123046875,
          1389.403076171875,
          1388.2796630859375,
          1387.15625,
          1386.032470703125,
          1384.9085693359375,
          1383.784423828125,
          1382.6600341796875,
          1381.5355224609375,
          1380.4107666015625,
          1379.2857666015625,
          1378.16064453125,
          1377.0352783203125,
          1375.90966796875,
          1374.783935546875,
          1373.657958984375,
          1372.53173828125,
          1371.4053955078125,
          1370.27880859375,
          1369.1519775390625,
          1368.02490234375,
          1366.897705078125,
          1365.770263671875,
          1364.6427001953125,
          1363.5147705078125,
          1362.38671875,
          1361.258544921875,
          1360.1300048828125,
          1359.0013427734375,
          1357.87255859375,
          1356.743408203125,
          1355.6141357421875,
          1354.484619140625,
          1353.35498046875,
          1352.22509765625,
          1351.094970703125,
          1349.964599609375,
          1348.8341064453125,
          1347.703369140625,
          1346.5723876953125,
          1345.441162109375,
          1344.309814453125,
          1343.17822265625,
          1342.0465087890625,
          1340.91455078125,
          1339.7823486328125,
          1338.64990234375,
          1337.517333984375,
          1336.384521484375,
          1335.25146484375,
          1334.1181640625,
          1332.9847412109375,
          1331.85107421875,
          1330.7171630859375,
          1329.5831298828125,
          1328.4488525390625,
          1327.3143310546875,
          1326.1796875,
          1325.0447998046875,
          1323.90966796875,
          1322.7742919921875,
          1321.6387939453125,
          1320.5029296875,
          1319.3670654296875,
          1318.2308349609375,
          1317.094482421875,
          1315.9578857421875,
          1314.821044921875,
          1313.68408203125,
          1312.546875,
          1311.409423828125,
          1310.271728515625,
          1309.1339111328125,
          1307.995849609375,
          1306.8575439453125,
          1305.718994140625,
          1304.580322265625,
          1303.44140625,
          1302.3023681640625,
          1301.1629638671875,
          1300.0234375,
          1298.8836669921875,
          1297.74365234375,
          1296.603515625,
          1295.463134765625,
          1294.322509765625,
          1293.181640625,
          1292.0406494140625,
          1290.8994140625,
          1289.7579345703125,
          1288.6163330078125,
          1287.474365234375,
          1286.332275390625,
          1285.1900634765625,
          1284.0474853515625,
          1282.90478515625,
          1281.7618408203125,
          1280.61865234375,
          1279.475341796875,
          1278.3316650390625,
          1277.1878662109375,
          1276.0439453125,
          1274.899658203125,
          1273.7552490234375,
          1272.610595703125,
          1271.4656982421875,
          1270.3206787109375,
          1269.17529296875,
          1268.02978515625,
          1266.8841552734375
         ],
         "y": [
          -2579.3431678273223,
          -2588.0962869796563,
          -2590.11857239196,
          -2580.2642522593933,
          -2542.720410596045,
          -2572.6394777493315,
          -2547.4148118569983,
          -2541.2677750150815,
          -2544.1234456472403,
          -2546.1525414127077,
          -2532.6572110489224,
          -2532.502667558669,
          -2542.6579809120203,
          -2506.3801812456213,
          -2522.7536081242506,
          -2517.4400048457715,
          -2512.450229640743,
          -2485.9824391443344,
          -2499.0419970473345,
          -2491.6354147401553,
          -2524.138695272231,
          -2524.787234498126,
          -2489.9641605694187,
          -2529.155301697483,
          -2534.9136715389964,
          -2521.407237606775,
          -2530.2125450795875,
          -2526.276438634888,
          -2526.2811939069675,
          -2509.9129692609713,
          -2512.1212066327585,
          -2497.4080146428482,
          -2486.32662424762,
          -2522.812566000002,
          -2518.4140899690865,
          -2519.932137629092,
          -2516.551762382458,
          -2497.006470331399,
          -2469.752906031029,
          -2506.4353261145675,
          -2458.0134167382384,
          -2462.0972428740306,
          -2458.448457433235,
          -2467.943926472303,
          -2493.0340022937116,
          -2471.5325688873413,
          -2467.7843184682433,
          -2479.1792348530607,
          -2463.724320297376,
          -2465.645874767868,
          -2425.0049911369433,
          -2444.655496751058,
          -2415.931641805874,
          -2437.0876926761257,
          -2427.9125643511907,
          -2421.0615474245315,
          -2396.141581134701,
          -2370.6246618498185,
          -2384.393839811305,
          -2396.4604799073813,
          -2365.061945865082,
          -2315.038161942575,
          -2361.4109479855274,
          -2364.442816938202,
          -2321.0283108139706,
          -2290.0491001586474,
          -2304.573599763013,
          -2272.02031445969,
          -2255.607451852662,
          -2216.307896350127,
          -2196.233067808069,
          -2143.085008555539,
          -2138.441456849732,
          -2060.3610096898947,
          -2065.109534491693,
          -1994.2680420739016,
          -1967.4933246169148,
          -1913.5687359195715,
          -1831.2546965937158,
          -1608.0291785113084,
          -1427.0731325086663,
          -1129.7971173953479,
          -668.3243767151065,
          -73.98846250532102,
          287.94327570779654,
          -305.33224714315327,
          -2479.347931421164,
          -4405.049394634514,
          -3349.811754023904,
          -1988.9338130889216,
          -1863.34628528274,
          -2194.510928617197,
          -2377.927070509048,
          -2399.4449789851983,
          -2347.1950539257687,
          -2313.1128507361814,
          -2282.5948151849293,
          -2327.999376828883,
          -2349.675535375032,
          -2305.3394375843604,
          -2384.976275595778,
          -2436.4362651620636,
          -2462.7100766282265,
          -2479.955826855404,
          -2525.084685731336,
          -2580.2950041291497,
          -2593.4334458236126,
          -2607.0192978914088,
          -2530.688773189336,
          -2455.6964912737194,
          -2316.162128877893,
          -2099.819535140993,
          -1826.9341538136975,
          -1519.3437325965256,
          -1195.8604160579278,
          -885.8751042955496,
          -596.5907896353847,
          -249.2857036570436,
          28.408272934288696,
          334.40716940876285,
          663.7871123519468,
          950.5542057930002,
          1258.5756635012644,
          1535.4109840771796,
          1760.0911065486146,
          1998.6937398720988,
          2205.0770690553977,
          2342.2601659589295,
          2487.7823291261225,
          2567.1156385677987,
          2560.2558093219045,
          2482.7194898297575,
          2396.774657843238,
          2229.6785733032466,
          1999.4239700259138,
          1816.42859387153,
          1590.3180470454936,
          1353.4268550194652,
          1101.0934805526044,
          819.3273378981671,
          672.8059339781644,
          423.30242354867534,
          231.75165665900192,
          54.76439343586363,
          -126.7942715063991,
          -254.60224365552114,
          -390.9524261999443,
          -533.421482501748,
          -627.6939811569966,
          -729.823679188475,
          -834.6411142501918,
          -934.6577933616087,
          -1020.697607296788,
          -1072.5202946155052,
          -1174.1025539847592,
          -1223.5834609318874,
          -1241.5155578848287,
          -1334.9486091874821,
          -1374.054514659405,
          -1396.9733641565217,
          -1455.656633733182,
          -1472.103358402045,
          -1561.5308704430668,
          -1553.8340893210566,
          -1640.144486499815,
          -1633.0292171739713,
          -1672.331534550091,
          -1692.9297092034406,
          -1692.5469277384889,
          -1694.7815018620531,
          -1739.1668500026396,
          -1784.9221649064107,
          -1791.4224398795886,
          -1798.4161138849877,
          -1848.0840975226608,
          -1814.1977740566158,
          -1838.8531455675068,
          -1851.8679710117615,
          -1884.872895183836,
          -1846.9104342461926,
          -1862.2716462872797,
          -1871.4245333453118,
          -1867.998088849661,
          -1905.1525073240591,
          -1916.2381002640927,
          -1892.6705414350265,
          -1917.5752685336777,
          -1936.9744486770358,
          -1902.1988973113007,
          -1923.4778924835796,
          -1916.8735805301371,
          -1930.5446760700474,
          -1938.0111596263296,
          -1952.432064850357,
          -1923.8282955302848,
          -1953.9258600052103,
          -1960.4497921776626,
          -1959.9426202805525,
          -1972.9760635589598
         ],
         "type": "scatter"
        },
        {
         "mode": "lines",
         "x": [
          1399.503662109375,
          1398.3822021484375,
          1397.260498046875,
          1396.1385498046875,
          1395.0164794921875,
          1393.894287109375,
          1392.771728515625,
          1391.6490478515625,
          1390.526123046875,
          1389.403076171875,
          1388.2796630859375,
          1387.15625,
          1386.032470703125,
          1384.9085693359375,
          1383.784423828125,
          1382.6600341796875,
          1381.5355224609375,
          1380.4107666015625
         ],
         "y": [
          -1728.4775858132994,
          -1624.1888736162996,
          -1454.5686627789748,
          -1239.203412790205,
          -1284.0333155033336,
          -2607.0785676641367,
          -4676.094165611301,
          -3419.713045273119,
          -1522.4222018717169,
          -1191.398652003003,
          -1382.9304600155733,
          -1575.985728940216,
          -1699.9064226935238,
          -1773.250308877759,
          -1816.66697716818,
          -1842.9953069379458,
          -1859.4575402743226,
          -1870.0774910741616
         ],
         "type": "scatter"
        }
       ],
       "layout": {
        "template": {
         "data": {
          "histogram2dcontour": [
           {
            "type": "histogram2dcontour",
            "colorbar": {
             "outlinewidth": 0,
             "ticks": ""
            },
            "colorscale": [
             [
              0.0,
              "#0d0887"
             ],
             [
              0.1111111111111111,
              "#46039f"
             ],
             [
              0.2222222222222222,
              "#7201a8"
             ],
             [
              0.3333333333333333,
              "#9c179e"
             ],
             [
              0.4444444444444444,
              "#bd3786"
             ],
             [
              0.5555555555555556,
              "#d8576b"
             ],
             [
              0.6666666666666666,
              "#ed7953"
             ],
             [
              0.7777777777777778,
              "#fb9f3a"
             ],
             [
              0.8888888888888888,
              "#fdca26"
             ],
             [
              1.0,
              "#f0f921"
             ]
            ]
           }
          ],
          "choropleth": [
           {
            "type": "choropleth",
            "colorbar": {
             "outlinewidth": 0,
             "ticks": ""
            }
           }
          ],
          "histogram2d": [
           {
            "type": "histogram2d",
            "colorbar": {
             "outlinewidth": 0,
             "ticks": ""
            },
            "colorscale": [
             [
              0.0,
              "#0d0887"
             ],
             [
              0.1111111111111111,
              "#46039f"
             ],
             [
              0.2222222222222222,
              "#7201a8"
             ],
             [
              0.3333333333333333,
              "#9c179e"
             ],
             [
              0.4444444444444444,
              "#bd3786"
             ],
             [
              0.5555555555555556,
              "#d8576b"
             ],
             [
              0.6666666666666666,
              "#ed7953"
             ],
             [
              0.7777777777777778,
              "#fb9f3a"
             ],
             [
              0.8888888888888888,
              "#fdca26"
             ],
             [
              1.0,
              "#f0f921"
             ]
            ]
           }
          ],
          "heatmap": [
           {
            "type": "heatmap",
            "colorbar": {
             "outlinewidth": 0,
             "ticks": ""
            },
            "colorscale": [
             [
              0.0,
              "#0d0887"
             ],
             [
              0.1111111111111111,
              "#46039f"
             ],
             [
              0.2222222222222222,
              "#7201a8"
             ],
             [
              0.3333333333333333,
              "#9c179e"
             ],
             [
              0.4444444444444444,
              "#bd3786"
             ],
             [
              0.5555555555555556,
              "#d8576b"
             ],
             [
              0.6666666666666666,
              "#ed7953"
             ],
             [
              0.7777777777777778,
              "#fb9f3a"
             ],
             [
              0.8888888888888888,
              "#fdca26"
             ],
             [
              1.0,
              "#f0f921"
             ]
            ]
           }
          ],
          "heatmapgl": [
           {
            "type": "heatmapgl",
            "colorbar": {
             "outlinewidth": 0,
             "ticks": ""
            },
            "colorscale": [
             [
              0.0,
              "#0d0887"
             ],
             [
              0.1111111111111111,
              "#46039f"
             ],
             [
              0.2222222222222222,
              "#7201a8"
             ],
             [
              0.3333333333333333,
              "#9c179e"
             ],
             [
              0.4444444444444444,
              "#bd3786"
             ],
             [
              0.5555555555555556,
              "#d8576b"
             ],
             [
              0.6666666666666666,
              "#ed7953"
             ],
             [
              0.7777777777777778,
              "#fb9f3a"
             ],
             [
              0.8888888888888888,
              "#fdca26"
             ],
             [
              1.0,
              "#f0f921"
             ]
            ]
           }
          ],
          "contourcarpet": [
           {
            "type": "contourcarpet",
            "colorbar": {
             "outlinewidth": 0,
             "ticks": ""
            }
           }
          ],
          "contour": [
           {
            "type": "contour",
            "colorbar": {
             "outlinewidth": 0,
             "ticks": ""
            },
            "colorscale": [
             [
              0.0,
              "#0d0887"
             ],
             [
              0.1111111111111111,
              "#46039f"
             ],
             [
              0.2222222222222222,
              "#7201a8"
             ],
             [
              0.3333333333333333,
              "#9c179e"
             ],
             [
              0.4444444444444444,
              "#bd3786"
             ],
             [
              0.5555555555555556,
              "#d8576b"
             ],
             [
              0.6666666666666666,
              "#ed7953"
             ],
             [
              0.7777777777777778,
              "#fb9f3a"
             ],
             [
              0.8888888888888888,
              "#fdca26"
             ],
             [
              1.0,
              "#f0f921"
             ]
            ]
           }
          ],
          "surface": [
           {
            "type": "surface",
            "colorbar": {
             "outlinewidth": 0,
             "ticks": ""
            },
            "colorscale": [
             [
              0.0,
              "#0d0887"
             ],
             [
              0.1111111111111111,
              "#46039f"
             ],
             [
              0.2222222222222222,
              "#7201a8"
             ],
             [
              0.3333333333333333,
              "#9c179e"
             ],
             [
              0.4444444444444444,
              "#bd3786"
             ],
             [
              0.5555555555555556,
              "#d8576b"
             ],
             [
              0.6666666666666666,
              "#ed7953"
             ],
             [
              0.7777777777777778,
              "#fb9f3a"
             ],
             [
              0.8888888888888888,
              "#fdca26"
             ],
             [
              1.0,
              "#f0f921"
             ]
            ]
           }
          ],
          "mesh3d": [
           {
            "type": "mesh3d",
            "colorbar": {
             "outlinewidth": 0,
             "ticks": ""
            }
           }
          ],
          "scatter": [
           {
            "marker": {
             "line": {
              "color": "#283442"
             }
            },
            "type": "scatter"
           }
          ],
          "parcoords": [
           {
            "type": "parcoords",
            "line": {
             "colorbar": {
              "outlinewidth": 0,
              "ticks": ""
             }
            }
           }
          ],
          "scatterpolargl": [
           {
            "type": "scatterpolargl",
            "marker": {
             "colorbar": {
              "outlinewidth": 0,
              "ticks": ""
             }
            }
           }
          ],
          "bar": [
           {
            "error_x": {
             "color": "#f2f5fa"
            },
            "error_y": {
             "color": "#f2f5fa"
            },
            "marker": {
             "line": {
              "color": "rgb(17,17,17)",
              "width": 0.5
             },
             "pattern": {
              "fillmode": "overlay",
              "size": 10,
              "solidity": 0.2
             }
            },
            "type": "bar"
           }
          ],
          "scattergeo": [
           {
            "type": "scattergeo",
            "marker": {
             "colorbar": {
              "outlinewidth": 0,
              "ticks": ""
             }
            }
           }
          ],
          "scatterpolar": [
           {
            "type": "scatterpolar",
            "marker": {
             "colorbar": {
              "outlinewidth": 0,
              "ticks": ""
             }
            }
           }
          ],
          "histogram": [
           {
            "marker": {
             "pattern": {
              "fillmode": "overlay",
              "size": 10,
              "solidity": 0.2
             }
            },
            "type": "histogram"
           }
          ],
          "scattergl": [
           {
            "marker": {
             "line": {
              "color": "#283442"
             }
            },
            "type": "scattergl"
           }
          ],
          "scatter3d": [
           {
            "type": "scatter3d",
            "line": {
             "colorbar": {
              "outlinewidth": 0,
              "ticks": ""
             }
            },
            "marker": {
             "colorbar": {
              "outlinewidth": 0,
              "ticks": ""
             }
            }
           }
          ],
          "scattermapbox": [
           {
            "type": "scattermapbox",
            "marker": {
             "colorbar": {
              "outlinewidth": 0,
              "ticks": ""
             }
            }
           }
          ],
          "scatterternary": [
           {
            "type": "scatterternary",
            "marker": {
             "colorbar": {
              "outlinewidth": 0,
              "ticks": ""
             }
            }
           }
          ],
          "scattercarpet": [
           {
            "type": "scattercarpet",
            "marker": {
             "colorbar": {
              "outlinewidth": 0,
              "ticks": ""
             }
            }
           }
          ],
          "carpet": [
           {
            "aaxis": {
             "endlinecolor": "#A2B1C6",
             "gridcolor": "#506784",
             "linecolor": "#506784",
             "minorgridcolor": "#506784",
             "startlinecolor": "#A2B1C6"
            },
            "baxis": {
             "endlinecolor": "#A2B1C6",
             "gridcolor": "#506784",
             "linecolor": "#506784",
             "minorgridcolor": "#506784",
             "startlinecolor": "#A2B1C6"
            },
            "type": "carpet"
           }
          ],
          "table": [
           {
            "cells": {
             "fill": {
              "color": "#506784"
             },
             "line": {
              "color": "rgb(17,17,17)"
             }
            },
            "header": {
             "fill": {
              "color": "#2a3f5f"
             },
             "line": {
              "color": "rgb(17,17,17)"
             }
            },
            "type": "table"
           }
          ],
          "barpolar": [
           {
            "marker": {
             "line": {
              "color": "rgb(17,17,17)",
              "width": 0.5
             },
             "pattern": {
              "fillmode": "overlay",
              "size": 10,
              "solidity": 0.2
             }
            },
            "type": "barpolar"
           }
          ],
          "pie": [
           {
            "automargin": true,
            "type": "pie"
           }
          ]
         },
         "layout": {
          "autotypenumbers": "strict",
          "colorway": [
           "#636efa",
           "#EF553B",
           "#00cc96",
           "#ab63fa",
           "#FFA15A",
           "#19d3f3",
           "#FF6692",
           "#B6E880",
           "#FF97FF",
           "#FECB52"
          ],
          "font": {
           "color": "#f2f5fa"
          },
          "hovermode": "closest",
          "hoverlabel": {
           "align": "left"
          },
          "paper_bgcolor": "rgb(17,17,17)",
          "plot_bgcolor": "rgb(17,17,17)",
          "polar": {
           "bgcolor": "rgb(17,17,17)",
           "angularaxis": {
            "gridcolor": "#506784",
            "linecolor": "#506784",
            "ticks": ""
           },
           "radialaxis": {
            "gridcolor": "#506784",
            "linecolor": "#506784",
            "ticks": ""
           }
          },
          "ternary": {
           "bgcolor": "rgb(17,17,17)",
           "aaxis": {
            "gridcolor": "#506784",
            "linecolor": "#506784",
            "ticks": ""
           },
           "baxis": {
            "gridcolor": "#506784",
            "linecolor": "#506784",
            "ticks": ""
           },
           "caxis": {
            "gridcolor": "#506784",
            "linecolor": "#506784",
            "ticks": ""
           }
          },
          "coloraxis": {
           "colorbar": {
            "outlinewidth": 0,
            "ticks": ""
           }
          },
          "colorscale": {
           "sequential": [
            [
             0.0,
             "#0d0887"
            ],
            [
             0.1111111111111111,
             "#46039f"
            ],
            [
             0.2222222222222222,
             "#7201a8"
            ],
            [
             0.3333333333333333,
             "#9c179e"
            ],
            [
             0.4444444444444444,
             "#bd3786"
            ],
            [
             0.5555555555555556,
             "#d8576b"
            ],
            [
             0.6666666666666666,
             "#ed7953"
            ],
            [
             0.7777777777777778,
             "#fb9f3a"
            ],
            [
             0.8888888888888888,
             "#fdca26"
            ],
            [
             1.0,
             "#f0f921"
            ]
           ],
           "sequentialminus": [
            [
             0.0,
             "#0d0887"
            ],
            [
             0.1111111111111111,
             "#46039f"
            ],
            [
             0.2222222222222222,
             "#7201a8"
            ],
            [
             0.3333333333333333,
             "#9c179e"
            ],
            [
             0.4444444444444444,
             "#bd3786"
            ],
            [
             0.5555555555555556,
             "#d8576b"
            ],
            [
             0.6666666666666666,
             "#ed7953"
            ],
            [
             0.7777777777777778,
             "#fb9f3a"
            ],
            [
             0.8888888888888888,
             "#fdca26"
            ],
            [
             1.0,
             "#f0f921"
            ]
           ],
           "diverging": [
            [
             0,
             "#8e0152"
            ],
            [
             0.1,
             "#c51b7d"
            ],
            [
             0.2,
             "#de77ae"
            ],
            [
             0.3,
             "#f1b6da"
            ],
            [
             0.4,
             "#fde0ef"
            ],
            [
             0.5,
             "#f7f7f7"
            ],
            [
             0.6,
             "#e6f5d0"
            ],
            [
             0.7,
             "#b8e186"
            ],
            [
             0.8,
             "#7fbc41"
            ],
            [
             0.9,
             "#4d9221"
            ],
            [
             1,
             "#276419"
            ]
           ]
          },
          "xaxis": {
           "gridcolor": "#283442",
           "linecolor": "#506784",
           "ticks": "",
           "title": {
            "standoff": 15
           },
           "zerolinecolor": "#283442",
           "automargin": true,
           "zerolinewidth": 2
          },
          "yaxis": {
           "gridcolor": "#283442",
           "linecolor": "#506784",
           "ticks": "",
           "title": {
            "standoff": 15
           },
           "zerolinecolor": "#283442",
           "automargin": true,
           "zerolinewidth": 2
          },
          "scene": {
           "xaxis": {
            "backgroundcolor": "rgb(17,17,17)",
            "gridcolor": "#506784",
            "linecolor": "#506784",
            "showbackground": true,
            "ticks": "",
            "zerolinecolor": "#C8D4E3",
            "gridwidth": 2
           },
           "yaxis": {
            "backgroundcolor": "rgb(17,17,17)",
            "gridcolor": "#506784",
            "linecolor": "#506784",
            "showbackground": true,
            "ticks": "",
            "zerolinecolor": "#C8D4E3",
            "gridwidth": 2
           },
           "zaxis": {
            "backgroundcolor": "rgb(17,17,17)",
            "gridcolor": "#506784",
            "linecolor": "#506784",
            "showbackground": true,
            "ticks": "",
            "zerolinecolor": "#C8D4E3",
            "gridwidth": 2
           }
          },
          "shapedefaults": {
           "line": {
            "color": "#f2f5fa"
           }
          },
          "annotationdefaults": {
           "arrowcolor": "#f2f5fa",
           "arrowhead": 0,
           "arrowwidth": 1
          },
          "geo": {
           "bgcolor": "rgb(17,17,17)",
           "landcolor": "rgb(17,17,17)",
           "subunitcolor": "#506784",
           "showland": true,
           "showlakes": true,
           "lakecolor": "rgb(17,17,17)"
          },
          "title": {
           "x": 0.05
          },
          "updatemenudefaults": {
           "bgcolor": "#506784",
           "borderwidth": 0
          },
          "sliderdefaults": {
           "bgcolor": "#C8D4E3",
           "borderwidth": 1,
           "bordercolor": "rgb(17,17,17)",
           "tickwidth": 0
          },
          "mapbox": {
           "style": "dark"
          }
         }
        },
        "hovermode": "x"
       },
       "config": {
        "plotlyServerURL": "https://plot.ly"
       }
      },
      "text/html": "<div>                            <div id=\"b742283d-0b5e-40cd-9422-d15d63b4c02e\" class=\"plotly-graph-div\" style=\"height:525px; width:100%;\"></div>            <script type=\"text/javascript\">                require([\"plotly\"], function(Plotly) {                    window.PLOTLYENV=window.PLOTLYENV || {};                                    if (document.getElementById(\"b742283d-0b5e-40cd-9422-d15d63b4c02e\")) {                    Plotly.newPlot(                        \"b742283d-0b5e-40cd-9422-d15d63b4c02e\",                        [{\"mode\":\"lines\",\"x\":[1489.670166015625,1488.5650634765625,1487.459716796875,1486.354248046875,1485.24853515625,1484.142578125,1483.0364990234375,1481.93017578125,1480.8236083984375,1479.7169189453125,1478.6099853515625,1477.5028076171875,1476.3955078125,1475.2879638671875,1474.1802978515625,1473.0723876953125,1471.9642333984375,1470.8558349609375,1469.747314453125,1468.638671875,1467.5296630859375,1466.4205322265625,1465.311279296875,1464.20166015625,1463.0919189453125,1461.9820556640625,1460.8719482421875,1459.7615966796875,1458.6510009765625,1457.540283203125,1456.4293212890625,1455.3182373046875,1454.2069091796875,1453.0953369140625,1451.983642578125,1450.8717041015625,1449.759521484375,1448.647216796875,1447.53466796875,1446.421875,1445.3089599609375,1444.19580078125,1443.0823974609375,1441.9688720703125,1440.8551025390625,1439.7410888671875,1438.626953125,1437.5125732421875,1436.3980712890625,1435.2833251953125,1434.1683349609375,1433.0531005859375,1431.937744140625,1430.8221435546875,1429.7064208984375,1428.5904541015625,1427.4742431640625,1426.35791015625,1425.2412109375,1424.12451171875,1423.0074462890625,1421.8902587890625,1420.7728271484375,1419.6552734375,1418.5374755859375,1417.41943359375,1416.30126953125,1415.182861328125,1414.064208984375,1412.9454345703125,1411.826416015625,1410.7071533203125,1409.587646484375,1408.468017578125,1407.3482666015625,1406.2281494140625,1405.10791015625,1403.9874267578125,1402.8668212890625,1401.7459716796875,1400.6248779296875,1399.503662109375,1398.3822021484375,1397.260498046875,1396.1385498046875,1395.0164794921875,1393.894287109375,1392.771728515625,1391.6490478515625,1390.526123046875,1389.403076171875,1388.2796630859375,1387.15625,1386.032470703125,1384.9085693359375,1383.784423828125,1382.6600341796875,1381.5355224609375,1380.4107666015625,1379.2857666015625,1378.16064453125,1377.0352783203125,1375.90966796875,1374.783935546875,1373.657958984375,1372.53173828125,1371.4053955078125,1370.27880859375,1369.1519775390625,1368.02490234375,1366.897705078125,1365.770263671875,1364.6427001953125,1363.5147705078125,1362.38671875,1361.258544921875,1360.1300048828125,1359.0013427734375,1357.87255859375,1356.743408203125,1355.6141357421875,1354.484619140625,1353.35498046875,1352.22509765625,1351.094970703125,1349.964599609375,1348.8341064453125,1347.703369140625,1346.5723876953125,1345.441162109375,1344.309814453125,1343.17822265625,1342.0465087890625,1340.91455078125,1339.7823486328125,1338.64990234375,1337.517333984375,1336.384521484375,1335.25146484375,1334.1181640625,1332.9847412109375,1331.85107421875,1330.7171630859375,1329.5831298828125,1328.4488525390625,1327.3143310546875,1326.1796875,1325.0447998046875,1323.90966796875,1322.7742919921875,1321.6387939453125,1320.5029296875,1319.3670654296875,1318.2308349609375,1317.094482421875,1315.9578857421875,1314.821044921875,1313.68408203125,1312.546875,1311.409423828125,1310.271728515625,1309.1339111328125,1307.995849609375,1306.8575439453125,1305.718994140625,1304.580322265625,1303.44140625,1302.3023681640625,1301.1629638671875,1300.0234375,1298.8836669921875,1297.74365234375,1296.603515625,1295.463134765625,1294.322509765625,1293.181640625,1292.0406494140625,1290.8994140625,1289.7579345703125,1288.6163330078125,1287.474365234375,1286.332275390625,1285.1900634765625,1284.0474853515625,1282.90478515625,1281.7618408203125,1280.61865234375,1279.475341796875,1278.3316650390625,1277.1878662109375,1276.0439453125,1274.899658203125,1273.7552490234375,1272.610595703125,1271.4656982421875,1270.3206787109375,1269.17529296875,1268.02978515625,1266.8841552734375],\"y\":[-2579.3431678273223,-2588.0962869796563,-2590.11857239196,-2580.2642522593933,-2542.720410596045,-2572.6394777493315,-2547.4148118569983,-2541.2677750150815,-2544.1234456472403,-2546.1525414127077,-2532.6572110489224,-2532.502667558669,-2542.6579809120203,-2506.3801812456213,-2522.7536081242506,-2517.4400048457715,-2512.450229640743,-2485.9824391443344,-2499.0419970473345,-2491.6354147401553,-2524.138695272231,-2524.787234498126,-2489.9641605694187,-2529.155301697483,-2534.9136715389964,-2521.407237606775,-2530.2125450795875,-2526.276438634888,-2526.2811939069675,-2509.9129692609713,-2512.1212066327585,-2497.4080146428482,-2486.32662424762,-2522.812566000002,-2518.4140899690865,-2519.932137629092,-2516.551762382458,-2497.006470331399,-2469.752906031029,-2506.4353261145675,-2458.0134167382384,-2462.0972428740306,-2458.448457433235,-2467.943926472303,-2493.0340022937116,-2471.5325688873413,-2467.7843184682433,-2479.1792348530607,-2463.724320297376,-2465.645874767868,-2425.0049911369433,-2444.655496751058,-2415.931641805874,-2437.0876926761257,-2427.9125643511907,-2421.0615474245315,-2396.141581134701,-2370.6246618498185,-2384.393839811305,-2396.4604799073813,-2365.061945865082,-2315.038161942575,-2361.4109479855274,-2364.442816938202,-2321.0283108139706,-2290.0491001586474,-2304.573599763013,-2272.02031445969,-2255.607451852662,-2216.307896350127,-2196.233067808069,-2143.085008555539,-2138.441456849732,-2060.3610096898947,-2065.109534491693,-1994.2680420739016,-1967.4933246169148,-1913.5687359195715,-1831.2546965937158,-1608.0291785113084,-1427.0731325086663,-1129.7971173953479,-668.3243767151065,-73.98846250532102,287.94327570779654,-305.33224714315327,-2479.347931421164,-4405.049394634514,-3349.811754023904,-1988.9338130889216,-1863.34628528274,-2194.510928617197,-2377.927070509048,-2399.4449789851983,-2347.1950539257687,-2313.1128507361814,-2282.5948151849293,-2327.999376828883,-2349.675535375032,-2305.3394375843604,-2384.976275595778,-2436.4362651620636,-2462.7100766282265,-2479.955826855404,-2525.084685731336,-2580.2950041291497,-2593.4334458236126,-2607.0192978914088,-2530.688773189336,-2455.6964912737194,-2316.162128877893,-2099.819535140993,-1826.9341538136975,-1519.3437325965256,-1195.8604160579278,-885.8751042955496,-596.5907896353847,-249.2857036570436,28.408272934288696,334.40716940876285,663.7871123519468,950.5542057930002,1258.5756635012644,1535.4109840771796,1760.0911065486146,1998.6937398720988,2205.0770690553977,2342.2601659589295,2487.7823291261225,2567.1156385677987,2560.2558093219045,2482.7194898297575,2396.774657843238,2229.6785733032466,1999.4239700259138,1816.42859387153,1590.3180470454936,1353.4268550194652,1101.0934805526044,819.3273378981671,672.8059339781644,423.30242354867534,231.75165665900192,54.76439343586363,-126.7942715063991,-254.60224365552114,-390.9524261999443,-533.421482501748,-627.6939811569966,-729.823679188475,-834.6411142501918,-934.6577933616087,-1020.697607296788,-1072.5202946155052,-1174.1025539847592,-1223.5834609318874,-1241.5155578848287,-1334.9486091874821,-1374.054514659405,-1396.9733641565217,-1455.656633733182,-1472.103358402045,-1561.5308704430668,-1553.8340893210566,-1640.144486499815,-1633.0292171739713,-1672.331534550091,-1692.9297092034406,-1692.5469277384889,-1694.7815018620531,-1739.1668500026396,-1784.9221649064107,-1791.4224398795886,-1798.4161138849877,-1848.0840975226608,-1814.1977740566158,-1838.8531455675068,-1851.8679710117615,-1884.872895183836,-1846.9104342461926,-1862.2716462872797,-1871.4245333453118,-1867.998088849661,-1905.1525073240591,-1916.2381002640927,-1892.6705414350265,-1917.5752685336777,-1936.9744486770358,-1902.1988973113007,-1923.4778924835796,-1916.8735805301371,-1930.5446760700474,-1938.0111596263296,-1952.432064850357,-1923.8282955302848,-1953.9258600052103,-1960.4497921776626,-1959.9426202805525,-1972.9760635589598],\"type\":\"scatter\"},{\"mode\":\"lines\",\"x\":[1399.503662109375,1398.3822021484375,1397.260498046875,1396.1385498046875,1395.0164794921875,1393.894287109375,1392.771728515625,1391.6490478515625,1390.526123046875,1389.403076171875,1388.2796630859375,1387.15625,1386.032470703125,1384.9085693359375,1383.784423828125,1382.6600341796875,1381.5355224609375,1380.4107666015625],\"y\":[-1728.4775858132994,-1624.1888736162996,-1454.5686627789748,-1239.203412790205,-1284.0333155033336,-2607.0785676641367,-4676.094165611301,-3419.713045273119,-1522.4222018717169,-1191.398652003003,-1382.9304600155733,-1575.985728940216,-1699.9064226935238,-1773.250308877759,-1816.66697716818,-1842.9953069379458,-1859.4575402743226,-1870.0774910741616],\"type\":\"scatter\"}],                        {\"template\":{\"data\":{\"histogram2dcontour\":[{\"type\":\"histogram2dcontour\",\"colorbar\":{\"outlinewidth\":0,\"ticks\":\"\"},\"colorscale\":[[0.0,\"#0d0887\"],[0.1111111111111111,\"#46039f\"],[0.2222222222222222,\"#7201a8\"],[0.3333333333333333,\"#9c179e\"],[0.4444444444444444,\"#bd3786\"],[0.5555555555555556,\"#d8576b\"],[0.6666666666666666,\"#ed7953\"],[0.7777777777777778,\"#fb9f3a\"],[0.8888888888888888,\"#fdca26\"],[1.0,\"#f0f921\"]]}],\"choropleth\":[{\"type\":\"choropleth\",\"colorbar\":{\"outlinewidth\":0,\"ticks\":\"\"}}],\"histogram2d\":[{\"type\":\"histogram2d\",\"colorbar\":{\"outlinewidth\":0,\"ticks\":\"\"},\"colorscale\":[[0.0,\"#0d0887\"],[0.1111111111111111,\"#46039f\"],[0.2222222222222222,\"#7201a8\"],[0.3333333333333333,\"#9c179e\"],[0.4444444444444444,\"#bd3786\"],[0.5555555555555556,\"#d8576b\"],[0.6666666666666666,\"#ed7953\"],[0.7777777777777778,\"#fb9f3a\"],[0.8888888888888888,\"#fdca26\"],[1.0,\"#f0f921\"]]}],\"heatmap\":[{\"type\":\"heatmap\",\"colorbar\":{\"outlinewidth\":0,\"ticks\":\"\"},\"colorscale\":[[0.0,\"#0d0887\"],[0.1111111111111111,\"#46039f\"],[0.2222222222222222,\"#7201a8\"],[0.3333333333333333,\"#9c179e\"],[0.4444444444444444,\"#bd3786\"],[0.5555555555555556,\"#d8576b\"],[0.6666666666666666,\"#ed7953\"],[0.7777777777777778,\"#fb9f3a\"],[0.8888888888888888,\"#fdca26\"],[1.0,\"#f0f921\"]]}],\"heatmapgl\":[{\"type\":\"heatmapgl\",\"colorbar\":{\"outlinewidth\":0,\"ticks\":\"\"},\"colorscale\":[[0.0,\"#0d0887\"],[0.1111111111111111,\"#46039f\"],[0.2222222222222222,\"#7201a8\"],[0.3333333333333333,\"#9c179e\"],[0.4444444444444444,\"#bd3786\"],[0.5555555555555556,\"#d8576b\"],[0.6666666666666666,\"#ed7953\"],[0.7777777777777778,\"#fb9f3a\"],[0.8888888888888888,\"#fdca26\"],[1.0,\"#f0f921\"]]}],\"contourcarpet\":[{\"type\":\"contourcarpet\",\"colorbar\":{\"outlinewidth\":0,\"ticks\":\"\"}}],\"contour\":[{\"type\":\"contour\",\"colorbar\":{\"outlinewidth\":0,\"ticks\":\"\"},\"colorscale\":[[0.0,\"#0d0887\"],[0.1111111111111111,\"#46039f\"],[0.2222222222222222,\"#7201a8\"],[0.3333333333333333,\"#9c179e\"],[0.4444444444444444,\"#bd3786\"],[0.5555555555555556,\"#d8576b\"],[0.6666666666666666,\"#ed7953\"],[0.7777777777777778,\"#fb9f3a\"],[0.8888888888888888,\"#fdca26\"],[1.0,\"#f0f921\"]]}],\"surface\":[{\"type\":\"surface\",\"colorbar\":{\"outlinewidth\":0,\"ticks\":\"\"},\"colorscale\":[[0.0,\"#0d0887\"],[0.1111111111111111,\"#46039f\"],[0.2222222222222222,\"#7201a8\"],[0.3333333333333333,\"#9c179e\"],[0.4444444444444444,\"#bd3786\"],[0.5555555555555556,\"#d8576b\"],[0.6666666666666666,\"#ed7953\"],[0.7777777777777778,\"#fb9f3a\"],[0.8888888888888888,\"#fdca26\"],[1.0,\"#f0f921\"]]}],\"mesh3d\":[{\"type\":\"mesh3d\",\"colorbar\":{\"outlinewidth\":0,\"ticks\":\"\"}}],\"scatter\":[{\"marker\":{\"line\":{\"color\":\"#283442\"}},\"type\":\"scatter\"}],\"parcoords\":[{\"type\":\"parcoords\",\"line\":{\"colorbar\":{\"outlinewidth\":0,\"ticks\":\"\"}}}],\"scatterpolargl\":[{\"type\":\"scatterpolargl\",\"marker\":{\"colorbar\":{\"outlinewidth\":0,\"ticks\":\"\"}}}],\"bar\":[{\"error_x\":{\"color\":\"#f2f5fa\"},\"error_y\":{\"color\":\"#f2f5fa\"},\"marker\":{\"line\":{\"color\":\"rgb(17,17,17)\",\"width\":0.5},\"pattern\":{\"fillmode\":\"overlay\",\"size\":10,\"solidity\":0.2}},\"type\":\"bar\"}],\"scattergeo\":[{\"type\":\"scattergeo\",\"marker\":{\"colorbar\":{\"outlinewidth\":0,\"ticks\":\"\"}}}],\"scatterpolar\":[{\"type\":\"scatterpolar\",\"marker\":{\"colorbar\":{\"outlinewidth\":0,\"ticks\":\"\"}}}],\"histogram\":[{\"marker\":{\"pattern\":{\"fillmode\":\"overlay\",\"size\":10,\"solidity\":0.2}},\"type\":\"histogram\"}],\"scattergl\":[{\"marker\":{\"line\":{\"color\":\"#283442\"}},\"type\":\"scattergl\"}],\"scatter3d\":[{\"type\":\"scatter3d\",\"line\":{\"colorbar\":{\"outlinewidth\":0,\"ticks\":\"\"}},\"marker\":{\"colorbar\":{\"outlinewidth\":0,\"ticks\":\"\"}}}],\"scattermapbox\":[{\"type\":\"scattermapbox\",\"marker\":{\"colorbar\":{\"outlinewidth\":0,\"ticks\":\"\"}}}],\"scatterternary\":[{\"type\":\"scatterternary\",\"marker\":{\"colorbar\":{\"outlinewidth\":0,\"ticks\":\"\"}}}],\"scattercarpet\":[{\"type\":\"scattercarpet\",\"marker\":{\"colorbar\":{\"outlinewidth\":0,\"ticks\":\"\"}}}],\"carpet\":[{\"aaxis\":{\"endlinecolor\":\"#A2B1C6\",\"gridcolor\":\"#506784\",\"linecolor\":\"#506784\",\"minorgridcolor\":\"#506784\",\"startlinecolor\":\"#A2B1C6\"},\"baxis\":{\"endlinecolor\":\"#A2B1C6\",\"gridcolor\":\"#506784\",\"linecolor\":\"#506784\",\"minorgridcolor\":\"#506784\",\"startlinecolor\":\"#A2B1C6\"},\"type\":\"carpet\"}],\"table\":[{\"cells\":{\"fill\":{\"color\":\"#506784\"},\"line\":{\"color\":\"rgb(17,17,17)\"}},\"header\":{\"fill\":{\"color\":\"#2a3f5f\"},\"line\":{\"color\":\"rgb(17,17,17)\"}},\"type\":\"table\"}],\"barpolar\":[{\"marker\":{\"line\":{\"color\":\"rgb(17,17,17)\",\"width\":0.5},\"pattern\":{\"fillmode\":\"overlay\",\"size\":10,\"solidity\":0.2}},\"type\":\"barpolar\"}],\"pie\":[{\"automargin\":true,\"type\":\"pie\"}]},\"layout\":{\"autotypenumbers\":\"strict\",\"colorway\":[\"#636efa\",\"#EF553B\",\"#00cc96\",\"#ab63fa\",\"#FFA15A\",\"#19d3f3\",\"#FF6692\",\"#B6E880\",\"#FF97FF\",\"#FECB52\"],\"font\":{\"color\":\"#f2f5fa\"},\"hovermode\":\"closest\",\"hoverlabel\":{\"align\":\"left\"},\"paper_bgcolor\":\"rgb(17,17,17)\",\"plot_bgcolor\":\"rgb(17,17,17)\",\"polar\":{\"bgcolor\":\"rgb(17,17,17)\",\"angularaxis\":{\"gridcolor\":\"#506784\",\"linecolor\":\"#506784\",\"ticks\":\"\"},\"radialaxis\":{\"gridcolor\":\"#506784\",\"linecolor\":\"#506784\",\"ticks\":\"\"}},\"ternary\":{\"bgcolor\":\"rgb(17,17,17)\",\"aaxis\":{\"gridcolor\":\"#506784\",\"linecolor\":\"#506784\",\"ticks\":\"\"},\"baxis\":{\"gridcolor\":\"#506784\",\"linecolor\":\"#506784\",\"ticks\":\"\"},\"caxis\":{\"gridcolor\":\"#506784\",\"linecolor\":\"#506784\",\"ticks\":\"\"}},\"coloraxis\":{\"colorbar\":{\"outlinewidth\":0,\"ticks\":\"\"}},\"colorscale\":{\"sequential\":[[0.0,\"#0d0887\"],[0.1111111111111111,\"#46039f\"],[0.2222222222222222,\"#7201a8\"],[0.3333333333333333,\"#9c179e\"],[0.4444444444444444,\"#bd3786\"],[0.5555555555555556,\"#d8576b\"],[0.6666666666666666,\"#ed7953\"],[0.7777777777777778,\"#fb9f3a\"],[0.8888888888888888,\"#fdca26\"],[1.0,\"#f0f921\"]],\"sequentialminus\":[[0.0,\"#0d0887\"],[0.1111111111111111,\"#46039f\"],[0.2222222222222222,\"#7201a8\"],[0.3333333333333333,\"#9c179e\"],[0.4444444444444444,\"#bd3786\"],[0.5555555555555556,\"#d8576b\"],[0.6666666666666666,\"#ed7953\"],[0.7777777777777778,\"#fb9f3a\"],[0.8888888888888888,\"#fdca26\"],[1.0,\"#f0f921\"]],\"diverging\":[[0,\"#8e0152\"],[0.1,\"#c51b7d\"],[0.2,\"#de77ae\"],[0.3,\"#f1b6da\"],[0.4,\"#fde0ef\"],[0.5,\"#f7f7f7\"],[0.6,\"#e6f5d0\"],[0.7,\"#b8e186\"],[0.8,\"#7fbc41\"],[0.9,\"#4d9221\"],[1,\"#276419\"]]},\"xaxis\":{\"gridcolor\":\"#283442\",\"linecolor\":\"#506784\",\"ticks\":\"\",\"title\":{\"standoff\":15},\"zerolinecolor\":\"#283442\",\"automargin\":true,\"zerolinewidth\":2},\"yaxis\":{\"gridcolor\":\"#283442\",\"linecolor\":\"#506784\",\"ticks\":\"\",\"title\":{\"standoff\":15},\"zerolinecolor\":\"#283442\",\"automargin\":true,\"zerolinewidth\":2},\"scene\":{\"xaxis\":{\"backgroundcolor\":\"rgb(17,17,17)\",\"gridcolor\":\"#506784\",\"linecolor\":\"#506784\",\"showbackground\":true,\"ticks\":\"\",\"zerolinecolor\":\"#C8D4E3\",\"gridwidth\":2},\"yaxis\":{\"backgroundcolor\":\"rgb(17,17,17)\",\"gridcolor\":\"#506784\",\"linecolor\":\"#506784\",\"showbackground\":true,\"ticks\":\"\",\"zerolinecolor\":\"#C8D4E3\",\"gridwidth\":2},\"zaxis\":{\"backgroundcolor\":\"rgb(17,17,17)\",\"gridcolor\":\"#506784\",\"linecolor\":\"#506784\",\"showbackground\":true,\"ticks\":\"\",\"zerolinecolor\":\"#C8D4E3\",\"gridwidth\":2}},\"shapedefaults\":{\"line\":{\"color\":\"#f2f5fa\"}},\"annotationdefaults\":{\"arrowcolor\":\"#f2f5fa\",\"arrowhead\":0,\"arrowwidth\":1},\"geo\":{\"bgcolor\":\"rgb(17,17,17)\",\"landcolor\":\"rgb(17,17,17)\",\"subunitcolor\":\"#506784\",\"showland\":true,\"showlakes\":true,\"lakecolor\":\"rgb(17,17,17)\"},\"title\":{\"x\":0.05},\"updatemenudefaults\":{\"bgcolor\":\"#506784\",\"borderwidth\":0},\"sliderdefaults\":{\"bgcolor\":\"#C8D4E3\",\"borderwidth\":1,\"bordercolor\":\"rgb(17,17,17)\",\"tickwidth\":0},\"mapbox\":{\"style\":\"dark\"}}},\"hovermode\":\"x\"},                        {\"responsive\": true}                    ).then(function(){\n                            \nvar gd = document.getElementById('b742283d-0b5e-40cd-9422-d15d63b4c02e');\nvar x = new MutationObserver(function (mutations, observer) {{\n        var display = window.getComputedStyle(gd).display;\n        if (!display || display === 'none') {{\n            console.log([gd, 'removed!']);\n            Plotly.purge(gd);\n            observer.disconnect();\n        }}\n}});\n\n// Listen for the removal of the full notebook cells\nvar notebookContainer = gd.closest('#notebook-container');\nif (notebookContainer) {{\n    x.observe(notebookContainer, {childList: true});\n}}\n\n// Listen for the clearing of the current output cell\nvar outputEl = gd.closest('.output');\nif (outputEl) {{\n    x.observe(outputEl, {childList: true});\n}}\n\n                        })                };                });            </script>        </div>"
     },
     "metadata": {},
     "output_type": "display_data"
    },
    {
     "name": "stdout",
     "output_type": "stream",
     "text": [
      "[1.39201806e+03 2.91450205e+00 3.29325215e+05 2.02458738e+03]\n"
     ]
    },
    {
     "data": {
      "application/vnd.plotly.v1+json": {
       "data": [
        {
         "mode": "lines",
         "x": [
          1489.670166015625,
          1488.5650634765625,
          1487.459716796875,
          1486.354248046875,
          1485.24853515625,
          1484.142578125,
          1483.0364990234375,
          1481.93017578125,
          1480.8236083984375,
          1479.7169189453125,
          1478.6099853515625,
          1477.5028076171875,
          1476.3955078125,
          1475.2879638671875,
          1474.1802978515625,
          1473.0723876953125,
          1471.9642333984375,
          1470.8558349609375,
          1469.747314453125,
          1468.638671875,
          1467.5296630859375,
          1466.4205322265625,
          1465.311279296875,
          1464.20166015625,
          1463.0919189453125,
          1461.9820556640625,
          1460.8719482421875,
          1459.7615966796875,
          1458.6510009765625,
          1457.540283203125,
          1456.4293212890625,
          1455.3182373046875,
          1454.2069091796875,
          1453.0953369140625,
          1451.983642578125,
          1450.8717041015625,
          1449.759521484375,
          1448.647216796875,
          1447.53466796875,
          1446.421875,
          1445.3089599609375,
          1444.19580078125,
          1443.0823974609375,
          1441.9688720703125,
          1440.8551025390625,
          1439.7410888671875,
          1438.626953125,
          1437.5125732421875,
          1436.3980712890625,
          1435.2833251953125,
          1434.1683349609375,
          1433.0531005859375,
          1431.937744140625,
          1430.8221435546875,
          1429.7064208984375,
          1428.5904541015625,
          1427.4742431640625,
          1426.35791015625,
          1425.2412109375,
          1424.12451171875,
          1423.0074462890625,
          1421.8902587890625,
          1420.7728271484375,
          1419.6552734375,
          1418.5374755859375,
          1417.41943359375,
          1416.30126953125,
          1415.182861328125,
          1414.064208984375,
          1412.9454345703125,
          1411.826416015625,
          1410.7071533203125,
          1409.587646484375,
          1408.468017578125,
          1407.3482666015625,
          1406.2281494140625,
          1405.10791015625,
          1403.9874267578125,
          1402.8668212890625,
          1401.7459716796875,
          1400.6248779296875,
          1399.503662109375,
          1398.3822021484375,
          1397.260498046875,
          1396.1385498046875,
          1395.0164794921875,
          1393.894287109375,
          1392.771728515625,
          1391.6490478515625,
          1390.526123046875,
          1389.403076171875,
          1388.2796630859375,
          1387.15625,
          1386.032470703125,
          1384.9085693359375,
          1383.784423828125,
          1382.6600341796875,
          1381.5355224609375,
          1380.4107666015625,
          1379.2857666015625,
          1378.16064453125,
          1377.0352783203125,
          1375.90966796875,
          1374.783935546875,
          1373.657958984375,
          1372.53173828125,
          1371.4053955078125,
          1370.27880859375,
          1369.1519775390625,
          1368.02490234375,
          1366.897705078125,
          1365.770263671875,
          1364.6427001953125,
          1363.5147705078125,
          1362.38671875,
          1361.258544921875,
          1360.1300048828125,
          1359.0013427734375,
          1357.87255859375,
          1356.743408203125,
          1355.6141357421875,
          1354.484619140625,
          1353.35498046875,
          1352.22509765625,
          1351.094970703125,
          1349.964599609375,
          1348.8341064453125,
          1347.703369140625,
          1346.5723876953125,
          1345.441162109375,
          1344.309814453125,
          1343.17822265625,
          1342.0465087890625,
          1340.91455078125,
          1339.7823486328125,
          1338.64990234375,
          1337.517333984375,
          1336.384521484375,
          1335.25146484375,
          1334.1181640625,
          1332.9847412109375,
          1331.85107421875,
          1330.7171630859375,
          1329.5831298828125,
          1328.4488525390625,
          1327.3143310546875,
          1326.1796875,
          1325.0447998046875,
          1323.90966796875,
          1322.7742919921875,
          1321.6387939453125,
          1320.5029296875,
          1319.3670654296875,
          1318.2308349609375,
          1317.094482421875,
          1315.9578857421875,
          1314.821044921875,
          1313.68408203125,
          1312.546875,
          1311.409423828125,
          1310.271728515625,
          1309.1339111328125,
          1307.995849609375,
          1306.8575439453125,
          1305.718994140625,
          1304.580322265625,
          1303.44140625,
          1302.3023681640625,
          1301.1629638671875,
          1300.0234375,
          1298.8836669921875,
          1297.74365234375,
          1296.603515625,
          1295.463134765625,
          1294.322509765625,
          1293.181640625,
          1292.0406494140625,
          1290.8994140625,
          1289.7579345703125,
          1288.6163330078125,
          1287.474365234375,
          1286.332275390625,
          1285.1900634765625,
          1284.0474853515625,
          1282.90478515625,
          1281.7618408203125,
          1280.61865234375,
          1279.475341796875,
          1278.3316650390625,
          1277.1878662109375,
          1276.0439453125,
          1274.899658203125,
          1273.7552490234375,
          1272.610595703125,
          1271.4656982421875,
          1270.3206787109375,
          1269.17529296875,
          1268.02978515625,
          1266.8841552734375
         ],
         "y": [
          694.3976408777561,
          713.2885707370802,
          691.3639800564258,
          698.0707004750399,
          648.2245738936248,
          697.622768761774,
          683.7717776190365,
          638.0591475772137,
          668.8146184219393,
          647.5098952563729,
          666.433116618103,
          660.673925516971,
          645.2874898103453,
          624.2272993321487,
          636.6819067326204,
          640.04461631897,
          655.7679290338898,
          626.5510698736773,
          621.5971702257121,
          620.4216766224082,
          629.7366796334545,
          630.3635116467925,
          608.5088701143344,
          631.0219162027815,
          626.4517283462336,
          582.7234893150376,
          611.5203301136501,
          604.3114341398912,
          601.2855479431158,
          600.1227022789687,
          595.9145630123038,
          589.7333038333719,
          582.5951877228125,
          585.3149690688564,
          570.4829253454697,
          610.1727575479192,
          568.4736282549278,
          548.1611494586166,
          534.6203959207483,
          560.4500777518526,
          554.6556632456707,
          549.0386861826122,
          555.4044228685103,
          548.8654608516789,
          569.6940035560007,
          545.1018702224501,
          543.3188631059267,
          522.4117211632381,
          539.2343674099866,
          492.06428181233576,
          509.64091885918026,
          515.2272205195002,
          466.1944740424104,
          498.2575889859691,
          508.7909078738213,
          491.08439204646004,
          483.256739792106,
          497.7750653683141,
          514.6049246940123,
          492.6309279206534,
          502.2642111153539,
          462.5548469130275,
          503.5093352038378,
          515.1554739455868,
          493.89047324016207,
          492.2617907091952,
          514.2386998638335,
          497.69990902314845,
          516.5813514886627,
          527.2406501978406,
          554.6544957667511,
          524.3084091611767,
          534.1696406891772,
          570.1990049044864,
          636.4307112256597,
          718.4240677267309,
          768.942659362589,
          847.0217810978718,
          996.7810189832016,
          1139.5090024514752,
          1410.2334408522431,
          1846.51391947265,
          2498.3433453743573,
          3366.8770973519377,
          4653.8450039148465,
          5625.093521153196,
          3532.80389347429,
          -3565.3789318045315,
          -4735.30406738732,
          782.6483528619979,
          4096.199912399496,
          4564.069532129375,
          3772.039543782155,
          2761.8207815474143,
          2001.1262643808238,
          1481.2138543337685,
          1119.7349845838319,
          869.5556174714712,
          691.137234204889,
          534.1221310330947,
          415.5686646044559,
          317.5167502980721,
          233.85375424094053,
          102.15751750468648,
          15.724579211755312,
          -57.6876822817664,
          -129.9515503290827,
          -189.38741793101593,
          -261.13014304045265,
          -253.81906641556654,
          -256.34377502386866,
          -242.90358149404983,
          -213.76440459068087,
          -204.26367320400334,
          -107.59560802627864,
          -55.26716832799535,
          -15.802626554726714,
          -24.059876812569172,
          69.55147333984303,
          80.46865835740181,
          97.79450230114776,
          156.5488361519012,
          202.79787339541846,
          189.74296968198666,
          186.98469971586675,
          163.64502572062835,
          195.7756301149621,
          218.1306789126829,
          188.69051282753202,
          182.12900016464076,
          176.9928219061814,
          197.26648194866925,
          147.66461942268654,
          160.87036859988606,
          153.3542007930369,
          150.13198385606512,
          151.19073006915772,
          237.58750609211256,
          211.08271814800537,
          267.4256054004479,
          222.6863786434385,
          251.26597442313764,
          263.02588824696784,
          272.4942413591204,
          272.4181340761029,
          244.81744937309406,
          263.9987591230288,
          260.23959628625073,
          263.66211452881424,
          248.45291814760319,
          314.4347248149061,
          314.4324591948795,
          298.45857438151734,
          294.21635569265976,
          315.3200865829615,
          316.22811656755346,
          314.2353186178127,
          299.37237262525616,
          310.86130956983374,
          298.64041643178894,
          317.8999186153652,
          339.3286741940275,
          363.6183401060813,
          330.80534048845243,
          340.02870608049636,
          329.80931929836277,
          337.20615983223865,
          349.9072207172463,
          343.0867047286927,
          371.93543249484696,
          334.62938147936586,
          330.4554351645937,
          377.9526331728064,
          371.68801405560924,
          402.1943765846273,
          366.44110458427997,
          358.0503970482517,
          375.4489376234519,
          372.4020045563939,
          369.4745782820206,
          369.2897246838427,
          364.74073167641313,
          372.0285641355845,
          386.14304163177246,
          391.38517929026204,
          365.6553736508847,
          374.49472459574025,
          419.41341440164774,
          348.89116795994295,
          376.11053009503405,
          380.7243674061868,
          365.03726195053196,
          400.84538932498594,
          389.45400708638306,
          383.33004575100074,
          397.78865179939464,
          393.1300412918413,
          420.549911469232,
          413.55276224695217
         ],
         "type": "scatter"
        },
        {
         "mode": "lines",
         "x": [
          1399.503662109375,
          1398.3822021484375,
          1397.260498046875,
          1396.1385498046875,
          1395.0164794921875,
          1393.894287109375,
          1392.771728515625,
          1391.6490478515625,
          1390.526123046875,
          1389.403076171875,
          1388.2796630859375,
          1387.15625,
          1386.032470703125,
          1384.9085693359375,
          1383.784423828125,
          1382.6600341796875,
          1381.5355224609375,
          1380.4107666015625
         ],
         "y": [
          2387.5561078302885,
          2611.6679424972162,
          2994.975905692448,
          3593.6019244438357,
          4136.72087094983,
          2752.6250066315733,
          -3550.2960443057896,
          -5661.166846477121,
          1123.5484569738323,
          4062.2944110896437,
          3825.253293178062,
          3174.276724836227,
          2719.297468825544,
          2449.608330204119,
          2292.8082293560815,
          2199.7990878256282,
          2142.8844758166206,
          2106.8845218497463
         ],
         "type": "scatter"
        }
       ],
       "layout": {
        "template": {
         "data": {
          "histogram2dcontour": [
           {
            "type": "histogram2dcontour",
            "colorbar": {
             "outlinewidth": 0,
             "ticks": ""
            },
            "colorscale": [
             [
              0.0,
              "#0d0887"
             ],
             [
              0.1111111111111111,
              "#46039f"
             ],
             [
              0.2222222222222222,
              "#7201a8"
             ],
             [
              0.3333333333333333,
              "#9c179e"
             ],
             [
              0.4444444444444444,
              "#bd3786"
             ],
             [
              0.5555555555555556,
              "#d8576b"
             ],
             [
              0.6666666666666666,
              "#ed7953"
             ],
             [
              0.7777777777777778,
              "#fb9f3a"
             ],
             [
              0.8888888888888888,
              "#fdca26"
             ],
             [
              1.0,
              "#f0f921"
             ]
            ]
           }
          ],
          "choropleth": [
           {
            "type": "choropleth",
            "colorbar": {
             "outlinewidth": 0,
             "ticks": ""
            }
           }
          ],
          "histogram2d": [
           {
            "type": "histogram2d",
            "colorbar": {
             "outlinewidth": 0,
             "ticks": ""
            },
            "colorscale": [
             [
              0.0,
              "#0d0887"
             ],
             [
              0.1111111111111111,
              "#46039f"
             ],
             [
              0.2222222222222222,
              "#7201a8"
             ],
             [
              0.3333333333333333,
              "#9c179e"
             ],
             [
              0.4444444444444444,
              "#bd3786"
             ],
             [
              0.5555555555555556,
              "#d8576b"
             ],
             [
              0.6666666666666666,
              "#ed7953"
             ],
             [
              0.7777777777777778,
              "#fb9f3a"
             ],
             [
              0.8888888888888888,
              "#fdca26"
             ],
             [
              1.0,
              "#f0f921"
             ]
            ]
           }
          ],
          "heatmap": [
           {
            "type": "heatmap",
            "colorbar": {
             "outlinewidth": 0,
             "ticks": ""
            },
            "colorscale": [
             [
              0.0,
              "#0d0887"
             ],
             [
              0.1111111111111111,
              "#46039f"
             ],
             [
              0.2222222222222222,
              "#7201a8"
             ],
             [
              0.3333333333333333,
              "#9c179e"
             ],
             [
              0.4444444444444444,
              "#bd3786"
             ],
             [
              0.5555555555555556,
              "#d8576b"
             ],
             [
              0.6666666666666666,
              "#ed7953"
             ],
             [
              0.7777777777777778,
              "#fb9f3a"
             ],
             [
              0.8888888888888888,
              "#fdca26"
             ],
             [
              1.0,
              "#f0f921"
             ]
            ]
           }
          ],
          "heatmapgl": [
           {
            "type": "heatmapgl",
            "colorbar": {
             "outlinewidth": 0,
             "ticks": ""
            },
            "colorscale": [
             [
              0.0,
              "#0d0887"
             ],
             [
              0.1111111111111111,
              "#46039f"
             ],
             [
              0.2222222222222222,
              "#7201a8"
             ],
             [
              0.3333333333333333,
              "#9c179e"
             ],
             [
              0.4444444444444444,
              "#bd3786"
             ],
             [
              0.5555555555555556,
              "#d8576b"
             ],
             [
              0.6666666666666666,
              "#ed7953"
             ],
             [
              0.7777777777777778,
              "#fb9f3a"
             ],
             [
              0.8888888888888888,
              "#fdca26"
             ],
             [
              1.0,
              "#f0f921"
             ]
            ]
           }
          ],
          "contourcarpet": [
           {
            "type": "contourcarpet",
            "colorbar": {
             "outlinewidth": 0,
             "ticks": ""
            }
           }
          ],
          "contour": [
           {
            "type": "contour",
            "colorbar": {
             "outlinewidth": 0,
             "ticks": ""
            },
            "colorscale": [
             [
              0.0,
              "#0d0887"
             ],
             [
              0.1111111111111111,
              "#46039f"
             ],
             [
              0.2222222222222222,
              "#7201a8"
             ],
             [
              0.3333333333333333,
              "#9c179e"
             ],
             [
              0.4444444444444444,
              "#bd3786"
             ],
             [
              0.5555555555555556,
              "#d8576b"
             ],
             [
              0.6666666666666666,
              "#ed7953"
             ],
             [
              0.7777777777777778,
              "#fb9f3a"
             ],
             [
              0.8888888888888888,
              "#fdca26"
             ],
             [
              1.0,
              "#f0f921"
             ]
            ]
           }
          ],
          "surface": [
           {
            "type": "surface",
            "colorbar": {
             "outlinewidth": 0,
             "ticks": ""
            },
            "colorscale": [
             [
              0.0,
              "#0d0887"
             ],
             [
              0.1111111111111111,
              "#46039f"
             ],
             [
              0.2222222222222222,
              "#7201a8"
             ],
             [
              0.3333333333333333,
              "#9c179e"
             ],
             [
              0.4444444444444444,
              "#bd3786"
             ],
             [
              0.5555555555555556,
              "#d8576b"
             ],
             [
              0.6666666666666666,
              "#ed7953"
             ],
             [
              0.7777777777777778,
              "#fb9f3a"
             ],
             [
              0.8888888888888888,
              "#fdca26"
             ],
             [
              1.0,
              "#f0f921"
             ]
            ]
           }
          ],
          "mesh3d": [
           {
            "type": "mesh3d",
            "colorbar": {
             "outlinewidth": 0,
             "ticks": ""
            }
           }
          ],
          "scatter": [
           {
            "marker": {
             "line": {
              "color": "#283442"
             }
            },
            "type": "scatter"
           }
          ],
          "parcoords": [
           {
            "type": "parcoords",
            "line": {
             "colorbar": {
              "outlinewidth": 0,
              "ticks": ""
             }
            }
           }
          ],
          "scatterpolargl": [
           {
            "type": "scatterpolargl",
            "marker": {
             "colorbar": {
              "outlinewidth": 0,
              "ticks": ""
             }
            }
           }
          ],
          "bar": [
           {
            "error_x": {
             "color": "#f2f5fa"
            },
            "error_y": {
             "color": "#f2f5fa"
            },
            "marker": {
             "line": {
              "color": "rgb(17,17,17)",
              "width": 0.5
             },
             "pattern": {
              "fillmode": "overlay",
              "size": 10,
              "solidity": 0.2
             }
            },
            "type": "bar"
           }
          ],
          "scattergeo": [
           {
            "type": "scattergeo",
            "marker": {
             "colorbar": {
              "outlinewidth": 0,
              "ticks": ""
             }
            }
           }
          ],
          "scatterpolar": [
           {
            "type": "scatterpolar",
            "marker": {
             "colorbar": {
              "outlinewidth": 0,
              "ticks": ""
             }
            }
           }
          ],
          "histogram": [
           {
            "marker": {
             "pattern": {
              "fillmode": "overlay",
              "size": 10,
              "solidity": 0.2
             }
            },
            "type": "histogram"
           }
          ],
          "scattergl": [
           {
            "marker": {
             "line": {
              "color": "#283442"
             }
            },
            "type": "scattergl"
           }
          ],
          "scatter3d": [
           {
            "type": "scatter3d",
            "line": {
             "colorbar": {
              "outlinewidth": 0,
              "ticks": ""
             }
            },
            "marker": {
             "colorbar": {
              "outlinewidth": 0,
              "ticks": ""
             }
            }
           }
          ],
          "scattermapbox": [
           {
            "type": "scattermapbox",
            "marker": {
             "colorbar": {
              "outlinewidth": 0,
              "ticks": ""
             }
            }
           }
          ],
          "scatterternary": [
           {
            "type": "scatterternary",
            "marker": {
             "colorbar": {
              "outlinewidth": 0,
              "ticks": ""
             }
            }
           }
          ],
          "scattercarpet": [
           {
            "type": "scattercarpet",
            "marker": {
             "colorbar": {
              "outlinewidth": 0,
              "ticks": ""
             }
            }
           }
          ],
          "carpet": [
           {
            "aaxis": {
             "endlinecolor": "#A2B1C6",
             "gridcolor": "#506784",
             "linecolor": "#506784",
             "minorgridcolor": "#506784",
             "startlinecolor": "#A2B1C6"
            },
            "baxis": {
             "endlinecolor": "#A2B1C6",
             "gridcolor": "#506784",
             "linecolor": "#506784",
             "minorgridcolor": "#506784",
             "startlinecolor": "#A2B1C6"
            },
            "type": "carpet"
           }
          ],
          "table": [
           {
            "cells": {
             "fill": {
              "color": "#506784"
             },
             "line": {
              "color": "rgb(17,17,17)"
             }
            },
            "header": {
             "fill": {
              "color": "#2a3f5f"
             },
             "line": {
              "color": "rgb(17,17,17)"
             }
            },
            "type": "table"
           }
          ],
          "barpolar": [
           {
            "marker": {
             "line": {
              "color": "rgb(17,17,17)",
              "width": 0.5
             },
             "pattern": {
              "fillmode": "overlay",
              "size": 10,
              "solidity": 0.2
             }
            },
            "type": "barpolar"
           }
          ],
          "pie": [
           {
            "automargin": true,
            "type": "pie"
           }
          ]
         },
         "layout": {
          "autotypenumbers": "strict",
          "colorway": [
           "#636efa",
           "#EF553B",
           "#00cc96",
           "#ab63fa",
           "#FFA15A",
           "#19d3f3",
           "#FF6692",
           "#B6E880",
           "#FF97FF",
           "#FECB52"
          ],
          "font": {
           "color": "#f2f5fa"
          },
          "hovermode": "closest",
          "hoverlabel": {
           "align": "left"
          },
          "paper_bgcolor": "rgb(17,17,17)",
          "plot_bgcolor": "rgb(17,17,17)",
          "polar": {
           "bgcolor": "rgb(17,17,17)",
           "angularaxis": {
            "gridcolor": "#506784",
            "linecolor": "#506784",
            "ticks": ""
           },
           "radialaxis": {
            "gridcolor": "#506784",
            "linecolor": "#506784",
            "ticks": ""
           }
          },
          "ternary": {
           "bgcolor": "rgb(17,17,17)",
           "aaxis": {
            "gridcolor": "#506784",
            "linecolor": "#506784",
            "ticks": ""
           },
           "baxis": {
            "gridcolor": "#506784",
            "linecolor": "#506784",
            "ticks": ""
           },
           "caxis": {
            "gridcolor": "#506784",
            "linecolor": "#506784",
            "ticks": ""
           }
          },
          "coloraxis": {
           "colorbar": {
            "outlinewidth": 0,
            "ticks": ""
           }
          },
          "colorscale": {
           "sequential": [
            [
             0.0,
             "#0d0887"
            ],
            [
             0.1111111111111111,
             "#46039f"
            ],
            [
             0.2222222222222222,
             "#7201a8"
            ],
            [
             0.3333333333333333,
             "#9c179e"
            ],
            [
             0.4444444444444444,
             "#bd3786"
            ],
            [
             0.5555555555555556,
             "#d8576b"
            ],
            [
             0.6666666666666666,
             "#ed7953"
            ],
            [
             0.7777777777777778,
             "#fb9f3a"
            ],
            [
             0.8888888888888888,
             "#fdca26"
            ],
            [
             1.0,
             "#f0f921"
            ]
           ],
           "sequentialminus": [
            [
             0.0,
             "#0d0887"
            ],
            [
             0.1111111111111111,
             "#46039f"
            ],
            [
             0.2222222222222222,
             "#7201a8"
            ],
            [
             0.3333333333333333,
             "#9c179e"
            ],
            [
             0.4444444444444444,
             "#bd3786"
            ],
            [
             0.5555555555555556,
             "#d8576b"
            ],
            [
             0.6666666666666666,
             "#ed7953"
            ],
            [
             0.7777777777777778,
             "#fb9f3a"
            ],
            [
             0.8888888888888888,
             "#fdca26"
            ],
            [
             1.0,
             "#f0f921"
            ]
           ],
           "diverging": [
            [
             0,
             "#8e0152"
            ],
            [
             0.1,
             "#c51b7d"
            ],
            [
             0.2,
             "#de77ae"
            ],
            [
             0.3,
             "#f1b6da"
            ],
            [
             0.4,
             "#fde0ef"
            ],
            [
             0.5,
             "#f7f7f7"
            ],
            [
             0.6,
             "#e6f5d0"
            ],
            [
             0.7,
             "#b8e186"
            ],
            [
             0.8,
             "#7fbc41"
            ],
            [
             0.9,
             "#4d9221"
            ],
            [
             1,
             "#276419"
            ]
           ]
          },
          "xaxis": {
           "gridcolor": "#283442",
           "linecolor": "#506784",
           "ticks": "",
           "title": {
            "standoff": 15
           },
           "zerolinecolor": "#283442",
           "automargin": true,
           "zerolinewidth": 2
          },
          "yaxis": {
           "gridcolor": "#283442",
           "linecolor": "#506784",
           "ticks": "",
           "title": {
            "standoff": 15
           },
           "zerolinecolor": "#283442",
           "automargin": true,
           "zerolinewidth": 2
          },
          "scene": {
           "xaxis": {
            "backgroundcolor": "rgb(17,17,17)",
            "gridcolor": "#506784",
            "linecolor": "#506784",
            "showbackground": true,
            "ticks": "",
            "zerolinecolor": "#C8D4E3",
            "gridwidth": 2
           },
           "yaxis": {
            "backgroundcolor": "rgb(17,17,17)",
            "gridcolor": "#506784",
            "linecolor": "#506784",
            "showbackground": true,
            "ticks": "",
            "zerolinecolor": "#C8D4E3",
            "gridwidth": 2
           },
           "zaxis": {
            "backgroundcolor": "rgb(17,17,17)",
            "gridcolor": "#506784",
            "linecolor": "#506784",
            "showbackground": true,
            "ticks": "",
            "zerolinecolor": "#C8D4E3",
            "gridwidth": 2
           }
          },
          "shapedefaults": {
           "line": {
            "color": "#f2f5fa"
           }
          },
          "annotationdefaults": {
           "arrowcolor": "#f2f5fa",
           "arrowhead": 0,
           "arrowwidth": 1
          },
          "geo": {
           "bgcolor": "rgb(17,17,17)",
           "landcolor": "rgb(17,17,17)",
           "subunitcolor": "#506784",
           "showland": true,
           "showlakes": true,
           "lakecolor": "rgb(17,17,17)"
          },
          "title": {
           "x": 0.05
          },
          "updatemenudefaults": {
           "bgcolor": "#506784",
           "borderwidth": 0
          },
          "sliderdefaults": {
           "bgcolor": "#C8D4E3",
           "borderwidth": 1,
           "bordercolor": "rgb(17,17,17)",
           "tickwidth": 0
          },
          "mapbox": {
           "style": "dark"
          }
         }
        },
        "hovermode": "x"
       },
       "config": {
        "plotlyServerURL": "https://plot.ly"
       }
      },
      "text/html": "<div>                            <div id=\"5246ed63-2139-46c8-a566-bfd42349e65e\" class=\"plotly-graph-div\" style=\"height:525px; width:100%;\"></div>            <script type=\"text/javascript\">                require([\"plotly\"], function(Plotly) {                    window.PLOTLYENV=window.PLOTLYENV || {};                                    if (document.getElementById(\"5246ed63-2139-46c8-a566-bfd42349e65e\")) {                    Plotly.newPlot(                        \"5246ed63-2139-46c8-a566-bfd42349e65e\",                        [{\"mode\":\"lines\",\"x\":[1489.670166015625,1488.5650634765625,1487.459716796875,1486.354248046875,1485.24853515625,1484.142578125,1483.0364990234375,1481.93017578125,1480.8236083984375,1479.7169189453125,1478.6099853515625,1477.5028076171875,1476.3955078125,1475.2879638671875,1474.1802978515625,1473.0723876953125,1471.9642333984375,1470.8558349609375,1469.747314453125,1468.638671875,1467.5296630859375,1466.4205322265625,1465.311279296875,1464.20166015625,1463.0919189453125,1461.9820556640625,1460.8719482421875,1459.7615966796875,1458.6510009765625,1457.540283203125,1456.4293212890625,1455.3182373046875,1454.2069091796875,1453.0953369140625,1451.983642578125,1450.8717041015625,1449.759521484375,1448.647216796875,1447.53466796875,1446.421875,1445.3089599609375,1444.19580078125,1443.0823974609375,1441.9688720703125,1440.8551025390625,1439.7410888671875,1438.626953125,1437.5125732421875,1436.3980712890625,1435.2833251953125,1434.1683349609375,1433.0531005859375,1431.937744140625,1430.8221435546875,1429.7064208984375,1428.5904541015625,1427.4742431640625,1426.35791015625,1425.2412109375,1424.12451171875,1423.0074462890625,1421.8902587890625,1420.7728271484375,1419.6552734375,1418.5374755859375,1417.41943359375,1416.30126953125,1415.182861328125,1414.064208984375,1412.9454345703125,1411.826416015625,1410.7071533203125,1409.587646484375,1408.468017578125,1407.3482666015625,1406.2281494140625,1405.10791015625,1403.9874267578125,1402.8668212890625,1401.7459716796875,1400.6248779296875,1399.503662109375,1398.3822021484375,1397.260498046875,1396.1385498046875,1395.0164794921875,1393.894287109375,1392.771728515625,1391.6490478515625,1390.526123046875,1389.403076171875,1388.2796630859375,1387.15625,1386.032470703125,1384.9085693359375,1383.784423828125,1382.6600341796875,1381.5355224609375,1380.4107666015625,1379.2857666015625,1378.16064453125,1377.0352783203125,1375.90966796875,1374.783935546875,1373.657958984375,1372.53173828125,1371.4053955078125,1370.27880859375,1369.1519775390625,1368.02490234375,1366.897705078125,1365.770263671875,1364.6427001953125,1363.5147705078125,1362.38671875,1361.258544921875,1360.1300048828125,1359.0013427734375,1357.87255859375,1356.743408203125,1355.6141357421875,1354.484619140625,1353.35498046875,1352.22509765625,1351.094970703125,1349.964599609375,1348.8341064453125,1347.703369140625,1346.5723876953125,1345.441162109375,1344.309814453125,1343.17822265625,1342.0465087890625,1340.91455078125,1339.7823486328125,1338.64990234375,1337.517333984375,1336.384521484375,1335.25146484375,1334.1181640625,1332.9847412109375,1331.85107421875,1330.7171630859375,1329.5831298828125,1328.4488525390625,1327.3143310546875,1326.1796875,1325.0447998046875,1323.90966796875,1322.7742919921875,1321.6387939453125,1320.5029296875,1319.3670654296875,1318.2308349609375,1317.094482421875,1315.9578857421875,1314.821044921875,1313.68408203125,1312.546875,1311.409423828125,1310.271728515625,1309.1339111328125,1307.995849609375,1306.8575439453125,1305.718994140625,1304.580322265625,1303.44140625,1302.3023681640625,1301.1629638671875,1300.0234375,1298.8836669921875,1297.74365234375,1296.603515625,1295.463134765625,1294.322509765625,1293.181640625,1292.0406494140625,1290.8994140625,1289.7579345703125,1288.6163330078125,1287.474365234375,1286.332275390625,1285.1900634765625,1284.0474853515625,1282.90478515625,1281.7618408203125,1280.61865234375,1279.475341796875,1278.3316650390625,1277.1878662109375,1276.0439453125,1274.899658203125,1273.7552490234375,1272.610595703125,1271.4656982421875,1270.3206787109375,1269.17529296875,1268.02978515625,1266.8841552734375],\"y\":[694.3976408777561,713.2885707370802,691.3639800564258,698.0707004750399,648.2245738936248,697.622768761774,683.7717776190365,638.0591475772137,668.8146184219393,647.5098952563729,666.433116618103,660.673925516971,645.2874898103453,624.2272993321487,636.6819067326204,640.04461631897,655.7679290338898,626.5510698736773,621.5971702257121,620.4216766224082,629.7366796334545,630.3635116467925,608.5088701143344,631.0219162027815,626.4517283462336,582.7234893150376,611.5203301136501,604.3114341398912,601.2855479431158,600.1227022789687,595.9145630123038,589.7333038333719,582.5951877228125,585.3149690688564,570.4829253454697,610.1727575479192,568.4736282549278,548.1611494586166,534.6203959207483,560.4500777518526,554.6556632456707,549.0386861826122,555.4044228685103,548.8654608516789,569.6940035560007,545.1018702224501,543.3188631059267,522.4117211632381,539.2343674099866,492.06428181233576,509.64091885918026,515.2272205195002,466.1944740424104,498.2575889859691,508.7909078738213,491.08439204646004,483.256739792106,497.7750653683141,514.6049246940123,492.6309279206534,502.2642111153539,462.5548469130275,503.5093352038378,515.1554739455868,493.89047324016207,492.2617907091952,514.2386998638335,497.69990902314845,516.5813514886627,527.2406501978406,554.6544957667511,524.3084091611767,534.1696406891772,570.1990049044864,636.4307112256597,718.4240677267309,768.942659362589,847.0217810978718,996.7810189832016,1139.5090024514752,1410.2334408522431,1846.51391947265,2498.3433453743573,3366.8770973519377,4653.8450039148465,5625.093521153196,3532.80389347429,-3565.3789318045315,-4735.30406738732,782.6483528619979,4096.199912399496,4564.069532129375,3772.039543782155,2761.8207815474143,2001.1262643808238,1481.2138543337685,1119.7349845838319,869.5556174714712,691.137234204889,534.1221310330947,415.5686646044559,317.5167502980721,233.85375424094053,102.15751750468648,15.724579211755312,-57.6876822817664,-129.9515503290827,-189.38741793101593,-261.13014304045265,-253.81906641556654,-256.34377502386866,-242.90358149404983,-213.76440459068087,-204.26367320400334,-107.59560802627864,-55.26716832799535,-15.802626554726714,-24.059876812569172,69.55147333984303,80.46865835740181,97.79450230114776,156.5488361519012,202.79787339541846,189.74296968198666,186.98469971586675,163.64502572062835,195.7756301149621,218.1306789126829,188.69051282753202,182.12900016464076,176.9928219061814,197.26648194866925,147.66461942268654,160.87036859988606,153.3542007930369,150.13198385606512,151.19073006915772,237.58750609211256,211.08271814800537,267.4256054004479,222.6863786434385,251.26597442313764,263.02588824696784,272.4942413591204,272.4181340761029,244.81744937309406,263.9987591230288,260.23959628625073,263.66211452881424,248.45291814760319,314.4347248149061,314.4324591948795,298.45857438151734,294.21635569265976,315.3200865829615,316.22811656755346,314.2353186178127,299.37237262525616,310.86130956983374,298.64041643178894,317.8999186153652,339.3286741940275,363.6183401060813,330.80534048845243,340.02870608049636,329.80931929836277,337.20615983223865,349.9072207172463,343.0867047286927,371.93543249484696,334.62938147936586,330.4554351645937,377.9526331728064,371.68801405560924,402.1943765846273,366.44110458427997,358.0503970482517,375.4489376234519,372.4020045563939,369.4745782820206,369.2897246838427,364.74073167641313,372.0285641355845,386.14304163177246,391.38517929026204,365.6553736508847,374.49472459574025,419.41341440164774,348.89116795994295,376.11053009503405,380.7243674061868,365.03726195053196,400.84538932498594,389.45400708638306,383.33004575100074,397.78865179939464,393.1300412918413,420.549911469232,413.55276224695217],\"type\":\"scatter\"},{\"mode\":\"lines\",\"x\":[1399.503662109375,1398.3822021484375,1397.260498046875,1396.1385498046875,1395.0164794921875,1393.894287109375,1392.771728515625,1391.6490478515625,1390.526123046875,1389.403076171875,1388.2796630859375,1387.15625,1386.032470703125,1384.9085693359375,1383.784423828125,1382.6600341796875,1381.5355224609375,1380.4107666015625],\"y\":[2387.5561078302885,2611.6679424972162,2994.975905692448,3593.6019244438357,4136.72087094983,2752.6250066315733,-3550.2960443057896,-5661.166846477121,1123.5484569738323,4062.2944110896437,3825.253293178062,3174.276724836227,2719.297468825544,2449.608330204119,2292.8082293560815,2199.7990878256282,2142.8844758166206,2106.8845218497463],\"type\":\"scatter\"}],                        {\"template\":{\"data\":{\"histogram2dcontour\":[{\"type\":\"histogram2dcontour\",\"colorbar\":{\"outlinewidth\":0,\"ticks\":\"\"},\"colorscale\":[[0.0,\"#0d0887\"],[0.1111111111111111,\"#46039f\"],[0.2222222222222222,\"#7201a8\"],[0.3333333333333333,\"#9c179e\"],[0.4444444444444444,\"#bd3786\"],[0.5555555555555556,\"#d8576b\"],[0.6666666666666666,\"#ed7953\"],[0.7777777777777778,\"#fb9f3a\"],[0.8888888888888888,\"#fdca26\"],[1.0,\"#f0f921\"]]}],\"choropleth\":[{\"type\":\"choropleth\",\"colorbar\":{\"outlinewidth\":0,\"ticks\":\"\"}}],\"histogram2d\":[{\"type\":\"histogram2d\",\"colorbar\":{\"outlinewidth\":0,\"ticks\":\"\"},\"colorscale\":[[0.0,\"#0d0887\"],[0.1111111111111111,\"#46039f\"],[0.2222222222222222,\"#7201a8\"],[0.3333333333333333,\"#9c179e\"],[0.4444444444444444,\"#bd3786\"],[0.5555555555555556,\"#d8576b\"],[0.6666666666666666,\"#ed7953\"],[0.7777777777777778,\"#fb9f3a\"],[0.8888888888888888,\"#fdca26\"],[1.0,\"#f0f921\"]]}],\"heatmap\":[{\"type\":\"heatmap\",\"colorbar\":{\"outlinewidth\":0,\"ticks\":\"\"},\"colorscale\":[[0.0,\"#0d0887\"],[0.1111111111111111,\"#46039f\"],[0.2222222222222222,\"#7201a8\"],[0.3333333333333333,\"#9c179e\"],[0.4444444444444444,\"#bd3786\"],[0.5555555555555556,\"#d8576b\"],[0.6666666666666666,\"#ed7953\"],[0.7777777777777778,\"#fb9f3a\"],[0.8888888888888888,\"#fdca26\"],[1.0,\"#f0f921\"]]}],\"heatmapgl\":[{\"type\":\"heatmapgl\",\"colorbar\":{\"outlinewidth\":0,\"ticks\":\"\"},\"colorscale\":[[0.0,\"#0d0887\"],[0.1111111111111111,\"#46039f\"],[0.2222222222222222,\"#7201a8\"],[0.3333333333333333,\"#9c179e\"],[0.4444444444444444,\"#bd3786\"],[0.5555555555555556,\"#d8576b\"],[0.6666666666666666,\"#ed7953\"],[0.7777777777777778,\"#fb9f3a\"],[0.8888888888888888,\"#fdca26\"],[1.0,\"#f0f921\"]]}],\"contourcarpet\":[{\"type\":\"contourcarpet\",\"colorbar\":{\"outlinewidth\":0,\"ticks\":\"\"}}],\"contour\":[{\"type\":\"contour\",\"colorbar\":{\"outlinewidth\":0,\"ticks\":\"\"},\"colorscale\":[[0.0,\"#0d0887\"],[0.1111111111111111,\"#46039f\"],[0.2222222222222222,\"#7201a8\"],[0.3333333333333333,\"#9c179e\"],[0.4444444444444444,\"#bd3786\"],[0.5555555555555556,\"#d8576b\"],[0.6666666666666666,\"#ed7953\"],[0.7777777777777778,\"#fb9f3a\"],[0.8888888888888888,\"#fdca26\"],[1.0,\"#f0f921\"]]}],\"surface\":[{\"type\":\"surface\",\"colorbar\":{\"outlinewidth\":0,\"ticks\":\"\"},\"colorscale\":[[0.0,\"#0d0887\"],[0.1111111111111111,\"#46039f\"],[0.2222222222222222,\"#7201a8\"],[0.3333333333333333,\"#9c179e\"],[0.4444444444444444,\"#bd3786\"],[0.5555555555555556,\"#d8576b\"],[0.6666666666666666,\"#ed7953\"],[0.7777777777777778,\"#fb9f3a\"],[0.8888888888888888,\"#fdca26\"],[1.0,\"#f0f921\"]]}],\"mesh3d\":[{\"type\":\"mesh3d\",\"colorbar\":{\"outlinewidth\":0,\"ticks\":\"\"}}],\"scatter\":[{\"marker\":{\"line\":{\"color\":\"#283442\"}},\"type\":\"scatter\"}],\"parcoords\":[{\"type\":\"parcoords\",\"line\":{\"colorbar\":{\"outlinewidth\":0,\"ticks\":\"\"}}}],\"scatterpolargl\":[{\"type\":\"scatterpolargl\",\"marker\":{\"colorbar\":{\"outlinewidth\":0,\"ticks\":\"\"}}}],\"bar\":[{\"error_x\":{\"color\":\"#f2f5fa\"},\"error_y\":{\"color\":\"#f2f5fa\"},\"marker\":{\"line\":{\"color\":\"rgb(17,17,17)\",\"width\":0.5},\"pattern\":{\"fillmode\":\"overlay\",\"size\":10,\"solidity\":0.2}},\"type\":\"bar\"}],\"scattergeo\":[{\"type\":\"scattergeo\",\"marker\":{\"colorbar\":{\"outlinewidth\":0,\"ticks\":\"\"}}}],\"scatterpolar\":[{\"type\":\"scatterpolar\",\"marker\":{\"colorbar\":{\"outlinewidth\":0,\"ticks\":\"\"}}}],\"histogram\":[{\"marker\":{\"pattern\":{\"fillmode\":\"overlay\",\"size\":10,\"solidity\":0.2}},\"type\":\"histogram\"}],\"scattergl\":[{\"marker\":{\"line\":{\"color\":\"#283442\"}},\"type\":\"scattergl\"}],\"scatter3d\":[{\"type\":\"scatter3d\",\"line\":{\"colorbar\":{\"outlinewidth\":0,\"ticks\":\"\"}},\"marker\":{\"colorbar\":{\"outlinewidth\":0,\"ticks\":\"\"}}}],\"scattermapbox\":[{\"type\":\"scattermapbox\",\"marker\":{\"colorbar\":{\"outlinewidth\":0,\"ticks\":\"\"}}}],\"scatterternary\":[{\"type\":\"scatterternary\",\"marker\":{\"colorbar\":{\"outlinewidth\":0,\"ticks\":\"\"}}}],\"scattercarpet\":[{\"type\":\"scattercarpet\",\"marker\":{\"colorbar\":{\"outlinewidth\":0,\"ticks\":\"\"}}}],\"carpet\":[{\"aaxis\":{\"endlinecolor\":\"#A2B1C6\",\"gridcolor\":\"#506784\",\"linecolor\":\"#506784\",\"minorgridcolor\":\"#506784\",\"startlinecolor\":\"#A2B1C6\"},\"baxis\":{\"endlinecolor\":\"#A2B1C6\",\"gridcolor\":\"#506784\",\"linecolor\":\"#506784\",\"minorgridcolor\":\"#506784\",\"startlinecolor\":\"#A2B1C6\"},\"type\":\"carpet\"}],\"table\":[{\"cells\":{\"fill\":{\"color\":\"#506784\"},\"line\":{\"color\":\"rgb(17,17,17)\"}},\"header\":{\"fill\":{\"color\":\"#2a3f5f\"},\"line\":{\"color\":\"rgb(17,17,17)\"}},\"type\":\"table\"}],\"barpolar\":[{\"marker\":{\"line\":{\"color\":\"rgb(17,17,17)\",\"width\":0.5},\"pattern\":{\"fillmode\":\"overlay\",\"size\":10,\"solidity\":0.2}},\"type\":\"barpolar\"}],\"pie\":[{\"automargin\":true,\"type\":\"pie\"}]},\"layout\":{\"autotypenumbers\":\"strict\",\"colorway\":[\"#636efa\",\"#EF553B\",\"#00cc96\",\"#ab63fa\",\"#FFA15A\",\"#19d3f3\",\"#FF6692\",\"#B6E880\",\"#FF97FF\",\"#FECB52\"],\"font\":{\"color\":\"#f2f5fa\"},\"hovermode\":\"closest\",\"hoverlabel\":{\"align\":\"left\"},\"paper_bgcolor\":\"rgb(17,17,17)\",\"plot_bgcolor\":\"rgb(17,17,17)\",\"polar\":{\"bgcolor\":\"rgb(17,17,17)\",\"angularaxis\":{\"gridcolor\":\"#506784\",\"linecolor\":\"#506784\",\"ticks\":\"\"},\"radialaxis\":{\"gridcolor\":\"#506784\",\"linecolor\":\"#506784\",\"ticks\":\"\"}},\"ternary\":{\"bgcolor\":\"rgb(17,17,17)\",\"aaxis\":{\"gridcolor\":\"#506784\",\"linecolor\":\"#506784\",\"ticks\":\"\"},\"baxis\":{\"gridcolor\":\"#506784\",\"linecolor\":\"#506784\",\"ticks\":\"\"},\"caxis\":{\"gridcolor\":\"#506784\",\"linecolor\":\"#506784\",\"ticks\":\"\"}},\"coloraxis\":{\"colorbar\":{\"outlinewidth\":0,\"ticks\":\"\"}},\"colorscale\":{\"sequential\":[[0.0,\"#0d0887\"],[0.1111111111111111,\"#46039f\"],[0.2222222222222222,\"#7201a8\"],[0.3333333333333333,\"#9c179e\"],[0.4444444444444444,\"#bd3786\"],[0.5555555555555556,\"#d8576b\"],[0.6666666666666666,\"#ed7953\"],[0.7777777777777778,\"#fb9f3a\"],[0.8888888888888888,\"#fdca26\"],[1.0,\"#f0f921\"]],\"sequentialminus\":[[0.0,\"#0d0887\"],[0.1111111111111111,\"#46039f\"],[0.2222222222222222,\"#7201a8\"],[0.3333333333333333,\"#9c179e\"],[0.4444444444444444,\"#bd3786\"],[0.5555555555555556,\"#d8576b\"],[0.6666666666666666,\"#ed7953\"],[0.7777777777777778,\"#fb9f3a\"],[0.8888888888888888,\"#fdca26\"],[1.0,\"#f0f921\"]],\"diverging\":[[0,\"#8e0152\"],[0.1,\"#c51b7d\"],[0.2,\"#de77ae\"],[0.3,\"#f1b6da\"],[0.4,\"#fde0ef\"],[0.5,\"#f7f7f7\"],[0.6,\"#e6f5d0\"],[0.7,\"#b8e186\"],[0.8,\"#7fbc41\"],[0.9,\"#4d9221\"],[1,\"#276419\"]]},\"xaxis\":{\"gridcolor\":\"#283442\",\"linecolor\":\"#506784\",\"ticks\":\"\",\"title\":{\"standoff\":15},\"zerolinecolor\":\"#283442\",\"automargin\":true,\"zerolinewidth\":2},\"yaxis\":{\"gridcolor\":\"#283442\",\"linecolor\":\"#506784\",\"ticks\":\"\",\"title\":{\"standoff\":15},\"zerolinecolor\":\"#283442\",\"automargin\":true,\"zerolinewidth\":2},\"scene\":{\"xaxis\":{\"backgroundcolor\":\"rgb(17,17,17)\",\"gridcolor\":\"#506784\",\"linecolor\":\"#506784\",\"showbackground\":true,\"ticks\":\"\",\"zerolinecolor\":\"#C8D4E3\",\"gridwidth\":2},\"yaxis\":{\"backgroundcolor\":\"rgb(17,17,17)\",\"gridcolor\":\"#506784\",\"linecolor\":\"#506784\",\"showbackground\":true,\"ticks\":\"\",\"zerolinecolor\":\"#C8D4E3\",\"gridwidth\":2},\"zaxis\":{\"backgroundcolor\":\"rgb(17,17,17)\",\"gridcolor\":\"#506784\",\"linecolor\":\"#506784\",\"showbackground\":true,\"ticks\":\"\",\"zerolinecolor\":\"#C8D4E3\",\"gridwidth\":2}},\"shapedefaults\":{\"line\":{\"color\":\"#f2f5fa\"}},\"annotationdefaults\":{\"arrowcolor\":\"#f2f5fa\",\"arrowhead\":0,\"arrowwidth\":1},\"geo\":{\"bgcolor\":\"rgb(17,17,17)\",\"landcolor\":\"rgb(17,17,17)\",\"subunitcolor\":\"#506784\",\"showland\":true,\"showlakes\":true,\"lakecolor\":\"rgb(17,17,17)\"},\"title\":{\"x\":0.05},\"updatemenudefaults\":{\"bgcolor\":\"#506784\",\"borderwidth\":0},\"sliderdefaults\":{\"bgcolor\":\"#C8D4E3\",\"borderwidth\":1,\"bordercolor\":\"rgb(17,17,17)\",\"tickwidth\":0},\"mapbox\":{\"style\":\"dark\"}}},\"hovermode\":\"x\"},                        {\"responsive\": true}                    ).then(function(){\n                            \nvar gd = document.getElementById('5246ed63-2139-46c8-a566-bfd42349e65e');\nvar x = new MutationObserver(function (mutations, observer) {{\n        var display = window.getComputedStyle(gd).display;\n        if (!display || display === 'none') {{\n            console.log([gd, 'removed!']);\n            Plotly.purge(gd);\n            observer.disconnect();\n        }}\n}});\n\n// Listen for the removal of the full notebook cells\nvar notebookContainer = gd.closest('#notebook-container');\nif (notebookContainer) {{\n    x.observe(notebookContainer, {childList: true});\n}}\n\n// Listen for the clearing of the current output cell\nvar outputEl = gd.closest('.output');\nif (outputEl) {{\n    x.observe(outputEl, {childList: true});\n}}\n\n                        })                };                });            </script>        </div>"
     },
     "metadata": {},
     "output_type": "display_data"
    },
    {
     "data": {
      "text/plain": "array([[-1650316.79563961,        0.        ,        0.        ,\n               0.        ,        0.        ],\n       [ -645129.93611166,        0.        ,        0.        ,\n          367512.77129684,        0.        ],\n       [       0.        ,    61621.73369661,  -240442.3677895 ,\n               0.        ,        0.        ],\n       [       0.        ,   674604.10153941,    80256.71349783,\n          -70178.05019162,        0.        ],\n       [       0.        ,        0.        ,  -655782.08061975,\n          119681.24683707,   329325.21450672]])"
     },
     "execution_count": 48,
     "metadata": {},
     "output_type": "execute_result"
    }
   ],
   "source": [
    "## Map A\n",
    "t_matrix = np.zeros((5,5))\n",
    "\n",
    "draw = False\n",
    "# for i in range(6):\n",
    "#     t_matrix[0][i] = np.average(map_a.base_vectors[i], weights=((map_a.raman_shift < 1310) | (map_a.raman_shift > 1420)) )\n",
    "    # t_matrix[0][i] = map_a.draw_curve(line, [np.average(map_a.base_vectors[i], weights=((map_a.raman_shift < 1310) | (map_a.raman_shift > 1420)) )], 1200, 1500, base_vector = i, draw = True, bounds = 'inf').show()\n",
    "\n",
    "t_matrix[0][0] = map_a.fit_curve(lorentz, (1392, 2.5, -17 * 10**5, -7000), 1380, 1400, 2, base_vector = 0, draw = draw)\n",
    "\n",
    "t_matrix[1][0] = map_a.fit_curve(lorentz, (1345, 14,  -5 * 10**5, -10000), 1330, 1360, 2, base_vector = 0, draw = draw)\n",
    "t_matrix[1][3] = map_a.fit_curve(lorentz, (1345, 16,  3.2 * 10**5, -4000), 1330, 1360, 2, base_vector = 3, draw = draw)\n",
    "\n",
    "t_matrix[2][1] = map_a.fit_curve(lorentz, (1369, 10,  0.8 * 10**5,  1000), 1355, 1380, 2, base_vector = 1, draw = draw)\n",
    "t_matrix[2][2] = map_a.fit_curve(lorentz, (1369, 10, -2.4 * 10**5, -1400), 1355, 1380, 2, base_vector = 2, draw = draw)\n",
    "\n",
    "t_matrix[3][1] = map_a.fit_curve(lorentz_diff1, (1392, 2.5, -17 * 10**5, -7000), 1385, 1400, 2, base_vector = 1, draw = draw, bounds = 'inf')\n",
    "t_matrix[3][2] = map_a.fit_curve(lorentz_diff1, (1392, 2.5, -17 * 10**5, -7000), 1385, 1400, 2, base_vector = 2, draw = draw, bounds = 'inf')\n",
    "t_matrix[3][3] = map_a.fit_curve(lorentz_diff1, (1392, 2.5, -17 * 10**5, -7000), 1385, 1400, 2, base_vector = 3, draw = draw, bounds = 'inf')\n",
    "\n",
    "# t_matrix[4][2] = map_a.fit_curve(lorentz_diff2, [ 1.39e+03, 3e+00, 10.8e+04, -1.4e+03], 1380, 1400, 2, base_vector = 2, draw = True, bounds = 'inf')\n",
    "# t_matrix[4][3] = map_a.fit_curve(lorentz_diff2, [ 1.39e+03, 3e+00, 10.8e+04, -1.4e+03], 1380, 1400, 2, base_vector = 3, draw = True, bounds = 'inf')\n",
    "t_matrix[4][4] = map_a.fit_curve(lorentz_diff2, [ 1.39e+03, 3e+00, 10.8e+04, -1.4e+03], 1380, 1400, 2, base_vector = 4, draw = True, bounds = 'inf')\n",
    "\n",
    "t_matrix"
   ],
   "metadata": {
    "collapsed": false,
    "ExecuteTime": {
     "end_time": "2024-04-15T20:53:16.283588Z",
     "start_time": "2024-04-15T20:53:15.637954Z"
    }
   },
   "id": "c42113a3b53681f8",
   "execution_count": 48
  },
  {
   "cell_type": "code",
   "outputs": [],
   "source": [
    "map_a.draw_curve(lorentz_diff2, [ 1.39113772e+03, 3e+00, 10.79995135e+04, -1.38837064e+03], 1380, 1400, base_vector = 4, draw = draw, bounds = 'inf').write_html('test.html')\n"
   ],
   "metadata": {
    "collapsed": false,
    "ExecuteTime": {
     "end_time": "2024-04-15T21:07:47.709228Z",
     "start_time": "2024-04-15T21:07:47.668341Z"
    }
   },
   "id": "bcaea3c95e45b647",
   "execution_count": 52
  },
  {
   "cell_type": "code",
   "outputs": [
    {
     "data": {
      "application/vnd.plotly.v1+json": {
       "data": [
        {
         "hovertemplate": "x=%{x}<br>y=%{y}<extra></extra>",
         "legendgroup": "",
         "line": {
          "color": "#636efa",
          "dash": "solid"
         },
         "marker": {
          "symbol": "circle"
         },
         "mode": "lines",
         "name": "",
         "orientation": "v",
         "showlegend": false,
         "x": [
          1489.670166015625,
          1488.5650634765625,
          1487.459716796875,
          1486.354248046875,
          1485.24853515625,
          1484.142578125,
          1483.0364990234375,
          1481.93017578125,
          1480.8236083984375,
          1479.7169189453125,
          1478.6099853515625,
          1477.5028076171875,
          1476.3955078125,
          1475.2879638671875,
          1474.1802978515625,
          1473.0723876953125,
          1471.9642333984375,
          1470.8558349609375,
          1469.747314453125,
          1468.638671875,
          1467.5296630859375,
          1466.4205322265625,
          1465.311279296875,
          1464.20166015625,
          1463.0919189453125,
          1461.9820556640625,
          1460.8719482421875,
          1459.7615966796875,
          1458.6510009765625,
          1457.540283203125,
          1456.4293212890625,
          1455.3182373046875,
          1454.2069091796875,
          1453.0953369140625,
          1451.983642578125,
          1450.8717041015625,
          1449.759521484375,
          1448.647216796875,
          1447.53466796875,
          1446.421875,
          1445.3089599609375,
          1444.19580078125,
          1443.0823974609375,
          1441.9688720703125,
          1440.8551025390625,
          1439.7410888671875,
          1438.626953125,
          1437.5125732421875,
          1436.3980712890625,
          1435.2833251953125,
          1434.1683349609375,
          1433.0531005859375,
          1431.937744140625,
          1430.8221435546875,
          1429.7064208984375,
          1428.5904541015625,
          1427.4742431640625,
          1426.35791015625,
          1425.2412109375,
          1424.12451171875,
          1423.0074462890625,
          1421.8902587890625,
          1420.7728271484375,
          1419.6552734375,
          1418.5374755859375,
          1417.41943359375,
          1416.30126953125,
          1415.182861328125,
          1414.064208984375,
          1412.9454345703125,
          1411.826416015625,
          1410.7071533203125,
          1409.587646484375,
          1408.468017578125,
          1407.3482666015625,
          1406.2281494140625,
          1405.10791015625,
          1403.9874267578125,
          1402.8668212890625,
          1401.7459716796875,
          1400.6248779296875,
          1399.503662109375,
          1398.3822021484375,
          1397.260498046875,
          1396.1385498046875,
          1395.0164794921875,
          1393.894287109375,
          1392.771728515625,
          1391.6490478515625,
          1390.526123046875,
          1389.403076171875,
          1388.2796630859375,
          1387.15625,
          1386.032470703125,
          1384.9085693359375,
          1383.784423828125,
          1382.6600341796875,
          1381.5355224609375,
          1380.4107666015625,
          1379.2857666015625,
          1378.16064453125,
          1377.0352783203125,
          1375.90966796875,
          1374.783935546875,
          1373.657958984375,
          1372.53173828125,
          1371.4053955078125,
          1370.27880859375,
          1369.1519775390625,
          1368.02490234375,
          1366.897705078125,
          1365.770263671875,
          1364.6427001953125,
          1363.5147705078125,
          1362.38671875,
          1361.258544921875,
          1360.1300048828125,
          1359.0013427734375,
          1357.87255859375,
          1356.743408203125,
          1355.6141357421875,
          1354.484619140625,
          1353.35498046875,
          1352.22509765625,
          1351.094970703125,
          1349.964599609375,
          1348.8341064453125,
          1347.703369140625,
          1346.5723876953125,
          1345.441162109375,
          1344.309814453125,
          1343.17822265625,
          1342.0465087890625,
          1340.91455078125,
          1339.7823486328125,
          1338.64990234375,
          1337.517333984375,
          1336.384521484375,
          1335.25146484375,
          1334.1181640625,
          1332.9847412109375,
          1331.85107421875,
          1330.7171630859375,
          1329.5831298828125,
          1328.4488525390625,
          1327.3143310546875,
          1326.1796875,
          1325.0447998046875,
          1323.90966796875,
          1322.7742919921875,
          1321.6387939453125,
          1320.5029296875,
          1319.3670654296875,
          1318.2308349609375,
          1317.094482421875,
          1315.9578857421875,
          1314.821044921875,
          1313.68408203125,
          1312.546875,
          1311.409423828125,
          1310.271728515625,
          1309.1339111328125,
          1307.995849609375,
          1306.8575439453125,
          1305.718994140625,
          1304.580322265625,
          1303.44140625,
          1302.3023681640625,
          1301.1629638671875,
          1300.0234375,
          1298.8836669921875,
          1297.74365234375,
          1296.603515625,
          1295.463134765625,
          1294.322509765625,
          1293.181640625,
          1292.0406494140625,
          1290.8994140625,
          1289.7579345703125,
          1288.6163330078125,
          1287.474365234375,
          1286.332275390625,
          1285.1900634765625,
          1284.0474853515625,
          1282.90478515625,
          1281.7618408203125,
          1280.61865234375,
          1279.475341796875,
          1278.3316650390625,
          1277.1878662109375,
          1276.0439453125,
          1274.899658203125,
          1273.7552490234375,
          1272.610595703125,
          1271.4656982421875,
          1270.3206787109375,
          1269.17529296875,
          1268.02978515625,
          1266.8841552734375
         ],
         "xaxis": "x",
         "y": [
          0.0064183894463940554,
          0.006445936876733293,
          0.006412318593129225,
          0.006402355672240106,
          0.006357520997336519,
          0.006387422619812923,
          0.006362433271540535,
          0.006332851370114563,
          0.006344373018588682,
          0.0063383865443277215,
          0.006328905892823187,
          0.006315553169432759,
          0.006328058451455875,
          0.00623652056410191,
          0.006279953706346782,
          0.006269380037364294,
          0.006293349961119771,
          0.006226948830475963,
          0.0062699198044811584,
          0.006263589224643655,
          0.00632792990733224,
          0.006322522455449641,
          0.006272556182600839,
          0.006331222121157683,
          0.0063692341662858285,
          0.006319103915140523,
          0.006339606349543768,
          0.00633739308881157,
          0.006352177696640876,
          0.00631725770166538,
          0.006344686331366716,
          0.00632781351130658,
          0.00631783702175686,
          0.006381013272739522,
          0.006369785722328603,
          0.006408218727584896,
          0.006386870618104738,
          0.006364514847741688,
          0.006329585355886552,
          0.006400256208378309,
          0.006353687178371149,
          0.006365728824567949,
          0.006392899769272925,
          0.006388971990921431,
          0.006484080568061431,
          0.006442964639292424,
          0.006459105079191231,
          0.0064922644543016685,
          0.006505224420908356,
          0.006490178288683782,
          0.006506931812743102,
          0.006537092000492351,
          0.006529763503949012,
          0.006583039174262721,
          0.006618933410130823,
          0.006600008078386995,
          0.006642602901720979,
          0.00664598103926194,
          0.006699447892003919,
          0.006756146803980016,
          0.006807455846287781,
          0.006756792291911765,
          0.006907820353624601,
          0.006987260110866126,
          0.0070167840499109745,
          0.007055169660067546,
          0.007178172258306101,
          0.007234968357063497,
          0.007363020090738792,
          0.007445396946885865,
          0.0076199305892467,
          0.007697633448801724,
          0.007940515309458,
          0.00815573911364858,
          0.008532210645871535,
          0.008903727184578717,
          0.00944027334905978,
          0.010073077623902306,
          0.010929037766121736,
          0.011938768609550062,
          0.013577624550487322,
          0.015896786196731943,
          0.019605134738219676,
          0.025648902157473494,
          0.037065573047937075,
          0.058894973671270265,
          0.09569764720288997,
          0.130364440941054,
          0.12608236400070985,
          0.09346744992563483,
          0.0625030431111222,
          0.04169726996523975,
          0.029261015028382856,
          0.021961196990240493,
          0.017705676244462412,
          0.015074757088117055,
          0.013398975979859944,
          0.012338909739361035,
          0.011613374008955579,
          0.010969314717605027,
          0.010724250484440506,
          0.01048860600742998,
          0.010340732658186627,
          0.010208825499224826,
          0.01024558225129837,
          0.010284131099000168,
          0.010324863071175793,
          0.010372436341551756,
          0.010329150816182108,
          0.010339507352863967,
          0.010311308733156213,
          0.010193467453231428,
          0.010086984000114228,
          0.0098741731708083,
          0.009756295438957658,
          0.009597757179663307,
          0.009559989271556029,
          0.009393157898264316,
          0.00941481222447972,
          0.009395795450311665,
          0.009398208632783194,
          0.009447813450985821,
          0.00946456275476348,
          0.00952814716570875,
          0.00959035246491852,
          0.009640053943651541,
          0.00975871737490031,
          0.00979128112488949,
          0.009815301951444175,
          0.009830449964909312,
          0.009861114996429351,
          0.009834184293805075,
          0.009739885885863017,
          0.009682174193696387,
          0.009615540648358867,
          0.009427884268926191,
          0.009331378361961568,
          0.009216168748932368,
          0.00902645694440607,
          0.00896547203073402,
          0.0087061000206022,
          0.008618158064052743,
          0.008520068537592785,
          0.008405418597622314,
          0.00828457178181966,
          0.008126409286597911,
          0.00801785490882718,
          0.007917408764228279,
          0.007843082974772736,
          0.007705346207124666,
          0.007631171034280176,
          0.007543219496066809,
          0.007462594436580067,
          0.007335509757426476,
          0.007321218089491708,
          0.007208939380460455,
          0.007095707474370475,
          0.007017785338925526,
          0.00694767112948775,
          0.006819558942833392,
          0.0067898503483739235,
          0.0067345904021507245,
          0.006721961482021474,
          0.006605818078632649,
          0.006597838501365081,
          0.00650052557717405,
          0.006451634806049427,
          0.00640259654901162,
          0.006319927233421754,
          0.006248071976442456,
          0.006217899572884414,
          0.006207131330923766,
          0.006209668582499957,
          0.006131555120542633,
          0.00617430196269325,
          0.006057987043514674,
          0.006039686180817287,
          0.00599396226992033,
          0.006004775241283129,
          0.0058725437321656485,
          0.005874494829065909,
          0.005808917277700442,
          0.005787265891165007,
          0.005802228818684579,
          0.005788928677881336,
          0.005727813108502175,
          0.005756401816372748,
          0.005765249232449419,
          0.0057041480473160044,
          0.005700542942572717,
          0.005657676852993307,
          0.005619890419068439,
          0.005613428383886927,
          0.005582311806303634,
          0.005519169905168319,
          0.005527127335463081,
          0.005528357176654832,
          0.00550066223450217,
          0.005495627637995638
         ],
         "yaxis": "y",
         "type": "scatter"
        }
       ],
       "layout": {
        "template": {
         "data": {
          "histogram2dcontour": [
           {
            "type": "histogram2dcontour",
            "colorbar": {
             "outlinewidth": 0,
             "ticks": ""
            },
            "colorscale": [
             [
              0.0,
              "#0d0887"
             ],
             [
              0.1111111111111111,
              "#46039f"
             ],
             [
              0.2222222222222222,
              "#7201a8"
             ],
             [
              0.3333333333333333,
              "#9c179e"
             ],
             [
              0.4444444444444444,
              "#bd3786"
             ],
             [
              0.5555555555555556,
              "#d8576b"
             ],
             [
              0.6666666666666666,
              "#ed7953"
             ],
             [
              0.7777777777777778,
              "#fb9f3a"
             ],
             [
              0.8888888888888888,
              "#fdca26"
             ],
             [
              1.0,
              "#f0f921"
             ]
            ]
           }
          ],
          "choropleth": [
           {
            "type": "choropleth",
            "colorbar": {
             "outlinewidth": 0,
             "ticks": ""
            }
           }
          ],
          "histogram2d": [
           {
            "type": "histogram2d",
            "colorbar": {
             "outlinewidth": 0,
             "ticks": ""
            },
            "colorscale": [
             [
              0.0,
              "#0d0887"
             ],
             [
              0.1111111111111111,
              "#46039f"
             ],
             [
              0.2222222222222222,
              "#7201a8"
             ],
             [
              0.3333333333333333,
              "#9c179e"
             ],
             [
              0.4444444444444444,
              "#bd3786"
             ],
             [
              0.5555555555555556,
              "#d8576b"
             ],
             [
              0.6666666666666666,
              "#ed7953"
             ],
             [
              0.7777777777777778,
              "#fb9f3a"
             ],
             [
              0.8888888888888888,
              "#fdca26"
             ],
             [
              1.0,
              "#f0f921"
             ]
            ]
           }
          ],
          "heatmap": [
           {
            "type": "heatmap",
            "colorbar": {
             "outlinewidth": 0,
             "ticks": ""
            },
            "colorscale": [
             [
              0.0,
              "#0d0887"
             ],
             [
              0.1111111111111111,
              "#46039f"
             ],
             [
              0.2222222222222222,
              "#7201a8"
             ],
             [
              0.3333333333333333,
              "#9c179e"
             ],
             [
              0.4444444444444444,
              "#bd3786"
             ],
             [
              0.5555555555555556,
              "#d8576b"
             ],
             [
              0.6666666666666666,
              "#ed7953"
             ],
             [
              0.7777777777777778,
              "#fb9f3a"
             ],
             [
              0.8888888888888888,
              "#fdca26"
             ],
             [
              1.0,
              "#f0f921"
             ]
            ]
           }
          ],
          "heatmapgl": [
           {
            "type": "heatmapgl",
            "colorbar": {
             "outlinewidth": 0,
             "ticks": ""
            },
            "colorscale": [
             [
              0.0,
              "#0d0887"
             ],
             [
              0.1111111111111111,
              "#46039f"
             ],
             [
              0.2222222222222222,
              "#7201a8"
             ],
             [
              0.3333333333333333,
              "#9c179e"
             ],
             [
              0.4444444444444444,
              "#bd3786"
             ],
             [
              0.5555555555555556,
              "#d8576b"
             ],
             [
              0.6666666666666666,
              "#ed7953"
             ],
             [
              0.7777777777777778,
              "#fb9f3a"
             ],
             [
              0.8888888888888888,
              "#fdca26"
             ],
             [
              1.0,
              "#f0f921"
             ]
            ]
           }
          ],
          "contourcarpet": [
           {
            "type": "contourcarpet",
            "colorbar": {
             "outlinewidth": 0,
             "ticks": ""
            }
           }
          ],
          "contour": [
           {
            "type": "contour",
            "colorbar": {
             "outlinewidth": 0,
             "ticks": ""
            },
            "colorscale": [
             [
              0.0,
              "#0d0887"
             ],
             [
              0.1111111111111111,
              "#46039f"
             ],
             [
              0.2222222222222222,
              "#7201a8"
             ],
             [
              0.3333333333333333,
              "#9c179e"
             ],
             [
              0.4444444444444444,
              "#bd3786"
             ],
             [
              0.5555555555555556,
              "#d8576b"
             ],
             [
              0.6666666666666666,
              "#ed7953"
             ],
             [
              0.7777777777777778,
              "#fb9f3a"
             ],
             [
              0.8888888888888888,
              "#fdca26"
             ],
             [
              1.0,
              "#f0f921"
             ]
            ]
           }
          ],
          "surface": [
           {
            "type": "surface",
            "colorbar": {
             "outlinewidth": 0,
             "ticks": ""
            },
            "colorscale": [
             [
              0.0,
              "#0d0887"
             ],
             [
              0.1111111111111111,
              "#46039f"
             ],
             [
              0.2222222222222222,
              "#7201a8"
             ],
             [
              0.3333333333333333,
              "#9c179e"
             ],
             [
              0.4444444444444444,
              "#bd3786"
             ],
             [
              0.5555555555555556,
              "#d8576b"
             ],
             [
              0.6666666666666666,
              "#ed7953"
             ],
             [
              0.7777777777777778,
              "#fb9f3a"
             ],
             [
              0.8888888888888888,
              "#fdca26"
             ],
             [
              1.0,
              "#f0f921"
             ]
            ]
           }
          ],
          "mesh3d": [
           {
            "type": "mesh3d",
            "colorbar": {
             "outlinewidth": 0,
             "ticks": ""
            }
           }
          ],
          "scatter": [
           {
            "marker": {
             "line": {
              "color": "#283442"
             }
            },
            "type": "scatter"
           }
          ],
          "parcoords": [
           {
            "type": "parcoords",
            "line": {
             "colorbar": {
              "outlinewidth": 0,
              "ticks": ""
             }
            }
           }
          ],
          "scatterpolargl": [
           {
            "type": "scatterpolargl",
            "marker": {
             "colorbar": {
              "outlinewidth": 0,
              "ticks": ""
             }
            }
           }
          ],
          "bar": [
           {
            "error_x": {
             "color": "#f2f5fa"
            },
            "error_y": {
             "color": "#f2f5fa"
            },
            "marker": {
             "line": {
              "color": "rgb(17,17,17)",
              "width": 0.5
             },
             "pattern": {
              "fillmode": "overlay",
              "size": 10,
              "solidity": 0.2
             }
            },
            "type": "bar"
           }
          ],
          "scattergeo": [
           {
            "type": "scattergeo",
            "marker": {
             "colorbar": {
              "outlinewidth": 0,
              "ticks": ""
             }
            }
           }
          ],
          "scatterpolar": [
           {
            "type": "scatterpolar",
            "marker": {
             "colorbar": {
              "outlinewidth": 0,
              "ticks": ""
             }
            }
           }
          ],
          "histogram": [
           {
            "marker": {
             "pattern": {
              "fillmode": "overlay",
              "size": 10,
              "solidity": 0.2
             }
            },
            "type": "histogram"
           }
          ],
          "scattergl": [
           {
            "marker": {
             "line": {
              "color": "#283442"
             }
            },
            "type": "scattergl"
           }
          ],
          "scatter3d": [
           {
            "type": "scatter3d",
            "line": {
             "colorbar": {
              "outlinewidth": 0,
              "ticks": ""
             }
            },
            "marker": {
             "colorbar": {
              "outlinewidth": 0,
              "ticks": ""
             }
            }
           }
          ],
          "scattermapbox": [
           {
            "type": "scattermapbox",
            "marker": {
             "colorbar": {
              "outlinewidth": 0,
              "ticks": ""
             }
            }
           }
          ],
          "scatterternary": [
           {
            "type": "scatterternary",
            "marker": {
             "colorbar": {
              "outlinewidth": 0,
              "ticks": ""
             }
            }
           }
          ],
          "scattercarpet": [
           {
            "type": "scattercarpet",
            "marker": {
             "colorbar": {
              "outlinewidth": 0,
              "ticks": ""
             }
            }
           }
          ],
          "carpet": [
           {
            "aaxis": {
             "endlinecolor": "#A2B1C6",
             "gridcolor": "#506784",
             "linecolor": "#506784",
             "minorgridcolor": "#506784",
             "startlinecolor": "#A2B1C6"
            },
            "baxis": {
             "endlinecolor": "#A2B1C6",
             "gridcolor": "#506784",
             "linecolor": "#506784",
             "minorgridcolor": "#506784",
             "startlinecolor": "#A2B1C6"
            },
            "type": "carpet"
           }
          ],
          "table": [
           {
            "cells": {
             "fill": {
              "color": "#506784"
             },
             "line": {
              "color": "rgb(17,17,17)"
             }
            },
            "header": {
             "fill": {
              "color": "#2a3f5f"
             },
             "line": {
              "color": "rgb(17,17,17)"
             }
            },
            "type": "table"
           }
          ],
          "barpolar": [
           {
            "marker": {
             "line": {
              "color": "rgb(17,17,17)",
              "width": 0.5
             },
             "pattern": {
              "fillmode": "overlay",
              "size": 10,
              "solidity": 0.2
             }
            },
            "type": "barpolar"
           }
          ],
          "pie": [
           {
            "automargin": true,
            "type": "pie"
           }
          ]
         },
         "layout": {
          "autotypenumbers": "strict",
          "colorway": [
           "#636efa",
           "#EF553B",
           "#00cc96",
           "#ab63fa",
           "#FFA15A",
           "#19d3f3",
           "#FF6692",
           "#B6E880",
           "#FF97FF",
           "#FECB52"
          ],
          "font": {
           "color": "#f2f5fa"
          },
          "hovermode": "closest",
          "hoverlabel": {
           "align": "left"
          },
          "paper_bgcolor": "rgb(17,17,17)",
          "plot_bgcolor": "rgb(17,17,17)",
          "polar": {
           "bgcolor": "rgb(17,17,17)",
           "angularaxis": {
            "gridcolor": "#506784",
            "linecolor": "#506784",
            "ticks": ""
           },
           "radialaxis": {
            "gridcolor": "#506784",
            "linecolor": "#506784",
            "ticks": ""
           }
          },
          "ternary": {
           "bgcolor": "rgb(17,17,17)",
           "aaxis": {
            "gridcolor": "#506784",
            "linecolor": "#506784",
            "ticks": ""
           },
           "baxis": {
            "gridcolor": "#506784",
            "linecolor": "#506784",
            "ticks": ""
           },
           "caxis": {
            "gridcolor": "#506784",
            "linecolor": "#506784",
            "ticks": ""
           }
          },
          "coloraxis": {
           "colorbar": {
            "outlinewidth": 0,
            "ticks": ""
           }
          },
          "colorscale": {
           "sequential": [
            [
             0.0,
             "#0d0887"
            ],
            [
             0.1111111111111111,
             "#46039f"
            ],
            [
             0.2222222222222222,
             "#7201a8"
            ],
            [
             0.3333333333333333,
             "#9c179e"
            ],
            [
             0.4444444444444444,
             "#bd3786"
            ],
            [
             0.5555555555555556,
             "#d8576b"
            ],
            [
             0.6666666666666666,
             "#ed7953"
            ],
            [
             0.7777777777777778,
             "#fb9f3a"
            ],
            [
             0.8888888888888888,
             "#fdca26"
            ],
            [
             1.0,
             "#f0f921"
            ]
           ],
           "sequentialminus": [
            [
             0.0,
             "#0d0887"
            ],
            [
             0.1111111111111111,
             "#46039f"
            ],
            [
             0.2222222222222222,
             "#7201a8"
            ],
            [
             0.3333333333333333,
             "#9c179e"
            ],
            [
             0.4444444444444444,
             "#bd3786"
            ],
            [
             0.5555555555555556,
             "#d8576b"
            ],
            [
             0.6666666666666666,
             "#ed7953"
            ],
            [
             0.7777777777777778,
             "#fb9f3a"
            ],
            [
             0.8888888888888888,
             "#fdca26"
            ],
            [
             1.0,
             "#f0f921"
            ]
           ],
           "diverging": [
            [
             0,
             "#8e0152"
            ],
            [
             0.1,
             "#c51b7d"
            ],
            [
             0.2,
             "#de77ae"
            ],
            [
             0.3,
             "#f1b6da"
            ],
            [
             0.4,
             "#fde0ef"
            ],
            [
             0.5,
             "#f7f7f7"
            ],
            [
             0.6,
             "#e6f5d0"
            ],
            [
             0.7,
             "#b8e186"
            ],
            [
             0.8,
             "#7fbc41"
            ],
            [
             0.9,
             "#4d9221"
            ],
            [
             1,
             "#276419"
            ]
           ]
          },
          "xaxis": {
           "gridcolor": "#283442",
           "linecolor": "#506784",
           "ticks": "",
           "title": {
            "standoff": 15
           },
           "zerolinecolor": "#283442",
           "automargin": true,
           "zerolinewidth": 2
          },
          "yaxis": {
           "gridcolor": "#283442",
           "linecolor": "#506784",
           "ticks": "",
           "title": {
            "standoff": 15
           },
           "zerolinecolor": "#283442",
           "automargin": true,
           "zerolinewidth": 2
          },
          "scene": {
           "xaxis": {
            "backgroundcolor": "rgb(17,17,17)",
            "gridcolor": "#506784",
            "linecolor": "#506784",
            "showbackground": true,
            "ticks": "",
            "zerolinecolor": "#C8D4E3",
            "gridwidth": 2
           },
           "yaxis": {
            "backgroundcolor": "rgb(17,17,17)",
            "gridcolor": "#506784",
            "linecolor": "#506784",
            "showbackground": true,
            "ticks": "",
            "zerolinecolor": "#C8D4E3",
            "gridwidth": 2
           },
           "zaxis": {
            "backgroundcolor": "rgb(17,17,17)",
            "gridcolor": "#506784",
            "linecolor": "#506784",
            "showbackground": true,
            "ticks": "",
            "zerolinecolor": "#C8D4E3",
            "gridwidth": 2
           }
          },
          "shapedefaults": {
           "line": {
            "color": "#f2f5fa"
           }
          },
          "annotationdefaults": {
           "arrowcolor": "#f2f5fa",
           "arrowhead": 0,
           "arrowwidth": 1
          },
          "geo": {
           "bgcolor": "rgb(17,17,17)",
           "landcolor": "rgb(17,17,17)",
           "subunitcolor": "#506784",
           "showland": true,
           "showlakes": true,
           "lakecolor": "rgb(17,17,17)"
          },
          "title": {
           "x": 0.05
          },
          "updatemenudefaults": {
           "bgcolor": "#506784",
           "borderwidth": 0
          },
          "sliderdefaults": {
           "bgcolor": "#C8D4E3",
           "borderwidth": 1,
           "bordercolor": "rgb(17,17,17)",
           "tickwidth": 0
          },
          "mapbox": {
           "style": "dark"
          }
         }
        },
        "xaxis": {
         "anchor": "y",
         "domain": [
          0.0,
          1.0
         ],
         "title": {
          "text": "x"
         }
        },
        "yaxis": {
         "anchor": "x",
         "domain": [
          0.0,
          1.0
         ],
         "title": {
          "text": "y"
         }
        },
        "legend": {
         "tracegroupgap": 0
        },
        "margin": {
         "t": 60
        }
       },
       "config": {
        "plotlyServerURL": "https://plot.ly"
       }
      },
      "text/html": "<div>                            <div id=\"95327fcb-d871-47b6-8301-4cb4161edcfa\" class=\"plotly-graph-div\" style=\"height:525px; width:100%;\"></div>            <script type=\"text/javascript\">                require([\"plotly\"], function(Plotly) {                    window.PLOTLYENV=window.PLOTLYENV || {};                                    if (document.getElementById(\"95327fcb-d871-47b6-8301-4cb4161edcfa\")) {                    Plotly.newPlot(                        \"95327fcb-d871-47b6-8301-4cb4161edcfa\",                        [{\"hovertemplate\":\"x=%{x}\\u003cbr\\u003ey=%{y}\\u003cextra\\u003e\\u003c\\u002fextra\\u003e\",\"legendgroup\":\"\",\"line\":{\"color\":\"#636efa\",\"dash\":\"solid\"},\"marker\":{\"symbol\":\"circle\"},\"mode\":\"lines\",\"name\":\"\",\"orientation\":\"v\",\"showlegend\":false,\"x\":[1489.670166015625,1488.5650634765625,1487.459716796875,1486.354248046875,1485.24853515625,1484.142578125,1483.0364990234375,1481.93017578125,1480.8236083984375,1479.7169189453125,1478.6099853515625,1477.5028076171875,1476.3955078125,1475.2879638671875,1474.1802978515625,1473.0723876953125,1471.9642333984375,1470.8558349609375,1469.747314453125,1468.638671875,1467.5296630859375,1466.4205322265625,1465.311279296875,1464.20166015625,1463.0919189453125,1461.9820556640625,1460.8719482421875,1459.7615966796875,1458.6510009765625,1457.540283203125,1456.4293212890625,1455.3182373046875,1454.2069091796875,1453.0953369140625,1451.983642578125,1450.8717041015625,1449.759521484375,1448.647216796875,1447.53466796875,1446.421875,1445.3089599609375,1444.19580078125,1443.0823974609375,1441.9688720703125,1440.8551025390625,1439.7410888671875,1438.626953125,1437.5125732421875,1436.3980712890625,1435.2833251953125,1434.1683349609375,1433.0531005859375,1431.937744140625,1430.8221435546875,1429.7064208984375,1428.5904541015625,1427.4742431640625,1426.35791015625,1425.2412109375,1424.12451171875,1423.0074462890625,1421.8902587890625,1420.7728271484375,1419.6552734375,1418.5374755859375,1417.41943359375,1416.30126953125,1415.182861328125,1414.064208984375,1412.9454345703125,1411.826416015625,1410.7071533203125,1409.587646484375,1408.468017578125,1407.3482666015625,1406.2281494140625,1405.10791015625,1403.9874267578125,1402.8668212890625,1401.7459716796875,1400.6248779296875,1399.503662109375,1398.3822021484375,1397.260498046875,1396.1385498046875,1395.0164794921875,1393.894287109375,1392.771728515625,1391.6490478515625,1390.526123046875,1389.403076171875,1388.2796630859375,1387.15625,1386.032470703125,1384.9085693359375,1383.784423828125,1382.6600341796875,1381.5355224609375,1380.4107666015625,1379.2857666015625,1378.16064453125,1377.0352783203125,1375.90966796875,1374.783935546875,1373.657958984375,1372.53173828125,1371.4053955078125,1370.27880859375,1369.1519775390625,1368.02490234375,1366.897705078125,1365.770263671875,1364.6427001953125,1363.5147705078125,1362.38671875,1361.258544921875,1360.1300048828125,1359.0013427734375,1357.87255859375,1356.743408203125,1355.6141357421875,1354.484619140625,1353.35498046875,1352.22509765625,1351.094970703125,1349.964599609375,1348.8341064453125,1347.703369140625,1346.5723876953125,1345.441162109375,1344.309814453125,1343.17822265625,1342.0465087890625,1340.91455078125,1339.7823486328125,1338.64990234375,1337.517333984375,1336.384521484375,1335.25146484375,1334.1181640625,1332.9847412109375,1331.85107421875,1330.7171630859375,1329.5831298828125,1328.4488525390625,1327.3143310546875,1326.1796875,1325.0447998046875,1323.90966796875,1322.7742919921875,1321.6387939453125,1320.5029296875,1319.3670654296875,1318.2308349609375,1317.094482421875,1315.9578857421875,1314.821044921875,1313.68408203125,1312.546875,1311.409423828125,1310.271728515625,1309.1339111328125,1307.995849609375,1306.8575439453125,1305.718994140625,1304.580322265625,1303.44140625,1302.3023681640625,1301.1629638671875,1300.0234375,1298.8836669921875,1297.74365234375,1296.603515625,1295.463134765625,1294.322509765625,1293.181640625,1292.0406494140625,1290.8994140625,1289.7579345703125,1288.6163330078125,1287.474365234375,1286.332275390625,1285.1900634765625,1284.0474853515625,1282.90478515625,1281.7618408203125,1280.61865234375,1279.475341796875,1278.3316650390625,1277.1878662109375,1276.0439453125,1274.899658203125,1273.7552490234375,1272.610595703125,1271.4656982421875,1270.3206787109375,1269.17529296875,1268.02978515625,1266.8841552734375],\"xaxis\":\"x\",\"y\":[0.0064183894463940554,0.006445936876733293,0.006412318593129225,0.006402355672240106,0.006357520997336519,0.006387422619812923,0.006362433271540535,0.006332851370114563,0.006344373018588682,0.0063383865443277215,0.006328905892823187,0.006315553169432759,0.006328058451455875,0.00623652056410191,0.006279953706346782,0.006269380037364294,0.006293349961119771,0.006226948830475963,0.0062699198044811584,0.006263589224643655,0.00632792990733224,0.006322522455449641,0.006272556182600839,0.006331222121157683,0.0063692341662858285,0.006319103915140523,0.006339606349543768,0.00633739308881157,0.006352177696640876,0.00631725770166538,0.006344686331366716,0.00632781351130658,0.00631783702175686,0.006381013272739522,0.006369785722328603,0.006408218727584896,0.006386870618104738,0.006364514847741688,0.006329585355886552,0.006400256208378309,0.006353687178371149,0.006365728824567949,0.006392899769272925,0.006388971990921431,0.006484080568061431,0.006442964639292424,0.006459105079191231,0.0064922644543016685,0.006505224420908356,0.006490178288683782,0.006506931812743102,0.006537092000492351,0.006529763503949012,0.006583039174262721,0.006618933410130823,0.006600008078386995,0.006642602901720979,0.00664598103926194,0.006699447892003919,0.006756146803980016,0.006807455846287781,0.006756792291911765,0.006907820353624601,0.006987260110866126,0.0070167840499109745,0.007055169660067546,0.007178172258306101,0.007234968357063497,0.007363020090738792,0.007445396946885865,0.0076199305892467,0.007697633448801724,0.007940515309458,0.00815573911364858,0.008532210645871535,0.008903727184578717,0.00944027334905978,0.010073077623902306,0.010929037766121736,0.011938768609550062,0.013577624550487322,0.015896786196731943,0.019605134738219676,0.025648902157473494,0.037065573047937075,0.058894973671270265,0.09569764720288997,0.130364440941054,0.12608236400070985,0.09346744992563483,0.0625030431111222,0.04169726996523975,0.029261015028382856,0.021961196990240493,0.017705676244462412,0.015074757088117055,0.013398975979859944,0.012338909739361035,0.011613374008955579,0.010969314717605027,0.010724250484440506,0.01048860600742998,0.010340732658186627,0.010208825499224826,0.01024558225129837,0.010284131099000168,0.010324863071175793,0.010372436341551756,0.010329150816182108,0.010339507352863967,0.010311308733156213,0.010193467453231428,0.010086984000114228,0.0098741731708083,0.009756295438957658,0.009597757179663307,0.009559989271556029,0.009393157898264316,0.00941481222447972,0.009395795450311665,0.009398208632783194,0.009447813450985821,0.00946456275476348,0.00952814716570875,0.00959035246491852,0.009640053943651541,0.00975871737490031,0.00979128112488949,0.009815301951444175,0.009830449964909312,0.009861114996429351,0.009834184293805075,0.009739885885863017,0.009682174193696387,0.009615540648358867,0.009427884268926191,0.009331378361961568,0.009216168748932368,0.00902645694440607,0.00896547203073402,0.0087061000206022,0.008618158064052743,0.008520068537592785,0.008405418597622314,0.00828457178181966,0.008126409286597911,0.00801785490882718,0.007917408764228279,0.007843082974772736,0.007705346207124666,0.007631171034280176,0.007543219496066809,0.007462594436580067,0.007335509757426476,0.007321218089491708,0.007208939380460455,0.007095707474370475,0.007017785338925526,0.00694767112948775,0.006819558942833392,0.0067898503483739235,0.0067345904021507245,0.006721961482021474,0.006605818078632649,0.006597838501365081,0.00650052557717405,0.006451634806049427,0.00640259654901162,0.006319927233421754,0.006248071976442456,0.006217899572884414,0.006207131330923766,0.006209668582499957,0.006131555120542633,0.00617430196269325,0.006057987043514674,0.006039686180817287,0.00599396226992033,0.006004775241283129,0.0058725437321656485,0.005874494829065909,0.005808917277700442,0.005787265891165007,0.005802228818684579,0.005788928677881336,0.005727813108502175,0.005756401816372748,0.005765249232449419,0.0057041480473160044,0.005700542942572717,0.005657676852993307,0.005619890419068439,0.005613428383886927,0.005582311806303634,0.005519169905168319,0.005527127335463081,0.005528357176654832,0.00550066223450217,0.005495627637995638],\"yaxis\":\"y\",\"type\":\"scatter\"}],                        {\"template\":{\"data\":{\"histogram2dcontour\":[{\"type\":\"histogram2dcontour\",\"colorbar\":{\"outlinewidth\":0,\"ticks\":\"\"},\"colorscale\":[[0.0,\"#0d0887\"],[0.1111111111111111,\"#46039f\"],[0.2222222222222222,\"#7201a8\"],[0.3333333333333333,\"#9c179e\"],[0.4444444444444444,\"#bd3786\"],[0.5555555555555556,\"#d8576b\"],[0.6666666666666666,\"#ed7953\"],[0.7777777777777778,\"#fb9f3a\"],[0.8888888888888888,\"#fdca26\"],[1.0,\"#f0f921\"]]}],\"choropleth\":[{\"type\":\"choropleth\",\"colorbar\":{\"outlinewidth\":0,\"ticks\":\"\"}}],\"histogram2d\":[{\"type\":\"histogram2d\",\"colorbar\":{\"outlinewidth\":0,\"ticks\":\"\"},\"colorscale\":[[0.0,\"#0d0887\"],[0.1111111111111111,\"#46039f\"],[0.2222222222222222,\"#7201a8\"],[0.3333333333333333,\"#9c179e\"],[0.4444444444444444,\"#bd3786\"],[0.5555555555555556,\"#d8576b\"],[0.6666666666666666,\"#ed7953\"],[0.7777777777777778,\"#fb9f3a\"],[0.8888888888888888,\"#fdca26\"],[1.0,\"#f0f921\"]]}],\"heatmap\":[{\"type\":\"heatmap\",\"colorbar\":{\"outlinewidth\":0,\"ticks\":\"\"},\"colorscale\":[[0.0,\"#0d0887\"],[0.1111111111111111,\"#46039f\"],[0.2222222222222222,\"#7201a8\"],[0.3333333333333333,\"#9c179e\"],[0.4444444444444444,\"#bd3786\"],[0.5555555555555556,\"#d8576b\"],[0.6666666666666666,\"#ed7953\"],[0.7777777777777778,\"#fb9f3a\"],[0.8888888888888888,\"#fdca26\"],[1.0,\"#f0f921\"]]}],\"heatmapgl\":[{\"type\":\"heatmapgl\",\"colorbar\":{\"outlinewidth\":0,\"ticks\":\"\"},\"colorscale\":[[0.0,\"#0d0887\"],[0.1111111111111111,\"#46039f\"],[0.2222222222222222,\"#7201a8\"],[0.3333333333333333,\"#9c179e\"],[0.4444444444444444,\"#bd3786\"],[0.5555555555555556,\"#d8576b\"],[0.6666666666666666,\"#ed7953\"],[0.7777777777777778,\"#fb9f3a\"],[0.8888888888888888,\"#fdca26\"],[1.0,\"#f0f921\"]]}],\"contourcarpet\":[{\"type\":\"contourcarpet\",\"colorbar\":{\"outlinewidth\":0,\"ticks\":\"\"}}],\"contour\":[{\"type\":\"contour\",\"colorbar\":{\"outlinewidth\":0,\"ticks\":\"\"},\"colorscale\":[[0.0,\"#0d0887\"],[0.1111111111111111,\"#46039f\"],[0.2222222222222222,\"#7201a8\"],[0.3333333333333333,\"#9c179e\"],[0.4444444444444444,\"#bd3786\"],[0.5555555555555556,\"#d8576b\"],[0.6666666666666666,\"#ed7953\"],[0.7777777777777778,\"#fb9f3a\"],[0.8888888888888888,\"#fdca26\"],[1.0,\"#f0f921\"]]}],\"surface\":[{\"type\":\"surface\",\"colorbar\":{\"outlinewidth\":0,\"ticks\":\"\"},\"colorscale\":[[0.0,\"#0d0887\"],[0.1111111111111111,\"#46039f\"],[0.2222222222222222,\"#7201a8\"],[0.3333333333333333,\"#9c179e\"],[0.4444444444444444,\"#bd3786\"],[0.5555555555555556,\"#d8576b\"],[0.6666666666666666,\"#ed7953\"],[0.7777777777777778,\"#fb9f3a\"],[0.8888888888888888,\"#fdca26\"],[1.0,\"#f0f921\"]]}],\"mesh3d\":[{\"type\":\"mesh3d\",\"colorbar\":{\"outlinewidth\":0,\"ticks\":\"\"}}],\"scatter\":[{\"marker\":{\"line\":{\"color\":\"#283442\"}},\"type\":\"scatter\"}],\"parcoords\":[{\"type\":\"parcoords\",\"line\":{\"colorbar\":{\"outlinewidth\":0,\"ticks\":\"\"}}}],\"scatterpolargl\":[{\"type\":\"scatterpolargl\",\"marker\":{\"colorbar\":{\"outlinewidth\":0,\"ticks\":\"\"}}}],\"bar\":[{\"error_x\":{\"color\":\"#f2f5fa\"},\"error_y\":{\"color\":\"#f2f5fa\"},\"marker\":{\"line\":{\"color\":\"rgb(17,17,17)\",\"width\":0.5},\"pattern\":{\"fillmode\":\"overlay\",\"size\":10,\"solidity\":0.2}},\"type\":\"bar\"}],\"scattergeo\":[{\"type\":\"scattergeo\",\"marker\":{\"colorbar\":{\"outlinewidth\":0,\"ticks\":\"\"}}}],\"scatterpolar\":[{\"type\":\"scatterpolar\",\"marker\":{\"colorbar\":{\"outlinewidth\":0,\"ticks\":\"\"}}}],\"histogram\":[{\"marker\":{\"pattern\":{\"fillmode\":\"overlay\",\"size\":10,\"solidity\":0.2}},\"type\":\"histogram\"}],\"scattergl\":[{\"marker\":{\"line\":{\"color\":\"#283442\"}},\"type\":\"scattergl\"}],\"scatter3d\":[{\"type\":\"scatter3d\",\"line\":{\"colorbar\":{\"outlinewidth\":0,\"ticks\":\"\"}},\"marker\":{\"colorbar\":{\"outlinewidth\":0,\"ticks\":\"\"}}}],\"scattermapbox\":[{\"type\":\"scattermapbox\",\"marker\":{\"colorbar\":{\"outlinewidth\":0,\"ticks\":\"\"}}}],\"scatterternary\":[{\"type\":\"scatterternary\",\"marker\":{\"colorbar\":{\"outlinewidth\":0,\"ticks\":\"\"}}}],\"scattercarpet\":[{\"type\":\"scattercarpet\",\"marker\":{\"colorbar\":{\"outlinewidth\":0,\"ticks\":\"\"}}}],\"carpet\":[{\"aaxis\":{\"endlinecolor\":\"#A2B1C6\",\"gridcolor\":\"#506784\",\"linecolor\":\"#506784\",\"minorgridcolor\":\"#506784\",\"startlinecolor\":\"#A2B1C6\"},\"baxis\":{\"endlinecolor\":\"#A2B1C6\",\"gridcolor\":\"#506784\",\"linecolor\":\"#506784\",\"minorgridcolor\":\"#506784\",\"startlinecolor\":\"#A2B1C6\"},\"type\":\"carpet\"}],\"table\":[{\"cells\":{\"fill\":{\"color\":\"#506784\"},\"line\":{\"color\":\"rgb(17,17,17)\"}},\"header\":{\"fill\":{\"color\":\"#2a3f5f\"},\"line\":{\"color\":\"rgb(17,17,17)\"}},\"type\":\"table\"}],\"barpolar\":[{\"marker\":{\"line\":{\"color\":\"rgb(17,17,17)\",\"width\":0.5},\"pattern\":{\"fillmode\":\"overlay\",\"size\":10,\"solidity\":0.2}},\"type\":\"barpolar\"}],\"pie\":[{\"automargin\":true,\"type\":\"pie\"}]},\"layout\":{\"autotypenumbers\":\"strict\",\"colorway\":[\"#636efa\",\"#EF553B\",\"#00cc96\",\"#ab63fa\",\"#FFA15A\",\"#19d3f3\",\"#FF6692\",\"#B6E880\",\"#FF97FF\",\"#FECB52\"],\"font\":{\"color\":\"#f2f5fa\"},\"hovermode\":\"closest\",\"hoverlabel\":{\"align\":\"left\"},\"paper_bgcolor\":\"rgb(17,17,17)\",\"plot_bgcolor\":\"rgb(17,17,17)\",\"polar\":{\"bgcolor\":\"rgb(17,17,17)\",\"angularaxis\":{\"gridcolor\":\"#506784\",\"linecolor\":\"#506784\",\"ticks\":\"\"},\"radialaxis\":{\"gridcolor\":\"#506784\",\"linecolor\":\"#506784\",\"ticks\":\"\"}},\"ternary\":{\"bgcolor\":\"rgb(17,17,17)\",\"aaxis\":{\"gridcolor\":\"#506784\",\"linecolor\":\"#506784\",\"ticks\":\"\"},\"baxis\":{\"gridcolor\":\"#506784\",\"linecolor\":\"#506784\",\"ticks\":\"\"},\"caxis\":{\"gridcolor\":\"#506784\",\"linecolor\":\"#506784\",\"ticks\":\"\"}},\"coloraxis\":{\"colorbar\":{\"outlinewidth\":0,\"ticks\":\"\"}},\"colorscale\":{\"sequential\":[[0.0,\"#0d0887\"],[0.1111111111111111,\"#46039f\"],[0.2222222222222222,\"#7201a8\"],[0.3333333333333333,\"#9c179e\"],[0.4444444444444444,\"#bd3786\"],[0.5555555555555556,\"#d8576b\"],[0.6666666666666666,\"#ed7953\"],[0.7777777777777778,\"#fb9f3a\"],[0.8888888888888888,\"#fdca26\"],[1.0,\"#f0f921\"]],\"sequentialminus\":[[0.0,\"#0d0887\"],[0.1111111111111111,\"#46039f\"],[0.2222222222222222,\"#7201a8\"],[0.3333333333333333,\"#9c179e\"],[0.4444444444444444,\"#bd3786\"],[0.5555555555555556,\"#d8576b\"],[0.6666666666666666,\"#ed7953\"],[0.7777777777777778,\"#fb9f3a\"],[0.8888888888888888,\"#fdca26\"],[1.0,\"#f0f921\"]],\"diverging\":[[0,\"#8e0152\"],[0.1,\"#c51b7d\"],[0.2,\"#de77ae\"],[0.3,\"#f1b6da\"],[0.4,\"#fde0ef\"],[0.5,\"#f7f7f7\"],[0.6,\"#e6f5d0\"],[0.7,\"#b8e186\"],[0.8,\"#7fbc41\"],[0.9,\"#4d9221\"],[1,\"#276419\"]]},\"xaxis\":{\"gridcolor\":\"#283442\",\"linecolor\":\"#506784\",\"ticks\":\"\",\"title\":{\"standoff\":15},\"zerolinecolor\":\"#283442\",\"automargin\":true,\"zerolinewidth\":2},\"yaxis\":{\"gridcolor\":\"#283442\",\"linecolor\":\"#506784\",\"ticks\":\"\",\"title\":{\"standoff\":15},\"zerolinecolor\":\"#283442\",\"automargin\":true,\"zerolinewidth\":2},\"scene\":{\"xaxis\":{\"backgroundcolor\":\"rgb(17,17,17)\",\"gridcolor\":\"#506784\",\"linecolor\":\"#506784\",\"showbackground\":true,\"ticks\":\"\",\"zerolinecolor\":\"#C8D4E3\",\"gridwidth\":2},\"yaxis\":{\"backgroundcolor\":\"rgb(17,17,17)\",\"gridcolor\":\"#506784\",\"linecolor\":\"#506784\",\"showbackground\":true,\"ticks\":\"\",\"zerolinecolor\":\"#C8D4E3\",\"gridwidth\":2},\"zaxis\":{\"backgroundcolor\":\"rgb(17,17,17)\",\"gridcolor\":\"#506784\",\"linecolor\":\"#506784\",\"showbackground\":true,\"ticks\":\"\",\"zerolinecolor\":\"#C8D4E3\",\"gridwidth\":2}},\"shapedefaults\":{\"line\":{\"color\":\"#f2f5fa\"}},\"annotationdefaults\":{\"arrowcolor\":\"#f2f5fa\",\"arrowhead\":0,\"arrowwidth\":1},\"geo\":{\"bgcolor\":\"rgb(17,17,17)\",\"landcolor\":\"rgb(17,17,17)\",\"subunitcolor\":\"#506784\",\"showland\":true,\"showlakes\":true,\"lakecolor\":\"rgb(17,17,17)\"},\"title\":{\"x\":0.05},\"updatemenudefaults\":{\"bgcolor\":\"#506784\",\"borderwidth\":0},\"sliderdefaults\":{\"bgcolor\":\"#C8D4E3\",\"borderwidth\":1,\"bordercolor\":\"rgb(17,17,17)\",\"tickwidth\":0},\"mapbox\":{\"style\":\"dark\"}}},\"xaxis\":{\"anchor\":\"y\",\"domain\":[0.0,1.0],\"title\":{\"text\":\"x\"}},\"yaxis\":{\"anchor\":\"x\",\"domain\":[0.0,1.0],\"title\":{\"text\":\"y\"}},\"legend\":{\"tracegroupgap\":0},\"margin\":{\"t\":60}},                        {\"responsive\": true}                    ).then(function(){\n                            \nvar gd = document.getElementById('95327fcb-d871-47b6-8301-4cb4161edcfa');\nvar x = new MutationObserver(function (mutations, observer) {{\n        var display = window.getComputedStyle(gd).display;\n        if (!display || display === 'none') {{\n            console.log([gd, 'removed!']);\n            Plotly.purge(gd);\n            observer.disconnect();\n        }}\n}});\n\n// Listen for the removal of the full notebook cells\nvar notebookContainer = gd.closest('#notebook-container');\nif (notebookContainer) {{\n    x.observe(notebookContainer, {childList: true});\n}}\n\n// Listen for the clearing of the current output cell\nvar outputEl = gd.closest('.output');\nif (outputEl) {{\n    x.observe(outputEl, {childList: true});\n}}\n\n                        })                };                });            </script>        </div>"
     },
     "metadata": {},
     "output_type": "display_data"
    },
    {
     "data": {
      "application/vnd.plotly.v1+json": {
       "data": [
        {
         "hovertemplate": "x=%{x}<br>y=%{y}<extra></extra>",
         "legendgroup": "",
         "line": {
          "color": "#636efa",
          "dash": "solid"
         },
         "marker": {
          "symbol": "circle"
         },
         "mode": "lines",
         "name": "",
         "orientation": "v",
         "showlegend": false,
         "x": [
          1489.670166015625,
          1488.5650634765625,
          1487.459716796875,
          1486.354248046875,
          1485.24853515625,
          1484.142578125,
          1483.0364990234375,
          1481.93017578125,
          1480.8236083984375,
          1479.7169189453125,
          1478.6099853515625,
          1477.5028076171875,
          1476.3955078125,
          1475.2879638671875,
          1474.1802978515625,
          1473.0723876953125,
          1471.9642333984375,
          1470.8558349609375,
          1469.747314453125,
          1468.638671875,
          1467.5296630859375,
          1466.4205322265625,
          1465.311279296875,
          1464.20166015625,
          1463.0919189453125,
          1461.9820556640625,
          1460.8719482421875,
          1459.7615966796875,
          1458.6510009765625,
          1457.540283203125,
          1456.4293212890625,
          1455.3182373046875,
          1454.2069091796875,
          1453.0953369140625,
          1451.983642578125,
          1450.8717041015625,
          1449.759521484375,
          1448.647216796875,
          1447.53466796875,
          1446.421875,
          1445.3089599609375,
          1444.19580078125,
          1443.0823974609375,
          1441.9688720703125,
          1440.8551025390625,
          1439.7410888671875,
          1438.626953125,
          1437.5125732421875,
          1436.3980712890625,
          1435.2833251953125,
          1434.1683349609375,
          1433.0531005859375,
          1431.937744140625,
          1430.8221435546875,
          1429.7064208984375,
          1428.5904541015625,
          1427.4742431640625,
          1426.35791015625,
          1425.2412109375,
          1424.12451171875,
          1423.0074462890625,
          1421.8902587890625,
          1420.7728271484375,
          1419.6552734375,
          1418.5374755859375,
          1417.41943359375,
          1416.30126953125,
          1415.182861328125,
          1414.064208984375,
          1412.9454345703125,
          1411.826416015625,
          1410.7071533203125,
          1409.587646484375,
          1408.468017578125,
          1407.3482666015625,
          1406.2281494140625,
          1405.10791015625,
          1403.9874267578125,
          1402.8668212890625,
          1401.7459716796875,
          1400.6248779296875,
          1399.503662109375,
          1398.3822021484375,
          1397.260498046875,
          1396.1385498046875,
          1395.0164794921875,
          1393.894287109375,
          1392.771728515625,
          1391.6490478515625,
          1390.526123046875,
          1389.403076171875,
          1388.2796630859375,
          1387.15625,
          1386.032470703125,
          1384.9085693359375,
          1383.784423828125,
          1382.6600341796875,
          1381.5355224609375,
          1380.4107666015625,
          1379.2857666015625,
          1378.16064453125,
          1377.0352783203125,
          1375.90966796875,
          1374.783935546875,
          1373.657958984375,
          1372.53173828125,
          1371.4053955078125,
          1370.27880859375,
          1369.1519775390625,
          1368.02490234375,
          1366.897705078125,
          1365.770263671875,
          1364.6427001953125,
          1363.5147705078125,
          1362.38671875,
          1361.258544921875,
          1360.1300048828125,
          1359.0013427734375,
          1357.87255859375,
          1356.743408203125,
          1355.6141357421875,
          1354.484619140625,
          1353.35498046875,
          1352.22509765625,
          1351.094970703125,
          1349.964599609375,
          1348.8341064453125,
          1347.703369140625,
          1346.5723876953125,
          1345.441162109375,
          1344.309814453125,
          1343.17822265625,
          1342.0465087890625,
          1340.91455078125,
          1339.7823486328125,
          1338.64990234375,
          1337.517333984375,
          1336.384521484375,
          1335.25146484375,
          1334.1181640625,
          1332.9847412109375,
          1331.85107421875,
          1330.7171630859375,
          1329.5831298828125,
          1328.4488525390625,
          1327.3143310546875,
          1326.1796875,
          1325.0447998046875,
          1323.90966796875,
          1322.7742919921875,
          1321.6387939453125,
          1320.5029296875,
          1319.3670654296875,
          1318.2308349609375,
          1317.094482421875,
          1315.9578857421875,
          1314.821044921875,
          1313.68408203125,
          1312.546875,
          1311.409423828125,
          1310.271728515625,
          1309.1339111328125,
          1307.995849609375,
          1306.8575439453125,
          1305.718994140625,
          1304.580322265625,
          1303.44140625,
          1302.3023681640625,
          1301.1629638671875,
          1300.0234375,
          1298.8836669921875,
          1297.74365234375,
          1296.603515625,
          1295.463134765625,
          1294.322509765625,
          1293.181640625,
          1292.0406494140625,
          1290.8994140625,
          1289.7579345703125,
          1288.6163330078125,
          1287.474365234375,
          1286.332275390625,
          1285.1900634765625,
          1284.0474853515625,
          1282.90478515625,
          1281.7618408203125,
          1280.61865234375,
          1279.475341796875,
          1278.3316650390625,
          1277.1878662109375,
          1276.0439453125,
          1274.899658203125,
          1273.7552490234375,
          1272.610595703125,
          1271.4656982421875,
          1270.3206787109375,
          1269.17529296875,
          1268.02978515625,
          1266.8841552734375
         ],
         "xaxis": "x",
         "y": [
          -0.0075154501295243035,
          -0.007553941371161857,
          -0.0075316933079777595,
          -0.007514223687544305,
          -0.007370805423212068,
          -0.007496017766375184,
          -0.007417439714927685,
          -0.007362627576709281,
          -0.007391268687713187,
          -0.0073783578820848985,
          -0.007353937307818343,
          -0.007349634357338155,
          -0.007361751298054606,
          -0.007242493932724656,
          -0.007300815290289717,
          -0.007291343757070805,
          -0.007291588852362767,
          -0.007193163761957452,
          -0.007221635219182519,
          -0.007200953270086309,
          -0.007302069989919348,
          -0.007296878282075869,
          -0.0071871282185228084,
          -0.007314980590453821,
          -0.0073203334708625695,
          -0.007248430200381663,
          -0.007295360106805381,
          -0.007273408123167215,
          -0.007265425615468742,
          -0.007228901776328289,
          -0.007233069937399675,
          -0.007188836155111877,
          -0.007152103068863941,
          -0.0072562659418620576,
          -0.007228080969996645,
          -0.007263921917179834,
          -0.007217166013030129,
          -0.0071462731097454565,
          -0.007063938767180297,
          -0.007182745988832681,
          -0.0070422618405405904,
          -0.0070617641379335985,
          -0.007045084420735597,
          -0.007067034383539263,
          -0.007157327973898705,
          -0.007075178095028753,
          -0.007065595117130235,
          -0.0070721444206972685,
          -0.007045379892278062,
          -0.007012641618970385,
          -0.006923239901345012,
          -0.006977319140887468,
          -0.006857608745817295,
          -0.006941105695404577,
          -0.006921292086182626,
          -0.006893644005420396,
          -0.006822351241468598,
          -0.006770568688365981,
          -0.006817431851851374,
          -0.006834993419940552,
          -0.006760359990358968,
          -0.006585040686265521,
          -0.006750808392062017,
          -0.006773005479819404,
          -0.006642074728379458,
          -0.006559404703161536,
          -0.0066205006757793635,
          -0.0065199104783282835,
          -0.00649003023548268,
          -0.006403279422959689,
          -0.006378194345869493,
          -0.006216996278044888,
          -0.006219316067144537,
          -0.006044493868472457,
          -0.00613174764244929,
          -0.006021618541534525,
          -0.006013566933446694,
          -0.005953785603908266,
          -0.005905010190791764,
          -0.005483566110863231,
          -0.005308152399920984,
          -0.004986980958311995,
          -0.004493273094207368,
          -0.00397456130820061,
          -0.004795660501083132,
          -0.00865502993434993,
          -0.01474931551444775,
          -0.01274233341944567,
          -0.0028907720438983665,
          -6.680763049169593E-4,
          -0.003666032251852597,
          -0.0064815915630267295,
          -0.007597371020859008,
          -0.0076173947208452684,
          -0.007265449031548711,
          -0.006988750853034689,
          -0.006744786202294458,
          -0.00673360571906148,
          -0.0066949155141876465,
          -0.006479738370541446,
          -0.006611249947099597,
          -0.006666295757695657,
          -0.006667866162145397,
          -0.0065911369441354626,
          -0.006632039522564138,
          -0.006702910621283544,
          -0.006667239209204185,
          -0.006637065965322584,
          -0.00635783429350213,
          -0.006162116211139998,
          -0.005786799865013019,
          -0.005222468197475382,
          -0.004526200704643552,
          -0.003709489552832299,
          -0.0029368573795299025,
          -0.002147942180674212,
          -0.001403555972936475,
          -4.6443860162625474E-4,
          2.10769616085336E-4,
          0.0010349367278748238,
          0.0019157674393446625,
          0.0026492182096768996,
          0.0034485549131868308,
          0.004210330980513506,
          0.004839425412831182,
          0.005512775282578107,
          0.006052273279419047,
          0.006401900782964337,
          0.0068244623352304865,
          0.007047405164698575,
          0.007043017863957148,
          0.006817514626996179,
          0.006613302182942934,
          0.006154403464725511,
          0.0055283690997359695,
          0.005035031053725184,
          0.004417900083600572,
          0.0036845351393868945,
          0.0030219511619340397,
          0.002209772805071552,
          0.0018369079263162275,
          0.0011237370590087233,
          5.903082464882581E-4,
          1.0078624064317582E-4,
          -4.062965468595045E-4,
          -7.295880475301196E-4,
          -0.00111848222798959,
          -0.0015147341564759414,
          -0.0017826707706205711,
          -0.0020439361736024736,
          -0.00238759626414476,
          -0.002661817342782223,
          -0.002888693274178109,
          -0.0030245387895839844,
          -0.0033294931188542665,
          -0.0034579760302271647,
          -0.0035130766094339455,
          -0.003751466223484995,
          -0.003861528977934946,
          -0.003918551122002483,
          -0.00409155184783155,
          -0.004154717374192715,
          -0.0044098310324233,
          -0.004371512373325808,
          -0.004606606170854407,
          -0.004583546289902426,
          -0.004692810194557805,
          -0.0047604906249956065,
          -0.004743365781145929,
          -0.004781026926781587,
          -0.004871798775565548,
          -0.004990148622281939,
          -0.005050954708984312,
          -0.005059651160730247,
          -0.005220742134215833,
          -0.005092219527645848,
          -0.005155488894020859,
          -0.005203958345131246,
          -0.005300020660920392,
          -0.005190767310251854,
          -0.005231611279663824,
          -0.0052563508102740995,
          -0.005256010640157851,
          -0.005364199239015828,
          -0.005410032452308965,
          -0.005321999362875178,
          -0.005391785179918431,
          -0.00548379756807422,
          -0.005328140635941368,
          -0.005409350866888665,
          -0.005395694468184429,
          -0.005414349457129417,
          -0.005465856748528315,
          -0.005500219381945532,
          -0.005420766493060839,
          -0.0055134645397549075,
          -0.005528984999390351,
          -0.0055494823545518416,
          -0.005579749506235786
         ],
         "yaxis": "y",
         "type": "scatter"
        }
       ],
       "layout": {
        "template": {
         "data": {
          "histogram2dcontour": [
           {
            "type": "histogram2dcontour",
            "colorbar": {
             "outlinewidth": 0,
             "ticks": ""
            },
            "colorscale": [
             [
              0.0,
              "#0d0887"
             ],
             [
              0.1111111111111111,
              "#46039f"
             ],
             [
              0.2222222222222222,
              "#7201a8"
             ],
             [
              0.3333333333333333,
              "#9c179e"
             ],
             [
              0.4444444444444444,
              "#bd3786"
             ],
             [
              0.5555555555555556,
              "#d8576b"
             ],
             [
              0.6666666666666666,
              "#ed7953"
             ],
             [
              0.7777777777777778,
              "#fb9f3a"
             ],
             [
              0.8888888888888888,
              "#fdca26"
             ],
             [
              1.0,
              "#f0f921"
             ]
            ]
           }
          ],
          "choropleth": [
           {
            "type": "choropleth",
            "colorbar": {
             "outlinewidth": 0,
             "ticks": ""
            }
           }
          ],
          "histogram2d": [
           {
            "type": "histogram2d",
            "colorbar": {
             "outlinewidth": 0,
             "ticks": ""
            },
            "colorscale": [
             [
              0.0,
              "#0d0887"
             ],
             [
              0.1111111111111111,
              "#46039f"
             ],
             [
              0.2222222222222222,
              "#7201a8"
             ],
             [
              0.3333333333333333,
              "#9c179e"
             ],
             [
              0.4444444444444444,
              "#bd3786"
             ],
             [
              0.5555555555555556,
              "#d8576b"
             ],
             [
              0.6666666666666666,
              "#ed7953"
             ],
             [
              0.7777777777777778,
              "#fb9f3a"
             ],
             [
              0.8888888888888888,
              "#fdca26"
             ],
             [
              1.0,
              "#f0f921"
             ]
            ]
           }
          ],
          "heatmap": [
           {
            "type": "heatmap",
            "colorbar": {
             "outlinewidth": 0,
             "ticks": ""
            },
            "colorscale": [
             [
              0.0,
              "#0d0887"
             ],
             [
              0.1111111111111111,
              "#46039f"
             ],
             [
              0.2222222222222222,
              "#7201a8"
             ],
             [
              0.3333333333333333,
              "#9c179e"
             ],
             [
              0.4444444444444444,
              "#bd3786"
             ],
             [
              0.5555555555555556,
              "#d8576b"
             ],
             [
              0.6666666666666666,
              "#ed7953"
             ],
             [
              0.7777777777777778,
              "#fb9f3a"
             ],
             [
              0.8888888888888888,
              "#fdca26"
             ],
             [
              1.0,
              "#f0f921"
             ]
            ]
           }
          ],
          "heatmapgl": [
           {
            "type": "heatmapgl",
            "colorbar": {
             "outlinewidth": 0,
             "ticks": ""
            },
            "colorscale": [
             [
              0.0,
              "#0d0887"
             ],
             [
              0.1111111111111111,
              "#46039f"
             ],
             [
              0.2222222222222222,
              "#7201a8"
             ],
             [
              0.3333333333333333,
              "#9c179e"
             ],
             [
              0.4444444444444444,
              "#bd3786"
             ],
             [
              0.5555555555555556,
              "#d8576b"
             ],
             [
              0.6666666666666666,
              "#ed7953"
             ],
             [
              0.7777777777777778,
              "#fb9f3a"
             ],
             [
              0.8888888888888888,
              "#fdca26"
             ],
             [
              1.0,
              "#f0f921"
             ]
            ]
           }
          ],
          "contourcarpet": [
           {
            "type": "contourcarpet",
            "colorbar": {
             "outlinewidth": 0,
             "ticks": ""
            }
           }
          ],
          "contour": [
           {
            "type": "contour",
            "colorbar": {
             "outlinewidth": 0,
             "ticks": ""
            },
            "colorscale": [
             [
              0.0,
              "#0d0887"
             ],
             [
              0.1111111111111111,
              "#46039f"
             ],
             [
              0.2222222222222222,
              "#7201a8"
             ],
             [
              0.3333333333333333,
              "#9c179e"
             ],
             [
              0.4444444444444444,
              "#bd3786"
             ],
             [
              0.5555555555555556,
              "#d8576b"
             ],
             [
              0.6666666666666666,
              "#ed7953"
             ],
             [
              0.7777777777777778,
              "#fb9f3a"
             ],
             [
              0.8888888888888888,
              "#fdca26"
             ],
             [
              1.0,
              "#f0f921"
             ]
            ]
           }
          ],
          "surface": [
           {
            "type": "surface",
            "colorbar": {
             "outlinewidth": 0,
             "ticks": ""
            },
            "colorscale": [
             [
              0.0,
              "#0d0887"
             ],
             [
              0.1111111111111111,
              "#46039f"
             ],
             [
              0.2222222222222222,
              "#7201a8"
             ],
             [
              0.3333333333333333,
              "#9c179e"
             ],
             [
              0.4444444444444444,
              "#bd3786"
             ],
             [
              0.5555555555555556,
              "#d8576b"
             ],
             [
              0.6666666666666666,
              "#ed7953"
             ],
             [
              0.7777777777777778,
              "#fb9f3a"
             ],
             [
              0.8888888888888888,
              "#fdca26"
             ],
             [
              1.0,
              "#f0f921"
             ]
            ]
           }
          ],
          "mesh3d": [
           {
            "type": "mesh3d",
            "colorbar": {
             "outlinewidth": 0,
             "ticks": ""
            }
           }
          ],
          "scatter": [
           {
            "marker": {
             "line": {
              "color": "#283442"
             }
            },
            "type": "scatter"
           }
          ],
          "parcoords": [
           {
            "type": "parcoords",
            "line": {
             "colorbar": {
              "outlinewidth": 0,
              "ticks": ""
             }
            }
           }
          ],
          "scatterpolargl": [
           {
            "type": "scatterpolargl",
            "marker": {
             "colorbar": {
              "outlinewidth": 0,
              "ticks": ""
             }
            }
           }
          ],
          "bar": [
           {
            "error_x": {
             "color": "#f2f5fa"
            },
            "error_y": {
             "color": "#f2f5fa"
            },
            "marker": {
             "line": {
              "color": "rgb(17,17,17)",
              "width": 0.5
             },
             "pattern": {
              "fillmode": "overlay",
              "size": 10,
              "solidity": 0.2
             }
            },
            "type": "bar"
           }
          ],
          "scattergeo": [
           {
            "type": "scattergeo",
            "marker": {
             "colorbar": {
              "outlinewidth": 0,
              "ticks": ""
             }
            }
           }
          ],
          "scatterpolar": [
           {
            "type": "scatterpolar",
            "marker": {
             "colorbar": {
              "outlinewidth": 0,
              "ticks": ""
             }
            }
           }
          ],
          "histogram": [
           {
            "marker": {
             "pattern": {
              "fillmode": "overlay",
              "size": 10,
              "solidity": 0.2
             }
            },
            "type": "histogram"
           }
          ],
          "scattergl": [
           {
            "marker": {
             "line": {
              "color": "#283442"
             }
            },
            "type": "scattergl"
           }
          ],
          "scatter3d": [
           {
            "type": "scatter3d",
            "line": {
             "colorbar": {
              "outlinewidth": 0,
              "ticks": ""
             }
            },
            "marker": {
             "colorbar": {
              "outlinewidth": 0,
              "ticks": ""
             }
            }
           }
          ],
          "scattermapbox": [
           {
            "type": "scattermapbox",
            "marker": {
             "colorbar": {
              "outlinewidth": 0,
              "ticks": ""
             }
            }
           }
          ],
          "scatterternary": [
           {
            "type": "scatterternary",
            "marker": {
             "colorbar": {
              "outlinewidth": 0,
              "ticks": ""
             }
            }
           }
          ],
          "scattercarpet": [
           {
            "type": "scattercarpet",
            "marker": {
             "colorbar": {
              "outlinewidth": 0,
              "ticks": ""
             }
            }
           }
          ],
          "carpet": [
           {
            "aaxis": {
             "endlinecolor": "#A2B1C6",
             "gridcolor": "#506784",
             "linecolor": "#506784",
             "minorgridcolor": "#506784",
             "startlinecolor": "#A2B1C6"
            },
            "baxis": {
             "endlinecolor": "#A2B1C6",
             "gridcolor": "#506784",
             "linecolor": "#506784",
             "minorgridcolor": "#506784",
             "startlinecolor": "#A2B1C6"
            },
            "type": "carpet"
           }
          ],
          "table": [
           {
            "cells": {
             "fill": {
              "color": "#506784"
             },
             "line": {
              "color": "rgb(17,17,17)"
             }
            },
            "header": {
             "fill": {
              "color": "#2a3f5f"
             },
             "line": {
              "color": "rgb(17,17,17)"
             }
            },
            "type": "table"
           }
          ],
          "barpolar": [
           {
            "marker": {
             "line": {
              "color": "rgb(17,17,17)",
              "width": 0.5
             },
             "pattern": {
              "fillmode": "overlay",
              "size": 10,
              "solidity": 0.2
             }
            },
            "type": "barpolar"
           }
          ],
          "pie": [
           {
            "automargin": true,
            "type": "pie"
           }
          ]
         },
         "layout": {
          "autotypenumbers": "strict",
          "colorway": [
           "#636efa",
           "#EF553B",
           "#00cc96",
           "#ab63fa",
           "#FFA15A",
           "#19d3f3",
           "#FF6692",
           "#B6E880",
           "#FF97FF",
           "#FECB52"
          ],
          "font": {
           "color": "#f2f5fa"
          },
          "hovermode": "closest",
          "hoverlabel": {
           "align": "left"
          },
          "paper_bgcolor": "rgb(17,17,17)",
          "plot_bgcolor": "rgb(17,17,17)",
          "polar": {
           "bgcolor": "rgb(17,17,17)",
           "angularaxis": {
            "gridcolor": "#506784",
            "linecolor": "#506784",
            "ticks": ""
           },
           "radialaxis": {
            "gridcolor": "#506784",
            "linecolor": "#506784",
            "ticks": ""
           }
          },
          "ternary": {
           "bgcolor": "rgb(17,17,17)",
           "aaxis": {
            "gridcolor": "#506784",
            "linecolor": "#506784",
            "ticks": ""
           },
           "baxis": {
            "gridcolor": "#506784",
            "linecolor": "#506784",
            "ticks": ""
           },
           "caxis": {
            "gridcolor": "#506784",
            "linecolor": "#506784",
            "ticks": ""
           }
          },
          "coloraxis": {
           "colorbar": {
            "outlinewidth": 0,
            "ticks": ""
           }
          },
          "colorscale": {
           "sequential": [
            [
             0.0,
             "#0d0887"
            ],
            [
             0.1111111111111111,
             "#46039f"
            ],
            [
             0.2222222222222222,
             "#7201a8"
            ],
            [
             0.3333333333333333,
             "#9c179e"
            ],
            [
             0.4444444444444444,
             "#bd3786"
            ],
            [
             0.5555555555555556,
             "#d8576b"
            ],
            [
             0.6666666666666666,
             "#ed7953"
            ],
            [
             0.7777777777777778,
             "#fb9f3a"
            ],
            [
             0.8888888888888888,
             "#fdca26"
            ],
            [
             1.0,
             "#f0f921"
            ]
           ],
           "sequentialminus": [
            [
             0.0,
             "#0d0887"
            ],
            [
             0.1111111111111111,
             "#46039f"
            ],
            [
             0.2222222222222222,
             "#7201a8"
            ],
            [
             0.3333333333333333,
             "#9c179e"
            ],
            [
             0.4444444444444444,
             "#bd3786"
            ],
            [
             0.5555555555555556,
             "#d8576b"
            ],
            [
             0.6666666666666666,
             "#ed7953"
            ],
            [
             0.7777777777777778,
             "#fb9f3a"
            ],
            [
             0.8888888888888888,
             "#fdca26"
            ],
            [
             1.0,
             "#f0f921"
            ]
           ],
           "diverging": [
            [
             0,
             "#8e0152"
            ],
            [
             0.1,
             "#c51b7d"
            ],
            [
             0.2,
             "#de77ae"
            ],
            [
             0.3,
             "#f1b6da"
            ],
            [
             0.4,
             "#fde0ef"
            ],
            [
             0.5,
             "#f7f7f7"
            ],
            [
             0.6,
             "#e6f5d0"
            ],
            [
             0.7,
             "#b8e186"
            ],
            [
             0.8,
             "#7fbc41"
            ],
            [
             0.9,
             "#4d9221"
            ],
            [
             1,
             "#276419"
            ]
           ]
          },
          "xaxis": {
           "gridcolor": "#283442",
           "linecolor": "#506784",
           "ticks": "",
           "title": {
            "standoff": 15
           },
           "zerolinecolor": "#283442",
           "automargin": true,
           "zerolinewidth": 2
          },
          "yaxis": {
           "gridcolor": "#283442",
           "linecolor": "#506784",
           "ticks": "",
           "title": {
            "standoff": 15
           },
           "zerolinecolor": "#283442",
           "automargin": true,
           "zerolinewidth": 2
          },
          "scene": {
           "xaxis": {
            "backgroundcolor": "rgb(17,17,17)",
            "gridcolor": "#506784",
            "linecolor": "#506784",
            "showbackground": true,
            "ticks": "",
            "zerolinecolor": "#C8D4E3",
            "gridwidth": 2
           },
           "yaxis": {
            "backgroundcolor": "rgb(17,17,17)",
            "gridcolor": "#506784",
            "linecolor": "#506784",
            "showbackground": true,
            "ticks": "",
            "zerolinecolor": "#C8D4E3",
            "gridwidth": 2
           },
           "zaxis": {
            "backgroundcolor": "rgb(17,17,17)",
            "gridcolor": "#506784",
            "linecolor": "#506784",
            "showbackground": true,
            "ticks": "",
            "zerolinecolor": "#C8D4E3",
            "gridwidth": 2
           }
          },
          "shapedefaults": {
           "line": {
            "color": "#f2f5fa"
           }
          },
          "annotationdefaults": {
           "arrowcolor": "#f2f5fa",
           "arrowhead": 0,
           "arrowwidth": 1
          },
          "geo": {
           "bgcolor": "rgb(17,17,17)",
           "landcolor": "rgb(17,17,17)",
           "subunitcolor": "#506784",
           "showland": true,
           "showlakes": true,
           "lakecolor": "rgb(17,17,17)"
          },
          "title": {
           "x": 0.05
          },
          "updatemenudefaults": {
           "bgcolor": "#506784",
           "borderwidth": 0
          },
          "sliderdefaults": {
           "bgcolor": "#C8D4E3",
           "borderwidth": 1,
           "bordercolor": "rgb(17,17,17)",
           "tickwidth": 0
          },
          "mapbox": {
           "style": "dark"
          }
         }
        },
        "xaxis": {
         "anchor": "y",
         "domain": [
          0.0,
          1.0
         ],
         "title": {
          "text": "x"
         }
        },
        "yaxis": {
         "anchor": "x",
         "domain": [
          0.0,
          1.0
         ],
         "title": {
          "text": "y"
         }
        },
        "legend": {
         "tracegroupgap": 0
        },
        "margin": {
         "t": 60
        }
       },
       "config": {
        "plotlyServerURL": "https://plot.ly"
       }
      },
      "text/html": "<div>                            <div id=\"9d657ae7-038d-47b9-9eaf-a062891414f4\" class=\"plotly-graph-div\" style=\"height:525px; width:100%;\"></div>            <script type=\"text/javascript\">                require([\"plotly\"], function(Plotly) {                    window.PLOTLYENV=window.PLOTLYENV || {};                                    if (document.getElementById(\"9d657ae7-038d-47b9-9eaf-a062891414f4\")) {                    Plotly.newPlot(                        \"9d657ae7-038d-47b9-9eaf-a062891414f4\",                        [{\"hovertemplate\":\"x=%{x}\\u003cbr\\u003ey=%{y}\\u003cextra\\u003e\\u003c\\u002fextra\\u003e\",\"legendgroup\":\"\",\"line\":{\"color\":\"#636efa\",\"dash\":\"solid\"},\"marker\":{\"symbol\":\"circle\"},\"mode\":\"lines\",\"name\":\"\",\"orientation\":\"v\",\"showlegend\":false,\"x\":[1489.670166015625,1488.5650634765625,1487.459716796875,1486.354248046875,1485.24853515625,1484.142578125,1483.0364990234375,1481.93017578125,1480.8236083984375,1479.7169189453125,1478.6099853515625,1477.5028076171875,1476.3955078125,1475.2879638671875,1474.1802978515625,1473.0723876953125,1471.9642333984375,1470.8558349609375,1469.747314453125,1468.638671875,1467.5296630859375,1466.4205322265625,1465.311279296875,1464.20166015625,1463.0919189453125,1461.9820556640625,1460.8719482421875,1459.7615966796875,1458.6510009765625,1457.540283203125,1456.4293212890625,1455.3182373046875,1454.2069091796875,1453.0953369140625,1451.983642578125,1450.8717041015625,1449.759521484375,1448.647216796875,1447.53466796875,1446.421875,1445.3089599609375,1444.19580078125,1443.0823974609375,1441.9688720703125,1440.8551025390625,1439.7410888671875,1438.626953125,1437.5125732421875,1436.3980712890625,1435.2833251953125,1434.1683349609375,1433.0531005859375,1431.937744140625,1430.8221435546875,1429.7064208984375,1428.5904541015625,1427.4742431640625,1426.35791015625,1425.2412109375,1424.12451171875,1423.0074462890625,1421.8902587890625,1420.7728271484375,1419.6552734375,1418.5374755859375,1417.41943359375,1416.30126953125,1415.182861328125,1414.064208984375,1412.9454345703125,1411.826416015625,1410.7071533203125,1409.587646484375,1408.468017578125,1407.3482666015625,1406.2281494140625,1405.10791015625,1403.9874267578125,1402.8668212890625,1401.7459716796875,1400.6248779296875,1399.503662109375,1398.3822021484375,1397.260498046875,1396.1385498046875,1395.0164794921875,1393.894287109375,1392.771728515625,1391.6490478515625,1390.526123046875,1389.403076171875,1388.2796630859375,1387.15625,1386.032470703125,1384.9085693359375,1383.784423828125,1382.6600341796875,1381.5355224609375,1380.4107666015625,1379.2857666015625,1378.16064453125,1377.0352783203125,1375.90966796875,1374.783935546875,1373.657958984375,1372.53173828125,1371.4053955078125,1370.27880859375,1369.1519775390625,1368.02490234375,1366.897705078125,1365.770263671875,1364.6427001953125,1363.5147705078125,1362.38671875,1361.258544921875,1360.1300048828125,1359.0013427734375,1357.87255859375,1356.743408203125,1355.6141357421875,1354.484619140625,1353.35498046875,1352.22509765625,1351.094970703125,1349.964599609375,1348.8341064453125,1347.703369140625,1346.5723876953125,1345.441162109375,1344.309814453125,1343.17822265625,1342.0465087890625,1340.91455078125,1339.7823486328125,1338.64990234375,1337.517333984375,1336.384521484375,1335.25146484375,1334.1181640625,1332.9847412109375,1331.85107421875,1330.7171630859375,1329.5831298828125,1328.4488525390625,1327.3143310546875,1326.1796875,1325.0447998046875,1323.90966796875,1322.7742919921875,1321.6387939453125,1320.5029296875,1319.3670654296875,1318.2308349609375,1317.094482421875,1315.9578857421875,1314.821044921875,1313.68408203125,1312.546875,1311.409423828125,1310.271728515625,1309.1339111328125,1307.995849609375,1306.8575439453125,1305.718994140625,1304.580322265625,1303.44140625,1302.3023681640625,1301.1629638671875,1300.0234375,1298.8836669921875,1297.74365234375,1296.603515625,1295.463134765625,1294.322509765625,1293.181640625,1292.0406494140625,1290.8994140625,1289.7579345703125,1288.6163330078125,1287.474365234375,1286.332275390625,1285.1900634765625,1284.0474853515625,1282.90478515625,1281.7618408203125,1280.61865234375,1279.475341796875,1278.3316650390625,1277.1878662109375,1276.0439453125,1274.899658203125,1273.7552490234375,1272.610595703125,1271.4656982421875,1270.3206787109375,1269.17529296875,1268.02978515625,1266.8841552734375],\"xaxis\":\"x\",\"y\":[-0.0075154501295243035,-0.007553941371161857,-0.0075316933079777595,-0.007514223687544305,-0.007370805423212068,-0.007496017766375184,-0.007417439714927685,-0.007362627576709281,-0.007391268687713187,-0.0073783578820848985,-0.007353937307818343,-0.007349634357338155,-0.007361751298054606,-0.007242493932724656,-0.007300815290289717,-0.007291343757070805,-0.007291588852362767,-0.007193163761957452,-0.007221635219182519,-0.007200953270086309,-0.007302069989919348,-0.007296878282075869,-0.0071871282185228084,-0.007314980590453821,-0.0073203334708625695,-0.007248430200381663,-0.007295360106805381,-0.007273408123167215,-0.007265425615468742,-0.007228901776328289,-0.007233069937399675,-0.007188836155111877,-0.007152103068863941,-0.0072562659418620576,-0.007228080969996645,-0.007263921917179834,-0.007217166013030129,-0.0071462731097454565,-0.007063938767180297,-0.007182745988832681,-0.0070422618405405904,-0.0070617641379335985,-0.007045084420735597,-0.007067034383539263,-0.007157327973898705,-0.007075178095028753,-0.007065595117130235,-0.0070721444206972685,-0.007045379892278062,-0.007012641618970385,-0.006923239901345012,-0.006977319140887468,-0.006857608745817295,-0.006941105695404577,-0.006921292086182626,-0.006893644005420396,-0.006822351241468598,-0.006770568688365981,-0.006817431851851374,-0.006834993419940552,-0.006760359990358968,-0.006585040686265521,-0.006750808392062017,-0.006773005479819404,-0.006642074728379458,-0.006559404703161536,-0.0066205006757793635,-0.0065199104783282835,-0.00649003023548268,-0.006403279422959689,-0.006378194345869493,-0.006216996278044888,-0.006219316067144537,-0.006044493868472457,-0.00613174764244929,-0.006021618541534525,-0.006013566933446694,-0.005953785603908266,-0.005905010190791764,-0.005483566110863231,-0.005308152399920984,-0.004986980958311995,-0.004493273094207368,-0.00397456130820061,-0.004795660501083132,-0.00865502993434993,-0.01474931551444775,-0.01274233341944567,-0.0028907720438983665,-0.0006680763049169593,-0.003666032251852597,-0.0064815915630267295,-0.007597371020859008,-0.0076173947208452684,-0.007265449031548711,-0.006988750853034689,-0.006744786202294458,-0.00673360571906148,-0.0066949155141876465,-0.006479738370541446,-0.006611249947099597,-0.006666295757695657,-0.006667866162145397,-0.0065911369441354626,-0.006632039522564138,-0.006702910621283544,-0.006667239209204185,-0.006637065965322584,-0.00635783429350213,-0.006162116211139998,-0.005786799865013019,-0.005222468197475382,-0.004526200704643552,-0.003709489552832299,-0.0029368573795299025,-0.002147942180674212,-0.001403555972936475,-0.00046443860162625474,0.000210769616085336,0.0010349367278748238,0.0019157674393446625,0.0026492182096768996,0.0034485549131868308,0.004210330980513506,0.004839425412831182,0.005512775282578107,0.006052273279419047,0.006401900782964337,0.0068244623352304865,0.007047405164698575,0.007043017863957148,0.006817514626996179,0.006613302182942934,0.006154403464725511,0.0055283690997359695,0.005035031053725184,0.004417900083600572,0.0036845351393868945,0.0030219511619340397,0.002209772805071552,0.0018369079263162275,0.0011237370590087233,0.0005903082464882581,0.00010078624064317582,-0.0004062965468595045,-0.0007295880475301196,-0.00111848222798959,-0.0015147341564759414,-0.0017826707706205711,-0.0020439361736024736,-0.00238759626414476,-0.002661817342782223,-0.002888693274178109,-0.0030245387895839844,-0.0033294931188542665,-0.0034579760302271647,-0.0035130766094339455,-0.003751466223484995,-0.003861528977934946,-0.003918551122002483,-0.00409155184783155,-0.004154717374192715,-0.0044098310324233,-0.004371512373325808,-0.004606606170854407,-0.004583546289902426,-0.004692810194557805,-0.0047604906249956065,-0.004743365781145929,-0.004781026926781587,-0.004871798775565548,-0.004990148622281939,-0.005050954708984312,-0.005059651160730247,-0.005220742134215833,-0.005092219527645848,-0.005155488894020859,-0.005203958345131246,-0.005300020660920392,-0.005190767310251854,-0.005231611279663824,-0.0052563508102740995,-0.005256010640157851,-0.005364199239015828,-0.005410032452308965,-0.005321999362875178,-0.005391785179918431,-0.00548379756807422,-0.005328140635941368,-0.005409350866888665,-0.005395694468184429,-0.005414349457129417,-0.005465856748528315,-0.005500219381945532,-0.005420766493060839,-0.0055134645397549075,-0.005528984999390351,-0.0055494823545518416,-0.005579749506235786],\"yaxis\":\"y\",\"type\":\"scatter\"}],                        {\"template\":{\"data\":{\"histogram2dcontour\":[{\"type\":\"histogram2dcontour\",\"colorbar\":{\"outlinewidth\":0,\"ticks\":\"\"},\"colorscale\":[[0.0,\"#0d0887\"],[0.1111111111111111,\"#46039f\"],[0.2222222222222222,\"#7201a8\"],[0.3333333333333333,\"#9c179e\"],[0.4444444444444444,\"#bd3786\"],[0.5555555555555556,\"#d8576b\"],[0.6666666666666666,\"#ed7953\"],[0.7777777777777778,\"#fb9f3a\"],[0.8888888888888888,\"#fdca26\"],[1.0,\"#f0f921\"]]}],\"choropleth\":[{\"type\":\"choropleth\",\"colorbar\":{\"outlinewidth\":0,\"ticks\":\"\"}}],\"histogram2d\":[{\"type\":\"histogram2d\",\"colorbar\":{\"outlinewidth\":0,\"ticks\":\"\"},\"colorscale\":[[0.0,\"#0d0887\"],[0.1111111111111111,\"#46039f\"],[0.2222222222222222,\"#7201a8\"],[0.3333333333333333,\"#9c179e\"],[0.4444444444444444,\"#bd3786\"],[0.5555555555555556,\"#d8576b\"],[0.6666666666666666,\"#ed7953\"],[0.7777777777777778,\"#fb9f3a\"],[0.8888888888888888,\"#fdca26\"],[1.0,\"#f0f921\"]]}],\"heatmap\":[{\"type\":\"heatmap\",\"colorbar\":{\"outlinewidth\":0,\"ticks\":\"\"},\"colorscale\":[[0.0,\"#0d0887\"],[0.1111111111111111,\"#46039f\"],[0.2222222222222222,\"#7201a8\"],[0.3333333333333333,\"#9c179e\"],[0.4444444444444444,\"#bd3786\"],[0.5555555555555556,\"#d8576b\"],[0.6666666666666666,\"#ed7953\"],[0.7777777777777778,\"#fb9f3a\"],[0.8888888888888888,\"#fdca26\"],[1.0,\"#f0f921\"]]}],\"heatmapgl\":[{\"type\":\"heatmapgl\",\"colorbar\":{\"outlinewidth\":0,\"ticks\":\"\"},\"colorscale\":[[0.0,\"#0d0887\"],[0.1111111111111111,\"#46039f\"],[0.2222222222222222,\"#7201a8\"],[0.3333333333333333,\"#9c179e\"],[0.4444444444444444,\"#bd3786\"],[0.5555555555555556,\"#d8576b\"],[0.6666666666666666,\"#ed7953\"],[0.7777777777777778,\"#fb9f3a\"],[0.8888888888888888,\"#fdca26\"],[1.0,\"#f0f921\"]]}],\"contourcarpet\":[{\"type\":\"contourcarpet\",\"colorbar\":{\"outlinewidth\":0,\"ticks\":\"\"}}],\"contour\":[{\"type\":\"contour\",\"colorbar\":{\"outlinewidth\":0,\"ticks\":\"\"},\"colorscale\":[[0.0,\"#0d0887\"],[0.1111111111111111,\"#46039f\"],[0.2222222222222222,\"#7201a8\"],[0.3333333333333333,\"#9c179e\"],[0.4444444444444444,\"#bd3786\"],[0.5555555555555556,\"#d8576b\"],[0.6666666666666666,\"#ed7953\"],[0.7777777777777778,\"#fb9f3a\"],[0.8888888888888888,\"#fdca26\"],[1.0,\"#f0f921\"]]}],\"surface\":[{\"type\":\"surface\",\"colorbar\":{\"outlinewidth\":0,\"ticks\":\"\"},\"colorscale\":[[0.0,\"#0d0887\"],[0.1111111111111111,\"#46039f\"],[0.2222222222222222,\"#7201a8\"],[0.3333333333333333,\"#9c179e\"],[0.4444444444444444,\"#bd3786\"],[0.5555555555555556,\"#d8576b\"],[0.6666666666666666,\"#ed7953\"],[0.7777777777777778,\"#fb9f3a\"],[0.8888888888888888,\"#fdca26\"],[1.0,\"#f0f921\"]]}],\"mesh3d\":[{\"type\":\"mesh3d\",\"colorbar\":{\"outlinewidth\":0,\"ticks\":\"\"}}],\"scatter\":[{\"marker\":{\"line\":{\"color\":\"#283442\"}},\"type\":\"scatter\"}],\"parcoords\":[{\"type\":\"parcoords\",\"line\":{\"colorbar\":{\"outlinewidth\":0,\"ticks\":\"\"}}}],\"scatterpolargl\":[{\"type\":\"scatterpolargl\",\"marker\":{\"colorbar\":{\"outlinewidth\":0,\"ticks\":\"\"}}}],\"bar\":[{\"error_x\":{\"color\":\"#f2f5fa\"},\"error_y\":{\"color\":\"#f2f5fa\"},\"marker\":{\"line\":{\"color\":\"rgb(17,17,17)\",\"width\":0.5},\"pattern\":{\"fillmode\":\"overlay\",\"size\":10,\"solidity\":0.2}},\"type\":\"bar\"}],\"scattergeo\":[{\"type\":\"scattergeo\",\"marker\":{\"colorbar\":{\"outlinewidth\":0,\"ticks\":\"\"}}}],\"scatterpolar\":[{\"type\":\"scatterpolar\",\"marker\":{\"colorbar\":{\"outlinewidth\":0,\"ticks\":\"\"}}}],\"histogram\":[{\"marker\":{\"pattern\":{\"fillmode\":\"overlay\",\"size\":10,\"solidity\":0.2}},\"type\":\"histogram\"}],\"scattergl\":[{\"marker\":{\"line\":{\"color\":\"#283442\"}},\"type\":\"scattergl\"}],\"scatter3d\":[{\"type\":\"scatter3d\",\"line\":{\"colorbar\":{\"outlinewidth\":0,\"ticks\":\"\"}},\"marker\":{\"colorbar\":{\"outlinewidth\":0,\"ticks\":\"\"}}}],\"scattermapbox\":[{\"type\":\"scattermapbox\",\"marker\":{\"colorbar\":{\"outlinewidth\":0,\"ticks\":\"\"}}}],\"scatterternary\":[{\"type\":\"scatterternary\",\"marker\":{\"colorbar\":{\"outlinewidth\":0,\"ticks\":\"\"}}}],\"scattercarpet\":[{\"type\":\"scattercarpet\",\"marker\":{\"colorbar\":{\"outlinewidth\":0,\"ticks\":\"\"}}}],\"carpet\":[{\"aaxis\":{\"endlinecolor\":\"#A2B1C6\",\"gridcolor\":\"#506784\",\"linecolor\":\"#506784\",\"minorgridcolor\":\"#506784\",\"startlinecolor\":\"#A2B1C6\"},\"baxis\":{\"endlinecolor\":\"#A2B1C6\",\"gridcolor\":\"#506784\",\"linecolor\":\"#506784\",\"minorgridcolor\":\"#506784\",\"startlinecolor\":\"#A2B1C6\"},\"type\":\"carpet\"}],\"table\":[{\"cells\":{\"fill\":{\"color\":\"#506784\"},\"line\":{\"color\":\"rgb(17,17,17)\"}},\"header\":{\"fill\":{\"color\":\"#2a3f5f\"},\"line\":{\"color\":\"rgb(17,17,17)\"}},\"type\":\"table\"}],\"barpolar\":[{\"marker\":{\"line\":{\"color\":\"rgb(17,17,17)\",\"width\":0.5},\"pattern\":{\"fillmode\":\"overlay\",\"size\":10,\"solidity\":0.2}},\"type\":\"barpolar\"}],\"pie\":[{\"automargin\":true,\"type\":\"pie\"}]},\"layout\":{\"autotypenumbers\":\"strict\",\"colorway\":[\"#636efa\",\"#EF553B\",\"#00cc96\",\"#ab63fa\",\"#FFA15A\",\"#19d3f3\",\"#FF6692\",\"#B6E880\",\"#FF97FF\",\"#FECB52\"],\"font\":{\"color\":\"#f2f5fa\"},\"hovermode\":\"closest\",\"hoverlabel\":{\"align\":\"left\"},\"paper_bgcolor\":\"rgb(17,17,17)\",\"plot_bgcolor\":\"rgb(17,17,17)\",\"polar\":{\"bgcolor\":\"rgb(17,17,17)\",\"angularaxis\":{\"gridcolor\":\"#506784\",\"linecolor\":\"#506784\",\"ticks\":\"\"},\"radialaxis\":{\"gridcolor\":\"#506784\",\"linecolor\":\"#506784\",\"ticks\":\"\"}},\"ternary\":{\"bgcolor\":\"rgb(17,17,17)\",\"aaxis\":{\"gridcolor\":\"#506784\",\"linecolor\":\"#506784\",\"ticks\":\"\"},\"baxis\":{\"gridcolor\":\"#506784\",\"linecolor\":\"#506784\",\"ticks\":\"\"},\"caxis\":{\"gridcolor\":\"#506784\",\"linecolor\":\"#506784\",\"ticks\":\"\"}},\"coloraxis\":{\"colorbar\":{\"outlinewidth\":0,\"ticks\":\"\"}},\"colorscale\":{\"sequential\":[[0.0,\"#0d0887\"],[0.1111111111111111,\"#46039f\"],[0.2222222222222222,\"#7201a8\"],[0.3333333333333333,\"#9c179e\"],[0.4444444444444444,\"#bd3786\"],[0.5555555555555556,\"#d8576b\"],[0.6666666666666666,\"#ed7953\"],[0.7777777777777778,\"#fb9f3a\"],[0.8888888888888888,\"#fdca26\"],[1.0,\"#f0f921\"]],\"sequentialminus\":[[0.0,\"#0d0887\"],[0.1111111111111111,\"#46039f\"],[0.2222222222222222,\"#7201a8\"],[0.3333333333333333,\"#9c179e\"],[0.4444444444444444,\"#bd3786\"],[0.5555555555555556,\"#d8576b\"],[0.6666666666666666,\"#ed7953\"],[0.7777777777777778,\"#fb9f3a\"],[0.8888888888888888,\"#fdca26\"],[1.0,\"#f0f921\"]],\"diverging\":[[0,\"#8e0152\"],[0.1,\"#c51b7d\"],[0.2,\"#de77ae\"],[0.3,\"#f1b6da\"],[0.4,\"#fde0ef\"],[0.5,\"#f7f7f7\"],[0.6,\"#e6f5d0\"],[0.7,\"#b8e186\"],[0.8,\"#7fbc41\"],[0.9,\"#4d9221\"],[1,\"#276419\"]]},\"xaxis\":{\"gridcolor\":\"#283442\",\"linecolor\":\"#506784\",\"ticks\":\"\",\"title\":{\"standoff\":15},\"zerolinecolor\":\"#283442\",\"automargin\":true,\"zerolinewidth\":2},\"yaxis\":{\"gridcolor\":\"#283442\",\"linecolor\":\"#506784\",\"ticks\":\"\",\"title\":{\"standoff\":15},\"zerolinecolor\":\"#283442\",\"automargin\":true,\"zerolinewidth\":2},\"scene\":{\"xaxis\":{\"backgroundcolor\":\"rgb(17,17,17)\",\"gridcolor\":\"#506784\",\"linecolor\":\"#506784\",\"showbackground\":true,\"ticks\":\"\",\"zerolinecolor\":\"#C8D4E3\",\"gridwidth\":2},\"yaxis\":{\"backgroundcolor\":\"rgb(17,17,17)\",\"gridcolor\":\"#506784\",\"linecolor\":\"#506784\",\"showbackground\":true,\"ticks\":\"\",\"zerolinecolor\":\"#C8D4E3\",\"gridwidth\":2},\"zaxis\":{\"backgroundcolor\":\"rgb(17,17,17)\",\"gridcolor\":\"#506784\",\"linecolor\":\"#506784\",\"showbackground\":true,\"ticks\":\"\",\"zerolinecolor\":\"#C8D4E3\",\"gridwidth\":2}},\"shapedefaults\":{\"line\":{\"color\":\"#f2f5fa\"}},\"annotationdefaults\":{\"arrowcolor\":\"#f2f5fa\",\"arrowhead\":0,\"arrowwidth\":1},\"geo\":{\"bgcolor\":\"rgb(17,17,17)\",\"landcolor\":\"rgb(17,17,17)\",\"subunitcolor\":\"#506784\",\"showland\":true,\"showlakes\":true,\"lakecolor\":\"rgb(17,17,17)\"},\"title\":{\"x\":0.05},\"updatemenudefaults\":{\"bgcolor\":\"#506784\",\"borderwidth\":0},\"sliderdefaults\":{\"bgcolor\":\"#C8D4E3\",\"borderwidth\":1,\"bordercolor\":\"rgb(17,17,17)\",\"tickwidth\":0},\"mapbox\":{\"style\":\"dark\"}}},\"xaxis\":{\"anchor\":\"y\",\"domain\":[0.0,1.0],\"title\":{\"text\":\"x\"}},\"yaxis\":{\"anchor\":\"x\",\"domain\":[0.0,1.0],\"title\":{\"text\":\"y\"}},\"legend\":{\"tracegroupgap\":0},\"margin\":{\"t\":60}},                        {\"responsive\": true}                    ).then(function(){\n                            \nvar gd = document.getElementById('9d657ae7-038d-47b9-9eaf-a062891414f4');\nvar x = new MutationObserver(function (mutations, observer) {{\n        var display = window.getComputedStyle(gd).display;\n        if (!display || display === 'none') {{\n            console.log([gd, 'removed!']);\n            Plotly.purge(gd);\n            observer.disconnect();\n        }}\n}});\n\n// Listen for the removal of the full notebook cells\nvar notebookContainer = gd.closest('#notebook-container');\nif (notebookContainer) {{\n    x.observe(notebookContainer, {childList: true});\n}}\n\n// Listen for the clearing of the current output cell\nvar outputEl = gd.closest('.output');\nif (outputEl) {{\n    x.observe(outputEl, {childList: true});\n}}\n\n                        })                };                });            </script>        </div>"
     },
     "metadata": {},
     "output_type": "display_data"
    },
    {
     "data": {
      "application/vnd.plotly.v1+json": {
       "data": [
        {
         "hovertemplate": "x=%{x}<br>y=%{y}<extra></extra>",
         "legendgroup": "",
         "line": {
          "color": "#636efa",
          "dash": "solid"
         },
         "marker": {
          "symbol": "circle"
         },
         "mode": "lines",
         "name": "",
         "orientation": "v",
         "showlegend": false,
         "x": [
          1489.670166015625,
          1488.5650634765625,
          1487.459716796875,
          1486.354248046875,
          1485.24853515625,
          1484.142578125,
          1483.0364990234375,
          1481.93017578125,
          1480.8236083984375,
          1479.7169189453125,
          1478.6099853515625,
          1477.5028076171875,
          1476.3955078125,
          1475.2879638671875,
          1474.1802978515625,
          1473.0723876953125,
          1471.9642333984375,
          1470.8558349609375,
          1469.747314453125,
          1468.638671875,
          1467.5296630859375,
          1466.4205322265625,
          1465.311279296875,
          1464.20166015625,
          1463.0919189453125,
          1461.9820556640625,
          1460.8719482421875,
          1459.7615966796875,
          1458.6510009765625,
          1457.540283203125,
          1456.4293212890625,
          1455.3182373046875,
          1454.2069091796875,
          1453.0953369140625,
          1451.983642578125,
          1450.8717041015625,
          1449.759521484375,
          1448.647216796875,
          1447.53466796875,
          1446.421875,
          1445.3089599609375,
          1444.19580078125,
          1443.0823974609375,
          1441.9688720703125,
          1440.8551025390625,
          1439.7410888671875,
          1438.626953125,
          1437.5125732421875,
          1436.3980712890625,
          1435.2833251953125,
          1434.1683349609375,
          1433.0531005859375,
          1431.937744140625,
          1430.8221435546875,
          1429.7064208984375,
          1428.5904541015625,
          1427.4742431640625,
          1426.35791015625,
          1425.2412109375,
          1424.12451171875,
          1423.0074462890625,
          1421.8902587890625,
          1420.7728271484375,
          1419.6552734375,
          1418.5374755859375,
          1417.41943359375,
          1416.30126953125,
          1415.182861328125,
          1414.064208984375,
          1412.9454345703125,
          1411.826416015625,
          1410.7071533203125,
          1409.587646484375,
          1408.468017578125,
          1407.3482666015625,
          1406.2281494140625,
          1405.10791015625,
          1403.9874267578125,
          1402.8668212890625,
          1401.7459716796875,
          1400.6248779296875,
          1399.503662109375,
          1398.3822021484375,
          1397.260498046875,
          1396.1385498046875,
          1395.0164794921875,
          1393.894287109375,
          1392.771728515625,
          1391.6490478515625,
          1390.526123046875,
          1389.403076171875,
          1388.2796630859375,
          1387.15625,
          1386.032470703125,
          1384.9085693359375,
          1383.784423828125,
          1382.6600341796875,
          1381.5355224609375,
          1380.4107666015625,
          1379.2857666015625,
          1378.16064453125,
          1377.0352783203125,
          1375.90966796875,
          1374.783935546875,
          1373.657958984375,
          1372.53173828125,
          1371.4053955078125,
          1370.27880859375,
          1369.1519775390625,
          1368.02490234375,
          1366.897705078125,
          1365.770263671875,
          1364.6427001953125,
          1363.5147705078125,
          1362.38671875,
          1361.258544921875,
          1360.1300048828125,
          1359.0013427734375,
          1357.87255859375,
          1356.743408203125,
          1355.6141357421875,
          1354.484619140625,
          1353.35498046875,
          1352.22509765625,
          1351.094970703125,
          1349.964599609375,
          1348.8341064453125,
          1347.703369140625,
          1346.5723876953125,
          1345.441162109375,
          1344.309814453125,
          1343.17822265625,
          1342.0465087890625,
          1340.91455078125,
          1339.7823486328125,
          1338.64990234375,
          1337.517333984375,
          1336.384521484375,
          1335.25146484375,
          1334.1181640625,
          1332.9847412109375,
          1331.85107421875,
          1330.7171630859375,
          1329.5831298828125,
          1328.4488525390625,
          1327.3143310546875,
          1326.1796875,
          1325.0447998046875,
          1323.90966796875,
          1322.7742919921875,
          1321.6387939453125,
          1320.5029296875,
          1319.3670654296875,
          1318.2308349609375,
          1317.094482421875,
          1315.9578857421875,
          1314.821044921875,
          1313.68408203125,
          1312.546875,
          1311.409423828125,
          1310.271728515625,
          1309.1339111328125,
          1307.995849609375,
          1306.8575439453125,
          1305.718994140625,
          1304.580322265625,
          1303.44140625,
          1302.3023681640625,
          1301.1629638671875,
          1300.0234375,
          1298.8836669921875,
          1297.74365234375,
          1296.603515625,
          1295.463134765625,
          1294.322509765625,
          1293.181640625,
          1292.0406494140625,
          1290.8994140625,
          1289.7579345703125,
          1288.6163330078125,
          1287.474365234375,
          1286.332275390625,
          1285.1900634765625,
          1284.0474853515625,
          1282.90478515625,
          1281.7618408203125,
          1280.61865234375,
          1279.475341796875,
          1278.3316650390625,
          1277.1878662109375,
          1276.0439453125,
          1274.899658203125,
          1273.7552490234375,
          1272.610595703125,
          1271.4656982421875,
          1270.3206787109375,
          1269.17529296875,
          1268.02978515625,
          1266.8841552734375
         ],
         "xaxis": "x",
         "y": [
          0.003180179815735517,
          0.0030355486343285757,
          0.0030006452564868753,
          0.003078080904480259,
          0.00351217272362851,
          0.003004855946461177,
          0.0030841958324097658,
          0.0033738413114292186,
          0.0032165112421924384,
          0.0033679170996937288,
          0.003241412351380728,
          0.003197813090230365,
          0.003378274549273239,
          0.003336304534323154,
          0.0034157508186670074,
          0.0032138491393840503,
          0.0031843050109541284,
          0.0033704203726135926,
          0.0034215870483765135,
          0.003511246269022737,
          0.0034457216062525452,
          0.0033303629845325105,
          0.003566959660268889,
          0.0033786736387132928,
          0.0033235857842475345,
          0.0037167226982330417,
          0.0034595300334589133,
          0.003597979983743181,
          0.003685857936540107,
          0.003618458656879236,
          0.0036448095786585934,
          0.0036571045278164425,
          0.003721513697901728,
          0.0037299807281726926,
          0.003908537753537845,
          0.0036149515317575823,
          0.003921590445470263,
          0.004045297466724679,
          0.00413242197828262,
          0.0038617542003089346,
          0.004143470060305209,
          0.00406587470887489,
          0.004167907674121856,
          0.004119797194782505,
          0.00399851029895248,
          0.00413649715194764,
          0.004207032738311199,
          0.004466253365649123,
          0.0044100600893184965,
          0.004850744363922299,
          0.004694537340721339,
          0.004613805164378918,
          0.005051999039008684,
          0.00478318980376107,
          0.00477162643661659,
          0.004945904086221731,
          0.005039386972441422,
          0.004826000659110461,
          0.0046605867176492625,
          0.005086188654738877,
          0.005020255196399358,
          0.005374523329901999,
          0.005023202334725592,
          0.005035615593958757,
          0.005361865789414243,
          0.0051862762559948565,
          0.005175215594201309,
          0.005332104673385764,
          0.0052241912976437495,
          0.005206760916401186,
          0.0051043416163164155,
          0.00536089145247552,
          0.005444665901381892,
          0.0052596260733871695,
          0.004815967645882302,
          0.004338430655359904,
          0.004180007869997974,
          0.0037302575650014786,
          0.002723439641851079,
          0.0019034052852305162,
          6.166283612649117E-5,
          -0.003114184705212896,
          -0.007704992355143608,
          -0.013712929780560348,
          -0.022715045041698387,
          -0.029328951435910435,
          -0.01412903798742647,
          0.032795736373631826,
          0.0378642856341789,
          8.480093415866993E-4,
          -0.019876267470267016,
          -0.021446669225343457,
          -0.014325278067831092,
          -0.005769638105525259,
          4.729392626016441E-4,
          0.005472454665512663,
          0.009234779526004459,
          0.01228169381808333,
          0.015103199057960592,
          0.017463278696553137,
          0.020011425564846978,
          0.02270000475807936,
          0.02546055608458688,
          0.028765487137396514,
          0.03194788432558965,
          0.034729501740150465,
          0.037491563838618285,
          0.039414744871524805,
          0.04077975713126922,
          0.040953501377303365,
          0.04034125451414953,
          0.03884648588914549,
          0.0367413255180034,
          0.03426349680026297,
          0.03116097350402651,
          0.028316423694199958,
          0.025881872286656494,
          0.023937157398706003,
          0.02133096652569496,
          0.01964878275407357,
          0.01809154867043341,
          0.016246031521028177,
          0.014601233674043295,
          0.013730115559614588,
          0.012705923089348847,
          0.011929487219716966,
          0.010909002631517927,
          0.009955577736809476,
          0.009585419527612608,
          0.009129055108703902,
          0.00876486731459176,
          0.00796413175376533,
          0.008029364322484118,
          0.007625192397896452,
          0.0073386948075831165,
          0.007265603575643372,
          0.007208824771399531,
          0.006391798717049636,
          0.006532703522878971,
          0.005946805327612744,
          0.006398756592945505,
          0.006038559158003202,
          0.005984515781350249,
          0.005922337699796727,
          0.006039947386148436,
          0.006154257245084918,
          0.006014140050652391,
          0.005913578812067433,
          0.005940151757169213,
          0.005902042420628649,
          0.005520062867844018,
          0.00539880378635562,
          0.005526883564540902,
          0.0055147462884071585,
          0.005410371210615081,
          0.005284953082719166,
          0.005336266976418123,
          0.005481828779418967,
          0.005372551758109188,
          0.005347271297299738,
          0.005275011960744266,
          0.005238685586646356,
          0.005027953564459822,
          0.005199380188790885,
          0.005223404393119118,
          0.0052457602589234325,
          0.005153871690702154,
          0.005033317216139014,
          0.005047169879977573,
          0.004834522391816883,
          0.005160359114570237,
          0.005192633280545816,
          0.004700318206615446,
          0.00472074591620636,
          0.004519053963296494,
          0.004874950237946474,
          0.004897219727274106,
          0.00463489313989818,
          0.004728638630421895,
          0.004746074402800769,
          0.004597048143515351,
          0.004591076378570607,
          0.004545865940421537,
          0.004357747371205689,
          0.0043633980098922364,
          0.004471464093117981,
          0.00452643660812076,
          0.004107226135701176,
          0.004739949290081457,
          0.004444403894821362,
          0.004314566633563318,
          0.0044796153927006786,
          0.00423411587412185,
          0.004172259445577836,
          0.004239713114692079,
          0.004030688732864692,
          0.0042039397673267484,
          0.0038955228132242707,
          0.003895697032926838
         ],
         "yaxis": "y",
         "type": "scatter"
        }
       ],
       "layout": {
        "template": {
         "data": {
          "histogram2dcontour": [
           {
            "type": "histogram2dcontour",
            "colorbar": {
             "outlinewidth": 0,
             "ticks": ""
            },
            "colorscale": [
             [
              0.0,
              "#0d0887"
             ],
             [
              0.1111111111111111,
              "#46039f"
             ],
             [
              0.2222222222222222,
              "#7201a8"
             ],
             [
              0.3333333333333333,
              "#9c179e"
             ],
             [
              0.4444444444444444,
              "#bd3786"
             ],
             [
              0.5555555555555556,
              "#d8576b"
             ],
             [
              0.6666666666666666,
              "#ed7953"
             ],
             [
              0.7777777777777778,
              "#fb9f3a"
             ],
             [
              0.8888888888888888,
              "#fdca26"
             ],
             [
              1.0,
              "#f0f921"
             ]
            ]
           }
          ],
          "choropleth": [
           {
            "type": "choropleth",
            "colorbar": {
             "outlinewidth": 0,
             "ticks": ""
            }
           }
          ],
          "histogram2d": [
           {
            "type": "histogram2d",
            "colorbar": {
             "outlinewidth": 0,
             "ticks": ""
            },
            "colorscale": [
             [
              0.0,
              "#0d0887"
             ],
             [
              0.1111111111111111,
              "#46039f"
             ],
             [
              0.2222222222222222,
              "#7201a8"
             ],
             [
              0.3333333333333333,
              "#9c179e"
             ],
             [
              0.4444444444444444,
              "#bd3786"
             ],
             [
              0.5555555555555556,
              "#d8576b"
             ],
             [
              0.6666666666666666,
              "#ed7953"
             ],
             [
              0.7777777777777778,
              "#fb9f3a"
             ],
             [
              0.8888888888888888,
              "#fdca26"
             ],
             [
              1.0,
              "#f0f921"
             ]
            ]
           }
          ],
          "heatmap": [
           {
            "type": "heatmap",
            "colorbar": {
             "outlinewidth": 0,
             "ticks": ""
            },
            "colorscale": [
             [
              0.0,
              "#0d0887"
             ],
             [
              0.1111111111111111,
              "#46039f"
             ],
             [
              0.2222222222222222,
              "#7201a8"
             ],
             [
              0.3333333333333333,
              "#9c179e"
             ],
             [
              0.4444444444444444,
              "#bd3786"
             ],
             [
              0.5555555555555556,
              "#d8576b"
             ],
             [
              0.6666666666666666,
              "#ed7953"
             ],
             [
              0.7777777777777778,
              "#fb9f3a"
             ],
             [
              0.8888888888888888,
              "#fdca26"
             ],
             [
              1.0,
              "#f0f921"
             ]
            ]
           }
          ],
          "heatmapgl": [
           {
            "type": "heatmapgl",
            "colorbar": {
             "outlinewidth": 0,
             "ticks": ""
            },
            "colorscale": [
             [
              0.0,
              "#0d0887"
             ],
             [
              0.1111111111111111,
              "#46039f"
             ],
             [
              0.2222222222222222,
              "#7201a8"
             ],
             [
              0.3333333333333333,
              "#9c179e"
             ],
             [
              0.4444444444444444,
              "#bd3786"
             ],
             [
              0.5555555555555556,
              "#d8576b"
             ],
             [
              0.6666666666666666,
              "#ed7953"
             ],
             [
              0.7777777777777778,
              "#fb9f3a"
             ],
             [
              0.8888888888888888,
              "#fdca26"
             ],
             [
              1.0,
              "#f0f921"
             ]
            ]
           }
          ],
          "contourcarpet": [
           {
            "type": "contourcarpet",
            "colorbar": {
             "outlinewidth": 0,
             "ticks": ""
            }
           }
          ],
          "contour": [
           {
            "type": "contour",
            "colorbar": {
             "outlinewidth": 0,
             "ticks": ""
            },
            "colorscale": [
             [
              0.0,
              "#0d0887"
             ],
             [
              0.1111111111111111,
              "#46039f"
             ],
             [
              0.2222222222222222,
              "#7201a8"
             ],
             [
              0.3333333333333333,
              "#9c179e"
             ],
             [
              0.4444444444444444,
              "#bd3786"
             ],
             [
              0.5555555555555556,
              "#d8576b"
             ],
             [
              0.6666666666666666,
              "#ed7953"
             ],
             [
              0.7777777777777778,
              "#fb9f3a"
             ],
             [
              0.8888888888888888,
              "#fdca26"
             ],
             [
              1.0,
              "#f0f921"
             ]
            ]
           }
          ],
          "surface": [
           {
            "type": "surface",
            "colorbar": {
             "outlinewidth": 0,
             "ticks": ""
            },
            "colorscale": [
             [
              0.0,
              "#0d0887"
             ],
             [
              0.1111111111111111,
              "#46039f"
             ],
             [
              0.2222222222222222,
              "#7201a8"
             ],
             [
              0.3333333333333333,
              "#9c179e"
             ],
             [
              0.4444444444444444,
              "#bd3786"
             ],
             [
              0.5555555555555556,
              "#d8576b"
             ],
             [
              0.6666666666666666,
              "#ed7953"
             ],
             [
              0.7777777777777778,
              "#fb9f3a"
             ],
             [
              0.8888888888888888,
              "#fdca26"
             ],
             [
              1.0,
              "#f0f921"
             ]
            ]
           }
          ],
          "mesh3d": [
           {
            "type": "mesh3d",
            "colorbar": {
             "outlinewidth": 0,
             "ticks": ""
            }
           }
          ],
          "scatter": [
           {
            "marker": {
             "line": {
              "color": "#283442"
             }
            },
            "type": "scatter"
           }
          ],
          "parcoords": [
           {
            "type": "parcoords",
            "line": {
             "colorbar": {
              "outlinewidth": 0,
              "ticks": ""
             }
            }
           }
          ],
          "scatterpolargl": [
           {
            "type": "scatterpolargl",
            "marker": {
             "colorbar": {
              "outlinewidth": 0,
              "ticks": ""
             }
            }
           }
          ],
          "bar": [
           {
            "error_x": {
             "color": "#f2f5fa"
            },
            "error_y": {
             "color": "#f2f5fa"
            },
            "marker": {
             "line": {
              "color": "rgb(17,17,17)",
              "width": 0.5
             },
             "pattern": {
              "fillmode": "overlay",
              "size": 10,
              "solidity": 0.2
             }
            },
            "type": "bar"
           }
          ],
          "scattergeo": [
           {
            "type": "scattergeo",
            "marker": {
             "colorbar": {
              "outlinewidth": 0,
              "ticks": ""
             }
            }
           }
          ],
          "scatterpolar": [
           {
            "type": "scatterpolar",
            "marker": {
             "colorbar": {
              "outlinewidth": 0,
              "ticks": ""
             }
            }
           }
          ],
          "histogram": [
           {
            "marker": {
             "pattern": {
              "fillmode": "overlay",
              "size": 10,
              "solidity": 0.2
             }
            },
            "type": "histogram"
           }
          ],
          "scattergl": [
           {
            "marker": {
             "line": {
              "color": "#283442"
             }
            },
            "type": "scattergl"
           }
          ],
          "scatter3d": [
           {
            "type": "scatter3d",
            "line": {
             "colorbar": {
              "outlinewidth": 0,
              "ticks": ""
             }
            },
            "marker": {
             "colorbar": {
              "outlinewidth": 0,
              "ticks": ""
             }
            }
           }
          ],
          "scattermapbox": [
           {
            "type": "scattermapbox",
            "marker": {
             "colorbar": {
              "outlinewidth": 0,
              "ticks": ""
             }
            }
           }
          ],
          "scatterternary": [
           {
            "type": "scatterternary",
            "marker": {
             "colorbar": {
              "outlinewidth": 0,
              "ticks": ""
             }
            }
           }
          ],
          "scattercarpet": [
           {
            "type": "scattercarpet",
            "marker": {
             "colorbar": {
              "outlinewidth": 0,
              "ticks": ""
             }
            }
           }
          ],
          "carpet": [
           {
            "aaxis": {
             "endlinecolor": "#A2B1C6",
             "gridcolor": "#506784",
             "linecolor": "#506784",
             "minorgridcolor": "#506784",
             "startlinecolor": "#A2B1C6"
            },
            "baxis": {
             "endlinecolor": "#A2B1C6",
             "gridcolor": "#506784",
             "linecolor": "#506784",
             "minorgridcolor": "#506784",
             "startlinecolor": "#A2B1C6"
            },
            "type": "carpet"
           }
          ],
          "table": [
           {
            "cells": {
             "fill": {
              "color": "#506784"
             },
             "line": {
              "color": "rgb(17,17,17)"
             }
            },
            "header": {
             "fill": {
              "color": "#2a3f5f"
             },
             "line": {
              "color": "rgb(17,17,17)"
             }
            },
            "type": "table"
           }
          ],
          "barpolar": [
           {
            "marker": {
             "line": {
              "color": "rgb(17,17,17)",
              "width": 0.5
             },
             "pattern": {
              "fillmode": "overlay",
              "size": 10,
              "solidity": 0.2
             }
            },
            "type": "barpolar"
           }
          ],
          "pie": [
           {
            "automargin": true,
            "type": "pie"
           }
          ]
         },
         "layout": {
          "autotypenumbers": "strict",
          "colorway": [
           "#636efa",
           "#EF553B",
           "#00cc96",
           "#ab63fa",
           "#FFA15A",
           "#19d3f3",
           "#FF6692",
           "#B6E880",
           "#FF97FF",
           "#FECB52"
          ],
          "font": {
           "color": "#f2f5fa"
          },
          "hovermode": "closest",
          "hoverlabel": {
           "align": "left"
          },
          "paper_bgcolor": "rgb(17,17,17)",
          "plot_bgcolor": "rgb(17,17,17)",
          "polar": {
           "bgcolor": "rgb(17,17,17)",
           "angularaxis": {
            "gridcolor": "#506784",
            "linecolor": "#506784",
            "ticks": ""
           },
           "radialaxis": {
            "gridcolor": "#506784",
            "linecolor": "#506784",
            "ticks": ""
           }
          },
          "ternary": {
           "bgcolor": "rgb(17,17,17)",
           "aaxis": {
            "gridcolor": "#506784",
            "linecolor": "#506784",
            "ticks": ""
           },
           "baxis": {
            "gridcolor": "#506784",
            "linecolor": "#506784",
            "ticks": ""
           },
           "caxis": {
            "gridcolor": "#506784",
            "linecolor": "#506784",
            "ticks": ""
           }
          },
          "coloraxis": {
           "colorbar": {
            "outlinewidth": 0,
            "ticks": ""
           }
          },
          "colorscale": {
           "sequential": [
            [
             0.0,
             "#0d0887"
            ],
            [
             0.1111111111111111,
             "#46039f"
            ],
            [
             0.2222222222222222,
             "#7201a8"
            ],
            [
             0.3333333333333333,
             "#9c179e"
            ],
            [
             0.4444444444444444,
             "#bd3786"
            ],
            [
             0.5555555555555556,
             "#d8576b"
            ],
            [
             0.6666666666666666,
             "#ed7953"
            ],
            [
             0.7777777777777778,
             "#fb9f3a"
            ],
            [
             0.8888888888888888,
             "#fdca26"
            ],
            [
             1.0,
             "#f0f921"
            ]
           ],
           "sequentialminus": [
            [
             0.0,
             "#0d0887"
            ],
            [
             0.1111111111111111,
             "#46039f"
            ],
            [
             0.2222222222222222,
             "#7201a8"
            ],
            [
             0.3333333333333333,
             "#9c179e"
            ],
            [
             0.4444444444444444,
             "#bd3786"
            ],
            [
             0.5555555555555556,
             "#d8576b"
            ],
            [
             0.6666666666666666,
             "#ed7953"
            ],
            [
             0.7777777777777778,
             "#fb9f3a"
            ],
            [
             0.8888888888888888,
             "#fdca26"
            ],
            [
             1.0,
             "#f0f921"
            ]
           ],
           "diverging": [
            [
             0,
             "#8e0152"
            ],
            [
             0.1,
             "#c51b7d"
            ],
            [
             0.2,
             "#de77ae"
            ],
            [
             0.3,
             "#f1b6da"
            ],
            [
             0.4,
             "#fde0ef"
            ],
            [
             0.5,
             "#f7f7f7"
            ],
            [
             0.6,
             "#e6f5d0"
            ],
            [
             0.7,
             "#b8e186"
            ],
            [
             0.8,
             "#7fbc41"
            ],
            [
             0.9,
             "#4d9221"
            ],
            [
             1,
             "#276419"
            ]
           ]
          },
          "xaxis": {
           "gridcolor": "#283442",
           "linecolor": "#506784",
           "ticks": "",
           "title": {
            "standoff": 15
           },
           "zerolinecolor": "#283442",
           "automargin": true,
           "zerolinewidth": 2
          },
          "yaxis": {
           "gridcolor": "#283442",
           "linecolor": "#506784",
           "ticks": "",
           "title": {
            "standoff": 15
           },
           "zerolinecolor": "#283442",
           "automargin": true,
           "zerolinewidth": 2
          },
          "scene": {
           "xaxis": {
            "backgroundcolor": "rgb(17,17,17)",
            "gridcolor": "#506784",
            "linecolor": "#506784",
            "showbackground": true,
            "ticks": "",
            "zerolinecolor": "#C8D4E3",
            "gridwidth": 2
           },
           "yaxis": {
            "backgroundcolor": "rgb(17,17,17)",
            "gridcolor": "#506784",
            "linecolor": "#506784",
            "showbackground": true,
            "ticks": "",
            "zerolinecolor": "#C8D4E3",
            "gridwidth": 2
           },
           "zaxis": {
            "backgroundcolor": "rgb(17,17,17)",
            "gridcolor": "#506784",
            "linecolor": "#506784",
            "showbackground": true,
            "ticks": "",
            "zerolinecolor": "#C8D4E3",
            "gridwidth": 2
           }
          },
          "shapedefaults": {
           "line": {
            "color": "#f2f5fa"
           }
          },
          "annotationdefaults": {
           "arrowcolor": "#f2f5fa",
           "arrowhead": 0,
           "arrowwidth": 1
          },
          "geo": {
           "bgcolor": "rgb(17,17,17)",
           "landcolor": "rgb(17,17,17)",
           "subunitcolor": "#506784",
           "showland": true,
           "showlakes": true,
           "lakecolor": "rgb(17,17,17)"
          },
          "title": {
           "x": 0.05
          },
          "updatemenudefaults": {
           "bgcolor": "#506784",
           "borderwidth": 0
          },
          "sliderdefaults": {
           "bgcolor": "#C8D4E3",
           "borderwidth": 1,
           "bordercolor": "rgb(17,17,17)",
           "tickwidth": 0
          },
          "mapbox": {
           "style": "dark"
          }
         }
        },
        "xaxis": {
         "anchor": "y",
         "domain": [
          0.0,
          1.0
         ],
         "title": {
          "text": "x"
         }
        },
        "yaxis": {
         "anchor": "x",
         "domain": [
          0.0,
          1.0
         ],
         "title": {
          "text": "y"
         }
        },
        "legend": {
         "tracegroupgap": 0
        },
        "margin": {
         "t": 60
        }
       },
       "config": {
        "plotlyServerURL": "https://plot.ly"
       }
      },
      "text/html": "<div>                            <div id=\"4df9a073-050f-4f76-b107-d056c8f37fea\" class=\"plotly-graph-div\" style=\"height:525px; width:100%;\"></div>            <script type=\"text/javascript\">                require([\"plotly\"], function(Plotly) {                    window.PLOTLYENV=window.PLOTLYENV || {};                                    if (document.getElementById(\"4df9a073-050f-4f76-b107-d056c8f37fea\")) {                    Plotly.newPlot(                        \"4df9a073-050f-4f76-b107-d056c8f37fea\",                        [{\"hovertemplate\":\"x=%{x}\\u003cbr\\u003ey=%{y}\\u003cextra\\u003e\\u003c\\u002fextra\\u003e\",\"legendgroup\":\"\",\"line\":{\"color\":\"#636efa\",\"dash\":\"solid\"},\"marker\":{\"symbol\":\"circle\"},\"mode\":\"lines\",\"name\":\"\",\"orientation\":\"v\",\"showlegend\":false,\"x\":[1489.670166015625,1488.5650634765625,1487.459716796875,1486.354248046875,1485.24853515625,1484.142578125,1483.0364990234375,1481.93017578125,1480.8236083984375,1479.7169189453125,1478.6099853515625,1477.5028076171875,1476.3955078125,1475.2879638671875,1474.1802978515625,1473.0723876953125,1471.9642333984375,1470.8558349609375,1469.747314453125,1468.638671875,1467.5296630859375,1466.4205322265625,1465.311279296875,1464.20166015625,1463.0919189453125,1461.9820556640625,1460.8719482421875,1459.7615966796875,1458.6510009765625,1457.540283203125,1456.4293212890625,1455.3182373046875,1454.2069091796875,1453.0953369140625,1451.983642578125,1450.8717041015625,1449.759521484375,1448.647216796875,1447.53466796875,1446.421875,1445.3089599609375,1444.19580078125,1443.0823974609375,1441.9688720703125,1440.8551025390625,1439.7410888671875,1438.626953125,1437.5125732421875,1436.3980712890625,1435.2833251953125,1434.1683349609375,1433.0531005859375,1431.937744140625,1430.8221435546875,1429.7064208984375,1428.5904541015625,1427.4742431640625,1426.35791015625,1425.2412109375,1424.12451171875,1423.0074462890625,1421.8902587890625,1420.7728271484375,1419.6552734375,1418.5374755859375,1417.41943359375,1416.30126953125,1415.182861328125,1414.064208984375,1412.9454345703125,1411.826416015625,1410.7071533203125,1409.587646484375,1408.468017578125,1407.3482666015625,1406.2281494140625,1405.10791015625,1403.9874267578125,1402.8668212890625,1401.7459716796875,1400.6248779296875,1399.503662109375,1398.3822021484375,1397.260498046875,1396.1385498046875,1395.0164794921875,1393.894287109375,1392.771728515625,1391.6490478515625,1390.526123046875,1389.403076171875,1388.2796630859375,1387.15625,1386.032470703125,1384.9085693359375,1383.784423828125,1382.6600341796875,1381.5355224609375,1380.4107666015625,1379.2857666015625,1378.16064453125,1377.0352783203125,1375.90966796875,1374.783935546875,1373.657958984375,1372.53173828125,1371.4053955078125,1370.27880859375,1369.1519775390625,1368.02490234375,1366.897705078125,1365.770263671875,1364.6427001953125,1363.5147705078125,1362.38671875,1361.258544921875,1360.1300048828125,1359.0013427734375,1357.87255859375,1356.743408203125,1355.6141357421875,1354.484619140625,1353.35498046875,1352.22509765625,1351.094970703125,1349.964599609375,1348.8341064453125,1347.703369140625,1346.5723876953125,1345.441162109375,1344.309814453125,1343.17822265625,1342.0465087890625,1340.91455078125,1339.7823486328125,1338.64990234375,1337.517333984375,1336.384521484375,1335.25146484375,1334.1181640625,1332.9847412109375,1331.85107421875,1330.7171630859375,1329.5831298828125,1328.4488525390625,1327.3143310546875,1326.1796875,1325.0447998046875,1323.90966796875,1322.7742919921875,1321.6387939453125,1320.5029296875,1319.3670654296875,1318.2308349609375,1317.094482421875,1315.9578857421875,1314.821044921875,1313.68408203125,1312.546875,1311.409423828125,1310.271728515625,1309.1339111328125,1307.995849609375,1306.8575439453125,1305.718994140625,1304.580322265625,1303.44140625,1302.3023681640625,1301.1629638671875,1300.0234375,1298.8836669921875,1297.74365234375,1296.603515625,1295.463134765625,1294.322509765625,1293.181640625,1292.0406494140625,1290.8994140625,1289.7579345703125,1288.6163330078125,1287.474365234375,1286.332275390625,1285.1900634765625,1284.0474853515625,1282.90478515625,1281.7618408203125,1280.61865234375,1279.475341796875,1278.3316650390625,1277.1878662109375,1276.0439453125,1274.899658203125,1273.7552490234375,1272.610595703125,1271.4656982421875,1270.3206787109375,1269.17529296875,1268.02978515625,1266.8841552734375],\"xaxis\":\"x\",\"y\":[0.003180179815735517,0.0030355486343285757,0.0030006452564868753,0.003078080904480259,0.00351217272362851,0.003004855946461177,0.0030841958324097658,0.0033738413114292186,0.0032165112421924384,0.0033679170996937288,0.003241412351380728,0.003197813090230365,0.003378274549273239,0.003336304534323154,0.0034157508186670074,0.0032138491393840503,0.0031843050109541284,0.0033704203726135926,0.0034215870483765135,0.003511246269022737,0.0034457216062525452,0.0033303629845325105,0.003566959660268889,0.0033786736387132928,0.0033235857842475345,0.0037167226982330417,0.0034595300334589133,0.003597979983743181,0.003685857936540107,0.003618458656879236,0.0036448095786585934,0.0036571045278164425,0.003721513697901728,0.0037299807281726926,0.003908537753537845,0.0036149515317575823,0.003921590445470263,0.004045297466724679,0.00413242197828262,0.0038617542003089346,0.004143470060305209,0.00406587470887489,0.004167907674121856,0.004119797194782505,0.00399851029895248,0.00413649715194764,0.004207032738311199,0.004466253365649123,0.0044100600893184965,0.004850744363922299,0.004694537340721339,0.004613805164378918,0.005051999039008684,0.00478318980376107,0.00477162643661659,0.004945904086221731,0.005039386972441422,0.004826000659110461,0.0046605867176492625,0.005086188654738877,0.005020255196399358,0.005374523329901999,0.005023202334725592,0.005035615593958757,0.005361865789414243,0.0051862762559948565,0.005175215594201309,0.005332104673385764,0.0052241912976437495,0.005206760916401186,0.0051043416163164155,0.00536089145247552,0.005444665901381892,0.0052596260733871695,0.004815967645882302,0.004338430655359904,0.004180007869997974,0.0037302575650014786,0.002723439641851079,0.0019034052852305162,6.166283612649117e-05,-0.003114184705212896,-0.007704992355143608,-0.013712929780560348,-0.022715045041698387,-0.029328951435910435,-0.01412903798742647,0.032795736373631826,0.0378642856341789,0.0008480093415866993,-0.019876267470267016,-0.021446669225343457,-0.014325278067831092,-0.005769638105525259,0.0004729392626016441,0.005472454665512663,0.009234779526004459,0.01228169381808333,0.015103199057960592,0.017463278696553137,0.020011425564846978,0.02270000475807936,0.02546055608458688,0.028765487137396514,0.03194788432558965,0.034729501740150465,0.037491563838618285,0.039414744871524805,0.04077975713126922,0.040953501377303365,0.04034125451414953,0.03884648588914549,0.0367413255180034,0.03426349680026297,0.03116097350402651,0.028316423694199958,0.025881872286656494,0.023937157398706003,0.02133096652569496,0.01964878275407357,0.01809154867043341,0.016246031521028177,0.014601233674043295,0.013730115559614588,0.012705923089348847,0.011929487219716966,0.010909002631517927,0.009955577736809476,0.009585419527612608,0.009129055108703902,0.00876486731459176,0.00796413175376533,0.008029364322484118,0.007625192397896452,0.0073386948075831165,0.007265603575643372,0.007208824771399531,0.006391798717049636,0.006532703522878971,0.005946805327612744,0.006398756592945505,0.006038559158003202,0.005984515781350249,0.005922337699796727,0.006039947386148436,0.006154257245084918,0.006014140050652391,0.005913578812067433,0.005940151757169213,0.005902042420628649,0.005520062867844018,0.00539880378635562,0.005526883564540902,0.0055147462884071585,0.005410371210615081,0.005284953082719166,0.005336266976418123,0.005481828779418967,0.005372551758109188,0.005347271297299738,0.005275011960744266,0.005238685586646356,0.005027953564459822,0.005199380188790885,0.005223404393119118,0.0052457602589234325,0.005153871690702154,0.005033317216139014,0.005047169879977573,0.004834522391816883,0.005160359114570237,0.005192633280545816,0.004700318206615446,0.00472074591620636,0.004519053963296494,0.004874950237946474,0.004897219727274106,0.00463489313989818,0.004728638630421895,0.004746074402800769,0.004597048143515351,0.004591076378570607,0.004545865940421537,0.004357747371205689,0.0043633980098922364,0.004471464093117981,0.00452643660812076,0.004107226135701176,0.004739949290081457,0.004444403894821362,0.004314566633563318,0.0044796153927006786,0.00423411587412185,0.004172259445577836,0.004239713114692079,0.004030688732864692,0.0042039397673267484,0.0038955228132242707,0.003895697032926838],\"yaxis\":\"y\",\"type\":\"scatter\"}],                        {\"template\":{\"data\":{\"histogram2dcontour\":[{\"type\":\"histogram2dcontour\",\"colorbar\":{\"outlinewidth\":0,\"ticks\":\"\"},\"colorscale\":[[0.0,\"#0d0887\"],[0.1111111111111111,\"#46039f\"],[0.2222222222222222,\"#7201a8\"],[0.3333333333333333,\"#9c179e\"],[0.4444444444444444,\"#bd3786\"],[0.5555555555555556,\"#d8576b\"],[0.6666666666666666,\"#ed7953\"],[0.7777777777777778,\"#fb9f3a\"],[0.8888888888888888,\"#fdca26\"],[1.0,\"#f0f921\"]]}],\"choropleth\":[{\"type\":\"choropleth\",\"colorbar\":{\"outlinewidth\":0,\"ticks\":\"\"}}],\"histogram2d\":[{\"type\":\"histogram2d\",\"colorbar\":{\"outlinewidth\":0,\"ticks\":\"\"},\"colorscale\":[[0.0,\"#0d0887\"],[0.1111111111111111,\"#46039f\"],[0.2222222222222222,\"#7201a8\"],[0.3333333333333333,\"#9c179e\"],[0.4444444444444444,\"#bd3786\"],[0.5555555555555556,\"#d8576b\"],[0.6666666666666666,\"#ed7953\"],[0.7777777777777778,\"#fb9f3a\"],[0.8888888888888888,\"#fdca26\"],[1.0,\"#f0f921\"]]}],\"heatmap\":[{\"type\":\"heatmap\",\"colorbar\":{\"outlinewidth\":0,\"ticks\":\"\"},\"colorscale\":[[0.0,\"#0d0887\"],[0.1111111111111111,\"#46039f\"],[0.2222222222222222,\"#7201a8\"],[0.3333333333333333,\"#9c179e\"],[0.4444444444444444,\"#bd3786\"],[0.5555555555555556,\"#d8576b\"],[0.6666666666666666,\"#ed7953\"],[0.7777777777777778,\"#fb9f3a\"],[0.8888888888888888,\"#fdca26\"],[1.0,\"#f0f921\"]]}],\"heatmapgl\":[{\"type\":\"heatmapgl\",\"colorbar\":{\"outlinewidth\":0,\"ticks\":\"\"},\"colorscale\":[[0.0,\"#0d0887\"],[0.1111111111111111,\"#46039f\"],[0.2222222222222222,\"#7201a8\"],[0.3333333333333333,\"#9c179e\"],[0.4444444444444444,\"#bd3786\"],[0.5555555555555556,\"#d8576b\"],[0.6666666666666666,\"#ed7953\"],[0.7777777777777778,\"#fb9f3a\"],[0.8888888888888888,\"#fdca26\"],[1.0,\"#f0f921\"]]}],\"contourcarpet\":[{\"type\":\"contourcarpet\",\"colorbar\":{\"outlinewidth\":0,\"ticks\":\"\"}}],\"contour\":[{\"type\":\"contour\",\"colorbar\":{\"outlinewidth\":0,\"ticks\":\"\"},\"colorscale\":[[0.0,\"#0d0887\"],[0.1111111111111111,\"#46039f\"],[0.2222222222222222,\"#7201a8\"],[0.3333333333333333,\"#9c179e\"],[0.4444444444444444,\"#bd3786\"],[0.5555555555555556,\"#d8576b\"],[0.6666666666666666,\"#ed7953\"],[0.7777777777777778,\"#fb9f3a\"],[0.8888888888888888,\"#fdca26\"],[1.0,\"#f0f921\"]]}],\"surface\":[{\"type\":\"surface\",\"colorbar\":{\"outlinewidth\":0,\"ticks\":\"\"},\"colorscale\":[[0.0,\"#0d0887\"],[0.1111111111111111,\"#46039f\"],[0.2222222222222222,\"#7201a8\"],[0.3333333333333333,\"#9c179e\"],[0.4444444444444444,\"#bd3786\"],[0.5555555555555556,\"#d8576b\"],[0.6666666666666666,\"#ed7953\"],[0.7777777777777778,\"#fb9f3a\"],[0.8888888888888888,\"#fdca26\"],[1.0,\"#f0f921\"]]}],\"mesh3d\":[{\"type\":\"mesh3d\",\"colorbar\":{\"outlinewidth\":0,\"ticks\":\"\"}}],\"scatter\":[{\"marker\":{\"line\":{\"color\":\"#283442\"}},\"type\":\"scatter\"}],\"parcoords\":[{\"type\":\"parcoords\",\"line\":{\"colorbar\":{\"outlinewidth\":0,\"ticks\":\"\"}}}],\"scatterpolargl\":[{\"type\":\"scatterpolargl\",\"marker\":{\"colorbar\":{\"outlinewidth\":0,\"ticks\":\"\"}}}],\"bar\":[{\"error_x\":{\"color\":\"#f2f5fa\"},\"error_y\":{\"color\":\"#f2f5fa\"},\"marker\":{\"line\":{\"color\":\"rgb(17,17,17)\",\"width\":0.5},\"pattern\":{\"fillmode\":\"overlay\",\"size\":10,\"solidity\":0.2}},\"type\":\"bar\"}],\"scattergeo\":[{\"type\":\"scattergeo\",\"marker\":{\"colorbar\":{\"outlinewidth\":0,\"ticks\":\"\"}}}],\"scatterpolar\":[{\"type\":\"scatterpolar\",\"marker\":{\"colorbar\":{\"outlinewidth\":0,\"ticks\":\"\"}}}],\"histogram\":[{\"marker\":{\"pattern\":{\"fillmode\":\"overlay\",\"size\":10,\"solidity\":0.2}},\"type\":\"histogram\"}],\"scattergl\":[{\"marker\":{\"line\":{\"color\":\"#283442\"}},\"type\":\"scattergl\"}],\"scatter3d\":[{\"type\":\"scatter3d\",\"line\":{\"colorbar\":{\"outlinewidth\":0,\"ticks\":\"\"}},\"marker\":{\"colorbar\":{\"outlinewidth\":0,\"ticks\":\"\"}}}],\"scattermapbox\":[{\"type\":\"scattermapbox\",\"marker\":{\"colorbar\":{\"outlinewidth\":0,\"ticks\":\"\"}}}],\"scatterternary\":[{\"type\":\"scatterternary\",\"marker\":{\"colorbar\":{\"outlinewidth\":0,\"ticks\":\"\"}}}],\"scattercarpet\":[{\"type\":\"scattercarpet\",\"marker\":{\"colorbar\":{\"outlinewidth\":0,\"ticks\":\"\"}}}],\"carpet\":[{\"aaxis\":{\"endlinecolor\":\"#A2B1C6\",\"gridcolor\":\"#506784\",\"linecolor\":\"#506784\",\"minorgridcolor\":\"#506784\",\"startlinecolor\":\"#A2B1C6\"},\"baxis\":{\"endlinecolor\":\"#A2B1C6\",\"gridcolor\":\"#506784\",\"linecolor\":\"#506784\",\"minorgridcolor\":\"#506784\",\"startlinecolor\":\"#A2B1C6\"},\"type\":\"carpet\"}],\"table\":[{\"cells\":{\"fill\":{\"color\":\"#506784\"},\"line\":{\"color\":\"rgb(17,17,17)\"}},\"header\":{\"fill\":{\"color\":\"#2a3f5f\"},\"line\":{\"color\":\"rgb(17,17,17)\"}},\"type\":\"table\"}],\"barpolar\":[{\"marker\":{\"line\":{\"color\":\"rgb(17,17,17)\",\"width\":0.5},\"pattern\":{\"fillmode\":\"overlay\",\"size\":10,\"solidity\":0.2}},\"type\":\"barpolar\"}],\"pie\":[{\"automargin\":true,\"type\":\"pie\"}]},\"layout\":{\"autotypenumbers\":\"strict\",\"colorway\":[\"#636efa\",\"#EF553B\",\"#00cc96\",\"#ab63fa\",\"#FFA15A\",\"#19d3f3\",\"#FF6692\",\"#B6E880\",\"#FF97FF\",\"#FECB52\"],\"font\":{\"color\":\"#f2f5fa\"},\"hovermode\":\"closest\",\"hoverlabel\":{\"align\":\"left\"},\"paper_bgcolor\":\"rgb(17,17,17)\",\"plot_bgcolor\":\"rgb(17,17,17)\",\"polar\":{\"bgcolor\":\"rgb(17,17,17)\",\"angularaxis\":{\"gridcolor\":\"#506784\",\"linecolor\":\"#506784\",\"ticks\":\"\"},\"radialaxis\":{\"gridcolor\":\"#506784\",\"linecolor\":\"#506784\",\"ticks\":\"\"}},\"ternary\":{\"bgcolor\":\"rgb(17,17,17)\",\"aaxis\":{\"gridcolor\":\"#506784\",\"linecolor\":\"#506784\",\"ticks\":\"\"},\"baxis\":{\"gridcolor\":\"#506784\",\"linecolor\":\"#506784\",\"ticks\":\"\"},\"caxis\":{\"gridcolor\":\"#506784\",\"linecolor\":\"#506784\",\"ticks\":\"\"}},\"coloraxis\":{\"colorbar\":{\"outlinewidth\":0,\"ticks\":\"\"}},\"colorscale\":{\"sequential\":[[0.0,\"#0d0887\"],[0.1111111111111111,\"#46039f\"],[0.2222222222222222,\"#7201a8\"],[0.3333333333333333,\"#9c179e\"],[0.4444444444444444,\"#bd3786\"],[0.5555555555555556,\"#d8576b\"],[0.6666666666666666,\"#ed7953\"],[0.7777777777777778,\"#fb9f3a\"],[0.8888888888888888,\"#fdca26\"],[1.0,\"#f0f921\"]],\"sequentialminus\":[[0.0,\"#0d0887\"],[0.1111111111111111,\"#46039f\"],[0.2222222222222222,\"#7201a8\"],[0.3333333333333333,\"#9c179e\"],[0.4444444444444444,\"#bd3786\"],[0.5555555555555556,\"#d8576b\"],[0.6666666666666666,\"#ed7953\"],[0.7777777777777778,\"#fb9f3a\"],[0.8888888888888888,\"#fdca26\"],[1.0,\"#f0f921\"]],\"diverging\":[[0,\"#8e0152\"],[0.1,\"#c51b7d\"],[0.2,\"#de77ae\"],[0.3,\"#f1b6da\"],[0.4,\"#fde0ef\"],[0.5,\"#f7f7f7\"],[0.6,\"#e6f5d0\"],[0.7,\"#b8e186\"],[0.8,\"#7fbc41\"],[0.9,\"#4d9221\"],[1,\"#276419\"]]},\"xaxis\":{\"gridcolor\":\"#283442\",\"linecolor\":\"#506784\",\"ticks\":\"\",\"title\":{\"standoff\":15},\"zerolinecolor\":\"#283442\",\"automargin\":true,\"zerolinewidth\":2},\"yaxis\":{\"gridcolor\":\"#283442\",\"linecolor\":\"#506784\",\"ticks\":\"\",\"title\":{\"standoff\":15},\"zerolinecolor\":\"#283442\",\"automargin\":true,\"zerolinewidth\":2},\"scene\":{\"xaxis\":{\"backgroundcolor\":\"rgb(17,17,17)\",\"gridcolor\":\"#506784\",\"linecolor\":\"#506784\",\"showbackground\":true,\"ticks\":\"\",\"zerolinecolor\":\"#C8D4E3\",\"gridwidth\":2},\"yaxis\":{\"backgroundcolor\":\"rgb(17,17,17)\",\"gridcolor\":\"#506784\",\"linecolor\":\"#506784\",\"showbackground\":true,\"ticks\":\"\",\"zerolinecolor\":\"#C8D4E3\",\"gridwidth\":2},\"zaxis\":{\"backgroundcolor\":\"rgb(17,17,17)\",\"gridcolor\":\"#506784\",\"linecolor\":\"#506784\",\"showbackground\":true,\"ticks\":\"\",\"zerolinecolor\":\"#C8D4E3\",\"gridwidth\":2}},\"shapedefaults\":{\"line\":{\"color\":\"#f2f5fa\"}},\"annotationdefaults\":{\"arrowcolor\":\"#f2f5fa\",\"arrowhead\":0,\"arrowwidth\":1},\"geo\":{\"bgcolor\":\"rgb(17,17,17)\",\"landcolor\":\"rgb(17,17,17)\",\"subunitcolor\":\"#506784\",\"showland\":true,\"showlakes\":true,\"lakecolor\":\"rgb(17,17,17)\"},\"title\":{\"x\":0.05},\"updatemenudefaults\":{\"bgcolor\":\"#506784\",\"borderwidth\":0},\"sliderdefaults\":{\"bgcolor\":\"#C8D4E3\",\"borderwidth\":1,\"bordercolor\":\"rgb(17,17,17)\",\"tickwidth\":0},\"mapbox\":{\"style\":\"dark\"}}},\"xaxis\":{\"anchor\":\"y\",\"domain\":[0.0,1.0],\"title\":{\"text\":\"x\"}},\"yaxis\":{\"anchor\":\"x\",\"domain\":[0.0,1.0],\"title\":{\"text\":\"y\"}},\"legend\":{\"tracegroupgap\":0},\"margin\":{\"t\":60}},                        {\"responsive\": true}                    ).then(function(){\n                            \nvar gd = document.getElementById('4df9a073-050f-4f76-b107-d056c8f37fea');\nvar x = new MutationObserver(function (mutations, observer) {{\n        var display = window.getComputedStyle(gd).display;\n        if (!display || display === 'none') {{\n            console.log([gd, 'removed!']);\n            Plotly.purge(gd);\n            observer.disconnect();\n        }}\n}});\n\n// Listen for the removal of the full notebook cells\nvar notebookContainer = gd.closest('#notebook-container');\nif (notebookContainer) {{\n    x.observe(notebookContainer, {childList: true});\n}}\n\n// Listen for the clearing of the current output cell\nvar outputEl = gd.closest('.output');\nif (outputEl) {{\n    x.observe(outputEl, {childList: true});\n}}\n\n                        })                };                });            </script>        </div>"
     },
     "metadata": {},
     "output_type": "display_data"
    },
    {
     "data": {
      "application/vnd.plotly.v1+json": {
       "data": [
        {
         "hovertemplate": "x=%{x}<br>y=%{y}<extra></extra>",
         "legendgroup": "",
         "line": {
          "color": "#636efa",
          "dash": "solid"
         },
         "marker": {
          "symbol": "circle"
         },
         "mode": "lines",
         "name": "",
         "orientation": "v",
         "showlegend": false,
         "x": [
          1489.670166015625,
          1488.5650634765625,
          1487.459716796875,
          1486.354248046875,
          1485.24853515625,
          1484.142578125,
          1483.0364990234375,
          1481.93017578125,
          1480.8236083984375,
          1479.7169189453125,
          1478.6099853515625,
          1477.5028076171875,
          1476.3955078125,
          1475.2879638671875,
          1474.1802978515625,
          1473.0723876953125,
          1471.9642333984375,
          1470.8558349609375,
          1469.747314453125,
          1468.638671875,
          1467.5296630859375,
          1466.4205322265625,
          1465.311279296875,
          1464.20166015625,
          1463.0919189453125,
          1461.9820556640625,
          1460.8719482421875,
          1459.7615966796875,
          1458.6510009765625,
          1457.540283203125,
          1456.4293212890625,
          1455.3182373046875,
          1454.2069091796875,
          1453.0953369140625,
          1451.983642578125,
          1450.8717041015625,
          1449.759521484375,
          1448.647216796875,
          1447.53466796875,
          1446.421875,
          1445.3089599609375,
          1444.19580078125,
          1443.0823974609375,
          1441.9688720703125,
          1440.8551025390625,
          1439.7410888671875,
          1438.626953125,
          1437.5125732421875,
          1436.3980712890625,
          1435.2833251953125,
          1434.1683349609375,
          1433.0531005859375,
          1431.937744140625,
          1430.8221435546875,
          1429.7064208984375,
          1428.5904541015625,
          1427.4742431640625,
          1426.35791015625,
          1425.2412109375,
          1424.12451171875,
          1423.0074462890625,
          1421.8902587890625,
          1420.7728271484375,
          1419.6552734375,
          1418.5374755859375,
          1417.41943359375,
          1416.30126953125,
          1415.182861328125,
          1414.064208984375,
          1412.9454345703125,
          1411.826416015625,
          1410.7071533203125,
          1409.587646484375,
          1408.468017578125,
          1407.3482666015625,
          1406.2281494140625,
          1405.10791015625,
          1403.9874267578125,
          1402.8668212890625,
          1401.7459716796875,
          1400.6248779296875,
          1399.503662109375,
          1398.3822021484375,
          1397.260498046875,
          1396.1385498046875,
          1395.0164794921875,
          1393.894287109375,
          1392.771728515625,
          1391.6490478515625,
          1390.526123046875,
          1389.403076171875,
          1388.2796630859375,
          1387.15625,
          1386.032470703125,
          1384.9085693359375,
          1383.784423828125,
          1382.6600341796875,
          1381.5355224609375,
          1380.4107666015625,
          1379.2857666015625,
          1378.16064453125,
          1377.0352783203125,
          1375.90966796875,
          1374.783935546875,
          1373.657958984375,
          1372.53173828125,
          1371.4053955078125,
          1370.27880859375,
          1369.1519775390625,
          1368.02490234375,
          1366.897705078125,
          1365.770263671875,
          1364.6427001953125,
          1363.5147705078125,
          1362.38671875,
          1361.258544921875,
          1360.1300048828125,
          1359.0013427734375,
          1357.87255859375,
          1356.743408203125,
          1355.6141357421875,
          1354.484619140625,
          1353.35498046875,
          1352.22509765625,
          1351.094970703125,
          1349.964599609375,
          1348.8341064453125,
          1347.703369140625,
          1346.5723876953125,
          1345.441162109375,
          1344.309814453125,
          1343.17822265625,
          1342.0465087890625,
          1340.91455078125,
          1339.7823486328125,
          1338.64990234375,
          1337.517333984375,
          1336.384521484375,
          1335.25146484375,
          1334.1181640625,
          1332.9847412109375,
          1331.85107421875,
          1330.7171630859375,
          1329.5831298828125,
          1328.4488525390625,
          1327.3143310546875,
          1326.1796875,
          1325.0447998046875,
          1323.90966796875,
          1322.7742919921875,
          1321.6387939453125,
          1320.5029296875,
          1319.3670654296875,
          1318.2308349609375,
          1317.094482421875,
          1315.9578857421875,
          1314.821044921875,
          1313.68408203125,
          1312.546875,
          1311.409423828125,
          1310.271728515625,
          1309.1339111328125,
          1307.995849609375,
          1306.8575439453125,
          1305.718994140625,
          1304.580322265625,
          1303.44140625,
          1302.3023681640625,
          1301.1629638671875,
          1300.0234375,
          1298.8836669921875,
          1297.74365234375,
          1296.603515625,
          1295.463134765625,
          1294.322509765625,
          1293.181640625,
          1292.0406494140625,
          1290.8994140625,
          1289.7579345703125,
          1288.6163330078125,
          1287.474365234375,
          1286.332275390625,
          1285.1900634765625,
          1284.0474853515625,
          1282.90478515625,
          1281.7618408203125,
          1280.61865234375,
          1279.475341796875,
          1278.3316650390625,
          1277.1878662109375,
          1276.0439453125,
          1274.899658203125,
          1273.7552490234375,
          1272.610595703125,
          1271.4656982421875,
          1270.3206787109375,
          1269.17529296875,
          1268.02978515625,
          1266.8841552734375
         ],
         "xaxis": "x",
         "y": [
          9.928001419060922E-4,
          0.0010137798675340676,
          0.0010455709949544413,
          0.0010313685712119063,
          9.893247138797764E-4,
          0.0010157418842300539,
          9.9607952022187E-4,
          9.588105252448209E-4,
          0.0010087784500999973,
          9.949786444339891E-4,
          0.0010285574870419329,
          0.0010190655968764044,
          0.0010206407845211745,
          0.0010191766013575808,
          0.001011563911672297,
          0.001002862621010962,
          0.0010118998357488069,
          9.988884255315346E-4,
          0.0010102255811347148,
          0.0010069069909600067,
          9.887644657831033E-4,
          0.0010284400823860676,
          9.938025157906175E-4,
          9.9929294629687E-4,
          0.0010296478750520593,
          9.872913474923074E-4,
          0.0010161198740456158,
          0.0010376610451472868,
          0.001063862695585155,
          0.0010158727447073445,
          0.001003719230869797,
          9.937009210871965E-4,
          9.911987110846595E-4,
          9.79701683732388E-4,
          9.87819540449571E-4,
          0.0010272886455483052,
          0.0010080374389925264,
          9.955965857599248E-4,
          9.683012240073447E-4,
          0.0010025869484886092,
          0.0010182904413899433,
          9.452647187800672E-4,
          0.0010135854919411087,
          0.0010000802713146224,
          9.92605041405657E-4,
          9.89079461092865E-4,
          9.76620400088499E-4,
          9.964275179301064E-4,
          0.0010034805655108209,
          9.580395700738722E-4,
          9.381327405727806E-4,
          9.638648912807089E-4,
          9.275583740144353E-4,
          9.577961207362517E-4,
          9.853628166410925E-4,
          9.408363301783896E-4,
          9.185552898462735E-4,
          9.013132407880138E-4,
          9.392533926109376E-4,
          9.05437851550587E-4,
          8.987558503344504E-4,
          8.984335015293281E-4,
          9.03199283159766E-4,
          8.904676725873533E-4,
          8.473805206627532E-4,
          8.304406671185004E-4,
          8.312622355189106E-4,
          8.085268668770798E-4,
          8.289076036948517E-4,
          7.784104705258545E-4,
          7.656831394671125E-4,
          6.953778259404171E-4,
          6.68127159689571E-4,
          6.57618216812557E-4,
          6.113238035951159E-4,
          6.031995511322395E-4,
          5.254472100733496E-4,
          4.7444585816968157E-4,
          3.3246535183331644E-4,
          9.777441275490545E-5,
          -1.602027814493918E-4,
          -4.5504096708473866E-4,
          -0.0010698364270216828,
          -0.002324726949871552,
          -0.005117546014092579,
          -0.01184510763268908,
          -0.023616288322627566,
          -0.022423363146877394,
          0.008072929128087781,
          0.02889553433363274,
          0.02856515930487974,
          0.02096222364630893,
          0.01363113520974521,
          0.008601524848909612,
          0.0057608633119218275,
          0.004031899547647866,
          0.0030027425470505256,
          0.0024127426686562864,
          0.002000300945981602,
          0.0016822931625693274,
          0.0015144446320834767,
          0.0014516978966063881,
          0.001384617107079319,
          0.0013501978015952117,
          0.001331470259077866,
          0.0013668840899288498,
          0.0013666913237379132,
          0.001410509933957257,
          0.0014136220479331286,
          0.0014078304545761134,
          0.0013719456552606848,
          0.0013141049179824702,
          0.0012227855724395364,
          0.0011659879285869142,
          0.0011032811401176595,
          0.0010885751682319315,
          0.0010690401836114262,
          9.953952913869064E-4,
          0.0010591374472853372,
          0.0010713990561866463,
          0.0010804195320405763,
          0.0011393774694236421,
          0.0011757494748357283,
          0.0011527050054514938,
          0.0012313296330798069,
          0.001236745706449548,
          0.001287556065113079,
          0.0012794852166827034,
          0.0012663136986070058,
          0.0012693984952871628,
          0.0013175742907743265,
          0.0013464825148745137,
          0.0012448575991246685,
          0.0012910842056586928,
          0.0012547124572269215,
          0.0012620701191524129,
          0.0012576783822494729,
          0.0012401225865778384,
          0.001228624710770333,
          0.0012821456174003795,
          0.0011856761030745687,
          0.0011541893501040552,
          0.0011510911989911113,
          0.0011585380018573747,
          0.0010897359480122545,
          0.0010749699900711495,
          0.0010806320525019878,
          0.0010161572090919928,
          9.740665637618021E-4,
          9.823896450653945E-4,
          0.0010179655223979097,
          0.0010070804550358608,
          9.622642396301928E-4,
          9.673377021928974E-4,
          9.271118846747487E-4,
          9.640434682900446E-4,
          9.206926001810686E-4,
          9.266834699418534E-4,
          9.670333083002955E-4,
          9.317123653009136E-4,
          9.616712703186419E-4,
          9.76206972850345E-4,
          0.001040289379342221,
          9.613633712942401E-4,
          0.0010078497042855785,
          9.743017182453249E-4,
          0.0010004430698507497,
          0.0010052948687195285,
          0.0010542011775583522,
          0.0010382081545012322,
          0.0010021286372730379,
          0.0010127212098125812,
          0.0010328754759585052,
          0.0010545484836552205,
          0.0010766553843557384,
          0.0010817018651299213,
          0.0010582440245242438,
          0.0010799680338874314,
          0.0010314272082569014,
          0.0010474674708264805,
          0.0010515051057814972,
          0.0010288146475590735,
          0.0010195107336983741,
          0.0010554638432147166,
          0.001000551596381832,
          9.925030072355193E-4,
          0.0010276976018519723,
          0.001054878652131845,
          0.001009303417168778,
          0.0010281851513315203,
          0.0010294864128772801,
          0.0010453637719019754,
          0.0010674512337545705,
          0.0010339994049078558,
          0.0010107820528804047,
          0.0010290826733207067,
          0.0010166423566999394,
          0.001044066042410253,
          0.0010350464075568934
         ],
         "yaxis": "y",
         "type": "scatter"
        }
       ],
       "layout": {
        "template": {
         "data": {
          "histogram2dcontour": [
           {
            "type": "histogram2dcontour",
            "colorbar": {
             "outlinewidth": 0,
             "ticks": ""
            },
            "colorscale": [
             [
              0.0,
              "#0d0887"
             ],
             [
              0.1111111111111111,
              "#46039f"
             ],
             [
              0.2222222222222222,
              "#7201a8"
             ],
             [
              0.3333333333333333,
              "#9c179e"
             ],
             [
              0.4444444444444444,
              "#bd3786"
             ],
             [
              0.5555555555555556,
              "#d8576b"
             ],
             [
              0.6666666666666666,
              "#ed7953"
             ],
             [
              0.7777777777777778,
              "#fb9f3a"
             ],
             [
              0.8888888888888888,
              "#fdca26"
             ],
             [
              1.0,
              "#f0f921"
             ]
            ]
           }
          ],
          "choropleth": [
           {
            "type": "choropleth",
            "colorbar": {
             "outlinewidth": 0,
             "ticks": ""
            }
           }
          ],
          "histogram2d": [
           {
            "type": "histogram2d",
            "colorbar": {
             "outlinewidth": 0,
             "ticks": ""
            },
            "colorscale": [
             [
              0.0,
              "#0d0887"
             ],
             [
              0.1111111111111111,
              "#46039f"
             ],
             [
              0.2222222222222222,
              "#7201a8"
             ],
             [
              0.3333333333333333,
              "#9c179e"
             ],
             [
              0.4444444444444444,
              "#bd3786"
             ],
             [
              0.5555555555555556,
              "#d8576b"
             ],
             [
              0.6666666666666666,
              "#ed7953"
             ],
             [
              0.7777777777777778,
              "#fb9f3a"
             ],
             [
              0.8888888888888888,
              "#fdca26"
             ],
             [
              1.0,
              "#f0f921"
             ]
            ]
           }
          ],
          "heatmap": [
           {
            "type": "heatmap",
            "colorbar": {
             "outlinewidth": 0,
             "ticks": ""
            },
            "colorscale": [
             [
              0.0,
              "#0d0887"
             ],
             [
              0.1111111111111111,
              "#46039f"
             ],
             [
              0.2222222222222222,
              "#7201a8"
             ],
             [
              0.3333333333333333,
              "#9c179e"
             ],
             [
              0.4444444444444444,
              "#bd3786"
             ],
             [
              0.5555555555555556,
              "#d8576b"
             ],
             [
              0.6666666666666666,
              "#ed7953"
             ],
             [
              0.7777777777777778,
              "#fb9f3a"
             ],
             [
              0.8888888888888888,
              "#fdca26"
             ],
             [
              1.0,
              "#f0f921"
             ]
            ]
           }
          ],
          "heatmapgl": [
           {
            "type": "heatmapgl",
            "colorbar": {
             "outlinewidth": 0,
             "ticks": ""
            },
            "colorscale": [
             [
              0.0,
              "#0d0887"
             ],
             [
              0.1111111111111111,
              "#46039f"
             ],
             [
              0.2222222222222222,
              "#7201a8"
             ],
             [
              0.3333333333333333,
              "#9c179e"
             ],
             [
              0.4444444444444444,
              "#bd3786"
             ],
             [
              0.5555555555555556,
              "#d8576b"
             ],
             [
              0.6666666666666666,
              "#ed7953"
             ],
             [
              0.7777777777777778,
              "#fb9f3a"
             ],
             [
              0.8888888888888888,
              "#fdca26"
             ],
             [
              1.0,
              "#f0f921"
             ]
            ]
           }
          ],
          "contourcarpet": [
           {
            "type": "contourcarpet",
            "colorbar": {
             "outlinewidth": 0,
             "ticks": ""
            }
           }
          ],
          "contour": [
           {
            "type": "contour",
            "colorbar": {
             "outlinewidth": 0,
             "ticks": ""
            },
            "colorscale": [
             [
              0.0,
              "#0d0887"
             ],
             [
              0.1111111111111111,
              "#46039f"
             ],
             [
              0.2222222222222222,
              "#7201a8"
             ],
             [
              0.3333333333333333,
              "#9c179e"
             ],
             [
              0.4444444444444444,
              "#bd3786"
             ],
             [
              0.5555555555555556,
              "#d8576b"
             ],
             [
              0.6666666666666666,
              "#ed7953"
             ],
             [
              0.7777777777777778,
              "#fb9f3a"
             ],
             [
              0.8888888888888888,
              "#fdca26"
             ],
             [
              1.0,
              "#f0f921"
             ]
            ]
           }
          ],
          "surface": [
           {
            "type": "surface",
            "colorbar": {
             "outlinewidth": 0,
             "ticks": ""
            },
            "colorscale": [
             [
              0.0,
              "#0d0887"
             ],
             [
              0.1111111111111111,
              "#46039f"
             ],
             [
              0.2222222222222222,
              "#7201a8"
             ],
             [
              0.3333333333333333,
              "#9c179e"
             ],
             [
              0.4444444444444444,
              "#bd3786"
             ],
             [
              0.5555555555555556,
              "#d8576b"
             ],
             [
              0.6666666666666666,
              "#ed7953"
             ],
             [
              0.7777777777777778,
              "#fb9f3a"
             ],
             [
              0.8888888888888888,
              "#fdca26"
             ],
             [
              1.0,
              "#f0f921"
             ]
            ]
           }
          ],
          "mesh3d": [
           {
            "type": "mesh3d",
            "colorbar": {
             "outlinewidth": 0,
             "ticks": ""
            }
           }
          ],
          "scatter": [
           {
            "marker": {
             "line": {
              "color": "#283442"
             }
            },
            "type": "scatter"
           }
          ],
          "parcoords": [
           {
            "type": "parcoords",
            "line": {
             "colorbar": {
              "outlinewidth": 0,
              "ticks": ""
             }
            }
           }
          ],
          "scatterpolargl": [
           {
            "type": "scatterpolargl",
            "marker": {
             "colorbar": {
              "outlinewidth": 0,
              "ticks": ""
             }
            }
           }
          ],
          "bar": [
           {
            "error_x": {
             "color": "#f2f5fa"
            },
            "error_y": {
             "color": "#f2f5fa"
            },
            "marker": {
             "line": {
              "color": "rgb(17,17,17)",
              "width": 0.5
             },
             "pattern": {
              "fillmode": "overlay",
              "size": 10,
              "solidity": 0.2
             }
            },
            "type": "bar"
           }
          ],
          "scattergeo": [
           {
            "type": "scattergeo",
            "marker": {
             "colorbar": {
              "outlinewidth": 0,
              "ticks": ""
             }
            }
           }
          ],
          "scatterpolar": [
           {
            "type": "scatterpolar",
            "marker": {
             "colorbar": {
              "outlinewidth": 0,
              "ticks": ""
             }
            }
           }
          ],
          "histogram": [
           {
            "marker": {
             "pattern": {
              "fillmode": "overlay",
              "size": 10,
              "solidity": 0.2
             }
            },
            "type": "histogram"
           }
          ],
          "scattergl": [
           {
            "marker": {
             "line": {
              "color": "#283442"
             }
            },
            "type": "scattergl"
           }
          ],
          "scatter3d": [
           {
            "type": "scatter3d",
            "line": {
             "colorbar": {
              "outlinewidth": 0,
              "ticks": ""
             }
            },
            "marker": {
             "colorbar": {
              "outlinewidth": 0,
              "ticks": ""
             }
            }
           }
          ],
          "scattermapbox": [
           {
            "type": "scattermapbox",
            "marker": {
             "colorbar": {
              "outlinewidth": 0,
              "ticks": ""
             }
            }
           }
          ],
          "scatterternary": [
           {
            "type": "scatterternary",
            "marker": {
             "colorbar": {
              "outlinewidth": 0,
              "ticks": ""
             }
            }
           }
          ],
          "scattercarpet": [
           {
            "type": "scattercarpet",
            "marker": {
             "colorbar": {
              "outlinewidth": 0,
              "ticks": ""
             }
            }
           }
          ],
          "carpet": [
           {
            "aaxis": {
             "endlinecolor": "#A2B1C6",
             "gridcolor": "#506784",
             "linecolor": "#506784",
             "minorgridcolor": "#506784",
             "startlinecolor": "#A2B1C6"
            },
            "baxis": {
             "endlinecolor": "#A2B1C6",
             "gridcolor": "#506784",
             "linecolor": "#506784",
             "minorgridcolor": "#506784",
             "startlinecolor": "#A2B1C6"
            },
            "type": "carpet"
           }
          ],
          "table": [
           {
            "cells": {
             "fill": {
              "color": "#506784"
             },
             "line": {
              "color": "rgb(17,17,17)"
             }
            },
            "header": {
             "fill": {
              "color": "#2a3f5f"
             },
             "line": {
              "color": "rgb(17,17,17)"
             }
            },
            "type": "table"
           }
          ],
          "barpolar": [
           {
            "marker": {
             "line": {
              "color": "rgb(17,17,17)",
              "width": 0.5
             },
             "pattern": {
              "fillmode": "overlay",
              "size": 10,
              "solidity": 0.2
             }
            },
            "type": "barpolar"
           }
          ],
          "pie": [
           {
            "automargin": true,
            "type": "pie"
           }
          ]
         },
         "layout": {
          "autotypenumbers": "strict",
          "colorway": [
           "#636efa",
           "#EF553B",
           "#00cc96",
           "#ab63fa",
           "#FFA15A",
           "#19d3f3",
           "#FF6692",
           "#B6E880",
           "#FF97FF",
           "#FECB52"
          ],
          "font": {
           "color": "#f2f5fa"
          },
          "hovermode": "closest",
          "hoverlabel": {
           "align": "left"
          },
          "paper_bgcolor": "rgb(17,17,17)",
          "plot_bgcolor": "rgb(17,17,17)",
          "polar": {
           "bgcolor": "rgb(17,17,17)",
           "angularaxis": {
            "gridcolor": "#506784",
            "linecolor": "#506784",
            "ticks": ""
           },
           "radialaxis": {
            "gridcolor": "#506784",
            "linecolor": "#506784",
            "ticks": ""
           }
          },
          "ternary": {
           "bgcolor": "rgb(17,17,17)",
           "aaxis": {
            "gridcolor": "#506784",
            "linecolor": "#506784",
            "ticks": ""
           },
           "baxis": {
            "gridcolor": "#506784",
            "linecolor": "#506784",
            "ticks": ""
           },
           "caxis": {
            "gridcolor": "#506784",
            "linecolor": "#506784",
            "ticks": ""
           }
          },
          "coloraxis": {
           "colorbar": {
            "outlinewidth": 0,
            "ticks": ""
           }
          },
          "colorscale": {
           "sequential": [
            [
             0.0,
             "#0d0887"
            ],
            [
             0.1111111111111111,
             "#46039f"
            ],
            [
             0.2222222222222222,
             "#7201a8"
            ],
            [
             0.3333333333333333,
             "#9c179e"
            ],
            [
             0.4444444444444444,
             "#bd3786"
            ],
            [
             0.5555555555555556,
             "#d8576b"
            ],
            [
             0.6666666666666666,
             "#ed7953"
            ],
            [
             0.7777777777777778,
             "#fb9f3a"
            ],
            [
             0.8888888888888888,
             "#fdca26"
            ],
            [
             1.0,
             "#f0f921"
            ]
           ],
           "sequentialminus": [
            [
             0.0,
             "#0d0887"
            ],
            [
             0.1111111111111111,
             "#46039f"
            ],
            [
             0.2222222222222222,
             "#7201a8"
            ],
            [
             0.3333333333333333,
             "#9c179e"
            ],
            [
             0.4444444444444444,
             "#bd3786"
            ],
            [
             0.5555555555555556,
             "#d8576b"
            ],
            [
             0.6666666666666666,
             "#ed7953"
            ],
            [
             0.7777777777777778,
             "#fb9f3a"
            ],
            [
             0.8888888888888888,
             "#fdca26"
            ],
            [
             1.0,
             "#f0f921"
            ]
           ],
           "diverging": [
            [
             0,
             "#8e0152"
            ],
            [
             0.1,
             "#c51b7d"
            ],
            [
             0.2,
             "#de77ae"
            ],
            [
             0.3,
             "#f1b6da"
            ],
            [
             0.4,
             "#fde0ef"
            ],
            [
             0.5,
             "#f7f7f7"
            ],
            [
             0.6,
             "#e6f5d0"
            ],
            [
             0.7,
             "#b8e186"
            ],
            [
             0.8,
             "#7fbc41"
            ],
            [
             0.9,
             "#4d9221"
            ],
            [
             1,
             "#276419"
            ]
           ]
          },
          "xaxis": {
           "gridcolor": "#283442",
           "linecolor": "#506784",
           "ticks": "",
           "title": {
            "standoff": 15
           },
           "zerolinecolor": "#283442",
           "automargin": true,
           "zerolinewidth": 2
          },
          "yaxis": {
           "gridcolor": "#283442",
           "linecolor": "#506784",
           "ticks": "",
           "title": {
            "standoff": 15
           },
           "zerolinecolor": "#283442",
           "automargin": true,
           "zerolinewidth": 2
          },
          "scene": {
           "xaxis": {
            "backgroundcolor": "rgb(17,17,17)",
            "gridcolor": "#506784",
            "linecolor": "#506784",
            "showbackground": true,
            "ticks": "",
            "zerolinecolor": "#C8D4E3",
            "gridwidth": 2
           },
           "yaxis": {
            "backgroundcolor": "rgb(17,17,17)",
            "gridcolor": "#506784",
            "linecolor": "#506784",
            "showbackground": true,
            "ticks": "",
            "zerolinecolor": "#C8D4E3",
            "gridwidth": 2
           },
           "zaxis": {
            "backgroundcolor": "rgb(17,17,17)",
            "gridcolor": "#506784",
            "linecolor": "#506784",
            "showbackground": true,
            "ticks": "",
            "zerolinecolor": "#C8D4E3",
            "gridwidth": 2
           }
          },
          "shapedefaults": {
           "line": {
            "color": "#f2f5fa"
           }
          },
          "annotationdefaults": {
           "arrowcolor": "#f2f5fa",
           "arrowhead": 0,
           "arrowwidth": 1
          },
          "geo": {
           "bgcolor": "rgb(17,17,17)",
           "landcolor": "rgb(17,17,17)",
           "subunitcolor": "#506784",
           "showland": true,
           "showlakes": true,
           "lakecolor": "rgb(17,17,17)"
          },
          "title": {
           "x": 0.05
          },
          "updatemenudefaults": {
           "bgcolor": "#506784",
           "borderwidth": 0
          },
          "sliderdefaults": {
           "bgcolor": "#C8D4E3",
           "borderwidth": 1,
           "bordercolor": "rgb(17,17,17)",
           "tickwidth": 0
          },
          "mapbox": {
           "style": "dark"
          }
         }
        },
        "xaxis": {
         "anchor": "y",
         "domain": [
          0.0,
          1.0
         ],
         "title": {
          "text": "x"
         }
        },
        "yaxis": {
         "anchor": "x",
         "domain": [
          0.0,
          1.0
         ],
         "title": {
          "text": "y"
         }
        },
        "legend": {
         "tracegroupgap": 0
        },
        "margin": {
         "t": 60
        }
       },
       "config": {
        "plotlyServerURL": "https://plot.ly"
       }
      },
      "text/html": "<div>                            <div id=\"81659c6b-858e-4146-9ca7-cd034cd166a5\" class=\"plotly-graph-div\" style=\"height:525px; width:100%;\"></div>            <script type=\"text/javascript\">                require([\"plotly\"], function(Plotly) {                    window.PLOTLYENV=window.PLOTLYENV || {};                                    if (document.getElementById(\"81659c6b-858e-4146-9ca7-cd034cd166a5\")) {                    Plotly.newPlot(                        \"81659c6b-858e-4146-9ca7-cd034cd166a5\",                        [{\"hovertemplate\":\"x=%{x}\\u003cbr\\u003ey=%{y}\\u003cextra\\u003e\\u003c\\u002fextra\\u003e\",\"legendgroup\":\"\",\"line\":{\"color\":\"#636efa\",\"dash\":\"solid\"},\"marker\":{\"symbol\":\"circle\"},\"mode\":\"lines\",\"name\":\"\",\"orientation\":\"v\",\"showlegend\":false,\"x\":[1489.670166015625,1488.5650634765625,1487.459716796875,1486.354248046875,1485.24853515625,1484.142578125,1483.0364990234375,1481.93017578125,1480.8236083984375,1479.7169189453125,1478.6099853515625,1477.5028076171875,1476.3955078125,1475.2879638671875,1474.1802978515625,1473.0723876953125,1471.9642333984375,1470.8558349609375,1469.747314453125,1468.638671875,1467.5296630859375,1466.4205322265625,1465.311279296875,1464.20166015625,1463.0919189453125,1461.9820556640625,1460.8719482421875,1459.7615966796875,1458.6510009765625,1457.540283203125,1456.4293212890625,1455.3182373046875,1454.2069091796875,1453.0953369140625,1451.983642578125,1450.8717041015625,1449.759521484375,1448.647216796875,1447.53466796875,1446.421875,1445.3089599609375,1444.19580078125,1443.0823974609375,1441.9688720703125,1440.8551025390625,1439.7410888671875,1438.626953125,1437.5125732421875,1436.3980712890625,1435.2833251953125,1434.1683349609375,1433.0531005859375,1431.937744140625,1430.8221435546875,1429.7064208984375,1428.5904541015625,1427.4742431640625,1426.35791015625,1425.2412109375,1424.12451171875,1423.0074462890625,1421.8902587890625,1420.7728271484375,1419.6552734375,1418.5374755859375,1417.41943359375,1416.30126953125,1415.182861328125,1414.064208984375,1412.9454345703125,1411.826416015625,1410.7071533203125,1409.587646484375,1408.468017578125,1407.3482666015625,1406.2281494140625,1405.10791015625,1403.9874267578125,1402.8668212890625,1401.7459716796875,1400.6248779296875,1399.503662109375,1398.3822021484375,1397.260498046875,1396.1385498046875,1395.0164794921875,1393.894287109375,1392.771728515625,1391.6490478515625,1390.526123046875,1389.403076171875,1388.2796630859375,1387.15625,1386.032470703125,1384.9085693359375,1383.784423828125,1382.6600341796875,1381.5355224609375,1380.4107666015625,1379.2857666015625,1378.16064453125,1377.0352783203125,1375.90966796875,1374.783935546875,1373.657958984375,1372.53173828125,1371.4053955078125,1370.27880859375,1369.1519775390625,1368.02490234375,1366.897705078125,1365.770263671875,1364.6427001953125,1363.5147705078125,1362.38671875,1361.258544921875,1360.1300048828125,1359.0013427734375,1357.87255859375,1356.743408203125,1355.6141357421875,1354.484619140625,1353.35498046875,1352.22509765625,1351.094970703125,1349.964599609375,1348.8341064453125,1347.703369140625,1346.5723876953125,1345.441162109375,1344.309814453125,1343.17822265625,1342.0465087890625,1340.91455078125,1339.7823486328125,1338.64990234375,1337.517333984375,1336.384521484375,1335.25146484375,1334.1181640625,1332.9847412109375,1331.85107421875,1330.7171630859375,1329.5831298828125,1328.4488525390625,1327.3143310546875,1326.1796875,1325.0447998046875,1323.90966796875,1322.7742919921875,1321.6387939453125,1320.5029296875,1319.3670654296875,1318.2308349609375,1317.094482421875,1315.9578857421875,1314.821044921875,1313.68408203125,1312.546875,1311.409423828125,1310.271728515625,1309.1339111328125,1307.995849609375,1306.8575439453125,1305.718994140625,1304.580322265625,1303.44140625,1302.3023681640625,1301.1629638671875,1300.0234375,1298.8836669921875,1297.74365234375,1296.603515625,1295.463134765625,1294.322509765625,1293.181640625,1292.0406494140625,1290.8994140625,1289.7579345703125,1288.6163330078125,1287.474365234375,1286.332275390625,1285.1900634765625,1284.0474853515625,1282.90478515625,1281.7618408203125,1280.61865234375,1279.475341796875,1278.3316650390625,1277.1878662109375,1276.0439453125,1274.899658203125,1273.7552490234375,1272.610595703125,1271.4656982421875,1270.3206787109375,1269.17529296875,1268.02978515625,1266.8841552734375],\"xaxis\":\"x\",\"y\":[0.0009928001419060922,0.0010137798675340676,0.0010455709949544413,0.0010313685712119063,0.0009893247138797764,0.0010157418842300539,0.00099607952022187,0.0009588105252448209,0.0010087784500999973,0.0009949786444339891,0.0010285574870419329,0.0010190655968764044,0.0010206407845211745,0.0010191766013575808,0.001011563911672297,0.001002862621010962,0.0010118998357488069,0.0009988884255315346,0.0010102255811347148,0.0010069069909600067,0.0009887644657831033,0.0010284400823860676,0.0009938025157906175,0.00099929294629687,0.0010296478750520593,0.0009872913474923074,0.0010161198740456158,0.0010376610451472868,0.001063862695585155,0.0010158727447073445,0.001003719230869797,0.0009937009210871965,0.0009911987110846595,0.000979701683732388,0.000987819540449571,0.0010272886455483052,0.0010080374389925264,0.0009955965857599248,0.0009683012240073447,0.0010025869484886092,0.0010182904413899433,0.0009452647187800672,0.0010135854919411087,0.0010000802713146224,0.000992605041405657,0.000989079461092865,0.000976620400088499,0.0009964275179301064,0.0010034805655108209,0.0009580395700738722,0.0009381327405727806,0.0009638648912807089,0.0009275583740144353,0.0009577961207362517,0.0009853628166410925,0.0009408363301783896,0.0009185552898462735,0.0009013132407880138,0.0009392533926109376,0.000905437851550587,0.0008987558503344504,0.0008984335015293281,0.000903199283159766,0.0008904676725873533,0.0008473805206627532,0.0008304406671185004,0.0008312622355189106,0.0008085268668770798,0.0008289076036948517,0.0007784104705258545,0.0007656831394671125,0.0006953778259404171,0.000668127159689571,0.000657618216812557,0.0006113238035951159,0.0006031995511322395,0.0005254472100733496,0.00047444585816968157,0.00033246535183331644,9.777441275490545e-05,-0.0001602027814493918,-0.00045504096708473866,-0.0010698364270216828,-0.002324726949871552,-0.005117546014092579,-0.01184510763268908,-0.023616288322627566,-0.022423363146877394,0.008072929128087781,0.02889553433363274,0.02856515930487974,0.02096222364630893,0.01363113520974521,0.008601524848909612,0.0057608633119218275,0.004031899547647866,0.0030027425470505256,0.0024127426686562864,0.002000300945981602,0.0016822931625693274,0.0015144446320834767,0.0014516978966063881,0.001384617107079319,0.0013501978015952117,0.001331470259077866,0.0013668840899288498,0.0013666913237379132,0.001410509933957257,0.0014136220479331286,0.0014078304545761134,0.0013719456552606848,0.0013141049179824702,0.0012227855724395364,0.0011659879285869142,0.0011032811401176595,0.0010885751682319315,0.0010690401836114262,0.0009953952913869064,0.0010591374472853372,0.0010713990561866463,0.0010804195320405763,0.0011393774694236421,0.0011757494748357283,0.0011527050054514938,0.0012313296330798069,0.001236745706449548,0.001287556065113079,0.0012794852166827034,0.0012663136986070058,0.0012693984952871628,0.0013175742907743265,0.0013464825148745137,0.0012448575991246685,0.0012910842056586928,0.0012547124572269215,0.0012620701191524129,0.0012576783822494729,0.0012401225865778384,0.001228624710770333,0.0012821456174003795,0.0011856761030745687,0.0011541893501040552,0.0011510911989911113,0.0011585380018573747,0.0010897359480122545,0.0010749699900711495,0.0010806320525019878,0.0010161572090919928,0.0009740665637618021,0.0009823896450653945,0.0010179655223979097,0.0010070804550358608,0.0009622642396301928,0.0009673377021928974,0.0009271118846747487,0.0009640434682900446,0.0009206926001810686,0.0009266834699418534,0.0009670333083002955,0.0009317123653009136,0.0009616712703186419,0.000976206972850345,0.001040289379342221,0.0009613633712942401,0.0010078497042855785,0.0009743017182453249,0.0010004430698507497,0.0010052948687195285,0.0010542011775583522,0.0010382081545012322,0.0010021286372730379,0.0010127212098125812,0.0010328754759585052,0.0010545484836552205,0.0010766553843557384,0.0010817018651299213,0.0010582440245242438,0.0010799680338874314,0.0010314272082569014,0.0010474674708264805,0.0010515051057814972,0.0010288146475590735,0.0010195107336983741,0.0010554638432147166,0.001000551596381832,0.0009925030072355193,0.0010276976018519723,0.001054878652131845,0.001009303417168778,0.0010281851513315203,0.0010294864128772801,0.0010453637719019754,0.0010674512337545705,0.0010339994049078558,0.0010107820528804047,0.0010290826733207067,0.0010166423566999394,0.001044066042410253,0.0010350464075568934],\"yaxis\":\"y\",\"type\":\"scatter\"}],                        {\"template\":{\"data\":{\"histogram2dcontour\":[{\"type\":\"histogram2dcontour\",\"colorbar\":{\"outlinewidth\":0,\"ticks\":\"\"},\"colorscale\":[[0.0,\"#0d0887\"],[0.1111111111111111,\"#46039f\"],[0.2222222222222222,\"#7201a8\"],[0.3333333333333333,\"#9c179e\"],[0.4444444444444444,\"#bd3786\"],[0.5555555555555556,\"#d8576b\"],[0.6666666666666666,\"#ed7953\"],[0.7777777777777778,\"#fb9f3a\"],[0.8888888888888888,\"#fdca26\"],[1.0,\"#f0f921\"]]}],\"choropleth\":[{\"type\":\"choropleth\",\"colorbar\":{\"outlinewidth\":0,\"ticks\":\"\"}}],\"histogram2d\":[{\"type\":\"histogram2d\",\"colorbar\":{\"outlinewidth\":0,\"ticks\":\"\"},\"colorscale\":[[0.0,\"#0d0887\"],[0.1111111111111111,\"#46039f\"],[0.2222222222222222,\"#7201a8\"],[0.3333333333333333,\"#9c179e\"],[0.4444444444444444,\"#bd3786\"],[0.5555555555555556,\"#d8576b\"],[0.6666666666666666,\"#ed7953\"],[0.7777777777777778,\"#fb9f3a\"],[0.8888888888888888,\"#fdca26\"],[1.0,\"#f0f921\"]]}],\"heatmap\":[{\"type\":\"heatmap\",\"colorbar\":{\"outlinewidth\":0,\"ticks\":\"\"},\"colorscale\":[[0.0,\"#0d0887\"],[0.1111111111111111,\"#46039f\"],[0.2222222222222222,\"#7201a8\"],[0.3333333333333333,\"#9c179e\"],[0.4444444444444444,\"#bd3786\"],[0.5555555555555556,\"#d8576b\"],[0.6666666666666666,\"#ed7953\"],[0.7777777777777778,\"#fb9f3a\"],[0.8888888888888888,\"#fdca26\"],[1.0,\"#f0f921\"]]}],\"heatmapgl\":[{\"type\":\"heatmapgl\",\"colorbar\":{\"outlinewidth\":0,\"ticks\":\"\"},\"colorscale\":[[0.0,\"#0d0887\"],[0.1111111111111111,\"#46039f\"],[0.2222222222222222,\"#7201a8\"],[0.3333333333333333,\"#9c179e\"],[0.4444444444444444,\"#bd3786\"],[0.5555555555555556,\"#d8576b\"],[0.6666666666666666,\"#ed7953\"],[0.7777777777777778,\"#fb9f3a\"],[0.8888888888888888,\"#fdca26\"],[1.0,\"#f0f921\"]]}],\"contourcarpet\":[{\"type\":\"contourcarpet\",\"colorbar\":{\"outlinewidth\":0,\"ticks\":\"\"}}],\"contour\":[{\"type\":\"contour\",\"colorbar\":{\"outlinewidth\":0,\"ticks\":\"\"},\"colorscale\":[[0.0,\"#0d0887\"],[0.1111111111111111,\"#46039f\"],[0.2222222222222222,\"#7201a8\"],[0.3333333333333333,\"#9c179e\"],[0.4444444444444444,\"#bd3786\"],[0.5555555555555556,\"#d8576b\"],[0.6666666666666666,\"#ed7953\"],[0.7777777777777778,\"#fb9f3a\"],[0.8888888888888888,\"#fdca26\"],[1.0,\"#f0f921\"]]}],\"surface\":[{\"type\":\"surface\",\"colorbar\":{\"outlinewidth\":0,\"ticks\":\"\"},\"colorscale\":[[0.0,\"#0d0887\"],[0.1111111111111111,\"#46039f\"],[0.2222222222222222,\"#7201a8\"],[0.3333333333333333,\"#9c179e\"],[0.4444444444444444,\"#bd3786\"],[0.5555555555555556,\"#d8576b\"],[0.6666666666666666,\"#ed7953\"],[0.7777777777777778,\"#fb9f3a\"],[0.8888888888888888,\"#fdca26\"],[1.0,\"#f0f921\"]]}],\"mesh3d\":[{\"type\":\"mesh3d\",\"colorbar\":{\"outlinewidth\":0,\"ticks\":\"\"}}],\"scatter\":[{\"marker\":{\"line\":{\"color\":\"#283442\"}},\"type\":\"scatter\"}],\"parcoords\":[{\"type\":\"parcoords\",\"line\":{\"colorbar\":{\"outlinewidth\":0,\"ticks\":\"\"}}}],\"scatterpolargl\":[{\"type\":\"scatterpolargl\",\"marker\":{\"colorbar\":{\"outlinewidth\":0,\"ticks\":\"\"}}}],\"bar\":[{\"error_x\":{\"color\":\"#f2f5fa\"},\"error_y\":{\"color\":\"#f2f5fa\"},\"marker\":{\"line\":{\"color\":\"rgb(17,17,17)\",\"width\":0.5},\"pattern\":{\"fillmode\":\"overlay\",\"size\":10,\"solidity\":0.2}},\"type\":\"bar\"}],\"scattergeo\":[{\"type\":\"scattergeo\",\"marker\":{\"colorbar\":{\"outlinewidth\":0,\"ticks\":\"\"}}}],\"scatterpolar\":[{\"type\":\"scatterpolar\",\"marker\":{\"colorbar\":{\"outlinewidth\":0,\"ticks\":\"\"}}}],\"histogram\":[{\"marker\":{\"pattern\":{\"fillmode\":\"overlay\",\"size\":10,\"solidity\":0.2}},\"type\":\"histogram\"}],\"scattergl\":[{\"marker\":{\"line\":{\"color\":\"#283442\"}},\"type\":\"scattergl\"}],\"scatter3d\":[{\"type\":\"scatter3d\",\"line\":{\"colorbar\":{\"outlinewidth\":0,\"ticks\":\"\"}},\"marker\":{\"colorbar\":{\"outlinewidth\":0,\"ticks\":\"\"}}}],\"scattermapbox\":[{\"type\":\"scattermapbox\",\"marker\":{\"colorbar\":{\"outlinewidth\":0,\"ticks\":\"\"}}}],\"scatterternary\":[{\"type\":\"scatterternary\",\"marker\":{\"colorbar\":{\"outlinewidth\":0,\"ticks\":\"\"}}}],\"scattercarpet\":[{\"type\":\"scattercarpet\",\"marker\":{\"colorbar\":{\"outlinewidth\":0,\"ticks\":\"\"}}}],\"carpet\":[{\"aaxis\":{\"endlinecolor\":\"#A2B1C6\",\"gridcolor\":\"#506784\",\"linecolor\":\"#506784\",\"minorgridcolor\":\"#506784\",\"startlinecolor\":\"#A2B1C6\"},\"baxis\":{\"endlinecolor\":\"#A2B1C6\",\"gridcolor\":\"#506784\",\"linecolor\":\"#506784\",\"minorgridcolor\":\"#506784\",\"startlinecolor\":\"#A2B1C6\"},\"type\":\"carpet\"}],\"table\":[{\"cells\":{\"fill\":{\"color\":\"#506784\"},\"line\":{\"color\":\"rgb(17,17,17)\"}},\"header\":{\"fill\":{\"color\":\"#2a3f5f\"},\"line\":{\"color\":\"rgb(17,17,17)\"}},\"type\":\"table\"}],\"barpolar\":[{\"marker\":{\"line\":{\"color\":\"rgb(17,17,17)\",\"width\":0.5},\"pattern\":{\"fillmode\":\"overlay\",\"size\":10,\"solidity\":0.2}},\"type\":\"barpolar\"}],\"pie\":[{\"automargin\":true,\"type\":\"pie\"}]},\"layout\":{\"autotypenumbers\":\"strict\",\"colorway\":[\"#636efa\",\"#EF553B\",\"#00cc96\",\"#ab63fa\",\"#FFA15A\",\"#19d3f3\",\"#FF6692\",\"#B6E880\",\"#FF97FF\",\"#FECB52\"],\"font\":{\"color\":\"#f2f5fa\"},\"hovermode\":\"closest\",\"hoverlabel\":{\"align\":\"left\"},\"paper_bgcolor\":\"rgb(17,17,17)\",\"plot_bgcolor\":\"rgb(17,17,17)\",\"polar\":{\"bgcolor\":\"rgb(17,17,17)\",\"angularaxis\":{\"gridcolor\":\"#506784\",\"linecolor\":\"#506784\",\"ticks\":\"\"},\"radialaxis\":{\"gridcolor\":\"#506784\",\"linecolor\":\"#506784\",\"ticks\":\"\"}},\"ternary\":{\"bgcolor\":\"rgb(17,17,17)\",\"aaxis\":{\"gridcolor\":\"#506784\",\"linecolor\":\"#506784\",\"ticks\":\"\"},\"baxis\":{\"gridcolor\":\"#506784\",\"linecolor\":\"#506784\",\"ticks\":\"\"},\"caxis\":{\"gridcolor\":\"#506784\",\"linecolor\":\"#506784\",\"ticks\":\"\"}},\"coloraxis\":{\"colorbar\":{\"outlinewidth\":0,\"ticks\":\"\"}},\"colorscale\":{\"sequential\":[[0.0,\"#0d0887\"],[0.1111111111111111,\"#46039f\"],[0.2222222222222222,\"#7201a8\"],[0.3333333333333333,\"#9c179e\"],[0.4444444444444444,\"#bd3786\"],[0.5555555555555556,\"#d8576b\"],[0.6666666666666666,\"#ed7953\"],[0.7777777777777778,\"#fb9f3a\"],[0.8888888888888888,\"#fdca26\"],[1.0,\"#f0f921\"]],\"sequentialminus\":[[0.0,\"#0d0887\"],[0.1111111111111111,\"#46039f\"],[0.2222222222222222,\"#7201a8\"],[0.3333333333333333,\"#9c179e\"],[0.4444444444444444,\"#bd3786\"],[0.5555555555555556,\"#d8576b\"],[0.6666666666666666,\"#ed7953\"],[0.7777777777777778,\"#fb9f3a\"],[0.8888888888888888,\"#fdca26\"],[1.0,\"#f0f921\"]],\"diverging\":[[0,\"#8e0152\"],[0.1,\"#c51b7d\"],[0.2,\"#de77ae\"],[0.3,\"#f1b6da\"],[0.4,\"#fde0ef\"],[0.5,\"#f7f7f7\"],[0.6,\"#e6f5d0\"],[0.7,\"#b8e186\"],[0.8,\"#7fbc41\"],[0.9,\"#4d9221\"],[1,\"#276419\"]]},\"xaxis\":{\"gridcolor\":\"#283442\",\"linecolor\":\"#506784\",\"ticks\":\"\",\"title\":{\"standoff\":15},\"zerolinecolor\":\"#283442\",\"automargin\":true,\"zerolinewidth\":2},\"yaxis\":{\"gridcolor\":\"#283442\",\"linecolor\":\"#506784\",\"ticks\":\"\",\"title\":{\"standoff\":15},\"zerolinecolor\":\"#283442\",\"automargin\":true,\"zerolinewidth\":2},\"scene\":{\"xaxis\":{\"backgroundcolor\":\"rgb(17,17,17)\",\"gridcolor\":\"#506784\",\"linecolor\":\"#506784\",\"showbackground\":true,\"ticks\":\"\",\"zerolinecolor\":\"#C8D4E3\",\"gridwidth\":2},\"yaxis\":{\"backgroundcolor\":\"rgb(17,17,17)\",\"gridcolor\":\"#506784\",\"linecolor\":\"#506784\",\"showbackground\":true,\"ticks\":\"\",\"zerolinecolor\":\"#C8D4E3\",\"gridwidth\":2},\"zaxis\":{\"backgroundcolor\":\"rgb(17,17,17)\",\"gridcolor\":\"#506784\",\"linecolor\":\"#506784\",\"showbackground\":true,\"ticks\":\"\",\"zerolinecolor\":\"#C8D4E3\",\"gridwidth\":2}},\"shapedefaults\":{\"line\":{\"color\":\"#f2f5fa\"}},\"annotationdefaults\":{\"arrowcolor\":\"#f2f5fa\",\"arrowhead\":0,\"arrowwidth\":1},\"geo\":{\"bgcolor\":\"rgb(17,17,17)\",\"landcolor\":\"rgb(17,17,17)\",\"subunitcolor\":\"#506784\",\"showland\":true,\"showlakes\":true,\"lakecolor\":\"rgb(17,17,17)\"},\"title\":{\"x\":0.05},\"updatemenudefaults\":{\"bgcolor\":\"#506784\",\"borderwidth\":0},\"sliderdefaults\":{\"bgcolor\":\"#C8D4E3\",\"borderwidth\":1,\"bordercolor\":\"rgb(17,17,17)\",\"tickwidth\":0},\"mapbox\":{\"style\":\"dark\"}}},\"xaxis\":{\"anchor\":\"y\",\"domain\":[0.0,1.0],\"title\":{\"text\":\"x\"}},\"yaxis\":{\"anchor\":\"x\",\"domain\":[0.0,1.0],\"title\":{\"text\":\"y\"}},\"legend\":{\"tracegroupgap\":0},\"margin\":{\"t\":60}},                        {\"responsive\": true}                    ).then(function(){\n                            \nvar gd = document.getElementById('81659c6b-858e-4146-9ca7-cd034cd166a5');\nvar x = new MutationObserver(function (mutations, observer) {{\n        var display = window.getComputedStyle(gd).display;\n        if (!display || display === 'none') {{\n            console.log([gd, 'removed!']);\n            Plotly.purge(gd);\n            observer.disconnect();\n        }}\n}});\n\n// Listen for the removal of the full notebook cells\nvar notebookContainer = gd.closest('#notebook-container');\nif (notebookContainer) {{\n    x.observe(notebookContainer, {childList: true});\n}}\n\n// Listen for the clearing of the current output cell\nvar outputEl = gd.closest('.output');\nif (outputEl) {{\n    x.observe(outputEl, {childList: true});\n}}\n\n                        })                };                });            </script>        </div>"
     },
     "metadata": {},
     "output_type": "display_data"
    },
    {
     "data": {
      "application/vnd.plotly.v1+json": {
       "data": [
        {
         "hovertemplate": "x=%{x}<br>y=%{y}<extra></extra>",
         "legendgroup": "",
         "line": {
          "color": "#636efa",
          "dash": "solid"
         },
         "marker": {
          "symbol": "circle"
         },
         "mode": "lines",
         "name": "",
         "orientation": "v",
         "showlegend": false,
         "x": [
          1489.670166015625,
          1488.5650634765625,
          1487.459716796875,
          1486.354248046875,
          1485.24853515625,
          1484.142578125,
          1483.0364990234375,
          1481.93017578125,
          1480.8236083984375,
          1479.7169189453125,
          1478.6099853515625,
          1477.5028076171875,
          1476.3955078125,
          1475.2879638671875,
          1474.1802978515625,
          1473.0723876953125,
          1471.9642333984375,
          1470.8558349609375,
          1469.747314453125,
          1468.638671875,
          1467.5296630859375,
          1466.4205322265625,
          1465.311279296875,
          1464.20166015625,
          1463.0919189453125,
          1461.9820556640625,
          1460.8719482421875,
          1459.7615966796875,
          1458.6510009765625,
          1457.540283203125,
          1456.4293212890625,
          1455.3182373046875,
          1454.2069091796875,
          1453.0953369140625,
          1451.983642578125,
          1450.8717041015625,
          1449.759521484375,
          1448.647216796875,
          1447.53466796875,
          1446.421875,
          1445.3089599609375,
          1444.19580078125,
          1443.0823974609375,
          1441.9688720703125,
          1440.8551025390625,
          1439.7410888671875,
          1438.626953125,
          1437.5125732421875,
          1436.3980712890625,
          1435.2833251953125,
          1434.1683349609375,
          1433.0531005859375,
          1431.937744140625,
          1430.8221435546875,
          1429.7064208984375,
          1428.5904541015625,
          1427.4742431640625,
          1426.35791015625,
          1425.2412109375,
          1424.12451171875,
          1423.0074462890625,
          1421.8902587890625,
          1420.7728271484375,
          1419.6552734375,
          1418.5374755859375,
          1417.41943359375,
          1416.30126953125,
          1415.182861328125,
          1414.064208984375,
          1412.9454345703125,
          1411.826416015625,
          1410.7071533203125,
          1409.587646484375,
          1408.468017578125,
          1407.3482666015625,
          1406.2281494140625,
          1405.10791015625,
          1403.9874267578125,
          1402.8668212890625,
          1401.7459716796875,
          1400.6248779296875,
          1399.503662109375,
          1398.3822021484375,
          1397.260498046875,
          1396.1385498046875,
          1395.0164794921875,
          1393.894287109375,
          1392.771728515625,
          1391.6490478515625,
          1390.526123046875,
          1389.403076171875,
          1388.2796630859375,
          1387.15625,
          1386.032470703125,
          1384.9085693359375,
          1383.784423828125,
          1382.6600341796875,
          1381.5355224609375,
          1380.4107666015625,
          1379.2857666015625,
          1378.16064453125,
          1377.0352783203125,
          1375.90966796875,
          1374.783935546875,
          1373.657958984375,
          1372.53173828125,
          1371.4053955078125,
          1370.27880859375,
          1369.1519775390625,
          1368.02490234375,
          1366.897705078125,
          1365.770263671875,
          1364.6427001953125,
          1363.5147705078125,
          1362.38671875,
          1361.258544921875,
          1360.1300048828125,
          1359.0013427734375,
          1357.87255859375,
          1356.743408203125,
          1355.6141357421875,
          1354.484619140625,
          1353.35498046875,
          1352.22509765625,
          1351.094970703125,
          1349.964599609375,
          1348.8341064453125,
          1347.703369140625,
          1346.5723876953125,
          1345.441162109375,
          1344.309814453125,
          1343.17822265625,
          1342.0465087890625,
          1340.91455078125,
          1339.7823486328125,
          1338.64990234375,
          1337.517333984375,
          1336.384521484375,
          1335.25146484375,
          1334.1181640625,
          1332.9847412109375,
          1331.85107421875,
          1330.7171630859375,
          1329.5831298828125,
          1328.4488525390625,
          1327.3143310546875,
          1326.1796875,
          1325.0447998046875,
          1323.90966796875,
          1322.7742919921875,
          1321.6387939453125,
          1320.5029296875,
          1319.3670654296875,
          1318.2308349609375,
          1317.094482421875,
          1315.9578857421875,
          1314.821044921875,
          1313.68408203125,
          1312.546875,
          1311.409423828125,
          1310.271728515625,
          1309.1339111328125,
          1307.995849609375,
          1306.8575439453125,
          1305.718994140625,
          1304.580322265625,
          1303.44140625,
          1302.3023681640625,
          1301.1629638671875,
          1300.0234375,
          1298.8836669921875,
          1297.74365234375,
          1296.603515625,
          1295.463134765625,
          1294.322509765625,
          1293.181640625,
          1292.0406494140625,
          1290.8994140625,
          1289.7579345703125,
          1288.6163330078125,
          1287.474365234375,
          1286.332275390625,
          1285.1900634765625,
          1284.0474853515625,
          1282.90478515625,
          1281.7618408203125,
          1280.61865234375,
          1279.475341796875,
          1278.3316650390625,
          1277.1878662109375,
          1276.0439453125,
          1274.899658203125,
          1273.7552490234375,
          1272.610595703125,
          1271.4656982421875,
          1270.3206787109375,
          1269.17529296875,
          1268.02978515625,
          1266.8841552734375
         ],
         "xaxis": "x",
         "y": [
          0.0021085468415100077,
          0.0021659093786835426,
          0.002099335093706627,
          0.0021197001314358505,
          0.001968341764734179,
          0.002118339981366756,
          0.0020762812791095234,
          0.0019374743246821403,
          0.0020308636841661763,
          0.0019661716344016983,
          0.0020236322251131443,
          0.0020061443716253443,
          0.0019594232733648534,
          0.001895473750065396,
          0.0019332923161874183,
          0.0019435032245485847,
          0.0019912472539223174,
          0.0019025299074416516,
          0.001887487331198635,
          0.0018839179306440353,
          0.0019122030500358157,
          0.0019141064330314872,
          0.0018477445494897338,
          0.0019161056864350726,
          0.0019022282556911394,
          0.0017694469285865811,
          0.0018568888842283489,
          0.001834998984347598,
          0.0018258108442857823,
          0.001822279849351523,
          0.0018095017835330035,
          0.0017907323152182545,
          0.001769057339248828,
          0.0017773159882263066,
          0.0017322783079332783,
          0.001852796963821497,
          0.0017261770529973287,
          0.0016644979652702134,
          0.00162338130325528,
          0.0017018134447777358,
          0.0016842186349941572,
          0.001667162616154325,
          0.0016864922526518918,
          0.0016666366153402278,
          0.0017298827373704515,
          0.001655208426840097,
          0.0016497943041492665,
          0.0015863095145803776,
          0.0016373916835298343,
          0.0014941591476661466,
          0.0015475308188063947,
          0.0015644936914145165,
          0.0014156051632447768,
          0.0015129651998626356,
          0.0015449497501608246,
          0.0014911837005314853,
          0.0014674149397152852,
          0.001511500011057163,
          0.0015626040826081577,
          0.001495879775432734,
          0.0015251313564546415,
          0.0014045533914123817,
          0.0015289121908202972,
          0.0015642758320744085,
          0.0014997044000409508,
          0.0014947588858221067,
          0.0015614920364785368,
          0.0015112717979053757,
          0.0015686055264927713,
          0.001600972616043275,
          0.001684215089930287,
          0.0015920688306436176,
          0.0016220125795386759,
          0.0017314161800776615,
          0.0019325295579900633,
          0.00218150337745264,
          0.0023349036924316404,
          0.0025719918906500277,
          0.0030267376291737104,
          0.0034601328785537422,
          0.004282190912604583,
          0.005606961866671633,
          0.00758624980816146,
          0.010223563058768485,
          0.014131456684498247,
          0.01708066456307847,
          0.010727401783570909,
          -0.010826316281748747,
          -0.014378808116712409,
          0.0023765211966362237,
          0.012438160614379185,
          0.013858852377779915,
          0.011453843731437555,
          0.008386302232230186,
          0.0060764441234121575,
          0.004497723797287715,
          0.0034000888339540546,
          0.0026404161575478767,
          0.002098646577183905,
          0.0016218683158929247,
          0.0012618792801119471,
          9.641434555008553E-4,
          7.100997553169944E-4,
          3.1020253841693336E-4,
          4.774787510670342E-5,
          -1.7516934549992915E-4,
          -3.9459945550701186E-4,
          -5.750771868916518E-4,
          -7.929248400599523E-4,
          -7.707246673952599E-4,
          -7.783909756434265E-4,
          -7.375796653101132E-4,
          -6.490982019426184E-4,
          -6.202491160901788E-4,
          -3.267153661083616E-4,
          -1.6781942558141761E-4,
          -4.798486680832064E-5,
          -7.305810716196473E-5,
          2.1119389064703159E-4,
          2.44344055094388E-4,
          2.9695418994147926E-4,
          4.7536243584138155E-4,
          6.157981972293792E-4,
          5.761568240870706E-4,
          5.67781303948865E-4,
          4.969101013590556E-4,
          5.944750705110846E-4,
          6.623564467707347E-4,
          5.729610261095879E-4,
          5.530369134882103E-4,
          5.37440846038129E-4,
          5.990020601493977E-4,
          4.4838540420861746E-4,
          4.884848214274893E-4,
          4.656618869063437E-4,
          4.558775861755352E-4,
          4.5909248186664845E-4,
          7.214373380063873E-4,
          6.409552286003184E-4,
          8.12041087716315E-4,
          6.761898841453351E-4,
          7.6297217265764E-4,
          7.986812933256239E-4,
          8.27432062155562E-4,
          8.272009614694772E-4,
          7.433911482902759E-4,
          8.016354275164059E-4,
          7.902206840616459E-4,
          8.006132021313294E-4,
          7.544302932277642E-4,
          9.547848478164045E-4,
          9.547779682337709E-4,
          9.062730736501947E-4,
          8.933915252536903E-4,
          9.574732595415181E-4,
          9.602305035805209E-4,
          9.541793484853191E-4,
          9.090478330779159E-4,
          9.439341291721466E-4,
          9.068252392368595E-4,
          9.653069507341828E-4,
          0.0010303756264223142,
          0.0011041314909662299,
          0.0010044944204589577,
          0.0010325012817187587,
          0.0010014699900594162,
          0.0010239305858718419,
          0.0010624975109827291,
          0.0010417869316280033,
          0.001129386442674751,
          0.0010161061672140346,
          0.001003431928707809,
          0.0011476577453655343,
          0.0011286351535892546,
          0.0012212680926574392,
          0.0011127028494710039,
          0.0010872243644767824,
          0.0011400552435252042,
          0.0011308031943870237,
          0.0011219140290713399,
          0.0011213527188830058,
          0.001107539646554963,
          0.0011296692380291153,
          0.0011725280197878375,
          0.0011884458342386426,
          0.0011103169679812668,
          0.0011371577641167692,
          0.0012735539094079478,
          0.0010594122544868812,
          0.0011420641770730744,
          0.0011560741499142477,
          0.0011084400643215256,
          0.0012171718765154047,
          0.0011825818064666678,
          0.0011639863237473897,
          0.0012078900560202148,
          0.0011937441288262366,
          0.0012770048965098206,
          0.0012557579682029175
         ],
         "yaxis": "y",
         "type": "scatter"
        }
       ],
       "layout": {
        "template": {
         "data": {
          "histogram2dcontour": [
           {
            "type": "histogram2dcontour",
            "colorbar": {
             "outlinewidth": 0,
             "ticks": ""
            },
            "colorscale": [
             [
              0.0,
              "#0d0887"
             ],
             [
              0.1111111111111111,
              "#46039f"
             ],
             [
              0.2222222222222222,
              "#7201a8"
             ],
             [
              0.3333333333333333,
              "#9c179e"
             ],
             [
              0.4444444444444444,
              "#bd3786"
             ],
             [
              0.5555555555555556,
              "#d8576b"
             ],
             [
              0.6666666666666666,
              "#ed7953"
             ],
             [
              0.7777777777777778,
              "#fb9f3a"
             ],
             [
              0.8888888888888888,
              "#fdca26"
             ],
             [
              1.0,
              "#f0f921"
             ]
            ]
           }
          ],
          "choropleth": [
           {
            "type": "choropleth",
            "colorbar": {
             "outlinewidth": 0,
             "ticks": ""
            }
           }
          ],
          "histogram2d": [
           {
            "type": "histogram2d",
            "colorbar": {
             "outlinewidth": 0,
             "ticks": ""
            },
            "colorscale": [
             [
              0.0,
              "#0d0887"
             ],
             [
              0.1111111111111111,
              "#46039f"
             ],
             [
              0.2222222222222222,
              "#7201a8"
             ],
             [
              0.3333333333333333,
              "#9c179e"
             ],
             [
              0.4444444444444444,
              "#bd3786"
             ],
             [
              0.5555555555555556,
              "#d8576b"
             ],
             [
              0.6666666666666666,
              "#ed7953"
             ],
             [
              0.7777777777777778,
              "#fb9f3a"
             ],
             [
              0.8888888888888888,
              "#fdca26"
             ],
             [
              1.0,
              "#f0f921"
             ]
            ]
           }
          ],
          "heatmap": [
           {
            "type": "heatmap",
            "colorbar": {
             "outlinewidth": 0,
             "ticks": ""
            },
            "colorscale": [
             [
              0.0,
              "#0d0887"
             ],
             [
              0.1111111111111111,
              "#46039f"
             ],
             [
              0.2222222222222222,
              "#7201a8"
             ],
             [
              0.3333333333333333,
              "#9c179e"
             ],
             [
              0.4444444444444444,
              "#bd3786"
             ],
             [
              0.5555555555555556,
              "#d8576b"
             ],
             [
              0.6666666666666666,
              "#ed7953"
             ],
             [
              0.7777777777777778,
              "#fb9f3a"
             ],
             [
              0.8888888888888888,
              "#fdca26"
             ],
             [
              1.0,
              "#f0f921"
             ]
            ]
           }
          ],
          "heatmapgl": [
           {
            "type": "heatmapgl",
            "colorbar": {
             "outlinewidth": 0,
             "ticks": ""
            },
            "colorscale": [
             [
              0.0,
              "#0d0887"
             ],
             [
              0.1111111111111111,
              "#46039f"
             ],
             [
              0.2222222222222222,
              "#7201a8"
             ],
             [
              0.3333333333333333,
              "#9c179e"
             ],
             [
              0.4444444444444444,
              "#bd3786"
             ],
             [
              0.5555555555555556,
              "#d8576b"
             ],
             [
              0.6666666666666666,
              "#ed7953"
             ],
             [
              0.7777777777777778,
              "#fb9f3a"
             ],
             [
              0.8888888888888888,
              "#fdca26"
             ],
             [
              1.0,
              "#f0f921"
             ]
            ]
           }
          ],
          "contourcarpet": [
           {
            "type": "contourcarpet",
            "colorbar": {
             "outlinewidth": 0,
             "ticks": ""
            }
           }
          ],
          "contour": [
           {
            "type": "contour",
            "colorbar": {
             "outlinewidth": 0,
             "ticks": ""
            },
            "colorscale": [
             [
              0.0,
              "#0d0887"
             ],
             [
              0.1111111111111111,
              "#46039f"
             ],
             [
              0.2222222222222222,
              "#7201a8"
             ],
             [
              0.3333333333333333,
              "#9c179e"
             ],
             [
              0.4444444444444444,
              "#bd3786"
             ],
             [
              0.5555555555555556,
              "#d8576b"
             ],
             [
              0.6666666666666666,
              "#ed7953"
             ],
             [
              0.7777777777777778,
              "#fb9f3a"
             ],
             [
              0.8888888888888888,
              "#fdca26"
             ],
             [
              1.0,
              "#f0f921"
             ]
            ]
           }
          ],
          "surface": [
           {
            "type": "surface",
            "colorbar": {
             "outlinewidth": 0,
             "ticks": ""
            },
            "colorscale": [
             [
              0.0,
              "#0d0887"
             ],
             [
              0.1111111111111111,
              "#46039f"
             ],
             [
              0.2222222222222222,
              "#7201a8"
             ],
             [
              0.3333333333333333,
              "#9c179e"
             ],
             [
              0.4444444444444444,
              "#bd3786"
             ],
             [
              0.5555555555555556,
              "#d8576b"
             ],
             [
              0.6666666666666666,
              "#ed7953"
             ],
             [
              0.7777777777777778,
              "#fb9f3a"
             ],
             [
              0.8888888888888888,
              "#fdca26"
             ],
             [
              1.0,
              "#f0f921"
             ]
            ]
           }
          ],
          "mesh3d": [
           {
            "type": "mesh3d",
            "colorbar": {
             "outlinewidth": 0,
             "ticks": ""
            }
           }
          ],
          "scatter": [
           {
            "marker": {
             "line": {
              "color": "#283442"
             }
            },
            "type": "scatter"
           }
          ],
          "parcoords": [
           {
            "type": "parcoords",
            "line": {
             "colorbar": {
              "outlinewidth": 0,
              "ticks": ""
             }
            }
           }
          ],
          "scatterpolargl": [
           {
            "type": "scatterpolargl",
            "marker": {
             "colorbar": {
              "outlinewidth": 0,
              "ticks": ""
             }
            }
           }
          ],
          "bar": [
           {
            "error_x": {
             "color": "#f2f5fa"
            },
            "error_y": {
             "color": "#f2f5fa"
            },
            "marker": {
             "line": {
              "color": "rgb(17,17,17)",
              "width": 0.5
             },
             "pattern": {
              "fillmode": "overlay",
              "size": 10,
              "solidity": 0.2
             }
            },
            "type": "bar"
           }
          ],
          "scattergeo": [
           {
            "type": "scattergeo",
            "marker": {
             "colorbar": {
              "outlinewidth": 0,
              "ticks": ""
             }
            }
           }
          ],
          "scatterpolar": [
           {
            "type": "scatterpolar",
            "marker": {
             "colorbar": {
              "outlinewidth": 0,
              "ticks": ""
             }
            }
           }
          ],
          "histogram": [
           {
            "marker": {
             "pattern": {
              "fillmode": "overlay",
              "size": 10,
              "solidity": 0.2
             }
            },
            "type": "histogram"
           }
          ],
          "scattergl": [
           {
            "marker": {
             "line": {
              "color": "#283442"
             }
            },
            "type": "scattergl"
           }
          ],
          "scatter3d": [
           {
            "type": "scatter3d",
            "line": {
             "colorbar": {
              "outlinewidth": 0,
              "ticks": ""
             }
            },
            "marker": {
             "colorbar": {
              "outlinewidth": 0,
              "ticks": ""
             }
            }
           }
          ],
          "scattermapbox": [
           {
            "type": "scattermapbox",
            "marker": {
             "colorbar": {
              "outlinewidth": 0,
              "ticks": ""
             }
            }
           }
          ],
          "scatterternary": [
           {
            "type": "scatterternary",
            "marker": {
             "colorbar": {
              "outlinewidth": 0,
              "ticks": ""
             }
            }
           }
          ],
          "scattercarpet": [
           {
            "type": "scattercarpet",
            "marker": {
             "colorbar": {
              "outlinewidth": 0,
              "ticks": ""
             }
            }
           }
          ],
          "carpet": [
           {
            "aaxis": {
             "endlinecolor": "#A2B1C6",
             "gridcolor": "#506784",
             "linecolor": "#506784",
             "minorgridcolor": "#506784",
             "startlinecolor": "#A2B1C6"
            },
            "baxis": {
             "endlinecolor": "#A2B1C6",
             "gridcolor": "#506784",
             "linecolor": "#506784",
             "minorgridcolor": "#506784",
             "startlinecolor": "#A2B1C6"
            },
            "type": "carpet"
           }
          ],
          "table": [
           {
            "cells": {
             "fill": {
              "color": "#506784"
             },
             "line": {
              "color": "rgb(17,17,17)"
             }
            },
            "header": {
             "fill": {
              "color": "#2a3f5f"
             },
             "line": {
              "color": "rgb(17,17,17)"
             }
            },
            "type": "table"
           }
          ],
          "barpolar": [
           {
            "marker": {
             "line": {
              "color": "rgb(17,17,17)",
              "width": 0.5
             },
             "pattern": {
              "fillmode": "overlay",
              "size": 10,
              "solidity": 0.2
             }
            },
            "type": "barpolar"
           }
          ],
          "pie": [
           {
            "automargin": true,
            "type": "pie"
           }
          ]
         },
         "layout": {
          "autotypenumbers": "strict",
          "colorway": [
           "#636efa",
           "#EF553B",
           "#00cc96",
           "#ab63fa",
           "#FFA15A",
           "#19d3f3",
           "#FF6692",
           "#B6E880",
           "#FF97FF",
           "#FECB52"
          ],
          "font": {
           "color": "#f2f5fa"
          },
          "hovermode": "closest",
          "hoverlabel": {
           "align": "left"
          },
          "paper_bgcolor": "rgb(17,17,17)",
          "plot_bgcolor": "rgb(17,17,17)",
          "polar": {
           "bgcolor": "rgb(17,17,17)",
           "angularaxis": {
            "gridcolor": "#506784",
            "linecolor": "#506784",
            "ticks": ""
           },
           "radialaxis": {
            "gridcolor": "#506784",
            "linecolor": "#506784",
            "ticks": ""
           }
          },
          "ternary": {
           "bgcolor": "rgb(17,17,17)",
           "aaxis": {
            "gridcolor": "#506784",
            "linecolor": "#506784",
            "ticks": ""
           },
           "baxis": {
            "gridcolor": "#506784",
            "linecolor": "#506784",
            "ticks": ""
           },
           "caxis": {
            "gridcolor": "#506784",
            "linecolor": "#506784",
            "ticks": ""
           }
          },
          "coloraxis": {
           "colorbar": {
            "outlinewidth": 0,
            "ticks": ""
           }
          },
          "colorscale": {
           "sequential": [
            [
             0.0,
             "#0d0887"
            ],
            [
             0.1111111111111111,
             "#46039f"
            ],
            [
             0.2222222222222222,
             "#7201a8"
            ],
            [
             0.3333333333333333,
             "#9c179e"
            ],
            [
             0.4444444444444444,
             "#bd3786"
            ],
            [
             0.5555555555555556,
             "#d8576b"
            ],
            [
             0.6666666666666666,
             "#ed7953"
            ],
            [
             0.7777777777777778,
             "#fb9f3a"
            ],
            [
             0.8888888888888888,
             "#fdca26"
            ],
            [
             1.0,
             "#f0f921"
            ]
           ],
           "sequentialminus": [
            [
             0.0,
             "#0d0887"
            ],
            [
             0.1111111111111111,
             "#46039f"
            ],
            [
             0.2222222222222222,
             "#7201a8"
            ],
            [
             0.3333333333333333,
             "#9c179e"
            ],
            [
             0.4444444444444444,
             "#bd3786"
            ],
            [
             0.5555555555555556,
             "#d8576b"
            ],
            [
             0.6666666666666666,
             "#ed7953"
            ],
            [
             0.7777777777777778,
             "#fb9f3a"
            ],
            [
             0.8888888888888888,
             "#fdca26"
            ],
            [
             1.0,
             "#f0f921"
            ]
           ],
           "diverging": [
            [
             0,
             "#8e0152"
            ],
            [
             0.1,
             "#c51b7d"
            ],
            [
             0.2,
             "#de77ae"
            ],
            [
             0.3,
             "#f1b6da"
            ],
            [
             0.4,
             "#fde0ef"
            ],
            [
             0.5,
             "#f7f7f7"
            ],
            [
             0.6,
             "#e6f5d0"
            ],
            [
             0.7,
             "#b8e186"
            ],
            [
             0.8,
             "#7fbc41"
            ],
            [
             0.9,
             "#4d9221"
            ],
            [
             1,
             "#276419"
            ]
           ]
          },
          "xaxis": {
           "gridcolor": "#283442",
           "linecolor": "#506784",
           "ticks": "",
           "title": {
            "standoff": 15
           },
           "zerolinecolor": "#283442",
           "automargin": true,
           "zerolinewidth": 2
          },
          "yaxis": {
           "gridcolor": "#283442",
           "linecolor": "#506784",
           "ticks": "",
           "title": {
            "standoff": 15
           },
           "zerolinecolor": "#283442",
           "automargin": true,
           "zerolinewidth": 2
          },
          "scene": {
           "xaxis": {
            "backgroundcolor": "rgb(17,17,17)",
            "gridcolor": "#506784",
            "linecolor": "#506784",
            "showbackground": true,
            "ticks": "",
            "zerolinecolor": "#C8D4E3",
            "gridwidth": 2
           },
           "yaxis": {
            "backgroundcolor": "rgb(17,17,17)",
            "gridcolor": "#506784",
            "linecolor": "#506784",
            "showbackground": true,
            "ticks": "",
            "zerolinecolor": "#C8D4E3",
            "gridwidth": 2
           },
           "zaxis": {
            "backgroundcolor": "rgb(17,17,17)",
            "gridcolor": "#506784",
            "linecolor": "#506784",
            "showbackground": true,
            "ticks": "",
            "zerolinecolor": "#C8D4E3",
            "gridwidth": 2
           }
          },
          "shapedefaults": {
           "line": {
            "color": "#f2f5fa"
           }
          },
          "annotationdefaults": {
           "arrowcolor": "#f2f5fa",
           "arrowhead": 0,
           "arrowwidth": 1
          },
          "geo": {
           "bgcolor": "rgb(17,17,17)",
           "landcolor": "rgb(17,17,17)",
           "subunitcolor": "#506784",
           "showland": true,
           "showlakes": true,
           "lakecolor": "rgb(17,17,17)"
          },
          "title": {
           "x": 0.05
          },
          "updatemenudefaults": {
           "bgcolor": "#506784",
           "borderwidth": 0
          },
          "sliderdefaults": {
           "bgcolor": "#C8D4E3",
           "borderwidth": 1,
           "bordercolor": "rgb(17,17,17)",
           "tickwidth": 0
          },
          "mapbox": {
           "style": "dark"
          }
         }
        },
        "xaxis": {
         "anchor": "y",
         "domain": [
          0.0,
          1.0
         ],
         "title": {
          "text": "x"
         }
        },
        "yaxis": {
         "anchor": "x",
         "domain": [
          0.0,
          1.0
         ],
         "title": {
          "text": "y"
         }
        },
        "legend": {
         "tracegroupgap": 0
        },
        "margin": {
         "t": 60
        }
       },
       "config": {
        "plotlyServerURL": "https://plot.ly"
       }
      },
      "text/html": "<div>                            <div id=\"d43b9e7a-73aa-4283-8a9a-1ec3bfb6f025\" class=\"plotly-graph-div\" style=\"height:525px; width:100%;\"></div>            <script type=\"text/javascript\">                require([\"plotly\"], function(Plotly) {                    window.PLOTLYENV=window.PLOTLYENV || {};                                    if (document.getElementById(\"d43b9e7a-73aa-4283-8a9a-1ec3bfb6f025\")) {                    Plotly.newPlot(                        \"d43b9e7a-73aa-4283-8a9a-1ec3bfb6f025\",                        [{\"hovertemplate\":\"x=%{x}\\u003cbr\\u003ey=%{y}\\u003cextra\\u003e\\u003c\\u002fextra\\u003e\",\"legendgroup\":\"\",\"line\":{\"color\":\"#636efa\",\"dash\":\"solid\"},\"marker\":{\"symbol\":\"circle\"},\"mode\":\"lines\",\"name\":\"\",\"orientation\":\"v\",\"showlegend\":false,\"x\":[1489.670166015625,1488.5650634765625,1487.459716796875,1486.354248046875,1485.24853515625,1484.142578125,1483.0364990234375,1481.93017578125,1480.8236083984375,1479.7169189453125,1478.6099853515625,1477.5028076171875,1476.3955078125,1475.2879638671875,1474.1802978515625,1473.0723876953125,1471.9642333984375,1470.8558349609375,1469.747314453125,1468.638671875,1467.5296630859375,1466.4205322265625,1465.311279296875,1464.20166015625,1463.0919189453125,1461.9820556640625,1460.8719482421875,1459.7615966796875,1458.6510009765625,1457.540283203125,1456.4293212890625,1455.3182373046875,1454.2069091796875,1453.0953369140625,1451.983642578125,1450.8717041015625,1449.759521484375,1448.647216796875,1447.53466796875,1446.421875,1445.3089599609375,1444.19580078125,1443.0823974609375,1441.9688720703125,1440.8551025390625,1439.7410888671875,1438.626953125,1437.5125732421875,1436.3980712890625,1435.2833251953125,1434.1683349609375,1433.0531005859375,1431.937744140625,1430.8221435546875,1429.7064208984375,1428.5904541015625,1427.4742431640625,1426.35791015625,1425.2412109375,1424.12451171875,1423.0074462890625,1421.8902587890625,1420.7728271484375,1419.6552734375,1418.5374755859375,1417.41943359375,1416.30126953125,1415.182861328125,1414.064208984375,1412.9454345703125,1411.826416015625,1410.7071533203125,1409.587646484375,1408.468017578125,1407.3482666015625,1406.2281494140625,1405.10791015625,1403.9874267578125,1402.8668212890625,1401.7459716796875,1400.6248779296875,1399.503662109375,1398.3822021484375,1397.260498046875,1396.1385498046875,1395.0164794921875,1393.894287109375,1392.771728515625,1391.6490478515625,1390.526123046875,1389.403076171875,1388.2796630859375,1387.15625,1386.032470703125,1384.9085693359375,1383.784423828125,1382.6600341796875,1381.5355224609375,1380.4107666015625,1379.2857666015625,1378.16064453125,1377.0352783203125,1375.90966796875,1374.783935546875,1373.657958984375,1372.53173828125,1371.4053955078125,1370.27880859375,1369.1519775390625,1368.02490234375,1366.897705078125,1365.770263671875,1364.6427001953125,1363.5147705078125,1362.38671875,1361.258544921875,1360.1300048828125,1359.0013427734375,1357.87255859375,1356.743408203125,1355.6141357421875,1354.484619140625,1353.35498046875,1352.22509765625,1351.094970703125,1349.964599609375,1348.8341064453125,1347.703369140625,1346.5723876953125,1345.441162109375,1344.309814453125,1343.17822265625,1342.0465087890625,1340.91455078125,1339.7823486328125,1338.64990234375,1337.517333984375,1336.384521484375,1335.25146484375,1334.1181640625,1332.9847412109375,1331.85107421875,1330.7171630859375,1329.5831298828125,1328.4488525390625,1327.3143310546875,1326.1796875,1325.0447998046875,1323.90966796875,1322.7742919921875,1321.6387939453125,1320.5029296875,1319.3670654296875,1318.2308349609375,1317.094482421875,1315.9578857421875,1314.821044921875,1313.68408203125,1312.546875,1311.409423828125,1310.271728515625,1309.1339111328125,1307.995849609375,1306.8575439453125,1305.718994140625,1304.580322265625,1303.44140625,1302.3023681640625,1301.1629638671875,1300.0234375,1298.8836669921875,1297.74365234375,1296.603515625,1295.463134765625,1294.322509765625,1293.181640625,1292.0406494140625,1290.8994140625,1289.7579345703125,1288.6163330078125,1287.474365234375,1286.332275390625,1285.1900634765625,1284.0474853515625,1282.90478515625,1281.7618408203125,1280.61865234375,1279.475341796875,1278.3316650390625,1277.1878662109375,1276.0439453125,1274.899658203125,1273.7552490234375,1272.610595703125,1271.4656982421875,1270.3206787109375,1269.17529296875,1268.02978515625,1266.8841552734375],\"xaxis\":\"x\",\"y\":[0.0021085468415100077,0.0021659093786835426,0.002099335093706627,0.0021197001314358505,0.001968341764734179,0.002118339981366756,0.0020762812791095234,0.0019374743246821403,0.0020308636841661763,0.0019661716344016983,0.0020236322251131443,0.0020061443716253443,0.0019594232733648534,0.001895473750065396,0.0019332923161874183,0.0019435032245485847,0.0019912472539223174,0.0019025299074416516,0.001887487331198635,0.0018839179306440353,0.0019122030500358157,0.0019141064330314872,0.0018477445494897338,0.0019161056864350726,0.0019022282556911394,0.0017694469285865811,0.0018568888842283489,0.001834998984347598,0.0018258108442857823,0.001822279849351523,0.0018095017835330035,0.0017907323152182545,0.001769057339248828,0.0017773159882263066,0.0017322783079332783,0.001852796963821497,0.0017261770529973287,0.0016644979652702134,0.00162338130325528,0.0017018134447777358,0.0016842186349941572,0.001667162616154325,0.0016864922526518918,0.0016666366153402278,0.0017298827373704515,0.001655208426840097,0.0016497943041492665,0.0015863095145803776,0.0016373916835298343,0.0014941591476661466,0.0015475308188063947,0.0015644936914145165,0.0014156051632447768,0.0015129651998626356,0.0015449497501608246,0.0014911837005314853,0.0014674149397152852,0.001511500011057163,0.0015626040826081577,0.001495879775432734,0.0015251313564546415,0.0014045533914123817,0.0015289121908202972,0.0015642758320744085,0.0014997044000409508,0.0014947588858221067,0.0015614920364785368,0.0015112717979053757,0.0015686055264927713,0.001600972616043275,0.001684215089930287,0.0015920688306436176,0.0016220125795386759,0.0017314161800776615,0.0019325295579900633,0.00218150337745264,0.0023349036924316404,0.0025719918906500277,0.0030267376291737104,0.0034601328785537422,0.004282190912604583,0.005606961866671633,0.00758624980816146,0.010223563058768485,0.014131456684498247,0.01708066456307847,0.010727401783570909,-0.010826316281748747,-0.014378808116712409,0.0023765211966362237,0.012438160614379185,0.013858852377779915,0.011453843731437555,0.008386302232230186,0.0060764441234121575,0.004497723797287715,0.0034000888339540546,0.0026404161575478767,0.002098646577183905,0.0016218683158929247,0.0012618792801119471,0.0009641434555008553,0.0007100997553169944,0.00031020253841693336,4.774787510670342e-05,-0.00017516934549992915,-0.00039459945550701186,-0.0005750771868916518,-0.0007929248400599523,-0.0007707246673952599,-0.0007783909756434265,-0.0007375796653101132,-0.0006490982019426184,-0.0006202491160901788,-0.0003267153661083616,-0.00016781942558141761,-4.798486680832064e-05,-7.305810716196473e-05,0.00021119389064703159,0.000244344055094388,0.00029695418994147926,0.00047536243584138155,0.0006157981972293792,0.0005761568240870706,0.000567781303948865,0.0004969101013590556,0.0005944750705110846,0.0006623564467707347,0.0005729610261095879,0.0005530369134882103,0.000537440846038129,0.0005990020601493977,0.00044838540420861746,0.0004884848214274893,0.0004656618869063437,0.0004558775861755352,0.00045909248186664845,0.0007214373380063873,0.0006409552286003184,0.000812041087716315,0.0006761898841453351,0.00076297217265764,0.0007986812933256239,0.000827432062155562,0.0008272009614694772,0.0007433911482902759,0.0008016354275164059,0.0007902206840616459,0.0008006132021313294,0.0007544302932277642,0.0009547848478164045,0.0009547779682337709,0.0009062730736501947,0.0008933915252536903,0.0009574732595415181,0.0009602305035805209,0.0009541793484853191,0.0009090478330779159,0.0009439341291721466,0.0009068252392368595,0.0009653069507341828,0.0010303756264223142,0.0011041314909662299,0.0010044944204589577,0.0010325012817187587,0.0010014699900594162,0.0010239305858718419,0.0010624975109827291,0.0010417869316280033,0.001129386442674751,0.0010161061672140346,0.001003431928707809,0.0011476577453655343,0.0011286351535892546,0.0012212680926574392,0.0011127028494710039,0.0010872243644767824,0.0011400552435252042,0.0011308031943870237,0.0011219140290713399,0.0011213527188830058,0.001107539646554963,0.0011296692380291153,0.0011725280197878375,0.0011884458342386426,0.0011103169679812668,0.0011371577641167692,0.0012735539094079478,0.0010594122544868812,0.0011420641770730744,0.0011560741499142477,0.0011084400643215256,0.0012171718765154047,0.0011825818064666678,0.0011639863237473897,0.0012078900560202148,0.0011937441288262366,0.0012770048965098206,0.0012557579682029175],\"yaxis\":\"y\",\"type\":\"scatter\"}],                        {\"template\":{\"data\":{\"histogram2dcontour\":[{\"type\":\"histogram2dcontour\",\"colorbar\":{\"outlinewidth\":0,\"ticks\":\"\"},\"colorscale\":[[0.0,\"#0d0887\"],[0.1111111111111111,\"#46039f\"],[0.2222222222222222,\"#7201a8\"],[0.3333333333333333,\"#9c179e\"],[0.4444444444444444,\"#bd3786\"],[0.5555555555555556,\"#d8576b\"],[0.6666666666666666,\"#ed7953\"],[0.7777777777777778,\"#fb9f3a\"],[0.8888888888888888,\"#fdca26\"],[1.0,\"#f0f921\"]]}],\"choropleth\":[{\"type\":\"choropleth\",\"colorbar\":{\"outlinewidth\":0,\"ticks\":\"\"}}],\"histogram2d\":[{\"type\":\"histogram2d\",\"colorbar\":{\"outlinewidth\":0,\"ticks\":\"\"},\"colorscale\":[[0.0,\"#0d0887\"],[0.1111111111111111,\"#46039f\"],[0.2222222222222222,\"#7201a8\"],[0.3333333333333333,\"#9c179e\"],[0.4444444444444444,\"#bd3786\"],[0.5555555555555556,\"#d8576b\"],[0.6666666666666666,\"#ed7953\"],[0.7777777777777778,\"#fb9f3a\"],[0.8888888888888888,\"#fdca26\"],[1.0,\"#f0f921\"]]}],\"heatmap\":[{\"type\":\"heatmap\",\"colorbar\":{\"outlinewidth\":0,\"ticks\":\"\"},\"colorscale\":[[0.0,\"#0d0887\"],[0.1111111111111111,\"#46039f\"],[0.2222222222222222,\"#7201a8\"],[0.3333333333333333,\"#9c179e\"],[0.4444444444444444,\"#bd3786\"],[0.5555555555555556,\"#d8576b\"],[0.6666666666666666,\"#ed7953\"],[0.7777777777777778,\"#fb9f3a\"],[0.8888888888888888,\"#fdca26\"],[1.0,\"#f0f921\"]]}],\"heatmapgl\":[{\"type\":\"heatmapgl\",\"colorbar\":{\"outlinewidth\":0,\"ticks\":\"\"},\"colorscale\":[[0.0,\"#0d0887\"],[0.1111111111111111,\"#46039f\"],[0.2222222222222222,\"#7201a8\"],[0.3333333333333333,\"#9c179e\"],[0.4444444444444444,\"#bd3786\"],[0.5555555555555556,\"#d8576b\"],[0.6666666666666666,\"#ed7953\"],[0.7777777777777778,\"#fb9f3a\"],[0.8888888888888888,\"#fdca26\"],[1.0,\"#f0f921\"]]}],\"contourcarpet\":[{\"type\":\"contourcarpet\",\"colorbar\":{\"outlinewidth\":0,\"ticks\":\"\"}}],\"contour\":[{\"type\":\"contour\",\"colorbar\":{\"outlinewidth\":0,\"ticks\":\"\"},\"colorscale\":[[0.0,\"#0d0887\"],[0.1111111111111111,\"#46039f\"],[0.2222222222222222,\"#7201a8\"],[0.3333333333333333,\"#9c179e\"],[0.4444444444444444,\"#bd3786\"],[0.5555555555555556,\"#d8576b\"],[0.6666666666666666,\"#ed7953\"],[0.7777777777777778,\"#fb9f3a\"],[0.8888888888888888,\"#fdca26\"],[1.0,\"#f0f921\"]]}],\"surface\":[{\"type\":\"surface\",\"colorbar\":{\"outlinewidth\":0,\"ticks\":\"\"},\"colorscale\":[[0.0,\"#0d0887\"],[0.1111111111111111,\"#46039f\"],[0.2222222222222222,\"#7201a8\"],[0.3333333333333333,\"#9c179e\"],[0.4444444444444444,\"#bd3786\"],[0.5555555555555556,\"#d8576b\"],[0.6666666666666666,\"#ed7953\"],[0.7777777777777778,\"#fb9f3a\"],[0.8888888888888888,\"#fdca26\"],[1.0,\"#f0f921\"]]}],\"mesh3d\":[{\"type\":\"mesh3d\",\"colorbar\":{\"outlinewidth\":0,\"ticks\":\"\"}}],\"scatter\":[{\"marker\":{\"line\":{\"color\":\"#283442\"}},\"type\":\"scatter\"}],\"parcoords\":[{\"type\":\"parcoords\",\"line\":{\"colorbar\":{\"outlinewidth\":0,\"ticks\":\"\"}}}],\"scatterpolargl\":[{\"type\":\"scatterpolargl\",\"marker\":{\"colorbar\":{\"outlinewidth\":0,\"ticks\":\"\"}}}],\"bar\":[{\"error_x\":{\"color\":\"#f2f5fa\"},\"error_y\":{\"color\":\"#f2f5fa\"},\"marker\":{\"line\":{\"color\":\"rgb(17,17,17)\",\"width\":0.5},\"pattern\":{\"fillmode\":\"overlay\",\"size\":10,\"solidity\":0.2}},\"type\":\"bar\"}],\"scattergeo\":[{\"type\":\"scattergeo\",\"marker\":{\"colorbar\":{\"outlinewidth\":0,\"ticks\":\"\"}}}],\"scatterpolar\":[{\"type\":\"scatterpolar\",\"marker\":{\"colorbar\":{\"outlinewidth\":0,\"ticks\":\"\"}}}],\"histogram\":[{\"marker\":{\"pattern\":{\"fillmode\":\"overlay\",\"size\":10,\"solidity\":0.2}},\"type\":\"histogram\"}],\"scattergl\":[{\"marker\":{\"line\":{\"color\":\"#283442\"}},\"type\":\"scattergl\"}],\"scatter3d\":[{\"type\":\"scatter3d\",\"line\":{\"colorbar\":{\"outlinewidth\":0,\"ticks\":\"\"}},\"marker\":{\"colorbar\":{\"outlinewidth\":0,\"ticks\":\"\"}}}],\"scattermapbox\":[{\"type\":\"scattermapbox\",\"marker\":{\"colorbar\":{\"outlinewidth\":0,\"ticks\":\"\"}}}],\"scatterternary\":[{\"type\":\"scatterternary\",\"marker\":{\"colorbar\":{\"outlinewidth\":0,\"ticks\":\"\"}}}],\"scattercarpet\":[{\"type\":\"scattercarpet\",\"marker\":{\"colorbar\":{\"outlinewidth\":0,\"ticks\":\"\"}}}],\"carpet\":[{\"aaxis\":{\"endlinecolor\":\"#A2B1C6\",\"gridcolor\":\"#506784\",\"linecolor\":\"#506784\",\"minorgridcolor\":\"#506784\",\"startlinecolor\":\"#A2B1C6\"},\"baxis\":{\"endlinecolor\":\"#A2B1C6\",\"gridcolor\":\"#506784\",\"linecolor\":\"#506784\",\"minorgridcolor\":\"#506784\",\"startlinecolor\":\"#A2B1C6\"},\"type\":\"carpet\"}],\"table\":[{\"cells\":{\"fill\":{\"color\":\"#506784\"},\"line\":{\"color\":\"rgb(17,17,17)\"}},\"header\":{\"fill\":{\"color\":\"#2a3f5f\"},\"line\":{\"color\":\"rgb(17,17,17)\"}},\"type\":\"table\"}],\"barpolar\":[{\"marker\":{\"line\":{\"color\":\"rgb(17,17,17)\",\"width\":0.5},\"pattern\":{\"fillmode\":\"overlay\",\"size\":10,\"solidity\":0.2}},\"type\":\"barpolar\"}],\"pie\":[{\"automargin\":true,\"type\":\"pie\"}]},\"layout\":{\"autotypenumbers\":\"strict\",\"colorway\":[\"#636efa\",\"#EF553B\",\"#00cc96\",\"#ab63fa\",\"#FFA15A\",\"#19d3f3\",\"#FF6692\",\"#B6E880\",\"#FF97FF\",\"#FECB52\"],\"font\":{\"color\":\"#f2f5fa\"},\"hovermode\":\"closest\",\"hoverlabel\":{\"align\":\"left\"},\"paper_bgcolor\":\"rgb(17,17,17)\",\"plot_bgcolor\":\"rgb(17,17,17)\",\"polar\":{\"bgcolor\":\"rgb(17,17,17)\",\"angularaxis\":{\"gridcolor\":\"#506784\",\"linecolor\":\"#506784\",\"ticks\":\"\"},\"radialaxis\":{\"gridcolor\":\"#506784\",\"linecolor\":\"#506784\",\"ticks\":\"\"}},\"ternary\":{\"bgcolor\":\"rgb(17,17,17)\",\"aaxis\":{\"gridcolor\":\"#506784\",\"linecolor\":\"#506784\",\"ticks\":\"\"},\"baxis\":{\"gridcolor\":\"#506784\",\"linecolor\":\"#506784\",\"ticks\":\"\"},\"caxis\":{\"gridcolor\":\"#506784\",\"linecolor\":\"#506784\",\"ticks\":\"\"}},\"coloraxis\":{\"colorbar\":{\"outlinewidth\":0,\"ticks\":\"\"}},\"colorscale\":{\"sequential\":[[0.0,\"#0d0887\"],[0.1111111111111111,\"#46039f\"],[0.2222222222222222,\"#7201a8\"],[0.3333333333333333,\"#9c179e\"],[0.4444444444444444,\"#bd3786\"],[0.5555555555555556,\"#d8576b\"],[0.6666666666666666,\"#ed7953\"],[0.7777777777777778,\"#fb9f3a\"],[0.8888888888888888,\"#fdca26\"],[1.0,\"#f0f921\"]],\"sequentialminus\":[[0.0,\"#0d0887\"],[0.1111111111111111,\"#46039f\"],[0.2222222222222222,\"#7201a8\"],[0.3333333333333333,\"#9c179e\"],[0.4444444444444444,\"#bd3786\"],[0.5555555555555556,\"#d8576b\"],[0.6666666666666666,\"#ed7953\"],[0.7777777777777778,\"#fb9f3a\"],[0.8888888888888888,\"#fdca26\"],[1.0,\"#f0f921\"]],\"diverging\":[[0,\"#8e0152\"],[0.1,\"#c51b7d\"],[0.2,\"#de77ae\"],[0.3,\"#f1b6da\"],[0.4,\"#fde0ef\"],[0.5,\"#f7f7f7\"],[0.6,\"#e6f5d0\"],[0.7,\"#b8e186\"],[0.8,\"#7fbc41\"],[0.9,\"#4d9221\"],[1,\"#276419\"]]},\"xaxis\":{\"gridcolor\":\"#283442\",\"linecolor\":\"#506784\",\"ticks\":\"\",\"title\":{\"standoff\":15},\"zerolinecolor\":\"#283442\",\"automargin\":true,\"zerolinewidth\":2},\"yaxis\":{\"gridcolor\":\"#283442\",\"linecolor\":\"#506784\",\"ticks\":\"\",\"title\":{\"standoff\":15},\"zerolinecolor\":\"#283442\",\"automargin\":true,\"zerolinewidth\":2},\"scene\":{\"xaxis\":{\"backgroundcolor\":\"rgb(17,17,17)\",\"gridcolor\":\"#506784\",\"linecolor\":\"#506784\",\"showbackground\":true,\"ticks\":\"\",\"zerolinecolor\":\"#C8D4E3\",\"gridwidth\":2},\"yaxis\":{\"backgroundcolor\":\"rgb(17,17,17)\",\"gridcolor\":\"#506784\",\"linecolor\":\"#506784\",\"showbackground\":true,\"ticks\":\"\",\"zerolinecolor\":\"#C8D4E3\",\"gridwidth\":2},\"zaxis\":{\"backgroundcolor\":\"rgb(17,17,17)\",\"gridcolor\":\"#506784\",\"linecolor\":\"#506784\",\"showbackground\":true,\"ticks\":\"\",\"zerolinecolor\":\"#C8D4E3\",\"gridwidth\":2}},\"shapedefaults\":{\"line\":{\"color\":\"#f2f5fa\"}},\"annotationdefaults\":{\"arrowcolor\":\"#f2f5fa\",\"arrowhead\":0,\"arrowwidth\":1},\"geo\":{\"bgcolor\":\"rgb(17,17,17)\",\"landcolor\":\"rgb(17,17,17)\",\"subunitcolor\":\"#506784\",\"showland\":true,\"showlakes\":true,\"lakecolor\":\"rgb(17,17,17)\"},\"title\":{\"x\":0.05},\"updatemenudefaults\":{\"bgcolor\":\"#506784\",\"borderwidth\":0},\"sliderdefaults\":{\"bgcolor\":\"#C8D4E3\",\"borderwidth\":1,\"bordercolor\":\"rgb(17,17,17)\",\"tickwidth\":0},\"mapbox\":{\"style\":\"dark\"}}},\"xaxis\":{\"anchor\":\"y\",\"domain\":[0.0,1.0],\"title\":{\"text\":\"x\"}},\"yaxis\":{\"anchor\":\"x\",\"domain\":[0.0,1.0],\"title\":{\"text\":\"y\"}},\"legend\":{\"tracegroupgap\":0},\"margin\":{\"t\":60}},                        {\"responsive\": true}                    ).then(function(){\n                            \nvar gd = document.getElementById('d43b9e7a-73aa-4283-8a9a-1ec3bfb6f025');\nvar x = new MutationObserver(function (mutations, observer) {{\n        var display = window.getComputedStyle(gd).display;\n        if (!display || display === 'none') {{\n            console.log([gd, 'removed!']);\n            Plotly.purge(gd);\n            observer.disconnect();\n        }}\n}});\n\n// Listen for the removal of the full notebook cells\nvar notebookContainer = gd.closest('#notebook-container');\nif (notebookContainer) {{\n    x.observe(notebookContainer, {childList: true});\n}}\n\n// Listen for the clearing of the current output cell\nvar outputEl = gd.closest('.output');\nif (outputEl) {{\n    x.observe(outputEl, {childList: true});\n}}\n\n                        })                };                });            </script>        </div>"
     },
     "metadata": {},
     "output_type": "display_data"
    }
   ],
   "source": [
    "new_base_vectors = np.dot(map_a.base_vectors[:5].T, np.linalg.inv(t_matrix)).T\n",
    "new_vectors = np.dot(t_matrix, map_a.vectors[:5])\n",
    "\n",
    "px.line(x = map_a.raman_shift, y = new_base_vectors[0]).show()\n",
    "# px.imshow(np.reshape(new_vectors[0], map_a.shape)).show()\n",
    "px.line(x = map_a.raman_shift, y = new_base_vectors[1]).show()\n",
    "# px.imshow(np.reshape(new_vectors[1], map_a.shape)).show()\n",
    "px.line(x = map_a.raman_shift, y = new_base_vectors[2]).show()\n",
    "# px.imshow(np.reshape(new_vectors[2], map_a.shape)).show()\n",
    "px.line(x = map_a.raman_shift, y = new_base_vectors[3]).show()\n",
    "# px.imshow(np.reshape(new_vectors[3], map_a.shape)).show()\n",
    "px.line(x = map_a.raman_shift, y = new_base_vectors[4]).show()\n",
    "# px.imshow(np.reshape(new_vectors[4], map_a.shape)).show()\n",
    "# px.line(x = map_a.raman_shift, y = new_base_vectors[5]).show()\n",
    "# px.imshow(np.reshape(new_vectors[5], map_a.shape)).show()"
   ],
   "metadata": {
    "collapsed": false,
    "ExecuteTime": {
     "end_time": "2024-04-15T20:53:28.249895Z",
     "start_time": "2024-04-15T20:53:27.944865Z"
    }
   },
   "id": "43615d5a6be9d2c9",
   "execution_count": 49
  },
  {
   "cell_type": "code",
   "outputs": [],
   "source": [
    "map_a.plotSpectrum(map_a.posToId(11, 10))"
   ],
   "metadata": {
    "collapsed": false
   },
   "id": "6ca043ac59622001",
   "execution_count": null
  },
  {
   "cell_type": "code",
   "outputs": [],
   "source": [],
   "metadata": {
    "collapsed": false
   },
   "id": "1a99a6823a5a77b2"
  }
 ],
 "metadata": {
  "kernelspec": {
   "display_name": "Python 3",
   "language": "python",
   "name": "python3"
  },
  "language_info": {
   "codemirror_mode": {
    "name": "ipython",
    "version": 2
   },
   "file_extension": ".py",
   "mimetype": "text/x-python",
   "name": "python",
   "nbconvert_exporter": "python",
   "pygments_lexer": "ipython2",
   "version": "2.7.6"
  }
 },
 "nbformat": 4,
 "nbformat_minor": 5
}
