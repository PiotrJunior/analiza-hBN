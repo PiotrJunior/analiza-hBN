{
 "cells": [
  {
   "cell_type": "code",
   "execution_count": null,
   "id": "initial_id",
   "metadata": {
    "collapsed": true
   },
   "outputs": [],
   "source": [
    "import numpy as np\n",
    "from numpy.linalg import eigh, eig\n",
    "import pandas as pd\n",
    "import plotly.express as px\n",
    "from plotly import graph_objects as go\n",
    "from scipy.optimize import curve_fit"
   ]
  },
  {
   "cell_type": "code",
   "outputs": [],
   "source": [
    "def lorentz(X, mean, sigma, scale, offset):\n",
    "    return scale/(np.pi * sigma * (1 + ((X - mean)/sigma)**2)) + offset\n",
    "\n",
    "def lorentz_diff1(X, mean, sigma, scale, offset):\n",
    "    return -(2 * sigma * (-mean + X)) / (np.pi * (mean**2 + sigma**2 - 2*mean*X + np.power(X, 2))**2) * scale + offset\n",
    "\n",
    "def lorentz_diff2(X, mean, sigma, scale, offset):\n",
    "    return -(2 * sigma * (sigma**2 - 3 * np.power(mean - X, 2))) / (np.pi * np.power(sigma**2 + np.power(mean - X, 2), 3)) * scale + offset\n",
    "\n",
    "def lorentz_diff3(X, mean, sigma, scale, offset):\n",
    "    return (-(48 * np.power(-mean + X, 3))/(sigma**7 * np.pi * np.power(1 + np.power(-mean + X, 2)/sigma**2, 4)) + (24 * (-mean + X))/(sigma**5 * np.pi * np.power(1 + np.power(-mean + X, 2)/sigma**2, 3))) * scale + offset\n",
    "\n",
    "def lorentz_spread(X, mean, sigma, scale, offset):\n",
    "    return (mean**2 - 2 * mean * X + np.power(X, 2) - sigma**2)/(np.pi * (mean**2 - 2 * mean * X + np.power(X, 2) + sigma**2)**2) * scale + offset\n",
    "\n",
    "def line(X, offset):\n",
    "    return np.ones(len(X)) * offset\n",
    "\n",
    "# def both_lorentz(X, mean1, sigma1, scale1, offset1, mean2, sigma2, scale2, offset2):\n",
    "#     return lorentz(X, mean1, sigma1, scale1, offset1) + lorentz_shift(X, mean2, sigma2, scale2, offset2)\n",
    "\n",
    "class Map:\n",
    "    def __init__(self, src, x, y, **kwargs):\n",
    "        raw_data = np.loadtxt(src, delimiter='\\t')\n",
    "        if 'begin' in kwargs and 'end' in kwargs:\n",
    "            raw_data = raw_data[np.r_[0:1, (kwargs['begin']+2):(kwargs['end']+2)]]\n",
    "        self.shape = (x, y)\n",
    "        self.raman_shift = raw_data.T[0][2:]\n",
    "        self.data_matrix = raw_data[2:].T[1:]\n",
    "        self.data = pd.DataFrame(raw_data[2:], columns = ['RamanShift'] + list(np.arange(0, x*y, 1)))\n",
    "        self.map = np.array([raw_data[0][1:], raw_data[1][1:]]).T\n",
    "\n",
    "        self.cov_matrix = np.cov(self.data_matrix)\n",
    "        \n",
    "        eigenvalues, eigenvectors = eigh(self.cov_matrix)\n",
    "        idx = np.flip(eigenvalues.argsort())\n",
    "        self.weights = eigenvalues[idx] / sum(eigenvalues)\n",
    "        self.vectors = eigenvectors.T[idx]\n",
    "        \n",
    "        self.base_vectors = np.dot(self.vectors, self.data_matrix)\n",
    "    \n",
    "    def reconstruct(self, count):\n",
    "        return np.dot(self.vectors[:count].T, self.base_vectors[:count])\n",
    "    \n",
    "    def plotComponent(self, num):\n",
    "        fig = px.imshow(np.reshape(self.vectors[num], self.shape), title ='Komponent ' + str(num))\n",
    "        return fig\n",
    "    \n",
    "    def plotPhysicalComponent(self, v):\n",
    "        img = np.dot(np.array(v), self.vectors[:len(v)])\n",
    "        fig = px.imshow(np.reshape(img, self.shape), title ='Peak')\n",
    "        return fig\n",
    "    \n",
    "    def plotCovMatrix(self):\n",
    "        fig = px.imshow(self.cov_matrix, title = 'Macierz kowariancji')\n",
    "        return fig\n",
    "    \n",
    "    def plotWeights(self, cum, log):\n",
    "        if cum:\n",
    "            fig = px.bar(np.cumsum(self.weights), title = 'Wagi', log_y=log)\n",
    "        else:\n",
    "            fig = px.bar(self.weights, title = 'Wagi', log_y=log)\n",
    "        return fig\n",
    "    \n",
    "    def plotSpectrums(self, ids, **kwargs):\n",
    "        fig = go.Figure()\n",
    "        if 'base' not in kwargs:\n",
    "            for num in ids:\n",
    "                fig.add_scatter(x = self.raman_shift, y = self.data_matrix[num], mode='lines', name = 'ID: ' + str(num))\n",
    "        else:\n",
    "            r = self.reconstruct(kwargs['base'])\n",
    "            for num in ids:\n",
    "                fig.add_scatter(x = self.raman_shift, y = r[num], mode='lines', name = 'ID: ' + str(num))\n",
    "        fig.update_layout(hovermode=\"x\")\n",
    "        return fig\n",
    "    \n",
    "    def plotSpectrum(self, num, **kwargs):\n",
    "        return self.plotSpectrums([num], **kwargs)\n",
    "    \n",
    "    def plotBaseVectors(self, count):\n",
    "        fig = go.Figure()\n",
    "        for num in range(count):\n",
    "            fig.add_scatter(x = self.raman_shift, y = self.base_vectors[num], mode='lines', name = 'Num: ' + str(num))\n",
    "        fig.update_layout(hovermode=\"x\")\n",
    "        return fig\n",
    "            \n",
    "    def locToId(self, x, y):\n",
    "        return np.argmin(list(map(lambda e: np.linalg.norm([x, y] - e), self.map)))\n",
    "    \n",
    "    def posToId(self, x, y):\n",
    "        return self.shape[0] * y + x\n",
    "    \n",
    "    def draw_curve(self, curve, params, a, b, **draw):\n",
    "        fig = go.Figure()\n",
    "        if 'spectrum' in draw:\n",
    "            fig.add_scatter(x = self.raman_shift, y = self.data_matrix[draw['spectrum']], mode='lines')\n",
    "        if 'base_vector' in draw:\n",
    "            fig.add_scatter(x = self.raman_shift, y = self.base_vectors[draw['base_vector']], mode='lines')\n",
    "        data_slice = self.data[(self.data['RamanShift'] >= a) & (self.data['RamanShift'] <= b)]['RamanShift']\n",
    "        fig.add_scatter(mode='lines', x = data_slice, y = curve(data_slice, *params))\n",
    "        fig.update_layout(hovermode=\"x\")\n",
    "        return fig\n",
    "    \n",
    "    def fit_curve(self, curve, p0, a, b, seek, **plot):\n",
    "        y = 0\n",
    "        if 'spectrum' in plot:\n",
    "            y = self.data_matrix[plot['spectrum'], (self.data['RamanShift'] >= a) & (self.data['RamanShift'] <= b)]\n",
    "        if 'base_vector' in plot:\n",
    "            y = self.base_vectors[plot['base_vector'], (self.data['RamanShift'] >= a) & (self.data['RamanShift'] <= b)]\n",
    "        data_slice = self.data[(self.data['RamanShift'] >= a) & (self.data['RamanShift'] <= b)]['RamanShift']\n",
    "        \n",
    "        bounds = 0\n",
    "        if 'bounds' in plot and plot['bounds'] == 'inf':\n",
    "            bounds = ((-np.inf, -np.inf, -np.inf, -np.inf), (np.inf, np.inf, np.inf, np.inf))\n",
    "        else:\n",
    "            bounds = ((p0[0]-2, -np.inf, -np.inf, -np.inf), (p0[0]+2, np.inf, np.inf, np.inf))\n",
    "        \n",
    "        param, cov = curve_fit(curve, data_slice, y, p0=p0, bounds = bounds)\n",
    "        print(param)\n",
    "        if 'draw' in plot and plot['draw'] == True:\n",
    "            self.draw_curve(curve, param, a, b, **plot).show()\n",
    "        return param[seek]"
   ],
   "metadata": {
    "collapsed": false
   },
   "id": "fd1ddb3ce756353e",
   "execution_count": null
  },
  {
   "cell_type": "code",
   "outputs": [],
   "source": [
    "map_a = Map('../data/GA25_10B_532nm_100%_1x3sec_x100_xc1200_A_trojkat1_mapa_10x10um_step_0.3um_data.txt', 34, 34, begin=250, end=450)"
   ],
   "metadata": {
    "collapsed": false
   },
   "id": "d57f5439335ec773",
   "execution_count": null
  },
  {
   "cell_type": "code",
   "outputs": [],
   "source": [
    "map_a.plotWeights(False, True).show()"
   ],
   "metadata": {
    "collapsed": false
   },
   "id": "25c6261a38ef93d3",
   "execution_count": null
  },
  {
   "cell_type": "code",
   "outputs": [],
   "source": [
    "map_a.plotBaseVectors(7).show()"
   ],
   "metadata": {
    "collapsed": false
   },
   "id": "625b502433d4bf56",
   "execution_count": null
  },
  {
   "cell_type": "code",
   "outputs": [],
   "source": [
    "## Map A\n",
    "t_matrix = np.zeros((7,7))\n",
    "\n",
    "draw = False\n",
    "# for i in range(6):\n",
    "#     t_matrix[0][i] = np.average(map_a.base_vectors[i], weights=((map_a.raman_shift < 1310) | (map_a.raman_shift > 1420)) )\n",
    "    # t_matrix[0][i] = map_a.draw_curve(line, [np.average(map_a.base_vectors[i], weights=((map_a.raman_shift < 1310) | (map_a.raman_shift > 1420)) )], 1200, 1500, base_vector = i, draw = True, bounds = 'inf').show()\n",
    "\n",
    "t_matrix[0][0] = map_a.fit_curve(lorentz, (1392, 2.5, -17 * 10**5, -7000), 1380, 1400, 2, base_vector = 0, draw = draw)\n",
    "\n",
    "t_matrix[1][0] = map_a.fit_curve(lorentz, (1345, 14,  -5 * 10**5, -10000), 1330, 1360, 2, base_vector = 0, draw = draw)\n",
    "t_matrix[1][3] = map_a.fit_curve(lorentz, (1345, 16,  3.2 * 10**5, -4000), 1330, 1360, 2, base_vector = 3, draw = draw)\n",
    "t_matrix[1][5] = map_a.fit_curve(lorentz, (1345, 14,  -5 * 10**5, -10000), 1330, 1360, 2, base_vector = 5, draw = draw)\n",
    "t_matrix[1][6] = map_a.fit_curve(lorentz, (1345, 16,  3.2 * 10**5, -4000), 1330, 1360, 2, base_vector = 6, draw = draw)\n",
    "\n",
    "t_matrix[2][1] = map_a.fit_curve(lorentz, (1369, 10,  0.8 * 10**5,  1000), 1355, 1380, 2, base_vector = 1, draw = draw)\n",
    "t_matrix[2][2] = map_a.fit_curve(lorentz, (1369, 10, -2.4 * 10**5, -1400), 1355, 1380, 2, base_vector = 2, draw = draw)\n",
    "\n",
    "\n",
    "t_matrix[3][1] = map_a.fit_curve(lorentz_diff1, (1392, 2.5, -17 * 10**5, -7000), 1385, 1400, 2, base_vector = 1, draw = draw, bounds = 'inf')\n",
    "t_matrix[3][2] = map_a.fit_curve(lorentz_diff1, (1392, 2.5, -17 * 10**5, -7000), 1385, 1400, 2, base_vector = 2, draw = draw, bounds = 'inf')\n",
    "t_matrix[3][3] = map_a.fit_curve(lorentz_diff1, (1392, 2.5, -17 * 10**5, -7000), 1385, 1400, 2, base_vector = 3, draw = draw, bounds = 'inf')\n",
    "\n",
    "t_matrix[4][4] = map_a.fit_curve(lorentz_diff2, [ 1392, 3, 10.8e+04, -1400], 1380, 1400, 2, base_vector = 4, draw = draw, bounds = 'inf')\n",
    "\n",
    "t_matrix[5][5] = map_a.fit_curve(lorentz_diff3, [ 1392, 3, 10.8e+04, -1400], 1380, 1400, 2, base_vector = 5, draw = True, bounds = 'inf')\n",
    "t_matrix[5][6] = map_a.fit_curve(lorentz_diff3, [ 1392, 3, 10.8e+04, -1400], 1380, 1400, 2, base_vector = 5, draw = True, bounds = 'inf')\n",
    "\n",
    "t_matrix[6][5] =  t_matrix[5][5]\n",
    "t_matrix[6][6] = -t_matrix[5][6]\n",
    "\n",
    "t_matrix"
   ],
   "metadata": {
    "collapsed": false
   },
   "id": "c42113a3b53681f8",
   "execution_count": null
  },
  {
   "cell_type": "code",
   "outputs": [],
   "source": [
    "map_a.draw_curve(lorentz_diff2, [ 1.39113772e+03, 3e+00, 10.79995135e+04, -1.38837064e+03], 1380, 1400, base_vector = 4, draw = draw, bounds = 'inf').write_html('test.html')\n"
   ],
   "metadata": {
    "collapsed": false
   },
   "id": "bcaea3c95e45b647",
   "execution_count": null
  },
  {
   "cell_type": "code",
   "outputs": [],
   "source": [
    "refit_matrix = np.array([\n",
    "    [1, 0, 0, 0, 0, 0, 0],\n",
    "    [-.0, 1, 0, -17/50 + .15, -.3, .25, 0],\n",
    "    [.05, 0, 1, .1, -.34, 0, 0],\n",
    "    [0, 0, 0, 1, 0, 0, 0],\n",
    "    [0, 0, 0, 0, 1, 0, 0],\n",
    "    [0, 0, 0, 0, 0, 1, 0],\n",
    "    [0, 0, 0, 0, 0, 0, 1],\n",
    "])\n",
    "\n",
    "refit_matrix2 = np.array([\n",
    "    [1, 0, 0, 0, 0, 0, 0],\n",
    "    [0, 1, 0, 0, 0, 0, 0],\n",
    "    [0, 0, 1, 0, 0, 0, 0],\n",
    "    [0, 0, 0, 1, 0, 0, 0],\n",
    "    [0, 0, 0, 0, 1, 0, 0],\n",
    "    [0, -1.8, 0, 0, 0, 1, 0],\n",
    "    [0, -2, 0, -.05, -.22, 0, 1],\n",
    "])\n",
    "\n",
    "tmp = np.dot(np.linalg.inv(t_matrix), np.dot(refit_matrix2.T, refit_matrix.T))\n",
    "\n",
    "new_base_vectors = np.dot(map_a.base_vectors[:7].T, tmp).T\n",
    "new_vectors = np.dot(tmp, map_a.vectors[:7])\n",
    "\n",
    "px.line(x = map_a.raman_shift, y = new_base_vectors[0]).show()\n",
    "# px.imshow(np.reshape(new_vectors[0], map_a.shape)).show()\n",
    "px.line(x = map_a.raman_shift, y = new_base_vectors[1]).show()\n",
    "# px.imshow(np.reshape(new_vectors[1], map_a.shape)).show()\n",
    "px.line(x = map_a.raman_shift, y = new_base_vectors[2]).show()\n",
    "# px.imshow(np.reshape(new_vectors[2], map_a.shape)).show()\n",
    "px.line(x = map_a.raman_shift, y = new_base_vectors[3]).show()\n",
    "# px.imshow(np.reshape(new_vectors[3], map_a.shape)).show()\n",
    "px.line(x = map_a.raman_shift, y = new_base_vectors[4]).show()\n",
    "# px.imshow(np.reshape(new_vectors[4], map_a.shape)).show()\n",
    "px.line(x = map_a.raman_shift, y = new_base_vectors[5]).show()\n",
    "px.imshow(np.reshape(new_vectors[5], map_a.shape)).show()\n",
    "px.line(x = map_a.raman_shift, y = new_base_vectors[6]).show()\n",
    "px.imshow(np.reshape(new_vectors[6], map_a.shape)).show()\n"
   ],
   "metadata": {
    "collapsed": false
   },
   "id": "43615d5a6be9d2c9",
   "execution_count": null
  },
  {
   "cell_type": "code",
   "outputs": [],
   "source": [
    "map_a.plotSpectrum(map_a.posToId(11, 10))"
   ],
   "metadata": {
    "collapsed": false
   },
   "id": "6ca043ac59622001",
   "execution_count": null
  }
 ],
 "metadata": {
  "kernelspec": {
   "display_name": "Python 3",
   "language": "python",
   "name": "python3"
  },
  "language_info": {
   "codemirror_mode": {
    "name": "ipython",
    "version": 2
   },
   "file_extension": ".py",
   "mimetype": "text/x-python",
   "name": "python",
   "nbconvert_exporter": "python",
   "pygments_lexer": "ipython2",
   "version": "2.7.6"
  }
 },
 "nbformat": 4,
 "nbformat_minor": 5
}
