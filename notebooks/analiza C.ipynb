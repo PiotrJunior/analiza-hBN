{
 "cells": [
  {
   "cell_type": "code",
   "execution_count": null,
   "id": "initial_id",
   "metadata": {
    "collapsed": true
   },
   "outputs": [],
   "source": [
    "import numpy as np\n",
    "from numpy.linalg import eigh, eig\n",
    "import pandas as pd\n",
    "import plotly.express as px\n",
    "from plotly import graph_objects as go\n",
    "from scipy.optimize import curve_fit"
   ]
  },
  {
   "cell_type": "code",
   "outputs": [],
   "source": [
    "def lorentz(X, mean, sigma, scale, offset):\n",
    "    return scale/(np.pi * sigma * (1 + ((X - mean)/sigma)**2)) + offset\n",
    "\n",
    "def lorentz_shift(X, mean, sigma, scale, offset):\n",
    "    return -(2 * sigma * (-mean + X)) / (np.pi * (mean**2 + sigma**2 - 2*mean*X + np.power(X, 2))**2)*scale + offset\n",
    "\n",
    "def lorentz_spread(X, mean, sigma, scale, offset):\n",
    "    return (mean**2 - 2 * mean * X + np.power(X, 2) - sigma**2)/(np.pi * (mean**2 - 2 * mean * X + np.power(X, 2) + sigma**2)**2) * scale + offset\n",
    "\n",
    "def both_lorentz(X, mean1, sigma1, scale1, offset1, mean2, sigma2, scale2, offset2):\n",
    "    return lorentz(X, mean1, sigma1, scale1, offset1) + lorentz_shift(X, mean2, sigma2, scale2, offset2)\n",
    "\n",
    "class Map:\n",
    "    def __init__(self, src, x, y, **kwargs):\n",
    "        raw_data = np.loadtxt(src, delimiter='\\t')\n",
    "        if 'begin' in kwargs and 'end' in kwargs:\n",
    "            raw_data = raw_data[np.r_[0:1, (kwargs['begin']+2):(kwargs['end']+2)]]\n",
    "        self.shape = (x, y)\n",
    "        self.raman_shift = raw_data.T[0][2:]\n",
    "        self.data_matrix = raw_data[2:].T[1:]\n",
    "        self.data = pd.DataFrame(raw_data[2:], columns = ['RamanShift'] + list(np.arange(0, x*y, 1)))\n",
    "        self.map = np.array([raw_data[0][1:], raw_data[1][1:]]).T\n",
    "\n",
    "        self.cov_matrix = np.cov(self.data_matrix)\n",
    "        \n",
    "        eigenvalues, eigenvectors = eigh(self.cov_matrix)\n",
    "        idx = np.flip(eigenvalues.argsort())\n",
    "        self.weights = eigenvalues[idx] / sum(eigenvalues)\n",
    "        self.vectors = eigenvectors.T[idx]\n",
    "        \n",
    "        self.base_vectors = np.dot(self.vectors, self.data_matrix)\n",
    "    \n",
    "    def reconstruct(self, count):\n",
    "        return np.dot(self.vectors[:count].T, self.base_vectors[:count])\n",
    "    \n",
    "    def plotComponent(self, num):\n",
    "        fig = px.imshow(np.reshape(self.vectors[num], self.shape), title ='Komponent ' + str(num))\n",
    "        return fig\n",
    "    \n",
    "    def plotPhysicalComponent(self, v):\n",
    "        img = np.dot(np.array(v), self.vectors[:len(v)])\n",
    "        fig = px.imshow(np.reshape(img, self.shape), title ='Peak')\n",
    "        return fig\n",
    "    \n",
    "    def plotCovMatrix(self):\n",
    "        fig = px.imshow(self.cov_matrix, title = 'Macierz kowariancji')\n",
    "        return fig\n",
    "    \n",
    "    def plotWeights(self, cum):\n",
    "        if cum:\n",
    "            fig = px.bar(np.log(np.cumsum(self.weights)), title = 'Wagi')\n",
    "        else:\n",
    "            fig = px.bar(np.log(self.weights), title = 'Wagi')\n",
    "        return fig\n",
    "    \n",
    "    def plotSpectrums(self, ids, **kwargs):\n",
    "        fig = go.Figure()\n",
    "        if 'base' not in kwargs:\n",
    "            for num in ids:\n",
    "                fig.add_scatter(x = self.raman_shift, y = self.data_matrix[num], mode='lines', name = 'ID: ' + str(num))\n",
    "        else:\n",
    "            r = self.reconstruct(kwargs['base'])\n",
    "            for num in ids:\n",
    "                fig.add_scatter(x = self.raman_shift, y = r[num], mode='lines', name = 'ID: ' + str(num))\n",
    "        fig.update_layout(hovermode=\"x\")\n",
    "        return fig\n",
    "    \n",
    "    def plotSpectrum(self, num, **kwargs):\n",
    "        return self.plotSpectrums([num], **kwargs)\n",
    "    \n",
    "    def plotBaseVectors(self, count):\n",
    "        fig = go.Figure()\n",
    "        for num in range(count):\n",
    "            fig.add_scatter(x = self.raman_shift, y = self.base_vectors[num], mode='lines', name = 'Num: ' + str(num))\n",
    "        fig.update_layout(hovermode=\"x\")\n",
    "        return fig\n",
    "            \n",
    "    def locToId(self, x, y):\n",
    "        return np.argmin(list(map(lambda e: np.linalg.norm([x, y] - e), self.map)))\n",
    "    \n",
    "    def posToId(self, x, y):\n",
    "        return self.shape[0] * y + x\n",
    "    \n",
    "    def draw_curve(self, curve, params, a, b, **draw):\n",
    "        fig = go.Figure()\n",
    "        if 'spectrum' in draw:\n",
    "            fig.add_scatter(x = self.raman_shift, y = self.data_matrix[draw['spectrum']], mode='lines')\n",
    "        if 'base_vector' in draw:\n",
    "            fig.add_scatter(x = self.raman_shift, y = self.base_vectors[draw['base_vector']], mode='lines')\n",
    "        data_slice = self.data[(self.data['RamanShift'] >= a) & (self.data['RamanShift'] <= b)]['RamanShift']\n",
    "        fig.add_scatter(mode='lines', x = data_slice, y = curve(data_slice, *params))\n",
    "        fig.update_layout(hovermode=\"x\")\n",
    "        return fig\n",
    "    \n",
    "    def fit_curve(self, curve, p0, a, b, **plot):\n",
    "        y = 0\n",
    "        if 'spectrum' in plot:\n",
    "            y = self.data_matrix[plot['spectrum'], (self.data['RamanShift'] >= a) & (self.data['RamanShift'] <= b)]\n",
    "        if 'base_vector' in plot:\n",
    "            y = self.base_vectors[plot['base_vector'], (self.data['RamanShift'] >= a) & (self.data['RamanShift'] <= b)]\n",
    "        data_slice = self.data[(self.data['RamanShift'] >= a) & (self.data['RamanShift'] <= b)]['RamanShift']\n",
    "        \n",
    "        bounds = 0\n",
    "        if 'bounds' in plot and plot['bounds'] == 'inf':\n",
    "            bounds = ((-np.inf, -np.inf, -np.inf, -np.inf), (np.inf, np.inf, np.inf, np.inf))\n",
    "        else:\n",
    "            bounds = ((p0[0]-2, -np.inf, -np.inf, -np.inf), (p0[0]+2, np.inf, np.inf, np.inf))\n",
    "        \n",
    "        param, cov = curve_fit(curve, data_slice, y, p0=p0, bounds = bounds)\n",
    "        if 'draw' in plot and plot['draw'] == True:\n",
    "            self.draw_curve(curve, param, a, b, **plot).show()\n",
    "        return param[2]"
   ],
   "metadata": {
    "collapsed": false
   },
   "id": "fd1ddb3ce756353e",
   "execution_count": null
  },
  {
   "cell_type": "code",
   "outputs": [],
   "source": [
    "map_a = Map('../data/GA25_10B_532nm_100%_1x3sec_x100_xc1200_A_trojkat1_mapa_10x10um_step_0.3um_data.txt', 34, 34, begin=250, end=450)\n",
    "# map_b = Map('../data/GA25_10B_532nm_100%_1x3sec_x100_xc1200_B_trojkat3_mapa_10x10um_step_0.3um_data.txt', 34, 34, begin=250, end=450)\n",
    "# map_c = Map('../data/GA25_10B_532nm_100%_1x3sec_x100_xc1200_C_trojkat2_mapa_20x20um_step_0.3um_data.txt', 68, 68, begin=250, end=450)"
   ],
   "metadata": {
    "collapsed": false
   },
   "id": "d57f5439335ec773",
   "execution_count": null
  },
  {
   "cell_type": "code",
   "outputs": [],
   "source": [
    "map_a.plotWeights(False).show()\n",
    "# map_b.plotWeights(True).show()\n",
    "# map_c.plotWeights(True).show()"
   ],
   "metadata": {
    "collapsed": false
   },
   "id": "25c6261a38ef93d3",
   "execution_count": null
  },
  {
   "cell_type": "code",
   "outputs": [],
   "source": [
    "map_a.plotBaseVectors(5).show()\n",
    "map_b.plotBaseVectors(5).show()\n",
    "map_c.plotBaseVectors(5).show()"
   ],
   "metadata": {
    "collapsed": false
   },
   "id": "625b502433d4bf56",
   "execution_count": null
  },
  {
   "cell_type": "code",
   "outputs": [],
   "source": [
    "## Map A\n",
    "t_matrix = np.zeros((4,4))\n",
    "\n",
    "draw = False\n",
    "t_matrix[0][0] = map_a.fit_curve(lorentz, (1392, 2.5, -17 * 10**5, -7000), 1380, 1400, base_vector = 0, draw = draw)\n",
    "\n",
    "t_matrix[1][0] = map_a.fit_curve(lorentz, (1345, 14,  -5 * 10**5, -10000), 1330, 1360, base_vector = 0, draw = draw)\n",
    "t_matrix[1][3] = map_a.fit_curve(lorentz, (1345, 16,  3.2 * 10**5, -4000), 1330, 1360, base_vector = 3, draw = draw)\n",
    "\n",
    "t_matrix[2][1] = map_a.fit_curve(lorentz, (1369, 10,  0.8 * 10**5,  1000), 1355, 1380, base_vector = 1, draw = draw)\n",
    "t_matrix[2][2] = map_a.fit_curve(lorentz, (1369, 10, -2.4 * 10**5, -1400), 1355, 1380, base_vector = 2, draw = draw)\n",
    "\n",
    "t_matrix[3][1] = map_a.fit_curve(lorentz_shift, (1392, 2.5, -17 * 10**5, -7000), 1385, 1400, base_vector = 1, draw = draw, bounds = 'inf')\n",
    "t_matrix[3][2] = map_a.fit_curve(lorentz_shift, (1392, 2.5, -17 * 10**5, -7000), 1385, 1400, base_vector = 2, draw = draw, bounds = 'inf')\n",
    "t_matrix[3][3] = map_a.fit_curve(lorentz_shift, (1392, 2.5, -17 * 10**5, -7000), 1385, 1400, base_vector = 3, draw = draw, bounds = 'inf')\n",
    "\n",
    "new_base_vectors = np.dot(map_a.base_vectors[:4].T, np.linalg.inv(t_matrix)).T\n",
    "new_vectors = np.dot(t_matrix, map_a.vectors[:4])\n",
    "\n",
    "px.line(x = map_a.raman_shift, y = new_base_vectors[0]).show()\n",
    "# px.imshow(np.reshape(new_vectors[0], map_a.shape)).show()\n",
    "px.line(x = map_a.raman_shift, y = new_base_vectors[1]).show()\n",
    "# px.imshow(np.reshape(new_vectors[1], map_a.shape)).show()\n",
    "# px.line(x = map_a.raman_shift, y = new_base_vectors[2]).show()\n",
    "# px.imshow(np.reshape(new_vectors[2], map_a.shape)).show()\n",
    "# px.line(x = map_a.raman_shift, y = new_base_vectors[3]).show()\n",
    "px.imshow(np.reshape(new_vectors[3], map_a.shape)).show()\n",
    "\n",
    "t_matrix"
   ],
   "metadata": {
    "collapsed": false
   },
   "id": "c42113a3b53681f8",
   "execution_count": null
  },
  {
   "cell_type": "code",
   "outputs": [],
   "source": [
    "map_a.plotSpectrum(map_a.posToId(11, 10))"
   ],
   "metadata": {
    "collapsed": false
   },
   "id": "6ca043ac59622001",
   "execution_count": null
  },
  {
   "cell_type": "code",
   "outputs": [],
   "source": [
    "## Map B\n",
    "t_matrix = np.zeros((4,4))\n",
    "\n",
    "draw = True\n",
    "t_matrix[0][0] = map_b.fit_curve(lorentz, (1392, 2.5, 17 * 10**5, -7000), 1380, 1400, base_vector = 0, draw = draw)\n",
    "t_matrix[0][3] = map_b.fit_curve(lorentz, (1392, 2.5, -17 * 10**4, -7000), 1389, 1396, base_vector = 3, draw = draw)\n",
    "\n",
    "\n",
    "t_matrix[1][0] = map_b.fit_curve(lorentz, (1345, 14,  5 * 10**5, -10000), 1330, 1360, base_vector = 0, draw = draw)\n",
    "# t_matrix[1][3] = map_b.fit_curve(lorentz, (1345, 14,  -5 * 10**5, 1000), 1335, 1352, base_vector = 3, draw = draw)\n",
    "\n",
    "t_matrix[2][3] = map_b.fit_curve(lorentz, (1369, 10, 2.4 * 10**5, -1400), 1355, 1380, base_vector = 3, draw = draw)\n",
    "\n",
    "t_matrix[3][1] = map_b.fit_curve(lorentz_shift, (1392, 2.5, -17 * 10**5, -7000), 1385, 1400, base_vector = 1, draw = draw, bounds = 'inf')\n",
    "t_matrix[3][2] = map_b.fit_curve(lorentz_shift, (1392, 2.5, -17 * 10**5, -7000), 1385, 1400, base_vector = 2, draw = draw, bounds = 'inf')\n",
    "\n",
    "# new_base_vectors = np.dot(map_a.base_vectors[:4].T, np.linalg.inv(t_matrix)).T\n",
    "new_vectors = np.dot(t_matrix, map_b.vectors[:4])\n",
    "\n",
    "# px.line(x = map_a.raman_shift, y = new_base_vectors[0]).show()\n",
    "px.imshow(np.reshape(new_vectors[0], map_b.shape)).show()\n",
    "# px.line(x = map_a.raman_shift, y = new_base_vectors[1]).show()\n",
    "px.imshow(np.reshape(new_vectors[1], map_b.shape)).show()\n",
    "# px.line(x = map_a.raman_shift, y = new_base_vectors[2]).show()\n",
    "px.imshow(np.reshape(new_vectors[2], map_b.shape)).show()\n",
    "# px.line(x = map_a.raman_shift, y = new_base_vectors[3]).show()\n",
    "px.imshow(np.reshape(new_vectors[3], map_b.shape)).show()\n",
    "\n",
    "t_matrix"
   ],
   "metadata": {
    "collapsed": false
   },
   "id": "7cea3c74e672dd55",
   "execution_count": null
  },
  {
   "cell_type": "code",
   "outputs": [],
   "source": [
    "## Map C\n",
    "t_matrix = np.zeros((4,4))\n",
    "\n",
    "draw = True\n",
    "t_matrix[0][0] = map_c.fit_curve(lorentz, (1392, 2.5, 17 * 10**5, -7000), 1380, 1400, base_vector = 0, draw = draw)\n",
    "\n",
    "t_matrix[1][0] = map_c.fit_curve(lorentz, (1345, 14,  5 * 10**5, -10000), 1330, 1360, base_vector = 0, draw = draw)\n",
    "t_matrix[1][1] = map_c.fit_curve(lorentz, (1345, 16,  3.2 * 10**5, -4000), 1330, 1360, base_vector = 1, draw = draw)\n",
    "\n",
    "# t_matrix[2][3] = map_c.fit_curve(lorentz, (1369, 10,  0.8 * 10**5,  1000), 1355, 1380, base_vector = 3, draw = draw)\n",
    "map_c.draw_curve(lorentz, (1369, 10, 2.4 * 10**5, 22000), 1355, 1380, base_vector = 3, draw = draw).show()\n",
    "t_matrix[2][3] = 22000\n",
    "\n",
    "t_matrix[3][1] = map_c.fit_curve(lorentz_shift, (1392, 2.5, 17 * 10**5, -7000), 1385, 1400, base_vector = 1, draw = draw, bounds = 'inf')\n",
    "t_matrix[3][2] = map_c.fit_curve(lorentz_shift, (1392, 2.5, -17 * 10**5, -7000), 1385, 1400, base_vector = 2, draw = draw, bounds = 'inf')\n",
    "t_matrix[3][3] = map_c.fit_curve(lorentz_shift, (1392, 2.5, -17 * 10**5, -7000), 1385, 1400, base_vector = 3, draw = draw, bounds = 'inf')\n",
    "\n",
    "# new_base_vectors = np.dot(map_a.base_vectors[:4].T, np.linalg.inv(t_matrix)).T\n",
    "new_vectors = np.dot(t_matrix, map_c.vectors[:4])\n",
    "\n",
    "# px.line(x = map_a.raman_shift, y = new_base_vectors[0]).show()\n",
    "px.imshow(np.reshape(new_vectors[0], map_c.shape)).show()\n",
    "# px.line(x = map_a.raman_shift, y = new_base_vectors[1]).show()\n",
    "px.imshow(np.reshape(new_vectors[1], map_c.shape)).show()\n",
    "# px.line(x = map_a.raman_shift, y = new_base_vectors[2]).show()\n",
    "px.imshow(np.reshape(new_vectors[2], map_c.shape)).show()\n",
    "# px.line(x = map_a.raman_shift, y = new_base_vectors[3]).show()\n",
    "px.imshow(np.reshape(new_vectors[3], map_c.shape)).show()\n",
    "\n",
    "t_matrix"
   ],
   "metadata": {
    "collapsed": false
   },
   "id": "8576c90abd50e835",
   "execution_count": null
  },
  {
   "cell_type": "code",
   "outputs": [],
   "source": [
    "map_c.plotSpectrum(map_c.posToId(14, 42))"
   ],
   "metadata": {
    "collapsed": false
   },
   "id": "279604a15a8a471",
   "execution_count": null
  },
  {
   "cell_type": "code",
   "outputs": [],
   "source": [],
   "metadata": {
    "collapsed": false
   },
   "id": "1a99a6823a5a77b2"
  }
 ],
 "metadata": {
  "kernelspec": {
   "display_name": "Python 3",
   "language": "python",
   "name": "python3"
  },
  "language_info": {
   "codemirror_mode": {
    "name": "ipython",
    "version": 2
   },
   "file_extension": ".py",
   "mimetype": "text/x-python",
   "name": "python",
   "nbconvert_exporter": "python",
   "pygments_lexer": "ipython2",
   "version": "2.7.6"
  }
 },
 "nbformat": 4,
 "nbformat_minor": 5
}
