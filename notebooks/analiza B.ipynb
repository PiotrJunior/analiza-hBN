{
 "cells": [
  {
   "cell_type": "code",
   "execution_count": 28,
   "id": "initial_id",
   "metadata": {
    "collapsed": true,
    "ExecuteTime": {
     "end_time": "2024-04-16T07:40:19.763916Z",
     "start_time": "2024-04-16T07:40:19.757916Z"
    }
   },
   "outputs": [],
   "source": [
    "import numpy as np\n",
    "from numpy import dot\n",
    "from numpy.linalg import eigh, eig\n",
    "import pandas as pd\n",
    "import plotly.express as px\n",
    "from plotly import graph_objects as go\n",
    "from scipy.optimize import curve_fit"
   ]
  },
  {
   "cell_type": "code",
   "outputs": [],
   "source": [
    "def lorentz(X, mean, sigma, scale, offset):\n",
    "    return scale/(np.pi * sigma * (1 + ((X - mean)/sigma)**2)) + offset\n",
    "\n",
    "def lorentz_diff1(X, mean, sigma, scale, offset):\n",
    "    return -(2 * sigma * (-mean + X)) / (np.pi * (mean**2 + sigma**2 - 2*mean*X + np.power(X, 2))**2) * scale + offset\n",
    "\n",
    "def lorentz_diff2(X, mean, sigma, scale, offset):\n",
    "    return -(2 * sigma * (sigma**2 - 3 * np.power(mean - X, 2))) / (np.pi * np.power(sigma**2 + np.power(mean - X, 2), 3)) * scale + offset\n",
    "\n",
    "def lorentz_diff3(X, mean, sigma, scale, offset):\n",
    "    return (-(48 * np.power(-mean + X, 3))/(sigma**7 * np.pi * np.power(1 + np.power(-mean + X, 2)/sigma**2, 4)) + (24 * (-mean + X))/(sigma**5 * np.pi * np.power(1 + np.power(-mean + X, 2)/sigma**2, 3))) * scale + offset\n",
    "\n",
    "def lorentz_spread(X, mean, sigma, scale, offset):\n",
    "    return (mean**2 - 2 * mean * X + np.power(X, 2) - sigma**2)/(np.pi * (mean**2 - 2 * mean * X + np.power(X, 2) + sigma**2)**2) * scale + offset\n",
    "\n",
    "def line(X, offset):\n",
    "    return np.ones(len(X)) * offset\n",
    "\n",
    "# def both_lorentz(X, mean1, sigma1, scale1, offset1, mean2, sigma2, scale2, offset2):\n",
    "#     return lorentz(X, mean1, sigma1, scale1, offset1) + lorentz_shift(X, mean2, sigma2, scale2, offset2)\n",
    "\n",
    "class Map:\n",
    "    def __init__(self, src, x, y, **kwargs):\n",
    "        raw_data = np.loadtxt(src, delimiter='\\t')\n",
    "        if 'begin' in kwargs and 'end' in kwargs:\n",
    "            raw_data = raw_data[np.r_[0:1, (kwargs['begin']+2):(kwargs['end']+2)]]\n",
    "        self.shape = (x, y)\n",
    "        self.raman_shift = raw_data.T[0][2:]\n",
    "        self.data_matrix = raw_data[2:].T[1:]\n",
    "        self.data = pd.DataFrame(raw_data[2:], columns = ['RamanShift'] + list(np.arange(0, x*y, 1)))\n",
    "        self.map = np.array([raw_data[0][1:], raw_data[1][1:]]).T\n",
    "\n",
    "        self.cov_matrix = np.cov(self.data_matrix)\n",
    "        \n",
    "        eigenvalues, eigenvectors = eigh(self.cov_matrix)\n",
    "        idx = np.flip(eigenvalues.argsort())\n",
    "        self.weights = eigenvalues[idx] / sum(eigenvalues)\n",
    "        self.vectors = eigenvectors.T[idx]\n",
    "        \n",
    "        self.base_vectors = np.dot(self.vectors, self.data_matrix)\n",
    "    \n",
    "    def reconstruct(self, count):\n",
    "        return np.dot(self.vectors[:count].T, self.base_vectors[:count])\n",
    "    \n",
    "    def plotComponent(self, num):\n",
    "        fig = px.imshow(np.reshape(self.vectors[num], self.shape), title ='Komponent ' + str(num))\n",
    "        return fig\n",
    "    \n",
    "    def plotPhysicalComponent(self, v):\n",
    "        img = np.dot(np.array(v), self.vectors[:len(v)])\n",
    "        fig = px.imshow(np.reshape(img, self.shape), title ='Peak')\n",
    "        return fig\n",
    "    \n",
    "    def plotCovMatrix(self):\n",
    "        fig = px.imshow(self.cov_matrix, title = 'Macierz kowariancji')\n",
    "        return fig\n",
    "    \n",
    "    def plotWeights(self, cum, log):\n",
    "        if cum:\n",
    "            fig = px.bar(np.cumsum(self.weights), title = 'Wagi', log_y=log)\n",
    "        else:\n",
    "            fig = px.bar(self.weights, title = 'Wagi', log_y=log)\n",
    "        return fig\n",
    "    \n",
    "    def plotSpectrums(self, ids, **kwargs):\n",
    "        fig = go.Figure()\n",
    "        if 'base' not in kwargs:\n",
    "            for num in ids:\n",
    "                fig.add_scatter(x = self.raman_shift, y = self.data_matrix[num], mode='lines', name = 'ID: ' + str(num))\n",
    "        else:\n",
    "            r = self.reconstruct(kwargs['base'])\n",
    "            for num in ids:\n",
    "                fig.add_scatter(x = self.raman_shift, y = r[num], mode='lines', name = 'ID: ' + str(num))\n",
    "        fig.update_layout(hovermode=\"x\")\n",
    "        return fig\n",
    "    \n",
    "    def plotSpectrum(self, num, **kwargs):\n",
    "        return self.plotSpectrums([num], **kwargs)\n",
    "    \n",
    "    def plotBaseVectors(self, count):\n",
    "        fig = go.Figure()\n",
    "        for num in range(count):\n",
    "            fig.add_scatter(x = self.raman_shift, y = self.base_vectors[num], mode='lines', name = 'Num: ' + str(num))\n",
    "        fig.update_layout(hovermode=\"x\")\n",
    "        return fig\n",
    "            \n",
    "    def locToId(self, x, y):\n",
    "        return np.argmin(list(map(lambda e: np.linalg.norm([x, y] - e), self.map)))\n",
    "    \n",
    "    def posToId(self, x, y):\n",
    "        return self.shape[0] * y + x\n",
    "    \n",
    "    def draw_curve(self, curve, params, a, b, **draw):\n",
    "        fig = go.Figure()\n",
    "        if 'spectrum' in draw:\n",
    "            fig.add_scatter(x = self.raman_shift, y = self.data_matrix[draw['spectrum']], mode='lines')\n",
    "        if 'base_vector' in draw:\n",
    "            fig.add_scatter(x = self.raman_shift, y = self.base_vectors[draw['base_vector']], mode='lines')\n",
    "        data_slice = self.data[(self.data['RamanShift'] >= a) & (self.data['RamanShift'] <= b)]['RamanShift']\n",
    "        fig.add_scatter(mode='lines', x = data_slice, y = curve(data_slice, *params))\n",
    "        fig.update_layout(hovermode=\"x\")\n",
    "        return fig\n",
    "    \n",
    "    def fit_curve(self, curve, p0, a, b, seek, **plot):\n",
    "        y = 0\n",
    "        if 'spectrum' in plot:\n",
    "            y = self.data_matrix[plot['spectrum'], (self.data['RamanShift'] >= a) & (self.data['RamanShift'] <= b)]\n",
    "        if 'base_vector' in plot:\n",
    "            y = self.base_vectors[plot['base_vector'], (self.data['RamanShift'] >= a) & (self.data['RamanShift'] <= b)]\n",
    "        data_slice = self.data[(self.data['RamanShift'] >= a) & (self.data['RamanShift'] <= b)]['RamanShift']\n",
    "        \n",
    "        bounds = 0\n",
    "        if 'bounds' in plot and plot['bounds'] == 'inf':\n",
    "            bounds = ((-np.inf, -np.inf, -np.inf, -np.inf), (np.inf, np.inf, np.inf, np.inf))\n",
    "        else:\n",
    "            bounds = ((p0[0]-2, -np.inf, -np.inf, -np.inf), (p0[0]+2, np.inf, np.inf, np.inf))\n",
    "        \n",
    "        param, cov = curve_fit(curve, data_slice, y, p0=p0, bounds = bounds)\n",
    "        print(param)\n",
    "        if 'draw' in plot and plot['draw'] == True:\n",
    "            self.draw_curve(curve, param, a, b, **plot).show()\n",
    "        return param[seek]"
   ],
   "metadata": {
    "collapsed": false,
    "ExecuteTime": {
     "end_time": "2024-04-16T07:27:37.052559Z",
     "start_time": "2024-04-16T07:27:37.019577Z"
    }
   },
   "id": "fd1ddb3ce756353e",
   "execution_count": 2
  },
  {
   "cell_type": "code",
   "outputs": [],
   "source": [
    "map_b = Map('../data/GA25_10B_532nm_100%_1x3sec_x100_xc1200_B_trojkat3_mapa_10x10um_step_0.3um_data.txt', 34, 34, begin=250, end=450)"
   ],
   "metadata": {
    "collapsed": false,
    "ExecuteTime": {
     "end_time": "2024-04-16T07:27:38.872625Z",
     "start_time": "2024-04-16T07:27:37.053585Z"
    }
   },
   "id": "d57f5439335ec773",
   "execution_count": 3
  },
  {
   "cell_type": "code",
   "outputs": [],
   "source": [
    "map_b.plotWeights(False, True).show()"
   ],
   "metadata": {
    "collapsed": false
   },
   "id": "25c6261a38ef93d3",
   "execution_count": null
  },
  {
   "cell_type": "code",
   "outputs": [],
   "source": [
    "map_b.plotBaseVectors(7).show()"
   ],
   "metadata": {
    "collapsed": false
   },
   "id": "625b502433d4bf56",
   "execution_count": null
  },
  {
   "cell_type": "code",
   "outputs": [
    {
     "name": "stdout",
     "output_type": "stream",
     "text": [
      "[1.39202002e+03 2.62826908e+00 1.11042169e+06 2.81143717e+03]\n",
      "[1.34440756e+03 1.47239179e+01 6.28275855e+05 6.71794929e+03]\n",
      "[ 1.34127243e+03  2.82401283e+01 -5.53753090e+05  6.99886713e+03]\n",
      "[ 1.34700000e+03  1.73882835e+01 -1.71714125e+05  5.50593369e+02]\n",
      "[ 1.34270426e+03  1.79562924e+01  2.95059275e+05 -4.62596530e+03]\n",
      "[ 1.34489280e+03  1.55636300e+01  4.93482690e+04 -1.07277503e+03]\n",
      "[ 1.36941988e+03  2.28789241e+01  3.88613578e+05 -1.93364240e+03]\n",
      "[ 1.39243402e+03  2.84168003e+00  6.95479778e+05 -3.34496767e+03]\n",
      "[ 1.39178773e+03  2.37631257e+00 -5.16878925e+04 -6.28325869e+03]\n",
      "[1.39251948e+03 3.24766392e+00 4.88395682e+05 3.58080503e+03]\n",
      "[1.39242386e+03 2.68432137e+00 9.00429640e+04 3.25677794e+02]\n",
      "[ 1.39287671e+03  2.72608687e+00  1.23086478e+05 -1.43647140e+03]\n",
      "[ 1.39276101e+03  2.77781698e+00  1.14975752e+05 -6.37537521e+02]\n"
     ]
    },
    {
     "data": {
      "text/plain": "array([[1110421.69099246,       0.        ,       0.        ,\n              0.        ,       0.        ,       0.        ,\n              0.        ],\n       [ 628275.85540328,       0.        ,       0.        ,\n        -553753.09016809, -171714.12491174,  295059.27483802,\n          49348.26899532],\n       [      0.        ,       0.        , -300000.        ,\n         388613.57843404, -300000.        ,       0.        ,\n              0.        ],\n       [      0.        ,  695479.77812915,  -51687.89253901,\n              0.        ,       0.        ,       0.        ,\n              0.        ],\n       [      0.        ,       0.        ,       0.        ,\n         488395.68172592,   90042.96395163,  123086.47753958,\n              0.        ],\n       [      0.        ,       0.        ,       0.        ,\n              0.        ,       0.        ,       0.        ,\n         114975.75225759],\n       [      0.        ,  -69547.97781291,  -51687.89253901,\n              0.        ,       0.        ,       0.        ,\n              0.        ]])"
     },
     "execution_count": 4,
     "metadata": {},
     "output_type": "execute_result"
    }
   ],
   "source": [
    "## Map A\n",
    "t_matrix = np.zeros((7,7))\n",
    "\n",
    "draw = False\n",
    "# for i in range(6):\n",
    "#     t_matrix[0][i] = np.average(map_a.base_vectors[i], weights=((map_a.raman_shift < 1310) | (map_a.raman_shift > 1420)) )\n",
    "    # t_matrix[0][i] = map_a.draw_curve(line, [np.average(map_a.base_vectors[i], weights=((map_a.raman_shift < 1310) | (map_a.raman_shift > 1420)) )], 1200, 1500, base_vector = i, draw = True, bounds = 'inf').show()\n",
    "\n",
    "t_matrix[0][0] = map_b.fit_curve(lorentz, (1392, 2.5, 17 * 10**5, -7000), 1380, 1400, 2, base_vector = 0, draw = draw)\n",
    "\n",
    "t_matrix[1][0] = map_b.fit_curve(lorentz, (1345, 15,  5 * 10**5, -10000), 1330, 1360, 2, base_vector = 0, draw = draw)\n",
    "t_matrix[1][3] = map_b.fit_curve(lorentz, (1343, 15,  -5 * 10**5, 1000), 1335, 1352, 2, base_vector = 3, draw = draw)\n",
    "t_matrix[1][4] = map_b.fit_curve(lorentz, (1345, 15,  -5 * 10**5, 1000), 1335, 1352, 2, base_vector = 4, draw = draw)\n",
    "t_matrix[1][5] = map_b.fit_curve(lorentz, (1343, 15,  5 * 10**5, 1000), 1335, 1352, 2, base_vector = 5, draw = draw)\n",
    "t_matrix[1][6] = map_b.fit_curve(lorentz, (1345, 15,  5 * 10**5, 1000), 1335, 1352, 2, base_vector = 6, draw = draw)\n",
    "\n",
    "t_matrix[2][2] = -3 * 10**5 #map_b.fit_curve(lorentz, (1367, 28, 3 * 10**5, -4500), 1358, 1377, 2, base_vector = 2, draw = True)\n",
    "t_matrix[2][3] = map_b.fit_curve(lorentz, (1369, 10, 2.4 * 10**5, -1400), 1355, 1380, 2, base_vector = 3, draw = draw)\n",
    "t_matrix[2][4] = -3 * 10**5 #map_b.fit_curve(lorentz, (1369, 10, -2.4 * 10**5, -1400), 1355, 1380, 2, base_vector = 4, draw = True)\n",
    "# t_matrix[2][5] = map_b.fit_curve(lorentz, (1369, 10, -2.4 * 10**5, -1400), 1355, 1380, 2, base_vector = 5, draw = True)\n",
    "\n",
    "\n",
    "t_matrix[3][1] = map_b.fit_curve(lorentz_diff1, (1392, 2.5, -17 * 10**5, -7000), 1385, 1400, 2, base_vector = 1, draw = draw, bounds = 'inf')\n",
    "t_matrix[3][2] = map_b.fit_curve(lorentz_diff1, (1392, 2.5, -17 * 10**5, -7000), 1385, 1400, 2, base_vector = 2, draw = draw, bounds = 'inf')\n",
    "\n",
    "t_matrix[4][3] = map_b.fit_curve(lorentz_diff2, (1392, 2.5, -17 * 10**5, -7000), 1385, 1400, 2, base_vector = 3, draw = draw, bounds = 'inf')\n",
    "t_matrix[4][4] = map_b.fit_curve(lorentz_diff2, (1392, 2.5, -17 * 10**5, -7000), 1385, 1400, 2, base_vector = 4, draw = draw, bounds = 'inf')\n",
    "t_matrix[4][5] = map_b.fit_curve(lorentz_diff2, (1392, 2.5, -17 * 10**5, -7000), 1385, 1400, 2, base_vector = 5, draw = draw, bounds = 'inf')\n",
    "\n",
    "t_matrix[5][6] = map_b.fit_curve(lorentz_diff3, (1392, 2.5, -17 * 10**5, -7000), 1385, 1400, 2, base_vector = 6, draw = draw, bounds = 'inf')\n",
    "\n",
    "t_matrix[6][1] = t_matrix[3][1] * -.1\n",
    "t_matrix[6][2] = t_matrix[3][2]\n",
    "\n",
    "t_matrix"
   ],
   "metadata": {
    "collapsed": false,
    "ExecuteTime": {
     "end_time": "2024-04-16T07:27:39.800574Z",
     "start_time": "2024-04-16T07:27:38.875087Z"
    }
   },
   "id": "c42113a3b53681f8",
   "execution_count": 4
  },
  {
   "cell_type": "code",
   "outputs": [],
   "source": [
    "map_b.draw_curve(lorentz, (1367, 28, -3 * 10**5, -4500), 1358, 1377, base_vector = 2).show()\n"
   ],
   "metadata": {
    "collapsed": false
   },
   "id": "bcaea3c95e45b647",
   "execution_count": null
  },
  {
   "cell_type": "code",
   "outputs": [
    {
     "data": {
      "application/vnd.plotly.v1+json": {
       "data": [
        {
         "hovertemplate": "x=%{x}<br>y=%{y}<extra></extra>",
         "legendgroup": "",
         "line": {
          "color": "#636efa",
          "dash": "solid"
         },
         "marker": {
          "symbol": "circle"
         },
         "mode": "lines",
         "name": "",
         "orientation": "v",
         "showlegend": false,
         "x": [
          1489.670166015625,
          1488.5650634765625,
          1487.459716796875,
          1486.354248046875,
          1485.24853515625,
          1484.142578125,
          1483.0364990234375,
          1481.93017578125,
          1480.8236083984375,
          1479.7169189453125,
          1478.6099853515625,
          1477.5028076171875,
          1476.3955078125,
          1475.2879638671875,
          1474.1802978515625,
          1473.0723876953125,
          1471.9642333984375,
          1470.8558349609375,
          1469.747314453125,
          1468.638671875,
          1467.5296630859375,
          1466.4205322265625,
          1465.311279296875,
          1464.20166015625,
          1463.0919189453125,
          1461.9820556640625,
          1460.8719482421875,
          1459.7615966796875,
          1458.6510009765625,
          1457.540283203125,
          1456.4293212890625,
          1455.3182373046875,
          1454.2069091796875,
          1453.0953369140625,
          1451.983642578125,
          1450.8717041015625,
          1449.759521484375,
          1448.647216796875,
          1447.53466796875,
          1446.421875,
          1445.3089599609375,
          1444.19580078125,
          1443.0823974609375,
          1441.9688720703125,
          1440.8551025390625,
          1439.7410888671875,
          1438.626953125,
          1437.5125732421875,
          1436.3980712890625,
          1435.2833251953125,
          1434.1683349609375,
          1433.0531005859375,
          1431.937744140625,
          1430.8221435546875,
          1429.7064208984375,
          1428.5904541015625,
          1427.4742431640625,
          1426.35791015625,
          1425.2412109375,
          1424.12451171875,
          1423.0074462890625,
          1421.8902587890625,
          1420.7728271484375,
          1419.6552734375,
          1418.5374755859375,
          1417.41943359375,
          1416.30126953125,
          1415.182861328125,
          1414.064208984375,
          1412.9454345703125,
          1411.826416015625,
          1410.7071533203125,
          1409.587646484375,
          1408.468017578125,
          1407.3482666015625,
          1406.2281494140625,
          1405.10791015625,
          1403.9874267578125,
          1402.8668212890625,
          1401.7459716796875,
          1400.6248779296875,
          1399.503662109375,
          1398.3822021484375,
          1397.260498046875,
          1396.1385498046875,
          1395.0164794921875,
          1393.894287109375,
          1392.771728515625,
          1391.6490478515625,
          1390.526123046875,
          1389.403076171875,
          1388.2796630859375,
          1387.15625,
          1386.032470703125,
          1384.9085693359375,
          1383.784423828125,
          1382.6600341796875,
          1381.5355224609375,
          1380.4107666015625,
          1379.2857666015625,
          1378.16064453125,
          1377.0352783203125,
          1375.90966796875,
          1374.783935546875,
          1373.657958984375,
          1372.53173828125,
          1371.4053955078125,
          1370.27880859375,
          1369.1519775390625,
          1368.02490234375,
          1366.897705078125,
          1365.770263671875,
          1364.6427001953125,
          1363.5147705078125,
          1362.38671875,
          1361.258544921875,
          1360.1300048828125,
          1359.0013427734375,
          1357.87255859375,
          1356.743408203125,
          1355.6141357421875,
          1354.484619140625,
          1353.35498046875,
          1352.22509765625,
          1351.094970703125,
          1349.964599609375,
          1348.8341064453125,
          1347.703369140625,
          1346.5723876953125,
          1345.441162109375,
          1344.309814453125,
          1343.17822265625,
          1342.0465087890625,
          1340.91455078125,
          1339.7823486328125,
          1338.64990234375,
          1337.517333984375,
          1336.384521484375,
          1335.25146484375,
          1334.1181640625,
          1332.9847412109375,
          1331.85107421875,
          1330.7171630859375,
          1329.5831298828125,
          1328.4488525390625,
          1327.3143310546875,
          1326.1796875,
          1325.0447998046875,
          1323.90966796875,
          1322.7742919921875,
          1321.6387939453125,
          1320.5029296875,
          1319.3670654296875,
          1318.2308349609375,
          1317.094482421875,
          1315.9578857421875,
          1314.821044921875,
          1313.68408203125,
          1312.546875,
          1311.409423828125,
          1310.271728515625,
          1309.1339111328125,
          1307.995849609375,
          1306.8575439453125,
          1305.718994140625,
          1304.580322265625,
          1303.44140625,
          1302.3023681640625,
          1301.1629638671875,
          1300.0234375,
          1298.8836669921875,
          1297.74365234375,
          1296.603515625,
          1295.463134765625,
          1294.322509765625,
          1293.181640625,
          1292.0406494140625,
          1290.8994140625,
          1289.7579345703125,
          1288.6163330078125,
          1287.474365234375,
          1286.332275390625,
          1285.1900634765625,
          1284.0474853515625,
          1282.90478515625,
          1281.7618408203125,
          1280.61865234375,
          1279.475341796875,
          1278.3316650390625,
          1277.1878662109375,
          1276.0439453125,
          1274.899658203125,
          1273.7552490234375,
          1272.610595703125,
          1271.4656982421875,
          1270.3206787109375,
          1269.17529296875,
          1268.02978515625,
          1266.8841552734375
         ],
         "xaxis": "x",
         "y": [
          0.006325847241187423,
          0.006306579485803387,
          0.006300778178528628,
          0.00633378952120801,
          0.006321162782588279,
          0.006261563504898483,
          0.006279819841264541,
          0.006264167422960803,
          0.00627865008903677,
          0.0062705160290906494,
          0.006252669556845684,
          0.006213232038025003,
          0.006273519477334989,
          0.006202504643695547,
          0.0062128295753629565,
          0.006187161784242459,
          0.006234051660241697,
          0.00621561044236862,
          0.006247114815056965,
          0.006294382628586036,
          0.00630887692843763,
          0.006243514519510002,
          0.006289804177226731,
          0.006299360472489247,
          0.006348249014386612,
          0.006304608794225083,
          0.006334492815908794,
          0.006325529264385879,
          0.006390001475571054,
          0.00635296182414944,
          0.006378310306701147,
          0.006381646162631956,
          0.006370674090628792,
          0.0063871415012924804,
          0.0064211455709093064,
          0.006432414546352271,
          0.00644005658546047,
          0.006456443072853293,
          0.006489248546364727,
          0.006524040726069312,
          0.006494612465647021,
          0.0065178189788732245,
          0.0065399472171248675,
          0.006552295753750475,
          0.0066473045311074815,
          0.006605330613689591,
          0.006651560995862736,
          0.00668767207203549,
          0.006728067203834764,
          0.006734612542194515,
          0.0067873002525747446,
          0.006825004851796005,
          0.0068594564937137625,
          0.006885586253715076,
          0.006946832727274094,
          0.0069202354585126335,
          0.007012670208453451,
          0.007000693782167633,
          0.007067360613498404,
          0.007104762540940232,
          0.007238957714996435,
          0.007249869354091513,
          0.007338219636937477,
          0.007392548716438962,
          0.007517512436139257,
          0.007544262882426494,
          0.0076274323475698375,
          0.007739495802706595,
          0.007949454702344361,
          0.008101199463275848,
          0.008267971005900002,
          0.008397731436601505,
          0.008649579982014351,
          0.008923764127447649,
          0.009259884748164377,
          0.009731218915798022,
          0.010325423950078324,
          0.0110221498907891,
          0.011997697889437026,
          0.013261212737373488,
          0.015066362423745983,
          0.01763734585069202,
          0.02158750717963175,
          0.027991637745543266,
          0.038870941884972435,
          0.05768818200484978,
          0.08754647933500662,
          0.11821151019251191,
          0.12264987976848124,
          0.09794015082294763,
          0.06781249587429314,
          0.04578130284929379,
          0.03228600631415975,
          0.02436775617593458,
          0.019823055063308132,
          0.01691387727609912,
          0.01516180529519946,
          0.014084219904467244,
          0.013349737780768256,
          0.012810474320093489,
          0.012575866061370587,
          0.01232896851036938,
          0.012192893700014435,
          0.012213315976363721,
          0.012314832170670151,
          0.012347207513490043,
          0.012543214028633013,
          0.012709039887306966,
          0.012853867775293107,
          0.013005870969550809,
          0.013241951789746598,
          0.013417496946886489,
          0.013660086209160828,
          0.013646751601312523,
          0.01380267021323583,
          0.013853200750935712,
          0.01409904882012418,
          0.014181138947567992,
          0.014476235112283645,
          0.014719579228984661,
          0.014979159960739789,
          0.015308291354475458,
          0.015578142332136792,
          0.015848213008259632,
          0.016157115287598292,
          0.01638347092297356,
          0.01663989385763972,
          0.016744981277028934,
          0.016952889374362283,
          0.01701518251950215,
          0.016981729986476766,
          0.016853407376472652,
          0.016708020682386908,
          0.0164124468235417,
          0.01613576095752734,
          0.01569105043898996,
          0.015449803096507807,
          0.015144012207967662,
          0.014723780276721271,
          0.014419203446819556,
          0.014047670934656614,
          0.013708338809451322,
          0.013384772465472464,
          0.013121947981450402,
          0.012767693919030477,
          0.012502172563997641,
          0.012219060499036897,
          0.011902891300346191,
          0.011740438167423048,
          0.011442846298862115,
          0.011214471898101416,
          0.01096675831186092,
          0.010808110173302478,
          0.010566615656933431,
          0.01040496943718521,
          0.01017758774897834,
          0.010008011935250822,
          0.009770052529379883,
          0.009654437129501484,
          0.009490078052699748,
          0.009385039045642384,
          0.009274245079741344,
          0.009147292157484565,
          0.009003304040599527,
          0.008887190440591896,
          0.00878134586807394,
          0.008686438956564107,
          0.008575899396730837,
          0.008523610663197533,
          0.008431158271659198,
          0.008363248827593754,
          0.008261676831194203,
          0.008283345967152557,
          0.008197305697250945,
          0.008133128207920302,
          0.008076784194124427,
          0.008025724160633671,
          0.00797612793016049,
          0.007965955298132942,
          0.007859075234640365,
          0.00784191644181485,
          0.007768885200586617,
          0.007798138727105363,
          0.007676002175033806,
          0.007679444665354734,
          0.007669503372105663,
          0.00770986334529152,
          0.0076916122679522685,
          0.007707963767265235,
          0.0076514980965992985,
          0.007682617814932534,
          0.007616047926434967,
          0.007610231556893834,
          0.0075773681260842855,
          0.0075281400283092,
          0.007540810021106774,
          0.0075065383130193866,
          0.007490063461019394,
          0.007483564964242026
         ],
         "yaxis": "y",
         "type": "scatter"
        }
       ],
       "layout": {
        "template": {
         "data": {
          "histogram2dcontour": [
           {
            "type": "histogram2dcontour",
            "colorbar": {
             "outlinewidth": 0,
             "ticks": ""
            },
            "colorscale": [
             [
              0.0,
              "#0d0887"
             ],
             [
              0.1111111111111111,
              "#46039f"
             ],
             [
              0.2222222222222222,
              "#7201a8"
             ],
             [
              0.3333333333333333,
              "#9c179e"
             ],
             [
              0.4444444444444444,
              "#bd3786"
             ],
             [
              0.5555555555555556,
              "#d8576b"
             ],
             [
              0.6666666666666666,
              "#ed7953"
             ],
             [
              0.7777777777777778,
              "#fb9f3a"
             ],
             [
              0.8888888888888888,
              "#fdca26"
             ],
             [
              1.0,
              "#f0f921"
             ]
            ]
           }
          ],
          "choropleth": [
           {
            "type": "choropleth",
            "colorbar": {
             "outlinewidth": 0,
             "ticks": ""
            }
           }
          ],
          "histogram2d": [
           {
            "type": "histogram2d",
            "colorbar": {
             "outlinewidth": 0,
             "ticks": ""
            },
            "colorscale": [
             [
              0.0,
              "#0d0887"
             ],
             [
              0.1111111111111111,
              "#46039f"
             ],
             [
              0.2222222222222222,
              "#7201a8"
             ],
             [
              0.3333333333333333,
              "#9c179e"
             ],
             [
              0.4444444444444444,
              "#bd3786"
             ],
             [
              0.5555555555555556,
              "#d8576b"
             ],
             [
              0.6666666666666666,
              "#ed7953"
             ],
             [
              0.7777777777777778,
              "#fb9f3a"
             ],
             [
              0.8888888888888888,
              "#fdca26"
             ],
             [
              1.0,
              "#f0f921"
             ]
            ]
           }
          ],
          "heatmap": [
           {
            "type": "heatmap",
            "colorbar": {
             "outlinewidth": 0,
             "ticks": ""
            },
            "colorscale": [
             [
              0.0,
              "#0d0887"
             ],
             [
              0.1111111111111111,
              "#46039f"
             ],
             [
              0.2222222222222222,
              "#7201a8"
             ],
             [
              0.3333333333333333,
              "#9c179e"
             ],
             [
              0.4444444444444444,
              "#bd3786"
             ],
             [
              0.5555555555555556,
              "#d8576b"
             ],
             [
              0.6666666666666666,
              "#ed7953"
             ],
             [
              0.7777777777777778,
              "#fb9f3a"
             ],
             [
              0.8888888888888888,
              "#fdca26"
             ],
             [
              1.0,
              "#f0f921"
             ]
            ]
           }
          ],
          "heatmapgl": [
           {
            "type": "heatmapgl",
            "colorbar": {
             "outlinewidth": 0,
             "ticks": ""
            },
            "colorscale": [
             [
              0.0,
              "#0d0887"
             ],
             [
              0.1111111111111111,
              "#46039f"
             ],
             [
              0.2222222222222222,
              "#7201a8"
             ],
             [
              0.3333333333333333,
              "#9c179e"
             ],
             [
              0.4444444444444444,
              "#bd3786"
             ],
             [
              0.5555555555555556,
              "#d8576b"
             ],
             [
              0.6666666666666666,
              "#ed7953"
             ],
             [
              0.7777777777777778,
              "#fb9f3a"
             ],
             [
              0.8888888888888888,
              "#fdca26"
             ],
             [
              1.0,
              "#f0f921"
             ]
            ]
           }
          ],
          "contourcarpet": [
           {
            "type": "contourcarpet",
            "colorbar": {
             "outlinewidth": 0,
             "ticks": ""
            }
           }
          ],
          "contour": [
           {
            "type": "contour",
            "colorbar": {
             "outlinewidth": 0,
             "ticks": ""
            },
            "colorscale": [
             [
              0.0,
              "#0d0887"
             ],
             [
              0.1111111111111111,
              "#46039f"
             ],
             [
              0.2222222222222222,
              "#7201a8"
             ],
             [
              0.3333333333333333,
              "#9c179e"
             ],
             [
              0.4444444444444444,
              "#bd3786"
             ],
             [
              0.5555555555555556,
              "#d8576b"
             ],
             [
              0.6666666666666666,
              "#ed7953"
             ],
             [
              0.7777777777777778,
              "#fb9f3a"
             ],
             [
              0.8888888888888888,
              "#fdca26"
             ],
             [
              1.0,
              "#f0f921"
             ]
            ]
           }
          ],
          "surface": [
           {
            "type": "surface",
            "colorbar": {
             "outlinewidth": 0,
             "ticks": ""
            },
            "colorscale": [
             [
              0.0,
              "#0d0887"
             ],
             [
              0.1111111111111111,
              "#46039f"
             ],
             [
              0.2222222222222222,
              "#7201a8"
             ],
             [
              0.3333333333333333,
              "#9c179e"
             ],
             [
              0.4444444444444444,
              "#bd3786"
             ],
             [
              0.5555555555555556,
              "#d8576b"
             ],
             [
              0.6666666666666666,
              "#ed7953"
             ],
             [
              0.7777777777777778,
              "#fb9f3a"
             ],
             [
              0.8888888888888888,
              "#fdca26"
             ],
             [
              1.0,
              "#f0f921"
             ]
            ]
           }
          ],
          "mesh3d": [
           {
            "type": "mesh3d",
            "colorbar": {
             "outlinewidth": 0,
             "ticks": ""
            }
           }
          ],
          "scatter": [
           {
            "marker": {
             "line": {
              "color": "#283442"
             }
            },
            "type": "scatter"
           }
          ],
          "parcoords": [
           {
            "type": "parcoords",
            "line": {
             "colorbar": {
              "outlinewidth": 0,
              "ticks": ""
             }
            }
           }
          ],
          "scatterpolargl": [
           {
            "type": "scatterpolargl",
            "marker": {
             "colorbar": {
              "outlinewidth": 0,
              "ticks": ""
             }
            }
           }
          ],
          "bar": [
           {
            "error_x": {
             "color": "#f2f5fa"
            },
            "error_y": {
             "color": "#f2f5fa"
            },
            "marker": {
             "line": {
              "color": "rgb(17,17,17)",
              "width": 0.5
             },
             "pattern": {
              "fillmode": "overlay",
              "size": 10,
              "solidity": 0.2
             }
            },
            "type": "bar"
           }
          ],
          "scattergeo": [
           {
            "type": "scattergeo",
            "marker": {
             "colorbar": {
              "outlinewidth": 0,
              "ticks": ""
             }
            }
           }
          ],
          "scatterpolar": [
           {
            "type": "scatterpolar",
            "marker": {
             "colorbar": {
              "outlinewidth": 0,
              "ticks": ""
             }
            }
           }
          ],
          "histogram": [
           {
            "marker": {
             "pattern": {
              "fillmode": "overlay",
              "size": 10,
              "solidity": 0.2
             }
            },
            "type": "histogram"
           }
          ],
          "scattergl": [
           {
            "marker": {
             "line": {
              "color": "#283442"
             }
            },
            "type": "scattergl"
           }
          ],
          "scatter3d": [
           {
            "type": "scatter3d",
            "line": {
             "colorbar": {
              "outlinewidth": 0,
              "ticks": ""
             }
            },
            "marker": {
             "colorbar": {
              "outlinewidth": 0,
              "ticks": ""
             }
            }
           }
          ],
          "scattermapbox": [
           {
            "type": "scattermapbox",
            "marker": {
             "colorbar": {
              "outlinewidth": 0,
              "ticks": ""
             }
            }
           }
          ],
          "scatterternary": [
           {
            "type": "scatterternary",
            "marker": {
             "colorbar": {
              "outlinewidth": 0,
              "ticks": ""
             }
            }
           }
          ],
          "scattercarpet": [
           {
            "type": "scattercarpet",
            "marker": {
             "colorbar": {
              "outlinewidth": 0,
              "ticks": ""
             }
            }
           }
          ],
          "carpet": [
           {
            "aaxis": {
             "endlinecolor": "#A2B1C6",
             "gridcolor": "#506784",
             "linecolor": "#506784",
             "minorgridcolor": "#506784",
             "startlinecolor": "#A2B1C6"
            },
            "baxis": {
             "endlinecolor": "#A2B1C6",
             "gridcolor": "#506784",
             "linecolor": "#506784",
             "minorgridcolor": "#506784",
             "startlinecolor": "#A2B1C6"
            },
            "type": "carpet"
           }
          ],
          "table": [
           {
            "cells": {
             "fill": {
              "color": "#506784"
             },
             "line": {
              "color": "rgb(17,17,17)"
             }
            },
            "header": {
             "fill": {
              "color": "#2a3f5f"
             },
             "line": {
              "color": "rgb(17,17,17)"
             }
            },
            "type": "table"
           }
          ],
          "barpolar": [
           {
            "marker": {
             "line": {
              "color": "rgb(17,17,17)",
              "width": 0.5
             },
             "pattern": {
              "fillmode": "overlay",
              "size": 10,
              "solidity": 0.2
             }
            },
            "type": "barpolar"
           }
          ],
          "pie": [
           {
            "automargin": true,
            "type": "pie"
           }
          ]
         },
         "layout": {
          "autotypenumbers": "strict",
          "colorway": [
           "#636efa",
           "#EF553B",
           "#00cc96",
           "#ab63fa",
           "#FFA15A",
           "#19d3f3",
           "#FF6692",
           "#B6E880",
           "#FF97FF",
           "#FECB52"
          ],
          "font": {
           "color": "#f2f5fa"
          },
          "hovermode": "closest",
          "hoverlabel": {
           "align": "left"
          },
          "paper_bgcolor": "rgb(17,17,17)",
          "plot_bgcolor": "rgb(17,17,17)",
          "polar": {
           "bgcolor": "rgb(17,17,17)",
           "angularaxis": {
            "gridcolor": "#506784",
            "linecolor": "#506784",
            "ticks": ""
           },
           "radialaxis": {
            "gridcolor": "#506784",
            "linecolor": "#506784",
            "ticks": ""
           }
          },
          "ternary": {
           "bgcolor": "rgb(17,17,17)",
           "aaxis": {
            "gridcolor": "#506784",
            "linecolor": "#506784",
            "ticks": ""
           },
           "baxis": {
            "gridcolor": "#506784",
            "linecolor": "#506784",
            "ticks": ""
           },
           "caxis": {
            "gridcolor": "#506784",
            "linecolor": "#506784",
            "ticks": ""
           }
          },
          "coloraxis": {
           "colorbar": {
            "outlinewidth": 0,
            "ticks": ""
           }
          },
          "colorscale": {
           "sequential": [
            [
             0.0,
             "#0d0887"
            ],
            [
             0.1111111111111111,
             "#46039f"
            ],
            [
             0.2222222222222222,
             "#7201a8"
            ],
            [
             0.3333333333333333,
             "#9c179e"
            ],
            [
             0.4444444444444444,
             "#bd3786"
            ],
            [
             0.5555555555555556,
             "#d8576b"
            ],
            [
             0.6666666666666666,
             "#ed7953"
            ],
            [
             0.7777777777777778,
             "#fb9f3a"
            ],
            [
             0.8888888888888888,
             "#fdca26"
            ],
            [
             1.0,
             "#f0f921"
            ]
           ],
           "sequentialminus": [
            [
             0.0,
             "#0d0887"
            ],
            [
             0.1111111111111111,
             "#46039f"
            ],
            [
             0.2222222222222222,
             "#7201a8"
            ],
            [
             0.3333333333333333,
             "#9c179e"
            ],
            [
             0.4444444444444444,
             "#bd3786"
            ],
            [
             0.5555555555555556,
             "#d8576b"
            ],
            [
             0.6666666666666666,
             "#ed7953"
            ],
            [
             0.7777777777777778,
             "#fb9f3a"
            ],
            [
             0.8888888888888888,
             "#fdca26"
            ],
            [
             1.0,
             "#f0f921"
            ]
           ],
           "diverging": [
            [
             0,
             "#8e0152"
            ],
            [
             0.1,
             "#c51b7d"
            ],
            [
             0.2,
             "#de77ae"
            ],
            [
             0.3,
             "#f1b6da"
            ],
            [
             0.4,
             "#fde0ef"
            ],
            [
             0.5,
             "#f7f7f7"
            ],
            [
             0.6,
             "#e6f5d0"
            ],
            [
             0.7,
             "#b8e186"
            ],
            [
             0.8,
             "#7fbc41"
            ],
            [
             0.9,
             "#4d9221"
            ],
            [
             1,
             "#276419"
            ]
           ]
          },
          "xaxis": {
           "gridcolor": "#283442",
           "linecolor": "#506784",
           "ticks": "",
           "title": {
            "standoff": 15
           },
           "zerolinecolor": "#283442",
           "automargin": true,
           "zerolinewidth": 2
          },
          "yaxis": {
           "gridcolor": "#283442",
           "linecolor": "#506784",
           "ticks": "",
           "title": {
            "standoff": 15
           },
           "zerolinecolor": "#283442",
           "automargin": true,
           "zerolinewidth": 2
          },
          "scene": {
           "xaxis": {
            "backgroundcolor": "rgb(17,17,17)",
            "gridcolor": "#506784",
            "linecolor": "#506784",
            "showbackground": true,
            "ticks": "",
            "zerolinecolor": "#C8D4E3",
            "gridwidth": 2
           },
           "yaxis": {
            "backgroundcolor": "rgb(17,17,17)",
            "gridcolor": "#506784",
            "linecolor": "#506784",
            "showbackground": true,
            "ticks": "",
            "zerolinecolor": "#C8D4E3",
            "gridwidth": 2
           },
           "zaxis": {
            "backgroundcolor": "rgb(17,17,17)",
            "gridcolor": "#506784",
            "linecolor": "#506784",
            "showbackground": true,
            "ticks": "",
            "zerolinecolor": "#C8D4E3",
            "gridwidth": 2
           }
          },
          "shapedefaults": {
           "line": {
            "color": "#f2f5fa"
           }
          },
          "annotationdefaults": {
           "arrowcolor": "#f2f5fa",
           "arrowhead": 0,
           "arrowwidth": 1
          },
          "geo": {
           "bgcolor": "rgb(17,17,17)",
           "landcolor": "rgb(17,17,17)",
           "subunitcolor": "#506784",
           "showland": true,
           "showlakes": true,
           "lakecolor": "rgb(17,17,17)"
          },
          "title": {
           "x": 0.05
          },
          "updatemenudefaults": {
           "bgcolor": "#506784",
           "borderwidth": 0
          },
          "sliderdefaults": {
           "bgcolor": "#C8D4E3",
           "borderwidth": 1,
           "bordercolor": "rgb(17,17,17)",
           "tickwidth": 0
          },
          "mapbox": {
           "style": "dark"
          }
         }
        },
        "xaxis": {
         "anchor": "y",
         "domain": [
          0.0,
          1.0
         ],
         "title": {
          "text": "x"
         }
        },
        "yaxis": {
         "anchor": "x",
         "domain": [
          0.0,
          1.0
         ],
         "title": {
          "text": "y"
         }
        },
        "legend": {
         "tracegroupgap": 0
        },
        "margin": {
         "t": 60
        }
       },
       "config": {
        "plotlyServerURL": "https://plot.ly"
       }
      },
      "text/html": "<div>                            <div id=\"f937637b-6d06-4d91-af6f-3b162d33e488\" class=\"plotly-graph-div\" style=\"height:525px; width:100%;\"></div>            <script type=\"text/javascript\">                require([\"plotly\"], function(Plotly) {                    window.PLOTLYENV=window.PLOTLYENV || {};                                    if (document.getElementById(\"f937637b-6d06-4d91-af6f-3b162d33e488\")) {                    Plotly.newPlot(                        \"f937637b-6d06-4d91-af6f-3b162d33e488\",                        [{\"hovertemplate\":\"x=%{x}\\u003cbr\\u003ey=%{y}\\u003cextra\\u003e\\u003c\\u002fextra\\u003e\",\"legendgroup\":\"\",\"line\":{\"color\":\"#636efa\",\"dash\":\"solid\"},\"marker\":{\"symbol\":\"circle\"},\"mode\":\"lines\",\"name\":\"\",\"orientation\":\"v\",\"showlegend\":false,\"x\":[1489.670166015625,1488.5650634765625,1487.459716796875,1486.354248046875,1485.24853515625,1484.142578125,1483.0364990234375,1481.93017578125,1480.8236083984375,1479.7169189453125,1478.6099853515625,1477.5028076171875,1476.3955078125,1475.2879638671875,1474.1802978515625,1473.0723876953125,1471.9642333984375,1470.8558349609375,1469.747314453125,1468.638671875,1467.5296630859375,1466.4205322265625,1465.311279296875,1464.20166015625,1463.0919189453125,1461.9820556640625,1460.8719482421875,1459.7615966796875,1458.6510009765625,1457.540283203125,1456.4293212890625,1455.3182373046875,1454.2069091796875,1453.0953369140625,1451.983642578125,1450.8717041015625,1449.759521484375,1448.647216796875,1447.53466796875,1446.421875,1445.3089599609375,1444.19580078125,1443.0823974609375,1441.9688720703125,1440.8551025390625,1439.7410888671875,1438.626953125,1437.5125732421875,1436.3980712890625,1435.2833251953125,1434.1683349609375,1433.0531005859375,1431.937744140625,1430.8221435546875,1429.7064208984375,1428.5904541015625,1427.4742431640625,1426.35791015625,1425.2412109375,1424.12451171875,1423.0074462890625,1421.8902587890625,1420.7728271484375,1419.6552734375,1418.5374755859375,1417.41943359375,1416.30126953125,1415.182861328125,1414.064208984375,1412.9454345703125,1411.826416015625,1410.7071533203125,1409.587646484375,1408.468017578125,1407.3482666015625,1406.2281494140625,1405.10791015625,1403.9874267578125,1402.8668212890625,1401.7459716796875,1400.6248779296875,1399.503662109375,1398.3822021484375,1397.260498046875,1396.1385498046875,1395.0164794921875,1393.894287109375,1392.771728515625,1391.6490478515625,1390.526123046875,1389.403076171875,1388.2796630859375,1387.15625,1386.032470703125,1384.9085693359375,1383.784423828125,1382.6600341796875,1381.5355224609375,1380.4107666015625,1379.2857666015625,1378.16064453125,1377.0352783203125,1375.90966796875,1374.783935546875,1373.657958984375,1372.53173828125,1371.4053955078125,1370.27880859375,1369.1519775390625,1368.02490234375,1366.897705078125,1365.770263671875,1364.6427001953125,1363.5147705078125,1362.38671875,1361.258544921875,1360.1300048828125,1359.0013427734375,1357.87255859375,1356.743408203125,1355.6141357421875,1354.484619140625,1353.35498046875,1352.22509765625,1351.094970703125,1349.964599609375,1348.8341064453125,1347.703369140625,1346.5723876953125,1345.441162109375,1344.309814453125,1343.17822265625,1342.0465087890625,1340.91455078125,1339.7823486328125,1338.64990234375,1337.517333984375,1336.384521484375,1335.25146484375,1334.1181640625,1332.9847412109375,1331.85107421875,1330.7171630859375,1329.5831298828125,1328.4488525390625,1327.3143310546875,1326.1796875,1325.0447998046875,1323.90966796875,1322.7742919921875,1321.6387939453125,1320.5029296875,1319.3670654296875,1318.2308349609375,1317.094482421875,1315.9578857421875,1314.821044921875,1313.68408203125,1312.546875,1311.409423828125,1310.271728515625,1309.1339111328125,1307.995849609375,1306.8575439453125,1305.718994140625,1304.580322265625,1303.44140625,1302.3023681640625,1301.1629638671875,1300.0234375,1298.8836669921875,1297.74365234375,1296.603515625,1295.463134765625,1294.322509765625,1293.181640625,1292.0406494140625,1290.8994140625,1289.7579345703125,1288.6163330078125,1287.474365234375,1286.332275390625,1285.1900634765625,1284.0474853515625,1282.90478515625,1281.7618408203125,1280.61865234375,1279.475341796875,1278.3316650390625,1277.1878662109375,1276.0439453125,1274.899658203125,1273.7552490234375,1272.610595703125,1271.4656982421875,1270.3206787109375,1269.17529296875,1268.02978515625,1266.8841552734375],\"xaxis\":\"x\",\"y\":[0.006325847241187423,0.006306579485803387,0.006300778178528628,0.00633378952120801,0.006321162782588279,0.006261563504898483,0.006279819841264541,0.006264167422960803,0.00627865008903677,0.0062705160290906494,0.006252669556845684,0.006213232038025003,0.006273519477334989,0.006202504643695547,0.0062128295753629565,0.006187161784242459,0.006234051660241697,0.00621561044236862,0.006247114815056965,0.006294382628586036,0.00630887692843763,0.006243514519510002,0.006289804177226731,0.006299360472489247,0.006348249014386612,0.006304608794225083,0.006334492815908794,0.006325529264385879,0.006390001475571054,0.00635296182414944,0.006378310306701147,0.006381646162631956,0.006370674090628792,0.0063871415012924804,0.0064211455709093064,0.006432414546352271,0.00644005658546047,0.006456443072853293,0.006489248546364727,0.006524040726069312,0.006494612465647021,0.0065178189788732245,0.0065399472171248675,0.006552295753750475,0.0066473045311074815,0.006605330613689591,0.006651560995862736,0.00668767207203549,0.006728067203834764,0.006734612542194515,0.0067873002525747446,0.006825004851796005,0.0068594564937137625,0.006885586253715076,0.006946832727274094,0.0069202354585126335,0.007012670208453451,0.007000693782167633,0.007067360613498404,0.007104762540940232,0.007238957714996435,0.007249869354091513,0.007338219636937477,0.007392548716438962,0.007517512436139257,0.007544262882426494,0.0076274323475698375,0.007739495802706595,0.007949454702344361,0.008101199463275848,0.008267971005900002,0.008397731436601505,0.008649579982014351,0.008923764127447649,0.009259884748164377,0.009731218915798022,0.010325423950078324,0.0110221498907891,0.011997697889437026,0.013261212737373488,0.015066362423745983,0.01763734585069202,0.02158750717963175,0.027991637745543266,0.038870941884972435,0.05768818200484978,0.08754647933500662,0.11821151019251191,0.12264987976848124,0.09794015082294763,0.06781249587429314,0.04578130284929379,0.03228600631415975,0.02436775617593458,0.019823055063308132,0.01691387727609912,0.01516180529519946,0.014084219904467244,0.013349737780768256,0.012810474320093489,0.012575866061370587,0.01232896851036938,0.012192893700014435,0.012213315976363721,0.012314832170670151,0.012347207513490043,0.012543214028633013,0.012709039887306966,0.012853867775293107,0.013005870969550809,0.013241951789746598,0.013417496946886489,0.013660086209160828,0.013646751601312523,0.01380267021323583,0.013853200750935712,0.01409904882012418,0.014181138947567992,0.014476235112283645,0.014719579228984661,0.014979159960739789,0.015308291354475458,0.015578142332136792,0.015848213008259632,0.016157115287598292,0.01638347092297356,0.01663989385763972,0.016744981277028934,0.016952889374362283,0.01701518251950215,0.016981729986476766,0.016853407376472652,0.016708020682386908,0.0164124468235417,0.01613576095752734,0.01569105043898996,0.015449803096507807,0.015144012207967662,0.014723780276721271,0.014419203446819556,0.014047670934656614,0.013708338809451322,0.013384772465472464,0.013121947981450402,0.012767693919030477,0.012502172563997641,0.012219060499036897,0.011902891300346191,0.011740438167423048,0.011442846298862115,0.011214471898101416,0.01096675831186092,0.010808110173302478,0.010566615656933431,0.01040496943718521,0.01017758774897834,0.010008011935250822,0.009770052529379883,0.009654437129501484,0.009490078052699748,0.009385039045642384,0.009274245079741344,0.009147292157484565,0.009003304040599527,0.008887190440591896,0.00878134586807394,0.008686438956564107,0.008575899396730837,0.008523610663197533,0.008431158271659198,0.008363248827593754,0.008261676831194203,0.008283345967152557,0.008197305697250945,0.008133128207920302,0.008076784194124427,0.008025724160633671,0.00797612793016049,0.007965955298132942,0.007859075234640365,0.00784191644181485,0.007768885200586617,0.007798138727105363,0.007676002175033806,0.007679444665354734,0.007669503372105663,0.00770986334529152,0.0076916122679522685,0.007707963767265235,0.0076514980965992985,0.007682617814932534,0.007616047926434967,0.007610231556893834,0.0075773681260842855,0.0075281400283092,0.007540810021106774,0.0075065383130193866,0.007490063461019394,0.007483564964242026],\"yaxis\":\"y\",\"type\":\"scatter\"}],                        {\"template\":{\"data\":{\"histogram2dcontour\":[{\"type\":\"histogram2dcontour\",\"colorbar\":{\"outlinewidth\":0,\"ticks\":\"\"},\"colorscale\":[[0.0,\"#0d0887\"],[0.1111111111111111,\"#46039f\"],[0.2222222222222222,\"#7201a8\"],[0.3333333333333333,\"#9c179e\"],[0.4444444444444444,\"#bd3786\"],[0.5555555555555556,\"#d8576b\"],[0.6666666666666666,\"#ed7953\"],[0.7777777777777778,\"#fb9f3a\"],[0.8888888888888888,\"#fdca26\"],[1.0,\"#f0f921\"]]}],\"choropleth\":[{\"type\":\"choropleth\",\"colorbar\":{\"outlinewidth\":0,\"ticks\":\"\"}}],\"histogram2d\":[{\"type\":\"histogram2d\",\"colorbar\":{\"outlinewidth\":0,\"ticks\":\"\"},\"colorscale\":[[0.0,\"#0d0887\"],[0.1111111111111111,\"#46039f\"],[0.2222222222222222,\"#7201a8\"],[0.3333333333333333,\"#9c179e\"],[0.4444444444444444,\"#bd3786\"],[0.5555555555555556,\"#d8576b\"],[0.6666666666666666,\"#ed7953\"],[0.7777777777777778,\"#fb9f3a\"],[0.8888888888888888,\"#fdca26\"],[1.0,\"#f0f921\"]]}],\"heatmap\":[{\"type\":\"heatmap\",\"colorbar\":{\"outlinewidth\":0,\"ticks\":\"\"},\"colorscale\":[[0.0,\"#0d0887\"],[0.1111111111111111,\"#46039f\"],[0.2222222222222222,\"#7201a8\"],[0.3333333333333333,\"#9c179e\"],[0.4444444444444444,\"#bd3786\"],[0.5555555555555556,\"#d8576b\"],[0.6666666666666666,\"#ed7953\"],[0.7777777777777778,\"#fb9f3a\"],[0.8888888888888888,\"#fdca26\"],[1.0,\"#f0f921\"]]}],\"heatmapgl\":[{\"type\":\"heatmapgl\",\"colorbar\":{\"outlinewidth\":0,\"ticks\":\"\"},\"colorscale\":[[0.0,\"#0d0887\"],[0.1111111111111111,\"#46039f\"],[0.2222222222222222,\"#7201a8\"],[0.3333333333333333,\"#9c179e\"],[0.4444444444444444,\"#bd3786\"],[0.5555555555555556,\"#d8576b\"],[0.6666666666666666,\"#ed7953\"],[0.7777777777777778,\"#fb9f3a\"],[0.8888888888888888,\"#fdca26\"],[1.0,\"#f0f921\"]]}],\"contourcarpet\":[{\"type\":\"contourcarpet\",\"colorbar\":{\"outlinewidth\":0,\"ticks\":\"\"}}],\"contour\":[{\"type\":\"contour\",\"colorbar\":{\"outlinewidth\":0,\"ticks\":\"\"},\"colorscale\":[[0.0,\"#0d0887\"],[0.1111111111111111,\"#46039f\"],[0.2222222222222222,\"#7201a8\"],[0.3333333333333333,\"#9c179e\"],[0.4444444444444444,\"#bd3786\"],[0.5555555555555556,\"#d8576b\"],[0.6666666666666666,\"#ed7953\"],[0.7777777777777778,\"#fb9f3a\"],[0.8888888888888888,\"#fdca26\"],[1.0,\"#f0f921\"]]}],\"surface\":[{\"type\":\"surface\",\"colorbar\":{\"outlinewidth\":0,\"ticks\":\"\"},\"colorscale\":[[0.0,\"#0d0887\"],[0.1111111111111111,\"#46039f\"],[0.2222222222222222,\"#7201a8\"],[0.3333333333333333,\"#9c179e\"],[0.4444444444444444,\"#bd3786\"],[0.5555555555555556,\"#d8576b\"],[0.6666666666666666,\"#ed7953\"],[0.7777777777777778,\"#fb9f3a\"],[0.8888888888888888,\"#fdca26\"],[1.0,\"#f0f921\"]]}],\"mesh3d\":[{\"type\":\"mesh3d\",\"colorbar\":{\"outlinewidth\":0,\"ticks\":\"\"}}],\"scatter\":[{\"marker\":{\"line\":{\"color\":\"#283442\"}},\"type\":\"scatter\"}],\"parcoords\":[{\"type\":\"parcoords\",\"line\":{\"colorbar\":{\"outlinewidth\":0,\"ticks\":\"\"}}}],\"scatterpolargl\":[{\"type\":\"scatterpolargl\",\"marker\":{\"colorbar\":{\"outlinewidth\":0,\"ticks\":\"\"}}}],\"bar\":[{\"error_x\":{\"color\":\"#f2f5fa\"},\"error_y\":{\"color\":\"#f2f5fa\"},\"marker\":{\"line\":{\"color\":\"rgb(17,17,17)\",\"width\":0.5},\"pattern\":{\"fillmode\":\"overlay\",\"size\":10,\"solidity\":0.2}},\"type\":\"bar\"}],\"scattergeo\":[{\"type\":\"scattergeo\",\"marker\":{\"colorbar\":{\"outlinewidth\":0,\"ticks\":\"\"}}}],\"scatterpolar\":[{\"type\":\"scatterpolar\",\"marker\":{\"colorbar\":{\"outlinewidth\":0,\"ticks\":\"\"}}}],\"histogram\":[{\"marker\":{\"pattern\":{\"fillmode\":\"overlay\",\"size\":10,\"solidity\":0.2}},\"type\":\"histogram\"}],\"scattergl\":[{\"marker\":{\"line\":{\"color\":\"#283442\"}},\"type\":\"scattergl\"}],\"scatter3d\":[{\"type\":\"scatter3d\",\"line\":{\"colorbar\":{\"outlinewidth\":0,\"ticks\":\"\"}},\"marker\":{\"colorbar\":{\"outlinewidth\":0,\"ticks\":\"\"}}}],\"scattermapbox\":[{\"type\":\"scattermapbox\",\"marker\":{\"colorbar\":{\"outlinewidth\":0,\"ticks\":\"\"}}}],\"scatterternary\":[{\"type\":\"scatterternary\",\"marker\":{\"colorbar\":{\"outlinewidth\":0,\"ticks\":\"\"}}}],\"scattercarpet\":[{\"type\":\"scattercarpet\",\"marker\":{\"colorbar\":{\"outlinewidth\":0,\"ticks\":\"\"}}}],\"carpet\":[{\"aaxis\":{\"endlinecolor\":\"#A2B1C6\",\"gridcolor\":\"#506784\",\"linecolor\":\"#506784\",\"minorgridcolor\":\"#506784\",\"startlinecolor\":\"#A2B1C6\"},\"baxis\":{\"endlinecolor\":\"#A2B1C6\",\"gridcolor\":\"#506784\",\"linecolor\":\"#506784\",\"minorgridcolor\":\"#506784\",\"startlinecolor\":\"#A2B1C6\"},\"type\":\"carpet\"}],\"table\":[{\"cells\":{\"fill\":{\"color\":\"#506784\"},\"line\":{\"color\":\"rgb(17,17,17)\"}},\"header\":{\"fill\":{\"color\":\"#2a3f5f\"},\"line\":{\"color\":\"rgb(17,17,17)\"}},\"type\":\"table\"}],\"barpolar\":[{\"marker\":{\"line\":{\"color\":\"rgb(17,17,17)\",\"width\":0.5},\"pattern\":{\"fillmode\":\"overlay\",\"size\":10,\"solidity\":0.2}},\"type\":\"barpolar\"}],\"pie\":[{\"automargin\":true,\"type\":\"pie\"}]},\"layout\":{\"autotypenumbers\":\"strict\",\"colorway\":[\"#636efa\",\"#EF553B\",\"#00cc96\",\"#ab63fa\",\"#FFA15A\",\"#19d3f3\",\"#FF6692\",\"#B6E880\",\"#FF97FF\",\"#FECB52\"],\"font\":{\"color\":\"#f2f5fa\"},\"hovermode\":\"closest\",\"hoverlabel\":{\"align\":\"left\"},\"paper_bgcolor\":\"rgb(17,17,17)\",\"plot_bgcolor\":\"rgb(17,17,17)\",\"polar\":{\"bgcolor\":\"rgb(17,17,17)\",\"angularaxis\":{\"gridcolor\":\"#506784\",\"linecolor\":\"#506784\",\"ticks\":\"\"},\"radialaxis\":{\"gridcolor\":\"#506784\",\"linecolor\":\"#506784\",\"ticks\":\"\"}},\"ternary\":{\"bgcolor\":\"rgb(17,17,17)\",\"aaxis\":{\"gridcolor\":\"#506784\",\"linecolor\":\"#506784\",\"ticks\":\"\"},\"baxis\":{\"gridcolor\":\"#506784\",\"linecolor\":\"#506784\",\"ticks\":\"\"},\"caxis\":{\"gridcolor\":\"#506784\",\"linecolor\":\"#506784\",\"ticks\":\"\"}},\"coloraxis\":{\"colorbar\":{\"outlinewidth\":0,\"ticks\":\"\"}},\"colorscale\":{\"sequential\":[[0.0,\"#0d0887\"],[0.1111111111111111,\"#46039f\"],[0.2222222222222222,\"#7201a8\"],[0.3333333333333333,\"#9c179e\"],[0.4444444444444444,\"#bd3786\"],[0.5555555555555556,\"#d8576b\"],[0.6666666666666666,\"#ed7953\"],[0.7777777777777778,\"#fb9f3a\"],[0.8888888888888888,\"#fdca26\"],[1.0,\"#f0f921\"]],\"sequentialminus\":[[0.0,\"#0d0887\"],[0.1111111111111111,\"#46039f\"],[0.2222222222222222,\"#7201a8\"],[0.3333333333333333,\"#9c179e\"],[0.4444444444444444,\"#bd3786\"],[0.5555555555555556,\"#d8576b\"],[0.6666666666666666,\"#ed7953\"],[0.7777777777777778,\"#fb9f3a\"],[0.8888888888888888,\"#fdca26\"],[1.0,\"#f0f921\"]],\"diverging\":[[0,\"#8e0152\"],[0.1,\"#c51b7d\"],[0.2,\"#de77ae\"],[0.3,\"#f1b6da\"],[0.4,\"#fde0ef\"],[0.5,\"#f7f7f7\"],[0.6,\"#e6f5d0\"],[0.7,\"#b8e186\"],[0.8,\"#7fbc41\"],[0.9,\"#4d9221\"],[1,\"#276419\"]]},\"xaxis\":{\"gridcolor\":\"#283442\",\"linecolor\":\"#506784\",\"ticks\":\"\",\"title\":{\"standoff\":15},\"zerolinecolor\":\"#283442\",\"automargin\":true,\"zerolinewidth\":2},\"yaxis\":{\"gridcolor\":\"#283442\",\"linecolor\":\"#506784\",\"ticks\":\"\",\"title\":{\"standoff\":15},\"zerolinecolor\":\"#283442\",\"automargin\":true,\"zerolinewidth\":2},\"scene\":{\"xaxis\":{\"backgroundcolor\":\"rgb(17,17,17)\",\"gridcolor\":\"#506784\",\"linecolor\":\"#506784\",\"showbackground\":true,\"ticks\":\"\",\"zerolinecolor\":\"#C8D4E3\",\"gridwidth\":2},\"yaxis\":{\"backgroundcolor\":\"rgb(17,17,17)\",\"gridcolor\":\"#506784\",\"linecolor\":\"#506784\",\"showbackground\":true,\"ticks\":\"\",\"zerolinecolor\":\"#C8D4E3\",\"gridwidth\":2},\"zaxis\":{\"backgroundcolor\":\"rgb(17,17,17)\",\"gridcolor\":\"#506784\",\"linecolor\":\"#506784\",\"showbackground\":true,\"ticks\":\"\",\"zerolinecolor\":\"#C8D4E3\",\"gridwidth\":2}},\"shapedefaults\":{\"line\":{\"color\":\"#f2f5fa\"}},\"annotationdefaults\":{\"arrowcolor\":\"#f2f5fa\",\"arrowhead\":0,\"arrowwidth\":1},\"geo\":{\"bgcolor\":\"rgb(17,17,17)\",\"landcolor\":\"rgb(17,17,17)\",\"subunitcolor\":\"#506784\",\"showland\":true,\"showlakes\":true,\"lakecolor\":\"rgb(17,17,17)\"},\"title\":{\"x\":0.05},\"updatemenudefaults\":{\"bgcolor\":\"#506784\",\"borderwidth\":0},\"sliderdefaults\":{\"bgcolor\":\"#C8D4E3\",\"borderwidth\":1,\"bordercolor\":\"rgb(17,17,17)\",\"tickwidth\":0},\"mapbox\":{\"style\":\"dark\"}}},\"xaxis\":{\"anchor\":\"y\",\"domain\":[0.0,1.0],\"title\":{\"text\":\"x\"}},\"yaxis\":{\"anchor\":\"x\",\"domain\":[0.0,1.0],\"title\":{\"text\":\"y\"}},\"legend\":{\"tracegroupgap\":0},\"margin\":{\"t\":60}},                        {\"responsive\": true}                    ).then(function(){\n                            \nvar gd = document.getElementById('f937637b-6d06-4d91-af6f-3b162d33e488');\nvar x = new MutationObserver(function (mutations, observer) {{\n        var display = window.getComputedStyle(gd).display;\n        if (!display || display === 'none') {{\n            console.log([gd, 'removed!']);\n            Plotly.purge(gd);\n            observer.disconnect();\n        }}\n}});\n\n// Listen for the removal of the full notebook cells\nvar notebookContainer = gd.closest('#notebook-container');\nif (notebookContainer) {{\n    x.observe(notebookContainer, {childList: true});\n}}\n\n// Listen for the clearing of the current output cell\nvar outputEl = gd.closest('.output');\nif (outputEl) {{\n    x.observe(outputEl, {childList: true});\n}}\n\n                        })                };                });            </script>        </div>"
     },
     "metadata": {},
     "output_type": "display_data"
    },
    {
     "data": {
      "application/vnd.plotly.v1+json": {
       "data": [
        {
         "hovertemplate": "x=%{x}<br>y=%{y}<extra></extra>",
         "legendgroup": "",
         "line": {
          "color": "#636efa",
          "dash": "solid"
         },
         "marker": {
          "symbol": "circle"
         },
         "mode": "lines",
         "name": "",
         "orientation": "v",
         "showlegend": false,
         "x": [
          1489.670166015625,
          1488.5650634765625,
          1487.459716796875,
          1486.354248046875,
          1485.24853515625,
          1484.142578125,
          1483.0364990234375,
          1481.93017578125,
          1480.8236083984375,
          1479.7169189453125,
          1478.6099853515625,
          1477.5028076171875,
          1476.3955078125,
          1475.2879638671875,
          1474.1802978515625,
          1473.0723876953125,
          1471.9642333984375,
          1470.8558349609375,
          1469.747314453125,
          1468.638671875,
          1467.5296630859375,
          1466.4205322265625,
          1465.311279296875,
          1464.20166015625,
          1463.0919189453125,
          1461.9820556640625,
          1460.8719482421875,
          1459.7615966796875,
          1458.6510009765625,
          1457.540283203125,
          1456.4293212890625,
          1455.3182373046875,
          1454.2069091796875,
          1453.0953369140625,
          1451.983642578125,
          1450.8717041015625,
          1449.759521484375,
          1448.647216796875,
          1447.53466796875,
          1446.421875,
          1445.3089599609375,
          1444.19580078125,
          1443.0823974609375,
          1441.9688720703125,
          1440.8551025390625,
          1439.7410888671875,
          1438.626953125,
          1437.5125732421875,
          1436.3980712890625,
          1435.2833251953125,
          1434.1683349609375,
          1433.0531005859375,
          1431.937744140625,
          1430.8221435546875,
          1429.7064208984375,
          1428.5904541015625,
          1427.4742431640625,
          1426.35791015625,
          1425.2412109375,
          1424.12451171875,
          1423.0074462890625,
          1421.8902587890625,
          1420.7728271484375,
          1419.6552734375,
          1418.5374755859375,
          1417.41943359375,
          1416.30126953125,
          1415.182861328125,
          1414.064208984375,
          1412.9454345703125,
          1411.826416015625,
          1410.7071533203125,
          1409.587646484375,
          1408.468017578125,
          1407.3482666015625,
          1406.2281494140625,
          1405.10791015625,
          1403.9874267578125,
          1402.8668212890625,
          1401.7459716796875,
          1400.6248779296875,
          1399.503662109375,
          1398.3822021484375,
          1397.260498046875,
          1396.1385498046875,
          1395.0164794921875,
          1393.894287109375,
          1392.771728515625,
          1391.6490478515625,
          1390.526123046875,
          1389.403076171875,
          1388.2796630859375,
          1387.15625,
          1386.032470703125,
          1384.9085693359375,
          1383.784423828125,
          1382.6600341796875,
          1381.5355224609375,
          1380.4107666015625,
          1379.2857666015625,
          1378.16064453125,
          1377.0352783203125,
          1375.90966796875,
          1374.783935546875,
          1373.657958984375,
          1372.53173828125,
          1371.4053955078125,
          1370.27880859375,
          1369.1519775390625,
          1368.02490234375,
          1366.897705078125,
          1365.770263671875,
          1364.6427001953125,
          1363.5147705078125,
          1362.38671875,
          1361.258544921875,
          1360.1300048828125,
          1359.0013427734375,
          1357.87255859375,
          1356.743408203125,
          1355.6141357421875,
          1354.484619140625,
          1353.35498046875,
          1352.22509765625,
          1351.094970703125,
          1349.964599609375,
          1348.8341064453125,
          1347.703369140625,
          1346.5723876953125,
          1345.441162109375,
          1344.309814453125,
          1343.17822265625,
          1342.0465087890625,
          1340.91455078125,
          1339.7823486328125,
          1338.64990234375,
          1337.517333984375,
          1336.384521484375,
          1335.25146484375,
          1334.1181640625,
          1332.9847412109375,
          1331.85107421875,
          1330.7171630859375,
          1329.5831298828125,
          1328.4488525390625,
          1327.3143310546875,
          1326.1796875,
          1325.0447998046875,
          1323.90966796875,
          1322.7742919921875,
          1321.6387939453125,
          1320.5029296875,
          1319.3670654296875,
          1318.2308349609375,
          1317.094482421875,
          1315.9578857421875,
          1314.821044921875,
          1313.68408203125,
          1312.546875,
          1311.409423828125,
          1310.271728515625,
          1309.1339111328125,
          1307.995849609375,
          1306.8575439453125,
          1305.718994140625,
          1304.580322265625,
          1303.44140625,
          1302.3023681640625,
          1301.1629638671875,
          1300.0234375,
          1298.8836669921875,
          1297.74365234375,
          1296.603515625,
          1295.463134765625,
          1294.322509765625,
          1293.181640625,
          1292.0406494140625,
          1290.8994140625,
          1289.7579345703125,
          1288.6163330078125,
          1287.474365234375,
          1286.332275390625,
          1285.1900634765625,
          1284.0474853515625,
          1282.90478515625,
          1281.7618408203125,
          1280.61865234375,
          1279.475341796875,
          1278.3316650390625,
          1277.1878662109375,
          1276.0439453125,
          1274.899658203125,
          1273.7552490234375,
          1272.610595703125,
          1271.4656982421875,
          1270.3206787109375,
          1269.17529296875,
          1268.02978515625,
          1266.8841552734375
         ],
         "xaxis": "x",
         "y": [
          -0.003767036833795235,
          -0.003796804440684695,
          -0.0037732397549018644,
          -0.003816391265646368,
          -0.0038152522271818435,
          -0.0037718526088880606,
          -0.003790426140794482,
          -0.0037867320354238814,
          -0.0037854065445478455,
          -0.0038082805452984954,
          -0.0038302606370322336,
          -0.0037751296465190712,
          -0.0038170908527021975,
          -0.003788607545209406,
          -0.00377701659793103,
          -0.0037838078141255675,
          -0.0038082101628284,
          -0.003811405004587122,
          -0.0038187467960290673,
          -0.003869074939399253,
          -0.003852237828058511,
          -0.0037993716360516213,
          -0.0038508933816312875,
          -0.0038704146065729394,
          -0.003913896382329255,
          -0.003896325419558481,
          -0.0038958067710768945,
          -0.0038979497543117363,
          -0.003934723955815412,
          -0.003922088037971377,
          -0.003953926343502924,
          -0.003924079403543032,
          -0.0038995725454554885,
          -0.003926702847759531,
          -0.003974453876545564,
          -0.003970449748860176,
          -0.00396207386911361,
          -0.003994073353501674,
          -0.003994944277651244,
          -0.004047663572050257,
          -0.003986506030781252,
          -0.004010001194270911,
          -0.003986323098368017,
          -0.004003331666801099,
          -0.004089828204305655,
          -0.004022872106087581,
          -0.004057938017855882,
          -0.004082439085712059,
          -0.004130575788201225,
          -0.004083550860705816,
          -0.0041066988387352356,
          -0.00412841378408813,
          -0.004101988604006621,
          -0.004108842182227551,
          -0.004142943672587478,
          -0.0040961835922467315,
          -0.004153015127265222,
          -0.004084196995847335,
          -0.004109995014759511,
          -0.0041182613039082395,
          -0.004192135560055733,
          -0.004121266439727033,
          -0.004178206119731826,
          -0.004148229365205781,
          -0.004167495991722245,
          -0.004115083450337423,
          -0.004069440331891853,
          -0.004118821215894305,
          -0.004129299289908135,
          -0.004151905496457976,
          -0.004117268044609512,
          -0.004038787130775399,
          -0.003975419207736335,
          -0.003945500891955316,
          -0.003882214739641938,
          -0.003838930254302369,
          -0.0037439299148103863,
          -0.0035614615914253966,
          -0.0033589817810491087,
          -0.0030158528273290693,
          -0.002738517788165031,
          -0.002536018538069965,
          -0.0022148397773313756,
          -0.0023646798430939217,
          -0.002686337098630039,
          -0.003552632405876301,
          -0.006704104313065743,
          -0.007827232827669194,
          -0.003956032417227084,
          -0.0037106899742513667,
          -0.0063695397759857796,
          -0.0078384181522217,
          -0.007681065358101087,
          -0.007048578594776824,
          -0.0064874022574498424,
          -0.00600013194139175,
          -0.0057129105442893,
          -0.00565583069924216,
          -0.005604163890017385,
          -0.005581112557464932,
          -0.005661060164177282,
          -0.005680019259578713,
          -0.005623943286670916,
          -0.005798655273539509,
          -0.0058828508205300755,
          -0.005915042562260016,
          -0.006016653934193756,
          -0.0060633757626851635,
          -0.006082539960829755,
          -0.006007137392291248,
          -0.005953351245071762,
          -0.005796700432690651,
          -0.005660435634452304,
          -0.005254708614826185,
          -0.004914656201228398,
          -0.004435608845659579,
          -0.004077551609307565,
          -0.003559159358331717,
          -0.0031506935611331473,
          -0.0026311228231083836,
          -0.0020773205039054657,
          -0.001515099960837447,
          -9.930405359583824E-4,
          -4.655903064312649E-4,
          5.480233311357755E-5,
          6.563942957031075E-4,
          0.0011165114067758959,
          0.0015327683012499767,
          0.0018602459201275457,
          0.002137934141668072,
          0.0023651992828954433,
          0.002414444259240645,
          0.002333261175899514,
          0.002175463072217186,
          0.00185873346180965,
          0.0015447763188399042,
          0.0011102862547180653,
          6.004974550441265E-4,
          2.274610785266521E-4,
          -2.3886627475786995E-4,
          -6.394215207781848E-4,
          -0.0010426893691293203,
          -0.0012788275550077574,
          -0.001587331754243066,
          -0.0017610804166159166,
          -0.002038281820053582,
          -0.0021738556497560425,
          -0.002270024979392866,
          -0.002500174807175147,
          -0.002630304873042035,
          -0.0027754943494408477,
          -0.0028950885756395027,
          -0.0030927983976009074,
          -0.003156700436188484,
          -0.0033118506356857175,
          -0.00338780235975047,
          -0.0034924645536670127,
          -0.0035561074817619625,
          -0.0037263626940237456,
          -0.003844901740747555,
          -0.003949104915368266,
          -0.004038456607232551,
          -0.004144404046468088,
          -0.004193236431850067,
          -0.004308722453645501,
          -0.004382064912423215,
          -0.004456713807024545,
          -0.0044970341339608125,
          -0.004572074308820486,
          -0.004622081681448243,
          -0.004675507876367791,
          -0.004653903440663188,
          -0.0047829871542428995,
          -0.0048052881713825015,
          -0.004811989864795295,
          -0.004842616988025035,
          -0.004857517673671925,
          -0.004900963851741123,
          -0.0049412948944876,
          -0.004919086783946964,
          -0.004944533346981422,
          -0.004971536922235035,
          -0.005022769907598914,
          -0.004943039702677731,
          -0.004974115221365964,
          -0.005037169655541647,
          -0.0050737394928086444,
          -0.005125887056224698,
          -0.005116013064368089,
          -0.005139927383343323,
          -0.005180679038457863,
          -0.0051825285257477045,
          -0.005182922766343846,
          -0.005237549004298695,
          -0.005197846936592963,
          -0.005247768962630408,
          -0.005258295265437887,
          -0.005283219519685631,
          -0.005279304582330923
         ],
         "yaxis": "y",
         "type": "scatter"
        }
       ],
       "layout": {
        "template": {
         "data": {
          "histogram2dcontour": [
           {
            "type": "histogram2dcontour",
            "colorbar": {
             "outlinewidth": 0,
             "ticks": ""
            },
            "colorscale": [
             [
              0.0,
              "#0d0887"
             ],
             [
              0.1111111111111111,
              "#46039f"
             ],
             [
              0.2222222222222222,
              "#7201a8"
             ],
             [
              0.3333333333333333,
              "#9c179e"
             ],
             [
              0.4444444444444444,
              "#bd3786"
             ],
             [
              0.5555555555555556,
              "#d8576b"
             ],
             [
              0.6666666666666666,
              "#ed7953"
             ],
             [
              0.7777777777777778,
              "#fb9f3a"
             ],
             [
              0.8888888888888888,
              "#fdca26"
             ],
             [
              1.0,
              "#f0f921"
             ]
            ]
           }
          ],
          "choropleth": [
           {
            "type": "choropleth",
            "colorbar": {
             "outlinewidth": 0,
             "ticks": ""
            }
           }
          ],
          "histogram2d": [
           {
            "type": "histogram2d",
            "colorbar": {
             "outlinewidth": 0,
             "ticks": ""
            },
            "colorscale": [
             [
              0.0,
              "#0d0887"
             ],
             [
              0.1111111111111111,
              "#46039f"
             ],
             [
              0.2222222222222222,
              "#7201a8"
             ],
             [
              0.3333333333333333,
              "#9c179e"
             ],
             [
              0.4444444444444444,
              "#bd3786"
             ],
             [
              0.5555555555555556,
              "#d8576b"
             ],
             [
              0.6666666666666666,
              "#ed7953"
             ],
             [
              0.7777777777777778,
              "#fb9f3a"
             ],
             [
              0.8888888888888888,
              "#fdca26"
             ],
             [
              1.0,
              "#f0f921"
             ]
            ]
           }
          ],
          "heatmap": [
           {
            "type": "heatmap",
            "colorbar": {
             "outlinewidth": 0,
             "ticks": ""
            },
            "colorscale": [
             [
              0.0,
              "#0d0887"
             ],
             [
              0.1111111111111111,
              "#46039f"
             ],
             [
              0.2222222222222222,
              "#7201a8"
             ],
             [
              0.3333333333333333,
              "#9c179e"
             ],
             [
              0.4444444444444444,
              "#bd3786"
             ],
             [
              0.5555555555555556,
              "#d8576b"
             ],
             [
              0.6666666666666666,
              "#ed7953"
             ],
             [
              0.7777777777777778,
              "#fb9f3a"
             ],
             [
              0.8888888888888888,
              "#fdca26"
             ],
             [
              1.0,
              "#f0f921"
             ]
            ]
           }
          ],
          "heatmapgl": [
           {
            "type": "heatmapgl",
            "colorbar": {
             "outlinewidth": 0,
             "ticks": ""
            },
            "colorscale": [
             [
              0.0,
              "#0d0887"
             ],
             [
              0.1111111111111111,
              "#46039f"
             ],
             [
              0.2222222222222222,
              "#7201a8"
             ],
             [
              0.3333333333333333,
              "#9c179e"
             ],
             [
              0.4444444444444444,
              "#bd3786"
             ],
             [
              0.5555555555555556,
              "#d8576b"
             ],
             [
              0.6666666666666666,
              "#ed7953"
             ],
             [
              0.7777777777777778,
              "#fb9f3a"
             ],
             [
              0.8888888888888888,
              "#fdca26"
             ],
             [
              1.0,
              "#f0f921"
             ]
            ]
           }
          ],
          "contourcarpet": [
           {
            "type": "contourcarpet",
            "colorbar": {
             "outlinewidth": 0,
             "ticks": ""
            }
           }
          ],
          "contour": [
           {
            "type": "contour",
            "colorbar": {
             "outlinewidth": 0,
             "ticks": ""
            },
            "colorscale": [
             [
              0.0,
              "#0d0887"
             ],
             [
              0.1111111111111111,
              "#46039f"
             ],
             [
              0.2222222222222222,
              "#7201a8"
             ],
             [
              0.3333333333333333,
              "#9c179e"
             ],
             [
              0.4444444444444444,
              "#bd3786"
             ],
             [
              0.5555555555555556,
              "#d8576b"
             ],
             [
              0.6666666666666666,
              "#ed7953"
             ],
             [
              0.7777777777777778,
              "#fb9f3a"
             ],
             [
              0.8888888888888888,
              "#fdca26"
             ],
             [
              1.0,
              "#f0f921"
             ]
            ]
           }
          ],
          "surface": [
           {
            "type": "surface",
            "colorbar": {
             "outlinewidth": 0,
             "ticks": ""
            },
            "colorscale": [
             [
              0.0,
              "#0d0887"
             ],
             [
              0.1111111111111111,
              "#46039f"
             ],
             [
              0.2222222222222222,
              "#7201a8"
             ],
             [
              0.3333333333333333,
              "#9c179e"
             ],
             [
              0.4444444444444444,
              "#bd3786"
             ],
             [
              0.5555555555555556,
              "#d8576b"
             ],
             [
              0.6666666666666666,
              "#ed7953"
             ],
             [
              0.7777777777777778,
              "#fb9f3a"
             ],
             [
              0.8888888888888888,
              "#fdca26"
             ],
             [
              1.0,
              "#f0f921"
             ]
            ]
           }
          ],
          "mesh3d": [
           {
            "type": "mesh3d",
            "colorbar": {
             "outlinewidth": 0,
             "ticks": ""
            }
           }
          ],
          "scatter": [
           {
            "marker": {
             "line": {
              "color": "#283442"
             }
            },
            "type": "scatter"
           }
          ],
          "parcoords": [
           {
            "type": "parcoords",
            "line": {
             "colorbar": {
              "outlinewidth": 0,
              "ticks": ""
             }
            }
           }
          ],
          "scatterpolargl": [
           {
            "type": "scatterpolargl",
            "marker": {
             "colorbar": {
              "outlinewidth": 0,
              "ticks": ""
             }
            }
           }
          ],
          "bar": [
           {
            "error_x": {
             "color": "#f2f5fa"
            },
            "error_y": {
             "color": "#f2f5fa"
            },
            "marker": {
             "line": {
              "color": "rgb(17,17,17)",
              "width": 0.5
             },
             "pattern": {
              "fillmode": "overlay",
              "size": 10,
              "solidity": 0.2
             }
            },
            "type": "bar"
           }
          ],
          "scattergeo": [
           {
            "type": "scattergeo",
            "marker": {
             "colorbar": {
              "outlinewidth": 0,
              "ticks": ""
             }
            }
           }
          ],
          "scatterpolar": [
           {
            "type": "scatterpolar",
            "marker": {
             "colorbar": {
              "outlinewidth": 0,
              "ticks": ""
             }
            }
           }
          ],
          "histogram": [
           {
            "marker": {
             "pattern": {
              "fillmode": "overlay",
              "size": 10,
              "solidity": 0.2
             }
            },
            "type": "histogram"
           }
          ],
          "scattergl": [
           {
            "marker": {
             "line": {
              "color": "#283442"
             }
            },
            "type": "scattergl"
           }
          ],
          "scatter3d": [
           {
            "type": "scatter3d",
            "line": {
             "colorbar": {
              "outlinewidth": 0,
              "ticks": ""
             }
            },
            "marker": {
             "colorbar": {
              "outlinewidth": 0,
              "ticks": ""
             }
            }
           }
          ],
          "scattermapbox": [
           {
            "type": "scattermapbox",
            "marker": {
             "colorbar": {
              "outlinewidth": 0,
              "ticks": ""
             }
            }
           }
          ],
          "scatterternary": [
           {
            "type": "scatterternary",
            "marker": {
             "colorbar": {
              "outlinewidth": 0,
              "ticks": ""
             }
            }
           }
          ],
          "scattercarpet": [
           {
            "type": "scattercarpet",
            "marker": {
             "colorbar": {
              "outlinewidth": 0,
              "ticks": ""
             }
            }
           }
          ],
          "carpet": [
           {
            "aaxis": {
             "endlinecolor": "#A2B1C6",
             "gridcolor": "#506784",
             "linecolor": "#506784",
             "minorgridcolor": "#506784",
             "startlinecolor": "#A2B1C6"
            },
            "baxis": {
             "endlinecolor": "#A2B1C6",
             "gridcolor": "#506784",
             "linecolor": "#506784",
             "minorgridcolor": "#506784",
             "startlinecolor": "#A2B1C6"
            },
            "type": "carpet"
           }
          ],
          "table": [
           {
            "cells": {
             "fill": {
              "color": "#506784"
             },
             "line": {
              "color": "rgb(17,17,17)"
             }
            },
            "header": {
             "fill": {
              "color": "#2a3f5f"
             },
             "line": {
              "color": "rgb(17,17,17)"
             }
            },
            "type": "table"
           }
          ],
          "barpolar": [
           {
            "marker": {
             "line": {
              "color": "rgb(17,17,17)",
              "width": 0.5
             },
             "pattern": {
              "fillmode": "overlay",
              "size": 10,
              "solidity": 0.2
             }
            },
            "type": "barpolar"
           }
          ],
          "pie": [
           {
            "automargin": true,
            "type": "pie"
           }
          ]
         },
         "layout": {
          "autotypenumbers": "strict",
          "colorway": [
           "#636efa",
           "#EF553B",
           "#00cc96",
           "#ab63fa",
           "#FFA15A",
           "#19d3f3",
           "#FF6692",
           "#B6E880",
           "#FF97FF",
           "#FECB52"
          ],
          "font": {
           "color": "#f2f5fa"
          },
          "hovermode": "closest",
          "hoverlabel": {
           "align": "left"
          },
          "paper_bgcolor": "rgb(17,17,17)",
          "plot_bgcolor": "rgb(17,17,17)",
          "polar": {
           "bgcolor": "rgb(17,17,17)",
           "angularaxis": {
            "gridcolor": "#506784",
            "linecolor": "#506784",
            "ticks": ""
           },
           "radialaxis": {
            "gridcolor": "#506784",
            "linecolor": "#506784",
            "ticks": ""
           }
          },
          "ternary": {
           "bgcolor": "rgb(17,17,17)",
           "aaxis": {
            "gridcolor": "#506784",
            "linecolor": "#506784",
            "ticks": ""
           },
           "baxis": {
            "gridcolor": "#506784",
            "linecolor": "#506784",
            "ticks": ""
           },
           "caxis": {
            "gridcolor": "#506784",
            "linecolor": "#506784",
            "ticks": ""
           }
          },
          "coloraxis": {
           "colorbar": {
            "outlinewidth": 0,
            "ticks": ""
           }
          },
          "colorscale": {
           "sequential": [
            [
             0.0,
             "#0d0887"
            ],
            [
             0.1111111111111111,
             "#46039f"
            ],
            [
             0.2222222222222222,
             "#7201a8"
            ],
            [
             0.3333333333333333,
             "#9c179e"
            ],
            [
             0.4444444444444444,
             "#bd3786"
            ],
            [
             0.5555555555555556,
             "#d8576b"
            ],
            [
             0.6666666666666666,
             "#ed7953"
            ],
            [
             0.7777777777777778,
             "#fb9f3a"
            ],
            [
             0.8888888888888888,
             "#fdca26"
            ],
            [
             1.0,
             "#f0f921"
            ]
           ],
           "sequentialminus": [
            [
             0.0,
             "#0d0887"
            ],
            [
             0.1111111111111111,
             "#46039f"
            ],
            [
             0.2222222222222222,
             "#7201a8"
            ],
            [
             0.3333333333333333,
             "#9c179e"
            ],
            [
             0.4444444444444444,
             "#bd3786"
            ],
            [
             0.5555555555555556,
             "#d8576b"
            ],
            [
             0.6666666666666666,
             "#ed7953"
            ],
            [
             0.7777777777777778,
             "#fb9f3a"
            ],
            [
             0.8888888888888888,
             "#fdca26"
            ],
            [
             1.0,
             "#f0f921"
            ]
           ],
           "diverging": [
            [
             0,
             "#8e0152"
            ],
            [
             0.1,
             "#c51b7d"
            ],
            [
             0.2,
             "#de77ae"
            ],
            [
             0.3,
             "#f1b6da"
            ],
            [
             0.4,
             "#fde0ef"
            ],
            [
             0.5,
             "#f7f7f7"
            ],
            [
             0.6,
             "#e6f5d0"
            ],
            [
             0.7,
             "#b8e186"
            ],
            [
             0.8,
             "#7fbc41"
            ],
            [
             0.9,
             "#4d9221"
            ],
            [
             1,
             "#276419"
            ]
           ]
          },
          "xaxis": {
           "gridcolor": "#283442",
           "linecolor": "#506784",
           "ticks": "",
           "title": {
            "standoff": 15
           },
           "zerolinecolor": "#283442",
           "automargin": true,
           "zerolinewidth": 2
          },
          "yaxis": {
           "gridcolor": "#283442",
           "linecolor": "#506784",
           "ticks": "",
           "title": {
            "standoff": 15
           },
           "zerolinecolor": "#283442",
           "automargin": true,
           "zerolinewidth": 2
          },
          "scene": {
           "xaxis": {
            "backgroundcolor": "rgb(17,17,17)",
            "gridcolor": "#506784",
            "linecolor": "#506784",
            "showbackground": true,
            "ticks": "",
            "zerolinecolor": "#C8D4E3",
            "gridwidth": 2
           },
           "yaxis": {
            "backgroundcolor": "rgb(17,17,17)",
            "gridcolor": "#506784",
            "linecolor": "#506784",
            "showbackground": true,
            "ticks": "",
            "zerolinecolor": "#C8D4E3",
            "gridwidth": 2
           },
           "zaxis": {
            "backgroundcolor": "rgb(17,17,17)",
            "gridcolor": "#506784",
            "linecolor": "#506784",
            "showbackground": true,
            "ticks": "",
            "zerolinecolor": "#C8D4E3",
            "gridwidth": 2
           }
          },
          "shapedefaults": {
           "line": {
            "color": "#f2f5fa"
           }
          },
          "annotationdefaults": {
           "arrowcolor": "#f2f5fa",
           "arrowhead": 0,
           "arrowwidth": 1
          },
          "geo": {
           "bgcolor": "rgb(17,17,17)",
           "landcolor": "rgb(17,17,17)",
           "subunitcolor": "#506784",
           "showland": true,
           "showlakes": true,
           "lakecolor": "rgb(17,17,17)"
          },
          "title": {
           "x": 0.05
          },
          "updatemenudefaults": {
           "bgcolor": "#506784",
           "borderwidth": 0
          },
          "sliderdefaults": {
           "bgcolor": "#C8D4E3",
           "borderwidth": 1,
           "bordercolor": "rgb(17,17,17)",
           "tickwidth": 0
          },
          "mapbox": {
           "style": "dark"
          }
         }
        },
        "xaxis": {
         "anchor": "y",
         "domain": [
          0.0,
          1.0
         ],
         "title": {
          "text": "x"
         }
        },
        "yaxis": {
         "anchor": "x",
         "domain": [
          0.0,
          1.0
         ],
         "title": {
          "text": "y"
         }
        },
        "legend": {
         "tracegroupgap": 0
        },
        "margin": {
         "t": 60
        }
       },
       "config": {
        "plotlyServerURL": "https://plot.ly"
       }
      },
      "text/html": "<div>                            <div id=\"6953f28a-b91e-4c02-90c5-a19302148a23\" class=\"plotly-graph-div\" style=\"height:525px; width:100%;\"></div>            <script type=\"text/javascript\">                require([\"plotly\"], function(Plotly) {                    window.PLOTLYENV=window.PLOTLYENV || {};                                    if (document.getElementById(\"6953f28a-b91e-4c02-90c5-a19302148a23\")) {                    Plotly.newPlot(                        \"6953f28a-b91e-4c02-90c5-a19302148a23\",                        [{\"hovertemplate\":\"x=%{x}\\u003cbr\\u003ey=%{y}\\u003cextra\\u003e\\u003c\\u002fextra\\u003e\",\"legendgroup\":\"\",\"line\":{\"color\":\"#636efa\",\"dash\":\"solid\"},\"marker\":{\"symbol\":\"circle\"},\"mode\":\"lines\",\"name\":\"\",\"orientation\":\"v\",\"showlegend\":false,\"x\":[1489.670166015625,1488.5650634765625,1487.459716796875,1486.354248046875,1485.24853515625,1484.142578125,1483.0364990234375,1481.93017578125,1480.8236083984375,1479.7169189453125,1478.6099853515625,1477.5028076171875,1476.3955078125,1475.2879638671875,1474.1802978515625,1473.0723876953125,1471.9642333984375,1470.8558349609375,1469.747314453125,1468.638671875,1467.5296630859375,1466.4205322265625,1465.311279296875,1464.20166015625,1463.0919189453125,1461.9820556640625,1460.8719482421875,1459.7615966796875,1458.6510009765625,1457.540283203125,1456.4293212890625,1455.3182373046875,1454.2069091796875,1453.0953369140625,1451.983642578125,1450.8717041015625,1449.759521484375,1448.647216796875,1447.53466796875,1446.421875,1445.3089599609375,1444.19580078125,1443.0823974609375,1441.9688720703125,1440.8551025390625,1439.7410888671875,1438.626953125,1437.5125732421875,1436.3980712890625,1435.2833251953125,1434.1683349609375,1433.0531005859375,1431.937744140625,1430.8221435546875,1429.7064208984375,1428.5904541015625,1427.4742431640625,1426.35791015625,1425.2412109375,1424.12451171875,1423.0074462890625,1421.8902587890625,1420.7728271484375,1419.6552734375,1418.5374755859375,1417.41943359375,1416.30126953125,1415.182861328125,1414.064208984375,1412.9454345703125,1411.826416015625,1410.7071533203125,1409.587646484375,1408.468017578125,1407.3482666015625,1406.2281494140625,1405.10791015625,1403.9874267578125,1402.8668212890625,1401.7459716796875,1400.6248779296875,1399.503662109375,1398.3822021484375,1397.260498046875,1396.1385498046875,1395.0164794921875,1393.894287109375,1392.771728515625,1391.6490478515625,1390.526123046875,1389.403076171875,1388.2796630859375,1387.15625,1386.032470703125,1384.9085693359375,1383.784423828125,1382.6600341796875,1381.5355224609375,1380.4107666015625,1379.2857666015625,1378.16064453125,1377.0352783203125,1375.90966796875,1374.783935546875,1373.657958984375,1372.53173828125,1371.4053955078125,1370.27880859375,1369.1519775390625,1368.02490234375,1366.897705078125,1365.770263671875,1364.6427001953125,1363.5147705078125,1362.38671875,1361.258544921875,1360.1300048828125,1359.0013427734375,1357.87255859375,1356.743408203125,1355.6141357421875,1354.484619140625,1353.35498046875,1352.22509765625,1351.094970703125,1349.964599609375,1348.8341064453125,1347.703369140625,1346.5723876953125,1345.441162109375,1344.309814453125,1343.17822265625,1342.0465087890625,1340.91455078125,1339.7823486328125,1338.64990234375,1337.517333984375,1336.384521484375,1335.25146484375,1334.1181640625,1332.9847412109375,1331.85107421875,1330.7171630859375,1329.5831298828125,1328.4488525390625,1327.3143310546875,1326.1796875,1325.0447998046875,1323.90966796875,1322.7742919921875,1321.6387939453125,1320.5029296875,1319.3670654296875,1318.2308349609375,1317.094482421875,1315.9578857421875,1314.821044921875,1313.68408203125,1312.546875,1311.409423828125,1310.271728515625,1309.1339111328125,1307.995849609375,1306.8575439453125,1305.718994140625,1304.580322265625,1303.44140625,1302.3023681640625,1301.1629638671875,1300.0234375,1298.8836669921875,1297.74365234375,1296.603515625,1295.463134765625,1294.322509765625,1293.181640625,1292.0406494140625,1290.8994140625,1289.7579345703125,1288.6163330078125,1287.474365234375,1286.332275390625,1285.1900634765625,1284.0474853515625,1282.90478515625,1281.7618408203125,1280.61865234375,1279.475341796875,1278.3316650390625,1277.1878662109375,1276.0439453125,1274.899658203125,1273.7552490234375,1272.610595703125,1271.4656982421875,1270.3206787109375,1269.17529296875,1268.02978515625,1266.8841552734375],\"xaxis\":\"x\",\"y\":[-0.003767036833795235,-0.003796804440684695,-0.0037732397549018644,-0.003816391265646368,-0.0038152522271818435,-0.0037718526088880606,-0.003790426140794482,-0.0037867320354238814,-0.0037854065445478455,-0.0038082805452984954,-0.0038302606370322336,-0.0037751296465190712,-0.0038170908527021975,-0.003788607545209406,-0.00377701659793103,-0.0037838078141255675,-0.0038082101628284,-0.003811405004587122,-0.0038187467960290673,-0.003869074939399253,-0.003852237828058511,-0.0037993716360516213,-0.0038508933816312875,-0.0038704146065729394,-0.003913896382329255,-0.003896325419558481,-0.0038958067710768945,-0.0038979497543117363,-0.003934723955815412,-0.003922088037971377,-0.003953926343502924,-0.003924079403543032,-0.0038995725454554885,-0.003926702847759531,-0.003974453876545564,-0.003970449748860176,-0.00396207386911361,-0.003994073353501674,-0.003994944277651244,-0.004047663572050257,-0.003986506030781252,-0.004010001194270911,-0.003986323098368017,-0.004003331666801099,-0.004089828204305655,-0.004022872106087581,-0.004057938017855882,-0.004082439085712059,-0.004130575788201225,-0.004083550860705816,-0.0041066988387352356,-0.00412841378408813,-0.004101988604006621,-0.004108842182227551,-0.004142943672587478,-0.0040961835922467315,-0.004153015127265222,-0.004084196995847335,-0.004109995014759511,-0.0041182613039082395,-0.004192135560055733,-0.004121266439727033,-0.004178206119731826,-0.004148229365205781,-0.004167495991722245,-0.004115083450337423,-0.004069440331891853,-0.004118821215894305,-0.004129299289908135,-0.004151905496457976,-0.004117268044609512,-0.004038787130775399,-0.003975419207736335,-0.003945500891955316,-0.003882214739641938,-0.003838930254302369,-0.0037439299148103863,-0.0035614615914253966,-0.0033589817810491087,-0.0030158528273290693,-0.002738517788165031,-0.002536018538069965,-0.0022148397773313756,-0.0023646798430939217,-0.002686337098630039,-0.003552632405876301,-0.006704104313065743,-0.007827232827669194,-0.003956032417227084,-0.0037106899742513667,-0.0063695397759857796,-0.0078384181522217,-0.007681065358101087,-0.007048578594776824,-0.0064874022574498424,-0.00600013194139175,-0.0057129105442893,-0.00565583069924216,-0.005604163890017385,-0.005581112557464932,-0.005661060164177282,-0.005680019259578713,-0.005623943286670916,-0.005798655273539509,-0.0058828508205300755,-0.005915042562260016,-0.006016653934193756,-0.0060633757626851635,-0.006082539960829755,-0.006007137392291248,-0.005953351245071762,-0.005796700432690651,-0.005660435634452304,-0.005254708614826185,-0.004914656201228398,-0.004435608845659579,-0.004077551609307565,-0.003559159358331717,-0.0031506935611331473,-0.0026311228231083836,-0.0020773205039054657,-0.001515099960837447,-0.0009930405359583824,-0.0004655903064312649,5.480233311357755e-05,0.0006563942957031075,0.0011165114067758959,0.0015327683012499767,0.0018602459201275457,0.002137934141668072,0.0023651992828954433,0.002414444259240645,0.002333261175899514,0.002175463072217186,0.00185873346180965,0.0015447763188399042,0.0011102862547180653,0.0006004974550441265,0.0002274610785266521,-0.00023886627475786995,-0.0006394215207781848,-0.0010426893691293203,-0.0012788275550077574,-0.001587331754243066,-0.0017610804166159166,-0.002038281820053582,-0.0021738556497560425,-0.002270024979392866,-0.002500174807175147,-0.002630304873042035,-0.0027754943494408477,-0.0028950885756395027,-0.0030927983976009074,-0.003156700436188484,-0.0033118506356857175,-0.00338780235975047,-0.0034924645536670127,-0.0035561074817619625,-0.0037263626940237456,-0.003844901740747555,-0.003949104915368266,-0.004038456607232551,-0.004144404046468088,-0.004193236431850067,-0.004308722453645501,-0.004382064912423215,-0.004456713807024545,-0.0044970341339608125,-0.004572074308820486,-0.004622081681448243,-0.004675507876367791,-0.004653903440663188,-0.0047829871542428995,-0.0048052881713825015,-0.004811989864795295,-0.004842616988025035,-0.004857517673671925,-0.004900963851741123,-0.0049412948944876,-0.004919086783946964,-0.004944533346981422,-0.004971536922235035,-0.005022769907598914,-0.004943039702677731,-0.004974115221365964,-0.005037169655541647,-0.0050737394928086444,-0.005125887056224698,-0.005116013064368089,-0.005139927383343323,-0.005180679038457863,-0.0051825285257477045,-0.005182922766343846,-0.005237549004298695,-0.005197846936592963,-0.005247768962630408,-0.005258295265437887,-0.005283219519685631,-0.005279304582330923],\"yaxis\":\"y\",\"type\":\"scatter\"}],                        {\"template\":{\"data\":{\"histogram2dcontour\":[{\"type\":\"histogram2dcontour\",\"colorbar\":{\"outlinewidth\":0,\"ticks\":\"\"},\"colorscale\":[[0.0,\"#0d0887\"],[0.1111111111111111,\"#46039f\"],[0.2222222222222222,\"#7201a8\"],[0.3333333333333333,\"#9c179e\"],[0.4444444444444444,\"#bd3786\"],[0.5555555555555556,\"#d8576b\"],[0.6666666666666666,\"#ed7953\"],[0.7777777777777778,\"#fb9f3a\"],[0.8888888888888888,\"#fdca26\"],[1.0,\"#f0f921\"]]}],\"choropleth\":[{\"type\":\"choropleth\",\"colorbar\":{\"outlinewidth\":0,\"ticks\":\"\"}}],\"histogram2d\":[{\"type\":\"histogram2d\",\"colorbar\":{\"outlinewidth\":0,\"ticks\":\"\"},\"colorscale\":[[0.0,\"#0d0887\"],[0.1111111111111111,\"#46039f\"],[0.2222222222222222,\"#7201a8\"],[0.3333333333333333,\"#9c179e\"],[0.4444444444444444,\"#bd3786\"],[0.5555555555555556,\"#d8576b\"],[0.6666666666666666,\"#ed7953\"],[0.7777777777777778,\"#fb9f3a\"],[0.8888888888888888,\"#fdca26\"],[1.0,\"#f0f921\"]]}],\"heatmap\":[{\"type\":\"heatmap\",\"colorbar\":{\"outlinewidth\":0,\"ticks\":\"\"},\"colorscale\":[[0.0,\"#0d0887\"],[0.1111111111111111,\"#46039f\"],[0.2222222222222222,\"#7201a8\"],[0.3333333333333333,\"#9c179e\"],[0.4444444444444444,\"#bd3786\"],[0.5555555555555556,\"#d8576b\"],[0.6666666666666666,\"#ed7953\"],[0.7777777777777778,\"#fb9f3a\"],[0.8888888888888888,\"#fdca26\"],[1.0,\"#f0f921\"]]}],\"heatmapgl\":[{\"type\":\"heatmapgl\",\"colorbar\":{\"outlinewidth\":0,\"ticks\":\"\"},\"colorscale\":[[0.0,\"#0d0887\"],[0.1111111111111111,\"#46039f\"],[0.2222222222222222,\"#7201a8\"],[0.3333333333333333,\"#9c179e\"],[0.4444444444444444,\"#bd3786\"],[0.5555555555555556,\"#d8576b\"],[0.6666666666666666,\"#ed7953\"],[0.7777777777777778,\"#fb9f3a\"],[0.8888888888888888,\"#fdca26\"],[1.0,\"#f0f921\"]]}],\"contourcarpet\":[{\"type\":\"contourcarpet\",\"colorbar\":{\"outlinewidth\":0,\"ticks\":\"\"}}],\"contour\":[{\"type\":\"contour\",\"colorbar\":{\"outlinewidth\":0,\"ticks\":\"\"},\"colorscale\":[[0.0,\"#0d0887\"],[0.1111111111111111,\"#46039f\"],[0.2222222222222222,\"#7201a8\"],[0.3333333333333333,\"#9c179e\"],[0.4444444444444444,\"#bd3786\"],[0.5555555555555556,\"#d8576b\"],[0.6666666666666666,\"#ed7953\"],[0.7777777777777778,\"#fb9f3a\"],[0.8888888888888888,\"#fdca26\"],[1.0,\"#f0f921\"]]}],\"surface\":[{\"type\":\"surface\",\"colorbar\":{\"outlinewidth\":0,\"ticks\":\"\"},\"colorscale\":[[0.0,\"#0d0887\"],[0.1111111111111111,\"#46039f\"],[0.2222222222222222,\"#7201a8\"],[0.3333333333333333,\"#9c179e\"],[0.4444444444444444,\"#bd3786\"],[0.5555555555555556,\"#d8576b\"],[0.6666666666666666,\"#ed7953\"],[0.7777777777777778,\"#fb9f3a\"],[0.8888888888888888,\"#fdca26\"],[1.0,\"#f0f921\"]]}],\"mesh3d\":[{\"type\":\"mesh3d\",\"colorbar\":{\"outlinewidth\":0,\"ticks\":\"\"}}],\"scatter\":[{\"marker\":{\"line\":{\"color\":\"#283442\"}},\"type\":\"scatter\"}],\"parcoords\":[{\"type\":\"parcoords\",\"line\":{\"colorbar\":{\"outlinewidth\":0,\"ticks\":\"\"}}}],\"scatterpolargl\":[{\"type\":\"scatterpolargl\",\"marker\":{\"colorbar\":{\"outlinewidth\":0,\"ticks\":\"\"}}}],\"bar\":[{\"error_x\":{\"color\":\"#f2f5fa\"},\"error_y\":{\"color\":\"#f2f5fa\"},\"marker\":{\"line\":{\"color\":\"rgb(17,17,17)\",\"width\":0.5},\"pattern\":{\"fillmode\":\"overlay\",\"size\":10,\"solidity\":0.2}},\"type\":\"bar\"}],\"scattergeo\":[{\"type\":\"scattergeo\",\"marker\":{\"colorbar\":{\"outlinewidth\":0,\"ticks\":\"\"}}}],\"scatterpolar\":[{\"type\":\"scatterpolar\",\"marker\":{\"colorbar\":{\"outlinewidth\":0,\"ticks\":\"\"}}}],\"histogram\":[{\"marker\":{\"pattern\":{\"fillmode\":\"overlay\",\"size\":10,\"solidity\":0.2}},\"type\":\"histogram\"}],\"scattergl\":[{\"marker\":{\"line\":{\"color\":\"#283442\"}},\"type\":\"scattergl\"}],\"scatter3d\":[{\"type\":\"scatter3d\",\"line\":{\"colorbar\":{\"outlinewidth\":0,\"ticks\":\"\"}},\"marker\":{\"colorbar\":{\"outlinewidth\":0,\"ticks\":\"\"}}}],\"scattermapbox\":[{\"type\":\"scattermapbox\",\"marker\":{\"colorbar\":{\"outlinewidth\":0,\"ticks\":\"\"}}}],\"scatterternary\":[{\"type\":\"scatterternary\",\"marker\":{\"colorbar\":{\"outlinewidth\":0,\"ticks\":\"\"}}}],\"scattercarpet\":[{\"type\":\"scattercarpet\",\"marker\":{\"colorbar\":{\"outlinewidth\":0,\"ticks\":\"\"}}}],\"carpet\":[{\"aaxis\":{\"endlinecolor\":\"#A2B1C6\",\"gridcolor\":\"#506784\",\"linecolor\":\"#506784\",\"minorgridcolor\":\"#506784\",\"startlinecolor\":\"#A2B1C6\"},\"baxis\":{\"endlinecolor\":\"#A2B1C6\",\"gridcolor\":\"#506784\",\"linecolor\":\"#506784\",\"minorgridcolor\":\"#506784\",\"startlinecolor\":\"#A2B1C6\"},\"type\":\"carpet\"}],\"table\":[{\"cells\":{\"fill\":{\"color\":\"#506784\"},\"line\":{\"color\":\"rgb(17,17,17)\"}},\"header\":{\"fill\":{\"color\":\"#2a3f5f\"},\"line\":{\"color\":\"rgb(17,17,17)\"}},\"type\":\"table\"}],\"barpolar\":[{\"marker\":{\"line\":{\"color\":\"rgb(17,17,17)\",\"width\":0.5},\"pattern\":{\"fillmode\":\"overlay\",\"size\":10,\"solidity\":0.2}},\"type\":\"barpolar\"}],\"pie\":[{\"automargin\":true,\"type\":\"pie\"}]},\"layout\":{\"autotypenumbers\":\"strict\",\"colorway\":[\"#636efa\",\"#EF553B\",\"#00cc96\",\"#ab63fa\",\"#FFA15A\",\"#19d3f3\",\"#FF6692\",\"#B6E880\",\"#FF97FF\",\"#FECB52\"],\"font\":{\"color\":\"#f2f5fa\"},\"hovermode\":\"closest\",\"hoverlabel\":{\"align\":\"left\"},\"paper_bgcolor\":\"rgb(17,17,17)\",\"plot_bgcolor\":\"rgb(17,17,17)\",\"polar\":{\"bgcolor\":\"rgb(17,17,17)\",\"angularaxis\":{\"gridcolor\":\"#506784\",\"linecolor\":\"#506784\",\"ticks\":\"\"},\"radialaxis\":{\"gridcolor\":\"#506784\",\"linecolor\":\"#506784\",\"ticks\":\"\"}},\"ternary\":{\"bgcolor\":\"rgb(17,17,17)\",\"aaxis\":{\"gridcolor\":\"#506784\",\"linecolor\":\"#506784\",\"ticks\":\"\"},\"baxis\":{\"gridcolor\":\"#506784\",\"linecolor\":\"#506784\",\"ticks\":\"\"},\"caxis\":{\"gridcolor\":\"#506784\",\"linecolor\":\"#506784\",\"ticks\":\"\"}},\"coloraxis\":{\"colorbar\":{\"outlinewidth\":0,\"ticks\":\"\"}},\"colorscale\":{\"sequential\":[[0.0,\"#0d0887\"],[0.1111111111111111,\"#46039f\"],[0.2222222222222222,\"#7201a8\"],[0.3333333333333333,\"#9c179e\"],[0.4444444444444444,\"#bd3786\"],[0.5555555555555556,\"#d8576b\"],[0.6666666666666666,\"#ed7953\"],[0.7777777777777778,\"#fb9f3a\"],[0.8888888888888888,\"#fdca26\"],[1.0,\"#f0f921\"]],\"sequentialminus\":[[0.0,\"#0d0887\"],[0.1111111111111111,\"#46039f\"],[0.2222222222222222,\"#7201a8\"],[0.3333333333333333,\"#9c179e\"],[0.4444444444444444,\"#bd3786\"],[0.5555555555555556,\"#d8576b\"],[0.6666666666666666,\"#ed7953\"],[0.7777777777777778,\"#fb9f3a\"],[0.8888888888888888,\"#fdca26\"],[1.0,\"#f0f921\"]],\"diverging\":[[0,\"#8e0152\"],[0.1,\"#c51b7d\"],[0.2,\"#de77ae\"],[0.3,\"#f1b6da\"],[0.4,\"#fde0ef\"],[0.5,\"#f7f7f7\"],[0.6,\"#e6f5d0\"],[0.7,\"#b8e186\"],[0.8,\"#7fbc41\"],[0.9,\"#4d9221\"],[1,\"#276419\"]]},\"xaxis\":{\"gridcolor\":\"#283442\",\"linecolor\":\"#506784\",\"ticks\":\"\",\"title\":{\"standoff\":15},\"zerolinecolor\":\"#283442\",\"automargin\":true,\"zerolinewidth\":2},\"yaxis\":{\"gridcolor\":\"#283442\",\"linecolor\":\"#506784\",\"ticks\":\"\",\"title\":{\"standoff\":15},\"zerolinecolor\":\"#283442\",\"automargin\":true,\"zerolinewidth\":2},\"scene\":{\"xaxis\":{\"backgroundcolor\":\"rgb(17,17,17)\",\"gridcolor\":\"#506784\",\"linecolor\":\"#506784\",\"showbackground\":true,\"ticks\":\"\",\"zerolinecolor\":\"#C8D4E3\",\"gridwidth\":2},\"yaxis\":{\"backgroundcolor\":\"rgb(17,17,17)\",\"gridcolor\":\"#506784\",\"linecolor\":\"#506784\",\"showbackground\":true,\"ticks\":\"\",\"zerolinecolor\":\"#C8D4E3\",\"gridwidth\":2},\"zaxis\":{\"backgroundcolor\":\"rgb(17,17,17)\",\"gridcolor\":\"#506784\",\"linecolor\":\"#506784\",\"showbackground\":true,\"ticks\":\"\",\"zerolinecolor\":\"#C8D4E3\",\"gridwidth\":2}},\"shapedefaults\":{\"line\":{\"color\":\"#f2f5fa\"}},\"annotationdefaults\":{\"arrowcolor\":\"#f2f5fa\",\"arrowhead\":0,\"arrowwidth\":1},\"geo\":{\"bgcolor\":\"rgb(17,17,17)\",\"landcolor\":\"rgb(17,17,17)\",\"subunitcolor\":\"#506784\",\"showland\":true,\"showlakes\":true,\"lakecolor\":\"rgb(17,17,17)\"},\"title\":{\"x\":0.05},\"updatemenudefaults\":{\"bgcolor\":\"#506784\",\"borderwidth\":0},\"sliderdefaults\":{\"bgcolor\":\"#C8D4E3\",\"borderwidth\":1,\"bordercolor\":\"rgb(17,17,17)\",\"tickwidth\":0},\"mapbox\":{\"style\":\"dark\"}}},\"xaxis\":{\"anchor\":\"y\",\"domain\":[0.0,1.0],\"title\":{\"text\":\"x\"}},\"yaxis\":{\"anchor\":\"x\",\"domain\":[0.0,1.0],\"title\":{\"text\":\"y\"}},\"legend\":{\"tracegroupgap\":0},\"margin\":{\"t\":60}},                        {\"responsive\": true}                    ).then(function(){\n                            \nvar gd = document.getElementById('6953f28a-b91e-4c02-90c5-a19302148a23');\nvar x = new MutationObserver(function (mutations, observer) {{\n        var display = window.getComputedStyle(gd).display;\n        if (!display || display === 'none') {{\n            console.log([gd, 'removed!']);\n            Plotly.purge(gd);\n            observer.disconnect();\n        }}\n}});\n\n// Listen for the removal of the full notebook cells\nvar notebookContainer = gd.closest('#notebook-container');\nif (notebookContainer) {{\n    x.observe(notebookContainer, {childList: true});\n}}\n\n// Listen for the clearing of the current output cell\nvar outputEl = gd.closest('.output');\nif (outputEl) {{\n    x.observe(outputEl, {childList: true});\n}}\n\n                        })                };                });            </script>        </div>"
     },
     "metadata": {},
     "output_type": "display_data"
    },
    {
     "data": {
      "application/vnd.plotly.v1+json": {
       "data": [
        {
         "hovertemplate": "x=%{x}<br>y=%{y}<extra></extra>",
         "legendgroup": "",
         "line": {
          "color": "#636efa",
          "dash": "solid"
         },
         "marker": {
          "symbol": "circle"
         },
         "mode": "lines",
         "name": "",
         "orientation": "v",
         "showlegend": false,
         "x": [
          1489.670166015625,
          1488.5650634765625,
          1487.459716796875,
          1486.354248046875,
          1485.24853515625,
          1484.142578125,
          1483.0364990234375,
          1481.93017578125,
          1480.8236083984375,
          1479.7169189453125,
          1478.6099853515625,
          1477.5028076171875,
          1476.3955078125,
          1475.2879638671875,
          1474.1802978515625,
          1473.0723876953125,
          1471.9642333984375,
          1470.8558349609375,
          1469.747314453125,
          1468.638671875,
          1467.5296630859375,
          1466.4205322265625,
          1465.311279296875,
          1464.20166015625,
          1463.0919189453125,
          1461.9820556640625,
          1460.8719482421875,
          1459.7615966796875,
          1458.6510009765625,
          1457.540283203125,
          1456.4293212890625,
          1455.3182373046875,
          1454.2069091796875,
          1453.0953369140625,
          1451.983642578125,
          1450.8717041015625,
          1449.759521484375,
          1448.647216796875,
          1447.53466796875,
          1446.421875,
          1445.3089599609375,
          1444.19580078125,
          1443.0823974609375,
          1441.9688720703125,
          1440.8551025390625,
          1439.7410888671875,
          1438.626953125,
          1437.5125732421875,
          1436.3980712890625,
          1435.2833251953125,
          1434.1683349609375,
          1433.0531005859375,
          1431.937744140625,
          1430.8221435546875,
          1429.7064208984375,
          1428.5904541015625,
          1427.4742431640625,
          1426.35791015625,
          1425.2412109375,
          1424.12451171875,
          1423.0074462890625,
          1421.8902587890625,
          1420.7728271484375,
          1419.6552734375,
          1418.5374755859375,
          1417.41943359375,
          1416.30126953125,
          1415.182861328125,
          1414.064208984375,
          1412.9454345703125,
          1411.826416015625,
          1410.7071533203125,
          1409.587646484375,
          1408.468017578125,
          1407.3482666015625,
          1406.2281494140625,
          1405.10791015625,
          1403.9874267578125,
          1402.8668212890625,
          1401.7459716796875,
          1400.6248779296875,
          1399.503662109375,
          1398.3822021484375,
          1397.260498046875,
          1396.1385498046875,
          1395.0164794921875,
          1393.894287109375,
          1392.771728515625,
          1391.6490478515625,
          1390.526123046875,
          1389.403076171875,
          1388.2796630859375,
          1387.15625,
          1386.032470703125,
          1384.9085693359375,
          1383.784423828125,
          1382.6600341796875,
          1381.5355224609375,
          1380.4107666015625,
          1379.2857666015625,
          1378.16064453125,
          1377.0352783203125,
          1375.90966796875,
          1374.783935546875,
          1373.657958984375,
          1372.53173828125,
          1371.4053955078125,
          1370.27880859375,
          1369.1519775390625,
          1368.02490234375,
          1366.897705078125,
          1365.770263671875,
          1364.6427001953125,
          1363.5147705078125,
          1362.38671875,
          1361.258544921875,
          1360.1300048828125,
          1359.0013427734375,
          1357.87255859375,
          1356.743408203125,
          1355.6141357421875,
          1354.484619140625,
          1353.35498046875,
          1352.22509765625,
          1351.094970703125,
          1349.964599609375,
          1348.8341064453125,
          1347.703369140625,
          1346.5723876953125,
          1345.441162109375,
          1344.309814453125,
          1343.17822265625,
          1342.0465087890625,
          1340.91455078125,
          1339.7823486328125,
          1338.64990234375,
          1337.517333984375,
          1336.384521484375,
          1335.25146484375,
          1334.1181640625,
          1332.9847412109375,
          1331.85107421875,
          1330.7171630859375,
          1329.5831298828125,
          1328.4488525390625,
          1327.3143310546875,
          1326.1796875,
          1325.0447998046875,
          1323.90966796875,
          1322.7742919921875,
          1321.6387939453125,
          1320.5029296875,
          1319.3670654296875,
          1318.2308349609375,
          1317.094482421875,
          1315.9578857421875,
          1314.821044921875,
          1313.68408203125,
          1312.546875,
          1311.409423828125,
          1310.271728515625,
          1309.1339111328125,
          1307.995849609375,
          1306.8575439453125,
          1305.718994140625,
          1304.580322265625,
          1303.44140625,
          1302.3023681640625,
          1301.1629638671875,
          1300.0234375,
          1298.8836669921875,
          1297.74365234375,
          1296.603515625,
          1295.463134765625,
          1294.322509765625,
          1293.181640625,
          1292.0406494140625,
          1290.8994140625,
          1289.7579345703125,
          1288.6163330078125,
          1287.474365234375,
          1286.332275390625,
          1285.1900634765625,
          1284.0474853515625,
          1282.90478515625,
          1281.7618408203125,
          1280.61865234375,
          1279.475341796875,
          1278.3316650390625,
          1277.1878662109375,
          1276.0439453125,
          1274.899658203125,
          1273.7552490234375,
          1272.610595703125,
          1271.4656982421875,
          1270.3206787109375,
          1269.17529296875,
          1268.02978515625,
          1266.8841552734375
         ],
         "xaxis": "x",
         "y": [
          0.03407737481844694,
          0.03393644026594711,
          0.033935393326572826,
          0.03403217745203915,
          0.03396170617066366,
          0.03363320237832307,
          0.03368869680724316,
          0.03363152782428832,
          0.03373427841943682,
          0.03358491416141122,
          0.03352848528423231,
          0.03327170907827051,
          0.033626563746620125,
          0.03321383578009877,
          0.0332583609791949,
          0.03312803574091336,
          0.03337892491243013,
          0.03324350695082165,
          0.03341663045950099,
          0.033612941043756124,
          0.03374170132416955,
          0.03336143687499955,
          0.03364915967636465,
          0.03361585682471507,
          0.033933753926907055,
          0.033632905969359875,
          0.033818714991704184,
          0.03375926686912597,
          0.034098620112292324,
          0.033832366592910855,
          0.03401479883759092,
          0.03403788557715225,
          0.03401171143396435,
          0.034012381233349674,
          0.03422801878788039,
          0.034242302122606365,
          0.03430365639041461,
          0.03437012936286297,
          0.03454354428836567,
          0.03467350779982117,
          0.03459781610894064,
          0.0347315597099298,
          0.034826885579876544,
          0.03488664597162776,
          0.03533801919807582,
          0.035135027596964415,
          0.03541813660939949,
          0.03561199139216906,
          0.035777312859628034,
          0.03582948933219733,
          0.036091717163686046,
          0.0362997215238995,
          0.03656679723453154,
          0.03666854686123422,
          0.03699206314297691,
          0.03680861256832999,
          0.037344424480654316,
          0.0373117011745951,
          0.03766114089464694,
          0.03785131564525961,
          0.03857022376022123,
          0.03859021960602799,
          0.0390146007981336,
          0.0393686439033503,
          0.03999376289514731,
          0.04012712637432783,
          0.040567208265275545,
          0.041153676601360184,
          0.04223366628082725,
          0.04300681756031427,
          0.04390246805495262,
          0.04453851778324842,
          0.045878165889580526,
          0.04729715545194618,
          0.049096737509125514,
          0.0514339214224113,
          0.05457034723438244,
          0.05806442097896717,
          0.0630706063864969,
          0.06945538798134351,
          0.07855342201294489,
          0.09147238044904579,
          0.11130183489826065,
          0.14300299529330693,
          0.1967241698239404,
          0.2896322125701463,
          0.43802331239482617,
          0.5911660648708853,
          0.61420618067557,
          0.4906232150324634,
          0.3398159507035431,
          0.23020946766703915,
          0.1637464182088263,
          0.12494662515718843,
          0.10290999761960148,
          0.08891390546223712,
          0.08076169349059738,
          0.07569546526345773,
          0.07250836225649075,
          0.07021100316017079,
          0.06950177474838934,
          0.0687767916672558,
          0.06868183888630842,
          0.06926115191605649,
          0.0703288987268408,
          0.07099332733035062,
          0.07245125436730276,
          0.07368227706808858,
          0.0746546237015894,
          0.07540902691126927,
          0.07664096825578696,
          0.07723029085198309,
          0.07824172643927733,
          0.07784342558337921,
          0.07822789901839763,
          0.07811766452049437,
          0.07906750578121083,
          0.07905223706372927,
          0.0802985684785331,
          0.08135370374174913,
          0.08249287781667204,
          0.08389900704792078,
          0.08511089068037374,
          0.08635694900179135,
          0.08778661548515072,
          0.08884952056379526,
          0.09012705724275837,
          0.09051413815742132,
          0.09150127885784506,
          0.0916269294709133,
          0.09133654968664218,
          0.09057563222120703,
          0.08963108202461063,
          0.08787341045674232,
          0.08623203788949987,
          0.08372971682817397,
          0.08226612736624778,
          0.08050038365079724,
          0.07812362646318713,
          0.07628796407601839,
          0.07424827864230547,
          0.07228189182953408,
          0.07056519141756236,
          0.06901583668171571,
          0.06723573153380609,
          0.06568886646433521,
          0.06410982674591048,
          0.062371103120492405,
          0.06145354831341415,
          0.05985066715976738,
          0.05859509631933851,
          0.05719882858212811,
          0.056333430005030195,
          0.05503494469627191,
          0.05414995223639468,
          0.052962965587276076,
          0.05203288388092637,
          0.05078892642180991,
          0.05016560668036002,
          0.04923537875368615,
          0.04865287025917829,
          0.048067687742678646,
          0.04735356229251643,
          0.04659919841200285,
          0.04597495452145062,
          0.04542840755049916,
          0.04489643052934672,
          0.04421276538099886,
          0.04396494645011757,
          0.04345714450361629,
          0.04306130620903398,
          0.042509816936451464,
          0.042563070660934774,
          0.04210986287371957,
          0.041808050511067736,
          0.041426421147952246,
          0.041089399089283093,
          0.04074037780906537,
          0.04070908271799346,
          0.040089394382661195,
          0.04001168578253092,
          0.039535946786291964,
          0.03968836531663625,
          0.038980819343030146,
          0.03906261216782509,
          0.03885815052087151,
          0.0389818642754986,
          0.03883818620476624,
          0.038965145742105176,
          0.03855995980895787,
          0.038711036280638156,
          0.03828604699081256,
          0.03822870826366403,
          0.038027414843801455,
          0.037767052512723956,
          0.037768576315259345,
          0.03755558874293194,
          0.0374074142349611,
          0.03733696251388097
         ],
         "yaxis": "y",
         "type": "scatter"
        }
       ],
       "layout": {
        "template": {
         "data": {
          "histogram2dcontour": [
           {
            "type": "histogram2dcontour",
            "colorbar": {
             "outlinewidth": 0,
             "ticks": ""
            },
            "colorscale": [
             [
              0.0,
              "#0d0887"
             ],
             [
              0.1111111111111111,
              "#46039f"
             ],
             [
              0.2222222222222222,
              "#7201a8"
             ],
             [
              0.3333333333333333,
              "#9c179e"
             ],
             [
              0.4444444444444444,
              "#bd3786"
             ],
             [
              0.5555555555555556,
              "#d8576b"
             ],
             [
              0.6666666666666666,
              "#ed7953"
             ],
             [
              0.7777777777777778,
              "#fb9f3a"
             ],
             [
              0.8888888888888888,
              "#fdca26"
             ],
             [
              1.0,
              "#f0f921"
             ]
            ]
           }
          ],
          "choropleth": [
           {
            "type": "choropleth",
            "colorbar": {
             "outlinewidth": 0,
             "ticks": ""
            }
           }
          ],
          "histogram2d": [
           {
            "type": "histogram2d",
            "colorbar": {
             "outlinewidth": 0,
             "ticks": ""
            },
            "colorscale": [
             [
              0.0,
              "#0d0887"
             ],
             [
              0.1111111111111111,
              "#46039f"
             ],
             [
              0.2222222222222222,
              "#7201a8"
             ],
             [
              0.3333333333333333,
              "#9c179e"
             ],
             [
              0.4444444444444444,
              "#bd3786"
             ],
             [
              0.5555555555555556,
              "#d8576b"
             ],
             [
              0.6666666666666666,
              "#ed7953"
             ],
             [
              0.7777777777777778,
              "#fb9f3a"
             ],
             [
              0.8888888888888888,
              "#fdca26"
             ],
             [
              1.0,
              "#f0f921"
             ]
            ]
           }
          ],
          "heatmap": [
           {
            "type": "heatmap",
            "colorbar": {
             "outlinewidth": 0,
             "ticks": ""
            },
            "colorscale": [
             [
              0.0,
              "#0d0887"
             ],
             [
              0.1111111111111111,
              "#46039f"
             ],
             [
              0.2222222222222222,
              "#7201a8"
             ],
             [
              0.3333333333333333,
              "#9c179e"
             ],
             [
              0.4444444444444444,
              "#bd3786"
             ],
             [
              0.5555555555555556,
              "#d8576b"
             ],
             [
              0.6666666666666666,
              "#ed7953"
             ],
             [
              0.7777777777777778,
              "#fb9f3a"
             ],
             [
              0.8888888888888888,
              "#fdca26"
             ],
             [
              1.0,
              "#f0f921"
             ]
            ]
           }
          ],
          "heatmapgl": [
           {
            "type": "heatmapgl",
            "colorbar": {
             "outlinewidth": 0,
             "ticks": ""
            },
            "colorscale": [
             [
              0.0,
              "#0d0887"
             ],
             [
              0.1111111111111111,
              "#46039f"
             ],
             [
              0.2222222222222222,
              "#7201a8"
             ],
             [
              0.3333333333333333,
              "#9c179e"
             ],
             [
              0.4444444444444444,
              "#bd3786"
             ],
             [
              0.5555555555555556,
              "#d8576b"
             ],
             [
              0.6666666666666666,
              "#ed7953"
             ],
             [
              0.7777777777777778,
              "#fb9f3a"
             ],
             [
              0.8888888888888888,
              "#fdca26"
             ],
             [
              1.0,
              "#f0f921"
             ]
            ]
           }
          ],
          "contourcarpet": [
           {
            "type": "contourcarpet",
            "colorbar": {
             "outlinewidth": 0,
             "ticks": ""
            }
           }
          ],
          "contour": [
           {
            "type": "contour",
            "colorbar": {
             "outlinewidth": 0,
             "ticks": ""
            },
            "colorscale": [
             [
              0.0,
              "#0d0887"
             ],
             [
              0.1111111111111111,
              "#46039f"
             ],
             [
              0.2222222222222222,
              "#7201a8"
             ],
             [
              0.3333333333333333,
              "#9c179e"
             ],
             [
              0.4444444444444444,
              "#bd3786"
             ],
             [
              0.5555555555555556,
              "#d8576b"
             ],
             [
              0.6666666666666666,
              "#ed7953"
             ],
             [
              0.7777777777777778,
              "#fb9f3a"
             ],
             [
              0.8888888888888888,
              "#fdca26"
             ],
             [
              1.0,
              "#f0f921"
             ]
            ]
           }
          ],
          "surface": [
           {
            "type": "surface",
            "colorbar": {
             "outlinewidth": 0,
             "ticks": ""
            },
            "colorscale": [
             [
              0.0,
              "#0d0887"
             ],
             [
              0.1111111111111111,
              "#46039f"
             ],
             [
              0.2222222222222222,
              "#7201a8"
             ],
             [
              0.3333333333333333,
              "#9c179e"
             ],
             [
              0.4444444444444444,
              "#bd3786"
             ],
             [
              0.5555555555555556,
              "#d8576b"
             ],
             [
              0.6666666666666666,
              "#ed7953"
             ],
             [
              0.7777777777777778,
              "#fb9f3a"
             ],
             [
              0.8888888888888888,
              "#fdca26"
             ],
             [
              1.0,
              "#f0f921"
             ]
            ]
           }
          ],
          "mesh3d": [
           {
            "type": "mesh3d",
            "colorbar": {
             "outlinewidth": 0,
             "ticks": ""
            }
           }
          ],
          "scatter": [
           {
            "marker": {
             "line": {
              "color": "#283442"
             }
            },
            "type": "scatter"
           }
          ],
          "parcoords": [
           {
            "type": "parcoords",
            "line": {
             "colorbar": {
              "outlinewidth": 0,
              "ticks": ""
             }
            }
           }
          ],
          "scatterpolargl": [
           {
            "type": "scatterpolargl",
            "marker": {
             "colorbar": {
              "outlinewidth": 0,
              "ticks": ""
             }
            }
           }
          ],
          "bar": [
           {
            "error_x": {
             "color": "#f2f5fa"
            },
            "error_y": {
             "color": "#f2f5fa"
            },
            "marker": {
             "line": {
              "color": "rgb(17,17,17)",
              "width": 0.5
             },
             "pattern": {
              "fillmode": "overlay",
              "size": 10,
              "solidity": 0.2
             }
            },
            "type": "bar"
           }
          ],
          "scattergeo": [
           {
            "type": "scattergeo",
            "marker": {
             "colorbar": {
              "outlinewidth": 0,
              "ticks": ""
             }
            }
           }
          ],
          "scatterpolar": [
           {
            "type": "scatterpolar",
            "marker": {
             "colorbar": {
              "outlinewidth": 0,
              "ticks": ""
             }
            }
           }
          ],
          "histogram": [
           {
            "marker": {
             "pattern": {
              "fillmode": "overlay",
              "size": 10,
              "solidity": 0.2
             }
            },
            "type": "histogram"
           }
          ],
          "scattergl": [
           {
            "marker": {
             "line": {
              "color": "#283442"
             }
            },
            "type": "scattergl"
           }
          ],
          "scatter3d": [
           {
            "type": "scatter3d",
            "line": {
             "colorbar": {
              "outlinewidth": 0,
              "ticks": ""
             }
            },
            "marker": {
             "colorbar": {
              "outlinewidth": 0,
              "ticks": ""
             }
            }
           }
          ],
          "scattermapbox": [
           {
            "type": "scattermapbox",
            "marker": {
             "colorbar": {
              "outlinewidth": 0,
              "ticks": ""
             }
            }
           }
          ],
          "scatterternary": [
           {
            "type": "scatterternary",
            "marker": {
             "colorbar": {
              "outlinewidth": 0,
              "ticks": ""
             }
            }
           }
          ],
          "scattercarpet": [
           {
            "type": "scattercarpet",
            "marker": {
             "colorbar": {
              "outlinewidth": 0,
              "ticks": ""
             }
            }
           }
          ],
          "carpet": [
           {
            "aaxis": {
             "endlinecolor": "#A2B1C6",
             "gridcolor": "#506784",
             "linecolor": "#506784",
             "minorgridcolor": "#506784",
             "startlinecolor": "#A2B1C6"
            },
            "baxis": {
             "endlinecolor": "#A2B1C6",
             "gridcolor": "#506784",
             "linecolor": "#506784",
             "minorgridcolor": "#506784",
             "startlinecolor": "#A2B1C6"
            },
            "type": "carpet"
           }
          ],
          "table": [
           {
            "cells": {
             "fill": {
              "color": "#506784"
             },
             "line": {
              "color": "rgb(17,17,17)"
             }
            },
            "header": {
             "fill": {
              "color": "#2a3f5f"
             },
             "line": {
              "color": "rgb(17,17,17)"
             }
            },
            "type": "table"
           }
          ],
          "barpolar": [
           {
            "marker": {
             "line": {
              "color": "rgb(17,17,17)",
              "width": 0.5
             },
             "pattern": {
              "fillmode": "overlay",
              "size": 10,
              "solidity": 0.2
             }
            },
            "type": "barpolar"
           }
          ],
          "pie": [
           {
            "automargin": true,
            "type": "pie"
           }
          ]
         },
         "layout": {
          "autotypenumbers": "strict",
          "colorway": [
           "#636efa",
           "#EF553B",
           "#00cc96",
           "#ab63fa",
           "#FFA15A",
           "#19d3f3",
           "#FF6692",
           "#B6E880",
           "#FF97FF",
           "#FECB52"
          ],
          "font": {
           "color": "#f2f5fa"
          },
          "hovermode": "closest",
          "hoverlabel": {
           "align": "left"
          },
          "paper_bgcolor": "rgb(17,17,17)",
          "plot_bgcolor": "rgb(17,17,17)",
          "polar": {
           "bgcolor": "rgb(17,17,17)",
           "angularaxis": {
            "gridcolor": "#506784",
            "linecolor": "#506784",
            "ticks": ""
           },
           "radialaxis": {
            "gridcolor": "#506784",
            "linecolor": "#506784",
            "ticks": ""
           }
          },
          "ternary": {
           "bgcolor": "rgb(17,17,17)",
           "aaxis": {
            "gridcolor": "#506784",
            "linecolor": "#506784",
            "ticks": ""
           },
           "baxis": {
            "gridcolor": "#506784",
            "linecolor": "#506784",
            "ticks": ""
           },
           "caxis": {
            "gridcolor": "#506784",
            "linecolor": "#506784",
            "ticks": ""
           }
          },
          "coloraxis": {
           "colorbar": {
            "outlinewidth": 0,
            "ticks": ""
           }
          },
          "colorscale": {
           "sequential": [
            [
             0.0,
             "#0d0887"
            ],
            [
             0.1111111111111111,
             "#46039f"
            ],
            [
             0.2222222222222222,
             "#7201a8"
            ],
            [
             0.3333333333333333,
             "#9c179e"
            ],
            [
             0.4444444444444444,
             "#bd3786"
            ],
            [
             0.5555555555555556,
             "#d8576b"
            ],
            [
             0.6666666666666666,
             "#ed7953"
            ],
            [
             0.7777777777777778,
             "#fb9f3a"
            ],
            [
             0.8888888888888888,
             "#fdca26"
            ],
            [
             1.0,
             "#f0f921"
            ]
           ],
           "sequentialminus": [
            [
             0.0,
             "#0d0887"
            ],
            [
             0.1111111111111111,
             "#46039f"
            ],
            [
             0.2222222222222222,
             "#7201a8"
            ],
            [
             0.3333333333333333,
             "#9c179e"
            ],
            [
             0.4444444444444444,
             "#bd3786"
            ],
            [
             0.5555555555555556,
             "#d8576b"
            ],
            [
             0.6666666666666666,
             "#ed7953"
            ],
            [
             0.7777777777777778,
             "#fb9f3a"
            ],
            [
             0.8888888888888888,
             "#fdca26"
            ],
            [
             1.0,
             "#f0f921"
            ]
           ],
           "diverging": [
            [
             0,
             "#8e0152"
            ],
            [
             0.1,
             "#c51b7d"
            ],
            [
             0.2,
             "#de77ae"
            ],
            [
             0.3,
             "#f1b6da"
            ],
            [
             0.4,
             "#fde0ef"
            ],
            [
             0.5,
             "#f7f7f7"
            ],
            [
             0.6,
             "#e6f5d0"
            ],
            [
             0.7,
             "#b8e186"
            ],
            [
             0.8,
             "#7fbc41"
            ],
            [
             0.9,
             "#4d9221"
            ],
            [
             1,
             "#276419"
            ]
           ]
          },
          "xaxis": {
           "gridcolor": "#283442",
           "linecolor": "#506784",
           "ticks": "",
           "title": {
            "standoff": 15
           },
           "zerolinecolor": "#283442",
           "automargin": true,
           "zerolinewidth": 2
          },
          "yaxis": {
           "gridcolor": "#283442",
           "linecolor": "#506784",
           "ticks": "",
           "title": {
            "standoff": 15
           },
           "zerolinecolor": "#283442",
           "automargin": true,
           "zerolinewidth": 2
          },
          "scene": {
           "xaxis": {
            "backgroundcolor": "rgb(17,17,17)",
            "gridcolor": "#506784",
            "linecolor": "#506784",
            "showbackground": true,
            "ticks": "",
            "zerolinecolor": "#C8D4E3",
            "gridwidth": 2
           },
           "yaxis": {
            "backgroundcolor": "rgb(17,17,17)",
            "gridcolor": "#506784",
            "linecolor": "#506784",
            "showbackground": true,
            "ticks": "",
            "zerolinecolor": "#C8D4E3",
            "gridwidth": 2
           },
           "zaxis": {
            "backgroundcolor": "rgb(17,17,17)",
            "gridcolor": "#506784",
            "linecolor": "#506784",
            "showbackground": true,
            "ticks": "",
            "zerolinecolor": "#C8D4E3",
            "gridwidth": 2
           }
          },
          "shapedefaults": {
           "line": {
            "color": "#f2f5fa"
           }
          },
          "annotationdefaults": {
           "arrowcolor": "#f2f5fa",
           "arrowhead": 0,
           "arrowwidth": 1
          },
          "geo": {
           "bgcolor": "rgb(17,17,17)",
           "landcolor": "rgb(17,17,17)",
           "subunitcolor": "#506784",
           "showland": true,
           "showlakes": true,
           "lakecolor": "rgb(17,17,17)"
          },
          "title": {
           "x": 0.05
          },
          "updatemenudefaults": {
           "bgcolor": "#506784",
           "borderwidth": 0
          },
          "sliderdefaults": {
           "bgcolor": "#C8D4E3",
           "borderwidth": 1,
           "bordercolor": "rgb(17,17,17)",
           "tickwidth": 0
          },
          "mapbox": {
           "style": "dark"
          }
         }
        },
        "xaxis": {
         "anchor": "y",
         "domain": [
          0.0,
          1.0
         ],
         "title": {
          "text": "x"
         }
        },
        "yaxis": {
         "anchor": "x",
         "domain": [
          0.0,
          1.0
         ],
         "title": {
          "text": "y"
         }
        },
        "legend": {
         "tracegroupgap": 0
        },
        "margin": {
         "t": 60
        }
       },
       "config": {
        "plotlyServerURL": "https://plot.ly"
       }
      },
      "text/html": "<div>                            <div id=\"4c6f5239-8531-4821-912e-629431bcc4e2\" class=\"plotly-graph-div\" style=\"height:525px; width:100%;\"></div>            <script type=\"text/javascript\">                require([\"plotly\"], function(Plotly) {                    window.PLOTLYENV=window.PLOTLYENV || {};                                    if (document.getElementById(\"4c6f5239-8531-4821-912e-629431bcc4e2\")) {                    Plotly.newPlot(                        \"4c6f5239-8531-4821-912e-629431bcc4e2\",                        [{\"hovertemplate\":\"x=%{x}\\u003cbr\\u003ey=%{y}\\u003cextra\\u003e\\u003c\\u002fextra\\u003e\",\"legendgroup\":\"\",\"line\":{\"color\":\"#636efa\",\"dash\":\"solid\"},\"marker\":{\"symbol\":\"circle\"},\"mode\":\"lines\",\"name\":\"\",\"orientation\":\"v\",\"showlegend\":false,\"x\":[1489.670166015625,1488.5650634765625,1487.459716796875,1486.354248046875,1485.24853515625,1484.142578125,1483.0364990234375,1481.93017578125,1480.8236083984375,1479.7169189453125,1478.6099853515625,1477.5028076171875,1476.3955078125,1475.2879638671875,1474.1802978515625,1473.0723876953125,1471.9642333984375,1470.8558349609375,1469.747314453125,1468.638671875,1467.5296630859375,1466.4205322265625,1465.311279296875,1464.20166015625,1463.0919189453125,1461.9820556640625,1460.8719482421875,1459.7615966796875,1458.6510009765625,1457.540283203125,1456.4293212890625,1455.3182373046875,1454.2069091796875,1453.0953369140625,1451.983642578125,1450.8717041015625,1449.759521484375,1448.647216796875,1447.53466796875,1446.421875,1445.3089599609375,1444.19580078125,1443.0823974609375,1441.9688720703125,1440.8551025390625,1439.7410888671875,1438.626953125,1437.5125732421875,1436.3980712890625,1435.2833251953125,1434.1683349609375,1433.0531005859375,1431.937744140625,1430.8221435546875,1429.7064208984375,1428.5904541015625,1427.4742431640625,1426.35791015625,1425.2412109375,1424.12451171875,1423.0074462890625,1421.8902587890625,1420.7728271484375,1419.6552734375,1418.5374755859375,1417.41943359375,1416.30126953125,1415.182861328125,1414.064208984375,1412.9454345703125,1411.826416015625,1410.7071533203125,1409.587646484375,1408.468017578125,1407.3482666015625,1406.2281494140625,1405.10791015625,1403.9874267578125,1402.8668212890625,1401.7459716796875,1400.6248779296875,1399.503662109375,1398.3822021484375,1397.260498046875,1396.1385498046875,1395.0164794921875,1393.894287109375,1392.771728515625,1391.6490478515625,1390.526123046875,1389.403076171875,1388.2796630859375,1387.15625,1386.032470703125,1384.9085693359375,1383.784423828125,1382.6600341796875,1381.5355224609375,1380.4107666015625,1379.2857666015625,1378.16064453125,1377.0352783203125,1375.90966796875,1374.783935546875,1373.657958984375,1372.53173828125,1371.4053955078125,1370.27880859375,1369.1519775390625,1368.02490234375,1366.897705078125,1365.770263671875,1364.6427001953125,1363.5147705078125,1362.38671875,1361.258544921875,1360.1300048828125,1359.0013427734375,1357.87255859375,1356.743408203125,1355.6141357421875,1354.484619140625,1353.35498046875,1352.22509765625,1351.094970703125,1349.964599609375,1348.8341064453125,1347.703369140625,1346.5723876953125,1345.441162109375,1344.309814453125,1343.17822265625,1342.0465087890625,1340.91455078125,1339.7823486328125,1338.64990234375,1337.517333984375,1336.384521484375,1335.25146484375,1334.1181640625,1332.9847412109375,1331.85107421875,1330.7171630859375,1329.5831298828125,1328.4488525390625,1327.3143310546875,1326.1796875,1325.0447998046875,1323.90966796875,1322.7742919921875,1321.6387939453125,1320.5029296875,1319.3670654296875,1318.2308349609375,1317.094482421875,1315.9578857421875,1314.821044921875,1313.68408203125,1312.546875,1311.409423828125,1310.271728515625,1309.1339111328125,1307.995849609375,1306.8575439453125,1305.718994140625,1304.580322265625,1303.44140625,1302.3023681640625,1301.1629638671875,1300.0234375,1298.8836669921875,1297.74365234375,1296.603515625,1295.463134765625,1294.322509765625,1293.181640625,1292.0406494140625,1290.8994140625,1289.7579345703125,1288.6163330078125,1287.474365234375,1286.332275390625,1285.1900634765625,1284.0474853515625,1282.90478515625,1281.7618408203125,1280.61865234375,1279.475341796875,1278.3316650390625,1277.1878662109375,1276.0439453125,1274.899658203125,1273.7552490234375,1272.610595703125,1271.4656982421875,1270.3206787109375,1269.17529296875,1268.02978515625,1266.8841552734375],\"xaxis\":\"x\",\"y\":[0.03407737481844694,0.03393644026594711,0.033935393326572826,0.03403217745203915,0.03396170617066366,0.03363320237832307,0.03368869680724316,0.03363152782428832,0.03373427841943682,0.03358491416141122,0.03352848528423231,0.03327170907827051,0.033626563746620125,0.03321383578009877,0.0332583609791949,0.03312803574091336,0.03337892491243013,0.03324350695082165,0.03341663045950099,0.033612941043756124,0.03374170132416955,0.03336143687499955,0.03364915967636465,0.03361585682471507,0.033933753926907055,0.033632905969359875,0.033818714991704184,0.03375926686912597,0.034098620112292324,0.033832366592910855,0.03401479883759092,0.03403788557715225,0.03401171143396435,0.034012381233349674,0.03422801878788039,0.034242302122606365,0.03430365639041461,0.03437012936286297,0.03454354428836567,0.03467350779982117,0.03459781610894064,0.0347315597099298,0.034826885579876544,0.03488664597162776,0.03533801919807582,0.035135027596964415,0.03541813660939949,0.03561199139216906,0.035777312859628034,0.03582948933219733,0.036091717163686046,0.0362997215238995,0.03656679723453154,0.03666854686123422,0.03699206314297691,0.03680861256832999,0.037344424480654316,0.0373117011745951,0.03766114089464694,0.03785131564525961,0.03857022376022123,0.03859021960602799,0.0390146007981336,0.0393686439033503,0.03999376289514731,0.04012712637432783,0.040567208265275545,0.041153676601360184,0.04223366628082725,0.04300681756031427,0.04390246805495262,0.04453851778324842,0.045878165889580526,0.04729715545194618,0.049096737509125514,0.0514339214224113,0.05457034723438244,0.05806442097896717,0.0630706063864969,0.06945538798134351,0.07855342201294489,0.09147238044904579,0.11130183489826065,0.14300299529330693,0.1967241698239404,0.2896322125701463,0.43802331239482617,0.5911660648708853,0.61420618067557,0.4906232150324634,0.3398159507035431,0.23020946766703915,0.1637464182088263,0.12494662515718843,0.10290999761960148,0.08891390546223712,0.08076169349059738,0.07569546526345773,0.07250836225649075,0.07021100316017079,0.06950177474838934,0.0687767916672558,0.06868183888630842,0.06926115191605649,0.0703288987268408,0.07099332733035062,0.07245125436730276,0.07368227706808858,0.0746546237015894,0.07540902691126927,0.07664096825578696,0.07723029085198309,0.07824172643927733,0.07784342558337921,0.07822789901839763,0.07811766452049437,0.07906750578121083,0.07905223706372927,0.0802985684785331,0.08135370374174913,0.08249287781667204,0.08389900704792078,0.08511089068037374,0.08635694900179135,0.08778661548515072,0.08884952056379526,0.09012705724275837,0.09051413815742132,0.09150127885784506,0.0916269294709133,0.09133654968664218,0.09057563222120703,0.08963108202461063,0.08787341045674232,0.08623203788949987,0.08372971682817397,0.08226612736624778,0.08050038365079724,0.07812362646318713,0.07628796407601839,0.07424827864230547,0.07228189182953408,0.07056519141756236,0.06901583668171571,0.06723573153380609,0.06568886646433521,0.06410982674591048,0.062371103120492405,0.06145354831341415,0.05985066715976738,0.05859509631933851,0.05719882858212811,0.056333430005030195,0.05503494469627191,0.05414995223639468,0.052962965587276076,0.05203288388092637,0.05078892642180991,0.05016560668036002,0.04923537875368615,0.04865287025917829,0.048067687742678646,0.04735356229251643,0.04659919841200285,0.04597495452145062,0.04542840755049916,0.04489643052934672,0.04421276538099886,0.04396494645011757,0.04345714450361629,0.04306130620903398,0.042509816936451464,0.042563070660934774,0.04210986287371957,0.041808050511067736,0.041426421147952246,0.041089399089283093,0.04074037780906537,0.04070908271799346,0.040089394382661195,0.04001168578253092,0.039535946786291964,0.03968836531663625,0.038980819343030146,0.03906261216782509,0.03885815052087151,0.0389818642754986,0.03883818620476624,0.038965145742105176,0.03855995980895787,0.038711036280638156,0.03828604699081256,0.03822870826366403,0.038027414843801455,0.037767052512723956,0.037768576315259345,0.03755558874293194,0.0374074142349611,0.03733696251388097],\"yaxis\":\"y\",\"type\":\"scatter\"}],                        {\"template\":{\"data\":{\"histogram2dcontour\":[{\"type\":\"histogram2dcontour\",\"colorbar\":{\"outlinewidth\":0,\"ticks\":\"\"},\"colorscale\":[[0.0,\"#0d0887\"],[0.1111111111111111,\"#46039f\"],[0.2222222222222222,\"#7201a8\"],[0.3333333333333333,\"#9c179e\"],[0.4444444444444444,\"#bd3786\"],[0.5555555555555556,\"#d8576b\"],[0.6666666666666666,\"#ed7953\"],[0.7777777777777778,\"#fb9f3a\"],[0.8888888888888888,\"#fdca26\"],[1.0,\"#f0f921\"]]}],\"choropleth\":[{\"type\":\"choropleth\",\"colorbar\":{\"outlinewidth\":0,\"ticks\":\"\"}}],\"histogram2d\":[{\"type\":\"histogram2d\",\"colorbar\":{\"outlinewidth\":0,\"ticks\":\"\"},\"colorscale\":[[0.0,\"#0d0887\"],[0.1111111111111111,\"#46039f\"],[0.2222222222222222,\"#7201a8\"],[0.3333333333333333,\"#9c179e\"],[0.4444444444444444,\"#bd3786\"],[0.5555555555555556,\"#d8576b\"],[0.6666666666666666,\"#ed7953\"],[0.7777777777777778,\"#fb9f3a\"],[0.8888888888888888,\"#fdca26\"],[1.0,\"#f0f921\"]]}],\"heatmap\":[{\"type\":\"heatmap\",\"colorbar\":{\"outlinewidth\":0,\"ticks\":\"\"},\"colorscale\":[[0.0,\"#0d0887\"],[0.1111111111111111,\"#46039f\"],[0.2222222222222222,\"#7201a8\"],[0.3333333333333333,\"#9c179e\"],[0.4444444444444444,\"#bd3786\"],[0.5555555555555556,\"#d8576b\"],[0.6666666666666666,\"#ed7953\"],[0.7777777777777778,\"#fb9f3a\"],[0.8888888888888888,\"#fdca26\"],[1.0,\"#f0f921\"]]}],\"heatmapgl\":[{\"type\":\"heatmapgl\",\"colorbar\":{\"outlinewidth\":0,\"ticks\":\"\"},\"colorscale\":[[0.0,\"#0d0887\"],[0.1111111111111111,\"#46039f\"],[0.2222222222222222,\"#7201a8\"],[0.3333333333333333,\"#9c179e\"],[0.4444444444444444,\"#bd3786\"],[0.5555555555555556,\"#d8576b\"],[0.6666666666666666,\"#ed7953\"],[0.7777777777777778,\"#fb9f3a\"],[0.8888888888888888,\"#fdca26\"],[1.0,\"#f0f921\"]]}],\"contourcarpet\":[{\"type\":\"contourcarpet\",\"colorbar\":{\"outlinewidth\":0,\"ticks\":\"\"}}],\"contour\":[{\"type\":\"contour\",\"colorbar\":{\"outlinewidth\":0,\"ticks\":\"\"},\"colorscale\":[[0.0,\"#0d0887\"],[0.1111111111111111,\"#46039f\"],[0.2222222222222222,\"#7201a8\"],[0.3333333333333333,\"#9c179e\"],[0.4444444444444444,\"#bd3786\"],[0.5555555555555556,\"#d8576b\"],[0.6666666666666666,\"#ed7953\"],[0.7777777777777778,\"#fb9f3a\"],[0.8888888888888888,\"#fdca26\"],[1.0,\"#f0f921\"]]}],\"surface\":[{\"type\":\"surface\",\"colorbar\":{\"outlinewidth\":0,\"ticks\":\"\"},\"colorscale\":[[0.0,\"#0d0887\"],[0.1111111111111111,\"#46039f\"],[0.2222222222222222,\"#7201a8\"],[0.3333333333333333,\"#9c179e\"],[0.4444444444444444,\"#bd3786\"],[0.5555555555555556,\"#d8576b\"],[0.6666666666666666,\"#ed7953\"],[0.7777777777777778,\"#fb9f3a\"],[0.8888888888888888,\"#fdca26\"],[1.0,\"#f0f921\"]]}],\"mesh3d\":[{\"type\":\"mesh3d\",\"colorbar\":{\"outlinewidth\":0,\"ticks\":\"\"}}],\"scatter\":[{\"marker\":{\"line\":{\"color\":\"#283442\"}},\"type\":\"scatter\"}],\"parcoords\":[{\"type\":\"parcoords\",\"line\":{\"colorbar\":{\"outlinewidth\":0,\"ticks\":\"\"}}}],\"scatterpolargl\":[{\"type\":\"scatterpolargl\",\"marker\":{\"colorbar\":{\"outlinewidth\":0,\"ticks\":\"\"}}}],\"bar\":[{\"error_x\":{\"color\":\"#f2f5fa\"},\"error_y\":{\"color\":\"#f2f5fa\"},\"marker\":{\"line\":{\"color\":\"rgb(17,17,17)\",\"width\":0.5},\"pattern\":{\"fillmode\":\"overlay\",\"size\":10,\"solidity\":0.2}},\"type\":\"bar\"}],\"scattergeo\":[{\"type\":\"scattergeo\",\"marker\":{\"colorbar\":{\"outlinewidth\":0,\"ticks\":\"\"}}}],\"scatterpolar\":[{\"type\":\"scatterpolar\",\"marker\":{\"colorbar\":{\"outlinewidth\":0,\"ticks\":\"\"}}}],\"histogram\":[{\"marker\":{\"pattern\":{\"fillmode\":\"overlay\",\"size\":10,\"solidity\":0.2}},\"type\":\"histogram\"}],\"scattergl\":[{\"marker\":{\"line\":{\"color\":\"#283442\"}},\"type\":\"scattergl\"}],\"scatter3d\":[{\"type\":\"scatter3d\",\"line\":{\"colorbar\":{\"outlinewidth\":0,\"ticks\":\"\"}},\"marker\":{\"colorbar\":{\"outlinewidth\":0,\"ticks\":\"\"}}}],\"scattermapbox\":[{\"type\":\"scattermapbox\",\"marker\":{\"colorbar\":{\"outlinewidth\":0,\"ticks\":\"\"}}}],\"scatterternary\":[{\"type\":\"scatterternary\",\"marker\":{\"colorbar\":{\"outlinewidth\":0,\"ticks\":\"\"}}}],\"scattercarpet\":[{\"type\":\"scattercarpet\",\"marker\":{\"colorbar\":{\"outlinewidth\":0,\"ticks\":\"\"}}}],\"carpet\":[{\"aaxis\":{\"endlinecolor\":\"#A2B1C6\",\"gridcolor\":\"#506784\",\"linecolor\":\"#506784\",\"minorgridcolor\":\"#506784\",\"startlinecolor\":\"#A2B1C6\"},\"baxis\":{\"endlinecolor\":\"#A2B1C6\",\"gridcolor\":\"#506784\",\"linecolor\":\"#506784\",\"minorgridcolor\":\"#506784\",\"startlinecolor\":\"#A2B1C6\"},\"type\":\"carpet\"}],\"table\":[{\"cells\":{\"fill\":{\"color\":\"#506784\"},\"line\":{\"color\":\"rgb(17,17,17)\"}},\"header\":{\"fill\":{\"color\":\"#2a3f5f\"},\"line\":{\"color\":\"rgb(17,17,17)\"}},\"type\":\"table\"}],\"barpolar\":[{\"marker\":{\"line\":{\"color\":\"rgb(17,17,17)\",\"width\":0.5},\"pattern\":{\"fillmode\":\"overlay\",\"size\":10,\"solidity\":0.2}},\"type\":\"barpolar\"}],\"pie\":[{\"automargin\":true,\"type\":\"pie\"}]},\"layout\":{\"autotypenumbers\":\"strict\",\"colorway\":[\"#636efa\",\"#EF553B\",\"#00cc96\",\"#ab63fa\",\"#FFA15A\",\"#19d3f3\",\"#FF6692\",\"#B6E880\",\"#FF97FF\",\"#FECB52\"],\"font\":{\"color\":\"#f2f5fa\"},\"hovermode\":\"closest\",\"hoverlabel\":{\"align\":\"left\"},\"paper_bgcolor\":\"rgb(17,17,17)\",\"plot_bgcolor\":\"rgb(17,17,17)\",\"polar\":{\"bgcolor\":\"rgb(17,17,17)\",\"angularaxis\":{\"gridcolor\":\"#506784\",\"linecolor\":\"#506784\",\"ticks\":\"\"},\"radialaxis\":{\"gridcolor\":\"#506784\",\"linecolor\":\"#506784\",\"ticks\":\"\"}},\"ternary\":{\"bgcolor\":\"rgb(17,17,17)\",\"aaxis\":{\"gridcolor\":\"#506784\",\"linecolor\":\"#506784\",\"ticks\":\"\"},\"baxis\":{\"gridcolor\":\"#506784\",\"linecolor\":\"#506784\",\"ticks\":\"\"},\"caxis\":{\"gridcolor\":\"#506784\",\"linecolor\":\"#506784\",\"ticks\":\"\"}},\"coloraxis\":{\"colorbar\":{\"outlinewidth\":0,\"ticks\":\"\"}},\"colorscale\":{\"sequential\":[[0.0,\"#0d0887\"],[0.1111111111111111,\"#46039f\"],[0.2222222222222222,\"#7201a8\"],[0.3333333333333333,\"#9c179e\"],[0.4444444444444444,\"#bd3786\"],[0.5555555555555556,\"#d8576b\"],[0.6666666666666666,\"#ed7953\"],[0.7777777777777778,\"#fb9f3a\"],[0.8888888888888888,\"#fdca26\"],[1.0,\"#f0f921\"]],\"sequentialminus\":[[0.0,\"#0d0887\"],[0.1111111111111111,\"#46039f\"],[0.2222222222222222,\"#7201a8\"],[0.3333333333333333,\"#9c179e\"],[0.4444444444444444,\"#bd3786\"],[0.5555555555555556,\"#d8576b\"],[0.6666666666666666,\"#ed7953\"],[0.7777777777777778,\"#fb9f3a\"],[0.8888888888888888,\"#fdca26\"],[1.0,\"#f0f921\"]],\"diverging\":[[0,\"#8e0152\"],[0.1,\"#c51b7d\"],[0.2,\"#de77ae\"],[0.3,\"#f1b6da\"],[0.4,\"#fde0ef\"],[0.5,\"#f7f7f7\"],[0.6,\"#e6f5d0\"],[0.7,\"#b8e186\"],[0.8,\"#7fbc41\"],[0.9,\"#4d9221\"],[1,\"#276419\"]]},\"xaxis\":{\"gridcolor\":\"#283442\",\"linecolor\":\"#506784\",\"ticks\":\"\",\"title\":{\"standoff\":15},\"zerolinecolor\":\"#283442\",\"automargin\":true,\"zerolinewidth\":2},\"yaxis\":{\"gridcolor\":\"#283442\",\"linecolor\":\"#506784\",\"ticks\":\"\",\"title\":{\"standoff\":15},\"zerolinecolor\":\"#283442\",\"automargin\":true,\"zerolinewidth\":2},\"scene\":{\"xaxis\":{\"backgroundcolor\":\"rgb(17,17,17)\",\"gridcolor\":\"#506784\",\"linecolor\":\"#506784\",\"showbackground\":true,\"ticks\":\"\",\"zerolinecolor\":\"#C8D4E3\",\"gridwidth\":2},\"yaxis\":{\"backgroundcolor\":\"rgb(17,17,17)\",\"gridcolor\":\"#506784\",\"linecolor\":\"#506784\",\"showbackground\":true,\"ticks\":\"\",\"zerolinecolor\":\"#C8D4E3\",\"gridwidth\":2},\"zaxis\":{\"backgroundcolor\":\"rgb(17,17,17)\",\"gridcolor\":\"#506784\",\"linecolor\":\"#506784\",\"showbackground\":true,\"ticks\":\"\",\"zerolinecolor\":\"#C8D4E3\",\"gridwidth\":2}},\"shapedefaults\":{\"line\":{\"color\":\"#f2f5fa\"}},\"annotationdefaults\":{\"arrowcolor\":\"#f2f5fa\",\"arrowhead\":0,\"arrowwidth\":1},\"geo\":{\"bgcolor\":\"rgb(17,17,17)\",\"landcolor\":\"rgb(17,17,17)\",\"subunitcolor\":\"#506784\",\"showland\":true,\"showlakes\":true,\"lakecolor\":\"rgb(17,17,17)\"},\"title\":{\"x\":0.05},\"updatemenudefaults\":{\"bgcolor\":\"#506784\",\"borderwidth\":0},\"sliderdefaults\":{\"bgcolor\":\"#C8D4E3\",\"borderwidth\":1,\"bordercolor\":\"rgb(17,17,17)\",\"tickwidth\":0},\"mapbox\":{\"style\":\"dark\"}}},\"xaxis\":{\"anchor\":\"y\",\"domain\":[0.0,1.0],\"title\":{\"text\":\"x\"}},\"yaxis\":{\"anchor\":\"x\",\"domain\":[0.0,1.0],\"title\":{\"text\":\"y\"}},\"legend\":{\"tracegroupgap\":0},\"margin\":{\"t\":60}},                        {\"responsive\": true}                    ).then(function(){\n                            \nvar gd = document.getElementById('4c6f5239-8531-4821-912e-629431bcc4e2');\nvar x = new MutationObserver(function (mutations, observer) {{\n        var display = window.getComputedStyle(gd).display;\n        if (!display || display === 'none') {{\n            console.log([gd, 'removed!']);\n            Plotly.purge(gd);\n            observer.disconnect();\n        }}\n}});\n\n// Listen for the removal of the full notebook cells\nvar notebookContainer = gd.closest('#notebook-container');\nif (notebookContainer) {{\n    x.observe(notebookContainer, {childList: true});\n}}\n\n// Listen for the clearing of the current output cell\nvar outputEl = gd.closest('.output');\nif (outputEl) {{\n    x.observe(outputEl, {childList: true});\n}}\n\n                        })                };                });            </script>        </div>"
     },
     "metadata": {},
     "output_type": "display_data"
    },
    {
     "data": {
      "application/vnd.plotly.v1+json": {
       "data": [
        {
         "hovertemplate": "x=%{x}<br>y=%{y}<extra></extra>",
         "legendgroup": "",
         "line": {
          "color": "#636efa",
          "dash": "solid"
         },
         "marker": {
          "symbol": "circle"
         },
         "mode": "lines",
         "name": "",
         "orientation": "v",
         "showlegend": false,
         "x": [
          1489.670166015625,
          1488.5650634765625,
          1487.459716796875,
          1486.354248046875,
          1485.24853515625,
          1484.142578125,
          1483.0364990234375,
          1481.93017578125,
          1480.8236083984375,
          1479.7169189453125,
          1478.6099853515625,
          1477.5028076171875,
          1476.3955078125,
          1475.2879638671875,
          1474.1802978515625,
          1473.0723876953125,
          1471.9642333984375,
          1470.8558349609375,
          1469.747314453125,
          1468.638671875,
          1467.5296630859375,
          1466.4205322265625,
          1465.311279296875,
          1464.20166015625,
          1463.0919189453125,
          1461.9820556640625,
          1460.8719482421875,
          1459.7615966796875,
          1458.6510009765625,
          1457.540283203125,
          1456.4293212890625,
          1455.3182373046875,
          1454.2069091796875,
          1453.0953369140625,
          1451.983642578125,
          1450.8717041015625,
          1449.759521484375,
          1448.647216796875,
          1447.53466796875,
          1446.421875,
          1445.3089599609375,
          1444.19580078125,
          1443.0823974609375,
          1441.9688720703125,
          1440.8551025390625,
          1439.7410888671875,
          1438.626953125,
          1437.5125732421875,
          1436.3980712890625,
          1435.2833251953125,
          1434.1683349609375,
          1433.0531005859375,
          1431.937744140625,
          1430.8221435546875,
          1429.7064208984375,
          1428.5904541015625,
          1427.4742431640625,
          1426.35791015625,
          1425.2412109375,
          1424.12451171875,
          1423.0074462890625,
          1421.8902587890625,
          1420.7728271484375,
          1419.6552734375,
          1418.5374755859375,
          1417.41943359375,
          1416.30126953125,
          1415.182861328125,
          1414.064208984375,
          1412.9454345703125,
          1411.826416015625,
          1410.7071533203125,
          1409.587646484375,
          1408.468017578125,
          1407.3482666015625,
          1406.2281494140625,
          1405.10791015625,
          1403.9874267578125,
          1402.8668212890625,
          1401.7459716796875,
          1400.6248779296875,
          1399.503662109375,
          1398.3822021484375,
          1397.260498046875,
          1396.1385498046875,
          1395.0164794921875,
          1393.894287109375,
          1392.771728515625,
          1391.6490478515625,
          1390.526123046875,
          1389.403076171875,
          1388.2796630859375,
          1387.15625,
          1386.032470703125,
          1384.9085693359375,
          1383.784423828125,
          1382.6600341796875,
          1381.5355224609375,
          1380.4107666015625,
          1379.2857666015625,
          1378.16064453125,
          1377.0352783203125,
          1375.90966796875,
          1374.783935546875,
          1373.657958984375,
          1372.53173828125,
          1371.4053955078125,
          1370.27880859375,
          1369.1519775390625,
          1368.02490234375,
          1366.897705078125,
          1365.770263671875,
          1364.6427001953125,
          1363.5147705078125,
          1362.38671875,
          1361.258544921875,
          1360.1300048828125,
          1359.0013427734375,
          1357.87255859375,
          1356.743408203125,
          1355.6141357421875,
          1354.484619140625,
          1353.35498046875,
          1352.22509765625,
          1351.094970703125,
          1349.964599609375,
          1348.8341064453125,
          1347.703369140625,
          1346.5723876953125,
          1345.441162109375,
          1344.309814453125,
          1343.17822265625,
          1342.0465087890625,
          1340.91455078125,
          1339.7823486328125,
          1338.64990234375,
          1337.517333984375,
          1336.384521484375,
          1335.25146484375,
          1334.1181640625,
          1332.9847412109375,
          1331.85107421875,
          1330.7171630859375,
          1329.5831298828125,
          1328.4488525390625,
          1327.3143310546875,
          1326.1796875,
          1325.0447998046875,
          1323.90966796875,
          1322.7742919921875,
          1321.6387939453125,
          1320.5029296875,
          1319.3670654296875,
          1318.2308349609375,
          1317.094482421875,
          1315.9578857421875,
          1314.821044921875,
          1313.68408203125,
          1312.546875,
          1311.409423828125,
          1310.271728515625,
          1309.1339111328125,
          1307.995849609375,
          1306.8575439453125,
          1305.718994140625,
          1304.580322265625,
          1303.44140625,
          1302.3023681640625,
          1301.1629638671875,
          1300.0234375,
          1298.8836669921875,
          1297.74365234375,
          1296.603515625,
          1295.463134765625,
          1294.322509765625,
          1293.181640625,
          1292.0406494140625,
          1290.8994140625,
          1289.7579345703125,
          1288.6163330078125,
          1287.474365234375,
          1286.332275390625,
          1285.1900634765625,
          1284.0474853515625,
          1282.90478515625,
          1281.7618408203125,
          1280.61865234375,
          1279.475341796875,
          1278.3316650390625,
          1277.1878662109375,
          1276.0439453125,
          1274.899658203125,
          1273.7552490234375,
          1272.610595703125,
          1271.4656982421875,
          1270.3206787109375,
          1269.17529296875,
          1268.02978515625,
          1266.8841552734375
         ],
         "xaxis": "x",
         "y": [
          -0.0022881825280308124,
          -0.00227705588643712,
          -0.0022740435902901257,
          -0.002278708150900901,
          -0.002290649287656891,
          -0.002257877098777286,
          -0.0022991749809193915,
          -0.002332575857592076,
          -0.0023361930123628064,
          -0.0023346865384021496,
          -0.0022974551889699503,
          -0.0023259668002549275,
          -0.0023124697963751197,
          -0.0023221284671193615,
          -0.002341131510392383,
          -0.0023324160587254164,
          -0.0023497954596792313,
          -0.0023147746165464783,
          -0.002399592686825475,
          -0.002366696669114171,
          -0.002393028400394004,
          -0.0024094397203348484,
          -0.0023763729629513114,
          -0.0023869453339063593,
          -0.0023937032247487422,
          -0.0024061108783987907,
          -0.0024298901923757187,
          -0.002440714709068949,
          -0.002458161958113399,
          -0.0024257794245446662,
          -0.0024473646263593668,
          -0.002470981537359005,
          -0.002460731502064813,
          -0.002465639781638791,
          -0.0024551122270232923,
          -0.0025004425440076816,
          -0.0025204850157177347,
          -0.0025048993620372653,
          -0.0025150767596021006,
          -0.002517121504794816,
          -0.0024983440686562448,
          -0.002549271259665326,
          -0.0025452560214543974,
          -0.002555599043328474,
          -0.002549732492556697,
          -0.002584898553059457,
          -0.002584080506148656,
          -0.0026301143259448217,
          -0.002629759037297424,
          -0.0026367317735988853,
          -0.002631886551670547,
          -0.002617870739088186,
          -0.0026575594243224785,
          -0.002677162231147486,
          -0.0026685334186746196,
          -0.00266766298737043,
          -0.0026980990618178293,
          -0.0026709773553677666,
          -0.002698258075484383,
          -0.0027250608319120224,
          -0.002758145533903885,
          -0.0027451734284191626,
          -0.0027796759326649714,
          -0.0027552853682424683,
          -0.00281816681342581,
          -0.0028022081457155976,
          -0.0027911540822250025,
          -0.002812941355119885,
          -0.002825538817769426,
          -0.002848248331461054,
          -0.002873848532550998,
          -0.00290114143594521,
          -0.0029257453441951242,
          -0.0029887301312672998,
          -0.0030227802132417906,
          -0.0031129165270044317,
          -0.0032218371097230396,
          -0.003347757801195838,
          -0.0036125678581272564,
          -0.003924018523052133,
          -0.0046002494314519565,
          -0.0057613835860305124,
          -0.007941372756709832,
          -0.012166260907342717,
          -0.019650403288394794,
          -0.02930905897843326,
          -0.031094608500498583,
          -0.013018390652080108,
          0.01209181466623901,
          0.019755033027548156,
          0.013924567062269551,
          0.006715395559870355,
          0.002095299391229683,
          -3.2079560272350193E-4,
          -0.0015509602954709616,
          -0.002232460920369761,
          -0.0025965393827051143,
          -0.002864009959092598,
          -0.0031047621827238405,
          -0.003167504545664164,
          -0.0033512366774476757,
          -0.003434668936339586,
          -0.0035178376169117793,
          -0.003618302362074565,
          -0.003740656959375867,
          -0.0037413220037918033,
          -0.0038535061985761603,
          -0.003952084916941317,
          -0.003964813778551162,
          -0.003966085474746394,
          -0.003981823054956562,
          -0.00396577753295812,
          -0.003951162515273677,
          -0.0038399283599797607,
          -0.0037840915011220617,
          -0.00372632806948939,
          -0.003688131463483299,
          -0.0036513518190855543,
          -0.00361382534338907,
          -0.003558437204584592,
          -0.0034899062480731147,
          -0.0034739800590503993,
          -0.003371959779423075,
          -0.0033648441302063527,
          -0.003306138684747058,
          -0.003236002247559455,
          -0.0032020912345614235,
          -0.0031144066255964268,
          -0.003060254843272604,
          -0.0030732400722929543,
          -0.0030514386847400867,
          -0.003058725246988037,
          -0.0029790289321820485,
          -0.0030220164647752307,
          -0.0030298636100688815,
          -0.003017127827675864,
          -0.003106105248602831,
          -0.003097678671007909,
          -0.003101183224509751,
          -0.0031775935280466154,
          -0.0031391913666181516,
          -0.003228608380603633,
          -0.0032347479946257343,
          -0.0032197179067441554,
          -0.0032672164041974735,
          -0.003267496450574944,
          -0.0033155635271167176,
          -0.003328124343955523,
          -0.0033125538850750894,
          -0.0033091381980069018,
          -0.0033636740676523747,
          -0.0033811035413689886,
          -0.003408627354519262,
          -0.0034057689855847917,
          -0.0034457850694091367,
          -0.0034775369827198584,
          -0.0034882028931079393,
          -0.0035160466178039453,
          -0.0035726644958649504,
          -0.0035546151447665123,
          -0.003647437073498897,
          -0.0036730943626665544,
          -0.00368818686547065,
          -0.0036937129446560483,
          -0.0037601937300117084,
          -0.0037590706106995276,
          -0.003799834920928812,
          -0.0038355484507421296,
          -0.003849469982210263,
          -0.0038511960674416845,
          -0.00387165847890399,
          -0.003862715957084224,
          -0.003967905145102501,
          -0.003930512127153372,
          -0.003961114652556603,
          -0.003999633602620692,
          -0.004000923119129884,
          -0.004034036759677479,
          -0.004055344594570783,
          -0.004015406841482048,
          -0.0040437660044081065,
          -0.004025514126382591,
          -0.004110994809113346,
          -0.004111157610597779,
          -0.0040837914195211225,
          -0.004158731395134748,
          -0.004164247109953518,
          -0.004192125786986411,
          -0.004197003789284045,
          -0.004245047324805376,
          -0.004259054029692189,
          -0.004254159539258438,
          -0.004280390439946214,
          -0.0042969252840498835,
          -0.004303298748888646,
          -0.004368230381222755,
          -0.00431568431057953,
          -0.004348294292415474,
          -0.0043985686170200265
         ],
         "yaxis": "y",
         "type": "scatter"
        }
       ],
       "layout": {
        "template": {
         "data": {
          "histogram2dcontour": [
           {
            "type": "histogram2dcontour",
            "colorbar": {
             "outlinewidth": 0,
             "ticks": ""
            },
            "colorscale": [
             [
              0.0,
              "#0d0887"
             ],
             [
              0.1111111111111111,
              "#46039f"
             ],
             [
              0.2222222222222222,
              "#7201a8"
             ],
             [
              0.3333333333333333,
              "#9c179e"
             ],
             [
              0.4444444444444444,
              "#bd3786"
             ],
             [
              0.5555555555555556,
              "#d8576b"
             ],
             [
              0.6666666666666666,
              "#ed7953"
             ],
             [
              0.7777777777777778,
              "#fb9f3a"
             ],
             [
              0.8888888888888888,
              "#fdca26"
             ],
             [
              1.0,
              "#f0f921"
             ]
            ]
           }
          ],
          "choropleth": [
           {
            "type": "choropleth",
            "colorbar": {
             "outlinewidth": 0,
             "ticks": ""
            }
           }
          ],
          "histogram2d": [
           {
            "type": "histogram2d",
            "colorbar": {
             "outlinewidth": 0,
             "ticks": ""
            },
            "colorscale": [
             [
              0.0,
              "#0d0887"
             ],
             [
              0.1111111111111111,
              "#46039f"
             ],
             [
              0.2222222222222222,
              "#7201a8"
             ],
             [
              0.3333333333333333,
              "#9c179e"
             ],
             [
              0.4444444444444444,
              "#bd3786"
             ],
             [
              0.5555555555555556,
              "#d8576b"
             ],
             [
              0.6666666666666666,
              "#ed7953"
             ],
             [
              0.7777777777777778,
              "#fb9f3a"
             ],
             [
              0.8888888888888888,
              "#fdca26"
             ],
             [
              1.0,
              "#f0f921"
             ]
            ]
           }
          ],
          "heatmap": [
           {
            "type": "heatmap",
            "colorbar": {
             "outlinewidth": 0,
             "ticks": ""
            },
            "colorscale": [
             [
              0.0,
              "#0d0887"
             ],
             [
              0.1111111111111111,
              "#46039f"
             ],
             [
              0.2222222222222222,
              "#7201a8"
             ],
             [
              0.3333333333333333,
              "#9c179e"
             ],
             [
              0.4444444444444444,
              "#bd3786"
             ],
             [
              0.5555555555555556,
              "#d8576b"
             ],
             [
              0.6666666666666666,
              "#ed7953"
             ],
             [
              0.7777777777777778,
              "#fb9f3a"
             ],
             [
              0.8888888888888888,
              "#fdca26"
             ],
             [
              1.0,
              "#f0f921"
             ]
            ]
           }
          ],
          "heatmapgl": [
           {
            "type": "heatmapgl",
            "colorbar": {
             "outlinewidth": 0,
             "ticks": ""
            },
            "colorscale": [
             [
              0.0,
              "#0d0887"
             ],
             [
              0.1111111111111111,
              "#46039f"
             ],
             [
              0.2222222222222222,
              "#7201a8"
             ],
             [
              0.3333333333333333,
              "#9c179e"
             ],
             [
              0.4444444444444444,
              "#bd3786"
             ],
             [
              0.5555555555555556,
              "#d8576b"
             ],
             [
              0.6666666666666666,
              "#ed7953"
             ],
             [
              0.7777777777777778,
              "#fb9f3a"
             ],
             [
              0.8888888888888888,
              "#fdca26"
             ],
             [
              1.0,
              "#f0f921"
             ]
            ]
           }
          ],
          "contourcarpet": [
           {
            "type": "contourcarpet",
            "colorbar": {
             "outlinewidth": 0,
             "ticks": ""
            }
           }
          ],
          "contour": [
           {
            "type": "contour",
            "colorbar": {
             "outlinewidth": 0,
             "ticks": ""
            },
            "colorscale": [
             [
              0.0,
              "#0d0887"
             ],
             [
              0.1111111111111111,
              "#46039f"
             ],
             [
              0.2222222222222222,
              "#7201a8"
             ],
             [
              0.3333333333333333,
              "#9c179e"
             ],
             [
              0.4444444444444444,
              "#bd3786"
             ],
             [
              0.5555555555555556,
              "#d8576b"
             ],
             [
              0.6666666666666666,
              "#ed7953"
             ],
             [
              0.7777777777777778,
              "#fb9f3a"
             ],
             [
              0.8888888888888888,
              "#fdca26"
             ],
             [
              1.0,
              "#f0f921"
             ]
            ]
           }
          ],
          "surface": [
           {
            "type": "surface",
            "colorbar": {
             "outlinewidth": 0,
             "ticks": ""
            },
            "colorscale": [
             [
              0.0,
              "#0d0887"
             ],
             [
              0.1111111111111111,
              "#46039f"
             ],
             [
              0.2222222222222222,
              "#7201a8"
             ],
             [
              0.3333333333333333,
              "#9c179e"
             ],
             [
              0.4444444444444444,
              "#bd3786"
             ],
             [
              0.5555555555555556,
              "#d8576b"
             ],
             [
              0.6666666666666666,
              "#ed7953"
             ],
             [
              0.7777777777777778,
              "#fb9f3a"
             ],
             [
              0.8888888888888888,
              "#fdca26"
             ],
             [
              1.0,
              "#f0f921"
             ]
            ]
           }
          ],
          "mesh3d": [
           {
            "type": "mesh3d",
            "colorbar": {
             "outlinewidth": 0,
             "ticks": ""
            }
           }
          ],
          "scatter": [
           {
            "marker": {
             "line": {
              "color": "#283442"
             }
            },
            "type": "scatter"
           }
          ],
          "parcoords": [
           {
            "type": "parcoords",
            "line": {
             "colorbar": {
              "outlinewidth": 0,
              "ticks": ""
             }
            }
           }
          ],
          "scatterpolargl": [
           {
            "type": "scatterpolargl",
            "marker": {
             "colorbar": {
              "outlinewidth": 0,
              "ticks": ""
             }
            }
           }
          ],
          "bar": [
           {
            "error_x": {
             "color": "#f2f5fa"
            },
            "error_y": {
             "color": "#f2f5fa"
            },
            "marker": {
             "line": {
              "color": "rgb(17,17,17)",
              "width": 0.5
             },
             "pattern": {
              "fillmode": "overlay",
              "size": 10,
              "solidity": 0.2
             }
            },
            "type": "bar"
           }
          ],
          "scattergeo": [
           {
            "type": "scattergeo",
            "marker": {
             "colorbar": {
              "outlinewidth": 0,
              "ticks": ""
             }
            }
           }
          ],
          "scatterpolar": [
           {
            "type": "scatterpolar",
            "marker": {
             "colorbar": {
              "outlinewidth": 0,
              "ticks": ""
             }
            }
           }
          ],
          "histogram": [
           {
            "marker": {
             "pattern": {
              "fillmode": "overlay",
              "size": 10,
              "solidity": 0.2
             }
            },
            "type": "histogram"
           }
          ],
          "scattergl": [
           {
            "marker": {
             "line": {
              "color": "#283442"
             }
            },
            "type": "scattergl"
           }
          ],
          "scatter3d": [
           {
            "type": "scatter3d",
            "line": {
             "colorbar": {
              "outlinewidth": 0,
              "ticks": ""
             }
            },
            "marker": {
             "colorbar": {
              "outlinewidth": 0,
              "ticks": ""
             }
            }
           }
          ],
          "scattermapbox": [
           {
            "type": "scattermapbox",
            "marker": {
             "colorbar": {
              "outlinewidth": 0,
              "ticks": ""
             }
            }
           }
          ],
          "scatterternary": [
           {
            "type": "scatterternary",
            "marker": {
             "colorbar": {
              "outlinewidth": 0,
              "ticks": ""
             }
            }
           }
          ],
          "scattercarpet": [
           {
            "type": "scattercarpet",
            "marker": {
             "colorbar": {
              "outlinewidth": 0,
              "ticks": ""
             }
            }
           }
          ],
          "carpet": [
           {
            "aaxis": {
             "endlinecolor": "#A2B1C6",
             "gridcolor": "#506784",
             "linecolor": "#506784",
             "minorgridcolor": "#506784",
             "startlinecolor": "#A2B1C6"
            },
            "baxis": {
             "endlinecolor": "#A2B1C6",
             "gridcolor": "#506784",
             "linecolor": "#506784",
             "minorgridcolor": "#506784",
             "startlinecolor": "#A2B1C6"
            },
            "type": "carpet"
           }
          ],
          "table": [
           {
            "cells": {
             "fill": {
              "color": "#506784"
             },
             "line": {
              "color": "rgb(17,17,17)"
             }
            },
            "header": {
             "fill": {
              "color": "#2a3f5f"
             },
             "line": {
              "color": "rgb(17,17,17)"
             }
            },
            "type": "table"
           }
          ],
          "barpolar": [
           {
            "marker": {
             "line": {
              "color": "rgb(17,17,17)",
              "width": 0.5
             },
             "pattern": {
              "fillmode": "overlay",
              "size": 10,
              "solidity": 0.2
             }
            },
            "type": "barpolar"
           }
          ],
          "pie": [
           {
            "automargin": true,
            "type": "pie"
           }
          ]
         },
         "layout": {
          "autotypenumbers": "strict",
          "colorway": [
           "#636efa",
           "#EF553B",
           "#00cc96",
           "#ab63fa",
           "#FFA15A",
           "#19d3f3",
           "#FF6692",
           "#B6E880",
           "#FF97FF",
           "#FECB52"
          ],
          "font": {
           "color": "#f2f5fa"
          },
          "hovermode": "closest",
          "hoverlabel": {
           "align": "left"
          },
          "paper_bgcolor": "rgb(17,17,17)",
          "plot_bgcolor": "rgb(17,17,17)",
          "polar": {
           "bgcolor": "rgb(17,17,17)",
           "angularaxis": {
            "gridcolor": "#506784",
            "linecolor": "#506784",
            "ticks": ""
           },
           "radialaxis": {
            "gridcolor": "#506784",
            "linecolor": "#506784",
            "ticks": ""
           }
          },
          "ternary": {
           "bgcolor": "rgb(17,17,17)",
           "aaxis": {
            "gridcolor": "#506784",
            "linecolor": "#506784",
            "ticks": ""
           },
           "baxis": {
            "gridcolor": "#506784",
            "linecolor": "#506784",
            "ticks": ""
           },
           "caxis": {
            "gridcolor": "#506784",
            "linecolor": "#506784",
            "ticks": ""
           }
          },
          "coloraxis": {
           "colorbar": {
            "outlinewidth": 0,
            "ticks": ""
           }
          },
          "colorscale": {
           "sequential": [
            [
             0.0,
             "#0d0887"
            ],
            [
             0.1111111111111111,
             "#46039f"
            ],
            [
             0.2222222222222222,
             "#7201a8"
            ],
            [
             0.3333333333333333,
             "#9c179e"
            ],
            [
             0.4444444444444444,
             "#bd3786"
            ],
            [
             0.5555555555555556,
             "#d8576b"
            ],
            [
             0.6666666666666666,
             "#ed7953"
            ],
            [
             0.7777777777777778,
             "#fb9f3a"
            ],
            [
             0.8888888888888888,
             "#fdca26"
            ],
            [
             1.0,
             "#f0f921"
            ]
           ],
           "sequentialminus": [
            [
             0.0,
             "#0d0887"
            ],
            [
             0.1111111111111111,
             "#46039f"
            ],
            [
             0.2222222222222222,
             "#7201a8"
            ],
            [
             0.3333333333333333,
             "#9c179e"
            ],
            [
             0.4444444444444444,
             "#bd3786"
            ],
            [
             0.5555555555555556,
             "#d8576b"
            ],
            [
             0.6666666666666666,
             "#ed7953"
            ],
            [
             0.7777777777777778,
             "#fb9f3a"
            ],
            [
             0.8888888888888888,
             "#fdca26"
            ],
            [
             1.0,
             "#f0f921"
            ]
           ],
           "diverging": [
            [
             0,
             "#8e0152"
            ],
            [
             0.1,
             "#c51b7d"
            ],
            [
             0.2,
             "#de77ae"
            ],
            [
             0.3,
             "#f1b6da"
            ],
            [
             0.4,
             "#fde0ef"
            ],
            [
             0.5,
             "#f7f7f7"
            ],
            [
             0.6,
             "#e6f5d0"
            ],
            [
             0.7,
             "#b8e186"
            ],
            [
             0.8,
             "#7fbc41"
            ],
            [
             0.9,
             "#4d9221"
            ],
            [
             1,
             "#276419"
            ]
           ]
          },
          "xaxis": {
           "gridcolor": "#283442",
           "linecolor": "#506784",
           "ticks": "",
           "title": {
            "standoff": 15
           },
           "zerolinecolor": "#283442",
           "automargin": true,
           "zerolinewidth": 2
          },
          "yaxis": {
           "gridcolor": "#283442",
           "linecolor": "#506784",
           "ticks": "",
           "title": {
            "standoff": 15
           },
           "zerolinecolor": "#283442",
           "automargin": true,
           "zerolinewidth": 2
          },
          "scene": {
           "xaxis": {
            "backgroundcolor": "rgb(17,17,17)",
            "gridcolor": "#506784",
            "linecolor": "#506784",
            "showbackground": true,
            "ticks": "",
            "zerolinecolor": "#C8D4E3",
            "gridwidth": 2
           },
           "yaxis": {
            "backgroundcolor": "rgb(17,17,17)",
            "gridcolor": "#506784",
            "linecolor": "#506784",
            "showbackground": true,
            "ticks": "",
            "zerolinecolor": "#C8D4E3",
            "gridwidth": 2
           },
           "zaxis": {
            "backgroundcolor": "rgb(17,17,17)",
            "gridcolor": "#506784",
            "linecolor": "#506784",
            "showbackground": true,
            "ticks": "",
            "zerolinecolor": "#C8D4E3",
            "gridwidth": 2
           }
          },
          "shapedefaults": {
           "line": {
            "color": "#f2f5fa"
           }
          },
          "annotationdefaults": {
           "arrowcolor": "#f2f5fa",
           "arrowhead": 0,
           "arrowwidth": 1
          },
          "geo": {
           "bgcolor": "rgb(17,17,17)",
           "landcolor": "rgb(17,17,17)",
           "subunitcolor": "#506784",
           "showland": true,
           "showlakes": true,
           "lakecolor": "rgb(17,17,17)"
          },
          "title": {
           "x": 0.05
          },
          "updatemenudefaults": {
           "bgcolor": "#506784",
           "borderwidth": 0
          },
          "sliderdefaults": {
           "bgcolor": "#C8D4E3",
           "borderwidth": 1,
           "bordercolor": "rgb(17,17,17)",
           "tickwidth": 0
          },
          "mapbox": {
           "style": "dark"
          }
         }
        },
        "xaxis": {
         "anchor": "y",
         "domain": [
          0.0,
          1.0
         ],
         "title": {
          "text": "x"
         }
        },
        "yaxis": {
         "anchor": "x",
         "domain": [
          0.0,
          1.0
         ],
         "title": {
          "text": "y"
         }
        },
        "legend": {
         "tracegroupgap": 0
        },
        "margin": {
         "t": 60
        }
       },
       "config": {
        "plotlyServerURL": "https://plot.ly"
       }
      },
      "text/html": "<div>                            <div id=\"9cde2877-d5e1-4b31-a7e4-12c6fda7ccb5\" class=\"plotly-graph-div\" style=\"height:525px; width:100%;\"></div>            <script type=\"text/javascript\">                require([\"plotly\"], function(Plotly) {                    window.PLOTLYENV=window.PLOTLYENV || {};                                    if (document.getElementById(\"9cde2877-d5e1-4b31-a7e4-12c6fda7ccb5\")) {                    Plotly.newPlot(                        \"9cde2877-d5e1-4b31-a7e4-12c6fda7ccb5\",                        [{\"hovertemplate\":\"x=%{x}\\u003cbr\\u003ey=%{y}\\u003cextra\\u003e\\u003c\\u002fextra\\u003e\",\"legendgroup\":\"\",\"line\":{\"color\":\"#636efa\",\"dash\":\"solid\"},\"marker\":{\"symbol\":\"circle\"},\"mode\":\"lines\",\"name\":\"\",\"orientation\":\"v\",\"showlegend\":false,\"x\":[1489.670166015625,1488.5650634765625,1487.459716796875,1486.354248046875,1485.24853515625,1484.142578125,1483.0364990234375,1481.93017578125,1480.8236083984375,1479.7169189453125,1478.6099853515625,1477.5028076171875,1476.3955078125,1475.2879638671875,1474.1802978515625,1473.0723876953125,1471.9642333984375,1470.8558349609375,1469.747314453125,1468.638671875,1467.5296630859375,1466.4205322265625,1465.311279296875,1464.20166015625,1463.0919189453125,1461.9820556640625,1460.8719482421875,1459.7615966796875,1458.6510009765625,1457.540283203125,1456.4293212890625,1455.3182373046875,1454.2069091796875,1453.0953369140625,1451.983642578125,1450.8717041015625,1449.759521484375,1448.647216796875,1447.53466796875,1446.421875,1445.3089599609375,1444.19580078125,1443.0823974609375,1441.9688720703125,1440.8551025390625,1439.7410888671875,1438.626953125,1437.5125732421875,1436.3980712890625,1435.2833251953125,1434.1683349609375,1433.0531005859375,1431.937744140625,1430.8221435546875,1429.7064208984375,1428.5904541015625,1427.4742431640625,1426.35791015625,1425.2412109375,1424.12451171875,1423.0074462890625,1421.8902587890625,1420.7728271484375,1419.6552734375,1418.5374755859375,1417.41943359375,1416.30126953125,1415.182861328125,1414.064208984375,1412.9454345703125,1411.826416015625,1410.7071533203125,1409.587646484375,1408.468017578125,1407.3482666015625,1406.2281494140625,1405.10791015625,1403.9874267578125,1402.8668212890625,1401.7459716796875,1400.6248779296875,1399.503662109375,1398.3822021484375,1397.260498046875,1396.1385498046875,1395.0164794921875,1393.894287109375,1392.771728515625,1391.6490478515625,1390.526123046875,1389.403076171875,1388.2796630859375,1387.15625,1386.032470703125,1384.9085693359375,1383.784423828125,1382.6600341796875,1381.5355224609375,1380.4107666015625,1379.2857666015625,1378.16064453125,1377.0352783203125,1375.90966796875,1374.783935546875,1373.657958984375,1372.53173828125,1371.4053955078125,1370.27880859375,1369.1519775390625,1368.02490234375,1366.897705078125,1365.770263671875,1364.6427001953125,1363.5147705078125,1362.38671875,1361.258544921875,1360.1300048828125,1359.0013427734375,1357.87255859375,1356.743408203125,1355.6141357421875,1354.484619140625,1353.35498046875,1352.22509765625,1351.094970703125,1349.964599609375,1348.8341064453125,1347.703369140625,1346.5723876953125,1345.441162109375,1344.309814453125,1343.17822265625,1342.0465087890625,1340.91455078125,1339.7823486328125,1338.64990234375,1337.517333984375,1336.384521484375,1335.25146484375,1334.1181640625,1332.9847412109375,1331.85107421875,1330.7171630859375,1329.5831298828125,1328.4488525390625,1327.3143310546875,1326.1796875,1325.0447998046875,1323.90966796875,1322.7742919921875,1321.6387939453125,1320.5029296875,1319.3670654296875,1318.2308349609375,1317.094482421875,1315.9578857421875,1314.821044921875,1313.68408203125,1312.546875,1311.409423828125,1310.271728515625,1309.1339111328125,1307.995849609375,1306.8575439453125,1305.718994140625,1304.580322265625,1303.44140625,1302.3023681640625,1301.1629638671875,1300.0234375,1298.8836669921875,1297.74365234375,1296.603515625,1295.463134765625,1294.322509765625,1293.181640625,1292.0406494140625,1290.8994140625,1289.7579345703125,1288.6163330078125,1287.474365234375,1286.332275390625,1285.1900634765625,1284.0474853515625,1282.90478515625,1281.7618408203125,1280.61865234375,1279.475341796875,1278.3316650390625,1277.1878662109375,1276.0439453125,1274.899658203125,1273.7552490234375,1272.610595703125,1271.4656982421875,1270.3206787109375,1269.17529296875,1268.02978515625,1266.8841552734375],\"xaxis\":\"x\",\"y\":[-0.0022881825280308124,-0.00227705588643712,-0.0022740435902901257,-0.002278708150900901,-0.002290649287656891,-0.002257877098777286,-0.0022991749809193915,-0.002332575857592076,-0.0023361930123628064,-0.0023346865384021496,-0.0022974551889699503,-0.0023259668002549275,-0.0023124697963751197,-0.0023221284671193615,-0.002341131510392383,-0.0023324160587254164,-0.0023497954596792313,-0.0023147746165464783,-0.002399592686825475,-0.002366696669114171,-0.002393028400394004,-0.0024094397203348484,-0.0023763729629513114,-0.0023869453339063593,-0.0023937032247487422,-0.0024061108783987907,-0.0024298901923757187,-0.002440714709068949,-0.002458161958113399,-0.0024257794245446662,-0.0024473646263593668,-0.002470981537359005,-0.002460731502064813,-0.002465639781638791,-0.0024551122270232923,-0.0025004425440076816,-0.0025204850157177347,-0.0025048993620372653,-0.0025150767596021006,-0.002517121504794816,-0.0024983440686562448,-0.002549271259665326,-0.0025452560214543974,-0.002555599043328474,-0.002549732492556697,-0.002584898553059457,-0.002584080506148656,-0.0026301143259448217,-0.002629759037297424,-0.0026367317735988853,-0.002631886551670547,-0.002617870739088186,-0.0026575594243224785,-0.002677162231147486,-0.0026685334186746196,-0.00266766298737043,-0.0026980990618178293,-0.0026709773553677666,-0.002698258075484383,-0.0027250608319120224,-0.002758145533903885,-0.0027451734284191626,-0.0027796759326649714,-0.0027552853682424683,-0.00281816681342581,-0.0028022081457155976,-0.0027911540822250025,-0.002812941355119885,-0.002825538817769426,-0.002848248331461054,-0.002873848532550998,-0.00290114143594521,-0.0029257453441951242,-0.0029887301312672998,-0.0030227802132417906,-0.0031129165270044317,-0.0032218371097230396,-0.003347757801195838,-0.0036125678581272564,-0.003924018523052133,-0.0046002494314519565,-0.0057613835860305124,-0.007941372756709832,-0.012166260907342717,-0.019650403288394794,-0.02930905897843326,-0.031094608500498583,-0.013018390652080108,0.01209181466623901,0.019755033027548156,0.013924567062269551,0.006715395559870355,0.002095299391229683,-0.00032079560272350193,-0.0015509602954709616,-0.002232460920369761,-0.0025965393827051143,-0.002864009959092598,-0.0031047621827238405,-0.003167504545664164,-0.0033512366774476757,-0.003434668936339586,-0.0035178376169117793,-0.003618302362074565,-0.003740656959375867,-0.0037413220037918033,-0.0038535061985761603,-0.003952084916941317,-0.003964813778551162,-0.003966085474746394,-0.003981823054956562,-0.00396577753295812,-0.003951162515273677,-0.0038399283599797607,-0.0037840915011220617,-0.00372632806948939,-0.003688131463483299,-0.0036513518190855543,-0.00361382534338907,-0.003558437204584592,-0.0034899062480731147,-0.0034739800590503993,-0.003371959779423075,-0.0033648441302063527,-0.003306138684747058,-0.003236002247559455,-0.0032020912345614235,-0.0031144066255964268,-0.003060254843272604,-0.0030732400722929543,-0.0030514386847400867,-0.003058725246988037,-0.0029790289321820485,-0.0030220164647752307,-0.0030298636100688815,-0.003017127827675864,-0.003106105248602831,-0.003097678671007909,-0.003101183224509751,-0.0031775935280466154,-0.0031391913666181516,-0.003228608380603633,-0.0032347479946257343,-0.0032197179067441554,-0.0032672164041974735,-0.003267496450574944,-0.0033155635271167176,-0.003328124343955523,-0.0033125538850750894,-0.0033091381980069018,-0.0033636740676523747,-0.0033811035413689886,-0.003408627354519262,-0.0034057689855847917,-0.0034457850694091367,-0.0034775369827198584,-0.0034882028931079393,-0.0035160466178039453,-0.0035726644958649504,-0.0035546151447665123,-0.003647437073498897,-0.0036730943626665544,-0.00368818686547065,-0.0036937129446560483,-0.0037601937300117084,-0.0037590706106995276,-0.003799834920928812,-0.0038355484507421296,-0.003849469982210263,-0.0038511960674416845,-0.00387165847890399,-0.003862715957084224,-0.003967905145102501,-0.003930512127153372,-0.003961114652556603,-0.003999633602620692,-0.004000923119129884,-0.004034036759677479,-0.004055344594570783,-0.004015406841482048,-0.0040437660044081065,-0.004025514126382591,-0.004110994809113346,-0.004111157610597779,-0.0040837914195211225,-0.004158731395134748,-0.004164247109953518,-0.004192125786986411,-0.004197003789284045,-0.004245047324805376,-0.004259054029692189,-0.004254159539258438,-0.004280390439946214,-0.0042969252840498835,-0.004303298748888646,-0.004368230381222755,-0.00431568431057953,-0.004348294292415474,-0.0043985686170200265],\"yaxis\":\"y\",\"type\":\"scatter\"}],                        {\"template\":{\"data\":{\"histogram2dcontour\":[{\"type\":\"histogram2dcontour\",\"colorbar\":{\"outlinewidth\":0,\"ticks\":\"\"},\"colorscale\":[[0.0,\"#0d0887\"],[0.1111111111111111,\"#46039f\"],[0.2222222222222222,\"#7201a8\"],[0.3333333333333333,\"#9c179e\"],[0.4444444444444444,\"#bd3786\"],[0.5555555555555556,\"#d8576b\"],[0.6666666666666666,\"#ed7953\"],[0.7777777777777778,\"#fb9f3a\"],[0.8888888888888888,\"#fdca26\"],[1.0,\"#f0f921\"]]}],\"choropleth\":[{\"type\":\"choropleth\",\"colorbar\":{\"outlinewidth\":0,\"ticks\":\"\"}}],\"histogram2d\":[{\"type\":\"histogram2d\",\"colorbar\":{\"outlinewidth\":0,\"ticks\":\"\"},\"colorscale\":[[0.0,\"#0d0887\"],[0.1111111111111111,\"#46039f\"],[0.2222222222222222,\"#7201a8\"],[0.3333333333333333,\"#9c179e\"],[0.4444444444444444,\"#bd3786\"],[0.5555555555555556,\"#d8576b\"],[0.6666666666666666,\"#ed7953\"],[0.7777777777777778,\"#fb9f3a\"],[0.8888888888888888,\"#fdca26\"],[1.0,\"#f0f921\"]]}],\"heatmap\":[{\"type\":\"heatmap\",\"colorbar\":{\"outlinewidth\":0,\"ticks\":\"\"},\"colorscale\":[[0.0,\"#0d0887\"],[0.1111111111111111,\"#46039f\"],[0.2222222222222222,\"#7201a8\"],[0.3333333333333333,\"#9c179e\"],[0.4444444444444444,\"#bd3786\"],[0.5555555555555556,\"#d8576b\"],[0.6666666666666666,\"#ed7953\"],[0.7777777777777778,\"#fb9f3a\"],[0.8888888888888888,\"#fdca26\"],[1.0,\"#f0f921\"]]}],\"heatmapgl\":[{\"type\":\"heatmapgl\",\"colorbar\":{\"outlinewidth\":0,\"ticks\":\"\"},\"colorscale\":[[0.0,\"#0d0887\"],[0.1111111111111111,\"#46039f\"],[0.2222222222222222,\"#7201a8\"],[0.3333333333333333,\"#9c179e\"],[0.4444444444444444,\"#bd3786\"],[0.5555555555555556,\"#d8576b\"],[0.6666666666666666,\"#ed7953\"],[0.7777777777777778,\"#fb9f3a\"],[0.8888888888888888,\"#fdca26\"],[1.0,\"#f0f921\"]]}],\"contourcarpet\":[{\"type\":\"contourcarpet\",\"colorbar\":{\"outlinewidth\":0,\"ticks\":\"\"}}],\"contour\":[{\"type\":\"contour\",\"colorbar\":{\"outlinewidth\":0,\"ticks\":\"\"},\"colorscale\":[[0.0,\"#0d0887\"],[0.1111111111111111,\"#46039f\"],[0.2222222222222222,\"#7201a8\"],[0.3333333333333333,\"#9c179e\"],[0.4444444444444444,\"#bd3786\"],[0.5555555555555556,\"#d8576b\"],[0.6666666666666666,\"#ed7953\"],[0.7777777777777778,\"#fb9f3a\"],[0.8888888888888888,\"#fdca26\"],[1.0,\"#f0f921\"]]}],\"surface\":[{\"type\":\"surface\",\"colorbar\":{\"outlinewidth\":0,\"ticks\":\"\"},\"colorscale\":[[0.0,\"#0d0887\"],[0.1111111111111111,\"#46039f\"],[0.2222222222222222,\"#7201a8\"],[0.3333333333333333,\"#9c179e\"],[0.4444444444444444,\"#bd3786\"],[0.5555555555555556,\"#d8576b\"],[0.6666666666666666,\"#ed7953\"],[0.7777777777777778,\"#fb9f3a\"],[0.8888888888888888,\"#fdca26\"],[1.0,\"#f0f921\"]]}],\"mesh3d\":[{\"type\":\"mesh3d\",\"colorbar\":{\"outlinewidth\":0,\"ticks\":\"\"}}],\"scatter\":[{\"marker\":{\"line\":{\"color\":\"#283442\"}},\"type\":\"scatter\"}],\"parcoords\":[{\"type\":\"parcoords\",\"line\":{\"colorbar\":{\"outlinewidth\":0,\"ticks\":\"\"}}}],\"scatterpolargl\":[{\"type\":\"scatterpolargl\",\"marker\":{\"colorbar\":{\"outlinewidth\":0,\"ticks\":\"\"}}}],\"bar\":[{\"error_x\":{\"color\":\"#f2f5fa\"},\"error_y\":{\"color\":\"#f2f5fa\"},\"marker\":{\"line\":{\"color\":\"rgb(17,17,17)\",\"width\":0.5},\"pattern\":{\"fillmode\":\"overlay\",\"size\":10,\"solidity\":0.2}},\"type\":\"bar\"}],\"scattergeo\":[{\"type\":\"scattergeo\",\"marker\":{\"colorbar\":{\"outlinewidth\":0,\"ticks\":\"\"}}}],\"scatterpolar\":[{\"type\":\"scatterpolar\",\"marker\":{\"colorbar\":{\"outlinewidth\":0,\"ticks\":\"\"}}}],\"histogram\":[{\"marker\":{\"pattern\":{\"fillmode\":\"overlay\",\"size\":10,\"solidity\":0.2}},\"type\":\"histogram\"}],\"scattergl\":[{\"marker\":{\"line\":{\"color\":\"#283442\"}},\"type\":\"scattergl\"}],\"scatter3d\":[{\"type\":\"scatter3d\",\"line\":{\"colorbar\":{\"outlinewidth\":0,\"ticks\":\"\"}},\"marker\":{\"colorbar\":{\"outlinewidth\":0,\"ticks\":\"\"}}}],\"scattermapbox\":[{\"type\":\"scattermapbox\",\"marker\":{\"colorbar\":{\"outlinewidth\":0,\"ticks\":\"\"}}}],\"scatterternary\":[{\"type\":\"scatterternary\",\"marker\":{\"colorbar\":{\"outlinewidth\":0,\"ticks\":\"\"}}}],\"scattercarpet\":[{\"type\":\"scattercarpet\",\"marker\":{\"colorbar\":{\"outlinewidth\":0,\"ticks\":\"\"}}}],\"carpet\":[{\"aaxis\":{\"endlinecolor\":\"#A2B1C6\",\"gridcolor\":\"#506784\",\"linecolor\":\"#506784\",\"minorgridcolor\":\"#506784\",\"startlinecolor\":\"#A2B1C6\"},\"baxis\":{\"endlinecolor\":\"#A2B1C6\",\"gridcolor\":\"#506784\",\"linecolor\":\"#506784\",\"minorgridcolor\":\"#506784\",\"startlinecolor\":\"#A2B1C6\"},\"type\":\"carpet\"}],\"table\":[{\"cells\":{\"fill\":{\"color\":\"#506784\"},\"line\":{\"color\":\"rgb(17,17,17)\"}},\"header\":{\"fill\":{\"color\":\"#2a3f5f\"},\"line\":{\"color\":\"rgb(17,17,17)\"}},\"type\":\"table\"}],\"barpolar\":[{\"marker\":{\"line\":{\"color\":\"rgb(17,17,17)\",\"width\":0.5},\"pattern\":{\"fillmode\":\"overlay\",\"size\":10,\"solidity\":0.2}},\"type\":\"barpolar\"}],\"pie\":[{\"automargin\":true,\"type\":\"pie\"}]},\"layout\":{\"autotypenumbers\":\"strict\",\"colorway\":[\"#636efa\",\"#EF553B\",\"#00cc96\",\"#ab63fa\",\"#FFA15A\",\"#19d3f3\",\"#FF6692\",\"#B6E880\",\"#FF97FF\",\"#FECB52\"],\"font\":{\"color\":\"#f2f5fa\"},\"hovermode\":\"closest\",\"hoverlabel\":{\"align\":\"left\"},\"paper_bgcolor\":\"rgb(17,17,17)\",\"plot_bgcolor\":\"rgb(17,17,17)\",\"polar\":{\"bgcolor\":\"rgb(17,17,17)\",\"angularaxis\":{\"gridcolor\":\"#506784\",\"linecolor\":\"#506784\",\"ticks\":\"\"},\"radialaxis\":{\"gridcolor\":\"#506784\",\"linecolor\":\"#506784\",\"ticks\":\"\"}},\"ternary\":{\"bgcolor\":\"rgb(17,17,17)\",\"aaxis\":{\"gridcolor\":\"#506784\",\"linecolor\":\"#506784\",\"ticks\":\"\"},\"baxis\":{\"gridcolor\":\"#506784\",\"linecolor\":\"#506784\",\"ticks\":\"\"},\"caxis\":{\"gridcolor\":\"#506784\",\"linecolor\":\"#506784\",\"ticks\":\"\"}},\"coloraxis\":{\"colorbar\":{\"outlinewidth\":0,\"ticks\":\"\"}},\"colorscale\":{\"sequential\":[[0.0,\"#0d0887\"],[0.1111111111111111,\"#46039f\"],[0.2222222222222222,\"#7201a8\"],[0.3333333333333333,\"#9c179e\"],[0.4444444444444444,\"#bd3786\"],[0.5555555555555556,\"#d8576b\"],[0.6666666666666666,\"#ed7953\"],[0.7777777777777778,\"#fb9f3a\"],[0.8888888888888888,\"#fdca26\"],[1.0,\"#f0f921\"]],\"sequentialminus\":[[0.0,\"#0d0887\"],[0.1111111111111111,\"#46039f\"],[0.2222222222222222,\"#7201a8\"],[0.3333333333333333,\"#9c179e\"],[0.4444444444444444,\"#bd3786\"],[0.5555555555555556,\"#d8576b\"],[0.6666666666666666,\"#ed7953\"],[0.7777777777777778,\"#fb9f3a\"],[0.8888888888888888,\"#fdca26\"],[1.0,\"#f0f921\"]],\"diverging\":[[0,\"#8e0152\"],[0.1,\"#c51b7d\"],[0.2,\"#de77ae\"],[0.3,\"#f1b6da\"],[0.4,\"#fde0ef\"],[0.5,\"#f7f7f7\"],[0.6,\"#e6f5d0\"],[0.7,\"#b8e186\"],[0.8,\"#7fbc41\"],[0.9,\"#4d9221\"],[1,\"#276419\"]]},\"xaxis\":{\"gridcolor\":\"#283442\",\"linecolor\":\"#506784\",\"ticks\":\"\",\"title\":{\"standoff\":15},\"zerolinecolor\":\"#283442\",\"automargin\":true,\"zerolinewidth\":2},\"yaxis\":{\"gridcolor\":\"#283442\",\"linecolor\":\"#506784\",\"ticks\":\"\",\"title\":{\"standoff\":15},\"zerolinecolor\":\"#283442\",\"automargin\":true,\"zerolinewidth\":2},\"scene\":{\"xaxis\":{\"backgroundcolor\":\"rgb(17,17,17)\",\"gridcolor\":\"#506784\",\"linecolor\":\"#506784\",\"showbackground\":true,\"ticks\":\"\",\"zerolinecolor\":\"#C8D4E3\",\"gridwidth\":2},\"yaxis\":{\"backgroundcolor\":\"rgb(17,17,17)\",\"gridcolor\":\"#506784\",\"linecolor\":\"#506784\",\"showbackground\":true,\"ticks\":\"\",\"zerolinecolor\":\"#C8D4E3\",\"gridwidth\":2},\"zaxis\":{\"backgroundcolor\":\"rgb(17,17,17)\",\"gridcolor\":\"#506784\",\"linecolor\":\"#506784\",\"showbackground\":true,\"ticks\":\"\",\"zerolinecolor\":\"#C8D4E3\",\"gridwidth\":2}},\"shapedefaults\":{\"line\":{\"color\":\"#f2f5fa\"}},\"annotationdefaults\":{\"arrowcolor\":\"#f2f5fa\",\"arrowhead\":0,\"arrowwidth\":1},\"geo\":{\"bgcolor\":\"rgb(17,17,17)\",\"landcolor\":\"rgb(17,17,17)\",\"subunitcolor\":\"#506784\",\"showland\":true,\"showlakes\":true,\"lakecolor\":\"rgb(17,17,17)\"},\"title\":{\"x\":0.05},\"updatemenudefaults\":{\"bgcolor\":\"#506784\",\"borderwidth\":0},\"sliderdefaults\":{\"bgcolor\":\"#C8D4E3\",\"borderwidth\":1,\"bordercolor\":\"rgb(17,17,17)\",\"tickwidth\":0},\"mapbox\":{\"style\":\"dark\"}}},\"xaxis\":{\"anchor\":\"y\",\"domain\":[0.0,1.0],\"title\":{\"text\":\"x\"}},\"yaxis\":{\"anchor\":\"x\",\"domain\":[0.0,1.0],\"title\":{\"text\":\"y\"}},\"legend\":{\"tracegroupgap\":0},\"margin\":{\"t\":60}},                        {\"responsive\": true}                    ).then(function(){\n                            \nvar gd = document.getElementById('9cde2877-d5e1-4b31-a7e4-12c6fda7ccb5');\nvar x = new MutationObserver(function (mutations, observer) {{\n        var display = window.getComputedStyle(gd).display;\n        if (!display || display === 'none') {{\n            console.log([gd, 'removed!']);\n            Plotly.purge(gd);\n            observer.disconnect();\n        }}\n}});\n\n// Listen for the removal of the full notebook cells\nvar notebookContainer = gd.closest('#notebook-container');\nif (notebookContainer) {{\n    x.observe(notebookContainer, {childList: true});\n}}\n\n// Listen for the clearing of the current output cell\nvar outputEl = gd.closest('.output');\nif (outputEl) {{\n    x.observe(outputEl, {childList: true});\n}}\n\n                        })                };                });            </script>        </div>"
     },
     "metadata": {},
     "output_type": "display_data"
    },
    {
     "data": {
      "application/vnd.plotly.v1+json": {
       "data": [
        {
         "hovertemplate": "x=%{x}<br>y=%{y}<extra></extra>",
         "legendgroup": "",
         "line": {
          "color": "#636efa",
          "dash": "solid"
         },
         "marker": {
          "symbol": "circle"
         },
         "mode": "lines",
         "name": "",
         "orientation": "v",
         "showlegend": false,
         "x": [
          1489.670166015625,
          1488.5650634765625,
          1487.459716796875,
          1486.354248046875,
          1485.24853515625,
          1484.142578125,
          1483.0364990234375,
          1481.93017578125,
          1480.8236083984375,
          1479.7169189453125,
          1478.6099853515625,
          1477.5028076171875,
          1476.3955078125,
          1475.2879638671875,
          1474.1802978515625,
          1473.0723876953125,
          1471.9642333984375,
          1470.8558349609375,
          1469.747314453125,
          1468.638671875,
          1467.5296630859375,
          1466.4205322265625,
          1465.311279296875,
          1464.20166015625,
          1463.0919189453125,
          1461.9820556640625,
          1460.8719482421875,
          1459.7615966796875,
          1458.6510009765625,
          1457.540283203125,
          1456.4293212890625,
          1455.3182373046875,
          1454.2069091796875,
          1453.0953369140625,
          1451.983642578125,
          1450.8717041015625,
          1449.759521484375,
          1448.647216796875,
          1447.53466796875,
          1446.421875,
          1445.3089599609375,
          1444.19580078125,
          1443.0823974609375,
          1441.9688720703125,
          1440.8551025390625,
          1439.7410888671875,
          1438.626953125,
          1437.5125732421875,
          1436.3980712890625,
          1435.2833251953125,
          1434.1683349609375,
          1433.0531005859375,
          1431.937744140625,
          1430.8221435546875,
          1429.7064208984375,
          1428.5904541015625,
          1427.4742431640625,
          1426.35791015625,
          1425.2412109375,
          1424.12451171875,
          1423.0074462890625,
          1421.8902587890625,
          1420.7728271484375,
          1419.6552734375,
          1418.5374755859375,
          1417.41943359375,
          1416.30126953125,
          1415.182861328125,
          1414.064208984375,
          1412.9454345703125,
          1411.826416015625,
          1410.7071533203125,
          1409.587646484375,
          1408.468017578125,
          1407.3482666015625,
          1406.2281494140625,
          1405.10791015625,
          1403.9874267578125,
          1402.8668212890625,
          1401.7459716796875,
          1400.6248779296875,
          1399.503662109375,
          1398.3822021484375,
          1397.260498046875,
          1396.1385498046875,
          1395.0164794921875,
          1393.894287109375,
          1392.771728515625,
          1391.6490478515625,
          1390.526123046875,
          1389.403076171875,
          1388.2796630859375,
          1387.15625,
          1386.032470703125,
          1384.9085693359375,
          1383.784423828125,
          1382.6600341796875,
          1381.5355224609375,
          1380.4107666015625,
          1379.2857666015625,
          1378.16064453125,
          1377.0352783203125,
          1375.90966796875,
          1374.783935546875,
          1373.657958984375,
          1372.53173828125,
          1371.4053955078125,
          1370.27880859375,
          1369.1519775390625,
          1368.02490234375,
          1366.897705078125,
          1365.770263671875,
          1364.6427001953125,
          1363.5147705078125,
          1362.38671875,
          1361.258544921875,
          1360.1300048828125,
          1359.0013427734375,
          1357.87255859375,
          1356.743408203125,
          1355.6141357421875,
          1354.484619140625,
          1353.35498046875,
          1352.22509765625,
          1351.094970703125,
          1349.964599609375,
          1348.8341064453125,
          1347.703369140625,
          1346.5723876953125,
          1345.441162109375,
          1344.309814453125,
          1343.17822265625,
          1342.0465087890625,
          1340.91455078125,
          1339.7823486328125,
          1338.64990234375,
          1337.517333984375,
          1336.384521484375,
          1335.25146484375,
          1334.1181640625,
          1332.9847412109375,
          1331.85107421875,
          1330.7171630859375,
          1329.5831298828125,
          1328.4488525390625,
          1327.3143310546875,
          1326.1796875,
          1325.0447998046875,
          1323.90966796875,
          1322.7742919921875,
          1321.6387939453125,
          1320.5029296875,
          1319.3670654296875,
          1318.2308349609375,
          1317.094482421875,
          1315.9578857421875,
          1314.821044921875,
          1313.68408203125,
          1312.546875,
          1311.409423828125,
          1310.271728515625,
          1309.1339111328125,
          1307.995849609375,
          1306.8575439453125,
          1305.718994140625,
          1304.580322265625,
          1303.44140625,
          1302.3023681640625,
          1301.1629638671875,
          1300.0234375,
          1298.8836669921875,
          1297.74365234375,
          1296.603515625,
          1295.463134765625,
          1294.322509765625,
          1293.181640625,
          1292.0406494140625,
          1290.8994140625,
          1289.7579345703125,
          1288.6163330078125,
          1287.474365234375,
          1286.332275390625,
          1285.1900634765625,
          1284.0474853515625,
          1282.90478515625,
          1281.7618408203125,
          1280.61865234375,
          1279.475341796875,
          1278.3316650390625,
          1277.1878662109375,
          1276.0439453125,
          1274.899658203125,
          1273.7552490234375,
          1272.610595703125,
          1271.4656982421875,
          1270.3206787109375,
          1269.17529296875,
          1268.02978515625,
          1266.8841552734375
         ],
         "xaxis": "x",
         "y": [
          0.012582207286155556,
          0.012618759429773451,
          0.012550730293866743,
          0.01262518466793501,
          0.012611277253369177,
          0.012482688802847069,
          0.012550675234857332,
          0.01250294217093069,
          0.01256766852928055,
          0.012518940108209553,
          0.012498409802691743,
          0.012439340362242283,
          0.012538491969835806,
          0.012409548409935732,
          0.012442620851148764,
          0.012415033575964502,
          0.012502664690813481,
          0.012442409150648662,
          0.012525557777940505,
          0.012581110829417668,
          0.012615633324812107,
          0.012496001178943086,
          0.012613053214452025,
          0.012642947878281074,
          0.012721163360659853,
          0.012664251472334851,
          0.012735388455815747,
          0.012715500200647399,
          0.01280587569441662,
          0.012736016910636565,
          0.012843555122681248,
          0.012829909762895756,
          0.012781748716946638,
          0.012847986513994348,
          0.012901075198379065,
          0.012978109819137516,
          0.012929607480202646,
          0.012942747816284485,
          0.013044289606075753,
          0.013144292221805567,
          0.013067736222974144,
          0.013105978053443223,
          0.013173126859949726,
          0.013222739118922421,
          0.0134079044901239,
          0.013342015816961126,
          0.013411003920546347,
          0.013452575832860796,
          0.013547341386573828,
          0.013594546947833658,
          0.01371660541682197,
          0.013762312085439307,
          0.01382681015571952,
          0.013890212897421279,
          0.014018639004488086,
          0.013959844399501417,
          0.014156253623816013,
          0.014133942395326813,
          0.014286762249402948,
          0.014339096395810701,
          0.014638390915919642,
          0.014686067633613806,
          0.014864033762877633,
          0.01493906964083337,
          0.015228510330040516,
          0.015316539912096267,
          0.015553897570880491,
          0.015785834435169545,
          0.016232096196670577,
          0.01657200530755776,
          0.01693300068781566,
          0.01727311634913542,
          0.017863679842872647,
          0.01852007114705654,
          0.019329003244090093,
          0.02046273429339753,
          0.021950760571391347,
          0.023595634761960325,
          0.026151133631402965,
          0.029326902985740498,
          0.033981418141372816,
          0.04038124406463532,
          0.05034179745552099,
          0.06583209408503665,
          0.08997533095492993,
          0.12592151783898065,
          0.17307356653006037,
          0.2203851965269361,
          0.23705787924222171,
          0.2032451809467129,
          0.14744233759032052,
          0.10109949869407953,
          0.07087486756107989,
          0.05269221008739311,
          0.042163463954710254,
          0.03552115331041147,
          0.031482189930170046,
          0.028938962390309148,
          0.02723481951715616,
          0.025951146966849425,
          0.025358060672154736,
          0.02479944224851078,
          0.02437460363200385,
          0.024316684405835995,
          0.024412523932356555,
          0.024411894725808705,
          0.024739385895677275,
          0.025034672680143973,
          0.025212253519612253,
          0.02556889006517218,
          0.025959327515218233,
          0.0263812541068114,
          0.026839993406084634,
          0.026917586800439552,
          0.02719134428519311,
          0.02732984525336776,
          0.027836206788135507,
          0.028058855108983944,
          0.028580855757105048,
          0.029087697697325984,
          0.029620275234202798,
          0.030315186309491857,
          0.03087489840926847,
          0.031357639930593685,
          0.03200198676412648,
          0.03250179322179311,
          0.032970487007897564,
          0.03325907438949554,
          0.03361737676012818,
          0.03376782059634428,
          0.03369684187464415,
          0.03351514197930795,
          0.03315702957817202,
          0.03270763241001263,
          0.03217744639914003,
          0.03137162723259742,
          0.030902542684534993,
          0.03032711700141733,
          0.029536546197181105,
          0.028944031053349337,
          0.02820943374811996,
          0.027575880345045673,
          0.02695078051594593,
          0.026523734337224256,
          0.025790398671788665,
          0.025186006082157486,
          0.024643917333720376,
          0.02407204909291586,
          0.023711706153837792,
          0.023095795978961206,
          0.02269147640915773,
          0.02214544191878543,
          0.02180485408209417,
          0.021321727550915166,
          0.021037930507468584,
          0.02055889347905742,
          0.02024584030901816,
          0.019763109656321706,
          0.01943996592004947,
          0.019187188212989516,
          0.01894217037732208,
          0.01870445533976033,
          0.018438086127682718,
          0.018155600450142487,
          0.01787355758873529,
          0.017655528047230303,
          0.017439653174559717,
          0.0172733627776863,
          0.017054369056479435,
          0.01687701399781033,
          0.0167268182228643,
          0.01658087454455568,
          0.0165642826802948,
          0.016425962325969077,
          0.016300978816440548,
          0.01615831256815108,
          0.016068627848802867,
          0.015956682946318107,
          0.015905331235580408,
          0.0157025168473837,
          0.015682325292791392,
          0.015505648467184451,
          0.015638943264519464,
          0.015308835373416945,
          0.015322075611070544,
          0.015319428967418404,
          0.01539097802370893,
          0.015301045616962116,
          0.015377080565601942,
          0.015262345054569047,
          0.015273013542325211,
          0.015159731587365844,
          0.015125732513161974,
          0.015066602344746048,
          0.01497328702624913,
          0.014957119745803764,
          0.014862383381327643,
          0.014893082114150207,
          0.014810552701306342
         ],
         "yaxis": "y",
         "type": "scatter"
        }
       ],
       "layout": {
        "template": {
         "data": {
          "histogram2dcontour": [
           {
            "type": "histogram2dcontour",
            "colorbar": {
             "outlinewidth": 0,
             "ticks": ""
            },
            "colorscale": [
             [
              0.0,
              "#0d0887"
             ],
             [
              0.1111111111111111,
              "#46039f"
             ],
             [
              0.2222222222222222,
              "#7201a8"
             ],
             [
              0.3333333333333333,
              "#9c179e"
             ],
             [
              0.4444444444444444,
              "#bd3786"
             ],
             [
              0.5555555555555556,
              "#d8576b"
             ],
             [
              0.6666666666666666,
              "#ed7953"
             ],
             [
              0.7777777777777778,
              "#fb9f3a"
             ],
             [
              0.8888888888888888,
              "#fdca26"
             ],
             [
              1.0,
              "#f0f921"
             ]
            ]
           }
          ],
          "choropleth": [
           {
            "type": "choropleth",
            "colorbar": {
             "outlinewidth": 0,
             "ticks": ""
            }
           }
          ],
          "histogram2d": [
           {
            "type": "histogram2d",
            "colorbar": {
             "outlinewidth": 0,
             "ticks": ""
            },
            "colorscale": [
             [
              0.0,
              "#0d0887"
             ],
             [
              0.1111111111111111,
              "#46039f"
             ],
             [
              0.2222222222222222,
              "#7201a8"
             ],
             [
              0.3333333333333333,
              "#9c179e"
             ],
             [
              0.4444444444444444,
              "#bd3786"
             ],
             [
              0.5555555555555556,
              "#d8576b"
             ],
             [
              0.6666666666666666,
              "#ed7953"
             ],
             [
              0.7777777777777778,
              "#fb9f3a"
             ],
             [
              0.8888888888888888,
              "#fdca26"
             ],
             [
              1.0,
              "#f0f921"
             ]
            ]
           }
          ],
          "heatmap": [
           {
            "type": "heatmap",
            "colorbar": {
             "outlinewidth": 0,
             "ticks": ""
            },
            "colorscale": [
             [
              0.0,
              "#0d0887"
             ],
             [
              0.1111111111111111,
              "#46039f"
             ],
             [
              0.2222222222222222,
              "#7201a8"
             ],
             [
              0.3333333333333333,
              "#9c179e"
             ],
             [
              0.4444444444444444,
              "#bd3786"
             ],
             [
              0.5555555555555556,
              "#d8576b"
             ],
             [
              0.6666666666666666,
              "#ed7953"
             ],
             [
              0.7777777777777778,
              "#fb9f3a"
             ],
             [
              0.8888888888888888,
              "#fdca26"
             ],
             [
              1.0,
              "#f0f921"
             ]
            ]
           }
          ],
          "heatmapgl": [
           {
            "type": "heatmapgl",
            "colorbar": {
             "outlinewidth": 0,
             "ticks": ""
            },
            "colorscale": [
             [
              0.0,
              "#0d0887"
             ],
             [
              0.1111111111111111,
              "#46039f"
             ],
             [
              0.2222222222222222,
              "#7201a8"
             ],
             [
              0.3333333333333333,
              "#9c179e"
             ],
             [
              0.4444444444444444,
              "#bd3786"
             ],
             [
              0.5555555555555556,
              "#d8576b"
             ],
             [
              0.6666666666666666,
              "#ed7953"
             ],
             [
              0.7777777777777778,
              "#fb9f3a"
             ],
             [
              0.8888888888888888,
              "#fdca26"
             ],
             [
              1.0,
              "#f0f921"
             ]
            ]
           }
          ],
          "contourcarpet": [
           {
            "type": "contourcarpet",
            "colorbar": {
             "outlinewidth": 0,
             "ticks": ""
            }
           }
          ],
          "contour": [
           {
            "type": "contour",
            "colorbar": {
             "outlinewidth": 0,
             "ticks": ""
            },
            "colorscale": [
             [
              0.0,
              "#0d0887"
             ],
             [
              0.1111111111111111,
              "#46039f"
             ],
             [
              0.2222222222222222,
              "#7201a8"
             ],
             [
              0.3333333333333333,
              "#9c179e"
             ],
             [
              0.4444444444444444,
              "#bd3786"
             ],
             [
              0.5555555555555556,
              "#d8576b"
             ],
             [
              0.6666666666666666,
              "#ed7953"
             ],
             [
              0.7777777777777778,
              "#fb9f3a"
             ],
             [
              0.8888888888888888,
              "#fdca26"
             ],
             [
              1.0,
              "#f0f921"
             ]
            ]
           }
          ],
          "surface": [
           {
            "type": "surface",
            "colorbar": {
             "outlinewidth": 0,
             "ticks": ""
            },
            "colorscale": [
             [
              0.0,
              "#0d0887"
             ],
             [
              0.1111111111111111,
              "#46039f"
             ],
             [
              0.2222222222222222,
              "#7201a8"
             ],
             [
              0.3333333333333333,
              "#9c179e"
             ],
             [
              0.4444444444444444,
              "#bd3786"
             ],
             [
              0.5555555555555556,
              "#d8576b"
             ],
             [
              0.6666666666666666,
              "#ed7953"
             ],
             [
              0.7777777777777778,
              "#fb9f3a"
             ],
             [
              0.8888888888888888,
              "#fdca26"
             ],
             [
              1.0,
              "#f0f921"
             ]
            ]
           }
          ],
          "mesh3d": [
           {
            "type": "mesh3d",
            "colorbar": {
             "outlinewidth": 0,
             "ticks": ""
            }
           }
          ],
          "scatter": [
           {
            "marker": {
             "line": {
              "color": "#283442"
             }
            },
            "type": "scatter"
           }
          ],
          "parcoords": [
           {
            "type": "parcoords",
            "line": {
             "colorbar": {
              "outlinewidth": 0,
              "ticks": ""
             }
            }
           }
          ],
          "scatterpolargl": [
           {
            "type": "scatterpolargl",
            "marker": {
             "colorbar": {
              "outlinewidth": 0,
              "ticks": ""
             }
            }
           }
          ],
          "bar": [
           {
            "error_x": {
             "color": "#f2f5fa"
            },
            "error_y": {
             "color": "#f2f5fa"
            },
            "marker": {
             "line": {
              "color": "rgb(17,17,17)",
              "width": 0.5
             },
             "pattern": {
              "fillmode": "overlay",
              "size": 10,
              "solidity": 0.2
             }
            },
            "type": "bar"
           }
          ],
          "scattergeo": [
           {
            "type": "scattergeo",
            "marker": {
             "colorbar": {
              "outlinewidth": 0,
              "ticks": ""
             }
            }
           }
          ],
          "scatterpolar": [
           {
            "type": "scatterpolar",
            "marker": {
             "colorbar": {
              "outlinewidth": 0,
              "ticks": ""
             }
            }
           }
          ],
          "histogram": [
           {
            "marker": {
             "pattern": {
              "fillmode": "overlay",
              "size": 10,
              "solidity": 0.2
             }
            },
            "type": "histogram"
           }
          ],
          "scattergl": [
           {
            "marker": {
             "line": {
              "color": "#283442"
             }
            },
            "type": "scattergl"
           }
          ],
          "scatter3d": [
           {
            "type": "scatter3d",
            "line": {
             "colorbar": {
              "outlinewidth": 0,
              "ticks": ""
             }
            },
            "marker": {
             "colorbar": {
              "outlinewidth": 0,
              "ticks": ""
             }
            }
           }
          ],
          "scattermapbox": [
           {
            "type": "scattermapbox",
            "marker": {
             "colorbar": {
              "outlinewidth": 0,
              "ticks": ""
             }
            }
           }
          ],
          "scatterternary": [
           {
            "type": "scatterternary",
            "marker": {
             "colorbar": {
              "outlinewidth": 0,
              "ticks": ""
             }
            }
           }
          ],
          "scattercarpet": [
           {
            "type": "scattercarpet",
            "marker": {
             "colorbar": {
              "outlinewidth": 0,
              "ticks": ""
             }
            }
           }
          ],
          "carpet": [
           {
            "aaxis": {
             "endlinecolor": "#A2B1C6",
             "gridcolor": "#506784",
             "linecolor": "#506784",
             "minorgridcolor": "#506784",
             "startlinecolor": "#A2B1C6"
            },
            "baxis": {
             "endlinecolor": "#A2B1C6",
             "gridcolor": "#506784",
             "linecolor": "#506784",
             "minorgridcolor": "#506784",
             "startlinecolor": "#A2B1C6"
            },
            "type": "carpet"
           }
          ],
          "table": [
           {
            "cells": {
             "fill": {
              "color": "#506784"
             },
             "line": {
              "color": "rgb(17,17,17)"
             }
            },
            "header": {
             "fill": {
              "color": "#2a3f5f"
             },
             "line": {
              "color": "rgb(17,17,17)"
             }
            },
            "type": "table"
           }
          ],
          "barpolar": [
           {
            "marker": {
             "line": {
              "color": "rgb(17,17,17)",
              "width": 0.5
             },
             "pattern": {
              "fillmode": "overlay",
              "size": 10,
              "solidity": 0.2
             }
            },
            "type": "barpolar"
           }
          ],
          "pie": [
           {
            "automargin": true,
            "type": "pie"
           }
          ]
         },
         "layout": {
          "autotypenumbers": "strict",
          "colorway": [
           "#636efa",
           "#EF553B",
           "#00cc96",
           "#ab63fa",
           "#FFA15A",
           "#19d3f3",
           "#FF6692",
           "#B6E880",
           "#FF97FF",
           "#FECB52"
          ],
          "font": {
           "color": "#f2f5fa"
          },
          "hovermode": "closest",
          "hoverlabel": {
           "align": "left"
          },
          "paper_bgcolor": "rgb(17,17,17)",
          "plot_bgcolor": "rgb(17,17,17)",
          "polar": {
           "bgcolor": "rgb(17,17,17)",
           "angularaxis": {
            "gridcolor": "#506784",
            "linecolor": "#506784",
            "ticks": ""
           },
           "radialaxis": {
            "gridcolor": "#506784",
            "linecolor": "#506784",
            "ticks": ""
           }
          },
          "ternary": {
           "bgcolor": "rgb(17,17,17)",
           "aaxis": {
            "gridcolor": "#506784",
            "linecolor": "#506784",
            "ticks": ""
           },
           "baxis": {
            "gridcolor": "#506784",
            "linecolor": "#506784",
            "ticks": ""
           },
           "caxis": {
            "gridcolor": "#506784",
            "linecolor": "#506784",
            "ticks": ""
           }
          },
          "coloraxis": {
           "colorbar": {
            "outlinewidth": 0,
            "ticks": ""
           }
          },
          "colorscale": {
           "sequential": [
            [
             0.0,
             "#0d0887"
            ],
            [
             0.1111111111111111,
             "#46039f"
            ],
            [
             0.2222222222222222,
             "#7201a8"
            ],
            [
             0.3333333333333333,
             "#9c179e"
            ],
            [
             0.4444444444444444,
             "#bd3786"
            ],
            [
             0.5555555555555556,
             "#d8576b"
            ],
            [
             0.6666666666666666,
             "#ed7953"
            ],
            [
             0.7777777777777778,
             "#fb9f3a"
            ],
            [
             0.8888888888888888,
             "#fdca26"
            ],
            [
             1.0,
             "#f0f921"
            ]
           ],
           "sequentialminus": [
            [
             0.0,
             "#0d0887"
            ],
            [
             0.1111111111111111,
             "#46039f"
            ],
            [
             0.2222222222222222,
             "#7201a8"
            ],
            [
             0.3333333333333333,
             "#9c179e"
            ],
            [
             0.4444444444444444,
             "#bd3786"
            ],
            [
             0.5555555555555556,
             "#d8576b"
            ],
            [
             0.6666666666666666,
             "#ed7953"
            ],
            [
             0.7777777777777778,
             "#fb9f3a"
            ],
            [
             0.8888888888888888,
             "#fdca26"
            ],
            [
             1.0,
             "#f0f921"
            ]
           ],
           "diverging": [
            [
             0,
             "#8e0152"
            ],
            [
             0.1,
             "#c51b7d"
            ],
            [
             0.2,
             "#de77ae"
            ],
            [
             0.3,
             "#f1b6da"
            ],
            [
             0.4,
             "#fde0ef"
            ],
            [
             0.5,
             "#f7f7f7"
            ],
            [
             0.6,
             "#e6f5d0"
            ],
            [
             0.7,
             "#b8e186"
            ],
            [
             0.8,
             "#7fbc41"
            ],
            [
             0.9,
             "#4d9221"
            ],
            [
             1,
             "#276419"
            ]
           ]
          },
          "xaxis": {
           "gridcolor": "#283442",
           "linecolor": "#506784",
           "ticks": "",
           "title": {
            "standoff": 15
           },
           "zerolinecolor": "#283442",
           "automargin": true,
           "zerolinewidth": 2
          },
          "yaxis": {
           "gridcolor": "#283442",
           "linecolor": "#506784",
           "ticks": "",
           "title": {
            "standoff": 15
           },
           "zerolinecolor": "#283442",
           "automargin": true,
           "zerolinewidth": 2
          },
          "scene": {
           "xaxis": {
            "backgroundcolor": "rgb(17,17,17)",
            "gridcolor": "#506784",
            "linecolor": "#506784",
            "showbackground": true,
            "ticks": "",
            "zerolinecolor": "#C8D4E3",
            "gridwidth": 2
           },
           "yaxis": {
            "backgroundcolor": "rgb(17,17,17)",
            "gridcolor": "#506784",
            "linecolor": "#506784",
            "showbackground": true,
            "ticks": "",
            "zerolinecolor": "#C8D4E3",
            "gridwidth": 2
           },
           "zaxis": {
            "backgroundcolor": "rgb(17,17,17)",
            "gridcolor": "#506784",
            "linecolor": "#506784",
            "showbackground": true,
            "ticks": "",
            "zerolinecolor": "#C8D4E3",
            "gridwidth": 2
           }
          },
          "shapedefaults": {
           "line": {
            "color": "#f2f5fa"
           }
          },
          "annotationdefaults": {
           "arrowcolor": "#f2f5fa",
           "arrowhead": 0,
           "arrowwidth": 1
          },
          "geo": {
           "bgcolor": "rgb(17,17,17)",
           "landcolor": "rgb(17,17,17)",
           "subunitcolor": "#506784",
           "showland": true,
           "showlakes": true,
           "lakecolor": "rgb(17,17,17)"
          },
          "title": {
           "x": 0.05
          },
          "updatemenudefaults": {
           "bgcolor": "#506784",
           "borderwidth": 0
          },
          "sliderdefaults": {
           "bgcolor": "#C8D4E3",
           "borderwidth": 1,
           "bordercolor": "rgb(17,17,17)",
           "tickwidth": 0
          },
          "mapbox": {
           "style": "dark"
          }
         }
        },
        "xaxis": {
         "anchor": "y",
         "domain": [
          0.0,
          1.0
         ],
         "title": {
          "text": "x"
         }
        },
        "yaxis": {
         "anchor": "x",
         "domain": [
          0.0,
          1.0
         ],
         "title": {
          "text": "y"
         }
        },
        "legend": {
         "tracegroupgap": 0
        },
        "margin": {
         "t": 60
        }
       },
       "config": {
        "plotlyServerURL": "https://plot.ly"
       }
      },
      "text/html": "<div>                            <div id=\"a0a9c390-610c-4fd9-848c-1887d0088819\" class=\"plotly-graph-div\" style=\"height:525px; width:100%;\"></div>            <script type=\"text/javascript\">                require([\"plotly\"], function(Plotly) {                    window.PLOTLYENV=window.PLOTLYENV || {};                                    if (document.getElementById(\"a0a9c390-610c-4fd9-848c-1887d0088819\")) {                    Plotly.newPlot(                        \"a0a9c390-610c-4fd9-848c-1887d0088819\",                        [{\"hovertemplate\":\"x=%{x}\\u003cbr\\u003ey=%{y}\\u003cextra\\u003e\\u003c\\u002fextra\\u003e\",\"legendgroup\":\"\",\"line\":{\"color\":\"#636efa\",\"dash\":\"solid\"},\"marker\":{\"symbol\":\"circle\"},\"mode\":\"lines\",\"name\":\"\",\"orientation\":\"v\",\"showlegend\":false,\"x\":[1489.670166015625,1488.5650634765625,1487.459716796875,1486.354248046875,1485.24853515625,1484.142578125,1483.0364990234375,1481.93017578125,1480.8236083984375,1479.7169189453125,1478.6099853515625,1477.5028076171875,1476.3955078125,1475.2879638671875,1474.1802978515625,1473.0723876953125,1471.9642333984375,1470.8558349609375,1469.747314453125,1468.638671875,1467.5296630859375,1466.4205322265625,1465.311279296875,1464.20166015625,1463.0919189453125,1461.9820556640625,1460.8719482421875,1459.7615966796875,1458.6510009765625,1457.540283203125,1456.4293212890625,1455.3182373046875,1454.2069091796875,1453.0953369140625,1451.983642578125,1450.8717041015625,1449.759521484375,1448.647216796875,1447.53466796875,1446.421875,1445.3089599609375,1444.19580078125,1443.0823974609375,1441.9688720703125,1440.8551025390625,1439.7410888671875,1438.626953125,1437.5125732421875,1436.3980712890625,1435.2833251953125,1434.1683349609375,1433.0531005859375,1431.937744140625,1430.8221435546875,1429.7064208984375,1428.5904541015625,1427.4742431640625,1426.35791015625,1425.2412109375,1424.12451171875,1423.0074462890625,1421.8902587890625,1420.7728271484375,1419.6552734375,1418.5374755859375,1417.41943359375,1416.30126953125,1415.182861328125,1414.064208984375,1412.9454345703125,1411.826416015625,1410.7071533203125,1409.587646484375,1408.468017578125,1407.3482666015625,1406.2281494140625,1405.10791015625,1403.9874267578125,1402.8668212890625,1401.7459716796875,1400.6248779296875,1399.503662109375,1398.3822021484375,1397.260498046875,1396.1385498046875,1395.0164794921875,1393.894287109375,1392.771728515625,1391.6490478515625,1390.526123046875,1389.403076171875,1388.2796630859375,1387.15625,1386.032470703125,1384.9085693359375,1383.784423828125,1382.6600341796875,1381.5355224609375,1380.4107666015625,1379.2857666015625,1378.16064453125,1377.0352783203125,1375.90966796875,1374.783935546875,1373.657958984375,1372.53173828125,1371.4053955078125,1370.27880859375,1369.1519775390625,1368.02490234375,1366.897705078125,1365.770263671875,1364.6427001953125,1363.5147705078125,1362.38671875,1361.258544921875,1360.1300048828125,1359.0013427734375,1357.87255859375,1356.743408203125,1355.6141357421875,1354.484619140625,1353.35498046875,1352.22509765625,1351.094970703125,1349.964599609375,1348.8341064453125,1347.703369140625,1346.5723876953125,1345.441162109375,1344.309814453125,1343.17822265625,1342.0465087890625,1340.91455078125,1339.7823486328125,1338.64990234375,1337.517333984375,1336.384521484375,1335.25146484375,1334.1181640625,1332.9847412109375,1331.85107421875,1330.7171630859375,1329.5831298828125,1328.4488525390625,1327.3143310546875,1326.1796875,1325.0447998046875,1323.90966796875,1322.7742919921875,1321.6387939453125,1320.5029296875,1319.3670654296875,1318.2308349609375,1317.094482421875,1315.9578857421875,1314.821044921875,1313.68408203125,1312.546875,1311.409423828125,1310.271728515625,1309.1339111328125,1307.995849609375,1306.8575439453125,1305.718994140625,1304.580322265625,1303.44140625,1302.3023681640625,1301.1629638671875,1300.0234375,1298.8836669921875,1297.74365234375,1296.603515625,1295.463134765625,1294.322509765625,1293.181640625,1292.0406494140625,1290.8994140625,1289.7579345703125,1288.6163330078125,1287.474365234375,1286.332275390625,1285.1900634765625,1284.0474853515625,1282.90478515625,1281.7618408203125,1280.61865234375,1279.475341796875,1278.3316650390625,1277.1878662109375,1276.0439453125,1274.899658203125,1273.7552490234375,1272.610595703125,1271.4656982421875,1270.3206787109375,1269.17529296875,1268.02978515625,1266.8841552734375],\"xaxis\":\"x\",\"y\":[0.012582207286155556,0.012618759429773451,0.012550730293866743,0.01262518466793501,0.012611277253369177,0.012482688802847069,0.012550675234857332,0.01250294217093069,0.01256766852928055,0.012518940108209553,0.012498409802691743,0.012439340362242283,0.012538491969835806,0.012409548409935732,0.012442620851148764,0.012415033575964502,0.012502664690813481,0.012442409150648662,0.012525557777940505,0.012581110829417668,0.012615633324812107,0.012496001178943086,0.012613053214452025,0.012642947878281074,0.012721163360659853,0.012664251472334851,0.012735388455815747,0.012715500200647399,0.01280587569441662,0.012736016910636565,0.012843555122681248,0.012829909762895756,0.012781748716946638,0.012847986513994348,0.012901075198379065,0.012978109819137516,0.012929607480202646,0.012942747816284485,0.013044289606075753,0.013144292221805567,0.013067736222974144,0.013105978053443223,0.013173126859949726,0.013222739118922421,0.0134079044901239,0.013342015816961126,0.013411003920546347,0.013452575832860796,0.013547341386573828,0.013594546947833658,0.01371660541682197,0.013762312085439307,0.01382681015571952,0.013890212897421279,0.014018639004488086,0.013959844399501417,0.014156253623816013,0.014133942395326813,0.014286762249402948,0.014339096395810701,0.014638390915919642,0.014686067633613806,0.014864033762877633,0.01493906964083337,0.015228510330040516,0.015316539912096267,0.015553897570880491,0.015785834435169545,0.016232096196670577,0.01657200530755776,0.01693300068781566,0.01727311634913542,0.017863679842872647,0.01852007114705654,0.019329003244090093,0.02046273429339753,0.021950760571391347,0.023595634761960325,0.026151133631402965,0.029326902985740498,0.033981418141372816,0.04038124406463532,0.05034179745552099,0.06583209408503665,0.08997533095492993,0.12592151783898065,0.17307356653006037,0.2203851965269361,0.23705787924222171,0.2032451809467129,0.14744233759032052,0.10109949869407953,0.07087486756107989,0.05269221008739311,0.042163463954710254,0.03552115331041147,0.031482189930170046,0.028938962390309148,0.02723481951715616,0.025951146966849425,0.025358060672154736,0.02479944224851078,0.02437460363200385,0.024316684405835995,0.024412523932356555,0.024411894725808705,0.024739385895677275,0.025034672680143973,0.025212253519612253,0.02556889006517218,0.025959327515218233,0.0263812541068114,0.026839993406084634,0.026917586800439552,0.02719134428519311,0.02732984525336776,0.027836206788135507,0.028058855108983944,0.028580855757105048,0.029087697697325984,0.029620275234202798,0.030315186309491857,0.03087489840926847,0.031357639930593685,0.03200198676412648,0.03250179322179311,0.032970487007897564,0.03325907438949554,0.03361737676012818,0.03376782059634428,0.03369684187464415,0.03351514197930795,0.03315702957817202,0.03270763241001263,0.03217744639914003,0.03137162723259742,0.030902542684534993,0.03032711700141733,0.029536546197181105,0.028944031053349337,0.02820943374811996,0.027575880345045673,0.02695078051594593,0.026523734337224256,0.025790398671788665,0.025186006082157486,0.024643917333720376,0.02407204909291586,0.023711706153837792,0.023095795978961206,0.02269147640915773,0.02214544191878543,0.02180485408209417,0.021321727550915166,0.021037930507468584,0.02055889347905742,0.02024584030901816,0.019763109656321706,0.01943996592004947,0.019187188212989516,0.01894217037732208,0.01870445533976033,0.018438086127682718,0.018155600450142487,0.01787355758873529,0.017655528047230303,0.017439653174559717,0.0172733627776863,0.017054369056479435,0.01687701399781033,0.0167268182228643,0.01658087454455568,0.0165642826802948,0.016425962325969077,0.016300978816440548,0.01615831256815108,0.016068627848802867,0.015956682946318107,0.015905331235580408,0.0157025168473837,0.015682325292791392,0.015505648467184451,0.015638943264519464,0.015308835373416945,0.015322075611070544,0.015319428967418404,0.01539097802370893,0.015301045616962116,0.015377080565601942,0.015262345054569047,0.015273013542325211,0.015159731587365844,0.015125732513161974,0.015066602344746048,0.01497328702624913,0.014957119745803764,0.014862383381327643,0.014893082114150207,0.014810552701306342],\"yaxis\":\"y\",\"type\":\"scatter\"}],                        {\"template\":{\"data\":{\"histogram2dcontour\":[{\"type\":\"histogram2dcontour\",\"colorbar\":{\"outlinewidth\":0,\"ticks\":\"\"},\"colorscale\":[[0.0,\"#0d0887\"],[0.1111111111111111,\"#46039f\"],[0.2222222222222222,\"#7201a8\"],[0.3333333333333333,\"#9c179e\"],[0.4444444444444444,\"#bd3786\"],[0.5555555555555556,\"#d8576b\"],[0.6666666666666666,\"#ed7953\"],[0.7777777777777778,\"#fb9f3a\"],[0.8888888888888888,\"#fdca26\"],[1.0,\"#f0f921\"]]}],\"choropleth\":[{\"type\":\"choropleth\",\"colorbar\":{\"outlinewidth\":0,\"ticks\":\"\"}}],\"histogram2d\":[{\"type\":\"histogram2d\",\"colorbar\":{\"outlinewidth\":0,\"ticks\":\"\"},\"colorscale\":[[0.0,\"#0d0887\"],[0.1111111111111111,\"#46039f\"],[0.2222222222222222,\"#7201a8\"],[0.3333333333333333,\"#9c179e\"],[0.4444444444444444,\"#bd3786\"],[0.5555555555555556,\"#d8576b\"],[0.6666666666666666,\"#ed7953\"],[0.7777777777777778,\"#fb9f3a\"],[0.8888888888888888,\"#fdca26\"],[1.0,\"#f0f921\"]]}],\"heatmap\":[{\"type\":\"heatmap\",\"colorbar\":{\"outlinewidth\":0,\"ticks\":\"\"},\"colorscale\":[[0.0,\"#0d0887\"],[0.1111111111111111,\"#46039f\"],[0.2222222222222222,\"#7201a8\"],[0.3333333333333333,\"#9c179e\"],[0.4444444444444444,\"#bd3786\"],[0.5555555555555556,\"#d8576b\"],[0.6666666666666666,\"#ed7953\"],[0.7777777777777778,\"#fb9f3a\"],[0.8888888888888888,\"#fdca26\"],[1.0,\"#f0f921\"]]}],\"heatmapgl\":[{\"type\":\"heatmapgl\",\"colorbar\":{\"outlinewidth\":0,\"ticks\":\"\"},\"colorscale\":[[0.0,\"#0d0887\"],[0.1111111111111111,\"#46039f\"],[0.2222222222222222,\"#7201a8\"],[0.3333333333333333,\"#9c179e\"],[0.4444444444444444,\"#bd3786\"],[0.5555555555555556,\"#d8576b\"],[0.6666666666666666,\"#ed7953\"],[0.7777777777777778,\"#fb9f3a\"],[0.8888888888888888,\"#fdca26\"],[1.0,\"#f0f921\"]]}],\"contourcarpet\":[{\"type\":\"contourcarpet\",\"colorbar\":{\"outlinewidth\":0,\"ticks\":\"\"}}],\"contour\":[{\"type\":\"contour\",\"colorbar\":{\"outlinewidth\":0,\"ticks\":\"\"},\"colorscale\":[[0.0,\"#0d0887\"],[0.1111111111111111,\"#46039f\"],[0.2222222222222222,\"#7201a8\"],[0.3333333333333333,\"#9c179e\"],[0.4444444444444444,\"#bd3786\"],[0.5555555555555556,\"#d8576b\"],[0.6666666666666666,\"#ed7953\"],[0.7777777777777778,\"#fb9f3a\"],[0.8888888888888888,\"#fdca26\"],[1.0,\"#f0f921\"]]}],\"surface\":[{\"type\":\"surface\",\"colorbar\":{\"outlinewidth\":0,\"ticks\":\"\"},\"colorscale\":[[0.0,\"#0d0887\"],[0.1111111111111111,\"#46039f\"],[0.2222222222222222,\"#7201a8\"],[0.3333333333333333,\"#9c179e\"],[0.4444444444444444,\"#bd3786\"],[0.5555555555555556,\"#d8576b\"],[0.6666666666666666,\"#ed7953\"],[0.7777777777777778,\"#fb9f3a\"],[0.8888888888888888,\"#fdca26\"],[1.0,\"#f0f921\"]]}],\"mesh3d\":[{\"type\":\"mesh3d\",\"colorbar\":{\"outlinewidth\":0,\"ticks\":\"\"}}],\"scatter\":[{\"marker\":{\"line\":{\"color\":\"#283442\"}},\"type\":\"scatter\"}],\"parcoords\":[{\"type\":\"parcoords\",\"line\":{\"colorbar\":{\"outlinewidth\":0,\"ticks\":\"\"}}}],\"scatterpolargl\":[{\"type\":\"scatterpolargl\",\"marker\":{\"colorbar\":{\"outlinewidth\":0,\"ticks\":\"\"}}}],\"bar\":[{\"error_x\":{\"color\":\"#f2f5fa\"},\"error_y\":{\"color\":\"#f2f5fa\"},\"marker\":{\"line\":{\"color\":\"rgb(17,17,17)\",\"width\":0.5},\"pattern\":{\"fillmode\":\"overlay\",\"size\":10,\"solidity\":0.2}},\"type\":\"bar\"}],\"scattergeo\":[{\"type\":\"scattergeo\",\"marker\":{\"colorbar\":{\"outlinewidth\":0,\"ticks\":\"\"}}}],\"scatterpolar\":[{\"type\":\"scatterpolar\",\"marker\":{\"colorbar\":{\"outlinewidth\":0,\"ticks\":\"\"}}}],\"histogram\":[{\"marker\":{\"pattern\":{\"fillmode\":\"overlay\",\"size\":10,\"solidity\":0.2}},\"type\":\"histogram\"}],\"scattergl\":[{\"marker\":{\"line\":{\"color\":\"#283442\"}},\"type\":\"scattergl\"}],\"scatter3d\":[{\"type\":\"scatter3d\",\"line\":{\"colorbar\":{\"outlinewidth\":0,\"ticks\":\"\"}},\"marker\":{\"colorbar\":{\"outlinewidth\":0,\"ticks\":\"\"}}}],\"scattermapbox\":[{\"type\":\"scattermapbox\",\"marker\":{\"colorbar\":{\"outlinewidth\":0,\"ticks\":\"\"}}}],\"scatterternary\":[{\"type\":\"scatterternary\",\"marker\":{\"colorbar\":{\"outlinewidth\":0,\"ticks\":\"\"}}}],\"scattercarpet\":[{\"type\":\"scattercarpet\",\"marker\":{\"colorbar\":{\"outlinewidth\":0,\"ticks\":\"\"}}}],\"carpet\":[{\"aaxis\":{\"endlinecolor\":\"#A2B1C6\",\"gridcolor\":\"#506784\",\"linecolor\":\"#506784\",\"minorgridcolor\":\"#506784\",\"startlinecolor\":\"#A2B1C6\"},\"baxis\":{\"endlinecolor\":\"#A2B1C6\",\"gridcolor\":\"#506784\",\"linecolor\":\"#506784\",\"minorgridcolor\":\"#506784\",\"startlinecolor\":\"#A2B1C6\"},\"type\":\"carpet\"}],\"table\":[{\"cells\":{\"fill\":{\"color\":\"#506784\"},\"line\":{\"color\":\"rgb(17,17,17)\"}},\"header\":{\"fill\":{\"color\":\"#2a3f5f\"},\"line\":{\"color\":\"rgb(17,17,17)\"}},\"type\":\"table\"}],\"barpolar\":[{\"marker\":{\"line\":{\"color\":\"rgb(17,17,17)\",\"width\":0.5},\"pattern\":{\"fillmode\":\"overlay\",\"size\":10,\"solidity\":0.2}},\"type\":\"barpolar\"}],\"pie\":[{\"automargin\":true,\"type\":\"pie\"}]},\"layout\":{\"autotypenumbers\":\"strict\",\"colorway\":[\"#636efa\",\"#EF553B\",\"#00cc96\",\"#ab63fa\",\"#FFA15A\",\"#19d3f3\",\"#FF6692\",\"#B6E880\",\"#FF97FF\",\"#FECB52\"],\"font\":{\"color\":\"#f2f5fa\"},\"hovermode\":\"closest\",\"hoverlabel\":{\"align\":\"left\"},\"paper_bgcolor\":\"rgb(17,17,17)\",\"plot_bgcolor\":\"rgb(17,17,17)\",\"polar\":{\"bgcolor\":\"rgb(17,17,17)\",\"angularaxis\":{\"gridcolor\":\"#506784\",\"linecolor\":\"#506784\",\"ticks\":\"\"},\"radialaxis\":{\"gridcolor\":\"#506784\",\"linecolor\":\"#506784\",\"ticks\":\"\"}},\"ternary\":{\"bgcolor\":\"rgb(17,17,17)\",\"aaxis\":{\"gridcolor\":\"#506784\",\"linecolor\":\"#506784\",\"ticks\":\"\"},\"baxis\":{\"gridcolor\":\"#506784\",\"linecolor\":\"#506784\",\"ticks\":\"\"},\"caxis\":{\"gridcolor\":\"#506784\",\"linecolor\":\"#506784\",\"ticks\":\"\"}},\"coloraxis\":{\"colorbar\":{\"outlinewidth\":0,\"ticks\":\"\"}},\"colorscale\":{\"sequential\":[[0.0,\"#0d0887\"],[0.1111111111111111,\"#46039f\"],[0.2222222222222222,\"#7201a8\"],[0.3333333333333333,\"#9c179e\"],[0.4444444444444444,\"#bd3786\"],[0.5555555555555556,\"#d8576b\"],[0.6666666666666666,\"#ed7953\"],[0.7777777777777778,\"#fb9f3a\"],[0.8888888888888888,\"#fdca26\"],[1.0,\"#f0f921\"]],\"sequentialminus\":[[0.0,\"#0d0887\"],[0.1111111111111111,\"#46039f\"],[0.2222222222222222,\"#7201a8\"],[0.3333333333333333,\"#9c179e\"],[0.4444444444444444,\"#bd3786\"],[0.5555555555555556,\"#d8576b\"],[0.6666666666666666,\"#ed7953\"],[0.7777777777777778,\"#fb9f3a\"],[0.8888888888888888,\"#fdca26\"],[1.0,\"#f0f921\"]],\"diverging\":[[0,\"#8e0152\"],[0.1,\"#c51b7d\"],[0.2,\"#de77ae\"],[0.3,\"#f1b6da\"],[0.4,\"#fde0ef\"],[0.5,\"#f7f7f7\"],[0.6,\"#e6f5d0\"],[0.7,\"#b8e186\"],[0.8,\"#7fbc41\"],[0.9,\"#4d9221\"],[1,\"#276419\"]]},\"xaxis\":{\"gridcolor\":\"#283442\",\"linecolor\":\"#506784\",\"ticks\":\"\",\"title\":{\"standoff\":15},\"zerolinecolor\":\"#283442\",\"automargin\":true,\"zerolinewidth\":2},\"yaxis\":{\"gridcolor\":\"#283442\",\"linecolor\":\"#506784\",\"ticks\":\"\",\"title\":{\"standoff\":15},\"zerolinecolor\":\"#283442\",\"automargin\":true,\"zerolinewidth\":2},\"scene\":{\"xaxis\":{\"backgroundcolor\":\"rgb(17,17,17)\",\"gridcolor\":\"#506784\",\"linecolor\":\"#506784\",\"showbackground\":true,\"ticks\":\"\",\"zerolinecolor\":\"#C8D4E3\",\"gridwidth\":2},\"yaxis\":{\"backgroundcolor\":\"rgb(17,17,17)\",\"gridcolor\":\"#506784\",\"linecolor\":\"#506784\",\"showbackground\":true,\"ticks\":\"\",\"zerolinecolor\":\"#C8D4E3\",\"gridwidth\":2},\"zaxis\":{\"backgroundcolor\":\"rgb(17,17,17)\",\"gridcolor\":\"#506784\",\"linecolor\":\"#506784\",\"showbackground\":true,\"ticks\":\"\",\"zerolinecolor\":\"#C8D4E3\",\"gridwidth\":2}},\"shapedefaults\":{\"line\":{\"color\":\"#f2f5fa\"}},\"annotationdefaults\":{\"arrowcolor\":\"#f2f5fa\",\"arrowhead\":0,\"arrowwidth\":1},\"geo\":{\"bgcolor\":\"rgb(17,17,17)\",\"landcolor\":\"rgb(17,17,17)\",\"subunitcolor\":\"#506784\",\"showland\":true,\"showlakes\":true,\"lakecolor\":\"rgb(17,17,17)\"},\"title\":{\"x\":0.05},\"updatemenudefaults\":{\"bgcolor\":\"#506784\",\"borderwidth\":0},\"sliderdefaults\":{\"bgcolor\":\"#C8D4E3\",\"borderwidth\":1,\"bordercolor\":\"rgb(17,17,17)\",\"tickwidth\":0},\"mapbox\":{\"style\":\"dark\"}}},\"xaxis\":{\"anchor\":\"y\",\"domain\":[0.0,1.0],\"title\":{\"text\":\"x\"}},\"yaxis\":{\"anchor\":\"x\",\"domain\":[0.0,1.0],\"title\":{\"text\":\"y\"}},\"legend\":{\"tracegroupgap\":0},\"margin\":{\"t\":60}},                        {\"responsive\": true}                    ).then(function(){\n                            \nvar gd = document.getElementById('a0a9c390-610c-4fd9-848c-1887d0088819');\nvar x = new MutationObserver(function (mutations, observer) {{\n        var display = window.getComputedStyle(gd).display;\n        if (!display || display === 'none') {{\n            console.log([gd, 'removed!']);\n            Plotly.purge(gd);\n            observer.disconnect();\n        }}\n}});\n\n// Listen for the removal of the full notebook cells\nvar notebookContainer = gd.closest('#notebook-container');\nif (notebookContainer) {{\n    x.observe(notebookContainer, {childList: true});\n}}\n\n// Listen for the clearing of the current output cell\nvar outputEl = gd.closest('.output');\nif (outputEl) {{\n    x.observe(outputEl, {childList: true});\n}}\n\n                        })                };                });            </script>        </div>"
     },
     "metadata": {},
     "output_type": "display_data"
    },
    {
     "data": {
      "application/vnd.plotly.v1+json": {
       "data": [
        {
         "hovertemplate": "x=%{x}<br>y=%{y}<extra></extra>",
         "legendgroup": "",
         "line": {
          "color": "#636efa",
          "dash": "solid"
         },
         "marker": {
          "symbol": "circle"
         },
         "mode": "lines",
         "name": "",
         "orientation": "v",
         "showlegend": false,
         "x": [
          1489.670166015625,
          1488.5650634765625,
          1487.459716796875,
          1486.354248046875,
          1485.24853515625,
          1484.142578125,
          1483.0364990234375,
          1481.93017578125,
          1480.8236083984375,
          1479.7169189453125,
          1478.6099853515625,
          1477.5028076171875,
          1476.3955078125,
          1475.2879638671875,
          1474.1802978515625,
          1473.0723876953125,
          1471.9642333984375,
          1470.8558349609375,
          1469.747314453125,
          1468.638671875,
          1467.5296630859375,
          1466.4205322265625,
          1465.311279296875,
          1464.20166015625,
          1463.0919189453125,
          1461.9820556640625,
          1460.8719482421875,
          1459.7615966796875,
          1458.6510009765625,
          1457.540283203125,
          1456.4293212890625,
          1455.3182373046875,
          1454.2069091796875,
          1453.0953369140625,
          1451.983642578125,
          1450.8717041015625,
          1449.759521484375,
          1448.647216796875,
          1447.53466796875,
          1446.421875,
          1445.3089599609375,
          1444.19580078125,
          1443.0823974609375,
          1441.9688720703125,
          1440.8551025390625,
          1439.7410888671875,
          1438.626953125,
          1437.5125732421875,
          1436.3980712890625,
          1435.2833251953125,
          1434.1683349609375,
          1433.0531005859375,
          1431.937744140625,
          1430.8221435546875,
          1429.7064208984375,
          1428.5904541015625,
          1427.4742431640625,
          1426.35791015625,
          1425.2412109375,
          1424.12451171875,
          1423.0074462890625,
          1421.8902587890625,
          1420.7728271484375,
          1419.6552734375,
          1418.5374755859375,
          1417.41943359375,
          1416.30126953125,
          1415.182861328125,
          1414.064208984375,
          1412.9454345703125,
          1411.826416015625,
          1410.7071533203125,
          1409.587646484375,
          1408.468017578125,
          1407.3482666015625,
          1406.2281494140625,
          1405.10791015625,
          1403.9874267578125,
          1402.8668212890625,
          1401.7459716796875,
          1400.6248779296875,
          1399.503662109375,
          1398.3822021484375,
          1397.260498046875,
          1396.1385498046875,
          1395.0164794921875,
          1393.894287109375,
          1392.771728515625,
          1391.6490478515625,
          1390.526123046875,
          1389.403076171875,
          1388.2796630859375,
          1387.15625,
          1386.032470703125,
          1384.9085693359375,
          1383.784423828125,
          1382.6600341796875,
          1381.5355224609375,
          1380.4107666015625,
          1379.2857666015625,
          1378.16064453125,
          1377.0352783203125,
          1375.90966796875,
          1374.783935546875,
          1373.657958984375,
          1372.53173828125,
          1371.4053955078125,
          1370.27880859375,
          1369.1519775390625,
          1368.02490234375,
          1366.897705078125,
          1365.770263671875,
          1364.6427001953125,
          1363.5147705078125,
          1362.38671875,
          1361.258544921875,
          1360.1300048828125,
          1359.0013427734375,
          1357.87255859375,
          1356.743408203125,
          1355.6141357421875,
          1354.484619140625,
          1353.35498046875,
          1352.22509765625,
          1351.094970703125,
          1349.964599609375,
          1348.8341064453125,
          1347.703369140625,
          1346.5723876953125,
          1345.441162109375,
          1344.309814453125,
          1343.17822265625,
          1342.0465087890625,
          1340.91455078125,
          1339.7823486328125,
          1338.64990234375,
          1337.517333984375,
          1336.384521484375,
          1335.25146484375,
          1334.1181640625,
          1332.9847412109375,
          1331.85107421875,
          1330.7171630859375,
          1329.5831298828125,
          1328.4488525390625,
          1327.3143310546875,
          1326.1796875,
          1325.0447998046875,
          1323.90966796875,
          1322.7742919921875,
          1321.6387939453125,
          1320.5029296875,
          1319.3670654296875,
          1318.2308349609375,
          1317.094482421875,
          1315.9578857421875,
          1314.821044921875,
          1313.68408203125,
          1312.546875,
          1311.409423828125,
          1310.271728515625,
          1309.1339111328125,
          1307.995849609375,
          1306.8575439453125,
          1305.718994140625,
          1304.580322265625,
          1303.44140625,
          1302.3023681640625,
          1301.1629638671875,
          1300.0234375,
          1298.8836669921875,
          1297.74365234375,
          1296.603515625,
          1295.463134765625,
          1294.322509765625,
          1293.181640625,
          1292.0406494140625,
          1290.8994140625,
          1289.7579345703125,
          1288.6163330078125,
          1287.474365234375,
          1286.332275390625,
          1285.1900634765625,
          1284.0474853515625,
          1282.90478515625,
          1281.7618408203125,
          1280.61865234375,
          1279.475341796875,
          1278.3316650390625,
          1277.1878662109375,
          1276.0439453125,
          1274.899658203125,
          1273.7552490234375,
          1272.610595703125,
          1271.4656982421875,
          1270.3206787109375,
          1269.17529296875,
          1268.02978515625,
          1266.8841552734375
         ],
         "xaxis": "x",
         "y": [
          -0.00208135229583771,
          -0.0020867787074916296,
          -0.0019067229736207194,
          -0.002163508291174151,
          -0.0020177407392065363,
          -0.0019506181148181618,
          -0.001866130556982603,
          -0.0021718283084989124,
          -0.001895221851357802,
          -0.0019583112726885626,
          -0.0019765481187144,
          -0.0020386467040832286,
          -0.0017756946407282788,
          -0.0020447994212953948,
          -0.00201078052740512,
          -0.0019961439401895774,
          -0.0019531934019241933,
          -0.0019640881465559554,
          -0.002023298952348421,
          -0.002075128707333653,
          -0.0020327023634773176,
          -0.0019994399164090003,
          -0.0020482000621005773,
          -0.00204609704968913,
          -0.0018171894970171961,
          -0.0018645047035703705,
          -0.0020939102935859074,
          -0.002178736712499286,
          -0.0020453158623702445,
          -0.002030520193670385,
          -0.0019159724095427588,
          -0.0020154924749113683,
          -0.0019995807130526446,
          -0.001959109847362884,
          -0.0020524190433771064,
          -0.0019091463611516644,
          -0.0019663504792127935,
          -0.0018432641331839056,
          -0.001979229904232994,
          -0.001979349456118746,
          -0.0020797873921585505,
          -0.001963989196008696,
          -0.00205923355494195,
          -0.001949822411198693,
          -0.0019681101043766873,
          -0.001962981898749476,
          -0.002044328698070657,
          -0.002190464115517803,
          -0.0018603311557180593,
          -0.002026142290889634,
          -0.0020853994800714088,
          -0.0021622478567786944,
          -0.002180950016732065,
          -0.002166648792947409,
          -0.0020372048761975693,
          -0.0022469780241891934,
          -0.0022402820161296043,
          -0.0020863743557994656,
          -0.002144635305719473,
          -0.002209921820549963,
          -0.00230120076833481,
          -0.002343699912091351,
          -0.0023642065508816244,
          -0.002363594758594442,
          -0.002457294642393861,
          -0.0024675806330723415,
          -0.0026987334404237635,
          -0.0025095643931207223,
          -0.0026305871352201955,
          -0.002880697728393667,
          -0.0028255168041415677,
          -0.0030262027080760544,
          -0.003099863382427352,
          -0.0035249464336761663,
          -0.003994173794472601,
          -0.004305903800760249,
          -0.0053916832554434775,
          -0.006381346667381586,
          -0.007715568326510994,
          -0.009482880052902157,
          -0.01192211498338622,
          -0.014904023150890686,
          -0.019532361520373503,
          -0.021835676744391852,
          -0.017047589955839326,
          0.0014227354924052594,
          0.01890713950908281,
          1.952594865229681E-4,
          -0.02388291703440066,
          -0.006936519058894936,
          0.013409335175227657,
          0.0175536132769467,
          0.012872779499051194,
          0.008271965999993653,
          0.004207591333596272,
          0.0018260100422096163,
          2.670790923589036E-4,
          -5.943106585374484E-4,
          -0.0011954177006132814,
          -0.0017141830738533921,
          -0.0020268869396495325,
          -0.002236443000516272,
          -0.002514577013944689,
          -0.002542914723540134,
          -0.002663790144974971,
          -0.002759559648358103,
          -0.0027116079628190662,
          -0.0028651903777480708,
          -0.002576120166471725,
          -0.0029248893464010085,
          -0.0030587129154070057,
          -0.002750403503273227,
          -0.0026868038965509517,
          -0.00273420056182596,
          -0.002639823198848588,
          -0.0026715083532945047,
          -0.002616355936498696,
          -0.0026687754830307226,
          -0.002347576694185399,
          -0.0024814178091136364,
          -0.002396478675058723,
          -0.002360041508213506,
          -0.0021788605520949513,
          -0.0020822008302904325,
          -0.0019449115512569404,
          -0.001661389238849518,
          -0.0017776578893988085,
          -0.001721045780043045,
          -0.0018126050806033646,
          -0.0020178240704491384,
          -0.001992822241915055,
          -0.0022190409224666923,
          -0.0023854694325884675,
          -0.0024106642342717325,
          -0.0024702885912162584,
          -0.0027492358463183783,
          -0.0030110517465291708,
          -0.0028768055294473597,
          -0.0031074328276193214,
          -0.003002983065490608,
          -0.0032871512073794533,
          -0.0032907322273795967,
          -0.003391980871102938,
          -0.0034009609537765956,
          -0.0035908772984845714,
          -0.003582387112782219,
          -0.003414051250493997,
          -0.0035668090859687653,
          -0.003601874318308738,
          -0.0036255826343358,
          -0.0035192830273370838,
          -0.0035579707620916052,
          -0.003528690842903359,
          -0.0035543527877247897,
          -0.0033346752957556917,
          -0.003642215070536445,
          -0.003446788787701745,
          -0.003284240476281116,
          -0.0032466763656873406,
          -0.002908165369420768,
          -0.003249449048938365,
          -0.002945349330683063,
          -0.0028165466605237486,
          -0.0028553198421477576,
          -0.0026125295850946226,
          -0.002540754128147241,
          -0.002681121053649526,
          -0.0025464929029424634,
          -0.002399876564761594,
          -0.0022852879672482103,
          -0.0022327107913894177,
          -0.0023226608957532015,
          -0.0020667015966350654,
          -0.0020757239837154518,
          -0.0020841713004134906,
          -0.0019674708038102105,
          -0.0022777454761571587,
          -0.0019814302103851192,
          -0.0019641124060353894,
          -0.0018060309387507543,
          -0.0018998583251892383,
          -0.0018609680623451644,
          -0.0020065755079426845,
          -0.0018862385316238343,
          -0.001802434755283852,
          -0.0016216197177702913,
          -0.0018754459517823228,
          -0.001570506414441038,
          -0.001634767149907156,
          -0.0018153055290809753,
          -0.0014973461782419656,
          -0.0016269415539608176,
          -0.0015420532470654554,
          -0.0014698919819518673,
          -0.001375764984360596,
          -0.0014250305243668502,
          -0.001441029024336545,
          -0.0013997506528299153,
          -0.001414067342282353
         ],
         "yaxis": "y",
         "type": "scatter"
        }
       ],
       "layout": {
        "template": {
         "data": {
          "histogram2dcontour": [
           {
            "type": "histogram2dcontour",
            "colorbar": {
             "outlinewidth": 0,
             "ticks": ""
            },
            "colorscale": [
             [
              0.0,
              "#0d0887"
             ],
             [
              0.1111111111111111,
              "#46039f"
             ],
             [
              0.2222222222222222,
              "#7201a8"
             ],
             [
              0.3333333333333333,
              "#9c179e"
             ],
             [
              0.4444444444444444,
              "#bd3786"
             ],
             [
              0.5555555555555556,
              "#d8576b"
             ],
             [
              0.6666666666666666,
              "#ed7953"
             ],
             [
              0.7777777777777778,
              "#fb9f3a"
             ],
             [
              0.8888888888888888,
              "#fdca26"
             ],
             [
              1.0,
              "#f0f921"
             ]
            ]
           }
          ],
          "choropleth": [
           {
            "type": "choropleth",
            "colorbar": {
             "outlinewidth": 0,
             "ticks": ""
            }
           }
          ],
          "histogram2d": [
           {
            "type": "histogram2d",
            "colorbar": {
             "outlinewidth": 0,
             "ticks": ""
            },
            "colorscale": [
             [
              0.0,
              "#0d0887"
             ],
             [
              0.1111111111111111,
              "#46039f"
             ],
             [
              0.2222222222222222,
              "#7201a8"
             ],
             [
              0.3333333333333333,
              "#9c179e"
             ],
             [
              0.4444444444444444,
              "#bd3786"
             ],
             [
              0.5555555555555556,
              "#d8576b"
             ],
             [
              0.6666666666666666,
              "#ed7953"
             ],
             [
              0.7777777777777778,
              "#fb9f3a"
             ],
             [
              0.8888888888888888,
              "#fdca26"
             ],
             [
              1.0,
              "#f0f921"
             ]
            ]
           }
          ],
          "heatmap": [
           {
            "type": "heatmap",
            "colorbar": {
             "outlinewidth": 0,
             "ticks": ""
            },
            "colorscale": [
             [
              0.0,
              "#0d0887"
             ],
             [
              0.1111111111111111,
              "#46039f"
             ],
             [
              0.2222222222222222,
              "#7201a8"
             ],
             [
              0.3333333333333333,
              "#9c179e"
             ],
             [
              0.4444444444444444,
              "#bd3786"
             ],
             [
              0.5555555555555556,
              "#d8576b"
             ],
             [
              0.6666666666666666,
              "#ed7953"
             ],
             [
              0.7777777777777778,
              "#fb9f3a"
             ],
             [
              0.8888888888888888,
              "#fdca26"
             ],
             [
              1.0,
              "#f0f921"
             ]
            ]
           }
          ],
          "heatmapgl": [
           {
            "type": "heatmapgl",
            "colorbar": {
             "outlinewidth": 0,
             "ticks": ""
            },
            "colorscale": [
             [
              0.0,
              "#0d0887"
             ],
             [
              0.1111111111111111,
              "#46039f"
             ],
             [
              0.2222222222222222,
              "#7201a8"
             ],
             [
              0.3333333333333333,
              "#9c179e"
             ],
             [
              0.4444444444444444,
              "#bd3786"
             ],
             [
              0.5555555555555556,
              "#d8576b"
             ],
             [
              0.6666666666666666,
              "#ed7953"
             ],
             [
              0.7777777777777778,
              "#fb9f3a"
             ],
             [
              0.8888888888888888,
              "#fdca26"
             ],
             [
              1.0,
              "#f0f921"
             ]
            ]
           }
          ],
          "contourcarpet": [
           {
            "type": "contourcarpet",
            "colorbar": {
             "outlinewidth": 0,
             "ticks": ""
            }
           }
          ],
          "contour": [
           {
            "type": "contour",
            "colorbar": {
             "outlinewidth": 0,
             "ticks": ""
            },
            "colorscale": [
             [
              0.0,
              "#0d0887"
             ],
             [
              0.1111111111111111,
              "#46039f"
             ],
             [
              0.2222222222222222,
              "#7201a8"
             ],
             [
              0.3333333333333333,
              "#9c179e"
             ],
             [
              0.4444444444444444,
              "#bd3786"
             ],
             [
              0.5555555555555556,
              "#d8576b"
             ],
             [
              0.6666666666666666,
              "#ed7953"
             ],
             [
              0.7777777777777778,
              "#fb9f3a"
             ],
             [
              0.8888888888888888,
              "#fdca26"
             ],
             [
              1.0,
              "#f0f921"
             ]
            ]
           }
          ],
          "surface": [
           {
            "type": "surface",
            "colorbar": {
             "outlinewidth": 0,
             "ticks": ""
            },
            "colorscale": [
             [
              0.0,
              "#0d0887"
             ],
             [
              0.1111111111111111,
              "#46039f"
             ],
             [
              0.2222222222222222,
              "#7201a8"
             ],
             [
              0.3333333333333333,
              "#9c179e"
             ],
             [
              0.4444444444444444,
              "#bd3786"
             ],
             [
              0.5555555555555556,
              "#d8576b"
             ],
             [
              0.6666666666666666,
              "#ed7953"
             ],
             [
              0.7777777777777778,
              "#fb9f3a"
             ],
             [
              0.8888888888888888,
              "#fdca26"
             ],
             [
              1.0,
              "#f0f921"
             ]
            ]
           }
          ],
          "mesh3d": [
           {
            "type": "mesh3d",
            "colorbar": {
             "outlinewidth": 0,
             "ticks": ""
            }
           }
          ],
          "scatter": [
           {
            "marker": {
             "line": {
              "color": "#283442"
             }
            },
            "type": "scatter"
           }
          ],
          "parcoords": [
           {
            "type": "parcoords",
            "line": {
             "colorbar": {
              "outlinewidth": 0,
              "ticks": ""
             }
            }
           }
          ],
          "scatterpolargl": [
           {
            "type": "scatterpolargl",
            "marker": {
             "colorbar": {
              "outlinewidth": 0,
              "ticks": ""
             }
            }
           }
          ],
          "bar": [
           {
            "error_x": {
             "color": "#f2f5fa"
            },
            "error_y": {
             "color": "#f2f5fa"
            },
            "marker": {
             "line": {
              "color": "rgb(17,17,17)",
              "width": 0.5
             },
             "pattern": {
              "fillmode": "overlay",
              "size": 10,
              "solidity": 0.2
             }
            },
            "type": "bar"
           }
          ],
          "scattergeo": [
           {
            "type": "scattergeo",
            "marker": {
             "colorbar": {
              "outlinewidth": 0,
              "ticks": ""
             }
            }
           }
          ],
          "scatterpolar": [
           {
            "type": "scatterpolar",
            "marker": {
             "colorbar": {
              "outlinewidth": 0,
              "ticks": ""
             }
            }
           }
          ],
          "histogram": [
           {
            "marker": {
             "pattern": {
              "fillmode": "overlay",
              "size": 10,
              "solidity": 0.2
             }
            },
            "type": "histogram"
           }
          ],
          "scattergl": [
           {
            "marker": {
             "line": {
              "color": "#283442"
             }
            },
            "type": "scattergl"
           }
          ],
          "scatter3d": [
           {
            "type": "scatter3d",
            "line": {
             "colorbar": {
              "outlinewidth": 0,
              "ticks": ""
             }
            },
            "marker": {
             "colorbar": {
              "outlinewidth": 0,
              "ticks": ""
             }
            }
           }
          ],
          "scattermapbox": [
           {
            "type": "scattermapbox",
            "marker": {
             "colorbar": {
              "outlinewidth": 0,
              "ticks": ""
             }
            }
           }
          ],
          "scatterternary": [
           {
            "type": "scatterternary",
            "marker": {
             "colorbar": {
              "outlinewidth": 0,
              "ticks": ""
             }
            }
           }
          ],
          "scattercarpet": [
           {
            "type": "scattercarpet",
            "marker": {
             "colorbar": {
              "outlinewidth": 0,
              "ticks": ""
             }
            }
           }
          ],
          "carpet": [
           {
            "aaxis": {
             "endlinecolor": "#A2B1C6",
             "gridcolor": "#506784",
             "linecolor": "#506784",
             "minorgridcolor": "#506784",
             "startlinecolor": "#A2B1C6"
            },
            "baxis": {
             "endlinecolor": "#A2B1C6",
             "gridcolor": "#506784",
             "linecolor": "#506784",
             "minorgridcolor": "#506784",
             "startlinecolor": "#A2B1C6"
            },
            "type": "carpet"
           }
          ],
          "table": [
           {
            "cells": {
             "fill": {
              "color": "#506784"
             },
             "line": {
              "color": "rgb(17,17,17)"
             }
            },
            "header": {
             "fill": {
              "color": "#2a3f5f"
             },
             "line": {
              "color": "rgb(17,17,17)"
             }
            },
            "type": "table"
           }
          ],
          "barpolar": [
           {
            "marker": {
             "line": {
              "color": "rgb(17,17,17)",
              "width": 0.5
             },
             "pattern": {
              "fillmode": "overlay",
              "size": 10,
              "solidity": 0.2
             }
            },
            "type": "barpolar"
           }
          ],
          "pie": [
           {
            "automargin": true,
            "type": "pie"
           }
          ]
         },
         "layout": {
          "autotypenumbers": "strict",
          "colorway": [
           "#636efa",
           "#EF553B",
           "#00cc96",
           "#ab63fa",
           "#FFA15A",
           "#19d3f3",
           "#FF6692",
           "#B6E880",
           "#FF97FF",
           "#FECB52"
          ],
          "font": {
           "color": "#f2f5fa"
          },
          "hovermode": "closest",
          "hoverlabel": {
           "align": "left"
          },
          "paper_bgcolor": "rgb(17,17,17)",
          "plot_bgcolor": "rgb(17,17,17)",
          "polar": {
           "bgcolor": "rgb(17,17,17)",
           "angularaxis": {
            "gridcolor": "#506784",
            "linecolor": "#506784",
            "ticks": ""
           },
           "radialaxis": {
            "gridcolor": "#506784",
            "linecolor": "#506784",
            "ticks": ""
           }
          },
          "ternary": {
           "bgcolor": "rgb(17,17,17)",
           "aaxis": {
            "gridcolor": "#506784",
            "linecolor": "#506784",
            "ticks": ""
           },
           "baxis": {
            "gridcolor": "#506784",
            "linecolor": "#506784",
            "ticks": ""
           },
           "caxis": {
            "gridcolor": "#506784",
            "linecolor": "#506784",
            "ticks": ""
           }
          },
          "coloraxis": {
           "colorbar": {
            "outlinewidth": 0,
            "ticks": ""
           }
          },
          "colorscale": {
           "sequential": [
            [
             0.0,
             "#0d0887"
            ],
            [
             0.1111111111111111,
             "#46039f"
            ],
            [
             0.2222222222222222,
             "#7201a8"
            ],
            [
             0.3333333333333333,
             "#9c179e"
            ],
            [
             0.4444444444444444,
             "#bd3786"
            ],
            [
             0.5555555555555556,
             "#d8576b"
            ],
            [
             0.6666666666666666,
             "#ed7953"
            ],
            [
             0.7777777777777778,
             "#fb9f3a"
            ],
            [
             0.8888888888888888,
             "#fdca26"
            ],
            [
             1.0,
             "#f0f921"
            ]
           ],
           "sequentialminus": [
            [
             0.0,
             "#0d0887"
            ],
            [
             0.1111111111111111,
             "#46039f"
            ],
            [
             0.2222222222222222,
             "#7201a8"
            ],
            [
             0.3333333333333333,
             "#9c179e"
            ],
            [
             0.4444444444444444,
             "#bd3786"
            ],
            [
             0.5555555555555556,
             "#d8576b"
            ],
            [
             0.6666666666666666,
             "#ed7953"
            ],
            [
             0.7777777777777778,
             "#fb9f3a"
            ],
            [
             0.8888888888888888,
             "#fdca26"
            ],
            [
             1.0,
             "#f0f921"
            ]
           ],
           "diverging": [
            [
             0,
             "#8e0152"
            ],
            [
             0.1,
             "#c51b7d"
            ],
            [
             0.2,
             "#de77ae"
            ],
            [
             0.3,
             "#f1b6da"
            ],
            [
             0.4,
             "#fde0ef"
            ],
            [
             0.5,
             "#f7f7f7"
            ],
            [
             0.6,
             "#e6f5d0"
            ],
            [
             0.7,
             "#b8e186"
            ],
            [
             0.8,
             "#7fbc41"
            ],
            [
             0.9,
             "#4d9221"
            ],
            [
             1,
             "#276419"
            ]
           ]
          },
          "xaxis": {
           "gridcolor": "#283442",
           "linecolor": "#506784",
           "ticks": "",
           "title": {
            "standoff": 15
           },
           "zerolinecolor": "#283442",
           "automargin": true,
           "zerolinewidth": 2
          },
          "yaxis": {
           "gridcolor": "#283442",
           "linecolor": "#506784",
           "ticks": "",
           "title": {
            "standoff": 15
           },
           "zerolinecolor": "#283442",
           "automargin": true,
           "zerolinewidth": 2
          },
          "scene": {
           "xaxis": {
            "backgroundcolor": "rgb(17,17,17)",
            "gridcolor": "#506784",
            "linecolor": "#506784",
            "showbackground": true,
            "ticks": "",
            "zerolinecolor": "#C8D4E3",
            "gridwidth": 2
           },
           "yaxis": {
            "backgroundcolor": "rgb(17,17,17)",
            "gridcolor": "#506784",
            "linecolor": "#506784",
            "showbackground": true,
            "ticks": "",
            "zerolinecolor": "#C8D4E3",
            "gridwidth": 2
           },
           "zaxis": {
            "backgroundcolor": "rgb(17,17,17)",
            "gridcolor": "#506784",
            "linecolor": "#506784",
            "showbackground": true,
            "ticks": "",
            "zerolinecolor": "#C8D4E3",
            "gridwidth": 2
           }
          },
          "shapedefaults": {
           "line": {
            "color": "#f2f5fa"
           }
          },
          "annotationdefaults": {
           "arrowcolor": "#f2f5fa",
           "arrowhead": 0,
           "arrowwidth": 1
          },
          "geo": {
           "bgcolor": "rgb(17,17,17)",
           "landcolor": "rgb(17,17,17)",
           "subunitcolor": "#506784",
           "showland": true,
           "showlakes": true,
           "lakecolor": "rgb(17,17,17)"
          },
          "title": {
           "x": 0.05
          },
          "updatemenudefaults": {
           "bgcolor": "#506784",
           "borderwidth": 0
          },
          "sliderdefaults": {
           "bgcolor": "#C8D4E3",
           "borderwidth": 1,
           "bordercolor": "rgb(17,17,17)",
           "tickwidth": 0
          },
          "mapbox": {
           "style": "dark"
          }
         }
        },
        "xaxis": {
         "anchor": "y",
         "domain": [
          0.0,
          1.0
         ],
         "title": {
          "text": "x"
         }
        },
        "yaxis": {
         "anchor": "x",
         "domain": [
          0.0,
          1.0
         ],
         "title": {
          "text": "y"
         }
        },
        "legend": {
         "tracegroupgap": 0
        },
        "margin": {
         "t": 60
        }
       },
       "config": {
        "plotlyServerURL": "https://plot.ly"
       }
      },
      "text/html": "<div>                            <div id=\"f1c1f392-339b-4628-a651-5d63f76fa344\" class=\"plotly-graph-div\" style=\"height:525px; width:100%;\"></div>            <script type=\"text/javascript\">                require([\"plotly\"], function(Plotly) {                    window.PLOTLYENV=window.PLOTLYENV || {};                                    if (document.getElementById(\"f1c1f392-339b-4628-a651-5d63f76fa344\")) {                    Plotly.newPlot(                        \"f1c1f392-339b-4628-a651-5d63f76fa344\",                        [{\"hovertemplate\":\"x=%{x}\\u003cbr\\u003ey=%{y}\\u003cextra\\u003e\\u003c\\u002fextra\\u003e\",\"legendgroup\":\"\",\"line\":{\"color\":\"#636efa\",\"dash\":\"solid\"},\"marker\":{\"symbol\":\"circle\"},\"mode\":\"lines\",\"name\":\"\",\"orientation\":\"v\",\"showlegend\":false,\"x\":[1489.670166015625,1488.5650634765625,1487.459716796875,1486.354248046875,1485.24853515625,1484.142578125,1483.0364990234375,1481.93017578125,1480.8236083984375,1479.7169189453125,1478.6099853515625,1477.5028076171875,1476.3955078125,1475.2879638671875,1474.1802978515625,1473.0723876953125,1471.9642333984375,1470.8558349609375,1469.747314453125,1468.638671875,1467.5296630859375,1466.4205322265625,1465.311279296875,1464.20166015625,1463.0919189453125,1461.9820556640625,1460.8719482421875,1459.7615966796875,1458.6510009765625,1457.540283203125,1456.4293212890625,1455.3182373046875,1454.2069091796875,1453.0953369140625,1451.983642578125,1450.8717041015625,1449.759521484375,1448.647216796875,1447.53466796875,1446.421875,1445.3089599609375,1444.19580078125,1443.0823974609375,1441.9688720703125,1440.8551025390625,1439.7410888671875,1438.626953125,1437.5125732421875,1436.3980712890625,1435.2833251953125,1434.1683349609375,1433.0531005859375,1431.937744140625,1430.8221435546875,1429.7064208984375,1428.5904541015625,1427.4742431640625,1426.35791015625,1425.2412109375,1424.12451171875,1423.0074462890625,1421.8902587890625,1420.7728271484375,1419.6552734375,1418.5374755859375,1417.41943359375,1416.30126953125,1415.182861328125,1414.064208984375,1412.9454345703125,1411.826416015625,1410.7071533203125,1409.587646484375,1408.468017578125,1407.3482666015625,1406.2281494140625,1405.10791015625,1403.9874267578125,1402.8668212890625,1401.7459716796875,1400.6248779296875,1399.503662109375,1398.3822021484375,1397.260498046875,1396.1385498046875,1395.0164794921875,1393.894287109375,1392.771728515625,1391.6490478515625,1390.526123046875,1389.403076171875,1388.2796630859375,1387.15625,1386.032470703125,1384.9085693359375,1383.784423828125,1382.6600341796875,1381.5355224609375,1380.4107666015625,1379.2857666015625,1378.16064453125,1377.0352783203125,1375.90966796875,1374.783935546875,1373.657958984375,1372.53173828125,1371.4053955078125,1370.27880859375,1369.1519775390625,1368.02490234375,1366.897705078125,1365.770263671875,1364.6427001953125,1363.5147705078125,1362.38671875,1361.258544921875,1360.1300048828125,1359.0013427734375,1357.87255859375,1356.743408203125,1355.6141357421875,1354.484619140625,1353.35498046875,1352.22509765625,1351.094970703125,1349.964599609375,1348.8341064453125,1347.703369140625,1346.5723876953125,1345.441162109375,1344.309814453125,1343.17822265625,1342.0465087890625,1340.91455078125,1339.7823486328125,1338.64990234375,1337.517333984375,1336.384521484375,1335.25146484375,1334.1181640625,1332.9847412109375,1331.85107421875,1330.7171630859375,1329.5831298828125,1328.4488525390625,1327.3143310546875,1326.1796875,1325.0447998046875,1323.90966796875,1322.7742919921875,1321.6387939453125,1320.5029296875,1319.3670654296875,1318.2308349609375,1317.094482421875,1315.9578857421875,1314.821044921875,1313.68408203125,1312.546875,1311.409423828125,1310.271728515625,1309.1339111328125,1307.995849609375,1306.8575439453125,1305.718994140625,1304.580322265625,1303.44140625,1302.3023681640625,1301.1629638671875,1300.0234375,1298.8836669921875,1297.74365234375,1296.603515625,1295.463134765625,1294.322509765625,1293.181640625,1292.0406494140625,1290.8994140625,1289.7579345703125,1288.6163330078125,1287.474365234375,1286.332275390625,1285.1900634765625,1284.0474853515625,1282.90478515625,1281.7618408203125,1280.61865234375,1279.475341796875,1278.3316650390625,1277.1878662109375,1276.0439453125,1274.899658203125,1273.7552490234375,1272.610595703125,1271.4656982421875,1270.3206787109375,1269.17529296875,1268.02978515625,1266.8841552734375],\"xaxis\":\"x\",\"y\":[-0.00208135229583771,-0.0020867787074916296,-0.0019067229736207194,-0.002163508291174151,-0.0020177407392065363,-0.0019506181148181618,-0.001866130556982603,-0.0021718283084989124,-0.001895221851357802,-0.0019583112726885626,-0.0019765481187144,-0.0020386467040832286,-0.0017756946407282788,-0.0020447994212953948,-0.00201078052740512,-0.0019961439401895774,-0.0019531934019241933,-0.0019640881465559554,-0.002023298952348421,-0.002075128707333653,-0.0020327023634773176,-0.0019994399164090003,-0.0020482000621005773,-0.00204609704968913,-0.0018171894970171961,-0.0018645047035703705,-0.0020939102935859074,-0.002178736712499286,-0.0020453158623702445,-0.002030520193670385,-0.0019159724095427588,-0.0020154924749113683,-0.0019995807130526446,-0.001959109847362884,-0.0020524190433771064,-0.0019091463611516644,-0.0019663504792127935,-0.0018432641331839056,-0.001979229904232994,-0.001979349456118746,-0.0020797873921585505,-0.001963989196008696,-0.00205923355494195,-0.001949822411198693,-0.0019681101043766873,-0.001962981898749476,-0.002044328698070657,-0.002190464115517803,-0.0018603311557180593,-0.002026142290889634,-0.0020853994800714088,-0.0021622478567786944,-0.002180950016732065,-0.002166648792947409,-0.0020372048761975693,-0.0022469780241891934,-0.0022402820161296043,-0.0020863743557994656,-0.002144635305719473,-0.002209921820549963,-0.00230120076833481,-0.002343699912091351,-0.0023642065508816244,-0.002363594758594442,-0.002457294642393861,-0.0024675806330723415,-0.0026987334404237635,-0.0025095643931207223,-0.0026305871352201955,-0.002880697728393667,-0.0028255168041415677,-0.0030262027080760544,-0.003099863382427352,-0.0035249464336761663,-0.003994173794472601,-0.004305903800760249,-0.0053916832554434775,-0.006381346667381586,-0.007715568326510994,-0.009482880052902157,-0.01192211498338622,-0.014904023150890686,-0.019532361520373503,-0.021835676744391852,-0.017047589955839326,0.0014227354924052594,0.01890713950908281,0.0001952594865229681,-0.02388291703440066,-0.006936519058894936,0.013409335175227657,0.0175536132769467,0.012872779499051194,0.008271965999993653,0.004207591333596272,0.0018260100422096163,0.0002670790923589036,-0.0005943106585374484,-0.0011954177006132814,-0.0017141830738533921,-0.0020268869396495325,-0.002236443000516272,-0.002514577013944689,-0.002542914723540134,-0.002663790144974971,-0.002759559648358103,-0.0027116079628190662,-0.0028651903777480708,-0.002576120166471725,-0.0029248893464010085,-0.0030587129154070057,-0.002750403503273227,-0.0026868038965509517,-0.00273420056182596,-0.002639823198848588,-0.0026715083532945047,-0.002616355936498696,-0.0026687754830307226,-0.002347576694185399,-0.0024814178091136364,-0.002396478675058723,-0.002360041508213506,-0.0021788605520949513,-0.0020822008302904325,-0.0019449115512569404,-0.001661389238849518,-0.0017776578893988085,-0.001721045780043045,-0.0018126050806033646,-0.0020178240704491384,-0.001992822241915055,-0.0022190409224666923,-0.0023854694325884675,-0.0024106642342717325,-0.0024702885912162584,-0.0027492358463183783,-0.0030110517465291708,-0.0028768055294473597,-0.0031074328276193214,-0.003002983065490608,-0.0032871512073794533,-0.0032907322273795967,-0.003391980871102938,-0.0034009609537765956,-0.0035908772984845714,-0.003582387112782219,-0.003414051250493997,-0.0035668090859687653,-0.003601874318308738,-0.0036255826343358,-0.0035192830273370838,-0.0035579707620916052,-0.003528690842903359,-0.0035543527877247897,-0.0033346752957556917,-0.003642215070536445,-0.003446788787701745,-0.003284240476281116,-0.0032466763656873406,-0.002908165369420768,-0.003249449048938365,-0.002945349330683063,-0.0028165466605237486,-0.0028553198421477576,-0.0026125295850946226,-0.002540754128147241,-0.002681121053649526,-0.0025464929029424634,-0.002399876564761594,-0.0022852879672482103,-0.0022327107913894177,-0.0023226608957532015,-0.0020667015966350654,-0.0020757239837154518,-0.0020841713004134906,-0.0019674708038102105,-0.0022777454761571587,-0.0019814302103851192,-0.0019641124060353894,-0.0018060309387507543,-0.0018998583251892383,-0.0018609680623451644,-0.0020065755079426845,-0.0018862385316238343,-0.001802434755283852,-0.0016216197177702913,-0.0018754459517823228,-0.001570506414441038,-0.001634767149907156,-0.0018153055290809753,-0.0014973461782419656,-0.0016269415539608176,-0.0015420532470654554,-0.0014698919819518673,-0.001375764984360596,-0.0014250305243668502,-0.001441029024336545,-0.0013997506528299153,-0.001414067342282353],\"yaxis\":\"y\",\"type\":\"scatter\"}],                        {\"template\":{\"data\":{\"histogram2dcontour\":[{\"type\":\"histogram2dcontour\",\"colorbar\":{\"outlinewidth\":0,\"ticks\":\"\"},\"colorscale\":[[0.0,\"#0d0887\"],[0.1111111111111111,\"#46039f\"],[0.2222222222222222,\"#7201a8\"],[0.3333333333333333,\"#9c179e\"],[0.4444444444444444,\"#bd3786\"],[0.5555555555555556,\"#d8576b\"],[0.6666666666666666,\"#ed7953\"],[0.7777777777777778,\"#fb9f3a\"],[0.8888888888888888,\"#fdca26\"],[1.0,\"#f0f921\"]]}],\"choropleth\":[{\"type\":\"choropleth\",\"colorbar\":{\"outlinewidth\":0,\"ticks\":\"\"}}],\"histogram2d\":[{\"type\":\"histogram2d\",\"colorbar\":{\"outlinewidth\":0,\"ticks\":\"\"},\"colorscale\":[[0.0,\"#0d0887\"],[0.1111111111111111,\"#46039f\"],[0.2222222222222222,\"#7201a8\"],[0.3333333333333333,\"#9c179e\"],[0.4444444444444444,\"#bd3786\"],[0.5555555555555556,\"#d8576b\"],[0.6666666666666666,\"#ed7953\"],[0.7777777777777778,\"#fb9f3a\"],[0.8888888888888888,\"#fdca26\"],[1.0,\"#f0f921\"]]}],\"heatmap\":[{\"type\":\"heatmap\",\"colorbar\":{\"outlinewidth\":0,\"ticks\":\"\"},\"colorscale\":[[0.0,\"#0d0887\"],[0.1111111111111111,\"#46039f\"],[0.2222222222222222,\"#7201a8\"],[0.3333333333333333,\"#9c179e\"],[0.4444444444444444,\"#bd3786\"],[0.5555555555555556,\"#d8576b\"],[0.6666666666666666,\"#ed7953\"],[0.7777777777777778,\"#fb9f3a\"],[0.8888888888888888,\"#fdca26\"],[1.0,\"#f0f921\"]]}],\"heatmapgl\":[{\"type\":\"heatmapgl\",\"colorbar\":{\"outlinewidth\":0,\"ticks\":\"\"},\"colorscale\":[[0.0,\"#0d0887\"],[0.1111111111111111,\"#46039f\"],[0.2222222222222222,\"#7201a8\"],[0.3333333333333333,\"#9c179e\"],[0.4444444444444444,\"#bd3786\"],[0.5555555555555556,\"#d8576b\"],[0.6666666666666666,\"#ed7953\"],[0.7777777777777778,\"#fb9f3a\"],[0.8888888888888888,\"#fdca26\"],[1.0,\"#f0f921\"]]}],\"contourcarpet\":[{\"type\":\"contourcarpet\",\"colorbar\":{\"outlinewidth\":0,\"ticks\":\"\"}}],\"contour\":[{\"type\":\"contour\",\"colorbar\":{\"outlinewidth\":0,\"ticks\":\"\"},\"colorscale\":[[0.0,\"#0d0887\"],[0.1111111111111111,\"#46039f\"],[0.2222222222222222,\"#7201a8\"],[0.3333333333333333,\"#9c179e\"],[0.4444444444444444,\"#bd3786\"],[0.5555555555555556,\"#d8576b\"],[0.6666666666666666,\"#ed7953\"],[0.7777777777777778,\"#fb9f3a\"],[0.8888888888888888,\"#fdca26\"],[1.0,\"#f0f921\"]]}],\"surface\":[{\"type\":\"surface\",\"colorbar\":{\"outlinewidth\":0,\"ticks\":\"\"},\"colorscale\":[[0.0,\"#0d0887\"],[0.1111111111111111,\"#46039f\"],[0.2222222222222222,\"#7201a8\"],[0.3333333333333333,\"#9c179e\"],[0.4444444444444444,\"#bd3786\"],[0.5555555555555556,\"#d8576b\"],[0.6666666666666666,\"#ed7953\"],[0.7777777777777778,\"#fb9f3a\"],[0.8888888888888888,\"#fdca26\"],[1.0,\"#f0f921\"]]}],\"mesh3d\":[{\"type\":\"mesh3d\",\"colorbar\":{\"outlinewidth\":0,\"ticks\":\"\"}}],\"scatter\":[{\"marker\":{\"line\":{\"color\":\"#283442\"}},\"type\":\"scatter\"}],\"parcoords\":[{\"type\":\"parcoords\",\"line\":{\"colorbar\":{\"outlinewidth\":0,\"ticks\":\"\"}}}],\"scatterpolargl\":[{\"type\":\"scatterpolargl\",\"marker\":{\"colorbar\":{\"outlinewidth\":0,\"ticks\":\"\"}}}],\"bar\":[{\"error_x\":{\"color\":\"#f2f5fa\"},\"error_y\":{\"color\":\"#f2f5fa\"},\"marker\":{\"line\":{\"color\":\"rgb(17,17,17)\",\"width\":0.5},\"pattern\":{\"fillmode\":\"overlay\",\"size\":10,\"solidity\":0.2}},\"type\":\"bar\"}],\"scattergeo\":[{\"type\":\"scattergeo\",\"marker\":{\"colorbar\":{\"outlinewidth\":0,\"ticks\":\"\"}}}],\"scatterpolar\":[{\"type\":\"scatterpolar\",\"marker\":{\"colorbar\":{\"outlinewidth\":0,\"ticks\":\"\"}}}],\"histogram\":[{\"marker\":{\"pattern\":{\"fillmode\":\"overlay\",\"size\":10,\"solidity\":0.2}},\"type\":\"histogram\"}],\"scattergl\":[{\"marker\":{\"line\":{\"color\":\"#283442\"}},\"type\":\"scattergl\"}],\"scatter3d\":[{\"type\":\"scatter3d\",\"line\":{\"colorbar\":{\"outlinewidth\":0,\"ticks\":\"\"}},\"marker\":{\"colorbar\":{\"outlinewidth\":0,\"ticks\":\"\"}}}],\"scattermapbox\":[{\"type\":\"scattermapbox\",\"marker\":{\"colorbar\":{\"outlinewidth\":0,\"ticks\":\"\"}}}],\"scatterternary\":[{\"type\":\"scatterternary\",\"marker\":{\"colorbar\":{\"outlinewidth\":0,\"ticks\":\"\"}}}],\"scattercarpet\":[{\"type\":\"scattercarpet\",\"marker\":{\"colorbar\":{\"outlinewidth\":0,\"ticks\":\"\"}}}],\"carpet\":[{\"aaxis\":{\"endlinecolor\":\"#A2B1C6\",\"gridcolor\":\"#506784\",\"linecolor\":\"#506784\",\"minorgridcolor\":\"#506784\",\"startlinecolor\":\"#A2B1C6\"},\"baxis\":{\"endlinecolor\":\"#A2B1C6\",\"gridcolor\":\"#506784\",\"linecolor\":\"#506784\",\"minorgridcolor\":\"#506784\",\"startlinecolor\":\"#A2B1C6\"},\"type\":\"carpet\"}],\"table\":[{\"cells\":{\"fill\":{\"color\":\"#506784\"},\"line\":{\"color\":\"rgb(17,17,17)\"}},\"header\":{\"fill\":{\"color\":\"#2a3f5f\"},\"line\":{\"color\":\"rgb(17,17,17)\"}},\"type\":\"table\"}],\"barpolar\":[{\"marker\":{\"line\":{\"color\":\"rgb(17,17,17)\",\"width\":0.5},\"pattern\":{\"fillmode\":\"overlay\",\"size\":10,\"solidity\":0.2}},\"type\":\"barpolar\"}],\"pie\":[{\"automargin\":true,\"type\":\"pie\"}]},\"layout\":{\"autotypenumbers\":\"strict\",\"colorway\":[\"#636efa\",\"#EF553B\",\"#00cc96\",\"#ab63fa\",\"#FFA15A\",\"#19d3f3\",\"#FF6692\",\"#B6E880\",\"#FF97FF\",\"#FECB52\"],\"font\":{\"color\":\"#f2f5fa\"},\"hovermode\":\"closest\",\"hoverlabel\":{\"align\":\"left\"},\"paper_bgcolor\":\"rgb(17,17,17)\",\"plot_bgcolor\":\"rgb(17,17,17)\",\"polar\":{\"bgcolor\":\"rgb(17,17,17)\",\"angularaxis\":{\"gridcolor\":\"#506784\",\"linecolor\":\"#506784\",\"ticks\":\"\"},\"radialaxis\":{\"gridcolor\":\"#506784\",\"linecolor\":\"#506784\",\"ticks\":\"\"}},\"ternary\":{\"bgcolor\":\"rgb(17,17,17)\",\"aaxis\":{\"gridcolor\":\"#506784\",\"linecolor\":\"#506784\",\"ticks\":\"\"},\"baxis\":{\"gridcolor\":\"#506784\",\"linecolor\":\"#506784\",\"ticks\":\"\"},\"caxis\":{\"gridcolor\":\"#506784\",\"linecolor\":\"#506784\",\"ticks\":\"\"}},\"coloraxis\":{\"colorbar\":{\"outlinewidth\":0,\"ticks\":\"\"}},\"colorscale\":{\"sequential\":[[0.0,\"#0d0887\"],[0.1111111111111111,\"#46039f\"],[0.2222222222222222,\"#7201a8\"],[0.3333333333333333,\"#9c179e\"],[0.4444444444444444,\"#bd3786\"],[0.5555555555555556,\"#d8576b\"],[0.6666666666666666,\"#ed7953\"],[0.7777777777777778,\"#fb9f3a\"],[0.8888888888888888,\"#fdca26\"],[1.0,\"#f0f921\"]],\"sequentialminus\":[[0.0,\"#0d0887\"],[0.1111111111111111,\"#46039f\"],[0.2222222222222222,\"#7201a8\"],[0.3333333333333333,\"#9c179e\"],[0.4444444444444444,\"#bd3786\"],[0.5555555555555556,\"#d8576b\"],[0.6666666666666666,\"#ed7953\"],[0.7777777777777778,\"#fb9f3a\"],[0.8888888888888888,\"#fdca26\"],[1.0,\"#f0f921\"]],\"diverging\":[[0,\"#8e0152\"],[0.1,\"#c51b7d\"],[0.2,\"#de77ae\"],[0.3,\"#f1b6da\"],[0.4,\"#fde0ef\"],[0.5,\"#f7f7f7\"],[0.6,\"#e6f5d0\"],[0.7,\"#b8e186\"],[0.8,\"#7fbc41\"],[0.9,\"#4d9221\"],[1,\"#276419\"]]},\"xaxis\":{\"gridcolor\":\"#283442\",\"linecolor\":\"#506784\",\"ticks\":\"\",\"title\":{\"standoff\":15},\"zerolinecolor\":\"#283442\",\"automargin\":true,\"zerolinewidth\":2},\"yaxis\":{\"gridcolor\":\"#283442\",\"linecolor\":\"#506784\",\"ticks\":\"\",\"title\":{\"standoff\":15},\"zerolinecolor\":\"#283442\",\"automargin\":true,\"zerolinewidth\":2},\"scene\":{\"xaxis\":{\"backgroundcolor\":\"rgb(17,17,17)\",\"gridcolor\":\"#506784\",\"linecolor\":\"#506784\",\"showbackground\":true,\"ticks\":\"\",\"zerolinecolor\":\"#C8D4E3\",\"gridwidth\":2},\"yaxis\":{\"backgroundcolor\":\"rgb(17,17,17)\",\"gridcolor\":\"#506784\",\"linecolor\":\"#506784\",\"showbackground\":true,\"ticks\":\"\",\"zerolinecolor\":\"#C8D4E3\",\"gridwidth\":2},\"zaxis\":{\"backgroundcolor\":\"rgb(17,17,17)\",\"gridcolor\":\"#506784\",\"linecolor\":\"#506784\",\"showbackground\":true,\"ticks\":\"\",\"zerolinecolor\":\"#C8D4E3\",\"gridwidth\":2}},\"shapedefaults\":{\"line\":{\"color\":\"#f2f5fa\"}},\"annotationdefaults\":{\"arrowcolor\":\"#f2f5fa\",\"arrowhead\":0,\"arrowwidth\":1},\"geo\":{\"bgcolor\":\"rgb(17,17,17)\",\"landcolor\":\"rgb(17,17,17)\",\"subunitcolor\":\"#506784\",\"showland\":true,\"showlakes\":true,\"lakecolor\":\"rgb(17,17,17)\"},\"title\":{\"x\":0.05},\"updatemenudefaults\":{\"bgcolor\":\"#506784\",\"borderwidth\":0},\"sliderdefaults\":{\"bgcolor\":\"#C8D4E3\",\"borderwidth\":1,\"bordercolor\":\"rgb(17,17,17)\",\"tickwidth\":0},\"mapbox\":{\"style\":\"dark\"}}},\"xaxis\":{\"anchor\":\"y\",\"domain\":[0.0,1.0],\"title\":{\"text\":\"x\"}},\"yaxis\":{\"anchor\":\"x\",\"domain\":[0.0,1.0],\"title\":{\"text\":\"y\"}},\"legend\":{\"tracegroupgap\":0},\"margin\":{\"t\":60}},                        {\"responsive\": true}                    ).then(function(){\n                            \nvar gd = document.getElementById('f1c1f392-339b-4628-a651-5d63f76fa344');\nvar x = new MutationObserver(function (mutations, observer) {{\n        var display = window.getComputedStyle(gd).display;\n        if (!display || display === 'none') {{\n            console.log([gd, 'removed!']);\n            Plotly.purge(gd);\n            observer.disconnect();\n        }}\n}});\n\n// Listen for the removal of the full notebook cells\nvar notebookContainer = gd.closest('#notebook-container');\nif (notebookContainer) {{\n    x.observe(notebookContainer, {childList: true});\n}}\n\n// Listen for the clearing of the current output cell\nvar outputEl = gd.closest('.output');\nif (outputEl) {{\n    x.observe(outputEl, {childList: true});\n}}\n\n                        })                };                });            </script>        </div>"
     },
     "metadata": {},
     "output_type": "display_data"
    },
    {
     "data": {
      "application/vnd.plotly.v1+json": {
       "data": [
        {
         "hovertemplate": "x=%{x}<br>y=%{y}<extra></extra>",
         "legendgroup": "",
         "line": {
          "color": "#636efa",
          "dash": "solid"
         },
         "marker": {
          "symbol": "circle"
         },
         "mode": "lines",
         "name": "",
         "orientation": "v",
         "showlegend": false,
         "x": [
          1489.670166015625,
          1488.5650634765625,
          1487.459716796875,
          1486.354248046875,
          1485.24853515625,
          1484.142578125,
          1483.0364990234375,
          1481.93017578125,
          1480.8236083984375,
          1479.7169189453125,
          1478.6099853515625,
          1477.5028076171875,
          1476.3955078125,
          1475.2879638671875,
          1474.1802978515625,
          1473.0723876953125,
          1471.9642333984375,
          1470.8558349609375,
          1469.747314453125,
          1468.638671875,
          1467.5296630859375,
          1466.4205322265625,
          1465.311279296875,
          1464.20166015625,
          1463.0919189453125,
          1461.9820556640625,
          1460.8719482421875,
          1459.7615966796875,
          1458.6510009765625,
          1457.540283203125,
          1456.4293212890625,
          1455.3182373046875,
          1454.2069091796875,
          1453.0953369140625,
          1451.983642578125,
          1450.8717041015625,
          1449.759521484375,
          1448.647216796875,
          1447.53466796875,
          1446.421875,
          1445.3089599609375,
          1444.19580078125,
          1443.0823974609375,
          1441.9688720703125,
          1440.8551025390625,
          1439.7410888671875,
          1438.626953125,
          1437.5125732421875,
          1436.3980712890625,
          1435.2833251953125,
          1434.1683349609375,
          1433.0531005859375,
          1431.937744140625,
          1430.8221435546875,
          1429.7064208984375,
          1428.5904541015625,
          1427.4742431640625,
          1426.35791015625,
          1425.2412109375,
          1424.12451171875,
          1423.0074462890625,
          1421.8902587890625,
          1420.7728271484375,
          1419.6552734375,
          1418.5374755859375,
          1417.41943359375,
          1416.30126953125,
          1415.182861328125,
          1414.064208984375,
          1412.9454345703125,
          1411.826416015625,
          1410.7071533203125,
          1409.587646484375,
          1408.468017578125,
          1407.3482666015625,
          1406.2281494140625,
          1405.10791015625,
          1403.9874267578125,
          1402.8668212890625,
          1401.7459716796875,
          1400.6248779296875,
          1399.503662109375,
          1398.3822021484375,
          1397.260498046875,
          1396.1385498046875,
          1395.0164794921875,
          1393.894287109375,
          1392.771728515625,
          1391.6490478515625,
          1390.526123046875,
          1389.403076171875,
          1388.2796630859375,
          1387.15625,
          1386.032470703125,
          1384.9085693359375,
          1383.784423828125,
          1382.6600341796875,
          1381.5355224609375,
          1380.4107666015625,
          1379.2857666015625,
          1378.16064453125,
          1377.0352783203125,
          1375.90966796875,
          1374.783935546875,
          1373.657958984375,
          1372.53173828125,
          1371.4053955078125,
          1370.27880859375,
          1369.1519775390625,
          1368.02490234375,
          1366.897705078125,
          1365.770263671875,
          1364.6427001953125,
          1363.5147705078125,
          1362.38671875,
          1361.258544921875,
          1360.1300048828125,
          1359.0013427734375,
          1357.87255859375,
          1356.743408203125,
          1355.6141357421875,
          1354.484619140625,
          1353.35498046875,
          1352.22509765625,
          1351.094970703125,
          1349.964599609375,
          1348.8341064453125,
          1347.703369140625,
          1346.5723876953125,
          1345.441162109375,
          1344.309814453125,
          1343.17822265625,
          1342.0465087890625,
          1340.91455078125,
          1339.7823486328125,
          1338.64990234375,
          1337.517333984375,
          1336.384521484375,
          1335.25146484375,
          1334.1181640625,
          1332.9847412109375,
          1331.85107421875,
          1330.7171630859375,
          1329.5831298828125,
          1328.4488525390625,
          1327.3143310546875,
          1326.1796875,
          1325.0447998046875,
          1323.90966796875,
          1322.7742919921875,
          1321.6387939453125,
          1320.5029296875,
          1319.3670654296875,
          1318.2308349609375,
          1317.094482421875,
          1315.9578857421875,
          1314.821044921875,
          1313.68408203125,
          1312.546875,
          1311.409423828125,
          1310.271728515625,
          1309.1339111328125,
          1307.995849609375,
          1306.8575439453125,
          1305.718994140625,
          1304.580322265625,
          1303.44140625,
          1302.3023681640625,
          1301.1629638671875,
          1300.0234375,
          1298.8836669921875,
          1297.74365234375,
          1296.603515625,
          1295.463134765625,
          1294.322509765625,
          1293.181640625,
          1292.0406494140625,
          1290.8994140625,
          1289.7579345703125,
          1288.6163330078125,
          1287.474365234375,
          1286.332275390625,
          1285.1900634765625,
          1284.0474853515625,
          1282.90478515625,
          1281.7618408203125,
          1280.61865234375,
          1279.475341796875,
          1278.3316650390625,
          1277.1878662109375,
          1276.0439453125,
          1274.899658203125,
          1273.7552490234375,
          1272.610595703125,
          1271.4656982421875,
          1270.3206787109375,
          1269.17529296875,
          1268.02978515625,
          1266.8841552734375
         ],
         "xaxis": "x",
         "y": [
          0.1923915546804777,
          0.19207609773666254,
          0.1925566921110866,
          0.19304024125990596,
          0.19266543576222436,
          0.1921715986394352,
          0.1925591184941035,
          0.19346366571843887,
          0.19287144899751374,
          0.19370073743398047,
          0.19261960848807902,
          0.19321388478777748,
          0.19381612774129858,
          0.19298639497282088,
          0.19363109011764262,
          0.19300549607322054,
          0.19444479528889205,
          0.19408548422831465,
          0.1960280638585472,
          0.19715212941298688,
          0.19817296130564419,
          0.1972282740479745,
          0.19750332955500358,
          0.19815074137808358,
          0.19992530925596905,
          0.19983749096649647,
          0.20011556395540225,
          0.20107909712270092,
          0.20276918691764387,
          0.20208340982486048,
          0.2030375722148738,
          0.20263485931284905,
          0.20272681312439172,
          0.2038801140771514,
          0.20409462764628908,
          0.20561524058241792,
          0.20577603160762364,
          0.20636107232697776,
          0.20765942263677958,
          0.2092875974259747,
          0.20830046238868868,
          0.20897301755083603,
          0.20993590846060767,
          0.2107401717849788,
          0.2133774938744174,
          0.21310536934276256,
          0.21412596722836835,
          0.21546703344471338,
          0.2168379273401129,
          0.21679943449777472,
          0.21855661121815265,
          0.21923357745083838,
          0.2197038643786943,
          0.22143717603772778,
          0.22209583887616938,
          0.22245137309823348,
          0.22436373831501077,
          0.22502162371990445,
          0.22549766132492174,
          0.22700189749851182,
          0.23133656315642853,
          0.2314118848542024,
          0.23427088469857119,
          0.2351515447527154,
          0.23825357103432465,
          0.23877369951628513,
          0.24180035238650965,
          0.2432913030613915,
          0.24927169478330735,
          0.25139039424994525,
          0.25579756199423037,
          0.25881783380196166,
          0.2638471095368972,
          0.27029609036213703,
          0.2767677103410951,
          0.2874242915126005,
          0.30006210903288744,
          0.314611062213618,
          0.3346025668906066,
          0.3607427184672683,
          0.3983133806987252,
          0.45174489243334737,
          0.5355091668195238,
          0.6694083021470938,
          0.8939747554662542,
          1.2664602850524813,
          1.8410849587694398,
          2.43768958339883,
          2.5463615277511176,
          2.070797432669867,
          1.466745664879374,
          1.0203691657047882,
          0.747322079382422,
          0.5872089271610366,
          0.4963285652807245,
          0.4387704839618395,
          0.40355133783638236,
          0.3832081617278996,
          0.37051440618356085,
          0.3593207336348142,
          0.356006544202275,
          0.3507477905710753,
          0.34876264907926496,
          0.35072701091075903,
          0.3544890796971582,
          0.35393281480147226,
          0.3600843259831296,
          0.3635328342356806,
          0.36621718987855484,
          0.3705903012777121,
          0.37632445919194696,
          0.3803072047400002,
          0.38510284141902645,
          0.386220710320066,
          0.3904226444082388,
          0.391436711937796,
          0.39770341048269464,
          0.4003025318533827,
          0.4067916125376874,
          0.4134268823759183,
          0.41932020624129596,
          0.42860977145518164,
          0.43430038882214783,
          0.4405429881687719,
          0.4477993296304922,
          0.4541092412014281,
          0.4606068873497223,
          0.46323817068414075,
          0.4679106119166607,
          0.4709683671880643,
          0.47180820214065045,
          0.46865295678740587,
          0.46607707461339515,
          0.4608671297035487,
          0.4550282565658298,
          0.4453538007663924,
          0.44148452744978145,
          0.436427263418597,
          0.42714143539639277,
          0.4223310862673653,
          0.41423683803077216,
          0.408381820669121,
          0.4006748114719644,
          0.39727686074736873,
          0.38908953170972793,
          0.38384644570521664,
          0.3794070690999361,
          0.3747691287346088,
          0.3711924529884839,
          0.36520926531026954,
          0.3609616385648863,
          0.3571052830126434,
          0.3537115287822762,
          0.34977959219004734,
          0.3473119203439223,
          0.3419457633648354,
          0.339889233796626,
          0.33499305027871795,
          0.3341531786075054,
          0.33114480974750826,
          0.32967347150425547,
          0.3288318432553247,
          0.32629012852055456,
          0.3232865827164233,
          0.3219672140907142,
          0.32053975028369225,
          0.3194823809198788,
          0.318800000920177,
          0.31812260239704265,
          0.3160260158019962,
          0.3162372865937285,
          0.3148999797012789,
          0.31769663624860184,
          0.31524403671035217,
          0.3136570575018449,
          0.3140665322150185,
          0.3133667164145264,
          0.31399136947503953,
          0.3146169154971599,
          0.3124361048962398,
          0.3118194117526861,
          0.3118774311200824,
          0.31329642401577873,
          0.31237262480155575,
          0.3117161953560816,
          0.31352392664918055,
          0.31586904941960103,
          0.3169042717448423,
          0.31806313693405397,
          0.3191252980288762,
          0.32135163118441185,
          0.32032376080264235,
          0.32128004748778094,
          0.3199992592546073,
          0.32058020644164475,
          0.32339788155852167,
          0.3227006103085382,
          0.32331300210416003,
          0.3247016318928622
         ],
         "yaxis": "y",
         "type": "scatter"
        }
       ],
       "layout": {
        "template": {
         "data": {
          "histogram2dcontour": [
           {
            "type": "histogram2dcontour",
            "colorbar": {
             "outlinewidth": 0,
             "ticks": ""
            },
            "colorscale": [
             [
              0.0,
              "#0d0887"
             ],
             [
              0.1111111111111111,
              "#46039f"
             ],
             [
              0.2222222222222222,
              "#7201a8"
             ],
             [
              0.3333333333333333,
              "#9c179e"
             ],
             [
              0.4444444444444444,
              "#bd3786"
             ],
             [
              0.5555555555555556,
              "#d8576b"
             ],
             [
              0.6666666666666666,
              "#ed7953"
             ],
             [
              0.7777777777777778,
              "#fb9f3a"
             ],
             [
              0.8888888888888888,
              "#fdca26"
             ],
             [
              1.0,
              "#f0f921"
             ]
            ]
           }
          ],
          "choropleth": [
           {
            "type": "choropleth",
            "colorbar": {
             "outlinewidth": 0,
             "ticks": ""
            }
           }
          ],
          "histogram2d": [
           {
            "type": "histogram2d",
            "colorbar": {
             "outlinewidth": 0,
             "ticks": ""
            },
            "colorscale": [
             [
              0.0,
              "#0d0887"
             ],
             [
              0.1111111111111111,
              "#46039f"
             ],
             [
              0.2222222222222222,
              "#7201a8"
             ],
             [
              0.3333333333333333,
              "#9c179e"
             ],
             [
              0.4444444444444444,
              "#bd3786"
             ],
             [
              0.5555555555555556,
              "#d8576b"
             ],
             [
              0.6666666666666666,
              "#ed7953"
             ],
             [
              0.7777777777777778,
              "#fb9f3a"
             ],
             [
              0.8888888888888888,
              "#fdca26"
             ],
             [
              1.0,
              "#f0f921"
             ]
            ]
           }
          ],
          "heatmap": [
           {
            "type": "heatmap",
            "colorbar": {
             "outlinewidth": 0,
             "ticks": ""
            },
            "colorscale": [
             [
              0.0,
              "#0d0887"
             ],
             [
              0.1111111111111111,
              "#46039f"
             ],
             [
              0.2222222222222222,
              "#7201a8"
             ],
             [
              0.3333333333333333,
              "#9c179e"
             ],
             [
              0.4444444444444444,
              "#bd3786"
             ],
             [
              0.5555555555555556,
              "#d8576b"
             ],
             [
              0.6666666666666666,
              "#ed7953"
             ],
             [
              0.7777777777777778,
              "#fb9f3a"
             ],
             [
              0.8888888888888888,
              "#fdca26"
             ],
             [
              1.0,
              "#f0f921"
             ]
            ]
           }
          ],
          "heatmapgl": [
           {
            "type": "heatmapgl",
            "colorbar": {
             "outlinewidth": 0,
             "ticks": ""
            },
            "colorscale": [
             [
              0.0,
              "#0d0887"
             ],
             [
              0.1111111111111111,
              "#46039f"
             ],
             [
              0.2222222222222222,
              "#7201a8"
             ],
             [
              0.3333333333333333,
              "#9c179e"
             ],
             [
              0.4444444444444444,
              "#bd3786"
             ],
             [
              0.5555555555555556,
              "#d8576b"
             ],
             [
              0.6666666666666666,
              "#ed7953"
             ],
             [
              0.7777777777777778,
              "#fb9f3a"
             ],
             [
              0.8888888888888888,
              "#fdca26"
             ],
             [
              1.0,
              "#f0f921"
             ]
            ]
           }
          ],
          "contourcarpet": [
           {
            "type": "contourcarpet",
            "colorbar": {
             "outlinewidth": 0,
             "ticks": ""
            }
           }
          ],
          "contour": [
           {
            "type": "contour",
            "colorbar": {
             "outlinewidth": 0,
             "ticks": ""
            },
            "colorscale": [
             [
              0.0,
              "#0d0887"
             ],
             [
              0.1111111111111111,
              "#46039f"
             ],
             [
              0.2222222222222222,
              "#7201a8"
             ],
             [
              0.3333333333333333,
              "#9c179e"
             ],
             [
              0.4444444444444444,
              "#bd3786"
             ],
             [
              0.5555555555555556,
              "#d8576b"
             ],
             [
              0.6666666666666666,
              "#ed7953"
             ],
             [
              0.7777777777777778,
              "#fb9f3a"
             ],
             [
              0.8888888888888888,
              "#fdca26"
             ],
             [
              1.0,
              "#f0f921"
             ]
            ]
           }
          ],
          "surface": [
           {
            "type": "surface",
            "colorbar": {
             "outlinewidth": 0,
             "ticks": ""
            },
            "colorscale": [
             [
              0.0,
              "#0d0887"
             ],
             [
              0.1111111111111111,
              "#46039f"
             ],
             [
              0.2222222222222222,
              "#7201a8"
             ],
             [
              0.3333333333333333,
              "#9c179e"
             ],
             [
              0.4444444444444444,
              "#bd3786"
             ],
             [
              0.5555555555555556,
              "#d8576b"
             ],
             [
              0.6666666666666666,
              "#ed7953"
             ],
             [
              0.7777777777777778,
              "#fb9f3a"
             ],
             [
              0.8888888888888888,
              "#fdca26"
             ],
             [
              1.0,
              "#f0f921"
             ]
            ]
           }
          ],
          "mesh3d": [
           {
            "type": "mesh3d",
            "colorbar": {
             "outlinewidth": 0,
             "ticks": ""
            }
           }
          ],
          "scatter": [
           {
            "marker": {
             "line": {
              "color": "#283442"
             }
            },
            "type": "scatter"
           }
          ],
          "parcoords": [
           {
            "type": "parcoords",
            "line": {
             "colorbar": {
              "outlinewidth": 0,
              "ticks": ""
             }
            }
           }
          ],
          "scatterpolargl": [
           {
            "type": "scatterpolargl",
            "marker": {
             "colorbar": {
              "outlinewidth": 0,
              "ticks": ""
             }
            }
           }
          ],
          "bar": [
           {
            "error_x": {
             "color": "#f2f5fa"
            },
            "error_y": {
             "color": "#f2f5fa"
            },
            "marker": {
             "line": {
              "color": "rgb(17,17,17)",
              "width": 0.5
             },
             "pattern": {
              "fillmode": "overlay",
              "size": 10,
              "solidity": 0.2
             }
            },
            "type": "bar"
           }
          ],
          "scattergeo": [
           {
            "type": "scattergeo",
            "marker": {
             "colorbar": {
              "outlinewidth": 0,
              "ticks": ""
             }
            }
           }
          ],
          "scatterpolar": [
           {
            "type": "scatterpolar",
            "marker": {
             "colorbar": {
              "outlinewidth": 0,
              "ticks": ""
             }
            }
           }
          ],
          "histogram": [
           {
            "marker": {
             "pattern": {
              "fillmode": "overlay",
              "size": 10,
              "solidity": 0.2
             }
            },
            "type": "histogram"
           }
          ],
          "scattergl": [
           {
            "marker": {
             "line": {
              "color": "#283442"
             }
            },
            "type": "scattergl"
           }
          ],
          "scatter3d": [
           {
            "type": "scatter3d",
            "line": {
             "colorbar": {
              "outlinewidth": 0,
              "ticks": ""
             }
            },
            "marker": {
             "colorbar": {
              "outlinewidth": 0,
              "ticks": ""
             }
            }
           }
          ],
          "scattermapbox": [
           {
            "type": "scattermapbox",
            "marker": {
             "colorbar": {
              "outlinewidth": 0,
              "ticks": ""
             }
            }
           }
          ],
          "scatterternary": [
           {
            "type": "scatterternary",
            "marker": {
             "colorbar": {
              "outlinewidth": 0,
              "ticks": ""
             }
            }
           }
          ],
          "scattercarpet": [
           {
            "type": "scattercarpet",
            "marker": {
             "colorbar": {
              "outlinewidth": 0,
              "ticks": ""
             }
            }
           }
          ],
          "carpet": [
           {
            "aaxis": {
             "endlinecolor": "#A2B1C6",
             "gridcolor": "#506784",
             "linecolor": "#506784",
             "minorgridcolor": "#506784",
             "startlinecolor": "#A2B1C6"
            },
            "baxis": {
             "endlinecolor": "#A2B1C6",
             "gridcolor": "#506784",
             "linecolor": "#506784",
             "minorgridcolor": "#506784",
             "startlinecolor": "#A2B1C6"
            },
            "type": "carpet"
           }
          ],
          "table": [
           {
            "cells": {
             "fill": {
              "color": "#506784"
             },
             "line": {
              "color": "rgb(17,17,17)"
             }
            },
            "header": {
             "fill": {
              "color": "#2a3f5f"
             },
             "line": {
              "color": "rgb(17,17,17)"
             }
            },
            "type": "table"
           }
          ],
          "barpolar": [
           {
            "marker": {
             "line": {
              "color": "rgb(17,17,17)",
              "width": 0.5
             },
             "pattern": {
              "fillmode": "overlay",
              "size": 10,
              "solidity": 0.2
             }
            },
            "type": "barpolar"
           }
          ],
          "pie": [
           {
            "automargin": true,
            "type": "pie"
           }
          ]
         },
         "layout": {
          "autotypenumbers": "strict",
          "colorway": [
           "#636efa",
           "#EF553B",
           "#00cc96",
           "#ab63fa",
           "#FFA15A",
           "#19d3f3",
           "#FF6692",
           "#B6E880",
           "#FF97FF",
           "#FECB52"
          ],
          "font": {
           "color": "#f2f5fa"
          },
          "hovermode": "closest",
          "hoverlabel": {
           "align": "left"
          },
          "paper_bgcolor": "rgb(17,17,17)",
          "plot_bgcolor": "rgb(17,17,17)",
          "polar": {
           "bgcolor": "rgb(17,17,17)",
           "angularaxis": {
            "gridcolor": "#506784",
            "linecolor": "#506784",
            "ticks": ""
           },
           "radialaxis": {
            "gridcolor": "#506784",
            "linecolor": "#506784",
            "ticks": ""
           }
          },
          "ternary": {
           "bgcolor": "rgb(17,17,17)",
           "aaxis": {
            "gridcolor": "#506784",
            "linecolor": "#506784",
            "ticks": ""
           },
           "baxis": {
            "gridcolor": "#506784",
            "linecolor": "#506784",
            "ticks": ""
           },
           "caxis": {
            "gridcolor": "#506784",
            "linecolor": "#506784",
            "ticks": ""
           }
          },
          "coloraxis": {
           "colorbar": {
            "outlinewidth": 0,
            "ticks": ""
           }
          },
          "colorscale": {
           "sequential": [
            [
             0.0,
             "#0d0887"
            ],
            [
             0.1111111111111111,
             "#46039f"
            ],
            [
             0.2222222222222222,
             "#7201a8"
            ],
            [
             0.3333333333333333,
             "#9c179e"
            ],
            [
             0.4444444444444444,
             "#bd3786"
            ],
            [
             0.5555555555555556,
             "#d8576b"
            ],
            [
             0.6666666666666666,
             "#ed7953"
            ],
            [
             0.7777777777777778,
             "#fb9f3a"
            ],
            [
             0.8888888888888888,
             "#fdca26"
            ],
            [
             1.0,
             "#f0f921"
            ]
           ],
           "sequentialminus": [
            [
             0.0,
             "#0d0887"
            ],
            [
             0.1111111111111111,
             "#46039f"
            ],
            [
             0.2222222222222222,
             "#7201a8"
            ],
            [
             0.3333333333333333,
             "#9c179e"
            ],
            [
             0.4444444444444444,
             "#bd3786"
            ],
            [
             0.5555555555555556,
             "#d8576b"
            ],
            [
             0.6666666666666666,
             "#ed7953"
            ],
            [
             0.7777777777777778,
             "#fb9f3a"
            ],
            [
             0.8888888888888888,
             "#fdca26"
            ],
            [
             1.0,
             "#f0f921"
            ]
           ],
           "diverging": [
            [
             0,
             "#8e0152"
            ],
            [
             0.1,
             "#c51b7d"
            ],
            [
             0.2,
             "#de77ae"
            ],
            [
             0.3,
             "#f1b6da"
            ],
            [
             0.4,
             "#fde0ef"
            ],
            [
             0.5,
             "#f7f7f7"
            ],
            [
             0.6,
             "#e6f5d0"
            ],
            [
             0.7,
             "#b8e186"
            ],
            [
             0.8,
             "#7fbc41"
            ],
            [
             0.9,
             "#4d9221"
            ],
            [
             1,
             "#276419"
            ]
           ]
          },
          "xaxis": {
           "gridcolor": "#283442",
           "linecolor": "#506784",
           "ticks": "",
           "title": {
            "standoff": 15
           },
           "zerolinecolor": "#283442",
           "automargin": true,
           "zerolinewidth": 2
          },
          "yaxis": {
           "gridcolor": "#283442",
           "linecolor": "#506784",
           "ticks": "",
           "title": {
            "standoff": 15
           },
           "zerolinecolor": "#283442",
           "automargin": true,
           "zerolinewidth": 2
          },
          "scene": {
           "xaxis": {
            "backgroundcolor": "rgb(17,17,17)",
            "gridcolor": "#506784",
            "linecolor": "#506784",
            "showbackground": true,
            "ticks": "",
            "zerolinecolor": "#C8D4E3",
            "gridwidth": 2
           },
           "yaxis": {
            "backgroundcolor": "rgb(17,17,17)",
            "gridcolor": "#506784",
            "linecolor": "#506784",
            "showbackground": true,
            "ticks": "",
            "zerolinecolor": "#C8D4E3",
            "gridwidth": 2
           },
           "zaxis": {
            "backgroundcolor": "rgb(17,17,17)",
            "gridcolor": "#506784",
            "linecolor": "#506784",
            "showbackground": true,
            "ticks": "",
            "zerolinecolor": "#C8D4E3",
            "gridwidth": 2
           }
          },
          "shapedefaults": {
           "line": {
            "color": "#f2f5fa"
           }
          },
          "annotationdefaults": {
           "arrowcolor": "#f2f5fa",
           "arrowhead": 0,
           "arrowwidth": 1
          },
          "geo": {
           "bgcolor": "rgb(17,17,17)",
           "landcolor": "rgb(17,17,17)",
           "subunitcolor": "#506784",
           "showland": true,
           "showlakes": true,
           "lakecolor": "rgb(17,17,17)"
          },
          "title": {
           "x": 0.05
          },
          "updatemenudefaults": {
           "bgcolor": "#506784",
           "borderwidth": 0
          },
          "sliderdefaults": {
           "bgcolor": "#C8D4E3",
           "borderwidth": 1,
           "bordercolor": "rgb(17,17,17)",
           "tickwidth": 0
          },
          "mapbox": {
           "style": "dark"
          }
         }
        },
        "xaxis": {
         "anchor": "y",
         "domain": [
          0.0,
          1.0
         ],
         "title": {
          "text": "x"
         }
        },
        "yaxis": {
         "anchor": "x",
         "domain": [
          0.0,
          1.0
         ],
         "title": {
          "text": "y"
         }
        },
        "legend": {
         "tracegroupgap": 0
        },
        "margin": {
         "t": 60
        }
       },
       "config": {
        "plotlyServerURL": "https://plot.ly"
       }
      },
      "text/html": "<div>                            <div id=\"0a1fb5ad-912d-437f-874b-7e9ef708ebe4\" class=\"plotly-graph-div\" style=\"height:525px; width:100%;\"></div>            <script type=\"text/javascript\">                require([\"plotly\"], function(Plotly) {                    window.PLOTLYENV=window.PLOTLYENV || {};                                    if (document.getElementById(\"0a1fb5ad-912d-437f-874b-7e9ef708ebe4\")) {                    Plotly.newPlot(                        \"0a1fb5ad-912d-437f-874b-7e9ef708ebe4\",                        [{\"hovertemplate\":\"x=%{x}\\u003cbr\\u003ey=%{y}\\u003cextra\\u003e\\u003c\\u002fextra\\u003e\",\"legendgroup\":\"\",\"line\":{\"color\":\"#636efa\",\"dash\":\"solid\"},\"marker\":{\"symbol\":\"circle\"},\"mode\":\"lines\",\"name\":\"\",\"orientation\":\"v\",\"showlegend\":false,\"x\":[1489.670166015625,1488.5650634765625,1487.459716796875,1486.354248046875,1485.24853515625,1484.142578125,1483.0364990234375,1481.93017578125,1480.8236083984375,1479.7169189453125,1478.6099853515625,1477.5028076171875,1476.3955078125,1475.2879638671875,1474.1802978515625,1473.0723876953125,1471.9642333984375,1470.8558349609375,1469.747314453125,1468.638671875,1467.5296630859375,1466.4205322265625,1465.311279296875,1464.20166015625,1463.0919189453125,1461.9820556640625,1460.8719482421875,1459.7615966796875,1458.6510009765625,1457.540283203125,1456.4293212890625,1455.3182373046875,1454.2069091796875,1453.0953369140625,1451.983642578125,1450.8717041015625,1449.759521484375,1448.647216796875,1447.53466796875,1446.421875,1445.3089599609375,1444.19580078125,1443.0823974609375,1441.9688720703125,1440.8551025390625,1439.7410888671875,1438.626953125,1437.5125732421875,1436.3980712890625,1435.2833251953125,1434.1683349609375,1433.0531005859375,1431.937744140625,1430.8221435546875,1429.7064208984375,1428.5904541015625,1427.4742431640625,1426.35791015625,1425.2412109375,1424.12451171875,1423.0074462890625,1421.8902587890625,1420.7728271484375,1419.6552734375,1418.5374755859375,1417.41943359375,1416.30126953125,1415.182861328125,1414.064208984375,1412.9454345703125,1411.826416015625,1410.7071533203125,1409.587646484375,1408.468017578125,1407.3482666015625,1406.2281494140625,1405.10791015625,1403.9874267578125,1402.8668212890625,1401.7459716796875,1400.6248779296875,1399.503662109375,1398.3822021484375,1397.260498046875,1396.1385498046875,1395.0164794921875,1393.894287109375,1392.771728515625,1391.6490478515625,1390.526123046875,1389.403076171875,1388.2796630859375,1387.15625,1386.032470703125,1384.9085693359375,1383.784423828125,1382.6600341796875,1381.5355224609375,1380.4107666015625,1379.2857666015625,1378.16064453125,1377.0352783203125,1375.90966796875,1374.783935546875,1373.657958984375,1372.53173828125,1371.4053955078125,1370.27880859375,1369.1519775390625,1368.02490234375,1366.897705078125,1365.770263671875,1364.6427001953125,1363.5147705078125,1362.38671875,1361.258544921875,1360.1300048828125,1359.0013427734375,1357.87255859375,1356.743408203125,1355.6141357421875,1354.484619140625,1353.35498046875,1352.22509765625,1351.094970703125,1349.964599609375,1348.8341064453125,1347.703369140625,1346.5723876953125,1345.441162109375,1344.309814453125,1343.17822265625,1342.0465087890625,1340.91455078125,1339.7823486328125,1338.64990234375,1337.517333984375,1336.384521484375,1335.25146484375,1334.1181640625,1332.9847412109375,1331.85107421875,1330.7171630859375,1329.5831298828125,1328.4488525390625,1327.3143310546875,1326.1796875,1325.0447998046875,1323.90966796875,1322.7742919921875,1321.6387939453125,1320.5029296875,1319.3670654296875,1318.2308349609375,1317.094482421875,1315.9578857421875,1314.821044921875,1313.68408203125,1312.546875,1311.409423828125,1310.271728515625,1309.1339111328125,1307.995849609375,1306.8575439453125,1305.718994140625,1304.580322265625,1303.44140625,1302.3023681640625,1301.1629638671875,1300.0234375,1298.8836669921875,1297.74365234375,1296.603515625,1295.463134765625,1294.322509765625,1293.181640625,1292.0406494140625,1290.8994140625,1289.7579345703125,1288.6163330078125,1287.474365234375,1286.332275390625,1285.1900634765625,1284.0474853515625,1282.90478515625,1281.7618408203125,1280.61865234375,1279.475341796875,1278.3316650390625,1277.1878662109375,1276.0439453125,1274.899658203125,1273.7552490234375,1272.610595703125,1271.4656982421875,1270.3206787109375,1269.17529296875,1268.02978515625,1266.8841552734375],\"xaxis\":\"x\",\"y\":[0.1923915546804777,0.19207609773666254,0.1925566921110866,0.19304024125990596,0.19266543576222436,0.1921715986394352,0.1925591184941035,0.19346366571843887,0.19287144899751374,0.19370073743398047,0.19261960848807902,0.19321388478777748,0.19381612774129858,0.19298639497282088,0.19363109011764262,0.19300549607322054,0.19444479528889205,0.19408548422831465,0.1960280638585472,0.19715212941298688,0.19817296130564419,0.1972282740479745,0.19750332955500358,0.19815074137808358,0.19992530925596905,0.19983749096649647,0.20011556395540225,0.20107909712270092,0.20276918691764387,0.20208340982486048,0.2030375722148738,0.20263485931284905,0.20272681312439172,0.2038801140771514,0.20409462764628908,0.20561524058241792,0.20577603160762364,0.20636107232697776,0.20765942263677958,0.2092875974259747,0.20830046238868868,0.20897301755083603,0.20993590846060767,0.2107401717849788,0.2133774938744174,0.21310536934276256,0.21412596722836835,0.21546703344471338,0.2168379273401129,0.21679943449777472,0.21855661121815265,0.21923357745083838,0.2197038643786943,0.22143717603772778,0.22209583887616938,0.22245137309823348,0.22436373831501077,0.22502162371990445,0.22549766132492174,0.22700189749851182,0.23133656315642853,0.2314118848542024,0.23427088469857119,0.2351515447527154,0.23825357103432465,0.23877369951628513,0.24180035238650965,0.2432913030613915,0.24927169478330735,0.25139039424994525,0.25579756199423037,0.25881783380196166,0.2638471095368972,0.27029609036213703,0.2767677103410951,0.2874242915126005,0.30006210903288744,0.314611062213618,0.3346025668906066,0.3607427184672683,0.3983133806987252,0.45174489243334737,0.5355091668195238,0.6694083021470938,0.8939747554662542,1.2664602850524813,1.8410849587694398,2.43768958339883,2.5463615277511176,2.070797432669867,1.466745664879374,1.0203691657047882,0.747322079382422,0.5872089271610366,0.4963285652807245,0.4387704839618395,0.40355133783638236,0.3832081617278996,0.37051440618356085,0.3593207336348142,0.356006544202275,0.3507477905710753,0.34876264907926496,0.35072701091075903,0.3544890796971582,0.35393281480147226,0.3600843259831296,0.3635328342356806,0.36621718987855484,0.3705903012777121,0.37632445919194696,0.3803072047400002,0.38510284141902645,0.386220710320066,0.3904226444082388,0.391436711937796,0.39770341048269464,0.4003025318533827,0.4067916125376874,0.4134268823759183,0.41932020624129596,0.42860977145518164,0.43430038882214783,0.4405429881687719,0.4477993296304922,0.4541092412014281,0.4606068873497223,0.46323817068414075,0.4679106119166607,0.4709683671880643,0.47180820214065045,0.46865295678740587,0.46607707461339515,0.4608671297035487,0.4550282565658298,0.4453538007663924,0.44148452744978145,0.436427263418597,0.42714143539639277,0.4223310862673653,0.41423683803077216,0.408381820669121,0.4006748114719644,0.39727686074736873,0.38908953170972793,0.38384644570521664,0.3794070690999361,0.3747691287346088,0.3711924529884839,0.36520926531026954,0.3609616385648863,0.3571052830126434,0.3537115287822762,0.34977959219004734,0.3473119203439223,0.3419457633648354,0.339889233796626,0.33499305027871795,0.3341531786075054,0.33114480974750826,0.32967347150425547,0.3288318432553247,0.32629012852055456,0.3232865827164233,0.3219672140907142,0.32053975028369225,0.3194823809198788,0.318800000920177,0.31812260239704265,0.3160260158019962,0.3162372865937285,0.3148999797012789,0.31769663624860184,0.31524403671035217,0.3136570575018449,0.3140665322150185,0.3133667164145264,0.31399136947503953,0.3146169154971599,0.3124361048962398,0.3118194117526861,0.3118774311200824,0.31329642401577873,0.31237262480155575,0.3117161953560816,0.31352392664918055,0.31586904941960103,0.3169042717448423,0.31806313693405397,0.3191252980288762,0.32135163118441185,0.32032376080264235,0.32128004748778094,0.3199992592546073,0.32058020644164475,0.32339788155852167,0.3227006103085382,0.32331300210416003,0.3247016318928622],\"yaxis\":\"y\",\"type\":\"scatter\"}],                        {\"template\":{\"data\":{\"histogram2dcontour\":[{\"type\":\"histogram2dcontour\",\"colorbar\":{\"outlinewidth\":0,\"ticks\":\"\"},\"colorscale\":[[0.0,\"#0d0887\"],[0.1111111111111111,\"#46039f\"],[0.2222222222222222,\"#7201a8\"],[0.3333333333333333,\"#9c179e\"],[0.4444444444444444,\"#bd3786\"],[0.5555555555555556,\"#d8576b\"],[0.6666666666666666,\"#ed7953\"],[0.7777777777777778,\"#fb9f3a\"],[0.8888888888888888,\"#fdca26\"],[1.0,\"#f0f921\"]]}],\"choropleth\":[{\"type\":\"choropleth\",\"colorbar\":{\"outlinewidth\":0,\"ticks\":\"\"}}],\"histogram2d\":[{\"type\":\"histogram2d\",\"colorbar\":{\"outlinewidth\":0,\"ticks\":\"\"},\"colorscale\":[[0.0,\"#0d0887\"],[0.1111111111111111,\"#46039f\"],[0.2222222222222222,\"#7201a8\"],[0.3333333333333333,\"#9c179e\"],[0.4444444444444444,\"#bd3786\"],[0.5555555555555556,\"#d8576b\"],[0.6666666666666666,\"#ed7953\"],[0.7777777777777778,\"#fb9f3a\"],[0.8888888888888888,\"#fdca26\"],[1.0,\"#f0f921\"]]}],\"heatmap\":[{\"type\":\"heatmap\",\"colorbar\":{\"outlinewidth\":0,\"ticks\":\"\"},\"colorscale\":[[0.0,\"#0d0887\"],[0.1111111111111111,\"#46039f\"],[0.2222222222222222,\"#7201a8\"],[0.3333333333333333,\"#9c179e\"],[0.4444444444444444,\"#bd3786\"],[0.5555555555555556,\"#d8576b\"],[0.6666666666666666,\"#ed7953\"],[0.7777777777777778,\"#fb9f3a\"],[0.8888888888888888,\"#fdca26\"],[1.0,\"#f0f921\"]]}],\"heatmapgl\":[{\"type\":\"heatmapgl\",\"colorbar\":{\"outlinewidth\":0,\"ticks\":\"\"},\"colorscale\":[[0.0,\"#0d0887\"],[0.1111111111111111,\"#46039f\"],[0.2222222222222222,\"#7201a8\"],[0.3333333333333333,\"#9c179e\"],[0.4444444444444444,\"#bd3786\"],[0.5555555555555556,\"#d8576b\"],[0.6666666666666666,\"#ed7953\"],[0.7777777777777778,\"#fb9f3a\"],[0.8888888888888888,\"#fdca26\"],[1.0,\"#f0f921\"]]}],\"contourcarpet\":[{\"type\":\"contourcarpet\",\"colorbar\":{\"outlinewidth\":0,\"ticks\":\"\"}}],\"contour\":[{\"type\":\"contour\",\"colorbar\":{\"outlinewidth\":0,\"ticks\":\"\"},\"colorscale\":[[0.0,\"#0d0887\"],[0.1111111111111111,\"#46039f\"],[0.2222222222222222,\"#7201a8\"],[0.3333333333333333,\"#9c179e\"],[0.4444444444444444,\"#bd3786\"],[0.5555555555555556,\"#d8576b\"],[0.6666666666666666,\"#ed7953\"],[0.7777777777777778,\"#fb9f3a\"],[0.8888888888888888,\"#fdca26\"],[1.0,\"#f0f921\"]]}],\"surface\":[{\"type\":\"surface\",\"colorbar\":{\"outlinewidth\":0,\"ticks\":\"\"},\"colorscale\":[[0.0,\"#0d0887\"],[0.1111111111111111,\"#46039f\"],[0.2222222222222222,\"#7201a8\"],[0.3333333333333333,\"#9c179e\"],[0.4444444444444444,\"#bd3786\"],[0.5555555555555556,\"#d8576b\"],[0.6666666666666666,\"#ed7953\"],[0.7777777777777778,\"#fb9f3a\"],[0.8888888888888888,\"#fdca26\"],[1.0,\"#f0f921\"]]}],\"mesh3d\":[{\"type\":\"mesh3d\",\"colorbar\":{\"outlinewidth\":0,\"ticks\":\"\"}}],\"scatter\":[{\"marker\":{\"line\":{\"color\":\"#283442\"}},\"type\":\"scatter\"}],\"parcoords\":[{\"type\":\"parcoords\",\"line\":{\"colorbar\":{\"outlinewidth\":0,\"ticks\":\"\"}}}],\"scatterpolargl\":[{\"type\":\"scatterpolargl\",\"marker\":{\"colorbar\":{\"outlinewidth\":0,\"ticks\":\"\"}}}],\"bar\":[{\"error_x\":{\"color\":\"#f2f5fa\"},\"error_y\":{\"color\":\"#f2f5fa\"},\"marker\":{\"line\":{\"color\":\"rgb(17,17,17)\",\"width\":0.5},\"pattern\":{\"fillmode\":\"overlay\",\"size\":10,\"solidity\":0.2}},\"type\":\"bar\"}],\"scattergeo\":[{\"type\":\"scattergeo\",\"marker\":{\"colorbar\":{\"outlinewidth\":0,\"ticks\":\"\"}}}],\"scatterpolar\":[{\"type\":\"scatterpolar\",\"marker\":{\"colorbar\":{\"outlinewidth\":0,\"ticks\":\"\"}}}],\"histogram\":[{\"marker\":{\"pattern\":{\"fillmode\":\"overlay\",\"size\":10,\"solidity\":0.2}},\"type\":\"histogram\"}],\"scattergl\":[{\"marker\":{\"line\":{\"color\":\"#283442\"}},\"type\":\"scattergl\"}],\"scatter3d\":[{\"type\":\"scatter3d\",\"line\":{\"colorbar\":{\"outlinewidth\":0,\"ticks\":\"\"}},\"marker\":{\"colorbar\":{\"outlinewidth\":0,\"ticks\":\"\"}}}],\"scattermapbox\":[{\"type\":\"scattermapbox\",\"marker\":{\"colorbar\":{\"outlinewidth\":0,\"ticks\":\"\"}}}],\"scatterternary\":[{\"type\":\"scatterternary\",\"marker\":{\"colorbar\":{\"outlinewidth\":0,\"ticks\":\"\"}}}],\"scattercarpet\":[{\"type\":\"scattercarpet\",\"marker\":{\"colorbar\":{\"outlinewidth\":0,\"ticks\":\"\"}}}],\"carpet\":[{\"aaxis\":{\"endlinecolor\":\"#A2B1C6\",\"gridcolor\":\"#506784\",\"linecolor\":\"#506784\",\"minorgridcolor\":\"#506784\",\"startlinecolor\":\"#A2B1C6\"},\"baxis\":{\"endlinecolor\":\"#A2B1C6\",\"gridcolor\":\"#506784\",\"linecolor\":\"#506784\",\"minorgridcolor\":\"#506784\",\"startlinecolor\":\"#A2B1C6\"},\"type\":\"carpet\"}],\"table\":[{\"cells\":{\"fill\":{\"color\":\"#506784\"},\"line\":{\"color\":\"rgb(17,17,17)\"}},\"header\":{\"fill\":{\"color\":\"#2a3f5f\"},\"line\":{\"color\":\"rgb(17,17,17)\"}},\"type\":\"table\"}],\"barpolar\":[{\"marker\":{\"line\":{\"color\":\"rgb(17,17,17)\",\"width\":0.5},\"pattern\":{\"fillmode\":\"overlay\",\"size\":10,\"solidity\":0.2}},\"type\":\"barpolar\"}],\"pie\":[{\"automargin\":true,\"type\":\"pie\"}]},\"layout\":{\"autotypenumbers\":\"strict\",\"colorway\":[\"#636efa\",\"#EF553B\",\"#00cc96\",\"#ab63fa\",\"#FFA15A\",\"#19d3f3\",\"#FF6692\",\"#B6E880\",\"#FF97FF\",\"#FECB52\"],\"font\":{\"color\":\"#f2f5fa\"},\"hovermode\":\"closest\",\"hoverlabel\":{\"align\":\"left\"},\"paper_bgcolor\":\"rgb(17,17,17)\",\"plot_bgcolor\":\"rgb(17,17,17)\",\"polar\":{\"bgcolor\":\"rgb(17,17,17)\",\"angularaxis\":{\"gridcolor\":\"#506784\",\"linecolor\":\"#506784\",\"ticks\":\"\"},\"radialaxis\":{\"gridcolor\":\"#506784\",\"linecolor\":\"#506784\",\"ticks\":\"\"}},\"ternary\":{\"bgcolor\":\"rgb(17,17,17)\",\"aaxis\":{\"gridcolor\":\"#506784\",\"linecolor\":\"#506784\",\"ticks\":\"\"},\"baxis\":{\"gridcolor\":\"#506784\",\"linecolor\":\"#506784\",\"ticks\":\"\"},\"caxis\":{\"gridcolor\":\"#506784\",\"linecolor\":\"#506784\",\"ticks\":\"\"}},\"coloraxis\":{\"colorbar\":{\"outlinewidth\":0,\"ticks\":\"\"}},\"colorscale\":{\"sequential\":[[0.0,\"#0d0887\"],[0.1111111111111111,\"#46039f\"],[0.2222222222222222,\"#7201a8\"],[0.3333333333333333,\"#9c179e\"],[0.4444444444444444,\"#bd3786\"],[0.5555555555555556,\"#d8576b\"],[0.6666666666666666,\"#ed7953\"],[0.7777777777777778,\"#fb9f3a\"],[0.8888888888888888,\"#fdca26\"],[1.0,\"#f0f921\"]],\"sequentialminus\":[[0.0,\"#0d0887\"],[0.1111111111111111,\"#46039f\"],[0.2222222222222222,\"#7201a8\"],[0.3333333333333333,\"#9c179e\"],[0.4444444444444444,\"#bd3786\"],[0.5555555555555556,\"#d8576b\"],[0.6666666666666666,\"#ed7953\"],[0.7777777777777778,\"#fb9f3a\"],[0.8888888888888888,\"#fdca26\"],[1.0,\"#f0f921\"]],\"diverging\":[[0,\"#8e0152\"],[0.1,\"#c51b7d\"],[0.2,\"#de77ae\"],[0.3,\"#f1b6da\"],[0.4,\"#fde0ef\"],[0.5,\"#f7f7f7\"],[0.6,\"#e6f5d0\"],[0.7,\"#b8e186\"],[0.8,\"#7fbc41\"],[0.9,\"#4d9221\"],[1,\"#276419\"]]},\"xaxis\":{\"gridcolor\":\"#283442\",\"linecolor\":\"#506784\",\"ticks\":\"\",\"title\":{\"standoff\":15},\"zerolinecolor\":\"#283442\",\"automargin\":true,\"zerolinewidth\":2},\"yaxis\":{\"gridcolor\":\"#283442\",\"linecolor\":\"#506784\",\"ticks\":\"\",\"title\":{\"standoff\":15},\"zerolinecolor\":\"#283442\",\"automargin\":true,\"zerolinewidth\":2},\"scene\":{\"xaxis\":{\"backgroundcolor\":\"rgb(17,17,17)\",\"gridcolor\":\"#506784\",\"linecolor\":\"#506784\",\"showbackground\":true,\"ticks\":\"\",\"zerolinecolor\":\"#C8D4E3\",\"gridwidth\":2},\"yaxis\":{\"backgroundcolor\":\"rgb(17,17,17)\",\"gridcolor\":\"#506784\",\"linecolor\":\"#506784\",\"showbackground\":true,\"ticks\":\"\",\"zerolinecolor\":\"#C8D4E3\",\"gridwidth\":2},\"zaxis\":{\"backgroundcolor\":\"rgb(17,17,17)\",\"gridcolor\":\"#506784\",\"linecolor\":\"#506784\",\"showbackground\":true,\"ticks\":\"\",\"zerolinecolor\":\"#C8D4E3\",\"gridwidth\":2}},\"shapedefaults\":{\"line\":{\"color\":\"#f2f5fa\"}},\"annotationdefaults\":{\"arrowcolor\":\"#f2f5fa\",\"arrowhead\":0,\"arrowwidth\":1},\"geo\":{\"bgcolor\":\"rgb(17,17,17)\",\"landcolor\":\"rgb(17,17,17)\",\"subunitcolor\":\"#506784\",\"showland\":true,\"showlakes\":true,\"lakecolor\":\"rgb(17,17,17)\"},\"title\":{\"x\":0.05},\"updatemenudefaults\":{\"bgcolor\":\"#506784\",\"borderwidth\":0},\"sliderdefaults\":{\"bgcolor\":\"#C8D4E3\",\"borderwidth\":1,\"bordercolor\":\"rgb(17,17,17)\",\"tickwidth\":0},\"mapbox\":{\"style\":\"dark\"}}},\"xaxis\":{\"anchor\":\"y\",\"domain\":[0.0,1.0],\"title\":{\"text\":\"x\"}},\"yaxis\":{\"anchor\":\"x\",\"domain\":[0.0,1.0],\"title\":{\"text\":\"y\"}},\"legend\":{\"tracegroupgap\":0},\"margin\":{\"t\":60}},                        {\"responsive\": true}                    ).then(function(){\n                            \nvar gd = document.getElementById('0a1fb5ad-912d-437f-874b-7e9ef708ebe4');\nvar x = new MutationObserver(function (mutations, observer) {{\n        var display = window.getComputedStyle(gd).display;\n        if (!display || display === 'none') {{\n            console.log([gd, 'removed!']);\n            Plotly.purge(gd);\n            observer.disconnect();\n        }}\n}});\n\n// Listen for the removal of the full notebook cells\nvar notebookContainer = gd.closest('#notebook-container');\nif (notebookContainer) {{\n    x.observe(notebookContainer, {childList: true});\n}}\n\n// Listen for the clearing of the current output cell\nvar outputEl = gd.closest('.output');\nif (outputEl) {{\n    x.observe(outputEl, {childList: true});\n}}\n\n                        })                };                });            </script>        </div>"
     },
     "metadata": {},
     "output_type": "display_data"
    }
   ],
   "source": [
    "rm1 = np.array([\n",
    "    [1, 0, 0, 0, 0, 0, 0],\n",
    "    [0, 1, 0, 0, 0, 0, 0],\n",
    "    [0, 0, 1, 0, 0, 0, 0],\n",
    "    [0, 0, 0, 1, 0, 0, 0],\n",
    "    [0, -.8, .4, 0, 1, 0, 0],\n",
    "    [0, -.2, 0, 0, 0, 1, 0],\n",
    "    [0, 0, 0, 0, 0, 0, 1],\n",
    "])\n",
    "\n",
    "rm2 = np.array([\n",
    "    [1, 0, 0, 0, 0, 0, 0],\n",
    "    [0, 1, 0, 0, 0, 0, 0],\n",
    "    [0, 0, 1, 0, 0, 0, 0],\n",
    "    [0, 0, 0, 1, 0, 0, 0],\n",
    "    [0, 0, 0, 0, 1, 0, 0],\n",
    "    [0, 0, 0, 0, 0, 1, 0],\n",
    "    [0, 2, 4, 0, -1, .1, 1],\n",
    "])\n",
    "\n",
    "rm3 = np.array([\n",
    "    [1, 0, 0, 0, 0, 0, 0],\n",
    "    [0, 1, 0, 0, 0, 0, 0],\n",
    "    [0, 0, 1, 0, 0, 0, 0],\n",
    "    [0, 0, 0, 1, 0, 0, -.1],\n",
    "    [0, 0, 0, 0, 1, 0, 0],\n",
    "    [0, 0, 0, 0, 0, 1, 0],\n",
    "    [0, 0, 0, 0, 0, 0, 1],\n",
    "])\n",
    "\n",
    "rm4 = np.array([\n",
    "    [1, 0, 0, 0, 0, 0, 0],\n",
    "    [0, 1, 0, 0, 0, 0, 0],\n",
    "    [5, 0, 1, 0, 0.2, 0, 0],\n",
    "    [0, 0, 0, 1, 0, 0, 0],\n",
    "    [0, 0, 0, 0, 1, 0, 0],\n",
    "    [0, 0, 0, 0, 0, 1, 0],\n",
    "    [0, 0, 0, 0, 0, 0, 1],\n",
    "])\n",
    "\n",
    "\n",
    "tmp = np.dot(np.linalg.inv(t_matrix), dot(rm4.T, dot(rm3.T, dot(rm2.T, rm1.T))))\n",
    "\n",
    "new_base_vectors = np.dot(map_b.base_vectors[:7].T, tmp).T\n",
    "new_vectors = np.dot(tmp, map_b.vectors[:7])\n",
    "\n",
    "px.line(x = map_b.raman_shift, y = new_base_vectors[0]).show()\n",
    "# px.imshow(np.reshape(new_vectors[0], map_a.shape)).show()\n",
    "px.line(x = map_b.raman_shift, y = new_base_vectors[1]).show()\n",
    "# px.imshow(np.reshape(new_vectors[1], map_a.shape)).show()\n",
    "px.line(x = map_b.raman_shift, y = new_base_vectors[2]).show()\n",
    "# px.imshow(np.reshape(new_vectors[2], map_a.shape)).show()\n",
    "px.line(x = map_b.raman_shift, y = new_base_vectors[3]).show()\n",
    "# px.imshow(np.reshape(new_vectors[3], map_a.shape)).show()\n",
    "px.line(x = map_b.raman_shift, y = new_base_vectors[4]).show()\n",
    "# px.imshow(np.reshape(new_vectors[4], map_a.shape)).show()\n",
    "px.line(x = map_b.raman_shift, y = new_base_vectors[5]).show()\n",
    "# px.imshow(np.reshape(new_vectors[5], map_b.shape)).show()\n",
    "px.line(x = map_b.raman_shift, y = new_base_vectors[6]).show()\n",
    "# px.imshow(np.reshape(new_vectors[6], map_b.shape)).show()\n"
   ],
   "metadata": {
    "collapsed": false,
    "ExecuteTime": {
     "end_time": "2024-04-16T07:50:45.121834Z",
     "start_time": "2024-04-16T07:50:44.684674Z"
    }
   },
   "id": "43615d5a6be9d2c9",
   "execution_count": 57
  },
  {
   "cell_type": "code",
   "outputs": [],
   "source": [
    "map_b.plotSpectrum(map_b.posToId(11, 10))"
   ],
   "metadata": {
    "collapsed": false
   },
   "id": "6ca043ac59622001",
   "execution_count": null
  }
 ],
 "metadata": {
  "kernelspec": {
   "display_name": "Python 3",
   "language": "python",
   "name": "python3"
  },
  "language_info": {
   "codemirror_mode": {
    "name": "ipython",
    "version": 2
   },
   "file_extension": ".py",
   "mimetype": "text/x-python",
   "name": "python",
   "nbconvert_exporter": "python",
   "pygments_lexer": "ipython2",
   "version": "2.7.6"
  }
 },
 "nbformat": 4,
 "nbformat_minor": 5
}
